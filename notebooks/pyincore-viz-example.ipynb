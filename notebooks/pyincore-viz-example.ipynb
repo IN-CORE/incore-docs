{
 "cells": [
  {
   "cell_type": "code",
   "execution_count": 1,
   "metadata": {},
   "outputs": [
    {
     "name": "stdout",
     "output_type": "stream",
     "text": [
      "Enter username: ywkim\n",
      "Enter password: ········\n",
      "Connection successful to IN-CORE services. pyIncore version detected: 0.8.0\n"
     ]
    }
   ],
   "source": [
    "# Connect to IN-CORE Services\n",
    "import os\n",
    "\n",
    "from pyincore import IncoreClient\n",
    "from pyincore.dataservice import DataService\n",
    "from pyincore.hazardservice import HazardService\n",
    "from pyincore import Dataset\n",
    "from pyincore import NetworkDataset\n",
    "from pyincore_viz.geoutil import GeoUtil as viz\n",
    "\n",
    "client = IncoreClient()"
   ]
  },
  {
   "cell_type": "code",
   "execution_count": null,
   "metadata": {},
   "outputs": [],
   "source": [
    "# testing datasets \n",
    "\n",
    "tornado_hazard_id = \"5d07cbeab9219c065b080930\"\n",
    "\n",
    "joplin_bldg_inv_id = \"5dbc8478b9219c06dd242c0d\"\n",
    "\n",
    "eq_hazard_id = \"5b902cb273c3371e1236b36b\"\n",
    "\n",
    "shelby_hopital_inv_id = \"5a284f0bc7d30d13bc081a28\"\n",
    "\n",
    "shelby_road_id = \"5a284f2bc7d30d13bc081eb6\"\n",
    "\n",
    "centerville_epn_network_id = \"5f454c6fef0df52132b65b0b\""
   ]
  },
  {
   "cell_type": "code",
   "execution_count": null,
   "metadata": {},
   "outputs": [],
   "source": [
    "# Creating a Dataset object with ID and Data Service\n",
    "eq_metadata  = HazardService(client).get_earthquake_hazard_metadata(eq_hazard_id)\n",
    "eq_dataset_id = eq_metadata['rasterDataset']['datasetId']\n",
    "\n",
    "eq_dataset = Dataset.from_data_service(eq_dataset_id, DataService(client))"
   ]
  },
  {
   "cell_type": "code",
   "execution_count": null,
   "metadata": {},
   "outputs": [],
   "source": [
    "viz.plot_earthquake(eq_hazard_id, client)"
   ]
  },
  {
   "cell_type": "code",
   "execution_count": null,
   "metadata": {},
   "outputs": [],
   "source": [
    "sh_bldg_inv = Dataset.from_data_service(shelby_hopital_inv_id, DataService(client))"
   ]
  },
  {
   "cell_type": "code",
   "execution_count": null,
   "metadata": {},
   "outputs": [],
   "source": [
    "sh_road = Dataset.from_data_service(shelby_road_id, DataService(client))"
   ]
  },
  {
   "cell_type": "code",
   "execution_count": null,
   "metadata": {},
   "outputs": [],
   "source": [
    "viz.plot_map(sh_bldg_inv, column=\"struct_typ\", category=False, basemap=True)"
   ]
  },
  {
   "cell_type": "code",
   "execution_count": null,
   "metadata": {},
   "outputs": [],
   "source": [
    "viz.get_wms_map([sh_bldg_inv, sh_road],zoom_level=10)"
   ]
  },
  {
   "cell_type": "code",
   "execution_count": null,
   "metadata": {},
   "outputs": [],
   "source": [
    "viz.get_gdf_map([sh_bldg_inv, sh_road],zoom_level=10)"
   ]
  },
  {
   "cell_type": "code",
   "execution_count": null,
   "metadata": {},
   "outputs": [],
   "source": [
    "viz.get_gdf_wms_map([sh_bldg_inv], [sh_road], zoom_level=10)"
   ]
  },
  {
   "cell_type": "code",
   "execution_count": null,
   "metadata": {},
   "outputs": [],
   "source": [
    "viz.plot_tornado(tornado_hazard_id, client, basemap=False)"
   ]
  },
  {
   "cell_type": "code",
   "execution_count": null,
   "metadata": {},
   "outputs": [],
   "source": [
    "tornado_dataset_id = HazardService(client).get_tornado_hazard_metadata(tornado_hazard_id)['datasetId']\n",
    "tornado_dataset = Dataset.from_data_service(tornado_dataset_id, DataService(client))"
   ]
  },
  {
   "cell_type": "code",
   "execution_count": null,
   "metadata": {},
   "outputs": [],
   "source": [
    "viz.get_gdf_map([tornado_dataset], zoom_level=11)"
   ]
  },
  {
   "cell_type": "code",
   "execution_count": null,
   "metadata": {},
   "outputs": [],
   "source": [
    "joplin_bldg_inv = Dataset.from_data_service(joplin_bldg_inv_id, DataService(client))"
   ]
  },
  {
   "cell_type": "code",
   "execution_count": null,
   "metadata": {},
   "outputs": [],
   "source": [
    "# using wms layer for joplin building inv. gdf will crash the browser\n",
    "viz.get_gdf_wms_map([tornado_dataset], [joplin_bldg_inv], zoom_level=11)"
   ]
  },
  {
   "cell_type": "code",
   "execution_count": null,
   "metadata": {},
   "outputs": [],
   "source": [
    "# visualize incore network dataset\n",
    "dataset = Dataset.from_data_service(centerville_epn_network_id, DataService(client))\n",
    "network_dataset = NetworkDataset(dataset)\n",
    "viz.plot_network_dataset(network_dataset, 12)"
   ]
  },
  {
   "cell_type": "code",
   "execution_count": 2,
   "metadata": {},
   "outputs": [
    {
     "data": {
      "application/vnd.jupyter.widget-view+json": {
       "model_id": "50013d3eaffb44179cc8f004599e9d59",
       "version_major": 2,
       "version_minor": 0
      },
      "text/plain": [
       "Map(center=[42.36805056160854, -89.91535397121983], controls=(ZoomControl(options=['position', 'zoom_in_text',…"
      ]
     },
     "metadata": {},
     "output_type": "display_data"
    }
   ],
   "source": [
    "# visualize local geo-referenced raster image\n",
    "img_path = os.path.join('examples', '2009_30m_cdls_small_wgs84.tif')\n",
    "viz.plot_raster_from_path(img_path, zoom_level=11)"
   ]
  },
  {
   "cell_type": "code",
   "execution_count": null,
   "metadata": {},
   "outputs": [],
   "source": []
  }
 ],
 "metadata": {
  "kernelspec": {
   "display_name": "Python 3",
   "language": "python",
   "name": "python3"
  },
  "language_info": {
   "codemirror_mode": {
    "name": "ipython",
    "version": 3
   },
   "file_extension": ".py",
   "mimetype": "text/x-python",
   "name": "python",
   "nbconvert_exporter": "python",
   "pygments_lexer": "ipython3",
   "version": "3.7.7"
  }
 },
 "nbformat": 4,
 "nbformat_minor": 4
}
