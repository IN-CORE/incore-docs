{
 "cells": [
  {
   "cell_type": "code",
   "execution_count": null,
   "metadata": {},
   "outputs": [],
   "source": [
    "import os\n",
    "\n",
    "from pyincore import IncoreClient, FragilityCurveSet, FragilityService\n",
    "from pyincore.dataservice import DataService\n",
    "from pyincore.hazardservice import HazardService\n",
    "from pyincore import Dataset\n",
    "from pyincore import NetworkDataset\n",
    "from pyincore_viz.geoutil import GeoUtil as viz\n",
    "from pyincore_viz.plotutil import PlotUtil as plot"
   ]
  },
  {
   "cell_type": "code",
   "execution_count": null,
   "metadata": {},
   "outputs": [],
   "source": [
    "# Connect to IN-CORE Services\n",
    "client = IncoreClient()"
   ]
  },
  {
   "cell_type": "code",
   "execution_count": null,
   "metadata": {},
   "outputs": [],
   "source": [
    "# testing datasets \n",
    "\n",
    "tornado_hazard_id = \"5d07cbeab9219c065b080930\"\n",
    "\n",
    "joplin_bldg_inv_id = \"5dbc8478b9219c06dd242c0d\"\n",
    "\n",
    "eq_hazard_id = \"5b902cb273c3371e1236b36b\"\n",
    "\n",
    "shelby_hospital_inv_id = \"5a284f0bc7d30d13bc081a28\"\n",
    "\n",
    "shelby_road_id = \"5a284f2bc7d30d13bc081eb6\"\n",
    "\n",
    "centerville_epn_network_id = \"5f454c6fef0df52132b65b0b\"\n",
    "\n",
    "galvaston_wave_height_id = '5f15cd62c98cf43417c10a3f'\n",
    "\n",
    "memphis_water_buried_pipeline = \"5a284f28c7d30d13bc081d14\"\n",
    "\n",
    "shelby_census_tract = \"5a284f4cc7d30d13bc0822d4\"\n",
    "\n",
    "galveston_deterministic_hurricane = \"5f15cd62c98cf43417c10a3f\""
   ]
  },
  {
   "cell_type": "code",
   "execution_count": null,
   "metadata": {},
   "outputs": [],
   "source": [
    "eq_metadata  = HazardService(client).get_earthquake_hazard_metadata(eq_hazard_id)\n",
    "eq_dataset_id = eq_metadata['rasterDataset']['datasetId']\n",
    "\n",
    "eq_dataset = Dataset.from_data_service(eq_dataset_id, DataService(client))"
   ]
  },
  {
   "cell_type": "code",
   "execution_count": null,
   "metadata": {},
   "outputs": [],
   "source": [
    "viz.plot_earthquake(eq_hazard_id, client)"
   ]
  },
  {
   "cell_type": "code",
   "execution_count": null,
   "metadata": {},
   "outputs": [],
   "source": [
    "viz.plot_raster_dataset(galveston_deterministic_hurricane, client)"
   ]
  },
  {
   "cell_type": "code",
   "execution_count": null,
   "metadata": {},
   "outputs": [],
   "source": [
    "sh_bldg_inv = Dataset.from_data_service(shelby_hospital_inv_id, DataService(client))"
   ]
  },
  {
   "cell_type": "code",
   "execution_count": null,
   "metadata": {},
   "outputs": [],
   "source": [
    "sh_road = Dataset.from_data_service(shelby_road_id, DataService(client))"
   ]
  },
  {
   "cell_type": "code",
   "execution_count": null,
   "metadata": {},
   "outputs": [],
   "source": [
    "viz.plot_map(sh_bldg_inv, column=\"struct_typ\", category=False, basemap=True)"
   ]
  },
  {
   "cell_type": "code",
   "execution_count": null,
   "metadata": {},
   "outputs": [],
   "source": [
    "viz.get_wms_map([sh_bldg_inv, sh_road])"
   ]
  },
  {
   "cell_type": "code",
   "execution_count": null,
   "metadata": {},
   "outputs": [],
   "source": [
    "viz.get_gdf_map([sh_bldg_inv, sh_road])"
   ]
  },
  {
   "cell_type": "code",
   "execution_count": null,
   "metadata": {},
   "outputs": [],
   "source": [
    "viz.get_gdf_wms_map([sh_bldg_inv], [sh_road])"
   ]
  },
  {
   "cell_type": "code",
   "execution_count": null,
   "metadata": {},
   "outputs": [],
   "source": [
    "viz.plot_tornado(tornado_hazard_id, client, basemap=False)"
   ]
  },
  {
   "cell_type": "code",
   "execution_count": null,
   "metadata": {},
   "outputs": [],
   "source": [
    "tornado_dataset_id = HazardService(client).get_tornado_hazard_metadata(tornado_hazard_id)['datasetId']\n",
    "tornado_dataset = Dataset.from_data_service(tornado_dataset_id, DataService(client))"
   ]
  },
  {
   "cell_type": "code",
   "execution_count": null,
   "metadata": {},
   "outputs": [],
   "source": [
    "viz.get_gdf_map([tornado_dataset])"
   ]
  },
  {
   "cell_type": "code",
   "execution_count": null,
   "metadata": {},
   "outputs": [],
   "source": [
    "joplin_bldg_inv = Dataset.from_data_service(joplin_bldg_inv_id, DataService(client))"
   ]
  },
  {
   "cell_type": "code",
   "execution_count": null,
   "metadata": {},
   "outputs": [],
   "source": [
    "# using wms layer for joplin building inv. gdf will crash the browser\n",
    "viz.get_gdf_wms_map([tornado_dataset], [joplin_bldg_inv])"
   ]
  },
  {
   "cell_type": "code",
   "execution_count": null,
   "metadata": {},
   "outputs": [],
   "source": [
    "# visualize incore network dataset\n",
    "network_dataset = NetworkDataset.from_data_service(centerville_epn_network_id, DataService(client))\n",
    "viz.plot_network_dataset(network_dataset)"
   ]
  },
  {
   "cell_type": "code",
   "execution_count": null,
   "metadata": {},
   "outputs": [],
   "source": [
    "# visualize multiple vector based dataset\n",
    "joplin_random_angle_tornado = '5d49ddc5b9219c0689f184ca'\n",
    "joplin_tornado = '5f4f0ec78e5e451825ccabbf'\n",
    "joplin_power_facility_substations = '5d92355bb9219c06ae7e386a'\n",
    "tornado1_metadata = HazardService(client).get_tornado_hazard_metadata(joplin_random_angle_tornado)\n",
    "tornado2_metadata = HazardService(client).get_tornado_hazard_metadata(joplin_tornado)\n",
    "dataset1 = Dataset.from_data_service(tornado1_metadata[\"datasetId\"], DataService(client))\n",
    "dataset2 = Dataset.from_data_service(tornado2_metadata[\"datasetId\"], DataService(client))\n",
    "dataset3 = Dataset.from_data_service(joplin_power_facility_substations, DataService(client))\n",
    "viz.plot_multiple_vector_dataset([dataset1, dataset2, dataset3])"
   ]
  },
  {
   "cell_type": "code",
   "execution_count": null,
   "metadata": {},
   "outputs": [],
   "source": [
    "# visualize geotiff\n",
    "dataset = Dataset.from_data_service(galvaston_wave_height_id, DataService(client))\n",
    "map = viz.map_raster_overlay_from_file(dataset.get_file_path('tif'))\n",
    "map"
   ]
  },
  {
   "cell_type": "code",
   "execution_count": null,
   "metadata": {},
   "outputs": [],
   "source": [
    "# add opacity control\n",
    "map.layers[1].interact(opacity=(0.0,1.0,0.01))"
   ]
  },
  {
   "cell_type": "code",
   "execution_count": null,
   "metadata": {},
   "outputs": [],
   "source": [
    "# choropleth map using multiple fields from single dataset\n",
    "social_vulnerability_census_block_group = '5a284f57c7d30d13bc08254c'\n",
    "dataset = Dataset.from_data_service(social_vulnerability_census_block_group, DataService(client))\n",
    "viz.plot_choropleth_multiple_fields_from_single_dataset(dataset, ['tot_hh', 'totpop'])"
   ]
  },
  {
   "cell_type": "code",
   "execution_count": null,
   "metadata": {},
   "outputs": [],
   "source": [
    "# choropleth map using multiple datasets\n",
    "social_vulnerability_census_block_group = '5a284f57c7d30d13bc08254c'\n",
    "dislocation_census_block_group = '5a284f58c7d30d13bc082566'\n",
    "dataset1 = Dataset.from_data_service(social_vulnerability_census_block_group, DataService(client))\n",
    "dataset2 = Dataset.from_data_service(dislocation_census_block_group, DataService(client))\n",
    "viz.plot_choropleth_multiple_dataset([dataset1, dataset2], ['tot_hh', 'p_16pyr'])"
   ]
  },
  {
   "cell_type": "code",
   "execution_count": null,
   "metadata": {
    "scrolled": true
   },
   "outputs": [],
   "source": [
    "# visualize point heatmap\n",
    "dataset = Dataset.from_data_service(shelby_hospital_inv_id, DataService(client))\n",
    "map = viz.plot_heatmap(dataset, \"str_prob\", radius=40, blur=50, max=0.1, multiplier=100)\n",
    "map"
   ]
  },
  {
   "cell_type": "code",
   "execution_count": null,
   "metadata": {
    "scrolled": true
   },
   "outputs": [],
   "source": [
    "# visualize line heatmap\n",
    "dataset = Dataset.from_data_service(memphis_water_buried_pipeline, DataService(client))\n",
    "map = viz.plot_heatmap(dataset, \"length\", radius=30, blur=50, max=0.5, multiplier=100)\n",
    "map"
   ]
  },
  {
   "cell_type": "code",
   "execution_count": null,
   "metadata": {},
   "outputs": [],
   "source": [
    "# visualize polygon heatmap\n",
    "dataset = Dataset.from_data_service(shelby_census_tract, DataService(client))\n",
    "map = viz.plot_heatmap(dataset, \"id\", radius=30, blur=50, max=0.1)\n",
    "map"
   ]
  },
  {
   "cell_type": "code",
   "execution_count": null,
   "metadata": {},
   "outputs": [],
   "source": [
    "# configure custom fragility curve parameters\n",
    "custom_fragility_curve_parameters={\"ffe_elev\": 5}\n",
    "fragility_set = FragilityCurveSet(FragilityService(client).get_dfr3_set(\"602f31f381bd2c09ad8efcb4\"))\n",
    "plt = plot.get_fragility_plot_2d(fragility_set, \n",
    "                                            title=\"2D visualization of fragility curve (first floor elevation 5m)\", \n",
    "                                            custom_curve_parameters=custom_fragility_curve_parameters)\n",
    "plt.show()"
   ]
  },
  {
   "cell_type": "code",
   "execution_count": null,
   "metadata": {},
   "outputs": [],
   "source": [
    "# visualize format 3d\n",
    "fragility_set = FragilityCurveSet(FragilityService(client).get_dfr3_set(\"5f6ccf67de7b566bb71b202d\"))\n",
    "plt = plot.get_fragility_plot_3d(fragility_set, title=\"3D visualization of fragility curve\",\n",
    "                                            limit_state=\"LS_0\")\n",
    "plt.show()"
   ]
  },
  {
   "cell_type": "code",
   "execution_count": null,
   "metadata": {},
   "outputs": [],
   "source": []
  }
 ],
 "metadata": {
  "kernelspec": {
   "display_name": "Python 3",
   "language": "python",
   "name": "python3"
  },
  "language_info": {
   "codemirror_mode": {
    "name": "ipython",
    "version": 3
   },
   "file_extension": ".py",
   "mimetype": "text/x-python",
   "name": "python",
   "nbconvert_exporter": "python",
   "pygments_lexer": "ipython3",
   "version": "3.7.7"
  }
 },
 "nbformat": 4,
 "nbformat_minor": 4
}
