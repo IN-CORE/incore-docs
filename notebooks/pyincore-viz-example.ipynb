{
 "cells": [
  {
   "cell_type": "code",
   "execution_count": null,
   "metadata": {},
   "outputs": [],
   "source": [
    "# Connect to IN-CORE Services\n",
    "from pyincore import IncoreClient\n",
    "\n",
    "client = IncoreClient()"
   ]
  },
  {
   "cell_type": "code",
   "execution_count": null,
   "metadata": {},
   "outputs": [],
   "source": [
    "# testing datasets \n",
    "\n",
    "tornado_hazard_id = \"5d07cbeab9219c065b080930\"\n",
    "\n",
    "joplin_bldg_inv_id = \"5dbc8478b9219c06dd242c0d\"\n",
    "\n",
    "eq_hazard_id = \"5b902cb273c3371e1236b36b\"\n",
    "\n",
    "shelby_hopital_inv_id = \"5a284f0bc7d30d13bc081a28\"\n",
    "\n",
    "shelby_road_id = \"5a284f2bc7d30d13bc081eb6\""
   ]
  },
  {
   "cell_type": "code",
   "execution_count": null,
   "metadata": {},
   "outputs": [],
   "source": [
    "# Creating a Dataset object with ID and Data Service\n",
    "\n",
    "from pyincore.dataservice import DataService\n",
    "from pyincore.hazardservice import HazardService\n",
    "from pyincore import Dataset\n",
    "from pyincore_viz.geoutil import GeoUtil as viz"
   ]
  },
  {
   "cell_type": "code",
   "execution_count": null,
   "metadata": {},
   "outputs": [],
   "source": [
    "eq_metadata  = HazardService(client).get_earthquake_hazard_metadata(eq_hazard_id)\n",
    "eq_dataset_id = eq_metadata['rasterDataset']['datasetId']\n",
    "\n",
    "eq_dataset = Dataset.from_data_service(eq_dataset_id, DataService(client))"
   ]
  },
  {
   "cell_type": "code",
   "execution_count": null,
   "metadata": {},
   "outputs": [],
   "source": [
    "viz.plot_earthquake(eq_hazard_id, client)"
   ]
  },
  {
   "cell_type": "code",
   "execution_count": null,
   "metadata": {},
   "outputs": [],
   "source": [
    "sh_bldg_inv = Dataset.from_data_service(shelby_hopital_inv_id, DataService(client))"
   ]
  },
  {
   "cell_type": "code",
   "execution_count": null,
   "metadata": {},
   "outputs": [],
   "source": [
    "sh_road = Dataset.from_data_service(shelby_road_id, DataService(client))"
   ]
  },
  {
   "cell_type": "code",
   "execution_count": null,
   "metadata": {},
   "outputs": [],
   "source": [
    "viz.plot_map(sh_bldg_inv, column=\"struct_typ\", category=False, basemap=True)"
   ]
  },
  {
   "cell_type": "code",
   "execution_count": null,
   "metadata": {},
   "outputs": [],
   "source": [
    "viz.get_wms_map([sh_bldg_inv, sh_road],zoom_level=10)"
   ]
  },
  {
   "cell_type": "code",
   "execution_count": null,
   "metadata": {},
   "outputs": [],
   "source": [
    "viz.get_gdf_map([sh_bldg_inv, sh_road],zoom_level=10)"
   ]
  },
  {
   "cell_type": "code",
   "execution_count": null,
   "metadata": {},
   "outputs": [],
   "source": [
    "viz.get_gdf_wms_map([sh_bldg_inv], [sh_road], zoom_level=10)"
   ]
  },
  {
   "cell_type": "code",
   "execution_count": null,
   "metadata": {},
   "outputs": [],
   "source": [
    "viz.plot_tornado(tornado_hazard_id, client, basemap=False)"
   ]
  },
  {
   "cell_type": "code",
   "execution_count": null,
   "metadata": {},
   "outputs": [],
   "source": [
    "tornado_dataset_id = HazardService(client).get_tornado_hazard_metadata(tornado_hazard_id)['datasetId']\n",
    "tornado_dataset = Dataset.from_data_service(tornado_dataset_id, DataService(client))"
   ]
  },
  {
   "cell_type": "code",
   "execution_count": null,
   "metadata": {},
   "outputs": [],
   "source": [
    "viz.get_gdf_map([tornado_dataset], zoom_level=11)"
   ]
  },
  {
   "cell_type": "code",
   "execution_count": null,
   "metadata": {},
   "outputs": [],
   "source": [
    "joplin_bldg_inv = Dataset.from_data_service(joplin_bldg_inv_id, DataService(client))"
   ]
  },
  {
   "cell_type": "code",
   "execution_count": null,
   "metadata": {},
   "outputs": [],
   "source": [
    "# using wms layer for joplin building inv. gdf will crash the browser\n",
    "viz.get_gdf_wms_map([tornado_dataset], [joplin_bldg_inv], zoom_level=11)"
   ]
  },
  {
   "cell_type": "code",
   "execution_count": null,
   "metadata": {},
   "outputs": [],
   "source": []
  }
 ],
 "metadata": {
  "kernelspec": {
   "display_name": "Python 3",
   "language": "python",
   "name": "python3"
  },
  "language_info": {
   "codemirror_mode": {
    "name": "ipython",
    "version": 3
   },
   "file_extension": ".py",
   "mimetype": "text/x-python",
   "name": "python",
   "nbconvert_exporter": "python",
   "pygments_lexer": "ipython3",
   "version": "3.7.8"
  }
 },
 "nbformat": 4,
 "nbformat_minor": 4
}
