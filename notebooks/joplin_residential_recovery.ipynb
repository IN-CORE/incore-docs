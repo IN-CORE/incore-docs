{
 "cells": [
  {
   "cell_type": "code",
   "execution_count": null,
   "metadata": {},
   "outputs": [],
   "source": [
    "from pyincore import IncoreClient, RepairService, MappingSet\n",
    "from pyincore.analyses.residentialrecovery.residentialrecovery import ResidentialRecovery"
   ]
  },
  {
   "cell_type": "code",
   "execution_count": null,
   "metadata": {
    "pycharm": {
     "name": "#%%\n"
    }
   },
   "outputs": [],
   "source": [
    "# Connect to IN-CORE service\n",
    "client = IncoreClient()"
   ]
  },
  {
   "cell_type": "markdown",
   "metadata": {},
   "source": [
    "### Joplin Residential building recovery."
   ]
  },
  {
   "cell_type": "code",
   "execution_count": null,
   "metadata": {},
   "outputs": [],
   "source": [
    "# Joplin\n",
    "buildings = \"5dbc8478b9219c06dd242c0d\"  # ergo:buildingInventoryVer6 5dbc8478b9219c06dd242c0d\n",
    "\n",
    "# Create residential recovery instance\n",
    "res_recovery = ResidentialBuildingRecovery(client)\n",
    "res_recovery.load_remote_input_dataset(\"buildings\", buildings)"
   ]
  },
  {
   "cell_type": "code",
   "execution_count": null,
   "metadata": {},
   "outputs": [],
   "source": [
    "# Recovery mapping\n",
    "mapping_id = \"60edfa3efc0f3a7af53a21b5\"\n",
    "# Create repair service\n",
    "repair_service = RepairService(client)\n",
    "mapping_set = MappingSet(repair_service.get_mapping(mapping_id))\n",
    "\n",
    "res_recovery.set_input_dataset('dfr3_mapping_set', mapping_set)"
   ]
  },
  {
   "cell_type": "code",
   "execution_count": null,
   "metadata": {},
   "outputs": [],
   "source": [
    "# input datsets ids\n",
    "sample_damage_states = \"60fb42c6ead5743e47863b01\"  # 30 samples 5k buildings - MCS output format\n",
    "socio_demographic_data = \"60fb4241544e944c3cedb507\"\n",
    "financial_resources = \"60fb411060b3f4124301f95a\"\n",
    "delay_factors = \"60fb433cd3c92a78c89d21cc\"  # DS_0, etc."
   ]
  },
  {
   "cell_type": "code",
   "execution_count": null,
   "metadata": {},
   "outputs": [],
   "source": [
    "# Load input datasets\n",
    "res_recovery.load_remote_input_dataset(\"sample_damage_states\", sample_damage_states)\n",
    "res_recovery.load_remote_input_dataset(\"socio_demographic_data\", socio_demographic_data)\n",
    "res_recovery.load_remote_input_dataset(\"financial_resources\", financial_resources)\n",
    "res_recovery.load_remote_input_dataset(\"delay_factors\", delay_factors)"
   ]
  },
  {
   "cell_type": "code",
   "execution_count": null,
   "metadata": {},
   "outputs": [],
   "source": [
    "# Input parameters\n",
    "num_samples = 10"
   ]
  },
  {
   "cell_type": "code",
   "execution_count": null,
   "metadata": {},
   "outputs": [],
   "source": [
    "# Specify the result name\n",
    "result_name = \"joplin_recovery\"\n",
    "\n",
    "# Set analysis parameters\n",
    "res_recovery.set_parameter(\"result_name\", result_name)\n",
    "res_recovery.set_parameter(\"num_samples\", num_samples)"
   ]
  },
  {
   "cell_type": "code",
   "execution_count": null,
   "metadata": {},
   "outputs": [],
   "source": [
    "# Run the analysis (NOTE: with SettingWithCopyWarning)\n",
    "res_recovery.run_analysis()"
   ]
  },
  {
   "cell_type": "code",
   "execution_count": null,
   "metadata": {
    "pycharm": {
     "name": "#%%\n"
    }
   },
   "outputs": [],
   "source": [
    "# Retrieve result dataset\n",
    "result = res_recovery.get_output_dataset(\"residential_building_recovery\")\n",
    "\n",
    "# Convert dataset to Pandas DataFrame\n",
    "df = result.get_dataframe_from_csv()\n",
    "\n",
    "# Display top 5 rows of output data\n",
    "df.head()"
   ]
  }
 ],
 "metadata": {
  "kernelspec": {
   "display_name": "Python 3 (ipykernel)",
   "language": "python",
   "name": "python3"
  },
  "language_info": {
   "codemirror_mode": {
    "name": "ipython",
    "version": 3
   },
   "file_extension": ".py",
   "mimetype": "text/x-python",
   "name": "python",
   "nbconvert_exporter": "python",
   "pygments_lexer": "ipython3",
   "version": "3.8.8"
  }
 },
 "nbformat": 4,
 "nbformat_minor": 1
}