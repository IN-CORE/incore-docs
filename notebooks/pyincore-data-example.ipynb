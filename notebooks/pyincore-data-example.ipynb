{
 "cells": [
  {
   "cell_type": "code",
   "execution_count": null,
   "metadata": {},
   "outputs": [],
   "source": [
    "from pyincore_data.censusutil import CensusUtil"
   ]
  },
  {
   "cell_type": "code",
   "execution_count": null,
   "metadata": {},
   "outputs": [],
   "source": [
    "state_counties = ['01001', '01003']\n",
    "disloc_df, bgmap, dataset = CensusUtil.get_blockgroupdata_for_dislocation(state_counties, out_csv=True, out_shapefile=True, out_html=True)"
   ]
  },
  {
   "cell_type": "code",
   "execution_count": null,
   "metadata": {},
   "outputs": [],
   "source": [
    "# display table data\n",
    "disloc_df.head()"
   ]
  },
  {
   "cell_type": "code",
   "execution_count": null,
   "metadata": {},
   "outputs": [],
   "source": [
    "# display query area map\n",
    "display(bgmap[\"map\"])"
   ]
  },
  {
   "cell_type": "code",
   "execution_count": null,
   "metadata": {},
   "outputs": [],
   "source": [
    "# get state fips\n",
    "fips = CensusUtil.get_fips_by_state(\"illinois\")"
   ]
  },
  {
   "cell_type": "code",
   "execution_count": null,
   "metadata": {},
   "outputs": [],
   "source": [
    "# get county fips\n",
    "fips = CensusUtil.get_fips_by_state_county(\"illinois\", \"champaign\")\n",
    "print(fips)"
   ]
  },
  {
   "cell_type": "code",
   "execution_count": null,
   "metadata": {},
   "outputs": [],
   "source": [
    "# get census data for acs/acs5 for tract\n",
    "acs5_year = \"2020\"\n",
    "acs5_data_source = 'acs/acs5'\n",
    "\n",
    "acs5_columns = 'GEO_ID,NAME,B25002_001E,B25002_001M,B25004_006E,B25004_006M'\n",
    "state = '42'\n",
    "county = '017,029,045,091,101'\n",
    "\n",
    "geo_type = 'tract:*'\n",
    "\n",
    "api_json, api_df, dataset = CensusUtil.get_census_data(state, county, acs5_year, acs5_data_source, acs5_columns, geo_type)"
   ]
  },
  {
   "cell_type": "code",
   "execution_count": null,
   "metadata": {},
   "outputs": [],
   "source": [
    "# get census data for dec/sf1 for block group\n",
    "sf1_year = \"2010\"\n",
    "sf1_data_source = 'dec/sf1'\n",
    "data_name = 'components'\n",
    "sf1_columns = 'GEO_ID,NAME,P005001,P005003,P005004,P005010'\n",
    "state = '42'\n",
    "county = '017,029,045,091,101'\n",
    "geo_type = 'block%20group:*'\n",
    "\n",
    "api_json, api_df, dataset = CensusUtil.get_census_data(state, county, sf1_year, sf1_data_source, sf1_columns, geo_type)\n",
    "# api_json, api_df, dataset = CensusUtil.get_census_data(state, county, acs5_year, acs5_data_source, acs5_columns, geo_type)"
   ]
  },
  {
   "cell_type": "code",
   "execution_count": null,
   "metadata": {},
   "outputs": [],
   "source": []
  }
 ],
 "metadata": {
  "kernelspec": {
   "display_name": "Python 3 (ipykernel)",
   "language": "python",
   "name": "python3"
  },
  "language_info": {
   "codemirror_mode": {
    "name": "ipython",
    "version": 3
   },
   "file_extension": ".py",
   "mimetype": "text/x-python",
   "name": "python",
   "nbconvert_exporter": "python",
   "pygments_lexer": "ipython3",
   "version": "3.7.7"
  }
 },
 "nbformat": 4,
 "nbformat_minor": 4
}
