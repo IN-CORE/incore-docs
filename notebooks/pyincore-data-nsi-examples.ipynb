{
 "cells": [
  {
   "cell_type": "code",
   "execution_count": null,
   "id": "9fc603b5-8795-450c-b482-7f1211bd2894",
   "metadata": {},
   "outputs": [],
   "source": [
    "import os\n",
    "\n",
    "from pyincore_data.nsiparser import NsiParser\n",
    "from pyincore_data.nsibuildinginventory import NsiBuildingInventory\n",
    "from pyincore_data.utils.nsiutil import NsiUtil"
   ]
  },
  {
   "cell_type": "code",
   "execution_count": null,
   "id": "29a06023-5a73-4e2f-b352-cb6c00f93ad6",
   "metadata": {},
   "outputs": [],
   "source": [
    "# Create NSI GeodataFrame by county FIPS code\n",
    "fips = '15005'\n",
    "gdf = NsiParser.create_nsi_gdf_by_county_fips(fips)\n",
    "print(gdf.head())"
   ]
  },
  {
   "cell_type": "code",
   "execution_count": null,
   "id": "31df54c1-f0e4-4e5e-8a09-7251e4ad90a1",
   "metadata": {},
   "outputs": [],
   "source": [
    "# Convert the created NSI building inventory to a shapefile file\n",
    "gdf.to_file('output.shp', driver='ESRI Shapefile')"
   ]
  },
  {
   "cell_type": "code",
   "execution_count": null,
   "id": "7493b578-b833-4579-a773-758e1709d093",
   "metadata": {},
   "outputs": [],
   "source": [
    "# Convert the created NSI building inventory to a geopackage file\n",
    "gdf.to_file('output.gpkg', driver='GPKG')"
   ]
  },
  {
   "cell_type": "code",
   "execution_count": null,
   "id": "0b50328d-ffc0-4755-9cc6-de7c016e90db",
   "metadata": {},
   "outputs": [],
   "source": [
    "# Create NSI GeodataFrame by counties' FIPS code list\n",
    "fips_list = ['15005', '29001', '01001']\n",
    "gdf = NsiParser.create_nsi_gdf_by_counties_fips_list(fips_list)\n",
    "print(gdf.head())"
   ]
  },
  {
   "cell_type": "code",
   "execution_count": null,
   "id": "41195c8a-f5b1-4e70-a618-7844dbe9184c",
   "metadata": {},
   "outputs": [],
   "source": [
    "# Get County FIPS by the state name\n",
    "state = 'illinois'\n",
    "fips_list = NsiParser.get_county_fips_by_state(state)\n",
    "print(fips_list)"
   ]
  },
  {
   "cell_type": "code",
   "execution_count": null,
   "id": "33b9b906-4910-4d0e-a995-16aec56cd44f",
   "metadata": {},
   "outputs": [],
   "source": [
    "# Get FIPS code by state name and county name\n",
    "state = 'illinois'\n",
    "county = 'champaign'\n",
    "fips = NsiParser.get_fips_by_state_and_county(state, county)\n",
    "print(fips)"
   ]
  },
  {
   "cell_type": "code",
   "execution_count": null,
   "id": "c24efa09-c017-46e4-9417-a5ac6d8d5f5b",
   "metadata": {},
   "outputs": [],
   "source": [
    "# Define the NSI building inventory conversion region by FIPS\n",
    "fips = '15005'\n",
    "region = NsiUtil.determine_region_by_fips(fips)\n",
    "print(region)"
   ]
  },
  {
   "cell_type": "code",
   "execution_count": null,
   "id": "75211a13-092e-40c9-a705-b207f8aae789",
   "metadata": {},
   "outputs": [],
   "source": [
    "# Create building inventory by county FIPS list\n",
    "fips_list = ['41007']  # seaside\n",
    "gdf = NsiBuildingInventory.convert_nsi_to_building_inventory_by_county_fips_list(fips_list)\n",
    "print(gdf.head())"
   ]
  },
  {
   "cell_type": "code",
   "execution_count": null,
   "id": "9edf20a8-8d86-487e-a1ca-e82bb0d2517c",
   "metadata": {},
   "outputs": [],
   "source": [
    "# Create building inventory by geojson\n",
    "in_json = os.path.join('nsi_test_data', 'nsi_test.json')\n",
    "gdf = NsiBuildingInventory.convert_nsi_to_building_inventory_from_geojson(in_json, \"westCoast\")\n",
    "print(gdf.head())"
   ]
  },
  {
   "cell_type": "code",
   "execution_count": null,
   "id": "7dc05ec5-043e-4fdd-80db-69324f166121",
   "metadata": {},
   "outputs": [],
   "source": [
    "# Create building inventory by GeoPackage\n",
    "in_gpkg = os.path.join('nsi_test_data', 'nsi_test.gpkg')\n",
    "gdf = NsiBuildingInventory.convert_nsi_to_building_inventory_from_gpkg(in_gpkg, \"westCoast\")\n",
    "print(gdf.head())"
   ]
  },
  {
   "cell_type": "code",
   "execution_count": null,
   "id": "1d5939f5-df3f-4ef8-89ac-65288315be14",
   "metadata": {},
   "outputs": [],
   "source": []
  }
 ],
 "metadata": {
  "kernelspec": {
   "display_name": "Python 3 (ipykernel)",
   "language": "python",
   "name": "python3"
  },
  "language_info": {
   "codemirror_mode": {
    "name": "ipython",
    "version": 3
   },
   "file_extension": ".py",
   "mimetype": "text/x-python",
   "name": "python",
   "nbconvert_exporter": "python",
   "pygments_lexer": "ipython3",
   "version": "3.9.19"
  }
 },
 "nbformat": 4,
 "nbformat_minor": 5
}
