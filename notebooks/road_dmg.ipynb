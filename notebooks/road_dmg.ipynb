{
 "cells": [
  {
   "cell_type": "code",
   "execution_count": null,
   "metadata": {},
   "outputs": [],
   "source": [
    "from pyincore import IncoreClient, FragilityService, MappingSet\n",
    "from pyincore.analyses.roaddamage import RoadDamage"
   ]
  },
  {
   "cell_type": "code",
   "execution_count": null,
   "metadata": {},
   "outputs": [],
   "source": [
    "# Connect to IN-CORE Service\n",
    "client = IncoreClient()"
   ]
  },
  {
   "cell_type": "markdown",
   "metadata": {},
   "source": [
    "### Earthquake road damage with four limit states for Seaside, OR"
   ]
  },
  {
   "cell_type": "code",
   "execution_count": null,
   "metadata": {
    "pycharm": {
     "name": "#%%\n"
    }
   },
   "outputs": [],
   "source": [
    "# Create roads damage analysis\n",
    "road_dmg = RoadDamage(client)\n",
    "\n",
    "# Load roads inventory for Seaside, OR\n",
    "road_dmg.load_remote_input_dataset(\"roads\", \"5d25118eb9219c0692cd7527\")\n",
    "\n",
    "# Set roads earthquake fragility mapping\n",
    "fragility_service = FragilityService(client)\n",
    "mapping_set = MappingSet(fragility_service.get_mapping(\"5d545b0bb9219c0689f1f3f4\"))\n",
    "road_dmg.set_input_dataset(\"dfr3_mapping_set\", mapping_set)\n",
    "\n",
    "# Set a hazard: Seaside earthquake\n",
    "road_dmg.set_parameter(\"hazard_type\", \"earthquake\")\n",
    "road_dmg.set_parameter(\"hazard_id\", \"5dfbca0cb9219c101fd8a58d\")"
   ]
  },
  {
   "cell_type": "code",
   "execution_count": null,
   "metadata": {
    "pycharm": {
     "name": "#%%\n"
    }
   },
   "outputs": [],
   "source": [
    "# Set roads fragility key\n",
    "road_dmg.set_parameter(\"fragility_key\", \"pgd\")\n",
    "\n",
    "# Set number of CPU for computation\n",
    "road_dmg.set_parameter(\"num_cpu\", 4)"
   ]
  },
  {
   "cell_type": "code",
   "execution_count": null,
   "metadata": {
    "pycharm": {
     "name": "#%%\n"
    }
   },
   "outputs": [],
   "source": [
    "liq_geology_dataset_id = None\n",
    "liquefaction = False\n",
    "uncertainty = False\n",
    "\n",
    "road_dmg.set_parameter(\"use_liquefaction\", liquefaction)\n",
    "if liquefaction and liq_geology_dataset_id is not None:\n",
    "    road_dmg.set_parameter(\"liquefaction_geology_dataset_id\", liq_geology_dataset_id)\n",
    "road_dmg.set_parameter(\"use_hazard_uncertainty\", uncertainty)"
   ]
  },
  {
   "cell_type": "code",
   "execution_count": null,
   "metadata": {
    "pycharm": {
     "name": "#%%\n"
    }
   },
   "outputs": [],
   "source": [
    "# Set result name\n",
    "road_dmg.set_parameter(\"result_name\", \"seaside_earthquake_roads_result\")"
   ]
  },
  {
   "cell_type": "code",
   "execution_count": null,
   "metadata": {
    "pycharm": {
     "name": "#%%\n"
    }
   },
   "outputs": [],
   "source": [
    "# Run roads damage analysis\n",
    "road_dmg.run_analysis()"
   ]
  },
  {
   "cell_type": "code",
   "execution_count": null,
   "metadata": {
    "pycharm": {
     "name": "#%%\n"
    }
   },
   "outputs": [],
   "source": [
    "# Retrieve result dataset\n",
    "result = road_dmg.get_output_dataset(\"result\")\n",
    "\n",
    "# Convert dataset to Pandas DataFrame\n",
    "df = result.get_dataframe_from_csv()\n",
    "\n",
    "# Display top 5 rows of output data\n",
    "df.head()"
   ]
  },
  {
   "cell_type": "markdown",
   "metadata": {},
   "source": [
    "### Tsunami road damage for Seaside, OR"
   ]
  },
  {
   "cell_type": "code",
   "execution_count": null,
   "metadata": {},
   "outputs": [],
   "source": [
    "# Set roads tsunami fragility mapping\n",
    "fragility_service = FragilityService(client)\n",
    "mapping_set = MappingSet(fragility_service.get_mapping(\"5d274fd8b9219c3c553c71ff\"))\n",
    "road_dmg.set_input_dataset(\"dfr3_mapping_set\", mapping_set)\n",
    "\n",
    "# Set a hazard: Seaside tsunami\n",
    "road_dmg.set_parameter(\"hazard_type\", \"tsunami\")\n",
    "road_dmg.set_parameter(\"hazard_id\", \"5d27b986b9219c3c55ad37d0\")"
   ]
  },
  {
   "cell_type": "code",
   "execution_count": null,
   "metadata": {
    "pycharm": {
     "name": "#%%\n"
    }
   },
   "outputs": [],
   "source": [
    "# Set roads fragility key\n",
    "fragility_key = \"Non-Retrofit inundationDepth Fragility ID Code\"\n",
    "if fragility_key is not None:\n",
    "    road_dmg.set_parameter(\"fragility_key\", fragility_key)\n",
    "# Set number of CPU for computation\n",
    "road_dmg.set_parameter(\"num_cpu\", 4)"
   ]
  },
  {
   "cell_type": "code",
   "execution_count": null,
   "metadata": {
    "pycharm": {
     "name": "#%%\n"
    }
   },
   "outputs": [],
   "source": [
    "liquefaction = False\n",
    "uncertainty = False\n",
    "\n",
    "road_dmg.set_parameter(\"use_liquefaction\", liquefaction)\n",
    "road_dmg.set_parameter(\"use_hazard_uncertainty\", uncertainty)"
   ]
  },
  {
   "cell_type": "code",
   "execution_count": null,
   "metadata": {
    "pycharm": {
     "name": "#%%\n"
    }
   },
   "outputs": [],
   "source": [
    "# Set result name\n",
    "road_dmg.set_parameter(\"result_name\", \"seaside_tsunami_roads_result\")"
   ]
  },
  {
   "cell_type": "code",
   "execution_count": null,
   "metadata": {},
   "outputs": [],
   "source": [
    "# Run roads damage analysis\n",
    "road_dmg.run_analysis()"
   ]
  },
  {
   "cell_type": "code",
   "execution_count": null,
   "metadata": {},
   "outputs": [],
   "source": [
    "# Retrieve result dataset\n",
    "result = road_dmg.get_output_dataset(\"result\")\n",
    "\n",
    "# Convert dataset to Pandas DataFrame\n",
    "df = result.get_dataframe_from_csv()\n",
    "\n",
    "# Display top 5 rows of output data\n",
    "df.head()"
   ]
  },
  {
   "cell_type": "markdown",
   "metadata": {},
   "source": [
    "### Galveston hurricane road failure"
   ]
  },
  {
   "cell_type": "code",
   "execution_count": null,
   "metadata": {},
   "outputs": [],
   "source": [
    "# road inventory for Galveston island\n",
    "road_dataset_id = \"60ba6340aed73f24c5c5eaca\"\n",
    "# road damage by hurricane inundation mapping\n",
    "mapping_id = \"60ba583b1f2b7d4a916faf03\"\n",
    "# Galveston Deterministic Hurricane - Kriging inundationDuration\n",
    "hazard_type = \"hurricane\"\n",
    "hazard_id = \"5f15cd627db08c2ccc4e3bab\""
   ]
  },
  {
   "cell_type": "code",
   "execution_count": null,
   "metadata": {},
   "outputs": [],
   "source": [
    "# Load input datasets\n",
    "road_dmg.load_remote_input_dataset(\"roads\", road_dataset_id)\n",
    "# Load fragility mapping\n",
    "fragility_service = FragilityService(client)\n",
    "mapping_set = MappingSet(fragility_service.get_mapping(mapping_id))\n",
    "road_dmg.set_input_dataset('dfr3_mapping_set', mapping_set)\n",
    "# Specify the result name\n",
    "result_name = \"galveston_hurricane_road_result\"\n",
    "# Set analysis parameters\n",
    "road_dmg.set_parameter(\"result_name\", result_name)\n",
    "road_dmg.set_parameter(\"hazard_type\", hazard_type)\n",
    "road_dmg.set_parameter(\"fragility_key\", \"Non-Retrofit inundationDepth Fragility ID Code\")\n",
    "road_dmg.set_parameter(\"hazard_id\", hazard_id)\n",
    "road_dmg.set_parameter(\"num_cpu\", 4)"
   ]
  },
  {
   "cell_type": "code",
   "execution_count": null,
   "metadata": {},
   "outputs": [],
   "source": [
    "# Run road damage by hurricane inundation analysis\n",
    "road_dmg.run_analysis()\n",
    "\n",
    "# Convert dataset to Pandas DataFrame\n",
    "df = result.get_dataframe_from_csv()\n",
    "\n",
    "# Display top 5 rows of output data\n",
    "df.head()"
   ]
  },
  {
   "cell_type": "code",
   "execution_count": null,
   "metadata": {},
   "outputs": [],
   "source": []
  }
 ],
 "metadata": {
  "kernelspec": {
   "display_name": "Python 3",
   "language": "python",
   "name": "python3"
  },
  "language_info": {
   "codemirror_mode": {
    "name": "ipython",
    "version": 3
   },
   "file_extension": ".py",
   "mimetype": "text/x-python",
   "name": "python",
   "nbconvert_exporter": "python",
   "pygments_lexer": "ipython3",
   "version": "3.7.10"
  }
 },
 "nbformat": 4,
 "nbformat_minor": 4
}
