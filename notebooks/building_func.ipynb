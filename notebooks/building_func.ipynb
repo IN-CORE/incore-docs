{
 "cells": [
  {
   "cell_type": "code",
   "execution_count": null,
   "metadata": {},
   "outputs": [],
   "source": [
    "from pyincore import IncoreClient, FragilityService, MappingSet\n",
    "from pyincore.analyses.montecarlofailureprobability import MonteCarloFailureProbability\n",
    "from pyincore.analyses.buildingfunctionality import BuildingFunctionality\n",
    "from pyincore.analyses.buildingdamage import BuildingDamage\n",
    "from pyincore.analyses.epfdamage import EpfDamage\n",
    "from pyincore import Dataset"
   ]
  },
  {
   "cell_type": "code",
   "execution_count": null,
   "metadata": {},
   "outputs": [],
   "source": [
    "# define client\n",
    "client = IncoreClient()"
   ]
  },
  {
   "cell_type": "markdown",
   "metadata": {},
   "source": [
    "## Chaining with Galveston Building Damage and EPF Pole damage"
   ]
  },
  {
   "cell_type": "markdown",
   "metadata": {},
   "source": [
    "### Building damage"
   ]
  },
  {
   "cell_type": "code",
   "execution_count": null,
   "metadata": {},
   "outputs": [],
   "source": [
    "galveston_bldg_dmg = BuildingDamage(client)\n",
    "\n",
    "fragility_service = FragilityService(client)\n",
    "mapping_set = MappingSet(fragility_service.get_mapping(\"602c381a1d85547cdc9f0675\"))\n",
    "galveston_bldg_dmg.set_input_dataset(\"dfr3_mapping_set\", mapping_set)\n",
    "\n",
    "galveston_bldg_dmg.load_remote_input_dataset(\"buildings\", \"60354b6c123b4036e6837ef7\")\n",
    "galveston_bldg_dmg.set_parameter(\"fragility_key\", \"Hurricane SurgeLevel and WaveHeight Fragility ID Code\")\n",
    "galveston_bldg_dmg.set_parameter(\"result_name\", \"Galveston_bldg_dmg_result\")\n",
    "galveston_bldg_dmg.set_parameter(\"hazard_type\", \"hurricane\")\n",
    "galveston_bldg_dmg.set_parameter(\"hazard_id\", \"5fa5a228b6429615aeea4410\")\n",
    "galveston_bldg_dmg.set_parameter(\"num_cpu\", 4)\n",
    "galveston_bldg_dmg.run_analysis()"
   ]
  },
  {
   "cell_type": "markdown",
   "metadata": {},
   "source": [
    "### Monte Carlo buildings failure probability"
   ]
  },
  {
   "cell_type": "code",
   "execution_count": null,
   "metadata": {},
   "outputs": [],
   "source": [
    "galveston_bldg_dmg_result = galveston_bldg_dmg.get_output_dataset('ds_result')\n",
    "\n",
    "mc = MonteCarloFailureProbability(client)\n",
    "mc.set_input_dataset(\"damage\", galveston_bldg_dmg_result)\n",
    "mc.set_parameter(\"num_cpu\", 4)\n",
    "mc.set_parameter(\"num_samples\", 10)\n",
    "mc.set_parameter(\"damage_interval_keys\", [\"DS_0\", \"DS_1\", \"DS_2\", \"DS_3\"])\n",
    "mc.set_parameter(\"failure_state_keys\", [\"moderate\", \"heavy\", \"complete\"])\n",
    "\n",
    "mc.set_parameter(\"result_name\", \"gal_mcs_buildings_samples\")\n",
    "mc.run_analysis()\n",
    "\n",
    "gal_bldg_damage_mcs_samples = mc.get_output_dataset('sample_failure_state')\n",
    "gal_bldg_damage_mcs_samples_df = gal_bldg_damage_mcs_samples.get_dataframe_from_csv()\n",
    "gal_bldg_damage_mcs_samples_df.head()"
   ]
  },
  {
   "cell_type": "markdown",
   "metadata": {},
   "source": [
    "### Pole Damage"
   ]
  },
  {
   "cell_type": "code",
   "execution_count": null,
   "metadata": {},
   "outputs": [],
   "source": [
    "epf_dmg_hurricane_galveston = EpfDamage(client)\n",
    "epf_dmg_hurricane_galveston.load_remote_input_dataset(\"epfs\", \"62fc000f88470b319561b58d\")\n",
    "\n",
    "# Load fragility mapping\n",
    "fragility_service = FragilityService(client)\n",
    "mapping_set = MappingSet(fragility_service.get_mapping(\"62fac92ecef2881193f22613\"))\n",
    "epf_dmg_hurricane_galveston.set_input_dataset('dfr3_mapping_set', mapping_set)\n",
    "\n",
    "epf_dmg_hurricane_galveston.set_parameter(\"result_name\", \"galveston_hurricane_epf_damage\")\n",
    "epf_dmg_hurricane_galveston.set_parameter(\"hazard_type\", \"hurricane\")\n",
    "epf_dmg_hurricane_galveston.set_parameter(\"hazard_id\", \"5fa5a228b6429615aeea4410\")\n",
    "epf_dmg_hurricane_galveston.set_parameter(\"fragility_key\", \"Non-Retrofit Fragility ID Code\")\n",
    "epf_dmg_hurricane_galveston.set_parameter(\"num_cpu\", 8)\n",
    "\n",
    "# Run Analysis\n",
    "epf_dmg_hurricane_galveston.run_analysis()"
   ]
  },
  {
   "cell_type": "markdown",
   "metadata": {},
   "source": [
    "### MC poles failure probability"
   ]
  },
  {
   "cell_type": "code",
   "execution_count": null,
   "metadata": {},
   "outputs": [],
   "source": [
    "gal_pole_dmg_result = epf_dmg_hurricane_galveston.get_output_dataset('result')\n",
    "\n",
    "mc = MonteCarloFailureProbability(client)\n",
    "mc.set_input_dataset(\"damage\", gal_pole_dmg_result)\n",
    "mc.set_parameter(\"num_cpu\", 8)\n",
    "mc.set_parameter(\"num_samples\", 10)\n",
    "mc.set_parameter(\"damage_interval_keys\", [\"DS_0\",\"DS_1\",\"DS_2\",\"DS_3\",\"DS_4\"])\n",
    "mc.set_parameter(\"failure_state_keys\", [\"DS_1\",\"DS_2\",\"DS_3\",\"DS_4\"])\n",
    "\n",
    "mc.set_parameter(\"result_name\", \"gal_mcs_poles_samples\")\n",
    "mc.run_analysis()\n",
    "\n",
    "gal_pole_damage_mcs_samples = mc.get_output_dataset('sample_failure_state')\n",
    "gal_pole_damage_mcs_samples_df = gal_pole_damage_mcs_samples.get_dataframe_from_csv()\n",
    "gal_pole_damage_mcs_samples_df.head()"
   ]
  },
  {
   "cell_type": "markdown",
   "metadata": {},
   "source": [
    "### Chaining with building functionality analysis"
   ]
  },
  {
   "cell_type": "code",
   "execution_count": null,
   "metadata": {},
   "outputs": [],
   "source": [
    "gal_bldg_func = BuildingFunctionality(client)\n",
    "    \n",
    "gal_bldg_func.set_input_dataset(\"building_damage_mcs_samples\", gal_bldg_damage_mcs_samples)\n",
    "gal_bldg_func.set_input_dataset(\"poles_damage_mcs_samples\", gal_pole_damage_mcs_samples)\n",
    "\n",
    "gal_interdependency_dictionary = Dataset.from_file(\"/Users/cwang138/Documents/INCORE-2.0/reformatted_closest_poles_and_substations_to_bldgs.json\",\n",
    "                                                   data_type=\"incore:buildingInterdependencyDict\")\n",
    "gal_bldg_func.load_remote_input_dataset(\"interdependency_dictionary\", \"5dcf4a34b9219ca5e4118312\")\n",
    "\n",
    "gal_bldg_func.set_parameter(\"result_name\", \"gal_mcs_functionality_probability\")\n",
    "gal_bldg_func.run_analysis()\n",
    "\n",
    "gal_bldg_func_samples_df = gal_bldg_func.get_output_dataset('functionality_samples').get_dataframe_from_csv()\n",
    "gal_bldg_func_samples_df.head()"
   ]
  },
  {
   "cell_type": "markdown",
   "metadata": {},
   "source": [
    "## Chaining with Joplin Building Damage"
   ]
  },
  {
   "cell_type": "markdown",
   "metadata": {},
   "source": [
    "### Tornado"
   ]
  },
  {
   "cell_type": "code",
   "execution_count": null,
   "metadata": {},
   "outputs": [],
   "source": [
    "# The simulated EF-5 tornado shows geographical locations and the range\n",
    "# of wind speed of tornado hazard in Joplin.\n",
    "hazard_type = \"tornado\"\n",
    "hazard_id = \"5d07cbeab9219c065b080930\""
   ]
  },
  {
   "cell_type": "markdown",
   "metadata": {},
   "source": [
    "### Building damage"
   ]
  },
  {
   "cell_type": "code",
   "execution_count": null,
   "metadata": {},
   "outputs": [],
   "source": [
    "bldg_dmg = BuildingDamage(client)\n",
    "\n",
    "mapping_id = \"5d8942dfb9219c068ea795ea\"  # Create a mapping to assign tornado fragilities to 19 building archetypes.\n",
    "fragility_service = FragilityService(client)        # loading fragility mapping\n",
    "mapping_set = MappingSet(fragility_service.get_mapping(mapping_id))\n",
    "bldg_dmg.set_input_dataset(\"dfr3_mapping_set\", mapping_set)\n",
    "\n",
    "bldg_dataset_id = \"5dbc8478b9219c06dd242c0d\"  # Load the Joplin building dataset, which is a package of GIS files.\n",
    "\n",
    "bldg_dmg.load_remote_input_dataset(\"buildings\", bldg_dataset_id)\n",
    "result_name = \"Joplin_bldg_dmg_result\"\n",
    "bldg_dmg.set_parameter(\"result_name\", result_name)\n",
    "bldg_dmg.set_parameter(\"hazard_type\", hazard_type)\n",
    "bldg_dmg.set_parameter(\"hazard_id\", hazard_id)\n",
    "bldg_dmg.set_parameter(\"num_cpu\", 4)  # Define the result name, etc., and choose the number of CPU locally\n",
    "                                      # to run the model parallelly."
   ]
  },
  {
   "cell_type": "code",
   "execution_count": null,
   "metadata": {},
   "outputs": [],
   "source": [
    "bldg_dmg.run_analysis()"
   ]
  },
  {
   "cell_type": "markdown",
   "metadata": {},
   "source": [
    "### Monte Carlo buildings failure probability"
   ]
  },
  {
   "cell_type": "code",
   "execution_count": null,
   "metadata": {},
   "outputs": [],
   "source": [
    "building_dmg_result = bldg_dmg.get_output_dataset('ds_result')\n",
    "\n",
    "mc = MonteCarloFailureProbability(client)\n",
    "mc.set_input_dataset(\"damage\", building_dmg_result)\n",
    "mc.set_parameter(\"num_cpu\", 4)\n",
    "mc.set_parameter(\"num_samples\", 10)\n",
    "mc.set_parameter(\"damage_interval_keys\", [\"DS_0\", \"DS_1\", \"DS_2\", \"DS_3\"])\n",
    "mc.set_parameter(\"failure_state_keys\", [\"moderate\", \"heavy\", \"complete\"])\n",
    "\n",
    "mc.set_parameter(\"result_name\", \"mcs_buildings_samples\")"
   ]
  },
  {
   "cell_type": "code",
   "execution_count": null,
   "metadata": {},
   "outputs": [],
   "source": [
    "mc.run_analysis()"
   ]
  },
  {
   "cell_type": "code",
   "execution_count": null,
   "metadata": {},
   "outputs": [],
   "source": [
    "building_damage_mcs_samples = mc.get_output_dataset('sample_failure_state')\n",
    "df_building_dmg = building_damage_mcs_samples.get_dataframe_from_csv()\n",
    "# Display top 5 rows of output data\n",
    "df_building_dmg.head()"
   ]
  },
  {
   "cell_type": "markdown",
   "metadata": {},
   "source": [
    "## Chaining with Joplin Electrical Power Facility"
   ]
  },
  {
   "cell_type": "markdown",
   "metadata": {},
   "source": [
    "### Substations Damage"
   ]
  },
  {
   "cell_type": "code",
   "execution_count": null,
   "metadata": {},
   "outputs": [],
   "source": [
    "epf_substations_dmg = EpfDamage(client)\n",
    "\n",
    "epf_sub_mapping_id = \"5d8a326fb9219c068ea798e7\" # Create a mapping to assign tornado fragilities to substations.\n",
    "fragility_service = FragilityService(client)    # loading fragility mapping\n",
    "mapping_set = MappingSet(fragility_service.get_mapping(epf_sub_mapping_id))\n",
    "epf_substations_dmg.set_input_dataset(\"dfr3_mapping_set\", mapping_set)\n",
    "\n",
    "epf_substations_id = \"5d92355bb9219c06ae7e386a\"\n",
    "\n",
    "epf_substations_dmg.load_remote_input_dataset(\"epfs\", epf_substations_id)\n",
    "result_name = \"Joplin_epf_substations_dmg_result\"\n",
    "epf_substations_dmg.set_parameter(\"result_name\", result_name)\n",
    "epf_substations_dmg.set_parameter(\"hazard_type\", hazard_type)\n",
    "epf_substations_dmg.set_parameter(\"hazard_id\", hazard_id)\n",
    "epf_substations_dmg.set_parameter(\"num_cpu\", 4)\n",
    "epf_substations_dmg.set_parameter(\"fragility_key\", \"substations\")"
   ]
  },
  {
   "cell_type": "code",
   "execution_count": null,
   "metadata": {},
   "outputs": [],
   "source": [
    "epf_substations_dmg.run_analysis()"
   ]
  },
  {
   "cell_type": "markdown",
   "metadata": {},
   "source": [
    "### MC substations failure probability"
   ]
  },
  {
   "cell_type": "code",
   "execution_count": null,
   "metadata": {},
   "outputs": [],
   "source": [
    "substation_dmg_result = epf_substations_dmg.get_output_dataset('result')\n",
    "\n",
    "mc = MonteCarloFailureProbability(client)\n",
    "mc.set_input_dataset(\"damage\", substation_dmg_result)\n",
    "mc.set_parameter(\"num_cpu\", 4)\n",
    "mc.set_parameter(\"num_samples\", 10)\n",
    "mc.set_parameter(\"damage_interval_keys\", [\"DS_0\",\"DS_1\",\"DS_2\",\"DS_3\",\"DS_4\"])\n",
    "mc.set_parameter(\"failure_state_keys\", [\"DS_1\", \"DS_2\", \"DS_3\", \"DS_4\"])\n",
    "\n",
    "mc.set_parameter(\"result_name\", \"mcs_substations_samples\")"
   ]
  },
  {
   "cell_type": "code",
   "execution_count": null,
   "metadata": {},
   "outputs": [],
   "source": [
    "mc.run_analysis()"
   ]
  },
  {
   "cell_type": "code",
   "execution_count": null,
   "metadata": {},
   "outputs": [],
   "source": [
    "substations_damage_mcs_samples = mc.get_output_dataset('sample_failure_state')\n",
    "df_sub_dmg = substations_damage_mcs_samples.get_dataframe_from_csv()\n",
    "df_sub_dmg.head()"
   ]
  },
  {
   "cell_type": "markdown",
   "metadata": {},
   "source": [
    "### Poles Damage"
   ]
  },
  {
   "cell_type": "code",
   "execution_count": null,
   "metadata": {},
   "outputs": [],
   "source": [
    "epf_poles_id = \"5d923daab9219c06ae84afb0\"  # Load the Joplin poles dataset, which is a package of GIS files.\n",
    "\n",
    "epf_poles_mapping_id = \"5d8a326fb9219c068ea798e7\"  # Create a mapping to assign tornado fragilities to poles.\n",
    "\n",
    "epf_poles_dmg = EpfDamage(client)\n",
    "\n",
    "epf_poles_dmg.load_remote_input_dataset(\"epfs\", epf_poles_id)\n",
    "\n",
    "fragility_service = FragilityService(client)        # loading fragility mapping\n",
    "mapping_set = MappingSet(fragility_service.get_mapping(epf_poles_mapping_id))\n",
    "epf_poles_dmg.set_input_dataset(\"dfr3_mapping_set\", mapping_set)\n",
    "\n",
    "result_name = \"Joplin_epf_poles_dmg_result\"\n",
    "epf_poles_dmg.set_parameter(\"result_name\", result_name)\n",
    "epf_poles_dmg.set_parameter(\"hazard_type\", hazard_type)\n",
    "epf_poles_dmg.set_parameter(\"hazard_id\", hazard_id)\n",
    "epf_poles_dmg.set_parameter(\"num_cpu\", 4)\n",
    "epf_poles_dmg.set_parameter(\"fragility_key\", \"poles\")"
   ]
  },
  {
   "cell_type": "code",
   "execution_count": null,
   "metadata": {},
   "outputs": [],
   "source": [
    "epf_poles_dmg.run_analysis()"
   ]
  },
  {
   "cell_type": "markdown",
   "metadata": {},
   "source": [
    "### MC poles failure probability"
   ]
  },
  {
   "cell_type": "code",
   "execution_count": null,
   "metadata": {},
   "outputs": [],
   "source": [
    "pole_dmg_result = epf_poles_dmg.get_output_dataset('result')\n",
    "\n",
    "mc = MonteCarloFailureProbability(client)\n",
    "mc.set_input_dataset(\"damage\", pole_dmg_result)\n",
    "mc.set_parameter(\"num_cpu\", 8)\n",
    "mc.set_parameter(\"num_samples\", 10)\n",
    "mc.set_parameter(\"damage_interval_keys\", [\"DS_0\",\"DS_1\",\"DS_2\",\"DS_3\",\"DS_4\"])\n",
    "mc.set_parameter(\"failure_state_keys\", [\"DS_1\",\"DS_2\",\"DS_3\",\"DS_4\"])\n",
    "\n",
    "mc.set_parameter(\"result_name\", \"mcs_poles_samples\")"
   ]
  },
  {
   "cell_type": "code",
   "execution_count": null,
   "metadata": {},
   "outputs": [],
   "source": [
    "mc.run_analysis()"
   ]
  },
  {
   "cell_type": "code",
   "execution_count": null,
   "metadata": {},
   "outputs": [],
   "source": [
    "poles_damage_mcs_samples = mc.get_output_dataset('sample_failure_state')\n",
    "df_poles_dmg = poles_damage_mcs_samples.get_dataframe_from_csv()\n",
    "df_poles_dmg.head()"
   ]
  },
  {
   "cell_type": "markdown",
   "metadata": {},
   "source": [
    "## Chaining with building functionality analysis"
   ]
  },
  {
   "cell_type": "code",
   "execution_count": null,
   "metadata": {},
   "outputs": [],
   "source": [
    "bldg_func = BuildingFunctionality(client)\n",
    "    \n",
    "bldg_func.set_input_dataset(\"building_damage_mcs_samples\", building_damage_mcs_samples)\n",
    "bldg_func.set_input_dataset(\"substations_damage_mcs_samples\", substations_damage_mcs_samples)\n",
    "bldg_func.set_input_dataset(\"poles_damage_mcs_samples\", poles_damage_mcs_samples)\n",
    "bldg_func.load_remote_input_dataset(\"interdependency_dictionary\", \"5dcf4a34b9219ca5e4118312\")\n",
    "\n",
    "bldg_func.set_parameter(\"result_name\", \"mcs_functionality_probability\")"
   ]
  },
  {
   "cell_type": "code",
   "execution_count": null,
   "metadata": {},
   "outputs": [],
   "source": [
    "bldg_func.run_analysis()"
   ]
  },
  {
   "cell_type": "code",
   "execution_count": null,
   "metadata": {},
   "outputs": [],
   "source": [
    "bldg_funct = bldg_func.get_output_dataset('functionality_samples')\n",
    "df_building_func = bldg_funct.get_dataframe_from_csv()\n",
    "df_building_func.head()"
   ]
  },
  {
   "cell_type": "code",
   "execution_count": null,
   "metadata": {
    "pycharm": {
     "name": "#%%\n"
    }
   },
   "outputs": [],
   "source": [
    "bldg_prob = bldg_func.get_output_dataset('functionality_probability')\n",
    "df_building_prob = bldg_prob.get_dataframe_from_csv()\n",
    "df_building_prob.head()"
   ]
  },
  {
   "cell_type": "markdown",
   "metadata": {},
   "source": [
    "## Physical Service Resilience Metrics\n",
    "\n",
    "After finding the damage level for each component (buildings, substations, and poles) based on the components' fragility curves, their intrinsic failure status is expressed as a binary format with either failed (0) or not-failed (1). Then the failure status of all the buildings is updated by considering their dependencies with the corresponding electric power facilities.\n",
    "\n",
    "Calculate and show all three infrastructure damages and resulting total building funcionality."
   ]
  },
  {
   "cell_type": "code",
   "execution_count": null,
   "metadata": {},
   "outputs": [],
   "source": [
    "import numpy as np\n",
    "import pandas as pd\n",
    "\n",
    "# buildings damage\n",
    "bdm = df_building_dmg[\"failure\"].str.split(pat=\",\")\n",
    "# strings to integers, change fail to 1\n",
    "bdm = 1 - bdm.apply(pd.to_numeric)\n",
    "# convert panda frame to numpy ndarray and do the statistics\n",
    "bdm = bdm.to_numpy()\n",
    "# convert list of np arrays into single one\n",
    "bdm = np.stack(bdm)\n",
    "# percent\n",
    "bdm_guid = 100 * bdm.mean(axis=0)\n",
    "bdm_mean = np.mean(bdm_guid)\n",
    "bdm_std = np.std(bdm_guid)\n",
    "\n",
    "# substations damage\n",
    "sdm = df_sub_dmg[\"failure\"].str.split(pat=\",\")\n",
    "sdm = 1 - sdm.apply(pd.to_numeric)\n",
    "sdm = sdm.to_numpy()\n",
    "sdm = np.stack(sdm)\n",
    "sdm_guid = 100 * sdm.mean(axis=0)\n",
    "sdm_mean = np.mean(sdm_guid)\n",
    "sdm_std = np.std(sdm_guid)\n",
    "\n",
    "# poles damage\n",
    "pdm = df_poles_dmg[\"failure\"].str.split(pat=\",\")\n",
    "pdm = 1 - pdm.apply(pd.to_numeric)\n",
    "pdm = pdm.to_numpy()\n",
    "pdm = np.stack(pdm)\n",
    "pdm_guid = 100 * pdm.mean(axis=0)\n",
    "pdm_mean = np.mean(pdm_guid)\n",
    "pdm_std = np.std(pdm_guid)\n",
    "\n",
    "# buildings combined functionality\n",
    "bfm = df_building_func[\"samples\"].str.split(pat=\",\")\n",
    "bfm = 1 - bfm.apply(pd.to_numeric)\n",
    "bfm = bfm.to_numpy()\n",
    "bfm = np.stack(bfm)\n",
    "bfm_guid = 100 * bfm.mean(axis=0)\n",
    "bfm_mean = np.mean(bfm_guid)\n",
    "bfm_std = np.std(bfm_guid)"
   ]
  },
  {
   "cell_type": "code",
   "execution_count": null,
   "metadata": {},
   "outputs": [],
   "source": [
    "# dataframe from statistical results\n",
    "res_data = {\"infrastructure\": [\"Building nonfunctional\", \"Building damage\", \"Substation damage\", \"Pole damage\"],\n",
    "            \"percentage\": [np.round(bfm_mean, 2), np.round(bdm_mean, 2), \n",
    "                           np.round(sdm_mean, 2), np.round(pdm_mean, 2)],\n",
    "            \"std\": [np.round(bfm_std, 2), np.round(bdm_std, 2), \n",
    "                    np.round(sdm_std, 2), np.round(pdm_std, 2)]}\n",
    "func_data = pd.DataFrame(res_data)"
   ]
  },
  {
   "cell_type": "code",
   "execution_count": null,
   "metadata": {},
   "outputs": [],
   "source": [
    "print(func_data)"
   ]
  },
  {
   "cell_type": "code",
   "execution_count": null,
   "metadata": {},
   "outputs": [],
   "source": [
    "## Ch"
   ]
  }
 ],
 "metadata": {
  "kernelspec": {
   "display_name": "Python 3 (ipykernel)",
   "language": "python",
   "name": "python3"
  },
  "language_info": {
   "codemirror_mode": {
    "name": "ipython",
    "version": 3
   },
   "file_extension": ".py",
   "mimetype": "text/x-python",
   "name": "python",
   "nbconvert_exporter": "python",
   "pygments_lexer": "ipython3",
   "version": "3.9.13"
  }
 },
 "nbformat": 4,
 "nbformat_minor": 4
}
