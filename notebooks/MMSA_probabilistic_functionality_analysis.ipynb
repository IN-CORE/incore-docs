{
 "cells": [
  {
   "cell_type": "markdown",
   "id": "f342b25e",
   "metadata": {},
   "source": [
    "# MMSA Probabilistic Functionality Analysis\n",
    "\n",
    "This notebook uses pyIncore to compute seismic damages to buildings, potable water infrastructure, and electric power infrastructure serving Shelby County, TN. We also conduct probabilistic functionality analysis for power and water infrastructure based on network connectivity.\n",
    "\n",
    "Notebook originally created by:\n",
    "- Neetesh Sharma (UIUC - nsharm11@illinois.edu)\n",
    "- Armin Tabandeh (UIUC - tabande2@illinois.edu)\n",
    "- Paolo Gardoni (UIUC - gardoni@illinois.edu)\n",
    "\n",
    "More information about the testbed and the field study can be found in these publications:\n",
    "- Sharma, N., & Gardoni, P. (2019). Modeling the time-varying performance of electrical infrastructure during post       disaster recovery using tensors. In P. Gardoni (Ed.), *Handbook of sustainable and resilient infrastructure* **(pp.   259–276)**. New York, NY: Routledge.\n",
    "- Sharma, N., Tabandeh, A., & Gardoni, P. (2019). Regional resilience analysis: A multi-scale approach to model the \n",
    "  recovery of interdependent infrastructure. In P. Gardoni (Ed.), *Handbook of sustainable and resilient \n",
    "  infrastructure* (pp. 521–544). New York, NY: Routledge.\n",
    "- Sharma, N., Tabandeh, A., & Gardoni, P. (2020). Regional resilience analysis: A multi-scale approach to optimize \n",
    "  the resilience of interdependent infrastructure. *Computer‐Aided Civil and Infrastructure Engineering*, **35(12)**, \n",
    "  1315-1330.\n",
    "- Sharma, N., & Gardoni, P. (2022). Mathematical modeling of interdependent infrastructure: An object-oriented \n",
    "  approach for generalized network-system analysis. *Reliability Engineering & System Safety*, **217**, 108042."
   ]
  },
  {
   "cell_type": "markdown",
   "id": "0fe86269",
   "metadata": {},
   "source": [
    "***\n",
    "### 1. Background\n",
    "Shelby County has a population of approximately 1,000,000 people, and the region is subject to seismic hazards originating from the New Madrid Seismic Zone. As a disrupting event, we model a 7.9 magnitude earthquake with epicenter at 35.927N and 89.919W (i.e., North-West of ShelbyCounty)."
   ]
  },
  {
   "cell_type": "markdown",
   "id": "6568fc5d",
   "metadata": {},
   "source": [
    "### 2. Description of buidings and infrastructure\n",
    "Buildings, potable water infrastructure, and electric power infrastructure are the physical systems considered in this example. We have the required physical and demographic data for every building in Shelby County. The existing fragility functions of buildings require information about the structure type, occupancy type, and the number of stories. The details of the datasets and fragility functions are in the documentation of the risk assessment software MAEViz, developed by the Mid-America Earthquake (MAE) Center (http://mae.cee.illinois.edu/). The majority of the buildings in Shelby County are residential; however, the commercial and industrial buildings are critical to business operations and economic vitality of the county and place comparable demands on the infrastructure to those of the entire residential buildings.\n",
    "\n",
    "Memphis Light, Gas and Water (MLGW) division serves Shelby County with potable water and electric power. The potable water infrastructure is confined to Shelby County since water is locally drawn from the Memphis Aquifer in Shelby County. The power supplier to MLGW is the Tennessee Valley Authority (TVA) that constitutes balancing authority in the state of Tennessee. In this notebook, the infrastructure data are from MAEViz , which include the locations of potable water and electric power facilities and potable water pipelines within Shelby County."
   ]
  },
  {
   "cell_type": "markdown",
   "id": "7383794d",
   "metadata": {},
   "source": [
    "***\n",
    "### 3. pyIncore\n",
    "The remainder of this notebook uses pyIncore to compute damages to buildings and infrastructure in Shelby County, TN."
   ]
  },
  {
   "cell_type": "markdown",
   "id": "6179f7ed",
   "metadata": {},
   "source": [
    "#### 3.1 Prerequisites\n",
    "\n",
    "The following modules are necessary to run this notebook. To ensure dependencies are correct, install all modules through **conda**.\n",
    "\n",
    "| Module | Version | Notes |\n",
    "| --- | --- | --- |\n",
    "| pyIncore | =>1.6.0 | see: https://incore.ncsa.illinois.edu/doc/incore/install_pyincore.html |\n",
    "| pyIncore_viz | =>1.7.0 | see: https://incore.ncsa.illinois.edu/doc/pyincore_viz/index.html |"
   ]
  },
  {
   "cell_type": "markdown",
   "id": "5266f64d",
   "metadata": {},
   "source": [
    "#### 3.2 Importing Python Modules\n",
    "In this analysis, we use the following models from pyIncore:\n",
    "+ **BuildingDamage**: Computes the probability of each building being in a damage state given the seismic hazard model defined in incore.\n",
    "+ **PipelineDamageRepairRate**: Computes the number of leaks and breaks per unit length of water pipelines given the seismic hazard model.\n",
    "+ **WaterFacilityDamage**: Computes the probability of each water facility being in a damage state given the seismic hazard model.\n",
    "+ **EpfDamage**: Computes the probability of each power substation being in a damage state given the seismic hazard model.\n",
    "+ **MonteCarloFailureProbability**: Samples from damage state probability mass functions\n",
    "+ **PipelineFunctionality**: Computes average pipeline functionality\n",
    "+ **EpnFunctionality**: Computes functionality probability and failure states for a corresponding electric power network\n",
    "+ **WfnFunctionality**: Computes functionality probability and failure states for a corresponding water network\n",
    "\n",
    "We also use other Python libraries and functions that are required for network connectivity analysis\n",
    "+ **networkx**: Enables creating network datasets and running shortest path analyses.\n",
    "+ **copy**: Enables creating copies of mutable objects such as dataframes and network objects.\n",
    "+ **scipy.stats**: Provides probability distributions for random variables.\n",
    "+ **pandas**: Provides functions for manipulating dataframe objects.\n",
    "+ **numpy**: Provides functions for manipulating array objects.\n",
    "+ **matplotlib**: Provides functions for plotting."
   ]
  },
  {
   "cell_type": "code",
   "execution_count": null,
   "id": "0fb0214b",
   "metadata": {},
   "outputs": [],
   "source": [
    "from pyincore import HazardService, IncoreClient, Dataset, FragilityService, MappingSet, DataService, SpaceService, \\\n",
    "NetworkDataset, NetworkUtil\n",
    "from pyincore.analyses.buildingdamage import BuildingDamage\n",
    "from pyincore.analyses.pipelinedamagerepairrate import PipelineDamageRepairRate\n",
    "from pyincore.analyses.waterfacilitydamage import WaterFacilityDamage\n",
    "from pyincore.analyses.epfdamage import EpfDamage\n",
    "from pyincore_viz.geoutil import GeoUtil as viz\n",
    "from pyincore.analyses.montecarlofailureprobability import MonteCarloFailureProbability\n",
    "from pyincore.analyses.pipelinefunctionality import PipelineFunctionality\n",
    "from pyincore.analyses.epnfunctionality import EpnFunctionality\n",
    "from pyincore.analyses.wfnfunctionality import WfnFunctionality\n",
    "\n",
    "import networkx as nx\n",
    "import pandas as pd\n",
    "import numpy as np\n",
    "import matplotlib.pyplot as plt\n",
    "from shapely.geometry import shape\n",
    "import contextily as ctx"
   ]
  },
  {
   "cell_type": "code",
   "execution_count": null,
   "id": "795b65e5",
   "metadata": {},
   "outputs": [],
   "source": [
    "client = IncoreClient()"
   ]
  },
  {
   "cell_type": "markdown",
   "id": "3050ab03",
   "metadata": {},
   "source": [
    "### 4. Defining the seismic characteristics of the scenario earthquake\n",
    "\n",
    "We use a predefined seismic event from the pyIncore repository, which corresponds to the characteristics of a historical event in the region. To model the spatial variation of the earthquake intensity measures, we use the ground motion prediction equation by Atkinson and Boore (1995). One can consult the Incore documentation to define other earthquake scenarios or use other ground motion prediction equations."
   ]
  },
  {
   "cell_type": "code",
   "execution_count": null,
   "id": "1160c2cc",
   "metadata": {},
   "outputs": [],
   "source": [
    "hazardsvc = HazardService(client)\n",
    "# New Madrid earthquake using Atkinson Boore 1995\n",
    "hazard_type = \"earthquake\"\n",
    "hazard_id = \"5b902cb273c3371e1236b36b\" #Predefined id\n",
    "\n",
    "# Look at the eathquake scenario characteristics used in this example\n",
    "earthquake_model_metadata = hazardsvc.get_earthquake_hazard_metadata(hazard_id)\n",
    "earthquake_model_metadata"
   ]
  },
  {
   "cell_type": "markdown",
   "id": "941a116a",
   "metadata": {},
   "source": [
    "### 5. Building damage analysis\n",
    "\n",
    "We use the building inventory available in the pyIncore. In case a new dataset needs to be defined, one can use the formatting of this dataset and create their own and ingest into Incore. The default fragilities in pyIncore are inhereted from MAEViz. For more information refer to MAE center reports at http://mae.cee.illinois.edu/publications/publications_reports.html "
   ]
  },
  {
   "cell_type": "raw",
   "id": "7d73d6fa",
   "metadata": {},
   "source": [
    "# Building inventory in Shelby county, TN\n",
    "bldg_dataset_id = \"5a284f0bc7d30d13bc081a46\"\n",
    "#bldg_dataset_id = \"5a284f0bc7d30d13bc081a28\"\n",
    "# Default Building Fragility mapping\n",
    "bldg_mapping_id = \"5b47b350337d4a3629076f2c\""
   ]
  },
  {
   "cell_type": "raw",
   "id": "88238206",
   "metadata": {},
   "source": [
    "#Looking at the attribute table for the inventory\n",
    "bldg_dataset = Dataset.from_data_service(bldg_dataset_id, DataService(client))\n",
    "bldg_dataset.get_dataframe_from_shapefile().head()"
   ]
  },
  {
   "cell_type": "markdown",
   "id": "89689cec",
   "metadata": {},
   "source": [
    "#### 5.1 Buidling damage"
   ]
  },
  {
   "cell_type": "raw",
   "id": "87693b14",
   "metadata": {},
   "source": [
    "# Create building damage\n",
    "bldg_dmg = BuildingDamage(client)\n",
    "\n",
    "# Load input dataset\n",
    "bldg_dmg.set_input_dataset(\"buildings\", bldg_dataset)\n",
    "\n",
    "# Load fragility mapping\n",
    "fragility_service = FragilityService(client)\n",
    "mapping_set = MappingSet(fragility_service.get_mapping(bldg_mapping_id))\n",
    "bldg_dmg.set_input_dataset(\"dfr3_mapping_set\", mapping_set)"
   ]
  },
  {
   "cell_type": "raw",
   "id": "ef8ffc13",
   "metadata": {},
   "source": [
    "# Set analysis parameters\n",
    "bldg_dmg.set_parameter(\"result_name\", \"memphis_bldg_dmg_result\")\n",
    "bldg_dmg.set_parameter(\"hazard_type\", hazard_type)\n",
    "bldg_dmg.set_parameter(\"hazard_id\", hazard_id)\n",
    "bldg_dmg.set_parameter(\"num_cpu\", 8)"
   ]
  },
  {
   "cell_type": "raw",
   "id": "81788883",
   "metadata": {},
   "source": [
    "# Run building damage analysis\n",
    "bldg_dmg.run_analysis()"
   ]
  },
  {
   "cell_type": "raw",
   "id": "a46146bc",
   "metadata": {},
   "source": [
    "# Retrieve result dataset\n",
    "bldg_dmg_result = bldg_dmg.get_output_dataset(\"ds_result\")\n",
    "\n",
    "# Convert dataset to Pandas DataFrame\n",
    "bldg_dmg_df = bldg_dmg_result.get_dataframe_from_csv()\n",
    "\n",
    "# Display top 5 rows of output data\n",
    "bldg_dmg_df.head()"
   ]
  },
  {
   "cell_type": "markdown",
   "id": "8770d88e",
   "metadata": {},
   "source": [
    "#### 5.2 Creating a chart\n",
    "The results dataset is a pandas dataframe and various plotting libraries available in python can be used to visualize the data. For example, following is a barplot of the number of buildings in each of the damage states."
   ]
  },
  {
   "cell_type": "code",
   "execution_count": null,
   "id": "721e27f9",
   "metadata": {},
   "outputs": [],
   "source": [
    "# TODO: will include this in the next pyincore-viz release\n",
    "# Code for creating the combined map \n",
    "# We create our own function by editing the existing code from pyincoreviz and add it to the pyincore viz class\n",
    "def my_plot_gdf_map(gdf, column, category=False, basemap=True, source=ctx.providers.OpenStreetMap.Mapnik,ax=None,legend = True, legend_kwds = None,cmap=None,marker=\"o\"):\n",
    "    \"\"\"Plot Geopandas DataFrame.\n",
    "    Args:\n",
    "        gdf (obj): Geopandas DataFrame object.\n",
    "        column (str): A column name to be plot.\n",
    "        category (bool): Turn on/off category option.\n",
    "        basemap (bool): Turn on/off base map (e.g. openstreetmap).\n",
    "        source(obj): source of the Map to be used. examples, ctx.providers.OpenStreetMap.Mapnik (default),\n",
    "            ctx.providers.Stamen.Terrain, ctx.providers.CartoDB.Positron etc.\n",
    "    \"\"\"\n",
    "    if isinstance(ax, type(None)):\n",
    "        gdf = gdf.to_crs(epsg=3857)\n",
    "        ax = gdf.plot(figsize=(10, 10), column=column,\n",
    "                      categorical=category, legend=legend , legend_kwds = legend_kwds,cmap=cmap)\n",
    "        if basemap:\n",
    "            ctx.add_basemap(ax, source=source)\n",
    "    else:\n",
    "        gdf = gdf.to_crs(epsg=3857)\n",
    "        gdf.plot(ax=ax,column=column,\n",
    "              categorical=category, legend=legend , legend_kwds = legend_kwds,cmap=cmap,marker=marker)\n",
    "    return ax\n",
    "setattr(viz, \"my_plot_gdf_map\", my_plot_gdf_map)"
   ]
  },
  {
   "cell_type": "raw",
   "id": "4ffc60ac",
   "metadata": {},
   "source": [
    "DSlist = np.array(['DS_0', 'DS_1', 'DS_2', 'DS_3'])\n",
    "bldg_likelyDS = DSlist[bldg_dmg_df.loc[:,['DS_0', 'DS_1', 'DS_2', 'DS_3']].values.argmax(axis=1)]\n",
    "bldg_dmg_df['likelyDS'] = bldg_likelyDS\n",
    "keys, counts = np.unique(bldg_likelyDS, return_counts=True)\n",
    "\n",
    "fig, ax = plt.subplots()\n",
    "ax.bar(keys, counts)\n",
    "ax.set_title(\"Damage State Distribution\", fontsize=12)\n",
    "ax.set_xlabel(\"Likely Damage State\", fontsize=12)\n",
    "ax.set_ylabel(\"Counts\", fontsize=12)"
   ]
  },
  {
   "cell_type": "raw",
   "id": "13a191cd",
   "metadata": {},
   "source": [
    "#Plotting the most likely damage state for buldings\n",
    "building_gdf = bldg_dataset.get_dataframe_from_shapefile()\n",
    "joined_building_gdf = building_gdf.set_index(\"guid\").join(bldg_dmg_df.set_index(\"guid\"))\n",
    "\n",
    "ax = viz.my_plot_gdf_map(joined_building_gdf,column='likelyDS',category = True,basemap=True,cmap='YlOrRd')\n",
    "orddict={'DS_0': 'Insignificant', 'DS_1': 'Moderate', 'DS_2': 'Heavy', 'DS_3': 'Complete'}\n",
    "def replace_legend_items(legend, mapping):\n",
    "    for txt in legend.texts:\n",
    "        for k,v in mapping.items():\n",
    "            if txt.get_text() == str(k):\n",
    "                txt.set_text(v)\n",
    "replace_legend_items(ax.get_legend(), orddict)"
   ]
  },
  {
   "cell_type": "markdown",
   "id": "c037a09b",
   "metadata": {},
   "source": [
    "### 6. Infrastructure Damage Analysis\n",
    "\n",
    "We use the infrastructure data from MAEViz available in pyIncore. These data include the locations of potable water and electric power facilities and potable water pipelines within Shelby County. \n",
    "\n",
    "&nbsp;&nbsp;&nbsp;&nbsp;The potable water pipeline repair rates and component fragilities are from ALA https://www.americanlifelinesalliance.com/pdf/Part_1_Guideline.pdf, and HAZUS https://www.fema.gov/sites/default/files/2020-09/fema_hazus_earthquake-model_technical-manual_2.1.pdf. The electrical power substation fragilities are also from HAZUS."
   ]
  },
  {
   "cell_type": "markdown",
   "id": "2308b5b1",
   "metadata": {},
   "source": [
    "#### 6.1 Potable water pipelines and facilities"
   ]
  },
  {
   "cell_type": "code",
   "execution_count": null,
   "id": "e2593393",
   "metadata": {},
   "outputs": [],
   "source": [
    "data_services = DataService(client)"
   ]
  },
  {
   "cell_type": "markdown",
   "id": "6de97fe3",
   "metadata": {},
   "source": [
    "##### Load water network and its components in Shelby county, TN"
   ]
  },
  {
   "cell_type": "code",
   "execution_count": null,
   "id": "5a984294",
   "metadata": {},
   "outputs": [],
   "source": [
    "water_network_dataset_id = \"62d586120b99e237881b0519\"\n",
    "water_network_dataset = Dataset.from_data_service(water_network_dataset_id, data_services)\n",
    "water_network = NetworkDataset.from_dataset(water_network_dataset)\n",
    "pipeline_dataset = water_network.links\n",
    "waterfacility_dataset = water_network.nodes"
   ]
  },
  {
   "cell_type": "markdown",
   "id": "f1fe7c3f",
   "metadata": {},
   "source": [
    "##### 6.1.1 Pipeline damage repair rate"
   ]
  },
  {
   "cell_type": "code",
   "execution_count": null,
   "id": "1ae4cbc6",
   "metadata": {},
   "outputs": [],
   "source": [
    "# pipeline fragility mapping\n",
    "pp_mapping_id = \"5b47c227337d4a38464efea8\"\n",
    "\n",
    "# Geology dataset\n",
    "liq_geology_dataset_id = \"5a284f53c7d30d13bc08249c\"\n",
    "liq_fragility_key = \"pgd\"\n",
    "use_liq = True"
   ]
  },
  {
   "cell_type": "code",
   "execution_count": null,
   "id": "ee70560f",
   "metadata": {},
   "outputs": [],
   "source": [
    "# Create pipeline damage with repair rate\n",
    "pipeline_dmg_w_rr = PipelineDamageRepairRate(client)\n",
    "\n",
    "# Load pipeline inventory as input datasets\n",
    "pipeline_dmg_w_rr.set_input_dataset(\"pipeline\", pipeline_dataset)\n",
    "\n",
    "# Load fragility mapping\n",
    "fragility_service = FragilityService(client)\n",
    "mapping_set = MappingSet(fragility_service.get_mapping(pp_mapping_id))\n",
    "pipeline_dmg_w_rr.set_input_dataset(\"dfr3_mapping_set\", mapping_set)"
   ]
  },
  {
   "cell_type": "code",
   "execution_count": null,
   "id": "c1c5a2f9",
   "metadata": {},
   "outputs": [],
   "source": [
    "# Set analysis parameters\n",
    "pipeline_dmg_w_rr.set_parameter(\"result_name\", \"pipeline_result\")\n",
    "pipeline_dmg_w_rr.set_parameter(\"hazard_type\", hazard_type)\n",
    "pipeline_dmg_w_rr.set_parameter(\"hazard_id\", hazard_id)\n",
    "pipeline_dmg_w_rr.set_parameter(\"liquefaction_fragility_key\", liq_fragility_key)\n",
    "pipeline_dmg_w_rr.set_parameter(\"liquefaction_geology_dataset_id\",liq_geology_dataset_id)\n",
    "pipeline_dmg_w_rr.set_parameter(\"use_liquefaction\", use_liq)\n",
    "pipeline_dmg_w_rr.set_parameter(\"num_cpu\", 4)"
   ]
  },
  {
   "cell_type": "code",
   "execution_count": null,
   "id": "515ca10d",
   "metadata": {},
   "outputs": [],
   "source": [
    "# Run pipeline  damage analysis\n",
    "pipeline_dmg_w_rr.run_analysis()"
   ]
  },
  {
   "cell_type": "code",
   "execution_count": null,
   "id": "6d180e8c",
   "metadata": {},
   "outputs": [],
   "source": [
    "# Retrieve result dataset\n",
    "pipeline_dmg_result = pipeline_dmg_w_rr.get_output_dataset(\"result\")\n",
    "\n",
    "# Convert dataset to Pandas DataFrame\n",
    "pipeline_dmg_df = pipeline_dmg_result.get_dataframe_from_csv()\n",
    "\n",
    "# Display top 5 rows of output data\n",
    "pipeline_dmg_df.head()"
   ]
  },
  {
   "cell_type": "markdown",
   "id": "07e879f2",
   "metadata": {},
   "source": [
    "##### 6.1.2 water facility damage"
   ]
  },
  {
   "cell_type": "code",
   "execution_count": null,
   "id": "83c30638",
   "metadata": {},
   "outputs": [],
   "source": [
    "# Water facility inventory for Shelby County, TN\n",
    "# Inaccurate attributes, needed to be changed in the following cell\n",
    "\n",
    "# Default water facility fragility mapping\n",
    "# wf_mapping_id = \"5b47c3b1337d4a387e85564b\"  # Hazus Potable Water Facility Fragility Mapping - Only PGA\n",
    "wf_mapping_id = \"5b47c383337d4a387669d592\" # Potable Water Facility Fragility Mapping for INA - Has PGD\n",
    "fragility_key = \"pga\"\n",
    "\n",
    "# Liquefaction parameters\n",
    "liq_geology_dataset_id =  \"5a284f53c7d30d13bc08249c\"\n",
    "liquefaction = True\n",
    "liq_fragility_key = \"pgd\"\n",
    "\n",
    "# Hazard uncertainty\n",
    "uncertainty = False"
   ]
  },
  {
   "cell_type": "code",
   "execution_count": null,
   "id": "04317134",
   "metadata": {},
   "outputs": [],
   "source": [
    "# Create water facility damage analysis\n",
    "wf_dmg = WaterFacilityDamage(client)\n",
    "\n",
    "# Load water facility inventory dataset\n",
    "wf_dmg.set_input_dataset(\"water_facilities\", waterfacility_dataset)\n",
    "\n",
    "# Load fragility mapping\n",
    "fragility_service = FragilityService(client)\n",
    "mapping_set = MappingSet(fragility_service.get_mapping(wf_mapping_id))\n",
    "wf_dmg.set_input_dataset(\"dfr3_mapping_set\", mapping_set)"
   ]
  },
  {
   "cell_type": "code",
   "execution_count": null,
   "id": "547585ce",
   "metadata": {},
   "outputs": [],
   "source": [
    "# Set analysis parameters\n",
    "wf_dmg.set_parameter(\"result_name\", \"wf-dmg-results\")\n",
    "wf_dmg.set_parameter(\"hazard_type\", hazard_type)\n",
    "wf_dmg.set_parameter(\"hazard_id\", hazard_id)\n",
    "wf_dmg.set_parameter(\"fragility_key\", fragility_key)\n",
    "wf_dmg.set_parameter(\"use_liquefaction\", liquefaction)\n",
    "wf_dmg.set_parameter(\"liquefaction_geology_dataset_id\", liq_geology_dataset_id)\n",
    "wf_dmg.set_parameter(\"liquefaction_fragility_key\", liq_fragility_key)\n",
    "wf_dmg.set_parameter(\"use_hazard_uncertainty\", uncertainty)\n",
    "wf_dmg.set_parameter(\"num_cpu\", 4)"
   ]
  },
  {
   "cell_type": "code",
   "execution_count": null,
   "id": "2e06421b",
   "metadata": {},
   "outputs": [],
   "source": [
    "# Run water facility damage analysis\n",
    "wf_dmg.run_analysis()"
   ]
  },
  {
   "cell_type": "code",
   "execution_count": null,
   "id": "d15ae7df",
   "metadata": {},
   "outputs": [],
   "source": [
    "# Retrieve result dataset\n",
    "wf_dmg_result = wf_dmg.get_output_dataset(\"result\")\n",
    "\n",
    "# Convert dataset to Pandas DataFrame\n",
    "wf_dmg_df = wf_dmg_result.get_dataframe_from_csv()\n",
    "\n",
    "# Display top 5 rows of output data\n",
    "wf_dmg_df.head()"
   ]
  },
  {
   "cell_type": "code",
   "execution_count": null,
   "id": "4fc1dd7b",
   "metadata": {},
   "outputs": [],
   "source": [
    "# TODO: junctions are not mapped hence empty; which causes problem in MC simulation later\n",
    "wf_dmg_df = wf_dmg_df.dropna()\n",
    "wf_dmg_result_modified = Dataset.from_dataframe(wf_dmg_df, name=\"wf_dmg_result_modified\", data_type=\"ergo:waterFacilityDamageVer6\")"
   ]
  },
  {
   "cell_type": "code",
   "execution_count": null,
   "id": "651cb81a",
   "metadata": {},
   "outputs": [],
   "source": [
    "DSlist = np.array(['DS_0', 'DS_1', 'DS_2','DS_3','DS_4'])\n",
    "wf_dmg_df['likelyDS'] = DSlist[wf_dmg_df.loc[:,['DS_0', 'DS_1', 'DS_2', 'DS_3','DS_4']].values.argmax(axis=1)]"
   ]
  },
  {
   "cell_type": "code",
   "execution_count": null,
   "id": "b2a2ae76",
   "metadata": {},
   "outputs": [],
   "source": [
    "# Plotting the damage to water pipelines and facilities together and also showing the junctions\n",
    "pipeline_gdf = pipeline_dataset.get_dataframe_from_shapefile()\n",
    "joined_pipeline_gdf = pipeline_gdf.set_index(\"guid\").join(pipeline_dmg_df.set_index(\"guid\"))\n",
    "\n",
    "waterfacility_gdf = waterfacility_dataset.get_dataframe_from_shapefile()\n",
    "joined_waterfacility_gdf = waterfacility_gdf[waterfacility_gdf[\"utilfcltyc\"] != \"Junction\"]\n",
    "joined_waterfacility_gdf = joined_waterfacility_gdf.set_index(\"guid\").join(wf_dmg_df.set_index(\"guid\"))\n",
    "\n",
    "waterjunctions_gdf = waterfacility_gdf[waterfacility_gdf[\"utilfcltyc\"] == \"Junction\"]\n",
    "joined_waterjunctions_gdf = waterjunctions_gdf.set_index(\"guid\").join(wf_dmg_df.set_index(\"guid\"))"
   ]
  },
  {
   "cell_type": "code",
   "execution_count": null,
   "id": "f2a5f120",
   "metadata": {},
   "outputs": [],
   "source": [
    "legend_kwds = {'label': \"Number of repairs per km\",'orientation': \"horizontal\"}\n",
    "ax = viz.my_plot_gdf_map(joined_pipeline_gdf,'repairspkm',basemap=True,legend_kwds=legend_kwds,cmap='RdYlBu_r')\n",
    "ax = viz.my_plot_gdf_map(waterjunctions_gdf,column='utilfcltyc',category = True,basemap=True,ax=ax,marker=\"s\")\n",
    "ax = viz.my_plot_gdf_map(joined_waterfacility_gdf,column='likelyDS',category = True,basemap=True,ax=ax,cmap='YlOrRd')\n",
    "\n",
    "orddict={'DS_0': 'None', 'DS_1': 'Slight', 'DS_2': 'Moderate', 'DS_3': 'Extensive','DS_4': 'Complete'}\n",
    "def replace_legend_items(legend, mapping):\n",
    "    for txt in legend.texts:\n",
    "        for k,v in mapping.items():\n",
    "            if txt.get_text() == str(k):\n",
    "                txt.set_text(v)\n",
    "replace_legend_items(ax.get_legend(), orddict)"
   ]
  },
  {
   "cell_type": "markdown",
   "id": "2df77558",
   "metadata": {},
   "source": [
    "#### 6.2 Electric power transmission lines and facilities"
   ]
  },
  {
   "cell_type": "markdown",
   "id": "37b4eb5b",
   "metadata": {},
   "source": [
    "##### Load Electric power network and its components in Shelby county, TN"
   ]
  },
  {
   "cell_type": "code",
   "execution_count": null,
   "id": "105da6cd",
   "metadata": {},
   "outputs": [],
   "source": [
    "# Electric power transmission lines dataset\n",
    "epn_network_dataset_id = '62d85b399701070dbf8c65fe'\n",
    "epn_network_dataset = Dataset.from_data_service(epn_network_dataset_id, data_services)\n",
    "epn_network = NetworkDataset.from_dataset(epn_network_dataset)"
   ]
  },
  {
   "cell_type": "code",
   "execution_count": null,
   "id": "28c8321e",
   "metadata": {},
   "outputs": [],
   "source": [
    "powerline_dataset = epn_network.links\n",
    "powerline_dataset.get_dataframe_from_shapefile().head()"
   ]
  },
  {
   "cell_type": "code",
   "execution_count": null,
   "id": "92fab324",
   "metadata": {},
   "outputs": [],
   "source": [
    "powerfacility_dataset = epn_network.nodes\n",
    "powerfacility_dataset.get_dataframe_from_shapefile().head()"
   ]
  },
  {
   "cell_type": "markdown",
   "id": "8cf24521",
   "metadata": {},
   "source": [
    "##### 6.2.1 EPF damage"
   ]
  },
  {
   "cell_type": "code",
   "execution_count": null,
   "id": "14278016",
   "metadata": {},
   "outputs": [],
   "source": [
    "epf_mapping_id = \"5b47be62337d4a37b6197a3a\"\n",
    "# Run epf damage \n",
    "epf_dmg = EpfDamage(client)\n",
    "epf_dmg.set_input_dataset(\"epfs\", powerfacility_dataset)\n",
    "# Load fragility mapping\n",
    "fragility_service = FragilityService(client)\n",
    "mapping_set = MappingSet(fragility_service.get_mapping(epf_mapping_id))\n",
    "epf_dmg.set_input_dataset(\"dfr3_mapping_set\", mapping_set)"
   ]
  },
  {
   "cell_type": "code",
   "execution_count": null,
   "id": "bc85a2f1",
   "metadata": {},
   "outputs": [],
   "source": [
    "epf_dmg.set_parameter(\"result_name\", \"hazus_epf_dmg_result\")\n",
    "epf_dmg.set_parameter(\"hazard_type\", hazard_type)\n",
    "epf_dmg.set_parameter(\"hazard_id\", hazard_id)\n",
    "epf_dmg.set_parameter(\"num_cpu\", 1)\n",
    "# Run Analysis\n",
    "epf_dmg.run_analysis()"
   ]
  },
  {
   "cell_type": "code",
   "execution_count": null,
   "id": "d1e04e9f",
   "metadata": {},
   "outputs": [],
   "source": [
    "# Retrieve result dataset\n",
    "epf_dmg_result = epf_dmg.get_output_dataset(\"result\")\n",
    "\n",
    "# Convert dataset to Pandas DataFrame\n",
    "epf_dmg_df = epf_dmg_result.get_dataframe_from_csv()\n",
    "\n",
    "# Display top 5 rows of output data\n",
    "epf_dmg_df.head()"
   ]
  },
  {
   "cell_type": "code",
   "execution_count": null,
   "id": "13c1e385",
   "metadata": {},
   "outputs": [],
   "source": [
    "DSlist = np.array(['DS_0', 'DS_1', 'DS_2','DS_3','DS_4'])\n",
    "epf_dmg_df['likelyDS'] = DSlist[epf_dmg_df.loc[:,['DS_0', 'DS_1', 'DS_2', 'DS_3','DS_4']].values.argmax(axis=1)]\n",
    "epf_dmg_df.head()"
   ]
  },
  {
   "cell_type": "code",
   "execution_count": null,
   "id": "2665f322",
   "metadata": {},
   "outputs": [],
   "source": [
    "# Plotting the damage to power facilities and also showing the powerlines\n",
    "powerline_gdf = powerline_dataset.get_dataframe_from_shapefile()\n",
    "\n",
    "powerfacility_gdf = powerfacility_dataset.get_dataframe_from_shapefile()\n",
    "joined_powerfacility_gdf = powerfacility_gdf.set_index(\"guid\").join(epf_dmg_df.set_index(\"guid\"))"
   ]
  },
  {
   "cell_type": "code",
   "execution_count": null,
   "id": "5b9ef8ca",
   "metadata": {},
   "outputs": [],
   "source": [
    "viz.get_gdf_map([powerline_gdf, joined_powerfacility_gdf])"
   ]
  },
  {
   "cell_type": "code",
   "execution_count": null,
   "id": "68fe2657",
   "metadata": {},
   "outputs": [],
   "source": [
    "ax = viz.my_plot_gdf_map(powerline_gdf,'pipetype',category = True,basemap=True,cmap='RdYlBu_r')\n",
    "ax = viz.my_plot_gdf_map(joined_powerfacility_gdf,column='likelyDS',category = True,basemap=True,ax=ax,cmap='YlOrRd')\n",
    "\n",
    "orddict={'DS_0': 'None', 'DS_1': 'Slight', 'DS_2': 'Moderate', 'DS_3': 'Extensive','DS_4': 'Complete'}\n",
    "def replace_legend_items(legend, mapping):\n",
    "    for txt in legend.texts:\n",
    "        for k,v in mapping.items():\n",
    "            if txt.get_text() == str(k):\n",
    "                txt.set_text(v)\n",
    "replace_legend_items(ax.get_legend(), orddict)"
   ]
  },
  {
   "cell_type": "markdown",
   "id": "551bd655",
   "metadata": {},
   "source": [
    "### 7. Infrastructure Functionality Analysis\n",
    "\n",
    "The next step in regional risk and resilience analysis is to estimate the impact of the damage in terms of loss of services. Here, we illustrate one of the typical methods to assess infrastructure functionality, using the connectivity analyses of damaged networks. "
   ]
  },
  {
   "cell_type": "markdown",
   "id": "106573bf",
   "metadata": {},
   "source": [
    "#### 7.1 Potable Water Infrastructure "
   ]
  },
  {
   "cell_type": "markdown",
   "id": "21a4c41d",
   "metadata": {},
   "source": [
    "##### 7.1.1 plot the water network"
   ]
  },
  {
   "cell_type": "code",
   "execution_count": null,
   "id": "3c7870ac",
   "metadata": {},
   "outputs": [],
   "source": [
    "water_network_graph = water_network.get_graph_networkx()"
   ]
  },
  {
   "cell_type": "code",
   "execution_count": null,
   "id": "9cb97691",
   "metadata": {},
   "outputs": [],
   "source": [
    "# # TODO: replace with our plot_network_graph in the next release\n",
    "# NetworkUtil.plot_network_graph(water_network_graph, pos)\n",
    "water_network_geoms = waterfacility_gdf[[\"nodenwid\", \"geometry\"]]\n",
    "\n",
    "pos = {}\n",
    "for index, row in water_network_geoms.iterrows():\n",
    "    pos[row[\"nodenwid\"]] = np.array((row[\"geometry\"].xy[0][0], row[\"geometry\"].xy[1][0]))\n",
    "\n",
    "labels=dict(zip(list(water_network_graph.nodes),water_network_graph.nodes))\n",
    "\n",
    "\n",
    "nx.draw_networkx_nodes(water_network_graph,pos,node_size=100,node_color='r')\n",
    "nx.draw_networkx_labels(water_network_graph,pos,labels)\n",
    "nx.draw_networkx_edges(water_network_graph,pos)"
   ]
  },
  {
   "cell_type": "markdown",
   "id": "09b51ee9",
   "metadata": {},
   "source": [
    "##### 7.1.2 Montecarlo simulation compute water facility functionality"
   ]
  },
  {
   "cell_type": "code",
   "execution_count": null,
   "id": "18e57308",
   "metadata": {},
   "outputs": [],
   "source": [
    "mc = MonteCarloFailureProbability(client)\n",
    "mc.set_input_dataset(\"damage\", wf_dmg_result_modified)\n",
    "mc.set_parameter(\"result_name\", \"wf_dmg_mc\")\n",
    "mc.set_parameter(\"num_cpu\", 8)\n",
    "nsamp = 20000\n",
    "mc.set_parameter(\"num_samples\", nsamp)\n",
    "mc.set_parameter(\"damage_interval_keys\", [\"DS_0\", \"DS_1\", \"DS_2\", \"DS_3\", \"DS_4\"])\n",
    "mc.set_parameter(\"failure_state_keys\", [\"DS_3\", \"DS_4\"])\n",
    "mc.run_analysis()\n",
    "\n",
    "wf_dmg_fs = mc.get_output_dataset(\"sample_failure_state\")\n",
    "wf_dmg_fs.get_dataframe_from_shapefile().head()"
   ]
  },
  {
   "cell_type": "markdown",
   "id": "f621d4fd",
   "metadata": {},
   "source": [
    "##### 7.1.3 Pipeline functionality "
   ]
  },
  {
   "cell_type": "code",
   "execution_count": null,
   "id": "f097fc9d",
   "metadata": {},
   "outputs": [],
   "source": [
    "pp_func = PipelineFunctionality(client)\n",
    "pp_func.set_parameter(\"result_name\", \"mmsa_pipeline_functionality\")\n",
    "pp_func.set_parameter(\"num_samples\", nsamp)\n",
    "pp_func.set_input_dataset(\"pipeline_repair_rate_damage\", pipeline_dmg_result)\n",
    "\n",
    "pp_func.run_analysis()\n",
    "\n",
    "pp_dmg_fs = pp_func.get_output_dataset(\"sample_failure_state\")\n",
    "pp_dmg_fs.get_dataframe_from_shapefile().head()"
   ]
  },
  {
   "cell_type": "markdown",
   "id": "f4e375b1",
   "metadata": {},
   "source": [
    "##### 7.1.4 Water network functionality"
   ]
  },
  {
   "cell_type": "code",
   "execution_count": null,
   "id": "b07dcb0b",
   "metadata": {},
   "outputs": [],
   "source": [
    "wfn_func = WfnFunctionality(client)\n",
    "\n",
    "wfn_func.set_input_dataset(\"wfn_network\", water_network_dataset)\n",
    "wfn_func.set_input_dataset(\"wf_sample_failure_state\", wf_dmg_fs)\n",
    "wfn_func.set_input_dataset(\"pp_sample_failure_state\", pp_dmg_fs)\n",
    "wfn_func.set_parameter(\"result_name\", \"mmsa_wfn_functionality\")\n",
    "wfn_func.set_parameter(\"tank_node_list\", [1, 7, 10, 13, 14, 15])\n",
    "wfn_func.set_parameter(\"pumpstation_node_list\", [2, 3, 4, 5, 6, 8, 9, 11, 12])\n",
    "\n",
    "# Run Analysis\n",
    "wfn_func.run_analysis()\n",
    "wfn_dmg_fs = wfn_func.get_output_dataset(\"sample_failure_state\")\n",
    "wfn_dmg_fs_df = wfn_dmg_fs.get_dataframe_from_shapefile()\n",
    "wfn_dmg_fs_df.head()"
   ]
  },
  {
   "cell_type": "markdown",
   "id": "8df07e55",
   "metadata": {},
   "source": [
    "##### 7.1.4 Check for convergence\n",
    "cov of the estimator for every node should be less than 0.05"
   ]
  },
  {
   "cell_type": "code",
   "execution_count": null,
   "id": "f70acbb0",
   "metadata": {},
   "outputs": [],
   "source": [
    "new_wfn_dmg_fs_df = pd.DataFrame(\n",
    "            np.array([np.array(wfn_dmg_fs_df.failure.values[i].split(',')).astype('float').astype('int')\n",
    "                      for i in np.arange(wfn_dmg_fs_df.shape[0])]),\n",
    "            index=wfn_dmg_fs_df.guid.values)\n",
    "\n",
    "cov = new_wfn_dmg_fs_df.std(axis=1)/new_wfn_dmg_fs_df.mean(axis=1)/nsamp**0.5\n",
    "cov.head()"
   ]
  },
  {
   "cell_type": "markdown",
   "id": "4c6988f1",
   "metadata": {},
   "source": [
    "##### 7.1.5 Creating mean functionality dataframe"
   ]
  },
  {
   "cell_type": "code",
   "execution_count": null,
   "id": "74cf9a0c",
   "metadata": {},
   "outputs": [],
   "source": [
    "mean_func_df = pd.DataFrame(new_wfn_dmg_fs_df.mean(axis=1),columns=['functionality'])\n",
    "mean_func_df['guid'] = mean_func_df.index\n",
    "plt.hist(mean_func_df.functionality.values,6)"
   ]
  },
  {
   "cell_type": "markdown",
   "id": "98f4b9d2",
   "metadata": {},
   "source": [
    "##### 7.1.6 Plotting the damage to water pipelines and facilities together and also showing the junctions"
   ]
  },
  {
   "cell_type": "code",
   "execution_count": null,
   "id": "d171c24e",
   "metadata": {},
   "outputs": [],
   "source": [
    "joined_waterjunctions_gdf = waterjunctions_gdf.set_index('guid').join(mean_func_df.set_index('guid'))"
   ]
  },
  {
   "cell_type": "code",
   "execution_count": null,
   "id": "2da9db8d",
   "metadata": {},
   "outputs": [],
   "source": [
    "ax = viz.my_plot_gdf_map(pipeline_gdf,'pipelinehz',basemap=True,category=True,legend=False)\n",
    "legend_kwds = {'label': \"Probability of being functional\",'orientation': \"horizontal\"}\n",
    "ax = viz.my_plot_gdf_map(joined_waterjunctions_gdf,column='functionality',category = False,basemap=True,legend_kwds=legend_kwds,ax=ax,cmap='RdYlBu')"
   ]
  },
  {
   "cell_type": "markdown",
   "id": "6509b634",
   "metadata": {},
   "source": [
    "#### 7.2 Electric Power Infrastructure "
   ]
  },
  {
   "cell_type": "markdown",
   "id": "9d3d06e9",
   "metadata": {},
   "source": [
    "##### 7.2.1 Plot eletric power infrastructure"
   ]
  },
  {
   "cell_type": "code",
   "execution_count": null,
   "id": "d03acb56",
   "metadata": {},
   "outputs": [],
   "source": [
    "epn_network_graph = epn_network.get_graph_networkx()"
   ]
  },
  {
   "cell_type": "code",
   "execution_count": null,
   "id": "2aeb2aac",
   "metadata": {},
   "outputs": [],
   "source": [
    "# # TODO: replace with our plot_network_graph in the next release\n",
    "# NetworkUtil.plot_network_graph(epn_network_graph, pos)\n",
    "epn_network_geoms = powerfacility_gdf[[\"nodenwid\", \"geometry\"]]\n",
    "\n",
    "pos = {}\n",
    "for index, row in epn_network_geoms.iterrows():\n",
    "    pos[row[\"nodenwid\"]] = np.array((row[\"geometry\"].xy[0][0], row[\"geometry\"].xy[1][0]))\n",
    "\n",
    "labels=dict(zip(list(epn_network_graph.nodes),epn_network_graph.nodes))\n",
    "\n",
    "nx.draw_networkx_nodes(epn_network_graph,pos,node_size=100,node_color='r')\n",
    "nx.draw_networkx_labels(epn_network_graph,pos,labels)\n",
    "nx.draw_networkx_edges(epn_network_graph,pos)"
   ]
  },
  {
   "cell_type": "markdown",
   "id": "4acceb0f",
   "metadata": {},
   "source": [
    "##### 7.2.2 Montecarlo simulation compute electric power facility functionality¶"
   ]
  },
  {
   "cell_type": "code",
   "execution_count": null,
   "id": "da49f3bd",
   "metadata": {},
   "outputs": [],
   "source": [
    "mc_ep = MonteCarloFailureProbability(client)\n",
    "mc_ep.set_input_dataset(\"damage\", epf_dmg_result)\n",
    "mc_ep.set_parameter(\"result_name\", \"epf_dmg_mc\")\n",
    "mc_ep.set_parameter(\"num_cpu\", 8)\n",
    "nsamp = 1000\n",
    "mc_ep.set_parameter(\"num_samples\", nsamp)\n",
    "mc_ep.set_parameter(\"damage_interval_keys\", [\"DS_0\", \"DS_1\", \"DS_2\", \"DS_3\", \"DS_4\"])\n",
    "mc_ep.set_parameter(\"failure_state_keys\", [\"DS_3\", \"DS_4\"])\n",
    "mc_ep.run_analysis()"
   ]
  },
  {
   "cell_type": "code",
   "execution_count": null,
   "id": "84562c18",
   "metadata": {},
   "outputs": [],
   "source": [
    "epf_dmg_fs = mc_ep.get_output_dataset(\"sample_failure_state\")\n",
    "epf_dmg_fs.get_dataframe_from_csv().head()"
   ]
  },
  {
   "cell_type": "markdown",
   "id": "cc9424b4",
   "metadata": {},
   "source": [
    "##### 7.2.3 Electric Power Network functionality"
   ]
  },
  {
   "cell_type": "code",
   "execution_count": null,
   "id": "a90b927f",
   "metadata": {},
   "outputs": [],
   "source": [
    "epn_func = EpnFunctionality(client)\n",
    "epn_func.set_input_dataset(\"epn_network\", epn_network_dataset)\n",
    "epn_func.set_input_dataset(\"epf_sample_failure_state\", epf_dmg_fs)\n",
    "\n",
    "epn_func.set_parameter(\"result_name\", \"mmsa_epn_functionality\")\n",
    "epn_func.set_parameter(\"gate_station_node_list\", [1, 2, 3, 4, 5, 6, 7, 8, 9])\n",
    "\n",
    "# Run Analysis\n",
    "epn_func.run_analysis()"
   ]
  },
  {
   "cell_type": "code",
   "execution_count": null,
   "id": "faf27457",
   "metadata": {},
   "outputs": [],
   "source": [
    "epn_dmg_fs = epn_func.get_output_dataset(\"sample_failure_state\")\n",
    "epn_dmg_fs_df = epn_dmg_fs.get_dataframe_from_csv()\n",
    "epn_dmg_fs_df.head()"
   ]
  },
  {
   "cell_type": "markdown",
   "id": "17edf88b",
   "metadata": {},
   "source": [
    "##### 7.2.4 Check for convergence\n",
    "cov of the estimator for every node should be less than 0.05"
   ]
  },
  {
   "cell_type": "code",
   "execution_count": null,
   "id": "00483c82",
   "metadata": {},
   "outputs": [],
   "source": [
    "new_epn_dmg_fs_df = pd.DataFrame(\n",
    "            np.array([np.array(epn_dmg_fs_df.failure.values[i].split(',')).astype('float').astype('int')\n",
    "                      for i in np.arange(epn_dmg_fs_df.shape[0])]),\n",
    "            index=epn_dmg_fs_df.guid.values)\n",
    "\n",
    "cov = new_epn_dmg_fs_df.std(axis=1)/new_epn_dmg_fs_df.mean(axis=1)/nsamp**0.5\n",
    "cov.head()"
   ]
  },
  {
   "cell_type": "markdown",
   "id": "ee0438e2",
   "metadata": {},
   "source": [
    "##### 7.2.5 Creating mean functionality dataframe"
   ]
  },
  {
   "cell_type": "code",
   "execution_count": null,
   "id": "ae5cc6b0",
   "metadata": {},
   "outputs": [],
   "source": [
    "mean_func_ep_df = pd.DataFrame(new_epn_dmg_fs_df.mean(axis=1),columns=['functionality'])\n",
    "mean_func_ep_df['guid'] = mean_func_ep_df.index\n",
    "plt.hist(mean_func_ep_df.functionality.values,6)"
   ]
  },
  {
   "cell_type": "markdown",
   "id": "b0cd71d9",
   "metadata": {},
   "source": [
    "##### 7.2.6 Plotting the damage to power facilities and also showing the powerlines"
   ]
  },
  {
   "cell_type": "code",
   "execution_count": null,
   "id": "f684987e",
   "metadata": {},
   "outputs": [],
   "source": [
    "joined_powerfacility_gdf = powerfacility_gdf.set_index('guid').join(mean_func_ep_df.set_index('guid'))"
   ]
  },
  {
   "cell_type": "code",
   "execution_count": null,
   "id": "e98caf06",
   "metadata": {},
   "outputs": [],
   "source": [
    "ax = viz.my_plot_gdf_map(powerline_gdf,'pipetype',category = True,basemap=True,legend=False,cmap='RdYlBu_r')\n",
    "legend_kwds = {'label': \"Probability of being functional\",'orientation': \"horizontal\"}\n",
    "ax = viz.my_plot_gdf_map(joined_powerfacility_gdf,column='functionality',category = False,legend_kwds=legend_kwds, basemap=True,ax=ax,cmap='RdYlBu')"
   ]
  }
 ],
 "metadata": {
  "kernelspec": {
   "display_name": "Python 3 (ipykernel)",
   "language": "python",
   "name": "python3"
  },
  "language_info": {
   "codemirror_mode": {
    "name": "ipython",
    "version": 3
   },
   "file_extension": ".py",
   "mimetype": "text/x-python",
   "name": "python",
   "nbconvert_exporter": "python",
   "pygments_lexer": "ipython3",
   "version": "3.8.13"
  }
 },
 "nbformat": 4,
 "nbformat_minor": 5
}
