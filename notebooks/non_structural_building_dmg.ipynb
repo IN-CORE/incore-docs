{
 "cells": [
  {
   "cell_type": "code",
   "execution_count": null,
   "metadata": {},
   "outputs": [],
   "source": [
    "from pyincore import IncoreClient, FragilityService, MappingSet\n",
    "from pyincore.analyses.nonstructbuildingdamage import NonStructBuildingDamage"
   ]
  },
  {
   "cell_type": "markdown",
   "metadata": {},
   "source": [
    "## set input parameters and input datasets"
   ]
  },
  {
   "cell_type": "code",
   "execution_count": null,
   "metadata": {},
   "outputs": [],
   "source": [
    "client = IncoreClient()\n",
    "\n",
    "# Memphis 7.9 AB-95\n",
    "hazard_type = \"earthquake\"\n",
    "hazard_id = \"5b902cb273c3371e1236b36b\"\n",
    "\n",
    "# damage ratio \n",
    "dmg_ratio_id_as = \"5a284f2ec7d30d13bc08207c\"\n",
    "dmg_ratio_id_ds = \"5a284f2ec7d30d13bc082090\"\n",
    "dmg_ratio_id_content = \"5a284f2ec7d30d13bc082086\"\n",
    "\n",
    "# Shelby County Essential Facilities\n",
    "building_dataset_id = \"5a284f42c7d30d13bc0821ba\"\n",
    "\n",
    "# Default Building Fragility Mapping v1.0\n",
    "mapping_id = \"5b47b350337d4a3629076f2c\""
   ]
  },
  {
   "cell_type": "markdown",
   "metadata": {},
   "source": [
    "## set object and fetch datasets based on parameters"
   ]
  },
  {
   "cell_type": "code",
   "execution_count": null,
   "metadata": {},
   "outputs": [],
   "source": [
    "non_structural_building_dmg = NonStructBuildingDamage(client)\n",
    "\n",
    "# Load input datasets\n",
    "non_structural_building_dmg.load_remote_input_dataset(\"buildings\", building_dataset_id)\n",
    "\n",
    "# Load fragility mapping\n",
    "fragility_service = FragilityService(client)\n",
    "mapping_set = MappingSet(fragility_service.get_mapping(mapping_id))\n",
    "non_structural_building_dmg.set_input_dataset(\"dfr3_mapping_set\", mapping_set)"
   ]
  },
  {
   "cell_type": "code",
   "execution_count": null,
   "metadata": {
    "pycharm": {
     "name": "#%%\n"
    }
   },
   "outputs": [],
   "source": [
    "# Specify the result name\n",
    "result_name = \"non_structural_building_dmg_result\"\n",
    "\n",
    "# Set analysis parameters\n",
    "non_structural_building_dmg.set_parameter(\"result_name\", result_name)\n",
    "non_structural_building_dmg.set_parameter(\"hazard_type\", hazard_type)\n",
    "non_structural_building_dmg.set_parameter(\"hazard_id\", hazard_id)\n",
    "non_structural_building_dmg.set_parameter(\"num_cpu\", 4)"
   ]
  },
  {
   "cell_type": "markdown",
   "metadata": {},
   "source": [
    "### use liquefaction (slow)"
   ]
  },
  {
   "cell_type": "code",
   "execution_count": null,
   "metadata": {},
   "outputs": [],
   "source": [
    "# Shelby County Liquefaction Susceptibility\n",
    "use_liquefaction = True\n",
    "liq_geology_dataset_id = \"5a284f55c7d30d13bc0824ba\"\n",
    "\n",
    "non_structural_building_dmg.set_parameter(\"use_liquefaction\", use_liquefaction)\n",
    "non_structural_building_dmg.set_parameter(\"liq_geology_dataset_id\", liq_geology_dataset_id)"
   ]
  },
  {
   "cell_type": "markdown",
   "metadata": {},
   "source": [
    "## Run analysis"
   ]
  },
  {
   "cell_type": "code",
   "execution_count": null,
   "metadata": {},
   "outputs": [],
   "source": [
    "non_structural_building_dmg.run_analysis()"
   ]
  },
  {
   "cell_type": "code",
   "execution_count": null,
   "metadata": {
    "pycharm": {
     "name": "#%%\n"
    }
   },
   "outputs": [],
   "source": [
    "# Retrieve result dataset\n",
    "result = non_structural_building_dmg.get_output_dataset(\"result\")\n",
    "\n",
    "# Convert dataset to Pandas DataFrame\n",
    "df = result.get_dataframe_from_csv()"
   ]
  },
  {
   "cell_type": "markdown",
   "metadata": {},
   "source": [
    "## Visualize"
   ]
  },
  {
   "cell_type": "code",
   "execution_count": null,
   "metadata": {
    "pycharm": {
     "name": "#%%\n"
    }
   },
   "outputs": [],
   "source": [
    "# Display top 5 rows of output data\n",
    "df.head()"
   ]
  }
 ],
 "metadata": {
  "kernelspec": {
   "display_name": "Python 3",
   "language": "python",
   "name": "python3"
  },
  "language_info": {
   "codemirror_mode": {
    "name": "ipython",
    "version": 3
   },
   "file_extension": ".py",
   "mimetype": "text/x-python",
   "name": "python",
   "nbconvert_exporter": "python",
   "pygments_lexer": "ipython3",
   "version": "3.7.10"
  }
 },
 "nbformat": 4,
 "nbformat_minor": 4
}
