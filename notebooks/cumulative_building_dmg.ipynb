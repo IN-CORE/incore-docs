{
 "cells": [
  {
   "cell_type": "code",
   "execution_count": 1,
   "metadata": {},
   "outputs": [],
   "source": [
    "from pyincore import IncoreClient, Dataset, FragilityService, MappingSet, DataService\n",
    "from pyincore.analyses.buildingdamage import BuildingDamage\n",
    "from pyincore.analyses.cumulativebuildingdamage.cumulativebuildingdamage import CumulativeBuildingDamage"
   ]
  },
  {
   "cell_type": "code",
   "execution_count": 2,
   "metadata": {},
   "outputs": [
    {
     "name": "stdout",
     "output_type": "stream",
     "text": [
      "Connection successful to IN-CORE services. pyIncore version detected: 0.9.0\n"
     ]
    }
   ],
   "source": [
    "# Connect to IN-CORE service \n",
    "client = IncoreClient()\n",
    "fragility_service = FragilityService(client)        # loading fragility mapping"
   ]
  },
  {
   "cell_type": "markdown",
   "metadata": {},
   "source": [
    "### Building Damage due to EQ"
   ]
  },
  {
   "cell_type": "code",
   "execution_count": 3,
   "metadata": {},
   "outputs": [],
   "source": [
    "bldg_dataset_id = \"5df40388b9219c06cf8b0c80\"        # defining building dataset (GIS point layer)\n",
    "\n",
    "eq_mapping_id = \"5d2789dbb9219c3c553c7977\" \n",
    "eq_100_yr = \"5dfa4058b9219c934b64d495\"      # 100 yr EQ\n",
    "hazard_type = \"earthquake\"\n",
    "eq_dmg_result_name = 'bldg_eq_100yr_dmg_result'"
   ]
  },
  {
   "cell_type": "code",
   "execution_count": 4,
   "metadata": {},
   "outputs": [
    {
     "name": "stdout",
     "output_type": "stream",
     "text": [
      "Dataset already exists locally. Reading from local cached zip.\n",
      "Unzipped folder found in the local cache. Reading from it...\n"
     ]
    },
    {
     "data": {
      "text/plain": [
       "True"
      ]
     },
     "execution_count": 4,
     "metadata": {},
     "output_type": "execute_result"
    }
   ],
   "source": [
    "eq_bldg_dmg = BuildingDamage(client)                   # initializing pyincore\n",
    "eq_bldg_dmg.load_remote_input_dataset(\"buildings\", bldg_dataset_id) # loading in the above\n",
    "eq_mapping_set = MappingSet(fragility_service.get_mapping(eq_mapping_id))\n",
    "eq_bldg_dmg.set_input_dataset(\"dfr3_mapping_set\", eq_mapping_set)\n",
    "   \n",
    "eq_bldg_dmg.set_parameter(\"hazard_type\", hazard_type)  # defining hazard type (e.g. earthquake vs. tsunami)\n",
    "eq_bldg_dmg.set_parameter(\"hazard_id\", eq_100_yr)      # loading above into pyincore\n",
    "eq_bldg_dmg.set_parameter(\"fragility_key\", \"Non-Retrofit Fragility ID Code\")\n",
    "eq_bldg_dmg.set_parameter(\"num_cpu\", 4)                # number of CPUs to use for parallel processing\n",
    "eq_bldg_dmg.set_parameter(\"result_name\", eq_dmg_result_name)  # specifying output name in pyincore\n",
    "\n",
    "eq_bldg_dmg.run_analysis()                             # running the analysis with the above parameters"
   ]
  },
  {
   "cell_type": "code",
   "execution_count": 5,
   "metadata": {},
   "outputs": [],
   "source": [
    "eq_bldg_dmg_output = eq_bldg_dmg.get_output_dataset('ds_result')"
   ]
  },
  {
   "cell_type": "markdown",
   "metadata": {},
   "source": [
    "### Building Damage due to Tsunami"
   ]
  },
  {
   "cell_type": "code",
   "execution_count": 6,
   "metadata": {},
   "outputs": [],
   "source": [
    "tsunami_100_yr = \"5bc9e25ef7b08533c7e610dc\"    # 100 yr Tsunami\n",
    "\n",
    "ts_mapping_id = \"5d279bb9b9219c3c553c7fba\" \n",
    "hazard_type = \"tsunami\"\n",
    "ts_dmg_result_name = 'bldg_tsu_100yr_dmg_result'"
   ]
  },
  {
   "cell_type": "code",
   "execution_count": 7,
   "metadata": {},
   "outputs": [
    {
     "name": "stdout",
     "output_type": "stream",
     "text": [
      "Dataset already exists locally. Reading from local cached zip.\n",
      "Unzipped folder found in the local cache. Reading from it...\n"
     ]
    },
    {
     "data": {
      "text/plain": [
       "True"
      ]
     },
     "execution_count": 7,
     "metadata": {},
     "output_type": "execute_result"
    }
   ],
   "source": [
    "ts_bldg_dmg = BuildingDamage(client)                   # initializing pyincore\n",
    "ts_bldg_dmg.load_remote_input_dataset(\"buildings\", bldg_dataset_id) # loading in the above\n",
    "ts_mapping_set = MappingSet(fragility_service.get_mapping(ts_mapping_id))\n",
    "ts_bldg_dmg.set_input_dataset(\"dfr3_mapping_set\", ts_mapping_set)\n",
    "   \n",
    "ts_bldg_dmg.set_parameter(\"hazard_type\", hazard_type)  # defining hazard type (e.g. earthquake vs. tsunami)\n",
    "ts_bldg_dmg.set_parameter(\"hazard_id\", tsunami_100_yr)      # loading above into pyincore\n",
    "ts_bldg_dmg.set_parameter(\"num_cpu\", 4)                # number of CPUs to use for parallel processing\n",
    "ts_bldg_dmg.set_parameter(\"result_name\", ts_dmg_result_name)  # specifying output name in pyincore\n",
    "\n",
    "ts_bldg_dmg.run_analysis()  "
   ]
  },
  {
   "cell_type": "code",
   "execution_count": 8,
   "metadata": {},
   "outputs": [],
   "source": [
    "ts_bldg_dmg_output = ts_bldg_dmg.get_output_dataset('ds_result')"
   ]
  },
  {
   "cell_type": "markdown",
   "metadata": {},
   "source": [
    "### Cumulative Building Damage Analysis for Seaside, OR"
   ]
  },
  {
   "cell_type": "code",
   "execution_count": 9,
   "metadata": {},
   "outputs": [
    {
     "data": {
      "text/plain": [
       "True"
      ]
     },
     "execution_count": 9,
     "metadata": {},
     "output_type": "execute_result"
    }
   ],
   "source": [
    "# Create cumulative Building Damage\n",
    "cumulative_bldg_dmg = CumulativeBuildingDamage(client)\n",
    "\n",
    "# Set input datasets\n",
    "cumulative_bldg_dmg.set_input_dataset(\"eq_bldg_dmg\", eq_bldg_dmg_output)\n",
    "cumulative_bldg_dmg.set_input_dataset(\"tsunami_bldg_dmg\", ts_bldg_dmg_output)\n",
    "\n",
    "# Specify the result name\n",
    "result_name = \"cumulative_bldg_dmg_result\"\n",
    "\n",
    "# Set analysis parameters\n",
    "cumulative_bldg_dmg.set_parameter(\"result_name\", result_name)\n",
    "cumulative_bldg_dmg.set_parameter(\"num_cpu\", 4)"
   ]
  },
  {
   "cell_type": "code",
   "execution_count": 10,
   "metadata": {},
   "outputs": [
    {
     "data": {
      "text/plain": [
       "True"
      ]
     },
     "execution_count": 10,
     "metadata": {},
     "output_type": "execute_result"
    }
   ],
   "source": [
    "# Run Cumulative Building Damage Analysis\n",
    "cumulative_bldg_dmg.run_analysis()"
   ]
  },
  {
   "cell_type": "code",
   "execution_count": 11,
   "metadata": {},
   "outputs": [
    {
     "data": {
      "text/html": [
       "<div>\n",
       "<style scoped>\n",
       "    .dataframe tbody tr th:only-of-type {\n",
       "        vertical-align: middle;\n",
       "    }\n",
       "\n",
       "    .dataframe tbody tr th {\n",
       "        vertical-align: top;\n",
       "    }\n",
       "\n",
       "    .dataframe thead th {\n",
       "        text-align: right;\n",
       "    }\n",
       "</style>\n",
       "<table border=\"1\" class=\"dataframe\">\n",
       "  <thead>\n",
       "    <tr style=\"text-align: right;\">\n",
       "      <th></th>\n",
       "      <th>guid</th>\n",
       "      <th>LS_0</th>\n",
       "      <th>LS_1</th>\n",
       "      <th>LS_2</th>\n",
       "      <th>DS_0</th>\n",
       "      <th>DS_1</th>\n",
       "      <th>DS_2</th>\n",
       "      <th>DS_3</th>\n",
       "      <th>hazard</th>\n",
       "    </tr>\n",
       "  </thead>\n",
       "  <tbody>\n",
       "    <tr>\n",
       "      <th>0</th>\n",
       "      <td>fba4c73f-9b1b-4942-b7fb-bc276a4e0a4e</td>\n",
       "      <td>0.080076</td>\n",
       "      <td>0.007494</td>\n",
       "      <td>0.000484</td>\n",
       "      <td>0.919924</td>\n",
       "      <td>0.072582</td>\n",
       "      <td>0.007010</td>\n",
       "      <td>0.000484</td>\n",
       "      <td>Earthquake+Tsunami</td>\n",
       "    </tr>\n",
       "    <tr>\n",
       "      <th>1</th>\n",
       "      <td>65d6e370-c05b-4b2f-bd17-d914d1d056c7</td>\n",
       "      <td>0.041585</td>\n",
       "      <td>0.002802</td>\n",
       "      <td>0.000086</td>\n",
       "      <td>0.958415</td>\n",
       "      <td>0.038783</td>\n",
       "      <td>0.002717</td>\n",
       "      <td>0.000086</td>\n",
       "      <td>Earthquake+Tsunami</td>\n",
       "    </tr>\n",
       "    <tr>\n",
       "      <th>2</th>\n",
       "      <td>dad76485-9694-409e-ac7f-c64c7bd5c32c</td>\n",
       "      <td>0.080076</td>\n",
       "      <td>0.007494</td>\n",
       "      <td>0.000484</td>\n",
       "      <td>0.919924</td>\n",
       "      <td>0.072582</td>\n",
       "      <td>0.007010</td>\n",
       "      <td>0.000484</td>\n",
       "      <td>Earthquake+Tsunami</td>\n",
       "    </tr>\n",
       "    <tr>\n",
       "      <th>3</th>\n",
       "      <td>6f57cfb6-d244-40d5-96f5-03aeddd5e30a</td>\n",
       "      <td>0.041585</td>\n",
       "      <td>0.002802</td>\n",
       "      <td>0.000086</td>\n",
       "      <td>0.958415</td>\n",
       "      <td>0.038783</td>\n",
       "      <td>0.002717</td>\n",
       "      <td>0.000086</td>\n",
       "      <td>Earthquake+Tsunami</td>\n",
       "    </tr>\n",
       "    <tr>\n",
       "      <th>4</th>\n",
       "      <td>929f1040-6224-409d-b4e3-58946daf3b91</td>\n",
       "      <td>0.080076</td>\n",
       "      <td>0.007494</td>\n",
       "      <td>0.000484</td>\n",
       "      <td>0.919924</td>\n",
       "      <td>0.072582</td>\n",
       "      <td>0.007010</td>\n",
       "      <td>0.000484</td>\n",
       "      <td>Earthquake+Tsunami</td>\n",
       "    </tr>\n",
       "  </tbody>\n",
       "</table>\n",
       "</div>"
      ],
      "text/plain": [
       "                                   guid      LS_0      LS_1      LS_2  \\\n",
       "0  fba4c73f-9b1b-4942-b7fb-bc276a4e0a4e  0.080076  0.007494  0.000484   \n",
       "1  65d6e370-c05b-4b2f-bd17-d914d1d056c7  0.041585  0.002802  0.000086   \n",
       "2  dad76485-9694-409e-ac7f-c64c7bd5c32c  0.080076  0.007494  0.000484   \n",
       "3  6f57cfb6-d244-40d5-96f5-03aeddd5e30a  0.041585  0.002802  0.000086   \n",
       "4  929f1040-6224-409d-b4e3-58946daf3b91  0.080076  0.007494  0.000484   \n",
       "\n",
       "       DS_0      DS_1      DS_2      DS_3              hazard  \n",
       "0  0.919924  0.072582  0.007010  0.000484  Earthquake+Tsunami  \n",
       "1  0.958415  0.038783  0.002717  0.000086  Earthquake+Tsunami  \n",
       "2  0.919924  0.072582  0.007010  0.000484  Earthquake+Tsunami  \n",
       "3  0.958415  0.038783  0.002717  0.000086  Earthquake+Tsunami  \n",
       "4  0.919924  0.072582  0.007010  0.000484  Earthquake+Tsunami  "
      ]
     },
     "execution_count": 11,
     "metadata": {},
     "output_type": "execute_result"
    }
   ],
   "source": [
    "# Retrieve result dataset\n",
    "result = cumulative_bldg_dmg.get_output_dataset(\"combined-result\")\n",
    "\n",
    "# Convert dataset to Pandas DataFrame\n",
    "df = result.get_dataframe_from_csv()\n",
    "\n",
    "# Display top 5 rows of output data\n",
    "df.head()"
   ]
  },
  {
   "cell_type": "code",
   "execution_count": null,
   "metadata": {},
   "outputs": [],
   "source": []
  }
 ],
 "metadata": {
  "kernelspec": {
   "display_name": "Python 3",
   "language": "python",
   "name": "python3"
  },
  "language_info": {
   "codemirror_mode": {
    "name": "ipython",
    "version": 3
   },
   "file_extension": ".py",
   "mimetype": "text/x-python",
   "name": "python",
   "nbconvert_exporter": "python",
   "pygments_lexer": "ipython3",
   "version": "3.8.8"
  }
 },
 "nbformat": 4,
 "nbformat_minor": 4
}
