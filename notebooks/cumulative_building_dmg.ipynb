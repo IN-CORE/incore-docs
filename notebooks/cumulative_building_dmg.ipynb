{
 "cells": [
  {
   "cell_type": "code",
   "execution_count": 1,
   "metadata": {},
   "outputs": [],
   "source": [
    "from pyincore import IncoreClient\n",
    "from pyincore.analyses.cumulativebuildingdamage.cumulativebuildingdamage import CumulativeBuildingDamage"
   ]
  },
  {
   "cell_type": "code",
   "execution_count": 2,
   "metadata": {},
   "outputs": [
    {
     "name": "stdout",
     "output_type": "stream",
     "text": [
      "Connection successful to IN-CORE services. pyIncore version detected: 0.9.0\n"
     ]
    }
   ],
   "source": [
    "# Connect to IN-CORE service \n",
    "client = IncoreClient()"
   ]
  },
  {
   "cell_type": "markdown",
   "metadata": {},
   "source": [
    "### Cumulative Building Damage Analysis for Seaside, OR"
   ]
  },
  {
   "cell_type": "code",
   "execution_count": 3,
   "metadata": {},
   "outputs": [],
   "source": [
    "# Setting up Id's for Dataset inputs: \n",
    "# Earthquake building damage and Tsunami Building Damage\n",
    "eq_bldg_dmg_id = \"5c5c9686c5c0e488fcf91903\"\n",
    "tsunami_bldg_dmg_id = \"5c5c96f6c5c0e488fcf9190f\" "
   ]
  },
  {
   "cell_type": "code",
   "execution_count": 4,
   "metadata": {},
   "outputs": [
    {
     "name": "stdout",
     "output_type": "stream",
     "text": [
      "dataset type does not match - given type: ergo:buildingDamageVer4 spec types: ['ergo:buildingDamageVer5']\n",
      "dataset type does not match - given type: ergo:buildingDamageVer4 spec types: ['ergo:buildingDamageVer5']\n"
     ]
    },
    {
     "data": {
      "text/plain": [
       "True"
      ]
     },
     "execution_count": 4,
     "metadata": {},
     "output_type": "execute_result"
    }
   ],
   "source": [
    "# Create cumulative Building Damage\n",
    "cumulative_bldg_dmg = CumulativeBuildingDamage(client)\n",
    "\n",
    "# Load input datasets\n",
    "cumulative_bldg_dmg.load_remote_input_dataset(\"eq_bldg_dmg\", eq_bldg_dmg_id)\n",
    "cumulative_bldg_dmg.load_remote_input_dataset(\"tsunami_bldg_dmg\", tsunami_bldg_dmg_id)\n",
    "\n",
    "# Specify the result name\n",
    "result_name = \"cumulative_bldg_dmg_result\"\n",
    "\n",
    "# Set analysis parameters\n",
    "cumulative_bldg_dmg.set_parameter(\"result_name\", result_name)\n",
    "cumulative_bldg_dmg.set_parameter(\"num_cpu\", 4)"
   ]
  },
  {
   "cell_type": "code",
   "execution_count": 5,
   "metadata": {},
   "outputs": [
    {
     "name": "stdout",
     "output_type": "stream",
     "text": [
      "Error reading dataset: required dataset is missing - spec: {'id': 'eq_bldg_dmg', 'required': True, 'description': 'Earthquake Building Damage Results', 'type': ['ergo:buildingDamageVer5']}\n"
     ]
    },
    {
     "data": {
      "text/plain": [
       "(False,\n",
       " \"required dataset is missing - spec: {'id': 'eq_bldg_dmg', 'required': True, 'description': 'Earthquake Building Damage Results', 'type': ['ergo:buildingDamageVer5']}\")"
      ]
     },
     "execution_count": 5,
     "metadata": {},
     "output_type": "execute_result"
    }
   ],
   "source": [
    "# Run Cumulative Building Damage Analysis\n",
    "cumulative_bldg_dmg.run_analysis()"
   ]
  },
  {
   "cell_type": "code",
   "execution_count": 6,
   "metadata": {},
   "outputs": [
    {
     "ename": "AttributeError",
     "evalue": "'NoneType' object has no attribute 'get_dataframe_from_csv'",
     "output_type": "error",
     "traceback": [
      "\u001b[0;31m---------------------------------------------------------------------------\u001b[0m",
      "\u001b[0;31mAttributeError\u001b[0m                            Traceback (most recent call last)",
      "\u001b[0;32m<ipython-input-6-f252149a92ec>\u001b[0m in \u001b[0;36m<module>\u001b[0;34m\u001b[0m\n\u001b[1;32m      3\u001b[0m \u001b[0;34m\u001b[0m\u001b[0m\n\u001b[1;32m      4\u001b[0m \u001b[0;31m# Convert dataset to Pandas DataFrame\u001b[0m\u001b[0;34m\u001b[0m\u001b[0;34m\u001b[0m\u001b[0;34m\u001b[0m\u001b[0m\n\u001b[0;32m----> 5\u001b[0;31m \u001b[0mdf\u001b[0m \u001b[0;34m=\u001b[0m \u001b[0mresult\u001b[0m\u001b[0;34m.\u001b[0m\u001b[0mget_dataframe_from_csv\u001b[0m\u001b[0;34m(\u001b[0m\u001b[0;34m)\u001b[0m\u001b[0;34m\u001b[0m\u001b[0;34m\u001b[0m\u001b[0m\n\u001b[0m\u001b[1;32m      6\u001b[0m \u001b[0;34m\u001b[0m\u001b[0m\n\u001b[1;32m      7\u001b[0m \u001b[0;31m# Display top 5 rows of output data\u001b[0m\u001b[0;34m\u001b[0m\u001b[0;34m\u001b[0m\u001b[0;34m\u001b[0m\u001b[0m\n",
      "\u001b[0;31mAttributeError\u001b[0m: 'NoneType' object has no attribute 'get_dataframe_from_csv'"
     ]
    }
   ],
   "source": [
    "# Retrieve result dataset\n",
    "result = cumulative_bldg_dmg.get_output_dataset(\"combined-result\")\n",
    "\n",
    "# Convert dataset to Pandas DataFrame\n",
    "df = result.get_dataframe_from_csv()\n",
    "\n",
    "# Display top 5 rows of output data\n",
    "df.head()"
   ]
  }
 ],
 "metadata": {
  "kernelspec": {
   "display_name": "Python 3",
   "language": "python",
   "name": "python3"
  },
  "language_info": {
   "codemirror_mode": {
    "name": "ipython",
    "version": 3
   },
   "file_extension": ".py",
   "mimetype": "text/x-python",
   "name": "python",
   "nbconvert_exporter": "python",
   "pygments_lexer": "ipython3",
   "version": "3.7.10"
  }
 },
 "nbformat": 4,
 "nbformat_minor": 4
}
