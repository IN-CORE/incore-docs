{
 "cells": [
  {
   "cell_type": "code",
   "execution_count": null,
   "metadata": {},
   "outputs": [],
   "source": [
    "from pyincore import IncoreClient, Dataset, FragilityService, MappingSet, DataService\n",
    "from pyincore.analyses.buildingdamage import BuildingDamage\n",
    "from pyincore.analyses.cumulativebuildingdamage.cumulativebuildingdamage import CumulativeBuildingDamage"
   ]
  },
  {
   "cell_type": "code",
   "execution_count": null,
   "metadata": {},
   "outputs": [],
   "source": [
    "# Connect to IN-CORE service \n",
    "client = IncoreClient()\n",
    "fragility_service = FragilityService(client)        # loading fragility mapping"
   ]
  },
  {
   "cell_type": "markdown",
   "metadata": {},
   "source": [
    "### Building Damage due to EQ"
   ]
  },
  {
   "cell_type": "code",
   "execution_count": null,
   "metadata": {},
   "outputs": [],
   "source": [
    "bldg_dataset_id = \"5df40388b9219c06cf8b0c80\"        # defining building dataset (GIS point layer)\n",
    "\n",
    "eq_mapping_id = \"5d2789dbb9219c3c553c7977\" \n",
    "eq_100_yr = \"5dfa4058b9219c934b64d495\"      # 100 yr EQ\n",
    "hazard_type = \"earthquake\"\n",
    "eq_dmg_result_name = 'bldg_eq_100yr_dmg_result'"
   ]
  },
  {
   "cell_type": "code",
   "execution_count": null,
   "metadata": {},
   "outputs": [],
   "source": [
    "eq_bldg_dmg = BuildingDamage(client)                   # initializing pyincore\n",
    "eq_bldg_dmg.load_remote_input_dataset(\"buildings\", bldg_dataset_id) # loading in the above\n",
    "eq_mapping_set = MappingSet(fragility_service.get_mapping(eq_mapping_id))\n",
    "eq_bldg_dmg.set_input_dataset(\"dfr3_mapping_set\", eq_mapping_set)\n",
    "   \n",
    "eq_bldg_dmg.set_parameter(\"hazard_type\", hazard_type)  # defining hazard type (e.g. earthquake vs. tsunami)\n",
    "eq_bldg_dmg.set_parameter(\"hazard_id\", eq_100_yr)      # loading above into pyincore\n",
    "eq_bldg_dmg.set_parameter(\"fragility_key\", \"Non-Retrofit Fragility ID Code\")\n",
    "eq_bldg_dmg.set_parameter(\"num_cpu\", 4)                # number of CPUs to use for parallel processing\n",
    "eq_bldg_dmg.set_parameter(\"result_name\", eq_dmg_result_name)  # specifying output name in pyincore\n",
    "\n",
    "eq_bldg_dmg.run_analysis()                             # running the analysis with the above parameters"
   ]
  },
  {
   "cell_type": "code",
   "execution_count": null,
   "metadata": {},
   "outputs": [],
   "source": [
    "eq_bldg_dmg_output = eq_bldg_dmg.get_output_dataset('ds_result')"
   ]
  },
  {
   "cell_type": "markdown",
   "metadata": {},
   "source": [
    "### Building Damage due to Tsunami"
   ]
  },
  {
   "cell_type": "code",
   "execution_count": null,
   "metadata": {},
   "outputs": [],
   "source": [
    "tsunami_100_yr = \"5bc9e25ef7b08533c7e610dc\"    # 100 yr Tsunami\n",
    "\n",
    "ts_mapping_id = \"5d279bb9b9219c3c553c7fba\" \n",
    "hazard_type = \"tsunami\"\n",
    "ts_dmg_result_name = 'bldg_tsu_100yr_dmg_result'"
   ]
  },
  {
   "cell_type": "code",
   "execution_count": null,
   "metadata": {},
   "outputs": [],
   "source": [
    "ts_bldg_dmg = BuildingDamage(client)                   # initializing pyincore\n",
    "ts_bldg_dmg.load_remote_input_dataset(\"buildings\", bldg_dataset_id) # loading in the above\n",
    "ts_mapping_set = MappingSet(fragility_service.get_mapping(ts_mapping_id))\n",
    "ts_bldg_dmg.set_input_dataset(\"dfr3_mapping_set\", ts_mapping_set)\n",
    "   \n",
    "ts_bldg_dmg.set_parameter(\"hazard_type\", hazard_type)  # defining hazard type (e.g. earthquake vs. tsunami)\n",
    "ts_bldg_dmg.set_parameter(\"hazard_id\", tsunami_100_yr)      # loading above into pyincore\n",
    "ts_bldg_dmg.set_parameter(\"num_cpu\", 4)                # number of CPUs to use for parallel processing\n",
    "ts_bldg_dmg.set_parameter(\"result_name\", ts_dmg_result_name)  # specifying output name in pyincore\n",
    "\n",
    "ts_bldg_dmg.run_analysis()  "
   ]
  },
  {
   "cell_type": "code",
   "execution_count": null,
   "metadata": {},
   "outputs": [],
   "source": [
    "ts_bldg_dmg_output = ts_bldg_dmg.get_output_dataset('ds_result')"
   ]
  },
  {
   "cell_type": "markdown",
   "metadata": {},
   "source": [
    "### Cumulative Building Damage Analysis for Seaside, OR"
   ]
  },
  {
   "cell_type": "code",
   "execution_count": null,
   "metadata": {},
   "outputs": [],
   "source": [
    "# Create cumulative Building Damage\n",
    "cumulative_bldg_dmg = CumulativeBuildingDamage(client)\n",
    "\n",
    "# Set input datasets\n",
    "cumulative_bldg_dmg.set_input_dataset(\"eq_bldg_dmg\", eq_bldg_dmg_output)\n",
    "cumulative_bldg_dmg.set_input_dataset(\"tsunami_bldg_dmg\", ts_bldg_dmg_output)\n",
    "\n",
    "# Specify the result name\n",
    "result_name = \"cumulative_bldg_dmg_result\"\n",
    "\n",
    "# Set analysis parameters\n",
    "cumulative_bldg_dmg.set_parameter(\"result_name\", result_name)\n",
    "cumulative_bldg_dmg.set_parameter(\"num_cpu\", 4)"
   ]
  },
  {
   "cell_type": "code",
   "execution_count": null,
   "metadata": {},
   "outputs": [],
   "source": [
    "# Run Cumulative Building Damage Analysis\n",
    "cumulative_bldg_dmg.run_analysis()"
   ]
  },
  {
   "cell_type": "code",
   "execution_count": null,
   "metadata": {},
   "outputs": [],
   "source": [
    "# Retrieve result dataset\n",
    "result = cumulative_bldg_dmg.get_output_dataset(\"combined-result\")\n",
    "\n",
    "# Convert dataset to Pandas DataFrame\n",
    "df = result.get_dataframe_from_csv()\n",
    "\n",
    "# Display top 5 rows of output data\n",
    "df.head()"
   ]
  },
  {
   "cell_type": "code",
   "execution_count": null,
   "metadata": {},
   "outputs": [],
   "source": []
  }
 ],
 "metadata": {
  "kernelspec": {
   "display_name": "Python 3",
   "language": "python",
   "name": "python3"
  },
  "language_info": {
   "codemirror_mode": {
    "name": "ipython",
    "version": 3
   },
   "file_extension": ".py",
   "mimetype": "text/x-python",
   "name": "python",
   "nbconvert_exporter": "python",
   "pygments_lexer": "ipython3",
   "version": "3.8.8"
  }
 },
 "nbformat": 4,
 "nbformat_minor": 4
}
