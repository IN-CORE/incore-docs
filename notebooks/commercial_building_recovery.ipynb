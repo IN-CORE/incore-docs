{
 "cells": [
  {
   "cell_type": "code",
   "execution_count": null,
   "metadata": {
    "ExecuteTime": {
     "end_time": "2023-09-29T15:02:55.785647Z",
     "start_time": "2023-09-29T15:02:55.777915Z"
    }
   },
   "outputs": [],
   "source": [
    "from pyincore import IncoreClient, RepairService, MappingSet\n",
    "from pyincore.analyses.commercialbuildingrecovery.commercialbuildingrecovery import CommercialBuildingRecovery\n",
    "\n",
    "import pyincore.globals as pyglobals"
   ]
  },
  {
   "cell_type": "code",
   "execution_count": null,
   "metadata": {
    "pycharm": {
     "name": "#%%\n"
    }
   },
   "outputs": [],
   "source": [
    "# Connect to IN-CORE service\n",
    "client = IncoreClient()"
   ]
  },
  {
   "cell_type": "markdown",
   "metadata": {},
   "source": [
    "### Joplin Commercial Building Recovery."
   ]
  },
  {
   "cell_type": "code",
   "execution_count": null,
   "metadata": {},
   "outputs": [],
   "source": [
    "# Joplin\n",
    "buildings = \"5dbc8478b9219c06dd242c0d\"  # ergo:buildingInventoryVer6 5dbc8478b9219c06dd242c0d\n",
    "\n",
    "# Create commercial recovery instance\n",
    "com_recovery = CommercialBuildingRecovery(client)\n",
    "com_recovery.load_remote_input_dataset(\"buildings\", buildings)\n"
   ]
  },
  {
   "cell_type": "code",
   "execution_count": null,
   "metadata": {},
   "outputs": [],
   "source": [
    "# Recovery mapping\n",
    "mapping_id = \"60edfa3efc0f3a7af53a21b5\"\n",
    "# Create repair service\n",
    "repair_service = RepairService(client)\n",
    "mapping_set = MappingSet(repair_service.get_mapping(mapping_id))\n",
    "com_recovery.set_input_dataset('dfr3_mapping_set', mapping_set)"
   ]
  },
  {
   "cell_type": "code",
   "execution_count": null,
   "metadata": {},
   "outputs": [],
   "source": [
    "# input datsets ids\n",
    "sample_damage_states = \"651dcf587faf5a0eae9e3443\"  # 10 samples 28k buildings - MCS output format\n",
    "mcs_failure = '651dced2adce7a5cb977f06e'\n",
    "delay_factors = \"64ee0bcd553ecf0768e21e55\""
   ]
  },
  {
   "cell_type": "code",
   "execution_count": null,
   "metadata": {},
   "outputs": [],
   "source": [
    "# Load input datasets\n",
    "com_recovery.load_remote_input_dataset(\"sample_damage_states\", sample_damage_states)\n",
    "com_recovery.load_remote_input_dataset(\"mcs_failure\", mcs_failure)\n",
    "com_recovery.load_remote_input_dataset(\"delay_factors\", delay_factors)"
   ]
  },
  {
   "cell_type": "code",
   "execution_count": null,
   "metadata": {},
   "outputs": [],
   "source": [
    "# Input parameters\n",
    "num_samples = 10"
   ]
  },
  {
   "cell_type": "code",
   "execution_count": null,
   "metadata": {},
   "outputs": [],
   "source": [
    "# Specify the result name\n",
    "result_name = \"joplin_commercial_test\"\n",
    "\n",
    "# Set analysis parameters\n",
    "com_recovery.set_parameter(\"result_name\", result_name)\n",
    "com_recovery.set_parameter(\"num_samples\", num_samples)"
   ]
  },
  {
   "cell_type": "code",
   "execution_count": null,
   "metadata": {},
   "outputs": [],
   "source": [
    "# Run the analysis (NOTE: with SettingWithCopyWarning)\n",
    "com_recovery.run_analysis()"
   ]
  },
  {
   "cell_type": "code",
   "execution_count": null,
   "metadata": {
    "pycharm": {
     "name": "#%%\n"
    }
   },
   "outputs": [],
   "source": [
    "# Retrieve result dataset\n",
    "result = com_recovery.get_output_dataset(\"time_stepping_recovery\")\n",
    "\n",
    "# Convert dataset to Pandas DataFrame\n",
    "df = result.get_dataframe_from_csv()\n",
    "\n",
    "# Display top 5 rows of output data\n",
    "df.head()"
   ]
  }
 ],
 "metadata": {
  "kernelspec": {
   "display_name": "Python 3 (ipykernel)",
   "language": "python",
   "name": "python3"
  },
  "language_info": {
   "codemirror_mode": {
    "name": "ipython",
    "version": 3
   },
   "file_extension": ".py",
   "mimetype": "text/x-python",
   "name": "python",
   "nbconvert_exporter": "python",
   "pygments_lexer": "ipython3",
   "version": "3.9.17"
  }
 },
 "nbformat": 4,
 "nbformat_minor": 1
}
