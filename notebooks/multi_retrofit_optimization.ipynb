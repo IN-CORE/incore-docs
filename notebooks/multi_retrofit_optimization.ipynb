{
 "cells": [
  {
   "cell_type": "markdown",
   "metadata": {},
   "source": [
    "# Multi-objective retrofit optimization model"
   ]
  },
  {
   "cell_type": "code",
   "execution_count": null,
   "metadata": {},
   "outputs": [],
   "source": [
    "from pyincore import IncoreClient\n",
    "from pyincore.analyses.multiobjectiveretrofitoptimization import MultiObjectiveRetrofitOptimization\n",
    "import pyincore.globals as pyglobals"
   ]
  },
  {
   "cell_type": "code",
   "execution_count": null,
   "metadata": {},
   "outputs": [],
   "source": [
    "# client = IncoreClient()\n",
    "client = IncoreClient(pyglobals.INCORE_API_PROD_URL)"
   ]
  },
  {
   "cell_type": "code",
   "execution_count": null,
   "metadata": {
    "pycharm": {
     "name": "#%%\n"
    }
   },
   "outputs": [],
   "source": [
    "# Building functionality data.\n",
    "building_repairs_data = \"6193ef5b6bee8c1fac5c915e\"\n",
    "# Strategy cost data per building.\n",
    "strategy_costs_data = \"6193efa69340a2170d51f495\"\n",
    "    \n",
    "retrofit_optimization = MultiObjectiveRetrofitOptimization(client)\n",
    "\n",
    "retrofit_optimization.load_remote_input_dataset(\"building_repairs_data\", building_repairs_data)\n",
    "retrofit_optimization.load_remote_input_dataset(\"strategy_costs_data\", strategy_costs_data)"
   ]
  },
  {
   "cell_type": "code",
   "execution_count": null,
   "metadata": {
    "pycharm": {
     "name": "#%%\n"
    }
   },
   "outputs": [],
   "source": [
    "# parameters\n",
    "retrofit_optimization.set_parameter(\"model_solver\", \"ipopt\")\n",
    "retrofit_optimization.set_parameter(\"num_epsilon_steps\", 2)\n",
    "retrofit_optimization.set_parameter(\"max_budget\", \"default\")\n",
    "retrofit_optimization.set_parameter(\"scale_data\", False)\n",
    "\n",
    "retrofit_optimization.run_analysis()"
   ]
  }
 ],
 "metadata": {
  "kernelspec": {
   "display_name": "Python 3 (ipykernel)",
   "language": "python",
   "name": "python3"
  },
  "language_info": {
   "codemirror_mode": {
    "name": "ipython",
    "version": 3
   },
   "file_extension": ".py",
   "mimetype": "text/x-python",
   "name": "python",
   "nbconvert_exporter": "python",
   "pygments_lexer": "ipython3",
   "version": "3.8.12"
  }
 },
 "nbformat": 4,
 "nbformat_minor": 4
}
