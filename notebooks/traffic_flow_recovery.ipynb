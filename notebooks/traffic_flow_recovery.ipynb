{
 "cells": [
  {
   "cell_type": "markdown",
   "metadata": {},
   "source": [
    "## Shelby County Traffic Flow Recovery Model"
   ]
  },
  {
   "cell_type": "code",
   "execution_count": null,
   "metadata": {},
   "outputs": [],
   "source": [
    "import json\n",
    "import pandas as pd\n",
    "from pyincore import IncoreClient, InventoryDataset, Dataset\n",
    "from pyincore.analyses.trafficflowrecovery import TrafficFlowRecovery"
   ]
  },
  {
   "cell_type": "markdown",
   "metadata": {},
   "source": [
    "## Calculate Traffic Flow Recovery"
   ]
  },
  {
   "cell_type": "code",
   "execution_count": null,
   "metadata": {},
   "outputs": [],
   "source": [
    "client = IncoreClient()\n",
    "traffic_flow_recovery = TrafficFlowRecovery(client)"
   ]
  },
  {
   "cell_type": "code",
   "execution_count": null,
   "metadata": {},
   "outputs": [],
   "source": [
    "nodes = \"603d37ec34f29a7fa4211fc4\"\n",
    "traffic_flow_recovery.load_remote_input_dataset(\"nodes\", nodes)\n",
    "\n",
    "links = \"5c5de25ec5c0e488fc035613\"\n",
    "traffic_flow_recovery.load_remote_input_dataset(\"links\", links)\n",
    "\n",
    "bridges = \"5a284f2dc7d30d13bc082040\"\n",
    "traffic_flow_recovery.load_remote_input_dataset('bridges', bridges)\n",
    "\n",
    "bridge_damage = \"5c5ddff0c5c0e488fc0355df\"\n",
    "traffic_flow_recovery.load_remote_input_dataset('bridge_damage_value', bridge_damage)\n",
    "\n",
    "unrepaired = \"5c5de0c5c5c0e488fc0355eb\"\n",
    "traffic_flow_recovery.load_remote_input_dataset('unrepaired_bridge', unrepaired)\n",
    "\n",
    "ADT_data = \"5c5dde00c5c0e488fc032d7f\"\n",
    "traffic_flow_recovery.load_remote_input_dataset('ADT', ADT_data)"
   ]
  },
  {
   "cell_type": "code",
   "execution_count": null,
   "metadata": {},
   "outputs": [],
   "source": [
    "traffic_flow_recovery.set_parameter(\"num_cpu\", 4)\n",
    "traffic_flow_recovery.set_parameter(\"pm\", 1)\n",
    "traffic_flow_recovery.set_parameter('ini_num_population', 5)\n",
    "traffic_flow_recovery.set_parameter(\"population_size\", 3)\n",
    "traffic_flow_recovery.set_parameter(\"num_generation\", 2)\n",
    "traffic_flow_recovery.set_parameter(\"mutation_rate\", 0.1)\n",
    "traffic_flow_recovery.set_parameter(\"crossover_rate\", 1.0)"
   ]
  },
  {
   "cell_type": "code",
   "execution_count": null,
   "metadata": {},
   "outputs": [],
   "source": [
    "traffic_flow_recovery.run_analysis()"
   ]
  },
  {
   "cell_type": "code",
   "execution_count": null,
   "metadata": {},
   "outputs": [],
   "source": [
    "traffic_flow_recovery.get_output_datasets()"
   ]
  },
  {
   "cell_type": "code",
   "execution_count": null,
   "metadata": {},
   "outputs": [],
   "source": [
    "traffic_flow_recovery.get_output_dataset('optimal_solution_of_bridge_repair_schedule').get_dataframe_from_csv()"
   ]
  },
  {
   "cell_type": "code",
   "execution_count": null,
   "metadata": {},
   "outputs": [],
   "source": [
    "traffic_flow_recovery.get_output_dataset('overall_traffic_flow_recovery_trajectory').get_dataframe_from_csv()"
   ]
  }
 ],
 "metadata": {
  "kernelspec": {
   "display_name": "Python 3 (ipykernel)",
   "language": "python",
   "name": "python3"
  },
  "language_info": {
   "codemirror_mode": {
    "name": "ipython",
    "version": 3
   },
   "file_extension": ".py",
   "mimetype": "text/x-python",
   "name": "python",
   "nbconvert_exporter": "python",
   "pygments_lexer": "ipython3",
   "version": "3.10.0"
  }
 },
 "nbformat": 4,
 "nbformat_minor": 4
}
