{
 "cells": [
  {
   "cell_type": "code",
   "execution_count": null,
   "metadata": {},
   "outputs": [],
   "source": [
    "from pyincore import IncoreClient, Dataset, FragilityService, MappingSet, RestorationService\n",
    "from pyincore.analyses.epfdamage.epfdamage import EpfDamage\n",
    "from pyincore.analyses.epfrestoration import EpfRestoration\n",
    "from pyincore.analyses.waterfacilitydamage import WaterFacilityDamage\n",
    "from pyincore.analyses.waterfacilityrestoration import WaterFacilityRestoration\n",
    "from pyincore.analyses.montecarlofailureprobability import MonteCarloFailureProbability\n",
    "from pyincore.analyses.ncifunctionality import NciFunctionality"
   ]
  },
  {
   "cell_type": "code",
   "execution_count": null,
   "metadata": {
    "collapsed": false,
    "jupyter": {
     "outputs_hidden": false
    }
   },
   "outputs": [],
   "source": [
    "# Connect to IN-CORE service\n",
    "client = IncoreClient()\n",
    "\n",
    "num_samples = 10000\n",
    "hazard_type = \"earthquake\"\n",
    "hazard_id = \"5e3dd04f7fdf7e0008032bfe\"\n",
    "\n",
    "epf_dataset = \"631f932d61fe1122867c00d3\"\n",
    "epf_mapping_id = \"5b47be62337d4a37b6197a3a\"\n",
    "epf_restoration_mapping_id = \"61f302e6e3a03e465500b3eb\"\n",
    "\n",
    "facility_dataset_id = \"5a284f2ac7d30d13bc081e52\"\n",
    "wds_mapping_id = \"5b47c383337d4a387669d592\"\n",
    "wds_fragility_key = \"pga\"\n",
    "liq_geology_dataset_id = \"5a284f53c7d30d13bc08249c\"\n",
    "liquefaction = False\n",
    "liq_fragility_key = \"pgd\"\n",
    "uncertainty = False\n",
    "wds_restoration_mapping_id = \"61f075ee903e515036cee0a5\"\n",
    "\n",
    "# MMSA network datasets\n",
    "epf_mmsa_network = \"631f48ccb4f2e17eff72d33d\"\n",
    "wds_mmsa_network = \"631f4bfb923e0e341acf1c96\"\n",
    "\n",
    "# Dependency tables\n",
    "epf_wds_interdependency = \"631f95f3b4f2e17eff72e2e9\"\n",
    "wds_epf_interdependency = \"631f96fb923e0e341acf1f5d\""
   ]
  },
  {
   "cell_type": "markdown",
   "metadata": {
    "collapsed": false,
    "jupyter": {
     "outputs_hidden": false
    }
   },
   "source": [
    "### EPF substation damage analysis"
   ]
  },
  {
   "cell_type": "code",
   "execution_count": null,
   "metadata": {
    "collapsed": false,
    "jupyter": {
     "outputs_hidden": false
    }
   },
   "outputs": [],
   "source": [
    "fragility_service = FragilityService(client)\n",
    "mapping_set = MappingSet(fragility_service.get_mapping(epf_mapping_id))\n",
    "\n",
    "epn_sub_dmg = EpfDamage(client)\n",
    "epn_sub_dmg.load_remote_input_dataset(\"epfs\", epf_dataset)\n",
    "epn_sub_dmg.set_input_dataset(\"dfr3_mapping_set\", mapping_set)\n",
    "result_name = \"3_MMSA_EPN_substations_dmg_result\"\n",
    "epn_sub_dmg.set_parameter(\"result_name\", result_name)\n",
    "epn_sub_dmg.set_parameter(\"hazard_type\", hazard_type)\n",
    "epn_sub_dmg.set_parameter(\"hazard_id\", hazard_id)\n",
    "epn_sub_dmg.set_parameter(\"num_cpu\", 16)\n",
    "\n",
    "epn_sub_dmg.run_analysis()\n",
    "\n",
    "substation_dmg_result = epn_sub_dmg.get_output_dataset('result')"
   ]
  },
  {
   "cell_type": "markdown",
   "metadata": {
    "collapsed": false,
    "jupyter": {
     "outputs_hidden": false
    }
   },
   "source": [
    "### EPF substation functionality analysis"
   ]
  },
  {
   "cell_type": "code",
   "execution_count": null,
   "metadata": {
    "collapsed": false,
    "jupyter": {
     "outputs_hidden": false
    }
   },
   "outputs": [],
   "source": [
    "mc_sub = MonteCarloFailureProbability(client)\n",
    "\n",
    "result_name = \"3_MMSA_EPN_substations_mc_failure_probability\"\n",
    "mc_sub.set_input_dataset(\"damage\", substation_dmg_result)\n",
    "mc_sub.set_parameter(\"num_cpu\", 16)\n",
    "mc_sub.set_parameter(\"num_samples\", num_samples)\n",
    "mc_sub.set_parameter(\"damage_interval_keys\", [\"DS_0\", \"DS_1\", \"DS_2\", \"DS_3\", \"DS_4\"])\n",
    "mc_sub.set_parameter(\"failure_state_keys\", [\"DS_3\", \"DS_4\"])\n",
    "mc_sub.set_parameter(\"result_name\", result_name)  # name of csv file with results\n",
    "mc_sub.run_analysis()\n",
    "\n",
    "epf_subst_failure_results = mc_sub.get_output_dataset('failure_probability')"
   ]
  },
  {
   "cell_type": "markdown",
   "metadata": {
    "collapsed": false,
    "jupyter": {
     "outputs_hidden": false
    }
   },
   "source": [
    "### EPF restoration analysis"
   ]
  },
  {
   "cell_type": "code",
   "execution_count": null,
   "metadata": {
    "collapsed": false,
    "jupyter": {
     "outputs_hidden": false
    }
   },
   "outputs": [],
   "source": [
    "epf_rest = EpfRestoration(client)\n",
    "restorationsvc = RestorationService(client)\n",
    "mapping_set = MappingSet(restorationsvc.get_mapping(epf_restoration_mapping_id))\n",
    "epf_rest.load_remote_input_dataset(\"epfs\", epf_dataset)\n",
    "epf_rest.set_input_dataset('dfr3_mapping_set', mapping_set)\n",
    "epf_rest.set_input_dataset(\"damage\", substation_dmg_result)\n",
    "result_name = \"4_MMSA_epf_restoration_result\"\n",
    "epf_rest.set_parameter(\"result_name\", result_name)\n",
    "epf_rest.set_parameter(\"restoration_key\", \"Restoration ID Code\")\n",
    "epf_rest.set_parameter(\"end_time\", 90.0)\n",
    "epf_rest.set_parameter(\"time_interval\", 1.0)\n",
    "epf_rest.run_analysis()\n",
    "\n",
    "epf_time_results = epf_rest.get_output_dataset(\"time_results\")\n",
    "epf_inventory_rest_map = epf_rest.get_output_dataset(\"inventory_restoration_map\")"
   ]
  },
  {
   "cell_type": "markdown",
   "metadata": {
    "collapsed": false,
    "jupyter": {
     "outputs_hidden": false
    }
   },
   "source": [
    "### Water damage analysis"
   ]
  },
  {
   "cell_type": "code",
   "execution_count": null,
   "metadata": {
    "collapsed": false,
    "jupyter": {
     "outputs_hidden": false
    }
   },
   "outputs": [],
   "source": [
    "wf_dmg = WaterFacilityDamage(client)\n",
    "wf_dmg.load_remote_input_dataset(\"water_facilities\", facility_dataset_id)\n",
    "mapping_set = MappingSet(fragility_service.get_mapping(wds_mapping_id))\n",
    "wf_dmg.set_input_dataset(\"dfr3_mapping_set\", mapping_set)\n",
    "result_name = \"2_MMSA_facility_dmg_result\"\n",
    "wf_dmg.set_parameter(\"result_name\", result_name)\n",
    "wf_dmg.set_parameter(\"hazard_type\", hazard_type)\n",
    "wf_dmg.set_parameter(\"hazard_id\", hazard_id)\n",
    "wf_dmg.set_parameter(\"fragility_key\", wds_fragility_key)\n",
    "wf_dmg.set_parameter(\"use_liquefaction\", liquefaction)\n",
    "wf_dmg.set_parameter(\"liquefaction_geology_dataset_id\", liq_geology_dataset_id)\n",
    "wf_dmg.set_parameter(\"liquefaction_fragility_key\", liq_fragility_key)\n",
    "wf_dmg.set_parameter(\"use_hazard_uncertainty\", uncertainty)\n",
    "wf_dmg.set_parameter(\"num_cpu\", 4)\n",
    "wf_dmg.run_analysis()\n",
    "\n",
    "wds_dmg_results = wf_dmg.get_output_dataset(\"result\")"
   ]
  },
  {
   "cell_type": "markdown",
   "metadata": {
    "collapsed": false,
    "jupyter": {
     "outputs_hidden": false
    }
   },
   "source": [
    "### Water facility restoration"
   ]
  },
  {
   "cell_type": "code",
   "execution_count": null,
   "metadata": {
    "collapsed": false,
    "jupyter": {
     "outputs_hidden": false
    }
   },
   "outputs": [],
   "source": [
    "wf_rest = WaterFacilityRestoration(client)\n",
    "mapping_set = MappingSet(restorationsvc.get_mapping(wds_restoration_mapping_id))  # new format of mapping\n",
    "wf_rest.load_remote_input_dataset(\"water_facilities\", \"5a284f2ac7d30d13bc081e52\")  # water facility\n",
    "wf_rest.set_input_dataset('dfr3_mapping_set', mapping_set)\n",
    "wf_rest.set_input_dataset(\"damage\", wds_dmg_results)\n",
    "wf_rest.set_parameter(\"result_name\", \"wf_restoration\")\n",
    "wf_rest.set_parameter(\"restoration_key\", \"Restoration ID Code\")\n",
    "wf_rest.set_parameter(\"end_time\", 90.0)\n",
    "wf_rest.set_parameter(\"time_interval\", 1.0)\n",
    "wf_rest.run_analysis()\n",
    "\n",
    "wds_time_results = wf_rest.get_output_dataset(\"time_results\")\n",
    "wds_inventory_rest_map = wf_rest.get_output_dataset(\"inventory_restoration_map\")"
   ]
  },
  {
   "cell_type": "markdown",
   "metadata": {
    "collapsed": false,
    "jupyter": {
     "outputs_hidden": false
    }
   },
   "source": [
    "### EPF/WDS network cascading interdependency analysis"
   ]
  },
  {
   "cell_type": "code",
   "execution_count": null,
   "metadata": {
    "collapsed": false,
    "jupyter": {
     "outputs_hidden": false
    }
   },
   "outputs": [],
   "source": [
    "nci_func = NciFunctionality(client)\n",
    "nci_func.set_parameter(\"result_name\", \"MMSA_nci_result\")\n",
    "nci_func.set_parameter(\"discretized_days\", [1, 3, 7, 30, 90])\n",
    "nci_func.load_remote_input_dataset(\"epf_network\", epf_mmsa_network)\n",
    "nci_func.load_remote_input_dataset(\"wds_network\", wds_mmsa_network)\n",
    "nci_func.load_remote_input_dataset(\"epf_wds_intdp_table\", epf_wds_interdependency)\n",
    "nci_func.load_remote_input_dataset(\"wds_epf_intdp_table\", wds_epf_interdependency)\n",
    "nci_func.set_input_dataset(\"epf_subst_failure_results\", epf_subst_failure_results)\n",
    "nci_func.set_input_dataset(\"epf_inventory_rest_map\", epf_inventory_rest_map)\n",
    "nci_func.set_input_dataset(\"epf_time_results\", epf_time_results)\n",
    "nci_func.set_input_dataset(\"wds_dmg_results\", wds_dmg_results)\n",
    "nci_func.set_input_dataset(\"wds_inventory_rest_map\", wds_inventory_rest_map)\n",
    "nci_func.set_input_dataset(\"wds_time_results\", wds_time_results)\n",
    "nci_func.set_input_dataset(\"epf_damage\", substation_dmg_result)\n",
    "nci_func.run_analysis()"
   ]
  },
  {
   "cell_type": "markdown",
   "metadata": {
    "collapsed": false,
    "jupyter": {
     "outputs_hidden": false
    }
   },
   "source": [
    "### Obtaining NCI results"
   ]
  },
  {
   "cell_type": "code",
   "execution_count": null,
   "metadata": {
    "collapsed": false,
    "jupyter": {
     "outputs_hidden": false
    }
   },
   "outputs": [],
   "source": [
    "result = nci_func.get_output_dataset(\"epf_cascading_functionality\")\n",
    "df = result.get_dataframe_from_csv()\n",
    "df.head()"
   ]
  },
  {
   "cell_type": "code",
   "execution_count": null,
   "metadata": {},
   "outputs": [],
   "source": []
  }
 ],
 "metadata": {
  "kernelspec": {
   "display_name": "Python 3 (ipykernel)",
   "language": "python",
   "name": "python3"
  },
  "language_info": {
   "codemirror_mode": {
    "name": "ipython",
    "version": 3
   },
   "file_extension": ".py",
   "mimetype": "text/x-python",
   "name": "python",
   "nbconvert_exporter": "python",
   "pygments_lexer": "ipython3",
   "version": "3.12.0"
  }
 },
 "nbformat": 4,
 "nbformat_minor": 4
}
