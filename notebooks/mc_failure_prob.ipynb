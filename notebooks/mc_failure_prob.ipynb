{
 "cells": [
  {
   "cell_type": "code",
   "execution_count": null,
   "metadata": {
    "scrolled": true
   },
   "outputs": [],
   "source": [
    "from pyincore import IncoreClient, FragilityService, MappingSet\n",
    "from pyincore.analyses.montecarlofailureprobability import MonteCarloFailureProbability\n",
    "from pyincore.analyses.buildingdamage import BuildingDamage\n",
    "from pyincore.analyses.waterfacilitydamage import WaterFacilityDamage"
   ]
  },
  {
   "cell_type": "markdown",
   "metadata": {},
   "source": [
    "## Monte Carlo failure probability analysis"
   ]
  },
  {
   "cell_type": "code",
   "execution_count": null,
   "metadata": {},
   "outputs": [],
   "source": [
    "client = IncoreClient()"
   ]
  },
  {
   "cell_type": "markdown",
   "metadata": {},
   "source": [
    "### Chaining with Building damage analysis"
   ]
  },
  {
   "cell_type": "code",
   "execution_count": null,
   "metadata": {},
   "outputs": [],
   "source": [
    "bldg_dmg = BuildingDamage(client)\n",
    "# Memphis hospitals\n",
    "bldg_dmg.load_remote_input_dataset(\"buildings\", \"5a284f0bc7d30d13bc081a28\")\n",
    "\n",
    "# Load fragility mapping\n",
    "fragility_service = FragilityService(client)\n",
    "mapping_set = MappingSet(fragility_service.get_mapping(\"5b47b350337d4a3629076f2c\"))\n",
    "bldg_dmg.set_input_dataset(\"dfr3_mapping_set\", mapping_set)"
   ]
  },
  {
   "cell_type": "code",
   "execution_count": null,
   "metadata": {
    "pycharm": {
     "name": "#%%\n"
    }
   },
   "outputs": [],
   "source": [
    "bldg_dmg.set_parameter(\"hazard_type\", \"earthquake\")\n",
    "# Memphis 7.9 AB-95, New madrid Atkinson and Boore 1995 model based hazard\n",
    "bldg_dmg.set_parameter(\"hazard_id\", \"5b902cb273c3371e1236b36b\")\n",
    "bldg_dmg.set_parameter(\"num_cpu\", 1)\n",
    "\n",
    "bldg_dmg.set_parameter(\"result_name\", \"memphis_hospitals_damage\")"
   ]
  },
  {
   "cell_type": "code",
   "execution_count": null,
   "metadata": {
    "pycharm": {
     "name": "#%%\n"
    }
   },
   "outputs": [],
   "source": [
    "bldg_dmg.run_analysis()"
   ]
  },
  {
   "cell_type": "code",
   "execution_count": null,
   "metadata": {},
   "outputs": [],
   "source": [
    "building_dmg_result = bldg_dmg.get_output_dataset('ds_result')\n",
    "\n",
    "mc = MonteCarloFailureProbability(client)\n",
    "mc.set_input_dataset(\"damage\", building_dmg_result)\n",
    "mc.set_parameter(\"result_name\", \"bldg_mc\")\n",
    "mc.set_parameter(\"num_cpu\", 8)\n",
    "mc.set_parameter(\"num_samples\", 10)\n",
    "mc.set_parameter(\"damage_interval_keys\", [\"DS_0\", \"DS_1\", \"DS_2\", \"DS_3\"])\n",
    "mc.set_parameter(\"failure_state_keys\", [\"DS_1\", \"DS_2\", \"DS_3\"])"
   ]
  },
  {
   "cell_type": "code",
   "execution_count": null,
   "metadata": {},
   "outputs": [],
   "source": [
    "mc.run_analysis()"
   ]
  },
  {
   "cell_type": "code",
   "execution_count": null,
   "metadata": {},
   "outputs": [],
   "source": [
    "result_fs = mc.get_output_dataset(\"sample_failure_state\").get_dataframe_from_csv()\n",
    "result_fs.head()"
   ]
  },
  {
   "cell_type": "markdown",
   "metadata": {},
   "source": [
    "### Chaining with water facility damage"
   ]
  },
  {
   "cell_type": "code",
   "execution_count": null,
   "metadata": {},
   "outputs": [],
   "source": [
    "wf_dmg = WaterFacilityDamage(client)\n",
    "# Memphis water facility\n",
    "wf_dmg.load_remote_input_dataset(\"water_facilities\", \"5a284f2ac7d30d13bc081e52\")\n",
    "\n",
    "# Load fragility mapping\n",
    "mapping_set = MappingSet(fragility_service.get_mapping(\"5b47c383337d4a387669d592\"))\n",
    "wf_dmg.set_input_dataset(\"dfr3_mapping_set\", mapping_set)"
   ]
  },
  {
   "cell_type": "code",
   "execution_count": null,
   "metadata": {
    "pycharm": {
     "name": "#%%\n"
    }
   },
   "outputs": [],
   "source": [
    "wf_dmg.set_parameter(\"hazard_type\", \"earthquake\")\n",
    "# Memphis 7.9 AB-95, New madrid Atkinson and Boore 1995 model based hazard\n",
    "wf_dmg.set_parameter(\"hazard_id\", \"5b902cb273c3371e1236b36b\")\n",
    "wf_dmg.set_parameter(\"fragility_key\", \"pga\")\n",
    "wf_dmg.set_parameter(\"use_liquefaction\", True)\n",
    "wf_dmg.set_parameter(\"liquefaction_geology_dataset_id\", \"5a284f53c7d30d13bc08249c\")\n",
    "wf_dmg.set_parameter(\"liquefaction_fragility_key\", \"pgd\")\n",
    "wf_dmg.set_parameter(\"use_hazard_uncertainty\", False)\n",
    "wf_dmg.set_parameter(\"num_cpu\", 1)\n",
    "\n",
    "wf_dmg.set_parameter(\"result_name\", \"wf_dmg_results\")"
   ]
  },
  {
   "cell_type": "code",
   "execution_count": 11,
   "metadata": {
    "pycharm": {
     "name": "#%%\n"
    }
   },
   "outputs": [
    {
     "data": {
      "text/plain": [
       "True"
      ]
     },
     "execution_count": 11,
     "metadata": {},
     "output_type": "execute_result"
    }
   ],
   "source": [
    "wf_dmg.run_analysis()"
   ]
  },
  {
   "cell_type": "code",
   "execution_count": 12,
   "metadata": {},
   "outputs": [
    {
     "data": {
      "text/plain": [
       "True"
      ]
     },
     "execution_count": 12,
     "metadata": {},
     "output_type": "execute_result"
    }
   ],
   "source": [
    "water_facility_dmg_result = wf_dmg.get_output_dataset('result')\n",
    "\n",
    "mc = MonteCarloFailureProbability(client)\n",
    "mc.set_input_dataset(\"damage\", water_facility_dmg_result)\n",
    "mc.set_parameter(\"num_cpu\", 8)\n",
    "mc.set_parameter(\"num_samples\", 10)\n",
    "mc.set_parameter(\"damage_interval_keys\", [\"DS_0\", \"DS_1\", \"DS_2\", \"DS_3\", \"DS_4\"])\n",
    "mc.set_parameter(\"failure_state_keys\", [\"DS_1\", \"DS_2\", \"DS_3\", \"DS_4\"])\n",
    "\n",
    "mc.set_parameter(\"result_name\", \"water_mc\")"
   ]
  },
  {
   "cell_type": "code",
   "execution_count": 13,
   "metadata": {
    "pycharm": {
     "name": "#%%\n"
    }
   },
   "outputs": [
    {
     "data": {
      "text/plain": [
       "True"
      ]
     },
     "execution_count": 13,
     "metadata": {},
     "output_type": "execute_result"
    }
   ],
   "source": [
    "mc.run_analysis()"
   ]
  },
  {
   "cell_type": "code",
   "execution_count": 14,
   "metadata": {},
   "outputs": [
    {
     "data": {
      "text/html": [
       "<div>\n",
       "<style scoped>\n",
       "    .dataframe tbody tr th:only-of-type {\n",
       "        vertical-align: middle;\n",
       "    }\n",
       "\n",
       "    .dataframe tbody tr th {\n",
       "        vertical-align: top;\n",
       "    }\n",
       "\n",
       "    .dataframe thead th {\n",
       "        text-align: right;\n",
       "    }\n",
       "</style>\n",
       "<table border=\"1\" class=\"dataframe\">\n",
       "  <thead>\n",
       "    <tr style=\"text-align: right;\">\n",
       "      <th></th>\n",
       "      <th>id</th>\n",
       "      <th>failure</th>\n",
       "    </tr>\n",
       "  </thead>\n",
       "  <tbody>\n",
       "    <tr>\n",
       "      <th>0</th>\n",
       "      <td>NaN</td>\n",
       "      <td>0,0,0,0,0,0,0,0,0,0</td>\n",
       "    </tr>\n",
       "    <tr>\n",
       "      <th>1</th>\n",
       "      <td>NaN</td>\n",
       "      <td>0,0,0,0,0,0,0,0,0,0</td>\n",
       "    </tr>\n",
       "    <tr>\n",
       "      <th>2</th>\n",
       "      <td>NaN</td>\n",
       "      <td>0,0,0,0,0,0,0,0,0,0</td>\n",
       "    </tr>\n",
       "    <tr>\n",
       "      <th>3</th>\n",
       "      <td>NaN</td>\n",
       "      <td>0,0,1,0,0,0,0,0,0,0</td>\n",
       "    </tr>\n",
       "    <tr>\n",
       "      <th>4</th>\n",
       "      <td>NaN</td>\n",
       "      <td>0,0,0,0,0,0,0,0,0,0</td>\n",
       "    </tr>\n",
       "  </tbody>\n",
       "</table>\n",
       "</div>"
      ],
      "text/plain": [
       "   id              failure\n",
       "0 NaN  0,0,0,0,0,0,0,0,0,0\n",
       "1 NaN  0,0,0,0,0,0,0,0,0,0\n",
       "2 NaN  0,0,0,0,0,0,0,0,0,0\n",
       "3 NaN  0,0,1,0,0,0,0,0,0,0\n",
       "4 NaN  0,0,0,0,0,0,0,0,0,0"
      ]
     },
     "execution_count": 14,
     "metadata": {},
     "output_type": "execute_result"
    }
   ],
   "source": [
    "result_fs = mc.get_output_dataset(\"sample_failure_state\")\n",
    "df_fs = result_fs.get_dataframe_from_csv()\n",
    "df_fs.head()"
   ]
  },
  {
   "cell_type": "code",
   "execution_count": 15,
   "metadata": {},
   "outputs": [
    {
     "data": {
      "text/html": [
       "<div>\n",
       "<style scoped>\n",
       "    .dataframe tbody tr th:only-of-type {\n",
       "        vertical-align: middle;\n",
       "    }\n",
       "\n",
       "    .dataframe tbody tr th {\n",
       "        vertical-align: top;\n",
       "    }\n",
       "\n",
       "    .dataframe thead th {\n",
       "        text-align: right;\n",
       "    }\n",
       "</style>\n",
       "<table border=\"1\" class=\"dataframe\">\n",
       "  <thead>\n",
       "    <tr style=\"text-align: right;\">\n",
       "      <th></th>\n",
       "      <th>LS_0</th>\n",
       "      <th>LS_1</th>\n",
       "      <th>LS_2</th>\n",
       "      <th>LS_3</th>\n",
       "      <th>DS_0</th>\n",
       "      <th>DS_1</th>\n",
       "      <th>DS_2</th>\n",
       "      <th>DS_3</th>\n",
       "      <th>DS_4</th>\n",
       "      <th>failure_probability</th>\n",
       "    </tr>\n",
       "  </thead>\n",
       "  <tbody>\n",
       "    <tr>\n",
       "      <th>0</th>\n",
       "      <td>0.987977</td>\n",
       "      <td>0.912770</td>\n",
       "      <td>0.765555</td>\n",
       "      <td>0.680618</td>\n",
       "      <td>0.012023</td>\n",
       "      <td>0.075208</td>\n",
       "      <td>0.147215</td>\n",
       "      <td>0.084937</td>\n",
       "      <td>0.680618</td>\n",
       "      <td>1.0</td>\n",
       "    </tr>\n",
       "    <tr>\n",
       "      <th>1</th>\n",
       "      <td>0.992818</td>\n",
       "      <td>0.941305</td>\n",
       "      <td>0.826592</td>\n",
       "      <td>0.751147</td>\n",
       "      <td>0.007182</td>\n",
       "      <td>0.051512</td>\n",
       "      <td>0.114713</td>\n",
       "      <td>0.075445</td>\n",
       "      <td>0.751147</td>\n",
       "      <td>1.0</td>\n",
       "    </tr>\n",
       "    <tr>\n",
       "      <th>2</th>\n",
       "      <td>0.992745</td>\n",
       "      <td>0.940960</td>\n",
       "      <td>0.826160</td>\n",
       "      <td>0.751004</td>\n",
       "      <td>0.007255</td>\n",
       "      <td>0.051785</td>\n",
       "      <td>0.114800</td>\n",
       "      <td>0.075156</td>\n",
       "      <td>0.751004</td>\n",
       "      <td>1.0</td>\n",
       "    </tr>\n",
       "    <tr>\n",
       "      <th>3</th>\n",
       "      <td>0.991617</td>\n",
       "      <td>0.935806</td>\n",
       "      <td>0.819960</td>\n",
       "      <td>0.749020</td>\n",
       "      <td>0.008383</td>\n",
       "      <td>0.055810</td>\n",
       "      <td>0.115847</td>\n",
       "      <td>0.070939</td>\n",
       "      <td>0.749020</td>\n",
       "      <td>0.9</td>\n",
       "    </tr>\n",
       "    <tr>\n",
       "      <th>4</th>\n",
       "      <td>0.991851</td>\n",
       "      <td>0.936846</td>\n",
       "      <td>0.821175</td>\n",
       "      <td>0.749399</td>\n",
       "      <td>0.008149</td>\n",
       "      <td>0.055005</td>\n",
       "      <td>0.115672</td>\n",
       "      <td>0.071775</td>\n",
       "      <td>0.749399</td>\n",
       "      <td>1.0</td>\n",
       "    </tr>\n",
       "  </tbody>\n",
       "</table>\n",
       "</div>"
      ],
      "text/plain": [
       "       LS_0      LS_1      LS_2      LS_3      DS_0      DS_1      DS_2  \\\n",
       "0  0.987977  0.912770  0.765555  0.680618  0.012023  0.075208  0.147215   \n",
       "1  0.992818  0.941305  0.826592  0.751147  0.007182  0.051512  0.114713   \n",
       "2  0.992745  0.940960  0.826160  0.751004  0.007255  0.051785  0.114800   \n",
       "3  0.991617  0.935806  0.819960  0.749020  0.008383  0.055810  0.115847   \n",
       "4  0.991851  0.936846  0.821175  0.749399  0.008149  0.055005  0.115672   \n",
       "\n",
       "       DS_3      DS_4  failure_probability  \n",
       "0  0.084937  0.680618                  1.0  \n",
       "1  0.075445  0.751147                  1.0  \n",
       "2  0.075156  0.751004                  1.0  \n",
       "3  0.070939  0.749020                  0.9  \n",
       "4  0.071775  0.749399                  1.0  "
      ]
     },
     "execution_count": 15,
     "metadata": {},
     "output_type": "execute_result"
    }
   ],
   "source": [
    "result_fp = mc.get_output_dataset(\"failure_probability\")\n",
    "df_fp = result_fp.get_dataframe_from_csv()\n",
    "df_fp.head()"
   ]
  }
 ],
 "metadata": {
  "kernelspec": {
   "display_name": "Python 3",
   "language": "python",
   "name": "python3"
  },
  "language_info": {
   "codemirror_mode": {
    "name": "ipython",
    "version": 3
   },
   "file_extension": ".py",
   "mimetype": "text/x-python",
   "name": "python",
   "nbconvert_exporter": "python",
   "pygments_lexer": "ipython3",
   "version": "3.7.10"
  }
 },
 "nbformat": 4,
 "nbformat_minor": 4
}
