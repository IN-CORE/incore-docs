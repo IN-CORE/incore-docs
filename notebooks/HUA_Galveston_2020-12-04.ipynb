{
 "cells": [
  {
   "cell_type": "markdown",
   "metadata": {},
   "source": [
    "## Galveston Housing Unit Allocation\n",
    "\n",
    "Housing Unit Allocation using Galveston Oregon Housing Unit Inventory\n",
    "Notebook from\n",
    "https://github.com/IN-CORE/pyincore/tree/develop/pyincore/analyses/housingunitallocation"
   ]
  },
  {
   "cell_type": "code",
   "execution_count": 1,
   "metadata": {},
   "outputs": [],
   "source": [
    "import pandas as pd\n",
    "import numpy as np\n",
    "import sys # For displaying package versions\n",
    "import os # For managing directories and file paths if drive is mounted\n",
    "\n",
    "\n",
    "from pyincore import IncoreClient, Dataset, FragilityService, MappingSet, DataService\n",
    "from pyincore.analyses.housingunitallocation import HousingUnitAllocation"
   ]
  },
  {
   "cell_type": "code",
   "execution_count": 2,
   "metadata": {},
   "outputs": [
    {
     "name": "stdin",
     "output_type": "stream",
     "text": [
      "Enter username:  mondrejc\n",
      "Enter password:  ········\n"
     ]
    },
    {
     "name": "stdout",
     "output_type": "stream",
     "text": [
      "Connection successful to IN-CORE services. pyIncore version detected: 0.9.0\n"
     ]
    }
   ],
   "source": [
    "client = IncoreClient()"
   ]
  },
  {
   "cell_type": "code",
   "execution_count": 3,
   "metadata": {},
   "outputs": [
    {
     "name": "stdout",
     "output_type": "stream",
     "text": [
      "Python Version  3.7.10 | packaged by conda-forge | (default, Feb 19 2021, 16:07:37) \n",
      "[GCC 9.3.0]\n",
      "pandas version:  1.2.2\n",
      "numpy version:  1.18.1\n"
     ]
    }
   ],
   "source": [
    "# Check package versions - good practice for replication\n",
    "print(\"Python Version \",sys.version)\n",
    "print(\"pandas version: \", pd.__version__)\n",
    "print(\"numpy version: \", np.__version__)"
   ]
  },
  {
   "cell_type": "code",
   "execution_count": 4,
   "metadata": {},
   "outputs": [
    {
     "data": {
      "text/plain": [
       "'/home/mondrejc'"
      ]
     },
     "execution_count": 4,
     "metadata": {},
     "output_type": "execute_result"
    }
   ],
   "source": [
    "# Check working directory - good practice for relative path access\n",
    "os.getcwd()"
   ]
  },
  {
   "cell_type": "markdown",
   "metadata": {},
   "source": [
    "## Initial Interdependent Community Description - Galveston, Texas\n",
    "\n",
    "Explore building inventory and social systems. Specifically look at how the building inventory connects with the housing unit inventory using the housing unit allocation.\n",
    "The housing unit allocation method will provide detail demographic characteristics for the community allocated to each structure."
   ]
  },
  {
   "cell_type": "code",
   "execution_count": 5,
   "metadata": {},
   "outputs": [],
   "source": [
    "# Galveston, TX Housing unit inventory\n",
    "housing_unit_inv = \"5fc6ab1cd2066956f49e7a03\"\n",
    "# Galveston, TX Address point inventory\n",
    "address_point_inv = \"5fc6aadcc38a0722f563392e\"\n",
    "# Galveston, TX Building inventory\n",
    "building_inv = \"60354b6c123b4036e6837ef7\""
   ]
  },
  {
   "cell_type": "markdown",
   "metadata": {},
   "source": [
    "## Run Housing Unit Allocation \n",
    "https://github.com/IN-CORE/incore-docs/blob/master/notebooks/housingunitallocation.ipynb\n",
    "\n",
    "Rosenheim, Nathanael, Roberto Guidotti, Paolo Gardoni & Walter Gillis Peacock. (2019). Integration of detailed household and housing unit characteristic data with critical infrastructure for post-hazard resilience modeling. Sustainable and Resilient Infrastructure. doi.org/10.1080/23789689.2019.1681821"
   ]
  },
  {
   "cell_type": "code",
   "execution_count": 6,
   "metadata": {},
   "outputs": [
    {
     "name": "stdout",
     "output_type": "stream",
     "text": [
      "Dataset already exists locally. Reading from local cached zip.\n",
      "Unzipped folder found in the local cache. Reading from it...\n",
      "Dataset already exists locally. Reading from local cached zip.\n",
      "Unzipped folder found in the local cache. Reading from it...\n",
      "Dataset already exists locally. Reading from local cached zip.\n",
      "Unzipped folder found in the local cache. Reading from it...\n"
     ]
    },
    {
     "data": {
      "text/plain": [
       "True"
      ]
     },
     "execution_count": 6,
     "metadata": {},
     "output_type": "execute_result"
    }
   ],
   "source": [
    "# Create housing allocation \n",
    "hua = HousingUnitAllocation(client)\n",
    "\n",
    "# Load input dataset\n",
    "hua.load_remote_input_dataset(\"housing_unit_inventory\", housing_unit_inv)\n",
    "hua.load_remote_input_dataset(\"address_point_inventory\", address_point_inv)\n",
    "hua.load_remote_input_dataset(\"buildings\", building_inv)\n",
    "\n",
    "# Specify the result name\n",
    "result_name = \"Galveston_HUA\"\n",
    "\n",
    "seed = 1238\n",
    "iterations = 1\n",
    "\n",
    "# Set analysis parameters\n",
    "hua.set_parameter(\"result_name\", result_name)\n",
    "hua.set_parameter(\"seed\", seed)\n",
    "hua.set_parameter(\"iterations\", iterations)"
   ]
  },
  {
   "cell_type": "code",
   "execution_count": 7,
   "metadata": {},
   "outputs": [
    {
     "data": {
      "text/plain": [
       "True"
      ]
     },
     "execution_count": 7,
     "metadata": {},
     "output_type": "execute_result"
    }
   ],
   "source": [
    "# Run Housing unit allocation analysis\n",
    "hua.run_analysis()"
   ]
  },
  {
   "cell_type": "code",
   "execution_count": 8,
   "metadata": {},
   "outputs": [
    {
     "data": {
      "text/html": [
       "<div>\n",
       "<style scoped>\n",
       "    .dataframe tbody tr th:only-of-type {\n",
       "        vertical-align: middle;\n",
       "    }\n",
       "\n",
       "    .dataframe tbody tr th {\n",
       "        vertical-align: top;\n",
       "    }\n",
       "\n",
       "    .dataframe thead th {\n",
       "        text-align: right;\n",
       "    }\n",
       "</style>\n",
       "<table border=\"1\" class=\"dataframe\">\n",
       "  <thead>\n",
       "    <tr style=\"text-align: right;\">\n",
       "      <th></th>\n",
       "      <th>addrptid</th>\n",
       "      <th>strctid</th>\n",
       "      <th>archetype</th>\n",
       "      <th>struct_typ</th>\n",
       "      <th>year_built</th>\n",
       "      <th>no_stories</th>\n",
       "      <th>a_stories</th>\n",
       "      <th>b_stories</th>\n",
       "      <th>bsmt_type</th>\n",
       "      <th>sq_foot</th>\n",
       "      <th>...</th>\n",
       "      <th>race</th>\n",
       "      <th>hispan</th>\n",
       "      <th>hispan_flag</th>\n",
       "      <th>vacancy</th>\n",
       "      <th>gqtype</th>\n",
       "      <th>incomegroup</th>\n",
       "      <th>randincome</th>\n",
       "      <th>randomhu</th>\n",
       "      <th>aphumerge</th>\n",
       "      <th>geometry</th>\n",
       "    </tr>\n",
       "  </thead>\n",
       "  <tbody>\n",
       "    <tr>\n",
       "      <th>0</th>\n",
       "      <td>XREF0628-0065-0000-000AP014</td>\n",
       "      <td>XREF0628-0065-0000-000</td>\n",
       "      <td>NaN</td>\n",
       "      <td>W1</td>\n",
       "      <td>NaN</td>\n",
       "      <td>NaN</td>\n",
       "      <td>NaN</td>\n",
       "      <td>NaN</td>\n",
       "      <td>NaN</td>\n",
       "      <td>NaN</td>\n",
       "      <td>...</td>\n",
       "      <td>2.0</td>\n",
       "      <td>0.0</td>\n",
       "      <td>2.0</td>\n",
       "      <td>0</td>\n",
       "      <td>0</td>\n",
       "      <td>15.0</td>\n",
       "      <td>142028.8</td>\n",
       "      <td>0.391309</td>\n",
       "      <td>both</td>\n",
       "      <td>POINT (-94.79252 29.3092)</td>\n",
       "    </tr>\n",
       "    <tr>\n",
       "      <th>1</th>\n",
       "      <td>XREF0628-0065-0000-000AP012</td>\n",
       "      <td>XREF0628-0065-0000-000</td>\n",
       "      <td>NaN</td>\n",
       "      <td>W1</td>\n",
       "      <td>NaN</td>\n",
       "      <td>NaN</td>\n",
       "      <td>NaN</td>\n",
       "      <td>NaN</td>\n",
       "      <td>NaN</td>\n",
       "      <td>NaN</td>\n",
       "      <td>...</td>\n",
       "      <td>1.0</td>\n",
       "      <td>0.0</td>\n",
       "      <td>1.0</td>\n",
       "      <td>0</td>\n",
       "      <td>0</td>\n",
       "      <td>17.0</td>\n",
       "      <td>325475.7</td>\n",
       "      <td>0.414422</td>\n",
       "      <td>both</td>\n",
       "      <td>POINT (-94.79252 29.3092)</td>\n",
       "    </tr>\n",
       "    <tr>\n",
       "      <th>2</th>\n",
       "      <td>XREF0628-0065-0000-000AP004</td>\n",
       "      <td>XREF0628-0065-0000-000</td>\n",
       "      <td>NaN</td>\n",
       "      <td>W1</td>\n",
       "      <td>NaN</td>\n",
       "      <td>NaN</td>\n",
       "      <td>NaN</td>\n",
       "      <td>NaN</td>\n",
       "      <td>NaN</td>\n",
       "      <td>NaN</td>\n",
       "      <td>...</td>\n",
       "      <td>1.0</td>\n",
       "      <td>0.0</td>\n",
       "      <td>1.0</td>\n",
       "      <td>0</td>\n",
       "      <td>0</td>\n",
       "      <td>17.0</td>\n",
       "      <td>260189.9</td>\n",
       "      <td>0.927559</td>\n",
       "      <td>both</td>\n",
       "      <td>POINT (-94.79252 29.3092)</td>\n",
       "    </tr>\n",
       "    <tr>\n",
       "      <th>3</th>\n",
       "      <td>XREF0628-0065-0000-000AP005</td>\n",
       "      <td>XREF0628-0065-0000-000</td>\n",
       "      <td>NaN</td>\n",
       "      <td>W1</td>\n",
       "      <td>NaN</td>\n",
       "      <td>NaN</td>\n",
       "      <td>NaN</td>\n",
       "      <td>NaN</td>\n",
       "      <td>NaN</td>\n",
       "      <td>NaN</td>\n",
       "      <td>...</td>\n",
       "      <td>1.0</td>\n",
       "      <td>0.0</td>\n",
       "      <td>1.0</td>\n",
       "      <td>0</td>\n",
       "      <td>0</td>\n",
       "      <td>17.0</td>\n",
       "      <td>347593.4</td>\n",
       "      <td>0.090391</td>\n",
       "      <td>both</td>\n",
       "      <td>POINT (-94.79252 29.3092)</td>\n",
       "    </tr>\n",
       "    <tr>\n",
       "      <th>4</th>\n",
       "      <td>XREF0628-0065-0000-000AP010</td>\n",
       "      <td>XREF0628-0065-0000-000</td>\n",
       "      <td>NaN</td>\n",
       "      <td>W1</td>\n",
       "      <td>NaN</td>\n",
       "      <td>NaN</td>\n",
       "      <td>NaN</td>\n",
       "      <td>NaN</td>\n",
       "      <td>NaN</td>\n",
       "      <td>NaN</td>\n",
       "      <td>...</td>\n",
       "      <td>1.0</td>\n",
       "      <td>0.0</td>\n",
       "      <td>1.0</td>\n",
       "      <td>0</td>\n",
       "      <td>0</td>\n",
       "      <td>17.0</td>\n",
       "      <td>558643.5</td>\n",
       "      <td>0.284164</td>\n",
       "      <td>both</td>\n",
       "      <td>POINT (-94.79252 29.3092)</td>\n",
       "    </tr>\n",
       "  </tbody>\n",
       "</table>\n",
       "<p>5 rows × 64 columns</p>\n",
       "</div>"
      ],
      "text/plain": [
       "                      addrptid                 strctid  archetype struct_typ  \\\n",
       "0  XREF0628-0065-0000-000AP014  XREF0628-0065-0000-000        NaN         W1   \n",
       "1  XREF0628-0065-0000-000AP012  XREF0628-0065-0000-000        NaN         W1   \n",
       "2  XREF0628-0065-0000-000AP004  XREF0628-0065-0000-000        NaN         W1   \n",
       "3  XREF0628-0065-0000-000AP005  XREF0628-0065-0000-000        NaN         W1   \n",
       "4  XREF0628-0065-0000-000AP010  XREF0628-0065-0000-000        NaN         W1   \n",
       "\n",
       "   year_built  no_stories  a_stories  b_stories  bsmt_type  sq_foot  ...  \\\n",
       "0         NaN         NaN        NaN        NaN        NaN      NaN  ...   \n",
       "1         NaN         NaN        NaN        NaN        NaN      NaN  ...   \n",
       "2         NaN         NaN        NaN        NaN        NaN      NaN  ...   \n",
       "3         NaN         NaN        NaN        NaN        NaN      NaN  ...   \n",
       "4         NaN         NaN        NaN        NaN        NaN      NaN  ...   \n",
       "\n",
       "   race  hispan  hispan_flag  vacancy  gqtype  incomegroup  randincome  \\\n",
       "0   2.0     0.0          2.0        0       0         15.0    142028.8   \n",
       "1   1.0     0.0          1.0        0       0         17.0    325475.7   \n",
       "2   1.0     0.0          1.0        0       0         17.0    260189.9   \n",
       "3   1.0     0.0          1.0        0       0         17.0    347593.4   \n",
       "4   1.0     0.0          1.0        0       0         17.0    558643.5   \n",
       "\n",
       "   randomhu  aphumerge                   geometry  \n",
       "0  0.391309       both  POINT (-94.79252 29.3092)  \n",
       "1  0.414422       both  POINT (-94.79252 29.3092)  \n",
       "2  0.927559       both  POINT (-94.79252 29.3092)  \n",
       "3  0.090391       both  POINT (-94.79252 29.3092)  \n",
       "4  0.284164       both  POINT (-94.79252 29.3092)  \n",
       "\n",
       "[5 rows x 64 columns]"
      ]
     },
     "execution_count": 8,
     "metadata": {},
     "output_type": "execute_result"
    }
   ],
   "source": [
    "# Retrieve result dataset\n",
    "result = hua.get_output_dataset(\"result\")\n",
    "\n",
    "# Convert dataset to Pandas DataFrame\n",
    "hua_df = result.get_dataframe_from_csv(low_memory=False)\n",
    "\n",
    "# Display top 5 rows of output data\n",
    "hua_df.head()"
   ]
  },
  {
   "cell_type": "markdown",
   "metadata": {},
   "source": [
    "## Explore results from Housing Unit Allocation\n",
    "\n",
    "Keep observations that are matched to a building."
   ]
  },
  {
   "cell_type": "code",
   "execution_count": 9,
   "metadata": {},
   "outputs": [],
   "source": [
    "hua_df = hua_df.loc[hua_df['aphumerge'] == 'both']"
   ]
  },
  {
   "cell_type": "code",
   "execution_count": 10,
   "metadata": {},
   "outputs": [
    {
     "data": {
      "text/html": [
       "<style  type=\"text/css\" >\n",
       "</style><table id=\"T_142bf_\" ><caption>Confirm housing unit characteristic by Race and Ethnicity.</caption><thead>    <tr>        <th class=\"index_name level0\" >race</th>        <th class=\"col_heading level0 col0\" >1.0</th>        <th class=\"col_heading level0 col1\" >2.0</th>        <th class=\"col_heading level0 col2\" >3.0</th>        <th class=\"col_heading level0 col3\" >4.0</th>        <th class=\"col_heading level0 col4\" >6.0</th>        <th class=\"col_heading level0 col5\" >7.0</th>        <th class=\"col_heading level0 col6\" >Total</th>    </tr>    <tr>        <th class=\"index_name level0\" >Race Ethnicity</th>        <th class=\"blank\" ></th>        <th class=\"blank\" ></th>        <th class=\"blank\" ></th>        <th class=\"blank\" ></th>        <th class=\"blank\" ></th>        <th class=\"blank\" ></th>        <th class=\"blank\" ></th>    </tr></thead><tbody>\n",
       "                <tr>\n",
       "                        <th id=\"T_142bf_level0_row0\" class=\"row_heading level0 row0\" >1 White alone, Not Hispanic</th>\n",
       "                        <td id=\"T_142bf_row0_col0\" class=\"data row0 col0\" >10912</td>\n",
       "                        <td id=\"T_142bf_row0_col1\" class=\"data row0 col1\" >0</td>\n",
       "                        <td id=\"T_142bf_row0_col2\" class=\"data row0 col2\" >0</td>\n",
       "                        <td id=\"T_142bf_row0_col3\" class=\"data row0 col3\" >0</td>\n",
       "                        <td id=\"T_142bf_row0_col4\" class=\"data row0 col4\" >0</td>\n",
       "                        <td id=\"T_142bf_row0_col5\" class=\"data row0 col5\" >0</td>\n",
       "                        <td id=\"T_142bf_row0_col6\" class=\"data row0 col6\" >10912</td>\n",
       "            </tr>\n",
       "            <tr>\n",
       "                        <th id=\"T_142bf_level0_row1\" class=\"row_heading level0 row1\" >2 Black alone, Not Hispanic</th>\n",
       "                        <td id=\"T_142bf_row1_col0\" class=\"data row1 col0\" >0</td>\n",
       "                        <td id=\"T_142bf_row1_col1\" class=\"data row1 col1\" >3607</td>\n",
       "                        <td id=\"T_142bf_row1_col2\" class=\"data row1 col2\" >0</td>\n",
       "                        <td id=\"T_142bf_row1_col3\" class=\"data row1 col3\" >0</td>\n",
       "                        <td id=\"T_142bf_row1_col4\" class=\"data row1 col4\" >0</td>\n",
       "                        <td id=\"T_142bf_row1_col5\" class=\"data row1 col5\" >0</td>\n",
       "                        <td id=\"T_142bf_row1_col6\" class=\"data row1 col6\" >3607</td>\n",
       "            </tr>\n",
       "            <tr>\n",
       "                        <th id=\"T_142bf_level0_row2\" class=\"row_heading level0 row2\" >3 Other Race, Not Hispanic</th>\n",
       "                        <td id=\"T_142bf_row2_col0\" class=\"data row2 col0\" >0</td>\n",
       "                        <td id=\"T_142bf_row2_col1\" class=\"data row2 col1\" >0</td>\n",
       "                        <td id=\"T_142bf_row2_col2\" class=\"data row2 col2\" >26</td>\n",
       "                        <td id=\"T_142bf_row2_col3\" class=\"data row2 col3\" >607</td>\n",
       "                        <td id=\"T_142bf_row2_col4\" class=\"data row2 col4\" >4</td>\n",
       "                        <td id=\"T_142bf_row2_col5\" class=\"data row2 col5\" >145</td>\n",
       "                        <td id=\"T_142bf_row2_col6\" class=\"data row2 col6\" >782</td>\n",
       "            </tr>\n",
       "            <tr>\n",
       "                        <th id=\"T_142bf_level0_row3\" class=\"row_heading level0 row3\" >4 Any Race, Hispanic</th>\n",
       "                        <td id=\"T_142bf_row3_col0\" class=\"data row3 col0\" >2738</td>\n",
       "                        <td id=\"T_142bf_row3_col1\" class=\"data row3 col1\" >25</td>\n",
       "                        <td id=\"T_142bf_row3_col2\" class=\"data row3 col2\" >57</td>\n",
       "                        <td id=\"T_142bf_row3_col3\" class=\"data row3 col3\" >6</td>\n",
       "                        <td id=\"T_142bf_row3_col4\" class=\"data row3 col4\" >1520</td>\n",
       "                        <td id=\"T_142bf_row3_col5\" class=\"data row3 col5\" >184</td>\n",
       "                        <td id=\"T_142bf_row3_col6\" class=\"data row3 col6\" >4530</td>\n",
       "            </tr>\n",
       "            <tr>\n",
       "                        <th id=\"T_142bf_level0_row4\" class=\"row_heading level0 row4\" >Total</th>\n",
       "                        <td id=\"T_142bf_row4_col0\" class=\"data row4 col0\" >13650</td>\n",
       "                        <td id=\"T_142bf_row4_col1\" class=\"data row4 col1\" >3632</td>\n",
       "                        <td id=\"T_142bf_row4_col2\" class=\"data row4 col2\" >83</td>\n",
       "                        <td id=\"T_142bf_row4_col3\" class=\"data row4 col3\" >613</td>\n",
       "                        <td id=\"T_142bf_row4_col4\" class=\"data row4 col4\" >1524</td>\n",
       "                        <td id=\"T_142bf_row4_col5\" class=\"data row4 col5\" >329</td>\n",
       "                        <td id=\"T_142bf_row4_col6\" class=\"data row4 col6\" >19831</td>\n",
       "            </tr>\n",
       "    </tbody></table>"
      ],
      "text/plain": [
       "<pandas.io.formats.style.Styler at 0x7f2372df9810>"
      ]
     },
     "execution_count": 10,
     "metadata": {},
     "output_type": "execute_result"
    }
   ],
   "source": [
    "hua_df['Race Ethnicity'] = \"0 Vacant HU No Race Ethnicity Data\"\n",
    "hua_df['Race Ethnicity'].notes = \"Identify Race and Ethnicity Housing Unit Characteristics.\"\n",
    "\n",
    "hua_df.loc[(hua_df['race'] == 1) & (hua_df['hispan'] == 0),'Race Ethnicity'] = \"1 White alone, Not Hispanic\"\n",
    "hua_df.loc[(hua_df['race'] == 2) & (hua_df['hispan'] == 0),'Race Ethnicity'] = \"2 Black alone, Not Hispanic\"\n",
    "hua_df.loc[(hua_df['race'].isin([3,4,5,6,7])) & (hua_df['hispan'] == 0),'Race Ethnicity'] = \"3 Other Race, Not Hispanic\"\n",
    "hua_df.loc[(hua_df['hispan'] == 1),'Race Ethnicity'] = \"4 Any Race, Hispanic\"\n",
    "hua_df.loc[(hua_df['gqtype'] >= 1),'Race Ethnicity'] = \"5 Group Quarters no Race Ethnicity Data\"\n",
    "\n",
    "# Check new variable\n",
    "table_title = \"Confirm housing unit characteristic by Race and Ethnicity.\"\n",
    "pd.crosstab(hua_df['Race Ethnicity'], hua_df['race'], \n",
    "            margins=True, margins_name=\"Total\").style.set_caption(table_title)"
   ]
  },
  {
   "cell_type": "code",
   "execution_count": 11,
   "metadata": {},
   "outputs": [
    {
     "data": {
      "text/html": [
       "<style  type=\"text/css\" >\n",
       "</style><table id=\"T_7f8b0_\" ><caption>Confirm housing unit characteristic by Race and Ethnicity.</caption><thead>    <tr>        <th class=\"index_name level0\" >hispan</th>        <th class=\"col_heading level0 col0\" >0.0</th>        <th class=\"col_heading level0 col1\" >1.0</th>        <th class=\"col_heading level0 col2\" >Total</th>    </tr>    <tr>        <th class=\"index_name level0\" >Race Ethnicity</th>        <th class=\"blank\" ></th>        <th class=\"blank\" ></th>        <th class=\"blank\" ></th>    </tr></thead><tbody>\n",
       "                <tr>\n",
       "                        <th id=\"T_7f8b0_level0_row0\" class=\"row_heading level0 row0\" >1 White alone, Not Hispanic</th>\n",
       "                        <td id=\"T_7f8b0_row0_col0\" class=\"data row0 col0\" >10912</td>\n",
       "                        <td id=\"T_7f8b0_row0_col1\" class=\"data row0 col1\" >0</td>\n",
       "                        <td id=\"T_7f8b0_row0_col2\" class=\"data row0 col2\" >10912</td>\n",
       "            </tr>\n",
       "            <tr>\n",
       "                        <th id=\"T_7f8b0_level0_row1\" class=\"row_heading level0 row1\" >2 Black alone, Not Hispanic</th>\n",
       "                        <td id=\"T_7f8b0_row1_col0\" class=\"data row1 col0\" >3607</td>\n",
       "                        <td id=\"T_7f8b0_row1_col1\" class=\"data row1 col1\" >0</td>\n",
       "                        <td id=\"T_7f8b0_row1_col2\" class=\"data row1 col2\" >3607</td>\n",
       "            </tr>\n",
       "            <tr>\n",
       "                        <th id=\"T_7f8b0_level0_row2\" class=\"row_heading level0 row2\" >3 Other Race, Not Hispanic</th>\n",
       "                        <td id=\"T_7f8b0_row2_col0\" class=\"data row2 col0\" >782</td>\n",
       "                        <td id=\"T_7f8b0_row2_col1\" class=\"data row2 col1\" >0</td>\n",
       "                        <td id=\"T_7f8b0_row2_col2\" class=\"data row2 col2\" >782</td>\n",
       "            </tr>\n",
       "            <tr>\n",
       "                        <th id=\"T_7f8b0_level0_row3\" class=\"row_heading level0 row3\" >4 Any Race, Hispanic</th>\n",
       "                        <td id=\"T_7f8b0_row3_col0\" class=\"data row3 col0\" >0</td>\n",
       "                        <td id=\"T_7f8b0_row3_col1\" class=\"data row3 col1\" >4530</td>\n",
       "                        <td id=\"T_7f8b0_row3_col2\" class=\"data row3 col2\" >4530</td>\n",
       "            </tr>\n",
       "            <tr>\n",
       "                        <th id=\"T_7f8b0_level0_row4\" class=\"row_heading level0 row4\" >Total</th>\n",
       "                        <td id=\"T_7f8b0_row4_col0\" class=\"data row4 col0\" >15301</td>\n",
       "                        <td id=\"T_7f8b0_row4_col1\" class=\"data row4 col1\" >4530</td>\n",
       "                        <td id=\"T_7f8b0_row4_col2\" class=\"data row4 col2\" >19831</td>\n",
       "            </tr>\n",
       "    </tbody></table>"
      ],
      "text/plain": [
       "<pandas.io.formats.style.Styler at 0x7f2372d8ac50>"
      ]
     },
     "execution_count": 11,
     "metadata": {},
     "output_type": "execute_result"
    }
   ],
   "source": [
    "# Check new variable\n",
    "table_title = \"Confirm housing unit characteristic by Race and Ethnicity.\"\n",
    "pd.crosstab(hua_df['Race Ethnicity'], hua_df['hispan'], \n",
    "            margins=True, margins_name=\"Total\").style.set_caption(table_title)"
   ]
  },
  {
   "cell_type": "code",
   "execution_count": 12,
   "metadata": {},
   "outputs": [],
   "source": [
    "table_title = \"Table 1. Housing Unit Characteristics by Race and Ethnicity\"\n",
    "table1 = pd.pivot_table(hua_df, values='numprec', index=['Race Ethnicity'],\n",
    "                              margins = True, margins_name = 'Total',\n",
    "                              aggfunc=[len, np.sum], \n",
    "                              fill_value=0).reset_index().rename(\n",
    "                                                            columns={'len': 'Housing Unit',\n",
    "                                                                     'sum' : 'Population',\n",
    "                                                                     'numprec': 'Count'})\n",
    "\n",
    "varformat = {('Housing Unit','Count'): \"{:,}\", ('Population','Count'): \"{:,}\"}"
   ]
  },
  {
   "cell_type": "code",
   "execution_count": 13,
   "metadata": {},
   "outputs": [
    {
     "data": {
      "text/html": [
       "<style  type=\"text/css\" >\n",
       "    #T_7c10b_ th {\n",
       "          text-align: center;\n",
       "    }</style><table id=\"T_7c10b_\" ><caption>Table 1. Housing Unit Characteristics by Race and Ethnicity</caption><thead>    <tr>        <th class=\"blank level0\" ></th>        <th class=\"col_heading level0 col0\" >Race Ethnicity</th>        <th class=\"col_heading level0 col1\" >Housing Unit</th>        <th class=\"col_heading level0 col2\" >Population</th>    </tr>    <tr>        <th class=\"blank level1\" ></th>        <th class=\"col_heading level1 col0\" ></th>        <th class=\"col_heading level1 col1\" >Count</th>        <th class=\"col_heading level1 col2\" >Count</th>    </tr></thead><tbody>\n",
       "                <tr>\n",
       "                        <th id=\"T_7c10b_level0_row0\" class=\"row_heading level0 row0\" >0</th>\n",
       "                        <td id=\"T_7c10b_row0_col0\" class=\"data row0 col0\" >0 Vacant HU No Race Ethnicity Data</td>\n",
       "                        <td id=\"T_7c10b_row0_col1\" class=\"data row0 col1\" >12,657</td>\n",
       "                        <td id=\"T_7c10b_row0_col2\" class=\"data row0 col2\" >0</td>\n",
       "            </tr>\n",
       "            <tr>\n",
       "                        <th id=\"T_7c10b_level0_row1\" class=\"row_heading level0 row1\" >1</th>\n",
       "                        <td id=\"T_7c10b_row1_col0\" class=\"data row1 col0\" >1 White alone, Not Hispanic</td>\n",
       "                        <td id=\"T_7c10b_row1_col1\" class=\"data row1 col1\" >10,912</td>\n",
       "                        <td id=\"T_7c10b_row1_col2\" class=\"data row1 col2\" >21,220</td>\n",
       "            </tr>\n",
       "            <tr>\n",
       "                        <th id=\"T_7c10b_level0_row2\" class=\"row_heading level0 row2\" >2</th>\n",
       "                        <td id=\"T_7c10b_row2_col0\" class=\"data row2 col0\" >2 Black alone, Not Hispanic</td>\n",
       "                        <td id=\"T_7c10b_row2_col1\" class=\"data row2 col1\" >3,607</td>\n",
       "                        <td id=\"T_7c10b_row2_col2\" class=\"data row2 col2\" >8,302</td>\n",
       "            </tr>\n",
       "            <tr>\n",
       "                        <th id=\"T_7c10b_level0_row3\" class=\"row_heading level0 row3\" >3</th>\n",
       "                        <td id=\"T_7c10b_row3_col0\" class=\"data row3 col0\" >3 Other Race, Not Hispanic</td>\n",
       "                        <td id=\"T_7c10b_row3_col1\" class=\"data row3 col1\" >782</td>\n",
       "                        <td id=\"T_7c10b_row3_col2\" class=\"data row3 col2\" >1,698</td>\n",
       "            </tr>\n",
       "            <tr>\n",
       "                        <th id=\"T_7c10b_level0_row4\" class=\"row_heading level0 row4\" >4</th>\n",
       "                        <td id=\"T_7c10b_row4_col0\" class=\"data row4 col0\" >4 Any Race, Hispanic</td>\n",
       "                        <td id=\"T_7c10b_row4_col1\" class=\"data row4 col1\" >4,530</td>\n",
       "                        <td id=\"T_7c10b_row4_col2\" class=\"data row4 col2\" >13,424</td>\n",
       "            </tr>\n",
       "            <tr>\n",
       "                        <th id=\"T_7c10b_level0_row5\" class=\"row_heading level0 row5\" >5</th>\n",
       "                        <td id=\"T_7c10b_row5_col0\" class=\"data row5 col0\" >5 Group Quarters no Race Ethnicity Data</td>\n",
       "                        <td id=\"T_7c10b_row5_col1\" class=\"data row5 col1\" >13</td>\n",
       "                        <td id=\"T_7c10b_row5_col2\" class=\"data row5 col2\" >240</td>\n",
       "            </tr>\n",
       "            <tr>\n",
       "                        <th id=\"T_7c10b_level0_row6\" class=\"row_heading level0 row6\" >6</th>\n",
       "                        <td id=\"T_7c10b_row6_col0\" class=\"data row6 col0\" >Total</td>\n",
       "                        <td id=\"T_7c10b_row6_col1\" class=\"data row6 col1\" >32,501</td>\n",
       "                        <td id=\"T_7c10b_row6_col2\" class=\"data row6 col2\" >44,884</td>\n",
       "            </tr>\n",
       "    </tbody></table>"
      ],
      "text/plain": [
       "<pandas.io.formats.style.Styler at 0x7f23150f1b90>"
      ]
     },
     "execution_count": 13,
     "metadata": {},
     "output_type": "execute_result"
    }
   ],
   "source": [
    "table1.style.set_caption(table_title).format(varformat).set_table_styles([\n",
    "    dict(selector='th', props=[('text-align', 'center')]),])"
   ]
  },
  {
   "cell_type": "markdown",
   "metadata": {},
   "source": [
    "## Validate the Housing Unit Allocation has worked\n",
    "Notice that the population count totals for the community should match (pretty closely) data collected for the 2010 Decennial Census.\n",
    "This can be confirmed by going to data.census.gov\n",
    "\n",
    "https://data.census.gov/cedsci/table?q=DECENNIALPL2010.P1&g=1600000US4828068,4837252&tid=DECENNIALSF12010.P1\n",
    "    \n",
    "Differences in the housing unit allocation and the Census count may be due to differences between political boundaries and the building inventory. See Rosenheim et al 2019 for more details.\n",
    "\n",
    "The housing unit allocation, plus the building dresults will become the input for the dislocation model."
   ]
  },
  {
   "cell_type": "code",
   "execution_count": 14,
   "metadata": {},
   "outputs": [],
   "source": [
    "# Save cleaned HUA file as CSV\n",
    "hua_df.to_csv(result_name+str(seed)+'_cleaned.csv')"
   ]
  }
 ],
 "metadata": {
  "kernelspec": {
   "display_name": "Python 3",
   "language": "python",
   "name": "python3"
  },
  "language_info": {
   "codemirror_mode": {
    "name": "ipython",
    "version": 3
   },
   "file_extension": ".py",
   "mimetype": "text/x-python",
   "name": "python",
   "nbconvert_exporter": "python",
   "pygments_lexer": "ipython3",
   "version": "3.7.10"
  }
 },
 "nbformat": 4,
 "nbformat_minor": 4
}
