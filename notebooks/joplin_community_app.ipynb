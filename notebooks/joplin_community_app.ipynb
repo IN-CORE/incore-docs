{
 "cells": [
  {
   "cell_type": "code",
   "execution_count": 59,
   "id": "f6eb665d-7002-44c6-9156-177584e479a3",
   "metadata": {},
   "outputs": [],
   "source": [
    "import pandas as pd\n",
    "import os\n",
    "import json\n",
    "from pathlib import Path\n",
    "import contextily as ctx\n",
    "import geopandas as gpd\n",
    "import numpy as np\n",
    "import matplotlib.pyplot as plt\n",
    "import random\n",
    "\n",
    "from pyincore import IncoreClient, DataService, HazardService, Dataset, FragilityService, MappingSet\n",
    "from pyincore import HHRSOutputProcess\n",
    "\n",
    "from pyincore.analyses.capitalshocks import CapitalShocks\n",
    "from pyincore.analyses.buildingfunctionality import BuildingFunctionality\n",
    "from pyincore.analyses.buildingdamage import BuildingDamage\n",
    "from pyincore.analyses.epfdamage import EpfDamage\n",
    "from pyincore.utils.dataprocessutil import DataProcessUtil\n",
    "from pyincore.analyses.montecarlofailureprobability import MonteCarloFailureProbability \n",
    "from pyincore.analyses.joplincge import JoplinCGEModel\n",
    "from pyincore.analyses.housingrecoverysequential import HousingRecoverySequential\n",
    "from pyincore.analyses.socialvulnerability import SocialVulnerability\n",
    "from pyincore.analyses.populationdislocation import PopulationDislocation, PopulationDislocationUtil\n",
    "from pyincore.utils.dataprocessutil import DataProcessUtil as util"
   ]
  },
  {
   "cell_type": "markdown",
   "id": "71c769f2-d268-4fd5-bd8f-eb807f454911",
   "metadata": {},
   "source": [
    "2. Building Damage Analysis\n",
    "The following steps are applied for analysis\n",
    "\n",
    "2.1 IN-CORE Client and Services\n",
    "2.2 Import Building data\n",
    "2.3 Specify Hazard and Fragility\n",
    "2.4 Setup and Run Damage analysis\n",
    "2.5 Plot Results\n",
    "2.6 Monte Carlo Simulation (MCS)"
   ]
  },
  {
   "cell_type": "markdown",
   "id": "20a6514a-e67a-47cf-92a3-ffc47a99e477",
   "metadata": {},
   "source": [
    "2.1 IN-CORE Client and Services"
   ]
  },
  {
   "cell_type": "code",
   "execution_count": 60,
   "id": "54a9254e-794b-4625-bdac-e34fd46fe42c",
   "metadata": {},
   "outputs": [
    {
     "name": "stdout",
     "output_type": "stream",
     "text": [
      "Connection successful to IN-CORE services. pyIncore version detected: 1.18.0\n"
     ]
    }
   ],
   "source": [
    "# Create IN-CORE client and connection to services\n",
    "client = IncoreClient()\n",
    "data_services = DataService(client)"
   ]
  },
  {
   "cell_type": "markdown",
   "id": "62a75b1c-24d3-447f-b397-659533bb6d4b",
   "metadata": {},
   "source": [
    "2.2 Import Building data"
   ]
  },
  {
   "cell_type": "code",
   "execution_count": 61,
   "id": "986facd2-6024-4c97-a419-a4d4b345e407",
   "metadata": {},
   "outputs": [
    {
     "name": "stdout",
     "output_type": "stream",
     "text": [
      "Dataset already exists locally. Reading from local cached zip.\n",
      "Unzipped folder found in the local cache. Reading from it...\n"
     ]
    }
   ],
   "source": [
    "building_dataset_id = \"5dbc8478b9219c06dd242c0d\"  # Load the Joplin building dataset.\n",
    "buildings = Dataset.from_data_service(building_dataset_id, data_services)\n",
    "\n",
    "archetype_mapping = \"5fca92781ab3d87c35db1e54\""
   ]
  },
  {
   "cell_type": "markdown",
   "id": "76e86ea5-48a1-4117-8271-2d86f58c8f7d",
   "metadata": {},
   "source": [
    "2.3 Specify Hazard and Fragility"
   ]
  },
  {
   "cell_type": "code",
   "execution_count": 62,
   "id": "0553f33f-b404-4699-82c2-752d367a016a",
   "metadata": {},
   "outputs": [],
   "source": [
    "hazard_type = \"tornado\"\n",
    "hazard_id = \"5d07cbeab9219c065b080930\"  # The simulated EF-5 tornado shows geographical locations and the range\n",
    "                                        # of wind speed of tornado hazard in Joplin.\n",
    "\n",
    "fragility_service = FragilityService(client)\n",
    "mapping_id = \"5d8942dfb9219c068ea795ea\" # Create a mapping to assign tornado fragilities to 19 building archetypes.\n",
    "mapping_set = MappingSet(fragility_service.get_mapping(mapping_id))"
   ]
  },
  {
   "cell_type": "markdown",
   "id": "c655ca2b-e8f6-4141-a91b-2eb8f7a83f1f",
   "metadata": {},
   "source": [
    "2.4 Setup and Run Damage analysis"
   ]
  },
  {
   "cell_type": "code",
   "execution_count": 63,
   "id": "2ded75fd-a7c2-48fd-9f33-2d6228efe781",
   "metadata": {},
   "outputs": [
    {
     "data": {
      "text/plain": [
       "True"
      ]
     },
     "execution_count": 63,
     "metadata": {},
     "output_type": "execute_result"
    }
   ],
   "source": [
    "# Analysis setup\n",
    "result_name = \"Joplin_bldg_dmg_result\"\n",
    "\n",
    "bldg_dmg = BuildingDamage(client)\n",
    "bldg_dmg.set_input_dataset(\"buildings\", buildings)\n",
    "bldg_dmg.set_input_dataset('dfr3_mapping_set', mapping_set)\n",
    "bldg_dmg.set_parameter(\"result_name\", result_name)\n",
    "bldg_dmg.set_parameter(\"hazard_type\", hazard_type)\n",
    "bldg_dmg.set_parameter(\"hazard_id\", hazard_id)\n",
    "bldg_dmg.set_parameter(\"num_cpu\", 4)\n",
    "\n",
    "# Run building damage\n",
    "bldg_dmg.run_analysis()"
   ]
  },
  {
   "cell_type": "markdown",
   "id": "37f1a22a-f40e-4808-b2ab-1939ce2442f1",
   "metadata": {},
   "source": [
    "2.5 Plot analysis results"
   ]
  },
  {
   "cell_type": "code",
   "execution_count": 64,
   "id": "6f265e78-8e8b-4416-b834-4cf8525de669",
   "metadata": {},
   "outputs": [
    {
     "data": {
      "text/html": [
       "<div>\n",
       "<style scoped>\n",
       "    .dataframe tbody tr th:only-of-type {\n",
       "        vertical-align: middle;\n",
       "    }\n",
       "\n",
       "    .dataframe tbody tr th {\n",
       "        vertical-align: top;\n",
       "    }\n",
       "\n",
       "    .dataframe thead th {\n",
       "        text-align: right;\n",
       "    }\n",
       "</style>\n",
       "<table border=\"1\" class=\"dataframe\">\n",
       "  <thead>\n",
       "    <tr style=\"text-align: right;\">\n",
       "      <th></th>\n",
       "      <th>guid</th>\n",
       "      <th>LS_0</th>\n",
       "      <th>LS_1</th>\n",
       "      <th>LS_2</th>\n",
       "      <th>DS_0</th>\n",
       "      <th>DS_1</th>\n",
       "      <th>DS_2</th>\n",
       "      <th>DS_3</th>\n",
       "      <th>haz_expose</th>\n",
       "    </tr>\n",
       "  </thead>\n",
       "  <tbody>\n",
       "    <tr>\n",
       "      <th>0</th>\n",
       "      <td>b497b88f-a4ba-48b1-8438-5cfc68147cfc</td>\n",
       "      <td>0.0</td>\n",
       "      <td>0.0</td>\n",
       "      <td>0.0</td>\n",
       "      <td>1.0</td>\n",
       "      <td>0.0</td>\n",
       "      <td>0.0</td>\n",
       "      <td>0.0</td>\n",
       "      <td>no</td>\n",
       "    </tr>\n",
       "    <tr>\n",
       "      <th>1</th>\n",
       "      <td>6eadcc3e-7bb5-463a-aca8-f1d16f8ac7cc</td>\n",
       "      <td>0.0</td>\n",
       "      <td>0.0</td>\n",
       "      <td>0.0</td>\n",
       "      <td>1.0</td>\n",
       "      <td>0.0</td>\n",
       "      <td>0.0</td>\n",
       "      <td>0.0</td>\n",
       "      <td>no</td>\n",
       "    </tr>\n",
       "    <tr>\n",
       "      <th>2</th>\n",
       "      <td>758fb3de-108a-4e04-895e-fdc4b8627876</td>\n",
       "      <td>0.0</td>\n",
       "      <td>0.0</td>\n",
       "      <td>0.0</td>\n",
       "      <td>1.0</td>\n",
       "      <td>0.0</td>\n",
       "      <td>0.0</td>\n",
       "      <td>0.0</td>\n",
       "      <td>no</td>\n",
       "    </tr>\n",
       "    <tr>\n",
       "      <th>3</th>\n",
       "      <td>7b706697-bf9b-4883-90f6-862d67a8e64b</td>\n",
       "      <td>0.0</td>\n",
       "      <td>0.0</td>\n",
       "      <td>0.0</td>\n",
       "      <td>1.0</td>\n",
       "      <td>0.0</td>\n",
       "      <td>0.0</td>\n",
       "      <td>0.0</td>\n",
       "      <td>no</td>\n",
       "    </tr>\n",
       "    <tr>\n",
       "      <th>4</th>\n",
       "      <td>19c91f9b-f679-4263-b7a3-e76fd859c4b1</td>\n",
       "      <td>0.0</td>\n",
       "      <td>0.0</td>\n",
       "      <td>0.0</td>\n",
       "      <td>1.0</td>\n",
       "      <td>0.0</td>\n",
       "      <td>0.0</td>\n",
       "      <td>0.0</td>\n",
       "      <td>no</td>\n",
       "    </tr>\n",
       "  </tbody>\n",
       "</table>\n",
       "</div>"
      ],
      "text/plain": [
       "                                   guid  LS_0  LS_1  LS_2  DS_0  DS_1  DS_2  \\\n",
       "0  b497b88f-a4ba-48b1-8438-5cfc68147cfc   0.0   0.0   0.0   1.0   0.0   0.0   \n",
       "1  6eadcc3e-7bb5-463a-aca8-f1d16f8ac7cc   0.0   0.0   0.0   1.0   0.0   0.0   \n",
       "2  758fb3de-108a-4e04-895e-fdc4b8627876   0.0   0.0   0.0   1.0   0.0   0.0   \n",
       "3  7b706697-bf9b-4883-90f6-862d67a8e64b   0.0   0.0   0.0   1.0   0.0   0.0   \n",
       "4  19c91f9b-f679-4263-b7a3-e76fd859c4b1   0.0   0.0   0.0   1.0   0.0   0.0   \n",
       "\n",
       "   DS_3 haz_expose  \n",
       "0   0.0         no  \n",
       "1   0.0         no  \n",
       "2   0.0         no  \n",
       "3   0.0         no  \n",
       "4   0.0         no  "
      ]
     },
     "execution_count": 64,
     "metadata": {},
     "output_type": "execute_result"
    }
   ],
   "source": [
    "# Print out 5 records from the analysis results\n",
    "bldg_dmg.get_output_dataset('ds_result').get_dataframe_from_csv().head()"
   ]
  },
  {
   "cell_type": "code",
   "execution_count": 65,
   "id": "ebb5e77b-26ae-4d97-80d7-1a94a002847e",
   "metadata": {},
   "outputs": [
    {
     "name": "stdout",
     "output_type": "stream",
     "text": [
      "Dataset already exists locally. Reading from local cached zip.\n",
      "Unzipped folder found in the local cache. Reading from it...\n",
      "    archetype                category  \\\n",
      "0        12.0     Critical Facilities   \n",
      "1        14.0     Critical Facilities   \n",
      "2        11.0     Critical Facilities   \n",
      "3         NaN     Critical Facilities   \n",
      "4         NaN      Emergency Housing    \n",
      "5         NaN      Emergency Housing    \n",
      "6         NaN      Emergency Housing    \n",
      "7         NaN  Housing / Neighborhood   \n",
      "8        13.0  Housing / Neighborhood   \n",
      "9         1.0  Housing / Neighborhood   \n",
      "10        2.0  Housing / Neighborhood   \n",
      "11        3.0  Housing / Neighborhood   \n",
      "12        4.0  Housing / Neighborhood   \n",
      "13        5.0  Housing / Neighborhood   \n",
      "14       17.0  Housing / Neighborhood   \n",
      "15        NaN  Housing / Neighborhood   \n",
      "16        9.0  Housing / Neighborhood   \n",
      "17       10.0  Housing / Neighborhood   \n",
      "18        NaN  Housing / Neighborhood   \n",
      "19        NaN  Housing / Neighborhood   \n",
      "20        7.0      Community Recovery   \n",
      "21        8.0      Community Recovery   \n",
      "22        6.0      Community Recovery   \n",
      "23       15.0      Community Recovery   \n",
      "24       16.0      Community Recovery   \n",
      "25       18.0      Community Recovery   \n",
      "26       19.0      Community Recovery   \n",
      "27        NaN      Community Recovery   \n",
      "28        NaN      Community Recovery   \n",
      "\n",
      "                                              cluster  \n",
      "0             Critical Medical - Acute Care Hospitals  \n",
      "1                        Emergency Operations Centers  \n",
      "2    Critical Government - First Responder Facilities  \n",
      "3   Non-ambulatory Facilities - Prisons, nursing h...  \n",
      "4                                  Emergency Shelters  \n",
      "5                                 Residential Housing  \n",
      "6                                SFH and Multi-family  \n",
      "7                                     Critical Retail  \n",
      "8                     Religious and Spiritual Centers  \n",
      "9                                 Residential Housing  \n",
      "10                                Residential Housing  \n",
      "11                                Residential Housing  \n",
      "12                                Residential Housing  \n",
      "13                                Residential Housing  \n",
      "14                                Residential Housing  \n",
      "15                               SFH and Multi-family  \n",
      "16                                       K-12 Schools  \n",
      "17                                       K-12 Schools  \n",
      "18                                 Child Care Centers  \n",
      "19                                  Hotels and Motels  \n",
      "20                           Business - Manufacturing  \n",
      "21                           Business - Manufacturing  \n",
      "22                      Business - Commodity Services  \n",
      "23                      Business - Commodity Services  \n",
      "24                      Business - Commodity Services  \n",
      "25                      Business - Commodity Services  \n",
      "26                     Business - Service Professions  \n",
      "27                          Conference & Event Venues  \n",
      "28                                              Other  \n",
      "                                       guid  max_prob max_state\n",
      "0      b497b88f-a4ba-48b1-8438-5cfc68147cfc       1.0      DS_0\n",
      "1      6eadcc3e-7bb5-463a-aca8-f1d16f8ac7cc       1.0      DS_0\n",
      "2      758fb3de-108a-4e04-895e-fdc4b8627876       1.0      DS_0\n",
      "3      7b706697-bf9b-4883-90f6-862d67a8e64b       1.0      DS_0\n",
      "4      19c91f9b-f679-4263-b7a3-e76fd859c4b1       1.0      DS_0\n",
      "...                                     ...       ...       ...\n",
      "28147  f997af99-0124-4319-8bde-57bd4b1f521b       1.0      DS_0\n",
      "28148  0d31cb6b-c16b-4ac8-ade3-a507a17a4a35       1.0      DS_0\n",
      "28149  e8e4e182-dbd0-4464-9b0f-841f4f775c15       1.0      DS_0\n",
      "28150  22dae85e-f4c0-4aaf-adf1-e92b769ca72d       1.0      DS_0\n",
      "28151  3ee4715c-d253-4f10-ba18-d680e5364eb3       1.0      DS_0\n",
      "\n",
      "[28152 rows x 3 columns]\n",
      "{'by_cluster': [{'category': 'Critical Facilities', 'cluster': 'Critical Medical - Acute Care Hospitals', 'Insignificant': 20, 'Moderate': 9, 'Extensive': 4, 'Complete': 8}, {'category': 'Critical Facilities', 'cluster': 'Emergency Operations Centers', 'Insignificant': 21, 'Moderate': 2, 'Extensive': 3, 'Complete': 2}, {'category': 'Critical Facilities', 'cluster': 'Critical Government - First Responder Facilities', 'Insignificant': 7, 'Moderate': 0, 'Extensive': 1, 'Complete': 0}, {'category': 'Critical Facilities', 'cluster': 'Non-ambulatory Facilities - Prisons, nursing homes, etc.', 'Insignificant': -1, 'Moderate': -1, 'Extensive': -1, 'Complete': -1}, {'category': 'Emergency Housing ', 'cluster': 'Emergency Shelters', 'Insignificant': -1, 'Moderate': -1, 'Extensive': -1, 'Complete': -1}, {'category': 'Emergency Housing ', 'cluster': 'Residential Housing', 'Insignificant': -1, 'Moderate': -1, 'Extensive': -1, 'Complete': -1}, {'category': 'Emergency Housing ', 'cluster': 'SFH and Multi-family', 'Insignificant': -1, 'Moderate': -1, 'Extensive': -1, 'Complete': -1}, {'category': 'Housing / Neighborhood', 'cluster': 'Critical Retail', 'Insignificant': -1, 'Moderate': -1, 'Extensive': -1, 'Complete': -1}, {'category': 'Housing / Neighborhood', 'cluster': 'Religious and Spiritual Centers', 'Insignificant': 67, 'Moderate': 7, 'Extensive': 6, 'Complete': 8}, {'category': 'Housing / Neighborhood', 'cluster': 'Residential Housing', 'Insignificant': 21012, 'Moderate': 10, 'Extensive': 1, 'Complete': 4259}, {'category': 'Housing / Neighborhood', 'cluster': 'SFH and Multi-family', 'Insignificant': -1, 'Moderate': -1, 'Extensive': -1, 'Complete': -1}, {'category': 'Housing / Neighborhood', 'cluster': 'K-12 Schools', 'Insignificant': 73, 'Moderate': 3, 'Extensive': 3, 'Complete': 10}, {'category': 'Housing / Neighborhood', 'cluster': 'Child Care Centers', 'Insignificant': -1, 'Moderate': -1, 'Extensive': -1, 'Complete': -1}, {'category': 'Housing / Neighborhood', 'cluster': 'Hotels and Motels', 'Insignificant': -1, 'Moderate': -1, 'Extensive': -1, 'Complete': -1}, {'category': 'Community Recovery', 'cluster': 'Business - Manufacturing', 'Insignificant': 964, 'Moderate': 22, 'Extensive': 7, 'Complete': 125}, {'category': 'Community Recovery', 'cluster': 'Business - Commodity Services', 'Insignificant': 600, 'Moderate': 54, 'Extensive': 22, 'Complete': 121}, {'category': 'Community Recovery', 'cluster': 'Business - Service Professions', 'Insignificant': 474, 'Moderate': 77, 'Extensive': 20, 'Complete': 130}, {'category': 'Community Recovery', 'cluster': 'Conference & Event Venues', 'Insignificant': -1, 'Moderate': -1, 'Extensive': -1, 'Complete': -1}, {'category': 'Community Recovery', 'cluster': 'Other', 'Insignificant': -1, 'Moderate': -1, 'Extensive': -1, 'Complete': -1}], 'by_category': [{'category': 'Critical Facilities', 'cluster': 'Critical Medical - Acute Care HospitalsEmergency Operations CentersCritical Government - First Responder FacilitiesNon-ambulatory Facilities - Prisons, nursing homes, etc.', 'Insignificant': 48, 'Moderate': 11, 'Extensive': 8, 'Complete': 10}, {'category': 'Emergency Housing ', 'cluster': 'Emergency SheltersResidential HousingSFH and Multi-family', 'Insignificant': -1, 'Moderate': -1, 'Extensive': -1, 'Complete': -1}, {'category': 'Housing / Neighborhood', 'cluster': 'Critical RetailReligious and Spiritual CentersResidential HousingSFH and Multi-familyK-12 SchoolsChild Care CentersHotels and Motels', 'Insignificant': 21152, 'Moderate': 20, 'Extensive': 10, 'Complete': 4277}, {'category': 'Community Recovery', 'cluster': 'Business - ManufacturingBusiness - Commodity ServicesBusiness - Service ProfessionsConference & Event VenuesOther', 'Insignificant': 2038, 'Moderate': 153, 'Extensive': 49, 'Complete': 376}]}\n"
     ]
    },
    {
     "data": {
      "text/html": [
       "<div>\n",
       "<style scoped>\n",
       "    .dataframe tbody tr th:only-of-type {\n",
       "        vertical-align: middle;\n",
       "    }\n",
       "\n",
       "    .dataframe tbody tr th {\n",
       "        vertical-align: top;\n",
       "    }\n",
       "\n",
       "    .dataframe thead th {\n",
       "        text-align: right;\n",
       "    }\n",
       "</style>\n",
       "<table border=\"1\" class=\"dataframe\">\n",
       "  <thead>\n",
       "    <tr style=\"text-align: right;\">\n",
       "      <th></th>\n",
       "      <th>guid</th>\n",
       "      <th>archetype</th>\n",
       "      <th>geometry</th>\n",
       "      <th>LS_0</th>\n",
       "      <th>LS_1</th>\n",
       "      <th>LS_2</th>\n",
       "      <th>DS_0</th>\n",
       "      <th>DS_1</th>\n",
       "      <th>DS_2</th>\n",
       "      <th>DS_3</th>\n",
       "      <th>haz_expose</th>\n",
       "    </tr>\n",
       "  </thead>\n",
       "  <tbody>\n",
       "    <tr>\n",
       "      <th>0</th>\n",
       "      <td>b497b88f-a4ba-48b1-8438-5cfc68147cfc</td>\n",
       "      <td>1</td>\n",
       "      <td>POINT (-94.51719 37.09726)</td>\n",
       "      <td>0.0</td>\n",
       "      <td>0.0</td>\n",
       "      <td>0.0</td>\n",
       "      <td>1.0</td>\n",
       "      <td>0.0</td>\n",
       "      <td>0.0</td>\n",
       "      <td>0.0</td>\n",
       "      <td>no</td>\n",
       "    </tr>\n",
       "    <tr>\n",
       "      <th>1</th>\n",
       "      <td>6eadcc3e-7bb5-463a-aca8-f1d16f8ac7cc</td>\n",
       "      <td>1</td>\n",
       "      <td>POINT (-94.51716 37.09740)</td>\n",
       "      <td>0.0</td>\n",
       "      <td>0.0</td>\n",
       "      <td>0.0</td>\n",
       "      <td>1.0</td>\n",
       "      <td>0.0</td>\n",
       "      <td>0.0</td>\n",
       "      <td>0.0</td>\n",
       "      <td>no</td>\n",
       "    </tr>\n",
       "    <tr>\n",
       "      <th>2</th>\n",
       "      <td>758fb3de-108a-4e04-895e-fdc4b8627876</td>\n",
       "      <td>1</td>\n",
       "      <td>POINT (-94.51690 37.09756)</td>\n",
       "      <td>0.0</td>\n",
       "      <td>0.0</td>\n",
       "      <td>0.0</td>\n",
       "      <td>1.0</td>\n",
       "      <td>0.0</td>\n",
       "      <td>0.0</td>\n",
       "      <td>0.0</td>\n",
       "      <td>no</td>\n",
       "    </tr>\n",
       "    <tr>\n",
       "      <th>3</th>\n",
       "      <td>7b706697-bf9b-4883-90f6-862d67a8e64b</td>\n",
       "      <td>1</td>\n",
       "      <td>POINT (-94.51712 37.09755)</td>\n",
       "      <td>0.0</td>\n",
       "      <td>0.0</td>\n",
       "      <td>0.0</td>\n",
       "      <td>1.0</td>\n",
       "      <td>0.0</td>\n",
       "      <td>0.0</td>\n",
       "      <td>0.0</td>\n",
       "      <td>no</td>\n",
       "    </tr>\n",
       "    <tr>\n",
       "      <th>4</th>\n",
       "      <td>19c91f9b-f679-4263-b7a3-e76fd859c4b1</td>\n",
       "      <td>1</td>\n",
       "      <td>POINT (-94.51716 37.09768)</td>\n",
       "      <td>0.0</td>\n",
       "      <td>0.0</td>\n",
       "      <td>0.0</td>\n",
       "      <td>1.0</td>\n",
       "      <td>0.0</td>\n",
       "      <td>0.0</td>\n",
       "      <td>0.0</td>\n",
       "      <td>no</td>\n",
       "    </tr>\n",
       "  </tbody>\n",
       "</table>\n",
       "</div>"
      ],
      "text/plain": [
       "                                   guid  archetype  \\\n",
       "0  b497b88f-a4ba-48b1-8438-5cfc68147cfc          1   \n",
       "1  6eadcc3e-7bb5-463a-aca8-f1d16f8ac7cc          1   \n",
       "2  758fb3de-108a-4e04-895e-fdc4b8627876          1   \n",
       "3  7b706697-bf9b-4883-90f6-862d67a8e64b          1   \n",
       "4  19c91f9b-f679-4263-b7a3-e76fd859c4b1          1   \n",
       "\n",
       "                     geometry  LS_0  LS_1  LS_2  DS_0  DS_1  DS_2  DS_3  \\\n",
       "0  POINT (-94.51719 37.09726)   0.0   0.0   0.0   1.0   0.0   0.0   0.0   \n",
       "1  POINT (-94.51716 37.09740)   0.0   0.0   0.0   1.0   0.0   0.0   0.0   \n",
       "2  POINT (-94.51690 37.09756)   0.0   0.0   0.0   1.0   0.0   0.0   0.0   \n",
       "3  POINT (-94.51712 37.09755)   0.0   0.0   0.0   1.0   0.0   0.0   0.0   \n",
       "4  POINT (-94.51716 37.09768)   0.0   0.0   0.0   1.0   0.0   0.0   0.0   \n",
       "\n",
       "  haz_expose  \n",
       "0         no  \n",
       "1         no  \n",
       "2         no  \n",
       "3         no  \n",
       "4         no  "
      ]
     },
     "execution_count": 65,
     "metadata": {},
     "output_type": "execute_result"
    }
   ],
   "source": [
    "# Adding information from inputs into analysis results\n",
    "bldg_dmg_df = bldg_dmg.get_output_dataset(\"ds_result\").get_dataframe_from_csv()\n",
    "bldg_gdf = buildings.get_dataframe_from_shapefile()\n",
    "\n",
    "arch_mapping_ds = Dataset.from_data_service(archetype_mapping, data_services)\n",
    "arch_mapping = arch_mapping_ds.get_dataframe_from_csv()\n",
    "\n",
    "print(arch_mapping)\n",
    "\n",
    "max_dmg_state_df = DataProcessUtil.get_max_damage_state(bldg_dmg_df)\n",
    "print(max_dmg_state_df)\n",
    "\n",
    "ret_json = DataProcessUtil.create_mapped_dmg_result(bldg_gdf, max_dmg_state_df, arch_mapping, \"max_state\", \"archetype\")\n",
    "print(ret_json)\n",
    "\n",
    "bldg_dmg_gdf = bldg_gdf[['guid', 'archetype','geometry']].merge(bldg_dmg_df, on='guid')\n",
    "bldg_dmg_gdf.head()"
   ]
  },
  {
   "cell_type": "markdown",
   "id": "c5fc971b-972d-467e-808b-75458b8dbc31",
   "metadata": {},
   "source": [
    "2.6 Monte Carlo Simulation (MCS)"
   ]
  },
  {
   "cell_type": "code",
   "execution_count": 66,
   "id": "8b6b6440-1862-4c96-b84c-042808e3f064",
   "metadata": {},
   "outputs": [
    {
     "data": {
      "text/html": [
       "<div>\n",
       "<style scoped>\n",
       "    .dataframe tbody tr th:only-of-type {\n",
       "        vertical-align: middle;\n",
       "    }\n",
       "\n",
       "    .dataframe tbody tr th {\n",
       "        vertical-align: top;\n",
       "    }\n",
       "\n",
       "    .dataframe thead th {\n",
       "        text-align: right;\n",
       "    }\n",
       "</style>\n",
       "<table border=\"1\" class=\"dataframe\">\n",
       "  <thead>\n",
       "    <tr style=\"text-align: right;\">\n",
       "      <th></th>\n",
       "      <th>guid</th>\n",
       "      <th>LS_0</th>\n",
       "      <th>LS_1</th>\n",
       "      <th>LS_2</th>\n",
       "      <th>DS_0</th>\n",
       "      <th>DS_1</th>\n",
       "      <th>DS_2</th>\n",
       "      <th>DS_3</th>\n",
       "      <th>haz_expose</th>\n",
       "    </tr>\n",
       "  </thead>\n",
       "  <tbody>\n",
       "    <tr>\n",
       "      <th>0</th>\n",
       "      <td>b497b88f-a4ba-48b1-8438-5cfc68147cfc</td>\n",
       "      <td>0.0</td>\n",
       "      <td>0.0</td>\n",
       "      <td>0.0</td>\n",
       "      <td>1.0</td>\n",
       "      <td>0.0</td>\n",
       "      <td>0.0</td>\n",
       "      <td>0.0</td>\n",
       "      <td>no</td>\n",
       "    </tr>\n",
       "    <tr>\n",
       "      <th>1</th>\n",
       "      <td>6eadcc3e-7bb5-463a-aca8-f1d16f8ac7cc</td>\n",
       "      <td>0.0</td>\n",
       "      <td>0.0</td>\n",
       "      <td>0.0</td>\n",
       "      <td>1.0</td>\n",
       "      <td>0.0</td>\n",
       "      <td>0.0</td>\n",
       "      <td>0.0</td>\n",
       "      <td>no</td>\n",
       "    </tr>\n",
       "    <tr>\n",
       "      <th>2</th>\n",
       "      <td>758fb3de-108a-4e04-895e-fdc4b8627876</td>\n",
       "      <td>0.0</td>\n",
       "      <td>0.0</td>\n",
       "      <td>0.0</td>\n",
       "      <td>1.0</td>\n",
       "      <td>0.0</td>\n",
       "      <td>0.0</td>\n",
       "      <td>0.0</td>\n",
       "      <td>no</td>\n",
       "    </tr>\n",
       "    <tr>\n",
       "      <th>3</th>\n",
       "      <td>7b706697-bf9b-4883-90f6-862d67a8e64b</td>\n",
       "      <td>0.0</td>\n",
       "      <td>0.0</td>\n",
       "      <td>0.0</td>\n",
       "      <td>1.0</td>\n",
       "      <td>0.0</td>\n",
       "      <td>0.0</td>\n",
       "      <td>0.0</td>\n",
       "      <td>no</td>\n",
       "    </tr>\n",
       "    <tr>\n",
       "      <th>4</th>\n",
       "      <td>19c91f9b-f679-4263-b7a3-e76fd859c4b1</td>\n",
       "      <td>0.0</td>\n",
       "      <td>0.0</td>\n",
       "      <td>0.0</td>\n",
       "      <td>1.0</td>\n",
       "      <td>0.0</td>\n",
       "      <td>0.0</td>\n",
       "      <td>0.0</td>\n",
       "      <td>no</td>\n",
       "    </tr>\n",
       "  </tbody>\n",
       "</table>\n",
       "</div>"
      ],
      "text/plain": [
       "                                   guid  LS_0  LS_1  LS_2  DS_0  DS_1  DS_2  \\\n",
       "0  b497b88f-a4ba-48b1-8438-5cfc68147cfc   0.0   0.0   0.0   1.0   0.0   0.0   \n",
       "1  6eadcc3e-7bb5-463a-aca8-f1d16f8ac7cc   0.0   0.0   0.0   1.0   0.0   0.0   \n",
       "2  758fb3de-108a-4e04-895e-fdc4b8627876   0.0   0.0   0.0   1.0   0.0   0.0   \n",
       "3  7b706697-bf9b-4883-90f6-862d67a8e64b   0.0   0.0   0.0   1.0   0.0   0.0   \n",
       "4  19c91f9b-f679-4263-b7a3-e76fd859c4b1   0.0   0.0   0.0   1.0   0.0   0.0   \n",
       "\n",
       "   DS_3 haz_expose  \n",
       "0   0.0         no  \n",
       "1   0.0         no  \n",
       "2   0.0         no  \n",
       "3   0.0         no  \n",
       "4   0.0         no  "
      ]
     },
     "execution_count": 66,
     "metadata": {},
     "output_type": "execute_result"
    }
   ],
   "source": [
    "#### Obtain the building damage results\n",
    "building_dmg_result = bldg_dmg.get_output_dataset('ds_result')\n",
    "\n",
    "#### Convert the building damage results to dataframe\n",
    "df_bldg_dmg = building_dmg_result.get_dataframe_from_csv()\n",
    "\n",
    "df_bldg_dmg.head()"
   ]
  },
  {
   "cell_type": "code",
   "execution_count": 67,
   "id": "ec6883f0-965e-4ab1-bcc2-182289a57f7b",
   "metadata": {},
   "outputs": [
    {
     "data": {
      "text/plain": [
       "True"
      ]
     },
     "execution_count": 67,
     "metadata": {},
     "output_type": "execute_result"
    }
   ],
   "source": [
    "num_samples = 500 # Require 500 samples for convergence - Selected smaller samples for testing \n",
    "result_name = \"Joplin_mc_failure_probability_buildings_dmg_result\"\n",
    "\n",
    "mc_bldg = MonteCarloFailureProbability(client)\n",
    "\n",
    "mc_bldg.set_input_dataset(\"damage\", building_dmg_result)\n",
    "mc_bldg.set_parameter(\"num_cpu\", 8)\n",
    "mc_bldg.set_parameter(\"num_samples\", num_samples)\n",
    "mc_bldg.set_parameter(\"damage_interval_keys\", [\"DS_0\", \"DS_1\", \"DS_2\", \"DS_3\"])\n",
    "mc_bldg.set_parameter(\"failure_state_keys\", [\"DS_2\", \"DS_3\"])\n",
    "\n",
    "mc_bldg.set_parameter(\"result_name\", result_name) "
   ]
  },
  {
   "cell_type": "code",
   "execution_count": 68,
   "id": "dd1c8b2b-fd99-4a5d-87b3-51be4a3dc371",
   "metadata": {},
   "outputs": [
    {
     "data": {
      "text/html": [
       "<div>\n",
       "<style scoped>\n",
       "    .dataframe tbody tr th:only-of-type {\n",
       "        vertical-align: middle;\n",
       "    }\n",
       "\n",
       "    .dataframe tbody tr th {\n",
       "        vertical-align: top;\n",
       "    }\n",
       "\n",
       "    .dataframe thead th {\n",
       "        text-align: right;\n",
       "    }\n",
       "</style>\n",
       "<table border=\"1\" class=\"dataframe\">\n",
       "  <thead>\n",
       "    <tr style=\"text-align: right;\">\n",
       "      <th></th>\n",
       "      <th>guid</th>\n",
       "      <th>failure_probability</th>\n",
       "    </tr>\n",
       "  </thead>\n",
       "  <tbody>\n",
       "    <tr>\n",
       "      <th>0</th>\n",
       "      <td>b497b88f-a4ba-48b1-8438-5cfc68147cfc</td>\n",
       "      <td>0.0</td>\n",
       "    </tr>\n",
       "    <tr>\n",
       "      <th>1</th>\n",
       "      <td>6eadcc3e-7bb5-463a-aca8-f1d16f8ac7cc</td>\n",
       "      <td>0.0</td>\n",
       "    </tr>\n",
       "    <tr>\n",
       "      <th>2</th>\n",
       "      <td>758fb3de-108a-4e04-895e-fdc4b8627876</td>\n",
       "      <td>0.0</td>\n",
       "    </tr>\n",
       "    <tr>\n",
       "      <th>3</th>\n",
       "      <td>7b706697-bf9b-4883-90f6-862d67a8e64b</td>\n",
       "      <td>0.0</td>\n",
       "    </tr>\n",
       "    <tr>\n",
       "      <th>4</th>\n",
       "      <td>19c91f9b-f679-4263-b7a3-e76fd859c4b1</td>\n",
       "      <td>0.0</td>\n",
       "    </tr>\n",
       "  </tbody>\n",
       "</table>\n",
       "</div>"
      ],
      "text/plain": [
       "                                   guid  failure_probability\n",
       "0  b497b88f-a4ba-48b1-8438-5cfc68147cfc                  0.0\n",
       "1  6eadcc3e-7bb5-463a-aca8-f1d16f8ac7cc                  0.0\n",
       "2  758fb3de-108a-4e04-895e-fdc4b8627876                  0.0\n",
       "3  7b706697-bf9b-4883-90f6-862d67a8e64b                  0.0\n",
       "4  19c91f9b-f679-4263-b7a3-e76fd859c4b1                  0.0"
      ]
     },
     "execution_count": 68,
     "metadata": {},
     "output_type": "execute_result"
    }
   ],
   "source": [
    "mc_bldg.run_analysis() \n",
    "\n",
    "# Obtain buildings failure probabilities\n",
    "building_failure_probability = mc_bldg.get_output_dataset('failure_probability')  \n",
    "\n",
    "df_bldg_fail = building_failure_probability.get_dataframe_from_csv()\n",
    "df_bldg_fail.head()"
   ]
  },
  {
   "cell_type": "code",
   "execution_count": 69,
   "id": "1332dd7e-0e9a-4778-a322-635f3ffb58f3",
   "metadata": {},
   "outputs": [
    {
     "data": {
      "text/html": [
       "<div>\n",
       "<style scoped>\n",
       "    .dataframe tbody tr th:only-of-type {\n",
       "        vertical-align: middle;\n",
       "    }\n",
       "\n",
       "    .dataframe tbody tr th {\n",
       "        vertical-align: top;\n",
       "    }\n",
       "\n",
       "    .dataframe thead th {\n",
       "        text-align: right;\n",
       "    }\n",
       "</style>\n",
       "<table border=\"1\" class=\"dataframe\">\n",
       "  <thead>\n",
       "    <tr style=\"text-align: right;\">\n",
       "      <th></th>\n",
       "      <th>guid</th>\n",
       "      <th>sample_damage_states</th>\n",
       "    </tr>\n",
       "  </thead>\n",
       "  <tbody>\n",
       "    <tr>\n",
       "      <th>0</th>\n",
       "      <td>b497b88f-a4ba-48b1-8438-5cfc68147cfc</td>\n",
       "      <td>DS_0,DS_0,DS_0,DS_0,DS_0,DS_0,DS_0,DS_0,DS_0,D...</td>\n",
       "    </tr>\n",
       "    <tr>\n",
       "      <th>1</th>\n",
       "      <td>6eadcc3e-7bb5-463a-aca8-f1d16f8ac7cc</td>\n",
       "      <td>DS_0,DS_0,DS_0,DS_0,DS_0,DS_0,DS_0,DS_0,DS_0,D...</td>\n",
       "    </tr>\n",
       "    <tr>\n",
       "      <th>2</th>\n",
       "      <td>758fb3de-108a-4e04-895e-fdc4b8627876</td>\n",
       "      <td>DS_0,DS_0,DS_0,DS_0,DS_0,DS_0,DS_0,DS_0,DS_0,D...</td>\n",
       "    </tr>\n",
       "    <tr>\n",
       "      <th>3</th>\n",
       "      <td>7b706697-bf9b-4883-90f6-862d67a8e64b</td>\n",
       "      <td>DS_0,DS_0,DS_0,DS_0,DS_0,DS_0,DS_0,DS_0,DS_0,D...</td>\n",
       "    </tr>\n",
       "    <tr>\n",
       "      <th>4</th>\n",
       "      <td>19c91f9b-f679-4263-b7a3-e76fd859c4b1</td>\n",
       "      <td>DS_0,DS_0,DS_0,DS_0,DS_0,DS_0,DS_0,DS_0,DS_0,D...</td>\n",
       "    </tr>\n",
       "  </tbody>\n",
       "</table>\n",
       "</div>"
      ],
      "text/plain": [
       "                                   guid  \\\n",
       "0  b497b88f-a4ba-48b1-8438-5cfc68147cfc   \n",
       "1  6eadcc3e-7bb5-463a-aca8-f1d16f8ac7cc   \n",
       "2  758fb3de-108a-4e04-895e-fdc4b8627876   \n",
       "3  7b706697-bf9b-4883-90f6-862d67a8e64b   \n",
       "4  19c91f9b-f679-4263-b7a3-e76fd859c4b1   \n",
       "\n",
       "                                sample_damage_states  \n",
       "0  DS_0,DS_0,DS_0,DS_0,DS_0,DS_0,DS_0,DS_0,DS_0,D...  \n",
       "1  DS_0,DS_0,DS_0,DS_0,DS_0,DS_0,DS_0,DS_0,DS_0,D...  \n",
       "2  DS_0,DS_0,DS_0,DS_0,DS_0,DS_0,DS_0,DS_0,DS_0,D...  \n",
       "3  DS_0,DS_0,DS_0,DS_0,DS_0,DS_0,DS_0,DS_0,DS_0,D...  \n",
       "4  DS_0,DS_0,DS_0,DS_0,DS_0,DS_0,DS_0,DS_0,DS_0,D...  "
      ]
     },
     "execution_count": 69,
     "metadata": {},
     "output_type": "execute_result"
    }
   ],
   "source": [
    "# Obtain buildings sample damage states\n",
    "sample_damage_states = mc_bldg.get_output_dataset('sample_damage_states')  \n",
    "df_bldg_ds = sample_damage_states.get_dataframe_from_csv()\n",
    "df_bldg_ds.head()"
   ]
  },
  {
   "cell_type": "code",
   "execution_count": 70,
   "id": "58e14d9a-1e34-46a1-8f2a-f06dcccc01da",
   "metadata": {},
   "outputs": [
    {
     "data": {
      "text/html": [
       "<div>\n",
       "<style scoped>\n",
       "    .dataframe tbody tr th:only-of-type {\n",
       "        vertical-align: middle;\n",
       "    }\n",
       "\n",
       "    .dataframe tbody tr th {\n",
       "        vertical-align: top;\n",
       "    }\n",
       "\n",
       "    .dataframe thead th {\n",
       "        text-align: right;\n",
       "    }\n",
       "</style>\n",
       "<table border=\"1\" class=\"dataframe\">\n",
       "  <thead>\n",
       "    <tr style=\"text-align: right;\">\n",
       "      <th></th>\n",
       "      <th>guid</th>\n",
       "      <th>failure</th>\n",
       "    </tr>\n",
       "  </thead>\n",
       "  <tbody>\n",
       "    <tr>\n",
       "      <th>0</th>\n",
       "      <td>b497b88f-a4ba-48b1-8438-5cfc68147cfc</td>\n",
       "      <td>1,1,1,1,1,1,1,1,1,1,1,1,1,1,1,1,1,1,1,1,1,1,1,...</td>\n",
       "    </tr>\n",
       "    <tr>\n",
       "      <th>1</th>\n",
       "      <td>6eadcc3e-7bb5-463a-aca8-f1d16f8ac7cc</td>\n",
       "      <td>1,1,1,1,1,1,1,1,1,1,1,1,1,1,1,1,1,1,1,1,1,1,1,...</td>\n",
       "    </tr>\n",
       "    <tr>\n",
       "      <th>2</th>\n",
       "      <td>758fb3de-108a-4e04-895e-fdc4b8627876</td>\n",
       "      <td>1,1,1,1,1,1,1,1,1,1,1,1,1,1,1,1,1,1,1,1,1,1,1,...</td>\n",
       "    </tr>\n",
       "    <tr>\n",
       "      <th>3</th>\n",
       "      <td>7b706697-bf9b-4883-90f6-862d67a8e64b</td>\n",
       "      <td>1,1,1,1,1,1,1,1,1,1,1,1,1,1,1,1,1,1,1,1,1,1,1,...</td>\n",
       "    </tr>\n",
       "    <tr>\n",
       "      <th>4</th>\n",
       "      <td>19c91f9b-f679-4263-b7a3-e76fd859c4b1</td>\n",
       "      <td>1,1,1,1,1,1,1,1,1,1,1,1,1,1,1,1,1,1,1,1,1,1,1,...</td>\n",
       "    </tr>\n",
       "  </tbody>\n",
       "</table>\n",
       "</div>"
      ],
      "text/plain": [
       "                                   guid  \\\n",
       "0  b497b88f-a4ba-48b1-8438-5cfc68147cfc   \n",
       "1  6eadcc3e-7bb5-463a-aca8-f1d16f8ac7cc   \n",
       "2  758fb3de-108a-4e04-895e-fdc4b8627876   \n",
       "3  7b706697-bf9b-4883-90f6-862d67a8e64b   \n",
       "4  19c91f9b-f679-4263-b7a3-e76fd859c4b1   \n",
       "\n",
       "                                             failure  \n",
       "0  1,1,1,1,1,1,1,1,1,1,1,1,1,1,1,1,1,1,1,1,1,1,1,...  \n",
       "1  1,1,1,1,1,1,1,1,1,1,1,1,1,1,1,1,1,1,1,1,1,1,1,...  \n",
       "2  1,1,1,1,1,1,1,1,1,1,1,1,1,1,1,1,1,1,1,1,1,1,1,...  \n",
       "3  1,1,1,1,1,1,1,1,1,1,1,1,1,1,1,1,1,1,1,1,1,1,1,...  \n",
       "4  1,1,1,1,1,1,1,1,1,1,1,1,1,1,1,1,1,1,1,1,1,1,1,...  "
      ]
     },
     "execution_count": 70,
     "metadata": {},
     "output_type": "execute_result"
    }
   ],
   "source": [
    "building_damage_mcs_samples = mc_bldg.get_output_dataset('sample_failure_state')  # get buildings failure states\n",
    "\n",
    "bdmcs = building_damage_mcs_samples.get_dataframe_from_csv()\n",
    "bdmcs.head()"
   ]
  },
  {
   "cell_type": "code",
   "execution_count": 71,
   "id": "513a92b5-a09f-438e-8d5d-81f05e25c1b4",
   "metadata": {},
   "outputs": [
    {
     "data": {
      "text/plain": [
       "{'by_cluster': [{'cluster': 'Critical Medical - Acute Care Hospitals',\n",
       "   'category': 'Critical Facilities',\n",
       "   'tot_count': 41.0,\n",
       "   'num_functional': 29,\n",
       "   'num_non_functional': 12,\n",
       "   'percent_functional': 0.7073170732,\n",
       "   'percent_non_functional': 0.2926829268},\n",
       "  {'cluster': 'Emergency Operations Centers',\n",
       "   'category': 'Critical Facilities',\n",
       "   'tot_count': 28.0,\n",
       "   'num_functional': 23,\n",
       "   'num_non_functional': 5,\n",
       "   'percent_functional': 0.8214285714,\n",
       "   'percent_non_functional': 0.1785714286},\n",
       "  {'cluster': 'Critical Government - First Responder Facilities',\n",
       "   'category': 'Critical Facilities',\n",
       "   'tot_count': 8.0,\n",
       "   'num_functional': 7,\n",
       "   'num_non_functional': 1,\n",
       "   'percent_functional': 0.875,\n",
       "   'percent_non_functional': 0.125},\n",
       "  {'cluster': 'Non-ambulatory Facilities - Prisons, nursing homes, etc.',\n",
       "   'category': 'Critical Facilities',\n",
       "   'tot_count': -1.0,\n",
       "   'num_functional': -1,\n",
       "   'num_non_functional': -1,\n",
       "   'percent_functional': -1.0,\n",
       "   'percent_non_functional': -1.0},\n",
       "  {'cluster': 'Emergency Shelters',\n",
       "   'category': 'Emergency Housing ',\n",
       "   'tot_count': -1.0,\n",
       "   'num_functional': -1,\n",
       "   'num_non_functional': -1,\n",
       "   'percent_functional': -1.0,\n",
       "   'percent_non_functional': -1.0},\n",
       "  {'cluster': 'Residential Housing',\n",
       "   'category': 'Emergency Housing ',\n",
       "   'tot_count': -1.0,\n",
       "   'num_functional': -1,\n",
       "   'num_non_functional': -1,\n",
       "   'percent_functional': -1.0,\n",
       "   'percent_non_functional': -1.0},\n",
       "  {'cluster': 'SFH and Multi-family',\n",
       "   'category': 'Emergency Housing ',\n",
       "   'tot_count': -1.0,\n",
       "   'num_functional': -1,\n",
       "   'num_non_functional': -1,\n",
       "   'percent_functional': -1.0,\n",
       "   'percent_non_functional': -1.0},\n",
       "  {'cluster': 'Critical Retail',\n",
       "   'category': 'Housing / Neighborhood',\n",
       "   'tot_count': -1.0,\n",
       "   'num_functional': -1,\n",
       "   'num_non_functional': -1,\n",
       "   'percent_functional': -1.0,\n",
       "   'percent_non_functional': -1.0},\n",
       "  {'cluster': 'Religious and Spiritual Centers',\n",
       "   'category': 'Housing / Neighborhood',\n",
       "   'tot_count': 88.0,\n",
       "   'num_functional': 74,\n",
       "   'num_non_functional': 14,\n",
       "   'percent_functional': 0.8409090909,\n",
       "   'percent_non_functional': 0.1590909091},\n",
       "  {'cluster': 'Residential Housing',\n",
       "   'category': 'Housing / Neighborhood',\n",
       "   'tot_count': 25282.0,\n",
       "   'num_functional': 21082,\n",
       "   'num_non_functional': 4200,\n",
       "   'percent_functional': 0.8338739024,\n",
       "   'percent_non_functional': 0.1661260976},\n",
       "  {'cluster': 'SFH and Multi-family',\n",
       "   'category': 'Housing / Neighborhood',\n",
       "   'tot_count': -1.0,\n",
       "   'num_functional': -1,\n",
       "   'num_non_functional': -1,\n",
       "   'percent_functional': -1.0,\n",
       "   'percent_non_functional': -1.0},\n",
       "  {'cluster': 'K-12 Schools',\n",
       "   'category': 'Housing / Neighborhood',\n",
       "   'tot_count': 89.0,\n",
       "   'num_functional': 77,\n",
       "   'num_non_functional': 12,\n",
       "   'percent_functional': 0.8651685393,\n",
       "   'percent_non_functional': 0.1348314607},\n",
       "  {'cluster': 'Child Care Centers',\n",
       "   'category': 'Housing / Neighborhood',\n",
       "   'tot_count': -1.0,\n",
       "   'num_functional': -1,\n",
       "   'num_non_functional': -1,\n",
       "   'percent_functional': -1.0,\n",
       "   'percent_non_functional': -1.0},\n",
       "  {'cluster': 'Hotels and Motels',\n",
       "   'category': 'Housing / Neighborhood',\n",
       "   'tot_count': -1.0,\n",
       "   'num_functional': -1,\n",
       "   'num_non_functional': -1,\n",
       "   'percent_functional': -1.0,\n",
       "   'percent_non_functional': -1.0},\n",
       "  {'cluster': 'Business - Manufacturing',\n",
       "   'category': 'Community Recovery',\n",
       "   'tot_count': 1118.0,\n",
       "   'num_functional': 985,\n",
       "   'num_non_functional': 133,\n",
       "   'percent_functional': 0.8810375671,\n",
       "   'percent_non_functional': 0.1189624329},\n",
       "  {'cluster': 'Business - Commodity Services',\n",
       "   'category': 'Community Recovery',\n",
       "   'tot_count': 797.0,\n",
       "   'num_functional': 648,\n",
       "   'num_non_functional': 149,\n",
       "   'percent_functional': 0.8130489335,\n",
       "   'percent_non_functional': 0.1869510665},\n",
       "  {'cluster': 'Business - Service Professions',\n",
       "   'category': 'Community Recovery',\n",
       "   'tot_count': 701.0,\n",
       "   'num_functional': 550,\n",
       "   'num_non_functional': 151,\n",
       "   'percent_functional': 0.7845934379,\n",
       "   'percent_non_functional': 0.2154065621},\n",
       "  {'cluster': 'Conference & Event Venues',\n",
       "   'category': 'Community Recovery',\n",
       "   'tot_count': -1.0,\n",
       "   'num_functional': -1,\n",
       "   'num_non_functional': -1,\n",
       "   'percent_functional': -1.0,\n",
       "   'percent_non_functional': -1.0},\n",
       "  {'cluster': 'Other',\n",
       "   'category': 'Community Recovery',\n",
       "   'tot_count': -1.0,\n",
       "   'num_functional': -1,\n",
       "   'num_non_functional': -1,\n",
       "   'percent_functional': -1.0,\n",
       "   'percent_non_functional': -1.0}],\n",
       " 'by_category': [{'category': 'Critical Facilities',\n",
       "   'tot_count': 77.0,\n",
       "   'num_functional': 59,\n",
       "   'num_non_functional': 18,\n",
       "   'percent_functional': 0.7662337662,\n",
       "   'percent_non_functional': 0.2337662338},\n",
       "  {'category': 'Emergency Housing ',\n",
       "   'tot_count': -1.0,\n",
       "   'num_functional': -1,\n",
       "   'num_non_functional': -1,\n",
       "   'percent_functional': -1.0,\n",
       "   'percent_non_functional': -1.0},\n",
       "  {'category': 'Housing / Neighborhood',\n",
       "   'tot_count': 25459.0,\n",
       "   'num_functional': 21233,\n",
       "   'num_non_functional': 4226,\n",
       "   'percent_functional': 0.8340076201,\n",
       "   'percent_non_functional': 0.1659923799},\n",
       "  {'category': 'Community Recovery',\n",
       "   'tot_count': 2616.0,\n",
       "   'num_functional': 2183,\n",
       "   'num_non_functional': 433,\n",
       "   'percent_functional': 0.8344801223,\n",
       "   'percent_non_functional': 0.1655198777}],\n",
       " 'NA': 0}"
      ]
     },
     "execution_count": 71,
     "metadata": {},
     "output_type": "execute_result"
    }
   ],
   "source": [
    "ret_json = DataProcessUtil.create_mapped_func_result(bldg_gdf, \n",
    "                                                     bdmcs, \n",
    "                                                     arch_mapping, \n",
    "                                                     arch_col=\"archetype\")\n",
    "ret_json"
   ]
  },
  {
   "cell_type": "markdown",
   "id": "34c04499-c014-4768-b36b-b49ef557b478",
   "metadata": {},
   "source": [
    "4. Electric Power Facility (EPF) Damage Analysis\n",
    "The following steps are applied for analysis\n",
    "\n",
    "4.1 Import Electric Power Substation data\n",
    "4.2 Specify Electric Power Substation Fragility and Mapping\n",
    "4.3 Setup and Run Electric Power Substation Damage analysis\n",
    "4.4 Plot Results for Electric Power Substation\n",
    "4.5 Monte Carlo Simulation (MCS) of Electric Power Substation\n",
    "4.6 Import Electric Power Generation Plants data\n",
    "4.7 Specify Electric Power Generation Plants Fragility and Mapping\n",
    "4.8 Setup and Run Electric Power Generation Plants Damage analysis\n",
    "4.9 Plot Results for Electric Power Generation Plants\n",
    "4.10 Monte Carlo Simulation (MCS) of Electric Power Generation Plants"
   ]
  },
  {
   "cell_type": "markdown",
   "id": "23f57d8c-d58f-4d41-a3a8-8dffbe90a749",
   "metadata": {},
   "source": [
    "4.1 Import Electric Power Substation data"
   ]
  },
  {
   "cell_type": "code",
   "execution_count": 72,
   "id": "dad813cc-d7bd-4228-b1d2-95dc13d5c333",
   "metadata": {},
   "outputs": [
    {
     "name": "stdout",
     "output_type": "stream",
     "text": [
      "Dataset already exists locally. Reading from local cached zip.\n",
      "Unzipped folder found in the local cache. Reading from it...\n"
     ]
    }
   ],
   "source": [
    "local_epf_ss = Dataset.from_data_service(\"5d92355bb9219c06ae7e386a\", data_services)"
   ]
  },
  {
   "cell_type": "markdown",
   "id": "18142ef0-cf4b-44c0-a07a-ddc841d4e57e",
   "metadata": {},
   "source": [
    "4.2 Specify Electric Power Substation Fragility and Mapping"
   ]
  },
  {
   "cell_type": "code",
   "execution_count": 73,
   "id": "ebc2bc03-845c-4219-97de-1d7b281d0c34",
   "metadata": {},
   "outputs": [],
   "source": [
    "# Fragility mapping\n",
    "mapping_id = \"5d8a326fb9219c068ea798e7\""
   ]
  },
  {
   "cell_type": "markdown",
   "id": "95c1cf65-bc02-45c7-9494-e477274eb17b",
   "metadata": {},
   "source": [
    "4.3 Setup and Run Electric Power Substation Damage analysis"
   ]
  },
  {
   "cell_type": "code",
   "execution_count": 77,
   "id": "edc1c8fc-5a9a-4d48-a963-d506d632d043",
   "metadata": {},
   "outputs": [
    {
     "data": {
      "text/plain": [
       "True"
      ]
     },
     "execution_count": 77,
     "metadata": {},
     "output_type": "execute_result"
    }
   ],
   "source": [
    "# Run epf damage \n",
    "eq_epf_ss_dmg = EpfDamage(client)\n",
    "eq_epf_ss_dmg.set_input_dataset(\"epfs\", local_epf_ss)\n",
    "\n",
    "# Load fragility mapping\n",
    "fragility_service = FragilityService(client)\n",
    "mapping_set = MappingSet(fragility_service.get_mapping(mapping_id))\n",
    "eq_epf_ss_dmg.set_input_dataset(\"dfr3_mapping_set\", mapping_set)"
   ]
  },
  {
   "cell_type": "code",
   "execution_count": 79,
   "id": "7de42a40-cb6d-4307-8dde-625cb8ec7ead",
   "metadata": {},
   "outputs": [
    {
     "data": {
      "text/plain": [
       "True"
      ]
     },
     "execution_count": 79,
     "metadata": {},
     "output_type": "execute_result"
    }
   ],
   "source": [
    "result_name = \"Joplin_epf_substations_dmg_result\"\n",
    "eq_epf_ss_dmg.set_parameter(\"result_name\", result_name)\n",
    "eq_epf_ss_dmg.set_parameter(\"hazard_type\", hazard_type)\n",
    "eq_epf_ss_dmg.set_parameter(\"hazard_id\", hazard_id)\n",
    "eq_epf_ss_dmg.set_parameter(\"num_cpu\", 4)\n",
    "eq_epf_ss_dmg.set_parameter(\"fragility_key\", \"substations\")  # Define the result name, etc., and choose the number\n",
    "                                                           # of CPU locally to run the model parallelly.\n",
    "\n",
    "# Run Analysis\n",
    "eq_epf_ss_dmg.run_analysis()"
   ]
  },
  {
   "cell_type": "markdown",
   "id": "881a62bf-7f4c-4fcf-bab6-024225539ede",
   "metadata": {},
   "source": [
    "4.4 Plot Results for Electric Power Substation"
   ]
  },
  {
   "cell_type": "code",
   "execution_count": 80,
   "id": "822b023e-815e-48aa-bfb6-f4562f1263a8",
   "metadata": {},
   "outputs": [
    {
     "data": {
      "text/html": [
       "<div>\n",
       "<style scoped>\n",
       "    .dataframe tbody tr th:only-of-type {\n",
       "        vertical-align: middle;\n",
       "    }\n",
       "\n",
       "    .dataframe tbody tr th {\n",
       "        vertical-align: top;\n",
       "    }\n",
       "\n",
       "    .dataframe thead th {\n",
       "        text-align: right;\n",
       "    }\n",
       "</style>\n",
       "<table border=\"1\" class=\"dataframe\">\n",
       "  <thead>\n",
       "    <tr style=\"text-align: right;\">\n",
       "      <th></th>\n",
       "      <th>guid</th>\n",
       "      <th>LS_0</th>\n",
       "      <th>LS_1</th>\n",
       "      <th>LS_2</th>\n",
       "      <th>LS_3</th>\n",
       "      <th>DS_0</th>\n",
       "      <th>DS_1</th>\n",
       "      <th>DS_2</th>\n",
       "      <th>DS_3</th>\n",
       "      <th>DS_4</th>\n",
       "      <th>haz_expose</th>\n",
       "    </tr>\n",
       "  </thead>\n",
       "  <tbody>\n",
       "    <tr>\n",
       "      <th>0</th>\n",
       "      <td>7f426763-81c6-4cac-b98d-c37a5e439b90</td>\n",
       "      <td>0.0</td>\n",
       "      <td>0.0</td>\n",
       "      <td>0.0</td>\n",
       "      <td>0.0</td>\n",
       "      <td>1.0</td>\n",
       "      <td>0.0</td>\n",
       "      <td>0.0</td>\n",
       "      <td>0.0</td>\n",
       "      <td>0.0</td>\n",
       "      <td>no</td>\n",
       "    </tr>\n",
       "    <tr>\n",
       "      <th>1</th>\n",
       "      <td>fc8add00-6760-4752-b1fb-7d6ca813f535</td>\n",
       "      <td>0.0</td>\n",
       "      <td>0.0</td>\n",
       "      <td>0.0</td>\n",
       "      <td>0.0</td>\n",
       "      <td>1.0</td>\n",
       "      <td>0.0</td>\n",
       "      <td>0.0</td>\n",
       "      <td>0.0</td>\n",
       "      <td>0.0</td>\n",
       "      <td>no</td>\n",
       "    </tr>\n",
       "    <tr>\n",
       "      <th>2</th>\n",
       "      <td>e8f4939d-763f-4743-bc61-c23e0b8e0f7a</td>\n",
       "      <td>0.0</td>\n",
       "      <td>0.0</td>\n",
       "      <td>0.0</td>\n",
       "      <td>0.0</td>\n",
       "      <td>1.0</td>\n",
       "      <td>0.0</td>\n",
       "      <td>0.0</td>\n",
       "      <td>0.0</td>\n",
       "      <td>0.0</td>\n",
       "      <td>no</td>\n",
       "    </tr>\n",
       "    <tr>\n",
       "      <th>3</th>\n",
       "      <td>2cab48ff-c5ce-495e-9662-67c9a177efc4</td>\n",
       "      <td>0.0</td>\n",
       "      <td>0.0</td>\n",
       "      <td>0.0</td>\n",
       "      <td>0.0</td>\n",
       "      <td>1.0</td>\n",
       "      <td>0.0</td>\n",
       "      <td>0.0</td>\n",
       "      <td>0.0</td>\n",
       "      <td>0.0</td>\n",
       "      <td>no</td>\n",
       "    </tr>\n",
       "    <tr>\n",
       "      <th>4</th>\n",
       "      <td>eb4ce929-5164-4ebf-ace2-708096d89db5</td>\n",
       "      <td>0.0</td>\n",
       "      <td>0.0</td>\n",
       "      <td>0.0</td>\n",
       "      <td>0.0</td>\n",
       "      <td>1.0</td>\n",
       "      <td>0.0</td>\n",
       "      <td>0.0</td>\n",
       "      <td>0.0</td>\n",
       "      <td>0.0</td>\n",
       "      <td>no</td>\n",
       "    </tr>\n",
       "  </tbody>\n",
       "</table>\n",
       "</div>"
      ],
      "text/plain": [
       "                                   guid  LS_0  LS_1  LS_2  LS_3  DS_0  DS_1  \\\n",
       "0  7f426763-81c6-4cac-b98d-c37a5e439b90   0.0   0.0   0.0   0.0   1.0   0.0   \n",
       "1  fc8add00-6760-4752-b1fb-7d6ca813f535   0.0   0.0   0.0   0.0   1.0   0.0   \n",
       "2  e8f4939d-763f-4743-bc61-c23e0b8e0f7a   0.0   0.0   0.0   0.0   1.0   0.0   \n",
       "3  2cab48ff-c5ce-495e-9662-67c9a177efc4   0.0   0.0   0.0   0.0   1.0   0.0   \n",
       "4  eb4ce929-5164-4ebf-ace2-708096d89db5   0.0   0.0   0.0   0.0   1.0   0.0   \n",
       "\n",
       "   DS_2  DS_3  DS_4 haz_expose  \n",
       "0   0.0   0.0   0.0         no  \n",
       "1   0.0   0.0   0.0         no  \n",
       "2   0.0   0.0   0.0         no  \n",
       "3   0.0   0.0   0.0         no  \n",
       "4   0.0   0.0   0.0         no  "
      ]
     },
     "execution_count": 80,
     "metadata": {},
     "output_type": "execute_result"
    }
   ],
   "source": [
    "epf_ss_dmg_df=eq_epf_ss_dmg.get_output_dataset('result').get_dataframe_from_csv()\n",
    "epf_ss_dmg_df.head()"
   ]
  },
  {
   "cell_type": "code",
   "execution_count": 81,
   "id": "1f547e8e-f3c2-4a59-9114-45ebb70545ed",
   "metadata": {},
   "outputs": [
    {
     "data": {
      "text/plain": [
       "Text(0, 0.5, 'Counts')"
      ]
     },
     "execution_count": 81,
     "metadata": {},
     "output_type": "execute_result"
    },
    {
     "data": {
      "image/png": "[encoded data removed]",
      "text/plain": [
       "<Figure size 640x480 with 1 Axes>"
      ]
     },
     "metadata": {},
     "output_type": "display_data"
    }
   ],
   "source": [
    "DSlist = np.array(['DS_0', 'DS_1', 'DS_2', 'DS_3', 'DS_4'])\n",
    "spf_ss_likelyDS = DSlist[epf_ss_dmg_df.loc[:,['DS_0', 'DS_1', 'DS_2', 'DS_3','DS_4']].values.argmax(axis=1)]\n",
    "epf_ss_dmg_df['likelyDS'] = spf_ss_likelyDS\n",
    "keys, counts = np.unique(spf_ss_likelyDS, return_counts=True)\n",
    "\n",
    "fig, ax = plt.subplots()\n",
    "ax.bar(keys, counts)\n",
    "ax.set_title(\"Damage State Distribution\", fontsize=12)\n",
    "ax.set_xlabel(\"Likely Damage State\", fontsize=12)\n",
    "ax.set_ylabel(\"Counts\", fontsize=12)"
   ]
  },
  {
   "cell_type": "code",
   "execution_count": 82,
   "id": "ff4a5def-8199-44e1-b17a-55ba2d555a5e",
   "metadata": {},
   "outputs": [
    {
     "data": {
      "text/html": [
       "<div>\n",
       "<style scoped>\n",
       "    .dataframe tbody tr th:only-of-type {\n",
       "        vertical-align: middle;\n",
       "    }\n",
       "\n",
       "    .dataframe tbody tr th {\n",
       "        vertical-align: top;\n",
       "    }\n",
       "\n",
       "    .dataframe thead th {\n",
       "        text-align: right;\n",
       "    }\n",
       "</style>\n",
       "<table border=\"1\" class=\"dataframe\">\n",
       "  <thead>\n",
       "    <tr style=\"text-align: right;\">\n",
       "      <th></th>\n",
       "      <th>guid</th>\n",
       "      <th>utilfcltyc</th>\n",
       "      <th>geometry</th>\n",
       "      <th>LS_0</th>\n",
       "      <th>LS_1</th>\n",
       "      <th>LS_2</th>\n",
       "      <th>LS_3</th>\n",
       "      <th>DS_0</th>\n",
       "      <th>DS_1</th>\n",
       "      <th>DS_2</th>\n",
       "      <th>DS_3</th>\n",
       "      <th>DS_4</th>\n",
       "      <th>haz_expose</th>\n",
       "      <th>likelyDS</th>\n",
       "    </tr>\n",
       "  </thead>\n",
       "  <tbody>\n",
       "    <tr>\n",
       "      <th>0</th>\n",
       "      <td>7f426763-81c6-4cac-b98d-c37a5e439b90</td>\n",
       "      <td>ESSL</td>\n",
       "      <td>MULTIPOINT ((-94.47707 37.05486))</td>\n",
       "      <td>0.0</td>\n",
       "      <td>0.0</td>\n",
       "      <td>0.0</td>\n",
       "      <td>0.0</td>\n",
       "      <td>1.0</td>\n",
       "      <td>0.0</td>\n",
       "      <td>0.0</td>\n",
       "      <td>0.0</td>\n",
       "      <td>0.0</td>\n",
       "      <td>no</td>\n",
       "      <td>DS_0</td>\n",
       "    </tr>\n",
       "    <tr>\n",
       "      <th>1</th>\n",
       "      <td>fc8add00-6760-4752-b1fb-7d6ca813f535</td>\n",
       "      <td>ESSM</td>\n",
       "      <td>MULTIPOINT ((-94.45979 37.04915))</td>\n",
       "      <td>0.0</td>\n",
       "      <td>0.0</td>\n",
       "      <td>0.0</td>\n",
       "      <td>0.0</td>\n",
       "      <td>1.0</td>\n",
       "      <td>0.0</td>\n",
       "      <td>0.0</td>\n",
       "      <td>0.0</td>\n",
       "      <td>0.0</td>\n",
       "      <td>no</td>\n",
       "      <td>DS_0</td>\n",
       "    </tr>\n",
       "    <tr>\n",
       "      <th>2</th>\n",
       "      <td>e8f4939d-763f-4743-bc61-c23e0b8e0f7a</td>\n",
       "      <td>ESSM</td>\n",
       "      <td>MULTIPOINT ((-94.47035 37.11595))</td>\n",
       "      <td>0.0</td>\n",
       "      <td>0.0</td>\n",
       "      <td>0.0</td>\n",
       "      <td>0.0</td>\n",
       "      <td>1.0</td>\n",
       "      <td>0.0</td>\n",
       "      <td>0.0</td>\n",
       "      <td>0.0</td>\n",
       "      <td>0.0</td>\n",
       "      <td>no</td>\n",
       "      <td>DS_0</td>\n",
       "    </tr>\n",
       "    <tr>\n",
       "      <th>3</th>\n",
       "      <td>2cab48ff-c5ce-495e-9662-67c9a177efc4</td>\n",
       "      <td>ESSM</td>\n",
       "      <td>MULTIPOINT ((-94.51071 37.08971))</td>\n",
       "      <td>0.0</td>\n",
       "      <td>0.0</td>\n",
       "      <td>0.0</td>\n",
       "      <td>0.0</td>\n",
       "      <td>1.0</td>\n",
       "      <td>0.0</td>\n",
       "      <td>0.0</td>\n",
       "      <td>0.0</td>\n",
       "      <td>0.0</td>\n",
       "      <td>no</td>\n",
       "      <td>DS_0</td>\n",
       "    </tr>\n",
       "    <tr>\n",
       "      <th>4</th>\n",
       "      <td>eb4ce929-5164-4ebf-ace2-708096d89db5</td>\n",
       "      <td>ESSM</td>\n",
       "      <td>MULTIPOINT ((-94.51047 37.08685))</td>\n",
       "      <td>0.0</td>\n",
       "      <td>0.0</td>\n",
       "      <td>0.0</td>\n",
       "      <td>0.0</td>\n",
       "      <td>1.0</td>\n",
       "      <td>0.0</td>\n",
       "      <td>0.0</td>\n",
       "      <td>0.0</td>\n",
       "      <td>0.0</td>\n",
       "      <td>no</td>\n",
       "      <td>DS_0</td>\n",
       "    </tr>\n",
       "  </tbody>\n",
       "</table>\n",
       "</div>"
      ],
      "text/plain": [
       "                                   guid utilfcltyc  \\\n",
       "0  7f426763-81c6-4cac-b98d-c37a5e439b90       ESSL   \n",
       "1  fc8add00-6760-4752-b1fb-7d6ca813f535       ESSM   \n",
       "2  e8f4939d-763f-4743-bc61-c23e0b8e0f7a       ESSM   \n",
       "3  2cab48ff-c5ce-495e-9662-67c9a177efc4       ESSM   \n",
       "4  eb4ce929-5164-4ebf-ace2-708096d89db5       ESSM   \n",
       "\n",
       "                            geometry  LS_0  LS_1  LS_2  LS_3  DS_0  DS_1  \\\n",
       "0  MULTIPOINT ((-94.47707 37.05486))   0.0   0.0   0.0   0.0   1.0   0.0   \n",
       "1  MULTIPOINT ((-94.45979 37.04915))   0.0   0.0   0.0   0.0   1.0   0.0   \n",
       "2  MULTIPOINT ((-94.47035 37.11595))   0.0   0.0   0.0   0.0   1.0   0.0   \n",
       "3  MULTIPOINT ((-94.51071 37.08971))   0.0   0.0   0.0   0.0   1.0   0.0   \n",
       "4  MULTIPOINT ((-94.51047 37.08685))   0.0   0.0   0.0   0.0   1.0   0.0   \n",
       "\n",
       "   DS_2  DS_3  DS_4 haz_expose likelyDS  \n",
       "0   0.0   0.0   0.0         no     DS_0  \n",
       "1   0.0   0.0   0.0         no     DS_0  \n",
       "2   0.0   0.0   0.0         no     DS_0  \n",
       "3   0.0   0.0   0.0         no     DS_0  \n",
       "4   0.0   0.0   0.0         no     DS_0  "
      ]
     },
     "execution_count": 82,
     "metadata": {},
     "output_type": "execute_result"
    }
   ],
   "source": [
    "# Adding information from inputs into analysis results\n",
    "epf_ss_gdf = local_epf_ss.get_dataframe_from_shapefile()\n",
    "epf_ss_dmg_df = epf_ss_gdf[['guid', 'utilfcltyc','geometry']].merge(epf_ss_dmg_df, on='guid')\n",
    "epf_ss_dmg_df.head()"
   ]
  },
  {
   "cell_type": "code",
   "execution_count": 83,
   "id": "86ca89c9-7570-45ed-8db5-40eefe90455d",
   "metadata": {},
   "outputs": [
    {
     "data": {
      "text/plain": [
       "count    18.000000\n",
       "mean      0.094466\n",
       "std       0.274422\n",
       "min       0.000000\n",
       "25%       0.000000\n",
       "50%       0.000000\n",
       "75%       0.000000\n",
       "max       0.997562\n",
       "Name: DS_4, dtype: float64"
      ]
     },
     "execution_count": 83,
     "metadata": {},
     "output_type": "execute_result"
    }
   ],
   "source": [
    "# Statistic summary for DS_4 state\n",
    "epf_ss_dmg_df[\"DS_4\"].describe()"
   ]
  },
  {
   "cell_type": "code",
   "execution_count": 84,
   "id": "cbcafc2f-21d7-4d50-b3dd-e72ba4ba15b8",
   "metadata": {},
   "outputs": [
    {
     "data": {
      "text/plain": [
       "Text(0, 0.5, 'counts')"
      ]
     },
     "execution_count": 84,
     "metadata": {},
     "output_type": "execute_result"
    },
    {
     "data": {
      "image/png": "[encoded data removed]",
      "text/plain": [
       "<Figure size 1000x500 with 1 Axes>"
      ]
     },
     "metadata": {},
     "output_type": "display_data"
    }
   ],
   "source": [
    "# Histogram plot for DS_4\n",
    "ax = epf_ss_dmg_df['DS_4'].hist(bins=20, figsize=[10,5])\n",
    "ax.set_title(\"complete damage distribution\", fontsize=12)\n",
    "ax.set_xlabel(\"complete damage value\", fontsize=12)\n",
    "ax.set_ylabel(\"counts\", fontsize=12)"
   ]
  },
  {
   "cell_type": "markdown",
   "id": "45794c45-8f2c-4c6f-9908-c9b107b2368f",
   "metadata": {},
   "source": [
    "4.5 Monte Carlo Simulation (MCS) of Electric Power Substation"
   ]
  },
  {
   "cell_type": "code",
   "execution_count": 85,
   "id": "0ddfeaed-e677-40fb-9407-f6cb0b4e07f2",
   "metadata": {},
   "outputs": [
    {
     "data": {
      "text/plain": [
       "True"
      ]
     },
     "execution_count": 85,
     "metadata": {},
     "output_type": "execute_result"
    }
   ],
   "source": [
    "num_samples = 500\n",
    "mc_sub = MonteCarloFailureProbability(client)\n",
    "\n",
    "result_name = \"Joplin_EPN_substations_mc_failure_probability\"\n",
    "substation_dmg_result=eq_epf_ss_dmg.get_output_dataset('result')\n",
    "\n",
    "mc_sub.set_input_dataset(\"damage\", substation_dmg_result)\n",
    "mc_sub.set_parameter(\"num_cpu\", 8)\n",
    "mc_sub.set_parameter(\"num_samples\", num_samples)\n",
    "mc_sub.set_parameter(\"damage_interval_keys\", [\"DS_0\", \"DS_1\", \"DS_2\", \"DS_3\", \"DS_4\"])\n",
    "mc_sub.set_parameter(\"failure_state_keys\", [\"DS_2\", \"DS_3\", \"DS_4\"])\n",
    "\n",
    "mc_sub.set_parameter(\"result_name\", result_name) # name of csv file with results\n",
    "mc_sub.run_analysis()"
   ]
  },
  {
   "cell_type": "code",
   "execution_count": 86,
   "id": "c8b2fe26-faaf-423e-a88e-f27bdd789603",
   "metadata": {},
   "outputs": [
    {
     "data": {
      "text/html": [
       "<div>\n",
       "<style scoped>\n",
       "    .dataframe tbody tr th:only-of-type {\n",
       "        vertical-align: middle;\n",
       "    }\n",
       "\n",
       "    .dataframe tbody tr th {\n",
       "        vertical-align: top;\n",
       "    }\n",
       "\n",
       "    .dataframe thead th {\n",
       "        text-align: right;\n",
       "    }\n",
       "</style>\n",
       "<table border=\"1\" class=\"dataframe\">\n",
       "  <thead>\n",
       "    <tr style=\"text-align: right;\">\n",
       "      <th></th>\n",
       "      <th>guid</th>\n",
       "      <th>failure_probability</th>\n",
       "    </tr>\n",
       "  </thead>\n",
       "  <tbody>\n",
       "    <tr>\n",
       "      <th>0</th>\n",
       "      <td>7f426763-81c6-4cac-b98d-c37a5e439b90</td>\n",
       "      <td>0.0</td>\n",
       "    </tr>\n",
       "    <tr>\n",
       "      <th>1</th>\n",
       "      <td>fc8add00-6760-4752-b1fb-7d6ca813f535</td>\n",
       "      <td>0.0</td>\n",
       "    </tr>\n",
       "    <tr>\n",
       "      <th>2</th>\n",
       "      <td>e8f4939d-763f-4743-bc61-c23e0b8e0f7a</td>\n",
       "      <td>0.0</td>\n",
       "    </tr>\n",
       "    <tr>\n",
       "      <th>3</th>\n",
       "      <td>2cab48ff-c5ce-495e-9662-67c9a177efc4</td>\n",
       "      <td>0.0</td>\n",
       "    </tr>\n",
       "    <tr>\n",
       "      <th>4</th>\n",
       "      <td>eb4ce929-5164-4ebf-ace2-708096d89db5</td>\n",
       "      <td>0.0</td>\n",
       "    </tr>\n",
       "  </tbody>\n",
       "</table>\n",
       "</div>"
      ],
      "text/plain": [
       "                                   guid  failure_probability\n",
       "0  7f426763-81c6-4cac-b98d-c37a5e439b90                  0.0\n",
       "1  fc8add00-6760-4752-b1fb-7d6ca813f535                  0.0\n",
       "2  e8f4939d-763f-4743-bc61-c23e0b8e0f7a                  0.0\n",
       "3  2cab48ff-c5ce-495e-9662-67c9a177efc4                  0.0\n",
       "4  eb4ce929-5164-4ebf-ace2-708096d89db5                  0.0"
      ]
     },
     "execution_count": 86,
     "metadata": {},
     "output_type": "execute_result"
    }
   ],
   "source": [
    "substation_failure_probability = mc_sub.get_output_dataset('failure_probability')  # get buildings failure probabilities\n",
    "\n",
    "df_substation_fail = substation_failure_probability.get_dataframe_from_csv()\n",
    "df_substation_fail.head()"
   ]
  },
  {
   "cell_type": "code",
   "execution_count": 87,
   "id": "c94f569c-3016-4e9b-84e9-f970bb547307",
   "metadata": {},
   "outputs": [
    {
     "data": {
      "text/html": [
       "<div>\n",
       "<style scoped>\n",
       "    .dataframe tbody tr th:only-of-type {\n",
       "        vertical-align: middle;\n",
       "    }\n",
       "\n",
       "    .dataframe tbody tr th {\n",
       "        vertical-align: top;\n",
       "    }\n",
       "\n",
       "    .dataframe thead th {\n",
       "        text-align: right;\n",
       "    }\n",
       "</style>\n",
       "<table border=\"1\" class=\"dataframe\">\n",
       "  <thead>\n",
       "    <tr style=\"text-align: right;\">\n",
       "      <th></th>\n",
       "      <th>guid</th>\n",
       "      <th>failure</th>\n",
       "    </tr>\n",
       "  </thead>\n",
       "  <tbody>\n",
       "    <tr>\n",
       "      <th>0</th>\n",
       "      <td>7f426763-81c6-4cac-b98d-c37a5e439b90</td>\n",
       "      <td>1,1,1,1,1,1,1,1,1,1,1,1,1,1,1,1,1,1,1,1,1,1,1,...</td>\n",
       "    </tr>\n",
       "    <tr>\n",
       "      <th>1</th>\n",
       "      <td>fc8add00-6760-4752-b1fb-7d6ca813f535</td>\n",
       "      <td>1,1,1,1,1,1,1,1,1,1,1,1,1,1,1,1,1,1,1,1,1,1,1,...</td>\n",
       "    </tr>\n",
       "    <tr>\n",
       "      <th>2</th>\n",
       "      <td>e8f4939d-763f-4743-bc61-c23e0b8e0f7a</td>\n",
       "      <td>1,1,1,1,1,1,1,1,1,1,1,1,1,1,1,1,1,1,1,1,1,1,1,...</td>\n",
       "    </tr>\n",
       "    <tr>\n",
       "      <th>3</th>\n",
       "      <td>2cab48ff-c5ce-495e-9662-67c9a177efc4</td>\n",
       "      <td>1,1,1,1,1,1,1,1,1,1,1,1,1,1,1,1,1,1,1,1,1,1,1,...</td>\n",
       "    </tr>\n",
       "    <tr>\n",
       "      <th>4</th>\n",
       "      <td>eb4ce929-5164-4ebf-ace2-708096d89db5</td>\n",
       "      <td>1,1,1,1,1,1,1,1,1,1,1,1,1,1,1,1,1,1,1,1,1,1,1,...</td>\n",
       "    </tr>\n",
       "  </tbody>\n",
       "</table>\n",
       "</div>"
      ],
      "text/plain": [
       "                                   guid  \\\n",
       "0  7f426763-81c6-4cac-b98d-c37a5e439b90   \n",
       "1  fc8add00-6760-4752-b1fb-7d6ca813f535   \n",
       "2  e8f4939d-763f-4743-bc61-c23e0b8e0f7a   \n",
       "3  2cab48ff-c5ce-495e-9662-67c9a177efc4   \n",
       "4  eb4ce929-5164-4ebf-ace2-708096d89db5   \n",
       "\n",
       "                                             failure  \n",
       "0  1,1,1,1,1,1,1,1,1,1,1,1,1,1,1,1,1,1,1,1,1,1,1,...  \n",
       "1  1,1,1,1,1,1,1,1,1,1,1,1,1,1,1,1,1,1,1,1,1,1,1,...  \n",
       "2  1,1,1,1,1,1,1,1,1,1,1,1,1,1,1,1,1,1,1,1,1,1,1,...  \n",
       "3  1,1,1,1,1,1,1,1,1,1,1,1,1,1,1,1,1,1,1,1,1,1,1,...  \n",
       "4  1,1,1,1,1,1,1,1,1,1,1,1,1,1,1,1,1,1,1,1,1,1,1,...  "
      ]
     },
     "execution_count": 87,
     "metadata": {},
     "output_type": "execute_result"
    }
   ],
   "source": [
    "substation_damage_mcs_samples = mc_sub.get_output_dataset('sample_failure_state')\n",
    "\n",
    "sdmcs = substation_damage_mcs_samples.get_dataframe_from_csv()\n",
    "sdmcs.head()"
   ]
  },
  {
   "cell_type": "markdown",
   "id": "db00ad6b-becb-492c-ad58-de05b0607b71",
   "metadata": {},
   "source": [
    "5. Physical Functionality Analysis"
   ]
  },
  {
   "cell_type": "markdown",
   "id": "c3cbcb3f-d93b-412a-bfdd-901990f74997",
   "metadata": {},
   "source": [
    "5.1. Functionality of Buildings and Substations"
   ]
  },
  {
   "cell_type": "markdown",
   "id": "1ee76058-7e2d-4c0b-808d-a651c3f45bca",
   "metadata": {},
   "source": [
    "The MC samples from earlier subsection are used in this subsection to perform functionality analysis and determine the functionality state of each building. According to Almufti and Willford (2013), functionality is defined as the capacity of a component to serve its intended objectives consist of structural integrity, safety, and utilities (e.g., water and electricity). An individual building can be narrowly classified into five discrete states consist of the restricted entry (State 1), restricted use (State 2), preoccupancy (State 3), baseline functionality (State 4) and full functionality (State 5). In a broader classification, functionality states can be categorized into nonfunctional (States 1 to 3) and functional (States 4 and 5). This notebook relies on the latter broader classification approach to estimate the functionality state of each building and subsequently use functionality estimates to perfom functionality analysis by accounting for interdependency between buildings and lifeline networks (i.e., EPN)"
   ]
  },
  {
   "cell_type": "code",
   "execution_count": 90,
   "id": "4c0076ed-0663-4e76-b593-6de4544d93c3",
   "metadata": {},
   "outputs": [
    {
     "data": {
      "text/plain": [
       "True"
      ]
     },
     "execution_count": 90,
     "metadata": {},
     "output_type": "execute_result"
    }
   ],
   "source": [
    "depend_dict_id = \"5dcf4a34b9219ca5e4118312\"\n",
    "\n",
    "bldg_func = BuildingFunctionality(client)\n",
    "\n",
    "# Load the datasets of MC simulations for buildings\n",
    "bldg_func.set_input_dataset(\"building_damage_mcs_samples\", building_damage_mcs_samples)\n",
    "bldg_func.set_input_dataset(\"substations_damage_mcs_samples\", substation_damage_mcs_samples)\n",
    "bldg_func.load_remote_input_dataset(\"interdependency_dictionary\", depend_dict_id)\n",
    "\n",
    "result_name = \"Joplin_mcs_functionality_probability\"\n",
    "bldg_func.set_parameter(\"result_name\", result_name)"
   ]
  },
  {
   "cell_type": "code",
   "execution_count": 91,
   "id": "50616930-dabb-4874-a503-8bcbc9ad82f8",
   "metadata": {},
   "outputs": [
    {
     "data": {
      "text/html": [
       "<div>\n",
       "<style scoped>\n",
       "    .dataframe tbody tr th:only-of-type {\n",
       "        vertical-align: middle;\n",
       "    }\n",
       "\n",
       "    .dataframe tbody tr th {\n",
       "        vertical-align: top;\n",
       "    }\n",
       "\n",
       "    .dataframe thead th {\n",
       "        text-align: right;\n",
       "    }\n",
       "</style>\n",
       "<table border=\"1\" class=\"dataframe\">\n",
       "  <thead>\n",
       "    <tr style=\"text-align: right;\">\n",
       "      <th></th>\n",
       "      <th>guid</th>\n",
       "      <th>failure</th>\n",
       "    </tr>\n",
       "  </thead>\n",
       "  <tbody>\n",
       "    <tr>\n",
       "      <th>0</th>\n",
       "      <td>b497b88f-a4ba-48b1-8438-5cfc68147cfc</td>\n",
       "      <td>1,1,1,1,1,1,1,1,1,1,1,1,1,1,1,1,1,1,1,1,1,1,1,...</td>\n",
       "    </tr>\n",
       "    <tr>\n",
       "      <th>1</th>\n",
       "      <td>6eadcc3e-7bb5-463a-aca8-f1d16f8ac7cc</td>\n",
       "      <td>1,1,1,1,1,1,1,1,1,1,1,1,1,1,1,1,1,1,1,1,1,1,1,...</td>\n",
       "    </tr>\n",
       "    <tr>\n",
       "      <th>2</th>\n",
       "      <td>758fb3de-108a-4e04-895e-fdc4b8627876</td>\n",
       "      <td>1,1,1,1,1,1,1,1,1,1,1,1,1,1,1,1,1,1,1,1,1,1,1,...</td>\n",
       "    </tr>\n",
       "    <tr>\n",
       "      <th>3</th>\n",
       "      <td>7b706697-bf9b-4883-90f6-862d67a8e64b</td>\n",
       "      <td>1,1,1,1,1,1,1,1,1,1,1,1,1,1,1,1,1,1,1,1,1,1,1,...</td>\n",
       "    </tr>\n",
       "    <tr>\n",
       "      <th>4</th>\n",
       "      <td>19c91f9b-f679-4263-b7a3-e76fd859c4b1</td>\n",
       "      <td>1,1,1,1,1,1,1,1,1,1,1,1,1,1,1,1,1,1,1,1,1,1,1,...</td>\n",
       "    </tr>\n",
       "  </tbody>\n",
       "</table>\n",
       "</div>"
      ],
      "text/plain": [
       "                                   guid  \\\n",
       "0  b497b88f-a4ba-48b1-8438-5cfc68147cfc   \n",
       "1  6eadcc3e-7bb5-463a-aca8-f1d16f8ac7cc   \n",
       "2  758fb3de-108a-4e04-895e-fdc4b8627876   \n",
       "3  7b706697-bf9b-4883-90f6-862d67a8e64b   \n",
       "4  19c91f9b-f679-4263-b7a3-e76fd859c4b1   \n",
       "\n",
       "                                             failure  \n",
       "0  1,1,1,1,1,1,1,1,1,1,1,1,1,1,1,1,1,1,1,1,1,1,1,...  \n",
       "1  1,1,1,1,1,1,1,1,1,1,1,1,1,1,1,1,1,1,1,1,1,1,1,...  \n",
       "2  1,1,1,1,1,1,1,1,1,1,1,1,1,1,1,1,1,1,1,1,1,1,1,...  \n",
       "3  1,1,1,1,1,1,1,1,1,1,1,1,1,1,1,1,1,1,1,1,1,1,1,...  \n",
       "4  1,1,1,1,1,1,1,1,1,1,1,1,1,1,1,1,1,1,1,1,1,1,1,...  "
      ]
     },
     "execution_count": 91,
     "metadata": {},
     "output_type": "execute_result"
    }
   ],
   "source": [
    "### Run the BuildingFunctionality module to obtain the building functionality probabilities\n",
    "bldg_func.run_analysis() \n",
    "\n",
    "bldg_func_samples = bldg_func.get_output_dataset('functionality_samples')\n",
    "df_bldg_samples = bldg_func_samples.get_dataframe_from_csv()\n",
    "df_bldg_samples.head()"
   ]
  },
  {
   "cell_type": "code",
   "execution_count": 92,
   "id": "9df53bfe-2aae-4349-92cf-239b2cc08f52",
   "metadata": {},
   "outputs": [
    {
     "data": {
      "text/plain": [
       "{'by_cluster': [{'cluster': 'Critical Medical - Acute Care Hospitals',\n",
       "   'category': 'Critical Facilities',\n",
       "   'tot_count': 41.0,\n",
       "   'num_functional': 3,\n",
       "   'num_non_functional': 38,\n",
       "   'percent_functional': 0.0731707317,\n",
       "   'percent_non_functional': 0.9268292683},\n",
       "  {'cluster': 'Emergency Operations Centers',\n",
       "   'category': 'Critical Facilities',\n",
       "   'tot_count': 28.0,\n",
       "   'num_functional': 19,\n",
       "   'num_non_functional': 9,\n",
       "   'percent_functional': 0.6785714286,\n",
       "   'percent_non_functional': 0.3214285714},\n",
       "  {'cluster': 'Critical Government - First Responder Facilities',\n",
       "   'category': 'Critical Facilities',\n",
       "   'tot_count': 8.0,\n",
       "   'num_functional': 7,\n",
       "   'num_non_functional': 1,\n",
       "   'percent_functional': 0.875,\n",
       "   'percent_non_functional': 0.125},\n",
       "  {'cluster': 'Non-ambulatory Facilities - Prisons, nursing homes, etc.',\n",
       "   'category': 'Critical Facilities',\n",
       "   'tot_count': -1.0,\n",
       "   'num_functional': -1,\n",
       "   'num_non_functional': -1,\n",
       "   'percent_functional': -1.0,\n",
       "   'percent_non_functional': -1.0},\n",
       "  {'cluster': 'Emergency Shelters',\n",
       "   'category': 'Emergency Housing ',\n",
       "   'tot_count': -1.0,\n",
       "   'num_functional': -1,\n",
       "   'num_non_functional': -1,\n",
       "   'percent_functional': -1.0,\n",
       "   'percent_non_functional': -1.0},\n",
       "  {'cluster': 'Residential Housing',\n",
       "   'category': 'Emergency Housing ',\n",
       "   'tot_count': -1.0,\n",
       "   'num_functional': -1,\n",
       "   'num_non_functional': -1,\n",
       "   'percent_functional': -1.0,\n",
       "   'percent_non_functional': -1.0},\n",
       "  {'cluster': 'SFH and Multi-family',\n",
       "   'category': 'Emergency Housing ',\n",
       "   'tot_count': -1.0,\n",
       "   'num_functional': -1,\n",
       "   'num_non_functional': -1,\n",
       "   'percent_functional': -1.0,\n",
       "   'percent_non_functional': -1.0},\n",
       "  {'cluster': 'Critical Retail',\n",
       "   'category': 'Housing / Neighborhood',\n",
       "   'tot_count': -1.0,\n",
       "   'num_functional': -1,\n",
       "   'num_non_functional': -1,\n",
       "   'percent_functional': -1.0,\n",
       "   'percent_non_functional': -1.0},\n",
       "  {'cluster': 'Religious and Spiritual Centers',\n",
       "   'category': 'Housing / Neighborhood',\n",
       "   'tot_count': 88.0,\n",
       "   'num_functional': 55,\n",
       "   'num_non_functional': 33,\n",
       "   'percent_functional': 0.625,\n",
       "   'percent_non_functional': 0.375},\n",
       "  {'cluster': 'Residential Housing',\n",
       "   'category': 'Housing / Neighborhood',\n",
       "   'tot_count': 25282.0,\n",
       "   'num_functional': 12476,\n",
       "   'num_non_functional': 12806,\n",
       "   'percent_functional': 0.4934736176,\n",
       "   'percent_non_functional': 0.5065263824},\n",
       "  {'cluster': 'SFH and Multi-family',\n",
       "   'category': 'Housing / Neighborhood',\n",
       "   'tot_count': -1.0,\n",
       "   'num_functional': -1,\n",
       "   'num_non_functional': -1,\n",
       "   'percent_functional': -1.0,\n",
       "   'percent_non_functional': -1.0},\n",
       "  {'cluster': 'K-12 Schools',\n",
       "   'category': 'Housing / Neighborhood',\n",
       "   'tot_count': 89.0,\n",
       "   'num_functional': 57,\n",
       "   'num_non_functional': 32,\n",
       "   'percent_functional': 0.6404494382,\n",
       "   'percent_non_functional': 0.3595505618},\n",
       "  {'cluster': 'Child Care Centers',\n",
       "   'category': 'Housing / Neighborhood',\n",
       "   'tot_count': -1.0,\n",
       "   'num_functional': -1,\n",
       "   'num_non_functional': -1,\n",
       "   'percent_functional': -1.0,\n",
       "   'percent_non_functional': -1.0},\n",
       "  {'cluster': 'Hotels and Motels',\n",
       "   'category': 'Housing / Neighborhood',\n",
       "   'tot_count': -1.0,\n",
       "   'num_functional': -1,\n",
       "   'num_non_functional': -1,\n",
       "   'percent_functional': -1.0,\n",
       "   'percent_non_functional': -1.0},\n",
       "  {'cluster': 'Business - Manufacturing',\n",
       "   'category': 'Community Recovery',\n",
       "   'tot_count': 1118.0,\n",
       "   'num_functional': 796,\n",
       "   'num_non_functional': 322,\n",
       "   'percent_functional': 0.7119856887,\n",
       "   'percent_non_functional': 0.2880143113},\n",
       "  {'cluster': 'Business - Commodity Services',\n",
       "   'category': 'Community Recovery',\n",
       "   'tot_count': 797.0,\n",
       "   'num_functional': 477,\n",
       "   'num_non_functional': 320,\n",
       "   'percent_functional': 0.5984943538,\n",
       "   'percent_non_functional': 0.4015056462},\n",
       "  {'cluster': 'Business - Service Professions',\n",
       "   'category': 'Community Recovery',\n",
       "   'tot_count': 701.0,\n",
       "   'num_functional': 296,\n",
       "   'num_non_functional': 405,\n",
       "   'percent_functional': 0.422253923,\n",
       "   'percent_non_functional': 0.577746077},\n",
       "  {'cluster': 'Conference & Event Venues',\n",
       "   'category': 'Community Recovery',\n",
       "   'tot_count': -1.0,\n",
       "   'num_functional': -1,\n",
       "   'num_non_functional': -1,\n",
       "   'percent_functional': -1.0,\n",
       "   'percent_non_functional': -1.0},\n",
       "  {'cluster': 'Other',\n",
       "   'category': 'Community Recovery',\n",
       "   'tot_count': -1.0,\n",
       "   'num_functional': -1,\n",
       "   'num_non_functional': -1,\n",
       "   'percent_functional': -1.0,\n",
       "   'percent_non_functional': -1.0}],\n",
       " 'by_category': [{'category': 'Critical Facilities',\n",
       "   'tot_count': 77.0,\n",
       "   'num_functional': 29,\n",
       "   'num_non_functional': 48,\n",
       "   'percent_functional': 0.3766233766,\n",
       "   'percent_non_functional': 0.6233766234},\n",
       "  {'category': 'Emergency Housing ',\n",
       "   'tot_count': -1.0,\n",
       "   'num_functional': -1,\n",
       "   'num_non_functional': -1,\n",
       "   'percent_functional': -1.0,\n",
       "   'percent_non_functional': -1.0},\n",
       "  {'category': 'Housing / Neighborhood',\n",
       "   'tot_count': 25459.0,\n",
       "   'num_functional': 12588,\n",
       "   'num_non_functional': 12871,\n",
       "   'percent_functional': 0.4944420441,\n",
       "   'percent_non_functional': 0.5055579559},\n",
       "  {'category': 'Community Recovery',\n",
       "   'tot_count': 2616.0,\n",
       "   'num_functional': 1569,\n",
       "   'num_non_functional': 1047,\n",
       "   'percent_functional': 0.5997706422,\n",
       "   'percent_non_functional': 0.4002293578}],\n",
       " 'NA': 0}"
      ]
     },
     "execution_count": 92,
     "metadata": {},
     "output_type": "execute_result"
    }
   ],
   "source": [
    "ret_json = DataProcessUtil.create_mapped_func_result(bldg_gdf, \n",
    "                                                     df_bldg_samples, \n",
    "                                                     arch_mapping, \n",
    "                                                     arch_col=\"archetype\")\n",
    "ret_json"
   ]
  },
  {
   "cell_type": "code",
   "execution_count": 93,
   "id": "69e35948-0062-4782-91fb-da61459a8bc7",
   "metadata": {},
   "outputs": [
    {
     "ename": "NameError",
     "evalue": "name 'df_bldg_func' is not defined",
     "output_type": "error",
     "traceback": [
      "\u001b[0;31m---------------------------------------------------------------------------\u001b[0m",
      "\u001b[0;31mNameError\u001b[0m                                 Traceback (most recent call last)",
      "Cell \u001b[0;32mIn[93], line 2\u001b[0m\n\u001b[1;32m      1\u001b[0m \u001b[38;5;66;03m### Plot of the distribution of functionality state for buildings\u001b[39;00m\n\u001b[0;32m----> 2\u001b[0m indexes \u001b[38;5;241m=\u001b[39m \u001b[43mdf_bldg_func\u001b[49m[\u001b[38;5;124m'\u001b[39m\u001b[38;5;124mfunctionality_state\u001b[39m\u001b[38;5;124m'\u001b[39m]\u001b[38;5;241m.\u001b[39mvalue_counts(normalize\u001b[38;5;241m=\u001b[39m\u001b[38;5;28;01mTrue\u001b[39;00m)\u001b[38;5;241m.\u001b[39mmul(\u001b[38;5;241m100\u001b[39m)\u001b[38;5;241m.\u001b[39mindex\u001b[38;5;241m.\u001b[39mtolist()\n\u001b[1;32m      3\u001b[0m values \u001b[38;5;241m=\u001b[39m df_bldg_func[\u001b[38;5;124m'\u001b[39m\u001b[38;5;124mfunctionality_state\u001b[39m\u001b[38;5;124m'\u001b[39m]\u001b[38;5;241m.\u001b[39mvalue_counts(normalize\u001b[38;5;241m=\u001b[39m\u001b[38;5;28;01mTrue\u001b[39;00m)\u001b[38;5;241m.\u001b[39mmul(\u001b[38;5;241m100\u001b[39m)\u001b[38;5;241m.\u001b[39mtolist()\n\u001b[1;32m      5\u001b[0m fig, ax \u001b[38;5;241m=\u001b[39m plt\u001b[38;5;241m.\u001b[39msubplots(figsize\u001b[38;5;241m=\u001b[39m(\u001b[38;5;241m4\u001b[39m, \u001b[38;5;241m2.5\u001b[39m), dpi\u001b[38;5;241m=\u001b[39m\u001b[38;5;241m200\u001b[39m)\n",
      "\u001b[0;31mNameError\u001b[0m: name 'df_bldg_func' is not defined"
     ]
    }
   ],
   "source": [
    "### Plot of the distribution of functionality state for buildings\n",
    "indexes = df_bldg_func['functionality_state'].value_counts(normalize=True).mul(100).index.tolist()\n",
    "values = df_bldg_func['functionality_state'].value_counts(normalize=True).mul(100).tolist()\n",
    "\n",
    "fig, ax = plt.subplots(figsize=(4, 2.5), dpi=200)\n",
    "\n",
    "bars = ax.bar(x=indexes, height=values,)\n",
    "\n",
    "for bar in bars:\n",
    "    ax.text(bar.get_x() + bar.get_width() / 2,\n",
    "            bar.get_height() + 3,f'% {bar.get_height() :.1f}',\n",
    "            horizontalalignment='center')\n",
    "\n",
    "fig.tight_layout()\n",
    "ax.set_ylim([0,100])\n",
    "ax.set_xlabel('Damage State', labelpad=15)\n",
    "ax.set_ylabel('Percentage', labelpad=15)\n",
    "ax.set_title('Functionality Percentage (Buildings and Substations)', pad=15)\n",
    "ax.set(frame_on=False);"
   ]
  },
  {
   "cell_type": "markdown",
   "id": "1fd89ebf-5d02-4a80-a6ef-a7d6bf18c977",
   "metadata": {},
   "source": [
    "6. Sociological Analysis"
   ]
  },
  {
   "cell_type": "markdown",
   "id": "676df56c-49ac-46c4-921c-f30ea3ef3648",
   "metadata": {},
   "source": [
    "This section introduces the sociology-based analysis which may be integrated with hazard and building damage analysis. In this example the damage to buildings drives the population dislocation algorithm at the household level."
   ]
  },
  {
   "cell_type": "markdown",
   "id": "ee29614a-9165-42db-9438-e81e9fd31e77",
   "metadata": {},
   "source": [
    "6.1. Population Dislocation Model"
   ]
  },
  {
   "cell_type": "markdown",
   "id": "8758c5c2-eba3-4b96-bf7d-fb931fee1e4c",
   "metadata": {},
   "source": [
    "Population dislocation refers to households that will be forced to leave their pre-event residence due to hazard related damages. Population dislocation is a function of structure value loss due to damage, neighborhood characteristics and structure type.\n",
    "\n",
    "The population dislocation model depends first on the allocation of detailed housing unit and household characteristic data to each residential building within the community. The allocation of detailed household characteristic data provides an estimate of the number of people that live within each structure.\n",
    "\n",
    "The model predicts which households within the community will be dislocated from their homes immediately following the hazard event.\n",
    "\n"
   ]
  },
  {
   "cell_type": "markdown",
   "id": "87649c7b-474e-49d4-a3c3-39e29cfebf03",
   "metadata": {},
   "source": [
    "Use new pyincore-data utility to obtain Block Group Data for County"
   ]
  },
  {
   "cell_type": "code",
   "execution_count": null,
   "id": "ddcc3213-3db7-4551-8293-185131c9de7f",
   "metadata": {},
   "outputs": [],
   "source": [
    "bg_data = \"5d4c9545b9219c0689b2358a\""
   ]
  },
  {
   "cell_type": "code",
   "execution_count": null,
   "id": "29854973-a7a0-426f-9ae7-f2dc72a8fed4",
   "metadata": {},
   "outputs": [],
   "source": [
    "housing_unit_alloc = \"5dc1c196b9219c06dd2e3f0b\"\n",
    "value_loss = \"60354810e379f22e16560dbd\""
   ]
  },
  {
   "cell_type": "code",
   "execution_count": null,
   "id": "da1cc057-aab3-4cbd-8d2e-55b8468f2de6",
   "metadata": {},
   "outputs": [],
   "source": [
    "# Create Population dislocation analysis\n",
    "pop_dis = PopulationDislocation(client)"
   ]
  },
  {
   "cell_type": "code",
   "execution_count": null,
   "id": "7d015c48-ac58-4bdd-8637-80cb5feef54d",
   "metadata": {},
   "outputs": [],
   "source": [
    "# Load analysis input datasets\n",
    "pop_dis.load_remote_input_dataset(\"housing_unit_allocation\", housing_unit_alloc)\n",
    "pop_dis.load_remote_input_dataset(\"block_group_data\", bg_data)\n",
    "pop_dis.load_remote_input_dataset(\"value_loss_param\", value_loss)\n",
    "building_dmg_result = bldg_dmg.get_output_dataset('ds_result')\n",
    "pop_dis.set_input_dataset(\"building_dmg\", building_dmg_result)"
   ]
  },
  {
   "cell_type": "code",
   "execution_count": null,
   "id": "db11e195-4b2b-4f8b-bea0-0bd4e5c6d20b",
   "metadata": {},
   "outputs": [],
   "source": [
    "result_name = \"pop-dislocation-results\"\n",
    "seed = 1111\n",
    "\n",
    "pop_dis.set_parameter(\"result_name\", result_name)\n",
    "pop_dis.set_parameter(\"seed\", seed)"
   ]
  },
  {
   "cell_type": "code",
   "execution_count": null,
   "id": "cf731071-2be1-48e3-b8d9-1133b153a53c",
   "metadata": {},
   "outputs": [],
   "source": [
    "pop_dis.run_analysis()\n",
    "\n",
    "# Retrieve result dataset\n",
    "result = pop_dis.get_output_dataset(\"result\")\n",
    "\n",
    "# Convert dataset to Pandas DataFrame\n",
    "df = result.get_dataframe_from_csv(low_memory=False)\n",
    "df.head()"
   ]
  },
  {
   "cell_type": "markdown",
   "id": "fcc303bc-b213-437c-9ade-ec53c72b246d",
   "metadata": {},
   "source": [
    "7.2. Sociological Resilience Metrics"
   ]
  },
  {
   "cell_type": "markdown",
   "id": "f0572269-6e0f-47b5-97bf-4871db363368",
   "metadata": {},
   "source": [
    "7.2.1. Percent of Population Dislocation"
   ]
  },
  {
   "cell_type": "markdown",
   "id": "c807adcd-603a-4af1-b2f4-4b23ad2359ef",
   "metadata": {},
   "source": [
    "To determine if a household dislocate a random value was uniformly sampled between 0 and 1: if this value was lower than the probability of dislocation, then the household was set to dislocate. The results below provide one example of how the output can be explored by population subgroups. The model is designed to run as part of a larger Monte Carlo Simulation."
   ]
  },
  {
   "cell_type": "code",
   "execution_count": null,
   "id": "33d509a9-f44e-4a8f-8425-d0059aa4e220",
   "metadata": {},
   "outputs": [],
   "source": [
    "pop_result = pop_dis.get_output_dataset(\"result\")\n",
    "\n",
    "df = pop_result.get_dataframe_from_csv(low_memory=False)\n",
    "# Select Housing units allocated to buildings"
   ]
  },
  {
   "cell_type": "code",
   "execution_count": null,
   "id": "27967eee-78da-42ce-8117-25f95ab3ba11",
   "metadata": {},
   "outputs": [],
   "source": [
    "table_title = \"Total population by tenure status and dislocation.\"\n",
    "pd.crosstab(df['ownershp'], df['dislocated'], df['numprec'], aggfunc = sum,\n",
    "            dropna=True, margins=True, margins_name=\"Total\").style.set_caption(table_title)"
   ]
  },
  {
   "cell_type": "markdown",
   "id": "3de1f714-c34c-4290-8c35-4c576491403f",
   "metadata": {},
   "source": [
    "The variable ownershp represents the tenure status of households. When ownershp = 1 the housing unit is owner-occupied. When the ownershp = 2 the housing unit is renter-occupied. The results above provide the percent of the population predicted to dislocate based on tenure status. When the variable dislocated = True the household is predicted to dislocate."
   ]
  },
  {
   "cell_type": "markdown",
   "id": "63f0bcc0-dc5f-4766-8a7d-22f16604b7c6",
   "metadata": {},
   "source": [
    "Capital Stock Shock and CGE Analysis"
   ]
  },
  {
   "cell_type": "code",
   "execution_count": null,
   "id": "0009764d-70e5-44ed-8e04-d231d223925b",
   "metadata": {},
   "outputs": [],
   "source": [
    "building_to_sectors_id = \"5f21d40d4620b643d78bb4c2\""
   ]
  },
  {
   "cell_type": "code",
   "execution_count": null,
   "id": "1f4ef787-f103-46c3-b8d8-cf17f1348c01",
   "metadata": {},
   "outputs": [],
   "source": [
    "# Create Capital shocks analysis\n",
    "capital_shocks = CapitalShocks(client)\n",
    "\n",
    "# Load remote datasets\n",
    "capital_shocks.load_remote_input_dataset(\"buildings_to_sectors\", building_to_sectors_id)\n",
    "# Set datasets\n",
    "# Salt Lake building inventory\n",
    "capital_shocks.load_remote_input_dataset(\"buildings\", building_dataset_id)\n",
    "# Salt Lake building failure probability\n",
    "capital_shocks.set_input_dataset(\"failure_probability\", building_failure_probability)\n",
    "\n",
    "capital_shocks.set_parameter(\"result_name\", \"sector_shocks\") # name of csv file with results"
   ]
  },
  {
   "cell_type": "code",
   "execution_count": null,
   "id": "05e05859-0d0c-4bb4-acc3-067f4b0615d8",
   "metadata": {},
   "outputs": [],
   "source": [
    "# Run capital shocks analysis\n",
    "capital_shocks.run_analysis()\n",
    "\n",
    "sector_shocks_result = capital_shocks.get_output_dataset(\"sector_shocks\")\n",
    "sector_shocks_result.get_dataframe_from_csv()"
   ]
  },
  {
   "cell_type": "code",
   "execution_count": null,
   "id": "9cc311dd-50d2-4ba3-a5d0-b0773fb599f6",
   "metadata": {},
   "outputs": [],
   "source": [
    "# Create Joplin CGE Model - TODO replace this with production client later\n",
    "joplin_cge = JoplinCGEModel(client)"
   ]
  },
  {
   "cell_type": "code",
   "execution_count": null,
   "id": "794d8411-11b5-4870-a0aa-91258e292a5b",
   "metadata": {},
   "outputs": [],
   "source": [
    "# SAM\n",
    "# Social accounting matrix (SAM) contains data for firms, households and government which are organized \n",
    "# in a way to represent the interactions of all three entities in a typical economy\n",
    "SAM = \"5dd85ae7b9219c06d4da8de4\"\n",
    "\n",
    "# CAPITAL COMP\n",
    "# BB is a matrix which describes how investment in physical infrastructure is transformed into functioning capital such as commercial and residential buildings. \n",
    "# These data are collected from the Bureau of Economic Analysis (BEA).\n",
    "BB = \"5dc1e620b9219c06dd2f473a\"\n",
    "\n",
    "# MISC TABLES\n",
    "IOUT = \"5dc1e6d8b9219c06dd2f475e\"  # This is matrix that describes the transfer of tax revenue collected by the local government to help finance local government expenditures. \n",
    "MISC = \"5dc1e736b9219c06dd2f4782\"  # This is the name of a file that contains data for commercial sector employment and physical capital. It also contains data for the number of households and working households in the economy. \n",
    "MISCH = \"5dc1e7b5b9219c06dd2f47a6\"  # A file that contains elasticities for the supply of labor with respect to paying income taxes.\n",
    "LANDCAP = \"5dc1e810b9219c06dd2f47ca\"  # Contains information regarding elasticity values for the response of changes in the price of physical capital with respect to the supply of investment.\n",
    "EMPLOY = \"5dc1e85ab9219c06dd2f47ee\"  # Table name containing data for commercial sector employment.\n",
    "IGTD = \"5dc1e895b9219c06dd2f4812\"  # This variable represents a matrix describing the transfer of taxes collected to a variable which permits governments to spend the tax revenue on workers and intermediate inputs.\n",
    "TAUFF = \"5dc1e8eeb9219c06dd2f4836\"  # Represents social security tax rates\n",
    "JOBCR = \"5dc1e962b9219c06dd2f487e\"  # This is a matrix describing the supply of workers coming from each household group in the economy. \n",
    "OUTCR = \"5dc1e9aeb9219c06dd2f48bc\"  # This a matrix describing the number of workers who live in Joplin but commute outside of town to work.\n",
    "sector_shocks = \"5f21d40d4620b643d78bb4c2\"# This is the aggregation of building functionality states to capital shocks per sector."
   ]
  },
  {
   "cell_type": "code",
   "execution_count": null,
   "id": "5cf83b72-51be-4fc6-b02b-a211d5d1a3fc",
   "metadata": {},
   "outputs": [],
   "source": [
    "# Set CGE Inputs\n",
    "joplin_cge.load_remote_input_dataset(\"SAM\", SAM)\n",
    "joplin_cge.load_remote_input_dataset(\"BB\", BB)\n",
    "joplin_cge.load_remote_input_dataset(\"IOUT\", IOUT)\n",
    "joplin_cge.load_remote_input_dataset(\"MISC\", MISC)\n",
    "joplin_cge.load_remote_input_dataset(\"MISCH\", MISCH)\n",
    "joplin_cge.load_remote_input_dataset(\"LANDCAP\", LANDCAP)\n",
    "joplin_cge.load_remote_input_dataset(\"EMPLOY\", EMPLOY)\n",
    "joplin_cge.load_remote_input_dataset(\"IGTD\", IGTD)\n",
    "joplin_cge.load_remote_input_dataset(\"TAUFF\", TAUFF)\n",
    "joplin_cge.load_remote_input_dataset(\"JOBCR\", JOBCR)\n",
    "joplin_cge.load_remote_input_dataset(\"OUTCR\", OUTCR)\n",
    "joplin_cge.set_input_dataset(\"sector_shocks\", sector_shocks_result)"
   ]
  },
  {
   "cell_type": "code",
   "execution_count": null,
   "id": "69c2af55-6538-44c0-bc06-d24854eafa8e",
   "metadata": {},
   "outputs": [],
   "source": [
    "# Run CGE\n",
    "joplin_cge.run_analysis()"
   ]
  },
  {
   "cell_type": "code",
   "execution_count": null,
   "id": "c3865515-4978-4a06-a49c-0ca121ae3142",
   "metadata": {},
   "outputs": [],
   "source": [
    "# Display Output for domestic supply\n",
    "result = joplin_cge.get_output_dataset(\"domestic-supply\")\n",
    "df = result.get_dataframe_from_csv()\n",
    "\n",
    "# Display top 5 rows of output data\n",
    "df.head()"
   ]
  },
  {
   "cell_type": "code",
   "execution_count": null,
   "id": "b0be1660-c364-497f-99ce-1410033ab708",
   "metadata": {},
   "outputs": [],
   "source": [
    "# Configure pyincore access and the analysis with the information above\n",
    "social_vulnerability = SocialVulnerability(client)\n",
    "\n",
    "social_vulnerability.set_parameter(\"result_name\", \"social_vulnerabilty\")\n",
    "social_vulnerability.load_remote_input_dataset(\"national_vulnerability_feature_averages\", \"63d178c2a011a9746c948115\")\n",
    "social_vulnerability.load_remote_input_dataset(\"social_vulnerability_demographic_factors\", \"63d17d89c4b5713b9c0bb8c1\")"
   ]
  },
  {
   "cell_type": "code",
   "execution_count": null,
   "id": "8f88d0a1-58c7-4a3d-affa-9666f91796b6",
   "metadata": {},
   "outputs": [],
   "source": [
    "# Run social vulnerability damage analysis\n",
    "social_vulnerability.run_analysis()"
   ]
  },
  {
   "cell_type": "code",
   "execution_count": null,
   "id": "3c699ec1-e628-4b99-b45d-e4b8ecd297a8",
   "metadata": {},
   "outputs": [],
   "source": [
    "# Retrieve result dataset\n",
    "sv_result = social_vulnerability.get_output_dataset(\"sv_result\")"
   ]
  },
  {
   "cell_type": "code",
   "execution_count": null,
   "id": "c6d72d86-d4bf-43e9-9ebb-efe52e5509db",
   "metadata": {},
   "outputs": [],
   "source": [
    "housing_data = Dataset.from_data_service(housing_unit_alloc, data_services)\n",
    "housing_inv = housing_data.get_dataframe_from_csv()"
   ]
  },
  {
   "cell_type": "code",
   "execution_count": null,
   "id": "2655fd32-4014-4dd7-98d9-42e6a99c1884",
   "metadata": {},
   "outputs": [],
   "source": [
    "### Household Level Housing Recovery Analysis"
   ]
  },
  {
   "cell_type": "code",
   "execution_count": null,
   "id": "eeb92908-c254-4c96-b250-fc1c8764ff43",
   "metadata": {},
   "outputs": [],
   "source": [
    "# Population dislocation result aggregated to the block group level.\n",
    "# Transition probability matrix per social vulnerability level.\n",
    "transition_probability_matrix = \"60f5e2ae544e944c3cec0794\"\n",
    "# Initial mass probability function for stage 0.\n",
    "initial_probability_vector = \"60f5e918544e944c3cec668b\"\n",
    "\n",
    "# Create housing recovery instance\n",
    "housing_recovery = HousingRecoverySequential(client)\n",
    "\n",
    "# Load input datasets\n",
    "housing_recovery.set_input_dataset(\"population_dislocation_block\", pop_result)\n",
    "housing_recovery.load_remote_input_dataset(\"tpm\", transition_probability_matrix)\n",
    "housing_recovery.load_remote_input_dataset(\"initial_stage_probabilities\", initial_probability_vector)\n",
    "housing_recovery.set_parameter(\"num_cpu\", 4)\n",
    "\n",
    "# Chain with SV output\n",
    "housing_recovery.set_input_dataset('sv_result', sv_result)\n",
    "\n",
    "# Initial value to seed the random number generator to ensure replication\n",
    "seed = 1111\n",
    "# A size of the analysis time step.\n",
    "t_delta = 1.0\n",
    "# Total duration.\n",
    "t_final = 90.0\n",
    "\n",
    "\n",
    "# Specify the result name\n",
    "result_name = \"housing_recovery_result\"\n",
    "\n",
    "# Set analysis parameters\n",
    "housing_recovery.set_parameter(\"result_name\", result_name)\n",
    "housing_recovery.set_parameter(\"seed\", seed)\n",
    "housing_recovery.set_parameter(\"t_delta\", t_delta)\n",
    "housing_recovery.set_parameter(\"t_final\", t_final)\n",
    "\n",
    "housing_recovery.run()"
   ]
  },
  {
   "cell_type": "code",
   "execution_count": null,
   "id": "5502e182-3d23-46cd-8051-d9a7361785e7",
   "metadata": {},
   "outputs": [],
   "source": [
    "# Retrieve result dataset\n",
    "result = housing_recovery.get_output_dataset(\"ds_result\")\n",
    "\n",
    "# Convert dataset to Pandas DataFrame\n",
    "HH_stagehistory_DF = result.get_dataframe_from_csv()\n",
    "\n",
    "# Display top 5 rows of output data\n",
    "HH_stagehistory_DF.head()"
   ]
  },
  {
   "cell_type": "code",
   "execution_count": null,
   "id": "01be7515-4736-4934-b526-0d34cc1fa247",
   "metadata": {},
   "outputs": [],
   "source": [
    "Stage = HH_stagehistory_DF[\"1\"]"
   ]
  },
  {
   "cell_type": "code",
   "execution_count": null,
   "id": "025a2a0f-70a4-475a-a633-2df87f3f9e12",
   "metadata": {},
   "outputs": [],
   "source": [
    "plt.rcParams[\"figure.figsize\"] = [6, 4]\n",
    "\n",
    "fig, ax = plt.subplots()\n",
    "h_states = ['ES', 'TS', 'TH', 'PH', 'F']\n",
    "\n",
    "counts = [(Stage==1.0).sum(),(Stage==2.0).sum(),(Stage==3.0).sum(),(Stage==4.0).sum(),(Stage==5.0).sum()]\n",
    "bar_labels = ['1', '2', '3', '4','5']\n",
    "bar_colors = ['tab:red', 'tab:orange', 'tab:green', 'tab:blue', 'tab:cyan']\n",
    "\n",
    "ax.bar(h_states, counts, label=bar_labels, color=bar_colors)\n",
    "\n",
    "ax.set_ylabel('Frequency')\n",
    "ax.set_title('Housing Recovery Stage Summary')\n",
    "ax.legend(title='Stage')\n",
    "\n",
    "for bars in ax.containers:\n",
    "    ax.bar_label(bars)\n",
    "plt.show()\n",
    "# ES: Emergency Shelter, TS: Temporary Shelter, TH: Temporary Housing, PH: Permanent Housing, F:Failure"
   ]
  },
  {
   "cell_type": "code",
   "execution_count": null,
   "id": "fdb0b4c6-c51b-475a-8f32-867e1fb71888",
   "metadata": {},
   "outputs": [],
   "source": [
    "timesteps = [\"1\", \"7\", \"13\", \"25\", \"49\", \"85\"] # t0, t6, t12, t24, t48\n",
    "print(HHRSOutputProcess.get_hhrs_stage_count(timesteps, HH_stagehistory_DF))"
   ]
  }
 ],
 "metadata": {
  "kernelspec": {
   "display_name": "jupyter310",
   "language": "python",
   "name": "jupyter310"
  },
  "language_info": {
   "codemirror_mode": {
    "name": "ipython",
    "version": 3
   },
   "file_extension": ".py",
   "mimetype": "text/x-python",
   "name": "python",
   "nbconvert_exporter": "python",
   "pygments_lexer": "ipython3",
   "version": "3.10.13"
  },
  "widgets": {
   "application/vnd.jupyter.widget-state+json": {
    "state": {},
    "version_major": 2,
    "version_minor": 0
   }
  }
 },
 "nbformat": 4,
 "nbformat_minor": 5
}
