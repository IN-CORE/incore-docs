{
 "cells": [
  {
   "cell_type": "markdown",
   "id": "44d1e32b-80d5-4fe7-917a-dd86367e3e6a",
   "metadata": {},
   "source": [
    "# 1. Background"
   ]
  },
  {
   "cell_type": "markdown",
   "id": "7f9f389d-642d-4a6f-9dd0-73374b180dc6",
   "metadata": {},
   "source": [
    "- Tornadoes occur at a high frequency in the United States compared with other natural hazards such as earthquakes and tsunamis but have a substantially smaller footprint. Even a single high-intensity tornado can result in high casualty rates and catastrophic economic losses and social consequences, particularly for small to medium communities.\n",
    "- The city of Joplin, Missouri, USA, was hit by an EF-5 tornado on May 22, 2011.  The National Institute of Standards and Technology (NIST) conducted a technical investigation of this devastating event which can be found at: https://nvlpubs.nist.gov/nistpubs/NCSTAR/NIST.NCSTAR.3.pdf .  The Center for Risk-Based Community Resilience Planning  simulated this event for buildings and the electrical power network of Joplin in IN-CORE.  This Juypter Notebook provides an example of how to use IN-CORE.\n",
    "- The initial damage prediction utilized the tornado path, tornado fragility curves representative of a 19- archetype building dataset, and EPN datasets.  Generic tornado paths are also available in IN-CORE, or a user defined tornado path is possible. \n",
    "- The functionality of the infrastructure was linked with a computable general equilibrium (CGE) economics model that computes specific community resilience metrics in economic terms.  A population dislocation model provides resilience metrics related to socio-demographics such as population dislocation as a function of income or race/ethnicity."
   ]
  },
  {
   "cell_type": "markdown",
   "id": "f3f77bbe-63c2-4a69-8d0a-16c6aa7567a0",
   "metadata": {},
   "source": [
    "## Prerequisites\n",
    "\n",
    "The following modules are necessary to run this notebook. To ensure dependencies are correct, install all modules through **conda**. \n",
    "\n",
    "| Module | Version | Notes |\n",
    "| --- | --- | --- |\n",
    "| pyIncore | =>1.3.0 | see: https://incore.ncsa.illinois.edu/doc/incore/install_pyincore.html |\n",
    "| pyIncore_viz | =>1.5.0 | see: https://incore.ncsa.illinois.edu/doc/pyincore_viz/index.html |\n",
    "| matplotlib | 3.1.2 | used for plotting results |\n",
    "| contextily | 0.99.0 | used for context geo-tiles |\n",
    "| descartes | 1.1.0 | used for visualization of geometric objects as matplotlib paths |\n",
    "\n",
    "Economic Computable General Equilibrium (CGE) Model uses the ipopt solver. The ipopt solver is installed with pyIncore, so the environment should have the solver in it. If you have a trouble to run CGE model later, please see the instruction at CGE section in this document. \n",
    "\n",
    "- Building data: 5dbc8478b9219c06dd242c0d\n",
    "- Electric power substation data: 5d92355bb9219c06ae7e386a\n",
    "- Hazard data:   5d07cbeab9219c065b080930\n",
    "- Building Mapping:       5d8942dfb9219c068ea795ea"
   ]
  },
  {
   "cell_type": "code",
   "execution_count": null,
   "id": "799c4d72-c111-44f7-903c-2d86e389e7a3",
   "metadata": {},
   "outputs": [],
   "source": [
    "import pandas as pd\n",
    "import os\n",
    "import json\n",
    "from pathlib import Path\n",
    "import contextily as ctx\n",
    "import geopandas as gpd\n",
    "import numpy as np\n",
    "import matplotlib.pyplot as plt\n",
    "import random\n",
    "\n",
    "from pyincore import IncoreClient, DataService, HazardService, Dataset, FragilityService, MappingSet\n",
    "from pyincore import HHRSOutputProcess\n",
    "\n",
    "from pyincore.analyses.capitalshocks import CapitalShocks\n",
    "from pyincore.analyses.buildingfunctionality import BuildingFunctionality\n",
    "from pyincore.analyses.buildingdamage import BuildingDamage\n",
    "from pyincore.analyses.epfdamage import EpfDamage\n",
    "from pyincore.utils.dataprocessutil import DataProcessUtil\n",
    "from pyincore.analyses.montecarlofailureprobability import MonteCarloFailureProbability \n",
    "from pyincore.analyses.joplincge import JoplinCGEModel\n",
    "from pyincore.analyses.housingrecoverysequential import HousingRecoverySequential\n",
    "from pyincore.analyses.socialvulnerability import SocialVulnerability\n",
    "from pyincore.analyses.populationdislocation import PopulationDislocation, PopulationDislocationUtil\n",
    "from pyincore.utils.dataprocessutil import DataProcessUtil as util"
   ]
  },
  {
   "cell_type": "markdown",
   "id": "37c906ba-df20-4865-8f82-48ea961a2538",
   "metadata": {},
   "source": [
    "# 2. Building Damage Analysis\n",
    "\n",
    "The following steps are applied for analysis\n",
    "- 2.1 IN-CORE Client and Services\n",
    "- 2.2 Import Building data\n",
    "- 2.3 Specify Hazard and Fragility\n",
    "- 2.4 Setup and Run Damage analysis\n",
    "- 2.5 Plot Results\n",
    "- 2.6 Monte Carlo Simulation (MCS)"
   ]
  },
  {
   "cell_type": "markdown",
   "id": "51cea62a-e261-4dd0-9296-ac0045dfe75c",
   "metadata": {},
   "source": [
    "## 2.1 IN-CORE Client and Services"
   ]
  },
  {
   "cell_type": "code",
   "execution_count": null,
   "id": "54a9254e-794b-4625-bdac-e34fd46fe42c",
   "metadata": {},
   "outputs": [],
   "source": [
    "# Create IN-CORE client and connection to services\n",
    "client = IncoreClient()\n",
    "\n",
    "data_services = DataService(client)"
   ]
  },
  {
   "cell_type": "markdown",
   "id": "b7a27522-8c69-43d0-8306-49eaa86aba4e",
   "metadata": {},
   "source": [
    "## 2.2 Import Building data"
   ]
  },
  {
   "cell_type": "code",
   "execution_count": null,
   "id": "986facd2-6024-4c97-a419-a4d4b345e407",
   "metadata": {},
   "outputs": [],
   "source": [
    "building_dataset_id = \"5dbc8478b9219c06dd242c0d\"  # Load the Joplin building dataset.\n",
    "buildings = Dataset.from_data_service(building_dataset_id, data_services)\n",
    "\n",
    "archetype_mapping = \"5fca92781ab3d87c35db1e54\""
   ]
  },
  {
   "cell_type": "markdown",
   "id": "76e86ea5-48a1-4117-8271-2d86f58c8f7d",
   "metadata": {},
   "source": [
    "## 2.3 Specify Hazard and Fragility"
   ]
  },
  {
   "cell_type": "code",
   "execution_count": null,
   "id": "0553f33f-b404-4699-82c2-752d367a016a",
   "metadata": {},
   "outputs": [],
   "source": [
    "hazard_type = \"tornado\"\n",
    "hazard_id = \"5d07cbeab9219c065b080930\"  # The simulated EF-5 tornado shows geographical locations and the range\n",
    "                                        # of wind speed of tornado hazard in Joplin.\n",
    "\n",
    "fragility_service = FragilityService(client)\n",
    "mapping_id = \"5d8942dfb9219c068ea795ea\" # Create a mapping to assign tornado fragilities to 19 building archetypes.\n",
    "mapping_set = MappingSet(fragility_service.get_mapping(mapping_id))"
   ]
  },
  {
   "cell_type": "markdown",
   "id": "c655ca2b-e8f6-4141-a91b-2eb8f7a83f1f",
   "metadata": {},
   "source": [
    "## 2.4 Setup and Run Damage analysis "
   ]
  },
  {
   "cell_type": "code",
   "execution_count": null,
   "id": "2ded75fd-a7c2-48fd-9f33-2d6228efe781",
   "metadata": {},
   "outputs": [],
   "source": [
    "# Analysis setup\n",
    "result_name = \"Joplin_bldg_dmg_result\"\n",
    "\n",
    "bldg_dmg = BuildingDamage(client)\n",
    "bldg_dmg.set_input_dataset(\"buildings\", buildings)\n",
    "bldg_dmg.set_input_dataset('dfr3_mapping_set', mapping_set)\n",
    "bldg_dmg.set_parameter(\"result_name\", result_name)\n",
    "bldg_dmg.set_parameter(\"hazard_type\", hazard_type)\n",
    "bldg_dmg.set_parameter(\"hazard_id\", hazard_id)\n",
    "bldg_dmg.set_parameter(\"num_cpu\", 4)\n",
    "\n",
    "# Set up retrofit strategy\n",
    "retrofit_strategy = \"6614a2851f87410ae38a69f1\" # 100% Retrofit Method 1\n",
    "#retrofit_strategy = \"6614a2b3099327393f84baa5\" # 100% Retrofit Method 2\n",
    "#retrofit_strategy = \"6614a2e21f87410ae38a6aa2\" # 100% Retrofit Method 3\n",
    "retrofit_strategy_plan = Dataset.from_data_service(retrofit_strategy, data_services)\n",
    "bldg_dmg.set_input_dataset(\"retrofit_strategy\", retrofit_strategy_plan)\n",
    "\n",
    "# Run building damage\n",
    "bldg_dmg.run_analysis()"
   ]
  },
  {
   "cell_type": "markdown",
   "id": "37f1a22a-f40e-4808-b2ab-1939ce2442f1",
   "metadata": {},
   "source": [
    "## 2.5 Plot analysis results"
   ]
  },
  {
   "cell_type": "code",
   "execution_count": null,
   "id": "6f265e78-8e8b-4416-b834-4cf8525de669",
   "metadata": {},
   "outputs": [],
   "source": [
    "# Print out 5 records from the analysis results\n",
    "bldg_dmg.get_output_dataset('ds_result').get_dataframe_from_csv().head()"
   ]
  },
  {
   "cell_type": "code",
   "execution_count": null,
   "id": "ebb5e77b-26ae-4d97-80d7-1a94a002847e",
   "metadata": {},
   "outputs": [],
   "source": [
    "# Adding information from inputs into analysis results\n",
    "bldg_dmg_df = bldg_dmg.get_output_dataset(\"ds_result\").get_dataframe_from_csv()\n",
    "bldg_gdf = buildings.get_dataframe_from_shapefile()\n",
    "\n",
    "arch_mapping_ds = Dataset.from_data_service(archetype_mapping, data_services)\n",
    "arch_mapping = arch_mapping_ds.get_dataframe_from_csv()\n",
    "\n",
    "print(arch_mapping)\n",
    "\n",
    "max_dmg_state_df = DataProcessUtil.get_max_damage_state(bldg_dmg_df)\n",
    "print(max_dmg_state_df)\n",
    "\n",
    "ret_json = DataProcessUtil.create_mapped_dmg_result(bldg_gdf, max_dmg_state_df, arch_mapping, \"max_state\", \"archetype\")\n",
    "print(ret_json)\n",
    "\n",
    "bldg_dmg_gdf = bldg_gdf[['guid', 'archetype','geometry']].merge(bldg_dmg_df, on='guid')\n",
    "bldg_dmg_gdf.head()"
   ]
  },
  {
   "cell_type": "markdown",
   "id": "c5fc971b-972d-467e-808b-75458b8dbc31",
   "metadata": {},
   "source": [
    "## 2.6 Monte Carlo Simulation (MCS)"
   ]
  },
  {
   "cell_type": "code",
   "execution_count": null,
   "id": "8b6b6440-1862-4c96-b84c-042808e3f064",
   "metadata": {},
   "outputs": [],
   "source": [
    "#### Obtain the building damage results\n",
    "building_dmg_result = bldg_dmg.get_output_dataset('ds_result')\n",
    "\n",
    "#### Convert the building damage results to dataframe\n",
    "df_bldg_dmg = building_dmg_result.get_dataframe_from_csv()\n",
    "\n",
    "df_bldg_dmg.head()"
   ]
  },
  {
   "cell_type": "code",
   "execution_count": null,
   "id": "ec6883f0-965e-4ab1-bcc2-182289a57f7b",
   "metadata": {},
   "outputs": [],
   "source": [
    "num_samples = 500 # Require 500 samples for convergence - Selected smaller samples for testing \n",
    "result_name = \"Joplin_mc_failure_probability_buildings_dmg_result\"\n",
    "\n",
    "mc_bldg = MonteCarloFailureProbability(client)\n",
    "\n",
    "mc_bldg.set_input_dataset(\"damage\", building_dmg_result)\n",
    "mc_bldg.set_parameter(\"num_cpu\", 8)\n",
    "mc_bldg.set_parameter(\"num_samples\", num_samples)\n",
    "mc_bldg.set_parameter(\"damage_interval_keys\", [\"DS_0\", \"DS_1\", \"DS_2\", \"DS_3\"])\n",
    "mc_bldg.set_parameter(\"failure_state_keys\", [\"DS_2\", \"DS_3\"])\n",
    "\n",
    "mc_bldg.set_parameter(\"result_name\", result_name) "
   ]
  },
  {
   "cell_type": "code",
   "execution_count": null,
   "id": "dd1c8b2b-fd99-4a5d-87b3-51be4a3dc371",
   "metadata": {},
   "outputs": [],
   "source": [
    "mc_bldg.run_analysis() \n",
    "\n",
    "# Obtain buildings failure probabilities\n",
    "building_failure_probability = mc_bldg.get_output_dataset('failure_probability')  \n",
    "\n",
    "df_bldg_fail = building_failure_probability.get_dataframe_from_csv()\n",
    "df_bldg_fail.head()"
   ]
  },
  {
   "cell_type": "code",
   "execution_count": null,
   "id": "1332dd7e-0e9a-4778-a322-635f3ffb58f3",
   "metadata": {},
   "outputs": [],
   "source": [
    "# Obtain buildings sample damage states\n",
    "sample_damage_states = mc_bldg.get_output_dataset('sample_damage_states')  \n",
    "df_bldg_ds = sample_damage_states.get_dataframe_from_csv()\n",
    "df_bldg_ds.head()"
   ]
  },
  {
   "cell_type": "code",
   "execution_count": null,
   "id": "58e14d9a-1e34-46a1-8f2a-f06dcccc01da",
   "metadata": {},
   "outputs": [],
   "source": [
    "building_damage_mcs_samples = mc_bldg.get_output_dataset('sample_failure_state')  # get buildings failure states\n",
    "\n",
    "bdmcs = building_damage_mcs_samples.get_dataframe_from_csv()\n",
    "bdmcs.head()"
   ]
  },
  {
   "cell_type": "code",
   "execution_count": null,
   "id": "513a92b5-a09f-438e-8d5d-81f05e25c1b4",
   "metadata": {},
   "outputs": [],
   "source": [
    "ret_json = DataProcessUtil.create_mapped_func_result(bldg_gdf, \n",
    "                                                     bdmcs, \n",
    "                                                     arch_mapping, \n",
    "                                                     arch_col=\"archetype\")\n",
    "ret_json"
   ]
  },
  {
   "cell_type": "markdown",
   "id": "34c04499-c014-4768-b36b-b49ef557b478",
   "metadata": {},
   "source": [
    "# 4. Electric Power Facility (EPF) Damage Analysis\n",
    "\n",
    "The following steps are applied for analysis\n",
    "- 4.1 Import Electric Power Substation data\n",
    "- 4.2 Specify Electric Power Substation Fragility and Mapping\n",
    "- 4.3 Setup and Run Electric Power Substation Damage analysis\n",
    "- 4.4 Plot Results for Electric Power Substation\n",
    "- 4.5 Monte Carlo Simulation (MCS) of Electric Power Substation\n",
    "- 4.6 Import Electric Power Generation Plants data\n",
    "- 4.7 Specify Electric Power Generation Plants Fragility and Mapping\n",
    "- 4.8 Setup and Run Electric Power Generation Plants Damage analysis\n",
    "- 4.9 Plot Results for Electric Power Generation Plants\n",
    "- 4.10 Monte Carlo Simulation (MCS) of Electric Power Generation Plants"
   ]
  },
  {
   "cell_type": "markdown",
   "id": "23f57d8c-d58f-4d41-a3a8-8dffbe90a749",
   "metadata": {},
   "source": [
    "## 4.1 Import Electric Power Substation data"
   ]
  },
  {
   "cell_type": "code",
   "execution_count": null,
   "id": "dad813cc-d7bd-4228-b1d2-95dc13d5c333",
   "metadata": {},
   "outputs": [],
   "source": [
    "local_epf_ss = Dataset.from_data_service(\"5d92355bb9219c06ae7e386a\", data_services)"
   ]
  },
  {
   "cell_type": "markdown",
   "id": "18142ef0-cf4b-44c0-a07a-ddc841d4e57e",
   "metadata": {},
   "source": [
    "## 4.2 Specify Electric Power Substation Fragility and Mapping"
   ]
  },
  {
   "cell_type": "code",
   "execution_count": null,
   "id": "ebc2bc03-845c-4219-97de-1d7b281d0c34",
   "metadata": {},
   "outputs": [],
   "source": [
    "# Fragility mapping\n",
    "mapping_id = \"5d8a326fb9219c068ea798e7\""
   ]
  },
  {
   "cell_type": "markdown",
   "id": "95c1cf65-bc02-45c7-9494-e477274eb17b",
   "metadata": {},
   "source": [
    "## 4.3 Setup and Run Electric Power Substation Damage analysis"
   ]
  },
  {
   "cell_type": "code",
   "execution_count": null,
   "id": "edc1c8fc-5a9a-4d48-a963-d506d632d043",
   "metadata": {},
   "outputs": [],
   "source": [
    "# Run epf damage \n",
    "eq_epf_ss_dmg = EpfDamage(client)\n",
    "eq_epf_ss_dmg.set_input_dataset(\"epfs\", local_epf_ss)\n",
    "\n",
    "# Load fragility mapping\n",
    "fragility_service = FragilityService(client)\n",
    "mapping_set = MappingSet(fragility_service.get_mapping(mapping_id))\n",
    "eq_epf_ss_dmg.set_input_dataset(\"dfr3_mapping_set\", mapping_set)"
   ]
  },
  {
   "cell_type": "code",
   "execution_count": null,
   "id": "7de42a40-cb6d-4307-8dde-625cb8ec7ead",
   "metadata": {},
   "outputs": [],
   "source": [
    "result_name = \"Joplin_epf_substations_dmg_result\"\n",
    "eq_epf_ss_dmg.set_parameter(\"result_name\", result_name)\n",
    "eq_epf_ss_dmg.set_parameter(\"hazard_type\", hazard_type)\n",
    "eq_epf_ss_dmg.set_parameter(\"hazard_id\", hazard_id)\n",
    "eq_epf_ss_dmg.set_parameter(\"num_cpu\", 4)\n",
    "eq_epf_ss_dmg.set_parameter(\"fragility_key\", \"substations\")  # Define the result name, etc., and choose the number\n",
    "                                                           # of CPU locally to run the model parallelly.\n",
    "\n",
    "# Run Analysis\n",
    "eq_epf_ss_dmg.run_analysis()"
   ]
  },
  {
   "cell_type": "markdown",
   "id": "881a62bf-7f4c-4fcf-bab6-024225539ede",
   "metadata": {},
   "source": [
    "## 4.4 Plot Results for Electric Power Substation"
   ]
  },
  {
   "cell_type": "code",
   "execution_count": null,
   "id": "822b023e-815e-48aa-bfb6-f4562f1263a8",
   "metadata": {},
   "outputs": [],
   "source": [
    "epf_ss_dmg_df=eq_epf_ss_dmg.get_output_dataset('result').get_dataframe_from_csv()\n",
    "epf_ss_dmg_df.head()"
   ]
  },
  {
   "cell_type": "code",
   "execution_count": null,
   "id": "1f547e8e-f3c2-4a59-9114-45ebb70545ed",
   "metadata": {},
   "outputs": [],
   "source": [
    "DSlist = np.array(['DS_0', 'DS_1', 'DS_2', 'DS_3', 'DS_4'])\n",
    "spf_ss_likelyDS = DSlist[epf_ss_dmg_df.loc[:,['DS_0', 'DS_1', 'DS_2', 'DS_3','DS_4']].values.argmax(axis=1)]\n",
    "\n",
    "epf_ss_dmg_df['likelyDS'] = spf_ss_likelyDS\n",
    "keys, counts = np.unique(spf_ss_likelyDS, return_counts=True)\n",
    "\n",
    "fig, ax = plt.subplots()\n",
    "ax.bar(keys, counts)\n",
    "ax.set_title(\"Damage State Distribution\", fontsize=12)\n",
    "ax.set_xlabel(\"Likely Damage State\", fontsize=12)\n",
    "ax.set_ylabel(\"Counts\", fontsize=12)"
   ]
  },
  {
   "cell_type": "code",
   "execution_count": null,
   "id": "ff4a5def-8199-44e1-b17a-55ba2d555a5e",
   "metadata": {},
   "outputs": [],
   "source": [
    "# Adding information from inputs into analysis results\n",
    "epf_ss_gdf = local_epf_ss.get_dataframe_from_shapefile()\n",
    "epf_ss_dmg_df = epf_ss_gdf[['guid', 'utilfcltyc','geometry']].merge(epf_ss_dmg_df, on='guid')\n",
    "epf_ss_dmg_df.head()"
   ]
  },
  {
   "cell_type": "code",
   "execution_count": null,
   "id": "86ca89c9-7570-45ed-8db5-40eefe90455d",
   "metadata": {},
   "outputs": [],
   "source": [
    "# Statistic summary for DS_4 state\n",
    "epf_ss_dmg_df[\"DS_4\"].describe()"
   ]
  },
  {
   "cell_type": "code",
   "execution_count": null,
   "id": "cbcafc2f-21d7-4d50-b3dd-e72ba4ba15b8",
   "metadata": {},
   "outputs": [],
   "source": [
    "# Histogram plot for DS_4\n",
    "ax = epf_ss_dmg_df['DS_4'].hist(bins=20, figsize=[10,5])\n",
    "ax.set_title(\"complete damage distribution\", fontsize=12)\n",
    "ax.set_xlabel(\"complete damage value\", fontsize=12)\n",
    "ax.set_ylabel(\"counts\", fontsize=12)"
   ]
  },
  {
   "cell_type": "markdown",
   "id": "45794c45-8f2c-4c6f-9908-c9b107b2368f",
   "metadata": {},
   "source": [
    "## 4.5 Monte Carlo Simulation (MCS) of Electric Power Substation"
   ]
  },
  {
   "cell_type": "code",
   "execution_count": null,
   "id": "0ddfeaed-e677-40fb-9407-f6cb0b4e07f2",
   "metadata": {},
   "outputs": [],
   "source": [
    "num_samples = 500\n",
    "mc_sub = MonteCarloFailureProbability(client)\n",
    "\n",
    "result_name = \"Joplin_EPN_substations_mc_failure_probability\"\n",
    "substation_dmg_result=eq_epf_ss_dmg.get_output_dataset('result')\n",
    "\n",
    "mc_sub.set_input_dataset(\"damage\", substation_dmg_result)\n",
    "mc_sub.set_parameter(\"num_cpu\", 8)\n",
    "mc_sub.set_parameter(\"num_samples\", num_samples)\n",
    "mc_sub.set_parameter(\"damage_interval_keys\", [\"DS_0\", \"DS_1\", \"DS_2\", \"DS_3\", \"DS_4\"])\n",
    "mc_sub.set_parameter(\"failure_state_keys\", [\"DS_2\", \"DS_3\", \"DS_4\"])\n",
    "\n",
    "mc_sub.set_parameter(\"result_name\", result_name) # name of csv file with results\n",
    "mc_sub.run_analysis()"
   ]
  },
  {
   "cell_type": "code",
   "execution_count": null,
   "id": "c8b2fe26-faaf-423e-a88e-f27bdd789603",
   "metadata": {},
   "outputs": [],
   "source": [
    "substation_failure_probability = mc_sub.get_output_dataset('failure_probability')  # get buildings failure probabilities\n",
    "\n",
    "df_substation_fail = substation_failure_probability.get_dataframe_from_csv()\n",
    "df_substation_fail.head()"
   ]
  },
  {
   "cell_type": "code",
   "execution_count": null,
   "id": "c94f569c-3016-4e9b-84e9-f970bb547307",
   "metadata": {},
   "outputs": [],
   "source": [
    "substation_damage_mcs_samples = mc_sub.get_output_dataset('sample_failure_state')\n",
    "\n",
    "sdmcs = substation_damage_mcs_samples.get_dataframe_from_csv()\n",
    "sdmcs.head()"
   ]
  },
  {
   "cell_type": "markdown",
   "id": "db00ad6b-becb-492c-ad58-de05b0607b71",
   "metadata": {},
   "source": [
    "# 5. Physical Functionality Analysis"
   ]
  },
  {
   "cell_type": "markdown",
   "id": "c3cbcb3f-d93b-412a-bfdd-901990f74997",
   "metadata": {},
   "source": [
    "# 5.1. Functionality of Buildings and Substations"
   ]
  },
  {
   "cell_type": "markdown",
   "id": "1ee76058-7e2d-4c0b-808d-a651c3f45bca",
   "metadata": {},
   "source": [
    "The MC samples from earlier subsection are used in this subsection to perform functionality analysis and determine the functionality state of each building. According to Almufti and Willford (2013), functionality is defined as the capacity of a component to serve its intended objectives consist of structural integrity, safety, and utilities (e.g., water and electricity). An individual building can be narrowly classified into five discrete states consist of the restricted entry (State 1), restricted use (State 2), preoccupancy (State 3), baseline functionality (State 4) and full functionality (State 5). In a broader classification, functionality states can be categorized into nonfunctional (States 1 to 3) and functional (States 4 and 5). This notebook relies on the latter broader classification approach to estimate the functionality state of each building and subsequently use functionality estimates to perfom functionality analysis by accounting for interdependency between buildings and lifeline networks (i.e., EPN) "
   ]
  },
  {
   "cell_type": "code",
   "execution_count": null,
   "id": "4c0076ed-0663-4e76-b593-6de4544d93c3",
   "metadata": {},
   "outputs": [],
   "source": [
    "depend_dict_id = \"5dcf4a34b9219ca5e4118312\"\n",
    "\n",
    "bldg_func = BuildingFunctionality(client)\n",
    "\n",
    "# Load the datasets of MC simulations for buildings\n",
    "bldg_func.set_input_dataset(\"building_damage_mcs_samples\", building_damage_mcs_samples)\n",
    "bldg_func.set_input_dataset(\"substations_damage_mcs_samples\", substation_damage_mcs_samples)\n",
    "bldg_func.load_remote_input_dataset(\"interdependency_dictionary\", depend_dict_id)\n",
    "\n",
    "result_name = \"Joplin_mcs_functionality_probability\"\n",
    "bldg_func.set_parameter(\"result_name\", result_name)"
   ]
  },
  {
   "cell_type": "code",
   "execution_count": null,
   "id": "50616930-dabb-4874-a503-8bcbc9ad82f8",
   "metadata": {},
   "outputs": [],
   "source": [
    "### Run the BuildingFunctionality module to obtain the building functionality probabilities\n",
    "bldg_func.run_analysis() \n",
    "\n",
    "bldg_func_samples = bldg_func.get_output_dataset('functionality_samples')\n",
    "df_bldg_samples = bldg_func_samples.get_dataframe_from_csv()\n",
    "\n",
    "### Path to save the CSV file\n",
    "#save_path = \"functionality_samples.csv\"\n",
    "### Save the DataFrame to a CSV file\n",
    "#df_bldg_samples.to_csv(save_path, index=True)\n",
    "\n",
    "df_bldg_samples.head()"
   ]
  },
  {
   "cell_type": "code",
   "execution_count": null,
   "id": "8a260147-b8e5-4177-97aa-2d2d1d98e519",
   "metadata": {},
   "outputs": [],
   "source": [
    "dataframe=bldg_func.get_output_dataset('functionality_probability').get_dataframe_from_csv()\n",
    "\n",
    "### Path to save the CSV file\n",
    "#save_path = \"functionality_probability.csv\"\n",
    "### Save the DataFrame to a CSV file\n",
    "#dataframe.to_csv(save_path, index=True)\n",
    "\n",
    "dataframe.head()"
   ]
  },
  {
   "cell_type": "code",
   "execution_count": null,
   "id": "9df53bfe-2aae-4349-92cf-239b2cc08f52",
   "metadata": {},
   "outputs": [],
   "source": [
    "ret_json = DataProcessUtil.create_mapped_func_result(bldg_gdf, \n",
    "                                                     df_bldg_samples, \n",
    "                                                     arch_mapping, \n",
    "                                                     arch_col=\"archetype\")\n",
    "ret_json"
   ]
  },
  {
   "cell_type": "markdown",
   "id": "1fd89ebf-5d02-4a80-a6ef-a7d6bf18c977",
   "metadata": {},
   "source": [
    "# 6. Sociological Analysis"
   ]
  },
  {
   "cell_type": "markdown",
   "id": "676df56c-49ac-46c4-921c-f30ea3ef3648",
   "metadata": {},
   "source": [
    "This section introduces the sociology-based analysis which may be integrated with hazard and building damage analysis. In this example the damage to buildings drives the population dislocation algorithm at the household level."
   ]
  },
  {
   "cell_type": "markdown",
   "id": "ee29614a-9165-42db-9438-e81e9fd31e77",
   "metadata": {},
   "source": [
    "# 6.1. Population Dislocation Model"
   ]
  },
  {
   "cell_type": "markdown",
   "id": "8758c5c2-eba3-4b96-bf7d-fb931fee1e4c",
   "metadata": {},
   "source": [
    "Population dislocation refers to households that will be forced to leave their pre-event residence due to hazard related damages. Population dislocation is a function of structure value loss due to damage, neighborhood characteristics and structure type.\n",
    "\n",
    "The population dislocation model depends first on the allocation of detailed housing unit and household characteristic data to each residential building within the community. The allocation of detailed household characteristic data provides an estimate of the number of people that live within each structure.\n",
    "\n",
    "The model predicts which households within the community will be dislocated from their homes immediately following the hazard event."
   ]
  },
  {
   "cell_type": "markdown",
   "id": "87649c7b-474e-49d4-a3c3-39e29cfebf03",
   "metadata": {},
   "source": [
    "## Use new pyincore-data utility to obtain Block Group Data for County"
   ]
  },
  {
   "cell_type": "code",
   "execution_count": null,
   "id": "ddcc3213-3db7-4551-8293-185131c9de7f",
   "metadata": {},
   "outputs": [],
   "source": [
    "bg_data = \"5d4c9545b9219c0689b2358a\""
   ]
  },
  {
   "cell_type": "code",
   "execution_count": null,
   "id": "29854973-a7a0-426f-9ae7-f2dc72a8fed4",
   "metadata": {},
   "outputs": [],
   "source": [
    "housing_unit_alloc = \"5dc1c196b9219c06dd2e3f0b\"\n",
    "value_loss = \"60354810e379f22e16560dbd\""
   ]
  },
  {
   "cell_type": "code",
   "execution_count": null,
   "id": "da1cc057-aab3-4cbd-8d2e-55b8468f2de6",
   "metadata": {},
   "outputs": [],
   "source": [
    "# Create Population dislocation analysis\n",
    "pop_dis = PopulationDislocation(client)"
   ]
  },
  {
   "cell_type": "code",
   "execution_count": null,
   "id": "7d015c48-ac58-4bdd-8637-80cb5feef54d",
   "metadata": {},
   "outputs": [],
   "source": [
    "# Load analysis input datasets\n",
    "pop_dis.load_remote_input_dataset(\"housing_unit_allocation\", housing_unit_alloc)\n",
    "pop_dis.load_remote_input_dataset(\"block_group_data\", bg_data)\n",
    "pop_dis.load_remote_input_dataset(\"value_loss_param\", value_loss)\n",
    "building_dmg_result = bldg_dmg.get_output_dataset('ds_result')\n",
    "pop_dis.set_input_dataset(\"building_dmg\", building_dmg_result)"
   ]
  },
  {
   "cell_type": "code",
   "execution_count": null,
   "id": "db11e195-4b2b-4f8b-bea0-0bd4e5c6d20b",
   "metadata": {},
   "outputs": [],
   "source": [
    "result_name = \"pop-dislocation-results\"\n",
    "seed = 1111\n",
    "\n",
    "pop_dis.set_parameter(\"result_name\", result_name)\n",
    "pop_dis.set_parameter(\"seed\", seed)"
   ]
  },
  {
   "cell_type": "code",
   "execution_count": null,
   "id": "cf731071-2be1-48e3-b8d9-1133b153a53c",
   "metadata": {},
   "outputs": [],
   "source": [
    "pop_dis.run_analysis()\n",
    "\n",
    "# Retrieve result dataset\n",
    "result = pop_dis.get_output_dataset(\"result\")\n",
    "\n",
    "# Convert dataset to Pandas DataFrame\n",
    "df = result.get_dataframe_from_csv(low_memory=False)\n",
    "df.head()"
   ]
  },
  {
   "cell_type": "markdown",
   "id": "fcc303bc-b213-437c-9ade-ec53c72b246d",
   "metadata": {},
   "source": [
    "# 7.2. Sociological Resilience Metrics"
   ]
  },
  {
   "cell_type": "markdown",
   "id": "f0572269-6e0f-47b5-97bf-4871db363368",
   "metadata": {},
   "source": [
    "## 7.2.1. Percent of Population Dislocation"
   ]
  },
  {
   "cell_type": "markdown",
   "id": "c807adcd-603a-4af1-b2f4-4b23ad2359ef",
   "metadata": {},
   "source": [
    "To determine if a household dislocate a random value was uniformly sampled between 0 and 1: if this value was lower than the probability of dislocation, then the household was set to dislocate. The results below provide one example of how the output can be explored by population subgroups. The model is designed to run as part of a larger Monte Carlo Simulation."
   ]
  },
  {
   "cell_type": "code",
   "execution_count": null,
   "id": "33d509a9-f44e-4a8f-8425-d0059aa4e220",
   "metadata": {},
   "outputs": [],
   "source": [
    "pop_result = pop_dis.get_output_dataset(\"result\")\n",
    "\n",
    "df = pop_result.get_dataframe_from_csv(low_memory=False)\n",
    "# Select Housing units allocated to buildings"
   ]
  },
  {
   "cell_type": "code",
   "execution_count": null,
   "id": "27967eee-78da-42ce-8117-25f95ab3ba11",
   "metadata": {},
   "outputs": [],
   "source": [
    "table_title = \"Total population by tenure status and dislocation.\"\n",
    "pd.crosstab(df['ownershp'], df['dislocated'], df['numprec'], aggfunc = sum,\n",
    "            dropna=True, margins=True, margins_name=\"Total\").style.set_caption(table_title)"
   ]
  },
  {
   "cell_type": "markdown",
   "id": "3de1f714-c34c-4290-8c35-4c576491403f",
   "metadata": {},
   "source": [
    "The variable ownershp represents the tenure status of households. When ownershp = 1 the housing unit is owner-occupied. When the ownershp = 2 the housing unit is renter-occupied. The results above provide the percent of the population predicted to dislocate based on tenure status. When the variable dislocated = True the household is predicted to dislocate."
   ]
  },
  {
   "cell_type": "markdown",
   "id": "63f0bcc0-dc5f-4766-8a7d-22f16604b7c6",
   "metadata": {},
   "source": [
    "# Capital Stock Shock and CGE Analysis"
   ]
  },
  {
   "cell_type": "code",
   "execution_count": null,
   "id": "9cc311dd-50d2-4ba3-a5d0-b0773fb599f6",
   "metadata": {},
   "outputs": [],
   "source": [
    "# Joplin building to sector mapping table\n",
    "building_to_sectors_id = \"5f202d674620b643d787a5e7\"\n",
    "# Create Capital shocks analysis\n",
    "capital_shocks = CapitalShocks(client)\n",
    "\n",
    "# Load remote datasets\n",
    "capital_shocks.load_remote_input_dataset(\"buildings_to_sectors\", building_to_sectors_id)\n",
    "# Set datasets\n",
    "# Joplin building inventory\n",
    "capital_shocks.load_remote_input_dataset(\"buildings\", building_dataset_id)\n",
    "# Joplin building failure probability\n",
    "capital_shocks.set_input_dataset(\"failure_probability\", building_failure_probability)\n",
    "\n",
    "capital_shocks.set_parameter(\"result_name\", \"sector_shocks\") # name of csv file with results"
   ]
  },
  {
   "cell_type": "code",
   "execution_count": null,
   "id": "b2fd9907-55d7-4ef2-ae0b-a95138b5a4c5",
   "metadata": {},
   "outputs": [],
   "source": [
    "# Run capital shocks analysis\n",
    "capital_shocks.run_analysis()\n",
    "\n",
    "sector_shocks_result = capital_shocks.get_output_dataset(\"sector_shocks\")\n",
    "sector_shocks_result.get_dataframe_from_csv()"
   ]
  },
  {
   "cell_type": "code",
   "execution_count": null,
   "id": "c811b310-947d-486e-bfd9-548a1f7026af",
   "metadata": {},
   "outputs": [],
   "source": [
    "# Create Joplin CGE Model - TODO replace this with production client later\n",
    "joplin_cge = JoplinCGEModel(client)"
   ]
  },
  {
   "cell_type": "code",
   "execution_count": null,
   "id": "794d8411-11b5-4870-a0aa-91258e292a5b",
   "metadata": {},
   "outputs": [],
   "source": [
    "# SAM\n",
    "# Social accounting matrix (SAM) contains data for firms, households and government which are organized \n",
    "# in a way to represent the interactions of all three entities in a typical economy\n",
    "SAM = \"5dd85ae7b9219c06d4da8de4\"\n",
    "\n",
    "# CAPITAL COMP\n",
    "# BB is a matrix which describes how investment in physical infrastructure is transformed into functioning capital such as commercial and residential buildings. \n",
    "# These data are collected from the Bureau of Economic Analysis (BEA).\n",
    "BB = \"5dc1e620b9219c06dd2f473a\"\n",
    "\n",
    "# MISC TABLES\n",
    "IOUT = \"5dc1e6d8b9219c06dd2f475e\"  # This is matrix that describes the transfer of tax revenue collected by the local government to help finance local government expenditures. \n",
    "MISC = \"5dc1e736b9219c06dd2f4782\"  # This is the name of a file that contains data for commercial sector employment and physical capital. It also contains data for the number of households and working households in the economy. \n",
    "MISCH = \"5dc1e7b5b9219c06dd2f47a6\"  # A file that contains elasticities for the supply of labor with respect to paying income taxes.\n",
    "LANDCAP = \"5dc1e810b9219c06dd2f47ca\"  # Contains information regarding elasticity values for the response of changes in the price of physical capital with respect to the supply of investment.\n",
    "EMPLOY = \"5dc1e85ab9219c06dd2f47ee\"  # Table name containing data for commercial sector employment.\n",
    "IGTD = \"5dc1e895b9219c06dd2f4812\"  # This variable represents a matrix describing the transfer of taxes collected to a variable which permits governments to spend the tax revenue on workers and intermediate inputs.\n",
    "TAUFF = \"5dc1e8eeb9219c06dd2f4836\"  # Represents social security tax rates\n",
    "JOBCR = \"5dc1e962b9219c06dd2f487e\"  # This is a matrix describing the supply of workers coming from each household group in the economy. \n",
    "OUTCR = \"5dc1e9aeb9219c06dd2f48bc\"  # This a matrix describing the number of workers who live in Joplin but commute outside of town to work."
   ]
  },
  {
   "cell_type": "code",
   "execution_count": null,
   "id": "5cf83b72-51be-4fc6-b02b-a211d5d1a3fc",
   "metadata": {},
   "outputs": [],
   "source": [
    "# Set analysis input datasets\n",
    "joplin_cge.load_remote_input_dataset(\"SAM\", SAM)\n",
    "joplin_cge.load_remote_input_dataset(\"BB\", BB)\n",
    "joplin_cge.load_remote_input_dataset(\"IOUT\", IOUT)\n",
    "joplin_cge.load_remote_input_dataset(\"MISC\", MISC)\n",
    "joplin_cge.load_remote_input_dataset(\"MISCH\", MISCH)\n",
    "joplin_cge.load_remote_input_dataset(\"LANDCAP\", LANDCAP)\n",
    "joplin_cge.load_remote_input_dataset(\"EMPLOY\", EMPLOY)\n",
    "joplin_cge.load_remote_input_dataset(\"IGTD\", IGTD)\n",
    "joplin_cge.load_remote_input_dataset(\"TAUFF\", TAUFF)\n",
    "joplin_cge.load_remote_input_dataset(\"JOBCR\", JOBCR)\n",
    "joplin_cge.load_remote_input_dataset(\"OUTCR\", OUTCR)\n",
    "joplin_cge.set_input_dataset(\"sector_shocks\", sector_shocks_result)"
   ]
  },
  {
   "cell_type": "code",
   "execution_count": null,
   "id": "ff025c9f-8330-4ff1-9b44-84406cff5ade",
   "metadata": {},
   "outputs": [],
   "source": [
    "# Set analysis parameters\n",
    "joplin_cge.set_parameter(\"solver_path\", \"ipopt\")\n",
    "joplin_cge.set_parameter(\"model_iterations\", 1)"
   ]
  },
  {
   "cell_type": "code",
   "execution_count": null,
   "id": "69c2af55-6538-44c0-bc06-d24854eafa8e",
   "metadata": {},
   "outputs": [],
   "source": [
    "# Run CGE\n",
    "joplin_cge.run_analysis()"
   ]
  },
  {
   "cell_type": "code",
   "execution_count": null,
   "id": "c3865515-4978-4a06-a49c-0ca121ae3142",
   "metadata": {},
   "outputs": [],
   "source": [
    "domestic_supply = joplin_cge.get_output_dataset('domestic-supply')\n",
    "ds = domestic_supply.get_dataframe_from_csv()\n",
    "# Display top 6 rows of output data\n",
    "ds.head(6)"
   ]
  },
  {
   "cell_type": "code",
   "execution_count": null,
   "id": "b8d554b7-724e-4a80-ae47-0135a8f1c74f",
   "metadata": {},
   "outputs": [],
   "source": [
    "gross_income = joplin_cge.get_output_dataset('gross-income')\n",
    "gi = gross_income.get_dataframe_from_csv()\n",
    "gi.head()"
   ]
  },
  {
   "cell_type": "code",
   "execution_count": null,
   "id": "401e88a9-6a78-440a-b953-1d7efa99a01b",
   "metadata": {},
   "outputs": [],
   "source": [
    "pre_factor_demand = joplin_cge.get_output_dataset('pre-disaster-factor-demand')\n",
    "pre_fd = pre_factor_demand.get_dataframe_from_csv()\n",
    "pre_fd.head()"
   ]
  },
  {
   "cell_type": "code",
   "execution_count": null,
   "id": "5b0166c7-a620-468c-a053-2f576d63b368",
   "metadata": {},
   "outputs": [],
   "source": [
    "household_count = joplin_cge.get_output_dataset('household-count')\n",
    "hc = household_count.get_dataframe_from_csv()\n",
    "hc.head()"
   ]
  },
  {
   "cell_type": "code",
   "execution_count": null,
   "id": "b0be1660-c364-497f-99ce-1410033ab708",
   "metadata": {},
   "outputs": [],
   "source": [
    "# Configure pyincore access and the analysis with the information above\n",
    "social_vulnerability = SocialVulnerability(client)\n",
    "\n",
    "social_vulnerability.set_parameter(\"result_name\", \"social_vulnerabilty\")\n",
    "social_vulnerability.load_remote_input_dataset(\"national_vulnerability_feature_averages\", \"63d178c2a011a9746c948115\")\n",
    "social_vulnerability.load_remote_input_dataset(\"social_vulnerability_demographic_factors\", \"63d17d89c4b5713b9c0bb8c1\")"
   ]
  },
  {
   "cell_type": "code",
   "execution_count": null,
   "id": "8f88d0a1-58c7-4a3d-affa-9666f91796b6",
   "metadata": {},
   "outputs": [],
   "source": [
    "# Run social vulnerability damage analysis\n",
    "social_vulnerability.run_analysis()"
   ]
  },
  {
   "cell_type": "code",
   "execution_count": null,
   "id": "3c699ec1-e628-4b99-b45d-e4b8ecd297a8",
   "metadata": {},
   "outputs": [],
   "source": [
    "# Retrieve result dataset\n",
    "sv_result = social_vulnerability.get_output_dataset(\"sv_result\")"
   ]
  },
  {
   "cell_type": "code",
   "execution_count": null,
   "id": "c6d72d86-d4bf-43e9-9ebb-efe52e5509db",
   "metadata": {},
   "outputs": [],
   "source": [
    "housing_data = Dataset.from_data_service(housing_unit_alloc, data_services)\n",
    "housing_inv = housing_data.get_dataframe_from_csv(low_memory=False)"
   ]
  },
  {
   "cell_type": "code",
   "execution_count": null,
   "id": "2655fd32-4014-4dd7-98d9-42e6a99c1884",
   "metadata": {},
   "outputs": [],
   "source": [
    "### Household Level Housing Recovery Analysis"
   ]
  },
  {
   "cell_type": "code",
   "execution_count": null,
   "id": "eeb92908-c254-4c96-b250-fc1c8764ff43",
   "metadata": {},
   "outputs": [],
   "source": [
    "# Population dislocation result aggregated to the block group level.\n",
    "# Transition probability matrix per social vulnerability level.\n",
    "transition_probability_matrix = \"60f5e2ae544e944c3cec0794\"\n",
    "# Initial mass probability function for stage 0.\n",
    "initial_probability_vector = \"60f5e918544e944c3cec668b\"\n",
    "\n",
    "# Create housing recovery instance\n",
    "housing_recovery = HousingRecoverySequential(client)\n",
    "\n",
    "# Load input datasets\n",
    "housing_recovery.set_input_dataset(\"population_dislocation_block\", pop_result)\n",
    "housing_recovery.load_remote_input_dataset(\"tpm\", transition_probability_matrix)\n",
    "housing_recovery.load_remote_input_dataset(\"initial_stage_probabilities\", initial_probability_vector)\n",
    "housing_recovery.set_parameter(\"num_cpu\", 4)\n",
    "\n",
    "# Chain with SV output\n",
    "housing_recovery.set_input_dataset('sv_result', sv_result)\n",
    "\n",
    "# Initial value to seed the random number generator to ensure replication\n",
    "seed = 1111\n",
    "# A size of the analysis time step.\n",
    "t_delta = 1.0\n",
    "# Total duration.\n",
    "t_final = 90.0\n",
    "\n",
    "\n",
    "# Specify the result name\n",
    "result_name = \"housing_recovery_result\"\n",
    "\n",
    "# Set analysis parameters\n",
    "housing_recovery.set_parameter(\"result_name\", result_name)\n",
    "housing_recovery.set_parameter(\"seed\", seed)\n",
    "housing_recovery.set_parameter(\"t_delta\", t_delta)\n",
    "housing_recovery.set_parameter(\"t_final\", t_final)\n",
    "\n",
    "housing_recovery.run()"
   ]
  },
  {
   "cell_type": "code",
   "execution_count": null,
   "id": "5502e182-3d23-46cd-8051-d9a7361785e7",
   "metadata": {},
   "outputs": [],
   "source": [
    "# Retrieve result dataset\n",
    "result = housing_recovery.get_output_dataset(\"ds_result\")\n",
    "\n",
    "# Convert dataset to Pandas DataFrame\n",
    "HH_stagehistory_DF = result.get_dataframe_from_csv(low_memory=False)\n",
    "\n",
    "# Display top 5 rows of output data\n",
    "HH_stagehistory_DF.head()"
   ]
  },
  {
   "cell_type": "code",
   "execution_count": null,
   "id": "01be7515-4736-4934-b526-0d34cc1fa247",
   "metadata": {},
   "outputs": [],
   "source": [
    "Stage = HH_stagehistory_DF[\"1\"]"
   ]
  },
  {
   "cell_type": "code",
   "execution_count": null,
   "id": "025a2a0f-70a4-475a-a633-2df87f3f9e12",
   "metadata": {},
   "outputs": [],
   "source": [
    "plt.rcParams[\"figure.figsize\"] = [6, 4]\n",
    "\n",
    "fig, ax = plt.subplots()\n",
    "h_states = ['ES', 'TS', 'TH', 'PH', 'F']\n",
    "\n",
    "counts = [(Stage==1.0).sum(),(Stage==2.0).sum(),(Stage==3.0).sum(),(Stage==4.0).sum(),(Stage==5.0).sum()]\n",
    "bar_labels = ['1', '2', '3', '4','5']\n",
    "bar_colors = ['tab:red', 'tab:orange', 'tab:green', 'tab:blue', 'tab:cyan']\n",
    "\n",
    "ax.bar(h_states, counts, label=bar_labels, color=bar_colors)\n",
    "\n",
    "ax.set_ylabel('Frequency')\n",
    "ax.set_title('Housing Recovery Stage Summary')\n",
    "ax.legend(title='Stage')\n",
    "\n",
    "for bars in ax.containers:\n",
    "    ax.bar_label(bars)\n",
    "plt.show()\n",
    "# ES: Emergency Shelter, TS: Temporary Shelter, TH: Temporary Housing, PH: Permanent Housing, F:Failure"
   ]
  },
  {
   "cell_type": "code",
   "execution_count": null,
   "id": "fdb0b4c6-c51b-475a-8f32-867e1fb71888",
   "metadata": {},
   "outputs": [],
   "source": [
    "timesteps = [\"1\", \"7\", \"13\", \"25\", \"49\", \"85\"] # t0, t6, t12, t24, t48\n",
    "print(HHRSOutputProcess.get_hhrs_stage_count(timesteps, HH_stagehistory_DF))"
   ]
  },
  {
   "cell_type": "markdown",
   "id": "ae300ce2-310f-47fa-b109-cc155bd3b3ff",
   "metadata": {},
   "source": [
    "# 8. Retrofit Strategies\n",
    "This section will walk you through the following steps to apply retrofit strategies to building damage analyses.\n",
    "- 8.1 Building Damage Analysis for Non-Retrofittd Strategy\n",
    "- 8.2 Building Damage Analysis for 3 Retrofit Strategies\n",
    "- 8.3 Plot Damage State Distribution Across Analyses"
   ]
  },
  {
   "cell_type": "markdown",
   "id": "15642c87-175d-4dbe-b172-1a1a86026995",
   "metadata": {},
   "source": [
    "## 8.1 Building Damage Analysis for Non-Retrofit Strategy\n",
    "This step is the same as step 2-1 to step 2-4. We set up an analysis without any retrofit strategy."
   ]
  },
  {
   "cell_type": "code",
   "execution_count": null,
   "id": "528ab13a-2898-441c-99c2-1577726467d5",
   "metadata": {},
   "outputs": [],
   "source": [
    "building_dataset_id = \"5dbc8478b9219c06dd242c0d\"  # Load the Joplin building dataset.\n",
    "buildings = Dataset.from_data_service(building_dataset_id, data_services)"
   ]
  },
  {
   "cell_type": "code",
   "execution_count": null,
   "id": "febd7ad9-ce1a-48e2-9100-1c189da785f3",
   "metadata": {},
   "outputs": [],
   "source": [
    "archetype_mapping = \"5fca92781ab3d87c35db1e54\"\n",
    "hazard_type = \"tornado\"\n",
    "hazard_id = \"5d07cbeab9219c065b080930\"  # The simulated EF-5 tornado shows geographical locations and the range\n",
    "                                        # of wind speed of tornado hazard in Joplin.\n",
    "\n",
    "fragility_service = FragilityService(client)\n",
    "mapping_id = \"5d8942dfb9219c068ea795ea\" # Create a mapping to assign tornado fragilities to 19 building archetypes.\n",
    "mapping_set = MappingSet(fragility_service.get_mapping(mapping_id))"
   ]
  },
  {
   "cell_type": "code",
   "execution_count": null,
   "id": "202f69ec-d614-4106-b91e-ad19d18392eb",
   "metadata": {},
   "outputs": [],
   "source": [
    "# Analysis setup\n",
    "result_name = \"Joplin_bldg_dmg_result_w_retrofit\"\n",
    "\n",
    "bldg_dmg = BuildingDamage(client)\n",
    "bldg_dmg.set_input_dataset(\"buildings\", buildings)\n",
    "bldg_dmg.set_input_dataset('dfr3_mapping_set', mapping_set)\n",
    "bldg_dmg.set_parameter(\"result_name\", result_name)\n",
    "bldg_dmg.set_parameter(\"hazard_type\", hazard_type)\n",
    "bldg_dmg.set_parameter(\"hazard_id\", hazard_id)\n",
    "bldg_dmg.set_parameter(\"num_cpu\", 4)\n",
    "#bldg_dmg.set_input_dataset(\"retrofit_strategy\", retrofit_strategy_plan)\n",
    "\n",
    "# Run building damage\n",
    "bldg_dmg.run_analysis()\n",
    "\n",
    "# Assuming you have a way to load your CSV into a DataF\n",
    "bldg_dmg_df=bldg_dmg.get_output_dataset('ds_result').get_dataframe_from_csv()"
   ]
  },
  {
   "cell_type": "markdown",
   "id": "0ea91e0c-39bd-41b2-b41c-f84d1dd7dc24",
   "metadata": {},
   "source": [
    "## 8.2 Building Damage Analysis for 3 Retrofit Strategies\n",
    "This section demonstrates how to apply three different retrofit strategies to building damage analyses. We utilise the same `BuildingDamage` object and run analyses with different `retrofit_strategy` parameters."
   ]
  },
  {
   "cell_type": "code",
   "execution_count": null,
   "id": "216c1278-ff01-4817-b1d4-8d9a9c111bbd",
   "metadata": {},
   "outputs": [],
   "source": [
    "# Retrofit Strategy A: \n",
    "retrofit_strategy_A_id = \"6614a2851f87410ae38a69f1\" # 100% Retrofit Method 1\n",
    "retrofit_strategy_plan = Dataset.from_data_service(retrofit_strategy_A_id, data_services)\n",
    "bldg_dmg.set_input_dataset(\"retrofit_strategy\", retrofit_strategy_plan)\n",
    "bldg_dmg.run_analysis()\n",
    "bldg_dmg_df_A=bldg_dmg.get_output_dataset('ds_result').get_dataframe_from_csv()\n",
    "\n",
    "# Retrofit Strategy B: \n",
    "retrofit_strategy_B_id = \"6614a2b3099327393f84baa5\" # 100% Retrofit Method 2\n",
    "retrofit_strategy_plan = Dataset.from_data_service(retrofit_strategy_B_id, data_services)\n",
    "bldg_dmg.set_input_dataset(\"retrofit_strategy\", retrofit_strategy_plan)\n",
    "bldg_dmg.run_analysis()\n",
    "bldg_dmg_df_B=bldg_dmg.get_output_dataset('ds_result').get_dataframe_from_csv()\n",
    "\n",
    "# Retrofit Strategy C: \n",
    "retrofit_strategy_C_id = \"6614a2e21f87410ae38a6aa2\" # 100% Retrofit Method 3\n",
    "retrofit_strategy_plan = Dataset.from_data_service(retrofit_strategy_C_id, data_services)\n",
    "bldg_dmg.set_input_dataset(\"retrofit_strategy\", retrofit_strategy_plan)\n",
    "bldg_dmg.run_analysis()\n",
    "bldg_dmg_df_C=bldg_dmg.get_output_dataset('ds_result').get_dataframe_from_csv()"
   ]
  },
  {
   "cell_type": "markdown",
   "id": "a978bca2-60c1-40cc-b412-f57aeebe2ff4",
   "metadata": {},
   "source": [
    "## 8.3 Plot Damage State Distribution Across Analyses"
   ]
  },
  {
   "cell_type": "code",
   "execution_count": null,
   "id": "826f038e-e1a1-4f3a-a870-6fe25d2885c2",
   "metadata": {},
   "outputs": [],
   "source": [
    "# Create a single figure and a 1x3 grid of subplots\n",
    "fig, axs = plt.subplots(1, 3, figsize=(10, 5)) # Adjust the figure size as needed\n",
    "fig.suptitle('Damage State Distribution Across Analyses', fontsize=14)\n",
    "\n",
    "# Flatten the axs array for easy iteration\n",
    "axs = axs.flatten()\n",
    "\n",
    "# List of DataFrames for iteration\n",
    "df_list = [bldg_dmg_df_A, bldg_dmg_df_B, bldg_dmg_df_C]\n",
    "# Titles for each subplot\n",
    "titles = ['100% Retrofit Method 1', '100% Retrofit Method 2', '100% Retrofit Method 3'] \n",
    "\n",
    "# Loop through the DataFrames and their corresponding axes and titles\n",
    "for ax, df, title in zip(axs, df_list, titles):\n",
    "    # Perform your analysis here\n",
    "    DSlist = np.array(['DS_0', 'DS_1', 'DS_2', 'DS_3'])\n",
    "    spf_ss_likelyDS = DSlist[df.loc[:,['DS_0', 'DS_1', 'DS_2', 'DS_3']].values.argmax(axis=1)]\n",
    "    df['likelyDS'] = spf_ss_likelyDS\n",
    "    keys, counts = np.unique(spf_ss_likelyDS, return_counts=True)\n",
    "    \n",
    "    # Plot on the current axis\n",
    "    ax.bar(keys, counts)\n",
    "    ax.set_title(title, fontsize=12)\n",
    "    ax.set_xlabel(\"Likely Damage State\", fontsize=10)\n",
    "    ax.set_ylabel(\"Counts\", fontsize=10)\n",
    "    ax.tick_params(axis='x', rotation=45) # Optional: Rotate x-axis labels for better readability\n",
    "    \n",
    "    # Ensure correct value annotations on each bar\n",
    "    for bars in ax.containers:\n",
    "        ax.bar_label(bars)\n",
    "\n",
    "# Adjust layout for better spacing between subplots\n",
    "plt.tight_layout(rect=[0, 0.03, 1, 0.95])\n",
    "\n",
    "# Show the plot\n",
    "plt.show()"
   ]
  }
 ],
 "metadata": {
  "kernelspec": {
   "display_name": "Python 3 (ipykernel)",
   "language": "python",
   "name": "python3"
  },
  "language_info": {
   "codemirror_mode": {
    "name": "ipython",
    "version": 3
   },
   "file_extension": ".py",
   "mimetype": "text/x-python",
   "name": "python",
   "nbconvert_exporter": "python",
   "pygments_lexer": "ipython3",
   "version": "3.9.18"
  },
  "widgets": {
   "application/vnd.jupyter.widget-state+json": {
    "state": {},
    "version_major": 2,
    "version_minor": 0
   }
  }
 },
 "nbformat": 4,
 "nbformat_minor": 5
}
