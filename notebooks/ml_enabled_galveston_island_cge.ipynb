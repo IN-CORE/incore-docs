{
 "cells": [
  {
   "cell_type": "code",
   "execution_count": null,
   "metadata": {},
   "outputs": [],
   "source": [
    "from pyincore import IncoreClient\n",
    "from pyincore.analyses.mlenabledcgegalvestonisland import MlEnabledCgeGalvestonIsland\n",
    "from pyincore import globals as pyglobals\n",
    "\n",
    "# Supress default INFO logging\n",
    "\n",
    "import logging\n",
    "\n",
    "logger = pyglobals.LOGGER\n",
    "logger.setLevel(logging.CRITICAL)"
   ]
  },
  {
   "cell_type": "code",
   "execution_count": null,
   "metadata": {},
   "outputs": [],
   "source": [
    "client = IncoreClient()"
   ]
  },
  {
   "cell_type": "code",
   "execution_count": null,
   "metadata": {},
   "outputs": [],
   "source": [
    "sector_shocks = \"643adeb634810d74880e7bd5\"  # This is the aggregation of building functionality states to capital shocks per sector."
   ]
  },
  {
   "cell_type": "code",
   "execution_count": null,
   "metadata": {},
   "outputs": [],
   "source": [
    "# Create Machine Learning Enabled CGE Salt Lake City Model\n",
    "ml_enabled_cge = MlEnabledCgeGalvestonIsland(client)"
   ]
  },
  {
   "cell_type": "code",
   "execution_count": null,
   "metadata": {},
   "outputs": [],
   "source": [
    "# Set analysis input datasets\n",
    "ml_enabled_cge.load_remote_input_dataset(\"sector_shocks\", sector_shocks)\n",
    "\n",
    "# Optional parameters for file naming\n",
    "ml_enabled_cge.set_parameter(\"result_name\", \"test_galveston_mlcge_result\")"
   ]
  },
  {
   "cell_type": "code",
   "execution_count": null,
   "metadata": {},
   "outputs": [],
   "source": [
    "# Run Galveston city CGE model analysis\n",
    "ml_enabled_cge.run_analysis()"
   ]
  },
  {
   "cell_type": "code",
   "execution_count": null,
   "metadata": {},
   "outputs": [],
   "source": [
    "domestic_supply = ml_enabled_cge.get_output_dataset(\"domestic-supply\")\n",
    "ds = domestic_supply.get_dataframe_from_csv()\n",
    "# Display top 6 rows of output data\n",
    "ds.head(6)"
   ]
  },
  {
   "cell_type": "code",
   "execution_count": null,
   "metadata": {},
   "outputs": [],
   "source": [
    "gross_income = ml_enabled_cge.get_output_dataset(\"gross-income\")\n",
    "gi = gross_income.get_dataframe_from_csv()\n",
    "gi.head()"
   ]
  },
  {
   "cell_type": "code",
   "execution_count": null,
   "metadata": {},
   "outputs": [],
   "source": [
    "pre_factor_demand = ml_enabled_cge.get_output_dataset(\"pre-disaster-factor-demand\")\n",
    "pre_fd = pre_factor_demand.get_dataframe_from_csv()\n",
    "pre_fd.head()"
   ]
  },
  {
   "cell_type": "code",
   "execution_count": null,
   "metadata": {},
   "outputs": [],
   "source": [
    "post_factor_demand = ml_enabled_cge.get_output_dataset(\"post-disaster-factor-demand\")\n",
    "pos_fd = post_factor_demand.get_dataframe_from_csv()\n",
    "pos_fd.head()"
   ]
  },
  {
   "cell_type": "code",
   "execution_count": null,
   "metadata": {},
   "outputs": [],
   "source": [
    "household_count = ml_enabled_cge.get_output_dataset(\"household-count\")\n",
    "hc = household_count.get_dataframe_from_csv()\n",
    "hc.head()"
   ]
  },
  {
   "cell_type": "code",
   "execution_count": null,
   "metadata": {},
   "outputs": [],
   "source": []
  }
 ],
 "metadata": {
  "kernelspec": {
   "display_name": "pyincore",
   "language": "python",
   "name": "python3"
  },
  "language_info": {
   "codemirror_mode": {
    "name": "ipython",
    "version": 3
   },
   "file_extension": ".py",
   "mimetype": "text/x-python",
   "name": "python",
   "nbconvert_exporter": "python",
   "pygments_lexer": "ipython3",
   "version": "3.11.6"
  }
 },
 "nbformat": 4,
 "nbformat_minor": 2
}
