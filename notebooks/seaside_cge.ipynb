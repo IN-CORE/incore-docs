{
 "cells": [
  {
   "cell_type": "code",
   "execution_count": 1,
   "metadata": {},
   "outputs": [],
   "source": [
    "from pyincore import IncoreClient\n",
    "from pyincore.analyses.seasidecge import SeasideCGEModel"
   ]
  },
  {
   "cell_type": "code",
   "execution_count": 2,
   "metadata": {},
   "outputs": [
    {
     "name": "stdout",
     "output_type": "stream",
     "text": [
      "Connection successful to IN-CORE services. pyIncore version detected: 0.9.0\n"
     ]
    }
   ],
   "source": [
    "client = IncoreClient()"
   ]
  },
  {
   "cell_type": "code",
   "execution_count": 3,
   "metadata": {},
   "outputs": [],
   "source": [
    "# SAM\n",
    "# Social accounting matrix (SAM) contains data for firms, households and government which are organized \n",
    "# in a way to represent the interactions of all three entities in a typical economy\n",
    "SAM = \"5f17393633b2700c11feab38\"\n",
    "\n",
    "# CAPITAL COMP\n",
    "# BB is a matrix which describes how investment in physical infrastructure is transformed into functioning capital such as commercial and residential buildings. \n",
    "# These data are collected from the Bureau of Economic Analysis (BEA).\n",
    "BB = \"603d23d634f29a7fa41c4c4e\"\n",
    "\n",
    "# MISC TABLES\n",
    "EMPLOY = \"5f173c97c98cf43417c8955d\" # Table name containing data for commercial sector employment.\n",
    "JOBCR = \"5f173d262fab4d660a8e9f9c\" # This is a matrix describing the supply of workers coming from each household group in the economy.\n",
    "HHTABLE = \"5f173d6bc98cf43417c89561\" # HH Table\n",
    "SIMS = \"5f174211c98cf43417c89565\" # Random numbers for the change of capital stocks in the CGE model.\n",
    "sector_shocks = \"5f5fdbc1b7745919a9e2482d\" # This is the aggregation of building functionality states to capital shocks per sector."
   ]
  },
  {
   "cell_type": "code",
   "execution_count": 4,
   "metadata": {},
   "outputs": [],
   "source": [
    "# Create Joplin CGE Model\n",
    "seaside_cge = SeasideCGEModel(client)"
   ]
  },
  {
   "cell_type": "code",
   "execution_count": 5,
   "metadata": {},
   "outputs": [
    {
     "name": "stdout",
     "output_type": "stream",
     "text": [
      "Dataset already exists locally. Reading from local cached zip.\n",
      "Unzipped folder found in the local cache. Reading from it...\n",
      "Dataset already exists locally. Reading from local cached zip.\n",
      "Unzipped folder found in the local cache. Reading from it...\n",
      "Dataset already exists locally. Reading from local cached zip.\n",
      "Unzipped folder found in the local cache. Reading from it...\n",
      "Dataset already exists locally. Reading from local cached zip.\n",
      "Unzipped folder found in the local cache. Reading from it...\n",
      "Dataset already exists locally. Reading from local cached zip.\n",
      "Unzipped folder found in the local cache. Reading from it...\n",
      "Dataset already exists locally. Reading from local cached zip.\n",
      "Unzipped folder found in the local cache. Reading from it...\n"
     ]
    }
   ],
   "source": [
    "# Set analysis input datasets\n",
    "seaside_cge.load_remote_input_dataset(\"SAM\", SAM)\n",
    "seaside_cge.load_remote_input_dataset(\"BB\", BB)\n",
    "seaside_cge.load_remote_input_dataset(\"EMPLOY\", EMPLOY)\n",
    "seaside_cge.load_remote_input_dataset(\"JOBCR\", JOBCR)\n",
    "seaside_cge.load_remote_input_dataset(\"HHTABLE\", HHTABLE)\n",
    "seaside_cge.load_remote_input_dataset(\"SIMS\", SIMS)\n",
    "seaside_cge.load_remote_input_dataset(\"sector_shocks\", sector_shocks)"
   ]
  },
  {
   "cell_type": "markdown",
   "metadata": {},
   "source": [
    "The solver_path variable points to the absolute path for where the ipopt solver is installed. To know the absolute path of the ipopt solver in your local machine, open a terminal window, activate your pyIncore environment, and run the following command according to your OS:\n",
    "* on Mac: open a terminal window, activate your conda environment and type \"which ipopt\". Paste the resulting path below.\n",
    "* on Windows: open a command terminal, activate your conda environment and type \"whereipopt\". Paste the resulting path below.\n"
   ]
  },
  {
   "cell_type": "code",
   "execution_count": 6,
   "metadata": {},
   "outputs": [
    {
     "data": {
      "text/plain": [
       "True"
      ]
     },
     "execution_count": 6,
     "metadata": {},
     "output_type": "execute_result"
    }
   ],
   "source": [
    "# Set analysis parameters (optional)\n",
    "seaside_cge.set_parameter(\"solver_path\", \"ipopt\")\n",
    "seaside_cge.set_parameter(\"print_solver_output\", False)"
   ]
  },
  {
   "cell_type": "code",
   "execution_count": 7,
   "metadata": {},
   "outputs": [
    {
     "name": "stdout",
     "output_type": "stream",
     "text": [
      "Invalid executable path, please make sure you have Pyomo installed.\n",
      "Invalid executable path, please make sure you have Pyomo installed.\n"
     ]
    },
    {
     "data": {
      "text/plain": [
       "True"
      ]
     },
     "execution_count": 7,
     "metadata": {},
     "output_type": "execute_result"
    }
   ],
   "source": [
    "# Run Seaside CGE model analysis\n",
    "seaside_cge.run_analysis()"
   ]
  },
  {
   "cell_type": "code",
   "execution_count": 8,
   "metadata": {},
   "outputs": [
    {
     "data": {
      "text/html": [
       "<div>\n",
       "<style scoped>\n",
       "    .dataframe tbody tr th:only-of-type {\n",
       "        vertical-align: middle;\n",
       "    }\n",
       "\n",
       "    .dataframe tbody tr th {\n",
       "        vertical-align: top;\n",
       "    }\n",
       "\n",
       "    .dataframe thead th {\n",
       "        text-align: right;\n",
       "    }\n",
       "</style>\n",
       "<table border=\"1\" class=\"dataframe\">\n",
       "  <thead>\n",
       "    <tr style=\"text-align: right;\">\n",
       "      <th></th>\n",
       "      <th>dsc</th>\n",
       "      <th>dsr</th>\n",
       "      <th>mig</th>\n",
       "      <th>emp</th>\n",
       "      <th>hhinc</th>\n",
       "    </tr>\n",
       "  </thead>\n",
       "  <tbody>\n",
       "    <tr>\n",
       "      <th>0</th>\n",
       "      <td>-24129.542243</td>\n",
       "      <td>-1408.965696</td>\n",
       "      <td>-7.121257</td>\n",
       "      <td>-32.767088</td>\n",
       "      <td>-3146.974452</td>\n",
       "    </tr>\n",
       "  </tbody>\n",
       "</table>\n",
       "</div>"
      ],
      "text/plain": [
       "            dsc          dsr       mig        emp        hhinc\n",
       "0 -24129.542243 -1408.965696 -7.121257 -32.767088 -3146.974452"
      ]
     },
     "execution_count": 8,
     "metadata": {},
     "output_type": "execute_result"
    }
   ],
   "source": [
    "domestic_supply = seaside_cge.get_output_dataset('Seaside_Sims')\n",
    "df_fp = domestic_supply.get_dataframe_from_csv()\n",
    "# Display top 5 rows of output data\n",
    "df_fp.head()"
   ]
  },
  {
   "cell_type": "code",
   "execution_count": 9,
   "metadata": {
    "pycharm": {
     "name": "#%%\n"
    }
   },
   "outputs": [
    {
     "data": {
      "text/html": [
       "<div>\n",
       "<style scoped>\n",
       "    .dataframe tbody tr th:only-of-type {\n",
       "        vertical-align: middle;\n",
       "    }\n",
       "\n",
       "    .dataframe tbody tr th {\n",
       "        vertical-align: top;\n",
       "    }\n",
       "\n",
       "    .dataframe thead th {\n",
       "        text-align: right;\n",
       "    }\n",
       "</style>\n",
       "<table border=\"1\" class=\"dataframe\">\n",
       "  <thead>\n",
       "    <tr style=\"text-align: right;\">\n",
       "      <th></th>\n",
       "      <th>Seaside</th>\n",
       "      <th>Amount of Change</th>\n",
       "      <th>Percent Change</th>\n",
       "    </tr>\n",
       "  </thead>\n",
       "  <tbody>\n",
       "    <tr>\n",
       "      <th>0</th>\n",
       "      <td>Total Employment</td>\n",
       "      <td>-23.13</td>\n",
       "      <td>-0.62%</td>\n",
       "    </tr>\n",
       "    <tr>\n",
       "      <th>1</th>\n",
       "      <td>Domestic Supply(mil of $)</td>\n",
       "      <td>-25538.51</td>\n",
       "      <td>-1.73%</td>\n",
       "    </tr>\n",
       "    <tr>\n",
       "      <th>2</th>\n",
       "      <td>Real Household Income(mil of $)</td>\n",
       "      <td>NaN</td>\n",
       "      <td>NaN</td>\n",
       "    </tr>\n",
       "    <tr>\n",
       "      <th>3</th>\n",
       "      <td>HH1</td>\n",
       "      <td>-9.04</td>\n",
       "      <td>-0.39%</td>\n",
       "    </tr>\n",
       "    <tr>\n",
       "      <th>4</th>\n",
       "      <td>HH2</td>\n",
       "      <td>-197.70</td>\n",
       "      <td>-0.72%</td>\n",
       "    </tr>\n",
       "  </tbody>\n",
       "</table>\n",
       "</div>"
      ],
      "text/plain": [
       "                           Seaside  Amount of Change Percent Change\n",
       "0                 Total Employment            -23.13         -0.62%\n",
       "1        Domestic Supply(mil of $)         -25538.51         -1.73%\n",
       "2  Real Household Income(mil of $)               NaN            NaN\n",
       "3                              HH1             -9.04         -0.39%\n",
       "4                              HH2           -197.70         -0.72%"
      ]
     },
     "execution_count": 9,
     "metadata": {},
     "output_type": "execute_result"
    }
   ],
   "source": [
    "gross_income = seaside_cge.get_output_dataset('Seaside_output')\n",
    "df_fp = gross_income.get_dataframe_from_csv()\n",
    "df_fp.head()"
   ]
  }
 ],
 "metadata": {
  "kernelspec": {
   "display_name": "Python 3",
   "language": "python",
   "name": "python3"
  },
  "language_info": {
   "codemirror_mode": {
    "name": "ipython",
    "version": 3
   },
   "file_extension": ".py",
   "mimetype": "text/x-python",
   "name": "python",
   "nbconvert_exporter": "python",
   "pygments_lexer": "ipython3",
   "version": "3.7.10"
  }
 },
 "nbformat": 4,
 "nbformat_minor": 4
}
