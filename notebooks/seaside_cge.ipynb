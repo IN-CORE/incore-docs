{
 "cells": [
  {
   "cell_type": "code",
   "execution_count": null,
   "metadata": {},
   "outputs": [],
   "source": [
    "from pyincore import IncoreClient\n",
    "from pyincore.analyses.seasidecge import SeasideCGEModel"
   ]
  },
  {
   "cell_type": "code",
   "execution_count": null,
   "metadata": {},
   "outputs": [],
   "source": [
    "client = IncoreClient()"
   ]
  },
  {
   "cell_type": "code",
   "execution_count": null,
   "metadata": {},
   "outputs": [],
   "source": [
    "# SAM\n",
    "# Social accounting matrix (SAM) contains data for firms, households and government which are organized \n",
    "# in a way to represent the interactions of all three entities in a typical economy\n",
    "SAM = \"5f6127105060967d84ab0f99\"\n",
    "\n",
    "# CAPITAL COMP\n",
    "# BB is a matrix which describes how investment in physical infrastructure is transformed into functioning capital such as commercial and residential buildings. \n",
    "# These data are collected from the Bureau of Economic Analysis (BEA).\n",
    "BB = \"5f6132ad5060967d84abdfd3\"\n",
    "\n",
    "# MISC TABLES\n",
    "EMPLOY = \"5f6127e85060967d84ab0feb\" # Table name containing data for commercial sector employment.\n",
    "JOBCR = \"5f61284d5060967d84ab1014\" # This is a matrix describing the supply of workers coming from each household group in the economy. \n",
    "HHTABLE = \"5f6128b85060967d84ab103d\" # HH Table\n",
    "SIMS = \"5f6129035060967d84ab1066\" # Random numbers for the change of capital stocks in the CGE model.\n",
    "sector_shocks = \"5f6123e35060967d84ab0f70\" # This is the aggregation of building functionality states to capital shocks per sector."
   ]
  },
  {
   "cell_type": "code",
   "execution_count": null,
   "metadata": {},
   "outputs": [],
   "source": [
    "# Create Joplin CGE Model\n",
    "seaside_cge = SeasideCGEModel(client)"
   ]
  },
  {
   "cell_type": "code",
   "execution_count": null,
   "metadata": {},
   "outputs": [],
   "source": [
    "# Set analysis input datasets\n",
    "seaside_cge.load_remote_input_dataset(\"SAM\", SAM)\n",
    "seaside_cge.load_remote_input_dataset(\"BB\", BB)\n",
    "seaside_cge.load_remote_input_dataset(\"EMPLOY\", EMPLOY)\n",
    "seaside_cge.load_remote_input_dataset(\"JOBCR\", JOBCR)\n",
    "seaside_cge.load_remote_input_dataset(\"JOBCR\", HHTABLE)\n",
    "seaside_cge.load_remote_input_dataset(\"JOBCR\", SIMS)\n",
    "seaside_cge.load_remote_input_dataset(\"sector_shocks\", sector_shocks)"
   ]
  },
  {
   "cell_type": "markdown",
   "metadata": {},
   "source": [
    "The solver_path variable points to the absolute path for where the ipopt solver is installed. To know the absolute path of the ipopt solver in your local machine, open a terminal window, activate your pyIncore environment, and run the following command according to your OS:\n",
    "* on Mac: open a terminal window, activate your conda environment and type \"which ipopt\". Paste the resulting path below.\n",
    "* on Windows: open a command terminal, activate your conda environment and type \"whereipopt\". Paste the resulting path below.\n"
   ]
  },
  {
   "cell_type": "code",
   "execution_count": null,
   "metadata": {},
   "outputs": [],
   "source": [
    "# Set analysis parameters (optional)\n",
    "seaside_cge.set_parameter(\"solver_path\", \"ipopt\")\n",
    "seaside_cge.set_parameter(\"print_solver_output\", False)"
   ]
  },
  {
   "cell_type": "code",
   "execution_count": null,
   "metadata": {},
   "outputs": [],
   "source": [
    "# Run Joplin CGE model analysis\n",
    "seaside_cge.run_analysis()"
   ]
  },
  {
   "cell_type": "code",
   "execution_count": null,
   "metadata": {},
   "outputs": [],
   "source": [
    "domestic_supply = seaside_cge.get_output_dataset('Seaside_Sims')\n",
    "df_fp = domestic_supply.get_dataframe_from_csv()\n",
    "# Display top 5 rows of output data\n",
    "df_fp.head()"
   ]
  },
  {
   "cell_type": "code",
   "execution_count": null,
   "metadata": {
    "pycharm": {
     "name": "#%%\n"
    }
   },
   "outputs": [],
   "source": [
    "gross_income = seaside_cge.get_output_dataset('Seaside_output')\n",
    "df_fp = gross_income.get_dataframe_from_csv()\n",
    "df_fp.head()"
   ]
  }
 ],
 "metadata": {
  "kernelspec": {
   "display_name": "Python 3",
   "language": "python",
   "name": "python3"
  },
  "language_info": {
   "codemirror_mode": {
    "name": "ipython",
    "version": 3
   },
   "file_extension": ".py",
   "mimetype": "text/x-python",
   "name": "python",
   "nbconvert_exporter": "python",
   "pygments_lexer": "ipython3",
   "version": "3.7.6"
  }
 },
 "nbformat": 4,
 "nbformat_minor": 4
}