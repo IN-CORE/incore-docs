{
 "cells": [
  {
   "cell_type": "code",
   "execution_count": null,
   "metadata": {},
   "outputs": [],
   "source": [
    "from pyincore import IncoreClient\n",
    "from pyincore.analyses.seasidecge import SeasideCGEModel"
   ]
  },
  {
   "cell_type": "code",
   "execution_count": null,
   "metadata": {},
   "outputs": [],
   "source": [
    "client = IncoreClient()"
   ]
  },
  {
   "cell_type": "code",
   "execution_count": null,
   "metadata": {},
   "outputs": [],
   "source": [
    "# SAM\n",
    "# Social accounting matrix (SAM) contains data for firms, households and government which are organized \n",
    "# in a way to represent the interactions of all three entities in a typical economy\n",
    "SAM = \"5f17393633b2700c11feab38\"\n",
    "\n",
    "# CAPITAL COMP\n",
    "# BB is a matrix which describes how investment in physical infrastructure is transformed into functioning capital such as commercial and residential buildings. \n",
    "# These data are collected from the Bureau of Economic Analysis (BEA).\n",
    "BB = \"603d23d634f29a7fa41c4c4e\"\n",
    "\n",
    "# MISC TABLES\n",
    "EMPLOY = \"5f173c97c98cf43417c8955d\" # Table name containing data for commercial sector employment.\n",
    "JOBCR = \"5f173d262fab4d660a8e9f9c\" # This is a matrix describing the supply of workers coming from each household group in the economy.\n",
    "HHTABLE = \"5f173d6bc98cf43417c89561\" # HH Table\n",
    "SIMS = \"5f174211c98cf43417c89565\" # Random numbers for the change of capital stocks in the CGE model.\n",
    "sector_shocks = \"5f5fdbc1b7745919a9e2482d\" # This is the aggregation of building functionality states to capital shocks per sector."
   ]
  },
  {
   "cell_type": "code",
   "execution_count": null,
   "metadata": {},
   "outputs": [],
   "source": [
    "# Create Joplin CGE Model\n",
    "seaside_cge = SeasideCGEModel(client)"
   ]
  },
  {
   "cell_type": "code",
   "execution_count": null,
   "metadata": {},
   "outputs": [],
   "source": [
    "# Set analysis input datasets\n",
    "seaside_cge.load_remote_input_dataset(\"SAM\", SAM)\n",
    "seaside_cge.load_remote_input_dataset(\"BB\", BB)\n",
    "seaside_cge.load_remote_input_dataset(\"EMPLOY\", EMPLOY)\n",
    "seaside_cge.load_remote_input_dataset(\"JOBCR\", JOBCR)\n",
    "seaside_cge.load_remote_input_dataset(\"HHTABLE\", HHTABLE)\n",
    "seaside_cge.load_remote_input_dataset(\"SIMS\", SIMS)\n",
    "seaside_cge.load_remote_input_dataset(\"sector_shocks\", sector_shocks)"
   ]
  },
  {
   "cell_type": "markdown",
   "metadata": {},
   "source": [
    "#### Troubleshooting Solver Path Issues (only if encountered)\n",
    "If your code can't run and gives you error, \"Invalid executable path, please make sure you have Pyomo installed.\", Then, you don't have \"ipopt\" properly installed. \n",
    "\n",
    "The solver_path variable points to the absolute path for where the ipopt solver is installed. To know the absolute path of the ipopt solver in your local machine, open a terminal window, activate your pyIncore environment, and run the following command according to your OS:\n",
    "* on Mac: open a terminal window, activate your conda environment and type \"which ipopt\". Paste the resulting path below.\n",
    "* on Windows: open a command terminal, activate your conda environment and type \"where ipopt\". Paste the resulting path below.\n"
   ]
  },
  {
   "cell_type": "code",
   "execution_count": null,
   "metadata": {},
   "outputs": [],
   "source": [
    "# Set analysis parameters (optional)\n",
    "#seaside_cge.set_parameter(\"solver_path\", \"ipopt\")\n",
    "#seaside_cge.set_parameter(\"print_solver_output\", False)"
   ]
  },
  {
   "cell_type": "code",
   "execution_count": null,
   "metadata": {},
   "outputs": [],
   "source": [
    "# Run Seaside CGE model analysis\n",
    "seaside_cge.run_analysis()"
   ]
  },
  {
   "cell_type": "code",
   "execution_count": null,
   "metadata": {},
   "outputs": [],
   "source": [
    "domestic_supply = seaside_cge.get_output_dataset('Seaside_Sims')\n",
    "df_fp = domestic_supply.get_dataframe_from_csv()\n",
    "# Display top 5 rows of output data\n",
    "df_fp.head()"
   ]
  },
  {
   "cell_type": "code",
   "execution_count": null,
   "metadata": {
    "pycharm": {
     "name": "#%%\n"
    }
   },
   "outputs": [],
   "source": [
    "gross_income = seaside_cge.get_output_dataset('Seaside_output')\n",
    "df_fp = gross_income.get_dataframe_from_csv()\n",
    "df_fp.head()"
   ]
  }
 ],
 "metadata": {
  "kernelspec": {
   "display_name": "Python 3",
   "language": "python",
   "name": "python3"
  },
  "language_info": {
   "codemirror_mode": {
    "name": "ipython",
    "version": 3
   },
   "file_extension": ".py",
   "mimetype": "text/x-python",
   "name": "python",
   "nbconvert_exporter": "python",
   "pygments_lexer": "ipython3",
   "version": "3.7.10"
  }
 },
 "nbformat": 4,
 "nbformat_minor": 4
}
