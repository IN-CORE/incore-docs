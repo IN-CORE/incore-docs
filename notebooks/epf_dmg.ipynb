{
 "cells": [
  {
   "cell_type": "code",
   "execution_count": null,
   "metadata": {},
   "outputs": [],
   "source": [
    "from pyincore import IncoreClient, FragilityService, MappingSet\n",
    "from pyincore.analyses.epfdamage import EpfDamage\n",
    "import pandas as pd"
   ]
  },
  {
   "cell_type": "code",
   "execution_count": null,
   "metadata": {},
   "outputs": [],
   "source": [
    "client = IncoreClient()"
   ]
  },
  {
   "cell_type": "markdown",
   "metadata": {},
   "source": [
    "## Seaside earthquake EPF damage"
   ]
  },
  {
   "cell_type": "code",
   "execution_count": null,
   "metadata": {},
   "outputs": [],
   "source": [
    "# Seaside earthquake AtkinsonBoore1995\n",
    "hazard_type = \"earthquake\"\n",
    "hazard_id = \"5d3b6a31b9219cf53284c73d\""
   ]
  },
  {
   "cell_type": "code",
   "execution_count": null,
   "metadata": {},
   "outputs": [],
   "source": [
    "# Electric power facility dataset\n",
    "epf_dataset_id = \"5d263f08b9219cf93c056c68\"\n",
    "# Earthquake mapping\n",
    "mapping_id = \"5d489aa1b9219c0689f1988e\""
   ]
  },
  {
   "cell_type": "code",
   "execution_count": null,
   "metadata": {},
   "outputs": [],
   "source": [
    "# Run epf damage \n",
    "eq_epf_dmg = EpfDamage(client)\n",
    "eq_epf_dmg.load_remote_input_dataset(\"epfs\", epf_dataset_id)\n",
    "\n",
    "# Load fragility mapping\n",
    "fragility_service = FragilityService(client)\n",
    "mapping_set = MappingSet(fragility_service.get_mapping(mapping_id))\n",
    "eq_epf_dmg.set_input_dataset(\"dfr3_mapping_set\", mapping_set)"
   ]
  },
  {
   "cell_type": "code",
   "execution_count": null,
   "metadata": {
    "pycharm": {
     "name": "#%%\n"
    }
   },
   "outputs": [],
   "source": [
    "result_name = \"hazus_epf_dmg_result\"\n",
    "eq_epf_dmg.set_parameter(\"result_name\", result_name)\n",
    "eq_epf_dmg.set_parameter(\"hazard_type\", hazard_type)\n",
    "eq_epf_dmg.set_parameter(\"hazard_id\", hazard_id)\n",
    "eq_epf_dmg.set_parameter(\"num_cpu\", 1)\n",
    "\n",
    "# Run Analysis\n",
    "eq_epf_dmg.run_analysis()"
   ]
  },
  {
   "cell_type": "code",
   "execution_count": null,
   "metadata": {},
   "outputs": [],
   "source": [
    "eq_epf_dmg.get_output_dataset('result').get_dataframe_from_csv()"
   ]
  },
  {
   "cell_type": "markdown",
   "metadata": {},
   "source": [
    "## Galveston hurricane EPF damage"
   ]
  },
  {
   "cell_type": "code",
   "execution_count": null,
   "metadata": {},
   "outputs": [],
   "source": [
    "epf_dmg_hurricane_galveston = EpfDamage(client)\n",
    "epf_dmg_hurricane_galveston.load_remote_input_dataset(\"epfs\", \"62fc000f88470b319561b58d\")\n",
    "\n",
    "# Load fragility mapping\n",
    "fragility_service = FragilityService(client)\n",
    "mapping_set = MappingSet(fragility_service.get_mapping(\"62fac92ecef2881193f22613\"))\n",
    "epf_dmg_hurricane_galveston.set_input_dataset('dfr3_mapping_set', mapping_set)\n",
    "\n",
    "epf_dmg_hurricane_galveston.set_parameter(\"result_name\", \"galveston_hurricane_epf_damage\")\n",
    "epf_dmg_hurricane_galveston.set_parameter(\"hazard_type\", \"hurricane\")\n",
    "epf_dmg_hurricane_galveston.set_parameter(\"hazard_id\", \"5fa5a228b6429615aeea4410\")\n",
    "epf_dmg_hurricane_galveston.set_parameter(\"fragility_key\", \"Non-Retrofit Fragility ID Code\")\n",
    "epf_dmg_hurricane_galveston.set_parameter(\"num_cpu\", 8)\n",
    "\n",
    "# Run Analysis\n",
    "epf_dmg_hurricane_galveston.run_analysis()"
   ]
  },
  {
   "cell_type": "code",
   "execution_count": null,
   "metadata": {},
   "outputs": [],
   "source": [
    "epf_dmg_hurricane_galveston.get_output_dataset('result').get_dataframe_from_csv()"
   ]
  }
 ],
 "metadata": {
  "kernelspec": {
   "display_name": "Python 3 (ipykernel)",
   "language": "python",
   "name": "python3"
  },
  "language_info": {
   "codemirror_mode": {
    "name": "ipython",
    "version": 3
   },
   "file_extension": ".py",
   "mimetype": "text/x-python",
   "name": "python",
   "nbconvert_exporter": "python",
   "pygments_lexer": "ipython3",
   "version": "3.8.13"
  }
 },
 "nbformat": 4,
 "nbformat_minor": 1
}
