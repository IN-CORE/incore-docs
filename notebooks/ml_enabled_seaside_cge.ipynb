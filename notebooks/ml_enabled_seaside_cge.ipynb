{
 "cells": [
  {
   "cell_type": "code",
   "execution_count": null,
   "id": "39fe4053",
   "metadata": {},
   "outputs": [],
   "source": [
    "from pyincore import IncoreClient\n",
    "from pyincore.analyses.mlenabledcgeseaside import MlEnabledCgeSeaside\n",
    "from pyincore import globals as pyglobals\n",
    "\n",
    "# Supress default INFO logging\n",
    "\n",
    "import logging\n",
    "\n",
    "logger = pyglobals.LOGGER\n",
    "logger.setLevel(logging.CRITICAL)"
   ]
  },
  {
   "cell_type": "code",
   "execution_count": null,
   "id": "d87a624f",
   "metadata": {},
   "outputs": [],
   "source": [
    "client = IncoreClient()"
   ]
  },
  {
   "cell_type": "code",
   "execution_count": null,
   "id": "fb6d8297",
   "metadata": {},
   "outputs": [],
   "source": [
    "# 7 region capital shocks is required for the analysis\n",
    "sector_shocks = \"682f9e039af67e76625fbc11\"  # This is the aggregation of building functionality states to capital shocks per sector."
   ]
  },
  {
   "cell_type": "code",
   "execution_count": null,
   "id": "8eb18cbd",
   "metadata": {},
   "outputs": [],
   "source": [
    "# Create Machine Learning Enabled CGE Seaside Model\n",
    "ml_enabled_seaside_cge = MlEnabledCgeSeaside(client)"
   ]
  },
  {
   "cell_type": "code",
   "execution_count": null,
   "id": "9a1a55ad",
   "metadata": {},
   "outputs": [],
   "source": [
    "# Set analysis input datasets\n",
    "ml_enabled_seaside_cge.load_remote_input_dataset(\"sector_shocks\", sector_shocks)\n",
    "\n",
    "# Optional parameters for file naming\n",
    "ml_enabled_seaside_cge.set_parameter(\"result_name\", \"seaside\")"
   ]
  },
  {
   "cell_type": "code",
   "execution_count": null,
   "id": "92e017b6",
   "metadata": {},
   "outputs": [],
   "source": [
    "# Run Seaside CGE model analysis\n",
    "ml_enabled_seaside_cge.run_analysis()"
   ]
  },
  {
   "cell_type": "code",
   "execution_count": null,
   "id": "ace870fb",
   "metadata": {},
   "outputs": [],
   "source": [
    "domestic_supply = ml_enabled_seaside_cge.get_output_dataset(\"domestic-supply\")\n",
    "ds = domestic_supply.get_dataframe_from_csv()\n",
    "# Display top 6 rows of output data\n",
    "ds.head(6)"
   ]
  },
  {
   "cell_type": "code",
   "execution_count": null,
   "id": "d8498f68",
   "metadata": {},
   "outputs": [],
   "source": [
    "gross_income = ml_enabled_seaside_cge.get_output_dataset(\"gross-income\")\n",
    "gi = gross_income.get_dataframe_from_csv()\n",
    "gi.head()"
   ]
  },
  {
   "cell_type": "code",
   "execution_count": null,
   "id": "2ae20eb5",
   "metadata": {},
   "outputs": [],
   "source": [
    "pre_factor_demand = ml_enabled_seaside_cge.get_output_dataset(\"pre-disaster-factor-demand\")\n",
    "pre_fd = pre_factor_demand.get_dataframe_from_csv()\n",
    "pre_fd.head()"
   ]
  },
  {
   "cell_type": "code",
   "execution_count": null,
   "id": "a6ddb7c1",
   "metadata": {},
   "outputs": [],
   "source": [
    "post_factor_demand = ml_enabled_seaside_cge.get_output_dataset(\"post-disaster-factor-demand\")\n",
    "pos_fd = post_factor_demand.get_dataframe_from_csv()\n",
    "pos_fd.head()"
   ]
  },
  {
   "cell_type": "code",
   "execution_count": null,
   "id": "583bec33",
   "metadata": {},
   "outputs": [],
   "source": [
    "household_count = ml_enabled_seaside_cge.get_output_dataset(\"household-count\")\n",
    "hc = household_count.get_dataframe_from_csv()\n",
    "hc.head()"
   ]
  }
 ],
 "metadata": {
  "kernelspec": {
   "display_name": "Python 3 (ipykernel)",
   "language": "python",
   "name": "python3"
  },
  "language_info": {
   "codemirror_mode": {
    "name": "ipython",
    "version": 3
   },
   "file_extension": ".py",
   "mimetype": "text/x-python",
   "name": "python",
   "nbconvert_exporter": "python",
   "pygments_lexer": "ipython3",
   "version": "3.12.8"
  }
 },
 "nbformat": 4,
 "nbformat_minor": 5
}
