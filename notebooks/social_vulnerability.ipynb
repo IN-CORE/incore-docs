{
 "cells": [
  {
   "cell_type": "code",
   "execution_count": 33,
   "metadata": {
    "pycharm": {
     "is_executing": true
    }
   },
   "outputs": [],
   "source": [
    "from pyincore import IncoreClient\n",
    "from pyincore.analyses.socialvulnerability import SocialVulnerability\n",
    "from pyincore_data.censusutil import CensusUtil\n",
    "import pandas as pd"
   ]
  },
  {
   "cell_type": "markdown",
   "metadata": {
    "pycharm": {
     "is_executing": true,
     "name": "#%%\n"
    }
   },
   "source": [
    "# Social vulnerability analysis for Douglas, Kansas census tracts (2019)"
   ]
  },
  {
   "cell_type": "code",
   "execution_count": 34,
   "metadata": {
    "pycharm": {
     "is_executing": true
    }
   },
   "outputs": [],
   "source": [
    "# Parameters\n",
    "state = \"kansas\"\n",
    "county = \"douglas\"\n",
    "year = 2019"
   ]
  },
  {
   "cell_type": "code",
   "execution_count": 37,
   "metadata": {},
   "outputs": [
    {
     "data": {
      "text/plain": [
       "'20045'"
      ]
     },
     "execution_count": 37,
     "metadata": {},
     "output_type": "execute_result"
    }
   ],
   "source": [
    "# get fips code to use fetch census data\n",
    "fips = CensusUtil.get_fips_by_state_county(state=state, county=county)\n",
    "state_code = fips[:2]\n",
    "county_code = fips[2:]\n",
    "fips"
   ]
  },
  {
   "cell_type": "markdown",
   "metadata": {},
   "source": [
    "### construct the Social vulnerability demographic factors"
   ]
  },
  {
   "cell_type": "code",
   "execution_count": 67,
   "metadata": {},
   "outputs": [],
   "source": [
    "def demographic_factors(state_number, county_number, year, geo_type=\"tract:*\"):\n",
    "\n",
    "    _, df_1 = CensusUtil.get_census_data(state=state_code, county=county_code, year=year,\n",
    "                                                              data_source=\"acs/acs5\",\n",
    "                                                              columns=\"GEO_ID,B03002_001E,B03002_003E\",\n",
    "                                                              geo_type=geo_type)\n",
    "    df_1[\"factor_white_nonHispanic\"] = df_1[[\"B03002_001E\",\"B03002_003E\"]].astype(int).apply(lambda row: row[\"B03002_003E\"]/row[\"B03002_001E\"], axis = 1)\n",
    "\n",
    "    _, df_2 = CensusUtil.get_census_data(state=state_code, county=county_code, year=year,\n",
    "                                                  data_source=\"acs/acs5\",\n",
    "                                                  columns=\"B03002_001E,B03002_002E\",\n",
    "                                                  geo_type=geo_type)\n",
    "    df_2[\"factor_owner_occupied\"] = df_owner_occupied.astype(int).apply(lambda row: row[\"B03002_002E\"]/row[\"B03002_001E\"], axis = 1)\n",
    "    \n",
    "    _, df_3 = CensusUtil.get_census_data(state=state_code, \n",
    "                                         county=county_code, \n",
    "                                         year=year,\n",
    "                                         data_source=\"acs/acs5\",\n",
    "                                         columns=\"B17021_001E,B17021_002E\",\n",
    "                                         geo_type=geo_type)\n",
    "    df_3[\"factor_earning_higher_than_national_poverty_rate\"] = df_3.astype(int).apply(lambda row: 1-row[\"B17021_002E\"]/row[\"B17021_001E\"], axis = 1)\n",
    "    \n",
    "    _, df_4 = CensusUtil.get_census_data(state=state_code, \n",
    "                                         county=county_code, \n",
    "                                         year=2019,\n",
    "                                         data_source=\"acs/acs5\",\n",
    "                                         columns=\"B15003_001E,B15003_017E,B15003_018E,B15003_019E,B15003_020E,B15003_021E,B15003_022E,B15003_023E,B15003_024E,B15003_025E\",\n",
    "                                         geo_type=geo_type)\n",
    "    df_4[\"factor_over_25_with_high_school_diploma_or_higher\"] = df_4.astype(int).apply(lambda row: (row[\"B15003_017E\"] \n",
    "                                                                                                    + row[\"B15003_018E\"] \n",
    "                                                                                                    + row[\"B15003_019E\"] \n",
    "                                                                                                    + row[\"B15003_020E\"] \n",
    "                                                                                                    + row[\"B15003_021E\"] \n",
    "                                                                                                    + row[\"B15003_022E\"] \n",
    "                                                                                                    + row[\"B15003_023E\"] \n",
    "                                                                                                    + row[\"B15003_024E\"] \n",
    "                                                                                                    + row[\"B15003_025E\"])/row[\"B15003_001E\"], axis = 1)\n",
    "\n",
    "    if geo_type == 'tract:*':\n",
    "        _, df_5 = CensusUtil.get_census_data(state=state_code, \n",
    "                                             county=county_code, \n",
    "                                             year=year,\n",
    "                                             data_source=\"acs/acs5\",\n",
    "                                             columns=\"B18101_001E,B18101_011E,B18101_014E,B18101_030E,B18101_033E\",\n",
    "                                             geo_type=geo_type)\n",
    "        df_5[\"factor_without_disability_age_18_to_65\"] = df_5.astype(int).apply(lambda row: (row[\"B18101_011E\"] + row[\"B18101_014E\"] + row[\"B18101_030E\"] + row[\"B18101_033E\"])/row[\"B18101_001E\"], axis = 1)\n",
    "    \n",
    "    elif geo_type == 'block%20group:*':\n",
    "        _, df_5 = CensusUtil.get_census_data(state=state_code, \n",
    "                                             county=county_code, \n",
    "                                             year=year,\n",
    "                                             data_source=\"acs/acs5\",\n",
    "                                             columns=\"B01003_001E,C21007_006E,C21007_009E,C21007_013E,C21007_016E\",\n",
    "                                             geo_type=geo_type)\n",
    "\n",
    "        df_5['factor_without_disability_age_18_to_65'] = df_5.astype(int).apply(lambda row: (row['C21007_006E']+\n",
    "                                                                                 row['C21007_006E']+\n",
    "                                                                                 row['C21007_009E']+\n",
    "                                                                                 row['C21007_013E'])\n",
    "                                                                                /row['C21007_016E'], axis = 1)\n",
    "\n",
    "    df_t = pd.concat([df_1[[\"GEO_ID\",\"factor_white_nonHispanic\"]],\n",
    "                      df_2[\"factor_owner_occupied\"],\n",
    "                      df_3[\"factor_earning_higher_than_national_poverty_rate\"], \n",
    "                      df_4[\"factor_over_25_with_high_school_diploma_or_higher\"],\n",
    "                      df_5[\"factor_without_disability_age_18_to_65\"]], \n",
    "                     axis=1, join='inner')\n",
    "    \n",
    "    df_t = df_t.set_index(\"GEO_ID\", drop=True)\n",
    "    \n",
    "    return df_t"
   ]
  },
  {
   "cell_type": "code",
   "execution_count": 68,
   "metadata": {},
   "outputs": [
    {
     "data": {
      "text/html": [
       "<div>\n",
       "<style scoped>\n",
       "    .dataframe tbody tr th:only-of-type {\n",
       "        vertical-align: middle;\n",
       "    }\n",
       "\n",
       "    .dataframe tbody tr th {\n",
       "        vertical-align: top;\n",
       "    }\n",
       "\n",
       "    .dataframe thead th {\n",
       "        text-align: right;\n",
       "    }\n",
       "</style>\n",
       "<table border=\"1\" class=\"dataframe\">\n",
       "  <thead>\n",
       "    <tr style=\"text-align: right;\">\n",
       "      <th></th>\n",
       "      <th>factor_white_nonHispanic</th>\n",
       "      <th>factor_owner_occupied</th>\n",
       "      <th>factor_earning_higher_than_national_poverty_rate</th>\n",
       "      <th>factor_over_25_with_high_school_diploma_or_higher</th>\n",
       "      <th>factor_without_disability_age_18_to_65</th>\n",
       "    </tr>\n",
       "    <tr>\n",
       "      <th>GEO_ID</th>\n",
       "      <th></th>\n",
       "      <th></th>\n",
       "      <th></th>\n",
       "      <th></th>\n",
       "      <th></th>\n",
       "    </tr>\n",
       "  </thead>\n",
       "  <tbody>\n",
       "    <tr>\n",
       "      <th>1400000US20045000603</th>\n",
       "      <td>0.811841</td>\n",
       "      <td>0.950568</td>\n",
       "      <td>0.922489</td>\n",
       "      <td>0.961147</td>\n",
       "      <td>0.627451</td>\n",
       "    </tr>\n",
       "    <tr>\n",
       "      <th>1400000US20045000604</th>\n",
       "      <td>0.824770</td>\n",
       "      <td>0.896972</td>\n",
       "      <td>0.932515</td>\n",
       "      <td>0.984620</td>\n",
       "      <td>0.558474</td>\n",
       "    </tr>\n",
       "    <tr>\n",
       "      <th>1400000US20045001600</th>\n",
       "      <td>0.791643</td>\n",
       "      <td>0.968932</td>\n",
       "      <td>0.957569</td>\n",
       "      <td>0.983159</td>\n",
       "      <td>0.545872</td>\n",
       "    </tr>\n",
       "    <tr>\n",
       "      <th>1400000US20045001201</th>\n",
       "      <td>0.962766</td>\n",
       "      <td>0.944557</td>\n",
       "      <td>0.966312</td>\n",
       "      <td>0.928805</td>\n",
       "      <td>0.546373</td>\n",
       "    </tr>\n",
       "    <tr>\n",
       "      <th>1400000US20045000300</th>\n",
       "      <td>0.828808</td>\n",
       "      <td>0.970945</td>\n",
       "      <td>0.501834</td>\n",
       "      <td>0.949912</td>\n",
       "      <td>0.835923</td>\n",
       "    </tr>\n",
       "  </tbody>\n",
       "</table>\n",
       "</div>"
      ],
      "text/plain": [
       "                      factor_white_nonHispanic  factor_owner_occupied  \\\n",
       "GEO_ID                                                                  \n",
       "1400000US20045000603                  0.811841               0.950568   \n",
       "1400000US20045000604                  0.824770               0.896972   \n",
       "1400000US20045001600                  0.791643               0.968932   \n",
       "1400000US20045001201                  0.962766               0.944557   \n",
       "1400000US20045000300                  0.828808               0.970945   \n",
       "\n",
       "                      factor_earning_higher_than_national_poverty_rate  \\\n",
       "GEO_ID                                                                   \n",
       "1400000US20045000603                                          0.922489   \n",
       "1400000US20045000604                                          0.932515   \n",
       "1400000US20045001600                                          0.957569   \n",
       "1400000US20045001201                                          0.966312   \n",
       "1400000US20045000300                                          0.501834   \n",
       "\n",
       "                      factor_over_25_with_high_school_diploma_or_higher  \\\n",
       "GEO_ID                                                                    \n",
       "1400000US20045000603                                           0.961147   \n",
       "1400000US20045000604                                           0.984620   \n",
       "1400000US20045001600                                           0.983159   \n",
       "1400000US20045001201                                           0.928805   \n",
       "1400000US20045000300                                           0.949912   \n",
       "\n",
       "                      factor_without_disability_age_18_to_65  \n",
       "GEO_ID                                                        \n",
       "1400000US20045000603                                0.627451  \n",
       "1400000US20045000604                                0.558474  \n",
       "1400000US20045001600                                0.545872  \n",
       "1400000US20045001201                                0.546373  \n",
       "1400000US20045000300                                0.835923  "
      ]
     },
     "execution_count": 68,
     "metadata": {},
     "output_type": "execute_result"
    }
   ],
   "source": [
    "geo_type = \"tract:*\"\n",
    "social_vunlnerability_dem_factors = demographic_factors(state_code, county_code, year=2019, geo_type=geo_type)"
   ]
  },
  {
   "cell_type": "code",
   "execution_count": 43,
   "metadata": {},
   "outputs": [],
   "source": [
    "def national_ave_values (state_code, county_code, year, data_source=\"acs/acs5\", geo_type=\"tract:*\"):\n",
    "    _, nav1 = CensusUtil.get_census_data(state=state_code, county=county_code, year=year, data_source=data_source,\n",
    "                             columns=\"B03002_001E,B03002_003E\",geo_type=geo_type)\n",
    "    nav1 = nav1.astype(int)\n",
    "    nav1.loc['USA']= nav1.sum(numeric_only=True, axis=0)\n",
    "    nav1['NAV-1: White, nonHispanic'] = nav1.apply(lambda row: row['B03002_003E']/\n",
    "                                                  row['B03002_001E'], axis = 1)\n",
    "\n",
    "    _, nav2 = CensusUtil.get_census_data(state=state_code, county=county_code, year=year, data_source=data_source,\n",
    "                             columns=\"B25003_001E,B25003_002E\",geo_type=geo_type)\n",
    "    nav2 = nav2.astype(int)\n",
    "    nav2.loc['USA']= nav2.sum(numeric_only=True, axis=0)\n",
    "    nav2['NAV-2: Home Owners'] = nav2.apply(lambda row: row['B25003_002E']/row['B25003_001E'], axis = 1)\n",
    "\n",
    "    _, nav3 = CensusUtil.get_census_data(state=state_code, county=county_code, year=year, data_source=data_source,\n",
    "                             columns=\"B17021_001E,B17021_002E\",geo_type=geo_type)\n",
    "    nav3 = nav3.astype(int)\n",
    "    nav3.loc['USA']= nav3.sum(numeric_only=True, axis=0)\n",
    "    nav3['NAV-3: earning higher than national poverty rate'] = nav3.apply(lambda row: 1-(row['B17021_002E']\n",
    "                                                                                        /row['B17021_001E']), axis = 1)\n",
    "\n",
    "    _, nav4 = CensusUtil.get_census_data(state=state_code, county=county_code, year=year, data_source=data_source,\n",
    "                             columns=\"B15003_001E,B15003_017E,B15003_018E,B15003_019E,B15003_020E,B15003_021E,B15003_022E,B15003_023E,B15003_024E','B15003_025E\",\n",
    "                                         geo_type=geo_type)\n",
    "    nav4 = nav4.astype(int)\n",
    "    nav4.loc['USA']= nav4.sum(numeric_only=True, axis=0)\n",
    "    nav4['NAV-4: over 25 with high school diploma or higher'] = nav4.apply(lambda row: (row['B15003_017E']+\n",
    "                                                                                       row['B15003_018E']+\n",
    "                                                                                       row['B15003_019E']+\n",
    "                                                                                       row['B15003_020E']+\n",
    "                                                                                       row['B15003_021E']+\n",
    "                                                                                       row['B15003_022E']+\n",
    "                                                                                       row['B15003_023E']+\n",
    "                                                                                       row['B15003_024E']+\n",
    "                                                                                       row['B15003_025E'])\n",
    "                                                                                       /row['B15003_001E'], axis = 1)\n",
    "\n",
    "    _, nav5 = CensusUtil.get_census_data(state=state_code, county=county_code, year=year, data_source=data_source,\n",
    "                             columns=\"B18101_001E,B18101_011E,B18101_014E,B18101_030E,B18101_033E\",\n",
    "                                         geo_type=geo_type)\n",
    "    nav5 = nav5.astype(int)\n",
    "    nav5.loc['USA']= nav5.sum(numeric_only=True, axis=0)\n",
    "    nav5['NAV-5: without disability age 18 to 65'] = nav5.apply(lambda row: (row['B18101_011E']+\n",
    "                                                                             row['B18101_014E']+\n",
    "                                                                             row['B18101_030E']+\n",
    "                                                                             row['B18101_033E'])/row['B18101_001E'], axis = 1)\n",
    "    navs = np.array([\n",
    "        nav1.iloc[52]['NAV-1: White, nonHispanic'],\n",
    "        nav2.iloc[52]['NAV-2: Home Owners'],\n",
    "        nav3.iloc[52]['NAV-3: earning higher than national poverty rate'],\n",
    "        nav4.iloc[52]['NAV-4: over 25 with high school diploma or higher'],\n",
    "        nav5.iloc[52]['NAV-5: without disability age 18 to 65']\n",
    "    ])\n",
    "    \n",
    "    return navs"
   ]
  },
  {
   "cell_type": "code",
   "execution_count": null,
   "metadata": {},
   "outputs": [],
   "source": []
  },
  {
   "cell_type": "code",
   "execution_count": 46,
   "metadata": {},
   "outputs": [
    {
     "ename": "Exception",
     "evalue": "Failed to download the data from Census API. Please check your parameters.",
     "output_type": "error",
     "traceback": [
      "\u001b[0;31m---------------------------------------------------------------------------\u001b[0m",
      "\u001b[0;31mException\u001b[0m                                 Traceback (most recent call last)",
      "Input \u001b[0;32mIn [46]\u001b[0m, in \u001b[0;36m<cell line: 1>\u001b[0;34m()\u001b[0m\n\u001b[0;32m----> 1\u001b[0m navs \u001b[38;5;241m=\u001b[39m \u001b[43mnational_ave_values\u001b[49m\u001b[43m \u001b[49m\u001b[43m(\u001b[49m\u001b[43mstate_code\u001b[49m\u001b[43m,\u001b[49m\u001b[43m \u001b[49m\u001b[43mcounty_code\u001b[49m\u001b[43m,\u001b[49m\u001b[43m \u001b[49m\u001b[43myear\u001b[49m\u001b[38;5;241;43m=\u001b[39;49m\u001b[38;5;241;43m2019\u001b[39;49m\u001b[43m)\u001b[49m\n",
      "Input \u001b[0;32mIn [43]\u001b[0m, in \u001b[0;36mnational_ave_values\u001b[0;34m(state_code, county_code, year, data_source, geo_type)\u001b[0m\n\u001b[1;32m     18\u001b[0m nav3\u001b[38;5;241m.\u001b[39mloc[\u001b[38;5;124m'\u001b[39m\u001b[38;5;124mUSA\u001b[39m\u001b[38;5;124m'\u001b[39m]\u001b[38;5;241m=\u001b[39m nav3\u001b[38;5;241m.\u001b[39msum(numeric_only\u001b[38;5;241m=\u001b[39m\u001b[38;5;28;01mTrue\u001b[39;00m, axis\u001b[38;5;241m=\u001b[39m\u001b[38;5;241m0\u001b[39m)\n\u001b[1;32m     19\u001b[0m nav3[\u001b[38;5;124m'\u001b[39m\u001b[38;5;124mNAV-3: earning higher than national poverty rate\u001b[39m\u001b[38;5;124m'\u001b[39m] \u001b[38;5;241m=\u001b[39m nav3\u001b[38;5;241m.\u001b[39mapply(\u001b[38;5;28;01mlambda\u001b[39;00m row: \u001b[38;5;241m1\u001b[39m\u001b[38;5;241m-\u001b[39m(row[\u001b[38;5;124m'\u001b[39m\u001b[38;5;124mB17021_002E\u001b[39m\u001b[38;5;124m'\u001b[39m]\n\u001b[1;32m     20\u001b[0m                                                                                     \u001b[38;5;241m/\u001b[39mrow[\u001b[38;5;124m'\u001b[39m\u001b[38;5;124mB17021_001E\u001b[39m\u001b[38;5;124m'\u001b[39m]), axis \u001b[38;5;241m=\u001b[39m \u001b[38;5;241m1\u001b[39m)\n\u001b[0;32m---> 22\u001b[0m _, nav4 \u001b[38;5;241m=\u001b[39m \u001b[43mCensusUtil\u001b[49m\u001b[38;5;241;43m.\u001b[39;49m\u001b[43mget_census_data\u001b[49m\u001b[43m(\u001b[49m\u001b[43mstate\u001b[49m\u001b[38;5;241;43m=\u001b[39;49m\u001b[43mstate_code\u001b[49m\u001b[43m,\u001b[49m\u001b[43m \u001b[49m\u001b[43mcounty\u001b[49m\u001b[38;5;241;43m=\u001b[39;49m\u001b[43mcounty_code\u001b[49m\u001b[43m,\u001b[49m\u001b[43m \u001b[49m\u001b[43myear\u001b[49m\u001b[38;5;241;43m=\u001b[39;49m\u001b[43myear\u001b[49m\u001b[43m,\u001b[49m\u001b[43m \u001b[49m\u001b[43mdata_source\u001b[49m\u001b[38;5;241;43m=\u001b[39;49m\u001b[43mdata_source\u001b[49m\u001b[43m,\u001b[49m\n\u001b[1;32m     23\u001b[0m \u001b[43m                         \u001b[49m\u001b[43mcolumns\u001b[49m\u001b[38;5;241;43m=\u001b[39;49m\u001b[38;5;124;43m\"\u001b[39;49m\u001b[38;5;124;43mB15003_001E,B15003_017E,B15003_018E,B15003_019E,B15003_020E,B15003_021E,B15003_022E,B15003_023E,B15003_024E\u001b[39;49m\u001b[38;5;124;43m'\u001b[39;49m\u001b[38;5;124;43m,\u001b[39;49m\u001b[38;5;124;43m'\u001b[39;49m\u001b[38;5;124;43mB15003_025E\u001b[39;49m\u001b[38;5;124;43m\"\u001b[39;49m\u001b[43m,\u001b[49m\n\u001b[1;32m     24\u001b[0m \u001b[43m                                     \u001b[49m\u001b[43mgeo_type\u001b[49m\u001b[38;5;241;43m=\u001b[39;49m\u001b[43mgeo_type\u001b[49m\u001b[43m)\u001b[49m\n\u001b[1;32m     25\u001b[0m nav4 \u001b[38;5;241m=\u001b[39m nav4\u001b[38;5;241m.\u001b[39mastype(\u001b[38;5;28mint\u001b[39m)\n\u001b[1;32m     26\u001b[0m nav4\u001b[38;5;241m.\u001b[39mloc[\u001b[38;5;124m'\u001b[39m\u001b[38;5;124mUSA\u001b[39m\u001b[38;5;124m'\u001b[39m]\u001b[38;5;241m=\u001b[39m nav4\u001b[38;5;241m.\u001b[39msum(numeric_only\u001b[38;5;241m=\u001b[39m\u001b[38;5;28;01mTrue\u001b[39;00m, axis\u001b[38;5;241m=\u001b[39m\u001b[38;5;241m0\u001b[39m)\n",
      "File \u001b[0;32m~/opt/miniconda3/envs/pyincoreEnv/lib/python3.8/site-packages/pyincore_data/censusutil.py:51\u001b[0m, in \u001b[0;36mCensusUtil.get_census_data\u001b[0;34m(state, county, year, data_source, columns, geo_type, data_name)\u001b[0m\n\u001b[1;32m     48\u001b[0m \u001b[38;5;66;03m# create census api data url\u001b[39;00m\n\u001b[1;32m     49\u001b[0m data_url \u001b[38;5;241m=\u001b[39m CensusUtil\u001b[38;5;241m.\u001b[39mgenerate_census_api_url(state, county, year, data_source, columns, geo_type, data_name)\n\u001b[0;32m---> 51\u001b[0m api_json, api_df \u001b[38;5;241m=\u001b[39m \u001b[43mCensusUtil\u001b[49m\u001b[38;5;241;43m.\u001b[39;49m\u001b[43mrequest_census_api\u001b[49m\u001b[43m(\u001b[49m\u001b[43mdata_url\u001b[49m\u001b[43m)\u001b[49m\n\u001b[1;32m     53\u001b[0m \u001b[38;5;28;01mreturn\u001b[39;00m api_json, api_df\n",
      "File \u001b[0;32m~/opt/miniconda3/envs/pyincoreEnv/lib/python3.8/site-packages/pyincore_data/censusutil.py:118\u001b[0m, in \u001b[0;36mCensusUtil.request_census_api\u001b[0;34m(data_url)\u001b[0m\n\u001b[1;32m    116\u001b[0m     error_msg \u001b[38;5;241m=\u001b[39m \u001b[38;5;124m\"\u001b[39m\u001b[38;5;124mFailed to download the data from Census API. Please check your parameters.\u001b[39m\u001b[38;5;124m\"\u001b[39m\n\u001b[1;32m    117\u001b[0m     \u001b[38;5;66;03m# logger.error(error_msg)\u001b[39;00m\n\u001b[0;32m--> 118\u001b[0m     \u001b[38;5;28;01mraise\u001b[39;00m \u001b[38;5;167;01mException\u001b[39;00m(error_msg)\n\u001b[1;32m    120\u001b[0m \u001b[38;5;66;03m# Convert the requested json into pandas dataframe\u001b[39;00m\n\u001b[1;32m    122\u001b[0m api_json \u001b[38;5;241m=\u001b[39m request_json\u001b[38;5;241m.\u001b[39mjson()\n",
      "\u001b[0;31mException\u001b[0m: Failed to download the data from Census API. Please check your parameters."
     ]
    }
   ],
   "source": [
    "navs = national_ave_values (state_code, county_code, year=2019)"
   ]
  },
  {
   "cell_type": "code",
   "execution_count": null,
   "metadata": {
    "pycharm": {
     "is_executing": true
    }
   },
   "outputs": [],
   "source": [
    "# Configure pyincore access and the analysis with the information above\n",
    "\n",
    "client = IncoreClient()\n",
    "social_vulnerability = SocialVulnerability(client)\n",
    "\n",
    "social_vulnerability.set_parameter(\"result_name\", \"social_vulnerabilty\")\n",
    "social_vulnerability.set_parameter(\"year\", year)\n",
    "social_vulnerability.set_parameter(\"state\", state)\n",
    "social_vulnerability.set_parameter(\"county\", county)\n",
    "social_vulnerability.set_parameter(\"census_geo_level\", census_geo_level)\n",
    "\n",
    "social_vulnerability.load_remote_input_dataset(\"national_vulnerability_feature_averages\",\n",
    "                                               national_vulnerability_feature_averages)\n",
    "social_vulnerability.load_remote_input_dataset(\"social_vulnerability_demographic_factors\",\n",
    "                                               social_vulnerability_demographic_factors)"
   ]
  },
  {
   "cell_type": "code",
   "execution_count": null,
   "metadata": {
    "pycharm": {
     "is_executing": true
    }
   },
   "outputs": [],
   "source": [
    "# Run social vulnerability damage analysis\n",
    "result = social_vulnerability.run_analysis()"
   ]
  },
  {
   "cell_type": "code",
   "execution_count": null,
   "metadata": {
    "pycharm": {
     "is_executing": true
    }
   },
   "outputs": [],
   "source": [
    "# Retrieve result dataset\n",
    "result = social_vulnerability.get_output_dataset(\"sv_result\")\n",
    "\n",
    "# Convert dataset to Pandas DataFrame\n",
    "df = result.get_dataframe_from_csv()\n",
    "\n",
    "# Display top 5 rows of output data\n",
    "df.head()"
   ]
  }
 ],
 "metadata": {
  "kernelspec": {
   "display_name": "Python 3 (ipykernel)",
   "language": "python",
   "name": "python3"
  },
  "language_info": {
   "codemirror_mode": {
    "name": "ipython",
    "version": 3
   },
   "file_extension": ".py",
   "mimetype": "text/x-python",
   "name": "python",
   "nbconvert_exporter": "python",
   "pygments_lexer": "ipython3",
   "version": "3.8.13"
  }
 },
 "nbformat": 4,
 "nbformat_minor": 1
}
