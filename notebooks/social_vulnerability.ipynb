{
 "cells": [
  {
   "cell_type": "code",
   "execution_count": 1,
   "metadata": {
    "pycharm": {
     "is_executing": true
    }
   },
   "outputs": [
    {
     "name": "stderr",
     "output_type": "stream",
     "text": [
      "INFO - utils.py:_init_num_threads() - Note: NumExpr detected 16 cores but \"NUMEXPR_MAX_THREADS\" not set, so enforcing safe limit of 8.\n",
      "INFO - utils.py:_init_num_threads() - NumExpr defaulting to 8 threads.\n"
     ]
    }
   ],
   "source": [
    "from pyincore import IncoreClient\n",
    "from pyincore.analyses.socialvulnerability import SocialVulnerability"
   ]
  },
  {
   "cell_type": "markdown",
   "metadata": {
    "pycharm": {
     "is_executing": true,
     "name": "#%%\n"
    }
   },
   "source": [
    "# Social vulnerability analysis for Douglas, Kansas census tracts (2019)"
   ]
  },
  {
   "cell_type": "code",
   "execution_count": 2,
   "metadata": {},
   "outputs": [],
   "source": [
    "# Parameters\n",
    "year = 2019\n",
    "state = \"kansas\"\n",
    "county = \"douglas\"\n",
    "census_geo_level = \"tract\""
   ]
  },
  {
   "cell_type": "code",
   "execution_count": 3,
   "metadata": {},
   "outputs": [],
   "source": [
    "# Dataset required, can be computed from US Census data with pyincore_data \n",
    "national_vulnerability_feature_averages = \"6242011d09b9bd46b433beb1\"\n",
    "social_vulnerability_demographic_factors = \"6242017c5b9e61751de8e530\""
   ]
  },
  {
   "cell_type": "code",
   "execution_count": 4,
   "metadata": {},
   "outputs": [
    {
     "name": "stdout",
     "output_type": "stream",
     "text": [
      "Connection successful to IN-CORE services. pyIncore version detected: 1.3.0\n",
      "Dataset already exists locally. Reading from local cached zip.\n",
      "Unzipped folder found in the local cache. Reading from it...\n",
      "Dataset already exists locally. Reading from local cached zip.\n",
      "Unzipped folder found in the local cache. Reading from it...\n"
     ]
    }
   ],
   "source": [
    "# Configure pyincore access and the analysis with the information above\n",
    "\n",
    "client = IncoreClient()\n",
    "social_vulnerability = SocialVulnerability(client)\n",
    "\n",
    "social_vulnerability.set_parameter(\"result_name\", \"social_vulnerabilty\")\n",
    "social_vulnerability.set_parameter(\"year\", year)\n",
    "social_vulnerability.set_parameter(\"state\", state)\n",
    "social_vulnerability.set_parameter(\"county\", county)\n",
    "social_vulnerability.set_parameter(\"census_geo_level\", census_geo_level)\n",
    "\n",
    "social_vulnerability.load_remote_input_dataset(\"national_vulnerability_feature_averages\",\n",
    "                                               national_vulnerability_feature_averages)\n",
    "social_vulnerability.load_remote_input_dataset(\"social_vulnerability_demographic_factors\",\n",
    "                                               social_vulnerability_demographic_factors)"
   ]
  },
  {
   "cell_type": "code",
   "execution_count": 5,
   "metadata": {},
   "outputs": [],
   "source": [
    "# Run social vulnerability damage analysis\n",
    "result = social_vulnerability.run_analysis()"
   ]
  },
  {
   "cell_type": "code",
   "execution_count": 6,
   "metadata": {},
   "outputs": [
    {
     "data": {
      "text/html": [
       "<div>\n",
       "<style scoped>\n",
       "    .dataframe tbody tr th:only-of-type {\n",
       "        vertical-align: middle;\n",
       "    }\n",
       "\n",
       "    .dataframe tbody tr th {\n",
       "        vertical-align: top;\n",
       "    }\n",
       "\n",
       "    .dataframe thead th {\n",
       "        text-align: right;\n",
       "    }\n",
       "</style>\n",
       "<table border=\"1\" class=\"dataframe\">\n",
       "  <thead>\n",
       "    <tr style=\"text-align: right;\">\n",
       "      <th></th>\n",
       "      <th>FIPS</th>\n",
       "      <th>tract number</th>\n",
       "      <th>Factor 1: White, nonHispanic</th>\n",
       "      <th>Factor 2: Home Owners</th>\n",
       "      <th>Factor 3: earning higher than national poverty rate</th>\n",
       "      <th>Factor 4: over 25 with high school diploma or higher</th>\n",
       "      <th>Factor 5: without disability age 18 to 65</th>\n",
       "      <th>R1</th>\n",
       "      <th>R2</th>\n",
       "      <th>R3</th>\n",
       "      <th>R4</th>\n",
       "      <th>R5</th>\n",
       "      <th>SVS</th>\n",
       "      <th>zone</th>\n",
       "    </tr>\n",
       "  </thead>\n",
       "  <tbody>\n",
       "    <tr>\n",
       "      <th>0</th>\n",
       "      <td>20045000100</td>\n",
       "      <td>Census Tract 1</td>\n",
       "      <td>0.846774</td>\n",
       "      <td>0.657324</td>\n",
       "      <td>0.814513</td>\n",
       "      <td>0.917801</td>\n",
       "      <td>0.517595</td>\n",
       "      <td>1.408942</td>\n",
       "      <td>1.027068</td>\n",
       "      <td>0.943816</td>\n",
       "      <td>1.044142</td>\n",
       "      <td>0.937673</td>\n",
       "      <td>1.072328</td>\n",
       "      <td>Medium Vulnerable (zone3)</td>\n",
       "    </tr>\n",
       "    <tr>\n",
       "      <th>1</th>\n",
       "      <td>20045000200</td>\n",
       "      <td>Census Tract 2</td>\n",
       "      <td>0.734517</td>\n",
       "      <td>0.435473</td>\n",
       "      <td>0.702090</td>\n",
       "      <td>0.931678</td>\n",
       "      <td>0.607595</td>\n",
       "      <td>1.222158</td>\n",
       "      <td>0.680427</td>\n",
       "      <td>0.813546</td>\n",
       "      <td>1.059930</td>\n",
       "      <td>1.100715</td>\n",
       "      <td>0.975355</td>\n",
       "      <td>Medium Vulnerable (zone3)</td>\n",
       "    </tr>\n",
       "    <tr>\n",
       "      <th>2</th>\n",
       "      <td>20045000300</td>\n",
       "      <td>Census Tract 3</td>\n",
       "      <td>0.828808</td>\n",
       "      <td>0.100506</td>\n",
       "      <td>0.501834</td>\n",
       "      <td>0.949912</td>\n",
       "      <td>0.835923</td>\n",
       "      <td>1.379048</td>\n",
       "      <td>0.157041</td>\n",
       "      <td>0.581499</td>\n",
       "      <td>1.080674</td>\n",
       "      <td>1.514353</td>\n",
       "      <td>0.942523</td>\n",
       "      <td>Medium Vulnerable (zone3)</td>\n",
       "    </tr>\n",
       "    <tr>\n",
       "      <th>3</th>\n",
       "      <td>20045000400</td>\n",
       "      <td>Census Tract 4</td>\n",
       "      <td>0.694681</td>\n",
       "      <td>0.044944</td>\n",
       "      <td>0.530612</td>\n",
       "      <td>1.000000</td>\n",
       "      <td>0.919845</td>\n",
       "      <td>1.155875</td>\n",
       "      <td>0.070225</td>\n",
       "      <td>0.614846</td>\n",
       "      <td>1.137656</td>\n",
       "      <td>1.666385</td>\n",
       "      <td>0.928997</td>\n",
       "      <td>Medium Vulnerable (zone3)</td>\n",
       "    </tr>\n",
       "    <tr>\n",
       "      <th>4</th>\n",
       "      <td>20045000501</td>\n",
       "      <td>Census Tract 5.01</td>\n",
       "      <td>0.773609</td>\n",
       "      <td>0.420516</td>\n",
       "      <td>0.856029</td>\n",
       "      <td>0.938924</td>\n",
       "      <td>0.627234</td>\n",
       "      <td>1.287204</td>\n",
       "      <td>0.657057</td>\n",
       "      <td>0.991922</td>\n",
       "      <td>1.068173</td>\n",
       "      <td>1.136294</td>\n",
       "      <td>1.028130</td>\n",
       "      <td>Medium Vulnerable (zone3)</td>\n",
       "    </tr>\n",
       "  </tbody>\n",
       "</table>\n",
       "</div>"
      ],
      "text/plain": [
       "          FIPS       tract number  Factor 1: White, nonHispanic  \\\n",
       "0  20045000100     Census Tract 1                      0.846774   \n",
       "1  20045000200     Census Tract 2                      0.734517   \n",
       "2  20045000300     Census Tract 3                      0.828808   \n",
       "3  20045000400     Census Tract 4                      0.694681   \n",
       "4  20045000501  Census Tract 5.01                      0.773609   \n",
       "\n",
       "   Factor 2: Home Owners  Factor 3: earning higher than national poverty rate  \\\n",
       "0               0.657324                                           0.814513     \n",
       "1               0.435473                                           0.702090     \n",
       "2               0.100506                                           0.501834     \n",
       "3               0.044944                                           0.530612     \n",
       "4               0.420516                                           0.856029     \n",
       "\n",
       "   Factor 4: over 25 with high school diploma or higher  \\\n",
       "0                                           0.917801      \n",
       "1                                           0.931678      \n",
       "2                                           0.949912      \n",
       "3                                           1.000000      \n",
       "4                                           0.938924      \n",
       "\n",
       "   Factor 5: without disability age 18 to 65        R1        R2        R3  \\\n",
       "0                                   0.517595  1.408942  1.027068  0.943816   \n",
       "1                                   0.607595  1.222158  0.680427  0.813546   \n",
       "2                                   0.835923  1.379048  0.157041  0.581499   \n",
       "3                                   0.919845  1.155875  0.070225  0.614846   \n",
       "4                                   0.627234  1.287204  0.657057  0.991922   \n",
       "\n",
       "         R4        R5       SVS                       zone  \n",
       "0  1.044142  0.937673  1.072328  Medium Vulnerable (zone3)  \n",
       "1  1.059930  1.100715  0.975355  Medium Vulnerable (zone3)  \n",
       "2  1.080674  1.514353  0.942523  Medium Vulnerable (zone3)  \n",
       "3  1.137656  1.666385  0.928997  Medium Vulnerable (zone3)  \n",
       "4  1.068173  1.136294  1.028130  Medium Vulnerable (zone3)  "
      ]
     },
     "execution_count": 6,
     "metadata": {},
     "output_type": "execute_result"
    }
   ],
   "source": [
    "# Retrieve result dataset\n",
    "result = social_vulnerability.get_output_dataset(\"sv_result\")\n",
    "\n",
    "# Convert dataset to Pandas DataFrame\n",
    "df = result.get_dataframe_from_csv()\n",
    "\n",
    "# Display top 5 rows of output data\n",
    "df.head()"
   ]
  }
 ],
 "metadata": {
  "kernelspec": {
   "display_name": "Python 3 (ipykernel)",
   "language": "python",
   "name": "python3"
  },
  "language_info": {
   "codemirror_mode": {
    "name": "ipython",
    "version": 3
   },
   "file_extension": ".py",
   "mimetype": "text/x-python",
   "name": "python",
   "nbconvert_exporter": "python",
   "pygments_lexer": "ipython3",
   "version": "3.8.13"
  }
 },
 "nbformat": 4,
 "nbformat_minor": 1
}
