{
 "cells": [
  {
   "cell_type": "code",
   "execution_count": null,
   "metadata": {
    "pycharm": {
     "is_executing": true
    }
   },
   "outputs": [],
   "source": [
    "import pandas as pd\n",
    "import numpy as np\n",
    "\n",
    "from pyincore import IncoreClient\n",
    "from pyincore.analyses.socialvulnerability import SocialVulnerability\n",
    "from pyincore_data.censusutil import CensusUtil\n",
    "from pyincore import Dataset"
   ]
  },
  {
   "cell_type": "markdown",
   "metadata": {
    "pycharm": {
     "is_executing": true,
     "name": "#%%\n"
    }
   },
   "source": [
    "# Social vulnerability analysis for Douglas, Kansas census tracts (2019)"
   ]
  },
  {
   "cell_type": "code",
   "execution_count": null,
   "metadata": {
    "pycharm": {
     "is_executing": true
    }
   },
   "outputs": [],
   "source": [
    "# Parameters\n",
    "state = \"kansas\"\n",
    "county = \"douglas\"\n",
    "year = 2019"
   ]
  },
  {
   "cell_type": "code",
   "execution_count": null,
   "metadata": {},
   "outputs": [],
   "source": [
    "# get fips code to use fetch census data\n",
    "fips = CensusUtil.get_fips_by_state_county(state=state, county=county)\n",
    "state_code = fips[:2]\n",
    "county_code = fips[2:]\n",
    "fips"
   ]
  },
  {
   "cell_type": "markdown",
   "metadata": {},
   "source": [
    "### construct the Social vulnerability demographic factors"
   ]
  },
  {
   "cell_type": "code",
   "execution_count": null,
   "metadata": {},
   "outputs": [],
   "source": [
    "def demographic_factors(state_number, county_number, year, geo_type=\"tract:*\"):\n",
    "\n",
    "    _, df_1 = CensusUtil.get_census_data(state=state_code, county=county_code, year=year,\n",
    "                                                              data_source=\"acs/acs5\",\n",
    "                                                              columns=\"GEO_ID,B03002_001E,B03002_003E\",\n",
    "                                                              geo_type=geo_type)\n",
    "    df_1[\"factor_white_nonHispanic\"] = df_1[[\"B03002_001E\",\"B03002_003E\"]].astype(int).apply(lambda row: row[\"B03002_003E\"]/row[\"B03002_001E\"], axis = 1)\n",
    "\n",
    "    _, df_2 = CensusUtil.get_census_data(state=state_code, county=county_code, year=year,\n",
    "                                                  data_source=\"acs/acs5\",\n",
    "                                                  columns=\"B03002_001E,B03002_002E\",\n",
    "                                                  geo_type=geo_type)\n",
    "    df_2[\"factor_owner_occupied\"] = df_2.astype(int).apply(lambda row: row[\"B03002_002E\"]/row[\"B03002_001E\"], axis = 1)\n",
    "    \n",
    "    _, df_3 = CensusUtil.get_census_data(state=state_code, \n",
    "                                         county=county_code, \n",
    "                                         year=year,\n",
    "                                         data_source=\"acs/acs5\",\n",
    "                                         columns=\"B17021_001E,B17021_002E\",\n",
    "                                         geo_type=geo_type)\n",
    "    df_3[\"factor_earning_higher_than_national_poverty_rate\"] = df_3.astype(int).apply(lambda row: 1-row[\"B17021_002E\"]/row[\"B17021_001E\"], axis = 1)\n",
    "    \n",
    "    _, df_4 = CensusUtil.get_census_data(state=state_code, \n",
    "                                         county=county_code, \n",
    "                                         year=year,\n",
    "                                         data_source=\"acs/acs5\",\n",
    "                                         columns=\"B15003_001E,B15003_017E,B15003_018E,B15003_019E,B15003_020E,B15003_021E,B15003_022E,B15003_023E,B15003_024E,B15003_025E\",\n",
    "                                         geo_type=geo_type)\n",
    "    df_4[\"factor_over_25_with_high_school_diploma_or_higher\"] = df_4.astype(int).apply(lambda row: (row[\"B15003_017E\"] \n",
    "                                                                                                    + row[\"B15003_018E\"] \n",
    "                                                                                                    + row[\"B15003_019E\"] \n",
    "                                                                                                    + row[\"B15003_020E\"] \n",
    "                                                                                                    + row[\"B15003_021E\"] \n",
    "                                                                                                    + row[\"B15003_022E\"] \n",
    "                                                                                                    + row[\"B15003_023E\"] \n",
    "                                                                                                    + row[\"B15003_024E\"] \n",
    "                                                                                                    + row[\"B15003_025E\"])/row[\"B15003_001E\"], axis = 1)\n",
    "\n",
    "    if geo_type == 'tract:*':\n",
    "        _, df_5 = CensusUtil.get_census_data(state=state_code, \n",
    "                                             county=county_code, \n",
    "                                             year=year,\n",
    "                                             data_source=\"acs/acs5\",\n",
    "                                             columns=\"B18101_001E,B18101_011E,B18101_014E,B18101_030E,B18101_033E\",\n",
    "                                             geo_type=geo_type)\n",
    "        df_5[\"factor_without_disability_age_18_to_65\"] = df_5.astype(int).apply(lambda row: (row[\"B18101_011E\"] + row[\"B18101_014E\"] + row[\"B18101_030E\"] + row[\"B18101_033E\"])/row[\"B18101_001E\"], axis = 1)\n",
    "    \n",
    "    elif geo_type == 'block%20group:*':\n",
    "        _, df_5 = CensusUtil.get_census_data(state=state_code, \n",
    "                                             county=county_code, \n",
    "                                             year=year,\n",
    "                                             data_source=\"acs/acs5\",\n",
    "                                             columns=\"B01003_001E,C21007_006E,C21007_009E,C21007_013E,C21007_016E\",\n",
    "                                             geo_type=geo_type)\n",
    "\n",
    "        df_5['factor_without_disability_age_18_to_65'] = df_5.astype(int).apply(lambda row: (row['C21007_006E']+\n",
    "                                                                                 row['C21007_006E']+\n",
    "                                                                                 row['C21007_009E']+\n",
    "                                                                                 row['C21007_013E'])\n",
    "                                                                                /row['C21007_016E'], axis = 1)\n",
    "\n",
    "    df_t = pd.concat([df_1[[\"GEO_ID\",\"factor_white_nonHispanic\"]],\n",
    "                      df_2[\"factor_owner_occupied\"],\n",
    "                      df_3[\"factor_earning_higher_than_national_poverty_rate\"], \n",
    "                      df_4[\"factor_over_25_with_high_school_diploma_or_higher\"],\n",
    "                      df_5[\"factor_without_disability_age_18_to_65\"]], \n",
    "                     axis=1, join='inner')\n",
    "    \n",
    "    df_t = df_t.set_index(\"GEO_ID\", drop=True)\n",
    "    \n",
    "    return df_t"
   ]
  },
  {
   "cell_type": "code",
   "execution_count": null,
   "metadata": {},
   "outputs": [],
   "source": [
    "def national_ave_values (state_code, county_code, year, data_source=\"acs/acs5\", geo_type=\"tract:*\"):\n",
    "    _, nav1 = CensusUtil.get_census_data(state=state_code, county=county_code, year=year, data_source=data_source,\n",
    "                             columns=\"B03002_001E,B03002_003E\",geo_type=geo_type)\n",
    "    nav1 = nav1.astype(int)\n",
    "    nav1['NAV-1: White, nonHispanic'] = nav1.apply(lambda row: row['B03002_003E']/\n",
    "                                                  row['B03002_001E'], axis = 1)\n",
    "    nav1_avg = {\"feature\": \"NAV-1: White, nonHispanic\", \n",
    "                \"average\": nav1['NAV-1: White, nonHispanic'].mean()}\n",
    "\n",
    "    _, nav2 = CensusUtil.get_census_data(state=state_code, county=county_code, year=year, data_source=data_source,\n",
    "                             columns=\"B25003_001E,B25003_002E\",geo_type=geo_type)\n",
    "    nav2 = nav2.astype(int)\n",
    "    nav2['NAV-2: Home Owners'] = nav2.apply(lambda row: row['B25003_002E']/row['B25003_001E'], axis = 1)\n",
    "    nav2_avg = {\"feature\": \"NAV-2: Home Owners\", \n",
    "                \"average\": nav2['NAV-2: Home Owners'].mean()}\n",
    "\n",
    "    _, nav3 = CensusUtil.get_census_data(state=state_code, county=county_code, year=year, data_source=data_source,\n",
    "                             columns=\"B17021_001E,B17021_002E\",geo_type=geo_type)\n",
    "    nav3 = nav3.astype(int)\n",
    "    nav3['NAV-3: earning higher than national poverty rate'] = nav3.apply(lambda row: 1-(row['B17021_002E']\n",
    "                                                                                        /row['B17021_001E']), axis = 1)\n",
    "    nav3_avg = {\"feature\":'NAV-3: earning higher than national poverty rate', \n",
    "                \"average\": nav3['NAV-3: earning higher than national poverty rate'].mean()}\n",
    "\n",
    "    _, nav4 = CensusUtil.get_census_data(state=state_code, \n",
    "                                         county=county_code, \n",
    "                                         year=year,\n",
    "                                         data_source=\"acs/acs5\",\n",
    "                                         columns=\"B15003_001E,B15003_017E,B15003_018E,B15003_019E,B15003_020E,B15003_021E,B15003_022E,B15003_023E,B15003_024E,B15003_025E\",\n",
    "                                         geo_type=geo_type)\n",
    "    nav4 = nav4.astype(int)\n",
    "    nav4['NAV-4: over 25 with high school diploma or higher'] = nav4.apply(lambda row: (row['B15003_017E']+\n",
    "                                                                                       row['B15003_018E']+\n",
    "                                                                                       row['B15003_019E']+\n",
    "                                                                                       row['B15003_020E']+\n",
    "                                                                                       row['B15003_021E']+\n",
    "                                                                                       row['B15003_022E']+\n",
    "                                                                                       row['B15003_023E']+\n",
    "                                                                                       row['B15003_024E']+\n",
    "                                                                                       row['B15003_025E'])\n",
    "                                                                                       /row['B15003_001E'], axis = 1)\n",
    "    nav4_avg = {\"feature\": 'NAV-4: over 25 with high school diploma or higher', \n",
    "                \"average\": nav4['NAV-4: over 25 with high school diploma or higher'].mean()}\n",
    "\n",
    "    _, nav5 = CensusUtil.get_census_data(state=state_code, county=county_code, year=year, data_source=data_source,\n",
    "                             columns=\"B18101_001E,B18101_011E,B18101_014E,B18101_030E,B18101_033E\",\n",
    "                                         geo_type=geo_type)\n",
    "    nav5 = nav5.astype(int)\n",
    "    nav5['NAV-5: without disability age 18 to 65'] = nav5.apply(lambda row: (row['B18101_011E']+\n",
    "                                                                             row['B18101_014E']+\n",
    "                                                                             row['B18101_030E']+\n",
    "                                                                             row['B18101_033E'])/row['B18101_001E'], axis = 1)\n",
    "    nav5_avg = {\"feature\": 'NAV-5: without disability age 18 to 65', \n",
    "                \"average\": nav5['NAV-5: without disability age 18 to 65'].mean()}\n",
    "    \n",
    "    navs = [nav1_avg, nav2_avg, nav3_avg, nav4_avg, nav5_avg]\n",
    "    \n",
    "    return navs"
   ]
  },
  {
   "cell_type": "code",
   "execution_count": null,
   "metadata": {},
   "outputs": [],
   "source": [
    "navs = national_ave_values(state_code, county_code, year)\n",
    "national_vulnerability_feature_averages = Dataset.from_csv_data(navs, name=\"national_vulnerability_feature_averages.csv\",\n",
    "                                                                 data_type=\"incore:socialVulnerabilityFeatureAverages\")"
   ]
  },
  {
   "cell_type": "code",
   "execution_count": null,
   "metadata": {},
   "outputs": [],
   "source": [
    "geo_type = \"tract:*\"\n",
    "social_vunlnerability_dem_factors_df = demographic_factors(state_code, county_code, year=2019, geo_type=geo_type)\n",
    "social_vunlnerability_dem_factors = Dataset.from_dataframe(social_vunlnerability_dem_factors_df, \n",
    "                                                           name=\"social_vunlnerability_dem_factors\",\n",
    "                                                           data_type=\"incore:socialVulnerabilityDemFactors\")"
   ]
  },
  {
   "cell_type": "code",
   "execution_count": null,
   "metadata": {
    "pycharm": {
     "is_executing": true
    }
   },
   "outputs": [],
   "source": [
    "# Configure pyincore access and the analysis with the information above\n",
    "\n",
    "client = IncoreClient()\n",
    "social_vulnerability = SocialVulnerability(client)\n",
    "\n",
    "social_vulnerability.set_parameter(\"result_name\", \"social_vulnerabilty\")\n",
    "social_vulnerability.set_input_dataset(\"national_vulnerability_feature_averages\", national_vulnerability_feature_averages)\n",
    "social_vulnerability.set_input_dataset(\"social_vulnerability_demographic_factors\", social_vunlnerability_dem_factors)"
   ]
  },
  {
   "cell_type": "code",
   "execution_count": null,
   "metadata": {
    "pycharm": {
     "is_executing": true
    }
   },
   "outputs": [],
   "source": [
    "# Run social vulnerability damage analysis\n",
    "result = social_vulnerability.run_analysis()"
   ]
  },
  {
   "cell_type": "code",
   "execution_count": null,
   "metadata": {
    "pycharm": {
     "is_executing": true
    }
   },
   "outputs": [],
   "source": [
    "# Retrieve result dataset\n",
    "result = social_vulnerability.get_output_dataset(\"sv_result\")\n",
    "\n",
    "# Convert dataset to Pandas DataFrame\n",
    "df = result.get_dataframe_from_csv()\n",
    "\n",
    "# Display top 5 rows of output data\n",
    "df.head()"
   ]
  }
 ],
 "metadata": {
  "kernelspec": {
   "display_name": "Python 3 (ipykernel)",
   "language": "python",
   "name": "python3"
  },
  "language_info": {
   "codemirror_mode": {
    "name": "ipython",
    "version": 3
   },
   "file_extension": ".py",
   "mimetype": "text/x-python",
   "name": "python",
   "nbconvert_exporter": "python",
   "pygments_lexer": "ipython3",
   "version": "3.8.13"
  }
 },
 "nbformat": 4,
 "nbformat_minor": 1
}
