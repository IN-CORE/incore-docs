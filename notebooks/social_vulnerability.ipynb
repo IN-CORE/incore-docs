{
 "cells": [
  {
   "cell_type": "code",
   "execution_count": null,
   "metadata": {
    "pycharm": {
     "is_executing": true
    }
   },
   "outputs": [],
   "source": [
    "from pyincore import IncoreClient\n",
    "from pyincore.analyses.socialvulnerability import SocialVulnerability"
   ]
  },
  {
   "cell_type": "markdown",
   "metadata": {
    "pycharm": {
     "is_executing": true,
     "name": "#%%\n"
    }
   },
   "source": [
    "# Social vulnerability analysis for Douglas, Kansas census tracts (2019)"
   ]
  },
  {
   "cell_type": "code",
   "execution_count": null,
   "metadata": {
    "pycharm": {
     "is_executing": true
    }
   },
   "outputs": [],
   "source": [
    "# Parameters\n",
    "year = 2019\n",
    "state = \"kansas\"\n",
    "county = \"douglas\"\n",
    "census_geo_level = \"tract\""
   ]
  },
  {
   "cell_type": "code",
   "execution_count": null,
   "metadata": {
    "pycharm": {
     "is_executing": true
    }
   },
   "outputs": [],
   "source": [
    "# Dataset required, can be computed from US Census data with pyincore_data \n",
    "national_vulnerability_feature_averages = \"6242011d09b9bd46b433beb1\"\n",
    "social_vulnerability_demographic_factors = \"6242017c5b9e61751de8e530\""
   ]
  },
  {
   "cell_type": "code",
   "execution_count": null,
   "metadata": {
    "pycharm": {
     "is_executing": true
    }
   },
   "outputs": [],
   "source": [
    "# Configure pyincore access and the analysis with the information above\n",
    "\n",
    "client = IncoreClient()\n",
    "social_vulnerability = SocialVulnerability(client)\n",
    "\n",
    "social_vulnerability.set_parameter(\"result_name\", \"social_vulnerabilty\")\n",
    "social_vulnerability.set_parameter(\"year\", year)\n",
    "social_vulnerability.set_parameter(\"state\", state)\n",
    "social_vulnerability.set_parameter(\"county\", county)\n",
    "social_vulnerability.set_parameter(\"census_geo_level\", census_geo_level)\n",
    "\n",
    "social_vulnerability.load_remote_input_dataset(\"national_vulnerability_feature_averages\",\n",
    "                                               national_vulnerability_feature_averages)\n",
    "social_vulnerability.load_remote_input_dataset(\"social_vulnerability_demographic_factors\",\n",
    "                                               social_vulnerability_demographic_factors)"
   ]
  },
  {
   "cell_type": "code",
   "execution_count": null,
   "metadata": {
    "pycharm": {
     "is_executing": true
    }
   },
   "outputs": [],
   "source": [
    "# Run social vulnerability damage analysis\n",
    "result = social_vulnerability.run_analysis()"
   ]
  },
  {
   "cell_type": "code",
   "execution_count": null,
   "metadata": {
    "pycharm": {
     "is_executing": true
    }
   },
   "outputs": [],
   "source": [
    "# Retrieve result dataset\n",
    "result = social_vulnerability.get_output_dataset(\"sv_result\")\n",
    "\n",
    "# Convert dataset to Pandas DataFrame\n",
    "df = result.get_dataframe_from_csv()\n",
    "\n",
    "# Display top 5 rows of output data\n",
    "df.head()"
   ]
  }
 ],
 "metadata": {
  "kernelspec": {
   "display_name": "Python 3 (ipykernel)",
   "language": "python",
   "name": "python3"
  },
  "language_info": {
   "codemirror_mode": {
    "name": "ipython",
    "version": 3
   },
   "file_extension": ".py",
   "mimetype": "text/x-python",
   "name": "python",
   "nbconvert_exporter": "python",
   "pygments_lexer": "ipython3",
   "version": "3.8.13"
  }
 },
 "nbformat": 4,
 "nbformat_minor": 1
}