{
 "cells": [
  {
   "cell_type": "code",
   "execution_count": null,
   "metadata": {},
   "outputs": [],
   "source": [
    "from pyincore import IncoreClient\n",
    "from pyincore.analyses.joplincge import JoplinCGEModel"
   ]
  },
  {
   "cell_type": "code",
   "execution_count": null,
   "metadata": {},
   "outputs": [],
   "source": [
    "client = IncoreClient()"
   ]
  },
  {
   "cell_type": "code",
   "execution_count": null,
   "metadata": {},
   "outputs": [],
   "source": [
    "# SAM\n",
    "# Social accounting matrix (SAM) contains data for firms, households and government which are organized \n",
    "# in a way to represent the interactions of all three entities in a typical economy\n",
    "SAM = \"5dd85ae7b9219c06d4da8de4\"\n",
    "\n",
    "# CAPITAL COMP\n",
    "# BB is a matrix which describes how investment in physical infrastructure is transformed into functioning capital such as commercial and residential buildings. \n",
    "# These data are collected from the Bureau of Economic Analysis (BEA).\n",
    "BB = \"5dc1e620b9219c06dd2f473a\"\n",
    "\n",
    "# MISC TABLES\n",
    "IOUT = \"5dc1e6d8b9219c06dd2f475e\"  # This is matrix that describes the transfer of tax revenue collected by the local government to help finance local government expenditures. \n",
    "MISC = \"5dc1e736b9219c06dd2f4782\"  # This is the name of a file that contains data for commercial sector employment and physical capital. It also contains data for the number of households and working households in the economy. \n",
    "MISCH = \"5dc1e7b5b9219c06dd2f47a6\"  # A file that contains elasticities for the supply of labor with respect to paying income taxes.\n",
    "LANDCAP = \"5dc1e810b9219c06dd2f47ca\"  # Contains information regarding elasticity values for the response of changes in the price of physical capital with respect to the supply of investment.\n",
    "EMPLOY = \"5dc1e85ab9219c06dd2f47ee\"  # Table name containing data for commercial sector employment.\n",
    "IGTD = \"5dc1e895b9219c06dd2f4812\"  # This variable represents a matrix describing the transfer of taxes collected to a variable which permits governments to spend the tax revenue on workers and intermediate inputs.\n",
    "TAUFF = \"5dc1e8eeb9219c06dd2f4836\"  # Represents social security tax rates\n",
    "JOBCR = \"5dc1e962b9219c06dd2f487e\"  # This is a matrix describing the supply of workers coming from each household group in the economy. \n",
    "OUTCR = \"5dc1e9aeb9219c06dd2f48bc\"  # This a matrix describing the number of workers who live in Joplin but commute outside of town to work.\n",
    "sector_shocks = \"5f21d40d4620b643d78bb4c2\"# This is the aggregation of building functionality states to capital shocks per sector."
   ]
  },
  {
   "cell_type": "code",
   "execution_count": null,
   "metadata": {},
   "outputs": [],
   "source": [
    "# Create Joplin CGE Model\n",
    "joplin_cge = JoplinCGEModel(client)"
   ]
  },
  {
   "cell_type": "code",
   "execution_count": null,
   "metadata": {},
   "outputs": [],
   "source": [
    "# Set analysis input datasets\n",
    "joplin_cge.load_remote_input_dataset(\"SAM\", SAM)\n",
    "joplin_cge.load_remote_input_dataset(\"BB\", BB)\n",
    "joplin_cge.load_remote_input_dataset(\"IOUT\", IOUT)\n",
    "joplin_cge.load_remote_input_dataset(\"MISC\", MISC)\n",
    "joplin_cge.load_remote_input_dataset(\"MISCH\", MISCH)\n",
    "joplin_cge.load_remote_input_dataset(\"LANDCAP\", LANDCAP)\n",
    "joplin_cge.load_remote_input_dataset(\"EMPLOY\", EMPLOY)\n",
    "joplin_cge.load_remote_input_dataset(\"IGTD\", IGTD)\n",
    "joplin_cge.load_remote_input_dataset(\"TAUFF\", TAUFF)\n",
    "joplin_cge.load_remote_input_dataset(\"JOBCR\", JOBCR)\n",
    "joplin_cge.load_remote_input_dataset(\"OUTCR\", OUTCR)\n",
    "joplin_cge.load_remote_input_dataset(\"sector_shocks\", sector_shocks)"
   ]
  },
  {
   "cell_type": "markdown",
   "metadata": {},
   "source": [
    "The solver_path variable points to the absolute path for where the ipopt solver is installed. To know the absolute path of the ipopt solver in your local machine, open a terminal window, activate your pyIncore environment, and run the following command according to your OS:\n",
    "* on Mac: open a terminal window, activate your conda environment and type \"which ipopt\". Paste the resulting path below.\n",
    "* on Windows: open a command terminal, activate your conda environment and type \"whereipopt\". Paste the resulting path below.\n"
   ]
  },
  {
   "cell_type": "code",
   "execution_count": null,
   "metadata": {},
   "outputs": [],
   "source": [
    "# Set analysis parameters\n",
    "joplin_cge.set_parameter(\"solver_path\", \"ipopt\")\n",
    "joplin_cge.set_parameter(\"model_iterations\", 1)"
   ]
  },
  {
   "cell_type": "code",
   "execution_count": null,
   "metadata": {},
   "outputs": [],
   "source": [
    "# Run Joplin CGE model analysis\n",
    "joplin_cge.run_analysis()"
   ]
  },
  {
   "cell_type": "code",
   "execution_count": null,
   "metadata": {},
   "outputs": [],
   "source": [
    "domestic_supply = joplin_cge.get_output_dataset('domestic-supply')\n",
    "ds = domestic_supply.get_dataframe_from_csv()\n",
    "# Display top 6 rows of output data\n",
    "ds.head(6)"
   ]
  },
  {
   "cell_type": "code",
   "execution_count": null,
   "metadata": {},
   "outputs": [],
   "source": [
    "gross_income = joplin_cge.get_output_dataset('gross-income')\n",
    "gi = gross_income.get_dataframe_from_csv()\n",
    "gi.head()"
   ]
  },
  {
   "cell_type": "code",
   "execution_count": null,
   "metadata": {},
   "outputs": [],
   "source": [
    "pre_factor_demand = joplin_cge.get_output_dataset('pre-disaster-factor-demand')\n",
    "pre_fd = pre_factor_demand.get_dataframe_from_csv()\n",
    "pre_fd.head()"
   ]
  },
  {
   "cell_type": "code",
   "execution_count": null,
   "metadata": {},
   "outputs": [],
   "source": [
    "post_factor_demand = joplin_cge.get_output_dataset('post-disaster-factor-demand')\n",
    "pos_fd = post_factor_demand.get_dataframe_from_csv()\n",
    "pos_fd.head()"
   ]
  },
  {
   "cell_type": "code",
   "execution_count": null,
   "metadata": {},
   "outputs": [],
   "source": [
    "household_count = joplin_cge.get_output_dataset('household-count')\n",
    "hc = household_count.get_dataframe_from_csv()\n",
    "hc.head()"
   ]
  }
 ],
 "metadata": {
  "kernelspec": {
   "display_name": "Python 3",
   "language": "python",
   "name": "python3"
  },
  "language_info": {
   "codemirror_mode": {
    "name": "ipython",
    "version": 3
   },
   "file_extension": ".py",
   "mimetype": "text/x-python",
   "name": "python",
   "nbconvert_exporter": "python",
   "pygments_lexer": "ipython3",
   "version": "3.7.10"
  }
 },
 "nbformat": 4,
 "nbformat_minor": 4
}