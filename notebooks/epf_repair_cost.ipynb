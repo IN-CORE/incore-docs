{
 "cells": [
  {
   "cell_type": "code",
   "execution_count": null,
   "id": "3956c72c",
   "metadata": {},
   "outputs": [],
   "source": [
    "from pyincore import IncoreClient, FragilityService, MappingSet\n",
    "from pyincore.analyses.epfrepaircost import EpfRepairCost\n",
    "from pyincore.analyses.epfdamage import EpfDamage\n",
    "from pyincore.analyses.montecarlofailureprobability import MonteCarloFailureProbability\n",
    "import pyincore.globals as pyglobals"
   ]
  },
  {
   "cell_type": "code",
   "execution_count": null,
   "id": "b61341bd",
   "metadata": {},
   "outputs": [],
   "source": [
    "client = IncoreClient()"
   ]
  },
  {
   "cell_type": "code",
   "execution_count": null,
   "id": "abe27406",
   "metadata": {},
   "outputs": [],
   "source": [
    "epf_id = \"5d263f08b9219cf93c056c68\""
   ]
  },
  {
   "cell_type": "markdown",
   "id": "e35f326c",
   "metadata": {},
   "source": [
    "### Electric Power Facility Damage"
   ]
  },
  {
   "cell_type": "code",
   "execution_count": null,
   "id": "5276b2d4",
   "metadata": {},
   "outputs": [],
   "source": [
    "epf_dmg = EpfDamage(client)\n",
    "epf_dmg.load_remote_input_dataset(\"epfs\", epf_id)\n",
    "\n",
    "fragility_service = FragilityService(client)\n",
    "# OSU Seaside Earthquake electric power facility mappings\n",
    "mapping_set = MappingSet(fragility_service.get_mapping(\"5d489aa1b9219c0689f1988e\"))  \n",
    "\n",
    "epf_dmg.set_input_dataset(\"dfr3_mapping_set\", mapping_set)\n",
    "\n",
    "epf_dmg.set_parameter(\"result_name\", \"seaside_epf_dmg_result\")\n",
    "epf_dmg.set_parameter(\"hazard_type\", \"earthquake\")\n",
    "\n",
    "# Seaside Probabilistic EQ 5000yr\n",
    "epf_dmg.set_parameter(\"hazard_id\", \"55dfbca0cb9219c101fd8a58d\") \n",
    "epf_dmg.set_parameter(\"num_cpu\", 4)\n",
    "epf_dmg.run_analysis()"
   ]
  },
  {
   "cell_type": "code",
   "execution_count": null,
   "id": "d3902f17",
   "metadata": {},
   "outputs": [],
   "source": [
    "epf_dmg_result = epf_dmg.get_output_dataset(\"result\")\n",
    "epf_dmg_result.get_dataframe_from_csv().head()"
   ]
  },
  {
   "cell_type": "markdown",
   "id": "ff23dccb",
   "metadata": {},
   "source": [
    "### Monte Carlo Simulation"
   ]
  },
  {
   "cell_type": "code",
   "execution_count": null,
   "id": "2ae809df",
   "metadata": {},
   "outputs": [],
   "source": [
    "mc = MonteCarloFailureProbability(client)\n",
    "mc.set_input_dataset(\"damage\", epf_dmg_result)\n",
    "mc.set_parameter(\"num_cpu\", 4)\n",
    "mc.set_parameter(\"num_samples\", 100)\n",
    "mc.set_parameter(\"damage_interval_keys\", [\"DS_0\", \"DS_1\", \"DS_2\", \"DS_3\", \"DS_4\"])\n",
    "mc.set_parameter(\"failure_state_keys\", [\"DS_1\", \"DS_2\", \"DS_3\", \"DS_4\"])\n",
    "\n",
    "mc.set_parameter(\"result_name\", \"seaside_epf_mc\") # name of csv file with results\n",
    "mc.run()"
   ]
  },
  {
   "cell_type": "code",
   "execution_count": null,
   "id": "0a710615",
   "metadata": {},
   "outputs": [],
   "source": [
    "epf_sample_damage_states_result = mc.get_output_dataset(\"sample_damage_states\")\n",
    "epf_sample_damage_states_result.get_dataframe_from_csv().head()"
   ]
  },
  {
   "cell_type": "markdown",
   "id": "b9975a0b",
   "metadata": {},
   "source": [
    "### Electric Power Facility Repair Cost"
   ]
  },
  {
   "cell_type": "code",
   "execution_count": null,
   "id": "b5ac0902",
   "metadata": {},
   "outputs": [],
   "source": [
    "epf_repair_cost = EpfRepairCost(client)\n",
    "\n",
    "# Seaside EPF\n",
    "epf_repair_cost.load_remote_input_dataset(\"epfs\", \"5d263f08b9219cf93c056c68\")\n",
    "\n",
    "epf_repair_cost.load_remote_input_dataset(\"replacement_cost\", \"647dff5b4dd25160127ca192\")\n",
    "\n",
    "# can be chained with MCS\n",
    "epf_repair_cost.set_input_dataset(\"sample_damage_states\", epf_sample_damage_states_result)\n",
    "\n",
    "# dmg ratios\n",
    "epf_repair_cost.load_remote_input_dataset(\"epf_dmg_ratios\", \"6483354b41181d20004efbd7\")\n",
    "\n",
    "epf_repair_cost.set_parameter(\"result_name\", \"seaside_epf\")\n",
    "epf_repair_cost.set_parameter(\"num_cpu\", 4)\n",
    "\n",
    "# Run Analysis\n",
    "epf_repair_cost.run_analysis()"
   ]
  },
  {
   "cell_type": "code",
   "execution_count": null,
   "id": "f05ce133",
   "metadata": {},
   "outputs": [],
   "source": [
    "epf_repair_cost.get_output_dataset(\"result\").get_dataframe_from_csv().head()"
   ]
  },
  {
   "cell_type": "code",
   "execution_count": null,
   "id": "45382b52",
   "metadata": {},
   "outputs": [],
   "source": []
  }
 ],
 "metadata": {
  "kernelspec": {
   "display_name": "Python 3 (ipykernel)",
   "language": "python",
   "name": "python3"
  },
  "language_info": {
   "codemirror_mode": {
    "name": "ipython",
    "version": 3
   },
   "file_extension": ".py",
   "mimetype": "text/x-python",
   "name": "python",
   "nbconvert_exporter": "python",
   "pygments_lexer": "ipython3",
   "version": "3.12.8"
  }
 },
 "nbformat": 4,
 "nbformat_minor": 5
}
