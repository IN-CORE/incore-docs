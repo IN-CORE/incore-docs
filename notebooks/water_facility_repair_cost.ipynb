{
 "cells": [
  {
   "cell_type": "code",
   "execution_count": null,
   "id": "dab00580",
   "metadata": {},
   "outputs": [],
   "source": [
    "from pyincore import IncoreClient, FragilityService, MappingSet\n",
    "from pyincore.analyses.waterfacilitydamage import WaterFacilityDamage\n",
    "from pyincore.analyses.waterfacilityrepaircost import WaterFacilityRepairCost\n",
    "from pyincore.analyses.montecarlofailureprobability import MonteCarloFailureProbability"
   ]
  },
  {
   "cell_type": "code",
   "execution_count": null,
   "id": "bcf5ae3d",
   "metadata": {},
   "outputs": [],
   "source": [
    "client = IncoreClient()"
   ]
  },
  {
   "cell_type": "code",
   "execution_count": null,
   "id": "bb867690",
   "metadata": {},
   "outputs": [],
   "source": [
    "wf_id = \"60e5e91960b3f41243faa3b2\""
   ]
  },
  {
   "cell_type": "markdown",
   "id": "398e7294",
   "metadata": {},
   "source": [
    "### Water Facility Damage"
   ]
  },
  {
   "cell_type": "code",
   "execution_count": null,
   "id": "cd25dd69",
   "metadata": {},
   "outputs": [],
   "source": [
    "# Facility damage    \n",
    "# Initializing water facility damage and fragility service\n",
    "wterfclty_dmg = WaterFacilityDamage(client)\n",
    "fragility_service = FragilityService(client)\n",
    "\n",
    "# loading input dataset\n",
    "wterfclty_dmg.load_remote_input_dataset(\"water_facilities\", wf_id)\n",
    "\n",
    "# wterfclty Fragility Mapping on incore-service\n",
    "mapping_id = \"5d39e010b9219cc18bd0b0b6\" # 5 DS\n",
    "mapping_set = MappingSet(fragility_service.get_mapping(mapping_id))\n",
    "wterfclty_dmg.set_input_dataset('dfr3_mapping_set', mapping_set)\n",
    "\n",
    "wterfclty_dmg.set_parameter(\"hazard_type\", 'earthquake')\n",
    "wterfclty_dmg.set_parameter(\"fragility_key\",'pga')\n",
    "wterfclty_dmg.set_parameter(\"num_cpu\", 4)\n",
    "wterfclty_dmg.set_parameter(\"hazard_id\", \"5ba8f2b9ec2309043520906e\")\n",
    "wterfclty_dmg.set_parameter(\"result_name\",\"seaside_wf_dmg_result\")\n",
    "\n",
    "# Run pipeline damage analysis\n",
    "wterfclty_dmg.run_analysis()"
   ]
  },
  {
   "cell_type": "code",
   "execution_count": null,
   "id": "bab91e47",
   "metadata": {},
   "outputs": [],
   "source": [
    "wf_dmg_result = wterfclty_dmg.get_output_dataset(\"result\")\n",
    "wf_dmg_result.get_dataframe_from_csv().head()"
   ]
  },
  {
   "cell_type": "markdown",
   "id": "519777af",
   "metadata": {},
   "source": [
    "### Monte Carlo Simulation"
   ]
  },
  {
   "cell_type": "code",
   "execution_count": null,
   "id": "0457d085",
   "metadata": {},
   "outputs": [],
   "source": [
    "mc = MonteCarloFailureProbability(client)\n",
    "mc.set_input_dataset(\"damage\", wf_dmg_result)\n",
    "mc.set_parameter(\"num_cpu\", 4)\n",
    "mc.set_parameter(\"num_samples\", 100)\n",
    "mc.set_parameter(\"damage_interval_keys\", [\"DS_0\", \"DS_1\", \"DS_2\", \"DS_3\", \"DS_4\"])\n",
    "mc.set_parameter(\"failure_state_keys\", [\"DS_1\", \"DS_2\", \"DS_3\", \"DS_4\"])\n",
    "\n",
    "mc.set_parameter(\"result_name\", \"seaside_wf_mc\") # name of csv file with results\n",
    "mc.run()"
   ]
  },
  {
   "cell_type": "code",
   "execution_count": null,
   "id": "1f415818",
   "metadata": {},
   "outputs": [],
   "source": [
    "wf_sample_damage_states_result = mc.get_output_dataset(\"sample_damage_states\")\n",
    "wf_sample_damage_states_result.get_dataframe_from_csv().head()"
   ]
  },
  {
   "cell_type": "markdown",
   "id": "a038c8e1",
   "metadata": {},
   "source": [
    "### Water Facility Repair Cost"
   ]
  },
  {
   "cell_type": "code",
   "execution_count": null,
   "id": "59fa10da",
   "metadata": {},
   "outputs": [],
   "source": [
    "wf_repair_cost = WaterFacilityRepairCost(client)\n",
    "\n",
    "wf_repair_cost.load_remote_input_dataset(\"water_facilities\", wf_id)\n",
    "wf_repair_cost.load_remote_input_dataset(\"replacement_cost\", \"64833bcdd3f39a26a0c8b147\")\n",
    "\n",
    "# can be chained with MCS\n",
    "wf_repair_cost.set_input_dataset(\"sample_damage_states\", wf_sample_damage_states_result)\n",
    "\n",
    "# dmg ratiose\n",
    "wf_repair_cost.load_remote_input_dataset(\"wf_dmg_ratios\", \"647e423d7ae18139d9758607\")\n",
    "\n",
    "wf_repair_cost.set_parameter(\"result_name\", \"seaside_wf\")\n",
    "wf_repair_cost.set_parameter(\"num_cpu\", 4)\n",
    "\n",
    "# Run Analysis\n",
    "wf_repair_cost.run_analysis()"
   ]
  },
  {
   "cell_type": "code",
   "execution_count": null,
   "id": "0e245f12",
   "metadata": {},
   "outputs": [],
   "source": [
    "wf_repair_cost.get_output_dataset(\"result\").get_dataframe_from_csv().head()"
   ]
  },
  {
   "cell_type": "code",
   "execution_count": null,
   "id": "7787059d",
   "metadata": {},
   "outputs": [],
   "source": []
  }
 ],
 "metadata": {
  "kernelspec": {
   "display_name": "Python 3 (ipykernel)",
   "language": "python",
   "name": "python3"
  },
  "language_info": {
   "codemirror_mode": {
    "name": "ipython",
    "version": 3
   },
   "file_extension": ".py",
   "mimetype": "text/x-python",
   "name": "python",
   "nbconvert_exporter": "python",
   "pygments_lexer": "ipython3",
   "version": "3.8.16"
  }
 },
 "nbformat": 4,
 "nbformat_minor": 5
}
