{
 "cells": [
  {
   "cell_type": "markdown",
   "id": "108abca5",
   "metadata": {},
   "source": [
    "# ML Enabled Mobile CGE\n"
   ]
  },
  {
   "cell_type": "markdown",
   "id": "c11abff8",
   "metadata": {},
   "source": [
    "## 1. Building Damage Analysis\n",
    "\n",
    "The following code is preparing the IN-CORE analysis by checking versions and connecting to IN-CORE web service.\n"
   ]
  },
  {
   "cell_type": "code",
   "execution_count": null,
   "id": "dd0c1f46",
   "metadata": {
    "is_executing": true
   },
   "outputs": [],
   "source": [
    "from pyincore import IncoreClient, Dataset, FragilityService, MappingSet, DataService\n",
    "from pyincore.analyses.buildingdamage import BuildingDamage\n",
    "from pyincore.analyses.cumulativebuildingdamage import CumulativeBuildingDamage\n",
    "from pyincore.analyses.montecarlofailureprobability import MonteCarloFailureProbability\n",
    "\n",
    "import os\n",
    "import pandas as pd\n",
    "import numpy as np\n",
    "import geopandas as gpd  # For reading in shapefiles\n",
    "import matplotlib.pyplot as plt\n",
    "from IPython.display import display\n",
    "\n",
    "import sys  # For displaying package versions\n",
    "import os  # For managing directories and file paths if drive is mounted\n",
    "\n",
    "from pyincore_viz.geoutil import GeoUtil as viz\n",
    "from pyincore_viz.plotutil import PlotUtil as plot\n",
    "\n",
    "client = IncoreClient()\n",
    "client.clear_cache()"
   ]
  },
  {
   "cell_type": "code",
   "execution_count": null,
   "id": "272d8c45",
   "metadata": {
    "ExecuteTime": {
     "end_time": "2024-01-11T02:54:20.372731Z",
     "start_time": "2024-01-11T02:54:20.301809Z"
    }
   },
   "outputs": [],
   "source": [
    "# create data_service object for loading files\n",
    "data_service = DataService(client)"
   ]
  },
  {
   "cell_type": "code",
   "execution_count": null,
   "id": "28495888",
   "metadata": {
    "ExecuteTime": {
     "end_time": "2024-01-11T02:54:20.422126Z",
     "start_time": "2024-01-11T02:54:20.312150Z"
    }
   },
   "outputs": [],
   "source": [
    "# Check package versions - good practice for replication\n",
    "print(\"Python Version \", sys.version)\n",
    "print(\"pandas version: \", pd.__version__)\n",
    "print(\"numpy version: \", np.__version__)"
   ]
  },
  {
   "cell_type": "code",
   "execution_count": null,
   "id": "2286399a",
   "metadata": {},
   "outputs": [],
   "source": [
    "# Mobile Building Inventory from IN-CORE\n",
    "Building_Inventory_id = \"6827560d1d2b050c74df1526\"\n",
    "\n",
    "# visualize the building inventory\n",
    "Mobile_Building_Inventory = Dataset.from_data_service(\n",
    "    Building_Inventory_id, DataService(client)\n",
    ")\n",
    "viz.plot_map(\n",
    "    Mobile_Building_Inventory, column=\"archetype\", category=True, basemap=True\n",
    ")"
   ]
  },
  {
   "cell_type": "code",
   "execution_count": null,
   "id": "49e46bac",
   "metadata": {},
   "outputs": [],
   "source": [
    "### This CELL will be removed in the future\n",
    "building_to_sectors_id = \"68265d506960c84294c85f11\"\n",
    "building_to_sectors_df = Dataset.from_data_service(\n",
    "    building_to_sectors_id, DataService(client)\n",
    ").get_dataframe_from_csv()\n",
    "\n",
    "\n",
    "mobile_df = Mobile_Building_Inventory.get_dataframe_from_shapefile()\n",
    "# check the columns in the building inventory\n",
    "print(\"Columns in the building inventory: \", mobile_df.columns)\n",
    "# check the columns in the building to sectors\n",
    "print(\"Columns in the building to sectors: \", building_to_sectors_df.columns)\n",
    "# join based on guid\n",
    "matching = mobile_df.merge(building_to_sectors_df, on=\"guid\", how=\"left\")\n",
    "# matching = lumberton_df.join(\n",
    "#     building_to_sectors_df, on=\"guid\", how=\"left\"\n",
    "# )\n",
    "print(\"number of buildings in the inventory: \", len(mobile_df))\n",
    "print(\"Number of buildings in the inventory: \", len(matching))"
   ]
  },
  {
   "cell_type": "code",
   "execution_count": null,
   "id": "6d6e8a69",
   "metadata": {
    "scrolled": true
   },
   "outputs": [],
   "source": [
    "# load building inventory as Geodataframe\n",
    "filename = Mobile_Building_Inventory.get_file_path(\"shp\")\n",
    "print(\n",
    "    \"The IN-CORE Dataservice has saved the Building Inventory on your local machine: \"\n",
    "    + filename\n",
    ")\n",
    "bldg_inv_gdf = gpd.read_file(filename)\n",
    "bldg_inv_gdf.head()"
   ]
  },
  {
   "cell_type": "code",
   "execution_count": null,
   "id": "0e1ddf50",
   "metadata": {},
   "outputs": [],
   "source": [
    "# Flood building archetypes mapping\n",
    "#mapping_id = \"63fe4ccef571b22475b6bc4f\"\n",
    "# Galveston Hurricane flood fragility mappings for buildings\n",
    "mapping_id =\"62fefd688a30d30dac57bbd7\"\n",
    "fragility_service = FragilityService(client)\n",
    "mapping_set = MappingSet(fragility_service.get_mapping(mapping_id))"
   ]
  },
  {
   "cell_type": "code",
   "execution_count": null,
   "id": "9f9ed6b9",
   "metadata": {},
   "outputs": [],
   "source": [
    "# Reading the Hazard type and the Hazard ID\n",
    "# hazard_type = \"flood\"\n",
    "# hazard_id = \"62fe853ff362915427002649\"\n",
    "\n",
    "# Reading the Hazard type and the Hazard ID for the six hurricane and SLR scenarios\n",
    "hazard_type = \"hurricane\" \n",
    "\n",
    "hurricane_hazard_dict = {}\n",
    "hurricane_hazard_dict[0] = {'id': \"6420c6e6d9ae37665ff0d5f2\", 'name':'Natural Katrina'} \n",
    "hurricane_hazard_dict[1] = {'id': \"64222491d9ae37665ff0d5f3\", 'name':'Natural Katrina + INT SLR'}\n",
    "hurricane_hazard_dict[2] = {'id': \"6422253cd9ae37665ff0d5f4\", 'name':'Natural Katrina + EXT SLR'}\n",
    "hurricane_hazard_dict[3] = {'id': \"642d387bfde0f316c3493530\", 'name':'Shifted Katrina'}\n",
    "hurricane_hazard_dict[4] = {'id': \"642d38f1fde0f316c3493531\", 'name':'Shifted Katrina + INT SLR'}\n",
    "hurricane_hazard_dict[5] = {'id': \"642d3c7763601e1e19241468\", 'name':'Shifted Katrina + EXT SLR'}"
   ]
  },
  {
   "cell_type": "markdown",
   "id": "d615d265",
   "metadata": {},
   "source": [
    "### 1.2 Building Damage Analysis\n"
   ]
  },
  {
   "cell_type": "code",
   "execution_count": null,
   "id": "93312a74",
   "metadata": {},
   "outputs": [],
   "source": [
    "bldg_dmg = BuildingDamage(client)\n",
    "\n",
    "bldg_dmg.load_remote_input_dataset(\"buildings\", Building_Inventory_id)\n",
    "bldg_dmg.set_input_dataset(\"dfr3_mapping_set\", mapping_set)"
   ]
  },
  {
   "cell_type": "code",
   "execution_count": null,
   "id": "a0d344db",
   "metadata": {},
   "outputs": [],
   "source": [
    "# # Run the building damage analysis\n",
    "# result_name = \"Mobile_bldg_flood_dmg_result\"\n",
    "\n",
    "# bldg_dmg.set_parameter(\"fragility_key\", \"Mobile Storm Surge flood Building Fragility ID Code\")\n",
    "# bldg_dmg.set_parameter(\"result_name\", result_name)\n",
    "# bldg_dmg.set_parameter(\"hazard_type\", hazard_type)\n",
    "# bldg_dmg.set_parameter(\"hazard_id\", hazard_id)\n",
    "# bldg_dmg.set_parameter(\"num_cpu\", 4)\n",
    "# bldg_dmg.run_analysis()\n",
    "\n",
    "# Run the building damage analysis for the six hurricane and SLR scenarios\n",
    "\n",
    "output_result=[]\n",
    "output=[]\n",
    "for i in range(0,len(hurricane_hazard_dict)): \n",
    "    result = []\n",
    "    result2 = []\n",
    "    result_name = \"Mobile_bldg_natural_hurricane_dmg_result{0}\".format(i)\n",
    "\n",
    "    bldg_dmg.set_parameter(\"fragility_key\", \"Non-Retrofit Fragility ID Code\")\n",
    "    bldg_dmg.set_parameter(\"result_name\", result_name)\n",
    "    bldg_dmg.set_parameter(\"hazard_type\", hazard_type)\n",
    "    bldg_dmg.set_parameter(\"hazard_id\", hurricane_hazard_dict[i]['id'])\n",
    "    bldg_dmg.set_parameter(\"num_cpu\", 8)\n",
    "    bldg_dmg.run_analysis()\n",
    "    # Retrieve result dataset\n",
    "    result = bldg_dmg.get_output_dataset('ds_result')\n",
    "    # Convert dataset to Pandas DataFrame\n",
    "    result2 = result.get_dataframe_from_csv(low_memory=False)\n",
    "    output.append(result2)\n",
    "    output_result.append(result)\n",
    "building_dmg_result_MC = output_result\n",
    "building_dmg_result = output"
   ]
  },
  {
   "cell_type": "markdown",
   "id": "162ad754",
   "metadata": {},
   "source": [
    "The following code explores the buildings damage analysis results\n"
   ]
  },
  {
   "cell_type": "code",
   "execution_count": null,
   "id": "40d7f446-bc85-4315-82bc-e0403820fb88",
   "metadata": {},
   "outputs": [],
   "source": [
    "# Select only the buildings exposed to the hazard sceanrios\n",
    "output3=[]\n",
    "for j in range(0,len(building_dmg_result)):\n",
    "    output2 = building_dmg_result[j][building_dmg_result[j]['haz_expose']=='yes']\n",
    "    output3.append(output2)\n",
    "bdmg_df_expose = output3\n",
    "    \n",
    "    \n",
    "# Add 'DS_max' attribute to bdmg_df_expose that provide the max damage state for each Mobile residential building\n",
    "for j in range(0,len(bdmg_df_expose)):\n",
    "    bdmg_df_expose[j]['DS_max'] = bdmg_df_expose[j].loc[:,['DS_0', 'DS_1', 'DS_2', 'DS_3']].idxmax(axis = 1)"
   ]
  },
  {
   "cell_type": "code",
   "execution_count": null,
   "id": "2a6222ae-4bd2-4642-97b1-275625727ee8",
   "metadata": {},
   "outputs": [],
   "source": [
    "output5=[]\n",
    "output7=[]\n",
    "for k in range(0,len(bdmg_df_expose)):\n",
    "    output4 = bdmg_df_expose[k]['DS_max'].value_counts(normalize=True).mul(100).index.tolist()\n",
    "    output6 = bdmg_df_expose[k]['DS_max'].value_counts(normalize=True).mul(100).tolist()\n",
    "    output5.append(output4)\n",
    "    output7.append(output6)\n",
    "    indexes = output5\n",
    "    values  = output7\n",
    "    \n",
    "\n",
    "# Set plot parameters\n",
    "fig, ax = plt.subplots(figsize=(20, 10), dpi=300)\n",
    "width = 0.15 # width of bar\n",
    "x = np.arange(len(indexes[0]))\n",
    "x_labels = ['DS_0', 'DS_1', 'DS_2', 'DS_3']\n",
    "\n",
    "\n",
    "containers = ax.bar(x , values[0], width, color='#000080', label='Natural Katrina')\n",
    "containers = ax.bar(x  + width, values[1], width, color='#0F52BA', label='Natural Katrina + INT SLR')\n",
    "containers = ax.bar(x  + (2 * width), values[2], width, color='#6593F5', label='Natural Katrina + EXT SLR')\n",
    "containers = ax.bar(x  + (3 * width), values[3], width, color='#73C2FB', label='Shifted Katrina')\n",
    "containers = ax.bar(x  + (4 * width), values[4], width, color='#81C6EB', label='Shifted Katrina + INT SLR')\n",
    "containers = ax.bar(x  + (5 * width), values[5], width, color='#D4F1F7', label='Shifted Katrina + EXT SLR')\n",
    "\n",
    "\n",
    "\n",
    "for bars in ax.containers:\n",
    "    ax.bar_label(bars, labels = [f'{x.get_height()/100:.1%}' for x in bars], padding=5, fontsize = 15)\n",
    "    \n",
    "    \n",
    "ax.set_ylabel('Percentage of the buildings (%)', labelpad=15, fontsize = 20)\n",
    "ax.set_ylim(0,110)\n",
    "ax.set_xticks(x + width + width/2)\n",
    "ax.set_xticklabels(x_labels, fontsize = 20)\n",
    "ax.set_xlabel('Damage State', labelpad=15, fontsize = 20)\n",
    "ax.set_title('Distribution of most probable damage state for residential buildings',fontsize = 25)\n",
    "ax.legend(fontsize = 20)\n",
    "# ax('ytick', labelsize=10)    # fontsize of the tick labels\n",
    "plt.tick_params(labelsize=20)\n",
    "plt.grid(True, 'major', 'y', ls='--', lw=.5, c='k', alpha=.3)\n",
    "\n",
    "fig.tight_layout()\n",
    "plt.show()"
   ]
  },
  {
   "cell_type": "code",
   "execution_count": null,
   "id": "77e35f92-e23d-4a19-b2a9-5e4484512ff9",
   "metadata": {},
   "outputs": [],
   "source": [
    "# To visualize the output of Natural Katrina\n",
    "\n",
    "bldg_results = pd.merge(bldg_inv_gdf, building_dmg_result[2], how = 'right', left_on = ['guid'], right_on=['guid'])"
   ]
  },
  {
   "cell_type": "code",
   "execution_count": null,
   "id": "2f8d55b7-517f-44ec-a49e-bb596d2e2587",
   "metadata": {},
   "outputs": [],
   "source": [
    "# To show the probability of exceedance of DS_1 > 0\n",
    "\n",
    "bldg_results_F1 = bldg_results[(bldg_results['archetype'] > 0) & (bldg_results['DS_1'] > 0) ]\n",
    "bldg_results_F1.explore(column='DS_1',cmap='Reds', \n",
    "                        popup=['guid','g_elev','ffe_elev','LS_0','LS_1','LS_2','DS_1','DS_2'\n",
    "                                ],\n",
    "                        tooltip=['guid','g_elev','ffe_elev','LS_0','LS_1','LS_2','DS_1','DS_2'\n",
    "                                ],\n",
    "                        tiles='CartoDB positron',\n",
    "                        style_kwds=dict(color=\"Red\",weight=5, opacity=0.4))\n",
    "\n",
    "# Retrieve result dataset\n",
    "building_dmg_result = bldg_dmg.get_output_dataset(\"ds_result\")"
   ]
  },
  {
   "cell_type": "code",
   "execution_count": null,
   "id": "67d6c138",
   "metadata": {},
   "outputs": [],
   "source": [
    "# Convert dataset to Pandas DataFrame\n",
    "bdmg_df = building_dmg_result.get_dataframe_from_csv(low_memory=False)\n",
    "\n",
    "# Display top 5 rows of output data\n",
    "bdmg_df.head()"
   ]
  },
  {
   "cell_type": "markdown",
   "id": "3b59a842",
   "metadata": {},
   "source": [
    "## 2. Montecarlo Limit State Probability\n"
   ]
  },
  {
   "cell_type": "code",
   "execution_count": null,
   "id": "824580fa",
   "metadata": {},
   "outputs": [],
   "source": [
    "from pyincore.analyses.montecarlofailureprobability import MonteCarloFailureProbability"
   ]
  },
  {
   "cell_type": "code",
   "execution_count": null,
   "id": "d5713465-c73c-486f-807c-34c17cc49fb6",
   "metadata": {},
   "outputs": [],
   "source": [
    "output_mc=[]\n",
    "num_samples = 500\n",
    "\n",
    "for j in range(0,len(building_dmg_result_MC)):\n",
    "\n",
    "    mc_bldg = MonteCarloLimitStateProbability(client)\n",
    "\n",
    "    mc_bldg.set_input_dataset(\"damage\", building_dmg_result_MC[j])  #  Load the Mobile building damage results dataset \n",
    "                                                             # generated from the previous model as an input\n",
    "    mc_bldg.set_parameter(\"num_cpu\", 8)\n",
    "    mc_bldg.set_parameter(\"num_samples\", num_samples)\n",
    "    mc_bldg.set_parameter(\"damage_interval_keys\", [\"DS_0\", \"DS_1\", \"DS_2\", \"DS_3\"])\n",
    "    mc_bldg.set_parameter(\"failure_state_keys\", [\"DS_1\", \"DS_2\", \"DS_3\"])\n",
    "\n",
    "    mc_bldg.set_parameter(\"result_name\", \"storm_surge_mc_failure_probability_buildings\") # name of csv file with results\n",
    "    mc_bldg.run_analysis()  # Run the Monte Carlo Simulation module to obtain the building failure probabilities. \n",
    "    building_failure_probability = mc_bldg.get_output_dataset('failure_probability')  # get buildings failure probabilities\n",
    "    result_mc = building_failure_probability.get_dataframe_from_csv()\n",
    "    output_mc.append(result_mc)\n",
    "df_bldg_fail = output_mc"
   ]
  },
  {
   "cell_type": "code",
   "execution_count": null,
   "id": "4eda8940-649c-46fc-b29f-ef55e20d1afa",
   "metadata": {},
   "outputs": [],
   "source": [
    "df_bldg_fail[0][df_bldg_fail[0]['failure_probability']>0]"
   ]
  },
  {
   "cell_type": "code",
   "execution_count": null,
   "id": "86fcf468",
   "metadata": {},
   "outputs": [],
   "source": [
    "mc_bldg.run_analysis()\n",
    "\n",
    "# Obtain buildings failure probabilities\n",
    "building_failure_probability = mc_bldg.get_output_dataset(\"failure_probability\")\n",
    "\n",
    "df_bldg_fail = building_failure_probability.get_dataframe_from_csv()\n",
    "df_bldg_fail.head()"
   ]
  },
  {
   "cell_type": "code",
   "execution_count": null,
   "id": "d9bd98bd",
   "metadata": {},
   "outputs": [],
   "source": [
    "# Obtain buildings sample damage states\n",
    "sample_damage_states = mc_bldg.get_output_dataset(\"sample_damage_states\")\n",
    "df_bldg_ds = sample_damage_states.get_dataframe_from_csv()\n",
    "df_bldg_ds.head()"
   ]
  },
  {
   "cell_type": "code",
   "execution_count": null,
   "id": "510568db",
   "metadata": {},
   "outputs": [],
   "source": [
    "building_damage_mcs_samples = mc_bldg.get_output_dataset(\n",
    "    \"sample_failure_state\"\n",
    ")  # get buildings failure states\n",
    "\n",
    "bdmcs = building_damage_mcs_samples.get_dataframe_from_csv()\n",
    "bdmcs.head()"
   ]
  },
  {
   "cell_type": "markdown",
   "id": "a33b2d32",
   "metadata": {},
   "source": [
    "# 3. Capital Stock Shock and CGE Analysis\n"
   ]
  },
  {
   "cell_type": "code",
   "execution_count": null,
   "id": "ee49e04f",
   "metadata": {},
   "outputs": [],
   "source": [
    "from pyincore.analyses.capitalshocks import CapitalShocks"
   ]
  },
  {
   "cell_type": "code",
   "execution_count": null,
   "id": "6b3ab87a",
   "metadata": {},
   "outputs": [],
   "source": [
    "# Joplin building to sector mapping table\n",
    "building_to_sectors_id = \"682dfb711d2b050c74e02e55\"\n",
    "# Create Capital shocks analysis\n",
    "capital_shocks = CapitalShocks(client)\n",
    "\n",
    "# Load remote datasets\n",
    "capital_shocks.load_remote_input_dataset(\"buildings_to_sectors\", building_to_sectors_id)\n",
    "# Set datasets\n",
    "# Joplin building inventory\n",
    "capital_shocks.load_remote_input_dataset(\"buildings\", Building_Inventory_id)\n",
    "# Joplin building failure probability\n",
    "capital_shocks.set_input_dataset(\"failure_probability\", building_failure_probability)\n",
    "\n",
    "capital_shocks.set_parameter(\n",
    "    \"result_name\", \"sector_shocks\"\n",
    ")  # name of csv file with results"
   ]
  },
  {
   "cell_type": "code",
   "execution_count": null,
   "id": "753c3594",
   "metadata": {},
   "outputs": [],
   "source": [
    "# Run capital shocks analysis\n",
    "capital_shocks.run_analysis()\n",
    "\n",
    "sector_shocks_result = capital_shocks.get_output_dataset(\"sector_shocks\")\n",
    "sector_shocks_result.get_dataframe_from_csv()"
   ]
  },
  {
   "cell_type": "markdown",
   "id": "fdca5f32",
   "metadata": {},
   "source": [
    "### 4. ML Enabled CGE - Lumberton\n"
   ]
  },
  {
   "cell_type": "code",
   "execution_count": null,
   "id": "3721d3e1",
   "metadata": {},
   "outputs": [],
   "source": [
    "from pyincore.analyses.mlenabledcgelumberton import MlEnabledCgeLumberton"
   ]
  },
  {
   "cell_type": "code",
   "execution_count": null,
   "id": "a42b4e26",
   "metadata": {},
   "outputs": [],
   "source": [
    "mlcgelumberton = MlEnabledCgeLumberton(client)\n",
    "mlcgelumberton.set_input_dataset(\"sector_shocks\", sector_shocks_result)\n",
    "mlcgelumberton.set_parameter(\"result_name\", \"test_lumberton_mlcge_result\")"
   ]
  },
  {
   "cell_type": "code",
   "execution_count": null,
   "id": "9800dbab",
   "metadata": {},
   "outputs": [],
   "source": [
    "mlcgelumberton.run_analysis()"
   ]
  }
 ],
 "metadata": {
  "kernelspec": {
   "display_name": "Python 3 (ipykernel)",
   "language": "python",
   "name": "python3"
  },
  "language_info": {
   "codemirror_mode": {
    "name": "ipython",
    "version": 3
   },
   "file_extension": ".py",
   "mimetype": "text/x-python",
   "name": "python",
   "nbconvert_exporter": "python",
   "pygments_lexer": "ipython3",
   "version": "3.9.19"
  }
 },
 "nbformat": 4,
 "nbformat_minor": 5
}
