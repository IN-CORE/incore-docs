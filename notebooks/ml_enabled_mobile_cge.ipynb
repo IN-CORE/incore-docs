{
 "cells": [
  {
   "cell_type": "markdown",
   "id": "108abca5",
   "metadata": {},
   "source": [
    "# ML Enabled Mobile CGE\n"
   ]
  },
  {
   "cell_type": "markdown",
   "id": "c11abff8",
   "metadata": {},
   "source": [
    "## 1. Building Damage Analysis\n",
    "\n",
    "The following code is preparing the IN-CORE analysis by checking versions and connecting to IN-CORE web service.\n"
   ]
  },
  {
   "cell_type": "code",
   "execution_count": null,
   "id": "dd0c1f46",
   "metadata": {
    "is_executing": true
   },
   "outputs": [],
   "source": [
    "from pyincore import IncoreClient, Dataset, FragilityService, MappingSet, DataService\n",
    "from pyincore.analyses.buildingdamage import BuildingDamage\n",
    "from pyincore.analyses.cumulativebuildingdamage import CumulativeBuildingDamage\n",
    "from pyincore.analyses.montecarlofailureprobability import MonteCarloFailureProbability\n",
    "\n",
    "import os\n",
    "import pandas as pd\n",
    "import numpy as np\n",
    "import geopandas as gpd  # For reading in shapefiles\n",
    "import matplotlib.pyplot as plt\n",
    "from IPython.display import display\n",
    "\n",
    "import sys  # For displaying package versions\n",
    "import os  # For managing directories and file paths if drive is mounted\n",
    "\n",
    "from pyincore_viz.geoutil import GeoUtil as viz\n",
    "from pyincore_viz.plotutil import PlotUtil as plot\n",
    "\n",
    "client = IncoreClient()\n",
    "client.clear_cache()"
   ]
  },
  {
   "cell_type": "code",
   "execution_count": null,
   "id": "272d8c45",
   "metadata": {
    "ExecuteTime": {
     "end_time": "2024-01-11T02:54:20.372731Z",
     "start_time": "2024-01-11T02:54:20.301809Z"
    }
   },
   "outputs": [],
   "source": [
    "# create data_service object for loading files\n",
    "data_service = DataService(client)"
   ]
  },
  {
   "cell_type": "code",
   "execution_count": null,
   "id": "28495888",
   "metadata": {
    "ExecuteTime": {
     "end_time": "2024-01-11T02:54:20.422126Z",
     "start_time": "2024-01-11T02:54:20.312150Z"
    }
   },
   "outputs": [],
   "source": [
    "# Check package versions - good practice for replication\n",
    "print(\"Python Version \", sys.version)\n",
    "print(\"pandas version: \", pd.__version__)\n",
    "print(\"numpy version: \", np.__version__)"
   ]
  },
  {
   "cell_type": "code",
   "execution_count": null,
   "id": "2286399a",
   "metadata": {},
   "outputs": [],
   "source": [
    "# Mobile Building Inventory from IN-CORE\n",
    "Building_Inventory_id = \"6827560d1d2b050c74df1526\"\n",
    "\n",
    "# visualize the building inventory\n",
    "Mobile_Building_Inventory = Dataset.from_data_service(\n",
    "    Building_Inventory_id, DataService(client)\n",
    ")\n",
    "viz.plot_map(\n",
    "    Mobile_Building_Inventory, column=\"archetype\", category=True, basemap=True\n",
    ")"
   ]
  },
  {
   "cell_type": "code",
   "execution_count": null,
   "id": "49e46bac",
   "metadata": {},
   "outputs": [],
   "source": [
    "### This CELL will be removed in the future\n",
    "building_to_sectors_id = \"684877df9af67e766267ead7\"\n",
    "building_to_sectors_df = Dataset.from_data_service(\n",
    "    building_to_sectors_id, DataService(client)\n",
    ").get_dataframe_from_csv()\n",
    "\n",
    "mobile_df = Mobile_Building_Inventory.get_dataframe_from_shapefile()\n",
    "# check the columns in the building inventory\n",
    "print(\"Columns in the building inventory: \", mobile_df.columns)\n",
    "# check the columns in the building to sectors\n",
    "print(\"Columns in the building to sectors: \", building_to_sectors_df.columns)\n",
    "# join based on guid\n",
    "matching = mobile_df.merge(building_to_sectors_df, on=\"guid\", how=\"left\")\n",
    "\n",
    "print(\"number of buildings in the inventory: \", len(mobile_df))\n",
    "print(\"Number of buildings in the inventory: \", len(matching))"
   ]
  },
  {
   "cell_type": "code",
   "execution_count": null,
   "id": "6d6e8a69",
   "metadata": {
    "scrolled": true
   },
   "outputs": [],
   "source": [
    "# load building inventory as Geodataframe\n",
    "filename = Mobile_Building_Inventory.get_file_path(\"shp\")\n",
    "print(\n",
    "    \"The IN-CORE Dataservice has saved the Building Inventory on your local machine: \"\n",
    "    + filename\n",
    ")\n",
    "bldg_inv_gdf = gpd.read_file(filename)\n",
    "bldg_inv_gdf.head()"
   ]
  },
  {
   "cell_type": "code",
   "execution_count": null,
   "id": "0e1ddf50",
   "metadata": {},
   "outputs": [],
   "source": [
    "# Galveston Hurricane flood fragility mappings for buildings\n",
    "mapping_id =\"62fefd688a30d30dac57bbd7\"\n",
    "fragility_service = FragilityService(client)\n",
    "mapping_set = MappingSet(fragility_service.get_mapping(mapping_id))"
   ]
  },
  {
   "cell_type": "code",
   "execution_count": null,
   "id": "9f9ed6b9",
   "metadata": {},
   "outputs": [],
   "source": [
    "# Reading the Hazard type and the Hazard ID for the six hurricane and SLR scenarios\n",
    "hazard_type = \"hurricane\" \n",
    "hazard_id = \"6420c6e6d9ae37665ff0d5f2\" #Natural Katrina"
   ]
  },
  {
   "cell_type": "markdown",
   "id": "d615d265",
   "metadata": {},
   "source": [
    "### 1.2 Building Damage Analysis\n"
   ]
  },
  {
   "cell_type": "code",
   "execution_count": null,
   "id": "441840fb-88e6-4af9-ad0c-b4778720e855",
   "metadata": {},
   "outputs": [],
   "source": [
    "bldg_dmg = BuildingDamage(client)\n",
    "\n",
    "bldg_dmg.load_remote_input_dataset(\"buildings\", Building_Inventory_id)\n",
    "bldg_dmg.set_input_dataset(\"dfr3_mapping_set\", mapping_set)"
   ]
  },
  {
   "cell_type": "code",
   "execution_count": null,
   "id": "24047ef5-5f86-49b9-aef6-7a544971a839",
   "metadata": {},
   "outputs": [],
   "source": [
    "# Run the building damage analysis\n",
    "result_name = \"Mobile_bldg_hurricane_dmg_result\"\n",
    "\n",
    "bldg_dmg.set_parameter(\"fragility_key\", \"Non-Retrofit Fragility ID Code\")\n",
    "bldg_dmg.set_parameter(\"result_name\", result_name)\n",
    "bldg_dmg.set_parameter(\"hazard_type\", hazard_type)\n",
    "bldg_dmg.set_parameter(\"hazard_id\", hazard_id)\n",
    "bldg_dmg.set_parameter(\"num_cpu\", 4)\n",
    "bldg_dmg.run_analysis()"
   ]
  },
  {
   "cell_type": "code",
   "execution_count": null,
   "id": "2f8d55b7-517f-44ec-a49e-bb596d2e2587",
   "metadata": {},
   "outputs": [],
   "source": [
    "building_dmg_result = bldg_dmg.get_output_dataset(\"ds_result\")"
   ]
  },
  {
   "cell_type": "code",
   "execution_count": null,
   "id": "67d6c138",
   "metadata": {},
   "outputs": [],
   "source": [
    "# Convert dataset to Pandas DataFrame\n",
    "bdmg_df = building_dmg_result.get_dataframe_from_csv(low_memory=False)\n",
    "\n",
    "# Display top 5 rows of output data\n",
    "bdmg_df.head()"
   ]
  },
  {
   "cell_type": "markdown",
   "id": "3b59a842",
   "metadata": {},
   "source": [
    "## 2. Montecarlo Limit State Probability\n"
   ]
  },
  {
   "cell_type": "code",
   "execution_count": null,
   "id": "824580fa",
   "metadata": {},
   "outputs": [],
   "source": [
    "from pyincore.analyses.montecarlofailureprobability import MonteCarloFailureProbability"
   ]
  },
  {
   "cell_type": "code",
   "execution_count": null,
   "id": "d5713465-c73c-486f-807c-34c17cc49fb6",
   "metadata": {},
   "outputs": [],
   "source": [
    "num_samples = (\n",
    "    500  # Require 500 samples for convergence - Selected smaller samples for testing\n",
    ")\n",
    "result_name = \"Mobile_mc_failure_probability_buildings_dmg_result\"\n",
    "\n",
    "mc_bldg = MonteCarloFailureProbability(client)\n",
    "\n",
    "mc_bldg.set_input_dataset(\"damage\", building_dmg_result)\n",
    "mc_bldg.set_parameter(\"num_cpu\", 8)\n",
    "mc_bldg.set_parameter(\"num_samples\", num_samples)\n",
    "mc_bldg.set_parameter(\"damage_interval_keys\", [\"DS_0\", \"DS_1\", \"DS_2\", \"DS_3\"])\n",
    "mc_bldg.set_parameter(\"failure_state_keys\", [\"DS_2\", \"DS_3\"])\n",
    "\n",
    "mc_bldg.set_parameter(\"result_name\", result_name)"
   ]
  },
  {
   "cell_type": "code",
   "execution_count": null,
   "id": "9e616e19-dbfb-41b5-90b5-069dbdf997e5",
   "metadata": {},
   "outputs": [],
   "source": [
    "mc_bldg.run_analysis()\n",
    "\n",
    "# Obtain buildings failure probabilities\n",
    "building_failure_probability = mc_bldg.get_output_dataset(\"failure_probability\")\n",
    "\n",
    "df_bldg_fail = building_failure_probability.get_dataframe_from_csv()\n",
    "df_bldg_fail.head()"
   ]
  },
  {
   "cell_type": "code",
   "execution_count": null,
   "id": "d9bd98bd",
   "metadata": {},
   "outputs": [],
   "source": [
    "# Obtain buildings sample damage states\n",
    "sample_damage_states = mc_bldg.get_output_dataset(\"sample_damage_states\")\n",
    "df_bldg_ds = sample_damage_states.get_dataframe_from_csv()\n",
    "df_bldg_ds.head()"
   ]
  },
  {
   "cell_type": "code",
   "execution_count": null,
   "id": "510568db",
   "metadata": {},
   "outputs": [],
   "source": [
    "building_damage_mcs_samples = mc_bldg.get_output_dataset(\n",
    "    \"sample_failure_state\"\n",
    ")  # get buildings failure states\n",
    "\n",
    "bdmcs = building_damage_mcs_samples.get_dataframe_from_csv()\n",
    "bdmcs.head()"
   ]
  },
  {
   "cell_type": "markdown",
   "id": "a33b2d32",
   "metadata": {},
   "source": [
    "# 3. Capital Stock Shock and CGE Analysis\n"
   ]
  },
  {
   "cell_type": "code",
   "execution_count": null,
   "id": "ee49e04f",
   "metadata": {},
   "outputs": [],
   "source": [
    "from pyincore.analyses.capitalshocks import CapitalShocks"
   ]
  },
  {
   "cell_type": "code",
   "execution_count": null,
   "id": "6b3ab87a",
   "metadata": {},
   "outputs": [],
   "source": [
    "# Joplin building to sector mapping table\n",
    "building_to_sectors_id = \"684877df9af67e766267ead7\"\n",
    "# Create Capital shocks analysis\n",
    "capital_shocks = CapitalShocks(client)\n",
    "\n",
    "# Load remote datasets\n",
    "capital_shocks.load_remote_input_dataset(\"buildings_to_sectors\", building_to_sectors_id)\n",
    "# Set datasets\n",
    "# Joplin building inventory\n",
    "capital_shocks.load_remote_input_dataset(\"buildings\", Building_Inventory_id)\n",
    "# Joplin building failure probability\n",
    "capital_shocks.set_input_dataset(\"failure_probability\", building_failure_probability)\n",
    "\n",
    "capital_shocks.set_parameter(\n",
    "    \"result_name\", \"sector_shocks\"\n",
    ")  # name of csv file with results"
   ]
  },
  {
   "cell_type": "code",
   "execution_count": null,
   "id": "753c3594",
   "metadata": {},
   "outputs": [],
   "source": [
    "# Run capital shocks analysis\n",
    "capital_shocks.run_analysis()\n",
    "\n",
    "sector_shocks_result = capital_shocks.get_output_dataset(\"sector_shocks\")\n",
    "sector_shocks_result.get_dataframe_from_csv()"
   ]
  },
  {
   "cell_type": "markdown",
   "id": "fdca5f32",
   "metadata": {},
   "source": [
    "### 4. ML Enabled CGE - Mobile\n"
   ]
  },
  {
   "cell_type": "code",
   "execution_count": null,
   "id": "3721d3e1",
   "metadata": {},
   "outputs": [],
   "source": [
    "from pyincore.analyses.mlenabledcgemobile import MlEnabledCgeMobile"
   ]
  },
  {
   "cell_type": "code",
   "execution_count": null,
   "id": "a42b4e26",
   "metadata": {},
   "outputs": [],
   "source": [
    "mlcgemobile = MlEnabledCgeMobile(client)\n",
    "mlcgemobile.set_input_dataset(\"sector_shocks\", sector_shocks_result)\n",
    "mlcgemobile.set_parameter(\"result_name\", \"test_mobile_mlcge_result\")"
   ]
  },
  {
   "cell_type": "code",
   "execution_count": null,
   "id": "1fbc7d6b-1b17-42ee-9f97-c7eaae71104b",
   "metadata": {},
   "outputs": [],
   "source": [
    "mlcgemobile.run_analysis()"
   ]
  },
  {
   "cell_type": "code",
   "execution_count": null,
   "id": "994cbe8e-adae-40c9-9d01-39e12a0cb23c",
   "metadata": {},
   "outputs": [],
   "source": [
    "domestic_supply = mlcgemobile.get_output_dataset(\"domestic-supply\")\n",
    "ds = domestic_supply.get_dataframe_from_csv()\n",
    "# Display top 6 rows of output data\n",
    "ds.head(6)\n",
    "\n"
   ]
  },
  {
   "cell_type": "code",
   "execution_count": null,
   "id": "2b09e0f2-04d1-4066-a9aa-ad10850e1d19",
   "metadata": {},
   "outputs": [],
   "source": [
    "gross_income = mlcgemobile.get_output_dataset(\"gross-income\")\n",
    "gi = gross_income.get_dataframe_from_csv()\n",
    "gi.head()"
   ]
  },
  {
   "cell_type": "code",
   "execution_count": null,
   "id": "1114da4e-7e47-44c7-8279-259f67023c55",
   "metadata": {},
   "outputs": [],
   "source": [
    "pre_factor_demand = mlcgemobile.get_output_dataset(\"pre-disaster-factor-demand\")\n",
    "pre_fd = pre_factor_demand.get_dataframe_from_csv()\n",
    "pre_fd.head()"
   ]
  },
  {
   "cell_type": "code",
   "execution_count": null,
   "id": "34e6371d-48e8-4ee8-8219-800d85999234",
   "metadata": {},
   "outputs": [],
   "source": [
    "post_factor_demand = mlcgemobile.get_output_dataset(\"post-disaster-factor-demand\")\n",
    "pos_fd = post_factor_demand.get_dataframe_from_csv()\n",
    "pos_fd.head()"
   ]
  },
  {
   "cell_type": "code",
   "execution_count": null,
   "id": "a6041617-40a1-4786-85a1-6bdef3a19692",
   "metadata": {},
   "outputs": [],
   "source": [
    "household_count = mlcgemobile.get_output_dataset(\"household-count\")\n",
    "hc = household_count.get_dataframe_from_csv()\n",
    "hc.head()"
   ]
  }
 ],
 "metadata": {
  "kernelspec": {
   "display_name": "Python 3 (ipykernel)",
   "language": "python",
   "name": "python3"
  },
  "language_info": {
   "codemirror_mode": {
    "name": "ipython",
    "version": 3
   },
   "file_extension": ".py",
   "mimetype": "text/x-python",
   "name": "python",
   "nbconvert_exporter": "python",
   "pygments_lexer": "ipython3",
   "version": "3.9.19"
  }
 },
 "nbformat": 4,
 "nbformat_minor": 5
}
