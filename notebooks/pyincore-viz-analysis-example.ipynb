{
 "cells": [
  {
   "cell_type": "code",
   "execution_count": null,
   "metadata": {},
   "outputs": [],
   "source": [
    "from pyincore import Dataset\n",
    "from pyincore import IncoreClient\n",
    "from pyincore.dataservice import DataService\n",
    "from pyincore_viz import AnalysisViz"
   ]
  },
  {
   "cell_type": "code",
   "execution_count": null,
   "metadata": {},
   "outputs": [],
   "source": [
    "client = IncoreClient()"
   ]
  },
  {
   "cell_type": "markdown",
   "metadata": {},
   "source": [
    "## Housing Unit Allocation Visualization (Joplin)"
   ]
  },
  {
   "cell_type": "code",
   "execution_count": null,
   "metadata": {},
   "outputs": [],
   "source": [
    "# run joplin housing unit allocation analysis\n",
    "from pyincore.analyses.housingunitallocation.housingunitallocation import HousingUnitAllocation\n",
    "\n",
    "building_inv = \"5dbc8478b9219c06dd242c0d\"\n",
    "housing_unit_inv = \"5dbc6c31b9219c06dd222bd2\"\n",
    "address_point_inv = \"5dbc6ba1b9219c06dd222bab\"\n",
    "result_name = \"IN-CORE_2ev3_HUA\"\n",
    "\n",
    "seed = 1238\n",
    "iterations = 2\n",
    "\n",
    "spa = HousingUnitAllocation(client)\n",
    "spa.load_remote_input_dataset(\"buildings\", building_inv)\n",
    "spa.load_remote_input_dataset(\"housing_unit_inventory\", housing_unit_inv)\n",
    "spa.load_remote_input_dataset(\"address_point_inventory\", address_point_inv)\n",
    "\n",
    "spa.set_parameter(\"result_name\", result_name)\n",
    "spa.set_parameter(\"seed\", seed)\n",
    "spa.set_parameter(\"iterations\", iterations)\n",
    "\n",
    "spa.run_analysis()"
   ]
  },
  {
   "cell_type": "code",
   "execution_count": null,
   "metadata": {},
   "outputs": [],
   "source": [
    "# test viz\n",
    "dataset = spa.get_output_dataset(\"result\")\n",
    "who = \"Total Population\"\n",
    "what = \"by Race, Ethniciy, and Tenure Status\"\n",
    "when = \"2010\"\n",
    "where = \"Robeson County NC\"\n",
    "row_index='Race Ethnicity'\n",
    "col_index='Tenure Status'\n",
    "\n",
    "kwargs = {\"who\": who, \"what\": what, \"when\":when, \"where\": where, \"row_index\": row_index, \"col_index\": col_index}\n",
    "AnalysisViz.visualize(dataset, **kwargs)"
   ]
  },
  {
   "cell_type": "code",
   "execution_count": null,
   "metadata": {},
   "outputs": [],
   "source": []
  }
 ],
 "metadata": {
  "colab": {
   "include_colab_link": true,
   "name": "IN-CORE_CommunityDescription_Galveston_2021-03-04.ipynb",
   "provenance": []
  },
  "kernelspec": {
   "display_name": "Python 3",
   "language": "python",
   "name": "python3"
  },
  "language_info": {
   "codemirror_mode": {
    "name": "ipython",
    "version": 3
   },
   "file_extension": ".py",
   "mimetype": "text/x-python",
   "name": "python",
   "nbconvert_exporter": "python",
   "pygments_lexer": "ipython3",
   "version": "3.7.7"
  }
 },
 "nbformat": 4,
 "nbformat_minor": 1
}
