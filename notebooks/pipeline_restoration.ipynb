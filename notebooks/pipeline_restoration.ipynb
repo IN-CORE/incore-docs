{
 "cells": [
  {
   "cell_type": "code",
   "execution_count": null,
   "metadata": {},
   "outputs": [],
   "source": [
    "from pyincore import IncoreClient, FragilityService, RestorationService, MappingSet\n",
    "from pyincore.analyses.pipelinedamagerepairrate import PipelineDamageRepairRate, PipelineUtil"
   ]
  },
  {
   "cell_type": "code",
   "execution_count": null,
   "metadata": {},
   "outputs": [],
   "source": [
    "client = IncoreClient()"
   ]
  },
  {
   "cell_type": "markdown",
   "metadata": {},
   "source": [
    "### Step 1: Calculate pipeline damage with repair rate for Shelby county, TN "
   ]
  },
  {
   "cell_type": "code",
   "execution_count": null,
   "metadata": {},
   "outputs": [],
   "source": [
    "# New madrid earthquake using Atkinson Boore 1995\n",
    "hazard_type = \"earthquake\"\n",
    "hazard_id = \"5b902cb273c3371e1236b36b\"\n",
    "\n",
    "# Water Buried Pipeline inventory in Shelby county, TN\n",
    "pipeline_dataset_id = \"5a284f28c7d30d13bc081d14\"\n",
    "\n",
    "# pipeline fragility mapping\n",
    "mapping_id = \"5b47c227337d4a38464efea8\"\n",
    "\n",
    "# Geology dataset\n",
    "liq_geology_dataset_id = \"5a284f53c7d30d13bc08249c\"\n",
    "liq_fragility_key = \"pgd\"\n",
    "use_liq = True\n",
    "\n",
    "# Specify the result name\n",
    "result_name = \"pipeline_result\""
   ]
  },
  {
   "cell_type": "code",
   "execution_count": null,
   "metadata": {},
   "outputs": [],
   "source": [
    "# Create pipeline damage with repair rate\n",
    "pipeline_dmg_w_rr = PipelineDamageRepairRate(client)\n",
    "\n",
    "# Load pipeline inventory as input datasets\n",
    "pipeline_dmg_w_rr.load_remote_input_dataset(\"pipeline\", pipeline_dataset_id)\n",
    "\n",
    "# Load fragility mapping\n",
    "fragility_service = FragilityService(client)\n",
    "mapping_set = MappingSet(fragility_service.get_mapping(mapping_id))\n",
    "pipeline_dmg_w_rr.set_input_dataset(\"dfr3_mapping_set\", mapping_set)"
   ]
  },
  {
   "cell_type": "code",
   "execution_count": null,
   "metadata": {
    "pycharm": {
     "name": "#%%\n"
    }
   },
   "outputs": [],
   "source": [
    "# Set analysis parameters\n",
    "pipeline_dmg_w_rr.set_parameter(\"result_name\", result_name)\n",
    "pipeline_dmg_w_rr.set_parameter(\"hazard_type\", hazard_type)\n",
    "pipeline_dmg_w_rr.set_parameter(\"hazard_id\", hazard_id)\n",
    "pipeline_dmg_w_rr.set_parameter(\"liquefaction_fragility_key\", liq_fragility_key)\n",
    "pipeline_dmg_w_rr.set_parameter(\"liquefaction_geology_dataset_id\",liq_geology_dataset_id)\n",
    "pipeline_dmg_w_rr.set_parameter(\"use_liquefaction\", use_liq)\n",
    "pipeline_dmg_w_rr.set_parameter(\"num_cpu\", 4)\n",
    "\n",
    "# Run pipeline  damage analysis\n",
    "pipeline_dmg_w_rr.run_analysis()\n",
    "# Retrieve result dataset\n",
    "pipeline_dmg_result = pipeline_dmg_w_rr.get_output_dataset(\"result\")"
   ]
  },
  {
   "cell_type": "markdown",
   "metadata": {},
   "source": [
    "### Step 2: Run pipeline restoration analysis by chaining output from Step 1"
   ]
  },
  {
   "cell_type": "code",
   "execution_count": null,
   "metadata": {},
   "outputs": [],
   "source": [
    "from pyincore.analyses.pipelinerestoration import PipelineRestoration\n",
    "\n",
    "pipeline_restoration = PipelineRestoration(client)"
   ]
  },
  {
   "cell_type": "code",
   "execution_count": null,
   "metadata": {},
   "outputs": [],
   "source": [
    "pipeline_restoration.load_remote_input_dataset(\"pipeline\", \"5a284f28c7d30d13bc081d14\")\n",
    "pipeline_restoration.set_input_dataset(\"pipeline_damage\", pipeline_dmg_result)"
   ]
  },
  {
   "cell_type": "code",
   "execution_count": null,
   "metadata": {},
   "outputs": [],
   "source": [
    " # Load fragility mapping\n",
    "restoration_service = RestorationService(client)\n",
    "mapping_set = MappingSet(restoration_service.get_mapping(\"61f35f09903e515036cee106\"))\n",
    "pipeline_restoration.set_input_dataset('dfr3_mapping_set', mapping_set)\n",
    "\n",
    "pipeline_restoration.set_parameter(\"result_name\", \"pipeline_restoration_times\")\n",
    "\n",
    "pipeline_restoration.set_parameter(\"restoration_key\", \"Restoration ID Code\")\n",
    "pipeline_restoration.set_parameter(\"num_available_workers\", 4)\n",
    "pipeline_restoration.set_parameter(\"num_cpu\", 4)\n",
    "\n",
    "# Run pipeline restoration analysis\n",
    "pipeline_restoration.run_analysis()"
   ]
  },
  {
   "cell_type": "code",
   "execution_count": null,
   "metadata": {},
   "outputs": [],
   "source": [
    "# Get the result dataset\n",
    "pipeline_restoration_result = pipeline_restoration.get_output_dataset(\"pipeline_restoration\")\n",
    "# Convert dataset to Pandas DataFrame\n",
    "df = pipeline_restoration_result.get_dataframe_from_csv()\n",
    "\n",
    "# Display top 5 rows of output data\n",
    "df.head()"
   ]
  }
 ],
 "metadata": {
  "kernelspec": {
   "display_name": "Python 3 (ipykernel)",
   "language": "python",
   "name": "python3"
  },
  "language_info": {
   "codemirror_mode": {
    "name": "ipython",
    "version": 3
   },
   "file_extension": ".py",
   "mimetype": "text/x-python",
   "name": "python",
   "nbconvert_exporter": "python",
   "pygments_lexer": "ipython3",
   "version": "3.8.12"
  }
 },
 "nbformat": 4,
 "nbformat_minor": 4
}