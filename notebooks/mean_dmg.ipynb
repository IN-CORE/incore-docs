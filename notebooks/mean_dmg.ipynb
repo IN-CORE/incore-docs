{
 "cells": [
  {
   "cell_type": "code",
   "execution_count": 1,
   "metadata": {},
   "outputs": [],
   "source": [
    "from pyincore import IncoreClient, FragilityService, MappingSet\n",
    "from pyincore.analyses.meandamage import MeanDamage\n"
   ]
  },
  {
   "cell_type": "code",
   "execution_count": 2,
   "metadata": {},
   "outputs": [
    {
     "name": "stdout",
     "output_type": "stream",
     "text": [
      "Connection successful to IN-CORE services. pyIncore version detected: 0.9.0\n"
     ]
    }
   ],
   "source": [
    "client = IncoreClient()"
   ]
  },
  {
   "cell_type": "markdown",
   "metadata": {},
   "source": [
    "### chaining with bridge damage"
   ]
  },
  {
   "cell_type": "code",
   "execution_count": 3,
   "metadata": {},
   "outputs": [],
   "source": [
    "from pyincore.analyses.bridgedamage import BridgeDamage"
   ]
  },
  {
   "cell_type": "code",
   "execution_count": 4,
   "metadata": {},
   "outputs": [],
   "source": [
    "bridge_dmg = BridgeDamage(client)"
   ]
  },
  {
   "cell_type": "code",
   "execution_count": 5,
   "metadata": {},
   "outputs": [
    {
     "name": "stdout",
     "output_type": "stream",
     "text": [
      "Dataset already exists locally. Reading from local cached zip.\n",
      "Unzipped folder found in the local cache. Reading from it...\n"
     ]
    },
    {
     "data": {
      "text/plain": [
       "True"
      ]
     },
     "execution_count": 5,
     "metadata": {},
     "output_type": "execute_result"
    }
   ],
   "source": [
    "bridge_dmg.load_remote_input_dataset(\"bridges\", \"5a284f2dc7d30d13bc082040\")\n",
    "\n",
    "# Load fragility mapping\n",
    "fragility_service = FragilityService(client)\n",
    "mapping_set = MappingSet(fragility_service.get_mapping(\"5b47bcce337d4a37755e0cb2\"))\n",
    "bridge_dmg.set_input_dataset(\"dfr3_mapping_set\", mapping_set)"
   ]
  },
  {
   "cell_type": "code",
   "execution_count": 6,
   "metadata": {
    "collapsed": false,
    "jupyter": {
     "outputs_hidden": false
    },
    "pycharm": {
     "name": "#%%\n"
    }
   },
   "outputs": [
    {
     "data": {
      "text/plain": [
       "True"
      ]
     },
     "execution_count": 6,
     "metadata": {},
     "output_type": "execute_result"
    }
   ],
   "source": [
    "bridge_dmg.set_parameter(\"hazard_type\", \"earthquake\")\n",
    "bridge_dmg.set_parameter(\"hazard_id\", \"5b902cb273c3371e1236b36b\")\n",
    "bridge_dmg.set_parameter(\"num_cpu\", 4)"
   ]
  },
  {
   "cell_type": "code",
   "execution_count": 7,
   "metadata": {
    "collapsed": false,
    "jupyter": {
     "outputs_hidden": false
    },
    "pycharm": {
     "name": "#%%\n"
    }
   },
   "outputs": [],
   "source": [
    "bridge_dmg.set_parameter(\"result_name\", \"bridge_result\")\n",
    "\n",
    "bridge_dmg.run_analysis()\n",
    "bridge_damage_result = bridge_dmg.get_output_dataset(\"result\")\n"
   ]
  },
  {
   "cell_type": "code",
   "execution_count": 8,
   "metadata": {},
   "outputs": [],
   "source": [
    "md = MeanDamage(client)"
   ]
  },
  {
   "cell_type": "code",
   "execution_count": 9,
   "metadata": {},
   "outputs": [
    {
     "data": {
      "text/plain": [
       "True"
      ]
     },
     "execution_count": 9,
     "metadata": {},
     "output_type": "execute_result"
    }
   ],
   "source": [
    "md.set_input_dataset(\"damage\", bridge_damage_result)\n",
    "md.load_remote_input_dataset(\"dmg_ratios\", \"5a284f2cc7d30d13bc081f96\")\n",
    "md.set_parameter(\"result_name\", \"bridge_mean_damage\")\n",
    "md.set_parameter(\"damage_interval_keys\", [\"none\", \"ds-slight\", \"ds-moderat\", \"ds-extensi\", \"ds-complet\"])\n",
    "md.set_parameter(\"num_cpu\", 1)\n",
    "md.run_analysis()"
   ]
  },
  {
   "cell_type": "code",
   "execution_count": 10,
   "metadata": {},
   "outputs": [
    {
     "data": {
      "text/html": [
       "<div>\n",
       "<style scoped>\n",
       "    .dataframe tbody tr th:only-of-type {\n",
       "        vertical-align: middle;\n",
       "    }\n",
       "\n",
       "    .dataframe tbody tr th {\n",
       "        vertical-align: top;\n",
       "    }\n",
       "\n",
       "    .dataframe thead th {\n",
       "        text-align: right;\n",
       "    }\n",
       "</style>\n",
       "<table border=\"1\" class=\"dataframe\">\n",
       "  <thead>\n",
       "    <tr style=\"text-align: right;\">\n",
       "      <th></th>\n",
       "      <th>guid</th>\n",
       "      <th>ls-slight</th>\n",
       "      <th>ls-moderat</th>\n",
       "      <th>ls-extensi</th>\n",
       "      <th>ls-complet</th>\n",
       "      <th>ds-none</th>\n",
       "      <th>ds-slight</th>\n",
       "      <th>ds-moderat</th>\n",
       "      <th>ds-extensi</th>\n",
       "      <th>ds-complet</th>\n",
       "      <th>retrofit</th>\n",
       "      <th>retrocost</th>\n",
       "      <th>demandtype</th>\n",
       "      <th>demandunits</th>\n",
       "      <th>hazardtype</th>\n",
       "      <th>hazardval</th>\n",
       "      <th>spans</th>\n",
       "      <th>meandamage</th>\n",
       "      <th>expectval</th>\n",
       "    </tr>\n",
       "  </thead>\n",
       "  <tbody>\n",
       "    <tr>\n",
       "      <th>0</th>\n",
       "      <td>dd323e98-811b-4e04-9421-608759833360</td>\n",
       "      <td>0.740530</td>\n",
       "      <td>0.160071</td>\n",
       "      <td>0.064320</td>\n",
       "      <td>0.022382</td>\n",
       "      <td>0.259470</td>\n",
       "      <td>0.580459</td>\n",
       "      <td>0.095751</td>\n",
       "      <td>0.041938</td>\n",
       "      <td>0.022382</td>\n",
       "      <td>as built</td>\n",
       "      <td>0.0</td>\n",
       "      <td>pga</td>\n",
       "      <td>g</td>\n",
       "      <td>earthquake</td>\n",
       "      <td>0.314129</td>\n",
       "      <td>1</td>\n",
       "      <td>0.057940</td>\n",
       "      <td>Moderate</td>\n",
       "    </tr>\n",
       "    <tr>\n",
       "      <th>1</th>\n",
       "      <td>f6d5befe-88c1-4833-9164-6d7ba2b66ca6</td>\n",
       "      <td>0.741328</td>\n",
       "      <td>0.160672</td>\n",
       "      <td>0.064631</td>\n",
       "      <td>0.022513</td>\n",
       "      <td>0.258672</td>\n",
       "      <td>0.580657</td>\n",
       "      <td>0.096041</td>\n",
       "      <td>0.042117</td>\n",
       "      <td>0.022513</td>\n",
       "      <td>as built</td>\n",
       "      <td>0.0</td>\n",
       "      <td>pga</td>\n",
       "      <td>g</td>\n",
       "      <td>earthquake</td>\n",
       "      <td>0.314672</td>\n",
       "      <td>1</td>\n",
       "      <td>0.058146</td>\n",
       "      <td>Moderate</td>\n",
       "    </tr>\n",
       "    <tr>\n",
       "      <th>2</th>\n",
       "      <td>033553d8-100b-4c0f-87a6-de74ffbee25c</td>\n",
       "      <td>0.757964</td>\n",
       "      <td>0.173768</td>\n",
       "      <td>0.071501</td>\n",
       "      <td>0.025464</td>\n",
       "      <td>0.242036</td>\n",
       "      <td>0.584196</td>\n",
       "      <td>0.102267</td>\n",
       "      <td>0.046037</td>\n",
       "      <td>0.025464</td>\n",
       "      <td>as built</td>\n",
       "      <td>0.0</td>\n",
       "      <td>pga</td>\n",
       "      <td>g</td>\n",
       "      <td>earthquake</td>\n",
       "      <td>0.326410</td>\n",
       "      <td>1</td>\n",
       "      <td>0.062680</td>\n",
       "      <td>Moderate</td>\n",
       "    </tr>\n",
       "    <tr>\n",
       "      <th>3</th>\n",
       "      <td>b7312b14-76fc-4548-84aa-f331885a41d1</td>\n",
       "      <td>0.858277</td>\n",
       "      <td>0.261609</td>\n",
       "      <td>0.128316</td>\n",
       "      <td>0.059430</td>\n",
       "      <td>0.141723</td>\n",
       "      <td>0.596668</td>\n",
       "      <td>0.133293</td>\n",
       "      <td>0.068886</td>\n",
       "      <td>0.059430</td>\n",
       "      <td>as built</td>\n",
       "      <td>0.0</td>\n",
       "      <td>pga</td>\n",
       "      <td>g</td>\n",
       "      <td>earthquake</td>\n",
       "      <td>0.339001</td>\n",
       "      <td>1</td>\n",
       "      <td>0.105215</td>\n",
       "      <td>Moderate</td>\n",
       "    </tr>\n",
       "    <tr>\n",
       "      <th>4</th>\n",
       "      <td>103283a3-548e-4368-a38a-bee6fae481ed</td>\n",
       "      <td>0.854595</td>\n",
       "      <td>0.256344</td>\n",
       "      <td>0.124937</td>\n",
       "      <td>0.057531</td>\n",
       "      <td>0.145405</td>\n",
       "      <td>0.598251</td>\n",
       "      <td>0.131406</td>\n",
       "      <td>0.067406</td>\n",
       "      <td>0.057531</td>\n",
       "      <td>as built</td>\n",
       "      <td>0.0</td>\n",
       "      <td>pga</td>\n",
       "      <td>g</td>\n",
       "      <td>earthquake</td>\n",
       "      <td>0.335163</td>\n",
       "      <td>1</td>\n",
       "      <td>0.102843</td>\n",
       "      <td>Moderate</td>\n",
       "    </tr>\n",
       "    <tr>\n",
       "      <th>5</th>\n",
       "      <td>fb960495-a653-47a7-890f-de3a62e2ae2d</td>\n",
       "      <td>0.713745</td>\n",
       "      <td>0.244199</td>\n",
       "      <td>0.114988</td>\n",
       "      <td>0.024717</td>\n",
       "      <td>0.286255</td>\n",
       "      <td>0.469546</td>\n",
       "      <td>0.129211</td>\n",
       "      <td>0.090272</td>\n",
       "      <td>0.024717</td>\n",
       "      <td>as built</td>\n",
       "      <td>0.0</td>\n",
       "      <td>pga</td>\n",
       "      <td>g</td>\n",
       "      <td>earthquake</td>\n",
       "      <td>0.318244</td>\n",
       "      <td>1</td>\n",
       "      <td>0.071708</td>\n",
       "      <td>Moderate</td>\n",
       "    </tr>\n",
       "    <tr>\n",
       "      <th>6</th>\n",
       "      <td>cb175bb2-03ef-4814-ab22-ba7fd1dd5c91</td>\n",
       "      <td>0.471063</td>\n",
       "      <td>0.059862</td>\n",
       "      <td>0.028033</td>\n",
       "      <td>0.011999</td>\n",
       "      <td>0.528937</td>\n",
       "      <td>0.411201</td>\n",
       "      <td>0.031829</td>\n",
       "      <td>0.016034</td>\n",
       "      <td>0.011999</td>\n",
       "      <td>as built</td>\n",
       "      <td>0.0</td>\n",
       "      <td>pga</td>\n",
       "      <td>g</td>\n",
       "      <td>earthquake</td>\n",
       "      <td>0.327863</td>\n",
       "      <td>1</td>\n",
       "      <td>0.030890</td>\n",
       "      <td>Moderate</td>\n",
       "    </tr>\n",
       "    <tr>\n",
       "      <th>7</th>\n",
       "      <td>b39f942a-555a-4677-9b62-b13441d6f503</td>\n",
       "      <td>0.867216</td>\n",
       "      <td>0.275028</td>\n",
       "      <td>0.137050</td>\n",
       "      <td>0.064399</td>\n",
       "      <td>0.132784</td>\n",
       "      <td>0.592188</td>\n",
       "      <td>0.137978</td>\n",
       "      <td>0.072651</td>\n",
       "      <td>0.064399</td>\n",
       "      <td>as built</td>\n",
       "      <td>0.0</td>\n",
       "      <td>pga</td>\n",
       "      <td>g</td>\n",
       "      <td>earthquake</td>\n",
       "      <td>0.348802</td>\n",
       "      <td>1</td>\n",
       "      <td>0.111366</td>\n",
       "      <td>Moderate</td>\n",
       "    </tr>\n",
       "    <tr>\n",
       "      <th>8</th>\n",
       "      <td>66fd8603-c038-4a4d-aec2-667b0ec0e948</td>\n",
       "      <td>0.829540</td>\n",
       "      <td>0.224029</td>\n",
       "      <td>0.104803</td>\n",
       "      <td>0.046494</td>\n",
       "      <td>0.170460</td>\n",
       "      <td>0.605511</td>\n",
       "      <td>0.119226</td>\n",
       "      <td>0.058309</td>\n",
       "      <td>0.046494</td>\n",
       "      <td>as built</td>\n",
       "      <td>0.0</td>\n",
       "      <td>pga</td>\n",
       "      <td>g</td>\n",
       "      <td>earthquake</td>\n",
       "      <td>0.311630</td>\n",
       "      <td>1</td>\n",
       "      <td>0.088775</td>\n",
       "      <td>Moderate</td>\n",
       "    </tr>\n",
       "    <tr>\n",
       "      <th>9</th>\n",
       "      <td>72022b56-b4d0-4708-b44a-434d76490362</td>\n",
       "      <td>0.781566</td>\n",
       "      <td>0.395466</td>\n",
       "      <td>0.223396</td>\n",
       "      <td>0.115599</td>\n",
       "      <td>0.218434</td>\n",
       "      <td>0.386100</td>\n",
       "      <td>0.172070</td>\n",
       "      <td>0.107798</td>\n",
       "      <td>0.115599</td>\n",
       "      <td>as built</td>\n",
       "      <td>0.0</td>\n",
       "      <td>pga</td>\n",
       "      <td>g</td>\n",
       "      <td>earthquake</td>\n",
       "      <td>0.280275</td>\n",
       "      <td>1</td>\n",
       "      <td>0.167896</td>\n",
       "      <td>Extensive</td>\n",
       "    </tr>\n",
       "    <tr>\n",
       "      <th>10</th>\n",
       "      <td>165914a0-a651-4b13-8dfa-841247935db0</td>\n",
       "      <td>0.622767</td>\n",
       "      <td>0.172467</td>\n",
       "      <td>0.073248</td>\n",
       "      <td>0.013331</td>\n",
       "      <td>0.377233</td>\n",
       "      <td>0.450300</td>\n",
       "      <td>0.099219</td>\n",
       "      <td>0.059917</td>\n",
       "      <td>0.013331</td>\n",
       "      <td>as built</td>\n",
       "      <td>0.0</td>\n",
       "      <td>pga</td>\n",
       "      <td>g</td>\n",
       "      <td>earthquake</td>\n",
       "      <td>0.280624</td>\n",
       "      <td>1</td>\n",
       "      <td>0.049756</td>\n",
       "      <td>Moderate</td>\n",
       "    </tr>\n",
       "    <tr>\n",
       "      <th>11</th>\n",
       "      <td>3d84ef35-6170-4386-a18d-43100983345d</td>\n",
       "      <td>0.826200</td>\n",
       "      <td>0.220132</td>\n",
       "      <td>0.102445</td>\n",
       "      <td>0.045234</td>\n",
       "      <td>0.173800</td>\n",
       "      <td>0.606069</td>\n",
       "      <td>0.117687</td>\n",
       "      <td>0.057211</td>\n",
       "      <td>0.045234</td>\n",
       "      <td>as built</td>\n",
       "      <td>0.0</td>\n",
       "      <td>pga</td>\n",
       "      <td>g</td>\n",
       "      <td>earthquake</td>\n",
       "      <td>0.308787</td>\n",
       "      <td>1</td>\n",
       "      <td>0.087134</td>\n",
       "      <td>Moderate</td>\n",
       "    </tr>\n",
       "    <tr>\n",
       "      <th>12</th>\n",
       "      <td>2bcc4558-e8be-4cd8-9259-6b4872286783</td>\n",
       "      <td>0.830965</td>\n",
       "      <td>0.466286</td>\n",
       "      <td>0.280862</td>\n",
       "      <td>0.154627</td>\n",
       "      <td>0.169035</td>\n",
       "      <td>0.364679</td>\n",
       "      <td>0.185424</td>\n",
       "      <td>0.126235</td>\n",
       "      <td>0.154627</td>\n",
       "      <td>as built</td>\n",
       "      <td>0.0</td>\n",
       "      <td>pga</td>\n",
       "      <td>g</td>\n",
       "      <td>earthquake</td>\n",
       "      <td>0.306745</td>\n",
       "      <td>1</td>\n",
       "      <td>0.211960</td>\n",
       "      <td>Extensive</td>\n",
       "    </tr>\n",
       "    <tr>\n",
       "      <th>13</th>\n",
       "      <td>8e9a135d-339a-4cb0-87e6-a75589a39823</td>\n",
       "      <td>0.804109</td>\n",
       "      <td>0.196382</td>\n",
       "      <td>0.088410</td>\n",
       "      <td>0.037883</td>\n",
       "      <td>0.195891</td>\n",
       "      <td>0.607727</td>\n",
       "      <td>0.107972</td>\n",
       "      <td>0.050527</td>\n",
       "      <td>0.037883</td>\n",
       "      <td>as built</td>\n",
       "      <td>0.0</td>\n",
       "      <td>pga</td>\n",
       "      <td>g</td>\n",
       "      <td>earthquake</td>\n",
       "      <td>0.291385</td>\n",
       "      <td>1</td>\n",
       "      <td>0.077384</td>\n",
       "      <td>Moderate</td>\n",
       "    </tr>\n",
       "    <tr>\n",
       "      <th>14</th>\n",
       "      <td>f82b2aa2-eb61-4f8d-b98f-af4eb5cae488</td>\n",
       "      <td>0.793457</td>\n",
       "      <td>0.186054</td>\n",
       "      <td>0.082489</td>\n",
       "      <td>0.034861</td>\n",
       "      <td>0.206543</td>\n",
       "      <td>0.607402</td>\n",
       "      <td>0.103566</td>\n",
       "      <td>0.047628</td>\n",
       "      <td>0.034861</td>\n",
       "      <td>as built</td>\n",
       "      <td>0.0</td>\n",
       "      <td>pga</td>\n",
       "      <td>g</td>\n",
       "      <td>earthquake</td>\n",
       "      <td>0.283754</td>\n",
       "      <td>1</td>\n",
       "      <td>0.073275</td>\n",
       "      <td>Moderate</td>\n",
       "    </tr>\n",
       "    <tr>\n",
       "      <th>15</th>\n",
       "      <td>d5ae7be5-b74f-4f56-92bc-8b246a49fd8f</td>\n",
       "      <td>0.729581</td>\n",
       "      <td>0.152069</td>\n",
       "      <td>0.060221</td>\n",
       "      <td>0.020660</td>\n",
       "      <td>0.270419</td>\n",
       "      <td>0.577512</td>\n",
       "      <td>0.091848</td>\n",
       "      <td>0.039561</td>\n",
       "      <td>0.020660</td>\n",
       "      <td>as built</td>\n",
       "      <td>0.0</td>\n",
       "      <td>pga</td>\n",
       "      <td>g</td>\n",
       "      <td>earthquake</td>\n",
       "      <td>0.306863</td>\n",
       "      <td>1</td>\n",
       "      <td>0.055223</td>\n",
       "      <td>Moderate</td>\n",
       "    </tr>\n",
       "    <tr>\n",
       "      <th>16</th>\n",
       "      <td>69c93b3e-dc58-412f-bc7e-6c6363b44ccf</td>\n",
       "      <td>0.732784</td>\n",
       "      <td>0.154365</td>\n",
       "      <td>0.061390</td>\n",
       "      <td>0.021148</td>\n",
       "      <td>0.267216</td>\n",
       "      <td>0.578419</td>\n",
       "      <td>0.092975</td>\n",
       "      <td>0.040242</td>\n",
       "      <td>0.021148</td>\n",
       "      <td>as built</td>\n",
       "      <td>0.0</td>\n",
       "      <td>pga</td>\n",
       "      <td>g</td>\n",
       "      <td>earthquake</td>\n",
       "      <td>0.308955</td>\n",
       "      <td>1</td>\n",
       "      <td>0.055999</td>\n",
       "      <td>Moderate</td>\n",
       "    </tr>\n",
       "    <tr>\n",
       "      <th>17</th>\n",
       "      <td>66a1b90e-cac6-41ff-91d7-16953d9c3e61</td>\n",
       "      <td>0.745020</td>\n",
       "      <td>0.274814</td>\n",
       "      <td>0.134390</td>\n",
       "      <td>0.030722</td>\n",
       "      <td>0.254980</td>\n",
       "      <td>0.470206</td>\n",
       "      <td>0.140425</td>\n",
       "      <td>0.103668</td>\n",
       "      <td>0.030722</td>\n",
       "      <td>as built</td>\n",
       "      <td>0.0</td>\n",
       "      <td>pga</td>\n",
       "      <td>g</td>\n",
       "      <td>earthquake</td>\n",
       "      <td>0.333649</td>\n",
       "      <td>1</td>\n",
       "      <td>0.081979</td>\n",
       "      <td>Moderate</td>\n",
       "    </tr>\n",
       "    <tr>\n",
       "      <th>18</th>\n",
       "      <td>1e0e2f70-69ee-41a1-bb45-a41dc8194921</td>\n",
       "      <td>0.916107</td>\n",
       "      <td>0.631851</td>\n",
       "      <td>0.436869</td>\n",
       "      <td>0.275781</td>\n",
       "      <td>0.083893</td>\n",
       "      <td>0.284256</td>\n",
       "      <td>0.194982</td>\n",
       "      <td>0.161087</td>\n",
       "      <td>0.275781</td>\n",
       "      <td>as built</td>\n",
       "      <td>0.0</td>\n",
       "      <td>pga</td>\n",
       "      <td>g</td>\n",
       "      <td>earthquake</td>\n",
       "      <td>0.378684</td>\n",
       "      <td>1</td>\n",
       "      <td>0.340180</td>\n",
       "      <td>Extensive</td>\n",
       "    </tr>\n",
       "    <tr>\n",
       "      <th>19</th>\n",
       "      <td>6d48f606-8e8e-43be-bbc8-7be548f06505</td>\n",
       "      <td>0.717721</td>\n",
       "      <td>0.143877</td>\n",
       "      <td>0.056100</td>\n",
       "      <td>0.018958</td>\n",
       "      <td>0.282279</td>\n",
       "      <td>0.573844</td>\n",
       "      <td>0.087777</td>\n",
       "      <td>0.037142</td>\n",
       "      <td>0.018958</td>\n",
       "      <td>as built</td>\n",
       "      <td>0.0</td>\n",
       "      <td>pga</td>\n",
       "      <td>g</td>\n",
       "      <td>earthquake</td>\n",
       "      <td>0.299339</td>\n",
       "      <td>1</td>\n",
       "      <td>0.052481</td>\n",
       "      <td>Moderate</td>\n",
       "    </tr>\n",
       "    <tr>\n",
       "      <th>20</th>\n",
       "      <td>98b8083e-b88f-48a8-88b1-045bc5e26d36</td>\n",
       "      <td>0.809554</td>\n",
       "      <td>0.433945</td>\n",
       "      <td>0.253982</td>\n",
       "      <td>0.135989</td>\n",
       "      <td>0.190446</td>\n",
       "      <td>0.375609</td>\n",
       "      <td>0.179963</td>\n",
       "      <td>0.117993</td>\n",
       "      <td>0.135989</td>\n",
       "      <td>as built</td>\n",
       "      <td>0.0</td>\n",
       "      <td>pga</td>\n",
       "      <td>g</td>\n",
       "      <td>earthquake</td>\n",
       "      <td>0.294462</td>\n",
       "      <td>1</td>\n",
       "      <td>0.191152</td>\n",
       "      <td>Extensive</td>\n",
       "    </tr>\n",
       "    <tr>\n",
       "      <th>21</th>\n",
       "      <td>9859f11b-e11a-4fc0-a96e-e5989a6a244c</td>\n",
       "      <td>0.781219</td>\n",
       "      <td>0.194116</td>\n",
       "      <td>0.082546</td>\n",
       "      <td>0.030359</td>\n",
       "      <td>0.218781</td>\n",
       "      <td>0.587103</td>\n",
       "      <td>0.111570</td>\n",
       "      <td>0.052186</td>\n",
       "      <td>0.030359</td>\n",
       "      <td>as built</td>\n",
       "      <td>0.0</td>\n",
       "      <td>pga</td>\n",
       "      <td>g</td>\n",
       "      <td>earthquake</td>\n",
       "      <td>0.344378</td>\n",
       "      <td>1</td>\n",
       "      <td>0.069945</td>\n",
       "      <td>Moderate</td>\n",
       "    </tr>\n",
       "    <tr>\n",
       "      <th>22</th>\n",
       "      <td>4c8792c5-70a8-4c1c-b453-243cda28168b</td>\n",
       "      <td>0.864556</td>\n",
       "      <td>0.295245</td>\n",
       "      <td>0.143789</td>\n",
       "      <td>0.060471</td>\n",
       "      <td>0.135444</td>\n",
       "      <td>0.569311</td>\n",
       "      <td>0.151455</td>\n",
       "      <td>0.083319</td>\n",
       "      <td>0.060471</td>\n",
       "      <td>as built</td>\n",
       "      <td>0.0</td>\n",
       "      <td>pga</td>\n",
       "      <td>g</td>\n",
       "      <td>earthquake</td>\n",
       "      <td>0.432261</td>\n",
       "      <td>1</td>\n",
       "      <td>0.110496</td>\n",
       "      <td>Moderate</td>\n",
       "    </tr>\n",
       "    <tr>\n",
       "      <th>23</th>\n",
       "      <td>2b8a79d0-a6e0-4608-b93a-f002bc6832a5</td>\n",
       "      <td>0.785448</td>\n",
       "      <td>0.400571</td>\n",
       "      <td>0.227368</td>\n",
       "      <td>0.118197</td>\n",
       "      <td>0.214552</td>\n",
       "      <td>0.384877</td>\n",
       "      <td>0.173203</td>\n",
       "      <td>0.109172</td>\n",
       "      <td>0.118197</td>\n",
       "      <td>as built</td>\n",
       "      <td>0.0</td>\n",
       "      <td>pga</td>\n",
       "      <td>g</td>\n",
       "      <td>earthquake</td>\n",
       "      <td>0.282135</td>\n",
       "      <td>1</td>\n",
       "      <td>0.170892</td>\n",
       "      <td>Extensive</td>\n",
       "    </tr>\n",
       "  </tbody>\n",
       "</table>\n",
       "</div>"
      ],
      "text/plain": [
       "                                    guid  ls-slight  ls-moderat  ls-extensi  \\\n",
       "0   dd323e98-811b-4e04-9421-608759833360   0.740530    0.160071    0.064320   \n",
       "1   f6d5befe-88c1-4833-9164-6d7ba2b66ca6   0.741328    0.160672    0.064631   \n",
       "2   033553d8-100b-4c0f-87a6-de74ffbee25c   0.757964    0.173768    0.071501   \n",
       "3   b7312b14-76fc-4548-84aa-f331885a41d1   0.858277    0.261609    0.128316   \n",
       "4   103283a3-548e-4368-a38a-bee6fae481ed   0.854595    0.256344    0.124937   \n",
       "5   fb960495-a653-47a7-890f-de3a62e2ae2d   0.713745    0.244199    0.114988   \n",
       "6   cb175bb2-03ef-4814-ab22-ba7fd1dd5c91   0.471063    0.059862    0.028033   \n",
       "7   b39f942a-555a-4677-9b62-b13441d6f503   0.867216    0.275028    0.137050   \n",
       "8   66fd8603-c038-4a4d-aec2-667b0ec0e948   0.829540    0.224029    0.104803   \n",
       "9   72022b56-b4d0-4708-b44a-434d76490362   0.781566    0.395466    0.223396   \n",
       "10  165914a0-a651-4b13-8dfa-841247935db0   0.622767    0.172467    0.073248   \n",
       "11  3d84ef35-6170-4386-a18d-43100983345d   0.826200    0.220132    0.102445   \n",
       "12  2bcc4558-e8be-4cd8-9259-6b4872286783   0.830965    0.466286    0.280862   \n",
       "13  8e9a135d-339a-4cb0-87e6-a75589a39823   0.804109    0.196382    0.088410   \n",
       "14  f82b2aa2-eb61-4f8d-b98f-af4eb5cae488   0.793457    0.186054    0.082489   \n",
       "15  d5ae7be5-b74f-4f56-92bc-8b246a49fd8f   0.729581    0.152069    0.060221   \n",
       "16  69c93b3e-dc58-412f-bc7e-6c6363b44ccf   0.732784    0.154365    0.061390   \n",
       "17  66a1b90e-cac6-41ff-91d7-16953d9c3e61   0.745020    0.274814    0.134390   \n",
       "18  1e0e2f70-69ee-41a1-bb45-a41dc8194921   0.916107    0.631851    0.436869   \n",
       "19  6d48f606-8e8e-43be-bbc8-7be548f06505   0.717721    0.143877    0.056100   \n",
       "20  98b8083e-b88f-48a8-88b1-045bc5e26d36   0.809554    0.433945    0.253982   \n",
       "21  9859f11b-e11a-4fc0-a96e-e5989a6a244c   0.781219    0.194116    0.082546   \n",
       "22  4c8792c5-70a8-4c1c-b453-243cda28168b   0.864556    0.295245    0.143789   \n",
       "23  2b8a79d0-a6e0-4608-b93a-f002bc6832a5   0.785448    0.400571    0.227368   \n",
       "\n",
       "    ls-complet   ds-none  ds-slight  ds-moderat  ds-extensi  ds-complet  \\\n",
       "0     0.022382  0.259470   0.580459    0.095751    0.041938    0.022382   \n",
       "1     0.022513  0.258672   0.580657    0.096041    0.042117    0.022513   \n",
       "2     0.025464  0.242036   0.584196    0.102267    0.046037    0.025464   \n",
       "3     0.059430  0.141723   0.596668    0.133293    0.068886    0.059430   \n",
       "4     0.057531  0.145405   0.598251    0.131406    0.067406    0.057531   \n",
       "5     0.024717  0.286255   0.469546    0.129211    0.090272    0.024717   \n",
       "6     0.011999  0.528937   0.411201    0.031829    0.016034    0.011999   \n",
       "7     0.064399  0.132784   0.592188    0.137978    0.072651    0.064399   \n",
       "8     0.046494  0.170460   0.605511    0.119226    0.058309    0.046494   \n",
       "9     0.115599  0.218434   0.386100    0.172070    0.107798    0.115599   \n",
       "10    0.013331  0.377233   0.450300    0.099219    0.059917    0.013331   \n",
       "11    0.045234  0.173800   0.606069    0.117687    0.057211    0.045234   \n",
       "12    0.154627  0.169035   0.364679    0.185424    0.126235    0.154627   \n",
       "13    0.037883  0.195891   0.607727    0.107972    0.050527    0.037883   \n",
       "14    0.034861  0.206543   0.607402    0.103566    0.047628    0.034861   \n",
       "15    0.020660  0.270419   0.577512    0.091848    0.039561    0.020660   \n",
       "16    0.021148  0.267216   0.578419    0.092975    0.040242    0.021148   \n",
       "17    0.030722  0.254980   0.470206    0.140425    0.103668    0.030722   \n",
       "18    0.275781  0.083893   0.284256    0.194982    0.161087    0.275781   \n",
       "19    0.018958  0.282279   0.573844    0.087777    0.037142    0.018958   \n",
       "20    0.135989  0.190446   0.375609    0.179963    0.117993    0.135989   \n",
       "21    0.030359  0.218781   0.587103    0.111570    0.052186    0.030359   \n",
       "22    0.060471  0.135444   0.569311    0.151455    0.083319    0.060471   \n",
       "23    0.118197  0.214552   0.384877    0.173203    0.109172    0.118197   \n",
       "\n",
       "    retrofit  retrocost demandtype demandunits  hazardtype  hazardval  spans  \\\n",
       "0   as built        0.0        pga           g  earthquake   0.314129      1   \n",
       "1   as built        0.0        pga           g  earthquake   0.314672      1   \n",
       "2   as built        0.0        pga           g  earthquake   0.326410      1   \n",
       "3   as built        0.0        pga           g  earthquake   0.339001      1   \n",
       "4   as built        0.0        pga           g  earthquake   0.335163      1   \n",
       "5   as built        0.0        pga           g  earthquake   0.318244      1   \n",
       "6   as built        0.0        pga           g  earthquake   0.327863      1   \n",
       "7   as built        0.0        pga           g  earthquake   0.348802      1   \n",
       "8   as built        0.0        pga           g  earthquake   0.311630      1   \n",
       "9   as built        0.0        pga           g  earthquake   0.280275      1   \n",
       "10  as built        0.0        pga           g  earthquake   0.280624      1   \n",
       "11  as built        0.0        pga           g  earthquake   0.308787      1   \n",
       "12  as built        0.0        pga           g  earthquake   0.306745      1   \n",
       "13  as built        0.0        pga           g  earthquake   0.291385      1   \n",
       "14  as built        0.0        pga           g  earthquake   0.283754      1   \n",
       "15  as built        0.0        pga           g  earthquake   0.306863      1   \n",
       "16  as built        0.0        pga           g  earthquake   0.308955      1   \n",
       "17  as built        0.0        pga           g  earthquake   0.333649      1   \n",
       "18  as built        0.0        pga           g  earthquake   0.378684      1   \n",
       "19  as built        0.0        pga           g  earthquake   0.299339      1   \n",
       "20  as built        0.0        pga           g  earthquake   0.294462      1   \n",
       "21  as built        0.0        pga           g  earthquake   0.344378      1   \n",
       "22  as built        0.0        pga           g  earthquake   0.432261      1   \n",
       "23  as built        0.0        pga           g  earthquake   0.282135      1   \n",
       "\n",
       "    meandamage  expectval  \n",
       "0     0.057940   Moderate  \n",
       "1     0.058146   Moderate  \n",
       "2     0.062680   Moderate  \n",
       "3     0.105215   Moderate  \n",
       "4     0.102843   Moderate  \n",
       "5     0.071708   Moderate  \n",
       "6     0.030890   Moderate  \n",
       "7     0.111366   Moderate  \n",
       "8     0.088775   Moderate  \n",
       "9     0.167896  Extensive  \n",
       "10    0.049756   Moderate  \n",
       "11    0.087134   Moderate  \n",
       "12    0.211960  Extensive  \n",
       "13    0.077384   Moderate  \n",
       "14    0.073275   Moderate  \n",
       "15    0.055223   Moderate  \n",
       "16    0.055999   Moderate  \n",
       "17    0.081979   Moderate  \n",
       "18    0.340180  Extensive  \n",
       "19    0.052481   Moderate  \n",
       "20    0.191152  Extensive  \n",
       "21    0.069945   Moderate  \n",
       "22    0.110496   Moderate  \n",
       "23    0.170892  Extensive  "
      ]
     },
     "execution_count": 10,
     "metadata": {},
     "output_type": "execute_result"
    }
   ],
   "source": [
    "md.get_output_dataset('result').get_dataframe_from_csv()"
   ]
  },
  {
   "cell_type": "markdown",
   "metadata": {},
   "source": [
    "### chaining with building damage"
   ]
  },
  {
   "cell_type": "code",
   "execution_count": 11,
   "metadata": {},
   "outputs": [],
   "source": [
    "from pyincore.analyses.buildingdamage import BuildingDamage\n",
    "bldg_dmg = BuildingDamage(client)"
   ]
  },
  {
   "cell_type": "code",
   "execution_count": 12,
   "metadata": {},
   "outputs": [
    {
     "name": "stdout",
     "output_type": "stream",
     "text": [
      "Dataset already exists locally. Reading from local cached zip.\n",
      "Unzipped folder found in the local cache. Reading from it...\n"
     ]
    },
    {
     "data": {
      "text/plain": [
       "True"
      ]
     },
     "execution_count": 12,
     "metadata": {},
     "output_type": "execute_result"
    }
   ],
   "source": [
    "bldg_dmg.load_remote_input_dataset(\"buildings\", \"5a284f0bc7d30d13bc081a28\")\n",
    "\n",
    "# Load fragility mapping\n",
    "mapping_set = MappingSet(fragility_service.get_mapping(\"5b47b350337d4a3629076f2c\"))\n",
    "bldg_dmg.set_input_dataset(\"dfr3_mapping_set\", mapping_set)"
   ]
  },
  {
   "cell_type": "code",
   "execution_count": 13,
   "metadata": {
    "collapsed": false,
    "jupyter": {
     "outputs_hidden": false
    },
    "pycharm": {
     "name": "#%%\n"
    }
   },
   "outputs": [
    {
     "data": {
      "text/plain": [
       "True"
      ]
     },
     "execution_count": 13,
     "metadata": {},
     "output_type": "execute_result"
    }
   ],
   "source": [
    "bldg_dmg.set_parameter(\"hazard_type\", \"earthquake\")\n",
    "bldg_dmg.set_parameter(\"hazard_id\", \"5b902cb273c3371e1236b36b\")\n",
    "bldg_dmg.set_parameter(\"num_cpu\", 1)"
   ]
  },
  {
   "cell_type": "code",
   "execution_count": 14,
   "metadata": {
    "collapsed": false,
    "jupyter": {
     "outputs_hidden": false
    },
    "pycharm": {
     "name": "#%%\n"
    }
   },
   "outputs": [],
   "source": [
    "bldg_dmg.set_parameter(\"result_name\", \"memphis_bldg_dmg_result\")\n",
    "\n",
    "bldg_dmg.run_analysis()\n",
    "building_damage_result = bldg_dmg.get_output_dataset(\"ds_result\")"
   ]
  },
  {
   "cell_type": "code",
   "execution_count": 17,
   "metadata": {},
   "outputs": [
    {
     "name": "stdout",
     "output_type": "stream",
     "text": [
      "dataset type does not match - given type: ergo:buildingDamageVer5 spec types: ['ergo:buildingDamageVer4', 'ergo:buildingDamagerVer5', 'ergo:nsBuildingInventoryDamage', 'ergo:bridgeDamage', 'ergo:waterFacilityDamageVer4', 'ergo:roadDamage', 'incore:epfDamage', 'incore:pipelineDamage', 'ergo:waterFacilityDamageVer4']\n",
      "Dataset already exists locally. Reading from local cached zip.\n",
      "Unzipped folder found in the local cache. Reading from it...\n",
      "Error reading dataset: required dataset is missing - spec: {'id': 'damage', 'required': True, 'description': 'damage result that has damage intervals in it', 'type': ['ergo:buildingDamageVer4', 'ergo:buildingDamagerVer5', 'ergo:nsBuildingInventoryDamage', 'ergo:bridgeDamage', 'ergo:waterFacilityDamageVer4', 'ergo:roadDamage', 'incore:epfDamage', 'incore:pipelineDamage', 'ergo:waterFacilityDamageVer4']}\n"
     ]
    },
    {
     "data": {
      "text/plain": [
       "(False,\n",
       " \"required dataset is missing - spec: {'id': 'damage', 'required': True, 'description': 'damage result that has damage intervals in it', 'type': ['ergo:buildingDamageVer4', 'ergo:buildingDamagerVer5', 'ergo:nsBuildingInventoryDamage', 'ergo:bridgeDamage', 'ergo:waterFacilityDamageVer4', 'ergo:roadDamage', 'incore:epfDamage', 'incore:pipelineDamage', 'ergo:waterFacilityDamageVer4']}\")"
      ]
     },
     "execution_count": 17,
     "metadata": {},
     "output_type": "execute_result"
    }
   ],
   "source": [
    "md = MeanDamage(client)\n",
    "md.set_input_dataset(\"damage\", building_damage_result)\n",
    "md.load_remote_input_dataset(\"dmg_ratios\", \"5a284f2ec7d30d13bc08209a\")\n",
    "md.set_parameter(\"result_name\", \"building_mean_damage\")\n",
    "md.set_parameter(\"damage_interval_keys\", [\"DS_0\", \"DS_1\", \"DS_2\", \"DS_3\"])\n",
    "md.set_parameter(\"num_cpu\", 1)\n",
    "md.run_analysis()\n"
   ]
  },
  {
   "cell_type": "code",
   "execution_count": 18,
   "metadata": {},
   "outputs": [
    {
     "ename": "KeyError",
     "evalue": "'ds_result'",
     "output_type": "error",
     "traceback": [
      "\u001b[0;31m---------------------------------------------------------------------------\u001b[0m",
      "\u001b[0;31mKeyError\u001b[0m                                  Traceback (most recent call last)",
      "\u001b[0;32m<ipython-input-18-ce00a9dc0a86>\u001b[0m in \u001b[0;36m<module>\u001b[0;34m\u001b[0m\n\u001b[0;32m----> 1\u001b[0;31m \u001b[0mmd\u001b[0m\u001b[0;34m.\u001b[0m\u001b[0mget_output_dataset\u001b[0m\u001b[0;34m(\u001b[0m\u001b[0;34m'ds_result'\u001b[0m\u001b[0;34m)\u001b[0m\u001b[0;34m.\u001b[0m\u001b[0mget_dataframe_from_csv\u001b[0m\u001b[0;34m(\u001b[0m\u001b[0;34m)\u001b[0m\u001b[0;34m\u001b[0m\u001b[0;34m\u001b[0m\u001b[0m\n\u001b[0m",
      "\u001b[0;32m/opt/conda/lib/python3.7/site-packages/pyincore/baseanalysis.py\u001b[0m in \u001b[0;36mget_output_dataset\u001b[0;34m(self, id)\u001b[0m\n\u001b[1;32m    133\u001b[0m         \"\"\"Get or set the output dataset. Setting the output dataset to a new value\n\u001b[1;32m    134\u001b[0m         will return True or False on error.\"\"\"\n\u001b[0;32m--> 135\u001b[0;31m         \u001b[0;32mreturn\u001b[0m \u001b[0mself\u001b[0m\u001b[0;34m.\u001b[0m\u001b[0moutput_datasets\u001b[0m\u001b[0;34m[\u001b[0m\u001b[0mid\u001b[0m\u001b[0;34m]\u001b[0m\u001b[0;34m[\u001b[0m\u001b[0;34m'value'\u001b[0m\u001b[0;34m]\u001b[0m\u001b[0;34m\u001b[0m\u001b[0;34m\u001b[0m\u001b[0m\n\u001b[0m\u001b[1;32m    136\u001b[0m \u001b[0;34m\u001b[0m\u001b[0m\n\u001b[1;32m    137\u001b[0m     \u001b[0;32mdef\u001b[0m \u001b[0mset_output_dataset\u001b[0m\u001b[0;34m(\u001b[0m\u001b[0mself\u001b[0m\u001b[0;34m,\u001b[0m \u001b[0mid\u001b[0m\u001b[0;34m,\u001b[0m \u001b[0mdataset\u001b[0m\u001b[0;34m)\u001b[0m\u001b[0;34m:\u001b[0m\u001b[0;34m\u001b[0m\u001b[0;34m\u001b[0m\u001b[0m\n",
      "\u001b[0;31mKeyError\u001b[0m: 'ds_result'"
     ]
    }
   ],
   "source": [
    "md.get_output_dataset('ds_result').get_dataframe_from_csv()"
   ]
  },
  {
   "cell_type": "markdown",
   "metadata": {},
   "source": [
    "### chaining with cumulative buidling damage"
   ]
  },
  {
   "cell_type": "code",
   "execution_count": null,
   "metadata": {},
   "outputs": [],
   "source": [
    "from pyincore.analyses.cumulativebuildingdamage import CumulativeBuildingDamage\n",
    "cumulative_bldg_dmg = CumulativeBuildingDamage(client)"
   ]
  },
  {
   "cell_type": "code",
   "execution_count": null,
   "metadata": {},
   "outputs": [],
   "source": [
    "cumulative_bldg_dmg.load_remote_input_dataset(\"eq_bldg_dmg\", \"5c5c9686c5c0e488fcf91903\")\n",
    "cumulative_bldg_dmg.load_remote_input_dataset(\"tsunami_bldg_dmg\", \"5c5c96f6c5c0e488fcf9190f\")\n",
    "cumulative_bldg_dmg.set_parameter(\"num_cpu\", 4)\n",
    "cumulative_bldg_dmg.set_parameter(\"result_name\", \"Cumulative_Bldg_Dmg_Result\")\n",
    "cumulative_bldg_dmg.run_analysis()\n",
    "cumulative_bldg_damage_result = cumulative_bldg_dmg.get_output_dataset(\"combined-result\")\n"
   ]
  },
  {
   "cell_type": "code",
   "execution_count": null,
   "metadata": {},
   "outputs": [],
   "source": [
    "md = MeanDamage(client)\n",
    "md.set_input_dataset(\"damage\", cumulative_bldg_damage_result)\n",
    "md.load_remote_input_dataset(\"dmg_ratios\", \"5a284f2ec7d30d13bc08209a\")\n",
    "md.set_parameter(\"result_name\", \"cumulative_building_mean_damage\")\n",
    "md.set_parameter(\"damage_interval_keys\", [\"DS_0\", \"DS_1\", \"DS_2\", \"DS_3\"])\n",
    "md.set_parameter(\"num_cpu\", 1)\n",
    "md.run_analysis()\n"
   ]
  },
  {
   "cell_type": "code",
   "execution_count": null,
   "metadata": {},
   "outputs": [],
   "source": [
    "md.get_output_dataset('result').get_dataframe_from_csv()"
   ]
  },
  {
   "cell_type": "markdown",
   "metadata": {},
   "source": [
    "### chaining with non-structural damage"
   ]
  },
  {
   "cell_type": "code",
   "execution_count": null,
   "metadata": {},
   "outputs": [],
   "source": [
    "from pyincore.analyses.nonstructbuildingdamage import NonStructBuildingDamage\n",
    "non_structural_building_dmg = NonStructBuildingDamage(client)"
   ]
  },
  {
   "cell_type": "code",
   "execution_count": null,
   "metadata": {},
   "outputs": [],
   "source": [
    "non_structural_building_dmg.load_remote_input_dataset(\"buildings\", \"5a284f42c7d30d13bc0821ba\")\n",
    "\n",
    "# Load fragility mapping\n",
    "mapping_set = MappingSet(fragility_service.get_mapping(\"5b47b350337d4a3629076f2c\"))\n",
    "non_structural_building_dmg.set_input_dataset(\"dfr3_mapping_set\", mapping_set)"
   ]
  },
  {
   "cell_type": "code",
   "execution_count": null,
   "metadata": {
    "collapsed": false,
    "jupyter": {
     "outputs_hidden": false
    },
    "pycharm": {
     "name": "#%%\n"
    }
   },
   "outputs": [],
   "source": [
    "non_structural_building_dmg.set_parameter(\"hazard_type\", \"earthquake\")\n",
    "non_structural_building_dmg.set_parameter(\"hazard_id\", \"5b902cb273c3371e1236b36b\")\n",
    "non_structural_building_dmg.set_parameter(\"num_cpu\", 4)\n",
    "non_structural_building_dmg.set_parameter(\"use_liquefaction\", True)\n",
    "non_structural_building_dmg.set_parameter(\"liq_geology_dataset_id\", \"5a284f55c7d30d13bc0824ba\")"
   ]
  },
  {
   "cell_type": "code",
   "execution_count": null,
   "metadata": {
    "collapsed": false,
    "jupyter": {
     "outputs_hidden": false
    },
    "pycharm": {
     "name": "#%%\n"
    }
   },
   "outputs": [],
   "source": [
    "non_structural_building_dmg.set_parameter(\"result_name\", \"non_structural_building_dmg_result\")\n",
    "non_structural_building_dmg.run_analysis()\n",
    "non_structural_building_damage_result = non_structural_building_dmg.get_output_dataset(\"result\")\n"
   ]
  },
  {
   "cell_type": "code",
   "execution_count": null,
   "metadata": {},
   "outputs": [],
   "source": [
    "md.get_output_dataset('result').get_dataframe_from_csv()"
   ]
  },
  {
   "cell_type": "markdown",
   "metadata": {},
   "source": [
    "#### get AS mean damage"
   ]
  },
  {
   "cell_type": "code",
   "execution_count": null,
   "metadata": {},
   "outputs": [],
   "source": [
    "md = MeanDamage(client)\n",
    "md.set_input_dataset(\"damage\", non_structural_building_damage_result)\n",
    "md.load_remote_input_dataset(\"dmg_ratios\", \"5a284f2ec7d30d13bc08207c\")\n",
    "md.set_parameter(\"result_name\", \"non_structural_mean_damage_AS\")\n",
    "md.set_parameter(\"damage_interval_keys\", [\"insig_as\", \"mod_as\", \"heavy_as\", \"comp_as\"])\n",
    "md.set_parameter(\"num_cpu\", 1)\n",
    "md.run_analysis()\n"
   ]
  },
  {
   "cell_type": "markdown",
   "metadata": {},
   "source": [
    "#### get DS mean damage"
   ]
  },
  {
   "cell_type": "code",
   "execution_count": null,
   "metadata": {},
   "outputs": [],
   "source": [
    "md = MeanDamage(client)\n",
    "md.set_input_dataset(\"damage\", non_structural_building_damage_result)\n",
    "md.load_remote_input_dataset(\"dmg_ratios\", \"5a284f2ec7d30d13bc082090\")\n",
    "md.set_parameter(\"result_name\", \"non_structural_mean_damage_DS\")\n",
    "md.set_parameter(\"damage_interval_keys\", [\"insig_ds\", \"mod_ds\", \"heavy_ds\", \"comp_ds\"])\n",
    "md.set_parameter(\"num_cpu\", 1)\n",
    "md.run_analysis()\n"
   ]
  },
  {
   "cell_type": "markdown",
   "metadata": {},
   "source": [
    "#### get content mean damage"
   ]
  },
  {
   "cell_type": "code",
   "execution_count": null,
   "metadata": {},
   "outputs": [],
   "source": [
    "md = MeanDamage(client)\n",
    "md.set_input_dataset(\"damage\", non_structural_building_damage_result)\n",
    "md.load_remote_input_dataset(\"dmg_ratios\", \"5a284f2ec7d30d13bc082086\")\n",
    "md.set_parameter(\"result_name\", \"non_structural_mean_damage_Content\")\n",
    "md.set_parameter(\"damage_interval_keys\", [\"insig_as\", \"mod_as\", \"heavy_as\", \"comp_as\"])\n",
    "md.set_parameter(\"num_cpu\", 1)\n",
    "md.run_analysis()\n"
   ]
  },
  {
   "cell_type": "code",
   "execution_count": null,
   "metadata": {},
   "outputs": [],
   "source": [
    "md.get_output_dataset('result').get_dataframe_from_csv()"
   ]
  },
  {
   "cell_type": "code",
   "execution_count": null,
   "metadata": {},
   "outputs": [],
   "source": []
  }
 ],
 "metadata": {
  "kernelspec": {
   "display_name": "Python 3",
   "language": "python",
   "name": "python3"
  },
  "language_info": {
   "codemirror_mode": {
    "name": "ipython",
    "version": 3
   },
   "file_extension": ".py",
   "mimetype": "text/x-python",
   "name": "python",
   "nbconvert_exporter": "python",
   "pygments_lexer": "ipython3",
   "version": "3.7.10"
  }
 },
 "nbformat": 4,
 "nbformat_minor": 4
}
