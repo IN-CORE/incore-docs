{
 "cells": [
  {
   "cell_type": "code",
   "execution_count": null,
   "metadata": {
    "collapsed": false,
    "jupyter": {
     "outputs_hidden": false
    },
    "pycharm": {
     "name": "#%%\n"
    }
   },
   "outputs": [],
   "source": [
    "from pyincore import IncoreClient, Dataset\n",
    "from pyincore_data.censusutil import CensusUtil\n",
    "from pyincore.analyses.housingrecoverysequential import HousingRecoverySequential\n",
    "from pyincore.analyses.socialvulnerability import SocialVulnerability\n",
    "\n",
    "import pandas as pd"
   ]
  },
  {
   "cell_type": "code",
   "execution_count": null,
   "metadata": {
    "collapsed": false,
    "jupyter": {
     "outputs_hidden": false
    },
    "pycharm": {
     "name": "#%%\n"
    }
   },
   "outputs": [],
   "source": [
    "# Connect to IN-CORE service\n",
    "client = IncoreClient()"
   ]
  },
  {
   "cell_type": "markdown",
   "metadata": {},
   "source": [
    "### Chaining with social vulnerability analysis"
   ]
  },
  {
   "cell_type": "markdown",
   "metadata": {},
   "source": [
    "#### prepare input datasets for social vulnerability analysis"
   ]
  },
  {
   "cell_type": "code",
   "execution_count": null,
   "metadata": {},
   "outputs": [],
   "source": [
    "# Parameters\n",
    "state = \"texas\"\n",
    "county = \"galveston\"\n",
    "year = 2020"
   ]
  },
  {
   "cell_type": "code",
   "execution_count": null,
   "metadata": {},
   "outputs": [],
   "source": [
    "# get fips code to use fetch census data\n",
    "fips = CensusUtil.get_fips_by_state_county(state=state, county=county)\n",
    "state_code = fips[:2]\n",
    "county_code = fips[2:]\n",
    "fips"
   ]
  },
  {
   "cell_type": "code",
   "execution_count": null,
   "metadata": {
    "pycharm": {
     "name": "#%%\n"
    }
   },
   "outputs": [],
   "source": [
    "navs = CensusUtil.national_ave_values(year=year)\n",
    "national_vulnerability_feature_averages = Dataset.from_csv_data(navs, name=\"national_vulnerability_feature_averages.csv\",\n",
    "                                                                 data_type=\"incore:socialVulnerabilityFeatureAverages\")\n",
    "\n",
    "geo_type = \"block%20group:*\"\n",
    "# geo_type = \"tract:*\"\n",
    "social_vulnerability_dem_factors_df = CensusUtil.demographic_factors(state_code, county_code, year=year,\n",
    "                                                                      geo_type=geo_type)\n",
    "\n",
    "# Temp fix: remove bad data point\n",
    "social_vulnerability_dem_factors_df = social_vulnerability_dem_factors_df.dropna()\n",
    "\n",
    "social_vulnerability_dem_factors = Dataset.from_dataframe(social_vulnerability_dem_factors_df,\n",
    "                                                           name=\"social_vunlnerability_dem_factors\",\n",
    "                                                           data_type=\"incore:socialVulnerabilityDemFactors\")"
   ]
  },
  {
   "cell_type": "markdown",
   "metadata": {},
   "source": [
    "#### run social vulnerability analysis"
   ]
  },
  {
   "cell_type": "code",
   "execution_count": null,
   "metadata": {
    "pycharm": {
     "name": "#%%\n"
    }
   },
   "outputs": [],
   "source": [
    "# Configure pyincore access and the analysis with the information above\n",
    "\n",
    "client = IncoreClient()\n",
    "social_vulnerability = SocialVulnerability(client)\n",
    "\n",
    "social_vulnerability.set_parameter(\"result_name\", \"social_vulnerabilty\")\n",
    "social_vulnerability.set_input_dataset(\"national_vulnerability_feature_averages\", national_vulnerability_feature_averages)\n",
    "social_vulnerability.set_input_dataset(\"social_vulnerability_demographic_factors\", social_vulnerability_dem_factors)"
   ]
  },
  {
   "cell_type": "code",
   "execution_count": null,
   "metadata": {},
   "outputs": [],
   "source": [
    "# Run social vulnerability damage analysis\n",
    "result = social_vulnerability.run_analysis()"
   ]
  },
  {
   "cell_type": "code",
   "execution_count": null,
   "metadata": {},
   "outputs": [],
   "source": [
    "# Retrieve result dataset\n",
    "sv_result = social_vulnerability.get_output_dataset(\"sv_result\")\n",
    "\n",
    "# Convert dataset to Pandas DataFrame\n",
    "df = sv_result.get_dataframe_from_csv()\n",
    "\n",
    "# Display top 5 rows of output data\n",
    "df.head()"
   ]
  },
  {
   "cell_type": "markdown",
   "metadata": {},
   "source": [
    "### Household-level housing serial recovery for Galveston testbed."
   ]
  },
  {
   "cell_type": "code",
   "execution_count": null,
   "metadata": {},
   "outputs": [],
   "source": [
    "# Population dislocation result aggregated to the block group level.\n",
    "population_dislocation = \"60f5ea5d544e944c3cec66dd\" # Galveston testbed\n",
    "# Transition probability matrix per social vulnerability level.\n",
    "transition_probability_matrix = \"60f5e2ae544e944c3cec0794\"\n",
    "# Initial mass probability function for stage 0.\n",
    "initial_probability_vector = \"60f5e918544e944c3cec668b\""
   ]
  },
  {
   "cell_type": "code",
   "execution_count": null,
   "metadata": {
    "collapsed": false,
    "jupyter": {
     "outputs_hidden": false
    },
    "pycharm": {
     "name": "#%%\n"
    }
   },
   "outputs": [],
   "source": [
    "# Create housing recovery instance\n",
    "housing_recovery = HousingRecoverySequential(client)\n",
    "\n",
    "# Load input datasets\n",
    "housing_recovery.load_remote_input_dataset(\"population_dislocation_block\", population_dislocation)\n",
    "housing_recovery.load_remote_input_dataset(\"tpm\", transition_probability_matrix)\n",
    "housing_recovery.load_remote_input_dataset(\"initial_stage_probabilities\", initial_probability_vector)"
   ]
  },
  {
   "cell_type": "code",
   "execution_count": null,
   "metadata": {},
   "outputs": [],
   "source": [
    "# Chain with SV output\n",
    "housing_recovery.set_input_dataset('sv_result', sv_result)"
   ]
  },
  {
   "cell_type": "code",
   "execution_count": null,
   "metadata": {},
   "outputs": [],
   "source": [
    "# Initial value to seed the random number generator to ensure replication\n",
    "seed = 1234\n",
    "# A size of the analysis time step.\n",
    "t_delta = 1.0\n",
    "# Total duration.\n",
    "t_final = 90.0"
   ]
  },
  {
   "cell_type": "code",
   "execution_count": null,
   "metadata": {
    "collapsed": false,
    "jupyter": {
     "outputs_hidden": false
    },
    "pycharm": {
     "name": "#%%\n"
    }
   },
   "outputs": [],
   "source": [
    "# Specify the result name\n",
    "result_name = \"housing_recovery_result\"\n",
    "\n",
    "# Set analysis parameters\n",
    "housing_recovery.set_parameter(\"result_name\", result_name)\n",
    "housing_recovery.set_parameter(\"seed\", seed)\n",
    "housing_recovery.set_parameter(\"t_delta\", t_delta)\n",
    "housing_recovery.set_parameter(\"t_final\", t_final)"
   ]
  },
  {
   "cell_type": "code",
   "execution_count": null,
   "metadata": {
    "collapsed": false,
    "jupyter": {
     "outputs_hidden": false
    },
    "pycharm": {
     "is_executing": true,
     "name": "#%%\n"
    }
   },
   "outputs": [],
   "source": [
    "# Run the analysis\n",
    "housing_recovery.run()"
   ]
  },
  {
   "cell_type": "code",
   "execution_count": null,
   "metadata": {
    "pycharm": {
     "is_executing": true,
     "name": "#%%\n"
    }
   },
   "outputs": [],
   "source": [
    "# Retrieve result dataset\n",
    "result = housing_recovery.get_output_dataset(\"ds_result\")\n",
    "\n",
    "# Convert dataset to Pandas DataFrame\n",
    "df = result.get_dataframe_from_csv()\n",
    "\n",
    "# Display top 5 rows of output data\n",
    "df.head()"
   ]
  }
 ],
 "metadata": {
  "kernelspec": {
   "display_name": "Python 3 (ipykernel)",
   "language": "python",
   "name": "python3"
  },
  "language_info": {
   "codemirror_mode": {
    "name": "ipython",
    "version": 3
   },
   "file_extension": ".py",
   "mimetype": "text/x-python",
   "name": "python",
   "nbconvert_exporter": "python",
   "pygments_lexer": "ipython3",
   "version": "3.9.19"
  }
 },
 "nbformat": 4,
 "nbformat_minor": 4
}
