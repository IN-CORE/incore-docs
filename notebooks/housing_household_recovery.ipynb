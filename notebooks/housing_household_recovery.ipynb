{
 "cells": [
  {
   "cell_type": "code",
   "execution_count": 33,
   "metadata": {
    "jupyter": {
     "outputs_hidden": false
    },
    "pycharm": {
     "name": "#%%\n"
    }
   },
   "outputs": [],
   "source": [
    "from pyincore import IncoreClient, Dataset\n",
    "from pyincore_data.censusutil import CensusUtil\n",
    "from pyincore.analyses.housingrecoverysequential import HousingRecoverySequential\n",
    "from pyincore.analyses.socialvulnerability import SocialVulnerability\n",
    "\n",
    "import pandas as pd"
   ]
  },
  {
   "cell_type": "code",
   "execution_count": 34,
   "metadata": {
    "jupyter": {
     "outputs_hidden": false
    },
    "pycharm": {
     "name": "#%%\n"
    }
   },
   "outputs": [
    {
     "name": "stdout",
     "output_type": "stream",
     "text": [
      "Connection successful to IN-CORE services. pyIncore version detected: 1.8.0\n"
     ]
    }
   ],
   "source": [
    "# Connect to IN-CORE service\n",
    "client = IncoreClient()"
   ]
  },
  {
   "cell_type": "markdown",
   "metadata": {},
   "source": [
    "### Chaining with social vulnerability analysis"
   ]
  },
  {
   "cell_type": "markdown",
   "metadata": {},
   "source": [
    "#### prepare input datasets for social vulnerability analysis"
   ]
  },
  {
   "cell_type": "code",
   "execution_count": 35,
   "metadata": {},
   "outputs": [],
   "source": [
    "# Parameters\n",
    "state = \"texas\"\n",
    "county = \"galveston\"\n",
    "year = 2020"
   ]
  },
  {
   "cell_type": "code",
   "execution_count": 36,
   "metadata": {},
   "outputs": [
    {
     "data": {
      "text/plain": "'48167'"
     },
     "execution_count": 36,
     "metadata": {},
     "output_type": "execute_result"
    }
   ],
   "source": [
    "# get fips code to use fetch census data\n",
    "fips = CensusUtil.get_fips_by_state_county(state=state, county=county)\n",
    "state_code = fips[:2]\n",
    "county_code = fips[2:]\n",
    "fips"
   ]
  },
  {
   "cell_type": "code",
   "execution_count": 37,
   "outputs": [
    {
     "name": "stdout",
     "output_type": "stream",
     "text": [
      "csv saved as api_20230217-141539.csv\n",
      "csv saved as api_20230217-141540.csv\n",
      "csv saved as api_20230217-141540.csv\n",
      "csv saved as api_20230217-141541.csv\n",
      "csv saved as api_20230217-141542.csv\n",
      "csv saved as api_20230217-141543.csv\n"
     ]
    },
    {
     "name": "stderr",
     "output_type": "stream",
     "text": [
      "/Users/mohanar2/opt/anaconda3/envs/pyincoreEnv/lib/python3.8/site-packages/pyincore_data/censusutil.py:354: RuntimeWarning: invalid value encountered in long_scalars\n",
      "  lambda row: row[\"B03002_003E\"] / row[\"B03002_001E\"], axis=1)\n"
     ]
    },
    {
     "name": "stdout",
     "output_type": "stream",
     "text": [
      "csv saved as api_20230217-141543.csv\n"
     ]
    },
    {
     "name": "stderr",
     "output_type": "stream",
     "text": [
      "/Users/mohanar2/opt/anaconda3/envs/pyincoreEnv/lib/python3.8/site-packages/pyincore_data/censusutil.py:360: RuntimeWarning: invalid value encountered in long_scalars\n",
      "  df_2[\"factor_owner_occupied\"] = df_2.astype(int).apply(lambda row: row[\"B25003_002E\"] / row[\"B25003_001E\"],\n"
     ]
    },
    {
     "name": "stdout",
     "output_type": "stream",
     "text": [
      "csv saved as api_20230217-141544.csv\n"
     ]
    },
    {
     "name": "stderr",
     "output_type": "stream",
     "text": [
      "/Users/mohanar2/opt/anaconda3/envs/pyincoreEnv/lib/python3.8/site-packages/pyincore_data/censusutil.py:370: RuntimeWarning: invalid value encountered in long_scalars\n",
      "  lambda row: 1 - row[\"B17021_002E\"] / row[\"B17021_001E\"], axis=1)\n"
     ]
    },
    {
     "name": "stdout",
     "output_type": "stream",
     "text": [
      "csv saved as api_20230217-141545.csv\n"
     ]
    },
    {
     "name": "stderr",
     "output_type": "stream",
     "text": [
      "/Users/mohanar2/opt/anaconda3/envs/pyincoreEnv/lib/python3.8/site-packages/pyincore_data/censusutil.py:380: RuntimeWarning: invalid value encountered in long_scalars\n",
      "  lambda row: (row[\"B15003_017E\"]\n"
     ]
    },
    {
     "name": "stdout",
     "output_type": "stream",
     "text": [
      "csv saved as api_20230217-141546.csv\n"
     ]
    },
    {
     "name": "stderr",
     "output_type": "stream",
     "text": [
      "/Users/mohanar2/opt/anaconda3/envs/pyincoreEnv/lib/python3.8/site-packages/pyincore_data/censusutil.py:410: RuntimeWarning: divide by zero encountered in long_scalars\n",
      "  df_5.astype(int).apply(lambda row: (row['C21007_006E']\n",
      "/Users/mohanar2/opt/anaconda3/envs/pyincoreEnv/lib/python3.8/site-packages/pyincore_data/censusutil.py:410: RuntimeWarning: invalid value encountered in long_scalars\n",
      "  df_5.astype(int).apply(lambda row: (row['C21007_006E']\n"
     ]
    }
   ],
   "source": [
    "navs = CensusUtil.national_ave_values(year=year)\n",
    "national_vulnerability_feature_averages = Dataset.from_csv_data(navs, name=\"national_vulnerability_feature_averages.csv\",\n",
    "                                                                 data_type=\"incore:socialVulnerabilityFeatureAverages\")\n",
    "\n",
    "geo_type = \"block%20group:*\"\n",
    "# geo_type = \"tract:*\"\n",
    "social_vulnerability_dem_factors_df = CensusUtil.demographic_factors(state_code, county_code, year=year,\n",
    "                                                                      geo_type=geo_type)\n",
    "\n",
    "# Temp fix: remove bad data point\n",
    "social_vulnerability_dem_factors_df = social_vulnerability_dem_factors_df.dropna()\n",
    "\n",
    "social_vulnerability_dem_factors = Dataset.from_dataframe(social_vulnerability_dem_factors_df,\n",
    "                                                           name=\"social_vunlnerability_dem_factors\",\n",
    "                                                           data_type=\"incore:socialVulnerabilityDemFactors\")"
   ],
   "metadata": {
    "collapsed": false,
    "pycharm": {
     "name": "#%%\n"
    }
   }
  },
  {
   "cell_type": "markdown",
   "metadata": {},
   "source": [
    "#### run social vulnerability analysis"
   ]
  },
  {
   "cell_type": "code",
   "execution_count": 38,
   "metadata": {
    "pycharm": {
     "name": "#%%\n"
    }
   },
   "outputs": [
    {
     "name": "stdout",
     "output_type": "stream",
     "text": [
      "Connection successful to IN-CORE services. pyIncore version detected: 1.8.0\n"
     ]
    },
    {
     "data": {
      "text/plain": "True"
     },
     "execution_count": 38,
     "metadata": {},
     "output_type": "execute_result"
    }
   ],
   "source": [
    "# Configure pyincore access and the analysis with the information above\n",
    "\n",
    "client = IncoreClient()\n",
    "social_vulnerability = SocialVulnerability(client)\n",
    "\n",
    "social_vulnerability.set_parameter(\"result_name\", \"social_vulnerabilty\")\n",
    "social_vulnerability.set_input_dataset(\"national_vulnerability_feature_averages\", national_vulnerability_feature_averages)\n",
    "social_vulnerability.set_input_dataset(\"social_vulnerability_demographic_factors\", social_vulnerability_dem_factors)"
   ]
  },
  {
   "cell_type": "code",
   "execution_count": 39,
   "metadata": {},
   "outputs": [],
   "source": [
    "# Run social vulnerability damage analysis\n",
    "result = social_vulnerability.run_analysis()"
   ]
  },
  {
   "cell_type": "code",
   "execution_count": 40,
   "metadata": {},
   "outputs": [
    {
     "data": {
      "text/plain": "                  GEO_ID  factor_white_nonHispanic  factor_owner_occupied  \\\n0  1500000US481677201001                  0.826873               0.857143   \n1  1500000US481677201002                  0.676741               0.889262   \n2  1500000US481677201003                  0.517323               0.809955   \n3  1500000US481677201004                  0.561679               1.000000   \n4  1500000US481677202001                  0.701548               0.973113   \n\n   factor_earning_higher_than_national_poverty_rate  \\\n0                                          0.836348   \n1                                          0.894875   \n2                                          0.984252   \n3                                          1.000000   \n4                                          0.987214   \n\n   factor_over_25_with_high_school_diploma_or_higher  \\\n0                                           0.985014   \n1                                           0.929273   \n2                                           0.980989   \n3                                           0.919908   \n4                                           0.973601   \n\n   factor_without_disability_age_18_to_65          FIPS        R1        R2  \\\n0                                0.075404  481677201001  1.389439  1.330196   \n1                                0.176230  481677201002  1.137164  1.380041   \n2                                0.056364  481677201003  0.869285  1.256965   \n3                                0.061051  481677201004  0.943819  1.551895   \n4                                0.062718  481677202001  1.178848  1.510169   \n\n         R3        R4        R5       SVS                               zone  \n0  0.962965  1.114087  0.137041  0.986746          Medium Vulnerable (zone3)  \n1  1.030353  1.051042  0.320285  0.983777          Medium Vulnerable (zone3)  \n2  1.133261  1.109534  0.102437  0.894296  Medium to High Vulnerable (zone4)  \n3  1.151393  1.040451  0.110956  0.959703          Medium Vulnerable (zone3)  \n4  1.136671  1.101179  0.113985  1.008170          Medium Vulnerable (zone3)  ",
      "text/html": "<div>\n<style scoped>\n    .dataframe tbody tr th:only-of-type {\n        vertical-align: middle;\n    }\n\n    .dataframe tbody tr th {\n        vertical-align: top;\n    }\n\n    .dataframe thead th {\n        text-align: right;\n    }\n</style>\n<table border=\"1\" class=\"dataframe\">\n  <thead>\n    <tr style=\"text-align: right;\">\n      <th></th>\n      <th>GEO_ID</th>\n      <th>factor_white_nonHispanic</th>\n      <th>factor_owner_occupied</th>\n      <th>factor_earning_higher_than_national_poverty_rate</th>\n      <th>factor_over_25_with_high_school_diploma_or_higher</th>\n      <th>factor_without_disability_age_18_to_65</th>\n      <th>FIPS</th>\n      <th>R1</th>\n      <th>R2</th>\n      <th>R3</th>\n      <th>R4</th>\n      <th>R5</th>\n      <th>SVS</th>\n      <th>zone</th>\n    </tr>\n  </thead>\n  <tbody>\n    <tr>\n      <th>0</th>\n      <td>1500000US481677201001</td>\n      <td>0.826873</td>\n      <td>0.857143</td>\n      <td>0.836348</td>\n      <td>0.985014</td>\n      <td>0.075404</td>\n      <td>481677201001</td>\n      <td>1.389439</td>\n      <td>1.330196</td>\n      <td>0.962965</td>\n      <td>1.114087</td>\n      <td>0.137041</td>\n      <td>0.986746</td>\n      <td>Medium Vulnerable (zone3)</td>\n    </tr>\n    <tr>\n      <th>1</th>\n      <td>1500000US481677201002</td>\n      <td>0.676741</td>\n      <td>0.889262</td>\n      <td>0.894875</td>\n      <td>0.929273</td>\n      <td>0.176230</td>\n      <td>481677201002</td>\n      <td>1.137164</td>\n      <td>1.380041</td>\n      <td>1.030353</td>\n      <td>1.051042</td>\n      <td>0.320285</td>\n      <td>0.983777</td>\n      <td>Medium Vulnerable (zone3)</td>\n    </tr>\n    <tr>\n      <th>2</th>\n      <td>1500000US481677201003</td>\n      <td>0.517323</td>\n      <td>0.809955</td>\n      <td>0.984252</td>\n      <td>0.980989</td>\n      <td>0.056364</td>\n      <td>481677201003</td>\n      <td>0.869285</td>\n      <td>1.256965</td>\n      <td>1.133261</td>\n      <td>1.109534</td>\n      <td>0.102437</td>\n      <td>0.894296</td>\n      <td>Medium to High Vulnerable (zone4)</td>\n    </tr>\n    <tr>\n      <th>3</th>\n      <td>1500000US481677201004</td>\n      <td>0.561679</td>\n      <td>1.000000</td>\n      <td>1.000000</td>\n      <td>0.919908</td>\n      <td>0.061051</td>\n      <td>481677201004</td>\n      <td>0.943819</td>\n      <td>1.551895</td>\n      <td>1.151393</td>\n      <td>1.040451</td>\n      <td>0.110956</td>\n      <td>0.959703</td>\n      <td>Medium Vulnerable (zone3)</td>\n    </tr>\n    <tr>\n      <th>4</th>\n      <td>1500000US481677202001</td>\n      <td>0.701548</td>\n      <td>0.973113</td>\n      <td>0.987214</td>\n      <td>0.973601</td>\n      <td>0.062718</td>\n      <td>481677202001</td>\n      <td>1.178848</td>\n      <td>1.510169</td>\n      <td>1.136671</td>\n      <td>1.101179</td>\n      <td>0.113985</td>\n      <td>1.008170</td>\n      <td>Medium Vulnerable (zone3)</td>\n    </tr>\n  </tbody>\n</table>\n</div>"
     },
     "execution_count": 40,
     "metadata": {},
     "output_type": "execute_result"
    }
   ],
   "source": [
    "# Retrieve result dataset\n",
    "sv_result = social_vulnerability.get_output_dataset(\"sv_result\")\n",
    "\n",
    "# Convert dataset to Pandas DataFrame\n",
    "df = sv_result.get_dataframe_from_csv()\n",
    "\n",
    "# Display top 5 rows of output data\n",
    "df.head()"
   ]
  },
  {
   "cell_type": "markdown",
   "metadata": {},
   "source": [
    "### Household-level housing serial recovery for Galveston testbed."
   ]
  },
  {
   "cell_type": "code",
   "execution_count": 41,
   "metadata": {},
   "outputs": [],
   "source": [
    "# Population dislocation result aggregated to the block group level.\n",
    "population_dislocation = \"60f5ea5d544e944c3cec66dd\" # Galveston testbed\n",
    "# Transition probability matrix per social vulnerability level.\n",
    "transition_probability_matrix = \"60f5e2ae544e944c3cec0794\"\n",
    "# Initial mass probability function for stage 0.\n",
    "initial_probability_vector = \"60f5e918544e944c3cec668b\""
   ]
  },
  {
   "cell_type": "code",
   "execution_count": 42,
   "metadata": {
    "jupyter": {
     "outputs_hidden": false
    },
    "pycharm": {
     "name": "#%%\n"
    }
   },
   "outputs": [
    {
     "name": "stdout",
     "output_type": "stream",
     "text": [
      "Dataset already exists locally. Reading from local cached zip.\n",
      "Unzipped folder found in the local cache. Reading from it...\n",
      "Dataset already exists locally. Reading from local cached zip.\n",
      "Unzipped folder found in the local cache. Reading from it...\n",
      "Dataset already exists locally. Reading from local cached zip.\n",
      "Unzipped folder found in the local cache. Reading from it...\n"
     ]
    }
   ],
   "source": [
    "# Create housing recovery instance\n",
    "housing_recovery = HousingRecoverySequential(client)\n",
    "\n",
    "# Load input datasets\n",
    "housing_recovery.load_remote_input_dataset(\"population_dislocation_block\", population_dislocation)\n",
    "housing_recovery.load_remote_input_dataset(\"tpm\", transition_probability_matrix)\n",
    "housing_recovery.load_remote_input_dataset(\"initial_stage_probabilities\", initial_probability_vector)"
   ]
  },
  {
   "cell_type": "code",
   "execution_count": 43,
   "metadata": {},
   "outputs": [
    {
     "data": {
      "text/plain": "True"
     },
     "execution_count": 43,
     "metadata": {},
     "output_type": "execute_result"
    }
   ],
   "source": [
    "# Chain with SV output\n",
    "housing_recovery.set_input_dataset('sv_result', sv_result)"
   ]
  },
  {
   "cell_type": "code",
   "execution_count": 44,
   "metadata": {},
   "outputs": [],
   "source": [
    "# Initial value to seed the random number generator to ensure replication\n",
    "seed = 1234\n",
    "# A size of the analysis time step.\n",
    "t_delta = 1.0\n",
    "# Total duration.\n",
    "t_final = 90.0"
   ]
  },
  {
   "cell_type": "code",
   "execution_count": 45,
   "metadata": {
    "jupyter": {
     "outputs_hidden": false
    },
    "pycharm": {
     "name": "#%%\n"
    }
   },
   "outputs": [
    {
     "data": {
      "text/plain": "True"
     },
     "execution_count": 45,
     "metadata": {},
     "output_type": "execute_result"
    }
   ],
   "source": [
    "# Specify the result name\n",
    "result_name = \"housing_recovery_result\"\n",
    "\n",
    "# Set analysis parameters\n",
    "housing_recovery.set_parameter(\"result_name\", result_name)\n",
    "housing_recovery.set_parameter(\"seed\", seed)\n",
    "housing_recovery.set_parameter(\"t_delta\", t_delta)\n",
    "housing_recovery.set_parameter(\"t_final\", t_final)"
   ]
  },
  {
   "cell_type": "code",
   "execution_count": null,
   "metadata": {
    "jupyter": {
     "outputs_hidden": false
    },
    "pycharm": {
     "name": "#%%\n",
     "is_executing": true
    }
   },
   "outputs": [],
   "source": [
    "# Run the analysis\n",
    "housing_recovery.run()"
   ]
  },
  {
   "cell_type": "code",
   "execution_count": null,
   "outputs": [],
   "source": [
    "# Retrieve result dataset\n",
    "result = housing_recovery.get_output_dataset(\"ds_result\")\n",
    "\n",
    "# Convert dataset to Pandas DataFrame\n",
    "df = result.get_dataframe_from_csv()\n",
    "\n",
    "# Display top 5 rows of output data\n",
    "df.head()"
   ],
   "metadata": {
    "collapsed": false,
    "pycharm": {
     "name": "#%%\n",
     "is_executing": true
    }
   }
  }
 ],
 "metadata": {
  "kernelspec": {
   "display_name": "Python 3 (ipykernel)",
   "language": "python",
   "name": "python3"
  },
  "language_info": {
   "codemirror_mode": {
    "name": "ipython",
    "version": 3
   },
   "file_extension": ".py",
   "mimetype": "text/x-python",
   "name": "python",
   "nbconvert_exporter": "python",
   "pygments_lexer": "ipython3",
   "version": "3.8.13"
  }
 },
 "nbformat": 4,
 "nbformat_minor": 4
}