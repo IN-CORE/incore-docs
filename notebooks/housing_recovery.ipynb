{
 "cells": [
  {
   "cell_type": "code",
   "execution_count": null,
   "metadata": {
    "jupyter": {
     "outputs_hidden": false
    },
    "pycharm": {
     "name": "#%%\n"
    }
   },
   "outputs": [],
   "source": [
    "from pyincore import IncoreClient\n",
    "from pyincore import MappingSet, FragilityService\n",
    "from pyincore.analyses.buildingdamage.buildingdamage import BuildingDamage\n",
    "from pyincore.analyses.housingunitallocation import HousingUnitAllocation\n",
    "from pyincore.analyses.populationdislocation import PopulationDislocation\n",
    "from pyincore.analyses.housingrecovery.housingrecovery import HousingRecovery"
   ]
  },
  {
   "cell_type": "code",
   "execution_count": null,
   "metadata": {
    "jupyter": {
     "outputs_hidden": false
    },
    "pycharm": {
     "name": "#%%\n"
    }
   },
   "outputs": [],
   "source": [
    "# Connect to IN-CORE service\n",
    "client = IncoreClient()"
   ]
  },
  {
   "cell_type": "markdown",
   "metadata": {},
   "source": [
    "# Building damage, Galveston, TX analysis"
   ]
  },
  {
   "cell_type": "code",
   "execution_count": null,
   "metadata": {},
   "outputs": [],
   "source": [
    "hazard_type = \"hurricane\"\n",
    "# Galveston deterministic Hurricane, 3 datasets - Kriging\n",
    "hazard_id = \"5fa5a228b6429615aeea4410\"\n",
    "\n",
    "# Galveston, TX Building inventory\n",
    "bldg_inv_id = \"60354b6c123b4036e6837ef7\"  # 19k buildings with age_group\n",
    "\n",
    "# Hurricane building mapping (with equation)\n",
    "mapping_id = \"602c381a1d85547cdc9f0675\"\n",
    "fragility_service = FragilityService(client)\n",
    "mapping_set = MappingSet(fragility_service.get_mapping(mapping_id))\n",
    "\n",
    "bldg_dmg = BuildingDamage(client)\n",
    "bldg_dmg.load_remote_input_dataset(\"buildings\", bldg_inv_id)\n",
    "bldg_dmg.set_input_dataset(\"dfr3_mapping_set\", mapping_set)\n",
    "\n",
    "result_name = \"Galveston_bldg_dmg_result\"\n",
    "\n",
    "bldg_dmg.set_parameter(\"fragility_key\", \"Hurricane SurgeLevel and WaveHeight Fragility ID Code\")\n",
    "bldg_dmg.set_parameter(\"result_name\", result_name)\n",
    "bldg_dmg.set_parameter(\"hazard_type\", hazard_type)\n",
    "bldg_dmg.set_parameter(\"hazard_id\", hazard_id)\n",
    "bldg_dmg.set_parameter(\"num_cpu\", 4)\n",
    "\n",
    "# Run Building damage\n",
    "bldg_dmg.run_analysis()\n",
    "\n",
    "# Retrieve result dataset\n",
    "building_dmg_result = bldg_dmg.get_output_dataset(\"ds_result\")\n",
    "\n",
    "# Convert dataset to Pandas DataFrame\n",
    "bdmg_df = building_dmg_result.get_dataframe_from_csv(low_memory=False)\n",
    "\n",
    "# Display top 5 rows of output data\n",
    "bdmg_df[[\"guid\", \"DS_0\", \"DS_1\", \"DS_2\", \"DS_3\", \"haz_expose\"]].head(5)"
   ]
  },
  {
   "cell_type": "markdown",
   "metadata": {},
   "source": [
    "# Housing Unit Allocation (HUA) analysis"
   ]
  },
  {
   "cell_type": "code",
   "execution_count": null,
   "metadata": {},
   "outputs": [],
   "source": [
    "housing_unit_inv = \"5fc6ab1cd2066956f49e7a03\"\n",
    "# Address point inventory\n",
    "address_point_inv = \"5fc6aadcc38a0722f563392e\"\n",
    "\n",
    "# Create housing allocation\n",
    "hua = HousingUnitAllocation(client)\n",
    "\n",
    "# Load input dataset\n",
    "hua.load_remote_input_dataset(\"housing_unit_inventory\", housing_unit_inv)\n",
    "hua.load_remote_input_dataset(\"address_point_inventory\", address_point_inv)\n",
    "hua.load_remote_input_dataset(\"buildings\", bldg_inv_id)\n",
    "\n",
    "result_name = \"Galveston_HUA\"\n",
    "\n",
    "seed = 1238\n",
    "iterations = 1\n",
    "\n",
    "# Set analysis parameters\n",
    "hua.set_parameter(\"result_name\", result_name)\n",
    "hua.set_parameter(\"seed\", seed)\n",
    "hua.set_parameter(\"iterations\", iterations)\n",
    "\n",
    "# Run Housing unit allocation analysis\n",
    "hua.run_analysis()\n",
    "\n",
    "# Retrieve result dataset\n",
    "hua_result = hua.get_output_dataset(\"result\")\n",
    "\n",
    "# Convert dataset to Pandas DataFrame\n",
    "hua_df = hua_result.get_dataframe_from_csv(low_memory=False)\n",
    "\n",
    "hua_df[[\"guid\", \"numprec\", \"incomegroup\"]].head()"
   ]
  },
  {
   "cell_type": "markdown",
   "metadata": {},
   "source": [
    "# Population Dislocation analysis"
   ]
  },
  {
   "cell_type": "code",
   "execution_count": null,
   "metadata": {},
   "outputs": [],
   "source": [
    "# Block group data, IN-CORE_BGMAP_2021-01-19_GalvestonTX\n",
    "bg_data = \"603545f2dcda03378087e708\" # prod\n",
    "# Value loss parameters DS 0-3\n",
    "value_loss = \"60354810e379f22e16560dbd\"\n",
    "\n",
    "pop_dis = PopulationDislocation(client)\n",
    "\n",
    "pop_dis.load_remote_input_dataset(\"block_group_data\", bg_data)\n",
    "pop_dis.load_remote_input_dataset(\"value_loss_param\", value_loss)\n",
    "\n",
    "pop_dis.set_input_dataset(\"building_dmg\", building_dmg_result)\n",
    "pop_dis.set_input_dataset(\"housing_unit_allocation\", hua_result)\n",
    "\n",
    "result_name = \"galveston-pop-disl-results\"\n",
    "seed = 1111\n",
    "\n",
    "pop_dis.set_parameter(\"result_name\", result_name)\n",
    "pop_dis.set_parameter(\"seed\", seed)\n",
    "\n",
    "pop_dis.run_analysis()\n",
    "\n",
    "# Retrieve result dataset\n",
    "pd_result = pop_dis.get_output_dataset(\"result\")\n",
    "\n",
    "# Convert dataset to Pandas DataFrame\n",
    "pd_df = pd_result.get_dataframe_from_csv(low_memory=False)\n",
    "\n",
    "pd_df[[\"guid\", \"dislocated\"]].head()"
   ]
  },
  {
   "cell_type": "markdown",
   "metadata": {},
   "source": [
    "# Household recovery analysis."
   ]
  },
  {
   "cell_type": "code",
   "execution_count": null,
   "metadata": {},
   "outputs": [],
   "source": [
    "# Additional inventory data (assesed damage, square meters)\n",
    "bldg_sqft_id = \"62193c19a42a3e546ae2d9f8\"\n",
    "# Census block groups data\n",
    "census_bg_id = \"62193b7ca42a3e546ae2d9f2\"\n",
    "\n",
    "# Census appraisal file; id of external Census json is required if not provide fips for API request\n",
    "fips = \"48167\"\n",
    "\n",
    "result_name = \"Galveston_building_values_chained\"\n",
    "\n",
    "housing_rec = HousingRecovery(client)\n",
    "\n",
    "housing_rec.set_input_dataset(\"population_dislocation\", pd_result)\n",
    "housing_rec.load_remote_input_dataset(\"building_area\", bldg_sqft_id)\n",
    "housing_rec.load_remote_input_dataset(\"census_block_groups_data\", census_bg_id)\n",
    "        \n",
    "# Census appraisal data\n",
    "\n",
    "housing_rec.set_parameter(\"fips\", fips)\n",
    "housing_rec.set_parameter(\"result_name\", result_name)\n",
    "\n",
    "housing_rec.run_analysis()"
   ]
  },
  {
   "cell_type": "code",
   "execution_count": null,
   "metadata": {
    "jupyter": {
     "outputs_hidden": false
    },
    "pycharm": {
     "name": "#%%\n"
    }
   },
   "outputs": [],
   "source": [
    "# Retrieve result dataset\n",
    "result = housing_recovery.get_output_dataset(\"result\")\n",
    "\n",
    "# Convert dataset to Pandas DataFrame\n",
    "hr_df = result.get_dataframe_from_csv()\n",
    "\n",
    "# Display top 5 rows of output data\n",
    "hr_df.head()"
   ]
  },
  {
   "cell_type": "markdown",
   "metadata": {},
   "source": [
    "## Plotting and Estimates"
   ]
  },
  {
   "cell_type": "code",
   "execution_count": null,
   "metadata": {},
   "outputs": [],
   "source": [
    "# A csv file with the building values for the 6 years following the disaster event (year -1 denotes pre-impact \n",
    "# conditions and 0 being the impact year).\n",
    "years = [-1, 0, 1, 2, 3, 4, 5, 6]"
   ]
  },
  {
   "cell_type": "code",
   "execution_count": null,
   "metadata": {
    "jupyter": {
     "outputs_hidden": false
    },
    "pycharm": {
     "name": "#%%\n"
    }
   },
   "outputs": [],
   "source": [
    "# Rename column names to range from 0 to n for the aggregation\n",
    "\n",
    "for year in years:\n",
    "    hr_df.rename(columns={\"year_{0}\".format(year):\"year_{0}\".format(year+1),\"index_{0}\".format(year):\"index_{0}\".format(year+1)}, inplace=True)\n",
    "    \n",
    "# reshape dataframe from wide to long\n",
    "hr_reshaped = pd.wide_to_long(hr_df,[\"year\",\"index\"], i=\"strctid\", j=\"years\")\n",
    "\n",
    "# shift dataframe multiindex to columns and sort\n",
    "hr_reshaped.reset_index(inplace=True)\n",
    "hr_reshaped.sort_values(by=[\"strctid\",\"years\"], inplace=True)\n",
    "\n",
    "# adjust year column to oringal -n to +n range by subtracting neg_count\n",
    "hr_reshaped[\"years\"] = hr_reshaped[\"years\"] - 1\n",
    "hr_reshaped.head(20)"
   ]
  },
  {
   "cell_type": "code",
   "execution_count": null,
   "metadata": {},
   "outputs": [],
   "source": [
    "hr_collapse = hr_reshaped.groupby([\"d_vacationct\",\"years\"]).aggregate({\"year\":np.sum})\n",
    "hr_collapse.reset_index(inplace=True)\n",
    "hr_collapse.style.format({\"years\": \"{:>,.0f}\"})\n",
    "hr_collapse.head(20)"
   ]
  },
  {
   "cell_type": "code",
   "execution_count": null,
   "metadata": {},
   "outputs": [],
   "source": [
    "plt.plot(hametal2018_dmg_collapse.years,hametal2018_dmg_collapse.year)\n",
    "plt.title(\"Aggregate building values by year (dmg)\")\n",
    "plt.xlabel(\"Year\")\n",
    "plt.ylabel(\"Aggregate building value\")\n",
    "plt.grid(True)\n",
    "plt.show()"
   ]
  }
 ],
 "metadata": {
  "kernelspec": {
   "display_name": "Python 3",
   "language": "python",
   "name": "python3"
  },
  "language_info": {
   "codemirror_mode": {
    "name": "ipython",
    "version": 3
   },
   "file_extension": ".py",
   "mimetype": "text/x-python",
   "name": "python",
   "nbconvert_exporter": "python",
   "pygments_lexer": "ipython3",
   "version": "3.7.6"
  }
 },
 "nbformat": 4,
 "nbformat_minor": 4
}
