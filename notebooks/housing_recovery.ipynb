{
 "cells": [
  {
   "cell_type": "code",
   "execution_count": 1,
   "metadata": {
    "jupyter": {
     "outputs_hidden": false
    },
    "pycharm": {
     "name": "#%%\n"
    }
   },
   "outputs": [],
   "source": [
    "from pyincore import IncoreClient\n",
    "from pyincore import MappingSet, FragilityService, Dataset\n",
    "from pyincore.analyses.buildingdamage.buildingdamage import BuildingDamage\n",
    "from pyincore.analyses.housingunitallocation import HousingUnitAllocation\n",
    "from pyincore.analyses.populationdislocation import PopulationDislocation\n",
    "from pyincore.analyses.housingrecovery.housingrecovery import HousingRecovery"
   ]
  },
  {
   "cell_type": "code",
   "execution_count": 2,
   "metadata": {
    "jupyter": {
     "outputs_hidden": false
    },
    "pycharm": {
     "name": "#%%\n"
    }
   },
   "outputs": [
    {
     "name": "stdout",
     "output_type": "stream",
     "text": [
      "Connection successful to IN-CORE services. pyIncore version detected: 1.3.0\n"
     ]
    }
   ],
   "source": [
    "# Connect to IN-CORE service\n",
    "client = IncoreClient()"
   ]
  },
  {
   "cell_type": "markdown",
   "metadata": {},
   "source": [
    "# Building damage, Galveston, TX analysis"
   ]
  },
  {
   "cell_type": "code",
   "execution_count": 3,
   "metadata": {},
   "outputs": [
    {
     "name": "stdout",
     "output_type": "stream",
     "text": [
      "Dataset already exists locally. Reading from local cached zip.\n",
      "Unzipped folder found in the local cache. Reading from it...\n"
     ]
    },
    {
     "data": {
      "text/html": [
       "<div>\n",
       "<style scoped>\n",
       "    .dataframe tbody tr th:only-of-type {\n",
       "        vertical-align: middle;\n",
       "    }\n",
       "\n",
       "    .dataframe tbody tr th {\n",
       "        vertical-align: top;\n",
       "    }\n",
       "\n",
       "    .dataframe thead th {\n",
       "        text-align: right;\n",
       "    }\n",
       "</style>\n",
       "<table border=\"1\" class=\"dataframe\">\n",
       "  <thead>\n",
       "    <tr style=\"text-align: right;\">\n",
       "      <th></th>\n",
       "      <th>guid</th>\n",
       "      <th>DS_0</th>\n",
       "      <th>DS_1</th>\n",
       "      <th>DS_2</th>\n",
       "      <th>DS_3</th>\n",
       "      <th>haz_expose</th>\n",
       "    </tr>\n",
       "  </thead>\n",
       "  <tbody>\n",
       "    <tr>\n",
       "      <th>0</th>\n",
       "      <td>b39dd67f-802e-402b-b7d5-51c4bbed3464</td>\n",
       "      <td>1.0</td>\n",
       "      <td>0</td>\n",
       "      <td>0</td>\n",
       "      <td>0.000000e+00</td>\n",
       "      <td>yes</td>\n",
       "    </tr>\n",
       "    <tr>\n",
       "      <th>1</th>\n",
       "      <td>e7467617-6844-437e-a938-7300418facb8</td>\n",
       "      <td>1.0</td>\n",
       "      <td>0</td>\n",
       "      <td>0</td>\n",
       "      <td>8.600000e-08</td>\n",
       "      <td>yes</td>\n",
       "    </tr>\n",
       "    <tr>\n",
       "      <th>2</th>\n",
       "      <td>d7ce12df-660d-42fc-9786-f0f543c00002</td>\n",
       "      <td>1.0</td>\n",
       "      <td>0</td>\n",
       "      <td>0</td>\n",
       "      <td>0.000000e+00</td>\n",
       "      <td>partial</td>\n",
       "    </tr>\n",
       "    <tr>\n",
       "      <th>3</th>\n",
       "      <td>74aac543-8aae-4779-addf-754e307a772b</td>\n",
       "      <td>1.0</td>\n",
       "      <td>0</td>\n",
       "      <td>0</td>\n",
       "      <td>0.000000e+00</td>\n",
       "      <td>partial</td>\n",
       "    </tr>\n",
       "    <tr>\n",
       "      <th>4</th>\n",
       "      <td>ed3147d3-b7b8-49da-96a9-ddedfccae60c</td>\n",
       "      <td>1.0</td>\n",
       "      <td>0</td>\n",
       "      <td>0</td>\n",
       "      <td>0.000000e+00</td>\n",
       "      <td>partial</td>\n",
       "    </tr>\n",
       "  </tbody>\n",
       "</table>\n",
       "</div>"
      ],
      "text/plain": [
       "                                   guid  DS_0  DS_1  DS_2          DS_3  \\\n",
       "0  b39dd67f-802e-402b-b7d5-51c4bbed3464   1.0     0     0  0.000000e+00   \n",
       "1  e7467617-6844-437e-a938-7300418facb8   1.0     0     0  8.600000e-08   \n",
       "2  d7ce12df-660d-42fc-9786-f0f543c00002   1.0     0     0  0.000000e+00   \n",
       "3  74aac543-8aae-4779-addf-754e307a772b   1.0     0     0  0.000000e+00   \n",
       "4  ed3147d3-b7b8-49da-96a9-ddedfccae60c   1.0     0     0  0.000000e+00   \n",
       "\n",
       "  haz_expose  \n",
       "0        yes  \n",
       "1        yes  \n",
       "2    partial  \n",
       "3    partial  \n",
       "4    partial  "
      ]
     },
     "execution_count": 3,
     "metadata": {},
     "output_type": "execute_result"
    }
   ],
   "source": [
    "hazard_type = \"hurricane\"\n",
    "# Galveston deterministic Hurricane, 3 datasets - Kriging\n",
    "hazard_id = \"5fa5a228b6429615aeea4410\"\n",
    "\n",
    "# Galveston, TX Building inventory\n",
    "bldg_inv_id = \"60354b6c123b4036e6837ef7\"  # 19k buildings with age_group\n",
    "\n",
    "# Hurricane building mapping (with equation)\n",
    "mapping_id = \"602c381a1d85547cdc9f0675\"\n",
    "fragility_service = FragilityService(client)\n",
    "mapping_set = MappingSet(fragility_service.get_mapping(mapping_id))\n",
    "\n",
    "bldg_dmg = BuildingDamage(client)\n",
    "bldg_dmg.load_remote_input_dataset(\"buildings\", bldg_inv_id)\n",
    "bldg_dmg.set_input_dataset(\"dfr3_mapping_set\", mapping_set)\n",
    "\n",
    "result_name = \"Galveston_bldg_dmg_result\"\n",
    "\n",
    "bldg_dmg.set_parameter(\"fragility_key\", \"Hurricane SurgeLevel and WaveHeight Fragility ID Code\")\n",
    "bldg_dmg.set_parameter(\"result_name\", result_name)\n",
    "bldg_dmg.set_parameter(\"hazard_type\", hazard_type)\n",
    "bldg_dmg.set_parameter(\"hazard_id\", hazard_id)\n",
    "bldg_dmg.set_parameter(\"num_cpu\", 4)\n",
    "\n",
    "# Run Building damage\n",
    "bldg_dmg.run_analysis()\n",
    "\n",
    "# Retrieve result dataset\n",
    "building_dmg_result = bldg_dmg.get_output_dataset(\"ds_result\")\n",
    "\n",
    "# Convert dataset to Pandas DataFrame\n",
    "bdmg_df = building_dmg_result.get_dataframe_from_csv(low_memory=False)\n",
    "\n",
    "# Display top 5 rows of output data\n",
    "bdmg_df[[\"guid\", \"DS_0\", \"DS_1\", \"DS_2\", \"DS_3\", \"haz_expose\"]].head(5)"
   ]
  },
  {
   "cell_type": "markdown",
   "metadata": {},
   "source": [
    "# Housing Unit Allocation (HUA) analysis"
   ]
  },
  {
   "cell_type": "code",
   "execution_count": 4,
   "metadata": {},
   "outputs": [
    {
     "name": "stdout",
     "output_type": "stream",
     "text": [
      "Dataset already exists locally. Reading from local cached zip.\n",
      "Unzipped folder found in the local cache. Reading from it...\n",
      "Dataset already exists locally. Reading from local cached zip.\n",
      "Unzipped folder found in the local cache. Reading from it...\n",
      "Dataset already exists locally. Reading from local cached zip.\n",
      "Unzipped folder found in the local cache. Reading from it...\n"
     ]
    },
    {
     "data": {
      "text/html": [
       "<div>\n",
       "<style scoped>\n",
       "    .dataframe tbody tr th:only-of-type {\n",
       "        vertical-align: middle;\n",
       "    }\n",
       "\n",
       "    .dataframe tbody tr th {\n",
       "        vertical-align: top;\n",
       "    }\n",
       "\n",
       "    .dataframe thead th {\n",
       "        text-align: right;\n",
       "    }\n",
       "</style>\n",
       "<table border=\"1\" class=\"dataframe\">\n",
       "  <thead>\n",
       "    <tr style=\"text-align: right;\">\n",
       "      <th></th>\n",
       "      <th>guid</th>\n",
       "      <th>numprec</th>\n",
       "      <th>incomegroup</th>\n",
       "    </tr>\n",
       "  </thead>\n",
       "  <tbody>\n",
       "    <tr>\n",
       "      <th>0</th>\n",
       "      <td>eca98323-d57f-4691-a340-b4e0e19c2346</td>\n",
       "      <td>2</td>\n",
       "      <td>15.0</td>\n",
       "    </tr>\n",
       "    <tr>\n",
       "      <th>1</th>\n",
       "      <td>eca98323-d57f-4691-a340-b4e0e19c2346</td>\n",
       "      <td>2</td>\n",
       "      <td>17.0</td>\n",
       "    </tr>\n",
       "    <tr>\n",
       "      <th>2</th>\n",
       "      <td>eca98323-d57f-4691-a340-b4e0e19c2346</td>\n",
       "      <td>1</td>\n",
       "      <td>17.0</td>\n",
       "    </tr>\n",
       "    <tr>\n",
       "      <th>3</th>\n",
       "      <td>eca98323-d57f-4691-a340-b4e0e19c2346</td>\n",
       "      <td>2</td>\n",
       "      <td>17.0</td>\n",
       "    </tr>\n",
       "    <tr>\n",
       "      <th>4</th>\n",
       "      <td>eca98323-d57f-4691-a340-b4e0e19c2346</td>\n",
       "      <td>2</td>\n",
       "      <td>17.0</td>\n",
       "    </tr>\n",
       "  </tbody>\n",
       "</table>\n",
       "</div>"
      ],
      "text/plain": [
       "                                   guid  numprec  incomegroup\n",
       "0  eca98323-d57f-4691-a340-b4e0e19c2346        2         15.0\n",
       "1  eca98323-d57f-4691-a340-b4e0e19c2346        2         17.0\n",
       "2  eca98323-d57f-4691-a340-b4e0e19c2346        1         17.0\n",
       "3  eca98323-d57f-4691-a340-b4e0e19c2346        2         17.0\n",
       "4  eca98323-d57f-4691-a340-b4e0e19c2346        2         17.0"
      ]
     },
     "execution_count": 4,
     "metadata": {},
     "output_type": "execute_result"
    }
   ],
   "source": [
    "housing_unit_inv = \"5fc6ab1cd2066956f49e7a03\"\n",
    "# Address point inventory\n",
    "address_point_inv = \"5fc6aadcc38a0722f563392e\"\n",
    "\n",
    "# Create housing allocation\n",
    "hua = HousingUnitAllocation(client)\n",
    "\n",
    "# Load input dataset\n",
    "hua.load_remote_input_dataset(\"housing_unit_inventory\", housing_unit_inv)\n",
    "hua.load_remote_input_dataset(\"address_point_inventory\", address_point_inv)\n",
    "hua.load_remote_input_dataset(\"buildings\", bldg_inv_id)\n",
    "\n",
    "result_name = \"Galveston_HUA\"\n",
    "\n",
    "seed = 1238\n",
    "iterations = 1\n",
    "\n",
    "# Set analysis parameters\n",
    "hua.set_parameter(\"result_name\", result_name)\n",
    "hua.set_parameter(\"seed\", seed)\n",
    "hua.set_parameter(\"iterations\", iterations)\n",
    "\n",
    "# Run Housing unit allocation analysis\n",
    "hua.run_analysis()\n",
    "\n",
    "# Retrieve result dataset\n",
    "hua_result = hua.get_output_dataset(\"result\")\n",
    "\n",
    "# Convert dataset to Pandas DataFrame\n",
    "hua_df = hua_result.get_dataframe_from_csv(low_memory=False)\n",
    "\n",
    "hua_df[[\"guid\", \"numprec\", \"incomegroup\"]].head()"
   ]
  },
  {
   "cell_type": "markdown",
   "metadata": {},
   "source": [
    "# Population Dislocation analysis"
   ]
  },
  {
   "cell_type": "code",
   "execution_count": 5,
   "metadata": {},
   "outputs": [
    {
     "name": "stdout",
     "output_type": "stream",
     "text": [
      "Dataset already exists locally. Reading from local cached zip.\n",
      "Unzipped folder found in the local cache. Reading from it...\n",
      "Dataset already exists locally. Reading from local cached zip.\n",
      "Unzipped folder found in the local cache. Reading from it...\n"
     ]
    },
    {
     "data": {
      "text/html": [
       "<div>\n",
       "<style scoped>\n",
       "    .dataframe tbody tr th:only-of-type {\n",
       "        vertical-align: middle;\n",
       "    }\n",
       "\n",
       "    .dataframe tbody tr th {\n",
       "        vertical-align: top;\n",
       "    }\n",
       "\n",
       "    .dataframe thead th {\n",
       "        text-align: right;\n",
       "    }\n",
       "</style>\n",
       "<table border=\"1\" class=\"dataframe\">\n",
       "  <thead>\n",
       "    <tr style=\"text-align: right;\">\n",
       "      <th></th>\n",
       "      <th>guid</th>\n",
       "      <th>dislocated</th>\n",
       "    </tr>\n",
       "  </thead>\n",
       "  <tbody>\n",
       "    <tr>\n",
       "      <th>0</th>\n",
       "      <td>eca98323-d57f-4691-a340-b4e0e19c2346</td>\n",
       "      <td>True</td>\n",
       "    </tr>\n",
       "    <tr>\n",
       "      <th>1</th>\n",
       "      <td>eca98323-d57f-4691-a340-b4e0e19c2346</td>\n",
       "      <td>False</td>\n",
       "    </tr>\n",
       "    <tr>\n",
       "      <th>2</th>\n",
       "      <td>eca98323-d57f-4691-a340-b4e0e19c2346</td>\n",
       "      <td>True</td>\n",
       "    </tr>\n",
       "    <tr>\n",
       "      <th>3</th>\n",
       "      <td>eca98323-d57f-4691-a340-b4e0e19c2346</td>\n",
       "      <td>True</td>\n",
       "    </tr>\n",
       "    <tr>\n",
       "      <th>4</th>\n",
       "      <td>eca98323-d57f-4691-a340-b4e0e19c2346</td>\n",
       "      <td>True</td>\n",
       "    </tr>\n",
       "  </tbody>\n",
       "</table>\n",
       "</div>"
      ],
      "text/plain": [
       "                                   guid  dislocated\n",
       "0  eca98323-d57f-4691-a340-b4e0e19c2346        True\n",
       "1  eca98323-d57f-4691-a340-b4e0e19c2346       False\n",
       "2  eca98323-d57f-4691-a340-b4e0e19c2346        True\n",
       "3  eca98323-d57f-4691-a340-b4e0e19c2346        True\n",
       "4  eca98323-d57f-4691-a340-b4e0e19c2346        True"
      ]
     },
     "execution_count": 5,
     "metadata": {},
     "output_type": "execute_result"
    }
   ],
   "source": [
    "# Block group data, IN-CORE_BGMAP_2021-01-19_GalvestonTX\n",
    "bg_data = \"603545f2dcda03378087e708\" # prod\n",
    "# Value loss parameters DS 0-3\n",
    "value_loss = \"60354810e379f22e16560dbd\"\n",
    "\n",
    "pop_dis = PopulationDislocation(client)\n",
    "\n",
    "pop_dis.load_remote_input_dataset(\"block_group_data\", bg_data)\n",
    "pop_dis.load_remote_input_dataset(\"value_loss_param\", value_loss)\n",
    "\n",
    "pop_dis.set_input_dataset(\"building_dmg\", building_dmg_result)\n",
    "pop_dis.set_input_dataset(\"housing_unit_allocation\", hua_result)\n",
    "\n",
    "result_name = \"galveston-pop-disl-results\"\n",
    "seed = 1111\n",
    "\n",
    "pop_dis.set_parameter(\"result_name\", result_name)\n",
    "pop_dis.set_parameter(\"seed\", seed)\n",
    "\n",
    "pop_dis.run_analysis()\n",
    "\n",
    "# Retrieve result dataset\n",
    "pd_result = pop_dis.get_output_dataset(\"result\")\n",
    "\n",
    "# Convert dataset to Pandas DataFrame\n",
    "pd_df = pd_result.get_dataframe_from_csv(low_memory=False)\n",
    "\n",
    "pd_df[[\"guid\", \"dislocated\"]].head()"
   ]
  },
  {
   "cell_type": "markdown",
   "metadata": {},
   "source": [
    "# Household recovery analysis"
   ]
  },
  {
   "cell_type": "markdown",
   "metadata": {},
   "source": [
    "These housing recovery models based on Hamideh, S., Peacock, W. G., & Van Zandt, S. (2018) *Housing recovery after disasters: Primary versus seasonal/vacation housing markets in coastal communities. Natural Hazards Review* predict building values and value changes over time following a disaster event. The models are calibrated with respect to demographics, parcel data, and building value trajectories following Hurricane Ike (2008) in Galveston, Texas.\n",
    "\n",
    "The models predict building value at the parcel level for 8 years of observation. The models rely on Census (Decennial or American Community Survey, ACS) and parcel data immediately prior to the disaster event (year -1) as inputs for prediction. The models predict building values for years 0 - the impact year - and years +1 through +6 - the 6 years following the disaster event."
   ]
  },
  {
   "cell_type": "markdown",
   "metadata": {},
   "source": [
    "**A note of caution on interpreting the example and results below and further guidance.** \n",
    "\n",
    "The models predict impacts to and recovery of builiding values resulting from a disaster event. The example provided in this notebook makes use of chained data provided through earlier sections of this notebook. Specifically, 2010 Decennial Census and Galveston County Appraisal District (GCAD) tax assessor data are used in the prior examples. 2010 is after Hurricane Ike and thus contains impacts resulting from Ike. Demographics may have changed from before Ike to after Ike. Building values, property characteristics, and whether a property exists before or after Ike are highly likely to be different. \n",
    "\n",
    "Therefore, the example provided below is purely demonstrative of the mechanics of using the model with chained data; that is, using outputs from other analysis (i.e., Building Damage, Housing Unit Allocation, Population Dislocation) as inputs for the Housing Recovery Models. \n",
    "\n",
    "Future use of these Housing Recovery Models for prediction in other communities should take care to use appropriate data. \n",
    "* In the case that building values are being predicted in a community where a disaster event has not yet happened, it may make sense to use the most current year or most currently available years of data as inputs. Interpretation will then determined on the base year used. For example, if 2022 tax assessor data and 2018-2022 ACS 5-year estimates are used, the base year will be 2022. Census data is typically not available for the current year and is delayed in distrubution for public use. In this case, the most recently available Census data, whether Decennial or ACS, should be used.\n",
    "* In the case that building values are being predicted in a community where a disaster event has happened, tax assessor and Census data reflective of the community immediately prior to the disaster event are required. For example, if a hurricane impacts a community in the fall of 2022, tax assesor data from 2022 should work considering that tax assessments typically occur in the first half of the year and reflect conditions prior to the disaster event. For demographic data, 2018-2022 ACS 5-year estimates may still work, though some survey responses used in the estimates may be collected after the disaster event. It would be worth considering if using 2017-2021 ACS 5-year estimates or 2020 Decennial Census data to ensure that all demographic characteristics are pre-storm. "
   ]
  },
  {
   "cell_type": "markdown",
   "metadata": {},
   "source": [
    "**Conceptual variables needed for housing recovery model**\n",
    "- **Damage**: measured by the estimated percent building value loss as a result from disaster impacts. Ranges from 0 to 100. (time-invariant)\n",
    "- **Age of structure**: year of prediction minus year built for structure. (time-variant)\n",
    "- **Tenure**: Owner-occupied = 1, Not owner-occupied = 0, based on year prior to disaster event, same value for all observation years (time-invariant)\n",
    "- **Square Meters**: of residential structure, based on year prior to disaster event, same value for all observation years (time-invariant)\n",
    "- **Median Household Income**: of the Block Group, in thousands, based on year prior to disaster event, same value for all observation years (time-invariant)\n",
    "- **Percent Minority race/ethnicty**: in Block Group, ranges from 0 to 100, based on year prior to disaster event, same value for all observation years (time-invariant). In many cases, minority may be determined as non-Hispanic Black plus Hispanic population, but can be set to whatever is determined to be a minority within a community. For example, if there is a large Native American population.\n",
    "- **Primary or Seasonal/Vacation Housing**: in Census Tract, ranges from 0 to 100, how much of the housing units in the Census Tract are Seasonal/Vacation? If the Census Tract is 50% or greater, the Tract is determined to be Seasonal/Vacation, otherwise it is a primary housing market Census Tract."
   ]
  },
  {
   "cell_type": "markdown",
   "metadata": {},
   "source": [
    "**Data sources needed**\n",
    "\n",
    "* **Census**: for median houehold income, percent hispanic & black. Tenure can come from either Census or tax assessor. If from the Census, the housing unit allocation (HUA) method provides this and is consistent with keeping this analysis chained with prior analyses. \n",
    "* **Tax assessor**: for age of structure and square meters. own from the the tax assessor can either consist of comparing situs and owner address or whether a parcel has a homestead exemption determines tenure. Hamideh et al (2018) determined tenure by whether a a parcel has homestead exemption. If a homestead exemption exists, it is considered owner-occupied, otherwise it is considered not owner-occupied. Other research has determined owner-occupancy if the situs and owner address are the same. \n",
    "* **Damage estimates**: currently a result from population dislocation analysis"
   ]
  },
  {
   "cell_type": "markdown",
   "metadata": {},
   "source": [
    "**Where is the data coming from prior analyses in the \"chained\" analysis?**\n",
    "\n",
    "Where available, data and output coming from prior analyses will be used as input in this housing recovery analysis. \n",
    "\n",
    "The population dislocation model result contains all of the data from the prior analsyes and is the input file here. The primary sources of data in the population dislocation result are 2010 Galveston County Appraisal District (GCAD) and 2010 Decennial Census. These originate in the Housing Unit Allocation (HUA) analysis. The population dislocation result also includes estimates of damage states at the parcel level. \n",
    "\n",
    "**Chained data**\n",
    "* **Damage**: Later calculated as value_loss. Estimated value loss is based on the product of probabilities of various damage states and the random percent value loss estimates for each damage state. At the parcel level.\n",
    "* **Tenure**: Assigned from the Housing Unit Allocation (HUA) analysis. At the parcel level. \n",
    "* **Percent Minority Race/Ethnicity**: percent non-Hispanic Black and Hispanic are included in the population dislocation result. These are added together to form the minority race/ethnicity group. At the block group level.\n",
    "\n",
    "**Additional Census**\n",
    "* **Median Household Income**: This is not available from prior analyses and is brought in as an additional dataset. At the block group level.\n",
    "* **Primary or Seasonal/Vacation Housing Market**: This is not available from prior analyses and is brought in using the Census API. \n",
    "\n",
    "**Additional housing unit characteristics**\n",
    "* **Age of Structure**: This is not available from prior analyses and is brought in as an additional dataset. At the parcel level. The actual data field is effective year built, which is used to calculate the age of the structure. The source is 2008 GCAD tax rolls from Hamideh et al 2018 analysis.\n",
    "* **Square Meters**: This is not available from prior analyses and is brought in as an additional dataset. The source is 2008 GCAD tax rolls from Hamideh et al 2018 analysis. \n",
    "* **Base year building value**: This is not available from prior analyses and is brought in as an additional dataset. The source is 2010 GCAD shapefiles from Hamideh et al 2018 analysis."
   ]
  },
  {
   "cell_type": "code",
   "execution_count": 6,
   "metadata": {},
   "outputs": [],
   "source": [
    "import json\n",
    "\n",
    "from pyincore_data.censusutil import CensusUtil\n",
    "\n",
    "# Census block groups data\n",
    "census_bg_id = \"624366c3e894891aafd2b22f\"\n",
    "\n",
    "result_name = \"Galveston_building_values_chained\""
   ]
  },
  {
   "cell_type": "markdown",
   "metadata": {},
   "source": [
    "**Assesed damage** (dmg) is the actual building value loss in percentage terms observed through the Galveston County Appraisal District (GCAD) data and as described in Hamideh et al (2018). **Value_loss** is estimated based on Bai et al (2009). Differences in the distributions of value loss are expected between the alternative measures."
   ]
  },
  {
   "cell_type": "code",
   "execution_count": 7,
   "metadata": {},
   "outputs": [],
   "source": [
    "# Additional inventory data with assessed damage. Percentage values in (column) dmg are used for calculating \n",
    "# Building recovery values\n",
    "bldg_add_id = \"6243645b5b9e61751de9070f\"\n",
    "\n",
    "# Additional inventory data without assessed damage. Value_loss is estimated in the analysis and it is used for\n",
    "# calcualting Building recovery values\n",
    "# bldg_add_id = \"6243c3955b9e61751de91d0d\""
   ]
  },
  {
   "cell_type": "code",
   "execution_count": 8,
   "metadata": {},
   "outputs": [
    {
     "name": "stdout",
     "output_type": "stream",
     "text": [
      "Dataset already exists locally. Reading from local cached zip.\n",
      "Unzipped folder found in the local cache. Reading from it...\n",
      "Dataset already exists locally. Reading from local cached zip.\n",
      "Unzipped folder found in the local cache. Reading from it...\n"
     ]
    },
    {
     "data": {
      "text/plain": [
       "True"
      ]
     },
     "execution_count": 8,
     "metadata": {},
     "output_type": "execute_result"
    }
   ],
   "source": [
    "housing_rec = HousingRecovery(client)\n",
    "\n",
    "housing_rec.set_input_dataset(\"population_dislocation\", pd_result)\n",
    "housing_rec.load_remote_input_dataset(\"building_area\", bldg_add_id)\n",
    "housing_rec.load_remote_input_dataset(\"census_block_groups_data\", census_bg_id)\n",
    "\n",
    "housing_rec.set_parameter(\"result_name\", result_name)"
   ]
  },
  {
   "cell_type": "markdown",
   "metadata": {},
   "source": [
    "A rule is defined here to identify vacation housing submarkets if a census tract has 50% or greater seasonal/vacation housing units out of **total housing units**.\n",
    "\n",
    "To identify seasonal/vacation housing markets, relavent ACS data is downloaded via the CensusAPI. The necessary variables are:\n",
    "\n",
    "* B25002_001E: [Total estimated occupied and vacant housing units](https://api.census.gov/data/2009/acs/acs5/groups/B25002.html\n",
    "* B25004_006E: [Vacant housing units for seasonal, recreational, or occasional use](https://api.census.gov/data/2009/acs/acs5/groups/B25004.html\n",
    "\n",
    "For reference, margins of error (MOE) at the 90% confidence level can also be obtained by replacing the 'E' with 'M' at the end of the variable name."
   ]
  },
  {
   "cell_type": "code",
   "execution_count": 9,
   "metadata": {},
   "outputs": [
    {
     "data": {
      "text/plain": [
       "True"
      ]
     },
     "execution_count": 9,
     "metadata": {},
     "output_type": "execute_result"
    }
   ],
   "source": [
    "# get Census data, save as a json file\n",
    "state = \"48\"\n",
    "county = \"167\"\n",
    "year = \"2010\"\n",
    "categories = \"GEO_ID,NAME,B25002_001E,B25002_001M,B25004_006E,B25004_006M\"\n",
    "\n",
    "galv_data, ft = CensusUtil.get_census_data(state=state, county=county, year=\"2010\",\n",
    "                                           data_source=\"acs/acs5\",columns=categories,\n",
    "                                           geo_type=\"tract:*\")\n",
    "census = \"Galveston_Census.json\"\n",
    "with open(census, \"w\") as f:\n",
    "    json.dump(galv_data, f)\n",
    "census_dataset = Dataset.from_file(census, data_type=\"incore:censusAppraisalData\")\n",
    "housing_rec.set_input_dataset(\"census_appraisal_data\", census_dataset)\n",
    "\n",
    "# A user can also use json Census 2010 GCAD appraisal data from the INCORE dataservice\n",
    "# census_2010_id = \"6241ff551f627b494a5d0fc7\"\n",
    "# housing_rec.load_remote_input_dataset(\"census_appraisal_data\", census_2010_id)"
   ]
  },
  {
   "cell_type": "code",
   "execution_count": 10,
   "metadata": {},
   "outputs": [
    {
     "data": {
      "text/plain": [
       "True"
      ]
     },
     "execution_count": 10,
     "metadata": {},
     "output_type": "execute_result"
    }
   ],
   "source": [
    "housing_rec.run_analysis()"
   ]
  },
  {
   "cell_type": "code",
   "execution_count": 11,
   "metadata": {
    "jupyter": {
     "outputs_hidden": false
    },
    "pycharm": {
     "name": "#%%"
    }
   },
   "outputs": [
    {
     "data": {
      "text/html": [
       "<div>\n",
       "<style scoped>\n",
       "    .dataframe tbody tr th:only-of-type {\n",
       "        vertical-align: middle;\n",
       "    }\n",
       "\n",
       "    .dataframe tbody tr th {\n",
       "        vertical-align: top;\n",
       "    }\n",
       "\n",
       "    .dataframe thead th {\n",
       "        text-align: right;\n",
       "    }\n",
       "</style>\n",
       "<table border=\"1\" class=\"dataframe\">\n",
       "  <thead>\n",
       "    <tr style=\"text-align: right;\">\n",
       "      <th></th>\n",
       "      <th>guid</th>\n",
       "      <th>d_vacationct</th>\n",
       "      <th>mhhinck</th>\n",
       "      <th>pminoritybg</th>\n",
       "      <th>dmg</th>\n",
       "      <th>value_loss</th>\n",
       "      <th>bval_year_-1</th>\n",
       "      <th>bval_year_0</th>\n",
       "      <th>bval_year_1</th>\n",
       "      <th>bval_year_2</th>\n",
       "      <th>...</th>\n",
       "      <th>bval_year_5</th>\n",
       "      <th>bval_year_6</th>\n",
       "      <th>index_-1</th>\n",
       "      <th>index_0</th>\n",
       "      <th>index_1</th>\n",
       "      <th>index_2</th>\n",
       "      <th>index_3</th>\n",
       "      <th>index_4</th>\n",
       "      <th>index_5</th>\n",
       "      <th>index_6</th>\n",
       "    </tr>\n",
       "  </thead>\n",
       "  <tbody>\n",
       "    <tr>\n",
       "      <th>0</th>\n",
       "      <td>7d844a43-6cc5-4611-b052-ef68992745ef</td>\n",
       "      <td>0</td>\n",
       "      <td>23.36</td>\n",
       "      <td>57.63</td>\n",
       "      <td>45.81</td>\n",
       "      <td>3.14</td>\n",
       "      <td>39253.75</td>\n",
       "      <td>14404.41</td>\n",
       "      <td>22495.17</td>\n",
       "      <td>22090.15</td>\n",
       "      <td>...</td>\n",
       "      <td>21975.89</td>\n",
       "      <td>24512.59</td>\n",
       "      <td>1.0</td>\n",
       "      <td>0.37</td>\n",
       "      <td>0.57</td>\n",
       "      <td>0.56</td>\n",
       "      <td>0.55</td>\n",
       "      <td>0.56</td>\n",
       "      <td>0.56</td>\n",
       "      <td>0.62</td>\n",
       "    </tr>\n",
       "    <tr>\n",
       "      <th>1</th>\n",
       "      <td>22954e05-22d3-4e44-8ad8-9945a30cadf4</td>\n",
       "      <td>0</td>\n",
       "      <td>23.36</td>\n",
       "      <td>57.63</td>\n",
       "      <td>45.83</td>\n",
       "      <td>89.78</td>\n",
       "      <td>36490.82</td>\n",
       "      <td>13378.80</td>\n",
       "      <td>20898.05</td>\n",
       "      <td>20521.66</td>\n",
       "      <td>...</td>\n",
       "      <td>20417.00</td>\n",
       "      <td>22773.76</td>\n",
       "      <td>1.0</td>\n",
       "      <td>0.37</td>\n",
       "      <td>0.57</td>\n",
       "      <td>0.56</td>\n",
       "      <td>0.55</td>\n",
       "      <td>0.56</td>\n",
       "      <td>0.56</td>\n",
       "      <td>0.62</td>\n",
       "    </tr>\n",
       "    <tr>\n",
       "      <th>2</th>\n",
       "      <td>8d44ca65-1fd7-46de-aa6f-6f61d1458b80</td>\n",
       "      <td>0</td>\n",
       "      <td>23.36</td>\n",
       "      <td>57.63</td>\n",
       "      <td>62.09</td>\n",
       "      <td>2.64</td>\n",
       "      <td>70535.62</td>\n",
       "      <td>12360.86</td>\n",
       "      <td>21173.96</td>\n",
       "      <td>19757.68</td>\n",
       "      <td>...</td>\n",
       "      <td>19753.37</td>\n",
       "      <td>22382.46</td>\n",
       "      <td>1.0</td>\n",
       "      <td>0.18</td>\n",
       "      <td>0.30</td>\n",
       "      <td>0.28</td>\n",
       "      <td>0.28</td>\n",
       "      <td>0.28</td>\n",
       "      <td>0.28</td>\n",
       "      <td>0.32</td>\n",
       "    </tr>\n",
       "    <tr>\n",
       "      <th>3</th>\n",
       "      <td>dbec86c4-27d8-4309-a3df-56ef9ff802d4</td>\n",
       "      <td>0</td>\n",
       "      <td>23.36</td>\n",
       "      <td>57.63</td>\n",
       "      <td>72.95</td>\n",
       "      <td>1.31</td>\n",
       "      <td>61960.81</td>\n",
       "      <td>8226.41</td>\n",
       "      <td>16540.26</td>\n",
       "      <td>16138.75</td>\n",
       "      <td>...</td>\n",
       "      <td>17466.45</td>\n",
       "      <td>19487.91</td>\n",
       "      <td>1.0</td>\n",
       "      <td>0.13</td>\n",
       "      <td>0.27</td>\n",
       "      <td>0.26</td>\n",
       "      <td>0.27</td>\n",
       "      <td>0.27</td>\n",
       "      <td>0.28</td>\n",
       "      <td>0.31</td>\n",
       "    </tr>\n",
       "    <tr>\n",
       "      <th>4</th>\n",
       "      <td>a31c9d97-ef3d-406f-8395-fb25fca3d1c0</td>\n",
       "      <td>0</td>\n",
       "      <td>23.36</td>\n",
       "      <td>57.63</td>\n",
       "      <td>45.83</td>\n",
       "      <td>0.31</td>\n",
       "      <td>53214.98</td>\n",
       "      <td>17146.94</td>\n",
       "      <td>25246.24</td>\n",
       "      <td>23648.14</td>\n",
       "      <td>...</td>\n",
       "      <td>22479.31</td>\n",
       "      <td>25467.08</td>\n",
       "      <td>1.0</td>\n",
       "      <td>0.32</td>\n",
       "      <td>0.47</td>\n",
       "      <td>0.44</td>\n",
       "      <td>0.43</td>\n",
       "      <td>0.43</td>\n",
       "      <td>0.42</td>\n",
       "      <td>0.48</td>\n",
       "    </tr>\n",
       "  </tbody>\n",
       "</table>\n",
       "<p>5 rows × 22 columns</p>\n",
       "</div>"
      ],
      "text/plain": [
       "                                   guid  d_vacationct  mhhinck  pminoritybg  \\\n",
       "0  7d844a43-6cc5-4611-b052-ef68992745ef             0    23.36        57.63   \n",
       "1  22954e05-22d3-4e44-8ad8-9945a30cadf4             0    23.36        57.63   \n",
       "2  8d44ca65-1fd7-46de-aa6f-6f61d1458b80             0    23.36        57.63   \n",
       "3  dbec86c4-27d8-4309-a3df-56ef9ff802d4             0    23.36        57.63   \n",
       "4  a31c9d97-ef3d-406f-8395-fb25fca3d1c0             0    23.36        57.63   \n",
       "\n",
       "     dmg  value_loss  bval_year_-1  bval_year_0  bval_year_1  bval_year_2  \\\n",
       "0  45.81        3.14      39253.75     14404.41     22495.17     22090.15   \n",
       "1  45.83       89.78      36490.82     13378.80     20898.05     20521.66   \n",
       "2  62.09        2.64      70535.62     12360.86     21173.96     19757.68   \n",
       "3  72.95        1.31      61960.81      8226.41     16540.26     16138.75   \n",
       "4  45.83        0.31      53214.98     17146.94     25246.24     23648.14   \n",
       "\n",
       "   ...  bval_year_5  bval_year_6  index_-1  index_0  index_1  index_2  \\\n",
       "0  ...     21975.89     24512.59       1.0     0.37     0.57     0.56   \n",
       "1  ...     20417.00     22773.76       1.0     0.37     0.57     0.56   \n",
       "2  ...     19753.37     22382.46       1.0     0.18     0.30     0.28   \n",
       "3  ...     17466.45     19487.91       1.0     0.13     0.27     0.26   \n",
       "4  ...     22479.31     25467.08       1.0     0.32     0.47     0.44   \n",
       "\n",
       "   index_3  index_4  index_5  index_6  \n",
       "0     0.55     0.56     0.56     0.62  \n",
       "1     0.55     0.56     0.56     0.62  \n",
       "2     0.28     0.28     0.28     0.32  \n",
       "3     0.27     0.27     0.28     0.31  \n",
       "4     0.43     0.43     0.42     0.48  \n",
       "\n",
       "[5 rows x 22 columns]"
      ]
     },
     "execution_count": 11,
     "metadata": {},
     "output_type": "execute_result"
    }
   ],
   "source": []
  }
 ],
 "metadata": {
  "kernelspec": {
   "display_name": "Python 3 (ipykernel)",
   "language": "python",
   "name": "python3"
  },
  "language_info": {
   "codemirror_mode": {
    "name": "ipython",
    "version": 3
   },
   "file_extension": ".py",
   "mimetype": "text/x-python",
   "name": "python",
   "nbconvert_exporter": "python",
   "pygments_lexer": "ipython3",
   "version": "3.8.13"
  }
 },
 "nbformat": 4,
 "nbformat_minor": 4
}