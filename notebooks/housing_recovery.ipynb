{
 "cells": [
  {
   "cell_type": "code",
   "execution_count": 1,
   "metadata": {
    "jupyter": {
     "outputs_hidden": false
    },
    "pycharm": {
     "name": "#%%\n"
    }
   },
   "outputs": [],
   "source": [
    "from pyincore import IncoreClient\n",
    "from pyincore.analyses.housingrecoveryserial import HousingRecoverySerial"
   ]
  },
  {
   "cell_type": "code",
   "execution_count": 2,
   "metadata": {
    "jupyter": {
     "outputs_hidden": false
    },
    "pycharm": {
     "name": "#%%\n"
    }
   },
   "outputs": [
    {
     "name": "stdout",
     "output_type": "stream",
     "text": [
      "Connection successful to IN-CORE services. pyIncore version detected: 0.9.4\n"
     ]
    }
   ],
   "source": [
    "# Connect to IN-CORE service\n",
    "client = IncoreClient()"
   ]
  },
  {
   "cell_type": "markdown",
   "metadata": {},
   "source": [
    "### Household-level housing serial recovery for Galveston testbed."
   ]
  },
  {
   "cell_type": "code",
   "execution_count": 3,
   "metadata": {},
   "outputs": [],
   "source": [
    "# Population dislocation result aggregated to the block group level.\n",
    "population_dislocation = \"60f5ea5d544e944c3cec66dd\" # Galveston testbed\n",
    "# Transition probability matrix per social vulnerability level.\n",
    "transition_probability_matrix = \"60f5e2ae544e944c3cec0794\"\n",
    "# Initial mass probability function for stage 0.\n",
    "initial_probability_vector = \"60f5e918544e944c3cec668b\""
   ]
  },
  {
   "cell_type": "code",
   "execution_count": 4,
   "metadata": {
    "jupyter": {
     "outputs_hidden": false
    },
    "pycharm": {
     "name": "#%%\n"
    }
   },
   "outputs": [],
   "source": [
    "# Create housing recovery instance\n",
    "housing_recovery = HousingRecoverySerial(client)\n",
    "\n",
    "# Load input datasets\n",
    "housing_recovery.load_remote_input_dataset(\"population_dislocation_block\", population_dislocation)\n",
    "housing_recovery.load_remote_input_dataset(\"tpm\", transition_probability_matrix)\n",
    "housing_recovery.load_remote_input_dataset(\"initial_stage_probabilities\", initial_probability_vector)"
   ]
  },
  {
   "cell_type": "code",
   "execution_count": 5,
   "metadata": {},
   "outputs": [],
   "source": [
    "# Initial value to seed the random number generator to ensure replication\n",
    "seed = 1234\n",
    "# A size of the analysis time step.\n",
    "t_delta = 1.0\n",
    "# Total duration.\n",
    "t_final = 90.0"
   ]
  },
  {
   "cell_type": "code",
   "execution_count": 6,
   "metadata": {
    "jupyter": {
     "outputs_hidden": false
    },
    "pycharm": {
     "name": "#%%\n"
    }
   },
   "outputs": [
    {
     "data": {
      "text/plain": [
       "True"
      ]
     },
     "execution_count": 6,
     "metadata": {},
     "output_type": "execute_result"
    }
   ],
   "source": [
    "# Specify the result name\n",
    "result_name = \"housing_recovery_result\"\n",
    "\n",
    "# Set analysis parameters\n",
    "housing_recovery.set_parameter(\"result_name\", result_name)\n",
    "housing_recovery.set_parameter(\"seed\", seed)\n",
    "housing_recovery.set_parameter(\"t_delta\", t_delta)\n",
    "housing_recovery.set_parameter(\"t_final\", t_final)"
   ]
  },
  {
   "cell_type": "code",
   "execution_count": 7,
   "metadata": {
    "jupyter": {
     "outputs_hidden": false
    },
    "pycharm": {
     "name": "#%%\n"
    }
   },
   "outputs": [],
   "source": [
    "# Run the analysis\n",
    "housing_recovery.run()"
   ]
  },
  {
   "cell_type": "code",
   "execution_count": 8,
   "metadata": {
    "jupyter": {
     "outputs_hidden": false
    },
    "pycharm": {
     "name": "#%%\n"
    }
   },
   "outputs": [
    {
     "data": {
      "text/html": [
       "<div>\n",
       "<style scoped>\n",
       "    .dataframe tbody tr th:only-of-type {\n",
       "        vertical-align: middle;\n",
       "    }\n",
       "\n",
       "    .dataframe tbody tr th {\n",
       "        vertical-align: top;\n",
       "    }\n",
       "\n",
       "    .dataframe thead th {\n",
       "        text-align: right;\n",
       "    }\n",
       "</style>\n",
       "<table border=\"1\" class=\"dataframe\">\n",
       "  <thead>\n",
       "    <tr style=\"text-align: right;\">\n",
       "      <th></th>\n",
       "      <th>guid</th>\n",
       "      <th>huid</th>\n",
       "      <th>Zone</th>\n",
       "      <th>SV</th>\n",
       "      <th>1</th>\n",
       "      <th>2</th>\n",
       "      <th>3</th>\n",
       "      <th>4</th>\n",
       "      <th>5</th>\n",
       "      <th>6</th>\n",
       "      <th>...</th>\n",
       "      <th>81</th>\n",
       "      <th>82</th>\n",
       "      <th>83</th>\n",
       "      <th>84</th>\n",
       "      <th>85</th>\n",
       "      <th>86</th>\n",
       "      <th>87</th>\n",
       "      <th>88</th>\n",
       "      <th>89</th>\n",
       "      <th>90</th>\n",
       "    </tr>\n",
       "  </thead>\n",
       "  <tbody>\n",
       "    <tr>\n",
       "      <th>0</th>\n",
       "      <td>eca98323-d57f-4691-a340-b4e0e19c2346</td>\n",
       "      <td>B481677240001040H002</td>\n",
       "      <td>Z1</td>\n",
       "      <td>0.097</td>\n",
       "      <td>1.0</td>\n",
       "      <td>4.0</td>\n",
       "      <td>4.0</td>\n",
       "      <td>4.0</td>\n",
       "      <td>4.0</td>\n",
       "      <td>4.0</td>\n",
       "      <td>...</td>\n",
       "      <td>4.0</td>\n",
       "      <td>4.0</td>\n",
       "      <td>4.0</td>\n",
       "      <td>4.0</td>\n",
       "      <td>4.0</td>\n",
       "      <td>4.0</td>\n",
       "      <td>4.0</td>\n",
       "      <td>4.0</td>\n",
       "      <td>4.0</td>\n",
       "      <td>4.0</td>\n",
       "    </tr>\n",
       "    <tr>\n",
       "      <th>1</th>\n",
       "      <td>eca98323-d57f-4691-a340-b4e0e19c2346</td>\n",
       "      <td>B481677240001040H003</td>\n",
       "      <td>Z1</td>\n",
       "      <td>0.120</td>\n",
       "      <td>4.0</td>\n",
       "      <td>4.0</td>\n",
       "      <td>4.0</td>\n",
       "      <td>4.0</td>\n",
       "      <td>4.0</td>\n",
       "      <td>4.0</td>\n",
       "      <td>...</td>\n",
       "      <td>4.0</td>\n",
       "      <td>4.0</td>\n",
       "      <td>4.0</td>\n",
       "      <td>4.0</td>\n",
       "      <td>4.0</td>\n",
       "      <td>4.0</td>\n",
       "      <td>4.0</td>\n",
       "      <td>4.0</td>\n",
       "      <td>4.0</td>\n",
       "      <td>4.0</td>\n",
       "    </tr>\n",
       "    <tr>\n",
       "      <th>2</th>\n",
       "      <td>eca98323-d57f-4691-a340-b4e0e19c2346</td>\n",
       "      <td>B481677240001040H001</td>\n",
       "      <td>Z1</td>\n",
       "      <td>0.048</td>\n",
       "      <td>1.0</td>\n",
       "      <td>3.0</td>\n",
       "      <td>4.0</td>\n",
       "      <td>4.0</td>\n",
       "      <td>4.0</td>\n",
       "      <td>4.0</td>\n",
       "      <td>...</td>\n",
       "      <td>4.0</td>\n",
       "      <td>4.0</td>\n",
       "      <td>4.0</td>\n",
       "      <td>4.0</td>\n",
       "      <td>4.0</td>\n",
       "      <td>4.0</td>\n",
       "      <td>4.0</td>\n",
       "      <td>4.0</td>\n",
       "      <td>4.0</td>\n",
       "      <td>4.0</td>\n",
       "    </tr>\n",
       "    <tr>\n",
       "      <th>3</th>\n",
       "      <td>eca98323-d57f-4691-a340-b4e0e19c2346</td>\n",
       "      <td>B481677240001040H004</td>\n",
       "      <td>Z1</td>\n",
       "      <td>0.122</td>\n",
       "      <td>1.0</td>\n",
       "      <td>1.0</td>\n",
       "      <td>4.0</td>\n",
       "      <td>4.0</td>\n",
       "      <td>4.0</td>\n",
       "      <td>4.0</td>\n",
       "      <td>...</td>\n",
       "      <td>4.0</td>\n",
       "      <td>4.0</td>\n",
       "      <td>4.0</td>\n",
       "      <td>4.0</td>\n",
       "      <td>4.0</td>\n",
       "      <td>4.0</td>\n",
       "      <td>4.0</td>\n",
       "      <td>4.0</td>\n",
       "      <td>4.0</td>\n",
       "      <td>4.0</td>\n",
       "    </tr>\n",
       "    <tr>\n",
       "      <th>4</th>\n",
       "      <td>eca98323-d57f-4691-a340-b4e0e19c2346</td>\n",
       "      <td>B481677240001040H005</td>\n",
       "      <td>Z1</td>\n",
       "      <td>0.801</td>\n",
       "      <td>1.0</td>\n",
       "      <td>1.0</td>\n",
       "      <td>2.0</td>\n",
       "      <td>2.0</td>\n",
       "      <td>2.0</td>\n",
       "      <td>1.0</td>\n",
       "      <td>...</td>\n",
       "      <td>4.0</td>\n",
       "      <td>4.0</td>\n",
       "      <td>4.0</td>\n",
       "      <td>4.0</td>\n",
       "      <td>4.0</td>\n",
       "      <td>4.0</td>\n",
       "      <td>4.0</td>\n",
       "      <td>4.0</td>\n",
       "      <td>4.0</td>\n",
       "      <td>4.0</td>\n",
       "    </tr>\n",
       "  </tbody>\n",
       "</table>\n",
       "<p>5 rows × 94 columns</p>\n",
       "</div>"
      ],
      "text/plain": [
       "                                   guid                  huid Zone     SV  \\\n",
       "0  eca98323-d57f-4691-a340-b4e0e19c2346  B481677240001040H002   Z1  0.097   \n",
       "1  eca98323-d57f-4691-a340-b4e0e19c2346  B481677240001040H003   Z1  0.120   \n",
       "2  eca98323-d57f-4691-a340-b4e0e19c2346  B481677240001040H001   Z1  0.048   \n",
       "3  eca98323-d57f-4691-a340-b4e0e19c2346  B481677240001040H004   Z1  0.122   \n",
       "4  eca98323-d57f-4691-a340-b4e0e19c2346  B481677240001040H005   Z1  0.801   \n",
       "\n",
       "     1    2    3    4    5    6  ...   81   82   83   84   85   86   87   88  \\\n",
       "0  1.0  4.0  4.0  4.0  4.0  4.0  ...  4.0  4.0  4.0  4.0  4.0  4.0  4.0  4.0   \n",
       "1  4.0  4.0  4.0  4.0  4.0  4.0  ...  4.0  4.0  4.0  4.0  4.0  4.0  4.0  4.0   \n",
       "2  1.0  3.0  4.0  4.0  4.0  4.0  ...  4.0  4.0  4.0  4.0  4.0  4.0  4.0  4.0   \n",
       "3  1.0  1.0  4.0  4.0  4.0  4.0  ...  4.0  4.0  4.0  4.0  4.0  4.0  4.0  4.0   \n",
       "4  1.0  1.0  2.0  2.0  2.0  1.0  ...  4.0  4.0  4.0  4.0  4.0  4.0  4.0  4.0   \n",
       "\n",
       "    89   90  \n",
       "0  4.0  4.0  \n",
       "1  4.0  4.0  \n",
       "2  4.0  4.0  \n",
       "3  4.0  4.0  \n",
       "4  4.0  4.0  \n",
       "\n",
       "[5 rows x 94 columns]"
      ]
     },
     "execution_count": 8,
     "metadata": {},
     "output_type": "execute_result"
    }
   ],
   "source": [
    "# Retrieve result dataset\n",
    "result = housing_recovery.get_output_dataset(\"ds_result\")\n",
    "\n",
    "# Convert dataset to Pandas DataFrame\n",
    "df = result.get_dataframe_from_csv()\n",
    "\n",
    "# Display top 5 rows of output data\n",
    "df.head()"
   ]
  }
 ],
 "metadata": {
  "kernelspec": {
   "display_name": "Python 3 (ipykernel)",
   "language": "python",
   "name": "python3"
  },
  "language_info": {
   "codemirror_mode": {
    "name": "ipython",
    "version": 3
   },
   "file_extension": ".py",
   "mimetype": "text/x-python",
   "name": "python",
   "nbconvert_exporter": "python",
   "pygments_lexer": "ipython3",
   "version": "3.8.8"
  }
 },
 "nbformat": 4,
 "nbformat_minor": 4
}