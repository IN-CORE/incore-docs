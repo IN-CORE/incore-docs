{
 "cells": [
  {
   "cell_type": "code",
   "execution_count": null,
   "id": "39fe4053",
   "metadata": {},
   "outputs": [],
   "source": [
    "from pyincore import IncoreClient\n",
    "from pyincore.analyses.saltlakecge import SaltLakeCGEModel"
   ]
  },
  {
   "cell_type": "code",
   "execution_count": null,
   "id": "d87a624f",
   "metadata": {},
   "outputs": [],
   "source": [
    "client = IncoreClient()"
   ]
  },
  {
   "cell_type": "code",
   "execution_count": null,
   "id": "fb6d8297",
   "metadata": {},
   "outputs": [],
   "source": [
    "# Social accounting matrix (SAM) contains data for firms, households and government which are organized in a way to \n",
    "# represent the interactions of all three entities in a typical economy.\n",
    "SAM = \"63daafa9c4b5713b9c0c96ae\"\n",
    "\n",
    "# BB is a matrix which describes how investment in physical infrastructure is\n",
    "# transformed into functioning capital such as commercial and residential buildings.\n",
    "# These data are collected from the Bureau of Economic Analysis (BEA).\n",
    "BB = \"63daaf5ca011a9746c954081\"\n",
    "\n",
    "# MISCH is a file that contains elasticities for the supply of labor with respect to paying income taxes.\n",
    "MISCH = \"63daafe5a011a9746c954082\"  \n",
    "\n",
    "# EMPLOY is a table name containing data for commercial sector employment.\n",
    "EMPLOY = \"63dab018c4b5713b9c0c96af\" \n",
    "\n",
    "# JOBCR is a matrix describing the supply of workers coming from each household group in the economy.\n",
    "JOBCR = \"63dab074a011a9746c954083\" \n",
    "\n",
    "# OUTCR is a matrix describing the number of workers who live in Salt Lake City but commute outside of town to work.\n",
    "OUTCR = \"63dab0a7c4b5713b9c0c96b0\"\n",
    "sector_shocks = \"63dbf4d8c4b5713b9c0cca7f\"# This is the aggregation of building functionality states to capital shocks per sector."
   ]
  },
  {
   "cell_type": "code",
   "execution_count": null,
   "id": "8eb18cbd",
   "metadata": {},
   "outputs": [],
   "source": [
    "# Create Salt Lake City CGE Model\n",
    "saltlake_cge = SaltLakeCGEModel(client)"
   ]
  },
  {
   "cell_type": "code",
   "execution_count": null,
   "id": "9a1a55ad",
   "metadata": {},
   "outputs": [],
   "source": [
    "# Set analysis input datasets\n",
    "saltlake_cge.set_parameter(\"model_iterations\", 1)\n",
    "saltlake_cge.load_remote_input_dataset(\"SAM\", SAM)\n",
    "saltlake_cge.load_remote_input_dataset(\"BB\", BB)\n",
    "saltlake_cge.load_remote_input_dataset(\"MISCH\", MISCH)\n",
    "saltlake_cge.load_remote_input_dataset(\"EMPLOY\", EMPLOY)\n",
    "saltlake_cge.load_remote_input_dataset(\"JOBCR\", JOBCR)\n",
    "saltlake_cge.load_remote_input_dataset(\"OUTCR\", OUTCR)\n",
    "saltlake_cge.load_remote_input_dataset(\"sector_shocks\", sector_shocks)\n",
    "\n",
    "# Set analysis parameters\n",
    "# saltlake_cge.set_parameter(\"solver_path\", \"ipopt\")\n",
    "saltlake_cge.set_parameter(\"model_iterations\", 1)"
   ]
  },
  {
   "cell_type": "code",
   "execution_count": null,
   "id": "92e017b6",
   "metadata": {},
   "outputs": [],
   "source": [
    "# Run Salt Lake City CGE model analysis\n",
    "saltlake_cge.run_analysis()"
   ]
  },
  {
   "cell_type": "code",
   "execution_count": null,
   "id": "ace870fb",
   "metadata": {
    "scrolled": true
   },
   "outputs": [],
   "source": [
    "domestic_supply = saltlake_cge.get_output_dataset('domestic-supply')\n",
    "ds = domestic_supply.get_dataframe_from_csv()\n",
    "# Display top 6 rows of output data\n",
    "ds.head(6)"
   ]
  },
  {
   "cell_type": "code",
   "execution_count": null,
   "id": "d8498f68",
   "metadata": {},
   "outputs": [],
   "source": [
    "gross_income = saltlake_cge.get_output_dataset('gross-income')\n",
    "gi = gross_income.get_dataframe_from_csv()\n",
    "gi.head()"
   ]
  },
  {
   "cell_type": "code",
   "execution_count": null,
   "id": "2ae20eb5",
   "metadata": {},
   "outputs": [],
   "source": [
    "pre_factor_demand = saltlake_cge.get_output_dataset('pre-disaster-factor-demand')\n",
    "pre_fd = pre_factor_demand.get_dataframe_from_csv()\n",
    "pre_fd.head()"
   ]
  },
  {
   "cell_type": "code",
   "execution_count": null,
   "id": "a6ddb7c1",
   "metadata": {},
   "outputs": [],
   "source": [
    "post_factor_demand = saltlake_cge.get_output_dataset('post-disaster-factor-demand')\n",
    "pos_fd = post_factor_demand.get_dataframe_from_csv()\n",
    "pos_fd.head()"
   ]
  },
  {
   "cell_type": "code",
   "execution_count": null,
   "id": "583bec33",
   "metadata": {},
   "outputs": [],
   "source": [
    "household_count = saltlake_cge.get_output_dataset('household-count')\n",
    "hc = household_count.get_dataframe_from_csv()\n",
    "hc.head()"
   ]
  }
 ],
 "metadata": {
  "kernelspec": {
   "display_name": "Python 3 (ipykernel)",
   "language": "python",
   "name": "python3"
  },
  "language_info": {
   "codemirror_mode": {
    "name": "ipython",
    "version": 3
   },
   "file_extension": ".py",
   "mimetype": "text/x-python",
   "name": "python",
   "nbconvert_exporter": "python",
   "pygments_lexer": "ipython3",
   "version": "3.9.13"
  }
 },
 "nbformat": 4,
 "nbformat_minor": 5
}
