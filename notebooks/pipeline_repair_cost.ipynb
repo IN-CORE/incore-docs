{
 "cells": [
  {
   "cell_type": "code",
   "execution_count": null,
   "id": "6d68fbc4",
   "metadata": {},
   "outputs": [],
   "source": [
    "from pyincore import IncoreClient, FragilityService, MappingSet\n",
    "from pyincore.analyses.pipelinedamagerepairrate import PipelineDamageRepairRate\n",
    "from pyincore.analyses.pipelinerepaircost import PipelineRepairCost"
   ]
  },
  {
   "cell_type": "code",
   "execution_count": null,
   "id": "0c48a7ab",
   "metadata": {},
   "outputs": [],
   "source": [
    "client = IncoreClient()"
   ]
  },
  {
   "cell_type": "code",
   "execution_count": null,
   "id": "67656493",
   "metadata": {},
   "outputs": [],
   "source": [
    "pipeline_id = \"6480a1d9c1a69260b196d9c6\""
   ]
  },
  {
   "cell_type": "markdown",
   "id": "67a8b0c8",
   "metadata": {},
   "source": [
    "### Pipeline damage (repair rate)"
   ]
  },
  {
   "cell_type": "code",
   "execution_count": null,
   "id": "3c51440c",
   "metadata": {},
   "outputs": [],
   "source": [
    "pipeline_dmg_w_rr = PipelineDamageRepairRate(client)\n",
    "pipeline_dmg_w_rr.load_remote_input_dataset(\"pipeline\", pipeline_id)\n",
    "\n",
    "# Load fragility mapping\n",
    "fragility_service = FragilityService(client)\n",
    "mapping_set = MappingSet(fragility_service.get_mapping(\"5b47c227337d4a38464efea8\"))\n",
    "pipeline_dmg_w_rr.set_input_dataset('dfr3_mapping_set', mapping_set)\n",
    "\n",
    "pipeline_dmg_w_rr.set_parameter(\"result_name\", \"seaside_eq_pipeline_result\")\n",
    "pipeline_dmg_w_rr.set_parameter(\"fragility_key\", \"pgv\")\n",
    "pipeline_dmg_w_rr.set_parameter(\"hazard_type\", \"earthquake\")\n",
    "pipeline_dmg_w_rr.set_parameter(\"hazard_id\", \"5ba8f2b9ec2309043520906e\")  # seaside probability 5000 yr\n",
    "pipeline_dmg_w_rr.set_parameter(\"num_cpu\", 4)\n",
    "pipeline_dmg_w_rr.run_analysis()"
   ]
  },
  {
   "cell_type": "code",
   "execution_count": null,
   "id": "b247287b",
   "metadata": {},
   "outputs": [],
   "source": [
    "pipeline_dmg_result = pipeline_dmg_w_rr.get_output_dataset(\"result\")\n",
    "pipeline_dmg_result.get_dataframe_from_csv().head()"
   ]
  },
  {
   "cell_type": "markdown",
   "id": "f1fb416c",
   "metadata": {},
   "source": [
    "### Pipeline repair cost"
   ]
  },
  {
   "cell_type": "code",
   "execution_count": null,
   "id": "b75e529c",
   "metadata": {},
   "outputs": [],
   "source": [
    "pipeline_repair_cost = PipelineRepairCost(client)\n",
    "\n",
    "pipeline_repair_cost.load_remote_input_dataset(\"pipeline\", pipeline_id) \n",
    "pipeline_repair_cost.load_remote_input_dataset(\"replacement_cost\", \"6480a2787ae18139d975e919\")\n",
    "pipeline_repair_cost.set_input_dataset(\"pipeline_dmg\", pipeline_dmg)\n",
    "\n",
    "# pipeline damage ratio\n",
    "pipeline_repair_cost.load_remote_input_dataset(\"pipeline_dmg_ratios\", \"6480a2d44dd25160127d2fcc\")\n",
    "\n",
    "pipeline_repair_cost.set_parameter(\"result_name\", \"seaside_pipeline\")\n",
    "pipeline_repair_cost.set_parameter(\"num_cpu\", 4)\n",
    "\n",
    "# Run Analysis\n",
    "pipeline_repair_cost.run_analysis()"
   ]
  },
  {
   "cell_type": "code",
   "execution_count": null,
   "id": "1a5de476",
   "metadata": {},
   "outputs": [],
   "source": [
    "pipeline_repair_cost.get_output_dataset(\"result\").get_dataframe_from_csv().head()"
   ]
  },
  {
   "cell_type": "code",
   "execution_count": null,
   "id": "1f22274b",
   "metadata": {},
   "outputs": [],
   "source": []
  }
 ],
 "metadata": {
  "kernelspec": {
   "display_name": "Python 3 (ipykernel)",
   "language": "python",
   "name": "python3"
  },
  "language_info": {
   "codemirror_mode": {
    "name": "ipython",
    "version": 3
   },
   "file_extension": ".py",
   "mimetype": "text/x-python",
   "name": "python",
   "nbconvert_exporter": "python",
   "pygments_lexer": "ipython3",
   "version": "3.8.16"
  }
 },
 "nbformat": 4,
 "nbformat_minor": 5
}
