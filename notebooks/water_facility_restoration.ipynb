{
 "cells": [
  {
   "cell_type": "code",
   "execution_count": null,
   "id": "5a6428b7",
   "metadata": {},
   "outputs": [],
   "source": [
    "from pyincore import IncoreClient, MappingSet, RestorationCurveSet, RestorationService\n",
    "from pyincore.analyses.waterfacilityrestoration import WaterFacilityRestoration\n",
    "import pyincore.globals as pyglobals\n",
    "from pyincore.models.mapping import Mapping"
   ]
  },
  {
   "cell_type": "code",
   "execution_count": null,
   "id": "e9d52bcd",
   "metadata": {},
   "outputs": [],
   "source": [
    "client = IncoreClient()"
   ]
  },
  {
   "cell_type": "code",
   "execution_count": null,
   "id": "f1e1b3c8",
   "metadata": {},
   "outputs": [],
   "source": [
    "wf_rest = WaterFacilityRestoration(client)\n",
    "# Load restoration mapping\n",
    "restorationsvc = RestorationService(client)\n",
    "mapping_set = MappingSet(restorationsvc.get_mapping(\"61f075ee903e515036cee0a5\"))  # new format of mapping\n",
    "wf_rest.set_input_dataset('dfr3_mapping_set', mapping_set)\n",
    "wf_rest.set_parameter(\"result_name\", \"wf_restoration\")\n",
    "wf_rest.set_parameter(\"restoration_key\", \"Restoration ID Code\")\n",
    "wf_rest.set_parameter(\"end_time\", 100.0)\n",
    "wf_rest.set_parameter(\"time_interval\", 1.0)\n",
    "wf_rest.set_parameter(\"pf_interval\", 0.05)"
   ]
  },
  {
   "cell_type": "code",
   "execution_count": null,
   "id": "b4a84c0b",
   "metadata": {},
   "outputs": [],
   "source": [
    "wf_rest.run_analysis()"
   ]
  },
  {
   "cell_type": "code",
   "execution_count": null,
   "id": "d4002df7",
   "metadata": {},
   "outputs": [],
   "source": [
    "pf_results = wf_rest.get_output_dataset(\"pf_results\").get_dataframe_from_csv()\n",
    "pf_results.head()"
   ]
  },
  {
   "cell_type": "code",
   "execution_count": null,
   "id": "27a50d39",
   "metadata": {},
   "outputs": [],
   "source": [
    "time_results = wf_rest.get_output_dataset(\"time_results\").get_dataframe_from_csv()\n",
    "time_results.head()"
   ]
  }
 ],
 "metadata": {
  "kernelspec": {
   "display_name": "Python 3",
   "language": "python",
   "name": "python3"
  },
  "language_info": {
   "codemirror_mode": {
    "name": "ipython",
    "version": 3
   },
   "file_extension": ".py",
   "mimetype": "text/x-python",
   "name": "python",
   "nbconvert_exporter": "python",
   "pygments_lexer": "ipython3",
   "version": "3.7.10"
  }
 },
 "nbformat": 4,
 "nbformat_minor": 5
}
