{
 "cells": [
  {
   "cell_type": "code",
   "execution_count": null,
   "id": "5a6428b7",
   "metadata": {},
   "outputs": [],
   "source": [
    "from pyincore import IncoreClient, MappingSet, RestorationCurveSet, RestorationService, FragilityService\n",
    "from pyincore.analyses.waterfacilitydamage import WaterFacilityDamage\n",
    "from pyincore.analyses.waterfacilityrestoration import WaterFacilityRestoration\n",
    "import pyincore.globals as pyglobals\n",
    "from pyincore.models.mapping import Mapping"
   ]
  },
  {
   "cell_type": "code",
   "execution_count": null,
   "id": "e9d52bcd",
   "metadata": {},
   "outputs": [],
   "source": [
    "# Connect to IN-CORE service\n",
    "client = IncoreClient()"
   ]
  },
  {
   "cell_type": "code",
   "execution_count": null,
   "id": "6ef33543",
   "metadata": {},
   "outputs": [],
   "source": [
    "# Memphis water facility damage with earthquake\n",
    "hazard_type = \"earthquake\"\n",
    "hazard_id = \"5b902cb273c3371e1236b36b\"\n",
    "wf_dataset_id = \"5a284f2ac7d30d13bc081e52\"\n",
    "mapping_id = \"5b47c383337d4a387669d592\"  # PGA and PGD\n",
    "\n",
    "use_liquefaction = True\n",
    "use_hazard_uncertainty = False\n",
    "liq_geology_dataset_id = \"5a284f53c7d30d13bc08249c\"\n",
    "\n",
    "# Create and setup water facility damage\n",
    "wf_dmg = WaterFacilityDamage(client)\n",
    "wf_dmg.load_remote_input_dataset(\"water_facilities\", wf_dataset_id)\n",
    "\n",
    "# Load fragility mapping\n",
    "fragility_service = FragilityService(client)\n",
    "mapping_set = MappingSet(fragility_service.get_mapping(mapping_id))\n",
    "wf_dmg.set_input_dataset('dfr3_mapping_set', mapping_set)\n",
    "\n",
    "result_name = \"memphis-wf-dmg\"\n",
    "wf_dmg.set_parameter(\"result_name\", result_name)\n",
    "wf_dmg.set_parameter(\"hazard_type\", hazard_type)\n",
    "wf_dmg.set_parameter(\"hazard_id\", hazard_id)\n",
    "wf_dmg.set_parameter(\"use_liquefaction\", use_liquefaction)\n",
    "wf_dmg.set_parameter(\"liquefaction_geology_dataset_id\", liq_geology_dataset_id)\n",
    "wf_dmg.set_parameter(\"use_hazard_uncertainty\", use_hazard_uncertainty)\n",
    "wf_dmg.set_parameter(\"num_cpu\", 1)\n",
    "\n",
    "# Run Analysis\n",
    "wf_dmg.run_analysis()"
   ]
  },
  {
   "cell_type": "code",
   "execution_count": null,
   "id": "f1e1b3c8",
   "metadata": {},
   "outputs": [],
   "source": [
    "# Create and setup water facility restoration\n",
    "wf_rest = WaterFacilityRestoration(client)\n",
    "\n",
    "restoration_table_id = \"62d05fa61cca614f5243371d\"\n",
    "restoration_mapping_id = \"61f075ee903e515036cee0a5\"\n",
    "\n",
    "# Load restoration mapping\n",
    "restorationsvc = RestorationService(client)\n",
    "mapping_set = MappingSet(restorationsvc.get_mapping(restoration_mapping_id))  # new format of mapping\n",
    "wf_rest.load_remote_input_dataset(\"water_facilities\", wf_dataset_id)  # water facility\n",
    "wf_rest.set_input_dataset('dfr3_mapping_set', mapping_set)\n",
    "wf_rest.set_input_dataset('damage', wf_dmg.get_output_dataset(\"result\"))\n",
    "wf_rest.set_parameter(\"result_name\", \"memphis_wf_restoration\")\n",
    "wf_rest.set_parameter(\"discretized_days\", [1, 3, 7, 30, 90])\n",
    "wf_rest.set_parameter(\"restoration_key\", \"Restoration ID Code\")\n",
    "wf_rest.set_parameter(\"end_time\", 100.0)\n",
    "wf_rest.set_parameter(\"time_interval\", 1.0)\n",
    "wf_rest.set_parameter(\"pf_interval\", 0.05)"
   ]
  },
  {
   "cell_type": "code",
   "execution_count": null,
   "id": "b4a84c0b",
   "metadata": {},
   "outputs": [],
   "source": [
    "# Run Analysis\n",
    "wf_rest.run_analysis()"
   ]
  },
  {
   "cell_type": "code",
   "execution_count": null,
   "id": "8bd02a9c",
   "metadata": {},
   "outputs": [],
   "source": [
    "# Discretized Restoration functionality\n",
    "func_results = wf_rest.get_output_dataset(\"func_results\").get_dataframe_from_csv()\n",
    "func_results.head()"
   ]
  },
  {
   "cell_type": "code",
   "execution_count": null,
   "id": "d31a3313",
   "metadata": {},
   "outputs": [],
   "source": [
    "# Functionality change over time\n",
    "pf_results = wf_rest.get_output_dataset(\"pf_results\").get_dataframe_from_csv()\n",
    "pf_results.head()"
   ]
  },
  {
   "cell_type": "code",
   "execution_count": null,
   "id": "d4002df7",
   "metadata": {},
   "outputs": [],
   "source": [
    "# Functionality change over time\n",
    "pf_results = wf_rest.get_output_dataset(\"pf_results\").get_dataframe_from_csv()\n",
    "pf_results.head()"
   ]
  },
  {
   "cell_type": "code",
   "execution_count": null,
   "id": "27a50d39",
   "metadata": {},
   "outputs": [],
   "source": [
    "# Repair time at certain functionality recovery and damage state\n",
    "time_results = wf_rest.get_output_dataset(\"time_results\").get_dataframe_from_csv()\n",
    "time_results.head()"
   ]
  },
  {
   "cell_type": "markdown",
   "id": "52205fab",
   "metadata": {},
   "source": [
    "### Example of how to use the utility function to calculate repair time and functionality"
   ]
  },
  {
   "cell_type": "code",
   "execution_count": null,
   "id": "7e1c409e",
   "metadata": {},
   "outputs": [],
   "source": [
    "from pyincore.analyses.waterfacilityrestoration import WaterFacilityRestorationUtil"
   ]
  },
  {
   "cell_type": "code",
   "execution_count": null,
   "id": "87e3f0c3",
   "metadata": {},
   "outputs": [],
   "source": [
    "# Functionality for particular component and damage state\n",
    "wf_util = WaterFacilityRestorationUtil(wf_rest)\n",
    "functionality = wf_util.get_percentage_func(guid=\"e1bce78d-00a1-4605-95f3-3776ff907f73\",\n",
    "                                            damage_state=\"DS_0\", time=2.0)\n",
    "functionality"
   ]
  },
  {
   "cell_type": "code",
   "execution_count": null,
   "id": "03e5efa5",
   "metadata": {},
   "outputs": [],
   "source": [
    "# Repair time for particular component and damage state\n",
    "time = wf_util.get_restoration_time(guid=\"e1bce78d-00a1-4605-95f3-3776ff907f73\", damage_state=\"DS_1\", pf=0.81)\n",
    "time"
   ]
  },
  {
   "cell_type": "code",
   "execution_count": null,
   "id": "e2586370",
   "metadata": {},
   "outputs": [],
   "source": []
  }
 ],
 "metadata": {
  "kernelspec": {
   "display_name": "Python 3",
   "language": "python",
   "name": "python3"
  },
  "language_info": {
   "codemirror_mode": {
    "name": "ipython",
    "version": 3
   },
   "file_extension": ".py",
   "mimetype": "text/x-python",
   "name": "python",
   "nbconvert_exporter": "python",
   "pygments_lexer": "ipython3",
   "version": "3.8.10"
  }
 },
 "nbformat": 4,
 "nbformat_minor": 5
}
