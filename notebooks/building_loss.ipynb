{
 "cells": [
  {
   "cell_type": "code",
   "execution_count": 1,
   "metadata": {},
   "outputs": [],
   "source": [
    "from pyincore import IncoreClient, FragilityService, MappingSet\n",
    "from pyincore.analyses.meandamage import MeanDamage"
   ]
  },
  {
   "cell_type": "code",
   "execution_count": 2,
   "metadata": {},
   "outputs": [],
   "source": [
    "client = IncoreClient()"
   ]
  },
  {
   "cell_type": "markdown",
   "metadata": {},
   "source": [
    "### Stert with building damage"
   ]
  },
  {
   "cell_type": "markdown",
   "metadata": {},
   "source": [
    "We are going to run three chained analyses, Building damage, Mean damage and finally Building economic loss. The output of one analu=ysis is used as an input of the other. \n",
    "\n",
    "The example inventory is Seaside, OR."
   ]
  },
  {
   "cell_type": "code",
   "execution_count": 3,
   "metadata": {},
   "outputs": [],
   "source": [
    "from pyincore.analyses.buildingdamage import BuildingDamage\n",
    "bldg_dmg = BuildingDamage(client)"
   ]
  },
  {
   "cell_type": "code",
   "execution_count": 4,
   "metadata": {},
   "outputs": [
    {
     "name": "stdout",
     "output_type": "stream",
     "text": [
      "Dataset already exists locally. Reading from local cached zip.\n",
      "Unzipped folder found in the local cache. Reading from it...\n"
     ]
    },
    {
     "data": {
      "text/plain": [
       "True"
      ]
     },
     "execution_count": 4,
     "metadata": {},
     "output_type": "execute_result"
    }
   ],
   "source": [
    "# Seaside, OR building inventory\n",
    "bldgs_id = \"5bcf2fcbf242fe047ce79dad\"\n",
    "bldg_dmg.load_remote_input_dataset(\"buildings\", bldgs_id)\n",
    "\n",
    "# Load fragility mapping\n",
    "fragility_service = FragilityService(client)\n",
    "# Earthquake retrofitted building mappings\n",
    "mapping_set = MappingSet(fragility_service.get_mapping(\"5d2789dbb9219c3c553c7977\"))\n",
    "bldg_dmg.set_input_dataset(\"dfr3_mapping_set\", mapping_set)"
   ]
  },
  {
   "cell_type": "code",
   "execution_count": 5,
   "metadata": {
    "collapsed": false,
    "jupyter": {
     "outputs_hidden": false
    },
    "pycharm": {
     "name": "#%%\n"
    }
   },
   "outputs": [
    {
     "data": {
      "text/plain": [
       "True"
      ]
     },
     "execution_count": 5,
     "metadata": {},
     "output_type": "execute_result"
    }
   ],
   "source": [
    "# Seaside probabilistic earthquake 10000yr \n",
    "bldg_dmg.set_parameter(\"hazard_type\", \"earthquake\")\n",
    "bldg_dmg.set_parameter(\"hazard_id\", \"5ba8f379ec2309043520906f\")\n",
    "bldg_dmg.set_parameter(\"num_cpu\", 1)"
   ]
  },
  {
   "cell_type": "code",
   "execution_count": 6,
   "metadata": {
    "collapsed": false,
    "jupyter": {
     "outputs_hidden": false
    },
    "pycharm": {
     "name": "#%%\n"
    }
   },
   "outputs": [],
   "source": [
    "bldg_dmg.set_parameter(\"result_name\", \"bldg_dmg_seaside\")\n",
    "\n",
    "bldg_dmg.run_analysis()\n",
    "building_damage_result = bldg_dmg.get_output_dataset(\"result\")"
   ]
  },
  {
   "cell_type": "markdown",
   "metadata": {},
   "source": [
    "### Mean damage"
   ]
  },
  {
   "cell_type": "code",
   "execution_count": null,
   "metadata": {},
   "outputs": [],
   "source": [
    "The structural damage calculation uses mean damage and standard deviation values from damage ratios tables. \n",
    "The four damage state probabilities are multiplied by the mean damage and aggregated to get the Mean damage for \n",
    "each individual building. "
   ]
  },
  {
   "cell_type": "code",
   "execution_count": 7,
   "metadata": {},
   "outputs": [
    {
     "name": "stdout",
     "output_type": "stream",
     "text": [
      "Dataset already exists locally. Reading from local cached zip.\n",
      "Unzipped folder found in the local cache. Reading from it...\n"
     ]
    },
    {
     "data": {
      "text/plain": [
       "True"
      ]
     },
     "execution_count": 7,
     "metadata": {},
     "output_type": "execute_result"
    }
   ],
   "source": [
    "md = MeanDamage(client)\n",
    "\n",
    "md.set_input_dataset(\"damage\", building_damage_result)\n",
    "# Damage ratio file\n",
    "md.load_remote_input_dataset(\"dmg_ratios\", \"5a284f2ec7d30d13bc08209a\")"
   ]
  },
  {
   "cell_type": "code",
   "execution_count": null,
   "metadata": {},
   "outputs": [],
   "source": [
    "md.set_parameter(\"result_name\", \"bldg_mean_dmg_seaside\")\n",
    "md.set_parameter(\"damage_interval_keys\", [\"insignific\", \"moderate\", \"heavy\", \"complete\"])\n",
    "md.set_parameter(\"num_cpu\", 1)"
   ]
  },
  {
   "cell_type": "code",
   "execution_count": null,
   "metadata": {},
   "outputs": [],
   "source": [
    "md.run_analysis()\n",
    "mean_damage_result = md.get_output_dataset('result')"
   ]
  },
  {
   "cell_type": "markdown",
   "metadata": {},
   "source": [
    "### Building economic loss"
   ]
  },
  {
   "cell_type": "code",
   "execution_count": null,
   "metadata": {},
   "outputs": [],
   "source": [
    "bldg_econ_dmg = BuildingEconLoss(client)\n",
    "# Set input datasets\n",
    "bldg_econ_dmg.set_input_dataset(\"damage\", building_damage_result)\n",
    "\n",
    "# Load Seaside building inventory from cache\n",
    "bldg_econ_dmg.load_remote_input_dataset(\"buildings\", bldgs_id)\n",
    "# Get consumer price index\n",
    "consumer_price_idx = \"5f487cc852147a614c708039\"\n",
    "bldg_econ_dmg.load_remote_input_dataset(\"consumer_price_index\", consumer_price_idx)"
   ]
  },
  {
   "cell_type": "code",
   "execution_count": null,
   "metadata": {},
   "outputs": [],
   "source": [
    "# set parameters\n",
    "bldg_econ_dmg.set_parameter(\"result_name\", result_name)\n",
    "bldg_econ_dmg.set_parameter(\"num_cpu\", 1)\n",
    "\n",
    "result_name = \"seaside_bldg_econ_loss\""
   ]
  },
  {
   "cell_type": "code",
   "execution_count": null,
   "metadata": {},
   "outputs": [],
   "source": [
    "# Run analysis and show results\n",
    "bldg_econ_dmg.run_analysis()\n",
    "bldg_econ_dmg.get_output_dataset('result').get_dataframe_from_csv()"
   ]
  }
 ],
 "metadata": {
  "kernelspec": {
   "display_name": "Python 3",
   "language": "python",
   "name": "python3"
  },
  "language_info": {
   "codemirror_mode": {
    "name": "ipython",
    "version": 3
   },
   "file_extension": ".py",
   "mimetype": "text/x-python",
   "name": "python",
   "nbconvert_exporter": "python",
   "pygments_lexer": "ipython3",
   "version": "3.7.8"
  }
 },
 "nbformat": 4,
 "nbformat_minor": 4
}
