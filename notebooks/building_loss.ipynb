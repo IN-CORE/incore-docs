{
 "cells": [
  {
   "cell_type": "code",
   "execution_count": null,
   "metadata": {},
   "outputs": [],
   "source": [
    "from pyincore import IncoreClient, FragilityService, MappingSet\n",
    "from pyincore.analyses.meandamage import MeanDamage\n",
    "from pyincore.analyses.buildingeconloss import BuildingEconLoss"
   ]
  },
  {
   "cell_type": "code",
   "execution_count": null,
   "metadata": {},
   "outputs": [],
   "source": [
    "client = IncoreClient()"
   ]
  },
  {
   "cell_type": "markdown",
   "metadata": {},
   "source": [
    "### Stert with building damage"
   ]
  },
  {
   "cell_type": "markdown",
   "metadata": {},
   "source": [
    "We are going to run three chained analyses, Building damage, Mean damage and finally Building economic loss. The output of one analysis is used as an input of the other. \n",
    "\n",
    "The example inventory is Seaside, OR."
   ]
  },
  {
   "cell_type": "code",
   "execution_count": null,
   "metadata": {},
   "outputs": [],
   "source": [
    "from pyincore.analyses.buildingdamage import BuildingDamage\n",
    "bldg_dmg = BuildingDamage(client)"
   ]
  },
  {
   "cell_type": "code",
   "execution_count": null,
   "metadata": {},
   "outputs": [],
   "source": [
    "# Seaside, OR building inventory\n",
    "bldgs_id = \"5bcf2fcbf242fe047ce79dad\"\n",
    "bldg_dmg.load_remote_input_dataset(\"buildings\", bldgs_id)\n",
    "\n",
    "# Load fragility mapping\n",
    "fragility_service = FragilityService(client)\n",
    "# Earthquake retrofitted building mappings\n",
    "mapping_set = MappingSet(fragility_service.get_mapping(\"5d2789dbb9219c3c553c7977\"))\n",
    "bldg_dmg.set_input_dataset(\"dfr3_mapping_set\", mapping_set)"
   ]
  },
  {
   "cell_type": "code",
   "execution_count": null,
   "metadata": {
    "collapsed": false,
    "jupyter": {
     "outputs_hidden": false
    },
    "pycharm": {
     "name": "#%%\n"
    }
   },
   "outputs": [],
   "source": [
    "# Seaside probabilistic earthquake 10000yr \n",
    "bldg_dmg.set_parameter(\"hazard_type\", \"earthquake\")\n",
    "bldg_dmg.set_parameter(\"hazard_id\", \"5ba8f379ec2309043520906f\")\n",
    "bldg_dmg.set_parameter(\"num_cpu\", 1)"
   ]
  },
  {
   "cell_type": "code",
   "execution_count": null,
   "metadata": {
    "collapsed": false,
    "jupyter": {
     "outputs_hidden": false
    },
    "pycharm": {
     "name": "#%%\n"
    }
   },
   "outputs": [],
   "source": [
    "bldg_dmg.set_parameter(\"result_name\", \"bldg_dmg_seaside\")\n",
    "bldg_dmg.set_parameter(\"fragility_key\", \"Non-Retrofit Fragility ID Code\")\n",
    "\n",
    "bldg_dmg.run_analysis()\n",
    "building_damage_result = bldg_dmg.get_output_dataset(\"ds_result\")"
   ]
  },
  {
   "cell_type": "markdown",
   "metadata": {},
   "source": [
    "### Mean damage"
   ]
  },
  {
   "cell_type": "code",
   "execution_count": null,
   "metadata": {},
   "outputs": [],
   "source": [
    "md = MeanDamage(client)\n",
    "\n",
    "md.set_input_dataset(\"damage\", building_damage_result)\n",
    "# Damage ratio file\n",
    "md.load_remote_input_dataset(\"dmg_ratios\", \"5a284f2ec7d30d13bc08209a\")"
   ]
  },
  {
   "cell_type": "code",
   "execution_count": null,
   "metadata": {},
   "outputs": [],
   "source": [
    "md.set_parameter(\"result_name\", \"bldg_mean_dmg_seaside\")\n",
    "md.set_parameter(\"damage_interval_keys\", [\"DS_0\", \"DS_1\", \"DS_2\", \"DS_3\"])\n",
    "md.set_parameter(\"num_cpu\", 1)"
   ]
  },
  {
   "cell_type": "code",
   "execution_count": null,
   "metadata": {},
   "outputs": [],
   "source": [
    "md.run_analysis()\n",
    "mean_damage_result = md.get_output_dataset('result')"
   ]
  },
  {
   "cell_type": "markdown",
   "metadata": {},
   "source": [
    "### Building economic loss"
   ]
  },
  {
   "cell_type": "code",
   "execution_count": null,
   "metadata": {},
   "outputs": [],
   "source": [
    "bldg_econ_dmg = BuildingEconLoss(client)\n",
    "# Set input datasets\n",
    "bldg_econ_dmg.set_input_dataset(\"building_mean_dmg\", mean_damage_result)\n",
    "    \n",
    "# Load Seaside building inventory from cache\n",
    "bldg_econ_dmg.load_remote_input_dataset(\"buildings\", bldgs_id)"
   ]
  },
  {
   "cell_type": "code",
   "execution_count": null,
   "outputs": [],
   "source": [
    "# Load Occupancy Multiplier for structural damage\n",
    "bldg_occupancy_mult_id = \"61f3fc2f3ed7dd5c873bf9e7\"\n",
    "bldg_econ_dmg.load_remote_input_dataset(\"occupancy_multiplier\", bldg_occupancy_mult_id)"
   ],
   "metadata": {
    "collapsed": false,
    "pycharm": {
     "name": "#%%\n"
    }
   }
  },
  {
   "cell_type": "code",
   "execution_count": null,
   "metadata": {},
   "outputs": [],
   "source": [
    "# set parameters\n",
    "# Inflation factor. A user must supply the inflation percentage between\n",
    "# building appraisal year and a year of interest (current, date of hazard etc.)\n",
    "bldg_econ_dmg.set_parameter(\"inflation_factor\", 2.5)\n",
    "\n",
    "result_name = \"seaside_bldg_econ_loss\"\n",
    "bldg_econ_dmg.set_parameter(\"result_name\", result_name)"
   ]
  },
  {
   "cell_type": "code",
   "execution_count": null,
   "metadata": {},
   "outputs": [],
   "source": [
    "# Run analysis and show results\n",
    "bldg_econ_dmg.run_analysis()\n"
   ]
  },
  {
   "cell_type": "code",
   "execution_count": null,
   "outputs": [],
   "source": [
    "# Retrieve result dataset\n",
    "result = bldg_econ_dmg.get_output_dataset(\"result\")\n",
    "\n",
    "# Convert dataset to Pandas DataFrame\n",
    "df = result.get_dataframe_from_csv(low_memory=False)\n",
    "\n",
    "# Display top 5 rows of output data\n",
    "df.head()\n"
   ],
   "metadata": {
    "collapsed": false,
    "pycharm": {
     "name": "#%%\n"
    }
   }
  }
 ],
 "metadata": {
  "kernelspec": {
   "display_name": "Python 3",
   "language": "python",
   "name": "python3"
  },
  "language_info": {
   "codemirror_mode": {
    "name": "ipython",
    "version": 3
   },
   "file_extension": ".py",
   "mimetype": "text/x-python",
   "name": "python",
   "nbconvert_exporter": "python",
   "pygments_lexer": "ipython3",
   "version": "3.7.10"
  }
 },
 "nbformat": 4,
 "nbformat_minor": 4
}