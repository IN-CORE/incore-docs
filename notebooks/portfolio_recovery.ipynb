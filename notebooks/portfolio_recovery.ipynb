{
 "cells": [
  {
   "cell_type": "code",
   "execution_count": null,
   "metadata": {},
   "outputs": [],
   "source": [
    "from pyincore.analyses.buildingportfolio import BuildingPortfolioRecoveryAnalysis\n",
    "\n",
    "from pyincore import IncoreClient"
   ]
  },
  {
   "cell_type": "code",
   "execution_count": null,
   "metadata": {},
   "outputs": [],
   "source": [
    "client = IncoreClient()"
   ]
  },
  {
   "cell_type": "code",
   "execution_count": null,
   "metadata": {},
   "outputs": [],
   "source": [
    "bldg_data_dataset = \"5c756966c11bb369a33a0b0a\"\n",
    "occupancy_dataset = \"5c7569f9c11bb369a33a0b16\"\n",
    "bldg_damage_dataset = \"5c756a2fc11bb369a33a0b22\"\n",
    "mean_repair_dataset = \"5c756ac5c11bb369a33a0b34\"\n",
    "utility_dataset = \"5c756af4c11bb369a33a0b40\"\n",
    "utility_partial_dataset = \"5c756b1ec11bb369a33a0b4c\"\n",
    "coefFL_dataset = \"5c756b56c11bb369a33a0b58\""
   ]
  },
  {
   "cell_type": "code",
   "execution_count": null,
   "metadata": {},
   "outputs": [],
   "source": [
    "bldg_portfolio_recovery = BuildingPortfolioRecoveryAnalysis(client)\n",
    "bldg_portfolio_recovery.set_parameter(\"uncertainty\", True)\n",
    "bldg_portfolio_recovery.set_parameter(\"sample_size\", 35)  # default none. Gets size form input dataset\n",
    "bldg_portfolio_recovery.set_parameter(\"random_sample_size\", 50)  # default 10000\n",
    "bldg_portfolio_recovery.set_parameter(\"no_of_weeks\", 100)  # default 250\n",
    "bldg_portfolio_recovery.set_parameter(\"result_name\", \"memphis\")\n",
    "# bldg_portfolio_recovery.set_parameter(\"num_cpu\", 1) Parallelization isn't implemented"
   ]
  },
  {
   "cell_type": "code",
   "execution_count": null,
   "metadata": {},
   "outputs": [],
   "source": [
    "bldg_portfolio_recovery.load_remote_input_dataset(\"building_data\", bldg_data_dataset)\n",
    "bldg_portfolio_recovery.load_remote_input_dataset(\"occupancy_mapping\", occupancy_dataset)\n",
    "bldg_portfolio_recovery.load_remote_input_dataset(\"building_damage\", bldg_damage_dataset)\n",
    "bldg_portfolio_recovery.load_remote_input_dataset(\"dmg_ratios\", mean_repair_dataset)\n",
    "bldg_portfolio_recovery.load_remote_input_dataset(\"utility\", utility_dataset)\n",
    "bldg_portfolio_recovery.load_remote_input_dataset(\"utility_partial\", utility_partial_dataset)\n",
    "bldg_portfolio_recovery.load_remote_input_dataset(\"coefFL\", coefFL_dataset)"
   ]
  },
  {
   "cell_type": "code",
   "execution_count": null,
   "metadata": {
    "scrolled": true
   },
   "outputs": [],
   "source": [
    "# Creates two output files building-recovery.csv and portfolio-recovery.csv\n",
    "bldg_portfolio_recovery.run_analysis()"
   ]
  },
  {
   "cell_type": "code",
   "execution_count": null,
   "metadata": {},
   "outputs": [],
   "source": [
    "bldg_portfolio_recovery.get_output_dataset(\"result\").get_dataframe_from_csv().head()"
   ]
  },
  {
   "cell_type": "code",
   "execution_count": null,
   "metadata": {},
   "outputs": [],
   "source": []
  }
 ],
 "metadata": {
  "kernelspec": {
   "display_name": "Python 3 (ipykernel)",
   "language": "python",
   "name": "python3"
  },
  "language_info": {
   "codemirror_mode": {
    "name": "ipython",
    "version": 3
   },
   "file_extension": ".py",
   "mimetype": "text/x-python",
   "name": "python",
   "nbconvert_exporter": "python",
   "pygments_lexer": "ipython3",
   "version": "3.11.6"
  }
 },
 "nbformat": 4,
 "nbformat_minor": 4
}
