{
 "cells": [
  {
   "cell_type": "code",
   "execution_count": null,
   "id": "08358482",
   "metadata": {},
   "outputs": [],
   "source": [
    "from pyincore import IncoreClient, FragilityService, MappingSet, Dataset, DataService, NetworkDataset\n",
    "from pyincore.analyses.epnfunctionality import EpnFunctionality\n",
    "from pyincore.analyses.epfdamage import EpfDamage\n",
    "from pyincore.analyses.montecarlofailureprobability import MonteCarloFailureProbability"
   ]
  },
  {
   "cell_type": "code",
   "execution_count": null,
   "id": "7d9aed91",
   "metadata": {},
   "outputs": [],
   "source": [
    "# Connect to IN-CORE Service\n",
    "client = IncoreClient()\n",
    "client.clear_cache()\n",
    "data_service = DataService(client)"
   ]
  },
  {
   "cell_type": "markdown",
   "id": "e710bc94",
   "metadata": {},
   "source": [
    "### Retreive EPN dataset"
   ]
  },
  {
   "cell_type": "code",
   "execution_count": null,
   "id": "799b4cb8",
   "metadata": {},
   "outputs": [],
   "source": [
    "epn_network_dataset = Dataset.from_data_service(\"62d85b399701070dbf8c65fe\", data_service)\n",
    "epn_network = NetworkDataset.from_dataset(epn_network_dataset)\n",
    "epf_dataset = epn_network.nodes"
   ]
  },
  {
   "cell_type": "markdown",
   "id": "9e219774",
   "metadata": {},
   "source": [
    "### Electric Power Facility Damage"
   ]
  },
  {
   "cell_type": "code",
   "execution_count": null,
   "id": "b81ffd6c",
   "metadata": {},
   "outputs": [],
   "source": [
    "epf_dmg = EpfDamage(client)\n",
    "epf_dmg.set_input_dataset(\"epfs\", epf_dataset)\n",
    "\n",
    "fragility_service = FragilityService(client)\n",
    "mapping_set = MappingSet(fragility_service.get_mapping(\"5b47be62337d4a37b6197a3a\"))\n",
    "epf_dmg.set_input_dataset(\"dfr3_mapping_set\", mapping_set)\n",
    "\n",
    "epf_dmg.set_parameter(\"result_name\", \"hazus_epf_dmg_result\")\n",
    "epf_dmg.set_parameter(\"hazard_type\", \"earthquake\")\n",
    "epf_dmg.set_parameter(\"hazard_id\", \"5b902cb273c3371e1236b36b\")\n",
    "epf_dmg.set_parameter(\"num_cpu\", 1)\n",
    "# Run Analysis\n",
    "epf_dmg.run_analysis()"
   ]
  },
  {
   "cell_type": "code",
   "execution_count": null,
   "id": "0aa6926c",
   "metadata": {},
   "outputs": [],
   "source": [
    "# Retrieve result dataset\n",
    "epf_dmg_result = epf_dmg.get_output_dataset(\"result\")\n",
    "\n",
    "# Convert dataset to Pandas DataFrame\n",
    "epf_dmg_df = epf_dmg_result.get_dataframe_from_csv().head()\n",
    "\n",
    "# Display top 5 rows of output data\n",
    "epf_dmg_df.head()"
   ]
  },
  {
   "cell_type": "markdown",
   "id": "ada6ddf6",
   "metadata": {},
   "source": [
    "### Chaining with Monte Carlo Simulation"
   ]
  },
  {
   "cell_type": "code",
   "execution_count": null,
   "id": "f91c95c7",
   "metadata": {},
   "outputs": [],
   "source": [
    "mc_ep = MonteCarloFailureProbability(client)\n",
    "mc_ep.set_input_dataset(\"damage\", epf_dmg_result)\n",
    "mc_ep.set_parameter(\"result_name\", \"epf_dmg_mc\")\n",
    "mc_ep.set_parameter(\"num_cpu\", 8)\n",
    "\n",
    "num_sample = 1000\n",
    "mc_ep.set_parameter(\"num_samples\", num_sample)\n",
    "mc_ep.set_parameter(\"damage_interval_keys\", [\"DS_0\", \"DS_1\", \"DS_2\", \"DS_3\", \"DS_4\"])\n",
    "mc_ep.set_parameter(\"failure_state_keys\", [\"DS_3\", \"DS_4\"])\n",
    "mc_ep.run_analysis()"
   ]
  },
  {
   "cell_type": "code",
   "execution_count": null,
   "id": "4726ad07",
   "metadata": {},
   "outputs": [],
   "source": [
    "epf_dmg_fs = mc_ep.get_output_dataset(\"sample_failure_state\")\n",
    "epf_dmg_fs.get_dataframe_from_csv().head()"
   ]
  },
  {
   "cell_type": "markdown",
   "id": "2426a1a0",
   "metadata": {},
   "source": [
    "### Chaining with EPN functionality analysis"
   ]
  },
  {
   "cell_type": "code",
   "execution_count": null,
   "id": "b9fec71e",
   "metadata": {},
   "outputs": [],
   "source": [
    "epn_func = EpnFunctionality(client)\n",
    "epn_func.set_input_dataset(\"epn_network\", epn_network_dataset)\n",
    "epn_func.set_input_dataset(\"epf_sample_failure_state\", epf_dmg_fs)\n",
    "\n",
    "epn_func.set_parameter(\"result_name\", \"mmsa_epn_functionality\")\n",
    "epn_func.set_parameter(\"gate_station_node_list\", [1, 2, 3, 4, 5, 6, 7, 8, 9])\n",
    "\n",
    "# Run Analysis\n",
    "epn_func.run_analysis()"
   ]
  },
  {
   "cell_type": "code",
   "execution_count": null,
   "id": "be165443",
   "metadata": {},
   "outputs": [],
   "source": [
    "epn_func.get_output_dataset(\"failure_probability\").get_dataframe_from_csv().head()"
   ]
  },
  {
   "cell_type": "code",
   "execution_count": null,
   "id": "d4063868",
   "metadata": {},
   "outputs": [],
   "source": [
    "epn_func.get_output_dataset(\"sample_failure_state\").get_dataframe_from_csv().head()"
   ]
  },
  {
   "cell_type": "code",
   "execution_count": null,
   "id": "7810ce37",
   "metadata": {},
   "outputs": [],
   "source": []
  }
 ],
 "metadata": {
  "kernelspec": {
   "display_name": "Python 3 (ipykernel)",
   "language": "python",
   "name": "python3"
  },
  "language_info": {
   "codemirror_mode": {
    "name": "ipython",
    "version": 3
   },
   "file_extension": ".py",
   "mimetype": "text/x-python",
   "name": "python",
   "nbconvert_exporter": "python",
   "pygments_lexer": "ipython3",
   "version": "3.8.13"
  }
 },
 "nbformat": 4,
 "nbformat_minor": 5
}
