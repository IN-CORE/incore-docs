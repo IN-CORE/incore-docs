{
 "cells": [
  {
   "cell_type": "markdown",
   "id": "d9aca10c-9c23-44e9-ac42-621fed49a17e",
   "metadata": {},
   "source": [
    "# Buyout Decision Notebook"
   ]
  },
  {
   "cell_type": "markdown",
   "id": "c406516e-d1b1-4626-8780-67874fcb2e6a",
   "metadata": {},
   "source": [
    "## Authors:\n",
    "- Farinaz Motlagh, Stony Brook University\n",
    "- Sara Hamideh, Stony Brook University"
   ]
  },
  {
   "cell_type": "code",
   "execution_count": null,
   "id": "48bad017",
   "metadata": {},
   "outputs": [],
   "source": [
    "import geopandas as gpd\n",
    "import numpy as np \n",
    "import matplotlib.pyplot as plt \n",
    "import matplotlib.image as mpimg\n",
    "from matplotlib.colors import ListedColormap,LinearSegmentedColormap\n",
    "import pandas as pd \n",
    "from osgeo import gdal\n",
    "import rasterio\n",
    "from rasterio.features import rasterize\n",
    "from rasterio.mask import mask\n",
    "import random\n",
    "from shapely.geometry import Point\n",
    "from shapely.wkt import loads\n",
    "from matplotlib.table import Table\n",
    "from IPython.display import display, Markdown\n",
    "from geopy.distance import great_circle\n",
    "from heapq import nsmallest\n",
    "from geopy.distance import geodesic\n",
    "from itertools import combinations\n",
    "import seaborn as sns\n",
    "import contextily as ctx\n",
    "\n",
    "from pyincore import IncoreClient, DataService, Dataset, FragilityService, MappingSet\n",
    "from pyincore.utils.dataprocessutil import DataProcessUtil\n",
    "# importing pyIncone analyses:\n",
    "from pyincore.analyses.buildingdamage import BuildingDamage\n",
    "from pyincore.analyses.combinedwindwavesurgebuildingdamage import CombinedWindWaveSurgeBuildingDamage\n",
    "from pyincore.analyses.populationdislocation import PopulationDislocation"
   ]
  },
  {
   "cell_type": "code",
   "execution_count": null,
   "id": "1de89ff9-5ffe-46f2-be6e-161738c23023",
   "metadata": {},
   "outputs": [],
   "source": [
    "pd.set_option('display.float_format', lambda x: '%.3f' % x)\n",
    "pd.set_option('display.max_colwidth', None)\n",
    "pd.set_option('display.expand_frame_repr', False)"
   ]
  },
  {
   "cell_type": "code",
   "execution_count": null,
   "id": "41e77fa8-f7ad-4923-904b-5af9307de1e7",
   "metadata": {},
   "outputs": [],
   "source": [
    "# Connect to IN-CORE Services\n",
    "client = IncoreClient()\n",
    "\n",
    "data_service = DataService(client)"
   ]
  },
  {
   "cell_type": "markdown",
   "id": "42e6c5f3-38da-4164-a972-dd87dc3a94fe",
   "metadata": {},
   "source": [
    "# Data preparation"
   ]
  },
  {
   "cell_type": "code",
   "execution_count": null,
   "id": "e1b54457-f3d5-4bbd-9a03-67d7e5f83e2f",
   "metadata": {},
   "outputs": [],
   "source": [
    "# Loading Galveston building inventory\n",
    "bldg_dataset_id = \"63ff6b135c35c0353d5ed3ac\"\n",
    "buildings = Dataset.from_data_service(bldg_dataset_id, data_service)\n",
    "bld_invtry = buildings.get_dataframe_from_shapefile()\n",
    "bld_invtry.head()\n",
    "#bld_invtry.shape"
   ]
  },
  {
   "cell_type": "code",
   "execution_count": null,
   "id": "f6f5d310-6cbd-4bf4-9e1a-2b175983a41e",
   "metadata": {},
   "outputs": [],
   "source": [
    "# Removing any properties that have NaN values and values less than $1000 in column \"appr_bldg\"\n",
    "# (the threshold is based on Galveston County's tax assessor data for mobile homes)\n",
    "bld_invtry = bld_invtry[bld_invtry['appr_bldg'].notna() & (bld_invtry['appr_bldg'] >= 1000)]\n",
    "#bld_invtry.shape"
   ]
  },
  {
   "cell_type": "markdown",
   "id": "28d3a712-fec5-4871-af72-e5adb602acff",
   "metadata": {},
   "source": [
    "## Max damage state from Combined Building Damage Analyses"
   ]
  },
  {
   "cell_type": "markdown",
   "id": "f11cdf47-602d-4199-94cd-8226aecb968c",
   "metadata": {},
   "source": [
    "### TODO: Need to improve explanation and comments"
   ]
  },
  {
   "cell_type": "code",
   "execution_count": null,
   "id": "65aae72b-40d8-44a7-81d9-f61813597086",
   "metadata": {},
   "outputs": [],
   "source": [
    "def calculate_combined_building_damage(hazard_type, hazard_id, bldg_dataset_id, wind_mapping_id,\n",
    "                                      surge_wave_mapping_id, flood_mapping_id):\n",
    "\n",
    "    # Wind building damage\n",
    "    fragility_service = FragilityService(client)\n",
    "    wind_mapping_set = MappingSet(fragility_service.get_mapping(wind_mapping_id))\n",
    "    w_bldg_dmg = BuildingDamage(client)\n",
    "    w_bldg_dmg.load_remote_input_dataset(\"buildings\", bldg_dataset_id)\n",
    "    w_bldg_dmg.set_input_dataset('dfr3_mapping_set', wind_mapping_set)\n",
    "    w_bldg_dmg.set_parameter(\"result_name\", \"Galveston-wind-dmg\")\n",
    "    w_bldg_dmg.set_parameter(\"hazard_type\", hazard_type)\n",
    "    w_bldg_dmg.set_parameter(\"hazard_id\", hazard_id)\n",
    "    w_bldg_dmg.set_parameter(\"num_cpu\", 8)\n",
    "    w_bldg_dmg.run_analysis()\n",
    "\n",
    "    # surge-wave building damage\n",
    "    sw_bldg_dmg = BuildingDamage(client)\n",
    "    surge_wave_mapping_set = MappingSet(fragility_service.get_mapping(surge_wave_mapping_id))\n",
    "    sw_bldg_dmg.load_remote_input_dataset(\"buildings\", bldg_dataset_id)\n",
    "    sw_bldg_dmg.set_input_dataset('dfr3_mapping_set', surge_wave_mapping_set)\n",
    "    sw_bldg_dmg.set_parameter(\"result_name\", \"Galveston-sw-dmg\")\n",
    "    sw_bldg_dmg.set_parameter(\"hazard_type\", hazard_type)\n",
    "    sw_bldg_dmg.set_parameter(\"hazard_id\", hazard_id)\n",
    "    sw_bldg_dmg.set_parameter(\"num_cpu\", 8)\n",
    "    sw_bldg_dmg.run_analysis()\n",
    "\n",
    "    # Flood mapping damage\n",
    "    f_bldg_dmg = BuildingDamage(client)\n",
    "    flood_mapping_set = MappingSet(fragility_service.get_mapping(flood_mapping_id))\n",
    "    f_bldg_dmg = BuildingDamage(client)\n",
    "    f_bldg_dmg.load_remote_input_dataset(\"buildings\", bldg_dataset_id)\n",
    "    f_bldg_dmg.set_input_dataset('dfr3_mapping_set', flood_mapping_set)\n",
    "    f_bldg_dmg.set_parameter(\"result_name\", \"Galveston-flood-dmg\")\n",
    "    f_bldg_dmg.set_parameter(\"hazard_type\", hazard_type)\n",
    "    f_bldg_dmg.set_parameter(\"hazard_id\", hazard_id)\n",
    "    f_bldg_dmg.set_parameter(\"num_cpu\", 8)\n",
    "    f_bldg_dmg.run_analysis()\n",
    "\n",
    "    # Running combined damage analysis\n",
    "    surge_wave_damage = sw_bldg_dmg.get_output_dataset(\"ds_result\")\n",
    "    wind_damage = w_bldg_dmg.get_output_dataset(\"ds_result\")\n",
    "    flood_damage = f_bldg_dmg.get_output_dataset(\"ds_result\")\n",
    "    \n",
    "    combined_bldg_dmg = CombinedWindWaveSurgeBuildingDamage(client)\n",
    "    result_name = \"Galveston-combined-dmg\"\n",
    "    combined_bldg_dmg.set_input_dataset(\"surge_wave_damage\", surge_wave_damage)\n",
    "    combined_bldg_dmg.set_input_dataset(\"wind_damage\", wind_damage)\n",
    "    combined_bldg_dmg.set_input_dataset(\"flood_damage\", flood_damage)\n",
    "    combined_bldg_dmg.set_parameter(\"result_name\", result_name)\n",
    "    combined_bldg_dmg.run_analysis()\n",
    "\n",
    "    # Returning combined damage result \n",
    "    combined_dmg = combined_bldg_dmg.get_output_dataset(\"ds_result\")\n",
    "    combined_dmg_df = combined_dmg.get_dataframe_from_csv(low_memory=False)\n",
    "\n",
    "    return combined_dmg,combined_dmg_df"
   ]
  },
  {
   "cell_type": "markdown",
   "id": "721dd936-9e44-4a34-9628-b5c8d79162b6",
   "metadata": {},
   "source": [
    "## Get max damage states"
   ]
  },
  {
   "cell_type": "code",
   "execution_count": null,
   "id": "741655d3-ccbe-4dc7-8672-e3be325690ea",
   "metadata": {},
   "outputs": [],
   "source": [
    "# Hurricane Ike Building combined damage\n",
    "\n",
    "wind_mapping_id = \"62fef3a6cef2881193f2261d\"\n",
    "surge_wave_mapping_id = \"6303e51bd76c6d0e1f6be080\"\n",
    "flood_mapping_id = \"62fefd688a30d30dac57bbd7\"\n",
    "\n",
    "\n",
    "hazard_type = \"hurricane\"\n",
    "hazard_id = \"5fa5a228b6429615aeea4410\"\n",
    "bldg_dataset_id = \"63ff6b135c35c0353d5ed3ac\"\n",
    "\n",
    "combined_dmg_result,combined_dmg_ike = calculate_combined_building_damage(hazard_type, hazard_id, bldg_dataset_id, wind_mapping_id,\n",
    "                                      surge_wave_mapping_id, flood_mapping_id)"
   ]
  },
  {
   "cell_type": "code",
   "execution_count": null,
   "id": "fbc36ee3-5b62-4570-8fd0-ec264ce1376e",
   "metadata": {},
   "outputs": [],
   "source": [
    "# Hurricane Ike 100 year Building combined damage\n",
    "wind_mapping_id = \"62fef3a6cef2881193f2261d\"\n",
    "surge_wave_mapping_id = \"6303e51bd76c6d0e1f6be080\"\n",
    "flood_mapping_id = \"62fefd688a30d30dac57bbd7\"\n",
    "\n",
    "\n",
    "hazard_type = \"hurricane\"\n",
    "hazard_id = \"5fa5a9497e5cdf51ebf1add2\"\n",
    "bldg_dataset_id = \"63ff6b135c35c0353d5ed3ac\"\n",
    "\n",
    "_,combined_dmg_ike_100yrs = calculate_combined_building_damage(hazard_type, hazard_id, bldg_dataset_id, wind_mapping_id,\n",
    "                                      surge_wave_mapping_id, flood_mapping_id)"
   ]
  },
  {
   "cell_type": "code",
   "execution_count": null,
   "id": "2a050298-3cf9-4b29-bce0-dfeaac064614",
   "metadata": {},
   "outputs": [],
   "source": [
    "# Hurricane Ike's building damage model output\n",
    "ike = DataProcessUtil.get_max_damage_state(combined_dmg_ike)\n",
    "# Hurricane Ike's 100-year event output building damage model \n",
    "event_100year = DataProcessUtil.get_max_damage_state(combined_dmg_ike_100yrs)"
   ]
  },
  {
   "cell_type": "markdown",
   "id": "cd7abdd0-e07e-4b75-862d-c8a4e2abf270",
   "metadata": {},
   "source": [
    "### Selection Criterion 1: Past flooding\n",
    "#### - To identify buildings with past flooding, we'll use Hurricane Ike's hindcast model (hazard ID: 5fa5a228b6429615aeea4410)\n",
    "#### - Of all buildings in the building inventory, we are only interested in those with DS_3 state that are residential."
   ]
  },
  {
   "cell_type": "code",
   "execution_count": null,
   "id": "610a9bfd-3f65-4449-8402-bdd7dc6a85cc",
   "metadata": {},
   "outputs": [],
   "source": [
    "# Merging Ike's damage states with building inventory using guid\n",
    "ike_invtry = pd.merge(bld_invtry, ike, on='guid', how='outer')\n",
    "#ike_invtry.shape"
   ]
  },
  {
   "cell_type": "code",
   "execution_count": null,
   "id": "5731abdc-7959-42cc-8908-07b941d36f4c",
   "metadata": {},
   "outputs": [],
   "source": [
    "cluster = Dataset.from_data_service(\"63dc1f1362b9d001e6a1b485\", data_service).get_dataframe_from_csv()\n",
    "cluster.head()"
   ]
  },
  {
   "cell_type": "code",
   "execution_count": null,
   "id": "ee2d5d77-f4e6-4f17-882a-81665a1dd492",
   "metadata": {},
   "outputs": [],
   "source": [
    "# Keeping only residential buildings (identified from the arch_wind column)\n",
    "ike_invtry = ike_invtry[ike_invtry['arch_wind'].isin([1, 2, 3, 4, 5, 17])]\n",
    "#ike_invtry.shape"
   ]
  },
  {
   "cell_type": "code",
   "execution_count": null,
   "id": "6e4c288d-7e84-4fbe-acfb-f984c5d9bfbd",
   "metadata": {},
   "outputs": [],
   "source": [
    "ike_invtry = ike_invtry.rename(columns={'max_state': 'max_state_ike'})"
   ]
  },
  {
   "cell_type": "code",
   "execution_count": null,
   "id": "36fe0029-d2cc-4a8f-a184-77241a845514",
   "metadata": {},
   "outputs": [],
   "source": [
    "# Removing properties with damage states 0, 1, 2 and Keeping buildings with complete damage (DS_3)\n",
    "ike_invtry_ds3 = ike_invtry[ike_invtry['max_state_ike'] == 'DS_3']\n",
    "#ike_invtry_ds3.shape"
   ]
  },
  {
   "cell_type": "markdown",
   "id": "eaff8efc-efa7-45ad-a224-bb45e766b897",
   "metadata": {},
   "source": [
    "### Selection Criterion 2: Predicted (future) flooding\n",
    "#### - To identify buildings with future/predicted flooding, we'll use the 100-year simulation model (hazard ID: 5fa5a9497e5cdf51ebf1add2) and merge it with \n",
    "#### - Of all buildings in the building inventory, we are only interested in those with DS_3 state that are residential."
   ]
  },
  {
   "cell_type": "code",
   "execution_count": null,
   "id": "92216f7c-0932-422c-823e-858029033f63",
   "metadata": {},
   "outputs": [],
   "source": [
    "# Merging 100-year event output with Ike's outout\n",
    "ike_100year = pd.merge(event_100year, ike_invtry_ds3, on='guid', how='inner')\n",
    "#ike_100year_invtry.shape"
   ]
  },
  {
   "cell_type": "code",
   "execution_count": null,
   "id": "fc71640f-fb0b-4a26-940c-ed3701766f5d",
   "metadata": {},
   "outputs": [],
   "source": [
    "ike_100year = ike_100year.rename(columns={'max_state': 'max_state_100year'})"
   ]
  },
  {
   "cell_type": "code",
   "execution_count": null,
   "id": "e057c070-6b53-4932-959f-6a8a1b5a9204",
   "metadata": {},
   "outputs": [],
   "source": [
    "# Only keeping buildings with projected complete damages (DS_3) due to the 100-year event\n",
    "ike_100year_ds3 = ike_100year[ike_100year['max_state_100year'] == 'DS_3']\n",
    "#ike_100year_ds3.shape"
   ]
  },
  {
   "cell_type": "markdown",
   "id": "7c0f035a-cc0a-448a-816a-db0c4d75b369",
   "metadata": {},
   "source": [
    "### Selection Criterion 3: Reality check\n",
    "#### - Making sure the appraisal value of selected properties from previous step falls within FEMA's previously funded buyout projects \n",
    "#### - Removing any properties with \"appr_bldg\" value more than 321291.600 (this value is based on FEMA's HMA properties dataset with 50 - 99% damages cap for Texas after removing outliers -  and shows the maximum purchase offer to residential buildings owners from 2000 to 2020)"
   ]
  },
  {
   "cell_type": "code",
   "execution_count": null,
   "id": "a6f62dd0-a5e2-4832-bf59-3e41ce96c191",
   "metadata": {},
   "outputs": [],
   "source": [
    "ike_100year_ds3_below_fema_cap = ike_100year_ds3[ike_100year_ds3['appr_bldg'] <= 321291.600]\n",
    "ike_100year_ds3_below_fema_cap = ike_100year_ds3_below_fema_cap[[\"guid\",\"appr_bldg\",\"max_state_100year\",\"max_state_ike\",\"geometry\"]]"
   ]
  },
  {
   "cell_type": "code",
   "execution_count": null,
   "id": "febd1406-0169-4f1b-8358-94efda415b25",
   "metadata": {},
   "outputs": [],
   "source": [
    "ike_100year_ds3_below_fema_cap.head()"
   ]
  },
  {
   "cell_type": "code",
   "execution_count": null,
   "id": "ba573850-49fc-4e00-9f28-b5a152851cb7",
   "metadata": {},
   "outputs": [],
   "source": [
    "hua_id = \"63ff8e895367c2261b4cb2ef\"\n",
    "hua = Dataset.from_data_service(hua_id, data_service).get_dataframe_from_csv()\n",
    "hua.head()"
   ]
  },
  {
   "cell_type": "code",
   "execution_count": null,
   "id": "ccbdd79d-c213-4956-9a44-ae0c2440700a",
   "metadata": {},
   "outputs": [],
   "source": [
    "# Merging housing unit allocation with selected properties guids\n",
    "hua_ike_100year_ds3_below_fema_cap = pd.merge(ike_100year_ds3_below_fema_cap, hua, on='guid', how='left')\n",
    "#hua_ike_100year_ds3_below_fema_cap.shape"
   ]
  },
  {
   "cell_type": "code",
   "execution_count": null,
   "id": "fe9144b4-3d7b-4639-94ec-131ca8b58c44",
   "metadata": {},
   "outputs": [],
   "source": [
    "# Excluding observations with \"numprec\" 0 or blank\n",
    "hua_ike_100year_ds3_below_fema_cap = hua_ike_100year_ds3_below_fema_cap.loc[(hua_ike_100year_ds3_below_fema_cap['numprec'] != 0) & (~hua_ike_100year_ds3_below_fema_cap['numprec'].isna())]\n",
    "#hua_ike_100year_ds3_below_fema_cap.shape"
   ]
  },
  {
   "cell_type": "code",
   "execution_count": null,
   "id": "eafbe645-0cd1-4f38-9982-40a0c00231e6",
   "metadata": {},
   "outputs": [],
   "source": [
    "# Removing any rows with NAN values in column \"Race\"\n",
    "hua_ike_100year_ds3_below_fema_cap = hua_ike_100year_ds3_below_fema_cap.dropna(subset=['race'])"
   ]
  },
  {
   "cell_type": "code",
   "execution_count": null,
   "id": "44a6272b-997c-4108-b10b-427a4fea8d8c",
   "metadata": {},
   "outputs": [],
   "source": [
    "# Renaming the columns\n",
    "hua_ike_100year_ds3_below_fema_cap = hua_ike_100year_ds3_below_fema_cap.rename(columns={'geometry_x': 'geometry_bldg_invtry', 'geometry_y': 'geometry_hua'})"
   ]
  },
  {
   "cell_type": "markdown",
   "id": "923e0864-7229-4d32-8fee-155a45fc46dd",
   "metadata": {},
   "source": [
    "### Population Dislocation"
   ]
  },
  {
   "cell_type": "code",
   "execution_count": null,
   "id": "a9e566a0-db1c-4443-aad1-bf03e44d3962",
   "metadata": {},
   "outputs": [],
   "source": [
    "value_loss = \"60354810e379f22e16560dbd\"\n",
    "bg_data = \"603545f2dcda03378087e708\"\n",
    "result_name = f\"galveston-pop-disl-results_combined_damage\"\n",
    "seed = 1111\n",
    "pop_dis = PopulationDislocation(client)\n",
    "\n",
    "pop_dis.set_input_dataset(\"building_dmg\", combined_dmg_result)\n",
    "pop_dis.set_parameter(\"result_name\", result_name)\n",
    "pop_dis.set_parameter(\"seed\", seed)\n",
    "\n",
    "pop_dis.load_remote_input_dataset(\"block_group_data\", bg_data)\n",
    "pop_dis.load_remote_input_dataset(\"value_loss_param\", value_loss)\n",
    "pop_dis.load_remote_input_dataset(\"housing_unit_allocation\", hua_id)\n",
    "\n",
    "pop_dis.run_analysis()\n",
    "\n",
    "population_dislocation_result = pop_dis.get_output_dataset(\"result\")\n",
    "dislocation = population_dislocation_result.get_dataframe_from_csv(low_memory=False)"
   ]
  },
  {
   "cell_type": "code",
   "execution_count": null,
   "id": "72d72179-ba45-4dd1-a3f6-613a65bb19f2",
   "metadata": {},
   "outputs": [],
   "source": [
    "# Merging with population dislocation model\n",
    "df_final = pd.merge(hua_ike_100year_ds3_below_fema_cap, dislocation[['huid', 'dislocated']], on='huid', how='left')\n",
    "#df_final.shape"
   ]
  },
  {
   "cell_type": "code",
   "execution_count": null,
   "id": "5c617bd3-7961-4397-85c1-a25e21fcb252",
   "metadata": {},
   "outputs": [],
   "source": [
    "df_final.head()"
   ]
  },
  {
   "cell_type": "code",
   "execution_count": null,
   "id": "8cf0ea59-c99f-4c5a-919f-2539155ea5f1",
   "metadata": {},
   "outputs": [],
   "source": [
    "# Converting the dataset to GeoDataFrame using the goemetry column \n",
    "df_final['geometry'] = df_final['geometry_bldg_invtry']\n",
    "df_final = gpd.GeoDataFrame(df_final, geometry='geometry')"
   ]
  },
  {
   "cell_type": "code",
   "execution_count": null,
   "id": "df7946b2-b501-4bc0-95ef-95bf52f040e2",
   "metadata": {},
   "outputs": [],
   "source": [
    "# We want to create a new column showing the appraisal value of each building ('appr_bldg' divided by the number of times a guid is repeated) \n",
    "# For the instances that a structure has more than one housing units.\n",
    "df_final['count'] = df_final.groupby('guid')['guid'].transform('count')\n",
    "df_final['housing_unit_appraisal_value'] = df_final['appr_bldg'] / df_final['count']"
   ]
  },
  {
   "cell_type": "code",
   "execution_count": null,
   "id": "f4d0ef32-2dea-4980-a3ed-185e16a4d6d4",
   "metadata": {},
   "outputs": [],
   "source": [
    "#df_final.columns"
   ]
  },
  {
   "cell_type": "code",
   "execution_count": null,
   "id": "8a8320ae-6118-456b-bf09-6c79d2c577a4",
   "metadata": {},
   "outputs": [],
   "source": [
    "# Dropping the unnecassary columns\n",
    "df_final = df_final.drop(['blockid','bgid','tractid','FIPScounty',\n",
    "                          'gqtype','BLOCKID10_str','placeNAME10','geometry_hua'], axis=1)"
   ]
  },
  {
   "cell_type": "code",
   "execution_count": null,
   "id": "96d43b5d-0be6-4c56-ab8f-a3e49185b939",
   "metadata": {},
   "outputs": [],
   "source": [
    "df_final.rename(columns={'appr_bldg':'building_appraisal_value','ownershp':'ownership',\n",
    "                         'dislocated_combined_dmg':'dislocated','count':'number_of_housing_units'}, inplace=True)"
   ]
  },
  {
   "cell_type": "code",
   "execution_count": null,
   "id": "fb66d91b-fb30-47c1-af10-ba82065f0cf5",
   "metadata": {},
   "outputs": [],
   "source": [
    "df_final = df_final[['guid', 'huid', 'building_appraisal_value', 'housing_unit_appraisal_value', 'geometry', 'number_of_housing_units',\n",
    "                     'numprec', 'ownership', 'race', 'hispan', 'family', 'vacancy', 'incomegroup', 'hhinc', 'randincome',\n",
    "                     'poverty', 'huestimate', 'dislocated' ,'max_state_100year', 'max_state_ike', 'x', 'y',]]"
   ]
  },
  {
   "cell_type": "markdown",
   "id": "3f1fac39-cb71-4014-8c08-f07715b00cad",
   "metadata": {},
   "source": [
    "## Results"
   ]
  },
  {
   "cell_type": "markdown",
   "id": "ace485e6-0836-4535-992b-7f066c48b009",
   "metadata": {},
   "source": [
    "### 1) Tenure status"
   ]
  },
  {
   "cell_type": "code",
   "execution_count": null,
   "id": "52f796f3-076b-4815-9281-af1a9dacf349",
   "metadata": {},
   "outputs": [],
   "source": [
    "df_final['ownership'] = df_final['ownership'].replace({1: 'Owner', 2: 'Renter'})\n",
    "\n",
    "owners = (df_final['ownership'] == 'Owner').sum()\n",
    "renters = (df_final['ownership'] == 'Renter').sum()\n",
    "\n",
    "normal_offer_owners = round(df_final.loc[df_final['ownership'] == 'Owner', 'housing_unit_appraisal_value'].sum())\n",
    "normal_offer_renters = round(df_final.loc[df_final['ownership'] == 'Renter', 'housing_unit_appraisal_value'].sum())\n",
    "\n",
    "benefit_owner = df_final.loc[(df_final['dislocated'] == True) & (df_final['ownership'] == 'Owner'), 'dislocated'].sum()\n",
    "benefit_renter = df_final.loc[(df_final['dislocated'] == True) & (df_final['ownership'] == 'Renter'), 'dislocated'].sum()\n",
    "\n",
    "\n",
    "ownership_summary = {\n",
    "    '': ['# candidate housing units', 'Total purchase offer', 'Potential benefits (# people not dislocated by a simulated 100-year event)',\n",
    "         'Potential challenges', 'Potential consequences', 'Equity considerations'],\n",
    "    'Owners': [owners, f\"${normal_offer_owners:,.2f}\", benefit_owner,\n",
    "                '(1) Program participation depends on financial standing, place-based attachments, risk perception, flood exposure, family composition, and community ties. <br/>'+\n",
    "                '(2) Homeowners are less likely to participate if they have a mortgage. <br/>'+\n",
    "                '(3) Elderly homeowners (with paid off mortgages) may oppose relocation, due to unwillingness to take out a second mortgage for a more expensive home and place-based attachments. <br/>'+\n",
    "                '(4) Homeowners tend to decline offers if their property has undergone improvements, as home improvements are not factored into the market value. <br/>'+\n",
    "                '(5) Lower chance of accepting an offer if cost sharing is required. <br/>'+\n",
    "                '(6) Lower chance of accepting an offer if their house has undergone repair and reconstruction.'\n",
    "                '(7) Owners of substantially damaged properties may have limited post-disaster rebuilding options. While eminent domain is prohibited in buyout programs, the owners  are legally restricted from rebuilding unless they flood-proof the structure or relocate, increasing their participation likelihood. <br/>'+\n",
    "                '(8) Homeowners are less inclined to participate if the purchase offer is lower than their expected property value. <br/>'+\n",
    "                '(9) Homeowners with inadequate property documentation are less likely to participate.', \n",
    "                '(1) Possibility of unaffordable housing options upon relocation <br/>'+\n",
    "                '(2) Losing social network if relocated outside their community', \n",
    "                '(1) Sufficient financial incentives can alleviate post-buyout financial burdens and encourage program participation. <br/>'+\n",
    "                '(2) Up to $22,500 compensation under URA for additional payments such as comparable homes, closing costs, or increased interest costs. <br/>'+\n",
    "                '(3) Basement coverage through FEMA’s NFIP is limited, and compensation may be needed for contents such as washer, dryer, TV, or food freezer. <br/>'+\n",
    "                '(4) Consider funding for mental health support of household members who experienced flooding. <br/>'+\n",
    "                '(5) Fostering relationships with residents and community organizations is vital to establish trust and make buyouts more favorable. <br/>'+\n",
    "                '(6) Consider conducting longitudinal health studies to assess and address potential physical and mental health implications for participants undergoing the relocation processes in buyout projects. <br/>'+\n",
    "                '(7) Partnering with community-based organizations and assigning local relocation specialists helps to ensuring an equitable and supportive buyout process, given their role in navigating and addressing the complexities of relocation. <br/>'+\n",
    "                '(8) To counter tax base losses from buyouts, program administrators can incentivize owners to relocate within the county but outside floodplains. <br/>'+\n",
    "                '(9) If a participating household owes a mortgage, FEMA may pay residual funds after they pay the lienholder. <br/>'+\n",
    "                '(10) Effective risk communication does not always lead to protective actions like participating in a buyout program. Homeowners responses depend on assessing benefits and their ability to act. Thus, sharing information on buyout benefits, resources like temporary housing options, and available compensations increases confidence in homeowners ability to afford and undergo buyouts.'],    \n",
    "    'Renters': [renters, f\"${normal_offer_renters:,.2f}\", benefit_renter,\n",
    "                '(1) Renters-occupied homes are less likely to undergo buyouts. <br/>'+\n",
    "                '(2) Foreign national renters are ineligible for federal relocation benefits and post-buyout assistance, intensifying challenges for local governments in providing alternative solutions.',\n",
    "                '(1) Mandatory relocation <br/>'+\n",
    "                '(2) Financial burden <br/>'+\n",
    "                '(3) Higher chance of relocating to areas with equal or greater flood exposure and higher social vulnerability <br/>'+\n",
    "                '(4) Losing social networks if relocated outside of the community <br/>'+\n",
    "                '(5) Lower ability to find affordable homes when relocated',  \n",
    "                '(1) Renters are less likely to carry flood insurance. Local governments may explore strategies to enhance coverage and overall disaster preparedness. <br/>'+\n",
    "                '(2) Under the URA of 1970, displaced tenants from a property (occupied for 90+ days) can receive a payment (up to $5,250) for renting another property for up to 42 months. <br/>'+\n",
    "                '(3) Consider funding for mental health support of household members who experienced flooding. <br/>'+\n",
    "                '(4) Consider conducting longitudinal health studies to assess and address potential physical and mental health implications for participants undergoing the relocation processes in buyout projects. <br/>'+\n",
    "                '(5) Partnering with community-based organizations and assigning local relocation specialists helps to ensuring an equitable and supportive buyout process, given their role in navigating and addressing the complexities of relocation.']\n",
    "}\n",
    "\n",
    "\n",
    "ownership_table = pd.DataFrame(ownership_summary, index=None)\n",
    "\n",
    "\n",
    "ownership_table = ownership_table.style.set_properties(\n",
    "    subset=ownership_table.columns[1:],  \n",
    "    **{'text-align': 'left'}\n",
    ").set_properties(\n",
    "    subset=ownership_table.columns[0], \n",
    "    **{'font-weight': 'bold', 'text-align': 'left'}\n",
    ").set_table_styles([\n",
    "    {'selector': 'th', 'props': [('text-align', 'center')]}\n",
    "])\n",
    "ownership_table"
   ]
  },
  {
   "cell_type": "code",
   "execution_count": null,
   "id": "d4a2eb3f-c3f8-4b88-9a24-78c8ef127107",
   "metadata": {},
   "outputs": [],
   "source": [
    "df_final.crs = \"EPSG:4326\"\n",
    "df_final = df_final.to_crs(epsg=3857)"
   ]
  },
  {
   "cell_type": "code",
   "execution_count": null,
   "id": "73fd6624-19ac-4a05-8be6-eeffab75b40b",
   "metadata": {},
   "outputs": [],
   "source": [
    "color_dict = {\n",
    "    'Owner': 'blue',\n",
    "    'Renter': 'red'\n",
    "}\n",
    "\n",
    "# Create a ListedColormap with your specific colors\n",
    "colors = [color_dict[ownership] for ownership in df_final['ownership'].unique()]\n",
    "cmap = ListedColormap(colors)\n",
    "\n",
    "df_final.explore(\n",
    "        column=\"ownership\", # column for archetype info\n",
    "        tooltip=\"ownership\", \n",
    "        geometry='geometry',\n",
    "        popup=True,\n",
    "        tiles='OpenStreetMap',\n",
    "        cmap=cmap,  # use \"Set1\" matplotlib colormap\n",
    "        legend_kwds = {\"caption\": \"Ownership\"},\n",
    "        marker_kwds= {'radius': 4}\n",
    ")"
   ]
  },
  {
   "cell_type": "markdown",
   "id": "19934a52-cb2d-469a-9fac-725f3ed3c8be",
   "metadata": {},
   "source": [
    "### 2) Owner-occupied homes broken down by owners' race"
   ]
  },
  {
   "cell_type": "code",
   "execution_count": null,
   "id": "1a5d469f-166b-49fd-9b2d-10fa70f58822",
   "metadata": {},
   "outputs": [],
   "source": [
    "white = df_final.loc[(df_final['race'] == 1) & (df_final['hispan'] == 0) & (df_final['ownership'] == 'Owner'), 'huid'].count()\n",
    "racial_minority = df_final.loc[(df_final['race'] >= 2) & (df_final['hispan'] == 0) & (df_final['ownership'] == 'Owner'), 'huid'].count()\n",
    "hisp = df_final.loc[(df_final['hispan'] == 1) & (df_final['ownership'] == 'Owner'), 'huid'].count()\n",
    "\n",
    "offer_owner_white = round(df_final.loc[(df_final['race'] == 1) & (df_final['hispan'] == 0) & (df_final['ownership'] == 'Owner'), 'housing_unit_appraisal_value'].sum())\n",
    "offer_owner_racial_minority = round(df_final.loc[(df_final['race'] >= 2) & (df_final['hispan'] == 0) & (df_final['ownership'] == 'Owner'), 'housing_unit_appraisal_value'].sum())\n",
    "offer_owner_hispan = round(df_final.loc[(df_final['hispan'] == 1) & (df_final['ownership'] == 'Owner'), 'housing_unit_appraisal_value'].sum())\n",
    "\n",
    "benefit_owner_white = df_final.loc[(df_final['dislocated'] == True) & (df_final['ownership'] == 'Owner') & (df_final['race'] == 1) & (df_final['hispan'] == 0), 'dislocated'].sum()\n",
    "benefit_owner_racial_minority = df_final.loc[(df_final['dislocated'] == True) & (df_final['ownership'] == 'Owner') & (df_final['race'] >= 2) & (df_final['hispan'] == 0), 'dislocated'].sum()\n",
    "benefit_owner_hispan = df_final.loc[(df_final['dislocated'] == True) & (df_final['ownership'] == 'Owner') & (df_final['hispan'] == 1), 'dislocated'].sum()\n",
    "\n",
    "# NOTE: Equity considerations are similar for all homeowners\n",
    "tenure_race_summary = {\n",
    "    '': ['# candidate housing units', 'Total purchase offer', 'Potential benefits (# people not dislocated by a simulated 100-year event)',\n",
    "         'Potential challenges','Potential consequences', 'Equity considerations'],\n",
    "    'White homeowners': [white, f\"${offer_owner_white:,.2f}\", benefit_owner_white,\n",
    "                '(1) Less likely to participate due to higher flood risk tolerance.',\n",
    "                '(1) If agree to participate, may prefer relocating to majority-White communities.', \n",
    "                '(1) Sufficient financial incentives can alleviate post-buyout financial burdens and encourage program participation. <br/>'+\n",
    "                '(2) Up to $22,500 compensation under URA for additional payments such as comparable homes, closing costs, or increased interest costs. <br/>'+\n",
    "                '(3) Basement coverage through FEMA’s NFIP is limited, and compensation may be needed for contents such as washer, dryer, TV, or food freezer. <br/>'+\n",
    "                '(4) Consider funding for mental health support of household members who experienced flooding. <br/>'+\n",
    "                '(5) Fostering relationships with residents and community organizations is vital to establish trust and make buyouts more favorable. <br/>'+\n",
    "                '(6) Consider conducting longitudinal health studies to assess and address potential physical and mental health implications for participants undergoing the relocation processes in buyout projects. <br/>'+\n",
    "                '(7) Partnering with community-based organizations and assigning local relocation specialists helps to ensuring an equitable and supportive buyout process, given their role in navigating and addressing the complexities of relocation. <br/>'+\n",
    "                '(8) To counter tax base losses from buyouts, program administrators can incentivize owners to relocate within the county but outside floodplains. <br/>'+\n",
    "                '(9) If a participating household owes a mortgage, FEMA may pay residual funds after they pay the lienholder. <br/>'+\n",
    "                '(10) Effective risk communication does not always lead to protective actions like participating in a buyout program. Homeowners responses depend on assessing benefits and their ability to act. Thus, sharing information on buyout benefits, resources like temporary housing options, and available compensations increases confidence in homeowners ability to afford and undergo buyouts.'],    \n",
    "    'Racial minority homeowners': [racial_minority, f\"${offer_owner_racial_minority:,.2f}\", benefit_owner_racial_minority,\n",
    "                '(1) More prone to relocation due to higher exposure to disasters <br/>'+\n",
    "                '(2) Reluctance to join the program due to emotional attachment and distrust in government-led programs <br/>'+\n",
    "                '(3) Properties in Black neighborhoods are valued lower compared to White neighborhoods, posing challenges for finding comparable homes post-buyout.',\n",
    "                '(1) Higher chance of relocating to areas with equal or greater flood exposure and higher social vulnerability. <br/>'+\n",
    "                '(2) Losing social network if relocated outside their community',\n",
    "                ' '],\n",
    "    'Hispanic homeowners': [hisp, f\"${offer_owner_hispan:,.2f}\", benefit_owner_hispan,\n",
    "                '(1) More prone to relocation due to higher exposure to disasters <br/>'+\n",
    "                '(2) Properties in Hispanic neighborhoods are valued lower compared to White neighborhoods, posing challenges for finding comparable homes post-buyout <br/>'+\n",
    "                '(3) Reluctance to join the program due to emotional attachment and distrust in government-led programs',\n",
    "                '(1) Higher chance of relocating to areas with equal or greater flood exposure and higher social vulnerability <br/>'+\n",
    "                '(2) Losing social network if relocated outside their community',\n",
    "                ' '],\n",
    "}\n",
    "\n",
    "tenure_race_table = pd.DataFrame(tenure_race_summary, index=None)\n",
    "\n",
    "tenure_race_table = tenure_race_table.style.set_properties(\n",
    "    subset=tenure_race_table.columns[1:],  \n",
    "    **{'text-align': 'left'}\n",
    ").set_properties(\n",
    "    subset=tenure_race_table.columns[0],  \n",
    "    **{'font-weight': 'bold', 'text-align': 'left'}\n",
    ").set_table_styles([\n",
    "    {'selector': 'th', 'props': [('text-align', 'center')]}\n",
    "])\n",
    "\n",
    "tenure_race_table"
   ]
  },
  {
   "cell_type": "code",
   "execution_count": null,
   "id": "f4dc5636-3929-43a5-a82c-187a16815379",
   "metadata": {},
   "outputs": [],
   "source": [
    "def categorize_race_tenure(row):\n",
    "    if row['race'] == 1 and row['hispan'] == 0 and row['ownership'] == 'Owner':\n",
    "        return 'White alone homeowners'\n",
    "    elif row['hispan'] == 1 and row['ownership'] == 'Owner':\n",
    "        return 'Hispanic homeowners'\n",
    "    elif row['race'] >= 2 and row['hispan'] == 0 and row['ownership'] == 'Owner':\n",
    "        return 'Racial minority homeowners'\n",
    "    else:\n",
    "        return 'Other'\n",
    "\n",
    "\n",
    "# Apply the function to each row\n",
    "df_final['race_category'] = df_final.apply(categorize_race_tenure, axis=1)\n",
    "\n",
    "colors = ['red','green','blue']\n",
    "cmap = ListedColormap(colors)\n",
    "\n",
    "df_final[df_final['race_category'] != 'Other'].explore(\n",
    "        column=\"race_category\", # column for archetype info\n",
    "        tooltip=\"race_category\", \n",
    "        geometry='geometry',\n",
    "        popup=True,\n",
    "        tiles='OpenStreetMap',\n",
    "        cmap=cmap,  # use \"Set1\" matplotlib colormap\n",
    "        legend_kwds = {\"caption\": \"Race Category\"},\n",
    "        marker_kwds= {'radius': 4}\n",
    ")"
   ]
  },
  {
   "cell_type": "markdown",
   "id": "417aecb4-8d30-40d0-ac9b-6cd0faeb643f",
   "metadata": {},
   "source": [
    "### 3) Owner-occupied homes broken down by owners' income level"
   ]
  },
  {
   "cell_type": "code",
   "execution_count": null,
   "id": "90b44578-d6a4-422a-bb48-3feb1c51825d",
   "metadata": {},
   "outputs": [],
   "source": [
    "low_middle_income = df_final.loc[(df_final['hhinc'].isin([1,2,3])) & (df_final['ownership'] == 'Owner'), 'huid'].count()\n",
    "high_income = df_final.loc[(df_final['hhinc'].isin([4,5])) & (df_final['ownership'] == 'Owner'), 'huid'].count()\n",
    "\n",
    "offer_owner_low_middle_income = round(df_final.loc[(df_final['hhinc'].isin([1,2,3])) & (df_final['ownership'] == 'Owner'), 'housing_unit_appraisal_value'].sum())\n",
    "offer_owner_high_income = round(df_final.loc[(df_final['hhinc'].isin([4,5])) & (df_final['ownership'] == 'Owner'), 'housing_unit_appraisal_value'].sum())\n",
    "\n",
    "benefit_owner_low_middle_income = df_final.loc[(df_final['hhinc'].isin([1,2,3])) & (df_final['ownership'] == 'Owner'), 'dislocated'].sum()\n",
    "benefit_owner_high_income = df_final.loc[(df_final['hhinc'].isin([4,5])) & (df_final['ownership'] == 'Owner'), 'dislocated'].sum()\n",
    "\n",
    "# NOTE: Equity considerations are similar for all homeowners\n",
    "income_tenure_summary = {\n",
    "    '': ['# candidate housing units', 'Total purchase offer', 'Potential benefits (# people not dislocated by a simulated 100-year event)',\n",
    "         'Potential challenges','Potential consequences', 'Equity considerations'],\n",
    "    'Low and middle income homeowners': [low_middle_income, f\"${offer_owner_low_middle_income:,.2f}\", benefit_owner_low_middle_income,\n",
    "                '(1) Higher chance of being targeted for program participation as low-value homes sustain more damage <br/>'+\n",
    "                '(2) Lower chance of accepting an offer if cost sharing is required <br/>'+\n",
    "                '(3) May accept a low offer due to little power to negotiate the terms <br/>'+\n",
    "                '(4) Reluctance to relocate due to limited perceived options, lower awareness, and affordability concerns <br/>' +\n",
    "                '(5) More prone to relocation due to higher exposure to disasters',\n",
    "                '(1) Less likely to find affordable comparable homes when relocated <br/>'+\n",
    "                '(2) Higher chance of relocating to areas with equal or greater flood exposure and higher social vulnerability <br/>'+\n",
    "                '(3) Losing social networks if relocated outside of the community <br/>'+\n",
    "                '(4) Though voluntary, program participation may resemble forced relocation due to new post-disaster policies mandating costly mitigation measures or increased insurance premiums that are unaffordable to households.',\n",
    "                '(1) Sufficient financial incentives can alleviate post-buyout financial burdens and encourage program participation. <br/>'+\n",
    "                '(2) Up to $22,500 compensation under URA for additional payments such as comparable homes, closing costs, or increased interest costs. <br/>'+\n",
    "                '(3) Basement coverage through FEMA’s NFIP is limited, and compensation may be needed for contents such as washer, dryer, TV, or food freezer. <br/>'+\n",
    "                '(4) Consider funding for mental health support of household members who experienced flooding. <br/>'+\n",
    "                '(5) Fostering relationships with residents and community organizations is vital to establish trust and make buyouts more favorable. <br/>'+\n",
    "                '(6) Consider conducting longitudinal health studies to assess and address potential physical and mental health implications for participants undergoing the relocation processes in buyout projects. <br/>'+\n",
    "                '(7) Partnering with community-based organizations and assigning local relocation specialists helps to ensuring an equitable and supportive buyout process, given their role in navigating and addressing the complexities of relocation. <br/>'+\n",
    "                '(8) To counter tax base losses from buyouts, program administrators can incentivize owners to relocate within the county but outside floodplains. <br/>'+\n",
    "                '(9) If a participating household owes a mortgage, FEMA may pay residual funds after they pay the lienholder. <br/>'+\n",
    "                '(10) Effective risk communication does not always lead to protective actions like participating in a buyout program. Homeowners responses depend on assessing benefits and their ability to act. Thus, sharing information on buyout benefits, resources like temporary housing options, and available compensations increases confidence in homeowners ability to afford and undergo buyouts.'],    \n",
    "    'High income homeowners': [high_income, f\"${offer_owner_high_income:,.2f}\", benefit_owner_high_income,\n",
    "                '(1) Higher chance of ineligibility due to owning high-value properties and not meeting the BCA requirements <br/>'+\n",
    "                '(2) May not receive a buyout offer as municipalities are concerned about the appearance of federal funds assisting wealthy households <br/>'+\n",
    "                '(3) May decline the offer due to more financial independence and self-efficacy to implement alternative mitigation measures <br/>'+\n",
    "                '(4) May decline offers if their property has undergone improvements, as home improvements are not factored into the market value',\n",
    "                '(1) May need to adopt alternative mitigation measures, if not participating',\n",
    "                ' ']\n",
    "}\n",
    "\n",
    "income_tenure_table = pd.DataFrame(income_tenure_summary, index=None)\n",
    "\n",
    "income_tenure_table = income_tenure_table.style.set_properties(\n",
    "    subset=income_tenure_table.columns[1:],  \n",
    "    **{'text-align': 'left'}\n",
    ").set_properties(\n",
    "    subset=income_tenure_table.columns[0],  \n",
    "    **{'font-weight': 'bold', 'text-align': 'left'}\n",
    ").set_table_styles([\n",
    "    {'selector': 'th', 'props': [('text-align', 'center')]}\n",
    "])\n",
    "\n",
    "income_tenure_table"
   ]
  },
  {
   "cell_type": "code",
   "execution_count": null,
   "id": "91d6e87d-2993-4f3c-bdeb-6fda5db9ffc2",
   "metadata": {},
   "outputs": [],
   "source": [
    "def categorize_income(row):\n",
    "    if row['hhinc'] in [1, 2, 3] and row['ownership'] == 'Owner':\n",
    "        return 'Low and middle income homeowners'\n",
    "    elif row['hhinc'] in [4, 5] and row['ownership'] == 'Owner':\n",
    "        return 'High income homeowners'\n",
    "    else:\n",
    "        return 'Other'\n",
    "\n",
    "# Apply the function to each row\n",
    "df_final['income_category'] = df_final.apply(categorize_income, axis=1)\n",
    "colors = ['red','blue']\n",
    "cmap = ListedColormap(colors)\n",
    "\n",
    "df_final[df_final['income_category'] != 'Other'].explore(\n",
    "        column=\"income_category\", # column for archetype info\n",
    "        tooltip=\"income_category\", \n",
    "        geometry='geometry',\n",
    "        popup=True,\n",
    "        tiles='OpenStreetMap',\n",
    "        cmap=cmap,\n",
    "        legend_kwds = {\"caption\": \"Income Group\"},\n",
    "        marker_kwds= {'radius': 4}\n",
    ")"
   ]
  },
  {
   "cell_type": "markdown",
   "id": "b266ed3b-c438-48fc-bcb3-2a27dc762f4f",
   "metadata": {},
   "source": [
    "### 4) Cluster buyout"
   ]
  },
  {
   "cell_type": "code",
   "execution_count": null,
   "id": "bd0fc195-4d53-4ef0-9a42-8348b910925f",
   "metadata": {},
   "outputs": [],
   "source": [
    "# Calculating the distance of closest building to each building in the inventory\n",
    "# geometry_col = gpd.GeoSeries.from_wkt(bld_invtry['geometry'])\n",
    "distance = gpd.GeoDataFrame(geometry=bld_invtry['geometry'])\n",
    "\n",
    "# Setting the CRS to WGS 84\n",
    "distance = distance.set_crs(epsg=4326)\n",
    "\n",
    "# Converting the CRS to a projection that uses feet (e.g., UTM)\n",
    "distance = distance.to_crs(epsg=3857) \n",
    "bld_invtry['closest_distance'] = distance.geometry.apply(lambda x: distance.distance(x).nsmallest(2).iloc[1])"
   ]
  },
  {
   "cell_type": "code",
   "execution_count": null,
   "id": "c7e4512d-b9bf-41e4-b211-7a996030bac0",
   "metadata": {},
   "outputs": [],
   "source": [
    "bld_invtry['closest_distance'].describe()"
   ]
  },
  {
   "cell_type": "code",
   "execution_count": null,
   "id": "67c0c34b-527a-4102-b067-9e1837600808",
   "metadata": {},
   "outputs": [],
   "source": [
    "df_cluster=df_final"
   ]
  },
  {
   "cell_type": "code",
   "execution_count": null,
   "id": "20adb09e-3b91-4b23-bfe7-71ba33fefd82",
   "metadata": {},
   "outputs": [],
   "source": [
    "# Setting the threshold for identifying clusters, which is 10 times the standard deviation of calcualted distance\n",
    "cluster_threshold = 10 * np.std(bld_invtry['closest_distance'])\n",
    "\n",
    "def identify_clusters(coord1, coord2):\n",
    "    return geodesic(coord1, coord2).feet\n",
    "df_cluster['cluster'] = ''\n",
    "\n",
    "group_counter = 1\n",
    "\n",
    "for i in range(len(df_cluster)):\n",
    "    if df_cluster.at[i, 'cluster'] == '':\n",
    "        df_cluster.at[i, 'cluster'] = f'Group_{group_counter}'\n",
    "        group_counter += 1\n",
    "\n",
    "        for j in range(i + 1, len(df_cluster)):\n",
    "            coord1 = (df_cluster.at[i, 'y'], df_cluster.at[i, 'x'])\n",
    "            coord2 = (df_cluster.at[j, 'y'], df_cluster.at[j, 'x'])\n",
    "            distance = identify_clusters(coord1, coord2)\n",
    "\n",
    "            if distance <= cluster_threshold:\n",
    "                df_cluster.at[j, 'cluster'] = df_cluster.at[i, 'cluster']\n",
    "\n",
    "pd.set_option('display.float_format', '{:.15f}'.format)"
   ]
  },
  {
   "cell_type": "code",
   "execution_count": null,
   "id": "558a0b93-6b85-4638-a4f7-6b8bf28b76d5",
   "metadata": {},
   "outputs": [],
   "source": [
    "# keeping only one housing unit per building to avoid getting clusters just because one building has two housing units (drop duplicate)\n",
    "df_cluster = df_cluster.drop_duplicates(subset='guid', keep='first')"
   ]
  },
  {
   "cell_type": "code",
   "execution_count": null,
   "id": "449afbbb-6804-4700-8d15-36a12de515b9",
   "metadata": {},
   "outputs": [],
   "source": [
    "# Removing properties that are not in a cluster by dropping the values in \"cluster\" col that are repeated only once\n",
    "df_cluster = df_cluster[df_cluster.groupby('cluster')['cluster'].transform('count') > 1]\n",
    "#df_cluster.shape"
   ]
  },
  {
   "cell_type": "code",
   "execution_count": null,
   "id": "99076b87-51ed-4935-8a10-301c5a830710",
   "metadata": {},
   "outputs": [],
   "source": [
    "unique_clusters = df_cluster['cluster'].unique()\n",
    "mapping_dict = {group: f'Cluster {i + 0}' for i, group in enumerate(unique_clusters)}\n",
    "\n",
    "df_cluster['cluster_label'] = df_cluster['cluster'].map(mapping_dict)\n",
    "df_cluster = gpd.GeoDataFrame(df_cluster, geometry='geometry')\n",
    "\n",
    "df_cluster.explore(\n",
    "        column=\"cluster_label\", # column for archetype info\n",
    "        tooltip=\"cluster_label\", \n",
    "        geometry='geometry',\n",
    "        popup=True,\n",
    "        tiles='OpenStreetMap',\n",
    "        cmap=\"tab20b\",  # use \"Set1\" matplotlib colormap\n",
    "        legend_kwds = {\"caption\": \"Clusters\"},\n",
    "        marker_kwds= {'radius': 4}\n",
    ")"
   ]
  },
  {
   "cell_type": "code",
   "execution_count": null,
   "id": "567f044b-10a5-4481-bb2b-e0174284926e",
   "metadata": {},
   "outputs": [],
   "source": [
    "cluster_buyout_summary = {\n",
    "    'Potential advantages of cluster buyout': [\n",
    "        '(1) Incentivizes participation if other neighbors are relocating <br/>' +\n",
    "        '(2) Losing tax base is a known issue of buyout. Recreational areas developed through cluster buyout, such as parks help increase property values and improve physical and mental health <br/>' +\n",
    "        '(3) Boosts tourism and recreation by creating new spaces <br/>' +\n",
    "        '(4) Helps restoring ecological values and enhancing ecosystem services such as improved water quality and reduced risks of future hazards <br/>' +\n",
    "        '(5) Cluster buyouts align with FEMA open space management objectives of FEMA. While certain communities have repurposed checkerboard-patterned lots for recreation, these lots generally limit open space development opportunities.'\n",
    "    ]\n",
    "}\n",
    "\n",
    "cluster_buyout_table = pd.DataFrame(cluster_buyout_summary, index=None)\n",
    "\n",
    "cluster_buyout_table = cluster_buyout_table.style.set_properties(\n",
    "    subset=cluster_buyout_table.columns,  \n",
    "    **{'text-align': 'left'}\n",
    ").set_table_styles([\n",
    "    {'selector': 'th', 'props': [('text-align', 'center')]}\n",
    "])\n",
    "\n",
    "cluster_buyout_table"
   ]
  },
  {
   "cell_type": "markdown",
   "id": "8f0356c6-9464-4f99-9cf3-e86ef94c430f",
   "metadata": {},
   "source": [
    "### 5) Properties (valued higher than FEMA's cap) requiring alternative mitigation strategies"
   ]
  },
  {
   "cell_type": "code",
   "execution_count": null,
   "id": "4fe76284-b7e0-4710-8a04-03bf964f9cd7",
   "metadata": {},
   "outputs": [],
   "source": [
    "ike_100year_ds3_over_fema_cap = ike_100year_ds3[ike_100year_ds3['appr_bldg'] > 321291.600]\n",
    "ike_100year_ds3_over_fema_cap = ike_100year_ds3_over_fema_cap[[\"guid\",\"appr_bldg\",\"max_state_100year\",\"max_state_ike\",\"geometry\"]]"
   ]
  },
  {
   "cell_type": "code",
   "execution_count": null,
   "id": "29eb4103-dd48-4abe-9848-dd995657bb9b",
   "metadata": {},
   "outputs": [],
   "source": [
    "# Converting the dataset to GeoDataFrame using the goemetry column \n",
    "ike_100year_ds3_over_fema_cap['geometry'] = ike_100year_ds3_over_fema_cap['geometry']\n",
    "ike_100year_ds3_over_fema_cap = gpd.GeoDataFrame(ike_100year_ds3_over_fema_cap, geometry='geometry')"
   ]
  },
  {
   "cell_type": "code",
   "execution_count": null,
   "id": "52bd9d09-6676-484f-af5c-b694bfa504ae",
   "metadata": {},
   "outputs": [],
   "source": [
    "ike_100year_ds3_over_fema_cap['guid'].count()"
   ]
  },
  {
   "cell_type": "code",
   "execution_count": null,
   "id": "84598caf-4f79-49fc-92a4-0a833b7cfa69",
   "metadata": {},
   "outputs": [],
   "source": [
    "ike_100year_ds3_over_fema_cap.crs = \"EPSG:4326\"\n",
    "ike_100year_ds3_over_fema_cap = ike_100year_ds3_over_fema_cap.to_crs(epsg=3857)"
   ]
  },
  {
   "cell_type": "code",
   "execution_count": null,
   "id": "68aee1cf-5e59-47b9-87c2-6e50c2513442",
   "metadata": {},
   "outputs": [],
   "source": [
    "ike_100year_ds3_over_fema_cap.explore(\n",
    "    geometry='geometry',\n",
    "    popup=True,\n",
    "    tiles='OpenStreetMap',\n",
    "    marker_kwds={'radius': 4},\n",
    "    title=\"Properties with past and future complete damages valued higher than FEMA's cap\",  # Add title here\n",
    ")"
   ]
  },
  {
   "cell_type": "code",
   "execution_count": null,
   "id": "7bf02985-2c89-49ec-8529-c1eaf78286a7",
   "metadata": {},
   "outputs": [],
   "source": [
    "property_over_cap = ike_100year_ds3_over_fema_cap['guid'].count()\n",
    "description = (\n",
    "    f\"There are {property_over_cap} properties with complete damages as a result of Ike's hindcast model \"\n",
    "    \"and the simulated 100-year event.\\nThese properties are not in the buyout selection due to high property \"\n",
    "    \"value, and require alternative flood mitigation strategies.\"\n",
    ")\n",
    "print(description)"
   ]
  },
  {
   "cell_type": "code",
   "execution_count": null,
   "id": "6ae87033-734f-4820-9908-32a6c7482551",
   "metadata": {},
   "outputs": [],
   "source": []
  }
 ],
 "metadata": {
  "kernelspec": {
   "display_name": "Python 3 (ipykernel)",
   "language": "python",
   "name": "python3"
  },
  "language_info": {
   "codemirror_mode": {
    "name": "ipython",
    "version": 3
   },
   "file_extension": ".py",
   "mimetype": "text/x-python",
   "name": "python",
   "nbconvert_exporter": "python",
   "pygments_lexer": "ipython3",
   "version": "3.9.18"
  }
 },
 "nbformat": 4,
 "nbformat_minor": 5
}
