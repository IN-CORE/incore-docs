{
 "cells": [
  {
   "cell_type": "code",
   "execution_count": null,
   "metadata": {
    "collapsed": true
   },
   "outputs": [],
   "source": [
    "from pyincore import IncoreClient, FragilityService, MappingSet, NetworkDataset, DataService, Dataset\n",
    "from pyincore.analyses.montecarlofailureprobability import MonteCarloFailureProbability\n",
    "from pyincore.analyses.wfnfunctionality import WfnFunctionality\n",
    "from pyincore.analyses.pipelinedamagerepairrate import PipelineDamageRepairRate\n",
    "from pyincore.analyses.pipelinefunctionality import PipelineFunctionality\n",
    "from pyincore.analyses.waterfacilitydamage import WaterFacilityDamage"
   ]
  },
  {
   "cell_type": "code",
   "execution_count": null,
   "outputs": [],
   "source": [
    "# Connect to IN-CORE service\n",
    "client = IncoreClient()"
   ],
   "metadata": {
    "collapsed": false,
    "pycharm": {
     "name": "#%%\n"
    }
   }
  },
  {
   "cell_type": "markdown",
   "source": [
    "### Configure hazard to use in MMSA"
   ],
   "metadata": {
    "collapsed": false
   }
  },
  {
   "cell_type": "code",
   "execution_count": null,
   "outputs": [],
   "source": [
    "hazard_type = \"earthquake\"\n",
    "hazard_id = \"5b902cb273c3371e1236b36b\""
   ],
   "metadata": {
    "collapsed": false,
    "pycharm": {
     "name": "#%%\n"
    }
   }
  },
  {
   "cell_type": "markdown",
   "source": [
    "### Run water facility damage"
   ],
   "metadata": {
    "collapsed": false
   }
  },
  {
   "cell_type": "code",
   "execution_count": null,
   "outputs": [],
   "source": [
    "wf_dataset_id = \"62cdd5371cca614f5242e635\"\n",
    "wf_mapping_id = \"5b47c383337d4a387669d592\"\n",
    "fragility_key = \"pga\"\n",
    "liq_geology_dataset_id = \"5a284f53c7d30d13bc08249c\"\n",
    "liquefaction = True\n",
    "liq_fragility_key = \"pgd\"\n",
    "uncertainty = False"
   ],
   "metadata": {
    "collapsed": false,
    "pycharm": {
     "name": "#%%\n"
    }
   }
  },
  {
   "cell_type": "code",
   "execution_count": null,
   "outputs": [],
   "source": [
    "wf_dmg = WaterFacilityDamage(client)\n",
    "\n",
    "result_name = \"wf_dmg_results\"\n",
    "\n",
    "wf_dmg.set_parameter(\"result_name\", result_name)\n",
    "wf_dmg.set_parameter(\"hazard_type\", hazard_type)\n",
    "wf_dmg.set_parameter(\"hazard_id\", hazard_id)\n",
    "wf_dmg.set_parameter(\"fragility_key\", fragility_key)\n",
    "wf_dmg.set_parameter(\"use_liquefaction\", liquefaction)\n",
    "wf_dmg.set_parameter(\"liquefaction_geology_dataset_id\", liq_geology_dataset_id)\n",
    "wf_dmg.set_parameter(\"liquefaction_fragility_key\", liq_fragility_key)\n",
    "wf_dmg.set_parameter(\"use_hazard_uncertainty\", uncertainty)\n",
    "wf_dmg.set_parameter(\"num_cpu\", 4)\n",
    "\n",
    "fragility_service = FragilityService(client)\n",
    "mapping_set = MappingSet(fragility_service.get_mapping(wf_mapping_id))\n",
    "wf_dmg.set_input_dataset(\"dfr3_mapping_set\", mapping_set)\n",
    "wf_dmg.load_remote_input_dataset(\"water_facilities\", wf_dataset_id)\n",
    "\n",
    "wf_dmg.run_analysis()\n",
    "\n",
    "wf_dmg_result = wf_dmg.get_output_dataset(\"result\")"
   ],
   "metadata": {
    "collapsed": false,
    "pycharm": {
     "name": "#%%\n"
    }
   }
  },
  {
   "cell_type": "markdown",
   "source": [
    "### Run pipeline damage"
   ],
   "metadata": {
    "collapsed": false
   }
  },
  {
   "cell_type": "code",
   "execution_count": null,
   "outputs": [],
   "source": [
    "pipeline_dataset_id = \"5a284f28c7d30d13bc081d14\"\n",
    "pp_mapping_id = \"5b47c227337d4a38464efea8\"\n",
    "liq_geology_dataset_id = \"5a284f53c7d30d13bc08249c\"\n",
    "liq_fragility_key = \"pgd\"\n",
    "use_liq = True\n",
    "result_name = \"pp_dmg_result\""
   ],
   "metadata": {
    "collapsed": false,
    "pycharm": {
     "name": "#%%\n"
    }
   }
  },
  {
   "cell_type": "code",
   "execution_count": null,
   "outputs": [],
   "source": [
    "pipeline_dmg_w_rr = PipelineDamageRepairRate(client)\n",
    "pipeline_dmg_w_rr.load_remote_input_dataset(\"pipeline\", pipeline_dataset_id)\n",
    "fragility_service = FragilityService(client)\n",
    "mapping_set = MappingSet(fragility_service.get_mapping(pp_mapping_id))\n",
    "pipeline_dmg_w_rr.set_input_dataset(\"dfr3_mapping_set\", mapping_set)\n",
    "\n",
    "pipeline_dmg_w_rr.set_parameter(\"result_name\", result_name)\n",
    "pipeline_dmg_w_rr.set_parameter(\"hazard_type\", hazard_type)\n",
    "pipeline_dmg_w_rr.set_parameter(\"hazard_id\", hazard_id)\n",
    "pipeline_dmg_w_rr.set_parameter(\"liquefaction_fragility_key\", liq_fragility_key)\n",
    "pipeline_dmg_w_rr.set_parameter(\"liquefaction_geology_dataset_id\", liq_geology_dataset_id)\n",
    "pipeline_dmg_w_rr.set_parameter(\"use_liquefaction\", use_liq)\n",
    "pipeline_dmg_w_rr.set_parameter(\"num_cpu\", 4)\n",
    "\n",
    "pipeline_dmg_w_rr.run_analysis()\n",
    "\n",
    "pipeline_dmg_w_rr_ds = pipeline_dmg_w_rr.get_output_dataset(\"result\")"
   ],
   "metadata": {
    "collapsed": false,
    "pycharm": {
     "name": "#%%\n"
    }
   }
  },
  {
   "cell_type": "markdown",
   "source": [
    "### Set number of samples for failure states"
   ],
   "metadata": {
    "collapsed": false
   }
  },
  {
   "cell_type": "code",
   "execution_count": null,
   "outputs": [],
   "source": [
    "nsamp = 20000"
   ],
   "metadata": {
    "collapsed": false,
    "pycharm": {
     "name": "#%%\n"
    }
   }
  },
  {
   "cell_type": "markdown",
   "source": [
    "### Run Monte Carlo failure analysis for water facility damage results"
   ],
   "metadata": {
    "collapsed": false,
    "pycharm": {
     "name": "#%% md\n"
    }
   }
  },
  {
   "cell_type": "code",
   "execution_count": null,
   "outputs": [],
   "source": [
    "mc = MonteCarloFailureProbability(client)\n",
    "mc.set_input_dataset(\"damage\", wf_dmg_result)\n",
    "mc.set_parameter(\"result_name\", \"wf_dmg_mc\")\n",
    "mc.set_parameter(\"num_cpu\", 8)\n",
    "mc.set_parameter(\"num_samples\", nsamp)\n",
    "mc.set_parameter(\"damage_interval_keys\", [\"DS_0\", \"DS_1\", \"DS_2\", \"DS_3\", \"DS_4\"])\n",
    "mc.set_parameter(\"failure_state_keys\", [\"DS_3\", \"DS_4\"])\n",
    "\n",
    "mc.run_analysis()\n",
    "\n",
    "wf_dmg_fs = mc.get_output_dataset(\"sample_failure_state\")\n"
   ],
   "metadata": {
    "collapsed": false,
    "pycharm": {
     "name": "#%%\n"
    }
   }
  },
  {
   "cell_type": "markdown",
   "source": [
    "### Run pipeline functionality for pipeline damage results"
   ],
   "metadata": {
    "collapsed": false,
    "pycharm": {
     "name": "#%% md\n"
    }
   }
  },
  {
   "cell_type": "code",
   "execution_count": null,
   "outputs": [],
   "source": [
    "pp_func = PipelineFunctionality(client)\n",
    "pp_func.set_parameter(\"result_name\", \"mmsa_pipeline_functionality\")\n",
    "pp_func.set_parameter(\"num_samples\", nsamp)\n",
    "pp_func.set_input_dataset(\"pipeline_repair_rate_damage\", pipeline_dmg_w_rr_ds)\n",
    "\n",
    "pp_func.run_analysis()\n",
    "\n",
    "pp_dmg_fs = pp_func.get_output_dataset(\"sample_failure_state\")"
   ],
   "metadata": {
    "collapsed": false,
    "pycharm": {
     "name": "#%%\n"
    }
   }
  },
  {
   "cell_type": "markdown",
   "source": [
    "### Using both failure analyses, compute water facility network functionality"
   ],
   "metadata": {
    "collapsed": false,
    "pycharm": {
     "name": "#%% md\n"
    }
   }
  },
  {
   "cell_type": "code",
   "execution_count": null,
   "outputs": [],
   "source": [
    "wfn_dataset_id = \"62d586120b99e237881b0519\"  # MMSA wft network\n",
    "\n",
    "wfn_func = WfnFunctionality(client)\n",
    "wfn_func.load_remote_input_dataset(\"wfn_network\", wfn_dataset_id)\n",
    "wfn_func.set_input_dataset(\"wf_sample_failure_state\", wf_dmg_fs)\n",
    "wfn_func.set_input_dataset(\"pp_sample_failure_state\", pp_dmg_fs)\n",
    "wfn_func.set_parameter(\"result_name\", \"mmsa_wfn_functionality\")\n",
    "wfn_func.set_parameter(\"tank_node_list\", [1, 7, 10, 13, 14, 15])\n",
    "wfn_func.set_parameter(\"pumpstation_node_list\", [2, 3, 4, 5, 6, 8, 9, 11, 12])\n",
    "\n",
    "wfn_func.run_analysis()\n",
    "\n",
    "df = wfn_func.get_output_dataset('failure_probability').get_dataframe_from_csv()\n",
    "df.head()"
   ],
   "metadata": {
    "collapsed": false,
    "pycharm": {
     "name": "#%%\n"
    }
   }
  }
 ],
 "metadata": {
  "kernelspec": {
   "display_name": "Python 3",
   "language": "python",
   "name": "python3"
  },
  "language_info": {
   "codemirror_mode": {
    "name": "ipython",
    "version": 2
   },
   "file_extension": ".py",
   "mimetype": "text/x-python",
   "name": "python",
   "nbconvert_exporter": "python",
   "pygments_lexer": "ipython2",
   "version": "2.7.6"
  }
 },
 "nbformat": 4,
 "nbformat_minor": 0
}