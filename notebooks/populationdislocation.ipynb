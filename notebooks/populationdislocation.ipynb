{
 "cells": [
  {
   "cell_type": "code",
   "execution_count": 25,
   "metadata": {
    "pycharm": {
     "is_executing": false
    }
   },
   "outputs": [],
   "source": [
    "from pyincore import IncoreClient\n",
    "from pyincore import IncoreClient, FragilityService, MappingSet\n",
    "from pyincore.analyses.buildingdamage import BuildingDamage\n",
    "from pyincore.analyses.populationdislocation import PopulationDislocation, PopulationDislocationUtil"
   ]
  },
  {
   "cell_type": "code",
   "execution_count": 26,
   "metadata": {
    "collapsed": false,
    "jupyter": {
     "outputs_hidden": false
    },
    "pycharm": {
     "name": "#%%\n"
    }
   },
   "outputs": [
    {
     "name": "stdout",
     "output_type": "stream",
     "text": [
      "Connection successful to IN-CORE services. pyIncore version detected: 0.9.0\n"
     ]
    }
   ],
   "source": [
    "# Connect to IN-CORE service\n",
    "client = IncoreClient()"
   ]
  },
  {
   "cell_type": "markdown",
   "metadata": {},
   "source": [
    "## Joplin, MO tornado"
   ]
  },
  {
   "cell_type": "code",
   "execution_count": 27,
   "metadata": {},
   "outputs": [],
   "source": [
    "# The simulated EF-5 tornado shows geographical locations and the range\n",
    "# of wind speed of tornado hazard in Joplin.\n",
    "hazard_type = \"tornado\"\n",
    "hazard_id = \"5d07cbeab9219c065b080930\""
   ]
  },
  {
   "cell_type": "markdown",
   "metadata": {},
   "source": [
    "### Building damage"
   ]
  },
  {
   "cell_type": "code",
   "execution_count": 28,
   "metadata": {},
   "outputs": [],
   "source": [
    "bldg_dmg = BuildingDamage(client)"
   ]
  },
  {
   "cell_type": "code",
   "execution_count": 29,
   "metadata": {},
   "outputs": [
    {
     "name": "stdout",
     "output_type": "stream",
     "text": [
      "Dataset already exists locally. Reading from local cached zip.\n",
      "Unzipped folder found in the local cache. Reading from it...\n"
     ]
    }
   ],
   "source": [
    "bldg_dataset_id = \"5dbc8478b9219c06dd242c0d\"  # Load the Joplin building dataset, which is a package of GIS files.\n",
    "mapping_id = \"5d8942dfb9219c068ea795ea\"  # Create a mapping to assign tornado fragilities to 19 building archetypes.\n",
    "fragility_service = FragilityService(client)        # loading fragility mapping\n",
    "mapping_set = MappingSet(fragility_service.get_mapping(mapping_id))\n",
    "bldg_dmg.set_input_dataset(\"dfr3_mapping_set\", mapping_set)\n",
    "\n",
    "bldg_dmg.load_remote_input_dataset(\"buildings\", bldg_dataset_id)"
   ]
  },
  {
   "cell_type": "code",
   "execution_count": 30,
   "metadata": {},
   "outputs": [
    {
     "data": {
      "text/plain": [
       "True"
      ]
     },
     "execution_count": 30,
     "metadata": {},
     "output_type": "execute_result"
    }
   ],
   "source": [
    "result_name = \"Joplin_bldg_dmg_result\"\n",
    "bldg_dmg.set_parameter(\"result_name\", result_name)\n",
    "bldg_dmg.set_parameter(\"hazard_type\", hazard_type)\n",
    "bldg_dmg.set_parameter(\"hazard_id\", hazard_id)\n",
    "bldg_dmg.set_parameter(\"num_cpu\", 4)  # number of CPU to run the model parallelly"
   ]
  },
  {
   "cell_type": "code",
   "execution_count": 31,
   "metadata": {},
   "outputs": [
    {
     "data": {
      "text/plain": [
       "True"
      ]
     },
     "execution_count": 31,
     "metadata": {},
     "output_type": "execute_result"
    }
   ],
   "source": [
    "bldg_dmg.run_analysis()"
   ]
  },
  {
   "cell_type": "code",
   "execution_count": 32,
   "metadata": {},
   "outputs": [],
   "source": [
    "bldg_dmg_result = bldg_dmg.get_output_dataset('ds_result')"
   ]
  },
  {
   "cell_type": "markdown",
   "metadata": {},
   "source": [
    "### Population dislocation"
   ]
  },
  {
   "cell_type": "code",
   "execution_count": 33,
   "metadata": {
    "collapsed": false,
    "jupyter": {
     "outputs_hidden": false
    },
    "pycharm": {
     "name": "#%%\n"
    }
   },
   "outputs": [],
   "source": [
    "# Joplin, MO, House unit allocation, 2ev2_housingunitallocation_1238\n",
    "housing_unit_alloc = \"5dc1c196b9219c06dd2e3f0b\"\n",
    "# Joplin, MO, Background data, 2ev2_2019-08-01_bgdata\n",
    "bg_data = \"5d4c9545b9219c0689b2358a\"\n",
    "\n",
    "# Value loss parameters, value_loss_bai09.csv\n",
    "value_loss = \"60354810e379f22e16560dbd\""
   ]
  },
  {
   "cell_type": "code",
   "execution_count": 34,
   "metadata": {
    "pycharm": {
     "is_executing": false
    }
   },
   "outputs": [
    {
     "name": "stdout",
     "output_type": "stream",
     "text": [
      "Dataset already exists locally. Reading from local cached zip.\n",
      "Unzipped folder found in the local cache. Reading from it...\n",
      "Dataset already exists locally. Reading from local cached zip.\n",
      "Unzipped folder found in the local cache. Reading from it...\n"
     ]
    },
    {
     "data": {
      "text/plain": [
       "True"
      ]
     },
     "execution_count": 34,
     "metadata": {},
     "output_type": "execute_result"
    }
   ],
   "source": [
    "# Create population dislocatin \n",
    "pop_dis = PopulationDislocation(client)\n",
    "\n",
    "# Load input dataset\n",
    "# Joplin, MO, Building damage result\n",
    "pop_dis.set_input_dataset(\"building_dmg\", bldg_dmg_result)\n",
    "pop_dis.load_remote_input_dataset(\"housing_unit_allocation\", housing_unit_alloc)\n",
    "pop_dis.load_remote_input_dataset(\"block_group_data\", bg_data)\n",
    "pop_dis.load_remote_input_dataset(\"value_poss_param\", value_loss)\n",
    "\n",
    "# Specify the result name\n",
    "result_name = \"IN-CORE_1bv6_population_dislocation\"\n",
    "\n",
    "seed = 1111\n",
    "\n",
    "# Set analysis parameters\n",
    "pop_dis.set_parameter(\"result_name\", result_name)\n",
    "pop_dis.set_parameter(\"seed\", seed)"
   ]
  },
  {
   "cell_type": "code",
   "execution_count": 35,
   "metadata": {
    "pycharm": {
     "is_executing": false,
     "name": "#%%\n"
    }
   },
   "outputs": [
    {
     "data": {
      "text/plain": [
       "True"
      ]
     },
     "execution_count": 35,
     "metadata": {},
     "output_type": "execute_result"
    }
   ],
   "source": [
    "# Run Population dislocation analysis\n",
    "pop_dis.run_analysis()"
   ]
  },
  {
   "cell_type": "code",
   "execution_count": 36,
   "metadata": {},
   "outputs": [
    {
     "data": {
      "text/html": [
       "<div>\n",
       "<style scoped>\n",
       "    .dataframe tbody tr th:only-of-type {\n",
       "        vertical-align: middle;\n",
       "    }\n",
       "\n",
       "    .dataframe tbody tr th {\n",
       "        vertical-align: top;\n",
       "    }\n",
       "\n",
       "    .dataframe thead th {\n",
       "        text-align: right;\n",
       "    }\n",
       "</style>\n",
       "<table border=\"1\" class=\"dataframe\">\n",
       "  <thead>\n",
       "    <tr style=\"text-align: right;\">\n",
       "      <th></th>\n",
       "      <th>guid</th>\n",
       "      <th>DS_0</th>\n",
       "      <th>DS_1</th>\n",
       "      <th>DS_2</th>\n",
       "      <th>DS_3</th>\n",
       "      <th>strctid</th>\n",
       "      <th>statefp10</th>\n",
       "      <th>tractce10</th>\n",
       "      <th>pumgeoid10</th>\n",
       "      <th>pumname10</th>\n",
       "      <th>...</th>\n",
       "      <th>bgyear</th>\n",
       "      <th>pblackbg</th>\n",
       "      <th>phispbg</th>\n",
       "      <th>d_sf</th>\n",
       "      <th>rploss_0</th>\n",
       "      <th>rploss_1</th>\n",
       "      <th>rploss_2</th>\n",
       "      <th>rploss_3</th>\n",
       "      <th>prdis</th>\n",
       "      <th>dislocated</th>\n",
       "    </tr>\n",
       "  </thead>\n",
       "  <tbody>\n",
       "    <tr>\n",
       "      <th>0</th>\n",
       "      <td>59fc3532-2c7d-4d68-b7d5-5a7b6ed4a556</td>\n",
       "      <td>1.0</td>\n",
       "      <td>0.0</td>\n",
       "      <td>0.0</td>\n",
       "      <td>0.0</td>\n",
       "      <td>S0021177</td>\n",
       "      <td>29.0</td>\n",
       "      <td>10100.0</td>\n",
       "      <td>2902800.0</td>\n",
       "      <td>Jasper &amp; Newton Counties PUMA</td>\n",
       "      <td>...</td>\n",
       "      <td>2010.0</td>\n",
       "      <td>7.269338</td>\n",
       "      <td>3.075489</td>\n",
       "      <td>0</td>\n",
       "      <td>0.002914</td>\n",
       "      <td>0.100425</td>\n",
       "      <td>0.524702</td>\n",
       "      <td>0.889881</td>\n",
       "      <td>0.0</td>\n",
       "      <td>False</td>\n",
       "    </tr>\n",
       "    <tr>\n",
       "      <th>1</th>\n",
       "      <td>535a461c-f028-4e05-9100-43541b645f1c</td>\n",
       "      <td>1.0</td>\n",
       "      <td>0.0</td>\n",
       "      <td>0.0</td>\n",
       "      <td>0.0</td>\n",
       "      <td>S0023095</td>\n",
       "      <td>29.0</td>\n",
       "      <td>10100.0</td>\n",
       "      <td>2902800.0</td>\n",
       "      <td>Jasper &amp; Newton Counties PUMA</td>\n",
       "      <td>...</td>\n",
       "      <td>2010.0</td>\n",
       "      <td>7.269338</td>\n",
       "      <td>3.075489</td>\n",
       "      <td>0</td>\n",
       "      <td>0.006930</td>\n",
       "      <td>0.132025</td>\n",
       "      <td>0.677548</td>\n",
       "      <td>0.951019</td>\n",
       "      <td>0.0</td>\n",
       "      <td>False</td>\n",
       "    </tr>\n",
       "    <tr>\n",
       "      <th>2</th>\n",
       "      <td>38688790-543b-4a28-9530-49975d353de4</td>\n",
       "      <td>1.0</td>\n",
       "      <td>0.0</td>\n",
       "      <td>0.0</td>\n",
       "      <td>0.0</td>\n",
       "      <td>S0021178</td>\n",
       "      <td>29.0</td>\n",
       "      <td>10100.0</td>\n",
       "      <td>2902800.0</td>\n",
       "      <td>Jasper &amp; Newton Counties PUMA</td>\n",
       "      <td>...</td>\n",
       "      <td>2010.0</td>\n",
       "      <td>7.269338</td>\n",
       "      <td>3.075489</td>\n",
       "      <td>0</td>\n",
       "      <td>0.005776</td>\n",
       "      <td>0.100000</td>\n",
       "      <td>0.654935</td>\n",
       "      <td>0.941974</td>\n",
       "      <td>0.0</td>\n",
       "      <td>False</td>\n",
       "    </tr>\n",
       "    <tr>\n",
       "      <th>3</th>\n",
       "      <td>e791aea5-706d-4e59-b4e9-0eada663b6c7</td>\n",
       "      <td>1.0</td>\n",
       "      <td>0.0</td>\n",
       "      <td>0.0</td>\n",
       "      <td>0.0</td>\n",
       "      <td>S0023093</td>\n",
       "      <td>29.0</td>\n",
       "      <td>10100.0</td>\n",
       "      <td>2902800.0</td>\n",
       "      <td>Jasper &amp; Newton Counties PUMA</td>\n",
       "      <td>...</td>\n",
       "      <td>2010.0</td>\n",
       "      <td>7.269338</td>\n",
       "      <td>3.075489</td>\n",
       "      <td>0</td>\n",
       "      <td>0.002404</td>\n",
       "      <td>0.105851</td>\n",
       "      <td>0.436479</td>\n",
       "      <td>0.854591</td>\n",
       "      <td>0.0</td>\n",
       "      <td>False</td>\n",
       "    </tr>\n",
       "    <tr>\n",
       "      <th>4</th>\n",
       "      <td>46b98fd2-f0d0-4ef4-9de3-ea1798e93050</td>\n",
       "      <td>1.0</td>\n",
       "      <td>0.0</td>\n",
       "      <td>0.0</td>\n",
       "      <td>0.0</td>\n",
       "      <td>S0023044</td>\n",
       "      <td>29.0</td>\n",
       "      <td>10100.0</td>\n",
       "      <td>2902800.0</td>\n",
       "      <td>Jasper &amp; Newton Counties PUMA</td>\n",
       "      <td>...</td>\n",
       "      <td>2010.0</td>\n",
       "      <td>7.269338</td>\n",
       "      <td>3.075489</td>\n",
       "      <td>0</td>\n",
       "      <td>0.003029</td>\n",
       "      <td>0.133077</td>\n",
       "      <td>0.438777</td>\n",
       "      <td>0.855511</td>\n",
       "      <td>0.0</td>\n",
       "      <td>False</td>\n",
       "    </tr>\n",
       "  </tbody>\n",
       "</table>\n",
       "<p>5 rows × 83 columns</p>\n",
       "</div>"
      ],
      "text/plain": [
       "                                   guid  DS_0  DS_1  DS_2  DS_3   strctid  \\\n",
       "0  59fc3532-2c7d-4d68-b7d5-5a7b6ed4a556   1.0   0.0   0.0   0.0  S0021177   \n",
       "1  535a461c-f028-4e05-9100-43541b645f1c   1.0   0.0   0.0   0.0  S0023095   \n",
       "2  38688790-543b-4a28-9530-49975d353de4   1.0   0.0   0.0   0.0  S0021178   \n",
       "3  e791aea5-706d-4e59-b4e9-0eada663b6c7   1.0   0.0   0.0   0.0  S0023093   \n",
       "4  46b98fd2-f0d0-4ef4-9de3-ea1798e93050   1.0   0.0   0.0   0.0  S0023044   \n",
       "\n",
       "   statefp10  tractce10  pumgeoid10                      pumname10  ...  \\\n",
       "0       29.0    10100.0   2902800.0  Jasper & Newton Counties PUMA  ...   \n",
       "1       29.0    10100.0   2902800.0  Jasper & Newton Counties PUMA  ...   \n",
       "2       29.0    10100.0   2902800.0  Jasper & Newton Counties PUMA  ...   \n",
       "3       29.0    10100.0   2902800.0  Jasper & Newton Counties PUMA  ...   \n",
       "4       29.0    10100.0   2902800.0  Jasper & Newton Counties PUMA  ...   \n",
       "\n",
       "   bgyear  pblackbg   phispbg  d_sf  rploss_0  rploss_1  rploss_2  rploss_3  \\\n",
       "0  2010.0  7.269338  3.075489     0  0.002914  0.100425  0.524702  0.889881   \n",
       "1  2010.0  7.269338  3.075489     0  0.006930  0.132025  0.677548  0.951019   \n",
       "2  2010.0  7.269338  3.075489     0  0.005776  0.100000  0.654935  0.941974   \n",
       "3  2010.0  7.269338  3.075489     0  0.002404  0.105851  0.436479  0.854591   \n",
       "4  2010.0  7.269338  3.075489     0  0.003029  0.133077  0.438777  0.855511   \n",
       "\n",
       "   prdis  dislocated  \n",
       "0    0.0       False  \n",
       "1    0.0       False  \n",
       "2    0.0       False  \n",
       "3    0.0       False  \n",
       "4    0.0       False  \n",
       "\n",
       "[5 rows x 83 columns]"
      ]
     },
     "execution_count": 36,
     "metadata": {},
     "output_type": "execute_result"
    }
   ],
   "source": [
    "# Retrieve result dataset\n",
    "result = pop_dis.get_output_dataset(\"result\")\n",
    "\n",
    "# Convert dataset to Pandas DataFrame\n",
    "df = result.get_dataframe_from_csv(low_memory=False)\n",
    "\n",
    "# Display top 5 rows of output data\n",
    "df.head()"
   ]
  }
 ],
 "metadata": {
  "kernelspec": {
   "display_name": "Python 3",
   "language": "python",
   "name": "python3"
  },
  "language_info": {
   "codemirror_mode": {
    "name": "ipython",
    "version": 3
   },
   "file_extension": ".py",
   "mimetype": "text/x-python",
   "name": "python",
   "nbconvert_exporter": "python",
   "pygments_lexer": "ipython3",
   "version": "3.7.10"
  }
 },
 "nbformat": 4,
 "nbformat_minor": 4
}