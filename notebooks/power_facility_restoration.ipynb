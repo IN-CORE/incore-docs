{
 "cells": [
  {
   "cell_type": "code",
   "execution_count": null,
   "id": "5a6428b7",
   "metadata": {},
   "outputs": [],
   "source": [
    "from pyincore import IncoreClient, MappingSet, RestorationService, FragilityService\n",
    "from pyincore.analyses.epfdamage import EpfDamage\n",
    "from pyincore.analyses.epfrestoration import EpfRestoration"
   ]
  },
  {
   "cell_type": "code",
   "execution_count": null,
   "id": "e9d52bcd",
   "metadata": {},
   "outputs": [],
   "source": [
    "# Connect to IN-CORE service\n",
    "client = IncoreClient()"
   ]
  },
  {
   "cell_type": "code",
   "execution_count": null,
   "id": "4e3f2edc",
   "metadata": {},
   "outputs": [],
   "source": [
    "# Memphis EPF Damage with Earthquake\n",
    "hazard_type_eq = \"earthquake\"\n",
    "hazard_id_eq = \"5b902cb273c3371e1236b36b\"\n",
    "epf_dataset_id = \"6267094704ce841cbeb35a97\"\n",
    "mapping_id = \"5b47be62337d4a37b6197a3a\"  # PGA and PGD\n",
    "\n",
    "use_liquefaction = True\n",
    "use_hazard_uncertainty = False\n",
    "liquefaction_geology_dataset_id = \"5a284f53c7d30d13bc08249c\"\n",
    "\n",
    "# Create and setup EPF Damage\n",
    "epf_dmg_eq_memphis = EpfDamage(client)\n",
    "epf_dmg_eq_memphis.load_remote_input_dataset(\"epfs\", epf_dataset_id)\n",
    "\n",
    "# Load fragility mapping\n",
    "fragility_service = FragilityService(client)\n",
    "mapping_set = MappingSet(fragility_service.get_mapping(mapping_id))\n",
    "epf_dmg_eq_memphis.set_input_dataset('dfr3_mapping_set', mapping_set)\n",
    "\n",
    "epf_dmg_eq_memphis.set_parameter(\"result_name\", \"memphis_eq_epf_dmg_result\")\n",
    "epf_dmg_eq_memphis.set_parameter(\"hazard_type\", hazard_type_eq)\n",
    "epf_dmg_eq_memphis.set_parameter(\"hazard_id\", hazard_id_eq)\n",
    "epf_dmg_eq_memphis.set_parameter(\"use_liquefaction\", use_liquefaction)\n",
    "epf_dmg_eq_memphis.set_parameter(\"use_hazard_uncertainty\", use_hazard_uncertainty)\n",
    "epf_dmg_eq_memphis.set_parameter(\"liquefaction_geology_dataset_id\", liquefaction_geology_dataset_id)\n",
    "epf_dmg_eq_memphis.set_parameter(\"num_cpu\", 1)\n",
    "\n",
    "# Run Analysis\n",
    "epf_dmg_eq_memphis.run_analysis()"
   ]
  },
  {
   "cell_type": "code",
   "execution_count": null,
   "id": "f1e1b3c8",
   "metadata": {},
   "outputs": [],
   "source": [
    "# Create and setup EPF Restoration\n",
    "epf_rest = EpfRestoration(client)\n",
    "\n",
    "restoration_table_id = \"62d060032812223656f8dbd3\"\n",
    "restoration_mapping_id = \"61f302e6e3a03e465500b3eb\"\n",
    "\n",
    "# Load restoration mapping\n",
    "restorationsvc = RestorationService(client)\n",
    "mapping_set = MappingSet(restorationsvc.get_mapping(restoration_mapping_id))  # new format of mapping\n",
    "\n",
    "epf_rest.load_remote_input_dataset('epfs', epf_dataset_id)\n",
    "epf_rest.set_input_dataset('dfr3_mapping_set', mapping_set)\n",
    "epf_rest.set_input_dataset('damage', epf_dmg_eq_memphis.get_output_dataset(\"result\"))\n",
    "epf_rest.load_remote_input_dataset(\"restoration_table\", restoration_table_id)\n",
    "epf_rest.set_parameter(\"result_name\", \"memphis-epf\")\n",
    "epf_rest.set_parameter(\"restoration_key\", \"Restoration ID Code\")\n",
    "epf_rest.set_parameter(\"end_time\", 100.0)\n",
    "epf_rest.set_parameter(\"time_interval\", 1.0)\n",
    "epf_rest.set_parameter(\"pf_interval\", 0.01)"
   ]
  },
  {
   "cell_type": "code",
   "execution_count": null,
   "id": "b4a84c0b",
   "metadata": {},
   "outputs": [],
   "source": [
    "# Run Analysis\n",
    "epf_rest.run_analysis()"
   ]
  },
  {
   "cell_type": "code",
   "execution_count": null,
   "id": "3d0a57c5",
   "metadata": {},
   "outputs": [],
   "source": [
    "# Discretized Restoration functionality\n",
    "func_results = epf_rest.get_output_dataset(\"func_results\").get_dataframe_from_csv()\n",
    "func_results.head()"
   ]
  },
  {
   "cell_type": "code",
   "execution_count": null,
   "id": "d4002df7",
   "metadata": {},
   "outputs": [],
   "source": [
    "# Functionality change over time\n",
    "pf_results = epf_rest.get_output_dataset(\"pf_results\").get_dataframe_from_csv()\n",
    "pf_results.head()"
   ]
  },
  {
   "cell_type": "code",
   "execution_count": null,
   "id": "27a50d39",
   "metadata": {},
   "outputs": [],
   "source": [
    "# Repair time at certain functionality recovery and damage state\n",
    "time_results = epf_rest.get_output_dataset(\"time_results\").get_dataframe_from_csv()\n",
    "time_results.head()"
   ]
  },
  {
   "cell_type": "code",
   "execution_count": null,
   "id": "99d76d09",
   "metadata": {},
   "outputs": [],
   "source": [
    "from pyincore.analyses.epfrestoration import EpfRestorationUtil"
   ]
  },
  {
   "cell_type": "code",
   "execution_count": null,
   "id": "7edbe5f8",
   "metadata": {},
   "outputs": [],
   "source": [
    "epf_rest_util = EpfRestorationUtil(epf_rest)"
   ]
  },
  {
   "cell_type": "code",
   "execution_count": null,
   "id": "ccb408ea",
   "metadata": {},
   "outputs": [],
   "source": [
    "# Functionality for particular component and damage state\n",
    "functionality = epf_rest_util.get_percentage_func(guid=\"75941d02-93bf-4ef9-87d3-d882384f6c10\",\n",
    "                                                      damage_state=\"DS_0\", time=2.0)\n",
    "functionality"
   ]
  },
  {
   "cell_type": "code",
   "execution_count": null,
   "id": "142b7190",
   "metadata": {},
   "outputs": [],
   "source": [
    "# Repair time for particular component and damage state\n",
    "time = epf_rest_util.get_restoration_time(guid=\"75941d02-93bf-4ef9-87d3-d882384f6c10\", damage_state=\"DS_1\", pf=0.81)\n",
    "time"
   ]
  },
  {
   "cell_type": "code",
   "execution_count": null,
   "id": "6c94c900",
   "metadata": {},
   "outputs": [],
   "source": []
  }
 ],
 "metadata": {
  "kernelspec": {
   "display_name": "Python 3",
   "language": "python",
   "name": "python3"
  },
  "language_info": {
   "codemirror_mode": {
    "name": "ipython",
    "version": 3
   },
   "file_extension": ".py",
   "mimetype": "text/x-python",
   "name": "python",
   "nbconvert_exporter": "python",
   "pygments_lexer": "ipython3",
   "version": "3.8.10"
  }
 },
 "nbformat": 4,
 "nbformat_minor": 5
}
