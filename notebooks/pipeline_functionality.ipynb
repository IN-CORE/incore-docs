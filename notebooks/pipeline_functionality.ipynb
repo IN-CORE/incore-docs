{
 "cells": [
  {
   "cell_type": "code",
   "execution_count": null,
   "id": "2723a7e6",
   "metadata": {},
   "outputs": [],
   "source": [
    "from pyincore import IncoreClient, FragilityService, MappingSet, Dataset, DataService\n",
    "from pyincore.analyses.pipelinedamagerepairrate import PipelineDamageRepairRate\n",
    "from pyincore.analyses.pipelinefunctionality import PipelineFunctionality"
   ]
  },
  {
   "cell_type": "code",
   "execution_count": null,
   "id": "a81ffea5",
   "metadata": {},
   "outputs": [],
   "source": [
    "# Connect to IN-CORE Service\n",
    "client = IncoreClient()"
   ]
  },
  {
   "cell_type": "code",
   "execution_count": null,
   "id": "122f3821",
   "metadata": {},
   "outputs": [],
   "source": [
    "data_services = DataService(client)"
   ]
  },
  {
   "cell_type": "markdown",
   "id": "872457de",
   "metadata": {},
   "source": [
    "### MMSA Pipiline damage "
   ]
  },
  {
   "cell_type": "code",
   "execution_count": null,
   "id": "12d87308",
   "metadata": {},
   "outputs": [],
   "source": [
    "# Water Buried Pipeline inventory in Shelby county, TN\n",
    "pipeline_dataset_id = \"5a284f28c7d30d13bc081d14\"\n",
    "pipeline_dataset = Dataset.from_data_service(pipeline_dataset_id, data_services)\n",
    "\n",
    "# pipeline fragility mapping\n",
    "pipeline_mapping_id = \"5b47c227337d4a38464efea8\"\n",
    "\n",
    "# New Madrid earthquake using Atkinson Boore 1995\n",
    "hazard_type = \"earthquake\"\n",
    "hazard_id = \"5b902cb273c3371e1236b36b\"\n",
    "\n",
    "# Geology dataset\n",
    "liq_geology_dataset_id = \"5a284f53c7d30d13bc08249c\"\n",
    "liq_fragility_key = \"pgd\"\n",
    "use_liq = True"
   ]
  },
  {
   "cell_type": "code",
   "execution_count": null,
   "id": "637ba8a1",
   "metadata": {},
   "outputs": [],
   "source": [
    "# Create pipeline damage with repair rate\n",
    "pipeline_dmg_w_rr = PipelineDamageRepairRate(client)\n",
    "\n",
    "# Load pipeline inventory as input datasets\n",
    "pipeline_dmg_w_rr.load_remote_input_dataset(\"pipeline\", pipeline_dataset_id)\n",
    "\n",
    "# Load fragility mapping\n",
    "fragility_service = FragilityService(client)\n",
    "mapping_set = MappingSet(fragility_service.get_mapping(pipeline_mapping_id))\n",
    "pipeline_dmg_w_rr.set_input_dataset(\"dfr3_mapping_set\", mapping_set)"
   ]
  },
  {
   "cell_type": "code",
   "execution_count": null,
   "id": "26be7a67",
   "metadata": {},
   "outputs": [],
   "source": [
    "# Specify the result name\n",
    "result_name = \"pipeline_result\"\n",
    "\n",
    "# Set analysis parameters\n",
    "pipeline_dmg_w_rr.set_parameter(\"result_name\", result_name)\n",
    "pipeline_dmg_w_rr.set_parameter(\"hazard_type\", hazard_type)\n",
    "pipeline_dmg_w_rr.set_parameter(\"hazard_id\", hazard_id)\n",
    "pipeline_dmg_w_rr.set_parameter(\"liquefaction_fragility_key\", liq_fragility_key)\n",
    "pipeline_dmg_w_rr.set_parameter(\"liquefaction_geology_dataset_id\",liq_geology_dataset_id)\n",
    "pipeline_dmg_w_rr.set_parameter(\"use_liquefaction\", use_liq)\n",
    "pipeline_dmg_w_rr.set_parameter(\"num_cpu\", 4)"
   ]
  },
  {
   "cell_type": "code",
   "execution_count": null,
   "id": "138ce8fa",
   "metadata": {},
   "outputs": [],
   "source": [
    "# Run pipeline  damage analysis\n",
    "pipeline_dmg_w_rr.run_analysis()"
   ]
  },
  {
   "cell_type": "markdown",
   "id": "96113bbb",
   "metadata": {},
   "source": [
    "### Chaining with pipeline functionality"
   ]
  },
  {
   "cell_type": "code",
   "execution_count": null,
   "id": "d5ee94e3",
   "metadata": {},
   "outputs": [],
   "source": [
    "pipeline_damage = pipeline_dmg_w_rr.get_output_dataset(\"result\")"
   ]
  },
  {
   "cell_type": "code",
   "execution_count": null,
   "id": "6022f7f6",
   "metadata": {},
   "outputs": [],
   "source": [
    "pipline_func = PipelineFunctionality(client)\n",
    "\n",
    "# Load input datasets\n",
    "pipline_func.set_input_dataset(\"pipeline_repair_rate_damage\", pipeline_damage)\n",
    "# Load fragility mapping\n",
    "\n",
    "# Set analysis parameters\n",
    "pipline_func.set_parameter(\"result_name\", \"mmsa_pipeline_functionality\")\n",
    "pipline_func.set_parameter(\"num_samples\", 100)\n",
    "\n",
    "# Run pipeline analysis\n",
    "pipline_func.run_analysis()"
   ]
  },
  {
   "cell_type": "code",
   "execution_count": null,
   "id": "02d3e9f7",
   "metadata": {},
   "outputs": [],
   "source": [
    "pipline_func.get_output_dataset(\"failure_probability\").get_dataframe_from_csv().head()"
   ]
  },
  {
   "cell_type": "code",
   "execution_count": null,
   "id": "bf26fa14",
   "metadata": {},
   "outputs": [],
   "source": [
    "pipline_func.get_output_dataset(\"sample_failure_state\").get_dataframe_from_csv().head()"
   ]
  }
 ],
 "metadata": {
  "kernelspec": {
   "display_name": "Python 3 (ipykernel)",
   "language": "python",
   "name": "python3"
  },
  "language_info": {
   "codemirror_mode": {
    "name": "ipython",
    "version": 3
   },
   "file_extension": ".py",
   "mimetype": "text/x-python",
   "name": "python",
   "nbconvert_exporter": "python",
   "pygments_lexer": "ipython3",
   "version": "3.8.13"
  }
 },
 "nbformat": 4,
 "nbformat_minor": 5
}
