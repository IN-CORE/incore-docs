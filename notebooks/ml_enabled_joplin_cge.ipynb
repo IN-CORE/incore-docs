{
 "cells": [
  {
   "cell_type": "code",
   "execution_count": null,
   "metadata": {},
   "outputs": [],
   "source": [
    "from pyincore import IncoreClient, globals as pyglobals\n",
    "from pyincore.analyses.mlenabledcgejoplin import MlEnabledCgeJoplin\n",
    "\n",
    "from pyincore import globals as pyglobals\n",
    "\n",
    "# Supress default INFO logging\n",
    "\n",
    "import logging\n",
    "\n",
    "logger = pyglobals.LOGGER\n",
    "logger.setLevel(logging.CRITICAL)"
   ]
  },
  {
   "cell_type": "code",
   "execution_count": null,
   "metadata": {},
   "outputs": [],
   "source": [
    "client = IncoreClient()"
   ]
  },
  {
   "cell_type": "code",
   "execution_count": null,
   "metadata": {},
   "outputs": [],
   "source": [
    "# Sector shocks from the new Joplin Building einventory\n",
    "sector_shocks = \"6706b903e905f3105421bfdf\""
   ]
  },
  {
   "cell_type": "code",
   "execution_count": null,
   "metadata": {},
   "outputs": [],
   "source": [
    "# Create Machine Learning Enabled CGE Joplin Model\n",
    "mlcgejoplin = MlEnabledCgeJoplin(client)"
   ]
  },
  {
   "cell_type": "code",
   "execution_count": null,
   "metadata": {},
   "outputs": [],
   "source": [
    "# Set analysis input datasets\n",
    "mlcgejoplin.load_remote_input_dataset(\"sector_shocks\", sector_shocks)\n",
    "\n",
    "# Optional parameters for file naming\n",
    "mlcgejoplin.set_parameter(\"result_name\", \"test_joplin_mlcge_result\")"
   ]
  },
  {
   "cell_type": "code",
   "execution_count": null,
   "metadata": {},
   "outputs": [],
   "source": [
    "# Run Joplin CGE model analysis\n",
    "mlcgejoplin.run_analysis()"
   ]
  },
  {
   "cell_type": "code",
   "execution_count": null,
   "metadata": {},
   "outputs": [],
   "source": [
    "domestic_supply = mlcgejoplin.get_output_dataset(\"domestic-supply\")\n",
    "ds = domestic_supply.get_dataframe_from_csv()\n",
    "# Display top 6 rows of output data\n",
    "ds.head(6)"
   ]
  },
  {
   "cell_type": "code",
   "execution_count": null,
   "metadata": {},
   "outputs": [],
   "source": [
    "gross_income = mlcgejoplin.get_output_dataset(\"gross-income\")\n",
    "gi = gross_income.get_dataframe_from_csv()\n",
    "gi.head()"
   ]
  },
  {
   "cell_type": "code",
   "execution_count": null,
   "metadata": {},
   "outputs": [],
   "source": [
    "pre_factor_demand = mlcgejoplin.get_output_dataset(\"pre-disaster-factor-demand\")\n",
    "pre_fd = pre_factor_demand.get_dataframe_from_csv()\n",
    "pre_fd.head()"
   ]
  },
  {
   "cell_type": "code",
   "execution_count": null,
   "metadata": {},
   "outputs": [],
   "source": [
    "post_factor_demand = mlcgejoplin.get_output_dataset(\"post-disaster-factor-demand\")\n",
    "pos_fd = post_factor_demand.get_dataframe_from_csv()\n",
    "pos_fd.head()"
   ]
  },
  {
   "cell_type": "code",
   "execution_count": null,
   "metadata": {},
   "outputs": [],
   "source": [
    "household_count = mlcgejoplin.get_output_dataset(\"household-count\")\n",
    "hc = household_count.get_dataframe_from_csv()\n",
    "hc.head()"
   ]
  }
 ],
 "metadata": {
  "kernelspec": {
   "display_name": "incore",
   "language": "python",
   "name": "python3"
  },
  "language_info": {
   "codemirror_mode": {
    "name": "ipython",
    "version": 3
   },
   "file_extension": ".py",
   "mimetype": "text/x-python",
   "name": "python",
   "nbconvert_exporter": "python",
   "pygments_lexer": "ipython3",
   "version": "3.11.6"
  }
 },
 "nbformat": 4,
 "nbformat_minor": 2
}
