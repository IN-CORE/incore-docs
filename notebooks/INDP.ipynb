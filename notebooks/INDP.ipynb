{
 "cells": [
  {
   "cell_type": "code",
   "execution_count": null,
   "id": "ed1b42c8",
   "metadata": {},
   "outputs": [],
   "source": [
    "import pandas as pd\n",
    "from pyincore import IncoreClient, Dataset, RestorationService, MappingSet, FragilityService, NetworkDataset\n",
    "from pyincore.analyses.buildingdamage import BuildingDamage\n",
    "from pyincore.analyses.epfrepaircost import EpfRepairCost\n",
    "from pyincore.analyses.epfrestoration import EpfRestoration\n",
    "from pyincore.analyses.housingunitallocation import HousingUnitAllocation\n",
    "from pyincore.analyses.indp import INDP\n",
    "import pyincore.globals as pyglobals\n",
    "from pyincore.analyses.pipelinerepaircost import PipelineRepairCost\n",
    "from pyincore.analyses.populationdislocation import PopulationDislocation\n",
    "from pyincore.analyses.waterfacilitydamage import WaterFacilityDamage\n",
    "from pyincore.analyses.epfdamage import EpfDamage\n",
    "from pyincore.analyses.pipelinedamagerepairrate import PipelineDamageRepairRate\n",
    "from pyincore.analyses.montecarlofailureprobability import MonteCarloFailureProbability\n",
    "from pyincore.analyses.pipelinefunctionality import PipelineFunctionality\n",
    "from pyincore.analyses.pipelinerestoration import PipelineRestoration\n",
    "from pyincore.analyses.waterfacilityrepaircost import WaterFacilityRepairCost\n",
    "from pyincore.analyses.waterfacilityrestoration import WaterFacilityRestoration\n",
    "from pyincore.dataservice import DataService"
   ]
  },
  {
   "cell_type": "code",
   "execution_count": null,
   "id": "ba0a8f53",
   "metadata": {},
   "outputs": [],
   "source": [
    "client = IncoreClient()\n",
    "datasvc = DataService(client)"
   ]
  },
  {
   "cell_type": "markdown",
   "id": "f4271b35",
   "metadata": {},
   "source": [
    "### Preparing dataset and common parameters"
   ]
  },
  {
   "cell_type": "code",
   "execution_count": null,
   "id": "3e58274c",
   "metadata": {},
   "outputs": [],
   "source": [
    "hazard_type = \"earthquake\"\n",
    "hazard_id = \"5ba8f127ec2309043520906c\"  # 1000 yr eq\n",
    "num_cpu = 8\n",
    "sim_number = 2\n",
    "sample_range = range(0, sim_number)\n",
    "result_name = \"seaside_indp\"\n",
    "\n",
    "bldg_inv_id = \"613ba5ef5d3b1d6461e8c415\"\n",
    "seed = 1111\n",
    "\n",
    "# power and water networks\n",
    "power_network_dataset = Dataset.from_data_service(\"64adbc47c36a346b1f3969f0\", data_service=datasvc)\n",
    "power_network = NetworkDataset.from_dataset(power_network_dataset)\n",
    "water_network_dataset = Dataset.from_data_service(\"64adbed3e1b74b4e158210ed\", data_service=datasvc)\n",
    "water_network = NetworkDataset.from_dataset(water_network_dataset)\n",
    "water_facilities = water_network.nodes\n",
    "epfs = power_network.nodes\n",
    "pipeline = water_network.links"
   ]
  },
  {
   "cell_type": "markdown",
   "id": "5625e178",
   "metadata": {},
   "source": [
    "### Water Facility Damage"
   ]
  },
  {
   "cell_type": "code",
   "execution_count": null,
   "id": "d5f00d01",
   "metadata": {},
   "outputs": [],
   "source": [
    "wterfclty_dmg = WaterFacilityDamage(client)\n",
    "fragility_service = FragilityService(client)\n",
    "wterfclty_dmg.set_input_dataset(\"water_facilities\", water_facilities)\n",
    "mapping_id = \"5d39e010b9219cc18bd0b0b6\"  # 5 DS\n",
    "mapping_set = MappingSet(fragility_service.get_mapping(mapping_id))\n",
    "wterfclty_dmg.set_input_dataset(\"dfr3_mapping_set\", mapping_set)\n",
    "wterfclty_dmg.set_parameter(\"hazard_type\", hazard_type)\n",
    "wterfclty_dmg.set_parameter(\"fragility_key\", \"pga\")\n",
    "wterfclty_dmg.set_parameter(\"num_cpu\", num_cpu)\n",
    "wterfclty_dmg.set_parameter(\"hazard_id\", hazard_id)\n",
    "wterfclty_dmg.set_parameter(\"result_name\", result_name + \"_wf_damage\")\n",
    "wterfclty_dmg.run_analysis()\n",
    "wterfclty_dmg_result = wterfclty_dmg.get_output_dataset(\"result\")"
   ]
  },
  {
   "cell_type": "markdown",
   "id": "b530389f",
   "metadata": {},
   "source": [
    "### Water Facility Monte Carlo Simulation"
   ]
  },
  {
   "cell_type": "code",
   "execution_count": null,
   "id": "be8e87c4",
   "metadata": {
    "scrolled": true
   },
   "outputs": [],
   "source": [
    "wterfclty_mc = MonteCarloFailureProbability(client)\n",
    "wterfclty_mc.set_input_dataset(\"damage\", wterfclty_dmg_result)\n",
    "wterfclty_mc.set_parameter(\"num_cpu\", num_cpu)\n",
    "wterfclty_mc.set_parameter(\"num_samples\", sim_number)\n",
    "wterfclty_mc.set_parameter(\"damage_interval_keys\", [\"DS_0\", \"DS_1\", \"DS_2\", \"DS_3\", \"DS_4\"])\n",
    "wterfclty_mc.set_parameter(\"failure_state_keys\", [\"DS_1\", \"DS_2\", \"DS_3\", \"DS_4\"])\n",
    "wterfclty_mc.set_parameter(\"result_name\", result_name + \"_wf\")  # name of csv file with results\n",
    "wterfclty_mc.run()\n",
    "wterfclty_sample_failure_state = wterfclty_mc.get_output_dataset(\"sample_failure_state\")\n",
    "wterfclty_sample_damage_states = wterfclty_mc.get_output_dataset(\"sample_damage_states\")"
   ]
  },
  {
   "cell_type": "code",
   "execution_count": null,
   "id": "30c8ece0",
   "metadata": {},
   "outputs": [],
   "source": [
    "wterfclty_sample_damage_states.get_dataframe_from_csv().head()"
   ]
  },
  {
   "cell_type": "markdown",
   "id": "bd27d77e",
   "metadata": {},
   "source": [
    "### Water Facility Repair Time"
   ]
  },
  {
   "cell_type": "code",
   "execution_count": null,
   "id": "1291c384",
   "metadata": {},
   "outputs": [],
   "source": [
    "wterfclty_rest = WaterFacilityRestoration(client)\n",
    "restorationsvc = RestorationService(client)\n",
    "mapping_set = MappingSet(restorationsvc.get_mapping(\"61f075ee903e515036cee0a5\"))\n",
    "wterfclty_rest.set_input_dataset(\"water_facilities\", water_facilities)\n",
    "wterfclty_rest.set_input_dataset(\"dfr3_mapping_set\", mapping_set)\n",
    "wterfclty_rest.set_input_dataset('damage', wterfclty_dmg_result)\n",
    "wterfclty_rest.set_parameter(\"result_name\", result_name + \"_wf_restoration\")\n",
    "wterfclty_rest.set_parameter(\"discretized_days\", [1, 3, 7, 30, 90])\n",
    "wterfclty_rest.set_parameter(\"restoration_key\", \"Restoration ID Code\")\n",
    "wterfclty_rest.set_parameter(\"end_time\", 100.0)\n",
    "wterfclty_rest.set_parameter(\"time_interval\", 1.0)\n",
    "wterfclty_rest.set_parameter(\"pf_interval\", 0.01)\n",
    "wterfclty_rest.run_analysis()\n",
    "wf_restoration_time = wterfclty_rest.get_output_dataset(\"repair_times\")"
   ]
  },
  {
   "cell_type": "markdown",
   "id": "486672c6",
   "metadata": {},
   "source": [
    "### Water Facility Repair Cost    "
   ]
  },
  {
   "cell_type": "code",
   "execution_count": null,
   "id": "84ca2cf9",
   "metadata": {},
   "outputs": [],
   "source": [
    "wf_repair_cost = WaterFacilityRepairCost(client)\n",
    "wf_repair_cost.set_input_dataset(\"water_facilities\", water_facilities)\n",
    "wf_repair_cost.load_remote_input_dataset(\"replacement_cost\", \"64833bcdd3f39a26a0c8b147\")\n",
    "wf_repair_cost.set_input_dataset(\"sample_damage_states\", wterfclty_sample_damage_states)\n",
    "wf_repair_cost.load_remote_input_dataset(\"wf_dmg_ratios\", \"647e423d7ae18139d9758607\")\n",
    "wf_repair_cost.set_parameter(\"result_name\", result_name + \"_wf_repair_cost\")\n",
    "wf_repair_cost.set_parameter(\"num_cpu\", num_cpu)\n",
    "wf_repair_cost.run_analysis()\n",
    "wf_repair_cost_result = wf_repair_cost.get_output_dataset(\"result\")"
   ]
  },
  {
   "cell_type": "markdown",
   "id": "00f0e871",
   "metadata": {},
   "source": [
    "### Electric Power Facililty Damage"
   ]
  },
  {
   "cell_type": "code",
   "execution_count": null,
   "id": "c8de373c",
   "metadata": {},
   "outputs": [],
   "source": [
    "epf_dmg = EpfDamage(client)\n",
    "fragility_service = FragilityService(client)\n",
    "epf_dmg.set_input_dataset(\"epfs\", epfs)\n",
    "mapping_id = \"64ac5f3ad2122d1f95f36356\"  # 5 DS\n",
    "mapping_set = MappingSet(fragility_service.get_mapping(mapping_id))\n",
    "epf_dmg.set_input_dataset('dfr3_mapping_set', mapping_set)\n",
    "epf_dmg.set_parameter(\"hazard_type\", hazard_type)\n",
    "epf_dmg.set_parameter(\"num_cpu\", num_cpu)\n",
    "epf_dmg.set_parameter('fragility_key', \"pga\")\n",
    "epf_dmg.set_parameter(\"hazard_id\", hazard_id)\n",
    "epf_dmg.set_parameter(\"result_name\", result_name + \"_epf_dmg\")\n",
    "epf_dmg.run_analysis()\n",
    "epf_dmg_result = epf_dmg.get_output_dataset(\"result\")"
   ]
  },
  {
   "cell_type": "markdown",
   "id": "febf8e95",
   "metadata": {},
   "source": [
    "### Electric Power Repair Time"
   ]
  },
  {
   "cell_type": "code",
   "execution_count": null,
   "id": "2b5f2d41",
   "metadata": {},
   "outputs": [],
   "source": [
    "epf_rest = EpfRestoration(client)\n",
    "restorationsvc = RestorationService(client)\n",
    "mapping_set = MappingSet(restorationsvc.get_mapping(\"61f302e6e3a03e465500b3eb\"))\n",
    "epf_rest.set_input_dataset(\"epfs\", epfs)\n",
    "epf_rest.set_input_dataset(\"dfr3_mapping_set\", mapping_set)\n",
    "epf_rest.set_input_dataset('damage', epf_dmg_result)\n",
    "epf_rest.set_parameter(\"result_name\", result_name + \"_epf_restoration\")\n",
    "epf_rest.set_parameter(\"discretized_days\", [1, 3, 7, 30, 90])\n",
    "epf_rest.set_parameter(\"restoration_key\", \"Restoration ID Code\")\n",
    "epf_rest.set_parameter(\"end_time\", 100.0)\n",
    "epf_rest.set_parameter(\"time_interval\", 1.0)\n",
    "epf_rest.set_parameter(\"pf_interval\", 0.01)\n",
    "epf_rest.run_analysis()\n",
    "epf_restoration_time = epf_rest.get_output_dataset(\"repair_times\")"
   ]
  },
  {
   "cell_type": "markdown",
   "id": "a467d0d1",
   "metadata": {},
   "source": [
    "### Eletric Power Facility Monte Carlos Simulation"
   ]
  },
  {
   "cell_type": "code",
   "execution_count": null,
   "id": "9230e77d",
   "metadata": {},
   "outputs": [],
   "source": [
    "epf_mc = MonteCarloFailureProbability(client)\n",
    "epf_mc.set_input_dataset(\"damage\", epf_dmg_result)\n",
    "epf_mc.set_parameter(\"num_cpu\", num_cpu)\n",
    "epf_mc.set_parameter(\"num_samples\", sim_number)\n",
    "epf_mc.set_parameter(\"damage_interval_keys\", [\"DS_0\", \"DS_1\", \"DS_2\", \"DS_3\", \"DS_4\"])\n",
    "epf_mc.set_parameter(\"failure_state_keys\", [\"DS_1\", \"DS_2\", \"DS_3\", \"DS_4\"])\n",
    "epf_mc.set_parameter(\"result_name\", result_name + \"_epf\")  # name of csv file with results\n",
    "epf_mc.run()\n",
    "epf_sample_failure_state = epf_mc.get_output_dataset(\"sample_failure_state\")\n",
    "epf_sample_damage_states = epf_mc.get_output_dataset(\"sample_damage_states\")\n",
    "epf_sample_damage_states.get_dataframe_from_csv().head()"
   ]
  },
  {
   "cell_type": "markdown",
   "id": "a4b91790",
   "metadata": {},
   "source": [
    "### Eletric Power Facility Repair Cost"
   ]
  },
  {
   "cell_type": "code",
   "execution_count": null,
   "id": "498475c6",
   "metadata": {},
   "outputs": [],
   "source": [
    "epf_repair_cost = EpfRepairCost(client)\n",
    "epf_repair_cost.set_input_dataset(\"epfs\", epfs)\n",
    "epf_repair_cost.load_remote_input_dataset(\"replacement_cost\", \"647dff5b4dd25160127ca192\")\n",
    "epf_repair_cost.set_input_dataset(\"sample_damage_states\", epf_sample_damage_states)\n",
    "epf_repair_cost.load_remote_input_dataset(\"epf_dmg_ratios\", \"6483354b41181d20004efbd7\")\n",
    "epf_repair_cost.set_parameter(\"result_name\", result_name + \"_epf_repair_cost\")\n",
    "epf_repair_cost.set_parameter(\"num_cpu\", num_cpu)\n",
    "epf_repair_cost.run_analysis()\n",
    "epf_repair_cost_result = epf_repair_cost.get_output_dataset(\"result\")"
   ]
  },
  {
   "cell_type": "markdown",
   "id": "1ef03d87",
   "metadata": {},
   "source": [
    "### Pipeline Repair Rate damage"
   ]
  },
  {
   "cell_type": "code",
   "execution_count": null,
   "id": "2d6bd1aa",
   "metadata": {},
   "outputs": [],
   "source": [
    "pipeline_dmg = PipelineDamageRepairRate(client)\n",
    "fragility_service = FragilityService(client)\n",
    "pipeline_dmg.set_input_dataset(\"pipeline\", pipeline)\n",
    "mapping_id = \"5b47c227337d4a38464efea8\"\n",
    "mapping_set = MappingSet(fragility_service.get_mapping(mapping_id))\n",
    "pipeline_dmg.set_input_dataset('dfr3_mapping_set', mapping_set)\n",
    "pipeline_dmg.set_parameter(\"hazard_type\", hazard_type)\n",
    "pipeline_dmg.set_parameter(\"fragility_key\", 'pgv')\n",
    "pipeline_dmg.set_parameter(\"num_cpu\", num_cpu)\n",
    "pipeline_dmg.set_parameter(\"hazard_id\", hazard_id)\n",
    "pipeline_dmg.set_parameter(\"result_name\", result_name + \"_pipeline_dmg\")\n",
    "pipeline_dmg.run_analysis()\n",
    "pipeline_dmg_result = pipeline_dmg.get_output_dataset(\"result\")"
   ]
  },
  {
   "cell_type": "markdown",
   "id": "79f14989",
   "metadata": {},
   "source": [
    "### Pipeline Functionality"
   ]
  },
  {
   "cell_type": "code",
   "execution_count": null,
   "id": "1172cc50",
   "metadata": {},
   "outputs": [],
   "source": [
    "pipeline_func = PipelineFunctionality(client)\n",
    "pipeline_func.set_input_dataset(\"pipeline_repair_rate_damage\", pipeline_dmg_result)\n",
    "pipeline_func.set_parameter(\"result_name\", result_name + \"_pipeline\")\n",
    "pipeline_func.set_parameter(\"num_samples\", sim_number)\n",
    "pipeline_func.run_analysis()\n",
    "pipeline_sample_failure_state = pipeline_func.get_output_dataset(\"sample_failure_state\")\n",
    "pipeline_sample_failure_state.get_dataframe_from_csv().head()"
   ]
  },
  {
   "cell_type": "markdown",
   "id": "5396072e",
   "metadata": {},
   "source": [
    "### Pipeline Repair Time"
   ]
  },
  {
   "cell_type": "code",
   "execution_count": null,
   "id": "76651f2f",
   "metadata": {},
   "outputs": [],
   "source": [
    "pipeline_rest = PipelineRestoration(client)\n",
    "restorationsvc = RestorationService(client)\n",
    "mapping_set = MappingSet(restorationsvc.get_mapping(\"61f35f09903e515036cee106\"))\n",
    "pipeline_rest.set_input_dataset(\"pipeline\", pipeline)\n",
    "pipeline_rest.set_input_dataset(\"pipeline_damage\", pipeline_dmg_result)\n",
    "pipeline_rest.set_input_dataset(\"dfr3_mapping_set\", mapping_set)\n",
    "pipeline_rest.set_parameter(\"num_available_workers\", 4)\n",
    "pipeline_rest.set_parameter(\"result_name\", result_name + \"_pipeline_restoration\")\n",
    "pipeline_rest.run_analysis()\n",
    "pipeline_restoration_time = pipeline_rest.get_output_dataset(\"pipeline_restoration\")"
   ]
  },
  {
   "cell_type": "markdown",
   "id": "92eb500b",
   "metadata": {},
   "source": [
    "### Pipeline Repair Cost"
   ]
  },
  {
   "cell_type": "code",
   "execution_count": null,
   "id": "3444f5ea",
   "metadata": {},
   "outputs": [],
   "source": [
    "pipeline_repair_cost = PipelineRepairCost(client)\n",
    "pipeline_repair_cost.set_input_dataset(\"pipeline\", pipeline)\n",
    "pipeline_repair_cost.load_remote_input_dataset(\"replacement_cost\", \"6480a2787ae18139d975e919\")\n",
    "pipeline_repair_cost.set_input_dataset(\"pipeline_dmg\", pipeline_dmg_result)\n",
    "pipeline_repair_cost.load_remote_input_dataset(\"pipeline_dmg_ratios\", \"6480a2d44dd25160127d2fcc\")\n",
    "pipeline_repair_cost.set_parameter(\"result_name\", result_name + \"_pipeline_repair_cost\")\n",
    "pipeline_repair_cost.set_parameter(\"num_cpu\", num_cpu)\n",
    "pipeline_repair_cost.run_analysis()\n",
    "pipeline_repair_cost_result = pipeline_repair_cost.get_output_dataset(\"result\")"
   ]
  },
  {
   "cell_type": "markdown",
   "id": "c4bed413",
   "metadata": {},
   "source": [
    "### Building Damage"
   ]
  },
  {
   "cell_type": "code",
   "execution_count": null,
   "id": "2d6cbfcb",
   "metadata": {},
   "outputs": [],
   "source": [
    "bldg_dmg = BuildingDamage(client)\n",
    "fragility_service = FragilityService(client)\n",
    "bldg_dmg.load_remote_input_dataset(\"buildings\", bldg_inv_id)\n",
    "mapping_id = \"5d2789dbb9219c3c553c7977\"  # 4 DS\n",
    "mapping_set = MappingSet(fragility_service.get_mapping(mapping_id))\n",
    "bldg_dmg.set_input_dataset('dfr3_mapping_set', mapping_set)\n",
    "bldg_dmg.set_parameter(\"hazard_type\", hazard_type)\n",
    "bldg_dmg.set_parameter(\"num_cpu\", 4)\n",
    "bldg_dmg.set_parameter(\"hazard_id\", hazard_id)\n",
    "bldg_dmg.set_parameter(\"result_name\", result_name + \"_bldg_dmg\")\n",
    "bldg_dmg.run_analysis()\n",
    "building_dmg_result = bldg_dmg.get_output_dataset(\"ds_result\")"
   ]
  },
  {
   "cell_type": "markdown",
   "id": "a30a678c",
   "metadata": {},
   "source": [
    "# Remove below block once the demand endpoint is deployed on prod/test"
   ]
  },
  {
   "cell_type": "code",
   "execution_count": null,
   "id": "489f7c72",
   "metadata": {},
   "outputs": [],
   "source": [
    "dev_client = IncoreClient(\"https://incore-dev.ncsa.illinois.edu\")\n",
    "bldg_inv_id_dev = \"64c7d058a62b20774f4107b5\"\n",
    "hazard_id_dev = \"5ba8f127ec2309043520906c\"  # 1000 yr eq dev\n",
    "\n",
    "bldg_dmg = BuildingDamage(dev_client)\n",
    "fragility_service = FragilityService(dev_client)\n",
    "bldg_dmg.load_remote_input_dataset(\"buildings\", bldg_inv_id_dev)\n",
    "mapping_id = \"5e99c86d6129af000136defa\"  # 4 DS dev\n",
    "# mapping_id = \"5d2789dbb9219c3c553c7977\"  # 4 DS prod\n",
    "mapping_set = MappingSet(fragility_service.get_mapping(mapping_id))\n",
    "bldg_dmg.set_input_dataset('dfr3_mapping_set', mapping_set)\n",
    "bldg_dmg.set_parameter(\"hazard_type\", hazard_type)\n",
    "bldg_dmg.set_parameter(\"num_cpu\", 4)\n",
    "bldg_dmg.set_parameter(\"hazard_id\", hazard_id_dev)\n",
    "bldg_dmg.set_parameter(\"result_name\", result_name + \"_bldg_dmg\")\n",
    "bldg_dmg.run_analysis()\n",
    "building_dmg_result = bldg_dmg.get_output_dataset(\"ds_result\")"
   ]
  },
  {
   "cell_type": "markdown",
   "id": "e8e4d138",
   "metadata": {},
   "source": [
    "### Housing Unit Allocation"
   ]
  },
  {
   "cell_type": "code",
   "execution_count": null,
   "id": "19dd9144",
   "metadata": {},
   "outputs": [],
   "source": [
    "hua = HousingUnitAllocation(client)\n",
    "housing_unit_inv_id = \"5d543087b9219c0689b98234\"\n",
    "address_point_inv_id = \"5d542fefb9219c0689b981fb\"\n",
    "hua.load_remote_input_dataset(\"housing_unit_inventory\", housing_unit_inv_id)\n",
    "hua.load_remote_input_dataset(\"address_point_inventory\", address_point_inv_id)\n",
    "hua.load_remote_input_dataset(\"buildings\", bldg_inv_id)\n",
    "hua.set_parameter(\"result_name\", result_name + \"_hua\")\n",
    "hua.set_parameter(\"seed\", seed)\n",
    "hua.set_parameter(\"iterations\", 1)\n",
    "hua.run_analysis()\n",
    "hua_result = hua.get_output_dataset(\"result\")"
   ]
  },
  {
   "cell_type": "markdown",
   "id": "22c24d66",
   "metadata": {},
   "source": [
    "### Population Dislocation"
   ]
  },
  {
   "cell_type": "code",
   "execution_count": null,
   "id": "c4ed9e91",
   "metadata": {},
   "outputs": [],
   "source": [
    "pop_dis = PopulationDislocation(client)\n",
    "pop_dis.set_input_dataset(\"building_dmg\", building_dmg_result)\n",
    "pop_dis.set_input_dataset(\"housing_unit_allocation\", hua_result)\n",
    "pop_dis.load_remote_input_dataset(\"block_group_data\", \"5d542bd8b9219c0689b90408\")\n",
    "pop_dis.load_remote_input_dataset(\"value_loss_param\", \"60354810e379f22e16560dbd\")\n",
    "pop_dis.set_parameter(\"result_name\", result_name + \"_popdislocation\")\n",
    "pop_dis.set_parameter(\"seed\", seed)\n",
    "pop_dis.run_analysis()\n",
    "pop_dislocation_result = pop_dis.get_output_dataset(\"result\")"
   ]
  },
  {
   "cell_type": "markdown",
   "id": "93e1f26d",
   "metadata": {},
   "source": [
    "### INDP"
   ]
  },
  {
   "cell_type": "code",
   "execution_count": null,
   "id": "a92ed656",
   "metadata": {},
   "outputs": [],
   "source": [
    "indp_analysis = INDP(client)\n",
    "indp_analysis.set_parameter(\"network_type\", \"from_csv\")\n",
    "indp_analysis.set_parameter(\"MAGS\", [1000])\n",
    "indp_analysis.set_parameter(\"sample_range\", range(0,1))\n",
    "indp_analysis.set_parameter(\"dislocation_data_type\", \"incore\")\n",
    "indp_analysis.set_parameter(\"return_model\", \"step_function\")\n",
    "indp_analysis.set_parameter(\"testbed_name\", \"seaside\")\n",
    "indp_analysis.set_parameter(\"extra_commodity\", {1: [\"PW\"], 3: []})\n",
    "indp_analysis.set_parameter(\"RC\", [{\"budget\": 2400000, \"time\": 70}])\n",
    "indp_analysis.set_parameter(\"layers\", [1, 3])\n",
    "indp_analysis.set_parameter(\"method\", \"INDP\")\n",
    "# indp_analysis.set_parameter(\"method\", \"TDINDP\")\n",
    "indp_analysis.set_parameter(\"t_steps\", 10)\n",
    "indp_analysis.set_parameter(\"time_resource\", True)\n",
    "indp_analysis.set_parameter(\"save_model\", False)"
   ]
  },
  {
   "cell_type": "markdown",
   "id": "2bbf4e72",
   "metadata": {},
   "source": [
    "### With different solver engines"
   ]
  },
  {
   "cell_type": "raw",
   "id": "abd7eb87",
   "metadata": {},
   "source": [
    "# glpk\n",
    "indp_analysis.set_parameter(\"solver_engine\", \"glpk\")\n",
    "indp_analysis.set_parameter(\"solver_path\", \"/usr/local/bin/glpsol\")\n",
    "indp_analysis.set_parameter(\"solver_time_limit\", 3600)  # if not set default to never timeout"
   ]
  },
  {
   "cell_type": "raw",
   "id": "044f59d8",
   "metadata": {},
   "source": [
    "# scip\n",
    "indp_analysis.set_parameter(\"solver_engine\", \"scip\")\n",
    "indp_analysis.set_parameter(\"solver_path\", \"/usr/local/bin/scip\")\n",
    "indp_analysis.set_parameter(\"solver_time_limit\", 3600)  # if not set default to never timeout"
   ]
  },
  {
   "cell_type": "raw",
   "id": "7d3fbd3e",
   "metadata": {},
   "source": [
    "# cbc\n",
    "indp_analysis.set_parameter(\"solver_engine\", \"cbc\")\n",
    "indp_analysis.set_parameter(\"solver_path\", \"/usr/local/bin/cbc\")\n",
    "indp_analysis.set_parameter(\"solver_time_limit\", 3600)  # if not set default to never timeout"
   ]
  },
  {
   "cell_type": "code",
   "execution_count": null,
   "id": "bbbfe836",
   "metadata": {},
   "outputs": [],
   "source": [
    "# gurobi\n",
    "indp_analysis.set_parameter(\"solver_engine\", \"gurobi\")\n",
    "indp_analysis.set_parameter(\"solver_time_limit\", 3600)  # if not set default to never timeout"
   ]
  },
  {
   "cell_type": "code",
   "execution_count": null,
   "id": "0355ee16",
   "metadata": {},
   "outputs": [],
   "source": [
    "indp_analysis.set_input_dataset(\"wf_restoration_time\", wf_restoration_time)\n",
    "indp_analysis.set_input_dataset(\"wf_repair_cost\", wf_repair_cost_result)\n",
    "indp_analysis.set_input_dataset(\"epf_restoration_time\", epf_restoration_time)\n",
    "indp_analysis.set_input_dataset(\"epf_repair_cost\", epf_repair_cost_result)\n",
    "indp_analysis.set_input_dataset(\"pipeline_restoration_time\", pipeline_restoration_time)\n",
    "indp_analysis.set_input_dataset(\"pipeline_repair_cost\", pipeline_repair_cost_result)\n",
    "indp_analysis.set_input_dataset(\"power_network\", power_network_dataset)\n",
    "indp_analysis.set_input_dataset(\"water_network\", water_network_dataset)  # with distribution noes\n",
    "indp_analysis.load_remote_input_dataset(\"powerline_supply_demand_info\", \"64adbfdeae71103fb41906e6\")\n",
    "indp_analysis.load_remote_input_dataset(\"epf_supply_demand_info\", \"64adc019e1b74b4e1582110d\")\n",
    "indp_analysis.load_remote_input_dataset(\"wf_supply_demand_info\", \"64adc051ae71103fb41906e7\")\n",
    "indp_analysis.load_remote_input_dataset(\"pipeline_supply_demand_info\", \"64adc08ee1b74b4e1582110e\")\n",
    "indp_analysis.load_remote_input_dataset(\"interdep\", \"64adc0c4ae71103fb41906e8\")\n",
    "indp_analysis.set_input_dataset(\"wf_failure_state\", wterfclty_sample_failure_state)\n",
    "indp_analysis.set_input_dataset(\"wf_damage_state\", wterfclty_sample_damage_states)\n",
    "indp_analysis.set_input_dataset(\"pipeline_failure_state\", pipeline_sample_failure_state)\n",
    "indp_analysis.set_input_dataset(\"epf_failure_state\", epf_sample_failure_state)\n",
    "indp_analysis.set_input_dataset(\"epf_damage_state\", epf_sample_damage_states)\n",
    "indp_analysis.set_input_dataset(\"pop_dislocation\", pop_dislocation_result)"
   ]
  },
  {
   "cell_type": "code",
   "execution_count": null,
   "id": "915f6ce1",
   "metadata": {},
   "outputs": [],
   "source": [
    "# Run Analysis\n",
    "indp_analysis.run_analysis()"
   ]
  },
  {
   "cell_type": "code",
   "execution_count": null,
   "id": "c04a9575",
   "metadata": {},
   "outputs": [],
   "source": [
    "indp_analysis.get_output_dataset(\"action\").get_dataframe_from_csv().head()"
   ]
  },
  {
   "cell_type": "code",
   "execution_count": null,
   "id": "fd2566d4",
   "metadata": {},
   "outputs": [],
   "source": [
    "indp_analysis.get_output_dataset(\"cost\").get_dataframe_from_csv().head()"
   ]
  },
  {
   "cell_type": "code",
   "execution_count": null,
   "id": "431b14f0",
   "metadata": {},
   "outputs": [],
   "source": [
    "indp_analysis.get_output_dataset(\"runtime\").get_dataframe_from_csv().head()"
   ]
  },
  {
   "cell_type": "code",
   "execution_count": null,
   "id": "6ff7f5d5",
   "metadata": {},
   "outputs": [],
   "source": []
  }
 ],
 "metadata": {
  "kernelspec": {
   "display_name": "Python 3 (ipykernel)",
   "language": "python",
   "name": "python3"
  },
  "language_info": {
   "codemirror_mode": {
    "name": "ipython",
    "version": 3
   },
   "file_extension": ".py",
   "mimetype": "text/x-python",
   "name": "python",
   "nbconvert_exporter": "python",
   "pygments_lexer": "ipython3",
   "version": "3.8.16"
  }
 },
 "nbformat": 4,
 "nbformat_minor": 5
}
