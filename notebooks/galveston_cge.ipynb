{
 "cells": [
  {
   "cell_type": "code",
   "execution_count": null,
   "id": "c2666ba9",
   "metadata": {
    "pycharm": {
     "name": "#%%\n"
    }
   },
   "outputs": [],
   "source": [
    "from pyincore import IncoreClient\n",
    "from pyincore.analyses.galvestoncge import GalvestonCGEModel"
   ]
  },
  {
   "cell_type": "code",
   "execution_count": null,
   "id": "e7763606",
   "metadata": {
    "pycharm": {
     "name": "#%%\n"
    }
   },
   "outputs": [],
   "source": [
    "client = IncoreClient()"
   ]
  },
  {
   "cell_type": "code",
   "execution_count": null,
   "id": "875f5127",
   "metadata": {
    "pycharm": {
     "name": "#%%\n"
    }
   },
   "outputs": [],
   "source": [
    "# Social accounting matrix (SAM) contains data for firms, households and government which are organized in a way to \n",
    "# represent the interactions of all three entities in a typical economy.\n",
    "SAM = \"641e1fccea308903b2b8c51a\"\n",
    "\n",
    "# BB is a matrix which describes how investment in physical infrastructure is\n",
    "# transformed into functioning capital such as commercial and residential buildings.\n",
    "# These data are collected from the Bureau of Economic Analysis (BEA).\n",
    "BB = \"641e1fff34810d74880b3985\"\n",
    "\n",
    "# MISCH is a file that contains elasticities for the supply of labor with respect to paying income taxes.\n",
    "MISCH = \"641e21a702414a24a5436dfe\"  \n",
    "\n",
    "# EMPLOY is a table name containing data for commercial sector employment.\n",
    "EMPLOY = \"641e2152ea308903b2b8c51c\" \n",
    "\n",
    "# JOBCR is a matrix describing the supply of workers coming from each household group in the economy.\n",
    "JOBCR = \"641e209eea308903b2b8c51b\" \n",
    "\n",
    "# OUTCR is a matrix describing the number of workers who live in Salt Lake City but commute outside of town to work.\n",
    "OUTCR = \"641e20f134810d74880b3986\"\n",
    "sector_shocks = \"643adeb634810d74880e7bd5\"# This is the aggregation of building functionality states to capital shocks per sector."
   ]
  },
  {
   "cell_type": "code",
   "execution_count": null,
   "id": "c29ebf96",
   "metadata": {
    "pycharm": {
     "name": "#%%\n"
    }
   },
   "outputs": [],
   "source": [
    "# Create Galveston City CGE Model\n",
    "galveston_cge = GalvestonCGEModel(client)"
   ]
  },
  {
   "cell_type": "code",
   "execution_count": null,
   "id": "ad120389",
   "metadata": {},
   "outputs": [],
   "source": [
    "# Set analysis input datasets\n",
    "galveston_cge.set_parameter(\"model_iterations\", 1)\n",
    "galveston_cge.load_remote_input_dataset(\"SAM\", SAM)\n",
    "galveston_cge.load_remote_input_dataset(\"BB\", BB)\n",
    "galveston_cge.load_remote_input_dataset(\"MISCH\", MISCH)\n",
    "galveston_cge.load_remote_input_dataset(\"EMPLOY\", EMPLOY)\n",
    "galveston_cge.load_remote_input_dataset(\"JOBCR\", JOBCR)\n",
    "galveston_cge.load_remote_input_dataset(\"OUTCR\", OUTCR)\n",
    "galveston_cge.load_remote_input_dataset(\"sector_shocks\", sector_shocks)\n",
    "\n",
    "# Set analysis parameters\n",
    "# saltlake_cge.set_parameter(\"solver_path\", \"ipopt\")\n",
    "galveston_cge.set_parameter(\"model_iterations\", 1)"
   ]
  },
  {
   "cell_type": "code",
   "execution_count": null,
   "id": "853533f8",
   "metadata": {},
   "outputs": [],
   "source": [
    "# Run Galveston CGE model analysis\n",
    "galveston_cge.run_analysis()"
   ]
  },
  {
   "cell_type": "code",
   "execution_count": null,
   "id": "d19c090e",
   "metadata": {},
   "outputs": [],
   "source": [
    "domestic_supply = galveston_cge.get_output_dataset('domestic-supply')\n",
    "ds = domestic_supply.get_dataframe_from_csv()\n",
    "# Display top 6 rows of output data\n",
    "ds.head(6)"
   ]
  },
  {
   "cell_type": "code",
   "execution_count": null,
   "id": "d70d5eec",
   "metadata": {},
   "outputs": [],
   "source": [
    "gross_income = galveston_cge.get_output_dataset('gross-income')\n",
    "gi = gross_income.get_dataframe_from_csv()\n",
    "gi.head()"
   ]
  },
  {
   "cell_type": "code",
   "execution_count": null,
   "id": "9af7db4d",
   "metadata": {},
   "outputs": [],
   "source": [
    "pre_factor_demand = galveston_cge.get_output_dataset('pre-disaster-factor-demand')\n",
    "pre_fd = pre_factor_demand.get_dataframe_from_csv()\n",
    "pre_fd.head()"
   ]
  },
  {
   "cell_type": "code",
   "execution_count": null,
   "id": "bfa29f87",
   "metadata": {},
   "outputs": [],
   "source": [
    "post_factor_demand = galveston_cge.get_output_dataset('post-disaster-factor-demand')\n",
    "pos_fd = post_factor_demand.get_dataframe_from_csv()\n",
    "pos_fd.head()"
   ]
  },
  {
   "cell_type": "code",
   "execution_count": null,
   "id": "d2580a74",
   "metadata": {},
   "outputs": [],
   "source": [
    "household_count = galveston_cge.get_output_dataset('household-count')\n",
    "hc = household_count.get_dataframe_from_csv()\n",
    "hc.head()"
   ]
  }
 ],
 "metadata": {
  "kernelspec": {
   "display_name": "Python 3 (ipykernel)",
   "language": "python",
   "name": "python3"
  },
  "language_info": {
   "codemirror_mode": {
    "name": "ipython",
    "version": 3
   },
   "file_extension": ".py",
   "mimetype": "text/x-python",
   "name": "python",
   "nbconvert_exporter": "python",
   "pygments_lexer": "ipython3",
   "version": "3.8.16"
  }
 },
 "nbformat": 4,
 "nbformat_minor": 5
}
