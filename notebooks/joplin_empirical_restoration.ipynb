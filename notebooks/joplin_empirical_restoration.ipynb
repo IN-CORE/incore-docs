{
 "cells": [
  {
   "cell_type": "code",
   "execution_count": null,
   "metadata": {},
   "outputs": [],
   "source": [
    "from pyincore.analyses.joplinempiricalrestoration import JoplinEmpiricalRestoration"
   ]
  },
  {
   "cell_type": "code",
   "execution_count": null,
   "metadata": {},
   "outputs": [],
   "source": [
    "client = IncoreClient()"
   ]
  },
  {
   "cell_type": "markdown",
   "metadata": {},
   "source": [
    "### Start with Joplin restoration model"
   ]
  },
  {
   "cell_type": "markdown",
   "metadata": {},
   "source": [
    "The example inventory is for Joplin, MO, after 2011 tornado."
   ]
  },
  {
   "cell_type": "code",
   "execution_count": null,
   "metadata": {},
   "outputs": [],
   "source": [
    "jer = JoplinEmpiricalRestoration(client)"
   ]
  },
  {
   "cell_type": "code",
   "execution_count": null,
   "metadata": {},
   "outputs": [],
   "source": [
    "# Joplin, MO building damage\n",
    "building_damage = \"\"  # dev\n",
    "# Target functionality levels\n",
    "functionality_level = \"\"\n",
    "\n",
    "# Load input dataset\n",
    "jer.load_remote_input_dataset(\"building_dmg\", building_damage)\n",
    "jer.load_remote_input_dataset(\"functionality_level\", functionality_level)"
   ]
  },
  {
   "cell_type": "code",
   "execution_count": null,
   "metadata": {
    "collapsed": false,
    "jupyter": {
     "outputs_hidden": false
    },
    "pycharm": {
     "name": "#%%\n"
    }
   },
   "outputs": [],
   "source": [
    "# Specify the result name\n",
    "result_name = \"IN-CORE_Joplin_empirical_restoration\"\n",
    "\n",
    "# Set analysis parameters\n",
    "jer.set_parameter(\"result_name\", result_name)\n",
    "jer.set_parameter(\"seed\", 1238)"
   ]
  },
  {
   "cell_type": "markdown",
   "metadata": {
    "pycharm": {
     "name": "#%% md\n"
    }
   },
   "source": [
    "# Run analysis and show results\n",
    "jer.run_analysis()\n",
    "jer.get_output_dataset(\"result\").get_dataframe_from_csv()"
   ]
  }
 ],
 "metadata": {
  "kernelspec": {
   "display_name": "Python 3",
   "language": "python",
   "name": "python3"
  },
  "language_info": {
   "codemirror_mode": {
    "name": "ipython",
    "version": 3
   },
   "file_extension": ".py",
   "mimetype": "text/x-python",
   "name": "python",
   "nbconvert_exporter": "python",
   "pygments_lexer": "ipython3",
   "version": "3.7.10"
  }
 },
 "nbformat": 4,
 "nbformat_minor": 4
}