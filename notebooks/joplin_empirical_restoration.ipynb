{
 "cells": [
  {
   "cell_type": "code",
   "execution_count": null,
   "metadata": {},
   "outputs": [],
   "source": [
    "from pyincore.analyses.joplinempiricalrestoration import JoplinEmpiricalRestoration\n",
    "from pyincore import IncoreClient\n",
    "import pyincore.globals as pyglobals"
   ]
  },
  {
   "cell_type": "code",
   "execution_count": null,
   "metadata": {},
   "outputs": [],
   "source": [
    "client = IncoreClient(pyglobals.INCORE_API_DEV_URL)"
   ]
  },
  {
   "cell_type": "markdown",
   "metadata": {},
   "source": [
    "### Start with Joplin restoration model"
   ]
  },
  {
   "cell_type": "markdown",
   "metadata": {},
   "source": [
    "The example inventory is for Joplin, MO, after 2011 tornado."
   ]
  },
  {
   "cell_type": "code",
   "execution_count": null,
   "metadata": {},
   "outputs": [],
   "source": [
    "restoration = JoplinEmpiricalRestoration(client)"
   ]
  },
  {
   "cell_type": "code",
   "execution_count": null,
   "metadata": {},
   "outputs": [],
   "source": [
    "# Joplin, MO building damage\n",
    "building_damage = \"602d96e4b1db9c28aeeebdce\"  # dev Joplin\n",
    "\n",
    "# Load input dataset\n",
    "restoration.load_remote_input_dataset(\"building_dmg\", building_damage)"
   ]
  },
  {
   "cell_type": "code",
   "execution_count": null,
   "metadata": {
    "collapsed": false,
    "jupyter": {
     "outputs_hidden": false
    },
    "pycharm": {
     "name": "#%%\n"
    }
   },
   "outputs": [],
   "source": [
    "# Specify the result name\n",
    "result_name = \"IN-CORE_Joplin_empirical_restoration\"\n",
    "\n",
    "# Set analysis parameters\n",
    "restoration.set_parameter(\"result_name\", result_name)\n",
    "restoration.set_parameter(\"target_functionality_level\", 0)\n",
    "restoration.set_parameter(\"seed\", 1238)"
   ]
  },
  {
   "cell_type": "markdown",
   "metadata": {
    "pycharm": {
     "name": "#%% md\n"
    }
   },
   "source": [
    "# Run analysis and show results\n",
    "restoration.run_analysis()\n",
    "restoration.get_output_dataset(\"result\").get_dataframe_from_csv()"
   ]
  }
 ],
 "metadata": {
  "kernelspec": {
   "display_name": "Python 3",
   "language": "python",
   "name": "python3"
  },
  "language_info": {
   "codemirror_mode": {
    "name": "ipython",
    "version": 3
   },
   "file_extension": ".py",
   "mimetype": "text/x-python",
   "name": "python",
   "nbconvert_exporter": "python",
   "pygments_lexer": "ipython3",
   "version": "3.7.10"
  }
 },
 "nbformat": 4,
 "nbformat_minor": 4
}