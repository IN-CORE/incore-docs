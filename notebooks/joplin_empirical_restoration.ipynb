{
 "cells": [
  {
   "cell_type": "code",
   "execution_count": null,
   "metadata": {},
   "outputs": [],
   "source": [
    "from pyincore import IncoreClient, FragilityService, MappingSet\n",
    "from pyincore.analyses.buildingdamage import BuildingDamage\n",
    "from pyincore.analyses.joplinempiricalrestoration import JoplinEmpiricalRestoration\n",
    "import pyincore.globals as pyglobals"
   ]
  },
  {
   "cell_type": "code",
   "execution_count": null,
   "metadata": {},
   "outputs": [],
   "source": [
    "client = IncoreClient()"
   ]
  },
  {
   "cell_type": "markdown",
   "metadata": {},
   "source": [
    "### Start with Joplin building damage analysis"
   ]
  },
  {
   "cell_type": "code",
   "execution_count": null,
   "metadata": {
    "pycharm": {
     "name": "#%%\n"
    }
   },
   "outputs": [],
   "source": [
    "# Joplin, MO building dataset\n",
    "bldg_dataset_id = \"5dbc8478b9219c06dd242c0d\"\n",
    "\n",
    "bldg_dmg = BuildingDamage(client)\n",
    "bldg_dmg.load_remote_input_dataset(\"buildings\", bldg_dataset_id)\n",
    "\n",
    "mapping_id = \"5d8942dfb9219c068ea795ea\"  # 19 archetype, non-retrofit\n",
    "fragility_service = FragilityService(client)\n",
    "mapping_set = MappingSet(fragility_service.get_mapping(mapping_id))\n",
    "bldg_dmg.set_input_dataset(\"dfr3_mapping_set\", mapping_set)\n",
    "bldg_dmg.set_parameter(\"fragility_key\", \"Non-Retrofit Fragility ID Code\")"
   ]
  },
  {
   "cell_type": "code",
   "execution_count": null,
   "metadata": {
    "pycharm": {
     "name": "#%%\n"
    }
   },
   "outputs": [],
   "source": [
    "# The simulated EF-5 tornado shows geographical locations and the range of wind speed\n",
    "# of tornado hazard in Joplin.\n",
    "hazard_type = \"tornado\"\n",
    "hazard_id = \"5d07cbeab9219c065b080930\""
   ]
  },
  {
   "cell_type": "code",
   "execution_count": null,
   "metadata": {
    "pycharm": {
     "name": "#%%\n"
    }
   },
   "outputs": [],
   "source": [
    "# parameters\n",
    "result_name = \"joplin_tornado_dmg_result\"\n",
    "bldg_dmg.set_parameter(\"result_name\", result_name)\n",
    "bldg_dmg.set_parameter(\"hazard_type\", hazard_type)\n",
    "bldg_dmg.set_parameter(\"hazard_id\", hazard_id)\n",
    "bldg_dmg.set_parameter(\"num_cpu\", 4)\n",
    "bldg_dmg.set_parameter(\"seed\", 1000)\n",
    "bldg_dmg.run_analysis()\n",
    "# end of Building damage analysis"
   ]
  },
  {
   "cell_type": "code",
   "execution_count": null,
   "metadata": {
    "pycharm": {
     "name": "#%%\n"
    }
   },
   "outputs": [],
   "source": [
    "# get csv results from Building damage analysis\n",
    "building_dmg_result = bldg_dmg.get_output_dataset(\"ds_result\")\n",
    "building_dmg_result.get_dataframe_from_csv()"
   ]
  },
  {
   "cell_type": "markdown",
   "metadata": {},
   "source": [
    "### Start with Joplin restoration model"
   ]
  },
  {
   "cell_type": "markdown",
   "metadata": {},
   "source": [
    "The example inventory is for Joplin, MO, after 2011 tornado."
   ]
  },
  {
   "cell_type": "code",
   "execution_count": null,
   "metadata": {},
   "outputs": [],
   "source": [
    "restoration = JoplinEmpiricalRestoration(client)"
   ]
  },
  {
   "cell_type": "code",
   "execution_count": null,
   "metadata": {},
   "outputs": [],
   "source": [
    "# Joplin, MO building damage\n",
    "restoration.load_remote_input_dataset(\"buildings\", bldg_dataset_id)\n",
    "# restoration.load_remote_input_dataset(\"building_dmg\", building_dmg_result)\n",
    "restoration.set_input_dataset(\"building_dmg\", building_dmg_result)"
   ]
  },
  {
   "cell_type": "code",
   "execution_count": null,
   "metadata": {
    "pycharm": {
     "name": "#%%\n"
    }
   },
   "outputs": [],
   "source": [
    "# parameters\n",
    "result_name = \"Joplin_empirical_restoration_result\"\n",
    "restoration.set_parameter(\"result_name\", result_name)\n",
    "restoration.set_parameter(\"target_functionality_level\", 0)\n",
    "restoration.set_parameter(\"seed\", 1234)"
   ]
  },
  {
   "cell_type": "code",
   "execution_count": null,
   "metadata": {},
   "outputs": [],
   "source": [
    "# Target functionality level is set to FL0, full restoration in the example above. A user has an option \n",
    "# to set target functionality level for each building by creating a csv file with two columns; \n",
    "# guid of a building and target level from (integer) 0 to 3. The file must be uploaded to IN-CORE data service.\n",
    "# The dataset id is then used in the notebook:\n",
    "#\n",
    "# restoration.load_remote_input_dataset(\"building_functionality_level\", building_fl_id)"
   ]
  },
  {
   "cell_type": "code",
   "execution_count": null,
   "metadata": {
    "pycharm": {
     "name": "#%%\n"
    }
   },
   "outputs": [],
   "source": [
    "# Run analysis and show results\n",
    "restoration.run_analysis()\n",
    "\n",
    "restoration_result = restoration.get_output_dataset(\"result\")\n",
    "\n",
    "# Convert dataset to Pandas DataFrame\n",
    "df_bldg_restoration = restoration_result.get_dataframe_from_csv()\n",
    "# Display top 5 rows of output data\n",
    "df_bldg_restoration[df_bldg_restoration[\"restorDays\"] > 0]"
   ]
  }
 ],
 "metadata": {
  "kernelspec": {
   "display_name": "Python 3 (ipykernel)",
   "language": "python",
   "name": "python3"
  },
  "language_info": {
   "codemirror_mode": {
    "name": "ipython",
    "version": 3
   },
   "file_extension": ".py",
   "mimetype": "text/x-python",
   "name": "python",
   "nbconvert_exporter": "python",
   "pygments_lexer": "ipython3",
   "version": "3.8.12"
  }
 },
 "nbformat": 4,
 "nbformat_minor": 4
}