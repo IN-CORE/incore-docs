{
 "cells": [
  {
   "cell_type": "code",
   "execution_count": null,
   "id": "b91f401e-91da-402c-bed4-2801b00a59d2",
   "metadata": {},
   "outputs": [],
   "source": [
    "from pyincore import IncoreClient, Dataset, DataService, FragilityService, MappingSet\n",
    "from pyincore.analyses.equitymetric import EquityMetric, EquityMetricUtil\n",
    "from pyincore.analyses.buildingstructuraldamage import BuildingStructuralDamage\n",
    "from pyincore.analyses.socialvulnerabilityscore import SocialVulnerabilityScore\n",
    "from pyincore.analyses.housingrecoverysequential import HousingRecoverySequential\n",
    "from pyincore.analyses.buildingnonstructuraldamage import BuildingNonStructDamage\n",
    "from pyincore.analyses.combinedwindwavesurgebuildingdamage import CombinedWindWaveSurgeBuildingDamage\n",
    "from pyincore.analyses.populationdislocation import PopulationDislocation\n",
    "\n",
    "from pyincore_data.censusutil import CensusUtil"
   ]
  },
  {
   "cell_type": "code",
   "execution_count": null,
   "id": "af21ffc2-1de0-40bd-8426-20c5eb8a43c4",
   "metadata": {},
   "outputs": [],
   "source": [
    "client = IncoreClient()\n",
    "datasvc = DataService(client)"
   ]
  },
  {
   "cell_type": "markdown",
   "id": "67641f60-6346-42e3-9814-77544c889441",
   "metadata": {},
   "source": [
    "## Prepare recovery time as scarce resource"
   ]
  },
  {
   "cell_type": "markdown",
   "id": "302f229c-ce0a-41f6-9ece-fed4b9c293da",
   "metadata": {},
   "source": [
    "### 1. Galveston Combined damage"
   ]
  },
  {
   "cell_type": "code",
   "execution_count": null,
   "id": "dfa3daf8-71e6-4e38-b60c-597b7fdfaea8",
   "metadata": {},
   "outputs": [],
   "source": [
    "hazard_type = \"hurricane\"\n",
    "\n",
    "# Galveston Hurricane Ike\n",
    "hazard_id = \"5fa5a228b6429615aeea4410\"\n",
    "\n",
    "# Galveston inventory data\n",
    "# bldg_dataset_id = \"63053ddaf5438e1f8c517fed\" # Full city\n",
    "bldg_dataset_id = \"63ff6b135c35c0353d5ed3ac\"  # Island Only"
   ]
  },
  {
   "cell_type": "code",
   "execution_count": null,
   "id": "e2f09018-eb7f-4b69-b3c7-ff67d8874e82",
   "metadata": {},
   "outputs": [],
   "source": [
    "# Building Wind Fragility mapping\n",
    "mapping_id = \"62fef3a6cef2881193f2261d\"\n",
    "fragility_service = FragilityService(client)\n",
    "mapping_set = MappingSet(fragility_service.get_mapping(mapping_id))\n",
    "# wind building damage\n",
    "w_bldg_dmg = BuildingStructuralDamage(client)\n",
    "w_bldg_dmg.load_remote_input_dataset(\"buildings\", bldg_dataset_id)\n",
    "w_bldg_dmg.set_input_dataset(\"dfr3_mapping_set\", mapping_set)\n",
    "w_bldg_dmg.set_parameter(\"result_name\", \"Galveston-wind-dmg\")\n",
    "w_bldg_dmg.set_parameter(\"hazard_type\", hazard_type)\n",
    "w_bldg_dmg.set_parameter(\"hazard_id\", hazard_id)\n",
    "w_bldg_dmg.set_parameter(\"num_cpu\", 8)\n",
    "w_bldg_dmg.run_analysis()"
   ]
  },
  {
   "cell_type": "code",
   "execution_count": null,
   "id": "aa158ebd-cde4-4faa-889b-5ce5b29fd543",
   "metadata": {},
   "outputs": [],
   "source": [
    "# Surge-wave mapping\n",
    "mapping_id = \"6303e51bd76c6d0e1f6be080\"\n",
    "mapping_set = MappingSet(fragility_service.get_mapping(mapping_id))\n",
    "# surge-wave building damage\n",
    "sw_bldg_dmg = BuildingStructuralDamage(client)\n",
    "sw_bldg_dmg.load_remote_input_dataset(\"buildings\", bldg_dataset_id)\n",
    "sw_bldg_dmg.set_input_dataset(\"dfr3_mapping_set\", mapping_set)\n",
    "sw_bldg_dmg.set_parameter(\"result_name\", \"Galveston-sw-dmg\")\n",
    "sw_bldg_dmg.set_parameter(\"hazard_type\", hazard_type)\n",
    "sw_bldg_dmg.set_parameter(\"hazard_id\", hazard_id)\n",
    "sw_bldg_dmg.set_parameter(\"num_cpu\", 8)\n",
    "sw_bldg_dmg.run_analysis()"
   ]
  },
  {
   "cell_type": "code",
   "execution_count": null,
   "id": "930978ad-64cb-4c30-97a5-1c74bee464c6",
   "metadata": {},
   "outputs": [],
   "source": [
    "# flood mapping\n",
    "mapping_id = \"62fefd688a30d30dac57bbd7\"\n",
    "mapping_set = MappingSet(fragility_service.get_mapping(mapping_id))\n",
    "# flood building damage\n",
    "f_bldg_dmg = BuildingNonStructDamage(client)\n",
    "f_bldg_dmg.load_remote_input_dataset(\"buildings\", bldg_dataset_id)\n",
    "f_bldg_dmg.set_input_dataset(\"dfr3_mapping_set\", mapping_set)\n",
    "f_bldg_dmg.set_parameter(\"result_name\", \"Galveston-flood-dmg\")\n",
    "f_bldg_dmg.set_parameter(\"fragility_key\", \"Non-Retrofit Fragility ID Code\")\n",
    "f_bldg_dmg.set_parameter(\"hazard_type\", hazard_type)\n",
    "f_bldg_dmg.set_parameter(\"hazard_id\", hazard_id)\n",
    "f_bldg_dmg.set_parameter(\"num_cpu\", 8)\n",
    "f_bldg_dmg.run_analysis()"
   ]
  },
  {
   "cell_type": "code",
   "execution_count": null,
   "id": "9eb14ccd-64b5-49b2-9043-5c35e999496d",
   "metadata": {},
   "outputs": [],
   "source": [
    "surge_wave_damage = sw_bldg_dmg.get_output_dataset(\"ds_result\")\n",
    "wind_damage = w_bldg_dmg.get_output_dataset(\"ds_result\")\n",
    "flood_damage = f_bldg_dmg.get_output_dataset(\"result\")\n",
    "combined_bldg_dmg = CombinedWindWaveSurgeBuildingDamage(client)\n",
    "result_name = \"Galveston-combined-dmg\"\n",
    "combined_bldg_dmg.set_input_dataset(\"surge_wave_damage\", surge_wave_damage)\n",
    "combined_bldg_dmg.set_input_dataset(\"wind_damage\", wind_damage)\n",
    "combined_bldg_dmg.set_input_dataset(\"flood_damage\", flood_damage)\n",
    "combined_bldg_dmg.set_parameter(\"result_name\", result_name)\n",
    "combined_bldg_dmg.run_analysis()"
   ]
  },
  {
   "cell_type": "code",
   "execution_count": null,
   "id": "19e3c476-b317-4057-be56-f6096cd8ad99",
   "metadata": {},
   "outputs": [],
   "source": [
    "combined_dmg = combined_bldg_dmg.get_output_dataset(\"ds_result\")\n",
    "combined_dmg_df = combined_dmg.get_dataframe_from_csv(low_memory=False)"
   ]
  },
  {
   "cell_type": "markdown",
   "id": "91bb051a-b5ee-4cbf-a7da-28b3eaf65f81",
   "metadata": {},
   "source": [
    "### 2. Population Dislocation"
   ]
  },
  {
   "cell_type": "code",
   "execution_count": null,
   "id": "e87c801a-fca3-4911-98e4-d7f9c025096f",
   "metadata": {},
   "outputs": [],
   "source": [
    "pop_dis = PopulationDislocation(client)\n",
    "value_loss = \"60354810e379f22e16560dbd\"\n",
    "bg_data = \"603545f2dcda03378087e708\"\n",
    "hua_result_id = \"63ee615d62b9d001e6a2b660\" # city\n",
    "# hua_result_id = \"63ff8e895367c2261b4cb2ef\"  # island\n",
    "\n",
    "pop_dis.load_remote_input_dataset(\"block_group_data\", bg_data)\n",
    "pop_dis.load_remote_input_dataset(\"value_loss_param\", value_loss)\n",
    "pop_dis.load_remote_input_dataset(\"housing_unit_allocation\", hua_result_id)\n",
    "\n",
    "pop_dis.set_input_dataset(\"building_dmg\", combined_dmg)\n",
    "\n",
    "result_name = \"galveston-pop-disl-results\"\n",
    "seed = 1111\n",
    "\n",
    "pop_dis.set_parameter(\"result_name\", result_name)\n",
    "pop_dis.set_parameter(\"seed\", seed)\n",
    "pop_dis.run_analysis()"
   ]
  },
  {
   "cell_type": "code",
   "execution_count": null,
   "id": "1564962e-0921-4fe2-b388-ecae777de6b3",
   "metadata": {},
   "outputs": [],
   "source": [
    "population_dislocation_result = pop_dis.get_output_dataset(\"result\")\n",
    "population_dislocation_result_df = population_dislocation_result.get_dataframe_from_csv(\n",
    "    low_memory=False\n",
    ")\n",
    "population_dislocation_result_df.head()"
   ]
  },
  {
   "cell_type": "markdown",
   "id": "aeb4c1a2-4095-42eb-a733-d93b14500455",
   "metadata": {},
   "source": [
    "### 3. Run social vulnerability score analysis"
   ]
  },
  {
   "cell_type": "code",
   "execution_count": null,
   "id": "24414d12-1772-4cb3-80d8-3c936c88455a",
   "metadata": {},
   "outputs": [],
   "source": [
    "# get fips code to use fetch census data\n",
    "fips = CensusUtil.get_fips_by_state_county(state=\"texas\", county=\"galveston\")\n",
    "state_code = fips[:2]\n",
    "county_code = fips[2:]\n",
    "\n",
    "navs = CensusUtil.national_ave_values(year=2020)\n",
    "national_vulnerability_feature_averages = Dataset.from_csv_data(navs, name=\"national_vulnerability_feature_averages.csv\",\n",
    "                                                                 data_type=\"incore:socialVulnerabilityFeatureAverages\")\n",
    "\n",
    "geo_type = \"block%20group:*\"\n",
    "# geo_type = \"tract:*\"\n",
    "social_vulnerability_dem_factors_df = CensusUtil.demographic_factors(state_code, county_code, year=2020,\n",
    "                                                                      geo_type=geo_type)\n",
    "\n",
    "# Temp fix: remove bad data point\n",
    "social_vulnerability_dem_factors_df = social_vulnerability_dem_factors_df.dropna()\n",
    "\n",
    "social_vulnerability_dem_factors = Dataset.from_dataframe(social_vulnerability_dem_factors_df,\n",
    "                                                           name=\"social_vunlnerability_dem_factors\",\n",
    "                                                           data_type=\"incore:socialVulnerabilityDemFactors\")\n",
    "\n",
    "# Configure pyincore access and the analysis with the information above\n",
    "social_vulnerability = SocialVulnerabilityScore(client)\n",
    "\n",
    "social_vulnerability.set_parameter(\"result_name\", \"social_vulnerabilty\")\n",
    "social_vulnerability.set_input_dataset(\"national_vulnerability_feature_averages\", national_vulnerability_feature_averages)\n",
    "social_vulnerability.set_input_dataset(\"social_vulnerability_demographic_factors\", social_vulnerability_dem_factors)\n",
    "\n",
    "# Run social vulnerability damage analysis\n",
    "result = social_vulnerability.run_analysis()\n",
    "sv_result = social_vulnerability.get_output_dataset(\"sv_result\")"
   ]
  },
  {
   "cell_type": "markdown",
   "id": "9bfb49a3-31ec-4840-b704-7970d26af31a",
   "metadata": {},
   "source": [
    "### 4. Housing Household recovery analysis"
   ]
  },
  {
   "cell_type": "code",
   "execution_count": null,
   "id": "8edeea9e-51f4-4808-a5c2-cd99f817fd96",
   "metadata": {},
   "outputs": [],
   "source": [
    "# Population dislocation result aggregated to the block group level.\n",
    "population_dislocation = \"60f5ea5d544e944c3cec66dd\" # Galveston testbed\n",
    "# Transition probability matrix per social vulnerability level.\n",
    "transition_probability_matrix = \"60f5e2ae544e944c3cec0794\"\n",
    "# Initial mass probability function for stage 0.\n",
    "initial_probability_vector = \"60f5e918544e944c3cec668b\"\n",
    "\n",
    "# Create housing recovery instance\n",
    "housing_recovery = HousingRecoverySequential(client)\n",
    "\n",
    "# Load input datasets\n",
    "housing_recovery.set_input_dataset(\"population_dislocation_block\", population_dislocation_result)\n",
    "housing_recovery.load_remote_input_dataset(\"tpm\", transition_probability_matrix)\n",
    "housing_recovery.load_remote_input_dataset(\"initial_stage_probabilities\", initial_probability_vector)\n",
    "\n",
    "# Chain with Social Vulnerability output\n",
    "housing_recovery.set_input_dataset('sv_result', sv_result)\n",
    "\n",
    "# Set analysis parameters\n",
    "housing_recovery.set_parameter(\"result_name\", \"housing_recovery_result\")\n",
    "housing_recovery.set_parameter(\"seed\", 1234)\n",
    "housing_recovery.set_parameter(\"t_delta\", 1.0)\n",
    "housing_recovery.set_parameter(\"t_final\", 90.0)\n",
    "\n",
    "housing_recovery.run()"
   ]
  },
  {
   "cell_type": "code",
   "execution_count": null,
   "id": "3aa72827-77d8-4ab0-9b93-f59dd700daac",
   "metadata": {},
   "outputs": [],
   "source": [
    "# Retrieve result dataset\n",
    "hhrs_result = housing_recovery.get_output_dataset(\"ds_result\")\n",
    "recovery_df = hhrs_result.get_dataframe_from_csv()"
   ]
  },
  {
   "cell_type": "markdown",
   "id": "01f8ab66-42c2-479c-8832-960c7f569f0a",
   "metadata": {},
   "source": [
    "### 5. Prepare recovery time as scarce resource"
   ]
  },
  {
   "cell_type": "code",
   "execution_count": null,
   "id": "16717065-6fb0-4c78-93eb-1d697a648f28",
   "metadata": {},
   "outputs": [],
   "source": [
    "scarce_resource_df = EquityMetricUtil.prepare_return_time_as_scarce_resource(\n",
    "    recovery_df\n",
    ")\n",
    "scarce_resource = Dataset.from_dataframe(\n",
    "    scarce_resource_df, \"scarce_resource\", data_type=\"incore:scarceResource\"\n",
    ")"
   ]
  },
  {
   "cell_type": "code",
   "execution_count": null,
   "id": "367c9293-9b94-4354-8f85-e4a513cbbcd1",
   "metadata": {},
   "outputs": [],
   "source": [
    "scarce_resource_df.head()"
   ]
  },
  {
   "cell_type": "markdown",
   "id": "993619eb-1735-4b0c-8b2e-b4fd90b5e1ac",
   "metadata": {},
   "source": [
    "## Run Equity Metric Analysis"
   ]
  },
  {
   "cell_type": "code",
   "execution_count": null,
   "id": "95390162-fcf8-4f77-b66c-a7f01a3ea1eb",
   "metadata": {},
   "outputs": [],
   "source": [
    "equity_metric = EquityMetric(client)\n",
    "equity_metric.set_parameter(\"result_name\", \"Galveston_recovery_time\")\n",
    "equity_metric.set_parameter(\"division_decision_column\", \"SVI\")\n",
    "equity_metric.load_remote_input_dataset(\n",
    "    \"housing_unit_allocation\", \"63ee615d62b9d001e6a2b660\"\n",
    ")\n",
    "equity_metric.set_input_dataset(\"scarce_resource\", scarce_resource)\n",
    "em_result = equity_metric.run_analysis()"
   ]
  },
  {
   "cell_type": "code",
   "execution_count": null,
   "id": "b057669e-075d-4491-82c3-810fdae12a67",
   "metadata": {},
   "outputs": [],
   "source": [
    "equity_metric_df = equity_metric.get_output_dataset(\"equity_metric\").get_dataframe_from_csv()\n",
    "equity_metric_df.head()"
   ]
  }
 ],
 "metadata": {
  "kernelspec": {
   "display_name": "Python 3 (ipykernel)",
   "language": "python",
   "name": "python3"
  },
  "language_info": {
   "codemirror_mode": {
    "name": "ipython",
    "version": 3
   },
   "file_extension": ".py",
   "mimetype": "text/x-python",
   "name": "python",
   "nbconvert_exporter": "python",
   "pygments_lexer": "ipython3",
   "version": "3.9.19"
  }
 },
 "nbformat": 4,
 "nbformat_minor": 5
}
