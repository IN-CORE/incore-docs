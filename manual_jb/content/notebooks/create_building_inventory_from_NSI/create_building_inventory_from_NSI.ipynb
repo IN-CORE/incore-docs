{
 "cells": [
  {
   "cell_type": "markdown",
   "id": "ad98458f-56f3-4ff1-8e78-06ae73a30bf5",
   "metadata": {},
   "source": [
    "# Create Building Inventory from NSI data\n",
    "\n",
    "Building inventories are essential components for evaluating community resilience and accurately quantifying potential damages resulting from natural hazards. However, developing detailed and accurate building inventories presents significant challenges, primarily due to limited community resources and frequently incomplete data attributes essential for damage modeling. This notebook outlines a robust solution implemented within the Interdependent Networked Community Resilience Modeling Environment (IN-CORE), a computational platform created by the NIST Center of Excellence for Community Resilience Planning. Utilizing the US Army Corps of Engineers' National Structure Inventory (NSI), this integrated system efficiently generates community-specific building inventories by employing county-level FIPS codes coupled with tailored algorithms designed for IN-CORE. The automated inventories produced contain critical structural attributes necessary for accurately assessing resilience against earthquakes, tsunamis, floods, and hurricanes. The streamlined inventory generation process greatly enhances the capability of communities to perform comprehensive resilience modeling and supports future expansions targeting additional hazards and finer attribute resolutions.\n",
    "\n"
   ]
  },
  {
   "cell_type": "code",
   "execution_count": 2,
   "id": "80490a65-2406-4453-ad6e-443c7461efb7",
   "metadata": {},
   "outputs": [],
   "source": [
    "import os\n",
    "\n",
    "from pyincore_data.nsiparser import NsiParser\n",
    "from pyincore_data.nsibuildinginventory import NsiBuildingInventory\n",
    "from pyincore_data.utils.nsiutil import NsiUtil"
   ]
  },
  {
   "cell_type": "code",
   "execution_count": 3,
   "id": "29a06023-5a73-4e2f-b352-cb6c00f93ad6",
   "metadata": {},
   "outputs": [
    {
     "name": "stdout",
     "output_type": "stream",
     "text": [
      "Requesting data for 15005 from NSI endpoint\n",
      "Creating FIPS-related columns\n",
      "                      geometry      fd_id                   bid    occtype  \\\n",
      "0  POINT (-156.98387 21.18893)  594360262  73H552Q8+HFC-2-2-3-3       RES5   \n",
      "1  POINT (-156.98055 21.18677)  594360224  73H552P9+PQ4-2-2-1-2  RES1-1SNB   \n",
      "2  POINT (-156.98195 21.19164)  594360225  73H552R9+M63-6-7-7-6  RES1-2SNB   \n",
      "3  POINT (-156.97948 21.19230)  594360226  73H552RC+W6C-1-1-2-1      RES3C   \n",
      "4  POINT (-156.97976 21.19328)  594360227  73H552VC+839-3-4-3-4       RES5   \n",
      "\n",
      "  st_damcat bldgtype found_type           cbfips  pop2amu65  pop2amo65  ...  \\\n",
      "0       COM        M          I  150050319001015          1          0  ...   \n",
      "1       RES        C          C  150050319001033          0          0  ...   \n",
      "2       RES        W          I  150050319001026          1          0  ...   \n",
      "3       RES        S          S  150050319001027          5          0  ...   \n",
      "4       COM        C          C  150050319001027          0          0  ...   \n",
      "\n",
      "   o65disable  u65disable           x          y ground_elv ground_elv_m  \\\n",
      "0        0.38           0 -156.983870  21.188934  59.208809    18.046844   \n",
      "1        0.38           0 -156.980552  21.186771  72.205031    22.008093   \n",
      "2        0.38           0 -156.981951  21.191636  62.314834    18.993561   \n",
      "3        0.38           0 -156.979481  21.192303  65.616800    20.000000   \n",
      "4        0.38           0 -156.979755  21.193278  65.616800    20.000000   \n",
      "\n",
      "                                   guid   fips  statefips  countyfips  \n",
      "0  5f71cdb3-b228-45a3-ae29-8944f57da760  15005         15         005  \n",
      "1  a2677215-b10a-4033-8c17-b43ed4e007a8  15005         15         005  \n",
      "2  0fef0a09-5dc9-4cf4-bc52-62db2df12a9e  15005         15         005  \n",
      "3  516551bc-4e56-4395-afc5-6716f1b201f8  15005         15         005  \n",
      "4  c95b1d16-4dc4-4198-ab2b-e7e79b9fe595  15005         15         005  \n",
      "\n",
      "[5 rows x 34 columns]\n"
     ]
    }
   ],
   "source": [
    "# Create NSI GeodataFrame by county FIPS code\n",
    "fips = '15005'\n",
    "gdf = NsiParser.create_nsi_gdf_by_county_fips(fips)\n",
    "print(gdf.head())"
   ]
  },
  {
   "cell_type": "code",
   "execution_count": 4,
   "id": "31df54c1-f0e4-4e5e-8a09-7251e4ad90a1",
   "metadata": {},
   "outputs": [],
   "source": [
    "# Convert the created NSI building inventory to a shapefile file\n",
    "gdf.to_file('output.shp', driver='ESRI Shapefile')"
   ]
  },
  {
   "cell_type": "code",
   "execution_count": 5,
   "id": "7493b578-b833-4579-a773-758e1709d093",
   "metadata": {},
   "outputs": [],
   "source": [
    "# Convert the created NSI building inventory to a geopackage file\n",
    "gdf.to_file('output.gpkg', driver='GPKG')"
   ]
  },
  {
   "cell_type": "code",
   "execution_count": 6,
   "id": "0b50328d-ffc0-4755-9cc6-de7c016e90db",
   "metadata": {},
   "outputs": [
    {
     "name": "stdout",
     "output_type": "stream",
     "text": [
      "Processing FIPS: 15005\n",
      "Requesting data for 15005 from NSI endpoint\n",
      "Creating FIPS-related columns\n",
      "Processing FIPS: 29001\n",
      "Requesting data for 29001 from NSI endpoint\n",
      "Creating FIPS-related columns\n",
      "Processing FIPS: 01001\n",
      "Requesting data for 01001 from NSI endpoint\n",
      "Creating FIPS-related columns\n",
      "                      geometry      fd_id                   bid    occtype  \\\n",
      "0  POINT (-156.98387 21.18893)  594360262  73H552Q8+HFC-2-2-3-3       RES5   \n",
      "1  POINT (-156.98055 21.18677)  594360224  73H552P9+PQ4-2-2-1-2  RES1-1SNB   \n",
      "2  POINT (-156.98195 21.19164)  594360225  73H552R9+M63-6-7-7-6  RES1-2SNB   \n",
      "3  POINT (-156.97948 21.19230)  594360226  73H552RC+W6C-1-1-2-1      RES3C   \n",
      "4  POINT (-156.97976 21.19328)  594360227  73H552VC+839-3-4-3-4       RES5   \n",
      "\n",
      "  st_damcat bldgtype found_type           cbfips  pop2amu65  pop2amo65  ...  \\\n",
      "0       COM        M          I  150050319001015          1          0  ...   \n",
      "1       RES        C          C  150050319001033          0          0  ...   \n",
      "2       RES        W          I  150050319001026          1          0  ...   \n",
      "3       RES        S          S  150050319001027          5          0  ...   \n",
      "4       COM        C          C  150050319001027          0          0  ...   \n",
      "\n",
      "   o65disable  u65disable           x          y ground_elv ground_elv_m  \\\n",
      "0        0.38         0.0 -156.983870  21.188934  59.208809    18.046844   \n",
      "1        0.38         0.0 -156.980552  21.186771  72.205031    22.008093   \n",
      "2        0.38         0.0 -156.981951  21.191636  62.314834    18.993561   \n",
      "3        0.38         0.0 -156.979481  21.192303  65.616800    20.000000   \n",
      "4        0.38         0.0 -156.979755  21.193278  65.616800    20.000000   \n",
      "\n",
      "                                   guid   fips  statefips  countyfips  \n",
      "0  231229e1-6263-49f0-b198-994c0ce85be2  15005         15         005  \n",
      "1  b7d4adf6-0038-411a-b14d-c8b50be1c400  15005         15         005  \n",
      "2  f0c6c22c-8c9d-41db-9f98-3e69faff0189  15005         15         005  \n",
      "3  8d9d9772-77d0-4f13-aeda-8af1180a21c9  15005         15         005  \n",
      "4  85419016-51bc-4442-a7e4-4a3c861b2c1c  15005         15         005  \n",
      "\n",
      "[5 rows x 34 columns]\n"
     ]
    }
   ],
   "source": [
    "# Create NSI GeodataFrame by counties' FIPS code list\n",
    "fips_list = ['15005', '29001', '01001']\n",
    "gdf = NsiParser.create_nsi_gdf_by_counties_fips_list(fips_list)\n",
    "print(gdf.head())"
   ]
  },
  {
   "cell_type": "code",
   "execution_count": 7,
   "id": "41195c8a-f5b1-4e70-a618-7844dbe9184c",
   "metadata": {},
   "outputs": [
    {
     "name": "stdout",
     "output_type": "stream",
     "text": [
      "[{'county': 'Alexander County, Illinois', 'fips': '17003'}, {'county': 'Boone County, Illinois', 'fips': '17007'}, {'county': 'Brown County, Illinois', 'fips': '17009'}, {'county': 'Calhoun County, Illinois', 'fips': '17013'}, {'county': 'Carroll County, Illinois', 'fips': '17015'}, {'county': 'Champaign County, Illinois', 'fips': '17019'}, {'county': 'Clark County, Illinois', 'fips': '17023'}, {'county': 'Clay County, Illinois', 'fips': '17025'}, {'county': 'Coles County, Illinois', 'fips': '17029'}, {'county': 'Cook County, Illinois', 'fips': '17031'}, {'county': 'Cumberland County, Illinois', 'fips': '17035'}, {'county': 'DeKalb County, Illinois', 'fips': '17037'}, {'county': 'Douglas County, Illinois', 'fips': '17041'}, {'county': 'Edgar County, Illinois', 'fips': '17045'}, {'county': 'Edwards County, Illinois', 'fips': '17047'}, {'county': 'Fayette County, Illinois', 'fips': '17051'}, {'county': 'Ford County, Illinois', 'fips': '17053'}, {'county': 'Fulton County, Illinois', 'fips': '17057'}, {'county': 'Gallatin County, Illinois', 'fips': '17059'}, {'county': 'Grundy County, Illinois', 'fips': '17063'}, {'county': 'Hancock County, Illinois', 'fips': '17067'}, {'county': 'Hardin County, Illinois', 'fips': '17069'}, {'county': 'Henry County, Illinois', 'fips': '17073'}, {'county': 'Iroquois County, Illinois', 'fips': '17075'}, {'county': 'Jasper County, Illinois', 'fips': '17079'}, {'county': 'Jefferson County, Illinois', 'fips': '17081'}, {'county': 'Jersey County, Illinois', 'fips': '17083'}, {'county': 'Jo Daviess County, Illinois', 'fips': '17085'}, {'county': 'Johnson County, Illinois', 'fips': '17087'}, {'county': 'Kane County, Illinois', 'fips': '17089'}, {'county': 'Kankakee County, Illinois', 'fips': '17091'}, {'county': 'Kendall County, Illinois', 'fips': '17093'}, {'county': 'Knox County, Illinois', 'fips': '17095'}, {'county': 'Lake County, Illinois', 'fips': '17097'}, {'county': 'LaSalle County, Illinois', 'fips': '17099'}, {'county': 'Lawrence County, Illinois', 'fips': '17101'}, {'county': 'Lee County, Illinois', 'fips': '17103'}, {'county': 'Livingston County, Illinois', 'fips': '17105'}, {'county': 'Logan County, Illinois', 'fips': '17107'}, {'county': 'McDonough County, Illinois', 'fips': '17109'}, {'county': 'McHenry County, Illinois', 'fips': '17111'}, {'county': 'McLean County, Illinois', 'fips': '17113'}, {'county': 'Macon County, Illinois', 'fips': '17115'}, {'county': 'Macoupin County, Illinois', 'fips': '17117'}, {'county': 'Madison County, Illinois', 'fips': '17119'}, {'county': 'Marshall County, Illinois', 'fips': '17123'}, {'county': 'Mason County, Illinois', 'fips': '17125'}, {'county': 'Menard County, Illinois', 'fips': '17129'}, {'county': 'Mercer County, Illinois', 'fips': '17131'}, {'county': 'Montgomery County, Illinois', 'fips': '17135'}, {'county': 'Morgan County, Illinois', 'fips': '17137'}, {'county': 'Ogle County, Illinois', 'fips': '17141'}, {'county': 'Perry County, Illinois', 'fips': '17145'}, {'county': 'Piatt County, Illinois', 'fips': '17147'}, {'county': 'Pope County, Illinois', 'fips': '17151'}, {'county': 'Pulaski County, Illinois', 'fips': '17153'}, {'county': 'Randolph County, Illinois', 'fips': '17157'}, {'county': 'Richland County, Illinois', 'fips': '17159'}, {'county': 'St. Clair County, Illinois', 'fips': '17163'}, {'county': 'Sangamon County, Illinois', 'fips': '17167'}, {'county': 'Schuyler County, Illinois', 'fips': '17169'}, {'county': 'Shelby County, Illinois', 'fips': '17173'}, {'county': 'Stark County, Illinois', 'fips': '17175'}, {'county': 'Tazewell County, Illinois', 'fips': '17179'}, {'county': 'Union County, Illinois', 'fips': '17181'}, {'county': 'Wabash County, Illinois', 'fips': '17185'}, {'county': 'Warren County, Illinois', 'fips': '17187'}, {'county': 'Wayne County, Illinois', 'fips': '17191'}, {'county': 'Whiteside County, Illinois', 'fips': '17195'}, {'county': 'Will County, Illinois', 'fips': '17197'}, {'county': 'Winnebago County, Illinois', 'fips': '17201'}, {'county': 'Woodford County, Illinois', 'fips': '17203'}, {'county': 'Adams County, Illinois', 'fips': '17001'}, {'county': 'Bond County, Illinois', 'fips': '17005'}, {'county': 'Bureau County, Illinois', 'fips': '17011'}, {'county': 'Cass County, Illinois', 'fips': '17017'}, {'county': 'Christian County, Illinois', 'fips': '17021'}, {'county': 'Clinton County, Illinois', 'fips': '17027'}, {'county': 'Crawford County, Illinois', 'fips': '17033'}, {'county': 'De Witt County, Illinois', 'fips': '17039'}, {'county': 'DuPage County, Illinois', 'fips': '17043'}, {'county': 'Effingham County, Illinois', 'fips': '17049'}, {'county': 'Franklin County, Illinois', 'fips': '17055'}, {'county': 'Greene County, Illinois', 'fips': '17061'}, {'county': 'Hamilton County, Illinois', 'fips': '17065'}, {'county': 'Henderson County, Illinois', 'fips': '17071'}, {'county': 'Jackson County, Illinois', 'fips': '17077'}, {'county': 'Marion County, Illinois', 'fips': '17121'}, {'county': 'Massac County, Illinois', 'fips': '17127'}, {'county': 'Monroe County, Illinois', 'fips': '17133'}, {'county': 'Moultrie County, Illinois', 'fips': '17139'}, {'county': 'Peoria County, Illinois', 'fips': '17143'}, {'county': 'Pike County, Illinois', 'fips': '17149'}, {'county': 'Putnam County, Illinois', 'fips': '17155'}, {'county': 'Rock Island County, Illinois', 'fips': '17161'}, {'county': 'Saline County, Illinois', 'fips': '17165'}, {'county': 'Scott County, Illinois', 'fips': '17171'}, {'county': 'Stephenson County, Illinois', 'fips': '17177'}, {'county': 'Vermilion County, Illinois', 'fips': '17183'}, {'county': 'Washington County, Illinois', 'fips': '17189'}, {'county': 'White County, Illinois', 'fips': '17193'}, {'county': 'Williamson County, Illinois', 'fips': '17199'}]\n"
     ]
    }
   ],
   "source": [
    "# Get County FIPS by the state name\n",
    "state = 'illinois'\n",
    "fips_list = NsiParser.get_county_fips_by_state(state)\n",
    "print(fips_list)"
   ]
  },
  {
   "cell_type": "code",
   "execution_count": 8,
   "id": "33b9b906-4910-4d0e-a995-16aec56cd44f",
   "metadata": {},
   "outputs": [
    {
     "name": "stdout",
     "output_type": "stream",
     "text": [
      "17019\n"
     ]
    }
   ],
   "source": [
    "# Get FIPS code by state name and county name\n",
    "state = 'illinois'\n",
    "county = 'champaign'\n",
    "fips = NsiParser.get_fips_by_state_and_county(state, county)\n",
    "print(fips)"
   ]
  },
  {
   "cell_type": "code",
   "execution_count": 9,
   "id": "c24efa09-c017-46e4-9417-a5ac6d8d5f5b",
   "metadata": {},
   "outputs": [
    {
     "name": "stdout",
     "output_type": "stream",
     "text": [
      "WestCoast is used to generate building inventory\n",
      "WestCoast\n"
     ]
    }
   ],
   "source": [
    "# Define the NSI building inventory conversion region by FIPS\n",
    "fips = '15005'\n",
    "region = NsiUtil.determine_region_by_fips(fips)\n",
    "print(region)"
   ]
  },
  {
   "cell_type": "code",
   "execution_count": 10,
   "id": "75211a13-092e-40c9-a705-b207f8aae789",
   "metadata": {},
   "outputs": [
    {
     "name": "stdout",
     "output_type": "stream",
     "text": [
      "Processing FIPS: 41007\n",
      "Requesting data for 41007 from NSI endpoint\n",
      "Creating FIPS-related columns\n",
      "WestCoast is used to generate building inventory\n",
      "Total fallback occurrences: 25\n",
      "Total number of records: 25326\n",
      "Percentage of unmatched records: 0.10%\n",
      "Total empty rows: 0\n",
      "                                                         geometry      fd_id  \\\n",
      "guid                                                                           \n",
      "644054e5-c9b9-4f19-9031-8c31a8d173f0  POINT (-123.83897 46.18943)  565276037   \n",
      "ee8e4fb6-edc8-405d-badf-1a2223cbd1ca  POINT (-123.57389 45.89033)  565333422   \n",
      "318e076d-d6d5-4eda-bb05-88dad2eb12e7  POINT (-123.64292 46.14707)  565333938   \n",
      "190f7cbd-638a-42a2-8b01-a901d17e3ea9  POINT (-123.96191 45.87700)  565239928   \n",
      "ac01144a-99fe-4a39-85fe-29b5a2a4a607  POINT (-123.96191 45.87700)  565239942   \n",
      "\n",
      "                                                         bid    occtype  \\\n",
      "guid                                                                      \n",
      "644054e5-c9b9-4f19-9031-8c31a8d173f0    84RR55Q6+QCC-2-4-3-3  RES1-1SWB   \n",
      "ee8e4fb6-edc8-405d-badf-1a2223cbd1ca    84QRVCRG+4CQ-0-0-0-0  RES1-1SNB   \n",
      "318e076d-d6d5-4eda-bb05-88dad2eb12e7    84RR49W4+RRG-0-0-0-0  RES1-2SWB   \n",
      "190f7cbd-638a-42a2-8b01-a901d17e3ea9  84QRV2GQ+R64-11-7-12-4       COM8   \n",
      "ac01144a-99fe-4a39-85fe-29b5a2a4a607  84QRV2GQ+R64-11-7-12-4       RES4   \n",
      "\n",
      "                                     st_damcat bldgtype found_type  \\\n",
      "guid                                                                 \n",
      "644054e5-c9b9-4f19-9031-8c31a8d173f0       RES        W          B   \n",
      "ee8e4fb6-edc8-405d-badf-1a2223cbd1ca       RES        W          P   \n",
      "318e076d-d6d5-4eda-bb05-88dad2eb12e7       RES        W          B   \n",
      "190f7cbd-638a-42a2-8b01-a901d17e3ea9       COM        C          C   \n",
      "ac01144a-99fe-4a39-85fe-29b5a2a4a607       COM        M          I   \n",
      "\n",
      "                                               cbfips  pop2amu65  pop2amo65  \\\n",
      "guid                                                                          \n",
      "644054e5-c9b9-4f19-9031-8c31a8d173f0  410079502004031          3          1   \n",
      "ee8e4fb6-edc8-405d-badf-1a2223cbd1ca  410079512003230          2          0   \n",
      "318e076d-d6d5-4eda-bb05-88dad2eb12e7  410079504002156          2          1   \n",
      "190f7cbd-638a-42a2-8b01-a901d17e3ea9  410079511004008          0          0   \n",
      "ac01144a-99fe-4a39-85fe-29b5a2a4a607  410079511004008          0          0   \n",
      "\n",
      "                                      ...  ground_elv  ground_elv_m   fips  \\\n",
      "guid                                  ...                                    \n",
      "644054e5-c9b9-4f19-9031-8c31a8d173f0  ...   61.203760     18.654905  41007   \n",
      "ee8e4fb6-edc8-405d-badf-1a2223cbd1ca  ...  432.310694    131.768295  41007   \n",
      "318e076d-d6d5-4eda-bb05-88dad2eb12e7  ...  163.547116     49.849159  41007   \n",
      "190f7cbd-638a-42a2-8b01-a901d17e3ea9  ...   22.443480      6.840773  41007   \n",
      "ac01144a-99fe-4a39-85fe-29b5a2a4a607  ...   22.443480      6.840773  41007   \n",
      "\n",
      "                                      statefips countyfips struct_typ  \\\n",
      "guid                                                                    \n",
      "644054e5-c9b9-4f19-9031-8c31a8d173f0         41        007         W1   \n",
      "ee8e4fb6-edc8-405d-badf-1a2223cbd1ca         41        007         W1   \n",
      "318e076d-d6d5-4eda-bb05-88dad2eb12e7         41        007         W1   \n",
      "190f7cbd-638a-42a2-8b01-a901d17e3ea9         41        007       RM1L   \n",
      "ac01144a-99fe-4a39-85fe-29b5a2a4a607         41        007         W1   \n",
      "\n",
      "                                      no_stories  year_built     dgn_lvl  \\\n",
      "guid                                                                       \n",
      "644054e5-c9b9-4f19-9031-8c31a8d173f0           1        1939  Pre - Code   \n",
      "ee8e4fb6-edc8-405d-badf-1a2223cbd1ca           1        1979  Low - Code   \n",
      "318e076d-d6d5-4eda-bb05-88dad2eb12e7           2        1975  Pre - Code   \n",
      "190f7cbd-638a-42a2-8b01-a901d17e3ea9           1        1977  Pre - Code   \n",
      "ac01144a-99fe-4a39-85fe-29b5a2a4a607           1        1977  Pre - Code   \n",
      "\n",
      "                                      exact_match  \n",
      "guid                                               \n",
      "644054e5-c9b9-4f19-9031-8c31a8d173f0          Yes  \n",
      "ee8e4fb6-edc8-405d-badf-1a2223cbd1ca          Yes  \n",
      "318e076d-d6d5-4eda-bb05-88dad2eb12e7          Yes  \n",
      "190f7cbd-638a-42a2-8b01-a901d17e3ea9          Yes  \n",
      "ac01144a-99fe-4a39-85fe-29b5a2a4a607          Yes  \n",
      "\n",
      "[5 rows x 38 columns]\n"
     ]
    }
   ],
   "source": [
    "# Create building inventory by county FIPS list\n",
    "fips_list = ['41007']  # seaside\n",
    "gdf = NsiBuildingInventory.convert_nsi_to_building_inventory_by_county_fips_list(fips_list)\n",
    "print(gdf.head())"
   ]
  },
  {
   "cell_type": "code",
   "execution_count": 11,
   "id": "9edf20a8-8d86-487e-a1ca-e82bb0d2517c",
   "metadata": {},
   "outputs": [
    {
     "name": "stdout",
     "output_type": "stream",
     "text": [
      "Total fallback occurrences: 87\n",
      "Total number of records: 11940\n",
      "Percentage of unmatched records: 0.73%\n",
      "Total empty rows: 0\n",
      "                                          fd_id                      bid  \\\n",
      "guid                                                                       \n",
      "3e7dcab1-21a2-4895-8dc1-2584560a0caa  577902630     867G4495+R8P-0-0-0-0   \n",
      "a324c6a2-622d-4678-9737-3a6c48f693a0  577568214     867F4WVW+FF8-5-8-5-9   \n",
      "c7ea24dd-000d-43d2-becb-59cba0a1fa51  577568270     867F4XR4+G4H-5-5-4-4   \n",
      "66198c9a-23c2-4923-811e-dfffc12b0a52  577568798  867F4WMR+RX9-20-10-15-9   \n",
      "fab397cd-ca97-43da-998e-8b4f95dbe094  577568885     867F4XJ4+W79-3-2-3-1   \n",
      "\n",
      "                                        occtype st_damcat bldgtype found_type  \\\n",
      "guid                                                                            \n",
      "3e7dcab1-21a2-4895-8dc1-2584560a0caa  RES1-3SNB       RES        W          S   \n",
      "a324c6a2-622d-4678-9737-3a6c48f693a0  RES1-1SNB       RES        W          C   \n",
      "c7ea24dd-000d-43d2-becb-59cba0a1fa51      RES3A       RES        M          C   \n",
      "66198c9a-23c2-4923-811e-dfffc12b0a52       COM8       COM        W          S   \n",
      "fab397cd-ca97-43da-998e-8b4f95dbe094      RES3A       RES        W          C   \n",
      "\n",
      "                                               cbfips  pop2amu65  pop2amo65  \\\n",
      "guid                                                                          \n",
      "3e7dcab1-21a2-4895-8dc1-2584560a0caa  471570096003016          1          1   \n",
      "a324c6a2-622d-4678-9737-3a6c48f693a0  471570042002006          2          0   \n",
      "c7ea24dd-000d-43d2-becb-59cba0a1fa51  471570114003009         10          3   \n",
      "66198c9a-23c2-4923-811e-dfffc12b0a52  471570042002055          1          0   \n",
      "fab397cd-ca97-43da-998e-8b4f95dbe094  471570114003049         21          5   \n",
      "\n",
      "                                      pop2pmu65  ...  ground_elv_m   fips  \\\n",
      "guid                                             ...                        \n",
      "3e7dcab1-21a2-4895-8dc1-2584560a0caa          1  ...     87.864059  47157   \n",
      "a324c6a2-622d-4678-9737-3a6c48f693a0          2  ...     80.782883  47157   \n",
      "c7ea24dd-000d-43d2-becb-59cba0a1fa51          8  ...     79.753975  47157   \n",
      "66198c9a-23c2-4923-811e-dfffc12b0a52         25  ...     77.824608  47157   \n",
      "fab397cd-ca97-43da-998e-8b4f95dbe094          1  ...     76.475227  47157   \n",
      "\n",
      "                                      statefips countyfips  \\\n",
      "guid                                                         \n",
      "3e7dcab1-21a2-4895-8dc1-2584560a0caa         47        157   \n",
      "a324c6a2-622d-4678-9737-3a6c48f693a0         47        157   \n",
      "c7ea24dd-000d-43d2-becb-59cba0a1fa51         47        157   \n",
      "66198c9a-23c2-4923-811e-dfffc12b0a52         47        157   \n",
      "fab397cd-ca97-43da-998e-8b4f95dbe094         47        157   \n",
      "\n",
      "                                                        geometry  struct_typ  \\\n",
      "guid                                                                           \n",
      "3e7dcab1-21a2-4895-8dc1-2584560a0caa  POINT (-89.89168 35.11959)          W1   \n",
      "a324c6a2-622d-4678-9737-3a6c48f693a0  POINT (-90.05380 35.14366)          W1   \n",
      "c7ea24dd-000d-43d2-becb-59cba0a1fa51  POINT (-90.04464 35.14132)          W1   \n",
      "66198c9a-23c2-4923-811e-dfffc12b0a52  POINT (-90.05752 35.13455)         C2L   \n",
      "fab397cd-ca97-43da-998e-8b4f95dbe094  POINT (-90.04426 35.13229)          W1   \n",
      "\n",
      "                                      no_stories  year_built     dgn_lvl  \\\n",
      "guid                                                                       \n",
      "3e7dcab1-21a2-4895-8dc1-2584560a0caa           3        1981  Low - Code   \n",
      "a324c6a2-622d-4678-9737-3a6c48f693a0           1        1939  Pre - Code   \n",
      "c7ea24dd-000d-43d2-becb-59cba0a1fa51           1        1957  Pre - Code   \n",
      "66198c9a-23c2-4923-811e-dfffc12b0a52           1        1939  Pre - Code   \n",
      "fab397cd-ca97-43da-998e-8b4f95dbe094           1        1957  Pre - Code   \n",
      "\n",
      "                                      exact_match  \n",
      "guid                                               \n",
      "3e7dcab1-21a2-4895-8dc1-2584560a0caa          Yes  \n",
      "a324c6a2-622d-4678-9737-3a6c48f693a0          Yes  \n",
      "c7ea24dd-000d-43d2-becb-59cba0a1fa51          Yes  \n",
      "66198c9a-23c2-4923-811e-dfffc12b0a52          Yes  \n",
      "fab397cd-ca97-43da-998e-8b4f95dbe094          Yes  \n",
      "\n",
      "[5 rows x 38 columns]\n"
     ]
    }
   ],
   "source": [
    "# Create building inventory by geojson\n",
    "in_json = os.path.join('nsi_test_data', 'nsi_test.json')\n",
    "gdf = NsiBuildingInventory.convert_nsi_to_building_inventory_from_geojson(in_json, \"westCoast\")\n",
    "print(gdf.head())"
   ]
  },
  {
   "cell_type": "code",
   "execution_count": 12,
   "id": "7dc05ec5-043e-4fdd-80db-69324f166121",
   "metadata": {},
   "outputs": [
    {
     "name": "stdout",
     "output_type": "stream",
     "text": [
      "Total fallback occurrences: 87\n",
      "Total number of records: 11940\n",
      "Percentage of unmatched records: 0.73%\n",
      "Total empty rows: 0\n",
      "                                          fd_id                      bid  \\\n",
      "guid                                                                       \n",
      "447c2c69-0cff-4b95-87cf-655c9ed6a1f3  577902630     867G4495+R8P-0-0-0-0   \n",
      "8f911b45-c50c-401f-9ae1-4b06901d516f  577568214     867F4WVW+FF8-5-8-5-9   \n",
      "fdcde448-4073-4f28-adfe-dc4d340e5da9  577568270     867F4XR4+G4H-5-5-4-4   \n",
      "714de9bd-17a6-4fa3-8e5e-bb406e268fd0  577568798  867F4WMR+RX9-20-10-15-9   \n",
      "2a037e92-1358-4570-8cac-a91b1896006b  577568885     867F4XJ4+W79-3-2-3-1   \n",
      "\n",
      "                                        occtype st_damcat bldgtype found_type  \\\n",
      "guid                                                                            \n",
      "447c2c69-0cff-4b95-87cf-655c9ed6a1f3  RES1-3SNB       RES        W          S   \n",
      "8f911b45-c50c-401f-9ae1-4b06901d516f  RES1-1SNB       RES        W          C   \n",
      "fdcde448-4073-4f28-adfe-dc4d340e5da9      RES3A       RES        M          C   \n",
      "714de9bd-17a6-4fa3-8e5e-bb406e268fd0       COM8       COM        W          S   \n",
      "2a037e92-1358-4570-8cac-a91b1896006b      RES3A       RES        W          C   \n",
      "\n",
      "                                               cbfips  pop2amu65  pop2amo65  \\\n",
      "guid                                                                          \n",
      "447c2c69-0cff-4b95-87cf-655c9ed6a1f3  471570096003016          1          1   \n",
      "8f911b45-c50c-401f-9ae1-4b06901d516f  471570042002006          2          0   \n",
      "fdcde448-4073-4f28-adfe-dc4d340e5da9  471570114003009         10          3   \n",
      "714de9bd-17a6-4fa3-8e5e-bb406e268fd0  471570042002055          1          0   \n",
      "2a037e92-1358-4570-8cac-a91b1896006b  471570114003049         21          5   \n",
      "\n",
      "                                      pop2pmu65  ...  ground_elv_m   fips  \\\n",
      "guid                                             ...                        \n",
      "447c2c69-0cff-4b95-87cf-655c9ed6a1f3          1  ...     87.864059  47157   \n",
      "8f911b45-c50c-401f-9ae1-4b06901d516f          2  ...     80.782883  47157   \n",
      "fdcde448-4073-4f28-adfe-dc4d340e5da9          8  ...     79.753975  47157   \n",
      "714de9bd-17a6-4fa3-8e5e-bb406e268fd0         25  ...     77.824608  47157   \n",
      "2a037e92-1358-4570-8cac-a91b1896006b          1  ...     76.475227  47157   \n",
      "\n",
      "                                      statefips countyfips  \\\n",
      "guid                                                         \n",
      "447c2c69-0cff-4b95-87cf-655c9ed6a1f3         47        157   \n",
      "8f911b45-c50c-401f-9ae1-4b06901d516f         47        157   \n",
      "fdcde448-4073-4f28-adfe-dc4d340e5da9         47        157   \n",
      "714de9bd-17a6-4fa3-8e5e-bb406e268fd0         47        157   \n",
      "2a037e92-1358-4570-8cac-a91b1896006b         47        157   \n",
      "\n",
      "                                                        geometry  struct_typ  \\\n",
      "guid                                                                           \n",
      "447c2c69-0cff-4b95-87cf-655c9ed6a1f3  POINT (-89.89168 35.11959)          W1   \n",
      "8f911b45-c50c-401f-9ae1-4b06901d516f  POINT (-90.05380 35.14366)          W1   \n",
      "fdcde448-4073-4f28-adfe-dc4d340e5da9  POINT (-90.04464 35.14132)          W1   \n",
      "714de9bd-17a6-4fa3-8e5e-bb406e268fd0  POINT (-90.05752 35.13455)         C2L   \n",
      "2a037e92-1358-4570-8cac-a91b1896006b  POINT (-90.04426 35.13229)          W1   \n",
      "\n",
      "                                      no_stories  year_built     dgn_lvl  \\\n",
      "guid                                                                       \n",
      "447c2c69-0cff-4b95-87cf-655c9ed6a1f3           3        1981  Low - Code   \n",
      "8f911b45-c50c-401f-9ae1-4b06901d516f           1        1939  Pre - Code   \n",
      "fdcde448-4073-4f28-adfe-dc4d340e5da9           1        1957  Pre - Code   \n",
      "714de9bd-17a6-4fa3-8e5e-bb406e268fd0           1        1939  Pre - Code   \n",
      "2a037e92-1358-4570-8cac-a91b1896006b           1        1957  Pre - Code   \n",
      "\n",
      "                                      exact_match  \n",
      "guid                                               \n",
      "447c2c69-0cff-4b95-87cf-655c9ed6a1f3          Yes  \n",
      "8f911b45-c50c-401f-9ae1-4b06901d516f          Yes  \n",
      "fdcde448-4073-4f28-adfe-dc4d340e5da9          Yes  \n",
      "714de9bd-17a6-4fa3-8e5e-bb406e268fd0          Yes  \n",
      "2a037e92-1358-4570-8cac-a91b1896006b          Yes  \n",
      "\n",
      "[5 rows x 38 columns]\n"
     ]
    }
   ],
   "source": [
    "# Create building inventory by GeoPackage\n",
    "in_gpkg = os.path.join('nsi_test_data', 'nsi_test.gpkg')\n",
    "gdf = NsiBuildingInventory.convert_nsi_to_building_inventory_from_gpkg(in_gpkg, \"westCoast\")\n",
    "print(gdf.head())"
   ]
  },
  {
   "cell_type": "code",
   "execution_count": null,
   "id": "1d5939f5-df3f-4ef8-89ac-65288315be14",
   "metadata": {},
   "outputs": [],
   "source": []
  }
 ],
 "metadata": {
  "kernelspec": {
   "display_name": "Python 3 (ipykernel)",
   "language": "python",
   "name": "python3"
  },
  "language_info": {
   "codemirror_mode": {
    "name": "ipython",
    "version": 3
   },
   "file_extension": ".py",
   "mimetype": "text/x-python",
   "name": "python",
   "nbconvert_exporter": "python",
   "pygments_lexer": "ipython3",
   "version": "3.9.19"
  }
 },
 "nbformat": 4,
 "nbformat_minor": 5
}
