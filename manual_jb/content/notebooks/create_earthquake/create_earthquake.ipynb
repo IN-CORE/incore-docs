{
 "cells": [
  {
   "cell_type": "markdown",
   "metadata": {},
   "source": [
    "# Create Earthquakes"
   ]
  },
  {
   "cell_type": "code",
   "execution_count": null,
   "metadata": {},
   "outputs": [],
   "source": [
    "from pyincore import HazardService, IncoreClient\n",
    "import json"
   ]
  },
  {
   "cell_type": "code",
   "execution_count": null,
   "metadata": {},
   "outputs": [],
   "source": [
    "client = IncoreClient()"
   ]
  },
  {
   "cell_type": "code",
   "execution_count": null,
   "metadata": {},
   "outputs": [],
   "source": [
    "hazardsvc = HazardService(client)"
   ]
  },
  {
   "cell_type": "markdown",
   "metadata": {},
   "source": [
    "## Create Model Based Earthquake\n",
    "\n",
    "**Input:** Json representing a model based earthquake. <br/>\n",
    "_Attenuation Models supported_: AbrahamsonSilvaKamai2014, AtkinsonBoore1995, CampbellBozorgnia2014, ChiouYoungs2014,\n",
    " and Toro1997"
   ]
  },
  {
   "cell_type": "code",
   "execution_count": null,
   "metadata": {
    "scrolled": true
   },
   "outputs": [],
   "source": [
    "with open(\"files/eq-model.json\", 'r') as file:\n",
    "    eq_model_json = file.read()\n",
    "    print(json.dumps(json.loads(eq_model_json), indent=4))"
   ]
  },
  {
   "cell_type": "code",
   "execution_count": null,
   "metadata": {},
   "outputs": [],
   "source": [
    "model_response = hazardsvc.create_earthquake(eq_model_json)\n",
    "print(json.dumps(model_response, indent=4))"
   ]
  },
  {
   "cell_type": "markdown",
   "metadata": {},
   "source": [
    "## Create Dataset(s) Based Earthquake (Probabilistic & Deterministic)\n",
    "\n",
    "**Inputs:** Json representing a the dataset based earthquake; Each available dataset in tif format <br/>"
   ]
  },
  {
   "cell_type": "code",
   "execution_count": null,
   "metadata": {},
   "outputs": [],
   "source": [
    "with open(\"files/eq-dataset.json\", 'r') as file:\n",
    "    eq_dataset_json = file.read()\n",
    "    print(json.dumps(json.loads(eq_dataset_json), indent=4))"
   ]
  },
  {
   "cell_type": "code",
   "execution_count": null,
   "metadata": {},
   "outputs": [],
   "source": [
    "file_paths = [\"files/eq-dataset-SA.tif\", \"files/eq-dataset-PGA.tif\"] \n",
    "# order should be same as the hazardDatasets from above json\n",
    "# eq-dataset1.tif represents 0.2 SA & eq-dataset2.tif represents PGA"
   ]
  },
  {
   "cell_type": "code",
   "execution_count": null,
   "metadata": {},
   "outputs": [],
   "source": [
    "dataset_response = hazardsvc.create_earthquake(eq_dataset_json, file_paths)\n",
    "print(json.dumps(dataset_response, indent=4))"
   ]
  },
  {
   "cell_type": "markdown",
   "metadata": {},
   "source": [
    "## Get Earthquake Values"
   ]
  },
  {
   "cell_type": "code",
   "execution_count": null,
   "metadata": {},
   "outputs": [],
   "source": [
    "eq_model_id = model_response['id']\n",
    "points = [\n",
    "    {\n",
    "        \"demands\": [\"0.2 SA\"],\n",
    "        \"units\": [\"g\"],\n",
    "        \"loc\": \"35.07899, -90.0178\"\n",
    "    },\n",
    "    {\n",
    "        \"demands\": [\"0.2 SA\"],\n",
    "        \"units\": [\"g\"],\n",
    "        \"loc\": \"35.027, -90.077\"\n",
    "    },\n",
    "]\n",
    "eq_model_vals = hazardsvc.post_earthquake_hazard_values(eq_model_id, points)\n",
    "print(eq_model_vals)\n",
    "\n"
   ]
  },
  {
   "cell_type": "code",
   "execution_count": null,
   "metadata": {},
   "outputs": [],
   "source": [
    "eq_dataset_id = dataset_response['id']\n",
    "points = [\n",
    "    {\n",
    "        \"demands\": [\"PGA\"],\n",
    "        \"units\": [\"g\"],\n",
    "        \"loc\": \"35.1322, -89.9087\"\n",
    "    },\n",
    "    {\n",
    "        \"demands\": [\"PGA\"],\n",
    "        \"units\": [\"g\"],\n",
    "        \"loc\": \"35.1707, -89.8417\"\n",
    "    },\n",
    "]\n",
    "eq_dataset_vals = hazardsvc.post_earthquake_hazard_values(eq_dataset_id, points)\n",
    "print(eq_dataset_vals)"
   ]
  },
  {
   "cell_type": "code",
   "execution_count": null,
   "metadata": {},
   "outputs": [],
   "source": []
  }
 ],
 "metadata": {
  "kernelspec": {
   "display_name": "Python 3 (ipykernel)",
   "language": "python",
   "name": "python3"
  },
  "language_info": {
   "codemirror_mode": {
    "name": "ipython",
    "version": 3
   },
   "file_extension": ".py",
   "mimetype": "text/x-python",
   "name": "python",
   "nbconvert_exporter": "python",
   "pygments_lexer": "ipython3",
   "version": "3.9.0"
  }
 },
 "nbformat": 4,
 "nbformat_minor": 4
}
