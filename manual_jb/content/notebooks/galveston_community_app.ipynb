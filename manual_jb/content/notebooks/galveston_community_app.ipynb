{
 "cells": [
  {
   "cell_type": "code",
   "execution_count": 1,
   "id": "957d73f9",
   "metadata": {},
   "outputs": [],
   "source": [
    "import warnings\n",
    "warnings.filterwarnings(\"ignore\")\n",
    "import pandas as pd\n",
    "import geopandas as gpd \n",
    "import numpy as np\n",
    "import sys \n",
    "import os \n",
    "import matplotlib.pyplot as plt\n",
    "import contextily as ctx\n",
    "import copy\n",
    "import math\n",
    "from scipy.stats import norm\n",
    "from pathlib import Path\n",
    "\n",
    "from pyincore import IncoreClient, Dataset, DataService, HazardService, FragilityService, MappingSet, FragilityCurveSet\n",
    "from pyincore_viz.geoutil import GeoUtil as geoviz\n",
    "from pyincore_viz.plotutil import PlotUtil as plotviz\n",
    "\n",
    "# importing pyIncone analyses:\n",
    "from pyincore.analyses.buildingdamage import BuildingDamage\n",
    "from pyincore.analyses.buildingfunctionality import BuildingFunctionality\n",
    "from pyincore.analyses.combinedwindwavesurgebuildingdamage import CombinedWindWaveSurgeBuildingDamage\n",
    "from pyincore.analyses.epfdamage import EpfDamage\n",
    "from pyincore.analyses.montecarlofailureprobability import MonteCarloFailureProbability\n",
    "from pyincore.analyses.housingunitallocation import HousingUnitAllocation\n",
    "from pyincore.analyses.populationdislocation import PopulationDislocation, PopulationDislocationUtil\n",
    "from pyincore.analyses.housingrecoverysequential import HousingRecoverySequential\n",
    "from pyincore.analyses.socialvulnerability import SocialVulnerability"
   ]
  },
  {
   "cell_type": "code",
   "execution_count": 2,
   "id": "4e50116d",
   "metadata": {},
   "outputs": [
    {
     "name": "stdout",
     "output_type": "stream",
     "text": [
      "Connection successful to IN-CORE services. pyIncore version detected: 1.8.0\n"
     ]
    }
   ],
   "source": [
    "client = IncoreClient()\n",
    "# IN-CORE caches files on the local machine, it might be necessary to clear the memory\n",
    "# client.clear_cache() \n",
    "data_service = DataService(client) # create data_service object for loading files\n",
    "hazard_service = HazardService(client)\n",
    "fragility_services = FragilityService(client)"
   ]
  },
  {
   "cell_type": "markdown",
   "id": "351fe20a",
   "metadata": {},
   "source": [
    "## Combined Building Damage"
   ]
  },
  {
   "cell_type": "markdown",
   "id": "565bcb53",
   "metadata": {},
   "source": [
    "### Wind building damage for Galveston, TX using Hurricane Ike"
   ]
  },
  {
   "cell_type": "code",
   "execution_count": 3,
   "id": "39b41540",
   "metadata": {},
   "outputs": [],
   "source": [
    "hazard_type = \"hurricane\"\n",
    "\n",
    "# Galveston Hurricane Ike\n",
    "hazard_id = \"5fa5a228b6429615aeea4410\"\n",
    "\n",
    "# Galveston inventory data\n",
    "bldg_dataset_id = \"63053ddaf5438e1f8c517fed\"\n",
    "\n",
    "# Building Wind Fragility mapping\n",
    "mapping_id = \"62fef3a6cef2881193f2261d\"\n",
    "fragility_service = FragilityService(client)\n",
    "mapping_set = MappingSet(fragility_service.get_mapping(mapping_id))"
   ]
  },
  {
   "cell_type": "code",
   "execution_count": 4,
   "id": "b8bb07e1",
   "metadata": {},
   "outputs": [
    {
     "name": "stdout",
     "output_type": "stream",
     "text": [
      "Dataset already exists locally. Reading from local cached zip.\n",
      "Unzipped folder found in the local cache. Reading from it...\n"
     ]
    },
    {
     "data": {
      "text/plain": [
       "True"
      ]
     },
     "execution_count": 4,
     "metadata": {},
     "output_type": "execute_result"
    }
   ],
   "source": [
    "# wind building damage\n",
    "w_bldg_dmg = BuildingDamage(client)\n",
    "w_bldg_dmg.load_remote_input_dataset(\"buildings\", bldg_dataset_id)\n",
    "w_bldg_dmg.set_input_dataset('dfr3_mapping_set', mapping_set)\n",
    "w_bldg_dmg.set_parameter(\"result_name\", \"Galveston-wind-dmg\")\n",
    "w_bldg_dmg.set_parameter(\"hazard_type\", hazard_type)\n",
    "w_bldg_dmg.set_parameter(\"hazard_id\", hazard_id)\n",
    "w_bldg_dmg.set_parameter(\"num_cpu\", 8)\n",
    "w_bldg_dmg.run_analysis()"
   ]
  },
  {
   "cell_type": "markdown",
   "id": "6fb045b4",
   "metadata": {},
   "source": [
    "### Surge-Wave building damage for Galveston, TX using Hurricane Ike"
   ]
  },
  {
   "cell_type": "code",
   "execution_count": 5,
   "id": "58b1565c",
   "metadata": {},
   "outputs": [],
   "source": [
    "# Surge-wave mapping\n",
    "mapping_id = \"6303e51bd76c6d0e1f6be080\"\n",
    "mapping_set = MappingSet(fragility_service.get_mapping(mapping_id))"
   ]
  },
  {
   "cell_type": "code",
   "execution_count": 6,
   "id": "9812c012",
   "metadata": {},
   "outputs": [
    {
     "name": "stdout",
     "output_type": "stream",
     "text": [
      "Dataset already exists locally. Reading from local cached zip.\n",
      "Unzipped folder found in the local cache. Reading from it...\n"
     ]
    },
    {
     "data": {
      "text/plain": [
       "True"
      ]
     },
     "execution_count": 6,
     "metadata": {},
     "output_type": "execute_result"
    }
   ],
   "source": [
    "# surge-wave building damage\n",
    "sw_bldg_dmg = BuildingDamage(client)\n",
    "sw_bldg_dmg.load_remote_input_dataset(\"buildings\", bldg_dataset_id)\n",
    "sw_bldg_dmg.set_input_dataset('dfr3_mapping_set', mapping_set)\n",
    "sw_bldg_dmg.set_parameter(\"result_name\", \"Galveston-sw-dmg\")\n",
    "sw_bldg_dmg.set_parameter(\"hazard_type\", hazard_type)\n",
    "sw_bldg_dmg.set_parameter(\"hazard_id\", hazard_id)\n",
    "sw_bldg_dmg.set_parameter(\"num_cpu\", 8)\n",
    "sw_bldg_dmg.run_analysis()"
   ]
  },
  {
   "cell_type": "markdown",
   "id": "72fd8814",
   "metadata": {},
   "source": [
    "### Flood building damage for Galveston, TX using Hurricane Ike"
   ]
  },
  {
   "cell_type": "code",
   "execution_count": 7,
   "id": "bfb2b053",
   "metadata": {},
   "outputs": [],
   "source": [
    "# flood mapping\n",
    "mapping_id = \"62fefd688a30d30dac57bbd7\"\n",
    "mapping_set = MappingSet(fragility_service.get_mapping(mapping_id))"
   ]
  },
  {
   "cell_type": "code",
   "execution_count": 8,
   "id": "3445913d",
   "metadata": {},
   "outputs": [
    {
     "name": "stdout",
     "output_type": "stream",
     "text": [
      "Dataset already exists locally. Reading from local cached zip.\n",
      "Unzipped folder found in the local cache. Reading from it...\n"
     ]
    },
    {
     "data": {
      "text/plain": [
       "True"
      ]
     },
     "execution_count": 8,
     "metadata": {},
     "output_type": "execute_result"
    }
   ],
   "source": [
    "# flood building damage\n",
    "f_bldg_dmg = BuildingDamage(client)\n",
    "f_bldg_dmg.load_remote_input_dataset(\"buildings\", bldg_dataset_id)\n",
    "f_bldg_dmg.set_input_dataset('dfr3_mapping_set', mapping_set)\n",
    "f_bldg_dmg.set_parameter(\"result_name\", \"Galveston-flood-dmg\")\n",
    "f_bldg_dmg.set_parameter(\"hazard_type\", hazard_type)\n",
    "f_bldg_dmg.set_parameter(\"hazard_id\", hazard_id)\n",
    "f_bldg_dmg.set_parameter(\"num_cpu\", 8)\n",
    "f_bldg_dmg.run_analysis()"
   ]
  },
  {
   "cell_type": "markdown",
   "id": "f9e16601",
   "metadata": {},
   "source": [
    "### Combine wind, wave and surge building damage"
   ]
  },
  {
   "cell_type": "code",
   "execution_count": 9,
   "id": "ef7f95aa",
   "metadata": {},
   "outputs": [],
   "source": [
    "surge_wave_damage = sw_bldg_dmg.get_output_dataset(\"ds_result\")\n",
    "wind_damage = w_bldg_dmg.get_output_dataset(\"ds_result\")\n",
    "flood_damage = f_bldg_dmg.get_output_dataset(\"ds_result\")"
   ]
  },
  {
   "cell_type": "code",
   "execution_count": 10,
   "id": "36d3114e",
   "metadata": {},
   "outputs": [
    {
     "data": {
      "text/plain": [
       "True"
      ]
     },
     "execution_count": 10,
     "metadata": {},
     "output_type": "execute_result"
    }
   ],
   "source": [
    "combined_bldg_dmg = CombinedWindWaveSurgeBuildingDamage(client)\n",
    "result_name = \"Galveston-combined-dmg\"\n",
    "combined_bldg_dmg.set_input_dataset(\"surge_wave_damage\", surge_wave_damage)\n",
    "combined_bldg_dmg.set_input_dataset(\"wind_damage\", wind_damage)\n",
    "combined_bldg_dmg.set_input_dataset(\"flood_damage\", flood_damage)\n",
    "combined_bldg_dmg.set_parameter(\"result_name\", result_name)\n",
    "combined_bldg_dmg.run_analysis()"
   ]
  },
  {
   "cell_type": "code",
   "execution_count": 11,
   "id": "5f4ebe2d",
   "metadata": {},
   "outputs": [
    {
     "data": {
      "text/html": [
       "<div>\n",
       "<style scoped>\n",
       "    .dataframe tbody tr th:only-of-type {\n",
       "        vertical-align: middle;\n",
       "    }\n",
       "\n",
       "    .dataframe tbody tr th {\n",
       "        vertical-align: top;\n",
       "    }\n",
       "\n",
       "    .dataframe thead th {\n",
       "        text-align: right;\n",
       "    }\n",
       "</style>\n",
       "<table border=\"1\" class=\"dataframe\">\n",
       "  <thead>\n",
       "    <tr style=\"text-align: right;\">\n",
       "      <th></th>\n",
       "      <th>guid</th>\n",
       "      <th>LS_0</th>\n",
       "      <th>LS_1</th>\n",
       "      <th>LS_2</th>\n",
       "      <th>DS_0</th>\n",
       "      <th>DS_1</th>\n",
       "      <th>DS_2</th>\n",
       "      <th>DS_3</th>\n",
       "      <th>haz_expose</th>\n",
       "    </tr>\n",
       "  </thead>\n",
       "  <tbody>\n",
       "    <tr>\n",
       "      <th>0</th>\n",
       "      <td>1815653a-7b70-44ce-8544-e975596bdf82</td>\n",
       "      <td>0.000008</td>\n",
       "      <td>4.640000e-08</td>\n",
       "      <td>3.700000e-09</td>\n",
       "      <td>0.999992</td>\n",
       "      <td>0.000008</td>\n",
       "      <td>4.270000e-08</td>\n",
       "      <td>3.700000e-09</td>\n",
       "      <td>yes</td>\n",
       "    </tr>\n",
       "    <tr>\n",
       "      <th>1</th>\n",
       "      <td>df63f574-8e9b-426b-aa3b-b3757cb699b5</td>\n",
       "      <td>0.000000</td>\n",
       "      <td>0.000000e+00</td>\n",
       "      <td>0.000000e+00</td>\n",
       "      <td>1.000000</td>\n",
       "      <td>0.000000</td>\n",
       "      <td>0.000000e+00</td>\n",
       "      <td>0.000000e+00</td>\n",
       "      <td>no</td>\n",
       "    </tr>\n",
       "    <tr>\n",
       "      <th>2</th>\n",
       "      <td>a743ae24-4209-44e2-b11e-7a872f071ae9</td>\n",
       "      <td>0.000000</td>\n",
       "      <td>0.000000e+00</td>\n",
       "      <td>0.000000e+00</td>\n",
       "      <td>1.000000</td>\n",
       "      <td>0.000000</td>\n",
       "      <td>0.000000e+00</td>\n",
       "      <td>0.000000e+00</td>\n",
       "      <td>no</td>\n",
       "    </tr>\n",
       "    <tr>\n",
       "      <th>3</th>\n",
       "      <td>59ed0339-c8e3-4fcd-9b5a-c1487b035d3b</td>\n",
       "      <td>0.000011</td>\n",
       "      <td>7.080000e-08</td>\n",
       "      <td>5.300000e-09</td>\n",
       "      <td>0.999989</td>\n",
       "      <td>0.000011</td>\n",
       "      <td>6.550000e-08</td>\n",
       "      <td>5.300000e-09</td>\n",
       "      <td>yes</td>\n",
       "    </tr>\n",
       "    <tr>\n",
       "      <th>4</th>\n",
       "      <td>5cc8a749-21ca-4073-8626-4ae7332cc0dd</td>\n",
       "      <td>0.000011</td>\n",
       "      <td>7.080000e-08</td>\n",
       "      <td>5.300000e-09</td>\n",
       "      <td>0.999989</td>\n",
       "      <td>0.000011</td>\n",
       "      <td>6.550000e-08</td>\n",
       "      <td>5.300000e-09</td>\n",
       "      <td>yes</td>\n",
       "    </tr>\n",
       "  </tbody>\n",
       "</table>\n",
       "</div>"
      ],
      "text/plain": [
       "                                   guid      LS_0          LS_1          LS_2  \\\n",
       "0  1815653a-7b70-44ce-8544-e975596bdf82  0.000008  4.640000e-08  3.700000e-09   \n",
       "1  df63f574-8e9b-426b-aa3b-b3757cb699b5  0.000000  0.000000e+00  0.000000e+00   \n",
       "2  a743ae24-4209-44e2-b11e-7a872f071ae9  0.000000  0.000000e+00  0.000000e+00   \n",
       "3  59ed0339-c8e3-4fcd-9b5a-c1487b035d3b  0.000011  7.080000e-08  5.300000e-09   \n",
       "4  5cc8a749-21ca-4073-8626-4ae7332cc0dd  0.000011  7.080000e-08  5.300000e-09   \n",
       "\n",
       "       DS_0      DS_1          DS_2          DS_3 haz_expose  \n",
       "0  0.999992  0.000008  4.270000e-08  3.700000e-09        yes  \n",
       "1  1.000000  0.000000  0.000000e+00  0.000000e+00         no  \n",
       "2  1.000000  0.000000  0.000000e+00  0.000000e+00         no  \n",
       "3  0.999989  0.000011  6.550000e-08  5.300000e-09        yes  \n",
       "4  0.999989  0.000011  6.550000e-08  5.300000e-09        yes  "
      ]
     },
     "execution_count": 11,
     "metadata": {},
     "output_type": "execute_result"
    }
   ],
   "source": [
    "combined_dmg = combined_bldg_dmg.get_output_dataset(\"ds_result\")\n",
    "combined_dmg_df = combined_dmg.get_dataframe_from_csv(low_memory=False)\n",
    "\n",
    "# Display top 5 rows of output data\n",
    "combined_dmg_df.head()"
   ]
  },
  {
   "cell_type": "markdown",
   "id": "828e824b",
   "metadata": {},
   "source": [
    "### TODO add archetype mapping and turn into the table for playbook"
   ]
  },
  {
   "cell_type": "markdown",
   "id": "88a5d556",
   "metadata": {},
   "source": [
    "## Electric Power Pole Damage"
   ]
  },
  {
   "cell_type": "code",
   "execution_count": 14,
   "id": "ed824b73",
   "metadata": {},
   "outputs": [
    {
     "name": "stdout",
     "output_type": "stream",
     "text": [
      "Dataset already exists locally. Reading from local cached zip.\n",
      "Unzipped folder found in the local cache. Reading from it...\n"
     ]
    }
   ],
   "source": [
    "# EPF fragility mapping\n",
    "epf_mapping_id = \"62fac92ecef2881193f22613\"\n",
    "epf_mapping_set = MappingSet(fragility_service.get_mapping(epf_mapping_id))\n",
    "\n",
    "epf_dmg_hurricane_galveston = EpfDamage(client)\n",
    "epf_dmg_hurricane_galveston.load_remote_input_dataset(\"epfs\", \"62fc000f88470b319561b58d\")\n",
    "epf_dmg_hurricane_galveston.set_input_dataset('dfr3_mapping_set', epf_mapping_set)\n",
    "epf_dmg_hurricane_galveston.set_parameter(\"result_name\", \"Galveston-hurricane-epf-damage\")\n",
    "epf_dmg_hurricane_galveston.set_parameter(\"fragility_key\", \"Non-Retrofit Fragility ID Code\")\n",
    "epf_dmg_hurricane_galveston.set_parameter(\"hazard_type\", hazard_type)\n",
    "epf_dmg_hurricane_galveston.set_parameter(\"hazard_id\", hazard_id)\n",
    "epf_dmg_hurricane_galveston.set_parameter(\"num_cpu\", 8)\n",
    "\n",
    "# Run Analysis\n",
    "epf_dmg_hurricane_galveston.run_analysis()\n",
    "epf_dmg_result = epf_dmg_hurricane_galveston.get_output_dataset(\"result\")"
   ]
  },
  {
   "cell_type": "markdown",
   "id": "9e8e1ca0",
   "metadata": {},
   "source": [
    "## Monte Carlo Failure Probability"
   ]
  },
  {
   "cell_type": "code",
   "execution_count": 16,
   "id": "f8699e6b",
   "metadata": {},
   "outputs": [
    {
     "data": {
      "text/html": [
       "<div>\n",
       "<style scoped>\n",
       "    .dataframe tbody tr th:only-of-type {\n",
       "        vertical-align: middle;\n",
       "    }\n",
       "\n",
       "    .dataframe tbody tr th {\n",
       "        vertical-align: top;\n",
       "    }\n",
       "\n",
       "    .dataframe thead th {\n",
       "        text-align: right;\n",
       "    }\n",
       "</style>\n",
       "<table border=\"1\" class=\"dataframe\">\n",
       "  <thead>\n",
       "    <tr style=\"text-align: right;\">\n",
       "      <th></th>\n",
       "      <th>guid</th>\n",
       "      <th>failure</th>\n",
       "    </tr>\n",
       "  </thead>\n",
       "  <tbody>\n",
       "    <tr>\n",
       "      <th>0</th>\n",
       "      <td>1815653a-7b70-44ce-8544-e975596bdf82</td>\n",
       "      <td>1,1,1,1,1,1,1,1,1,1</td>\n",
       "    </tr>\n",
       "    <tr>\n",
       "      <th>1</th>\n",
       "      <td>df63f574-8e9b-426b-aa3b-b3757cb699b5</td>\n",
       "      <td>1,1,1,1,1,1,1,1,1,1</td>\n",
       "    </tr>\n",
       "    <tr>\n",
       "      <th>2</th>\n",
       "      <td>a743ae24-4209-44e2-b11e-7a872f071ae9</td>\n",
       "      <td>1,1,1,1,1,1,1,1,1,1</td>\n",
       "    </tr>\n",
       "    <tr>\n",
       "      <th>3</th>\n",
       "      <td>59ed0339-c8e3-4fcd-9b5a-c1487b035d3b</td>\n",
       "      <td>1,1,1,1,1,1,1,1,1,1</td>\n",
       "    </tr>\n",
       "    <tr>\n",
       "      <th>4</th>\n",
       "      <td>5cc8a749-21ca-4073-8626-4ae7332cc0dd</td>\n",
       "      <td>1,1,1,1,1,1,1,1,1,1</td>\n",
       "    </tr>\n",
       "  </tbody>\n",
       "</table>\n",
       "</div>"
      ],
      "text/plain": [
       "                                   guid              failure\n",
       "0  1815653a-7b70-44ce-8544-e975596bdf82  1,1,1,1,1,1,1,1,1,1\n",
       "1  df63f574-8e9b-426b-aa3b-b3757cb699b5  1,1,1,1,1,1,1,1,1,1\n",
       "2  a743ae24-4209-44e2-b11e-7a872f071ae9  1,1,1,1,1,1,1,1,1,1\n",
       "3  59ed0339-c8e3-4fcd-9b5a-c1487b035d3b  1,1,1,1,1,1,1,1,1,1\n",
       "4  5cc8a749-21ca-4073-8626-4ae7332cc0dd  1,1,1,1,1,1,1,1,1,1"
      ]
     },
     "execution_count": 16,
     "metadata": {},
     "output_type": "execute_result"
    }
   ],
   "source": [
    "mc = MonteCarloFailureProbability(client)\n",
    "mc.set_input_dataset(\"damage\", combined_dmg)\n",
    "mc.set_parameter(\"result_name\", \"combined_bldg_mc\")\n",
    "mc.set_parameter(\"num_cpu\", 8)\n",
    "mc.set_parameter(\"num_samples\", 10)\n",
    "mc.set_parameter(\"damage_interval_keys\", [\"DS_0\", \"DS_1\", \"DS_2\", \"DS_3\"])\n",
    "mc.set_parameter(\"failure_state_keys\", [\"DS_1\", \"DS_2\", \"DS_3\"])\n",
    "mc.run_analysis()\n",
    "\n",
    "gal_bldg_damage_mcs_samples = mc.get_output_dataset('sample_failure_state')\n",
    "gal_bldg_damage_mcs_samples_df = gal_bldg_damage_mcs_samples.get_dataframe_from_csv()\n",
    "gal_bldg_damage_mcs_samples_df.head()"
   ]
  },
  {
   "cell_type": "code",
   "execution_count": 17,
   "id": "837544c4",
   "metadata": {},
   "outputs": [
    {
     "data": {
      "text/html": [
       "<div>\n",
       "<style scoped>\n",
       "    .dataframe tbody tr th:only-of-type {\n",
       "        vertical-align: middle;\n",
       "    }\n",
       "\n",
       "    .dataframe tbody tr th {\n",
       "        vertical-align: top;\n",
       "    }\n",
       "\n",
       "    .dataframe thead th {\n",
       "        text-align: right;\n",
       "    }\n",
       "</style>\n",
       "<table border=\"1\" class=\"dataframe\">\n",
       "  <thead>\n",
       "    <tr style=\"text-align: right;\">\n",
       "      <th></th>\n",
       "      <th>guid</th>\n",
       "      <th>failure</th>\n",
       "    </tr>\n",
       "  </thead>\n",
       "  <tbody>\n",
       "    <tr>\n",
       "      <th>0</th>\n",
       "      <td>2525e200-cdc6-4fb8-9952-f17579176fd8</td>\n",
       "      <td>1,1,1,1,1,1,1,1,1,1</td>\n",
       "    </tr>\n",
       "    <tr>\n",
       "      <th>1</th>\n",
       "      <td>9180f947-26ae-40bd-85f5-83a80525f6c8</td>\n",
       "      <td>1,1,1,1,1,1,1,1,1,1</td>\n",
       "    </tr>\n",
       "    <tr>\n",
       "      <th>2</th>\n",
       "      <td>11ddc2dc-cc92-4c90-b4cc-a99b92a26f4b</td>\n",
       "      <td>1,1,1,1,1,1,1,1,1,1</td>\n",
       "    </tr>\n",
       "    <tr>\n",
       "      <th>3</th>\n",
       "      <td>9e58f196-9a2c-40b1-b722-69fa9c53c9d4</td>\n",
       "      <td>1,1,1,1,1,1,1,1,1,1</td>\n",
       "    </tr>\n",
       "    <tr>\n",
       "      <th>4</th>\n",
       "      <td>a4de2d54-b251-4a02-af0c-d12e0dc3670c</td>\n",
       "      <td>1,1,1,1,1,1,1,1,1,1</td>\n",
       "    </tr>\n",
       "  </tbody>\n",
       "</table>\n",
       "</div>"
      ],
      "text/plain": [
       "                                   guid              failure\n",
       "0  2525e200-cdc6-4fb8-9952-f17579176fd8  1,1,1,1,1,1,1,1,1,1\n",
       "1  9180f947-26ae-40bd-85f5-83a80525f6c8  1,1,1,1,1,1,1,1,1,1\n",
       "2  11ddc2dc-cc92-4c90-b4cc-a99b92a26f4b  1,1,1,1,1,1,1,1,1,1\n",
       "3  9e58f196-9a2c-40b1-b722-69fa9c53c9d4  1,1,1,1,1,1,1,1,1,1\n",
       "4  a4de2d54-b251-4a02-af0c-d12e0dc3670c  1,1,1,1,1,1,1,1,1,1"
      ]
     },
     "execution_count": 17,
     "metadata": {},
     "output_type": "execute_result"
    }
   ],
   "source": [
    "mc = MonteCarloFailureProbability(client)\n",
    "mc.set_input_dataset(\"damage\", epf_dmg_result)\n",
    "mc.set_parameter(\"result_name\", \"epf_mc\")\n",
    "mc.set_parameter(\"num_cpu\", 8)\n",
    "mc.set_parameter(\"num_samples\", 10)\n",
    "mc.set_parameter(\"damage_interval_keys\", [\"DS_0\", \"DS_1\", \"DS_2\", \"DS_3\"])\n",
    "mc.set_parameter(\"failure_state_keys\", [\"DS_1\", \"DS_2\", \"DS_3\"])\n",
    "mc.run_analysis()\n",
    "\n",
    "gal_pole_damage_mcs_samples = mc.get_output_dataset('sample_failure_state')\n",
    "gal_pole_damage_mcs_samples_df = gal_pole_damage_mcs_samples.get_dataframe_from_csv()\n",
    "gal_pole_damage_mcs_samples_df.head()"
   ]
  },
  {
   "cell_type": "markdown",
   "id": "44c772d4",
   "metadata": {},
   "source": [
    "## Building Functionality (Interdependency Dictionary need to be updated)"
   ]
  },
  {
   "cell_type": "code",
   "execution_count": 18,
   "id": "9412fc5a",
   "metadata": {},
   "outputs": [
    {
     "name": "stdout",
     "output_type": "stream",
     "text": [
      "Dataset already exists locally. Reading from local cached zip.\n",
      "Unzipped folder found in the local cache. Reading from it...\n"
     ]
    },
    {
     "data": {
      "text/html": [
       "<div>\n",
       "<style scoped>\n",
       "    .dataframe tbody tr th:only-of-type {\n",
       "        vertical-align: middle;\n",
       "    }\n",
       "\n",
       "    .dataframe tbody tr th {\n",
       "        vertical-align: top;\n",
       "    }\n",
       "\n",
       "    .dataframe thead th {\n",
       "        text-align: right;\n",
       "    }\n",
       "</style>\n",
       "<table border=\"1\" class=\"dataframe\">\n",
       "  <thead>\n",
       "    <tr style=\"text-align: right;\">\n",
       "      <th></th>\n",
       "      <th>building_guid</th>\n",
       "      <th>samples</th>\n",
       "    </tr>\n",
       "  </thead>\n",
       "  <tbody>\n",
       "    <tr>\n",
       "      <th>0</th>\n",
       "      <td>1815653a-7b70-44ce-8544-e975596bdf82</td>\n",
       "      <td>NaN</td>\n",
       "    </tr>\n",
       "    <tr>\n",
       "      <th>1</th>\n",
       "      <td>df63f574-8e9b-426b-aa3b-b3757cb699b5</td>\n",
       "      <td>NaN</td>\n",
       "    </tr>\n",
       "    <tr>\n",
       "      <th>2</th>\n",
       "      <td>a743ae24-4209-44e2-b11e-7a872f071ae9</td>\n",
       "      <td>NaN</td>\n",
       "    </tr>\n",
       "    <tr>\n",
       "      <th>3</th>\n",
       "      <td>59ed0339-c8e3-4fcd-9b5a-c1487b035d3b</td>\n",
       "      <td>NaN</td>\n",
       "    </tr>\n",
       "    <tr>\n",
       "      <th>4</th>\n",
       "      <td>5cc8a749-21ca-4073-8626-4ae7332cc0dd</td>\n",
       "      <td>NaN</td>\n",
       "    </tr>\n",
       "  </tbody>\n",
       "</table>\n",
       "</div>"
      ],
      "text/plain": [
       "                          building_guid  samples\n",
       "0  1815653a-7b70-44ce-8544-e975596bdf82      NaN\n",
       "1  df63f574-8e9b-426b-aa3b-b3757cb699b5      NaN\n",
       "2  a743ae24-4209-44e2-b11e-7a872f071ae9      NaN\n",
       "3  59ed0339-c8e3-4fcd-9b5a-c1487b035d3b      NaN\n",
       "4  5cc8a749-21ca-4073-8626-4ae7332cc0dd      NaN"
      ]
     },
     "execution_count": 18,
     "metadata": {},
     "output_type": "execute_result"
    }
   ],
   "source": [
    "gal_bldg_func = BuildingFunctionality(client)\n",
    "    \n",
    "gal_bldg_func.set_input_dataset(\"building_damage_mcs_samples\", gal_bldg_damage_mcs_samples)\n",
    "gal_bldg_func.set_input_dataset(\"poles_damage_mcs_samples\", gal_pole_damage_mcs_samples)\n",
    "gal_bldg_func.load_remote_input_dataset(\"interdependency_dictionary\", \"63d7fe6fa011a9746c94ffb1\")\n",
    "\n",
    "gal_bldg_func.set_parameter(\"result_name\", \"gal_mcs_functionality_probability\")\n",
    "gal_bldg_func.run_analysis()\n",
    "\n",
    "gal_bldg_func_samples_df = gal_bldg_func.get_output_dataset('functionality_samples').get_dataframe_from_csv()\n",
    "gal_bldg_func_samples_df.head()"
   ]
  },
  {
   "cell_type": "markdown",
   "id": "0ff5fc0a",
   "metadata": {},
   "source": [
    "# CGE Placeholder"
   ]
  },
  {
   "cell_type": "markdown",
   "id": "9af06b02",
   "metadata": {},
   "source": [
    "## Population Dislocation"
   ]
  },
  {
   "cell_type": "code",
   "execution_count": 21,
   "id": "21fc4cb6",
   "metadata": {},
   "outputs": [
    {
     "name": "stdout",
     "output_type": "stream",
     "text": [
      "Dataset already exists locally. Reading from local cached zip.\n",
      "Unzipped folder found in the local cache. Reading from it...\n",
      "Dataset already exists locally. Reading from local cached zip.\n",
      "Unzipped folder found in the local cache. Reading from it...\n",
      "Dataset already exists locally. Reading from local cached zip.\n",
      "Unzipped folder found in the local cache. Reading from it...\n"
     ]
    },
    {
     "data": {
      "text/plain": [
       "True"
      ]
     },
     "execution_count": 21,
     "metadata": {},
     "output_type": "execute_result"
    }
   ],
   "source": [
    "pop_dis = PopulationDislocation(client)\n",
    "value_loss = \"60354810e379f22e16560dbd\"\n",
    "bg_data = \"603545f2dcda03378087e708\"\n",
    "hua_result_id = \"6328a9b873b4ed0eefbacad6\"\n",
    "\n",
    "pop_dis.load_remote_input_dataset(\"block_group_data\", bg_data)\n",
    "pop_dis.load_remote_input_dataset(\"value_loss_param\", value_loss)\n",
    "pop_dis.load_remote_input_dataset(\"housing_unit_allocation\", hua_result_id)\n",
    "pop_dis.set_input_dataset(\"building_dmg\", combined_dmg)\n",
    "\n",
    "result_name = \"galveston-pop-disl-results\"\n",
    "seed = 1111\n",
    "\n",
    "pop_dis.set_parameter(\"result_name\", result_name)\n",
    "pop_dis.set_parameter(\"seed\", seed)\n",
    "pop_dis.run_analysis()"
   ]
  },
  {
   "cell_type": "code",
   "execution_count": 22,
   "id": "be72da00",
   "metadata": {},
   "outputs": [
    {
     "data": {
      "text/html": [
       "<div>\n",
       "<style scoped>\n",
       "    .dataframe tbody tr th:only-of-type {\n",
       "        vertical-align: middle;\n",
       "    }\n",
       "\n",
       "    .dataframe tbody tr th {\n",
       "        vertical-align: top;\n",
       "    }\n",
       "\n",
       "    .dataframe thead th {\n",
       "        text-align: right;\n",
       "    }\n",
       "</style>\n",
       "<table border=\"1\" class=\"dataframe\">\n",
       "  <thead>\n",
       "    <tr style=\"text-align: right;\">\n",
       "      <th></th>\n",
       "      <th>guid</th>\n",
       "      <th>DS_0</th>\n",
       "      <th>DS_1</th>\n",
       "      <th>DS_2</th>\n",
       "      <th>DS_3</th>\n",
       "      <th>haz_expose</th>\n",
       "      <th>addrptid</th>\n",
       "      <th>strctid</th>\n",
       "      <th>parid</th>\n",
       "      <th>struct_typ</th>\n",
       "      <th>...</th>\n",
       "      <th>Survey</th>\n",
       "      <th>pblackbg</th>\n",
       "      <th>phispbg</th>\n",
       "      <th>d_sf</th>\n",
       "      <th>rploss_0</th>\n",
       "      <th>rploss_1</th>\n",
       "      <th>rploss_2</th>\n",
       "      <th>rploss_3</th>\n",
       "      <th>prdis</th>\n",
       "      <th>dislocated</th>\n",
       "    </tr>\n",
       "  </thead>\n",
       "  <tbody>\n",
       "    <tr>\n",
       "      <th>0</th>\n",
       "      <td>df7e5aef-c49f-45dd-b145-6fd7db8f50ff</td>\n",
       "      <td>1.000000</td>\n",
       "      <td>0.000000</td>\n",
       "      <td>0.000000e+00</td>\n",
       "      <td>0.000000e+00</td>\n",
       "      <td>no</td>\n",
       "      <td>STdf7e5aef-c49f-45dd-b145-6fd7db8f50ffAP000000</td>\n",
       "      <td>STdf7e5aef-c49f-45dd-b145-6fd7db8f50ff</td>\n",
       "      <td>0.0</td>\n",
       "      <td>NaN</td>\n",
       "      <td>...</td>\n",
       "      <td>2010 dec/sf1</td>\n",
       "      <td>1.726539</td>\n",
       "      <td>8.911167</td>\n",
       "      <td>1</td>\n",
       "      <td>0.002914</td>\n",
       "      <td>0.100425</td>\n",
       "      <td>0.524702</td>\n",
       "      <td>0.889881</td>\n",
       "      <td>0.000000</td>\n",
       "      <td>False</td>\n",
       "    </tr>\n",
       "    <tr>\n",
       "      <th>1</th>\n",
       "      <td>07b29b24-3184-4d0b-bbc6-1538aee5b1f1</td>\n",
       "      <td>1.000000</td>\n",
       "      <td>0.000000</td>\n",
       "      <td>0.000000e+00</td>\n",
       "      <td>0.000000e+00</td>\n",
       "      <td>no</td>\n",
       "      <td>ST07b29b24-3184-4d0b-bbc6-1538aee5b1f1AP000000</td>\n",
       "      <td>ST07b29b24-3184-4d0b-bbc6-1538aee5b1f1</td>\n",
       "      <td>0.0</td>\n",
       "      <td>NaN</td>\n",
       "      <td>...</td>\n",
       "      <td>2010 dec/sf1</td>\n",
       "      <td>1.726539</td>\n",
       "      <td>8.911167</td>\n",
       "      <td>1</td>\n",
       "      <td>0.006930</td>\n",
       "      <td>0.132025</td>\n",
       "      <td>0.677548</td>\n",
       "      <td>0.951019</td>\n",
       "      <td>0.000000</td>\n",
       "      <td>False</td>\n",
       "    </tr>\n",
       "    <tr>\n",
       "      <th>2</th>\n",
       "      <td>6d9c5304-59ff-4fb4-a8cf-d746b98f95fb</td>\n",
       "      <td>1.000000</td>\n",
       "      <td>0.000000</td>\n",
       "      <td>0.000000e+00</td>\n",
       "      <td>0.000000e+00</td>\n",
       "      <td>no</td>\n",
       "      <td>ST6d9c5304-59ff-4fb4-a8cf-d746b98f95fbAP000000</td>\n",
       "      <td>ST6d9c5304-59ff-4fb4-a8cf-d746b98f95fb</td>\n",
       "      <td>0.0</td>\n",
       "      <td>NaN</td>\n",
       "      <td>...</td>\n",
       "      <td>2010 dec/sf1</td>\n",
       "      <td>1.726539</td>\n",
       "      <td>8.911167</td>\n",
       "      <td>1</td>\n",
       "      <td>0.005776</td>\n",
       "      <td>0.100000</td>\n",
       "      <td>0.654935</td>\n",
       "      <td>0.941974</td>\n",
       "      <td>0.000000</td>\n",
       "      <td>False</td>\n",
       "    </tr>\n",
       "    <tr>\n",
       "      <th>3</th>\n",
       "      <td>2f76cc1d-ee76-445c-b086-2cd331ed7b1b</td>\n",
       "      <td>1.000000</td>\n",
       "      <td>0.000000</td>\n",
       "      <td>0.000000e+00</td>\n",
       "      <td>0.000000e+00</td>\n",
       "      <td>no</td>\n",
       "      <td>ST2f76cc1d-ee76-445c-b086-2cd331ed7b1bAP000000</td>\n",
       "      <td>ST2f76cc1d-ee76-445c-b086-2cd331ed7b1b</td>\n",
       "      <td>0.0</td>\n",
       "      <td>NaN</td>\n",
       "      <td>...</td>\n",
       "      <td>2010 dec/sf1</td>\n",
       "      <td>1.726539</td>\n",
       "      <td>8.911167</td>\n",
       "      <td>1</td>\n",
       "      <td>0.002404</td>\n",
       "      <td>0.105851</td>\n",
       "      <td>0.436479</td>\n",
       "      <td>0.854591</td>\n",
       "      <td>0.000000</td>\n",
       "      <td>False</td>\n",
       "    </tr>\n",
       "    <tr>\n",
       "      <th>4</th>\n",
       "      <td>cdcedef2-2948-459f-b453-3fcc19076d91</td>\n",
       "      <td>0.999992</td>\n",
       "      <td>0.000008</td>\n",
       "      <td>3.920000e-08</td>\n",
       "      <td>3.400000e-09</td>\n",
       "      <td>yes</td>\n",
       "      <td>STcdcedef2-2948-459f-b453-3fcc19076d91AP000000</td>\n",
       "      <td>STcdcedef2-2948-459f-b453-3fcc19076d91</td>\n",
       "      <td>0.0</td>\n",
       "      <td>NaN</td>\n",
       "      <td>...</td>\n",
       "      <td>2010 dec/sf1</td>\n",
       "      <td>1.726539</td>\n",
       "      <td>8.911167</td>\n",
       "      <td>1</td>\n",
       "      <td>0.003029</td>\n",
       "      <td>0.133077</td>\n",
       "      <td>0.438777</td>\n",
       "      <td>0.855511</td>\n",
       "      <td>0.257757</td>\n",
       "      <td>True</td>\n",
       "    </tr>\n",
       "  </tbody>\n",
       "</table>\n",
       "<p>5 rows × 85 columns</p>\n",
       "</div>"
      ],
      "text/plain": [
       "                                   guid      DS_0      DS_1          DS_2  \\\n",
       "0  df7e5aef-c49f-45dd-b145-6fd7db8f50ff  1.000000  0.000000  0.000000e+00   \n",
       "1  07b29b24-3184-4d0b-bbc6-1538aee5b1f1  1.000000  0.000000  0.000000e+00   \n",
       "2  6d9c5304-59ff-4fb4-a8cf-d746b98f95fb  1.000000  0.000000  0.000000e+00   \n",
       "3  2f76cc1d-ee76-445c-b086-2cd331ed7b1b  1.000000  0.000000  0.000000e+00   \n",
       "4  cdcedef2-2948-459f-b453-3fcc19076d91  0.999992  0.000008  3.920000e-08   \n",
       "\n",
       "           DS_3 haz_expose                                        addrptid  \\\n",
       "0  0.000000e+00         no  STdf7e5aef-c49f-45dd-b145-6fd7db8f50ffAP000000   \n",
       "1  0.000000e+00         no  ST07b29b24-3184-4d0b-bbc6-1538aee5b1f1AP000000   \n",
       "2  0.000000e+00         no  ST6d9c5304-59ff-4fb4-a8cf-d746b98f95fbAP000000   \n",
       "3  0.000000e+00         no  ST2f76cc1d-ee76-445c-b086-2cd331ed7b1bAP000000   \n",
       "4  3.400000e-09        yes  STcdcedef2-2948-459f-b453-3fcc19076d91AP000000   \n",
       "\n",
       "                                  strctid  parid  struct_typ  ...  \\\n",
       "0  STdf7e5aef-c49f-45dd-b145-6fd7db8f50ff    0.0         NaN  ...   \n",
       "1  ST07b29b24-3184-4d0b-bbc6-1538aee5b1f1    0.0         NaN  ...   \n",
       "2  ST6d9c5304-59ff-4fb4-a8cf-d746b98f95fb    0.0         NaN  ...   \n",
       "3  ST2f76cc1d-ee76-445c-b086-2cd331ed7b1b    0.0         NaN  ...   \n",
       "4  STcdcedef2-2948-459f-b453-3fcc19076d91    0.0         NaN  ...   \n",
       "\n",
       "         Survey  pblackbg   phispbg  d_sf  rploss_0  rploss_1  rploss_2  \\\n",
       "0  2010 dec/sf1  1.726539  8.911167     1  0.002914  0.100425  0.524702   \n",
       "1  2010 dec/sf1  1.726539  8.911167     1  0.006930  0.132025  0.677548   \n",
       "2  2010 dec/sf1  1.726539  8.911167     1  0.005776  0.100000  0.654935   \n",
       "3  2010 dec/sf1  1.726539  8.911167     1  0.002404  0.105851  0.436479   \n",
       "4  2010 dec/sf1  1.726539  8.911167     1  0.003029  0.133077  0.438777   \n",
       "\n",
       "   rploss_3     prdis  dislocated  \n",
       "0  0.889881  0.000000       False  \n",
       "1  0.951019  0.000000       False  \n",
       "2  0.941974  0.000000       False  \n",
       "3  0.854591  0.000000       False  \n",
       "4  0.855511  0.257757        True  \n",
       "\n",
       "[5 rows x 85 columns]"
      ]
     },
     "execution_count": 22,
     "metadata": {},
     "output_type": "execute_result"
    }
   ],
   "source": [
    "population_dislocation_result = pop_dis.get_output_dataset(\"result\")\n",
    "population_dislocation_result_df = population_dislocation_result.get_dataframe_from_csv(low_memory=False)\n",
    "population_dislocation_result_df.head()"
   ]
  },
  {
   "cell_type": "code",
   "execution_count": null,
   "id": "651390e4",
   "metadata": {},
   "outputs": [],
   "source": []
  }
 ],
 "metadata": {
  "kernelspec": {
   "display_name": "Python 3 (ipykernel)",
   "language": "python",
   "name": "python3"
  },
  "language_info": {
   "codemirror_mode": {
    "name": "ipython",
    "version": 3
   },
   "file_extension": ".py",
   "mimetype": "text/x-python",
   "name": "python",
   "nbconvert_exporter": "python",
   "pygments_lexer": "ipython3",
   "version": "3.9.13"
  }
 },
 "nbformat": 4,
 "nbformat_minor": 5
}
