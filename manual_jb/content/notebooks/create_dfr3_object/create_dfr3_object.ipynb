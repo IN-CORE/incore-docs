{
 "cells": [
  {
   "cell_type": "markdown",
   "metadata": {
    "pycharm": {
     "name": "#%% md\n"
    }
   },
   "source": [
    "# Create  DFR3 and Mapping Objects"
   ]
  },
  {
   "cell_type": "markdown",
   "metadata": {},
   "source": [
    "Analyses use DFR3 mapping sets from IN-CORE service to associate each element of a given set with one or more elements of a second set of DFR3 curves. In IN-CORE and pyIncore specifically, a building inventory (given set) is mapped to a (second) set of fragility curves.\n",
    "\n",
    "This tutorial shows examples of how to create **DFR3** and **mapping** objects for fragility, restoration and repair curves as well as how to use them in **pyIncore**.\n",
    "\n",
    "A user can upload a DFR3 or mapping set to the DFR3 services or use it locally. This tutorial covers both options. \n",
    "\n",
    "![alt text](images/lookup_fragility_id.png)\n",
    "\n",
    "Please note that in this notebook we use term *function* in programming context as a class function and *curve* as a function in mathematical context (lognormal curve)."
   ]
  },
  {
   "cell_type": "code",
   "execution_count": 1,
   "metadata": {
    "pycharm": {
     "name": "#%%\n"
    }
   },
   "outputs": [],
   "source": [
    "from pyincore import FragilityService, IncoreClient\n",
    "from pyincore import Mapping, MappingSet, FragilityCurveSet"
   ]
  },
  {
   "cell_type": "code",
   "execution_count": 2,
   "metadata": {},
   "outputs": [
    {
     "name": "stdout",
     "output_type": "stream",
     "text": [
      "Connection successful to IN-CORE services. pyIncore version detected: 1.2.0\n"
     ]
    }
   ],
   "source": [
    "# IN-CORE client\n",
    "client = IncoreClient()\n",
    "\n",
    "# Initiate fragility service\n",
    "fragility_services = FragilityService(client)"
   ]
  },
  {
   "cell_type": "markdown",
   "metadata": {},
   "source": [
    "## Fragility set object"
   ]
  },
  {
   "cell_type": "markdown",
   "metadata": {},
   "source": [
    "In this section we are going to explore the creation of **fragility** sets and curves used by the **pyIncore** library in hazard analyses. We provide examples of getting the curves into your project as well as basic use of pyIncore's functions to print and visualize various attributes and variables.\n",
    "\n",
    "Below is an example of a fragility set with three curves and metadata defined as JSON object with key/value pairs."
   ]
  },
  {
   "cell_type": "code",
   "execution_count": 3,
   "metadata": {},
   "outputs": [
    {
     "data": {
      "text/plain": [
       "{'id': '62014b17f8564f226303fa96',\n",
       " 'description': '< 5000 ft^2',\n",
       " 'authors': ['Federal Emergency Management Agency (FEMA)'],\n",
       " 'paperReference': None,\n",
       " 'resultUnit': None,\n",
       " 'resultType': 'Limit State',\n",
       " 'hazardType': 'tsunami',\n",
       " 'inventoryType': 'building',\n",
       " 'creator': 'cwang138',\n",
       " 'curveParameters': [{'name': 'momentumFlux',\n",
       "   'unit': 'ft^3/s^2',\n",
       "   'description': 'momentumFlux value from hazard service',\n",
       "   'fullName': 'momentumFlux',\n",
       "   'expression': None}],\n",
       " 'spaces': ['cwang138'],\n",
       " 'demandTypes': ['Mmax'],\n",
       " 'demandUnits': ['ft^3/s^2'],\n",
       " 'fragilityCurves': [{'description': 'legacy - StandardFragilityCurve - Immediate Occupancy',\n",
       "   'rules': [{'condition': ['momentumFlux > 0'],\n",
       "     'expression': 'scipy.stats.norm.cdf((math.log(momentumFlux) - math.log(247.0))/(0.74))'}],\n",
       "   'returnType': {'type': 'Limit State', 'unit': '', 'description': 'LS_0'},\n",
       "   'curveParameters': None},\n",
       "  {'description': 'legacy - StandardFragilityCurve - Life Safety',\n",
       "   'rules': [{'condition': ['momentumFlux > 0'],\n",
       "     'expression': 'scipy.stats.norm.cdf((math.log(momentumFlux) - math.log(247.0))/(0.74))'}],\n",
       "   'returnType': {'type': 'Limit State', 'unit': '', 'description': 'LS_1'},\n",
       "   'curveParameters': None},\n",
       "  {'description': 'legacy - StandardFragilityCurve - Collapse Prevention',\n",
       "   'rules': [{'condition': ['momentumFlux > 0'],\n",
       "     'expression': 'scipy.stats.norm.cdf((math.log(momentumFlux) - math.log(247.0))/(0.74))'}],\n",
       "   'returnType': {'type': 'Limit State', 'unit': '', 'description': 'LS_2'},\n",
       "   'curveParameters': None}]}"
      ]
     },
     "execution_count": 3,
     "metadata": {},
     "output_type": "execute_result"
    }
   ],
   "source": [
    "fragility_data = {\n",
    "    \"description\": \"< 5000 ft^2\",\n",
    "    \"authors\": [\n",
    "        \"Federal Emergency Management Agency (FEMA)\"\n",
    "    ],\n",
    "    \"resultType\": \"Limit State\",\n",
    "    \"hazardType\": \"tsunami\",\n",
    "    \"inventoryType\": \"building\",\n",
    "    \"creator\": \"incore\",\n",
    "    \"spaces\": [\n",
    "        \"coe\"\n",
    "    ],\n",
    "    \"demandTypes\": [\n",
    "        \"Mmax\"\n",
    "    ],\n",
    "    \"demandUnits\": [\n",
    "        \"ft^3/s^2\"\n",
    "    ],\n",
    "    \"fragilityCurves\": [\n",
    "        {\n",
    "            \"description\": \"legacy - StandardFragilityCurve - Immediate Occupancy\",\n",
    "            \"rules\": [\n",
    "                {\n",
    "                    \"condition\": [\n",
    "                        \"momentumFlux > 0\"\n",
    "                    ],\n",
    "                    \"expression\": \"scipy.stats.norm.cdf((math.log(momentumFlux) - math.log(247.0))/(0.74))\"\n",
    "                }\n",
    "            ],\n",
    "            \"returnType\": {\n",
    "                \"type\": \"Limit State\",\n",
    "                \"unit\": \"\",\n",
    "                \"description\": \"LS_0\"\n",
    "            },\n",
    "        },\n",
    "        {\n",
    "            \"description\": \"legacy - StandardFragilityCurve - Life Safety\",\n",
    "            \"rules\": [\n",
    "                {\n",
    "                    \"condition\": [\n",
    "                        \"momentumFlux > 0\"\n",
    "                    ],\n",
    "                    \"expression\": \"scipy.stats.norm.cdf((math.log(momentumFlux) - math.log(247.0))/(0.74))\"\n",
    "                }\n",
    "            ],\n",
    "            \"returnType\": {\n",
    "                \"type\": \"Limit State\",\n",
    "                \"unit\": \"\",\n",
    "                \"description\": \"LS_1\"\n",
    "            },\n",
    "        },\n",
    "        {\n",
    "            \"description\": \"legacy - StandardFragilityCurve - Collapse Prevention\",\n",
    "            \"rules\": [\n",
    "                {\n",
    "                    \"condition\": [\n",
    "                        \"momentumFlux > 0\"\n",
    "                    ],\n",
    "                    \"expression\": \"scipy.stats.norm.cdf((math.log(momentumFlux) - math.log(247.0))/(0.74))\"\n",
    "                }\n",
    "            ],\n",
    "            \"returnType\": {\n",
    "                \"type\": \"Limit State\",\n",
    "                \"unit\": \"\",\n",
    "                \"description\": \"LS_2\"\n",
    "            },\n",
    "        }\n",
    "    ],\n",
    "    \"curveParameters\": [\n",
    "        {\n",
    "            \"name\": \"momentumFlux\",\n",
    "            \"unit\": \"ft^3/s^2\",\n",
    "            \"description\": \"momentumFlux value from hazard service\",\n",
    "            \"fullName\": \"momentumFlux\",\n",
    "        }\n",
    "    ]\n",
    "}\n",
    "\n",
    "created_fragility = fragility_services.create_dfr3_set(fragility_data)\n",
    "created_fragility"
   ]
  },
  {
   "cell_type": "markdown",
   "metadata": {},
   "source": [
    "### 1. Using IDs from IN-CORE DFR3 services"
   ]
  },
  {
   "cell_type": "markdown",
   "metadata": {},
   "source": [
    "In the first example we use IN-CORE's DFR3 service to get fragility curves and to set a local DFR3 object. We need an ID number of a set in the service. A user can look up the fragility IDs in the DFR3 viewer."
   ]
  },
  {
   "cell_type": "code",
   "execution_count": 4,
   "metadata": {},
   "outputs": [
    {
     "data": {
      "text/plain": [
       "<pyincore.models.fragilitycurveset.FragilityCurveSet at 0x7faed84e4110>"
      ]
     },
     "execution_count": 4,
     "metadata": {},
     "output_type": "execute_result"
    }
   ],
   "source": [
    "# Set fragility set id from the service\n",
    "fragility_set_id = \"5b47b2d7337d4a36187c61ce\"\n",
    "\n",
    "# Get local fragility curve set\n",
    "fragility_curve_set = FragilityCurveSet(fragility_services.get_dfr3_set(fragility_set_id))\n",
    "\n",
    "fragility_curve_set"
   ]
  },
  {
   "cell_type": "markdown",
   "metadata": {},
   "source": [
    "### 2. Writing JSON definition"
   ]
  },
  {
   "cell_type": "markdown",
   "metadata": {},
   "source": [
    "In the second example we define a fragility set as a text string with JSON type key/value pairs \n",
    "which will then be converted to a JSON object. **Note** It is necessary to use the specified types of quotes \n",
    "to create the string."
   ]
  },
  {
   "cell_type": "code",
   "execution_count": 5,
   "metadata": {},
   "outputs": [
    {
     "data": {
      "text/plain": [
       "<pyincore.models.fragilitycurveset.FragilityCurveSet at 0x7faed851e690>"
      ]
     },
     "execution_count": 5,
     "metadata": {},
     "output_type": "execute_result"
    }
   ],
   "source": [
    "fragility_set_json_str = '''{\n",
    "    \"id\": \"5b47b2d7337d4a36187c61ce\",\n",
    "    \"description\": \"Mid-Rise Steel Moment Frame\",\n",
    "    \"authors\": [\n",
    "        \"Elnashai and Jeong\"\n",
    "    ],\n",
    "    \"paperReference\": null,\n",
    "    \"resultUnit\": null,\n",
    "    \"resultType\": \"Limit State\",\n",
    "    \"hazardType\": \"earthquake\",\n",
    "    \"inventoryType\": \"building\",\n",
    "    \"creator\": \"incore\",\n",
    "    \"spaces\": [\n",
    "        \"coe\"\n",
    "    ],\n",
    "    \"demandTypes\": [\n",
    "        \"PGA\"\n",
    "    ],\n",
    "    \"demandUnits\": [\n",
    "        \"g\"\n",
    "    ],\n",
    "    \"fragilityCurves\": [\n",
    "        {\n",
    "            \"description\": \"legacy - PeriodStandardFragilityCurve - Moderate\",\n",
    "            \"rules\": [\n",
    "                {\n",
    "                    \"condition\": [\n",
    "                        \"PGA > 0\"\n",
    "                    ],\n",
    "                    \"expression\": \"scipy.stats.norm.cdf((math.log(PGA) - (-0.571))/(0.665))\"\n",
    "                }\n",
    "            ],\n",
    "            \"returnType\": {\n",
    "                \"type\": \"Limit State\",\n",
    "                \"unit\": \"\",\n",
    "                \"description\": \"LS_0\"\n",
    "            },\n",
    "            \"fragilityCurveParameters\": null\n",
    "        },\n",
    "        {\n",
    "            \"description\": \"legacy - PeriodStandardFragilityCurve - Extensive\",\n",
    "            \"rules\": [\n",
    "                {\n",
    "                    \"condition\": [\n",
    "                        \"PGA > 0\"\n",
    "                    ],\n",
    "                    \"expression\": \"scipy.stats.norm.cdf((math.log(PGA) - (0.352))/(0.675))\"\n",
    "                }\n",
    "            ],\n",
    "            \"returnType\": {\n",
    "                \"type\": \"Limit State\",\n",
    "                \"unit\": \"\",\n",
    "                \"description\": \"LS_1\"\n",
    "            },\n",
    "            \"fragilityCurveParameters\": null\n",
    "        },\n",
    "        {\n",
    "            \"description\": \"legacy - PeriodStandardFragilityCurve - Complete\",\n",
    "            \"rules\": [\n",
    "                {\n",
    "                    \"condition\": [\n",
    "                        \"PGA > 0\"\n",
    "                    ],\n",
    "                    \"expression\": \"scipy.stats.norm.cdf((math.log(PGA) - (1.341))/(0.746))\"\n",
    "                }\n",
    "            ],\n",
    "            \"returnType\": {\n",
    "                \"type\": \"Limit State\",\n",
    "                \"unit\": \"\",\n",
    "                \"description\": \"LS_2\"\n",
    "            },\n",
    "            \"fragilityCurveParameters\": null\n",
    "        }\n",
    "    ],\n",
    "    \"curveParameters\": [\n",
    "        {\n",
    "            \"name\": \"PGA\",\n",
    "            \"unit\": \"g\",\n",
    "            \"description\": \"PGA value from hazard service\",\n",
    "            \"fullName\": \"PGA\",\n",
    "            \"expression\": null\n",
    "        },\n",
    "        {\n",
    "            \"name\": \"num_stories\",\n",
    "            \"unit\": \"\",\n",
    "            \"description\": \"number of stories in building inventory\",\n",
    "            \"fullName\": null,\n",
    "            \"expression\": \"1\"\n",
    "        },\n",
    "        {\n",
    "            \"name\": \"period\",\n",
    "            \"unit\": \"\",\n",
    "            \"description\": \"default building period\",\n",
    "            \"fullName\": null,\n",
    "            \"expression\": \"1.08\"\n",
    "        }\n",
    "    ]\n",
    "}\n",
    "'''\n",
    "fragility_curve_set = FragilityCurveSet.from_json_str(fragility_set_json_str)\n",
    "fragility_curve_set"
   ]
  },
  {
   "cell_type": "markdown",
   "metadata": {},
   "source": [
    "### 3. Constructing a fragility set from individual curves"
   ]
  },
  {
   "cell_type": "markdown",
   "metadata": {},
   "source": [
    "In the third example we define the fragility curves as JSON objects first and then combine them into a set. We define the proper set metadata as well."
   ]
  },
  {
   "cell_type": "code",
   "execution_count": 6,
   "metadata": {},
   "outputs": [],
   "source": [
    "# create a fragility curve set with three limit state\n",
    "fragility_curve_LS_0 = {\n",
    "    \"description\": \"Moderate\",\n",
    "    \"rules\": [\n",
    "        {\n",
    "            \"condition\": [\n",
    "                \"PGA > 0\"\n",
    "            ],\n",
    "            \"expression\": \"scipy.stats.norm.cdf((math.log(PGA) - (-0.571))/(0.665))\"\n",
    "        }\n",
    "    ],\n",
    "    \"returnType\": {\n",
    "        \"type\": \"Limit State\",\n",
    "        \"unit\": \"\",\n",
    "        \"description\": \"LS_0\"\n",
    "    }\n",
    "}\n",
    "\n",
    "fragility_curve_LS_1 = {\n",
    "    \"description\": \"Extensive\",\n",
    "    \"rules\": [\n",
    "        {\n",
    "            \"condition\": [\n",
    "                \"PGA > 0\"\n",
    "            ],\n",
    "            \"expression\": \"scipy.stats.norm.cdf((math.log(PGA) - (0.352))/(0.675))\"\n",
    "        }\n",
    "    ],\n",
    "    \"returnType\": {\n",
    "        \"type\": \"Limit State\",\n",
    "        \"unit\": \"\",\n",
    "        \"description\": \"LS_1\"\n",
    "    }\n",
    "}\n",
    "\n",
    "fragility_curve_LS_2 = {\n",
    "    \"description\": \"Complete\",\n",
    "    \"rules\": [\n",
    "        {\n",
    "            \"condition\": [\n",
    "                \"PGA > 0\"\n",
    "            ],\n",
    "            \"expression\": \"scipy.stats.norm.cdf((math.log(PGA) - (1.341))/(0.746))\"\n",
    "        }\n",
    "    ],\n",
    "    \"returnType\": {\n",
    "        \"type\": \"Limit State\",\n",
    "        \"unit\": \"\",\n",
    "        \"description\": \"LS_2\"\n",
    "    }\n",
    "}"
   ]
  },
  {
   "cell_type": "code",
   "execution_count": 7,
   "metadata": {},
   "outputs": [],
   "source": [
    "# place three curves into a set with extra metadata\n",
    "metadata = {\n",
    "    \"id\":\"local_fragility_curve_set\",\n",
    "    \"description\": \"Mid-Rise Steel Moment Frame\",\n",
    "    \"demandTypes\": [\"PGA\"],\n",
    "    \"demandUnits\": [\"g\"],\n",
    "    \"resultType\":\"Limit State\",\n",
    "    \"hazardType\":\"earthquake\",\n",
    "    \"inventoryType\":\"building\",\n",
    "    \"fragilityCurves\":[\n",
    "        fragility_curve_LS_0,\n",
    "        fragility_curve_LS_1,\n",
    "        fragility_curve_LS_2,\n",
    "    ],\n",
    "    \"curveParameters\": [\n",
    "        {\n",
    "            \"name\": \"PGA\",\n",
    "            \"unit\": \"g\",\n",
    "            \"description\": \"PGA value from hazard service\",\n",
    "            \"fullName\": \"PGA\",\n",
    "        },\n",
    "        {\n",
    "            \"name\": \"num_stories\",\n",
    "            \"unit\": \"\",\n",
    "            \"description\": \"number of stories in building inventory\",\n",
    "            \"expression\": \"1\"\n",
    "        },\n",
    "        {\n",
    "            \"name\": \"period\",\n",
    "            \"unit\": \"\",\n",
    "            \"description\": \"default building period\",\n",
    "            \"expression\": \"1.08\"\n",
    "        }\n",
    "    ]\n",
    "}"
   ]
  },
  {
   "cell_type": "code",
   "execution_count": 8,
   "metadata": {},
   "outputs": [
    {
     "data": {
      "text/plain": [
       "<pyincore.models.fragilitycurveset.FragilityCurveSet at 0x7faf00625750>"
      ]
     },
     "execution_count": 8,
     "metadata": {},
     "output_type": "execute_result"
    }
   ],
   "source": [
    "# construct the fragility curve object to use\n",
    "fragility_curve_set = FragilityCurveSet(metadata)\n",
    "fragility_curve_set"
   ]
  },
  {
   "cell_type": "markdown",
   "metadata": {},
   "source": [
    "### 4. Loading a fragility set from a JSON file"
   ]
  },
  {
   "cell_type": "markdown",
   "metadata": {},
   "source": [
    "In the last example we load the fragility curves from a JSON file. This is similar to Example 2 because the file content is read as a text string."
   ]
  },
  {
   "cell_type": "code",
   "execution_count": 9,
   "metadata": {},
   "outputs": [],
   "source": [
    "fragility_curve_set2 = FragilityCurveSet.from_json_file(\"files/periodStandardFragilityCurve.json\")"
   ]
  },
  {
   "cell_type": "markdown",
   "metadata": {},
   "source": [
    "## Examples of fragility set and curve use"
   ]
  },
  {
   "cell_type": "markdown",
   "metadata": {},
   "source": [
    "### Damage probability calculation"
   ]
  },
  {
   "cell_type": "markdown",
   "metadata": {},
   "source": [
    "We use the previously defined fragility set to calculate a limit state. We will use the fragility set object from Example 3 in **Creation of a fragility curve set object** section."
   ]
  },
  {
   "cell_type": "code",
   "execution_count": 10,
   "metadata": {},
   "outputs": [
    {
     "data": {
      "text/plain": [
       "{'LS_0': 0.9999922402, 'LS_1': 0.9980722934, 'LS_2': 0.9012988813}"
      ]
     },
     "execution_count": 10,
     "metadata": {},
     "output_type": "execute_result"
    }
   ],
   "source": [
    "probabilities = fragility_curve_set.calculate_limit_state(hazard_values={\"PGA\": 10}, period=1)\n",
    "probabilities"
   ]
  },
  {
   "cell_type": "markdown",
   "metadata": {},
   "source": [
    "### Curve visualization"
   ]
  },
  {
   "cell_type": "markdown",
   "metadata": {},
   "source": [
    "Use pyincore-viz library to visualize fragility curve set"
   ]
  },
  {
   "cell_type": "code",
   "execution_count": 11,
   "metadata": {},
   "outputs": [
    {
     "data": {
      "image/png": "[encoded data removed]",
      "text/plain": [
       "<Figure size 432x288 with 1 Axes>"
      ]
     },
     "metadata": {
      "needs_background": "light"
     },
     "output_type": "display_data"
    }
   ],
   "source": [
    "from pyincore_viz.plotutil import PlotUtil as plot\n",
    "plt = plot.get_fragility_plot(fragility_curve_set, start=0, end=50)"
   ]
  },
  {
   "cell_type": "markdown",
   "metadata": {},
   "source": [
    "### Computation functions on each individual curve"
   ]
  },
  {
   "cell_type": "markdown",
   "metadata": {},
   "source": [
    "In this example we define a fragility curve using a JSON object and then use different functions to print hazard, \n",
    "infrastructure and ground phenomenon variables; a limit state probability and liquefaction. "
   ]
  },
  {
   "cell_type": "code",
   "execution_count": 12,
   "metadata": {},
   "outputs": [
    {
     "name": "stdout",
     "output_type": "stream",
     "text": [
      "limit state probability is : 0.9983763310617616 \n",
      "\n"
     ]
    }
   ],
   "source": [
    "# use single fragility curve fragility_curve_LS_0 as example\n",
    "# get limit state probability\n",
    "probability = fragility_curve_set.fragility_curves[0].solve_curve_expression(\n",
    "    hazard_values={\"PGA\":4}, curve_parameters=[\n",
    "        {\n",
    "            \"name\": \"PGA\",\n",
    "            \"unit\": \"g\",\n",
    "            \"description\": \"PGA value from hazard service\",\n",
    "            \"fullName\": \"PGA\",\n",
    "        },\n",
    "        {\n",
    "            \"name\": \"num_stories\",\n",
    "            \"unit\": \"\",\n",
    "            \"description\": \"number of stories in building inventory\",\n",
    "            \"expression\": \"1\"\n",
    "        },\n",
    "        {\n",
    "            \"name\": \"period\",\n",
    "            \"unit\": \"\",\n",
    "            \"description\": \"default building period\",\n",
    "            \"expression\": \"1.08\"\n",
    "        }\n",
    "    ],\n",
    "    num_stories=5,\n",
    "    period=1\n",
    ")\n",
    "print(\"limit state probability is :\" , probability, \"\\n\")"
   ]
  },
  {
   "cell_type": "markdown",
   "metadata": {},
   "source": [
    "## DFR3 Mapping Set"
   ]
  },
  {
   "cell_type": "markdown",
   "metadata": {},
   "source": [
    "In this section we are going to explore creation of **mapping** rules used by the **pyIncore** library in hazard analyses. We again provide three examples of getting the mappings into your project as well as basic use of DFR3 mappings in pyIncore.\n",
    "\n",
    "Below is an example of a mapping set with three rules and metadata defined as a JSON object with key/value pairs. Fragility curves are defined by ID codes and structural types define units of infrastructure."
   ]
  },
  {
   "cell_type": "code",
   "execution_count": 13,
   "metadata": {},
   "outputs": [
    {
     "data": {
      "text/plain": [
       "{'id': '62014b17f8564f226303fa97',\n",
       " 'name': 'pytest - Tsunami Building Fragility Mapping',\n",
       " 'hazardType': 'tsunami',\n",
       " 'inventoryType': 'building',\n",
       " 'mappings': [{'legacyEntry': {},\n",
       "   'entry': {'Non-Retrofit Inundation Fragility ID Code': '5bbbaedfec2309046c2745c8',\n",
       "    'Non-Retrofit MomentumFlux Fragility ID Code': '5bbbae19ec2309046c2745c6'},\n",
       "   'rules': [['java.lang.String struct_typ EQUALS W1']]},\n",
       "  {'legacyEntry': {},\n",
       "   'entry': {'Non-Retrofit Inundation Fragility ID Code': '5bbbaf58ec2309046c2745c9',\n",
       "    'Non-Retrofit MomentumFlux Fragility ID Code': '5bbbae5eec2309046c2745c7'},\n",
       "   'rules': [['java.lang.String struct_typ EQUALS W2']]},\n",
       "  {'legacyEntry': {},\n",
       "   'entry': {'Non-Retrofit Inundation Fragility ID Code': '5bbbafcdec2309046c2745ca',\n",
       "    'Non-Retrofit MomentumFlux Fragility ID Code': '5bbbba6bec2309046c2745d8'},\n",
       "   'rules': [['java.lang.String struct_typ EQUALS RC']]}],\n",
       " 'creator': 'cwang138',\n",
       " 'spaces': ['cwang138'],\n",
       " 'mappingType': 'fragility'}"
      ]
     },
     "execution_count": 13,
     "metadata": {},
     "output_type": "execute_result"
    }
   ],
   "source": [
    "mapping_data = {\n",
    "  \"name\": \"pytest - Tsunami Building Fragility Mapping\",\n",
    "  \"hazardType\": \"tsunami\",\n",
    "  \"inventoryType\": \"building\",\n",
    "  \"mappingType\": \"fragility\",\n",
    "  \"mappings\": [\n",
    "      {\n",
    "          \"entry\": {\n",
    "              \"Non-Retrofit Inundation Fragility ID Code\": \"5bbbaedfec2309046c2745c8\",\n",
    "              \"Non-Retrofit MomentumFlux Fragility ID Code\": \"5bbbae19ec2309046c2745c6\"\n",
    "          },\n",
    "          \"rules\": [\n",
    "              [\n",
    "                 \"java.lang.String struct_typ EQUALS W1\"\n",
    "              ]\n",
    "          ]\n",
    "      },\n",
    "      {\n",
    "          \"entry\": {\n",
    "              \"Non-Retrofit Inundation Fragility ID Code\": \"5bbbaf58ec2309046c2745c9\",\n",
    "              \"Non-Retrofit MomentumFlux Fragility ID Code\": \"5bbbae5eec2309046c2745c7\"\n",
    "          },\n",
    "          \"rules\": [\n",
    "              [\n",
    "                  \"java.lang.String struct_typ EQUALS W2\"\n",
    "              ]\n",
    "          ]\n",
    "      },\n",
    "      {\n",
    "          \"entry\": {\n",
    "               \"Non-Retrofit Inundation Fragility ID Code\": \"5bbbafcdec2309046c2745ca\",\n",
    "              \"Non-Retrofit MomentumFlux Fragility ID Code\": \"5bbbba6bec2309046c2745d8\"\n",
    "          },\n",
    "          \"rules\": [\n",
    "              [\n",
    "                  \"java.lang.String struct_typ EQUALS RC\"\n",
    "              ]\n",
    "          ]\n",
    "      }\n",
    "  ]\n",
    "}\n",
    "created_mapping = fragility_services.create_mapping(mapping_data)\n",
    "created_mapping"
   ]
  },
  {
   "cell_type": "markdown",
   "metadata": {},
   "source": [
    "### 1. Using mapping IDs from IN-CORE DFR3 services"
   ]
  },
  {
   "cell_type": "markdown",
   "metadata": {},
   "source": [
    "In the first example we use IN-CORE's DFR3 service to get mappings and to set a local mapping set object. \n",
    "We need an ID number of the mapping set in the service. A user can look up the fragility mapping IDs in the DFR3 viewer."
   ]
  },
  {
   "cell_type": "code",
   "execution_count": 14,
   "metadata": {},
   "outputs": [
    {
     "data": {
      "text/plain": [
       "<pyincore.models.mappingset.MappingSet at 0x7faef05a54d0>"
      ]
     },
     "execution_count": 14,
     "metadata": {},
     "output_type": "execute_result"
    }
   ],
   "source": [
    "mapping_id = \"5b8ec84fec2309047299581f\"\n",
    "fragility_service = FragilityService(client)\n",
    "mapping_set = MappingSet(fragility_service.get_mapping(mapping_id))\n",
    "mapping_set"
   ]
  },
  {
   "cell_type": "markdown",
   "metadata": {},
   "source": [
    "### 2. Writing a mapping definition file"
   ]
  },
  {
   "cell_type": "markdown",
   "metadata": {},
   "source": [
    "In the second example we define a mapping set as a text string with JSON type key/value pairs \n",
    "which then will be converted into a JSON object. **Note** It is necessary to use the specified types of quotes \n",
    "to create the string."
   ]
  },
  {
   "cell_type": "code",
   "execution_count": 15,
   "metadata": {},
   "outputs": [
    {
     "data": {
      "text/plain": [
       "<pyincore.models.mappingset.MappingSet at 0x7faef069c190>"
      ]
     },
     "execution_count": 15,
     "metadata": {},
     "output_type": "execute_result"
    }
   ],
   "source": [
    "mapping_set_json_str = '''\n",
    "{\n",
    "    \"id\": \"5b8ec84fec2309047299581f\",\n",
    "    \"name\": \"Shelby Water Network MMSA\",\n",
    "    \"hazardType\": \"earthquake\",\n",
    "    \"inventoryType\": \"water_facility\",\n",
    "    \"mappings\": [\n",
    "        {\n",
    "            \"legacyEntry\": {},\n",
    "            \"entry\": {\n",
    "                \"pga\": \"5b7d81ffec230904683d5073\"\n",
    "            },\n",
    "            \"rules\": [\n",
    "                [\n",
    "                    \"java.lang.String data_type EQUALS 'tank'\"\n",
    "                ]\n",
    "            ]\n",
    "        },\n",
    "        {\n",
    "            \"legacyEntry\": {},\n",
    "            \"entry\": {\n",
    "                \"pga\": \"5b7d8284ec230904683d5074\"\n",
    "            },\n",
    "            \"rules\": [\n",
    "                [\n",
    "                    \"java.lang.String data_type EQUALS 'pump'\",\n",
    "                    \"java.lang.String subtype EQUALS 'booster_pump'\"\n",
    "                ]\n",
    "            ]\n",
    "        },\n",
    "        {\n",
    "            \"legacyEntry\": {},\n",
    "            \"entry\": {\n",
    "                \"pga\": \"5b7d8284ec230904683d5074\"\n",
    "            },\n",
    "            \"rules\": [\n",
    "                [\n",
    "                    \"java.lang.String data_type EQUALS 'pump'\",\n",
    "                    \"java.lang.String subtype EQUALS 'pump_0'\"\n",
    "                ]\n",
    "            ]\n",
    "        },\n",
    "        {\n",
    "            \"legacyEntry\": {},\n",
    "            \"entry\": {\n",
    "                \"pga\": \"5b7d829aec230904683d5075\"\n",
    "            },\n",
    "            \"rules\": [\n",
    "                [\n",
    "                    \"java.lang.String data_type EQUALS 'pump'\",\n",
    "                    \"java.lang.String subtype EQUALS 'pump_1'\"\n",
    "                ]\n",
    "            ]\n",
    "        },\n",
    "        {\n",
    "            \"legacyEntry\": {},\n",
    "            \"entry\": {\n",
    "                \"pga\": \"5b7d82a6ec230904683d5076\"\n",
    "            },\n",
    "            \"rules\": [\n",
    "                [\n",
    "                    \"java.lang.String data_type EQUALS 'pump'\",\n",
    "                    \"java.lang.String subtype EQUALS 'pump_2'\"\n",
    "                ]\n",
    "            ]\n",
    "        },\n",
    "        {\n",
    "            \"legacyEntry\": {},\n",
    "            \"entry\": {\n",
    "                \"pga\": \"5b7d82b3ec230904683d5077\"\n",
    "            },\n",
    "            \"rules\": [\n",
    "                [\n",
    "                    \"java.lang.String data_type EQUALS 'pump'\",\n",
    "                    \"java.lang.String subtype EQUALS 'pump_3'\"\n",
    "                ]\n",
    "            ]\n",
    "        }\n",
    "    ],\n",
    "    \"mappingType\": \"fragility\"\n",
    "}\n",
    "'''\n",
    "\n",
    "mapping_set = MappingSet.from_json_str(mapping_set_json_str)\n",
    "mapping_set"
   ]
  },
  {
   "cell_type": "markdown",
   "metadata": {},
   "source": [
    "### 3. Constructing a mapping set from individual components"
   ]
  },
  {
   "cell_type": "markdown",
   "metadata": {},
   "source": [
    "In the last example we provide a full set of instructions for\n",
    "\n",
    "Creating a fragility object with curves required for mapping. You may either:\n",
    "1. use curve objects (similar to example 3 in Fragility section)\n",
    "2. or load a fragility JSON file (example 4)\n",
    "3. creating a mapping set object by putting fragility sets into the mappings\n",
    "4. adding metadata to the mapping object"
   ]
  },
  {
   "cell_type": "markdown",
   "metadata": {},
   "source": [
    "1. Create a fragility set from curve objects (example 3 above)."
   ]
  },
  {
   "cell_type": "code",
   "execution_count": 16,
   "metadata": {},
   "outputs": [],
   "source": [
    "fragility_set = {\n",
    "    \"id\":\"local_fragility_curve_set_1\",\n",
    "    \"demandTypes\": [\"PGA\"],\n",
    "    \"demandUnits\": [\"g\"],\n",
    "    \"resultType\":\"Limit State\",\n",
    "    \"hazardType\":\"earthquake\",\n",
    "    \"inventoryType\":\"building\",\n",
    "    \"fragilityCurves\":[\n",
    "        fragility_curve_LS_0,\n",
    "        fragility_curve_LS_1,\n",
    "        fragility_curve_LS_2,\n",
    "    ],\n",
    "    \"curveParameters\": [\n",
    "        {\n",
    "            \"name\": \"PGA\",\n",
    "            \"unit\": \"g\",\n",
    "            \"description\": \"PGA value from hazard service\",\n",
    "            \"fullName\": \"PGA\",\n",
    "        },\n",
    "        {\n",
    "            \"name\": \"num_stories\",\n",
    "            \"unit\": \"\",\n",
    "            \"description\": \"number of stories in building inventory\",\n",
    "            \"expression\": \"1\"\n",
    "        },\n",
    "        {\n",
    "            \"name\": \"period\",\n",
    "            \"unit\": \"\",\n",
    "            \"description\": \"default building period\",\n",
    "            \"expression\": \"1.08\"\n",
    "        }\n",
    "    ]\n",
    "}\n",
    "fragility_set_1 = FragilityCurveSet(fragility_set)"
   ]
  },
  {
   "cell_type": "markdown",
   "metadata": {},
   "source": [
    "2. Create a fragility set object directly from a JSON file (example 4 above)."
   ]
  },
  {
   "cell_type": "code",
   "execution_count": 17,
   "metadata": {},
   "outputs": [],
   "source": [
    "fragility_set_2 = FragilityCurveSet.from_json_file('files/periodStandardFragilityCurve.json')"
   ]
  },
  {
   "cell_type": "markdown",
   "metadata": {},
   "source": [
    "3. Create mapping objects and put fragility curve sets into the mapping."
   ]
  },
  {
   "cell_type": "code",
   "execution_count": 18,
   "metadata": {},
   "outputs": [],
   "source": [
    "entry_1 = {\"Non-Retrofit Fragility ID Code\": fragility_set_1}\n",
    "rules_1 = [[ \"int no_stories GE 4\",\"int no_stories LE 7\"]]\n",
    "mapping_1 = Mapping(entry_1, rules_1)\n",
    "\n",
    "entry_2 = {\"Non-Retrofit Fragility ID Code\": fragility_set_2}\n",
    "rules_2 = [[\"int no_stories GE 1\", \"int no_stories LE 3\"]]\n",
    "mapping_2 = Mapping(entry_2, rules_2)"
   ]
  },
  {
   "cell_type": "markdown",
   "metadata": {},
   "source": [
    "4. Add metadata and create the final mapping set object"
   ]
  },
  {
   "cell_type": "code",
   "execution_count": 19,
   "metadata": {},
   "outputs": [],
   "source": [
    "mapping_set = {\n",
    "    'id': 'local placeholder',\n",
    "    'name': 'testing local mapping object creation',\n",
    "    'hazardType': 'earthquake',\n",
    "    'inventoryType': 'building',\n",
    "    'mappings': [\n",
    "        mapping_1,\n",
    "        mapping_2,\n",
    "    ],\n",
    "    'mappingType': 'fragility'\n",
    "}\n",
    "local_building_mapping_set = MappingSet(mapping_set)"
   ]
  },
  {
   "cell_type": "markdown",
   "metadata": {},
   "source": [
    "## Examples of DFR3 mapping use"
   ]
  },
  {
   "cell_type": "code",
   "execution_count": 20,
   "metadata": {},
   "outputs": [
    {
     "name": "stdout",
     "output_type": "stream",
     "text": [
      "Dataset already exists locally. Reading from local cached zip.\n",
      "Unzipped folder found in the local cache. Reading from it...\n"
     ]
    },
    {
     "data": {
      "text/plain": [
       "True"
      ]
     },
     "execution_count": 20,
     "metadata": {},
     "output_type": "execute_result"
    }
   ],
   "source": [
    "from pyincore.analyses.buildingdamage import BuildingDamage\n",
    "\n",
    "bldg_dmg = BuildingDamage(client)\n",
    "bldg_dmg.load_remote_input_dataset(\"buildings\", '5a284f0bc7d30d13bc081a28')\n",
    "bldg_dmg.set_parameter(\"result_name\", 'local_mapping_fragility_memphis_eq_bldg_dmg_result')"
   ]
  },
  {
   "cell_type": "markdown",
   "metadata": {},
   "source": [
    "### Method 1: Load mapping from IN-CORE services using set IDs"
   ]
  },
  {
   "cell_type": "code",
   "execution_count": 21,
   "metadata": {},
   "outputs": [
    {
     "data": {
      "text/plain": [
       "True"
      ]
     },
     "execution_count": 21,
     "metadata": {},
     "output_type": "execute_result"
    }
   ],
   "source": [
    "fragility_service = FragilityService(client)\n",
    "mapping_set = MappingSet(fragility_service.get_mapping(mapping_id=\"5b47b350337d4a3629076f2c\"))\n",
    "bldg_dmg.set_input_dataset('dfr3_mapping_set', mapping_set)"
   ]
  },
  {
   "cell_type": "markdown",
   "metadata": {},
   "source": [
    "### Method 2: Load locally created mapping object"
   ]
  },
  {
   "cell_type": "code",
   "execution_count": 22,
   "metadata": {},
   "outputs": [
    {
     "data": {
      "text/plain": [
       "True"
      ]
     },
     "execution_count": 22,
     "metadata": {},
     "output_type": "execute_result"
    }
   ],
   "source": [
    "# Local_building_mapping_set is created in the previous section.\n",
    "bldg_dmg.set_input_dataset(\"dfr3_mapping_set\", local_building_mapping_set)"
   ]
  },
  {
   "cell_type": "code",
   "execution_count": 23,
   "metadata": {},
   "outputs": [
    {
     "data": {
      "text/plain": [
       "True"
      ]
     },
     "execution_count": 23,
     "metadata": {},
     "output_type": "execute_result"
    }
   ],
   "source": [
    "bldg_dmg.set_parameter(\"hazard_type\", 'earthquake')\n",
    "bldg_dmg.set_parameter(\"hazard_id\", '5b902cb273c3371e1236b36b')\n",
    "bldg_dmg.set_parameter(\"num_cpu\", 4)\n",
    "\n",
    "# Run Analysis\n",
    "bldg_dmg.run_analysis()"
   ]
  },
  {
   "cell_type": "code",
   "execution_count": 24,
   "metadata": {},
   "outputs": [
    {
     "data": {
      "text/html": [
       "<div>\n",
       "<style scoped>\n",
       "    .dataframe tbody tr th:only-of-type {\n",
       "        vertical-align: middle;\n",
       "    }\n",
       "\n",
       "    .dataframe tbody tr th {\n",
       "        vertical-align: top;\n",
       "    }\n",
       "\n",
       "    .dataframe thead th {\n",
       "        text-align: right;\n",
       "    }\n",
       "</style>\n",
       "<table border=\"1\" class=\"dataframe\">\n",
       "  <thead>\n",
       "    <tr style=\"text-align: right;\">\n",
       "      <th></th>\n",
       "      <th>guid</th>\n",
       "      <th>LS_0</th>\n",
       "      <th>LS_1</th>\n",
       "      <th>LS_2</th>\n",
       "      <th>DS_0</th>\n",
       "      <th>DS_1</th>\n",
       "      <th>DS_2</th>\n",
       "      <th>DS_3</th>\n",
       "      <th>haz_expose</th>\n",
       "    </tr>\n",
       "  </thead>\n",
       "  <tbody>\n",
       "    <tr>\n",
       "      <th>0</th>\n",
       "      <td>a41e7dcc-3b82-42f2-9dbd-a2ebdf39d453</td>\n",
       "      <td>0.504540</td>\n",
       "      <td>0.190978</td>\n",
       "      <td>0.046526</td>\n",
       "      <td>0.495460</td>\n",
       "      <td>0.313562</td>\n",
       "      <td>0.144451</td>\n",
       "      <td>0.046526</td>\n",
       "      <td>yes</td>\n",
       "    </tr>\n",
       "    <tr>\n",
       "      <th>1</th>\n",
       "      <td>254d1dd8-5d2f-4737-909b-59cc64ca72d4</td>\n",
       "      <td>0.183383</td>\n",
       "      <td>0.012017</td>\n",
       "      <td>0.000379</td>\n",
       "      <td>0.816617</td>\n",
       "      <td>0.171366</td>\n",
       "      <td>0.011638</td>\n",
       "      <td>0.000379</td>\n",
       "      <td>yes</td>\n",
       "    </tr>\n",
       "    <tr>\n",
       "      <th>2</th>\n",
       "      <td>b185d5b6-5bc0-43a3-800a-c046017372ab</td>\n",
       "      <td>0.169996</td>\n",
       "      <td>0.010515</td>\n",
       "      <td>0.000321</td>\n",
       "      <td>0.830004</td>\n",
       "      <td>0.159481</td>\n",
       "      <td>0.010194</td>\n",
       "      <td>0.000321</td>\n",
       "      <td>yes</td>\n",
       "    </tr>\n",
       "    <tr>\n",
       "      <th>3</th>\n",
       "      <td>7b5dc4f6-ef5e-4178-9836-f044b4b92f0d</td>\n",
       "      <td>0.510562</td>\n",
       "      <td>0.194772</td>\n",
       "      <td>0.047708</td>\n",
       "      <td>0.489438</td>\n",
       "      <td>0.315790</td>\n",
       "      <td>0.147064</td>\n",
       "      <td>0.047708</td>\n",
       "      <td>yes</td>\n",
       "    </tr>\n",
       "    <tr>\n",
       "      <th>4</th>\n",
       "      <td>4253802e-b3e5-4ed3-93b0-dda9ef6362b0</td>\n",
       "      <td>NaN</td>\n",
       "      <td>NaN</td>\n",
       "      <td>NaN</td>\n",
       "      <td>NaN</td>\n",
       "      <td>NaN</td>\n",
       "      <td>NaN</td>\n",
       "      <td>NaN</td>\n",
       "      <td>NaN</td>\n",
       "    </tr>\n",
       "  </tbody>\n",
       "</table>\n",
       "</div>"
      ],
      "text/plain": [
       "                                   guid      LS_0      LS_1      LS_2  \\\n",
       "0  a41e7dcc-3b82-42f2-9dbd-a2ebdf39d453  0.504540  0.190978  0.046526   \n",
       "1  254d1dd8-5d2f-4737-909b-59cc64ca72d4  0.183383  0.012017  0.000379   \n",
       "2  b185d5b6-5bc0-43a3-800a-c046017372ab  0.169996  0.010515  0.000321   \n",
       "3  7b5dc4f6-ef5e-4178-9836-f044b4b92f0d  0.510562  0.194772  0.047708   \n",
       "4  4253802e-b3e5-4ed3-93b0-dda9ef6362b0       NaN       NaN       NaN   \n",
       "\n",
       "       DS_0      DS_1      DS_2      DS_3 haz_expose  \n",
       "0  0.495460  0.313562  0.144451  0.046526        yes  \n",
       "1  0.816617  0.171366  0.011638  0.000379        yes  \n",
       "2  0.830004  0.159481  0.010194  0.000321        yes  \n",
       "3  0.489438  0.315790  0.147064  0.047708        yes  \n",
       "4       NaN       NaN       NaN       NaN        NaN  "
      ]
     },
     "execution_count": 24,
     "metadata": {},
     "output_type": "execute_result"
    }
   ],
   "source": [
    "building_dmg_result = bldg_dmg.get_output_dataset('ds_result')\n",
    "\n",
    "# Convert dataset to Pandas DataFrame\n",
    "df_bldg_dmg = building_dmg_result.get_dataframe_from_csv()\n",
    "# Display top 5 rows of output data\n",
    "df_bldg_dmg.head()"
   ]
  },
  {
   "cell_type": "code",
   "execution_count": null,
   "metadata": {},
   "outputs": [],
   "source": []
  }
 ],
 "metadata": {
  "kernelspec": {
   "display_name": "Python 3",
   "language": "python",
   "name": "python3"
  },
  "language_info": {
   "codemirror_mode": {
    "name": "ipython",
    "version": 3
   },
   "file_extension": ".py",
   "mimetype": "text/x-python",
   "name": "python",
   "nbconvert_exporter": "python",
   "pygments_lexer": "ipython3",
   "version": "3.7.10"
  }
 },
 "nbformat": 4,
 "nbformat_minor": 4
}