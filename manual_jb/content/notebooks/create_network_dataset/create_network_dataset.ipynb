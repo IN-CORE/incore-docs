{
 "cells": [
  {
   "cell_type": "markdown",
   "metadata": {},
   "source": [
    "# Create Network Dataset"
   ]
  },
  {
   "cell_type": "markdown",
   "metadata": {},
   "source": [
    "How to create network **Dataset**. \n",
    "**Add some description here**"
   ]
  },
  {
   "cell_type": "code",
   "execution_count": null,
   "metadata": {},
   "outputs": [],
   "source": [
    "import ast, os\n",
    "import pandas as pd\n",
    "import networkx as nx\n",
    "\n",
    "from pyincore import IncoreClient, DataService, Dataset, NetworkDataset, NetworkUtil"
   ]
  },
  {
   "cell_type": "code",
   "execution_count": null,
   "metadata": {},
   "outputs": [],
   "source": [
    "client = IncoreClient()\n",
    "datasvc = DataService(client)"
   ]
  },
  {
   "cell_type": "markdown",
   "metadata": {},
   "source": [
    "### Create Graph file in CSV using local Link shapefile"
   ]
  },
  {
   "cell_type": "code",
   "execution_count": null,
   "metadata": {},
   "outputs": [],
   "source": [
    "# get link dataset from data service\n",
    "centerville_epn_link = '5b1fdc2db1cf3e336d7cecc9'\n",
    "node_dataset = Dataset.from_data_service(centerville_epn_link, DataService(client))\n",
    "df = node_dataset.get_dataframe_from_shapefile()\n",
    "\n",
    "# get the field name from the node dataset dataframe\n",
    "id_fldname = 'linknwid'\n",
    "fromnode_fldname = 'fromnode'\n",
    "tonode_fldname = 'tonode'\n",
    "\n",
    "# save extracted fromnode, tonode information as a graph file \n",
    "file_name = \"network_graph.csv\"\n",
    "try:\n",
    "    df1 = df[[id_fldname, fromnode_fldname, tonode_fldname]]\n",
    "    df1.to_csv(file_name, encoding='utf-8', index=False, header=['linkid', 'fromnode', 'tonode'])\n",
    "    print(file_name, \"successfully created.\")\n",
    "except:\n",
    "    raise Exception(\"creating graph file failed.\")"
   ]
  },
  {
   "cell_type": "markdown",
   "metadata": {},
   "source": [
    "### Create NetworkX Graph using Link dataset in the code instead of reading the graph file"
   ]
  },
  {
   "cell_type": "code",
   "execution_count": null,
   "metadata": {
    "scrolled": true
   },
   "outputs": [],
   "source": [
    "# get node dataset from data service\n",
    "centerville_epn_link = '5b1fdc2db1cf3e336d7cecc9'\n",
    "fromnode_fldname = 'fromnode'\n",
    "tonode_fldname = 'tonode'\n",
    "link_dataset = Dataset.from_data_service(centerville_epn_link, DataService(client)).get_inventory_reader()\n",
    "link_filepath = os.path.join(link_dataset.path, link_dataset.name + \".shp\")\n",
    "# the actual graph function in pyincore to directly create graph from the dataset and use\n",
    "# instead of reading it from the graph file\n",
    "g, node_coords = NetworkUtil.create_network_graph_from_link(link_filepath, fromnode_fldname, tonode_fldname, is_directed=True)\n",
    "print(node_coords)\n",
    "print(g)\n",
    "nx.draw(g, node_coords)"
   ]
  },
  {
   "cell_type": "markdown",
   "metadata": {},
   "source": [
    "### Create Link shapefile from Node and Graph dataset"
   ]
  },
  {
   "cell_type": "code",
   "execution_count": null,
   "metadata": {},
   "outputs": [],
   "source": [
    "# this process can be done using the local shapefile, \n",
    "# instead of using the dataset from the incore data service.\n",
    "# simply, provide the node_filename and graph_filename that are the file paths\n",
    "\n",
    "# get node dataset from data service\n",
    "centerville_epn_node = '5b1fdb50b1cf3e336d7cecb1'\n",
    "node_dataset = Dataset.from_data_service(centerville_epn_node, DataService(client)).get_inventory_reader()\n",
    "node_filename = os.path.join(node_dataset.path, node_dataset.name + \".shp\")\n",
    "\n",
    "# get graph dataset from data serivce\n",
    "centerville_epn_network_graph = '6215681e45bb42602207cdb8'\n",
    "graph_dataset = Dataset.from_data_service(centerville_epn_network_graph, DataService(client))\n",
    "graph_filename = graph_dataset.get_file_path()\n",
    "\n",
    "# create output link shapefile\n",
    "id_field = 'nodenwid'\n",
    "out_filename = 'network_links.shp'\n",
    "NetworkUtil.build_link_by_node(node_filename, graph_filename, id_field, out_filename)"
   ]
  },
  {
   "cell_type": "markdown",
   "metadata": {},
   "source": [
    "### Create Node shapefile and Graph file from Link dataset"
   ]
  },
  {
   "cell_type": "code",
   "execution_count": null,
   "metadata": {},
   "outputs": [],
   "source": [
    "# this process can be done using the local shapefile, \n",
    "# instead of using the dataset from the incore data service.\n",
    "# simply, provide the node_filename and graph_filename that are the file paths\n",
    "\n",
    "# get link dataset from data service\n",
    "centerville_epn_link = '5b1fdc2db1cf3e336d7cecc9'\n",
    "link_dataset = Dataset.from_data_service(centerville_epn_link, DataService(client)).get_inventory_reader()\n",
    "link_filename = os.path.join(link_dataset.path, link_dataset.name + \".shp\")\n",
    "\n",
    "# set input field names\n",
    "link_id_field = 'linknwid'\n",
    "fromnode_field = 'fromnode'\n",
    "tonode_field = 'tonode'\n",
    "\n",
    "# set output file names\n",
    "out_node_filename = 'network_nodes.shp'\n",
    "out_graph_filename = 'network_graph.csv'\n",
    "\n",
    "# create output link shapefile and graph file\n",
    "NetworkUtil.build_node_by_link(link_filename, link_id_field, fromnode_field, tonode_field, out_node_filename, out_graph_filename)"
   ]
  },
  {
   "cell_type": "markdown",
   "metadata": {},
   "source": [
    "### Upload/Create Network Datasets to Data Services\n",
    "This example shows how to create network dataset by uploading a link shapefile and a node shapefile"
   ]
  },
  {
   "cell_type": "markdown",
   "metadata": {},
   "source": [
    "#### Prerequisite\n",
    "\n",
    "- **meta data** is json text descrbing the network dataset component\n",
    "- **node file** is a shapefile that contains node information of the network. \n",
    "- **link file** is a shapefile that contains the link information. This should include fromnode and tonode information.\n",
    "- **graph file** is a csv file that contains the network relationship between the link and node."
   ]
  },
  {
   "cell_type": "code",
   "execution_count": null,
   "metadata": {},
   "outputs": [],
   "source": [
    "dataset_prop = {\n",
    "  \"title\": \"Test epn network\",\n",
    "  \"dataType\": \"incore:epnNetwork\",\n",
    "  \"format\": \"shp-network\",\n",
    "  \"networkDataset\": {\n",
    "    \"link\": {\n",
    "      \"dataType\": \"ergo:powerLineTopo\",\n",
    "      \"fileName\": \"epn_links.shp\"\n",
    "    },\n",
    "    \"node\": {\n",
    "      \"dataType\": \"incore:epf\",\n",
    "      \"fileName\": \"epn_nodes.shp\"\n",
    "    },\n",
    "    \"graph\": {\n",
    "      \"dataType\": \"incore:networkGraph\",\n",
    "      \"fileName\": \"network_graph.csv\"\n",
    "    }\n",
    "  }\n",
    "}\n",
    "\n",
    "response = datasvc.create_dataset(dataset_prop)\n",
    "\n",
    "if 'id' not in response:\n",
    "    print(\"Failed to create a dataset in the data service\")\n",
    "else:\n",
    "    dataset_id = response['id']\n",
    "\n",
    "    print('network dataset is created with id ' + dataset_id)\n",
    "    print('attching files to created dataset')\n",
    "\n",
    "    file_dir = os.path.join(os.getcwd(), 'files')\n",
    "\n",
    "    files = ['epn_links.shp',\n",
    "             'epn_links.dbf',\n",
    "             'epn_links.shx',\n",
    "             'epn_links.prj',\n",
    "             'epn_nodes.shp',\n",
    "             'epn_nodes.dbf',\n",
    "             'epn_nodes.shx',\n",
    "             'epn_nodes.prj',\n",
    "             'network_graph.csv']\n",
    "    linkname = dataset_prop[\"networkDataset\"][\"link\"][\"fileName\"]\n",
    "    nodename = dataset_prop[\"networkDataset\"][\"node\"][\"fileName\"]\n",
    "    graphname = dataset_prop[\"networkDataset\"][\"graph\"][\"fileName\"]\n",
    "\n",
    "    response = datasvc.add_files_to_network_dataset(dataset_id, files, nodename, linkname, graphname)\n",
    "    dataset = Dataset.from_data_service(response[\"id\"], data_service=datasvc)"
   ]
  },
  {
   "cell_type": "code",
   "execution_count": null,
   "metadata": {},
   "outputs": [],
   "source": []
  }
 ],
 "metadata": {
  "kernelspec": {
   "display_name": "Python 3.9.13 ('july')",
   "language": "python",
   "name": "python3"
  },
  "language_info": {
   "codemirror_mode": {
    "name": "ipython",
    "version": 3
   },
   "file_extension": ".py",
   "mimetype": "text/x-python",
   "name": "python",
   "nbconvert_exporter": "python",
   "pygments_lexer": "ipython3",
   "version": "3.9.13"
  },
  "vscode": {
   "interpreter": {
    "hash": "92a1b8abcab1ed1ea33a51c27dd1fff87d39e94a402e20d83a2ad29dd65fd143"
   }
  }
 },
 "nbformat": 4,
 "nbformat_minor": 4
}
