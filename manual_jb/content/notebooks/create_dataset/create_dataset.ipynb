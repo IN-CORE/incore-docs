{
 "cells": [
  {
   "cell_type": "markdown",
   "metadata": {},
   "source": [
    "# Create and Use Dataset Object"
   ]
  },
  {
   "cell_type": "markdown",
   "metadata": {},
   "source": [
    "Any analysis in pyIncore, by default uses **Dataset Object** as input. This\n",
    "tutorial introduces users to the basic concept of creating and using **Dataset Object** via either loading from local\n",
    "files, or connecting to remote IN-CORE Data Services."
   ]
  },
  {
   "cell_type": "code",
   "execution_count": 1,
   "metadata": {},
   "outputs": [],
   "source": [
    "import pandas as pd\n",
    "from pyincore import IncoreClient, DataService, SpaceService, Dataset, FragilityService, MappingSet\n",
    "from pyincore.analyses.buildingdamage import BuildingDamage\n",
    "from pyincore.analyses.meandamage import MeanDamage"
   ]
  },
  {
   "cell_type": "code",
   "execution_count": 2,
   "metadata": {},
   "outputs": [
    {
     "name": "stdout",
     "output_type": "stream",
     "text": [
      "Connection successful to IN-CORE services. pyIncore version detected: 0.9.0\n"
     ]
    }
   ],
   "source": [
    "client = IncoreClient()\n",
    "data_services = DataService(client)\n",
    "space_services = SpaceService(client)"
   ]
  },
  {
   "cell_type": "markdown",
   "metadata": {},
   "source": [
    "## Upload Dataset to Data Services"
   ]
  },
  {
   "cell_type": "markdown",
   "metadata": {},
   "source": [
    "### Write Metadata\n",
    "\n",
    "- **Metadata** is a string describing the dataset. \n",
    "- **dataType** needs to be align with the analyses in pyincore.\n",
    "- **format** is the file format of the dataset. Currently we support \"shapefile\", \"table\", \"Network\", \"textFiles\n",
    "\", \"raster\", \"geotiff\" and etc. Please consult with development team if you intend to post a new format."
   ]
  },
  {
   "cell_type": "code",
   "execution_count": 3,
   "metadata": {},
   "outputs": [],
   "source": [
    "# note you have to put the correct dataType as well as format\n",
    "dataset_metadata = {\n",
    "    \"title\":\"Tutorial Test ERGO Memphis Hospitals\",\n",
    "    \"description\": \"ERGO Memphis Hospitals\",\n",
    "    \"dataType\": \"ergo:buildingInventoryVer5\",\n",
    "    \"format\": \"shapefile\"\n",
    "}"
   ]
  },
  {
   "cell_type": "markdown",
   "metadata": {},
   "source": [
    "### Upload metadata\n",
    "\n",
    "After upload metadata the “placeholder” dataset object has been created on INCORE service with the id which does not have files attached to it yet. However it is already possible to see the empty dataset on the service by searching that particular id."
   ]
  },
  {
   "cell_type": "code",
   "execution_count": 4,
   "metadata": {},
   "outputs": [
    {
     "name": "stdout",
     "output_type": "stream",
     "text": [
      "dataset is created with id 603e5e1034f29a7fa4282a8f\n"
     ]
    }
   ],
   "source": [
    "created_dataset = data_services.create_dataset(dataset_metadata)\n",
    "dataset_id = created_dataset['id']\n",
    "print('dataset is created with id ' + dataset_id)"
   ]
  },
  {
   "cell_type": "markdown",
   "metadata": {},
   "source": [
    "### Attach files to the dataset created\n",
    "\n",
    "Using the dataset id we attach the files that contain the data for the dataset."
   ]
  },
  {
   "cell_type": "code",
   "execution_count": 5,
   "metadata": {},
   "outputs": [],
   "source": [
    "files = ['files/all_bldgs_ver5_WGS1984.shp',\n",
    "         'files/all_bldgs_ver5_WGS1984.shx',\n",
    "         'files/all_bldgs_ver5_WGS1984.prj',\n",
    "         'files/all_bldgs_ver5_WGS1984.dbf']\n",
    "full_dataset = data_services.add_files_to_dataset(dataset_id, files)"
   ]
  },
  {
   "cell_type": "code",
   "execution_count": 6,
   "metadata": {},
   "outputs": [
    {
     "data": {
      "text/plain": [
       "{'id': '603e5e1034f29a7fa4282a8f',\n",
       " 'deleted': False,\n",
       " 'title': 'Tutorial Test ERGO Memphis Hospitals',\n",
       " 'description': 'ERGO Memphis Hospitals',\n",
       " 'date': '2021-03-02T15:47:28+0000',\n",
       " 'creator': 'mondrejc',\n",
       " 'spaces': None,\n",
       " 'contributors': [],\n",
       " 'fileDescriptors': [{'id': '603e5e1034f29a7fa4282b02',\n",
       "   'deleted': False,\n",
       "   'filename': 'all_bldgs_ver5_WGS1984.shp',\n",
       "   'mimeType': 'application/octet-stream',\n",
       "   'size': 716,\n",
       "   'dataURL': '60/3e/603e5e1034f29a7fa4282b02/all_bldgs_ver5_WGS1984.shp',\n",
       "   'md5sum': '6e1e96c4a6cf5762317054fe813d82bf'},\n",
       "  {'id': '603e5e1034f29a7fa4282b05',\n",
       "   'deleted': False,\n",
       "   'filename': 'all_bldgs_ver5_WGS1984.shx',\n",
       "   'mimeType': 'application/octet-stream',\n",
       "   'size': 276,\n",
       "   'dataURL': '60/3e/603e5e1034f29a7fa4282b05/all_bldgs_ver5_WGS1984.shx',\n",
       "   'md5sum': '799965579a991f1f45afeb22c07c5ece'},\n",
       "  {'id': '603e5e1034f29a7fa4282b08',\n",
       "   'deleted': False,\n",
       "   'filename': 'all_bldgs_ver5_WGS1984.prj',\n",
       "   'mimeType': 'application/octet-stream',\n",
       "   'size': 205,\n",
       "   'dataURL': '60/3e/603e5e1034f29a7fa4282b08/all_bldgs_ver5_WGS1984.prj',\n",
       "   'md5sum': '30e5566d68356bfc059d296c42c0480e'},\n",
       "  {'id': '603e5e1034f29a7fa4282b0b',\n",
       "   'deleted': False,\n",
       "   'filename': 'all_bldgs_ver5_WGS1984.dbf',\n",
       "   'mimeType': 'application/octet-stream',\n",
       "   'size': 10859,\n",
       "   'dataURL': '60/3e/603e5e1034f29a7fa4282b0b/all_bldgs_ver5_WGS1984.dbf',\n",
       "   'md5sum': '7ea0a4c769ca254a6b4821f2e737eb35'}],\n",
       " 'dataType': 'ergo:buildingInventoryVer5',\n",
       " 'storedUrl': '',\n",
       " 'format': 'shapefile',\n",
       " 'sourceDataset': '',\n",
       " 'boundingBox': [-90.07376669874641,\n",
       "  35.03298062856903,\n",
       "  -89.71464767735003,\n",
       "  35.207753220358086],\n",
       " 'networkDataset': None}"
      ]
     },
     "execution_count": 6,
     "metadata": {},
     "output_type": "execute_result"
    }
   ],
   "source": [
    "full_dataset"
   ]
  },
  {
   "cell_type": "markdown",
   "metadata": {},
   "source": [
    "## Moving your dataset to INCORE space\n",
    "\n",
    "If you would like other people to access your data, you can contact NCSA to move your dataset to a certain space. In a future release, you will be able to do this yourself."
   ]
  },
  {
   "cell_type": "markdown",
   "metadata": {},
   "source": [
    "## 1. Load Dataset from Data services"
   ]
  },
  {
   "cell_type": "code",
   "execution_count": 8,
   "metadata": {},
   "outputs": [
    {
     "name": "stdout",
     "output_type": "stream",
     "text": [
      "Dataset already exists locally. Reading from local cached zip.\n",
      "Unzipped folder found in the local cache. Reading from it...\n"
     ]
    },
    {
     "data": {
      "text/plain": [
       "<pyincore.dataset.Dataset at 0x7fcf7c7985d0>"
      ]
     },
     "execution_count": 8,
     "metadata": {},
     "output_type": "execute_result"
    }
   ],
   "source": [
    "building_dataset_id = \"5a284f0bc7d30d13bc081a28\"\n",
    "buildings = Dataset.from_data_service(building_dataset_id, data_services)\n",
    "buildings"
   ]
  },
  {
   "cell_type": "markdown",
   "metadata": {},
   "source": [
    "## 2. Load Dataset from local files\n",
    "\n",
    "- Note you have to make sure you pass the right **data_type** when constructing Dataset Object from scratch\n",
    "- To look up what **data_type** it should be, please refer to the **source code** of the analyses\n",
    "- You want to look take a look at the **spec** section -> **input_datasets** -> **type**"
   ]
  },
  {
   "cell_type": "code",
   "execution_count": 9,
   "metadata": {},
   "outputs": [
    {
     "data": {
      "text/plain": [
       "<pyincore.dataset.Dataset at 0x7fcee8b73150>"
      ]
     },
     "execution_count": 9,
     "metadata": {},
     "output_type": "execute_result"
    }
   ],
   "source": [
    "buildings = Dataset.from_file(\"files/all_bldgs_ver5_WGS1984.shp\", data_type=\"ergo:buildingInventoryVer5\")\n",
    "buildings"
   ]
  },
  {
   "cell_type": "markdown",
   "metadata": {},
   "source": [
    "## 3. Input the Dataset object in analyses"
   ]
  },
  {
   "cell_type": "code",
   "execution_count": 10,
   "metadata": {},
   "outputs": [
    {
     "data": {
      "text/plain": [
       "True"
      ]
     },
     "execution_count": 10,
     "metadata": {},
     "output_type": "execute_result"
    }
   ],
   "source": [
    "# for example: Building Damage Analyses\n",
    "bldg_dmg = BuildingDamage(client)\n",
    "bldg_dmg.set_input_dataset(\"buildings\", buildings)  "
   ]
  },
  {
   "cell_type": "code",
   "execution_count": 11,
   "metadata": {},
   "outputs": [
    {
     "data": {
      "text/plain": [
       "True"
      ]
     },
     "execution_count": 11,
     "metadata": {},
     "output_type": "execute_result"
    }
   ],
   "source": [
    "# Memphis Earthquake damage\n",
    "# New madrid earthquake using Atkinson Boore 1995\n",
    "hazard_type = \"earthquake\"\n",
    "hazard_id = \"5b902cb273c3371e1236b36b\"\n",
    "\n",
    "# Earthquake mapping\n",
    "mapping_id = \"5b47b350337d4a3629076f2c\"\n",
    "fragility_service = FragilityService(client)\n",
    "mapping_set = MappingSet(fragility_service.get_mapping(mapping_id))\n",
    "bldg_dmg.set_input_dataset('dfr3_mapping_set', mapping_set)\n",
    "\n",
    "result_name = \"memphis_eq_bldg_dmg_result\"\n",
    "bldg_dmg.set_parameter(\"result_name\", result_name)\n",
    "bldg_dmg.set_parameter(\"hazard_type\", hazard_type)\n",
    "bldg_dmg.set_parameter(\"hazard_id\", hazard_id)\n",
    "bldg_dmg.set_parameter(\"num_cpu\", 4)\n",
    "\n",
    "# Run Analysis\n",
    "bldg_dmg.run_analysis()"
   ]
  },
  {
   "cell_type": "markdown",
   "metadata": {},
   "source": [
    "## 4. Chaining the output Dataset object in subsequent analyses\n",
    "Output is a dataset object as well, here is how to display"
   ]
  },
  {
   "cell_type": "code",
   "execution_count": 12,
   "metadata": {},
   "outputs": [
    {
     "name": "stdout",
     "output_type": "stream",
     "text": [
      "output datasets: {'ds_result': <pyincore.dataset.Dataset object at 0x7fcee8ab9fd0>, 'damage_result': <pyincore.dataset.Dataset object at 0x7fcee8a48150>}\n"
     ]
    },
    {
     "data": {
      "text/html": [
       "<div>\n",
       "<style scoped>\n",
       "    .dataframe tbody tr th:only-of-type {\n",
       "        vertical-align: middle;\n",
       "    }\n",
       "\n",
       "    .dataframe tbody tr th {\n",
       "        vertical-align: top;\n",
       "    }\n",
       "\n",
       "    .dataframe thead th {\n",
       "        text-align: right;\n",
       "    }\n",
       "</style>\n",
       "<table border=\"1\" class=\"dataframe\">\n",
       "  <thead>\n",
       "    <tr style=\"text-align: right;\">\n",
       "      <th></th>\n",
       "      <th>guid</th>\n",
       "      <th>LS_0</th>\n",
       "      <th>LS_1</th>\n",
       "      <th>LS_2</th>\n",
       "      <th>DS_0</th>\n",
       "      <th>DS_1</th>\n",
       "      <th>DS_2</th>\n",
       "      <th>DS_3</th>\n",
       "    </tr>\n",
       "  </thead>\n",
       "  <tbody>\n",
       "    <tr>\n",
       "      <th>0</th>\n",
       "      <td>a41e7dcc-3b82-42f2-9dbd-a2ebdf39d453</td>\n",
       "      <td>0.848146</td>\n",
       "      <td>0.327319</td>\n",
       "      <td>2.722903e-02</td>\n",
       "      <td>0.151854</td>\n",
       "      <td>0.520828</td>\n",
       "      <td>0.300089</td>\n",
       "      <td>2.722903e-02</td>\n",
       "    </tr>\n",
       "    <tr>\n",
       "      <th>1</th>\n",
       "      <td>254d1dd8-5d2f-4737-909b-59cc64ca72d4</td>\n",
       "      <td>0.844340</td>\n",
       "      <td>0.328296</td>\n",
       "      <td>2.860487e-02</td>\n",
       "      <td>0.155660</td>\n",
       "      <td>0.516045</td>\n",
       "      <td>0.299691</td>\n",
       "      <td>2.860487e-02</td>\n",
       "    </tr>\n",
       "    <tr>\n",
       "      <th>2</th>\n",
       "      <td>4253802e-b3e5-4ed3-93b0-dda9ef6362b0</td>\n",
       "      <td>0.896775</td>\n",
       "      <td>0.480926</td>\n",
       "      <td>8.756764e-02</td>\n",
       "      <td>0.103225</td>\n",
       "      <td>0.415849</td>\n",
       "      <td>0.393358</td>\n",
       "      <td>8.756764e-02</td>\n",
       "    </tr>\n",
       "    <tr>\n",
       "      <th>3</th>\n",
       "      <td>b185d5b6-5bc0-43a3-800a-c046017372ab</td>\n",
       "      <td>0.810564</td>\n",
       "      <td>0.331283</td>\n",
       "      <td>4.895657e-02</td>\n",
       "      <td>0.189436</td>\n",
       "      <td>0.479281</td>\n",
       "      <td>0.282327</td>\n",
       "      <td>4.895657e-02</td>\n",
       "    </tr>\n",
       "    <tr>\n",
       "      <th>4</th>\n",
       "      <td>7b5dc4f6-ef5e-4178-9836-f044b4b92f0d</td>\n",
       "      <td>0.970342</td>\n",
       "      <td>0.154675</td>\n",
       "      <td>1.000000e-10</td>\n",
       "      <td>0.029658</td>\n",
       "      <td>0.815668</td>\n",
       "      <td>0.154675</td>\n",
       "      <td>1.000000e-10</td>\n",
       "    </tr>\n",
       "  </tbody>\n",
       "</table>\n",
       "</div>"
      ],
      "text/plain": [
       "                                   guid      LS_0      LS_1          LS_2  \\\n",
       "0  a41e7dcc-3b82-42f2-9dbd-a2ebdf39d453  0.848146  0.327319  2.722903e-02   \n",
       "1  254d1dd8-5d2f-4737-909b-59cc64ca72d4  0.844340  0.328296  2.860487e-02   \n",
       "2  4253802e-b3e5-4ed3-93b0-dda9ef6362b0  0.896775  0.480926  8.756764e-02   \n",
       "3  b185d5b6-5bc0-43a3-800a-c046017372ab  0.810564  0.331283  4.895657e-02   \n",
       "4  7b5dc4f6-ef5e-4178-9836-f044b4b92f0d  0.970342  0.154675  1.000000e-10   \n",
       "\n",
       "       DS_0      DS_1      DS_2          DS_3  \n",
       "0  0.151854  0.520828  0.300089  2.722903e-02  \n",
       "1  0.155660  0.516045  0.299691  2.860487e-02  \n",
       "2  0.103225  0.415849  0.393358  8.756764e-02  \n",
       "3  0.189436  0.479281  0.282327  4.895657e-02  \n",
       "4  0.029658  0.815668  0.154675  1.000000e-10  "
      ]
     },
     "execution_count": 12,
     "metadata": {},
     "output_type": "execute_result"
    }
   ],
   "source": [
    "print(\"output datasets:\", bldg_dmg.get_output_datasets())\n",
    "bldg_dmg.get_output_dataset('ds_result').get_dataframe_from_csv().head()"
   ]
  },
  {
   "cell_type": "markdown",
   "metadata": {},
   "source": [
    "## Chaining with Mean damage analysis"
   ]
  },
  {
   "cell_type": "code",
   "execution_count": 13,
   "metadata": {},
   "outputs": [
    {
     "name": "stdout",
     "output_type": "stream",
     "text": [
      "Dataset already exists locally. Reading from local cached zip.\n",
      "Unzipped folder found in the local cache. Reading from it...\n"
     ]
    },
    {
     "data": {
      "text/plain": [
       "True"
      ]
     },
     "execution_count": 13,
     "metadata": {},
     "output_type": "execute_result"
    }
   ],
   "source": [
    "md = MeanDamage(client)\n",
    "\n",
    "# use the output of road damage\n",
    "building_damage_output = bldg_dmg.get_output_dataset('ds_result')\n",
    "md.set_input_dataset(\"damage\", building_damage_output)\n",
    "\n",
    "md.load_remote_input_dataset(\"dmg_ratios\", \"5a284f2ec7d30d13bc08209a\")\n",
    "md.set_parameter(\"result_name\", \"building_mean_damage\")\n",
    "md.set_parameter(\"damage_interval_keys\", [\"DS_0\", \"DS_1\", \"DS_2\", \"DS_3\"])\n",
    "md.set_parameter(\"num_cpu\", 1)\n",
    "\n",
    "# Run analysis\n",
    "md.run_analysis()"
   ]
  },
  {
   "cell_type": "code",
   "execution_count": 14,
   "metadata": {},
   "outputs": [
    {
     "name": "stdout",
     "output_type": "stream",
     "text": [
      "output datasets: {'result': <pyincore.dataset.Dataset object at 0x7fcee8a18f90>}\n"
     ]
    },
    {
     "data": {
      "text/html": [
       "<div>\n",
       "<style scoped>\n",
       "    .dataframe tbody tr th:only-of-type {\n",
       "        vertical-align: middle;\n",
       "    }\n",
       "\n",
       "    .dataframe tbody tr th {\n",
       "        vertical-align: top;\n",
       "    }\n",
       "\n",
       "    .dataframe thead th {\n",
       "        text-align: right;\n",
       "    }\n",
       "</style>\n",
       "<table border=\"1\" class=\"dataframe\">\n",
       "  <thead>\n",
       "    <tr style=\"text-align: right;\">\n",
       "      <th></th>\n",
       "      <th>meandamage</th>\n",
       "      <th>mdamagedev</th>\n",
       "    </tr>\n",
       "  </thead>\n",
       "  <tbody>\n",
       "    <tr>\n",
       "      <th>0</th>\n",
       "      <td>0.271043</td>\n",
       "      <td>0.238080</td>\n",
       "    </tr>\n",
       "    <tr>\n",
       "      <th>1</th>\n",
       "      <td>0.271340</td>\n",
       "      <td>0.239546</td>\n",
       "    </tr>\n",
       "    <tr>\n",
       "      <th>2</th>\n",
       "      <td>0.360131</td>\n",
       "      <td>0.275124</td>\n",
       "    </tr>\n",
       "    <tr>\n",
       "      <th>3</th>\n",
       "      <td>0.274576</td>\n",
       "      <td>0.256321</td>\n",
       "    </tr>\n",
       "    <tr>\n",
       "      <th>4</th>\n",
       "      <td>0.211648</td>\n",
       "      <td>0.160879</td>\n",
       "    </tr>\n",
       "  </tbody>\n",
       "</table>\n",
       "</div>"
      ],
      "text/plain": [
       "   meandamage  mdamagedev\n",
       "0    0.271043    0.238080\n",
       "1    0.271340    0.239546\n",
       "2    0.360131    0.275124\n",
       "3    0.274576    0.256321\n",
       "4    0.211648    0.160879"
      ]
     },
     "execution_count": 14,
     "metadata": {},
     "output_type": "execute_result"
    }
   ],
   "source": [
    "print(\"output datasets:\", md.get_output_datasets())\n",
    "md.get_output_dataset('result').get_dataframe_from_csv().head()[['meandamage', 'mdamagedev']]"
   ]
  },
  {
   "cell_type": "markdown",
   "metadata": {},
   "source": [
    "## Utility methods"
   ]
  },
  {
   "cell_type": "code",
   "execution_count": 15,
   "metadata": {},
   "outputs": [
    {
     "name": "stdout",
     "output_type": "stream",
     "text": [
      "year built: 1978\n",
      "year built: 1925\n",
      "year built: 1924\n",
      "year built: 1910\n",
      "year built: 1991\n",
      "year built: 1963\n",
      "year built: 1976\n",
      "year built: 1958\n",
      "year built: 1927\n",
      "year built: 1972\n",
      "year built: 2004\n",
      "year built: 1974\n",
      "year built: 2001\n",
      "year built: 1973\n",
      "year built: 1971\n",
      "year built: 1970\n",
      "year built: 1999\n",
      "year built: 2003\n",
      "year built: 2003\n",
      "year built: 1998\n",
      "year built: 1986\n",
      "year built: 1987\n"
     ]
    }
   ],
   "source": [
    "# e.g. read the shapefile properties\n",
    "rd = buildings.get_inventory_reader()\n",
    "for row in rd:\n",
    "    print('year built:', row['properties']['year_built'])"
   ]
  }
 ],
 "metadata": {
  "kernelspec": {
   "display_name": "Python 3",
   "language": "python",
   "name": "python3"
  },
  "language_info": {
   "codemirror_mode": {
    "name": "ipython",
    "version": 3
   },
   "file_extension": ".py",
   "mimetype": "text/x-python",
   "name": "python",
   "nbconvert_exporter": "python",
   "pygments_lexer": "ipython3",
   "version": "3.7.10"
  }
 },
 "nbformat": 4,
 "nbformat_minor": 4
}