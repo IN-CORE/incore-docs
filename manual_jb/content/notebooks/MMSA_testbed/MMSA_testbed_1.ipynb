{
 "cells": [
  {
   "cell_type": "markdown",
   "metadata": {},
   "source": [
    "# Memphis Metropolitan Statistical Area (MMSA) Example subject"
   ]
  },
  {
   "cell_type": "markdown",
   "metadata": {},
   "source": [
    "The MMSA was selected as a testbed for research studies by the NIST Center for Risk-Based Community Resilience Planning to test algorithms developed for community resilience assessment on a large urban area with a diverse population and economy. The population of Memphis, Shelby County, and MMSA, respectively, are about 0.7 M, 1.0 M, and 1.4 M. This dense population lies within the most seismically active area of Central and Eastern United States, called the New Madrid Seismic Zone (NMSZ), which is capable of producing large damaging earthquakes. \n",
    "\n",
    "This notebook perform seismic damage and functionality analysis of interdependent buildings, electric power and water distribution network systems of Shelby County, TN. First the geospatial infrastructure inventory and service area dataset are imported to characterize the buildings and lifeline systems of the MMSA testbed and the interdependency between infrastructure systems. Then, scenario earthquakes obtained from a ground motion prediction model to generate spatial intensity measures for the infrastructure network area and perform damage analysis to obtain component-level damage probability estimates subject to the scenario earthquake.This is followed by developing a fragility-based computational model of the networked infrastructure using graph theory where components are modeled as nodes, and the connection between nodes are modeled as directed links. The outcome of component level structural damage assessment is used to perform functionality and restoration analysis of buildings and networks by considering the interdependency between infrastructure systems and the cascading failure of each network component using an input-output model. "
   ]
  },
  {
   "cell_type": "markdown",
   "metadata": {},
   "source": [
    "* This notebook was developed by Milad Roohi (CSU/UNL - milad.roohi@unl.edu) in colaboration with Jiate Li (CSU) and John W. van de Lindt (CSU), the NCSA team (Jong Sung Lee, Chris Navarro, Diego Calderon, Chen Wang, Michal Ondrejcek, Gowtham Naraharisetty)."
   ]
  },
  {
   "attachments": {},
   "cell_type": "markdown",
   "metadata": {},
   "source": [
    "## References\n",
    "\n",
    "[1] Atkinson GM, Boore DM. (1995) Ground-motion relations for eastern North America. Bulletin of the Seismological Society of America. 1995 Feb 1;85(1):17-30.\n",
    "\n",
    "[2] Elnashai, A.S., Cleveland, L.J., Jefferson, T., and Harrald, J., (2008). “Impact of Earthquakes on the Central USA” A Report of the Mid-America Earthquake Center. http://mae.cee.illinois.edu/publications/publications_reports.html![image.png](attachment:97c026ce-8248-481d-b109-e48fd108e38e.png)![image.png](attachment:a4706ad2-73ed-430a-ab45-4c6f56307d29.png)![image.png](attachment:6ec6d200-f0bb-45a8-b6c1-3acc03f041fa.png)![image.png](attachment:1772e5a6-1560-433f-b3e0-60edc7d68d90.png)\n",
    "\n",
    "[3] Linger S, Wolinsky M. (2001) Los Alamos National Laboratory Report LA-UR-01-3361 ESRI Paper No. 889 Estimating Electrical Service Areas Using GIS and Cellular Automata.\n",
    "\n",
    "[4] Roohi M, van de Lindt JW, Rosenheim N, Hu Y, Cutler H. (2021) Implication of building inventory accuracy on physical and socio-economic resilience metrics for informed decision-making in natural hazards. Structure and Infrastructure Engineering. 2020 Nov 20;17(4):534-54.\n",
    "\n",
    "[5] Federal Emergency Management Agency (FEMA). (2020) Hazus Earthquake Model Technical Manual. 2020 Oct.\n",
    "\n",
    "[6] Haimes YY, Horowitz BM, Lambert JH, Santos JR, Lian C, Crowther KG. (2005) Inoperability input-output model for interdependent infrastructure sectors. I: Theory and methodology. Journal of Infrastructure Systems. 2005 Jun;11(2):67-79.\n",
    "\n",
    "[7] Milad Roohi, Jiate Li, John van de Lindt. (2022) Seismic Functionality Analysis of Interdependent Buildings and Lifeline Systems 12th National Conference on Earthquake Engineering (12NCEE), Salt Lake City, UT (June 27-July 1, 2022)."
   ]
  },
  {
   "cell_type": "markdown",
   "metadata": {},
   "source": [
    "# Prerequisites"
   ]
  },
  {
   "cell_type": "code",
   "execution_count": 3,
   "metadata": {},
   "outputs": [
    {
     "name": "stdout",
     "output_type": "stream",
     "text": [
      "Enter username: snunez\n",
      "Enter password: ········\n",
      "Connection successful to IN-CORE services. pyIncore version detected: 1.6.0\n"
     ]
    }
   ],
   "source": [
    "from pyincore import HazardService, IncoreClient, Dataset, FragilityService, MappingSet, DataService, SpaceService\n",
    "from pyincore.analyses.buildingdamage import BuildingDamage\n",
    "from pyincore.analyses.pipelinedamagerepairrate import PipelineDamageRepairRate\n",
    "from pyincore.analyses.waterfacilitydamage import WaterFacilityDamage\n",
    "from pyincore.analyses.epfdamage import EpfDamage\n",
    "from pyincore_viz.geoutil import GeoUtil as viz\n",
    "from pyincore.analyses.montecarlofailureprobability import MonteCarloFailureProbability\n",
    "\n",
    "import pandas as pd\n",
    "import numpy as np\n",
    "import networkx as nx\n",
    "import geopandas as gpd\n",
    "import contextily as cx\n",
    "\n",
    "import copy\n",
    "\n",
    "from scipy.stats import poisson,bernoulli\n",
    "\n",
    "import matplotlib.pyplot as plt\n",
    "\n",
    "client = IncoreClient()"
   ]
  },
  {
   "cell_type": "markdown",
   "metadata": {},
   "source": [
    "# 1) Define Earthquake Hazard Scenarios"
   ]
  },
  {
   "cell_type": "markdown",
   "metadata": {},
   "source": [
    "Scenario earthquakes are created using Atkinson and Boore (1995) [1] GMPE model including earthquakes with magnitudes $M_w5.9$, $M_w6.5$ and $M_w7.1$ to study the effect of seismic hazard intensity in resilience metrics. The scenario can be selected by defining selecting earthquake magnitude using \"select_EQ_magnitude\" parameter."
   ]
  },
  {
   "cell_type": "code",
   "execution_count": 4,
   "metadata": {},
   "outputs": [],
   "source": [
    "#### Define hazard type\n",
    "hazard_type = \"earthquake\"\n",
    "\n",
    "#### Select the earthquake scenario magnitude from the following 'EQ_hazard_dict' dictionary keys\n",
    "select_EQ_magnitude = 7.1\n",
    "\n",
    "#### Define hazard dictionary with three ground motion intensity levels\n",
    "EQ_hazard_dict = {}\n",
    "EQ_hazard_dict[5.9] = {'id': \"5e3db155edc9fa00085d7c09\", 'name':'M59'}\n",
    "EQ_hazard_dict[6.5] = {'id': \"5e45a1308591b700088c799c\", 'name':'M65'}\n",
    "EQ_hazard_dict[7.1] = {'id': \"5e3dd04f7fdf7e0008032bfe\", 'name':'M71'}\n",
    "\n"
   ]
  },
  {
   "cell_type": "code",
   "execution_count": 5,
   "metadata": {},
   "outputs": [],
   "source": [
    "#### Define filename and create folder for saving results\n",
    "hazard_id = EQ_hazard_dict[select_EQ_magnitude]['id']\n",
    "hazard_name = EQ_hazard_dict[select_EQ_magnitude]['name']\n",
    "\n",
    "import os\n",
    "current_path = os.getcwd()\n",
    "\n",
    "#### create folder \"MMSA_analysis_results\" to save results\n",
    "results_folder = \"MMSA_analysis_results\"\n",
    "if not os.path.isdir(results_folder):\n",
    "    os.makedirs(results_folder)\n",
    "\n",
    "#### define folder path for each eathquake magnitude to save results in different folders\n",
    "fp = current_path + '/' + results_folder + '/' + hazard_name\n",
    "if not os.path.isdir(fp):\n",
    "    os.makedirs(fp)\n",
    "fp = fp + '/' "
   ]
  },
  {
   "cell_type": "markdown",
   "metadata": {},
   "source": [
    "# 2) Define Infrastructure Inventory Data"
   ]
  },
  {
   "cell_type": "markdown",
   "metadata": {},
   "source": [
    "### 2-1) Building Inventory Data"
   ]
  },
  {
   "cell_type": "markdown",
   "metadata": {},
   "source": [
    "The Mid-America Earthquake (MAE) center [2] initiated the Memphis testbed (MTB) project to demonstrate the seismic risk assessment to the civil infrastructure system in Shelby County, TN. As part of that project, a high-resolution model of the physical and social infrastructure was developed to investigate the potential impact due to earthquake activity in the New Madrid Seismic Zone (NMSZ) (Elnashai et al., 2008). \n",
    "\n",
    "The building inventory is defined based on the Shelby county shapefile available on the IN-CORE data service (ID: 5a284f0bc7d30d13bc081a46). This study considers all the buildings with a total number of 306003."
   ]
  },
  {
   "cell_type": "code",
   "execution_count": 24,
   "metadata": {},
   "outputs": [
    {
     "data": {
      "text/html": [
       "<div>\n",
       "<style scoped>\n",
       "    .dataframe tbody tr th:only-of-type {\n",
       "        vertical-align: middle;\n",
       "    }\n",
       "\n",
       "    .dataframe tbody tr th {\n",
       "        vertical-align: top;\n",
       "    }\n",
       "\n",
       "    .dataframe thead th {\n",
       "        text-align: right;\n",
       "    }\n",
       "</style>\n",
       "<table border=\"1\" class=\"dataframe\">\n",
       "  <thead>\n",
       "    <tr style=\"text-align: right;\">\n",
       "      <th></th>\n",
       "      <th>parid</th>\n",
       "      <th>parid_card</th>\n",
       "      <th>bldg_id</th>\n",
       "      <th>struct_typ</th>\n",
       "      <th>str_prob</th>\n",
       "      <th>year_built</th>\n",
       "      <th>no_stories</th>\n",
       "      <th>a_stories</th>\n",
       "      <th>b_stories</th>\n",
       "      <th>bsmt_type</th>\n",
       "      <th>...</th>\n",
       "      <th>dgn_lvl</th>\n",
       "      <th>cont_val</th>\n",
       "      <th>efacility</th>\n",
       "      <th>dwell_unit</th>\n",
       "      <th>str_typ2</th>\n",
       "      <th>occ_typ2</th>\n",
       "      <th>tract_id</th>\n",
       "      <th>guid</th>\n",
       "      <th>IMPUTED</th>\n",
       "      <th>geometry</th>\n",
       "    </tr>\n",
       "  </thead>\n",
       "  <tbody>\n",
       "    <tr>\n",
       "      <th>0</th>\n",
       "      <td>038035  00019</td>\n",
       "      <td>038035  00019_1</td>\n",
       "      <td>038035  00019_1_1</td>\n",
       "      <td>URM</td>\n",
       "      <td>0.02633</td>\n",
       "      <td>1920</td>\n",
       "      <td>1</td>\n",
       "      <td>1</td>\n",
       "      <td>0</td>\n",
       "      <td>CRAWL=0-24%</td>\n",
       "      <td>...</td>\n",
       "      <td>Pre - Code</td>\n",
       "      <td>46707</td>\n",
       "      <td>FALSE</td>\n",
       "      <td>1</td>\n",
       "      <td>URML</td>\n",
       "      <td>RES1</td>\n",
       "      <td>47157001300</td>\n",
       "      <td>64124791-1502-48ea-81b6-1992855f45d5</td>\n",
       "      <td>F</td>\n",
       "      <td>POINT (-89.94883 35.15122)</td>\n",
       "    </tr>\n",
       "    <tr>\n",
       "      <th>1</th>\n",
       "      <td>038034  00040</td>\n",
       "      <td>038034  00040_1</td>\n",
       "      <td>038034  00040_1_1</td>\n",
       "      <td>W1</td>\n",
       "      <td>0.97366</td>\n",
       "      <td>1947</td>\n",
       "      <td>1</td>\n",
       "      <td>1</td>\n",
       "      <td>0</td>\n",
       "      <td>CRAWL=0-24%</td>\n",
       "      <td>...</td>\n",
       "      <td>Low - Code</td>\n",
       "      <td>39656</td>\n",
       "      <td>FALSE</td>\n",
       "      <td>1</td>\n",
       "      <td>W1</td>\n",
       "      <td>RES1</td>\n",
       "      <td>47157001300</td>\n",
       "      <td>d04da316-7cba-4964-8104-f0edfde18239</td>\n",
       "      <td>F</td>\n",
       "      <td>POINT (-89.95095 35.15284)</td>\n",
       "    </tr>\n",
       "    <tr>\n",
       "      <th>2</th>\n",
       "      <td>038028  00023</td>\n",
       "      <td>038028  00023_1</td>\n",
       "      <td>038028  00023_1_1</td>\n",
       "      <td>W1</td>\n",
       "      <td>0.97366</td>\n",
       "      <td>1900</td>\n",
       "      <td>1</td>\n",
       "      <td>1</td>\n",
       "      <td>0</td>\n",
       "      <td>CRAWL=0-24%</td>\n",
       "      <td>...</td>\n",
       "      <td>Low - Code</td>\n",
       "      <td>37765</td>\n",
       "      <td>FALSE</td>\n",
       "      <td>1</td>\n",
       "      <td>W1</td>\n",
       "      <td>RES1</td>\n",
       "      <td>47157001300</td>\n",
       "      <td>c24d708d-a21b-416f-8772-965548407231</td>\n",
       "      <td>F</td>\n",
       "      <td>POINT (-89.95022 35.15976)</td>\n",
       "    </tr>\n",
       "    <tr>\n",
       "      <th>3</th>\n",
       "      <td>034011  00008</td>\n",
       "      <td>034011  00008_1</td>\n",
       "      <td>034011  00008_1_1</td>\n",
       "      <td>W1</td>\n",
       "      <td>0.97366</td>\n",
       "      <td>1926</td>\n",
       "      <td>1</td>\n",
       "      <td>1</td>\n",
       "      <td>0</td>\n",
       "      <td>CRAWL=0-24%</td>\n",
       "      <td>...</td>\n",
       "      <td>Low - Code</td>\n",
       "      <td>59930</td>\n",
       "      <td>FALSE</td>\n",
       "      <td>1</td>\n",
       "      <td>W1</td>\n",
       "      <td>RES1</td>\n",
       "      <td>47157005700</td>\n",
       "      <td>6ff63801-3bf4-4bf3-b6e5-ff9d5fe6f0d0</td>\n",
       "      <td>F</td>\n",
       "      <td>POINT (-90.04844 35.10446)</td>\n",
       "    </tr>\n",
       "    <tr>\n",
       "      <th>4</th>\n",
       "      <td>034011  00007</td>\n",
       "      <td>034011  00007_1</td>\n",
       "      <td>034011  00007_1_1</td>\n",
       "      <td>W1</td>\n",
       "      <td>0.97366</td>\n",
       "      <td>1926</td>\n",
       "      <td>1</td>\n",
       "      <td>1</td>\n",
       "      <td>0</td>\n",
       "      <td>CRAWL=0-24%</td>\n",
       "      <td>...</td>\n",
       "      <td>Low - Code</td>\n",
       "      <td>65276</td>\n",
       "      <td>FALSE</td>\n",
       "      <td>1</td>\n",
       "      <td>W1</td>\n",
       "      <td>RES1</td>\n",
       "      <td>47157005700</td>\n",
       "      <td>ef25f515-4109-408f-a3d4-3b79da49edd0</td>\n",
       "      <td>F</td>\n",
       "      <td>POINT (-90.04843 35.10459)</td>\n",
       "    </tr>\n",
       "  </tbody>\n",
       "</table>\n",
       "<p>5 rows × 31 columns</p>\n",
       "</div>"
      ],
      "text/plain": [
       "           parid       parid_card            bldg_id struct_typ  str_prob  \\\n",
       "0  038035  00019  038035  00019_1  038035  00019_1_1        URM   0.02633   \n",
       "1  038034  00040  038034  00040_1  038034  00040_1_1         W1   0.97366   \n",
       "2  038028  00023  038028  00023_1  038028  00023_1_1         W1   0.97366   \n",
       "3  034011  00008  034011  00008_1  034011  00008_1_1         W1   0.97366   \n",
       "4  034011  00007  034011  00007_1  034011  00007_1_1         W1   0.97366   \n",
       "\n",
       "   year_built  no_stories  a_stories  b_stories    bsmt_type  ...     dgn_lvl  \\\n",
       "0        1920           1          1          0  CRAWL=0-24%  ...  Pre - Code   \n",
       "1        1947           1          1          0  CRAWL=0-24%  ...  Low - Code   \n",
       "2        1900           1          1          0  CRAWL=0-24%  ...  Low - Code   \n",
       "3        1926           1          1          0  CRAWL=0-24%  ...  Low - Code   \n",
       "4        1926           1          1          0  CRAWL=0-24%  ...  Low - Code   \n",
       "\n",
       "   cont_val efacility dwell_unit str_typ2 occ_typ2     tract_id  \\\n",
       "0     46707     FALSE          1     URML     RES1  47157001300   \n",
       "1     39656     FALSE          1       W1     RES1  47157001300   \n",
       "2     37765     FALSE          1       W1     RES1  47157001300   \n",
       "3     59930     FALSE          1       W1     RES1  47157005700   \n",
       "4     65276     FALSE          1       W1     RES1  47157005700   \n",
       "\n",
       "                                   guid  IMPUTED                    geometry  \n",
       "0  64124791-1502-48ea-81b6-1992855f45d5        F  POINT (-89.94883 35.15122)  \n",
       "1  d04da316-7cba-4964-8104-f0edfde18239        F  POINT (-89.95095 35.15284)  \n",
       "2  c24d708d-a21b-416f-8772-965548407231        F  POINT (-89.95022 35.15976)  \n",
       "3  6ff63801-3bf4-4bf3-b6e5-ff9d5fe6f0d0        F  POINT (-90.04844 35.10446)  \n",
       "4  ef25f515-4109-408f-a3d4-3b79da49edd0        F  POINT (-90.04843 35.10459)  \n",
       "\n",
       "[5 rows x 31 columns]"
      ]
     },
     "execution_count": 24,
     "metadata": {},
     "output_type": "execute_result"
    }
   ],
   "source": [
    "#### Building inventory dataset for Shelby county, TN\n",
    "bldg_dataset_id = \"5a284f0bc7d30d13bc081a46\"  \n",
    "\n",
    "# #### Import building dataset from IN-CORE data service\n",
    "bldg_dataset = Dataset.from_data_service(bldg_dataset_id, DataService(client))\n",
    "\n",
    "# #### Convert building dataset to geodataframe\n",
    "bldg_gdf = bldg_dataset.get_dataframe_from_shapefile()\n",
    "bldg_gdf.head()"
   ]
  },
  {
   "cell_type": "markdown",
   "metadata": {},
   "source": [
    "#### Structural system type statistics of MMSA building inventory"
   ]
  },
  {
   "cell_type": "code",
   "execution_count": 7,
   "metadata": {},
   "outputs": [
    {
     "data": {
      "text/html": [
       "<div>\n",
       "<style scoped>\n",
       "    .dataframe tbody tr th:only-of-type {\n",
       "        vertical-align: middle;\n",
       "    }\n",
       "\n",
       "    .dataframe tbody tr th {\n",
       "        vertical-align: top;\n",
       "    }\n",
       "\n",
       "    .dataframe thead th {\n",
       "        text-align: right;\n",
       "    }\n",
       "</style>\n",
       "<table border=\"1\" class=\"dataframe\">\n",
       "  <thead>\n",
       "    <tr style=\"text-align: right;\">\n",
       "      <th></th>\n",
       "      <th>Count</th>\n",
       "    </tr>\n",
       "    <tr>\n",
       "      <th>struct_typ</th>\n",
       "      <th></th>\n",
       "    </tr>\n",
       "  </thead>\n",
       "  <tbody>\n",
       "    <tr>\n",
       "      <th>W1</th>\n",
       "      <td>271853</td>\n",
       "    </tr>\n",
       "    <tr>\n",
       "      <th>W2</th>\n",
       "      <td>12097</td>\n",
       "    </tr>\n",
       "    <tr>\n",
       "      <th>URM</th>\n",
       "      <td>11141</td>\n",
       "    </tr>\n",
       "    <tr>\n",
       "      <th>S1</th>\n",
       "      <td>3608</td>\n",
       "    </tr>\n",
       "    <tr>\n",
       "      <th>S3</th>\n",
       "      <td>3522</td>\n",
       "    </tr>\n",
       "    <tr>\n",
       "      <th>RM</th>\n",
       "      <td>1600</td>\n",
       "    </tr>\n",
       "    <tr>\n",
       "      <th>PC1</th>\n",
       "      <td>1110</td>\n",
       "    </tr>\n",
       "    <tr>\n",
       "      <th>C1</th>\n",
       "      <td>913</td>\n",
       "    </tr>\n",
       "    <tr>\n",
       "      <th>C2</th>\n",
       "      <td>81</td>\n",
       "    </tr>\n",
       "    <tr>\n",
       "      <th>MH</th>\n",
       "      <td>43</td>\n",
       "    </tr>\n",
       "    <tr>\n",
       "      <th>PC2</th>\n",
       "      <td>35</td>\n",
       "    </tr>\n",
       "  </tbody>\n",
       "</table>\n",
       "</div>"
      ],
      "text/plain": [
       "             Count\n",
       "struct_typ        \n",
       "W1          271853\n",
       "W2           12097\n",
       "URM          11141\n",
       "S1            3608\n",
       "S3            3522\n",
       "RM            1600\n",
       "PC1           1110\n",
       "C1             913\n",
       "C2              81\n",
       "MH              43\n",
       "PC2             35"
      ]
     },
     "execution_count": 7,
     "metadata": {},
     "output_type": "execute_result"
    }
   ],
   "source": [
    "pivot= bldg_gdf.pivot_table(\n",
    "     index='struct_typ',\n",
    "     values='guid',\n",
    "     aggfunc=np.count_nonzero\n",
    ")\n",
    "pivot.columns = ['Count']\n",
    "pivot.sort_values('Count',ascending=False)"
   ]
  },
  {
   "cell_type": "raw",
   "metadata": {},
   "source": [
    "#### Plot building dataset \n",
    "viz.plot_map(bldg_dataset, column='struct_typ',category='True')"
   ]
  },
  {
   "cell_type": "markdown",
   "metadata": {},
   "source": [
    "### 2-2) Electric Power Network (EPN) Inventory Data"
   ]
  },
  {
   "cell_type": "code",
   "execution_count": 10,
   "metadata": {},
   "outputs": [
    {
     "name": "stderr",
     "output_type": "stream",
     "text": [
      "INFO - collection.py:crs() - Failed to auto identify EPSG: 7\n",
      "INFO - collection.py:crs() - Failed to auto identify EPSG: 7\n"
     ]
    }
   ],
   "source": [
    "### Read EPN node and link inventory data\n",
    "df_EPNnodes  = gpd.read_file(\"shapefiles/Mem_power_link5_node.shp\")\n",
    "df_EPNlinks  = gpd.read_file(\"shapefiles/Mem_power_link5.shp\")\n",
    "\n",
    "### Plot EPN shapefiles\n",
    "ax = df_EPNnodes.plot(figsize=(20, 10), column='utilfcltyc', categorical=True, markersize=150, legend=True,)\n",
    "df_EPNlinks.plot(ax=ax, color='k')\n",
    "cx.add_basemap(ax, crs=df_EPNnodes.crs)"
   ]
  },
  {
   "cell_type": "markdown",
   "metadata": {},
   "source": [
    "### 2-3) Water Distribution System (WDS) Inventory Data"
   ]
  },
  {
   "cell_type": "code",
   "execution_count": 27,
   "metadata": {},
   "outputs": [
    {
     "name": "stderr",
     "output_type": "stream",
     "text": [
      "INFO - collection.py:crs() - Failed to auto identify EPSG: 7\n"
     ]
    }
   ],
   "source": [
    "### Read WDS node and link inventory data\n",
    "df_WDSnodes  = gpd.read_file(\"shapefiles/Mem_water_node5.shp\")\n",
    "df_WDSlinks  = gpd.read_file(\"shapefiles/Mem_water_pipeline_node_Modified.shp\")\n",
    "\n",
    "### Plot WDS shapefiles\n",
    "ax = df_WDSnodes.plot(figsize=(20, 10), column='utilfcltyc', categorical=True, markersize=150, legend=True,)\n",
    "df_WDSlinks.plot(ax=ax, color='k')\n",
    "cx.add_basemap(ax, crs=df_WDSnodes.crs)"
   ]
  },
  {
   "cell_type": "markdown",
   "metadata": {},
   "source": [
    "### 2-4) EPN service area dataset "
   ]
  },
  {
   "cell_type": "markdown",
   "metadata": {},
   "source": [
    "The interdependency between buildings and utility network infrastructure is modeled by using a Cellular Automata algorithm [3] to estimate the service areas of each network component and perform geospatial analysis to identify the buildings located within the service area of each component. A CSV file (\"Memphis_EPN_Bldg_Depend.csv\") has been developd that maps each of the EPN substations to corresponsing buildings within the node's service area."
   ]
  },
  {
   "cell_type": "code",
   "execution_count": 12,
   "metadata": {},
   "outputs": [
    {
     "data": {
      "text/html": [
       "<div>\n",
       "<style scoped>\n",
       "    .dataframe tbody tr th:only-of-type {\n",
       "        vertical-align: middle;\n",
       "    }\n",
       "\n",
       "    .dataframe tbody tr th {\n",
       "        vertical-align: top;\n",
       "    }\n",
       "\n",
       "    .dataframe thead th {\n",
       "        text-align: right;\n",
       "    }\n",
       "</style>\n",
       "<table border=\"1\" class=\"dataframe\">\n",
       "  <thead>\n",
       "    <tr style=\"text-align: right;\">\n",
       "      <th></th>\n",
       "      <th>Unnamed: 0</th>\n",
       "      <th>guid</th>\n",
       "      <th>sguid</th>\n",
       "    </tr>\n",
       "  </thead>\n",
       "  <tbody>\n",
       "    <tr>\n",
       "      <th>0</th>\n",
       "      <td>0</td>\n",
       "      <td>4014e650-a282-47a0-8b05-be64f92541fe</td>\n",
       "      <td>5f5b4d4e-14c9-4d32-9327-81f1c37f5730</td>\n",
       "    </tr>\n",
       "    <tr>\n",
       "      <th>1</th>\n",
       "      <td>1</td>\n",
       "      <td>c57a33ff-9cf9-45ec-9c2e-86bba4d585a1</td>\n",
       "      <td>5f5b4d4e-14c9-4d32-9327-81f1c37f5730</td>\n",
       "    </tr>\n",
       "    <tr>\n",
       "      <th>2</th>\n",
       "      <td>2</td>\n",
       "      <td>398ef608-bcf8-4a15-bfc8-01273c9c36c2</td>\n",
       "      <td>5f5b4d4e-14c9-4d32-9327-81f1c37f5730</td>\n",
       "    </tr>\n",
       "    <tr>\n",
       "      <th>3</th>\n",
       "      <td>3</td>\n",
       "      <td>0d96300b-0301-41c2-b19c-85a3c8f4c142</td>\n",
       "      <td>5f5b4d4e-14c9-4d32-9327-81f1c37f5730</td>\n",
       "    </tr>\n",
       "    <tr>\n",
       "      <th>4</th>\n",
       "      <td>4</td>\n",
       "      <td>25e640e5-f6ae-4b6d-a777-4dfcbb818961</td>\n",
       "      <td>5f5b4d4e-14c9-4d32-9327-81f1c37f5730</td>\n",
       "    </tr>\n",
       "  </tbody>\n",
       "</table>\n",
       "</div>"
      ],
      "text/plain": [
       "   Unnamed: 0                                  guid  \\\n",
       "0           0  4014e650-a282-47a0-8b05-be64f92541fe   \n",
       "1           1  c57a33ff-9cf9-45ec-9c2e-86bba4d585a1   \n",
       "2           2  398ef608-bcf8-4a15-bfc8-01273c9c36c2   \n",
       "3           3  0d96300b-0301-41c2-b19c-85a3c8f4c142   \n",
       "4           4  25e640e5-f6ae-4b6d-a777-4dfcbb818961   \n",
       "\n",
       "                                  sguid  \n",
       "0  5f5b4d4e-14c9-4d32-9327-81f1c37f5730  \n",
       "1  5f5b4d4e-14c9-4d32-9327-81f1c37f5730  \n",
       "2  5f5b4d4e-14c9-4d32-9327-81f1c37f5730  \n",
       "3  5f5b4d4e-14c9-4d32-9327-81f1c37f5730  \n",
       "4  5f5b4d4e-14c9-4d32-9327-81f1c37f5730  "
      ]
     },
     "execution_count": 12,
     "metadata": {},
     "output_type": "execute_result"
    }
   ],
   "source": [
    "### Load the service are mapping between EPN nodes (i.e., sguid) and buildings (i.e., guid)\n",
    "filepath = 'Inputs/Memphis_EPN_Bldg_Depend.csv'\n",
    "df_EPN_Bldg_Depend = pd.read_csv(filepath, index_col=False)\n",
    "df_EPN_Bldg_Depend = df_EPN_Bldg_Depend.rename(columns={'Bldg_guid': 'guid', 'Substation_guid':'sguid'})\n",
    "df_EPN_Bldg_Depend.head()"
   ]
  },
  {
   "cell_type": "markdown",
   "metadata": {},
   "source": [
    "# 3) Infrastructure Damage Analysis"
   ]
  },
  {
   "cell_type": "markdown",
   "metadata": {},
   "source": [
    "### 3-1) Buildings Physical Damage, MC and Functionality Analysis"
   ]
  },
  {
   "cell_type": "markdown",
   "metadata": {},
   "source": [
    "\n",
    "The \"BuildingDamage\" module of pyincore is used for building damage analysis. This module requires specifying the building inventory data cases and fragility mapping set, scenario hazard tye ad ID and subsequently run analysis to estimate probability of exceeding various damage states. \n",
    "\n",
    "The fragility mappings are performed based on the value of five attributes, including the number of stories (“no_stories”), the occupancy type (“occ_type”), the year built (“year_built”), the structural type (“struct_typ”), and “efacility”. Once the rules in the mapping file (ID=5b47b2d9337d4a36187c7564) are satisfied, mapping IDs from the fragility service are returned to map fragility parameters to each node of the model. \n"
   ]
  },
  {
   "cell_type": "markdown",
   "metadata": {},
   "source": [
    "#### 3-1-A) Damage Analysis"
   ]
  },
  {
   "cell_type": "code",
   "execution_count": 13,
   "metadata": {},
   "outputs": [],
   "source": [
    "#### Import building damage analyis module from pyincore.\n",
    "from pyincore.analyses.buildingdamage import BuildingDamage  "
   ]
  },
  {
   "cell_type": "code",
   "execution_count": 14,
   "metadata": {},
   "outputs": [
    {
     "name": "stdout",
     "output_type": "stream",
     "text": [
      "Dataset already exists locally. Reading from local cached zip.\n",
      "Unzipped folder found in the local cache. Reading from it...\n"
     ]
    },
    {
     "data": {
      "text/plain": [
       "True"
      ]
     },
     "execution_count": 14,
     "metadata": {},
     "output_type": "execute_result"
    }
   ],
   "source": [
    "bldg_dmg = BuildingDamage(client)\n",
    "\n",
    "#### Load building input dataset\n",
    "bldg_dmg.load_remote_input_dataset(\"buildings\", bldg_dataset_id) \n",
    "\n",
    "#### Load fragility mapping\n",
    "fragility_service = FragilityService(client)\n",
    "mapping_id = \"5b47b2d9337d4a36187c7564\"\n",
    "\n",
    "bldg_mapping_set = MappingSet(fragility_service.get_mapping(mapping_id))\n",
    "bldg_dmg.set_input_dataset('dfr3_mapping_set', bldg_mapping_set)\n",
    "\n",
    "#### Set analysis parameters\n",
    "result_name = fp + \"1_MMSA_building_damage_result\"\n",
    "bldg_dmg.set_parameter(\"result_name\", result_name)\n",
    "bldg_dmg.set_parameter(\"hazard_type\", hazard_type)\n",
    "bldg_dmg.set_parameter(\"hazard_id\", hazard_id)\n",
    "bldg_dmg.set_parameter(\"num_cpu\", 8)\n"
   ]
  },
  {
   "cell_type": "code",
   "execution_count": 15,
   "metadata": {},
   "outputs": [
    {
     "name": "stderr",
     "output_type": "stream",
     "text": [
      "INFO - utils.py:_init_num_threads() - Note: NumExpr detected 16 cores but \"NUMEXPR_MAX_THREADS\" not set, so enforcing safe limit of 8.\n",
      "INFO - utils.py:_init_num_threads() - NumExpr defaulting to 8 threads.\n",
      "INFO - utils.py:_init_num_threads() - Note: NumExpr detected 16 cores but \"NUMEXPR_MAX_THREADS\" not set, so enforcing safe limit of 8.\n",
      "INFO - utils.py:_init_num_threads() - NumExpr defaulting to 8 threads.\n",
      "INFO - utils.py:_init_num_threads() - Note: NumExpr detected 16 cores but \"NUMEXPR_MAX_THREADS\" not set, so enforcing safe limit of 8.\n",
      "INFO - utils.py:_init_num_threads() - NumExpr defaulting to 8 threads.\n",
      "INFO - utils.py:_init_num_threads() - Note: NumExpr detected 16 cores but \"NUMEXPR_MAX_THREADS\" not set, so enforcing safe limit of 8.\n",
      "INFO - utils.py:_init_num_threads() - NumExpr defaulting to 8 threads.\n",
      "INFO - utils.py:_init_num_threads() - Note: NumExpr detected 16 cores but \"NUMEXPR_MAX_THREADS\" not set, so enforcing safe limit of 8.\n",
      "INFO - utils.py:_init_num_threads() - NumExpr defaulting to 8 threads.\n",
      "INFO - utils.py:_init_num_threads() - Note: NumExpr detected 16 cores but \"NUMEXPR_MAX_THREADS\" not set, so enforcing safe limit of 8.\n",
      "INFO - utils.py:_init_num_threads() - NumExpr defaulting to 8 threads.\n",
      "INFO - utils.py:_init_num_threads() - Note: NumExpr detected 16 cores but \"NUMEXPR_MAX_THREADS\" not set, so enforcing safe limit of 8.\n",
      "INFO - utils.py:_init_num_threads() - NumExpr defaulting to 8 threads.\n",
      "INFO - utils.py:_init_num_threads() - Note: NumExpr detected 16 cores but \"NUMEXPR_MAX_THREADS\" not set, so enforcing safe limit of 8.\n",
      "INFO - utils.py:_init_num_threads() - NumExpr defaulting to 8 threads.\n"
     ]
    },
    {
     "data": {
      "text/plain": [
       "True"
      ]
     },
     "execution_count": 15,
     "metadata": {},
     "output_type": "execute_result"
    }
   ],
   "source": [
    "#### Run building damage analysis\n",
    "bldg_dmg.run_analysis()"
   ]
  },
  {
   "cell_type": "code",
   "execution_count": 33,
   "metadata": {},
   "outputs": [],
   "source": [
    "#### Obtain the building damage results\n",
    "#building_dmg_result = bldg_dmg.get_output_dataset('ds_result')\n",
    "\n",
    "#### Convert the building damage results to dataframe\n",
    "#df_bldg_dmg = building_dmg_result.get_dataframe_from_csv()\n",
    "\n",
    "### Remove empty rows and produce a modified dataset\n",
    "#df_bldg_dmg = df_bldg_dmg.dropna()\n",
    "\n",
    "#df_bldg_dmg_mod = Dataset.from_dataframe(df_bldg_dmg,\n",
    "#                                         name=\"df_bldg_dmg_mod\",\n",
    "#                                         data_type=\"ergo:buildingDamageVer6\")\n",
    "\n",
    "#df_bldg_dmg.head()"
   ]
  },
  {
   "cell_type": "markdown",
   "metadata": {},
   "source": [
    "### Note: The building damage analysis results subject to Mw7.1 is imported from a CSV file but for the final release the previous code cells can be uncommented and use for damage analysis"
   ]
  },
  {
   "cell_type": "code",
   "execution_count": 42,
   "metadata": {},
   "outputs": [
    {
     "data": {
      "text/html": [
       "<div>\n",
       "<style scoped>\n",
       "    .dataframe tbody tr th:only-of-type {\n",
       "        vertical-align: middle;\n",
       "    }\n",
       "\n",
       "    .dataframe tbody tr th {\n",
       "        vertical-align: top;\n",
       "    }\n",
       "\n",
       "    .dataframe thead th {\n",
       "        text-align: right;\n",
       "    }\n",
       "</style>\n",
       "<table border=\"1\" class=\"dataframe\">\n",
       "  <thead>\n",
       "    <tr style=\"text-align: right;\">\n",
       "      <th></th>\n",
       "      <th>guid</th>\n",
       "      <th>LS_0</th>\n",
       "      <th>LS_1</th>\n",
       "      <th>LS_2</th>\n",
       "      <th>DS_0</th>\n",
       "      <th>DS_1</th>\n",
       "      <th>DS_2</th>\n",
       "      <th>DS_3</th>\n",
       "      <th>haz_expose</th>\n",
       "    </tr>\n",
       "  </thead>\n",
       "  <tbody>\n",
       "    <tr>\n",
       "      <th>0</th>\n",
       "      <td>64124791-1502-48ea-81b6-1992855f45d5</td>\n",
       "      <td>0.676206</td>\n",
       "      <td>0.379284</td>\n",
       "      <td>0.151218</td>\n",
       "      <td>0.323794</td>\n",
       "      <td>0.296922</td>\n",
       "      <td>0.228066</td>\n",
       "      <td>0.151218</td>\n",
       "      <td>yes</td>\n",
       "    </tr>\n",
       "    <tr>\n",
       "      <th>1</th>\n",
       "      <td>d04da316-7cba-4964-8104-f0edfde18239</td>\n",
       "      <td>0.503800</td>\n",
       "      <td>0.147892</td>\n",
       "      <td>0.028780</td>\n",
       "      <td>0.496200</td>\n",
       "      <td>0.355908</td>\n",
       "      <td>0.119112</td>\n",
       "      <td>0.028780</td>\n",
       "      <td>yes</td>\n",
       "    </tr>\n",
       "    <tr>\n",
       "      <th>2</th>\n",
       "      <td>c24d708d-a21b-416f-8772-965548407231</td>\n",
       "      <td>0.507630</td>\n",
       "      <td>0.150081</td>\n",
       "      <td>0.029411</td>\n",
       "      <td>0.492370</td>\n",
       "      <td>0.357549</td>\n",
       "      <td>0.120670</td>\n",
       "      <td>0.029411</td>\n",
       "      <td>yes</td>\n",
       "    </tr>\n",
       "    <tr>\n",
       "      <th>3</th>\n",
       "      <td>6ff63801-3bf4-4bf3-b6e5-ff9d5fe6f0d0</td>\n",
       "      <td>0.471768</td>\n",
       "      <td>0.130416</td>\n",
       "      <td>0.023927</td>\n",
       "      <td>0.528232</td>\n",
       "      <td>0.341353</td>\n",
       "      <td>0.106489</td>\n",
       "      <td>0.023927</td>\n",
       "      <td>yes</td>\n",
       "    </tr>\n",
       "    <tr>\n",
       "      <th>4</th>\n",
       "      <td>ef25f515-4109-408f-a3d4-3b79da49edd0</td>\n",
       "      <td>0.471845</td>\n",
       "      <td>0.130456</td>\n",
       "      <td>0.023938</td>\n",
       "      <td>0.528155</td>\n",
       "      <td>0.341389</td>\n",
       "      <td>0.106518</td>\n",
       "      <td>0.023938</td>\n",
       "      <td>yes</td>\n",
       "    </tr>\n",
       "    <tr>\n",
       "      <th>...</th>\n",
       "      <td>...</td>\n",
       "      <td>...</td>\n",
       "      <td>...</td>\n",
       "      <td>...</td>\n",
       "      <td>...</td>\n",
       "      <td>...</td>\n",
       "      <td>...</td>\n",
       "      <td>...</td>\n",
       "      <td>...</td>\n",
       "    </tr>\n",
       "    <tr>\n",
       "      <th>305955</th>\n",
       "      <td>babe60b2-6250-49d5-a215-c3f890ad68c4</td>\n",
       "      <td>0.316263</td>\n",
       "      <td>0.039995</td>\n",
       "      <td>0.006566</td>\n",
       "      <td>0.683737</td>\n",
       "      <td>0.276268</td>\n",
       "      <td>0.033429</td>\n",
       "      <td>0.006566</td>\n",
       "      <td>yes</td>\n",
       "    </tr>\n",
       "    <tr>\n",
       "      <th>305956</th>\n",
       "      <td>e7200147-7c79-40ad-b3cf-e73a71a0b580</td>\n",
       "      <td>0.316323</td>\n",
       "      <td>0.040010</td>\n",
       "      <td>0.006569</td>\n",
       "      <td>0.683677</td>\n",
       "      <td>0.276313</td>\n",
       "      <td>0.033441</td>\n",
       "      <td>0.006569</td>\n",
       "      <td>yes</td>\n",
       "    </tr>\n",
       "    <tr>\n",
       "      <th>305957</th>\n",
       "      <td>a9314b88-1ddb-4739-9a02-d375b4dcf9fb</td>\n",
       "      <td>0.316375</td>\n",
       "      <td>0.040023</td>\n",
       "      <td>0.006572</td>\n",
       "      <td>0.683625</td>\n",
       "      <td>0.276352</td>\n",
       "      <td>0.033451</td>\n",
       "      <td>0.006572</td>\n",
       "      <td>yes</td>\n",
       "    </tr>\n",
       "    <tr>\n",
       "      <th>305958</th>\n",
       "      <td>7c46ff76-cd02-4e65-bcce-768e1dcf6b06</td>\n",
       "      <td>0.415585</td>\n",
       "      <td>0.068704</td>\n",
       "      <td>0.012004</td>\n",
       "      <td>0.584415</td>\n",
       "      <td>0.346881</td>\n",
       "      <td>0.056700</td>\n",
       "      <td>0.012004</td>\n",
       "      <td>yes</td>\n",
       "    </tr>\n",
       "    <tr>\n",
       "      <th>305959</th>\n",
       "      <td>33a92501-1736-473f-8b4e-273aeb7eb165</td>\n",
       "      <td>0.415479</td>\n",
       "      <td>0.068665</td>\n",
       "      <td>0.011996</td>\n",
       "      <td>0.584521</td>\n",
       "      <td>0.346814</td>\n",
       "      <td>0.056670</td>\n",
       "      <td>0.011996</td>\n",
       "      <td>yes</td>\n",
       "    </tr>\n",
       "  </tbody>\n",
       "</table>\n",
       "<p>305960 rows × 9 columns</p>\n",
       "</div>"
      ],
      "text/plain": [
       "                                        guid      LS_0      LS_1      LS_2  \\\n",
       "0       64124791-1502-48ea-81b6-1992855f45d5  0.676206  0.379284  0.151218   \n",
       "1       d04da316-7cba-4964-8104-f0edfde18239  0.503800  0.147892  0.028780   \n",
       "2       c24d708d-a21b-416f-8772-965548407231  0.507630  0.150081  0.029411   \n",
       "3       6ff63801-3bf4-4bf3-b6e5-ff9d5fe6f0d0  0.471768  0.130416  0.023927   \n",
       "4       ef25f515-4109-408f-a3d4-3b79da49edd0  0.471845  0.130456  0.023938   \n",
       "...                                      ...       ...       ...       ...   \n",
       "305955  babe60b2-6250-49d5-a215-c3f890ad68c4  0.316263  0.039995  0.006566   \n",
       "305956  e7200147-7c79-40ad-b3cf-e73a71a0b580  0.316323  0.040010  0.006569   \n",
       "305957  a9314b88-1ddb-4739-9a02-d375b4dcf9fb  0.316375  0.040023  0.006572   \n",
       "305958  7c46ff76-cd02-4e65-bcce-768e1dcf6b06  0.415585  0.068704  0.012004   \n",
       "305959  33a92501-1736-473f-8b4e-273aeb7eb165  0.415479  0.068665  0.011996   \n",
       "\n",
       "            DS_0      DS_1      DS_2      DS_3 haz_expose  \n",
       "0       0.323794  0.296922  0.228066  0.151218        yes  \n",
       "1       0.496200  0.355908  0.119112  0.028780        yes  \n",
       "2       0.492370  0.357549  0.120670  0.029411        yes  \n",
       "3       0.528232  0.341353  0.106489  0.023927        yes  \n",
       "4       0.528155  0.341389  0.106518  0.023938        yes  \n",
       "...          ...       ...       ...       ...        ...  \n",
       "305955  0.683737  0.276268  0.033429  0.006566        yes  \n",
       "305956  0.683677  0.276313  0.033441  0.006569        yes  \n",
       "305957  0.683625  0.276352  0.033451  0.006572        yes  \n",
       "305958  0.584415  0.346881  0.056700  0.012004        yes  \n",
       "305959  0.584521  0.346814  0.056670  0.011996        yes  \n",
       "\n",
       "[305960 rows x 9 columns]"
      ]
     },
     "execution_count": 42,
     "metadata": {},
     "output_type": "execute_result"
    }
   ],
   "source": [
    "# This needs to be read directly from pipeline\n",
    "building_dmg_result = Dataset.from_file(fp+\"1_MMSA_bldg_dmg_result.csv\", data_type=\"ergo:buildingDamageVer4\")\n",
    "df_bldg_dmg = building_dmg_result.get_dataframe_from_csv()\n",
    "df_bldg_dmg"
   ]
  },
  {
   "cell_type": "code",
   "execution_count": 43,
   "metadata": {},
   "outputs": [],
   "source": [
    "### Add 'DS_max' attribute to df_bldg_dmg that provide the most probable damage state for each MMSA building\n",
    "df_bldg_dmg['DS_max'] = df_bldg_dmg.loc[:,['DS_0', 'DS_1', 'DS_2', 'DS_3']].idxmax(axis = 1)"
   ]
  },
  {
   "cell_type": "code",
   "metadata": {
    "pycharm": {
     "name": "#%%\n"
    }
   },
   "source": [
    "### Plot of the distribution of most probable damage state for buildings\n",
    "indexes = df_bldg_dmg['DS_max'].value_counts(normalize=True).mul(100).index.tolist()\n",
    "values = df_bldg_dmg['DS_max'].value_counts(normalize=True).mul(100).tolist()\n",
    "\n",
    "fig, ax = plt.subplots(figsize=(4, 2.5), dpi=200)\n",
    "\n",
    "bars = ax.bar(x=indexes, height=values,)\n",
    "\n",
    "for bar in bars:\n",
    "    ax.text(bar.get_x() + bar.get_width() / 2,\n",
    "            bar.get_height() + 3,f'% {bar.get_height() :.1f}',\n",
    "            horizontalalignment='center')\n",
    "\n",
    "fig.tight_layout()\n",
    "ax.set_xlabel('Damage State', labelpad=15)\n",
    "ax.set_ylabel('Percentage', labelpad=15)\n",
    "ax.set_title('Distribution of most probable damage state for buildings', pad=15)\n",
    "ax.set(frame_on=False);"
   ],
   "execution_count": null,
   "outputs": []
  },
  {
   "cell_type": "markdown",
   "metadata": {},
   "source": [
    "#### 3-1-B) Monte Carlo Simulation"
   ]
  },
  {
   "cell_type": "markdown",
   "metadata": {},
   "source": [
    "A Monte Carlo simulation (MCS) approach is employed to estimate the failure probability for each. The MCS has been widely recognized as a powerful modeling tool in risk and reliability literature to solve mathematical problems using random samples, which allows capturing the uncertainty in the damage estimation process. The MCS begins with sampling a vector r from uniform distribution U(0,1), where the length of random vector r is the number of Monte Carlo samples given by N. The samples are compared with probabilities of all damage states corresponding to hazard intensity measures to determine the damage state of each component. Subsequently, the number of samples experiencing damage state 2 and higher is calculated and the failure probability is approximated"
   ]
  },
  {
   "cell_type": "code",
   "execution_count": 37,
   "metadata": {},
   "outputs": [
    {
     "data": {
      "text/plain": [
       "True"
      ]
     },
     "execution_count": 37,
     "metadata": {},
     "output_type": "execute_result"
    }
   ],
   "source": [
    "from pyincore.analyses.montecarlofailureprobability import MonteCarloFailureProbability \n",
    "\n",
    "num_samples = 100 # Require 500 samples for convergence - Selected smaller samples for testing \n",
    "result_name = fp + \"2_MMSA_mc_failure_probability_buildings\"\n",
    "\n",
    "mc_bldg = MonteCarloFailureProbability(client)\n",
    "\n",
    "mc_bldg.set_input_dataset(\"damage\", building_dmg_result)\n",
    "mc_bldg.set_parameter(\"num_cpu\", 8)\n",
    "mc_bldg.set_parameter(\"num_samples\", num_samples)\n",
    "mc_bldg.set_parameter(\"damage_interval_keys\", [\"DS_0\", \"DS_1\", \"DS_2\", \"DS_3\"])\n",
    "mc_bldg.set_parameter(\"failure_state_keys\", [\"DS_1\", \"DS_2\", \"DS_3\"])\n",
    "\n",
    "mc_bldg.set_parameter(\"result_name\", result_name) \n"
   ]
  },
  {
   "cell_type": "code",
   "execution_count": 38,
   "metadata": {},
   "outputs": [
    {
     "name": "stderr",
     "output_type": "stream",
     "text": [
      "INFO - utils.py:_init_num_threads() - Note: NumExpr detected 16 cores but \"NUMEXPR_MAX_THREADS\" not set, so enforcing safe limit of 8.\n",
      "INFO - utils.py:_init_num_threads() - Note: NumExpr detected 16 cores but \"NUMEXPR_MAX_THREADS\" not set, so enforcing safe limit of 8.\n",
      "INFO - utils.py:_init_num_threads() - Note: NumExpr detected 16 cores but \"NUMEXPR_MAX_THREADS\" not set, so enforcing safe limit of 8.\n",
      "INFO - utils.py:_init_num_threads() - Note: NumExpr detected 16 cores but \"NUMEXPR_MAX_THREADS\" not set, so enforcing safe limit of 8.\n",
      "INFO - utils.py:_init_num_threads() - Note: NumExpr detected 16 cores but \"NUMEXPR_MAX_THREADS\" not set, so enforcing safe limit of 8.\n",
      "INFO - utils.py:_init_num_threads() - Note: NumExpr detected 16 cores but \"NUMEXPR_MAX_THREADS\" not set, so enforcing safe limit of 8.\n",
      "INFO - utils.py:_init_num_threads() - Note: NumExpr detected 16 cores but \"NUMEXPR_MAX_THREADS\" not set, so enforcing safe limit of 8.\n",
      "INFO - utils.py:_init_num_threads() - NumExpr defaulting to 8 threads.\n",
      "INFO - utils.py:_init_num_threads() - NumExpr defaulting to 8 threads.\n",
      "INFO - utils.py:_init_num_threads() - NumExpr defaulting to 8 threads.\n",
      "INFO - utils.py:_init_num_threads() - NumExpr defaulting to 8 threads.\n",
      "INFO - utils.py:_init_num_threads() - NumExpr defaulting to 8 threads.\n",
      "INFO - utils.py:_init_num_threads() - NumExpr defaulting to 8 threads.\n",
      "INFO - utils.py:_init_num_threads() - NumExpr defaulting to 8 threads.\n",
      "INFO - utils.py:_init_num_threads() - Note: NumExpr detected 16 cores but \"NUMEXPR_MAX_THREADS\" not set, so enforcing safe limit of 8.\n",
      "INFO - utils.py:_init_num_threads() - NumExpr defaulting to 8 threads.\n"
     ]
    },
    {
     "data": {
      "text/html": [
       "<div>\n",
       "<style scoped>\n",
       "    .dataframe tbody tr th:only-of-type {\n",
       "        vertical-align: middle;\n",
       "    }\n",
       "\n",
       "    .dataframe tbody tr th {\n",
       "        vertical-align: top;\n",
       "    }\n",
       "\n",
       "    .dataframe thead th {\n",
       "        text-align: right;\n",
       "    }\n",
       "</style>\n",
       "<table border=\"1\" class=\"dataframe\">\n",
       "  <thead>\n",
       "    <tr style=\"text-align: right;\">\n",
       "      <th></th>\n",
       "      <th>guid</th>\n",
       "      <th>LS_0</th>\n",
       "      <th>LS_1</th>\n",
       "      <th>LS_2</th>\n",
       "      <th>DS_0</th>\n",
       "      <th>DS_1</th>\n",
       "      <th>DS_2</th>\n",
       "      <th>DS_3</th>\n",
       "      <th>haz_expose</th>\n",
       "      <th>failure_probability</th>\n",
       "    </tr>\n",
       "  </thead>\n",
       "  <tbody>\n",
       "    <tr>\n",
       "      <th>0</th>\n",
       "      <td>64124791-1502-48ea-81b6-1992855f45d5</td>\n",
       "      <td>0.676206</td>\n",
       "      <td>0.379284</td>\n",
       "      <td>0.151218</td>\n",
       "      <td>0.323794</td>\n",
       "      <td>0.296922</td>\n",
       "      <td>0.228066</td>\n",
       "      <td>0.151218</td>\n",
       "      <td>yes</td>\n",
       "      <td>0.66</td>\n",
       "    </tr>\n",
       "    <tr>\n",
       "      <th>1</th>\n",
       "      <td>d04da316-7cba-4964-8104-f0edfde18239</td>\n",
       "      <td>0.503800</td>\n",
       "      <td>0.147892</td>\n",
       "      <td>0.028780</td>\n",
       "      <td>0.496200</td>\n",
       "      <td>0.355908</td>\n",
       "      <td>0.119112</td>\n",
       "      <td>0.028780</td>\n",
       "      <td>yes</td>\n",
       "      <td>0.48</td>\n",
       "    </tr>\n",
       "    <tr>\n",
       "      <th>2</th>\n",
       "      <td>c24d708d-a21b-416f-8772-965548407231</td>\n",
       "      <td>0.507630</td>\n",
       "      <td>0.150081</td>\n",
       "      <td>0.029411</td>\n",
       "      <td>0.492370</td>\n",
       "      <td>0.357549</td>\n",
       "      <td>0.120670</td>\n",
       "      <td>0.029411</td>\n",
       "      <td>yes</td>\n",
       "      <td>0.42</td>\n",
       "    </tr>\n",
       "    <tr>\n",
       "      <th>3</th>\n",
       "      <td>6ff63801-3bf4-4bf3-b6e5-ff9d5fe6f0d0</td>\n",
       "      <td>0.471768</td>\n",
       "      <td>0.130416</td>\n",
       "      <td>0.023927</td>\n",
       "      <td>0.528232</td>\n",
       "      <td>0.341353</td>\n",
       "      <td>0.106489</td>\n",
       "      <td>0.023927</td>\n",
       "      <td>yes</td>\n",
       "      <td>0.48</td>\n",
       "    </tr>\n",
       "    <tr>\n",
       "      <th>4</th>\n",
       "      <td>ef25f515-4109-408f-a3d4-3b79da49edd0</td>\n",
       "      <td>0.471845</td>\n",
       "      <td>0.130456</td>\n",
       "      <td>0.023938</td>\n",
       "      <td>0.528155</td>\n",
       "      <td>0.341389</td>\n",
       "      <td>0.106518</td>\n",
       "      <td>0.023938</td>\n",
       "      <td>yes</td>\n",
       "      <td>0.50</td>\n",
       "    </tr>\n",
       "  </tbody>\n",
       "</table>\n",
       "</div>"
      ],
      "text/plain": [
       "                                   guid      LS_0      LS_1      LS_2  \\\n",
       "0  64124791-1502-48ea-81b6-1992855f45d5  0.676206  0.379284  0.151218   \n",
       "1  d04da316-7cba-4964-8104-f0edfde18239  0.503800  0.147892  0.028780   \n",
       "2  c24d708d-a21b-416f-8772-965548407231  0.507630  0.150081  0.029411   \n",
       "3  6ff63801-3bf4-4bf3-b6e5-ff9d5fe6f0d0  0.471768  0.130416  0.023927   \n",
       "4  ef25f515-4109-408f-a3d4-3b79da49edd0  0.471845  0.130456  0.023938   \n",
       "\n",
       "       DS_0      DS_1      DS_2      DS_3 haz_expose  failure_probability  \n",
       "0  0.323794  0.296922  0.228066  0.151218        yes                 0.66  \n",
       "1  0.496200  0.355908  0.119112  0.028780        yes                 0.48  \n",
       "2  0.492370  0.357549  0.120670  0.029411        yes                 0.42  \n",
       "3  0.528232  0.341353  0.106489  0.023927        yes                 0.48  \n",
       "4  0.528155  0.341389  0.106518  0.023938        yes                 0.50  "
      ]
     },
     "execution_count": 38,
     "metadata": {},
     "output_type": "execute_result"
    }
   ],
   "source": [
    "mc_bldg.run_analysis() \n",
    "\n",
    "# Obtain buildings failure probabilities\n",
    "building_failure_probability = mc_bldg.get_output_dataset('failure_probability')  \n",
    "\n",
    "df_bldg_fail = building_failure_probability.get_dataframe_from_csv()\n",
    "df_bldg_fail.head()"
   ]
  },
  {
   "cell_type": "code",
   "execution_count": 44,
   "metadata": {},
   "outputs": [
    {
     "data": {
      "text/html": [
       "<div>\n",
       "<style scoped>\n",
       "    .dataframe tbody tr th:only-of-type {\n",
       "        vertical-align: middle;\n",
       "    }\n",
       "\n",
       "    .dataframe tbody tr th {\n",
       "        vertical-align: top;\n",
       "    }\n",
       "\n",
       "    .dataframe thead th {\n",
       "        text-align: right;\n",
       "    }\n",
       "</style>\n",
       "<table border=\"1\" class=\"dataframe\">\n",
       "  <thead>\n",
       "    <tr style=\"text-align: right;\">\n",
       "      <th></th>\n",
       "      <th>guid</th>\n",
       "      <th>failure</th>\n",
       "    </tr>\n",
       "  </thead>\n",
       "  <tbody>\n",
       "    <tr>\n",
       "      <th>0</th>\n",
       "      <td>64124791-1502-48ea-81b6-1992855f45d5</td>\n",
       "      <td>1,0,0,1,0,1,1,1,0,1,1,0,1,0,0,0,0,0,0,1,1,0,0,...</td>\n",
       "    </tr>\n",
       "    <tr>\n",
       "      <th>1</th>\n",
       "      <td>d04da316-7cba-4964-8104-f0edfde18239</td>\n",
       "      <td>0,0,1,1,1,0,1,0,1,0,1,0,1,1,1,0,0,1,0,0,1,1,0,...</td>\n",
       "    </tr>\n",
       "    <tr>\n",
       "      <th>2</th>\n",
       "      <td>c24d708d-a21b-416f-8772-965548407231</td>\n",
       "      <td>0,0,1,1,1,1,0,1,0,0,0,1,1,0,1,0,0,0,1,0,1,0,1,...</td>\n",
       "    </tr>\n",
       "    <tr>\n",
       "      <th>3</th>\n",
       "      <td>6ff63801-3bf4-4bf3-b6e5-ff9d5fe6f0d0</td>\n",
       "      <td>1,0,0,0,1,1,1,1,0,1,0,0,1,1,1,1,1,0,1,0,0,0,0,...</td>\n",
       "    </tr>\n",
       "    <tr>\n",
       "      <th>4</th>\n",
       "      <td>ef25f515-4109-408f-a3d4-3b79da49edd0</td>\n",
       "      <td>1,1,1,1,0,1,1,0,1,0,0,1,1,0,0,0,1,1,0,0,1,0,0,...</td>\n",
       "    </tr>\n",
       "  </tbody>\n",
       "</table>\n",
       "</div>"
      ],
      "text/plain": [
       "                                   guid  \\\n",
       "0  64124791-1502-48ea-81b6-1992855f45d5   \n",
       "1  d04da316-7cba-4964-8104-f0edfde18239   \n",
       "2  c24d708d-a21b-416f-8772-965548407231   \n",
       "3  6ff63801-3bf4-4bf3-b6e5-ff9d5fe6f0d0   \n",
       "4  ef25f515-4109-408f-a3d4-3b79da49edd0   \n",
       "\n",
       "                                             failure  \n",
       "0  1,0,0,1,0,1,1,1,0,1,1,0,1,0,0,0,0,0,0,1,1,0,0,...  \n",
       "1  0,0,1,1,1,0,1,0,1,0,1,0,1,1,1,0,0,1,0,0,1,1,0,...  \n",
       "2  0,0,1,1,1,1,0,1,0,0,0,1,1,0,1,0,0,0,1,0,1,0,1,...  \n",
       "3  1,0,0,0,1,1,1,1,0,1,0,0,1,1,1,1,1,0,1,0,0,0,0,...  \n",
       "4  1,1,1,1,0,1,1,0,1,0,0,1,1,0,0,0,1,1,0,0,1,0,0,...  "
      ]
     },
     "execution_count": 44,
     "metadata": {},
     "output_type": "execute_result"
    }
   ],
   "source": [
    "building_damage_mcs_samples = mc_bldg.get_output_dataset('sample_failure_state')  # get buildings failure states\n",
    "\n",
    "bdmcs = building_damage_mcs_samples.get_dataframe_from_csv()\n",
    "bdmcs.head()"
   ]
  },
  {
   "cell_type": "markdown",
   "metadata": {},
   "source": [
    "#### 3-1-C) Functionality Analysis (Buildings Only)"
   ]
  },
  {
   "cell_type": "markdown",
   "metadata": {},
   "source": [
    "The MC samples from previous subsection are used in this subsection to perform functionality analysis and determine the functionality state of each building. According to Almufti and Willford (2013), functionality is defined as the capacity of a component to serve its intended objectives consist of structural integrity, safety, and utilities (e.g., water and electricity). An individual building can be narrowly classified into five discrete states consist of the restricted entry (State 1), restricted use (State 2), preoccupancy (State 3), baseline functionality (State 4) and full functionality (State 5). In a broader classification, functionality states can be categorized into nonfunctional (States 1 to 3) and functional (States 4 and 5). This notebook relies on the latter broader classification approach to estimate the functionality state of each building and subsequently use functionality estimates to perfom functionality analysis by accounting for interdependency between buildings and lifeline networks (i.e., EPN and WDS) "
   ]
  },
  {
   "cell_type": "code",
   "execution_count": 45,
   "metadata": {},
   "outputs": [
    {
     "data": {
      "text/plain": [
       "True"
      ]
     },
     "execution_count": 45,
     "metadata": {},
     "output_type": "execute_result"
    }
   ],
   "source": [
    "from pyincore.analyses.buildingfunctionality import BuildingFunctionality\n",
    "bldg_func = BuildingFunctionality(client)\n",
    "\n",
    "# Load the datasets of MC simulations for buildings\n",
    "bldg_func.set_input_dataset(\"building_damage_mcs_samples\", building_damage_mcs_samples)\n",
    "\n",
    "result_name = fp + \"2_MMSA_mcs_functionality_probability\"\n",
    "bldg_func.set_parameter(\"result_name\", result_name)"
   ]
  },
  {
   "cell_type": "code",
   "execution_count": 46,
   "metadata": {},
   "outputs": [
    {
     "data": {
      "text/html": [
       "<div>\n",
       "<style scoped>\n",
       "    .dataframe tbody tr th:only-of-type {\n",
       "        vertical-align: middle;\n",
       "    }\n",
       "\n",
       "    .dataframe tbody tr th {\n",
       "        vertical-align: top;\n",
       "    }\n",
       "\n",
       "    .dataframe thead th {\n",
       "        text-align: right;\n",
       "    }\n",
       "</style>\n",
       "<table border=\"1\" class=\"dataframe\">\n",
       "  <thead>\n",
       "    <tr style=\"text-align: right;\">\n",
       "      <th></th>\n",
       "      <th>building_guid</th>\n",
       "      <th>samples</th>\n",
       "    </tr>\n",
       "  </thead>\n",
       "  <tbody>\n",
       "    <tr>\n",
       "      <th>0</th>\n",
       "      <td>64124791-1502-48ea-81b6-1992855f45d5</td>\n",
       "      <td>1,0,0,1,0,1,1,1,0,1,1,0,1,0,0,0,0,0,0,1,1,0,0,...</td>\n",
       "    </tr>\n",
       "    <tr>\n",
       "      <th>1</th>\n",
       "      <td>d04da316-7cba-4964-8104-f0edfde18239</td>\n",
       "      <td>0,0,1,1,1,0,1,0,1,0,1,0,1,1,1,0,0,1,0,0,1,1,0,...</td>\n",
       "    </tr>\n",
       "    <tr>\n",
       "      <th>2</th>\n",
       "      <td>c24d708d-a21b-416f-8772-965548407231</td>\n",
       "      <td>0,0,1,1,1,1,0,1,0,0,0,1,1,0,1,0,0,0,1,0,1,0,1,...</td>\n",
       "    </tr>\n",
       "    <tr>\n",
       "      <th>3</th>\n",
       "      <td>6ff63801-3bf4-4bf3-b6e5-ff9d5fe6f0d0</td>\n",
       "      <td>1,0,0,0,1,1,1,1,0,1,0,0,1,1,1,1,1,0,1,0,0,0,0,...</td>\n",
       "    </tr>\n",
       "    <tr>\n",
       "      <th>4</th>\n",
       "      <td>ef25f515-4109-408f-a3d4-3b79da49edd0</td>\n",
       "      <td>1,1,1,1,0,1,1,0,1,0,0,1,1,0,0,0,1,1,0,0,1,0,0,...</td>\n",
       "    </tr>\n",
       "  </tbody>\n",
       "</table>\n",
       "</div>"
      ],
      "text/plain": [
       "                          building_guid  \\\n",
       "0  64124791-1502-48ea-81b6-1992855f45d5   \n",
       "1  d04da316-7cba-4964-8104-f0edfde18239   \n",
       "2  c24d708d-a21b-416f-8772-965548407231   \n",
       "3  6ff63801-3bf4-4bf3-b6e5-ff9d5fe6f0d0   \n",
       "4  ef25f515-4109-408f-a3d4-3b79da49edd0   \n",
       "\n",
       "                                             samples  \n",
       "0  1,0,0,1,0,1,1,1,0,1,1,0,1,0,0,0,0,0,0,1,1,0,0,...  \n",
       "1  0,0,1,1,1,0,1,0,1,0,1,0,1,1,1,0,0,1,0,0,1,1,0,...  \n",
       "2  0,0,1,1,1,1,0,1,0,0,0,1,1,0,1,0,0,0,1,0,1,0,1,...  \n",
       "3  1,0,0,0,1,1,1,1,0,1,0,0,1,1,1,1,1,0,1,0,0,0,0,...  \n",
       "4  1,1,1,1,0,1,1,0,1,0,0,1,1,0,0,0,1,1,0,0,1,0,0,...  "
      ]
     },
     "execution_count": 46,
     "metadata": {},
     "output_type": "execute_result"
    }
   ],
   "source": [
    "### Run the BuildingFunctionality module to obtain the building functionality probabilities\n",
    "bldg_func.run_analysis() \n",
    "\n",
    "bldg_func_samples = bldg_func.get_output_dataset('functionality_samples')\n",
    "df_bldg_samples = bldg_func_samples.get_dataframe_from_csv()\n",
    "df_bldg_samples.head()"
   ]
  },
  {
   "cell_type": "code",
   "execution_count": 47,
   "metadata": {},
   "outputs": [],
   "source": [
    "bldg_func_probability = bldg_func.get_output_dataset('functionality_probability')\n",
    "df_bldg_func = bldg_func_probability.get_dataframe_from_csv()\n",
    "df_bldg_func = df_bldg_func.rename(columns={\"building_guid\": \"guid\"})\n",
    "func_prob_target = 0.40\n",
    "df_bldg_func.loc[df_bldg_func['probability'] <= func_prob_target, 'functionality'] = 0 # Non-Functional\n",
    "df_bldg_func.loc[df_bldg_func['probability'] > func_prob_target, 'functionality'] = 1 # Functional\n",
    "df_bldg_func.loc[df_bldg_func['probability'] <= func_prob_target, 'functionality_state'] = 'Non-Functional' # Non-Functional\n",
    "df_bldg_func.loc[df_bldg_func['probability'] > func_prob_target, 'functionality_state'] = 'Functional' # Functional"
   ]
  },
  {
   "cell_type": "code",
   "execution_count": 48,
   "metadata": {},
   "outputs": [
    {
     "data": {
      "text/html": [
       "<div>\n",
       "<style scoped>\n",
       "    .dataframe tbody tr th:only-of-type {\n",
       "        vertical-align: middle;\n",
       "    }\n",
       "\n",
       "    .dataframe tbody tr th {\n",
       "        vertical-align: top;\n",
       "    }\n",
       "\n",
       "    .dataframe thead th {\n",
       "        text-align: right;\n",
       "    }\n",
       "</style>\n",
       "<table border=\"1\" class=\"dataframe\">\n",
       "  <thead>\n",
       "    <tr style=\"text-align: right;\">\n",
       "      <th></th>\n",
       "      <th>guid</th>\n",
       "      <th>probability</th>\n",
       "      <th>functionality</th>\n",
       "      <th>functionality_state</th>\n",
       "    </tr>\n",
       "  </thead>\n",
       "  <tbody>\n",
       "    <tr>\n",
       "      <th>0</th>\n",
       "      <td>64124791-1502-48ea-81b6-1992855f45d5</td>\n",
       "      <td>0.34</td>\n",
       "      <td>0.0</td>\n",
       "      <td>Non-Functional</td>\n",
       "    </tr>\n",
       "    <tr>\n",
       "      <th>1</th>\n",
       "      <td>d04da316-7cba-4964-8104-f0edfde18239</td>\n",
       "      <td>0.52</td>\n",
       "      <td>1.0</td>\n",
       "      <td>Functional</td>\n",
       "    </tr>\n",
       "    <tr>\n",
       "      <th>2</th>\n",
       "      <td>c24d708d-a21b-416f-8772-965548407231</td>\n",
       "      <td>0.58</td>\n",
       "      <td>1.0</td>\n",
       "      <td>Functional</td>\n",
       "    </tr>\n",
       "    <tr>\n",
       "      <th>3</th>\n",
       "      <td>6ff63801-3bf4-4bf3-b6e5-ff9d5fe6f0d0</td>\n",
       "      <td>0.52</td>\n",
       "      <td>1.0</td>\n",
       "      <td>Functional</td>\n",
       "    </tr>\n",
       "    <tr>\n",
       "      <th>4</th>\n",
       "      <td>ef25f515-4109-408f-a3d4-3b79da49edd0</td>\n",
       "      <td>0.50</td>\n",
       "      <td>1.0</td>\n",
       "      <td>Functional</td>\n",
       "    </tr>\n",
       "  </tbody>\n",
       "</table>\n",
       "</div>"
      ],
      "text/plain": [
       "                                   guid  probability  functionality  \\\n",
       "0  64124791-1502-48ea-81b6-1992855f45d5         0.34            0.0   \n",
       "1  d04da316-7cba-4964-8104-f0edfde18239         0.52            1.0   \n",
       "2  c24d708d-a21b-416f-8772-965548407231         0.58            1.0   \n",
       "3  6ff63801-3bf4-4bf3-b6e5-ff9d5fe6f0d0         0.52            1.0   \n",
       "4  ef25f515-4109-408f-a3d4-3b79da49edd0         0.50            1.0   \n",
       "\n",
       "  functionality_state  \n",
       "0      Non-Functional  \n",
       "1          Functional  \n",
       "2          Functional  \n",
       "3          Functional  \n",
       "4          Functional  "
      ]
     },
     "execution_count": 48,
     "metadata": {},
     "output_type": "execute_result"
    }
   ],
   "source": [
    "df_bldg_func.head()"
   ]
  },
  {
   "cell_type": "code",
   "execution_count": null,
   "metadata": {},
   "outputs": [],
   "source": [
    "### Plot of the distribution of most probable damage state for buildings\n",
    "indexes = df_bldg_func['functionality_state'].value_counts(normalize=True).mul(100).index.tolist()\n",
    "values = df_bldg_func['functionality_state'].value_counts(normalize=True).mul(100).tolist()\n",
    "\n",
    "fig, ax = plt.subplots(figsize=(4, 2.5), dpi=200)\n",
    "\n",
    "bars = ax.bar(x=indexes, height=values,)\n",
    "\n",
    "for bar in bars:\n",
    "    ax.text(bar.get_x() + bar.get_width() / 2,\n",
    "            bar.get_height() + 3,f'% {bar.get_height() :.1f}',\n",
    "            horizontalalignment='center')\n",
    "\n",
    "fig.tight_layout()\n",
    "ax.set_ylim([0,100])\n",
    "ax.set_xlabel('Damage State', labelpad=15)\n",
    "ax.set_ylabel('Percentage', labelpad=15)\n",
    "ax.set_title('Functionality Percentage (Buildings only)', pad=15)\n",
    "ax.set(frame_on=False);"
   ]
  },
  {
   "cell_type": "markdown",
   "metadata": {},
   "source": [
    "## 3-2) Electric Power Network (EPN) Analysis"
   ]
  },
  {
   "cell_type": "markdown",
   "metadata": {},
   "source": [
    "This section perform damage analysis of EPN substations based on Hazus fragility functions [5].\n",
    "\n",
    "Subsequntly, restoration curves of electric substations from Hazus is used to obtain functionality percentage of each substation. The output of this analysis provides the percentage of building withing each substation service area that will suffer power outage 1 day, 3 days, 7 days, 30 days and 90 days after an event.\n"
   ]
  },
  {
   "cell_type": "markdown",
   "metadata": {},
   "source": [
    "##### 3-2-A) EPN Damage Analysis"
   ]
  },
  {
   "cell_type": "code",
   "execution_count": 49,
   "metadata": {},
   "outputs": [],
   "source": [
    "from pyincore.analyses.epfdamage.epfdamage import EpfDamage # Import epf damage module integrated into pyIncore."
   ]
  },
  {
   "cell_type": "code",
   "execution_count": 50,
   "metadata": {},
   "outputs": [
    {
     "name": "stdout",
     "output_type": "stream",
     "text": [
      "Enter username: snunez\n",
      "Enter password: ········\n"
     ]
    },
    {
     "name": "stderr",
     "output_type": "stream",
     "text": [
      "INFO - utils.py:_init_num_threads() - Note: NumExpr detected 16 cores but \"NUMEXPR_MAX_THREADS\" not set, so enforcing safe limit of 8.\n",
      "INFO - utils.py:_init_num_threads() - NumExpr defaulting to 8 threads.\n",
      "INFO - utils.py:_init_num_threads() - Note: NumExpr detected 16 cores but \"NUMEXPR_MAX_THREADS\" not set, so enforcing safe limit of 8.\n",
      "INFO - utils.py:_init_num_threads() - NumExpr defaulting to 8 threads.\n",
      "INFO - utils.py:_init_num_threads() - Note: NumExpr detected 16 cores but \"NUMEXPR_MAX_THREADS\" not set, so enforcing safe limit of 8.\n",
      "INFO - utils.py:_init_num_threads() - NumExpr defaulting to 8 threads.\n",
      "INFO - utils.py:_init_num_threads() - Note: NumExpr detected 16 cores but \"NUMEXPR_MAX_THREADS\" not set, so enforcing safe limit of 8.\n",
      "INFO - utils.py:_init_num_threads() - NumExpr defaulting to 8 threads.\n",
      "INFO - utils.py:_init_num_threads() - Note: NumExpr detected 16 cores but \"NUMEXPR_MAX_THREADS\" not set, so enforcing safe limit of 8.\n",
      "INFO - utils.py:_init_num_threads() - NumExpr defaulting to 8 threads.\n",
      "INFO - utils.py:_init_num_threads() - Note: NumExpr detected 16 cores but \"NUMEXPR_MAX_THREADS\" not set, so enforcing safe limit of 8.\n",
      "INFO - utils.py:_init_num_threads() - NumExpr defaulting to 8 threads.\n",
      "INFO - utils.py:_init_num_threads() - Note: NumExpr detected 16 cores but \"NUMEXPR_MAX_THREADS\" not set, so enforcing safe limit of 8.\n",
      "INFO - utils.py:_init_num_threads() - NumExpr defaulting to 8 threads.\n",
      "INFO - utils.py:_init_num_threads() - Note: NumExpr detected 16 cores but \"NUMEXPR_MAX_THREADS\" not set, so enforcing safe limit of 8.\n",
      "INFO - utils.py:_init_num_threads() - NumExpr defaulting to 8 threads.\n",
      "INFO - utils.py:_init_num_threads() - Note: NumExpr detected 16 cores but \"NUMEXPR_MAX_THREADS\" not set, so enforcing safe limit of 8.\n",
      "INFO - utils.py:_init_num_threads() - NumExpr defaulting to 8 threads.\n",
      "INFO - utils.py:_init_num_threads() - Note: NumExpr detected 16 cores but \"NUMEXPR_MAX_THREADS\" not set, so enforcing safe limit of 8.\n",
      "INFO - utils.py:_init_num_threads() - NumExpr defaulting to 8 threads.\n",
      "INFO - utils.py:_init_num_threads() - Note: NumExpr detected 16 cores but \"NUMEXPR_MAX_THREADS\" not set, so enforcing safe limit of 8.\n",
      "INFO - utils.py:_init_num_threads() - NumExpr defaulting to 8 threads.\n",
      "INFO - utils.py:_init_num_threads() - Note: NumExpr detected 16 cores but \"NUMEXPR_MAX_THREADS\" not set, so enforcing safe limit of 8.\n",
      "INFO - utils.py:_init_num_threads() - NumExpr defaulting to 8 threads.\n",
      "INFO - utils.py:_init_num_threads() - Note: NumExpr detected 16 cores but \"NUMEXPR_MAX_THREADS\" not set, so enforcing safe limit of 8.\n",
      "INFO - utils.py:_init_num_threads() - NumExpr defaulting to 8 threads.\n",
      "INFO - utils.py:_init_num_threads() - Note: NumExpr detected 16 cores but \"NUMEXPR_MAX_THREADS\" not set, so enforcing safe limit of 8.\n",
      "INFO - utils.py:_init_num_threads() - NumExpr defaulting to 8 threads.\n",
      "INFO - utils.py:_init_num_threads() - Note: NumExpr detected 16 cores but \"NUMEXPR_MAX_THREADS\" not set, so enforcing safe limit of 8.\n",
      "INFO - utils.py:_init_num_threads() - NumExpr defaulting to 8 threads.\n",
      "INFO - utils.py:_init_num_threads() - Note: NumExpr detected 16 cores but \"NUMEXPR_MAX_THREADS\" not set, so enforcing safe limit of 8.\n",
      "INFO - utils.py:_init_num_threads() - NumExpr defaulting to 8 threads.\n"
     ]
    },
    {
     "data": {
      "text/html": [
       "<div>\n",
       "<style scoped>\n",
       "    .dataframe tbody tr th:only-of-type {\n",
       "        vertical-align: middle;\n",
       "    }\n",
       "\n",
       "    .dataframe tbody tr th {\n",
       "        vertical-align: top;\n",
       "    }\n",
       "\n",
       "    .dataframe thead th {\n",
       "        text-align: right;\n",
       "    }\n",
       "</style>\n",
       "<table border=\"1\" class=\"dataframe\">\n",
       "  <thead>\n",
       "    <tr style=\"text-align: right;\">\n",
       "      <th></th>\n",
       "      <th>guid</th>\n",
       "      <th>LS_0</th>\n",
       "      <th>LS_1</th>\n",
       "      <th>LS_2</th>\n",
       "      <th>LS_3</th>\n",
       "      <th>DS_0</th>\n",
       "      <th>DS_1</th>\n",
       "      <th>DS_2</th>\n",
       "      <th>DS_3</th>\n",
       "      <th>DS_4</th>\n",
       "      <th>haz_expose</th>\n",
       "    </tr>\n",
       "  </thead>\n",
       "  <tbody>\n",
       "    <tr>\n",
       "      <th>0</th>\n",
       "      <td>75941d02-93bf-4ef9-87d3-d882384f6c10</td>\n",
       "      <td>0.887433</td>\n",
       "      <td>0.523024</td>\n",
       "      <td>0.136211</td>\n",
       "      <td>0.016086</td>\n",
       "      <td>0.112567</td>\n",
       "      <td>0.364409</td>\n",
       "      <td>0.386813</td>\n",
       "      <td>0.120125</td>\n",
       "      <td>0.016086</td>\n",
       "      <td>yes</td>\n",
       "    </tr>\n",
       "    <tr>\n",
       "      <th>1</th>\n",
       "      <td>35909c93-4b29-4616-9cd3-989d8d604481</td>\n",
       "      <td>0.875883</td>\n",
       "      <td>0.499762</td>\n",
       "      <td>0.123873</td>\n",
       "      <td>0.014042</td>\n",
       "      <td>0.124117</td>\n",
       "      <td>0.376121</td>\n",
       "      <td>0.375889</td>\n",
       "      <td>0.109831</td>\n",
       "      <td>0.014042</td>\n",
       "      <td>yes</td>\n",
       "    </tr>\n",
       "    <tr>\n",
       "      <th>2</th>\n",
       "      <td>ce7d3164-ffda-4ac0-a9fa-d88c927897cc</td>\n",
       "      <td>0.861667</td>\n",
       "      <td>0.473129</td>\n",
       "      <td>0.110731</td>\n",
       "      <td>0.011980</td>\n",
       "      <td>0.138333</td>\n",
       "      <td>0.388538</td>\n",
       "      <td>0.362398</td>\n",
       "      <td>0.098751</td>\n",
       "      <td>0.011980</td>\n",
       "      <td>yes</td>\n",
       "    </tr>\n",
       "    <tr>\n",
       "      <th>3</th>\n",
       "      <td>b2bed3e1-f16c-483a-98e8-79dfd849d187</td>\n",
       "      <td>0.827201</td>\n",
       "      <td>0.416021</td>\n",
       "      <td>0.085761</td>\n",
       "      <td>0.008394</td>\n",
       "      <td>0.172799</td>\n",
       "      <td>0.411180</td>\n",
       "      <td>0.330260</td>\n",
       "      <td>0.077368</td>\n",
       "      <td>0.008394</td>\n",
       "      <td>yes</td>\n",
       "    </tr>\n",
       "    <tr>\n",
       "      <th>4</th>\n",
       "      <td>ab011d7c-0e34-4e5d-9734-34f7858d4b68</td>\n",
       "      <td>0.825880</td>\n",
       "      <td>0.414013</td>\n",
       "      <td>0.084957</td>\n",
       "      <td>0.008286</td>\n",
       "      <td>0.174120</td>\n",
       "      <td>0.411868</td>\n",
       "      <td>0.329056</td>\n",
       "      <td>0.076671</td>\n",
       "      <td>0.008286</td>\n",
       "      <td>yes</td>\n",
       "    </tr>\n",
       "  </tbody>\n",
       "</table>\n",
       "</div>"
      ],
      "text/plain": [
       "                                   guid      LS_0      LS_1      LS_2  \\\n",
       "0  75941d02-93bf-4ef9-87d3-d882384f6c10  0.887433  0.523024  0.136211   \n",
       "1  35909c93-4b29-4616-9cd3-989d8d604481  0.875883  0.499762  0.123873   \n",
       "2  ce7d3164-ffda-4ac0-a9fa-d88c927897cc  0.861667  0.473129  0.110731   \n",
       "3  b2bed3e1-f16c-483a-98e8-79dfd849d187  0.827201  0.416021  0.085761   \n",
       "4  ab011d7c-0e34-4e5d-9734-34f7858d4b68  0.825880  0.414013  0.084957   \n",
       "\n",
       "       LS_3      DS_0      DS_1      DS_2      DS_3      DS_4 haz_expose  \n",
       "0  0.016086  0.112567  0.364409  0.386813  0.120125  0.016086        yes  \n",
       "1  0.014042  0.124117  0.376121  0.375889  0.109831  0.014042        yes  \n",
       "2  0.011980  0.138333  0.388538  0.362398  0.098751  0.011980        yes  \n",
       "3  0.008394  0.172799  0.411180  0.330260  0.077368  0.008394        yes  \n",
       "4  0.008286  0.174120  0.411868  0.329056  0.076671  0.008286        yes  "
      ]
     },
     "execution_count": 50,
     "metadata": {},
     "output_type": "execute_result"
    }
   ],
   "source": [
    "mapping_id = \"5b47be62337d4a37b6197a3a\" \n",
    "\n",
    "fragility_service = FragilityService(client)\n",
    "mapping_set = MappingSet(fragility_service.get_mapping(mapping_id))\n",
    "\n",
    "epn_sub_dmg = EpfDamage(client)\n",
    "epn_dataset = Dataset.from_file(\"shapefiles/Mem_power_link5_node.shp\", data_type=\"incore:epf\")\n",
    "epn_sub_dmg.set_input_dataset(\"epfs\", epn_dataset)\n",
    "epn_sub_dmg.set_input_dataset(\"dfr3_mapping_set\", mapping_set)\n",
    "\n",
    "result_name = fp + \"3_MMSA_EPN_substations_dmg_result\"\n",
    "epn_sub_dmg.set_parameter(\"result_name\", result_name)\n",
    "epn_sub_dmg.set_parameter(\"hazard_type\", hazard_type)\n",
    "epn_sub_dmg.set_parameter(\"hazard_id\", hazard_id)\n",
    "epn_sub_dmg.set_parameter(\"num_cpu\", 16)\n",
    "\n",
    "epn_sub_dmg.run_analysis()\n",
    "\n",
    "substation_dmg_result = epn_sub_dmg.get_output_dataset('result')\n",
    "\n",
    "df_sub_dmg = substation_dmg_result.get_dataframe_from_csv()\n",
    "df_sub_dmg.head()"
   ]
  },
  {
   "cell_type": "code",
   "execution_count": 51,
   "metadata": {},
   "outputs": [
    {
     "name": "stderr",
     "output_type": "stream",
     "text": [
      "INFO - collection.py:crs() - Failed to auto identify EPSG: 7\n"
     ]
    },
    {
     "data": {
      "text/html": [
       "<div>\n",
       "<style scoped>\n",
       "    .dataframe tbody tr th:only-of-type {\n",
       "        vertical-align: middle;\n",
       "    }\n",
       "\n",
       "    .dataframe tbody tr th {\n",
       "        vertical-align: top;\n",
       "    }\n",
       "\n",
       "    .dataframe thead th {\n",
       "        text-align: right;\n",
       "    }\n",
       "</style>\n",
       "<table border=\"1\" class=\"dataframe\">\n",
       "  <thead>\n",
       "    <tr style=\"text-align: right;\">\n",
       "      <th></th>\n",
       "      <th>nodenwid</th>\n",
       "      <th>fltytype</th>\n",
       "      <th>strctype</th>\n",
       "      <th>utilfcltyc</th>\n",
       "      <th>flow</th>\n",
       "      <th>guid</th>\n",
       "      <th>geometry</th>\n",
       "      <th>LS_0</th>\n",
       "      <th>LS_1</th>\n",
       "      <th>LS_2</th>\n",
       "      <th>LS_3</th>\n",
       "      <th>DS_0</th>\n",
       "      <th>DS_1</th>\n",
       "      <th>DS_2</th>\n",
       "      <th>DS_3</th>\n",
       "      <th>DS_4</th>\n",
       "      <th>haz_expose</th>\n",
       "    </tr>\n",
       "  </thead>\n",
       "  <tbody>\n",
       "    <tr>\n",
       "      <th>0</th>\n",
       "      <td>59</td>\n",
       "      <td>2</td>\n",
       "      <td>0</td>\n",
       "      <td>ESSL</td>\n",
       "      <td>0.0</td>\n",
       "      <td>75941d02-93bf-4ef9-87d3-d882384f6c10</td>\n",
       "      <td>POINT (-89.83611 35.28708)</td>\n",
       "      <td>0.887433</td>\n",
       "      <td>0.523024</td>\n",
       "      <td>0.136211</td>\n",
       "      <td>0.016086</td>\n",
       "      <td>0.112567</td>\n",
       "      <td>0.364409</td>\n",
       "      <td>0.386813</td>\n",
       "      <td>0.120125</td>\n",
       "      <td>0.016086</td>\n",
       "      <td>yes</td>\n",
       "    </tr>\n",
       "    <tr>\n",
       "      <th>1</th>\n",
       "      <td>58</td>\n",
       "      <td>2</td>\n",
       "      <td>0</td>\n",
       "      <td>ESSL</td>\n",
       "      <td>0.0</td>\n",
       "      <td>35909c93-4b29-4616-9cd3-989d8d604481</td>\n",
       "      <td>POINT (-89.84449 35.26734)</td>\n",
       "      <td>0.875883</td>\n",
       "      <td>0.499762</td>\n",
       "      <td>0.123873</td>\n",
       "      <td>0.014042</td>\n",
       "      <td>0.124117</td>\n",
       "      <td>0.376121</td>\n",
       "      <td>0.375889</td>\n",
       "      <td>0.109831</td>\n",
       "      <td>0.014042</td>\n",
       "      <td>yes</td>\n",
       "    </tr>\n",
       "    <tr>\n",
       "      <th>2</th>\n",
       "      <td>57</td>\n",
       "      <td>2</td>\n",
       "      <td>0</td>\n",
       "      <td>ESSL</td>\n",
       "      <td>0.0</td>\n",
       "      <td>ce7d3164-ffda-4ac0-a9fa-d88c927897cc</td>\n",
       "      <td>POINT (-89.98442 35.24436)</td>\n",
       "      <td>0.861667</td>\n",
       "      <td>0.473129</td>\n",
       "      <td>0.110731</td>\n",
       "      <td>0.011980</td>\n",
       "      <td>0.138333</td>\n",
       "      <td>0.388538</td>\n",
       "      <td>0.362398</td>\n",
       "      <td>0.098751</td>\n",
       "      <td>0.011980</td>\n",
       "      <td>yes</td>\n",
       "    </tr>\n",
       "    <tr>\n",
       "      <th>3</th>\n",
       "      <td>56</td>\n",
       "      <td>2</td>\n",
       "      <td>0</td>\n",
       "      <td>ESSL</td>\n",
       "      <td>0.0</td>\n",
       "      <td>b2bed3e1-f16c-483a-98e8-79dfd849d187</td>\n",
       "      <td>POINT (-89.95621 35.19269)</td>\n",
       "      <td>0.827201</td>\n",
       "      <td>0.416021</td>\n",
       "      <td>0.085761</td>\n",
       "      <td>0.008394</td>\n",
       "      <td>0.172799</td>\n",
       "      <td>0.411180</td>\n",
       "      <td>0.330260</td>\n",
       "      <td>0.077368</td>\n",
       "      <td>0.008394</td>\n",
       "      <td>yes</td>\n",
       "    </tr>\n",
       "    <tr>\n",
       "      <th>4</th>\n",
       "      <td>55</td>\n",
       "      <td>2</td>\n",
       "      <td>0</td>\n",
       "      <td>ESSL</td>\n",
       "      <td>0.0</td>\n",
       "      <td>ab011d7c-0e34-4e5d-9734-34f7858d4b68</td>\n",
       "      <td>POINT (-89.97992 35.19191)</td>\n",
       "      <td>0.825880</td>\n",
       "      <td>0.414013</td>\n",
       "      <td>0.084957</td>\n",
       "      <td>0.008286</td>\n",
       "      <td>0.174120</td>\n",
       "      <td>0.411868</td>\n",
       "      <td>0.329056</td>\n",
       "      <td>0.076671</td>\n",
       "      <td>0.008286</td>\n",
       "      <td>yes</td>\n",
       "    </tr>\n",
       "  </tbody>\n",
       "</table>\n",
       "</div>"
      ],
      "text/plain": [
       "   nodenwid  fltytype  strctype utilfcltyc  flow  \\\n",
       "0        59         2         0       ESSL   0.0   \n",
       "1        58         2         0       ESSL   0.0   \n",
       "2        57         2         0       ESSL   0.0   \n",
       "3        56         2         0       ESSL   0.0   \n",
       "4        55         2         0       ESSL   0.0   \n",
       "\n",
       "                                   guid                    geometry      LS_0  \\\n",
       "0  75941d02-93bf-4ef9-87d3-d882384f6c10  POINT (-89.83611 35.28708)  0.887433   \n",
       "1  35909c93-4b29-4616-9cd3-989d8d604481  POINT (-89.84449 35.26734)  0.875883   \n",
       "2  ce7d3164-ffda-4ac0-a9fa-d88c927897cc  POINT (-89.98442 35.24436)  0.861667   \n",
       "3  b2bed3e1-f16c-483a-98e8-79dfd849d187  POINT (-89.95621 35.19269)  0.827201   \n",
       "4  ab011d7c-0e34-4e5d-9734-34f7858d4b68  POINT (-89.97992 35.19191)  0.825880   \n",
       "\n",
       "       LS_1      LS_2      LS_3      DS_0      DS_1      DS_2      DS_3  \\\n",
       "0  0.523024  0.136211  0.016086  0.112567  0.364409  0.386813  0.120125   \n",
       "1  0.499762  0.123873  0.014042  0.124117  0.376121  0.375889  0.109831   \n",
       "2  0.473129  0.110731  0.011980  0.138333  0.388538  0.362398  0.098751   \n",
       "3  0.416021  0.085761  0.008394  0.172799  0.411180  0.330260  0.077368   \n",
       "4  0.414013  0.084957  0.008286  0.174120  0.411868  0.329056  0.076671   \n",
       "\n",
       "       DS_4 haz_expose  \n",
       "0  0.016086        yes  \n",
       "1  0.014042        yes  \n",
       "2  0.011980        yes  \n",
       "3  0.008394        yes  \n",
       "4  0.008286        yes  "
      ]
     },
     "execution_count": 51,
     "metadata": {},
     "output_type": "execute_result"
    }
   ],
   "source": [
    "epf_df = epn_dataset.get_dataframe_from_shapefile()\n",
    "df_sub_result = pd.merge(epf_df, df_sub_dmg, on='guid', how='outer')\n",
    "df_sub_result.head()"
   ]
  },
  {
   "cell_type": "code",
   "execution_count": 52,
   "metadata": {},
   "outputs": [
    {
     "data": {
      "text/html": [
       "<div>\n",
       "<style scoped>\n",
       "    .dataframe tbody tr th:only-of-type {\n",
       "        vertical-align: middle;\n",
       "    }\n",
       "\n",
       "    .dataframe tbody tr th {\n",
       "        vertical-align: top;\n",
       "    }\n",
       "\n",
       "    .dataframe thead th {\n",
       "        text-align: right;\n",
       "    }\n",
       "</style>\n",
       "<table border=\"1\" class=\"dataframe\">\n",
       "  <thead>\n",
       "    <tr style=\"text-align: right;\">\n",
       "      <th></th>\n",
       "      <th>DS_0</th>\n",
       "      <th>DS_1</th>\n",
       "      <th>DS_2</th>\n",
       "      <th>DS_3</th>\n",
       "      <th>DS_4</th>\n",
       "      <th>total_count</th>\n",
       "    </tr>\n",
       "    <tr>\n",
       "      <th>utilfcltyc</th>\n",
       "      <th></th>\n",
       "      <th></th>\n",
       "      <th></th>\n",
       "      <th></th>\n",
       "      <th></th>\n",
       "      <th></th>\n",
       "    </tr>\n",
       "  </thead>\n",
       "  <tbody>\n",
       "    <tr>\n",
       "      <th>EPPL</th>\n",
       "      <td>0.205238</td>\n",
       "      <td>0.408037</td>\n",
       "      <td>0.304595</td>\n",
       "      <td>0.073325</td>\n",
       "      <td>0.008805</td>\n",
       "      <td>9</td>\n",
       "    </tr>\n",
       "    <tr>\n",
       "      <th>ESSH</th>\n",
       "      <td>0.216524</td>\n",
       "      <td>0.417698</td>\n",
       "      <td>0.294702</td>\n",
       "      <td>0.064186</td>\n",
       "      <td>0.006890</td>\n",
       "      <td>36</td>\n",
       "    </tr>\n",
       "    <tr>\n",
       "      <th>ESSL</th>\n",
       "      <td>0.224217</td>\n",
       "      <td>0.417787</td>\n",
       "      <td>0.289044</td>\n",
       "      <td>0.062292</td>\n",
       "      <td>0.006660</td>\n",
       "      <td>14</td>\n",
       "    </tr>\n",
       "  </tbody>\n",
       "</table>\n",
       "</div>"
      ],
      "text/plain": [
       "                DS_0      DS_1      DS_2      DS_3      DS_4  total_count\n",
       "utilfcltyc                                                               \n",
       "EPPL        0.205238  0.408037  0.304595  0.073325  0.008805            9\n",
       "ESSH        0.216524  0.417698  0.294702  0.064186  0.006890           36\n",
       "ESSL        0.224217  0.417787  0.289044  0.062292  0.006660           14"
      ]
     },
     "execution_count": 52,
     "metadata": {},
     "output_type": "execute_result"
    },
    {
     "data": {
      "image/png": "[encoded data removed]",
      "text/plain": [
       "<Figure size 432x288 with 1 Axes>"
      ]
     },
     "metadata": {
      "needs_background": "light"
     },
     "output_type": "display_data"
    }
   ],
   "source": [
    "grouped_epf_dmg = df_sub_result.groupby(by=['utilfcltyc'], as_index=True)\\\n",
    ".agg({'DS_0': 'mean', 'DS_1':'mean', 'DS_2': 'mean', 'DS_3': 'mean', 'DS_4': 'mean', 'guid': 'count'})\n",
    "grouped_epf_dmg.rename(columns={'guid': 'total_count'}, inplace=True)\n",
    "ax = grouped_epf_dmg[[\"DS_0\", \"DS_1\", \"DS_2\", \"DS_3\", \"DS_4\"]].plot.barh(stacked=True)\n",
    "ax.set_title(\"Stacked Bar Chart of Damage State Grouped by Structure Type\", fontsize=12)\n",
    "ax.set_xlabel(\"complete damage value\", fontsize=12)\n",
    "ax.legend(loc='center left', bbox_to_anchor=(1.0, 0.5))\n",
    "grouped_epf_dmg.head()"
   ]
  },
  {
   "cell_type": "markdown",
   "metadata": {},
   "source": [
    "##### 3-2-B) EPN Monte Carlo Analysis"
   ]
  },
  {
   "cell_type": "code",
   "execution_count": 53,
   "metadata": {},
   "outputs": [
    {
     "name": "stderr",
     "output_type": "stream",
     "text": [
      "INFO - utils.py:_init_num_threads() - Note: NumExpr detected 16 cores but \"NUMEXPR_MAX_THREADS\" not set, so enforcing safe limit of 8.\n",
      "INFO - utils.py:_init_num_threads() - NumExpr defaulting to 8 threads.\n",
      "INFO - utils.py:_init_num_threads() - Note: NumExpr detected 16 cores but \"NUMEXPR_MAX_THREADS\" not set, so enforcing safe limit of 8.\n",
      "INFO - utils.py:_init_num_threads() - NumExpr defaulting to 8 threads.\n",
      "INFO - utils.py:_init_num_threads() - Note: NumExpr detected 16 cores but \"NUMEXPR_MAX_THREADS\" not set, so enforcing safe limit of 8.\n",
      "INFO - utils.py:_init_num_threads() - NumExpr defaulting to 8 threads.\n",
      "INFO - utils.py:_init_num_threads() - Note: NumExpr detected 16 cores but \"NUMEXPR_MAX_THREADS\" not set, so enforcing safe limit of 8.\n",
      "INFO - utils.py:_init_num_threads() - NumExpr defaulting to 8 threads.\n",
      "INFO - utils.py:_init_num_threads() - Note: NumExpr detected 16 cores but \"NUMEXPR_MAX_THREADS\" not set, so enforcing safe limit of 8.\n",
      "INFO - utils.py:_init_num_threads() - NumExpr defaulting to 8 threads.\n",
      "INFO - utils.py:_init_num_threads() - Note: NumExpr detected 16 cores but \"NUMEXPR_MAX_THREADS\" not set, so enforcing safe limit of 8.\n",
      "INFO - utils.py:_init_num_threads() - NumExpr defaulting to 8 threads.\n",
      "INFO - utils.py:_init_num_threads() - Note: NumExpr detected 16 cores but \"NUMEXPR_MAX_THREADS\" not set, so enforcing safe limit of 8.\n",
      "INFO - utils.py:_init_num_threads() - NumExpr defaulting to 8 threads.\n",
      "INFO - utils.py:_init_num_threads() - Note: NumExpr detected 16 cores but \"NUMEXPR_MAX_THREADS\" not set, so enforcing safe limit of 8.\n",
      "INFO - utils.py:_init_num_threads() - NumExpr defaulting to 8 threads.\n",
      "INFO - utils.py:_init_num_threads() - Note: NumExpr detected 16 cores but \"NUMEXPR_MAX_THREADS\" not set, so enforcing safe limit of 8.\n",
      "INFO - utils.py:_init_num_threads() - NumExpr defaulting to 8 threads.\n",
      "INFO - utils.py:_init_num_threads() - Note: NumExpr detected 16 cores but \"NUMEXPR_MAX_THREADS\" not set, so enforcing safe limit of 8.\n",
      "INFO - utils.py:_init_num_threads() - NumExpr defaulting to 8 threads.\n",
      "INFO - utils.py:_init_num_threads() - Note: NumExpr detected 16 cores but \"NUMEXPR_MAX_THREADS\" not set, so enforcing safe limit of 8.\n",
      "INFO - utils.py:_init_num_threads() - NumExpr defaulting to 8 threads.\n",
      "INFO - utils.py:_init_num_threads() - Note: NumExpr detected 16 cores but \"NUMEXPR_MAX_THREADS\" not set, so enforcing safe limit of 8.\n",
      "INFO - utils.py:_init_num_threads() - NumExpr defaulting to 8 threads.\n",
      "INFO - utils.py:_init_num_threads() - Note: NumExpr detected 16 cores but \"NUMEXPR_MAX_THREADS\" not set, so enforcing safe limit of 8.\n",
      "INFO - utils.py:_init_num_threads() - NumExpr defaulting to 8 threads.\n",
      "INFO - utils.py:_init_num_threads() - Note: NumExpr detected 16 cores but \"NUMEXPR_MAX_THREADS\" not set, so enforcing safe limit of 8.\n",
      "INFO - utils.py:_init_num_threads() - NumExpr defaulting to 8 threads.\n",
      "INFO - utils.py:_init_num_threads() - Note: NumExpr detected 16 cores but \"NUMEXPR_MAX_THREADS\" not set, so enforcing safe limit of 8.\n",
      "INFO - utils.py:_init_num_threads() - NumExpr defaulting to 8 threads.\n",
      "INFO - utils.py:_init_num_threads() - Note: NumExpr detected 16 cores but \"NUMEXPR_MAX_THREADS\" not set, so enforcing safe limit of 8.\n",
      "INFO - utils.py:_init_num_threads() - NumExpr defaulting to 8 threads.\n"
     ]
    },
    {
     "data": {
      "text/plain": [
       "True"
      ]
     },
     "execution_count": 53,
     "metadata": {},
     "output_type": "execute_result"
    }
   ],
   "source": [
    "from pyincore.analyses.montecarlofailureprobability import MonteCarloFailureProbability\n",
    "\n",
    "num_samples = 10000\n",
    "mc_sub = MonteCarloFailureProbability(client)\n",
    "\n",
    "result_name = fp + \"3_MMSA_EPN_substations_mc_failure_probability\"\n",
    "mc_sub.set_input_dataset(\"damage\", substation_dmg_result)\n",
    "mc_sub.set_parameter(\"num_cpu\", 16)\n",
    "mc_sub.set_parameter(\"num_samples\", num_samples)\n",
    "mc_sub.set_parameter(\"damage_interval_keys\", [\"DS_0\", \"DS_1\", \"DS_2\", \"DS_3\", \"DS_4\"])\n",
    "mc_sub.set_parameter(\"failure_state_keys\", [\"DS_3\", \"DS_4\"])\n",
    "\n",
    "mc_sub.set_parameter(\"result_name\", result_name) # name of csv file with results\n",
    "mc_sub.run_analysis()"
   ]
  },
  {
   "cell_type": "code",
   "execution_count": 54,
   "metadata": {},
   "outputs": [
    {
     "data": {
      "text/html": [
       "<div>\n",
       "<style scoped>\n",
       "    .dataframe tbody tr th:only-of-type {\n",
       "        vertical-align: middle;\n",
       "    }\n",
       "\n",
       "    .dataframe tbody tr th {\n",
       "        vertical-align: top;\n",
       "    }\n",
       "\n",
       "    .dataframe thead th {\n",
       "        text-align: right;\n",
       "    }\n",
       "</style>\n",
       "<table border=\"1\" class=\"dataframe\">\n",
       "  <thead>\n",
       "    <tr style=\"text-align: right;\">\n",
       "      <th></th>\n",
       "      <th>guid</th>\n",
       "      <th>LS_0</th>\n",
       "      <th>LS_1</th>\n",
       "      <th>LS_2</th>\n",
       "      <th>LS_3</th>\n",
       "      <th>DS_0</th>\n",
       "      <th>DS_1</th>\n",
       "      <th>DS_2</th>\n",
       "      <th>DS_3</th>\n",
       "      <th>DS_4</th>\n",
       "      <th>haz_expose</th>\n",
       "      <th>failure_probability</th>\n",
       "    </tr>\n",
       "  </thead>\n",
       "  <tbody>\n",
       "    <tr>\n",
       "      <th>0</th>\n",
       "      <td>75941d02-93bf-4ef9-87d3-d882384f6c10</td>\n",
       "      <td>0.887433</td>\n",
       "      <td>0.523024</td>\n",
       "      <td>0.136211</td>\n",
       "      <td>0.016086</td>\n",
       "      <td>0.112567</td>\n",
       "      <td>0.364409</td>\n",
       "      <td>0.386813</td>\n",
       "      <td>0.120125</td>\n",
       "      <td>0.016086</td>\n",
       "      <td>yes</td>\n",
       "      <td>0.1291</td>\n",
       "    </tr>\n",
       "    <tr>\n",
       "      <th>1</th>\n",
       "      <td>35909c93-4b29-4616-9cd3-989d8d604481</td>\n",
       "      <td>0.875883</td>\n",
       "      <td>0.499762</td>\n",
       "      <td>0.123873</td>\n",
       "      <td>0.014042</td>\n",
       "      <td>0.124117</td>\n",
       "      <td>0.376121</td>\n",
       "      <td>0.375889</td>\n",
       "      <td>0.109831</td>\n",
       "      <td>0.014042</td>\n",
       "      <td>yes</td>\n",
       "      <td>0.1295</td>\n",
       "    </tr>\n",
       "    <tr>\n",
       "      <th>2</th>\n",
       "      <td>ce7d3164-ffda-4ac0-a9fa-d88c927897cc</td>\n",
       "      <td>0.861667</td>\n",
       "      <td>0.473129</td>\n",
       "      <td>0.110731</td>\n",
       "      <td>0.011980</td>\n",
       "      <td>0.138333</td>\n",
       "      <td>0.388538</td>\n",
       "      <td>0.362398</td>\n",
       "      <td>0.098751</td>\n",
       "      <td>0.011980</td>\n",
       "      <td>yes</td>\n",
       "      <td>0.1163</td>\n",
       "    </tr>\n",
       "    <tr>\n",
       "      <th>3</th>\n",
       "      <td>b2bed3e1-f16c-483a-98e8-79dfd849d187</td>\n",
       "      <td>0.827201</td>\n",
       "      <td>0.416021</td>\n",
       "      <td>0.085761</td>\n",
       "      <td>0.008394</td>\n",
       "      <td>0.172799</td>\n",
       "      <td>0.411180</td>\n",
       "      <td>0.330260</td>\n",
       "      <td>0.077368</td>\n",
       "      <td>0.008394</td>\n",
       "      <td>yes</td>\n",
       "      <td>0.0857</td>\n",
       "    </tr>\n",
       "    <tr>\n",
       "      <th>4</th>\n",
       "      <td>ab011d7c-0e34-4e5d-9734-34f7858d4b68</td>\n",
       "      <td>0.825880</td>\n",
       "      <td>0.414013</td>\n",
       "      <td>0.084957</td>\n",
       "      <td>0.008286</td>\n",
       "      <td>0.174120</td>\n",
       "      <td>0.411868</td>\n",
       "      <td>0.329056</td>\n",
       "      <td>0.076671</td>\n",
       "      <td>0.008286</td>\n",
       "      <td>yes</td>\n",
       "      <td>0.0822</td>\n",
       "    </tr>\n",
       "  </tbody>\n",
       "</table>\n",
       "</div>"
      ],
      "text/plain": [
       "                                   guid      LS_0      LS_1      LS_2  \\\n",
       "0  75941d02-93bf-4ef9-87d3-d882384f6c10  0.887433  0.523024  0.136211   \n",
       "1  35909c93-4b29-4616-9cd3-989d8d604481  0.875883  0.499762  0.123873   \n",
       "2  ce7d3164-ffda-4ac0-a9fa-d88c927897cc  0.861667  0.473129  0.110731   \n",
       "3  b2bed3e1-f16c-483a-98e8-79dfd849d187  0.827201  0.416021  0.085761   \n",
       "4  ab011d7c-0e34-4e5d-9734-34f7858d4b68  0.825880  0.414013  0.084957   \n",
       "\n",
       "       LS_3      DS_0      DS_1      DS_2      DS_3      DS_4 haz_expose  \\\n",
       "0  0.016086  0.112567  0.364409  0.386813  0.120125  0.016086        yes   \n",
       "1  0.014042  0.124117  0.376121  0.375889  0.109831  0.014042        yes   \n",
       "2  0.011980  0.138333  0.388538  0.362398  0.098751  0.011980        yes   \n",
       "3  0.008394  0.172799  0.411180  0.330260  0.077368  0.008394        yes   \n",
       "4  0.008286  0.174120  0.411868  0.329056  0.076671  0.008286        yes   \n",
       "\n",
       "   failure_probability  \n",
       "0               0.1291  \n",
       "1               0.1295  \n",
       "2               0.1163  \n",
       "3               0.0857  \n",
       "4               0.0822  "
      ]
     },
     "execution_count": 54,
     "metadata": {},
     "output_type": "execute_result"
    }
   ],
   "source": [
    "substation_failure_probability = mc_sub.get_output_dataset('failure_probability')  # get buildings failure probabilities\n",
    "\n",
    "df_substation_fail = substation_failure_probability.get_dataframe_from_csv()\n",
    "df_substation_fail.head()"
   ]
  },
  {
   "cell_type": "code",
   "execution_count": 55,
   "metadata": {},
   "outputs": [
    {
     "data": {
      "text/html": [
       "<div>\n",
       "<style scoped>\n",
       "    .dataframe tbody tr th:only-of-type {\n",
       "        vertical-align: middle;\n",
       "    }\n",
       "\n",
       "    .dataframe tbody tr th {\n",
       "        vertical-align: top;\n",
       "    }\n",
       "\n",
       "    .dataframe thead th {\n",
       "        text-align: right;\n",
       "    }\n",
       "</style>\n",
       "<table border=\"1\" class=\"dataframe\">\n",
       "  <thead>\n",
       "    <tr style=\"text-align: right;\">\n",
       "      <th></th>\n",
       "      <th>guid</th>\n",
       "      <th>failure</th>\n",
       "    </tr>\n",
       "  </thead>\n",
       "  <tbody>\n",
       "    <tr>\n",
       "      <th>0</th>\n",
       "      <td>75941d02-93bf-4ef9-87d3-d882384f6c10</td>\n",
       "      <td>0,1,1,0,1,1,1,1,1,0,1,1,1,1,0,1,1,1,1,1,1,1,1,...</td>\n",
       "    </tr>\n",
       "    <tr>\n",
       "      <th>1</th>\n",
       "      <td>35909c93-4b29-4616-9cd3-989d8d604481</td>\n",
       "      <td>1,1,1,1,1,1,1,1,1,1,0,1,1,0,1,1,1,0,1,0,1,1,1,...</td>\n",
       "    </tr>\n",
       "    <tr>\n",
       "      <th>2</th>\n",
       "      <td>ce7d3164-ffda-4ac0-a9fa-d88c927897cc</td>\n",
       "      <td>1,1,0,1,1,1,1,1,1,1,1,1,1,1,1,1,0,1,1,1,1,1,1,...</td>\n",
       "    </tr>\n",
       "    <tr>\n",
       "      <th>3</th>\n",
       "      <td>b2bed3e1-f16c-483a-98e8-79dfd849d187</td>\n",
       "      <td>1,1,1,1,1,0,1,1,1,1,1,1,1,1,1,1,1,1,1,1,1,1,1,...</td>\n",
       "    </tr>\n",
       "    <tr>\n",
       "      <th>4</th>\n",
       "      <td>ab011d7c-0e34-4e5d-9734-34f7858d4b68</td>\n",
       "      <td>1,1,1,1,1,1,1,1,1,1,1,1,0,0,1,1,1,1,1,1,1,0,1,...</td>\n",
       "    </tr>\n",
       "  </tbody>\n",
       "</table>\n",
       "</div>"
      ],
      "text/plain": [
       "                                   guid  \\\n",
       "0  75941d02-93bf-4ef9-87d3-d882384f6c10   \n",
       "1  35909c93-4b29-4616-9cd3-989d8d604481   \n",
       "2  ce7d3164-ffda-4ac0-a9fa-d88c927897cc   \n",
       "3  b2bed3e1-f16c-483a-98e8-79dfd849d187   \n",
       "4  ab011d7c-0e34-4e5d-9734-34f7858d4b68   \n",
       "\n",
       "                                             failure  \n",
       "0  0,1,1,0,1,1,1,1,1,0,1,1,1,1,0,1,1,1,1,1,1,1,1,...  \n",
       "1  1,1,1,1,1,1,1,1,1,1,0,1,1,0,1,1,1,0,1,0,1,1,1,...  \n",
       "2  1,1,0,1,1,1,1,1,1,1,1,1,1,1,1,1,0,1,1,1,1,1,1,...  \n",
       "3  1,1,1,1,1,0,1,1,1,1,1,1,1,1,1,1,1,1,1,1,1,1,1,...  \n",
       "4  1,1,1,1,1,1,1,1,1,1,1,1,0,0,1,1,1,1,1,1,1,0,1,...  "
      ]
     },
     "execution_count": 55,
     "metadata": {},
     "output_type": "execute_result"
    }
   ],
   "source": [
    "substation_damage_mcs_samples = mc_sub.get_output_dataset('sample_failure_state')\n",
    "\n",
    "sdmcs = substation_damage_mcs_samples.get_dataframe_from_csv()\n",
    "sdmcs.head()"
   ]
  },
  {
   "cell_type": "markdown",
   "metadata": {},
   "source": [
    "### 3-3) Water Distribution System Analysis"
   ]
  },
  {
   "cell_type": "markdown",
   "metadata": {},
   "source": [
    "This section perform damage analysis of WDS including water facility and pipelines. \n",
    "\n"
   ]
  },
  {
   "cell_type": "markdown",
   "metadata": {},
   "source": [
    "#### 3-3-A) Water Facility (WF) Damage Analysis"
   ]
  },
  {
   "cell_type": "markdown",
   "metadata": {},
   "source": [
    "Hazus fragility functions used to analyze the water facilities."
   ]
  },
  {
   "cell_type": "code",
   "execution_count": 56,
   "metadata": {},
   "outputs": [
    {
     "name": "stderr",
     "output_type": "stream",
     "text": [
      "INFO - collection.py:crs() - Failed to auto identify EPSG: 7\n"
     ]
    },
    {
     "name": "stdout",
     "output_type": "stream",
     "text": [
      "['PSTAS' 'PPPL']\n"
     ]
    }
   ],
   "source": [
    "# Water facility inventory for Shelby County, TN\n",
    "facility_dataset_id = \"5a284f2ac7d30d13bc081e52\" # Mem_water_node5.dbf = 2 node types\n",
    "\n",
    "# Default water facility fragility mapping\n",
    "#mapping_id = \"5b47c3b1337d4a387e85564b\"  # Hazus Potable Water Facility Fragility Mapping - Only PGA\n",
    "mapping_id = \"5b47c383337d4a387669d592\" #Potable Water Facility Fragility Mapping for INA - Has PGD\n",
    "fragility_key = \"pga\"\n",
    "\n",
    "# Liquefaction parameters\n",
    "liq_geology_dataset_id =  \"5a284f53c7d30d13bc08249c\"\n",
    "liquefaction = False\n",
    "liq_fragility_key = \"pgd\"\n",
    "\n",
    "# Hazard uncertainty\n",
    "uncertainty = False\n",
    "facility_dataset = Dataset.from_data_service(facility_dataset_id, DataService(client))\n",
    "df_inv_facility = facility_dataset.get_dataframe_from_shapefile()\n",
    "\n",
    "print(df_inv_facility.utilfcltyc.unique())"
   ]
  },
  {
   "cell_type": "code",
   "execution_count": 57,
   "metadata": {},
   "outputs": [
    {
     "data": {
      "text/html": [
       "<div>\n",
       "<style scoped>\n",
       "    .dataframe tbody tr th:only-of-type {\n",
       "        vertical-align: middle;\n",
       "    }\n",
       "\n",
       "    .dataframe tbody tr th {\n",
       "        vertical-align: top;\n",
       "    }\n",
       "\n",
       "    .dataframe thead th {\n",
       "        text-align: right;\n",
       "    }\n",
       "</style>\n",
       "<table border=\"1\" class=\"dataframe\">\n",
       "  <thead>\n",
       "    <tr style=\"text-align: right;\">\n",
       "      <th></th>\n",
       "      <th>nodenwid</th>\n",
       "      <th>fltytype</th>\n",
       "      <th>strctype</th>\n",
       "      <th>utilfcltyc</th>\n",
       "      <th>backuppowe</th>\n",
       "      <th>flow</th>\n",
       "      <th>guid</th>\n",
       "      <th>geometry</th>\n",
       "    </tr>\n",
       "  </thead>\n",
       "  <tbody>\n",
       "    <tr>\n",
       "      <th>0</th>\n",
       "      <td>49</td>\n",
       "      <td>1</td>\n",
       "      <td>0</td>\n",
       "      <td>PSTAS</td>\n",
       "      <td>0</td>\n",
       "      <td>-2.0</td>\n",
       "      <td>a007a9b0-c2ec-4bdc-beec-8c92e3b515dd</td>\n",
       "      <td>POINT (-89.67220 35.38030)</td>\n",
       "    </tr>\n",
       "    <tr>\n",
       "      <th>1</th>\n",
       "      <td>48</td>\n",
       "      <td>1</td>\n",
       "      <td>0</td>\n",
       "      <td>PSTAS</td>\n",
       "      <td>0</td>\n",
       "      <td>-1.0</td>\n",
       "      <td>5a968e23-b0d3-4677-abd1-5767f3cad8ee</td>\n",
       "      <td>POINT (-89.91048 35.38670)</td>\n",
       "    </tr>\n",
       "    <tr>\n",
       "      <th>2</th>\n",
       "      <td>47</td>\n",
       "      <td>1</td>\n",
       "      <td>0</td>\n",
       "      <td>PSTAS</td>\n",
       "      <td>0</td>\n",
       "      <td>-1.0</td>\n",
       "      <td>22206135-813f-4455-9f42-7cff7b21688c</td>\n",
       "      <td>POINT (-89.95240 35.38589)</td>\n",
       "    </tr>\n",
       "    <tr>\n",
       "      <th>3</th>\n",
       "      <td>46</td>\n",
       "      <td>1</td>\n",
       "      <td>0</td>\n",
       "      <td>PSTAS</td>\n",
       "      <td>0</td>\n",
       "      <td>-2.0</td>\n",
       "      <td>e1bce78d-00a1-4605-95f3-3776ff907f73</td>\n",
       "      <td>POINT (-89.91344 35.36385)</td>\n",
       "    </tr>\n",
       "    <tr>\n",
       "      <th>4</th>\n",
       "      <td>45</td>\n",
       "      <td>1</td>\n",
       "      <td>0</td>\n",
       "      <td>PSTAS</td>\n",
       "      <td>0</td>\n",
       "      <td>-1.0</td>\n",
       "      <td>ddadb420-6057-49f6-8d29-3467906a1452</td>\n",
       "      <td>POINT (-89.94969 35.36866)</td>\n",
       "    </tr>\n",
       "  </tbody>\n",
       "</table>\n",
       "</div>"
      ],
      "text/plain": [
       "   nodenwid  fltytype  strctype utilfcltyc  backuppowe  flow  \\\n",
       "0        49         1         0      PSTAS           0  -2.0   \n",
       "1        48         1         0      PSTAS           0  -1.0   \n",
       "2        47         1         0      PSTAS           0  -1.0   \n",
       "3        46         1         0      PSTAS           0  -2.0   \n",
       "4        45         1         0      PSTAS           0  -1.0   \n",
       "\n",
       "                                   guid                    geometry  \n",
       "0  a007a9b0-c2ec-4bdc-beec-8c92e3b515dd  POINT (-89.67220 35.38030)  \n",
       "1  5a968e23-b0d3-4677-abd1-5767f3cad8ee  POINT (-89.91048 35.38670)  \n",
       "2  22206135-813f-4455-9f42-7cff7b21688c  POINT (-89.95240 35.38589)  \n",
       "3  e1bce78d-00a1-4605-95f3-3776ff907f73  POINT (-89.91344 35.36385)  \n",
       "4  ddadb420-6057-49f6-8d29-3467906a1452  POINT (-89.94969 35.36866)  "
      ]
     },
     "execution_count": 57,
     "metadata": {},
     "output_type": "execute_result"
    }
   ],
   "source": [
    "df_inv_facility.head()"
   ]
  },
  {
   "cell_type": "code",
   "execution_count": 58,
   "metadata": {
    "jupyter": {
     "outputs_hidden": false
    },
    "pycharm": {
     "name": "#%%\n"
    }
   },
   "outputs": [
    {
     "name": "stdout",
     "output_type": "stream",
     "text": [
      "Dataset already exists locally. Reading from local cached zip.\n",
      "Unzipped folder found in the local cache. Reading from it...\n"
     ]
    },
    {
     "data": {
      "text/plain": [
       "True"
      ]
     },
     "execution_count": 58,
     "metadata": {},
     "output_type": "execute_result"
    }
   ],
   "source": [
    "# Create water facility damage analysis\n",
    "wf_dmg = WaterFacilityDamage(client)\n",
    "\n",
    "# Load water facility inventory dataset\n",
    "wf_dmg.load_remote_input_dataset(\"water_facilities\", facility_dataset_id)\n",
    "\n",
    "# Load fragility mapping\n",
    "fragility_service = FragilityService(client)\n",
    "mapping_set = MappingSet(fragility_service.get_mapping(mapping_id))\n",
    "wf_dmg.set_input_dataset(\"dfr3_mapping_set\", mapping_set)"
   ]
  },
  {
   "cell_type": "code",
   "execution_count": 59,
   "metadata": {
    "jupyter": {
     "outputs_hidden": false
    },
    "pycharm": {
     "name": "#%%\n"
    }
   },
   "outputs": [
    {
     "data": {
      "text/plain": [
       "True"
      ]
     },
     "execution_count": 59,
     "metadata": {},
     "output_type": "execute_result"
    }
   ],
   "source": [
    "# Specify result name\n",
    "result_name = fp + \"2_MMSA_facility_dmg_result\"\n",
    "\n",
    "# Set analysis parameters\n",
    "wf_dmg.set_parameter(\"result_name\", result_name)\n",
    "wf_dmg.set_parameter(\"hazard_type\", hazard_type)\n",
    "wf_dmg.set_parameter(\"hazard_id\", hazard_id)\n",
    "wf_dmg.set_parameter(\"fragility_key\", fragility_key)\n",
    "wf_dmg.set_parameter(\"use_liquefaction\", liquefaction)\n",
    "wf_dmg.set_parameter(\"liquefaction_geology_dataset_id\", liq_geology_dataset_id)\n",
    "wf_dmg.set_parameter(\"liquefaction_fragility_key\", liq_fragility_key)\n",
    "wf_dmg.set_parameter(\"use_hazard_uncertainty\", uncertainty)\n",
    "wf_dmg.set_parameter(\"num_cpu\", 4)"
   ]
  },
  {
   "cell_type": "code",
   "execution_count": 60,
   "metadata": {
    "jupyter": {
     "outputs_hidden": false
    },
    "pycharm": {
     "name": "#%%\n"
    }
   },
   "outputs": [
    {
     "name": "stderr",
     "output_type": "stream",
     "text": [
      "INFO - utils.py:_init_num_threads() - Note: NumExpr detected 16 cores but \"NUMEXPR_MAX_THREADS\" not set, so enforcing safe limit of 8.\n",
      "INFO - utils.py:_init_num_threads() - NumExpr defaulting to 8 threads.\n",
      "INFO - utils.py:_init_num_threads() - Note: NumExpr detected 16 cores but \"NUMEXPR_MAX_THREADS\" not set, so enforcing safe limit of 8.\n",
      "INFO - utils.py:_init_num_threads() - NumExpr defaulting to 8 threads.\n",
      "INFO - utils.py:_init_num_threads() - Note: NumExpr detected 16 cores but \"NUMEXPR_MAX_THREADS\" not set, so enforcing safe limit of 8.\n",
      "INFO - utils.py:_init_num_threads() - NumExpr defaulting to 8 threads.\n",
      "INFO - utils.py:_init_num_threads() - Note: NumExpr detected 16 cores but \"NUMEXPR_MAX_THREADS\" not set, so enforcing safe limit of 8.\n",
      "INFO - utils.py:_init_num_threads() - NumExpr defaulting to 8 threads.\n"
     ]
    },
    {
     "data": {
      "text/plain": [
       "True"
      ]
     },
     "execution_count": 60,
     "metadata": {},
     "output_type": "execute_result"
    }
   ],
   "source": [
    "# Run water facility damage analysis\n",
    "wf_dmg.run_analysis()"
   ]
  },
  {
   "cell_type": "code",
   "execution_count": 61,
   "metadata": {},
   "outputs": [
    {
     "data": {
      "text/html": [
       "<div>\n",
       "<style scoped>\n",
       "    .dataframe tbody tr th:only-of-type {\n",
       "        vertical-align: middle;\n",
       "    }\n",
       "\n",
       "    .dataframe tbody tr th {\n",
       "        vertical-align: top;\n",
       "    }\n",
       "\n",
       "    .dataframe thead th {\n",
       "        text-align: right;\n",
       "    }\n",
       "</style>\n",
       "<table border=\"1\" class=\"dataframe\">\n",
       "  <thead>\n",
       "    <tr style=\"text-align: right;\">\n",
       "      <th></th>\n",
       "      <th>guid</th>\n",
       "      <th>LS_0</th>\n",
       "      <th>LS_1</th>\n",
       "      <th>LS_2</th>\n",
       "      <th>LS_3</th>\n",
       "      <th>DS_0</th>\n",
       "      <th>DS_1</th>\n",
       "      <th>DS_2</th>\n",
       "      <th>DS_3</th>\n",
       "      <th>DS_4</th>\n",
       "      <th>haz_expose</th>\n",
       "    </tr>\n",
       "  </thead>\n",
       "  <tbody>\n",
       "    <tr>\n",
       "      <th>0</th>\n",
       "      <td>a007a9b0-c2ec-4bdc-beec-8c92e3b515dd</td>\n",
       "      <td>0.920681</td>\n",
       "      <td>0.600414</td>\n",
       "      <td>0.183840</td>\n",
       "      <td>0.024956</td>\n",
       "      <td>0.079319</td>\n",
       "      <td>0.320266</td>\n",
       "      <td>0.416574</td>\n",
       "      <td>0.158884</td>\n",
       "      <td>0.024956</td>\n",
       "      <td>yes</td>\n",
       "    </tr>\n",
       "    <tr>\n",
       "      <th>1</th>\n",
       "      <td>5a968e23-b0d3-4677-abd1-5767f3cad8ee</td>\n",
       "      <td>0.940153</td>\n",
       "      <td>0.655722</td>\n",
       "      <td>0.225295</td>\n",
       "      <td>0.033957</td>\n",
       "      <td>0.059847</td>\n",
       "      <td>0.284431</td>\n",
       "      <td>0.430426</td>\n",
       "      <td>0.191339</td>\n",
       "      <td>0.033957</td>\n",
       "      <td>yes</td>\n",
       "    </tr>\n",
       "    <tr>\n",
       "      <th>2</th>\n",
       "      <td>22206135-813f-4455-9f42-7cff7b21688c</td>\n",
       "      <td>0.939535</td>\n",
       "      <td>0.653812</td>\n",
       "      <td>0.223743</td>\n",
       "      <td>0.033598</td>\n",
       "      <td>0.060465</td>\n",
       "      <td>0.285723</td>\n",
       "      <td>0.430069</td>\n",
       "      <td>0.190145</td>\n",
       "      <td>0.033598</td>\n",
       "      <td>yes</td>\n",
       "    </tr>\n",
       "    <tr>\n",
       "      <th>3</th>\n",
       "      <td>e1bce78d-00a1-4605-95f3-3776ff907f73</td>\n",
       "      <td>0.930022</td>\n",
       "      <td>0.625784</td>\n",
       "      <td>0.201989</td>\n",
       "      <td>0.028748</td>\n",
       "      <td>0.069978</td>\n",
       "      <td>0.304238</td>\n",
       "      <td>0.423795</td>\n",
       "      <td>0.173241</td>\n",
       "      <td>0.028748</td>\n",
       "      <td>yes</td>\n",
       "    </tr>\n",
       "    <tr>\n",
       "      <th>4</th>\n",
       "      <td>ddadb420-6057-49f6-8d29-3467906a1452</td>\n",
       "      <td>0.931985</td>\n",
       "      <td>0.631374</td>\n",
       "      <td>0.206179</td>\n",
       "      <td>0.029656</td>\n",
       "      <td>0.068015</td>\n",
       "      <td>0.300611</td>\n",
       "      <td>0.425195</td>\n",
       "      <td>0.176524</td>\n",
       "      <td>0.029656</td>\n",
       "      <td>yes</td>\n",
       "    </tr>\n",
       "  </tbody>\n",
       "</table>\n",
       "</div>"
      ],
      "text/plain": [
       "                                   guid      LS_0      LS_1      LS_2  \\\n",
       "0  a007a9b0-c2ec-4bdc-beec-8c92e3b515dd  0.920681  0.600414  0.183840   \n",
       "1  5a968e23-b0d3-4677-abd1-5767f3cad8ee  0.940153  0.655722  0.225295   \n",
       "2  22206135-813f-4455-9f42-7cff7b21688c  0.939535  0.653812  0.223743   \n",
       "3  e1bce78d-00a1-4605-95f3-3776ff907f73  0.930022  0.625784  0.201989   \n",
       "4  ddadb420-6057-49f6-8d29-3467906a1452  0.931985  0.631374  0.206179   \n",
       "\n",
       "       LS_3      DS_0      DS_1      DS_2      DS_3      DS_4 haz_expose  \n",
       "0  0.024956  0.079319  0.320266  0.416574  0.158884  0.024956        yes  \n",
       "1  0.033957  0.059847  0.284431  0.430426  0.191339  0.033957        yes  \n",
       "2  0.033598  0.060465  0.285723  0.430069  0.190145  0.033598        yes  \n",
       "3  0.028748  0.069978  0.304238  0.423795  0.173241  0.028748        yes  \n",
       "4  0.029656  0.068015  0.300611  0.425195  0.176524  0.029656        yes  "
      ]
     },
     "execution_count": 61,
     "metadata": {},
     "output_type": "execute_result"
    }
   ],
   "source": [
    "waterfacility_dmg_result = wf_dmg.get_output_dataset(\"result\")\n",
    "\n",
    "# Convert dataset to Pandas DataFrame\n",
    "df_waterfacility_dmg = waterfacility_dmg_result.get_dataframe_from_csv()\n",
    "df_waterfacility_dmg.head()"
   ]
  },
  {
   "cell_type": "markdown",
   "metadata": {},
   "source": [
    "#### 3-3-B) Water Facility (WF) MC Simulations"
   ]
  },
  {
   "cell_type": "code",
   "execution_count": 62,
   "metadata": {},
   "outputs": [
    {
     "name": "stderr",
     "output_type": "stream",
     "text": [
      "INFO - utils.py:_init_num_threads() - Note: NumExpr detected 16 cores but \"NUMEXPR_MAX_THREADS\" not set, so enforcing safe limit of 8.\n",
      "INFO - utils.py:_init_num_threads() - NumExpr defaulting to 8 threads.\n",
      "INFO - utils.py:_init_num_threads() - Note: NumExpr detected 16 cores but \"NUMEXPR_MAX_THREADS\" not set, so enforcing safe limit of 8.\n",
      "INFO - utils.py:_init_num_threads() - NumExpr defaulting to 8 threads.\n",
      "INFO - utils.py:_init_num_threads() - Note: NumExpr detected 16 cores but \"NUMEXPR_MAX_THREADS\" not set, so enforcing safe limit of 8.\n",
      "INFO - utils.py:_init_num_threads() - NumExpr defaulting to 8 threads.\n",
      "INFO - utils.py:_init_num_threads() - Note: NumExpr detected 16 cores but \"NUMEXPR_MAX_THREADS\" not set, so enforcing safe limit of 8.\n",
      "INFO - utils.py:_init_num_threads() - NumExpr defaulting to 8 threads.\n",
      "INFO - utils.py:_init_num_threads() - Note: NumExpr detected 16 cores but \"NUMEXPR_MAX_THREADS\" not set, so enforcing safe limit of 8.\n",
      "INFO - utils.py:_init_num_threads() - NumExpr defaulting to 8 threads.\n",
      "INFO - utils.py:_init_num_threads() - Note: NumExpr detected 16 cores but \"NUMEXPR_MAX_THREADS\" not set, so enforcing safe limit of 8.\n",
      "INFO - utils.py:_init_num_threads() - NumExpr defaulting to 8 threads.\n",
      "INFO - utils.py:_init_num_threads() - Note: NumExpr detected 16 cores but \"NUMEXPR_MAX_THREADS\" not set, so enforcing safe limit of 8.\n",
      "INFO - utils.py:_init_num_threads() - NumExpr defaulting to 8 threads.\n",
      "INFO - utils.py:_init_num_threads() - Note: NumExpr detected 16 cores but \"NUMEXPR_MAX_THREADS\" not set, so enforcing safe limit of 8.\n",
      "INFO - utils.py:_init_num_threads() - NumExpr defaulting to 8 threads.\n"
     ]
    },
    {
     "data": {
      "text/plain": [
       "True"
      ]
     },
     "execution_count": 62,
     "metadata": {},
     "output_type": "execute_result"
    }
   ],
   "source": [
    "mc_wf = MonteCarloFailureProbability(client)\n",
    "num_samples = 10000\n",
    "mc_wf.set_input_dataset(\"damage\", waterfacility_dmg_result)\n",
    "mc_wf.set_parameter(\"result_name\", \"wf_dmg_mc\")\n",
    "mc_wf.set_parameter(\"num_cpu\", 8)\n",
    "mc_wf.set_parameter(\"num_samples\", num_samples)\n",
    "mc_wf.set_parameter(\"damage_interval_keys\", [\"DS_0\", \"DS_1\", \"DS_2\", \"DS_3\", \"DS_4\"])\n",
    "mc_wf.set_parameter(\"failure_state_keys\", [\"DS_3\", \"DS_4\"])\n",
    "mc_wf.run_analysis()"
   ]
  },
  {
   "cell_type": "code",
   "execution_count": 63,
   "metadata": {},
   "outputs": [
    {
     "data": {
      "text/html": [
       "<div>\n",
       "<style scoped>\n",
       "    .dataframe tbody tr th:only-of-type {\n",
       "        vertical-align: middle;\n",
       "    }\n",
       "\n",
       "    .dataframe tbody tr th {\n",
       "        vertical-align: top;\n",
       "    }\n",
       "\n",
       "    .dataframe thead th {\n",
       "        text-align: right;\n",
       "    }\n",
       "</style>\n",
       "<table border=\"1\" class=\"dataframe\">\n",
       "  <thead>\n",
       "    <tr style=\"text-align: right;\">\n",
       "      <th></th>\n",
       "      <th>guid</th>\n",
       "      <th>LS_0</th>\n",
       "      <th>LS_1</th>\n",
       "      <th>LS_2</th>\n",
       "      <th>LS_3</th>\n",
       "      <th>DS_0</th>\n",
       "      <th>DS_1</th>\n",
       "      <th>DS_2</th>\n",
       "      <th>DS_3</th>\n",
       "      <th>DS_4</th>\n",
       "      <th>haz_expose</th>\n",
       "      <th>failure_probability</th>\n",
       "    </tr>\n",
       "  </thead>\n",
       "  <tbody>\n",
       "    <tr>\n",
       "      <th>0</th>\n",
       "      <td>a007a9b0-c2ec-4bdc-beec-8c92e3b515dd</td>\n",
       "      <td>0.920681</td>\n",
       "      <td>0.600414</td>\n",
       "      <td>0.183840</td>\n",
       "      <td>0.024956</td>\n",
       "      <td>0.079319</td>\n",
       "      <td>0.320266</td>\n",
       "      <td>0.416574</td>\n",
       "      <td>0.158884</td>\n",
       "      <td>0.024956</td>\n",
       "      <td>yes</td>\n",
       "      <td>0.1837</td>\n",
       "    </tr>\n",
       "    <tr>\n",
       "      <th>1</th>\n",
       "      <td>5a968e23-b0d3-4677-abd1-5767f3cad8ee</td>\n",
       "      <td>0.940153</td>\n",
       "      <td>0.655722</td>\n",
       "      <td>0.225295</td>\n",
       "      <td>0.033957</td>\n",
       "      <td>0.059847</td>\n",
       "      <td>0.284431</td>\n",
       "      <td>0.430426</td>\n",
       "      <td>0.191339</td>\n",
       "      <td>0.033957</td>\n",
       "      <td>yes</td>\n",
       "      <td>0.2295</td>\n",
       "    </tr>\n",
       "    <tr>\n",
       "      <th>2</th>\n",
       "      <td>22206135-813f-4455-9f42-7cff7b21688c</td>\n",
       "      <td>0.939535</td>\n",
       "      <td>0.653812</td>\n",
       "      <td>0.223743</td>\n",
       "      <td>0.033598</td>\n",
       "      <td>0.060465</td>\n",
       "      <td>0.285723</td>\n",
       "      <td>0.430069</td>\n",
       "      <td>0.190145</td>\n",
       "      <td>0.033598</td>\n",
       "      <td>yes</td>\n",
       "      <td>0.2160</td>\n",
       "    </tr>\n",
       "    <tr>\n",
       "      <th>3</th>\n",
       "      <td>e1bce78d-00a1-4605-95f3-3776ff907f73</td>\n",
       "      <td>0.930022</td>\n",
       "      <td>0.625784</td>\n",
       "      <td>0.201989</td>\n",
       "      <td>0.028748</td>\n",
       "      <td>0.069978</td>\n",
       "      <td>0.304238</td>\n",
       "      <td>0.423795</td>\n",
       "      <td>0.173241</td>\n",
       "      <td>0.028748</td>\n",
       "      <td>yes</td>\n",
       "      <td>0.2071</td>\n",
       "    </tr>\n",
       "    <tr>\n",
       "      <th>4</th>\n",
       "      <td>ddadb420-6057-49f6-8d29-3467906a1452</td>\n",
       "      <td>0.931985</td>\n",
       "      <td>0.631374</td>\n",
       "      <td>0.206179</td>\n",
       "      <td>0.029656</td>\n",
       "      <td>0.068015</td>\n",
       "      <td>0.300611</td>\n",
       "      <td>0.425195</td>\n",
       "      <td>0.176524</td>\n",
       "      <td>0.029656</td>\n",
       "      <td>yes</td>\n",
       "      <td>0.2080</td>\n",
       "    </tr>\n",
       "  </tbody>\n",
       "</table>\n",
       "</div>"
      ],
      "text/plain": [
       "                                   guid      LS_0      LS_1      LS_2  \\\n",
       "0  a007a9b0-c2ec-4bdc-beec-8c92e3b515dd  0.920681  0.600414  0.183840   \n",
       "1  5a968e23-b0d3-4677-abd1-5767f3cad8ee  0.940153  0.655722  0.225295   \n",
       "2  22206135-813f-4455-9f42-7cff7b21688c  0.939535  0.653812  0.223743   \n",
       "3  e1bce78d-00a1-4605-95f3-3776ff907f73  0.930022  0.625784  0.201989   \n",
       "4  ddadb420-6057-49f6-8d29-3467906a1452  0.931985  0.631374  0.206179   \n",
       "\n",
       "       LS_3      DS_0      DS_1      DS_2      DS_3      DS_4 haz_expose  \\\n",
       "0  0.024956  0.079319  0.320266  0.416574  0.158884  0.024956        yes   \n",
       "1  0.033957  0.059847  0.284431  0.430426  0.191339  0.033957        yes   \n",
       "2  0.033598  0.060465  0.285723  0.430069  0.190145  0.033598        yes   \n",
       "3  0.028748  0.069978  0.304238  0.423795  0.173241  0.028748        yes   \n",
       "4  0.029656  0.068015  0.300611  0.425195  0.176524  0.029656        yes   \n",
       "\n",
       "   failure_probability  \n",
       "0               0.1837  \n",
       "1               0.2295  \n",
       "2               0.2160  \n",
       "3               0.2071  \n",
       "4               0.2080  "
      ]
     },
     "execution_count": 63,
     "metadata": {},
     "output_type": "execute_result"
    }
   ],
   "source": [
    "# get water facility failure probabilities\n",
    "waterfacility_failure_probability = mc_wf.get_output_dataset('failure_probability')  \n",
    "df_waterfacility_fail = waterfacility_failure_probability.get_dataframe_from_csv()\n",
    "df_waterfacility_fail.head()"
   ]
  },
  {
   "cell_type": "markdown",
   "metadata": {
    "pycharm": {
     "name": "#%% md\n"
    }
   },
   "source": [
    "#### 3-3-C) Pipeline Damage and Servicability Analysis"
   ]
  },
  {
   "cell_type": "markdown",
   "metadata": {},
   "source": [
    "Pipelines are analyzed using PipelineDamageRepairRate module of pyincore and subsequently the servicability index for each pipeline is estimated using Hazus procedure [5]\n"
   ]
  },
  {
   "cell_type": "code",
   "execution_count": 64,
   "metadata": {
    "jupyter": {
     "outputs_hidden": false
    },
    "pycharm": {
     "name": "#%%\n"
    }
   },
   "outputs": [],
   "source": [
    "# Water Buried Pipeline inventory in Shelby county, TN\n",
    "pipeline_dataset_id = \"5a284f28c7d30d13bc081d14\"\n",
    "\n",
    "# pipeline fragility mapping\n",
    "mapping_id = \"5b47c227337d4a38464efea8\"\n",
    "\n",
    "# Geology dataset\n",
    "liq_geology_dataset_id = \"5a284f53c7d30d13bc08249c\"\n",
    "liq_fragility_key = \"pgd\"\n",
    "\n",
    "use_liq = True\n",
    "use_liq = False"
   ]
  },
  {
   "cell_type": "code",
   "execution_count": 65,
   "metadata": {
    "jupyter": {
     "outputs_hidden": false
    },
    "pycharm": {
     "name": "#%%\n"
    }
   },
   "outputs": [
    {
     "data": {
      "text/html": [
       "<div>\n",
       "<style scoped>\n",
       "    .dataframe tbody tr th:only-of-type {\n",
       "        vertical-align: middle;\n",
       "    }\n",
       "\n",
       "    .dataframe tbody tr th {\n",
       "        vertical-align: top;\n",
       "    }\n",
       "\n",
       "    .dataframe thead th {\n",
       "        text-align: right;\n",
       "    }\n",
       "</style>\n",
       "<table border=\"1\" class=\"dataframe\">\n",
       "  <thead>\n",
       "    <tr style=\"text-align: right;\">\n",
       "      <th></th>\n",
       "      <th>linknwid</th>\n",
       "      <th>fromnode</th>\n",
       "      <th>tonode</th>\n",
       "      <th>direction</th>\n",
       "      <th>pipetype</th>\n",
       "      <th>jointtype</th>\n",
       "      <th>diameter</th>\n",
       "      <th>length</th>\n",
       "      <th>soiltype</th>\n",
       "      <th>capacity</th>\n",
       "      <th>guid</th>\n",
       "      <th>pipelinesc</th>\n",
       "      <th>pipelinehz</th>\n",
       "      <th>geometry</th>\n",
       "      <th>x</th>\n",
       "      <th>y</th>\n",
       "    </tr>\n",
       "  </thead>\n",
       "  <tbody>\n",
       "    <tr>\n",
       "      <th>0</th>\n",
       "      <td>70</td>\n",
       "      <td>46</td>\n",
       "      <td>48</td>\n",
       "      <td>0</td>\n",
       "      <td>Welded Steel</td>\n",
       "      <td>Lap Arc Welded</td>\n",
       "      <td>2.0</td>\n",
       "      <td>2.55</td>\n",
       "      <td>Corrosive</td>\n",
       "      <td>2000.0</td>\n",
       "      <td>0a076a0d-54fa-4f82-a8af-ce3bd227fcfa</td>\n",
       "      <td>PWP2</td>\n",
       "      <td>1</td>\n",
       "      <td>LINESTRING (-89.91048 35.38670, -89.91344 35.3...</td>\n",
       "      <td>-89.911958</td>\n",
       "      <td>35.375274</td>\n",
       "    </tr>\n",
       "    <tr>\n",
       "      <th>1</th>\n",
       "      <td>63</td>\n",
       "      <td>38</td>\n",
       "      <td>41</td>\n",
       "      <td>0</td>\n",
       "      <td>Welded Steel</td>\n",
       "      <td>Lap Arc Welded</td>\n",
       "      <td>2.0</td>\n",
       "      <td>2.18</td>\n",
       "      <td>Corrosive</td>\n",
       "      <td>2000.0</td>\n",
       "      <td>cee37f5e-6e62-40e6-be5a-485d5c78bd25</td>\n",
       "      <td>PWP2</td>\n",
       "      <td>1</td>\n",
       "      <td>LINESTRING (-89.75848 35.33466, -89.76512 35.3...</td>\n",
       "      <td>-89.761802</td>\n",
       "      <td>35.325240</td>\n",
       "    </tr>\n",
       "    <tr>\n",
       "      <th>2</th>\n",
       "      <td>4</td>\n",
       "      <td>2</td>\n",
       "      <td>3</td>\n",
       "      <td>0</td>\n",
       "      <td>Welded Steel</td>\n",
       "      <td>Lap Arc Welded</td>\n",
       "      <td>2.0</td>\n",
       "      <td>11.10</td>\n",
       "      <td>Corrosive</td>\n",
       "      <td>2000.0</td>\n",
       "      <td>77f5d8b6-ad73-4959-b357-0c512d8f2bcd</td>\n",
       "      <td>PWP2</td>\n",
       "      <td>1</td>\n",
       "      <td>LINESTRING (-90.11234 35.02180, -90.11320 35.0...</td>\n",
       "      <td>-90.060825</td>\n",
       "      <td>35.014531</td>\n",
       "    </tr>\n",
       "    <tr>\n",
       "      <th>3</th>\n",
       "      <td>33</td>\n",
       "      <td>10</td>\n",
       "      <td>30</td>\n",
       "      <td>1</td>\n",
       "      <td>Welded Steel</td>\n",
       "      <td>Lap Arc Welded</td>\n",
       "      <td>2.0</td>\n",
       "      <td>5.26</td>\n",
       "      <td>Corrosive</td>\n",
       "      <td>2000.0</td>\n",
       "      <td>07267d06-089e-4db7-a479-1794cdc23be3</td>\n",
       "      <td>PWP2</td>\n",
       "      <td>1</td>\n",
       "      <td>LINESTRING (-89.76882 35.20369, -89.74608 35.1...</td>\n",
       "      <td>-89.757452</td>\n",
       "      <td>35.181865</td>\n",
       "    </tr>\n",
       "    <tr>\n",
       "      <th>4</th>\n",
       "      <td>59</td>\n",
       "      <td>32</td>\n",
       "      <td>36</td>\n",
       "      <td>0</td>\n",
       "      <td>Welded Steel</td>\n",
       "      <td>Lap Arc Welded</td>\n",
       "      <td>2.0</td>\n",
       "      <td>12.20</td>\n",
       "      <td>Corrosive</td>\n",
       "      <td>2000.0</td>\n",
       "      <td>ec3d4c41-ae4a-4489-9984-1d96e7f4ae06</td>\n",
       "      <td>PWP2</td>\n",
       "      <td>1</td>\n",
       "      <td>LINESTRING (-89.65750 35.20729, -89.65645 35.2...</td>\n",
       "      <td>-89.685531</td>\n",
       "      <td>35.249394</td>\n",
       "    </tr>\n",
       "  </tbody>\n",
       "</table>\n",
       "</div>"
      ],
      "text/plain": [
       "   linknwid  fromnode  tonode  direction      pipetype       jointtype  \\\n",
       "0        70        46      48          0  Welded Steel  Lap Arc Welded   \n",
       "1        63        38      41          0  Welded Steel  Lap Arc Welded   \n",
       "2         4         2       3          0  Welded Steel  Lap Arc Welded   \n",
       "3        33        10      30          1  Welded Steel  Lap Arc Welded   \n",
       "4        59        32      36          0  Welded Steel  Lap Arc Welded   \n",
       "\n",
       "   diameter  length   soiltype  capacity  \\\n",
       "0       2.0    2.55  Corrosive    2000.0   \n",
       "1       2.0    2.18  Corrosive    2000.0   \n",
       "2       2.0   11.10  Corrosive    2000.0   \n",
       "3       2.0    5.26  Corrosive    2000.0   \n",
       "4       2.0   12.20  Corrosive    2000.0   \n",
       "\n",
       "                                   guid pipelinesc  pipelinehz  \\\n",
       "0  0a076a0d-54fa-4f82-a8af-ce3bd227fcfa       PWP2           1   \n",
       "1  cee37f5e-6e62-40e6-be5a-485d5c78bd25       PWP2           1   \n",
       "2  77f5d8b6-ad73-4959-b357-0c512d8f2bcd       PWP2           1   \n",
       "3  07267d06-089e-4db7-a479-1794cdc23be3       PWP2           1   \n",
       "4  ec3d4c41-ae4a-4489-9984-1d96e7f4ae06       PWP2           1   \n",
       "\n",
       "                                            geometry          x          y  \n",
       "0  LINESTRING (-89.91048 35.38670, -89.91344 35.3... -89.911958  35.375274  \n",
       "1  LINESTRING (-89.75848 35.33466, -89.76512 35.3... -89.761802  35.325240  \n",
       "2  LINESTRING (-90.11234 35.02180, -90.11320 35.0... -90.060825  35.014531  \n",
       "3  LINESTRING (-89.76882 35.20369, -89.74608 35.1... -89.757452  35.181865  \n",
       "4  LINESTRING (-89.65750 35.20729, -89.65645 35.2... -89.685531  35.249394  "
      ]
     },
     "execution_count": 65,
     "metadata": {},
     "output_type": "execute_result"
    }
   ],
   "source": [
    "pipeline_dataset = Dataset.from_data_service(pipeline_dataset_id, DataService(client))\n",
    "df_inv_pipeline = pipeline_dataset.get_dataframe_from_shapefile()\n",
    "df_inv_pipeline[\"x\"] = df_inv_pipeline.centroid.map(lambda p: p.x)\n",
    "df_inv_pipeline[\"y\"] = df_inv_pipeline.centroid.map(lambda p: p.y)\n",
    "df_inv_pipeline.head()"
   ]
  },
  {
   "cell_type": "code",
   "execution_count": 66,
   "metadata": {
    "jupyter": {
     "outputs_hidden": false
    },
    "pycharm": {
     "name": "#%%\n"
    }
   },
   "outputs": [
    {
     "name": "stdout",
     "output_type": "stream",
     "text": [
      "Dataset already exists locally. Reading from local cached zip.\n",
      "Unzipped folder found in the local cache. Reading from it...\n"
     ]
    },
    {
     "data": {
      "text/plain": [
       "True"
      ]
     },
     "execution_count": 66,
     "metadata": {},
     "output_type": "execute_result"
    }
   ],
   "source": [
    "# Create pipeline damage with repair rate\n",
    "pipeline_dmg_w_rr = PipelineDamageRepairRate(client)\n",
    "\n",
    "# Load pipeline inventory as input datasets\n",
    "pipeline_dmg_w_rr.load_remote_input_dataset(\"pipeline\", pipeline_dataset_id)\n",
    "\n",
    "# Load fragility mapping\n",
    "fragility_service = FragilityService(client)\n",
    "mapping_set = MappingSet(fragility_service.get_mapping(mapping_id))\n",
    "pipeline_dmg_w_rr.set_input_dataset(\"dfr3_mapping_set\", mapping_set)"
   ]
  },
  {
   "cell_type": "code",
   "execution_count": 67,
   "metadata": {
    "jupyter": {
     "outputs_hidden": false
    },
    "pycharm": {
     "name": "#%%\n"
    }
   },
   "outputs": [
    {
     "data": {
      "text/plain": [
       "True"
      ]
     },
     "execution_count": 67,
     "metadata": {},
     "output_type": "execute_result"
    }
   ],
   "source": [
    "# Specify the result name\n",
    "result_name = fp + \"2_MMSA_pipeline_dmg_result\"\n",
    "\n",
    "# Set analysis parameters\n",
    "pipeline_dmg_w_rr.set_parameter(\"result_name\", result_name)\n",
    "pipeline_dmg_w_rr.set_parameter(\"hazard_type\", hazard_type)\n",
    "pipeline_dmg_w_rr.set_parameter(\"hazard_id\", hazard_id)\n",
    "pipeline_dmg_w_rr.set_parameter(\"liquefaction_fragility_key\", liq_fragility_key)\n",
    "pipeline_dmg_w_rr.set_parameter(\"liquefaction_geology_dataset_id\",liq_geology_dataset_id)\n",
    "pipeline_dmg_w_rr.set_parameter(\"use_liquefaction\", use_liq)\n",
    "pipeline_dmg_w_rr.set_parameter(\"num_cpu\", 4)"
   ]
  },
  {
   "cell_type": "code",
   "execution_count": 68,
   "metadata": {
    "jupyter": {
     "outputs_hidden": false
    },
    "pycharm": {
     "name": "#%%\n"
    }
   },
   "outputs": [
    {
     "name": "stderr",
     "output_type": "stream",
     "text": [
      "INFO - utils.py:_init_num_threads() - Note: NumExpr detected 16 cores but \"NUMEXPR_MAX_THREADS\" not set, so enforcing safe limit of 8.\n",
      "INFO - utils.py:_init_num_threads() - NumExpr defaulting to 8 threads.\n",
      "INFO - utils.py:_init_num_threads() - Note: NumExpr detected 16 cores but \"NUMEXPR_MAX_THREADS\" not set, so enforcing safe limit of 8.\n",
      "INFO - utils.py:_init_num_threads() - NumExpr defaulting to 8 threads.\n",
      "INFO - utils.py:_init_num_threads() - Note: NumExpr detected 16 cores but \"NUMEXPR_MAX_THREADS\" not set, so enforcing safe limit of 8.\n",
      "INFO - utils.py:_init_num_threads() - NumExpr defaulting to 8 threads.\n",
      "INFO - utils.py:_init_num_threads() - Note: NumExpr detected 16 cores but \"NUMEXPR_MAX_THREADS\" not set, so enforcing safe limit of 8.\n",
      "INFO - utils.py:_init_num_threads() - NumExpr defaulting to 8 threads.\n"
     ]
    },
    {
     "data": {
      "text/plain": [
       "True"
      ]
     },
     "execution_count": 68,
     "metadata": {},
     "output_type": "execute_result"
    }
   ],
   "source": [
    "# Run pipeline  damage analysis\n",
    "pipeline_dmg_w_rr.run_analysis()"
   ]
  },
  {
   "cell_type": "code",
   "execution_count": 69,
   "metadata": {},
   "outputs": [
    {
     "data": {
      "text/html": [
       "<div>\n",
       "<style scoped>\n",
       "    .dataframe tbody tr th:only-of-type {\n",
       "        vertical-align: middle;\n",
       "    }\n",
       "\n",
       "    .dataframe tbody tr th {\n",
       "        vertical-align: top;\n",
       "    }\n",
       "\n",
       "    .dataframe thead th {\n",
       "        text-align: right;\n",
       "    }\n",
       "</style>\n",
       "<table border=\"1\" class=\"dataframe\">\n",
       "  <thead>\n",
       "    <tr style=\"text-align: right;\">\n",
       "      <th></th>\n",
       "      <th>guid</th>\n",
       "      <th>pgvrepairs</th>\n",
       "      <th>pgdrepairs</th>\n",
       "      <th>repairspkm</th>\n",
       "      <th>breakrate</th>\n",
       "      <th>leakrate</th>\n",
       "      <th>failprob</th>\n",
       "      <th>numpgvrpr</th>\n",
       "      <th>numpgdrpr</th>\n",
       "      <th>numrepairs</th>\n",
       "      <th>haz_expose</th>\n",
       "    </tr>\n",
       "  </thead>\n",
       "  <tbody>\n",
       "    <tr>\n",
       "      <th>0</th>\n",
       "      <td>0a076a0d-54fa-4f82-a8af-ce3bd227fcfa</td>\n",
       "      <td>0.009045</td>\n",
       "      <td>0.0</td>\n",
       "      <td>0.009045</td>\n",
       "      <td>0.001809</td>\n",
       "      <td>0.007236</td>\n",
       "      <td>0.004602</td>\n",
       "      <td>0.023065</td>\n",
       "      <td>0.0</td>\n",
       "      <td>0.023065</td>\n",
       "      <td>yes</td>\n",
       "    </tr>\n",
       "    <tr>\n",
       "      <th>1</th>\n",
       "      <td>cee37f5e-6e62-40e6-be5a-485d5c78bd25</td>\n",
       "      <td>0.007119</td>\n",
       "      <td>0.0</td>\n",
       "      <td>0.007119</td>\n",
       "      <td>0.001424</td>\n",
       "      <td>0.005695</td>\n",
       "      <td>0.003099</td>\n",
       "      <td>0.015519</td>\n",
       "      <td>0.0</td>\n",
       "      <td>0.015519</td>\n",
       "      <td>yes</td>\n",
       "    </tr>\n",
       "    <tr>\n",
       "      <th>2</th>\n",
       "      <td>77f5d8b6-ad73-4959-b357-0c512d8f2bcd</td>\n",
       "      <td>0.002919</td>\n",
       "      <td>0.0</td>\n",
       "      <td>0.002919</td>\n",
       "      <td>0.000584</td>\n",
       "      <td>0.002335</td>\n",
       "      <td>0.006459</td>\n",
       "      <td>0.032402</td>\n",
       "      <td>0.0</td>\n",
       "      <td>0.032402</td>\n",
       "      <td>yes</td>\n",
       "    </tr>\n",
       "    <tr>\n",
       "      <th>3</th>\n",
       "      <td>07267d06-089e-4db7-a479-1794cdc23be3</td>\n",
       "      <td>0.004505</td>\n",
       "      <td>0.0</td>\n",
       "      <td>0.004505</td>\n",
       "      <td>0.000901</td>\n",
       "      <td>0.003604</td>\n",
       "      <td>0.004728</td>\n",
       "      <td>0.023698</td>\n",
       "      <td>0.0</td>\n",
       "      <td>0.023698</td>\n",
       "      <td>yes</td>\n",
       "    </tr>\n",
       "    <tr>\n",
       "      <th>4</th>\n",
       "      <td>ec3d4c41-ae4a-4489-9984-1d96e7f4ae06</td>\n",
       "      <td>0.005289</td>\n",
       "      <td>0.0</td>\n",
       "      <td>0.005289</td>\n",
       "      <td>0.001058</td>\n",
       "      <td>0.004231</td>\n",
       "      <td>0.012821</td>\n",
       "      <td>0.064521</td>\n",
       "      <td>0.0</td>\n",
       "      <td>0.064521</td>\n",
       "      <td>yes</td>\n",
       "    </tr>\n",
       "  </tbody>\n",
       "</table>\n",
       "</div>"
      ],
      "text/plain": [
       "                                   guid  pgvrepairs  pgdrepairs  repairspkm  \\\n",
       "0  0a076a0d-54fa-4f82-a8af-ce3bd227fcfa    0.009045         0.0    0.009045   \n",
       "1  cee37f5e-6e62-40e6-be5a-485d5c78bd25    0.007119         0.0    0.007119   \n",
       "2  77f5d8b6-ad73-4959-b357-0c512d8f2bcd    0.002919         0.0    0.002919   \n",
       "3  07267d06-089e-4db7-a479-1794cdc23be3    0.004505         0.0    0.004505   \n",
       "4  ec3d4c41-ae4a-4489-9984-1d96e7f4ae06    0.005289         0.0    0.005289   \n",
       "\n",
       "   breakrate  leakrate  failprob  numpgvrpr  numpgdrpr  numrepairs haz_expose  \n",
       "0   0.001809  0.007236  0.004602   0.023065        0.0    0.023065        yes  \n",
       "1   0.001424  0.005695  0.003099   0.015519        0.0    0.015519        yes  \n",
       "2   0.000584  0.002335  0.006459   0.032402        0.0    0.032402        yes  \n",
       "3   0.000901  0.003604  0.004728   0.023698        0.0    0.023698        yes  \n",
       "4   0.001058  0.004231  0.012821   0.064521        0.0    0.064521        yes  "
      ]
     },
     "execution_count": 69,
     "metadata": {},
     "output_type": "execute_result"
    }
   ],
   "source": [
    "# Retrieve result dataset\n",
    "pipline_dmg_result = pipeline_dmg_w_rr.get_output_dataset(\"result\")\n",
    "\n",
    "# Convert dataset to Pandas DataFrame\n",
    "df_pipline_dmg = pipline_dmg_result.get_dataframe_from_csv()\n",
    "df_pipline_dmg.head()"
   ]
  },
  {
   "cell_type": "code",
   "execution_count": 70,
   "metadata": {},
   "outputs": [
    {
     "data": {
      "text/html": [
       "<div>\n",
       "<style scoped>\n",
       "    .dataframe tbody tr th:only-of-type {\n",
       "        vertical-align: middle;\n",
       "    }\n",
       "\n",
       "    .dataframe tbody tr th {\n",
       "        vertical-align: top;\n",
       "    }\n",
       "\n",
       "    .dataframe thead th {\n",
       "        text-align: right;\n",
       "    }\n",
       "</style>\n",
       "<table border=\"1\" class=\"dataframe\">\n",
       "  <thead>\n",
       "    <tr style=\"text-align: right;\">\n",
       "      <th></th>\n",
       "      <th>linknwid</th>\n",
       "      <th>fromnode</th>\n",
       "      <th>tonode</th>\n",
       "      <th>direction</th>\n",
       "      <th>pipetype</th>\n",
       "      <th>jointtype</th>\n",
       "      <th>diameter</th>\n",
       "      <th>length</th>\n",
       "      <th>soiltype</th>\n",
       "      <th>capacity</th>\n",
       "      <th>...</th>\n",
       "      <th>repairspkm</th>\n",
       "      <th>breakrate</th>\n",
       "      <th>leakrate</th>\n",
       "      <th>failprob</th>\n",
       "      <th>numpgvrpr</th>\n",
       "      <th>numpgdrpr</th>\n",
       "      <th>numrepairs</th>\n",
       "      <th>haz_expose</th>\n",
       "      <th>PGVfailpro</th>\n",
       "      <th>geometry</th>\n",
       "    </tr>\n",
       "  </thead>\n",
       "  <tbody>\n",
       "    <tr>\n",
       "      <th>0</th>\n",
       "      <td>70</td>\n",
       "      <td>46</td>\n",
       "      <td>48</td>\n",
       "      <td>1</td>\n",
       "      <td>Welded Steel</td>\n",
       "      <td>Lap Arc Welded</td>\n",
       "      <td>2.0</td>\n",
       "      <td>2.55</td>\n",
       "      <td>Corrosive</td>\n",
       "      <td>2000.0</td>\n",
       "      <td>...</td>\n",
       "      <td>3.263349</td>\n",
       "      <td>2.609711</td>\n",
       "      <td>0.653638</td>\n",
       "      <td>0.998712</td>\n",
       "      <td>0.004114</td>\n",
       "      <td>8.317425</td>\n",
       "      <td>8.321540</td>\n",
       "      <td>yes</td>\n",
       "      <td>0.004106</td>\n",
       "      <td>LINESTRING (-89.91048 35.38670, -89.91344 35.3...</td>\n",
       "    </tr>\n",
       "    <tr>\n",
       "      <th>1</th>\n",
       "      <td>63</td>\n",
       "      <td>41</td>\n",
       "      <td>38</td>\n",
       "      <td>0</td>\n",
       "      <td>Welded Steel</td>\n",
       "      <td>Lap Arc Welded</td>\n",
       "      <td>2.0</td>\n",
       "      <td>2.18</td>\n",
       "      <td>Corrosive</td>\n",
       "      <td>2000.0</td>\n",
       "      <td>...</td>\n",
       "      <td>1.816326</td>\n",
       "      <td>1.452299</td>\n",
       "      <td>0.364027</td>\n",
       "      <td>0.957829</td>\n",
       "      <td>0.002768</td>\n",
       "      <td>3.956822</td>\n",
       "      <td>3.959590</td>\n",
       "      <td>yes</td>\n",
       "      <td>0.002764</td>\n",
       "      <td>LINESTRING (-89.75848 35.33466, -89.76512 35.3...</td>\n",
       "    </tr>\n",
       "    <tr>\n",
       "      <th>2</th>\n",
       "      <td>4</td>\n",
       "      <td>2</td>\n",
       "      <td>3</td>\n",
       "      <td>1</td>\n",
       "      <td>Welded Steel</td>\n",
       "      <td>Lap Arc Welded</td>\n",
       "      <td>2.0</td>\n",
       "      <td>11.10</td>\n",
       "      <td>Corrosive</td>\n",
       "      <td>2000.0</td>\n",
       "      <td>...</td>\n",
       "      <td>1.637020</td>\n",
       "      <td>1.309304</td>\n",
       "      <td>0.327717</td>\n",
       "      <td>1.000000</td>\n",
       "      <td>0.005780</td>\n",
       "      <td>18.165148</td>\n",
       "      <td>18.170927</td>\n",
       "      <td>yes</td>\n",
       "      <td>0.005763</td>\n",
       "      <td>LINESTRING (-90.11234 35.02180, -90.11320 35.0...</td>\n",
       "    </tr>\n",
       "    <tr>\n",
       "      <th>3</th>\n",
       "      <td>33</td>\n",
       "      <td>10</td>\n",
       "      <td>30</td>\n",
       "      <td>1</td>\n",
       "      <td>Welded Steel</td>\n",
       "      <td>Lap Arc Welded</td>\n",
       "      <td>2.0</td>\n",
       "      <td>5.26</td>\n",
       "      <td>Corrosive</td>\n",
       "      <td>2000.0</td>\n",
       "      <td>...</td>\n",
       "      <td>1.637303</td>\n",
       "      <td>1.309361</td>\n",
       "      <td>0.327943</td>\n",
       "      <td>0.998979</td>\n",
       "      <td>0.004227</td>\n",
       "      <td>8.607989</td>\n",
       "      <td>8.612216</td>\n",
       "      <td>yes</td>\n",
       "      <td>0.004218</td>\n",
       "      <td>LINESTRING (-89.76882 35.20369, -89.74608 35.1...</td>\n",
       "    </tr>\n",
       "    <tr>\n",
       "      <th>4</th>\n",
       "      <td>59</td>\n",
       "      <td>32</td>\n",
       "      <td>36</td>\n",
       "      <td>1</td>\n",
       "      <td>Welded Steel</td>\n",
       "      <td>Lap Arc Welded</td>\n",
       "      <td>2.0</td>\n",
       "      <td>12.20</td>\n",
       "      <td>Corrosive</td>\n",
       "      <td>2000.0</td>\n",
       "      <td>...</td>\n",
       "      <td>1.637443</td>\n",
       "      <td>1.309388</td>\n",
       "      <td>0.328055</td>\n",
       "      <td>1.000000</td>\n",
       "      <td>0.011509</td>\n",
       "      <td>19.965297</td>\n",
       "      <td>19.976806</td>\n",
       "      <td>yes</td>\n",
       "      <td>0.011443</td>\n",
       "      <td>LINESTRING (-89.65750 35.20729, -89.65645 35.2...</td>\n",
       "    </tr>\n",
       "  </tbody>\n",
       "</table>\n",
       "<p>5 rows × 27 columns</p>\n",
       "</div>"
      ],
      "text/plain": [
       "   linknwid  fromnode  tonode  direction      pipetype       jointtype  \\\n",
       "0        70        46      48          1  Welded Steel  Lap Arc Welded   \n",
       "1        63        41      38          0  Welded Steel  Lap Arc Welded   \n",
       "2         4         2       3          1  Welded Steel  Lap Arc Welded   \n",
       "3        33        10      30          1  Welded Steel  Lap Arc Welded   \n",
       "4        59        32      36          1  Welded Steel  Lap Arc Welded   \n",
       "\n",
       "   diameter  length   soiltype  capacity  ... repairspkm breakrate  leakrate  \\\n",
       "0       2.0    2.55  Corrosive    2000.0  ...   3.263349  2.609711  0.653638   \n",
       "1       2.0    2.18  Corrosive    2000.0  ...   1.816326  1.452299  0.364027   \n",
       "2       2.0   11.10  Corrosive    2000.0  ...   1.637020  1.309304  0.327717   \n",
       "3       2.0    5.26  Corrosive    2000.0  ...   1.637303  1.309361  0.327943   \n",
       "4       2.0   12.20  Corrosive    2000.0  ...   1.637443  1.309388  0.328055   \n",
       "\n",
       "   failprob  numpgvrpr  numpgdrpr  numrepairs  haz_expose  PGVfailpro  \\\n",
       "0  0.998712   0.004114   8.317425    8.321540         yes    0.004106   \n",
       "1  0.957829   0.002768   3.956822    3.959590         yes    0.002764   \n",
       "2  1.000000   0.005780  18.165148   18.170927         yes    0.005763   \n",
       "3  0.998979   0.004227   8.607989    8.612216         yes    0.004218   \n",
       "4  1.000000   0.011509  19.965297   19.976806         yes    0.011443   \n",
       "\n",
       "                                            geometry  \n",
       "0  LINESTRING (-89.91048 35.38670, -89.91344 35.3...  \n",
       "1  LINESTRING (-89.75848 35.33466, -89.76512 35.3...  \n",
       "2  LINESTRING (-90.11234 35.02180, -90.11320 35.0...  \n",
       "3  LINESTRING (-89.76882 35.20369, -89.74608 35.1...  \n",
       "4  LINESTRING (-89.65750 35.20729, -89.65645 35.2...  \n",
       "\n",
       "[5 rows x 27 columns]"
      ]
     },
     "execution_count": 70,
     "metadata": {},
     "output_type": "execute_result"
    }
   ],
   "source": [
    "df_WDS_links = pd.merge(df_WDSlinks, df_pipline_dmg, on='guid', how='outer')\n",
    "df_WDSlinks.head()"
   ]
  },
  {
   "cell_type": "markdown",
   "metadata": {},
   "source": [
    "For pipelines, Hazus [5] assumes two damage states consist of: leaks and breaks. When a pipe is damaged due to ground failure (PGD), the type of damage is likely to be a break, while when a pipe is damaged due to seismic wave propagation (PGV), the type of damage is likely to be joint pull-out or crushing at the bell, which generally cause leaks. In the Hazus Methodology, it is assumed that damage due to seismic waves will consist of 80% leaks and 20% breaks, while damage due to ground failure will consist of 20% leaks and 80% breaks. Servicability index can be calculated using the following equation\n",
    "\n",
    "$$ SI = 1 - Lognormal(ARR, 0.1, 0.85) $$\n",
    "\n",
    "Where SI is servicability index, ARR is average repair rate and the lognormal function has a median of 0.1 repairs/km and a beta of 0.85, and . Please refer to section 8.1.7 of Hazs (Water System Performance) for further information"
   ]
  },
  {
   "cell_type": "code",
   "execution_count": 71,
   "metadata": {},
   "outputs": [],
   "source": [
    "from scipy import stats\n",
    "import math\n",
    "for idx in df_WDSlinks['linknwid']:\n",
    "    df = df_WDSlinks[df_WDSlinks.linknwid.isin([idx])]\n",
    "\n",
    "    # standard deviation of normal distribution\n",
    "    sigma = 0.85\n",
    "    \n",
    "    # mean of normal distribution\n",
    "    mu = math.log(.1)\n",
    "    \n",
    "    C_pgv = 0.2 # 0.2\n",
    "    C_pgd = 0.8 # 0.8\n",
    "    im = (C_pgv * df['numpgvrpr'] + C_pgd * df['numpgdrpr']).sum()/df['length'].sum()\n",
    "    SI_break = 1-stats.lognorm(s=sigma, scale=math.exp(mu)).cdf(im)\n",
    "    \n",
    "    C_pgv = 0.8  # 0.2\n",
    "    C_pgd = 0.2  # 0.8\n",
    "    im = (C_pgv * df['numpgvrpr'] + C_pgd * df['numpgdrpr']).sum()/df['length'].sum()\n",
    "    SI_leak = 1-stats.lognorm(s=sigma, scale=math.exp(mu)).cdf(im)\n",
    "    \n",
    "    m = df_WDSlinks['linknwid'] == idx\n",
    "    df_WDSlinks.loc[m, ['SI_break_idv']] = SI_break\n",
    "    df_WDSlinks.loc[m, ['SI_leak__idv']] = SI_leak\n"
   ]
  },
  {
   "cell_type": "markdown",
   "metadata": {},
   "source": [
    "# 4) Restoration and Functionality Analysis"
   ]
  },
  {
   "cell_type": "markdown",
   "metadata": {},
   "source": [
    "### 4-1) NetworkX Modeling of EPN and WDS networks"
   ]
  },
  {
   "cell_type": "markdown",
   "metadata": {},
   "source": [
    "To perform restoration and functionality analysis of infrastruture, first a directed graph model of the EPN and WDS, given by G_EPN and G_WDS, is developed. Subsequently, these two networkX graphs are combined to obtain an interdependednt graph of two networks given by G_EPN_WDS; this graph can be represented by an $n×n$ adjacency matrix $M(G)=[m_{ij}]$. [7]"
   ]
  },
  {
   "cell_type": "code",
   "execution_count": null,
   "metadata": {},
   "outputs": [],
   "source": [
    "### shp_to_network functions takes node and edge shapefiles of an infrastruture network\n",
    "### and constructs a networkX graph give by G\n",
    "\n",
    "def shp_to_network(df_network_nodes, df_network_links, sort = 'unsorted'):\n",
    "    \n",
    "    G=nx.DiGraph() #Empty graph\n",
    "\n",
    "    X = df_network_nodes['geometry'].apply(lambda p: p.x).head()\n",
    "    Y = df_network_nodes['geometry'].apply(lambda p: p.y).head()\n",
    "    ID = df_network_nodes['nodenwid']\n",
    "\n",
    "    pos = {}\n",
    "    X = df_network_nodes['geometry'].apply(lambda p: p.x)\n",
    "    Y = df_network_nodes['geometry'].apply(lambda p: p.y)\n",
    "    for i, val in enumerate(df_network_nodes[\"nodenwid\"]):\n",
    "        pos[val] = (X[i],Y[i])\n",
    "\n",
    "    edges = [(x,y) for x, y in zip(df_network_links[\"fromnode\"],df_network_links[\"tonode\"])]\n",
    "    edge = []\n",
    "\n",
    "    if sort == 'sorted':\n",
    "        for i, val in enumerate(df_network_links[\"linknwid\"]):\n",
    "            if df_network_links[\"direction\"][i] == 1:\n",
    "                edge.append((df_network_links[\"fromnode\"][i],df_network_links[\"tonode\"][i]))\n",
    "            else:\n",
    "                edge.append((df_network_links[\"tonode\"][i],df_network_links[\"fromnode\"][i]))\n",
    "    elif sort == 'unsorted':\n",
    "        for i, val in enumerate(df_network_links[\"linknwid\"]):\n",
    "            edge.append((df_network_links[\"fromnode\"][i],df_network_links[\"tonode\"][i]))        \n",
    "\n",
    "    G.add_nodes_from(pos.keys())\n",
    "    G.add_edges_from(edge)\n",
    "    for x, y, id in zip(X,Y,ID):\n",
    "        G.nodes[id]['pos'] = (x,y)\n",
    "\n",
    "    for ii,ID in enumerate(G.nodes()):\n",
    "        G.nodes[ID][\"classification\"] = df_network_nodes[\"utilfcltyc\"][ii]\n",
    "    \n",
    "    return G\n"
   ]
  },
  {
   "cell_type": "code",
   "execution_count": null,
   "metadata": {},
   "outputs": [],
   "source": [
    "### Obtain networkX representation of EPN and WDS networks\n",
    "G_EPN = shp_to_network(df_EPNnodes,df_EPNlinks)\n",
    "G_WDS = shp_to_network(df_WDSnodes,df_WDSlinks)"
   ]
  },
  {
   "cell_type": "code",
   "execution_count": null,
   "metadata": {},
   "outputs": [],
   "source": [
    "### Add 100 to node and link IDs of EPN geodataframe to distinguish its node IDs from WDS\n",
    "df_EPNlinks['linknwid'] = df_EPNlinks['linknwid'] + 100\n",
    "df_EPNlinks['fromnode'] = df_EPNlinks['fromnode'] + 100\n",
    "df_EPNlinks['tonode'] = df_EPNlinks['tonode'] + 100\n",
    "df_EPNnodes['nodenwid'] = df_EPNnodes['nodenwid'] + 100"
   ]
  },
  {
   "cell_type": "markdown",
   "metadata": {},
   "source": [
    "### 4-2) Restoration Analysis of EPN Components"
   ]
  },
  {
   "cell_type": "markdown",
   "metadata": {},
   "source": [
    "Restoration curves for electric substations presented in Hazus [5] are emplyed to perform retoration analysis of EPN substations. These functions are presented in Table 8-28 which provide  approximate discrete functions for the restoration of EPN components."
   ]
  },
  {
   "cell_type": "code",
   "execution_count": null,
   "metadata": {},
   "outputs": [],
   "source": [
    "df_EPN_node = pd.merge(df_EPNnodes[['nodenwid','utilfcltyc','guid']], df_substation_fail[['guid','DS_0', 'DS_1', 'DS_2', 'DS_3','DS_4', 'failure_probability']], on='guid', how='outer')\n",
    "### Discretized Restoration Functions for substations\n",
    "rest_dict = {1:  [100,  50,   9,   4,  3],\n",
    "             3:  [100, 100,  50,  13,  4],\n",
    "             7:  [100, 100, 100,  50,  7],\n",
    "            30:  [100, 100, 100, 100,  50],\n",
    "            90:  [100, 100, 100, 100, 100]}\n",
    "\n",
    "for key in [1, 3, 7, 30, 90]:\n",
    "    C0, C1, C2, C3, C4 = rest_dict[key][0],rest_dict[key][1],rest_dict[key][2],rest_dict[key][3],rest_dict[key][4]\n",
    "    def f(row):\n",
    "        func = (C0*row['DS_0'] + C1*row['DS_1'] + C2*row['DS_2'] + C3*row['DS_3'] + C4*row['DS_4'])/100\n",
    "        return func\n",
    "    df_EPN_node['functionality'+str(key)] = df_EPN_node.apply(f, axis=1)\n",
    "df_EPN_node.head()"
   ]
  },
  {
   "cell_type": "markdown",
   "metadata": {},
   "source": [
    "### 4-3) Restoration Analysis of WDS Components"
   ]
  },
  {
   "cell_type": "markdown",
   "metadata": {},
   "source": [
    "Restoration curves for WDS presented in Hazus are emplyed to perform retoration analysis of WDS nodes. These functions are presented in Table 8-2, which provide  approximate discrete functions for the restoration of Potable Water System Components."
   ]
  },
  {
   "cell_type": "code",
   "execution_count": null,
   "metadata": {},
   "outputs": [],
   "source": [
    "df_WDS_node = pd.merge(df_WDSnodes[['nodenwid','utilfcltyc','guid']], df_waterfacility_dmg[['guid', 'DS_0', 'DS_1', 'DS_2', 'DS_3','DS_4']], on='guid', how='outer')\n",
    "\n",
    "### Discretized Restoration Functions for 'PSTAS': Above Ground Steel Tank\n",
    "PSTASrest_dict = {1:  [100,  30,  20,  13,  10],\n",
    "                  3:  [100, 100,  49,  15,  11],\n",
    "                  7:  [100, 100,  93,  16,  12],\n",
    "                 30:  [100, 100, 100,  23,  15],\n",
    "                 90:  [100, 100, 100,  40,  30]}\n",
    "\n",
    "### Discretized Restoration Functions for 'PPPL': Large Pump Plant\n",
    "PPPLrest_dict = {1:  [100,  65,  22,  10,   3],\n",
    "                 3:  [100, 100,  50,  15,   4],\n",
    "                 7:  [100, 100, 100,  25,   6],\n",
    "                30:  [100, 100, 100,  95,  40],\n",
    "                90:  [100, 100, 100, 100, 100]}\n",
    "\n",
    "for key in [1, 3, 7, 30, 90]:\n",
    "    def f(row):\n",
    "        if row['utilfcltyc'] == 'PSTAS':\n",
    "            C0, C1, C2, C3, C4 = PSTASrest_dict[key][0],PSTASrest_dict[key][1],PSTASrest_dict[key][2],PSTASrest_dict[key][3],PSTASrest_dict[key][4]\n",
    "            func = (C0*row['DS_0'] + C1*row['DS_1'] + C2*row['DS_2'] + C3*row['DS_3'] + C4*row['DS_4'])/100\n",
    "            return func\n",
    "        elif row['utilfcltyc'] == 'PPPL':\n",
    "            C0, C1, C2, C3, C4 = PPPLrest_dict[key][0],PPPLrest_dict[key][1],PPPLrest_dict[key][2],PPPLrest_dict[key][3],PPPLrest_dict[key][4]\n",
    "            func = (C0*row['DS_0'] + C1*row['DS_1'] + C2*row['DS_2'] + C3*row['DS_3'] + C4*row['DS_4'])/100\n",
    "            return func\n",
    "    df_WDS_node['functionality'+str(key)] = df_WDS_node.apply(f, axis=1)\n",
    "df_WDS_node.head()    "
   ]
  },
  {
   "cell_type": "markdown",
   "metadata": {},
   "source": [
    "### 4-4) NetworkX modeling of interdependent EPN and WDS networks"
   ]
  },
  {
   "cell_type": "markdown",
   "metadata": {},
   "source": [
    "#### 4-4-A) The EPN and WDS pecentage functionality dataframes are combined in this section to obtain an interdependent networkX model of EPN and WDS."
   ]
  },
  {
   "cell_type": "code",
   "execution_count": null,
   "metadata": {},
   "outputs": [],
   "source": [
    "df_functionality_nodes = df_EPN_node.append(df_WDS_node, ignore_index=True)\n",
    "df_network_nodes = df_EPNnodes.append(df_WDSnodes, ignore_index=True)\n",
    "df_network_links = df_EPNlinks.append(df_WDSlinks, ignore_index=True)"
   ]
  },
  {
   "cell_type": "code",
   "execution_count": null,
   "metadata": {},
   "outputs": [],
   "source": [
    "### Obtain an interdepentend graph model of networks\n",
    "G_WDS_EPN_Full = shp_to_network(df_network_nodes,df_network_links)\n",
    "G_EPN_WDS_Full = shp_to_network(df_network_nodes,df_network_links)"
   ]
  },
  {
   "cell_type": "markdown",
   "metadata": {},
   "source": [
    "#### 4-4-B) Assign SI values obtained from pipeline repair analysis as weight to networkX model"
   ]
  },
  {
   "cell_type": "code",
   "execution_count": null,
   "metadata": {},
   "outputs": [],
   "source": [
    "for nodes in df_WDS_node['nodenwid']:\n",
    "    if len(list(G_WDS_EPN_Full.predecessors(nodes))) > 0:\n",
    "        for node in list(G_WDS_EPN_Full.predecessors(nodes)):\n",
    "            weight = df_WDSlinks[df_WDSlinks['fromnode']==node].SI_break_idv.values[0]\n",
    "            G_WDS_EPN_Full[node][nodes]['weight'] = weight\n",
    "            G_EPN_WDS_Full[node][nodes]['weight'] = weight"
   ]
  },
  {
   "cell_type": "markdown",
   "metadata": {},
   "source": [
    "#### 4-4-C) Define the dependency between EPN and WDS with additional edges within the networkX model"
   ]
  },
  {
   "cell_type": "code",
   "execution_count": null,
   "metadata": {},
   "outputs": [],
   "source": [
    "master_EPN = [113,116,125,127,128,132,135,137,139]\n",
    "slave_WDS  = [4  ,5  ,12 ,2  ,3  ,6  ,8  ,9  ,11]\n",
    "for i, j in zip(master_EPN,slave_WDS):\n",
    "    G_WDS_EPN_Full.add_edge(i,j)"
   ]
  },
  {
   "cell_type": "code",
   "execution_count": null,
   "metadata": {},
   "outputs": [],
   "source": [
    "master_WDS = [ 21,  25,  23 ,  29,  30,  35,  39, 42]\n",
    "slave_EPN  = [101, 102, 103 , 104, 105, 106, 107, 108]\n",
    "for i, j in zip(master_WDS,slave_EPN):\n",
    "    G_EPN_WDS_Full.add_edge(i,j)"
   ]
  },
  {
   "cell_type": "markdown",
   "metadata": {},
   "source": [
    "### 4-5) Implemention of an Input-Output model to estimate the functionality of EPN nodes by accounting for dependency between EPN and WDS networks"
   ]
  },
  {
   "cell_type": "markdown",
   "metadata": {},
   "source": [
    "The functionality estimates obtained for buildings, EPN and WDS are used as input to an input-output (I-O) model [6] to simulate the functionality of components by accounting for the interdependency between networked infrastructure. \n",
    "\n",
    "An I-O model uses a perturbation vector, given by $u$, to capture the inoperability of the components of a disrupted interconnected system due to cascading effects.\n",
    "\n",
    "$$\n",
    "q=M(G)q+u\n",
    "$$\n",
    "\n",
    "where $u = [u_1,u_2,…,u_n]^T$; $u_i∈[0,1]⊂R$ is the perturbation vector obtained from non-functionality of individual network components subject to seismic hazard and $q=[q_1,q_2,…,q_n]^T]$; $q_i∈[0,∞)⊂R$ is the resulting non-functionality vector due to their connections to the perturbed infrastructure components and their cascading failure. The non-functionally vector $q$ can be calculated as follows: \n",
    "\n",
    "$$\n",
    "q=(I-M(G)^T)^{-1} u\n",
    "$$\n",
    "\n",
    "Ultimately, functionality vector can be calculated as\n",
    "\n",
    "$$\n",
    "functionality = 1-q\n",
    "$$"
   ]
  },
  {
   "cell_type": "code",
   "execution_count": null,
   "metadata": {},
   "outputs": [],
   "source": [
    "# Obtain percent functionality estimates days after the event by running the input-output model\n",
    "for idx in [1,3,7,30,90]:\n",
    "    day = str(idx)\n",
    "\n",
    "    from numpy.linalg import inv\n",
    "    M = nx.adjacency_matrix(G_EPN_WDS_Full).todense()\n",
    "\n",
    "    u = 1-df_functionality_nodes['functionality'+day]\n",
    "    u = u.to_numpy()\n",
    "    \n",
    "    I = np.identity(len(u))\n",
    "    \n",
    "    q = np.dot(np.linalg.inv(I-M.T),u).tolist()[0]\n",
    "    \n",
    "    funct = [0 if i >=1 else 1-i for i in q]\n",
    "    df_functionality_nodes['func_cascading'+ day] = funct"
   ]
  },
  {
   "cell_type": "code",
   "execution_count": null,
   "metadata": {},
   "outputs": [],
   "source": [
    "# update the column attribute for substations to 'sugid'\n",
    "df_functionality_nodes = df_EPNnodes[['guid','geometry']].merge(df_functionality_nodes, on = 'guid', how = 'left').rename(columns={'guid': 'sguid'})\n",
    "df_functionality_nodes.head()"
   ]
  },
  {
   "cell_type": "markdown",
   "metadata": {},
   "source": [
    "#### Functionality of EPN 7 and 30 days after event"
   ]
  },
  {
   "cell_type": "code",
   "execution_count": null,
   "metadata": {},
   "outputs": [],
   "source": [
    "day = '7'\n",
    "ax = df_functionality_nodes.query('nodenwid>100').plot(figsize=(20, 10),column='func_cascading'+ day, markersize=200, edgecolor='k', alpha=1, legend=True, cmap='jet_r',  vmin=0, vmax=1)\n",
    "df_EPNlinks.plot(ax=ax,color='k', alpha=1, linewidths=1., vmin=0, vmax=1)\n",
    "ax.set_axis_off()\n",
    "day = '30'\n",
    "ax = df_functionality_nodes.query('nodenwid>100').plot(figsize=(20, 10),column='func_cascading'+ day, markersize=200, edgecolor='k', alpha=1, legend=True, cmap='jet_r',  vmin=0, vmax=1)\n",
    "df_EPNlinks.plot(ax=ax,color='k', alpha=1, linewidths=1., vmin=0, vmax=1)\n",
    "ax.set_axis_off()"
   ]
  },
  {
   "cell_type": "markdown",
   "metadata": {},
   "source": [
    "#### 4-5-A) Analysisi of WDS Functionality Estimates obtained from I-O model "
   ]
  },
  {
   "cell_type": "markdown",
   "metadata": {},
   "source": [
    "In this section, we map the WDS functionality estimates to general functional and nonfucntional categories. According to Hazus [5], WDS functionality can be classified as follows:\n",
    "\n",
    "•  0-25% functionality – building/facility is likely to be non-functional  \n",
    "•  25-75% functionality – building/facility is likely to allow limited operations (e.g., selected parts of the building/facility may be used)  \n",
    "•  75-100% functionality – building/facility is likely to be functional\n",
    "\n",
    "This notebook assumes functionality 0-25% as non-functional and 25-100% as functional."
   ]
  },
  {
   "cell_type": "code",
   "execution_count": null,
   "metadata": {},
   "outputs": [],
   "source": [
    "df_wf_functionality = df_functionality_nodes.query('nodenwid<100')[['nodenwid','sguid', 'functionality1', 'functionality3',\n",
    "       'functionality7', 'functionality30', 'functionality90',\n",
    "       'func_cascading1', 'func_cascading3', 'func_cascading7',\n",
    "       'func_cascading30', 'func_cascading90']]\n",
    "cols = ['functionality1', 'functionality3',\n",
    "       'functionality7', 'functionality30', 'functionality90',\n",
    "       'func_cascading1', 'func_cascading3', 'func_cascading7',\n",
    "       'func_cascading30', 'func_cascading90']\n",
    "for key in cols:\n",
    "    df_wf_functionality.loc[df_wf_functionality[key] <0.25, key] = 0 \n",
    "    df_wf_functionality.loc[(0.25<=df_wf_functionality[key]) & (df_wf_functionality[key]<0.75), key] = 1\n",
    "    df_wf_functionality.loc[df_wf_functionality[key] >=0.75, key] = 1\n",
    "df_wf_functionality.head()"
   ]
  },
  {
   "cell_type": "markdown",
   "metadata": {},
   "source": [
    "#### 4-5-B) Analysisi of EPN Functionality Estimates obtained from I-O model "
   ]
  },
  {
   "cell_type": "code",
   "execution_count": null,
   "metadata": {},
   "outputs": [],
   "source": [
    "df_ss_functionality = df_functionality_nodes.query('nodenwid>100')[['nodenwid','sguid', 'func_cascading1', 'func_cascading3', 'func_cascading7',\n",
    "       'func_cascading30', 'func_cascading90']]\n",
    "cols = ['func_cascading1', 'func_cascading3', 'func_cascading7',\n",
    "       'func_cascading30', 'func_cascading90']\n",
    "df_ss_functionality.head()\n"
   ]
  },
  {
   "cell_type": "code",
   "execution_count": null,
   "metadata": {},
   "outputs": [],
   "source": [
    "df_bldg_functionality = df_bldg_func.rename(columns={'functionality':'bldg_functionality'})[['guid','bldg_functionality']]\n",
    "df_EPN_Bldg_Depend = df_EPN_Bldg_Depend.merge(df_ss_functionality, on = 'sguid', how = 'left')\n",
    "df_EPN_Bldg_Depend = df_EPN_Bldg_Depend.merge(df_bldg_functionality, on = 'guid', how = 'left')\n",
    "df_EPN_Bldg_Depend"
   ]
  },
  {
   "cell_type": "markdown",
   "metadata": {},
   "source": [
    "The following code generates samples to simulates the pecentage of buildings nonfunctional given the functionality percantage of substations obtained previously. The mean of functionality estimates obtained from multiplying the functionality of buildings and their associated EPN substation gives the functionality of each building."
   ]
  },
  {
   "cell_type": "code",
   "execution_count": null,
   "metadata": {},
   "outputs": [],
   "source": [
    "df_EPN_Bldg_Depend_MC = df_EPN_Bldg_Depend.copy()\n",
    "\n",
    "columns = ['guid', 'sguid', 'nodenwid', 'func_cascading1','func_cascading3', 'func_cascading7', 'func_cascading30','func_cascading90']\n",
    "df_EPN_Bldg_functionality =  df_EPN_Bldg_Depend[['guid', 'sguid', 'nodenwid', 'func_cascading1',\n",
    "       'func_cascading3', 'func_cascading7', 'func_cascading30',\n",
    "       'func_cascading90']].copy()\n",
    "for col in columns[3:]:\n",
    "    df_EPN_Bldg_functionality[col].values[:] = 0\n",
    "\n",
    "no_samples = 100\n",
    "for MC_sample in range(0,no_samples):\n",
    "    for sguid in df_EPN_Bldg_Depend_MC.sguid.unique():\n",
    "        ss_row  = df_ss_functionality.loc[df_ss_functionality['sguid'] == sguid]\n",
    "        bldg_rows = df_EPN_Bldg_Depend_MC.loc[df_EPN_Bldg_Depend_MC['sguid'] == sguid]\n",
    "        for idx in [1, 3, 7, 30, 90]:\n",
    "            day = str(idx)\n",
    "            percent_functional = ss_row['func_cascading'+day].values[0]\n",
    "            percent_functional = percent_functional if percent_functional<1 else 1\n",
    "            nums = np.random.choice([1, 0], size=len(bldg_rows), p=[percent_functional, 1-percent_functional])\n",
    "            df_EPN_Bldg_Depend_MC.loc[df_EPN_Bldg_Depend_MC['sguid'] == sguid, 'func_cascading'+day] = nums\n",
    "    for idx in [1, 3, 7, 30, 90]:\n",
    "        day = str(idx)\n",
    "        df_EPN_Bldg_functionality['func_cascading'+day] = df_EPN_Bldg_functionality['func_cascading'+day] + (1/no_samples)*df_EPN_Bldg_Depend_MC['func_cascading'+day] * df_EPN_Bldg_Depend_MC['bldg_functionality']\n",
    "    \n",
    "df_EPN_Bldg_functionality\n",
    "            \n",
    "            "
   ]
  },
  {
   "cell_type": "code",
   "execution_count": null,
   "metadata": {},
   "outputs": [],
   "source": [
    "### Merge EPN functionality estimates with EPN shapefile for plotting\n",
    "df_EPN_Bldg_functionality_gdf = bldg_gdf.merge(df_EPN_Bldg_functionality, on = 'guid', how = 'left')"
   ]
  },
  {
   "cell_type": "markdown",
   "metadata": {},
   "source": [
    "### 4-6) Results obtain for functionality of buildings by accounting for the interdependency between buildings and EPN network"
   ]
  },
  {
   "cell_type": "markdown",
   "metadata": {},
   "source": [
    "Example results obtain for functionality of buildings 1 day, 7 days and 30 days after an event"
   ]
  },
  {
   "cell_type": "markdown",
   "metadata": {},
   "source": [
    "#### 1 Day After Event"
   ]
  },
  {
   "cell_type": "code",
   "execution_count": null,
   "metadata": {},
   "outputs": [],
   "source": [
    "viz.plot_gdf_map(df_EPN_Bldg_functionality_gdf, 'func_cascading1', basemap=True)"
   ]
  },
  {
   "cell_type": "markdown",
   "metadata": {},
   "source": [
    "#### 7 Days After Event"
   ]
  },
  {
   "cell_type": "code",
   "execution_count": null,
   "metadata": {},
   "outputs": [],
   "source": [
    "viz.plot_gdf_map(df_EPN_Bldg_functionality_gdf, 'func_cascading7', basemap=True)"
   ]
  },
  {
   "cell_type": "markdown",
   "metadata": {},
   "source": [
    "#### 30 Days After Event"
   ]
  },
  {
   "cell_type": "code",
   "execution_count": null,
   "metadata": {},
   "outputs": [],
   "source": [
    "viz.plot_gdf_map(df_EPN_Bldg_functionality_gdf, 'func_cascading30', basemap=True)"
   ]
  },
  {
   "cell_type": "markdown",
   "metadata": {},
   "source": [
    "#### Number of buildings having functionality estimates greater or equal 0.5 days after event"
   ]
  },
  {
   "cell_type": "code",
   "execution_count": null,
   "metadata": {},
   "outputs": [],
   "source": [
    "df_EPN_Bldg_functionality[columns[3:]][df_EPN_Bldg_functionality[columns[3:]] >= 0.5].count()"
   ]
  }
 ],
 "metadata": {
  "interpreter": {
   "hash": "1d112d8375bf01ae4f4972c8b46ca9ea510a0ab21a221189d40a5cb1c5f1a75f"
  },
  "kernelspec": {
   "display_name": "Python 3 (ipykernel)",
   "language": "python",
   "name": "python3"
  },
  "language_info": {
   "codemirror_mode": {
    "name": "ipython",
    "version": 3
   },
   "file_extension": ".py",
   "mimetype": "text/x-python",
   "name": "python",
   "nbconvert_exporter": "python",
   "pygments_lexer": "ipython3",
   "version": "3.8.13"
  }
 },
 "nbformat": 4,
 "nbformat_minor": 4
}