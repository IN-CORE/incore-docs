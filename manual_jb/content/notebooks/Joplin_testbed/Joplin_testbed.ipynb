{
 "cells": [
  {
   "cell_type": "markdown",
   "metadata": {},
   "source": [
    "## Joplin Tornado Example"
   ]
  },
  {
   "cell_type": "markdown",
   "metadata": {},
   "source": [
    "Please note that you might need additional dependencies to run this notebook, such as [geopandas](https://anaconda.org/conda-forge/geopandas) and [contextily](https://anaconda.org/conda-forge/contextily)"
   ]
  },
  {
   "cell_type": "markdown",
   "metadata": {},
   "source": [
    "- Tornadoes occur at a high frequency in the United States compared with other natural hazards such as earthquakes and tsunamis but have a substantially smaller footprint. Even a single high-intensity tornado can result in high casualty rates and catastrophic economic losses and social consequences, particularly for small to medium communities."
   ]
  },
  {
   "cell_type": "markdown",
   "metadata": {},
   "source": [
    "- The city of Joplin, Missouri, USA, was hit by an EF-5 tornado on May 22, 2011.  The National Institute of Standards and Technology (NIST) conducted a technical investigation of this devastating event which can be found at: https://nvlpubs.nist.gov/nistpubs/NCSTAR/NIST.NCSTAR.3.pdf .  The Center for Risk-Based Community Resilience Planning  simulated this event for buildings and the electrical power network of Joplin in IN-CORE.  This Juypter Notebook provides an example of how to use IN-CORE."
   ]
  },
  {
   "cell_type": "markdown",
   "metadata": {},
   "source": [
    "- The initial damage prediction utilized the tornado path, tornado fragility curves representative of a 19- archetype building dataset, and EPN datasets.  Generic tornado paths are also available in IN-CORE, or a user defined tornado path is possible. "
   ]
  },
  {
   "cell_type": "markdown",
   "metadata": {},
   "source": [
    "- The functionality of the infrastructure was linked with a computable general equilibrium (CGE) economics model that computes specific community resilience metrics in economic terms.  A population dislocation model provides resilience metrics related to socio-demographics such as population dislocation as a function of income or race/ethnicity."
   ]
  },
  {
   "cell_type": "markdown",
   "metadata": {},
   "source": [
    "- This example demonstrates how users interact with the IN-CORE computational environment."
   ]
  },
  {
   "cell_type": "markdown",
   "metadata": {},
   "source": [
    "*This notebook was created by Lisa Wang, supervised by Professor John W. van de Lindt, with the help of the NCSA team (Jong Sung Lee, Chris Navarro, Diego Calderon, Chen Wang, Michal Ondrejcek, Gowtham Naraharisetty, and Yong Wook Kim). The population disclocation model was developed by Nathanael Rosenheim and the CGE model portion provided by Brad Hartman under the supervision of Professor Harvey Cutler.\n",
    "\n",
    "### Prerequisites\n",
    "\n",
    "The following modules are necessary to run this notebook. To ensure dependencies are correct, install all modules through **conda**. \n",
    "\n",
    "| Module | Version | Notes |\n",
    "| --- | --- | --- |\n",
    "| pyIncore | =>1.3.0 | see: https://incore.ncsa.illinois.edu/doc/incore/install_pyincore.html |\n",
    "| pyIncore_viz | =>1.5.0 | see: https://incore.ncsa.illinois.edu/doc/pyincore_viz/index.html |\n",
    "| matplotlib | 3.1.2 | used for plotting results |\n",
    "| contextily | 0.99.0 | used for context geo-tiles |\n",
    "| descartes | 1.1.0 | used for visualization of geometric objects as matplotlib paths |\n",
    "\n",
    "Economic Computable General Equilibrium (CGE) Model uses the ipopt solver. The ipopt solver is installed with pyIncore, so the environment should have the solver in it. If you have a trouble to run CGE model later, please see the instruction at CGE section in this document. "
   ]
  },
  {
   "cell_type": "markdown",
   "metadata": {},
   "source": [
    "### 1. Hazard, Data, and Fragility"
   ]
  },
  {
   "cell_type": "markdown",
   "metadata": {},
   "source": [
    "This section introduces the input for the infrastructure damage analysis including the tornado path, building dataset, and building fragility curves for tornado."
   ]
  },
  {
   "cell_type": "markdown",
   "metadata": {},
   "source": [
    "#### 1.1. Tornado Path"
   ]
  },
  {
   "cell_type": "markdown",
   "metadata": {},
   "source": [
    "This figure shows the 2011 Joplin tornado path with EF zones provided in the legend. The tornado path represents the wind speed within the vortex (multi-vortex in the case of Joplin) that was estimated to have EF5 wind speeds of more than 200 mph, reducing to EF4 wind speeds as the areas move outward from the vortex, and eventually reaching EF1 zone. (Attary et al. 2018)"
   ]
  },
  {
   "cell_type": "code",
   "execution_count": null,
   "metadata": {},
   "outputs": [],
   "source": [
    "from pyincore import IncoreClient\n",
    "from pyincore import FragilityService, MappingSet, Dataset, DataService\n",
    "from pyincore_viz.plotutil import PlotUtil as frag_plot\n",
    "from pyincore_viz.geoutil import GeoUtil as viz\n",
    "from pyincore.models.fragilitycurveset import FragilityCurveSet\n",
    "\n",
    "client = IncoreClient()  # The authentication service validates username/password and  \n",
    "                         # approves users to access to other services.\"https://incore-dev.ncsa.illinois.edu\"\n",
    "client.clear_cache()"
   ]
  },
  {
   "cell_type": "code",
   "execution_count": null,
   "metadata": {},
   "outputs": [],
   "source": [
    "tornado_path_id = \"5d07cbeab9219c065b080930\"\n",
    "viz.plot_tornado(tornado_path_id, client, basemap=True)"
   ]
  },
  {
   "cell_type": "markdown",
   "metadata": {},
   "source": [
    "#### 1.2. Building Archetypes"
   ]
  },
  {
   "cell_type": "markdown",
   "metadata": {},
   "source": [
    "The 19 archetype buildings are used herein to represent the Joplin community. The selected building archetypes consider building characteristics such as footprint area, roof structure, number of stories, and so on. (Attary et al. 2018, Memari et al. 2018)"
   ]
  },
  {
   "cell_type": "code",
   "execution_count": null,
   "metadata": {},
   "outputs": [],
   "source": [
    "bldg_dataset_id = \"5dbc8478b9219c06dd242c0d\"  # Load the Joplin building dataset.\n",
    "\n",
    "bldg_dataset = Dataset.from_data_service(bldg_dataset_id, DataService(client))\n",
    "\n",
    "viz.plot_map(bldg_dataset, column='archetype',category='True')"
   ]
  },
  {
   "cell_type": "markdown",
   "metadata": {},
   "source": [
    "Joplin building archetypes shown in the Legend above:\n",
    "\n",
    "1 and 5 - Residential wood building, 6 - Business and retail building, 7 - Light industrial building, \n",
    "8 - Heavy industrial building, 9 - Elementary/middle school, 10 - High school, 11 - Fire/police station, \n",
    "12 - Hospital, 13 - Community center/church, 14 - Goverment building, 15 - Large big-box, \n",
    "16 - Small big-box, 17 - Mobile home, 18 - Shopping center, 19 - Office building"
   ]
  },
  {
   "cell_type": "markdown",
   "metadata": {},
   "source": [
    "#### 1.3. Fragility Curves"
   ]
  },
  {
   "cell_type": "markdown",
   "metadata": {},
   "source": [
    "There 19 fragility curves set for these 19 building types in the four damage states, which covers the entire range of wind speeds associated with tornadoes (Attary et al. 2018, Memari et al. 2018). Below we selected 3 types to plot as examples."
   ]
  },
  {
   "cell_type": "code",
   "execution_count": null,
   "metadata": {},
   "outputs": [],
   "source": [
    "fragility_service = FragilityService(client)\n",
    "mapping_id = \"5d8942dfb9219c068ea795ea\"\n",
    "mapping_set = MappingSet(fragility_service.get_mapping(mapping_id))\n",
    "\n",
    "# plot fragility for the first 3 archetypes using pyincore viz method\n",
    "for mapping in mapping_set.mappings[:3]:\n",
    "    fragility_id = mapping.entry['Non-Retrofit Fragility ID Code']\n",
    "    fragility_set = FragilityCurveSet(fragility_service.get_dfr3_set(fragility_id))\n",
    "    plt = frag_plot.get_fragility_plot(fragility_set, start=20, end=80)\n",
    "    plt.show()"
   ]
  },
  {
   "cell_type": "markdown",
   "metadata": {},
   "source": [
    "### 2. Infrastructure Damage Analysis"
   ]
  },
  {
   "cell_type": "markdown",
   "metadata": {},
   "source": [
    "The models in this section implement the prediction of community-level damage to the buildings and Electric Power Network (EPN) for the 2011 Joplin tornado."
   ]
  },
  {
   "cell_type": "code",
   "execution_count": null,
   "metadata": {},
   "outputs": [],
   "source": [
    "hazard_type = \"tornado\"\n",
    "hazard_id = \"5d07cbeab9219c065b080930\"  # The simulated EF-5 tornado shows geographical locations and the range\n",
    "                                        # of wind speed of tornado hazard in Joplin."
   ]
  },
  {
   "cell_type": "markdown",
   "metadata": {},
   "source": [
    "#### 2.1. Buildings Damage"
   ]
  },
  {
   "cell_type": "code",
   "execution_count": null,
   "metadata": {},
   "outputs": [],
   "source": [
    "from pyincore.analyses.buildingdamage import BuildingDamage  # Import building damage module integrated into pyIncore."
   ]
  },
  {
   "cell_type": "code",
   "execution_count": null,
   "metadata": {},
   "outputs": [],
   "source": [
    "mapping_id = \"5d8942dfb9219c068ea795ea\"       # Create a mapping to assign tornado fragilities to 19 building archetypes.\n",
    "\n",
    "fragility_service = FragilityService(client)  # loading fragility mapping\n",
    "mapping_set = MappingSet(fragility_service.get_mapping(mapping_id))\n",
    "\n",
    "bldg_dmg = BuildingDamage(client) \n",
    "\n",
    "building_inv = bldg_dmg.load_remote_input_dataset(\"buildings\", bldg_dataset_id)\n",
    "bldg_dmg.set_input_dataset(\"dfr3_mapping_set\", mapping_set)"
   ]
  },
  {
   "cell_type": "code",
   "execution_count": null,
   "metadata": {},
   "outputs": [],
   "source": [
    "result_name = \"Joplin_bldg_dmg_result\"  \n",
    "bldg_dmg.set_parameter(\"result_name\", result_name)\n",
    "bldg_dmg.set_parameter(\"hazard_type\", hazard_type)\n",
    "bldg_dmg.set_parameter(\"hazard_id\", hazard_id)\n",
    "bldg_dmg.set_parameter(\"num_cpu\", 4)  # Define the result name, etc., and choose the number of CPU locally \n",
    "                                      # to run the model parallelly."
   ]
  },
  {
   "cell_type": "code",
   "execution_count": null,
   "metadata": {},
   "outputs": [],
   "source": [
    "bldg_dmg.run_analysis()  # Run the building damage module to get building damage results for Joplin in a .csv file format. \n",
    "                         # The building damage results herein are referred to fragilities at three damage states (moderate, \n",
    "                         # heavy, complete) for 28152 buildings located in Joplin that fall within the tornado path or not.\n",
    "building_dmg_result = bldg_dmg.get_output_dataset('ds_result')\n",
    "\n",
    "# Convert dataset to Pandas DataFrame\n",
    "df_bldg_dmg = building_dmg_result.get_dataframe_from_csv()\n",
    "# Display top 5 rows of output data\n",
    "df_bldg_dmg.head()"
   ]
  },
  {
   "cell_type": "markdown",
   "metadata": {},
   "source": [
    "#### 2.2. Electrical Power Facility (EPF) - Substations Damage"
   ]
  },
  {
   "cell_type": "code",
   "execution_count": null,
   "metadata": {},
   "outputs": [],
   "source": [
    "from pyincore.analyses.epfdamage.epfdamage import EpfDamage # Import epf damage module integrated into pyIncore."
   ]
  },
  {
   "cell_type": "code",
   "execution_count": null,
   "metadata": {},
   "outputs": [],
   "source": [
    "epf_substations_id = \"5d92355bb9219c06ae7e386a\"  \n",
    "mapping_id = \"5d8a326fb9219c068ea798e7\"  # Create a mapping to assign tornado fragilities to substations.\n",
    "\n",
    "fragility_service = FragilityService(client)\n",
    "mapping_set = MappingSet(fragility_service.get_mapping(mapping_id))\n",
    "\n",
    "epf_sub_dmg = EpfDamage(client)  \n",
    "\n",
    "epf_sub_dmg.load_remote_input_dataset(\"epfs\", epf_substations_id) \n",
    "                               # Load the Joplin substations dataset, which is a package of GIS files.\n",
    "epf_sub_dmg.set_input_dataset(\"dfr3_mapping_set\", mapping_set)"
   ]
  },
  {
   "cell_type": "code",
   "execution_count": null,
   "metadata": {},
   "outputs": [],
   "source": [
    "result_name = \"Joplin_epf_substations_dmg_result\"\n",
    "epf_sub_dmg.set_parameter(\"result_name\", result_name)\n",
    "epf_sub_dmg.set_parameter(\"hazard_type\", hazard_type)\n",
    "epf_sub_dmg.set_parameter(\"hazard_id\", hazard_id)\n",
    "epf_sub_dmg.set_parameter(\"num_cpu\", 4)\n",
    "epf_sub_dmg.set_parameter(\"fragility_key\", \"substations\")  # Define the result name, etc., and choose the number\n",
    "                                                           # of CPU locally to run the model parallelly."
   ]
  },
  {
   "cell_type": "code",
   "execution_count": null,
   "metadata": {},
   "outputs": [],
   "source": [
    "epf_sub_dmg.run_analysis()  # Run the EPF damage module to get substations damage results for Joplin in a .csv file format. The \n",
    "                            # substations damage results herein are referred to fragilities at four damage states (insignificant, \n",
    "                            # moderate, extensive, complete) for 18 substations located in Joplin that fall within the tornado \n",
    "                            # path or not.\n",
    "substation_dmg_result = epf_sub_dmg.get_output_dataset('result')\n",
    "\n",
    "df_sub_dmg = substation_dmg_result.get_dataframe_from_csv()\n",
    "df_sub_dmg.head()"
   ]
  },
  {
   "cell_type": "markdown",
   "metadata": {},
   "source": [
    "#### 2.3. Electrical Power Facility (EPF) - Poles Damage"
   ]
  },
  {
   "cell_type": "code",
   "execution_count": null,
   "metadata": {},
   "outputs": [],
   "source": [
    "epf_poles_id = \"5d923daab9219c06ae84afb0\"  # Load the Joplin poles dataset, which is a package of GIS files.\n",
    "mapping_id = \"5d8a326fb9219c068ea798e7\"    # Create a mapping to assign tornado fragilities to poles.\n",
    "\n",
    "fragility_service = FragilityService(client)        # loading fragility mapping\n",
    "mapping_set = MappingSet(fragility_service.get_mapping(mapping_id))\n",
    "\n",
    "epf_poles_dmg = EpfDamage(client) \n",
    "\n",
    "epf_poles_dmg.load_remote_input_dataset(\"epfs\", epf_poles_id)\n",
    "\n",
    "epf_poles_dmg.set_input_dataset(\"dfr3_mapping_set\", mapping_set)"
   ]
  },
  {
   "cell_type": "code",
   "execution_count": null,
   "metadata": {},
   "outputs": [],
   "source": [
    "result_name = \"Joplin_epf_poles_dmg_result\"\n",
    "epf_poles_dmg.set_parameter(\"result_name\", result_name)\n",
    "epf_poles_dmg.set_parameter(\"hazard_type\", hazard_type)\n",
    "epf_poles_dmg.set_parameter(\"hazard_id\", hazard_id)\n",
    "epf_poles_dmg.set_parameter(\"num_cpu\", 4)\n",
    "epf_poles_dmg.set_parameter(\"fragility_key\", \"poles\")  # Define the result name, etc., and choose the number\n",
    "                                                       # of CPU locally to run the model parallelly."
   ]
  },
  {
   "cell_type": "code",
   "execution_count": null,
   "metadata": {},
   "outputs": [],
   "source": [
    "epf_poles_dmg.run_analysis()  # Run the EPF damage module to get poles damage results for Joplin in a .csv file \n",
    "                              # format. The poles damage results herein are referred to fragilities at four \n",
    "                              # damage states (insignificant, moderate, extensive, complete) for 23857 poles \n",
    "                              # located in Joplin that fall within the tornado path or not.\n",
    "poles_dmg_result = epf_poles_dmg.get_output_dataset('result')\n",
    "\n",
    "\n",
    "df_poles_dmg = poles_dmg_result.get_dataframe_from_csv()\n",
    "df_poles_dmg.head()"
   ]
  },
  {
   "cell_type": "markdown",
   "metadata": {},
   "source": [
    "### 3. Monte Carlo Simulation (MCS)"
   ]
  },
  {
   "cell_type": "markdown",
   "metadata": {},
   "source": [
    "Researchers can use Monte Carlo Simulation to estimate the probability of each building being in a particular damage state.  This example uses 500 iterations to determine the failure probability of buildings reaching damage state 2, damage state 3, and damage state 4. Users can run 10000 samples or even more for a more accurate Monte Carlo Simulation to determine the building failure probabilities.  Note that this takes several minutes and we are working on developing a more efficient algorithm."
   ]
  },
  {
   "cell_type": "code",
   "execution_count": null,
   "metadata": {},
   "outputs": [],
   "source": [
    "num_samples = 500"
   ]
  },
  {
   "cell_type": "markdown",
   "metadata": {},
   "source": [
    "#### 3.1. MCS chaining with Joplin building damage"
   ]
  },
  {
   "cell_type": "code",
   "execution_count": null,
   "metadata": {},
   "outputs": [],
   "source": [
    "from pyincore.analyses.montecarlofailureprobability import MonteCarloFailureProbability \n",
    "                                                  # Import Monte Carlo failure probability module integrated into pyIncore."
   ]
  },
  {
   "cell_type": "code",
   "execution_count": null,
   "metadata": {},
   "outputs": [],
   "source": [
    "mc_bldg = MonteCarloFailureProbability(client)\n",
    "\n",
    "mc_bldg.set_input_dataset(\"damage\", building_dmg_result)  #  Load the Joplin building damage results dataset \n",
    "                                                         # generated from the previous model as an input\n",
    "mc_bldg.set_parameter(\"num_cpu\", 8)\n",
    "mc_bldg.set_parameter(\"num_samples\", num_samples)\n",
    "mc_bldg.set_parameter(\"damage_interval_keys\", [\"DS_0\", \"DS_1\", \"DS_2\", \"DS_3\"])\n",
    "mc_bldg.set_parameter(\"failure_state_keys\", [\"DS_1\", \"DS_2\", \"DS_3\"])\n",
    "\n",
    "mc_bldg.set_parameter(\"result_name\", \"tornado_mc_failure_probability_buildings\") # name of csv file with results"
   ]
  },
  {
   "cell_type": "code",
   "execution_count": null,
   "metadata": {},
   "outputs": [],
   "source": [
    "mc_bldg.run_analysis()  # Run the Monte Carlo Simulation module to obtain the building failure probabilities. The building failure\n",
    "                       # probabilities herein only consider the physical damage without the interdependency.\n",
    "\n",
    "building_failure_probability = mc_bldg.get_output_dataset('failure_probability')  # get buildings failure probabilities\n",
    "\n",
    "df_bldg_fail = building_failure_probability.get_dataframe_from_csv()\n",
    "df_bldg_fail.head()"
   ]
  },
  {
   "cell_type": "code",
   "execution_count": null,
   "metadata": {},
   "outputs": [],
   "source": [
    "building_damage_mcs_samples = mc_bldg.get_output_dataset('sample_failure_state')  # get buildings failure states\n",
    "\n",
    "bdmcs = building_damage_mcs_samples.get_dataframe_from_csv()\n",
    "bdmcs.head()"
   ]
  },
  {
   "cell_type": "markdown",
   "metadata": {},
   "source": [
    "#### 3.2. MCS chaining with Joplin EPF substations damage"
   ]
  },
  {
   "cell_type": "code",
   "execution_count": null,
   "metadata": {},
   "outputs": [],
   "source": [
    "mc_sub = MonteCarloFailureProbability(client)\n",
    "\n",
    "mc_sub.set_input_dataset(\"damage\", substation_dmg_result)\n",
    "mc_sub.set_parameter(\"num_cpu\", 8)\n",
    "mc_sub.set_parameter(\"num_samples\", num_samples)\n",
    "mc_sub.set_parameter(\"damage_interval_keys\", [\"DS_0\", \"DS_1\", \"DS_2\", \"DS_3\", \"DS_4\"])\n",
    "mc_sub.set_parameter(\"failure_state_keys\", [\"DS_1\", \"DS_2\", \"DS_3\", \"DS_4\"])\n",
    "\n",
    "mc_sub.set_parameter(\"result_name\", \"Joplin_mcs_substations_samples\") # name of csv file with results"
   ]
  },
  {
   "cell_type": "code",
   "execution_count": null,
   "metadata": {},
   "outputs": [],
   "source": [
    "mc_sub.run_analysis()\n",
    "\n",
    "substation_damage_mcs_samples = mc_sub.get_output_dataset('sample_failure_state')\n",
    "\n",
    "sdmcs = substation_damage_mcs_samples.get_dataframe_from_csv()\n",
    "sdmcs.head()"
   ]
  },
  {
   "cell_type": "markdown",
   "metadata": {},
   "source": [
    "#### 3.3. MCS chaining with Joplin EPF poles damage"
   ]
  },
  {
   "cell_type": "code",
   "execution_count": null,
   "metadata": {},
   "outputs": [],
   "source": [
    "mc_pole = MonteCarloFailureProbability(client)\n",
    "\n",
    "mc_pole.set_input_dataset(\"damage\", poles_dmg_result)\n",
    "mc_pole.set_parameter(\"num_cpu\", 8)\n",
    "mc_pole.set_parameter(\"num_samples\", num_samples)\n",
    "mc_pole.set_parameter(\"damage_interval_keys\", [\"DS_0\", \"DS_1\", \"DS_2\", \"DS_3\", \"DS_4\"])\n",
    "mc_pole.set_parameter(\"failure_state_keys\", [\"DS_1\", \"DS_2\", \"DS_3\", \"DS_4\"])\n",
    "\n",
    "mc_pole.set_parameter(\"result_name\", \"Joplin_mcs_poles_samples\") # name of csv file with results"
   ]
  },
  {
   "cell_type": "code",
   "execution_count": null,
   "metadata": {},
   "outputs": [],
   "source": [
    "mc_pole.run_analysis()\n",
    "\n",
    "pole_damage_mcs_samples = mc_pole.get_output_dataset('sample_failure_state')\n",
    "\n",
    "pdmcs = pole_damage_mcs_samples.get_dataframe_from_csv()\n",
    "pdmcs.head()"
   ]
  },
  {
   "cell_type": "markdown",
   "metadata": {},
   "source": [
    "#### 3.4. Building Damage Spatial Distribution Results"
   ]
  },
  {
   "cell_type": "markdown",
   "metadata": {},
   "source": [
    "Joplin building failure probability map. Legend shows failure probability from 0 to 1 (total) failure."
   ]
  },
  {
   "cell_type": "code",
   "execution_count": null,
   "metadata": {},
   "outputs": [],
   "source": [
    "# getting geodataframework of building dataset and merge with output\n",
    "bldg_gdf = bldg_dataset.get_dataframe_from_shapefile()\n",
    "bldg_fail_gdf = bldg_gdf.merge(df_bldg_fail, on='guid')"
   ]
  },
  {
   "cell_type": "code",
   "execution_count": null,
   "metadata": {},
   "outputs": [],
   "source": [
    "viz.plot_gdf_map(bldg_fail_gdf, column='failure_probability')"
   ]
  },
  {
   "cell_type": "markdown",
   "metadata": {},
   "source": [
    "### 4. Infrastructure Functionality Analysis"
   ]
  },
  {
   "cell_type": "markdown",
   "metadata": {},
   "source": [
    "The functionality analysis module below can be used to calculate building functionality probabilities considering two situations: buildings are in at least a damage state 2 or greater or buildings are not damaged but electric power is not available to the building. Whether buildings can receive electrical power is assumed to depend on the interdependency between buildings and substations, and between buildings and poles in close proximity. If both the nearest pole to the building and the substation where buildings belong to its service area are functional, buildings are considered to be able to receive electric power."
   ]
  },
  {
   "cell_type": "markdown",
   "metadata": {},
   "source": [
    "#### 4.1. Building Functionality Probability"
   ]
  },
  {
   "cell_type": "code",
   "execution_count": null,
   "metadata": {},
   "outputs": [],
   "source": [
    "from pyincore.analyses.buildingfunctionality import BuildingFunctionality\n",
    "                                            # Import building functionality module integrated into pyIncore."
   ]
  },
  {
   "cell_type": "code",
   "execution_count": null,
   "metadata": {},
   "outputs": [],
   "source": [
    "bldg_func = BuildingFunctionality(client)\n",
    "\n",
    "# Load the datasets of building samples, substation samples, and pole samples. All of the samples are randomly \n",
    "# generated using the Monte Carlo Simulation module introduced in the previous section.\n",
    "bldg_func.set_input_dataset(\"building_damage_mcs_samples\", building_damage_mcs_samples)\n",
    "bldg_func.set_input_dataset(\"substations_damage_mcs_samples\", substation_damage_mcs_samples)\n",
    "bldg_func.set_input_dataset(\"poles_damage_mcs_samples\", pole_damage_mcs_samples)\n",
    "\n",
    "# Load the dataset of the interdependency table between buildings and substations, and between buildings and poles.\n",
    "interdependency_id = \"5dcf4a34b9219ca5e4118312\"\n",
    "bldg_func.load_remote_input_dataset(\"interdependency_dictionary\", interdependency_id)\n",
    "\n",
    "bldg_func.set_parameter(\"result_name\", \"Joplin_mcs_functionality_probability\")"
   ]
  },
  {
   "cell_type": "code",
   "execution_count": null,
   "metadata": {},
   "outputs": [],
   "source": [
    "bldg_func.run_analysis()  # Run the module to obtain the building functionality probabilities.\n",
    "\n",
    "bldg_func_samples = bldg_func.get_output_dataset('functionality_samples')\n",
    "df_bldg_samples = bldg_func_samples.get_dataframe_from_csv()\n",
    "df_bldg_samples.head()"
   ]
  },
  {
   "cell_type": "code",
   "execution_count": null,
   "metadata": {},
   "outputs": [],
   "source": [
    "bldg_func_probability = bldg_func.get_output_dataset('functionality_probability')\n",
    "df_bldg_func = bldg_func_probability.get_dataframe_from_csv()\n",
    "df_bldg_func = df_bldg_func.rename(columns={\"building_guid\": \"guid\"})\n",
    "df_bldg_func.head()"
   ]
  },
  {
   "cell_type": "markdown",
   "metadata": {},
   "source": [
    "#### 4.2. Building Functionality Spatial Distribution Results"
   ]
  },
  {
   "cell_type": "markdown",
   "metadata": {},
   "source": [
    "Joplin building functionality map."
   ]
  },
  {
   "cell_type": "code",
   "execution_count": null,
   "metadata": {},
   "outputs": [],
   "source": [
    "# merge building geodataframe with output\n",
    "bldg_func_gdf = bldg_gdf.merge(df_bldg_func, on='guid')"
   ]
  },
  {
   "cell_type": "code",
   "execution_count": null,
   "metadata": {},
   "outputs": [],
   "source": [
    "viz.plot_gdf_map(bldg_func_gdf, column='probability')"
   ]
  },
  {
   "cell_type": "markdown",
   "metadata": {},
   "source": [
    "#### 4.3. Physical Service Resilience Metrics"
   ]
  },
  {
   "cell_type": "markdown",
   "metadata": {},
   "source": [
    "After finding the damage level for each component (buildings, substations, and poles) based on the components' fragility curves, their intrinsic failure status is expressed as a binary format with either failed (0) or not-failed (1). Then the failure status of all the buildings is updated by considering their dependencies with the corresponding electric power facilities. Each component generates 500 samples randomly with their failure status determined, and the percentage of building functional and nonfunctional could be calculated using the updated status of the same sample (such as sample #1) for all the buildings, illustrated herein as an example.\n",
    "\n",
    "The percent shown in the horizontal bar below refers to the number of nonfunctional/damaged buildings divided by all buildings in Joplin. For example, the mean percentage of building nonfunctional is around 52%, and the standard deviation percentage shown as an error bar. The percentage is two times more than the percent of building in damage is because three substations fall within the tornado path. Consequently, there is a significant probability for buildings located in their service area cannot be available to access the electric power even though some buildings themselves are still safe and operational in the immediate response of the tornado hazard. It is worthy to note that a random tornado path analysis will produce a larger standard deviation of building damage and building functionality.\n",
    "\n",
    "Calculate and show all three infrustructure damages and resulting total building funcionality."
   ]
  },
  {
   "cell_type": "code",
   "execution_count": null,
   "metadata": {},
   "outputs": [],
   "source": [
    "import pandas as pd\n",
    "import numpy as np\n",
    "\n",
    "# buildings damage\n",
    "bdm = bdmcs[\"failure\"].str.split(pat=\",\")\n",
    "# strings to integers, change fail to 1\n",
    "bdm = 1 - bdm.apply(pd.to_numeric)\n",
    "# convert panda frame to numpy ndarray and do the statistics\n",
    "bdm = bdm.to_numpy()\n",
    "# convert list of np arrays into single one\n",
    "bdm = np.stack(bdm)\n",
    "# percent\n",
    "bdm_guid = 100 * bdm.mean(axis=0)\n",
    "bdm_mean = np.mean(bdm_guid)\n",
    "bdm_std = np.std(bdm_guid)\n",
    "\n",
    "# substations damage\n",
    "sdm = sdmcs[\"failure\"].str.split(pat=\",\")\n",
    "sdm = 1 - sdm.apply(pd.to_numeric)\n",
    "sdm = sdm.to_numpy()\n",
    "sdm = np.stack(sdm)\n",
    "sdm_guid = 100 * sdm.mean(axis=0)\n",
    "sdm_mean = np.mean(sdm_guid)\n",
    "sdm_std = np.std(sdm_guid)\n",
    "\n",
    "# poles damage\n",
    "pdm = pdmcs[\"failure\"].str.split(pat=\",\")\n",
    "pdm = 1 - pdm.apply(pd.to_numeric)\n",
    "pdm = pdm.to_numpy()\n",
    "pdm = np.stack(pdm)\n",
    "pdm_guid = 100 * pdm.mean(axis=0)\n",
    "pdm_mean = np.mean(pdm_guid)\n",
    "pdm_std = np.std(pdm_guid)\n",
    "\n",
    "# buildings combined functionality\n",
    "bfm = df_bldg_samples[\"samples\"].str.split(pat=\",\")\n",
    "bfm = 1 - bfm.apply(pd.to_numeric)\n",
    "bfm = bfm.to_numpy()\n",
    "bfm = np.stack(bfm)\n",
    "bfm_guid = 100 * bfm.mean(axis=0)\n",
    "bfm_mean = np.mean(bfm_guid)\n",
    "bfm_std = np.std(bfm_guid)"
   ]
  },
  {
   "cell_type": "code",
   "execution_count": null,
   "metadata": {},
   "outputs": [],
   "source": [
    "# dataframe from statistical results\n",
    "infra = ('Percent of building nonfunctional', 'Percent of building in damage', 'Percent of substation in damage',\\\n",
    "         'Percent of pole in damage')\n",
    "res_data = {\"infrastructure\": infra,\n",
    "            \"percentage\": [np.round(bfm_mean, 2), np.round(bdm_mean, 2), \n",
    "                           np.round(sdm_mean, 2), np.round(pdm_mean, 2)],\n",
    "            \"std\": [np.round(bfm_std, 2), np.round(bdm_std, 2), \n",
    "                    np.round(sdm_std, 2), np.round(pdm_std, 2)]}\n",
    "func_data = pd.DataFrame(res_data)\n",
    "print(func_data)"
   ]
  },
  {
   "cell_type": "code",
   "execution_count": null,
   "metadata": {},
   "outputs": [],
   "source": [
    "plt.rcdefaults()\n",
    "fig, ax = plt.subplots()\n",
    "\n",
    "y_pos = np.arange(len(infra))\n",
    "performance = res_data['percentage']\n",
    "\n",
    "for i, v in enumerate(performance):\n",
    "    ax.text(v + 2, i, str(v), color='black', fontweight='bold')\n",
    "    \n",
    "ax.barh(y_pos, performance, xerr=res_data['std'], align='center', height=0.6)\n",
    "ax.set_yticks(y_pos)\n",
    "ax.set_yticklabels(infra)\n",
    "ax.invert_yaxis()\n",
    "ax.set_xlabel('Failures to Infrastructure')\n",
    "ax.set_title('Physical Service Resilience Metrics Percentage Change',fontsize = 12,weight='bold')\n",
    "plt.xlim(0, 100)\n",
    "plt.show()  # Physical service resilience metrics percentage change immediately after the simulated EF-5 tornado."
   ]
  },
  {
   "cell_type": "markdown",
   "metadata": {},
   "source": [
    "### 5. Economic analysis"
   ]
  },
  {
   "cell_type": "markdown",
   "metadata": {},
   "source": [
    "#### 5.1. Computable General Equilibrium (CGE) Model"
   ]
  },
  {
   "cell_type": "markdown",
   "metadata": {},
   "source": [
    "A computable general equilibrium (CGE) model is based on fundamental economic principles. A CGE model uses multiple data sources to model the interactions of households, firms and relevant government entities as they contribute to economic activity. The model is based on (1) utility-maximizing households that supply labor and capital, using the proceeds to pay for goods and services (both locally produced and imported) and taxes;\n",
    "(2) the production sector, with perfectly competitive, profit-maximizing firms using intermediate inputs, capital, land and labor to produce goods and services for both domestic consumption and export; (3) the government sector that collects taxes and uses tax revenues in order to finance the provision of public services; and (4) the rest of the world."
   ]
  },
  {
   "cell_type": "markdown",
   "metadata": {},
   "source": [
    "##### 5.1.2. Capital stock shock analysis"
   ]
  },
  {
   "cell_type": "markdown",
   "metadata": {},
   "source": [
    "The first step is to aggregate building functionality states and calculates total capital shock losses per sector. We use results of building failure probabilities obtained in previous **MCS chaining with Joplin building damage** section."
   ]
  },
  {
   "cell_type": "code",
   "execution_count": null,
   "metadata": {},
   "outputs": [],
   "source": [
    "from pyincore.analyses.capitalshocks import CapitalShocks"
   ]
  },
  {
   "cell_type": "code",
   "execution_count": null,
   "metadata": {},
   "outputs": [],
   "source": [
    "# Joplin building to sector mapping table\n",
    "building_to_sectors_id = \"5f202d674620b643d787a5e7\""
   ]
  },
  {
   "cell_type": "code",
   "execution_count": null,
   "metadata": {},
   "outputs": [],
   "source": [
    "# Create Capital shocks analysis\n",
    "capital_shocks = CapitalShocks(client)\n",
    "\n",
    "# Load remote datasets\n",
    "capital_shocks.load_remote_input_dataset(\"buildings_to_sectors\", building_to_sectors_id)\n",
    "# Set datasets\n",
    "# Joplin building inventory\n",
    "capital_shocks.load_remote_input_dataset(\"buildings\", bldg_dataset_id)\n",
    "# Joplin building failure probability\n",
    "capital_shocks.set_input_dataset(\"failure_probability\", building_failure_probability)\n",
    "\n",
    "capital_shocks.set_parameter(\"result_name\", \"sector_shocks\") # name of csv file with results"
   ]
  },
  {
   "cell_type": "code",
   "execution_count": null,
   "metadata": {},
   "outputs": [],
   "source": [
    "# Run capital shocks analysis\n",
    "capital_shocks.run_analysis()\n",
    "\n",
    "sector_shocks_result = capital_shocks.get_output_dataset(\"sector_shocks\")\n",
    "sector_shocks_result.get_dataframe_from_csv()"
   ]
  },
  {
   "cell_type": "markdown",
   "metadata": {},
   "source": [
    "##### 5.1.3. CGE Model"
   ]
  },
  {
   "cell_type": "code",
   "execution_count": null,
   "metadata": {},
   "outputs": [],
   "source": [
    "from pyincore.analyses.joplincge import JoplinCGEModel"
   ]
  },
  {
   "cell_type": "markdown",
   "metadata": {},
   "source": [
    "Each of the objects with string IDs below refer to datasets used as inputs in the CGE model."
   ]
  },
  {
   "cell_type": "code",
   "execution_count": null,
   "metadata": {},
   "outputs": [],
   "source": [
    "# SAM\n",
    "# Social accounting matrix (SAM) contains data for firms, households and government which are organized \n",
    "# in a way to represent the interactions of all three entities in a typical economy\n",
    "SAM = \"5dd85ae7b9219c06d4da8de4\"\n",
    "\n",
    "# CAPITAL COMP\n",
    "# BB is a matrix which describes how investment in physical infrastructure is transformed into functioning capital such as commercial and residential buildings. \n",
    "# These data are collected from the Bureau of Economic Analysis (BEA).\n",
    "BB = \"5dc1e620b9219c06dd2f473a\"\n",
    "\n",
    "# MISC TABLES\n",
    "IOUT = \"5dc1e6d8b9219c06dd2f475e\"  # This is matrix that describes the transfer of tax revenue collected by the local government to help finance local government expenditures. \n",
    "MISC = \"5dc1e736b9219c06dd2f4782\"  # This is the name of a file that contains data for commercial sector employment and physical capital. It also contains data for the number of households and working households in the economy. \n",
    "MISCH = \"5dc1e7b5b9219c06dd2f47a6\"  # A file that contains elasticities for the supply of labor with respect to paying income taxes.\n",
    "LANDCAP = \"5dc1e810b9219c06dd2f47ca\"  # Contains information regarding elasticity values for the response of changes in the price of physical capital with respect to the supply of investment.\n",
    "EMPLOY = \"5dc1e85ab9219c06dd2f47ee\"  # Table name containing data for commercial sector employment.\n",
    "IGTD = \"5dc1e895b9219c06dd2f4812\"  # This variable represents a matrix describing the transfer of taxes collected to a variable which permits governments to spend the tax revenue on workers and intermediate inputs.\n",
    "TAUFF = \"5dc1e8eeb9219c06dd2f4836\"  # Represents social security tax rates\n",
    "JOBCR = \"5dc1e962b9219c06dd2f487e\"  # This is a matrix describing the supply of workers coming from each household group in the economy. \n",
    "OUTCR = \"5dc1e9aeb9219c06dd2f48bc\"  # This a matrix describing the number of workers who live in Joplin but commute outside of town to work.\n",
    "sector_shocks = \"5f21d40d4620b643d78bb4c2\"# This is the aggregation of building functionality states to capital shocks per sector."
   ]
  },
  {
   "cell_type": "code",
   "execution_count": null,
   "metadata": {},
   "outputs": [],
   "source": [
    "# Create Joplin CGE Model\n",
    "joplin_cge = JoplinCGEModel(client)"
   ]
  },
  {
   "cell_type": "code",
   "execution_count": null,
   "metadata": {},
   "outputs": [],
   "source": [
    "# Load analysis input datasets\n",
    "joplin_cge.load_remote_input_dataset(\"SAM\", SAM)\n",
    "joplin_cge.load_remote_input_dataset(\"BB\", BB)\n",
    "joplin_cge.load_remote_input_dataset(\"IOUT\", IOUT)\n",
    "joplin_cge.load_remote_input_dataset(\"MISC\", MISC)\n",
    "joplin_cge.load_remote_input_dataset(\"MISCH\", MISCH)\n",
    "joplin_cge.load_remote_input_dataset(\"LANDCAP\", LANDCAP)\n",
    "joplin_cge.load_remote_input_dataset(\"EMPLOY\", EMPLOY)\n",
    "joplin_cge.load_remote_input_dataset(\"IGTD\", IGTD)\n",
    "joplin_cge.load_remote_input_dataset(\"TAUFF\", TAUFF)\n",
    "joplin_cge.load_remote_input_dataset(\"JOBCR\", JOBCR)\n",
    "joplin_cge.load_remote_input_dataset(\"OUTCR\", OUTCR)\n",
    "\n",
    "# Set analysis input dataset from previous Capital stock shock analysis\n",
    "joplin_cge.set_input_dataset(\"sector_shocks\", sector_shocks_result)"
   ]
  },
  {
   "cell_type": "markdown",
   "metadata": {},
   "source": [
    "The ipopt solver is installed with pyIncore, so the environment should have the solver in it, but the solver_path variable lets the user specify a version elsewhere when desired. The variable points to the absolute path for where the ipopt solver is installed. To know the absolute path of the ipopt solver in your local machine, open a terminal window, activate your **pyIncore** environment, and run the following command according to your OS:\n",
    "\n",
    "- on Mac: open a terminal window, activate your conda environment and type \"which ipopt\". \n",
    "- on Windows: open a command terminal, activate your conda environment and type \"where ipopt\".\n",
    "\n",
    "and make sure that the folder containing \"ipopt\" is in PATH environment of your OS."
   ]
  },
  {
   "cell_type": "code",
   "execution_count": null,
   "metadata": {},
   "outputs": [],
   "source": [
    "# Set analysis parameters\n",
    "joplin_cge.set_parameter(\"model_iterations\", 1)"
   ]
  },
  {
   "cell_type": "code",
   "execution_count": null,
   "metadata": {},
   "outputs": [],
   "source": [
    "# Run Joplin CGE model analysis\n",
    "joplin_cge.run_analysis()"
   ]
  },
  {
   "cell_type": "code",
   "execution_count": null,
   "metadata": {},
   "outputs": [],
   "source": [
    "# Retrieve result datasets\n",
    "domestic_supply = joplin_cge.get_output_dataset('domestic-supply')\n",
    "ds = domestic_supply.get_dataframe_from_csv()\n",
    "ds.head(6)"
   ]
  },
  {
   "cell_type": "code",
   "execution_count": null,
   "metadata": {},
   "outputs": [],
   "source": [
    "gross_income = joplin_cge.get_output_dataset('gross-income')\n",
    "gi = gross_income.get_dataframe_from_csv()\n",
    "gi.head()"
   ]
  },
  {
   "cell_type": "code",
   "execution_count": null,
   "metadata": {},
   "outputs": [],
   "source": [
    "pre_factor_demand = joplin_cge.get_output_dataset('pre-disaster-factor-demand')\n",
    "pre_fd = pre_factor_demand.get_dataframe_from_csv()\n",
    "pre_fd.head()"
   ]
  },
  {
   "cell_type": "code",
   "execution_count": null,
   "metadata": {},
   "outputs": [],
   "source": [
    "post_factor_demand = joplin_cge.get_output_dataset('post-disaster-factor-demand')\n",
    "pos_fd = post_factor_demand.get_dataframe_from_csv()\n",
    "pos_fd.head()"
   ]
  },
  {
   "cell_type": "code",
   "execution_count": null,
   "metadata": {},
   "outputs": [],
   "source": [
    "household_count = joplin_cge.get_output_dataset('household-count')\n",
    "hc = household_count.get_dataframe_from_csv()\n",
    "hc.head()"
   ]
  },
  {
   "cell_type": "markdown",
   "metadata": {},
   "source": [
    "#### 5.2. Economic Resilience Metrics"
   ]
  },
  {
   "cell_type": "markdown",
   "metadata": {},
   "source": [
    "##### 5.2.1. Percent Reduction of  Domestic Supply"
   ]
  },
  {
   "cell_type": "code",
   "execution_count": null,
   "metadata": {},
   "outputs": [],
   "source": [
    "plt.rcdefaults()\n",
    "fig_ds, ax_ds = plt.subplots()\n",
    "\n",
    "sectors_ds = ('Goods', 'Trades', 'Others', 'Housing service 1', 'Housing service 2', 'Housing service 3')\n",
    "y_pos_ds = np.arange(len(sectors_ds))\n",
    "perf_ds = (1 - ds['DSL'] / ds['DS0']) * 100  # percentage\n",
    "\n",
    "for i, v in enumerate(round(perf_ds, 2)):\n",
    "    ax_ds.text(v + 2, i, str(v), color='black', fontweight='bold')\n",
    "ax_ds.barh(y_pos_ds, perf_ds, align='center', height=0.8)\n",
    "ax_ds.set_yticks(y_pos_ds)\n",
    "ax_ds.set_yticklabels(sectors_ds)\n",
    "ax_ds.invert_yaxis()\n",
    "ax_ds.set_title('Economic Resilience Metrics Percentage Change', fontsize=12, weight='bold')\n",
    "ax_ds.set_xlabel('Percent reduction of domestic supply (%)')\n",
    "plt.xlim(0, 50)\n",
    "fig_ds.tight_layout()\n",
    "plt.show()"
   ]
  },
  {
   "cell_type": "markdown",
   "metadata": {},
   "source": [
    "##### 5.2.2. Factor demand percent reduction before and after disaster"
   ]
  },
  {
   "cell_type": "code",
   "execution_count": null,
   "metadata": {},
   "outputs": [],
   "source": [
    "# Labor groups\n",
    "data_pre = {\"Sectors\": [\"L1\", \"L2\", \"L3\"],\n",
    "            \"GOODS\": [449.006038, 3282.049564, 3013.051661],\n",
    "            \"TRADE\": [2729.055379, 4360.095686, 1851.044407],\n",
    "            \"OTHER\": [6306.146353, 12396.308192, 5444.146479]}\n",
    "pre_fd = pd.DataFrame(data_pre)\n",
    "data_pos = {\"Sectors\": [\"L1\", \"L2\", \"L3\"],\n",
    "            \"GOODS\": [438.913649, 3195.254485, 2919.538642],\n",
    "            \"TRADE\": [2586.192593, 4115.076833, 1738.785852],\n",
    "            \"OTHER\": [6026.389334, 11798.285962, 5157.077844]}\n",
    "pos_fd = pd.DataFrame(data_pos)\n",
    "\n",
    "perf_gd = (1 - pos_fd['GOODS'] / pre_fd['GOODS']) * 100  # percentage\n",
    "perf_tr = (1 - pos_fd['TRADE'] / pre_fd['TRADE']) * 100\n",
    "perf_ot = (1 - pos_fd['OTHER'] / pre_fd['OTHER']) * 100\n",
    "\n",
    "# Labor groups\n",
    "labor_groups = ('L1', 'L2', 'L3')\n",
    "goods = perf_gd.values.round(2).tolist()\n",
    "trade = perf_tr.values.round(2).tolist()\n",
    "other = perf_ot.values.round(2).tolist()\n",
    "\n",
    "y_pos_fd = np.arange(len(labor_groups))\n",
    "\n",
    "plt.rcdefaults()\n",
    "df_all = pd.DataFrame({'goods': goods, 'trade': trade, 'other': other}, index = labor_groups)\n",
    "ax_fd = df_all.plot.barh(align='center')\n",
    "\n",
    "for i, v in enumerate(round(perf_gd, 2)):\n",
    "    ax_fd.text(v + 0.3, i - 0.15, str(v), color='black', fontweight='bold')\n",
    "for i, v in enumerate(round(perf_tr, 2)):\n",
    "    ax_fd.text(v + 0.3, i + 0.05, str(v), color='black', fontweight='bold')\n",
    "for i, v in enumerate(round(perf_ot, 2)):\n",
    "    ax_fd.text(v + 0.3, i + 0.25, str(v), color='black', fontweight='bold')\n",
    "ax_fd.set_yticks(y_pos_fd)\n",
    "ax_fd.set_yticklabels(labor_groups)\n",
    "ax_fd.invert_yaxis()\n",
    "ax_fd.set_xlabel('Factor demand reduction (%)')\n",
    "ax_fd.set_title('Factor demand after disaster', fontsize=12, weight='bold')\n",
    "plt.xlim(0, 10)\n",
    "plt.show()"
   ]
  },
  {
   "cell_type": "markdown",
   "metadata": {},
   "source": [
    "##### 5.2.3. Percent Reduction of Employment"
   ]
  },
  {
   "cell_type": "code",
   "execution_count": null,
   "metadata": {},
   "outputs": [],
   "source": [
    "plt.rcdefaults()\n",
    "fig_hc, ax_hc = plt.subplots()\n",
    "household_hc = ('HH1 (less than $15,000)', 'HH2 ($15,000 to 24,999)', 'HH3 ($25,000 to 74,999)',\n",
    "                'HH4 ($75,000 to 99,999)', 'HH5 ($100,000 or more)')\n",
    "y_pos = np.arange(len(household_hc))\n",
    "perf_hc = (1 - hc['HHL'] / hc['HH0']) * 100  # percentage\n",
    "\n",
    "for i, v in enumerate(round(perf_hc, 2)):\n",
    "    ax_hc.text(v + 0.3, i, str(v), color='black', fontweight='bold')\n",
    "ax_hc.barh(y_pos, perf_hc, align='center', height=0.6)\n",
    "ax_hc.set_yticks(y_pos)\n",
    "ax_hc.set_yticklabels(household_hc)\n",
    "ax_hc.invert_yaxis()\n",
    "ax_hc.set_title('Economic Resilience Metrics Percentage Change', fontsize=12, weight='bold')\n",
    "ax_hc.set_xlabel('Percent reduction of employment (%)')\n",
    "plt.xlim(0, 15)\n",
    "fig_hc.tight_layout()\n",
    "plt.show()"
   ]
  },
  {
   "cell_type": "markdown",
   "metadata": {},
   "source": [
    "### 6. Sociological Analysis"
   ]
  },
  {
   "cell_type": "markdown",
   "metadata": {},
   "source": [
    "This section introduces the sociology-based analysis which may be integrated with hazard and building damage analysis. In this example the damage to buildings drives the population dislocation algorithm at the household level. "
   ]
  },
  {
   "cell_type": "markdown",
   "metadata": {},
   "source": [
    "#### 6.1. Population Dislocation Model"
   ]
  },
  {
   "cell_type": "markdown",
   "metadata": {},
   "source": [
    "The population dislocation model depends first on the allocation of detailed housing unit and household characteristic data to each residential building within the community. The allocation of detailed household characteristic data provides an estimate of the number of people that live within each structure. The dislocation model is based on household surveys, for a more detailed summary of the dislocation model please refer to Rosenheim, Guidotti, Gardoni, and Peacock 2019.\n",
    "\n",
    "The model predicts which households within the community will be dislocated from their homes immediately following the hazard event."
   ]
  },
  {
   "cell_type": "code",
   "execution_count": null,
   "metadata": {},
   "outputs": [],
   "source": [
    "from pyincore.analyses.populationdislocation import PopulationDislocation, PopulationDislocationUtil"
   ]
  },
  {
   "cell_type": "code",
   "execution_count": null,
   "metadata": {},
   "outputs": [],
   "source": [
    "housing_unit_alloc = \"5dc1c196b9219c06dd2e3f0b\"\n",
    "bg_data = \"5d4c9545b9219c0689b2358a\"\n",
    "value_loss = \"60354810e379f22e16560dbd\""
   ]
  },
  {
   "cell_type": "code",
   "execution_count": null,
   "metadata": {},
   "outputs": [],
   "source": [
    "# Create Population dislocation analysis\n",
    "pop_dis = PopulationDislocation(client)"
   ]
  },
  {
   "cell_type": "code",
   "execution_count": null,
   "metadata": {},
   "outputs": [],
   "source": [
    "# Load analysis input datasets\n",
    "pop_dis.load_remote_input_dataset(\"housing_unit_allocation\", housing_unit_alloc)\n",
    "pop_dis.load_remote_input_dataset(\"block_group_data\", bg_data)\n",
    "pop_dis.load_remote_input_dataset(\"value_loss_param\", value_loss)\n",
    "\n",
    "pop_dis.set_input_dataset(\"building_dmg\", building_dmg_result)  # Load the Joplin building damage results dataset \n",
    "                                                                # generated from the previous model as an input"
   ]
  },
  {
   "cell_type": "code",
   "execution_count": null,
   "metadata": {},
   "outputs": [],
   "source": [
    "result_name = \"pop-dislocation-results\"\n",
    "seed = 1111\n",
    "\n",
    "pop_dis.set_parameter(\"result_name\", result_name)\n",
    "pop_dis.set_parameter(\"seed\", seed)"
   ]
  },
  {
   "cell_type": "code",
   "execution_count": null,
   "metadata": {},
   "outputs": [],
   "source": [
    "pop_dis.run_analysis()\n",
    "\n",
    "# Retrieve result dataset\n",
    "result = pop_dis.get_output_dataset(\"result\")\n",
    "\n",
    "# Convert dataset to Pandas DataFrame\n",
    "df = result.get_dataframe_from_csv(low_memory=False)\n",
    "df.head()"
   ]
  },
  {
   "cell_type": "markdown",
   "metadata": {},
   "source": [
    "#### 6.2. Sociological Resilience Metrics"
   ]
  },
  {
   "cell_type": "markdown",
   "metadata": {},
   "source": [
    "##### 6.2.1. Percent of Population Dislocation"
   ]
  },
  {
   "cell_type": "markdown",
   "metadata": {},
   "source": [
    "The PopulationDislocation model predicts the probability of dislocation using a logistic regression model based on household level surveys from Hurricane Andrew in 1992, which was a major wind event. The logistic regression equation provides a probability of dislocation based on the value loss and the other factors. For more details on the population dislocation algorithm and the logistic regression model see Rosenheim et al 2019. \n",
    "\n",
    "To determine if a household dislocate a random value was uniformly sampled between 0 and 1: if this value was lower than the probability of dislocation, then the household was set to dislocate. The results below provide one example of how the output can be explored by population subgroups. The model is designed to run as part of a larger Monte Carlo Simulation."
   ]
  },
  {
   "cell_type": "code",
   "execution_count": null,
   "metadata": {},
   "outputs": [],
   "source": [
    "result = pop_dis.get_output_dataset(\"result\")\n",
    "\n",
    "df = result.get_dataframe_from_csv(low_memory=False)\n",
    "# Select Housing units allocated to buildings"
   ]
  },
  {
   "cell_type": "code",
   "execution_count": null,
   "metadata": {},
   "outputs": [],
   "source": [
    "table_title = \"Total population by tenure status and dislocation.\"\n",
    "pd.crosstab(df['ownershp'], df['dislocated'], df['numprec'], aggfunc = sum,\n",
    "            dropna=True, margins=True, margins_name=\"Total\").style.set_caption(table_title)"
   ]
  },
  {
   "cell_type": "code",
   "execution_count": null,
   "metadata": {},
   "outputs": [],
   "source": [
    "table_title = \"Percent population by tenure status and dislocation.\"\n",
    "pd.crosstab(df['ownershp'], df['dislocated'], df['numprec'], aggfunc = sum, normalize='index',\n",
    "            dropna=True, margins=True, margins_name=\"Total\").round(4)*100"
   ]
  },
  {
   "cell_type": "markdown",
   "metadata": {},
   "source": [
    "The variable ownershp represents the tenure status of households. When ownershp = 1 the housing unit is owner-occupied. When the ownershp = 2 the housing unit is renter-occupied. \n",
    "The results above provide the percent of the population predicted to dislocate based on tenure status. When the variable dislocated = True the household is predicted to dislocate."
   ]
  },
  {
   "cell_type": "markdown",
   "metadata": {},
   "source": [
    "### 7. References"
   ]
  },
  {
   "cell_type": "markdown",
   "metadata": {},
   "source": [
    "Attary, N., van de Lindt, J. W., Mahmoud, H., Smith, S., Navarro, C. M., Kim, Y. W., & Lee, J. S. (2018). Hindcasting community-level building damage for the 2011 Joplin EF5 tornado. Natural Hazards, 93(3), 1295-1316."
   ]
  },
  {
   "cell_type": "markdown",
   "metadata": {},
   "source": [
    "Attary, N., van de Lindt, J. W., Mahmoud, H., & Smith, S. (2018). Hindcasting Community-Level Damage to the Interdependent Buildings and Electric Power Network after the 2011 Joplin, Missouri, Tornado. Natural Hazards Review, 20(1), 04018027."
   ]
  },
  {
   "cell_type": "markdown",
   "metadata": {},
   "source": [
    "Memari, M., Attary, N., Masoomi, H., Mahmoud, H., van de Lindt, J. W., Pilkington, S. F., & Ameri, M. R. (2018). Minimal building fragility portfolio for damage assessment of communities subjected to tornadoes. Journal of Structural Engineering, 144(7), 04018072."
   ]
  },
  {
   "cell_type": "markdown",
   "metadata": {},
   "source": [
    "Guidotti, R., Gardoni, P., & Rosenheim, N. (2019). Integration of physical infrastructure and social systems in communities’ reliability and resilience analysis. Reliability Engineering & System Safety, 185, 476-492. https://doi.org/10.1016/j.ress.2019.01.008"
   ]
  },
  {
   "cell_type": "markdown",
   "metadata": {},
   "source": [
    "Rosenheim, N., Guidotti, R., Gardoni, P., & Peacock, W. (2019). Integration of detailed household and housing unit characteristic data with critical infrastructure for post-hazard resilience modeling. Sustainable and Resilient Infrastructure. https://doi.org/10.1080/23789689.2019.1681821"
   ]
  }
 ],
 "metadata": {
  "kernelspec": {
   "display_name": "Python 3 (ipykernel)",
   "language": "python",
   "name": "python3"
  },
  "language_info": {
   "codemirror_mode": {
    "name": "ipython",
    "version": 3
   },
   "file_extension": ".py",
   "mimetype": "text/x-python",
   "name": "python",
   "nbconvert_exporter": "python",
   "pygments_lexer": "ipython3",
   "version": "3.8.13"
  }
 },
 "nbformat": 4,
 "nbformat_minor": 4
}
