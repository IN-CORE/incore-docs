{
 "cells": [
  {
   "cell_type": "markdown",
   "metadata": {
    "id": "Aaw9GZpzGZl9"
   },
   "source": [
    "# Galveston Testbed"
   ]
  },
  {
   "cell_type": "markdown",
   "metadata": {
    "id": "QtFZ7GP5GZmC"
   },
   "source": [
    "## 1 Background:\n",
    "Galveston Island is a barrier island located southeast of Houston, TX. The region has been repeatedly impacted by coastal storms and flood hazards, and has a population that is racially and ethnically diverse, with a wide income distribution. This testbed was created to provide an opportunity to: \n",
    "\n",
    "a) Investigate the multi-hazard surge, wave, inundation, and wind hazards in coastal settings.\n",
    "\n",
    "b) Consider interdependent infrastructure systems including buildings, transportation, and power.\n",
    "\n",
    "c) Leverage historical social-science data, informing population dislocation and recovery modeling. \n",
    "\n",
    "d) Evaluate hybrid metrics of community resilience, such as those that require coupled modeling between social and physical systems.\n",
    "\n",
    "![Galveston](images/Galveston.png)\n"
   ]
  },
  {
   "cell_type": "markdown",
   "metadata": {
    "id": "BbK3LrIQGZmD"
   },
   "source": [
    "The current notebook is a **WORK-IN-PROGRESS** that consists of the following modules:\n",
    "\n",
    "a)\tFlood Surge, Wave, and Inundation Models \n",
    "\n",
    "b)\tGalveston Building Damage Analysis \n",
    "\n",
    "c)\tGalveston Household Unit Allocation\n",
    "\n",
    "d)\tGalveston Population Dislocation Model based on Hurricane IKE\n",
    "\n",
    "Other modules such as road and bridge damage analysis, power system analysis, and network analysis to investigate the connectivity of building clusters to emergency services and power will be added to the Notebook in the near future, as associated models are deployed in INCORE.\n"
   ]
  },
  {
   "cell_type": "markdown",
   "metadata": {},
   "source": [
    "## Prerequisites\n",
    "\n",
    "The following modules are necessary to run this notebook. To ensure dependencies are correct, install all modules through **conda**.\n",
    "\n",
    "| Module | Version | Notes |\n",
    "| --- | --- | --- |\n",
    "| pyIncore | =>1.3.0 | see: https://incore.ncsa.illinois.edu/doc/incore/install_pyincore.html |\n",
    "| pyIncore_viz | =>1.5.0 | see: https://incore.ncsa.illinois.edu/doc/pyincore_viz/index.html |"
   ]
  },
  {
   "cell_type": "markdown",
   "metadata": {
    "id": "4-lXOMjPGZmD"
   },
   "source": [
    "## 2 Flood Surge, Wave, and Inundation Models:\n",
    "\n",
    "Galveston Island was struck by Hurricane Ike in September, 2008, with maximum windspeeds of 49 m/s (95 kts) and storm surge elevations reaching at least +3.5 m (NAVD88) on Galveston Island. A full hindcast of Hurricane Ike’s water levels, and wave conditions along with 2%, 1%, and 0.2% Annual Exceedance Probabilities (AEP) were created using the dynamically coupled versions of the Advanced Circulation (ADCIRC) and Simulating Waves Nearshore (SWAN) models. The hindcast simulation was performed using a high-resolution unstructured mesh of the Texas coast, with coverage of the entire Gulf of Mexico basin, having more than 3.3 million nodes and 6.6 million mesh elements. The data are available in terms of 100-m rasterized files with the following IDs in INCORE:\n",
    "\n",
    "- Hurricane Ike Hindcast: ID: `5fa5a228b6429615aeea4410`\n",
    "\n",
    "- 2% Annual Exceedance Probability (50-yr return period): ID: `5fa5a83c7e5cdf51ebf1adae`\n",
    "\n",
    "- 1% Annual Exceedance Probability (100-yr return period): ID: `5fa5a9497e5cdf51ebf1add2`\n",
    "\n",
    "- 0.2% Annual Exceedance Probability  (500-yr return period): ID: `5fa5aa19b6429615aeea4476`\n",
    "\n",
    "There is also a hazard scenario generated based on historical data with the following ID: `5f15cd627db08c2ccc4e3bab`\n"
   ]
  },
  {
   "cell_type": "markdown",
   "metadata": {
    "id": "mcgscFEeGZmE"
   },
   "source": [
    "## 3 Galveston Building Damage\n",
    "\n",
    "The following code is preparing the IN-CORE analysis by checking versions and connecting to IN-CORE web service."
   ]
  },
  {
   "cell_type": "code",
   "execution_count": null,
   "metadata": {
    "id": "lYWzt63kGZmE"
   },
   "outputs": [],
   "source": [
    "import pandas as pd\n",
    "import geopandas as gpd # For reading in shapefiles\n",
    "import numpy as np\n",
    "import sys # For displaying package versions\n",
    "import os # For managing directories and file paths if drive is mounted\n",
    "\n",
    "from pyincore import IncoreClient, Dataset, FragilityService, MappingSet, DataService, FragilityCurveSet\n",
    "from pyincore.analyses.buildingdamage.buildingdamage import BuildingDamage\n",
    "\n",
    "from pyincore_viz.geoutil import GeoUtil as viz\n",
    "from pyincore_viz.plotutil import PlotUtil as plot"
   ]
  },
  {
   "cell_type": "code",
   "execution_count": null,
   "metadata": {
    "id": "-0DD5oZQGZmE",
    "outputId": "595824fb-2113-4e66-b725-75923d2ce3d4"
   },
   "outputs": [],
   "source": [
    "# Check package versions - good practice for replication\n",
    "print(\"Python Version \", sys.version)\n",
    "print(\"pandas version: \", pd.__version__)\n",
    "print(\"numpy version: \", np.__version__)"
   ]
  },
  {
   "cell_type": "code",
   "execution_count": null,
   "metadata": {
    "id": "iAmQaBxWGZmF",
    "outputId": "f775f207-3437-4401-9df0-1d9178532254"
   },
   "outputs": [],
   "source": [
    "# Check working directory - good practice for relative path access\n",
    "os.getcwd()"
   ]
  },
  {
   "cell_type": "code",
   "execution_count": null,
   "metadata": {
    "id": "mmtS_n2BGZmG",
    "outputId": "1197df95-2cde-4b42-ed6e-c8f02504720e"
   },
   "outputs": [],
   "source": [
    "client = IncoreClient()"
   ]
  },
  {
   "cell_type": "markdown",
   "metadata": {
    "id": "u_GpetTXGZmG"
   },
   "source": [
    "### 3.1 Building Inventory\n",
    "\n",
    "The building inventory for Galveston consists of 18,962 individual residential households. This inventory is also mappable to housing unit info of 32,501 individual households explained later in this notebook. It should be noted that the reason that the building and household data are different in terms of numbers is that each individual building can be composed of a few households. The building inventory consists of three major parameters that are used to estimate the fragility of buildings explained shortly later in this notebook. The three parameters are: \n",
    "\n",
    "a) Elevation of the lowest horizontal structural member\n",
    "\n",
    "b) Age group of the building (1, 2, 3, and 4 representing age group pre-1974, 1974–1987, 1987–1995, and 1995– 2008, respectively) \n",
    "\n",
    "c) Elevation of the building with respect to the ground\n"
   ]
  },
  {
   "cell_type": "markdown",
   "metadata": {
    "id": "t7Th0brDGZmH"
   },
   "source": [
    "### 3.2 Building Fragility\n",
    "\n",
    "The fragility model used to estimate failure probability during storm surge events is extracted from:\n",
    "\n",
    ">Tomiczek, T. Kennedy, A, and Rogers, S., 2013. Collapse limit state fragilities of wood-framed residences from storm surge and waves during Hurricane Ike. Journal of Waterway, Port, Coastal, and Ocean Engineering, 140(1), pp.43-55.\n",
    "\n",
    "This empirical fragility model was developed based on Hurricane Ike surveys of almost 2000 individual wood-frame buildings coupled with high resolution hindcast of the hurricane. For this study two states of damage, “Collapse” and “Survival” were considered.\n",
    "________________________________________\n",
    "The input parameters to the fragility model are:\n",
    "\n",
    "1) Surge: surge level (m) coming from hazard data\n",
    "\n",
    "2) Hs: Significant wave height (m) coming from hazard data\n",
    "\n",
    "3) LHSM: Elevation of the lowest horizontal structural member (ft) coming from building inventory\n",
    "\n",
    "4) age_group: Age group of the building (1, 2,3, and 4 representing age group pre-1974, 1974–1987, 1987–1995, and 1995– 2008, respectively) coming from building Inventory\n",
    "\n",
    "5) G_elev: Elevation of the building with respect to the ground (m) coming from building inventory\n",
    "________________________________________\n",
    "Output:\n",
    "Pf: probability of failure\n",
    "________________________________________\n",
    "In order to calculate the probability of failure, first we need to estimate the relative surge height compared to the ground level from:\n",
    "𝑑𝑠=𝑆𝑢𝑟𝑔𝑒−𝐺𝑒𝑙𝑒𝑣ds\n",
    "\n",
    "Subsequently, we need to calculate the following parameter\n",
    "\n",
    "𝐹𝐵ℎ𝑠=−(𝑑𝑠+0.7∗𝐻𝑠−𝐿𝐻𝑆𝑀∗0.3048)\n",
    "Note: 0.3048 is to convert ft to m as the inventory data are in ft.\n",
    "\n",
    "Then:\n",
    "\n",
    "For FB_hs>= -2.79*Hs the probability of failure is calculated as:\n",
    "𝑃𝑓=Φ(−3.56+1.52∗𝐻𝑠−1.73∗𝐻𝑠∗𝐹𝐵ℎ𝑠−0.31∗𝐹𝐵2ℎ𝑠−0.141∗𝑎𝑔𝑒2𝑔𝑟𝑜𝑢𝑝)\n",
    "\n",
    "and for FB_hs< -2.79*Hs\n",
    "𝑃𝑓=Φ(−3.56+1.52∗𝐻𝑠+2.42∗𝐹𝐵2ℎ𝑠−0.141∗𝑎𝑔𝑒2𝑔𝑟𝑜𝑢𝑝)\n",
    "Where Φ denotes the Cumulative Density Function (CDF) of standard normal distribution.\n",
    "________________________________________\n",
    "Example:\n",
    "If Surge=3 m, Hs =2 m, LHSM=9 ft, age_group=4; G_elev =1 m\n",
    "Then Pf= 0.2620\n"
   ]
  },
  {
   "cell_type": "code",
   "execution_count": null,
   "metadata": {},
   "outputs": [],
   "source": [
    "# use utility method of pyicore-viz package to visulaize the fragility\n",
    "fragility_set = FragilityCurveSet(FragilityService(client).get_dfr3_set(\"5f6ccf67de7b566bb71b202d\"))\n",
    "plt = plot.get_fragility_plot_3d(fragility_set, \n",
    "                                            title=\"Galveston empirical fragility model developed \"\n",
    "                                            \"based on Hurricane Ike surveys\",\n",
    "                                            limit_state=\"LS_0\")\n",
    "plt.show()"
   ]
  },
  {
   "cell_type": "markdown",
   "metadata": {},
   "source": [
    "The following code sets up a buidling damage analysis with input datasets and parameters, then runs the analysis"
   ]
  },
  {
   "cell_type": "code",
   "execution_count": null,
   "metadata": {
    "id": "sbVcGkOpGZmH"
   },
   "outputs": [],
   "source": [
    "hazard_type = \"hurricane\"\n",
    "# Galveston deterministic Hurricane, 3 datasets - Kriging\n",
    "hazard_id = \"5fa5a228b6429615aeea4410\"\n",
    "# visualization\n",
    "wave_height_id = \"5f15cd62c98cf43417c10a3f\"\n",
    "surge_level_id = \"5f15cd5ec98cf43417c10a3b\"\n",
    "\n",
    "# Galveston, TX Building inventory\n",
    "bldg_inv_id = \"60354b6c123b4036e6837ef7\"\n",
    "\n",
    "# Hurricane building mapping (with equation)\n",
    "mapping_id = \"602c381a1d85547cdc9f0675\"\n",
    "fragility_service = FragilityService(client)\n",
    "mapping_set = MappingSet(fragility_service.get_mapping(mapping_id))"
   ]
  },
  {
   "cell_type": "code",
   "execution_count": null,
   "metadata": {},
   "outputs": [],
   "source": [
    "# visualize wave height\n",
    "dataset = Dataset.from_data_service(wave_height_id, DataService(client))\n",
    "map = viz.map_raster_overlay_from_file(dataset.get_file_path('tif'))\n",
    "map"
   ]
  },
  {
   "cell_type": "code",
   "execution_count": null,
   "metadata": {},
   "outputs": [],
   "source": [
    "# add opacity control - NOTE: It takes time before the opacity takes effect.\n",
    "map.layers[1].interact(opacity=(0.0,1.0,0.01))"
   ]
  },
  {
   "cell_type": "code",
   "execution_count": null,
   "metadata": {},
   "outputs": [],
   "source": [
    "# visualize surge level\n",
    "dataset = Dataset.from_data_service(surge_level_id, DataService(client))\n",
    "map = viz.map_raster_overlay_from_file(dataset.get_file_path('tif'))\n",
    "map"
   ]
  },
  {
   "cell_type": "code",
   "execution_count": null,
   "metadata": {},
   "outputs": [],
   "source": [
    "# add opacity control - NOTE: It takes time before the opacity takes effect.\n",
    "map.layers[1].interact(opacity=(0.0,1.0,0.01))"
   ]
  },
  {
   "cell_type": "code",
   "execution_count": null,
   "metadata": {
    "id": "gnp7pQfaGZmI",
    "outputId": "45c2ce8c-896e-4bce-ef8c-c378fde8d7c8"
   },
   "outputs": [],
   "source": [
    "bldg_dmg = BuildingDamage(client)\n",
    "\n",
    "bldg_dmg.load_remote_input_dataset(\"buildings\", bldg_inv_id)\n",
    "bldg_dmg.set_input_dataset(\"dfr3_mapping_set\", mapping_set)"
   ]
  },
  {
   "cell_type": "code",
   "execution_count": null,
   "metadata": {
    "id": "Axq9rTiUGZmI",
    "outputId": "1416bae5-65f9-4177-c628-eb1b893fe796"
   },
   "outputs": [],
   "source": [
    "result_name = \"Galveston_bldg_dmg_result\"\n",
    "\n",
    "bldg_dmg.set_parameter(\"fragility_key\", \"Hurricane SurgeLevel and WaveHeight Fragility ID Code\")\n",
    "bldg_dmg.set_parameter(\"result_name\", result_name)\n",
    "bldg_dmg.set_parameter(\"hazard_type\", hazard_type)\n",
    "bldg_dmg.set_parameter(\"hazard_id\", hazard_id)\n",
    "bldg_dmg.set_parameter(\"num_cpu\", 4)"
   ]
  },
  {
   "cell_type": "code",
   "execution_count": null,
   "metadata": {
    "id": "aCNsFbSoGZmI"
   },
   "outputs": [],
   "source": [
    "bldg_dmg.run_analysis()"
   ]
  },
  {
   "cell_type": "markdown",
   "metadata": {},
   "source": [
    "### 3.3 Explore Building Damage Results"
   ]
  },
  {
   "cell_type": "code",
   "execution_count": null,
   "metadata": {
    "id": "Nwbhz6OBGZmI"
   },
   "outputs": [],
   "source": [
    "# Retrieve result dataset\n",
    "building_dmg_result = bldg_dmg.get_output_dataset('ds_result')"
   ]
  },
  {
   "cell_type": "code",
   "execution_count": null,
   "metadata": {
    "id": "kLZpKlbpGZmJ"
   },
   "outputs": [],
   "source": [
    "# Convert dataset to Pandas DataFrame\n",
    "bdmg_df = building_dmg_result.get_dataframe_from_csv(low_memory=False)\n",
    "\n",
    "# Display top 5 rows of output data\n",
    "bdmg_df.head()"
   ]
  },
  {
   "cell_type": "code",
   "execution_count": null,
   "metadata": {},
   "outputs": [],
   "source": [
    "bdmg_df.DS_0.describe()"
   ]
  },
  {
   "cell_type": "code",
   "execution_count": null,
   "metadata": {},
   "outputs": [],
   "source": [
    "bdmg_df.DS_3.describe()"
   ]
  },
  {
   "cell_type": "markdown",
   "metadata": {},
   "source": [
    "Based on hazard and damage analsyis 87% of structures would survive damage and 13% would have collapse from damage."
   ]
  },
  {
   "cell_type": "markdown",
   "metadata": {
    "id": "IBWLPvv_GZmJ"
   },
   "source": [
    "## 4 Galveston Housing Unit Allocation (HUA)\n",
    "\n",
    "Housing Unit Allocation using Galveston, Texas Housing Unit Inventory\n",
    "\n",
    "Here we link high-resolution spatial data on 32501 individual household and housing unit characteristics to residential buildings. Critical for linking socio-economic data within IN-CORE. For evacuation example HUA is required to identify the people that may not evacuate after event.\n",
    "The models come from: \n",
    "\n",
    ">Rosenheim, Nathanael, Roberto Guidotti, Paolo Gardoni & Walter Gillis Peacock. (2019). Integration of detailed household and housing unit characteristic data with critical infrastructure for post-hazard resilience modeling. Sustainable and Resilient Infrastructure. doi.org/10.1080/23789689.2019.1681821\n"
   ]
  },
  {
   "cell_type": "code",
   "execution_count": null,
   "metadata": {
    "id": "VLsYgJadGZmJ"
   },
   "outputs": [],
   "source": [
    "from pyincore.analyses.housingunitallocation import HousingUnitAllocation"
   ]
  },
  {
   "cell_type": "markdown",
   "metadata": {
    "id": "IZcmB2eXGZmK"
   },
   "source": [
    "### 4.1 Initial Interdependent Community Description - Galveston, Texas\n",
    "\n",
    "Explore building inventory and social systems. Specifically look at how the building inventory connects with the housing unit inventory using the housing unit allocation.\n",
    "The housing unit allocation method will provide detail demographic characteristics for the community allocated to each structure.\n",
    "\n",
    "To run the HUA Algorithm, three input datasets are required:\n",
    "\n",
    "1. Housing Unit Inventory - Based on 2010 US Census Block Level Data\n",
    "\n",
    "2. Address Point Inventory - A list of all possible residential/business address points in a community. Address points are the link between buildings and housing units.\n",
    "\n",
    "3. Building Inventory - A list of all buildings within a community.\n"
   ]
  },
  {
   "cell_type": "code",
   "execution_count": null,
   "metadata": {
    "id": "9MZA551GGZmK"
   },
   "outputs": [],
   "source": [
    "# Galveston, TX Housing unit inventory\n",
    "housing_unit_inv = \"5fc6ab1cd2066956f49e7a03\"\n",
    "# Galveston, TX Address point inventory\n",
    "address_point_inv = \"5fc6aadcc38a0722f563392e\"\n",
    "# Galveston, TX Building inventory\n",
    "# bldg_inv_id in chapter 3.2"
   ]
  },
  {
   "cell_type": "markdown",
   "metadata": {
    "id": "L5jWhyppGZmK"
   },
   "source": [
    "### 4.2 Set Up and Run Housing Unit Allocation"
   ]
  },
  {
   "cell_type": "code",
   "execution_count": null,
   "metadata": {
    "id": "A5A74mOeGZmK",
    "outputId": "4e6b70fe-9401-41e9-ba7b-241346a317e3"
   },
   "outputs": [],
   "source": [
    "# Create housing allocation \n",
    "hua = HousingUnitAllocation(client)\n",
    "\n",
    "# Load input dataset\n",
    "hua.load_remote_input_dataset(\"housing_unit_inventory\", housing_unit_inv)\n",
    "hua.load_remote_input_dataset(\"address_point_inventory\", address_point_inv)\n",
    "hua.load_remote_input_dataset(\"buildings\", bldg_inv_id)\n",
    "\n",
    "# Specify the result name\n",
    "result_name = \"Galveston_HUA\"\n",
    "\n",
    "seed = 1238\n",
    "iterations = 1\n",
    "\n",
    "# Set analysis parameters\n",
    "hua.set_parameter(\"result_name\", result_name)\n",
    "hua.set_parameter(\"seed\", seed)\n",
    "hua.set_parameter(\"iterations\", iterations)"
   ]
  },
  {
   "cell_type": "code",
   "execution_count": null,
   "metadata": {
    "id": "Mt9L04nHGZmK",
    "outputId": "c6fd1dc1-9651-4693-96d3-59dc4ba871ac"
   },
   "outputs": [],
   "source": [
    "# Run Housing unit allocation analysis\n",
    "hua.run_analysis()"
   ]
  },
  {
   "cell_type": "markdown",
   "metadata": {
    "id": "KyDReMJKGZmL"
   },
   "source": [
    "### 4.3 Explore results from Housing Unit Allocation\n",
    "\n",
    "Keep observations that are matched to a building."
   ]
  },
  {
   "cell_type": "code",
   "execution_count": null,
   "metadata": {
    "id": "aS9uKWlUGZmL",
    "outputId": "ef5c16da-1150-480c-d460-c230e090c21e"
   },
   "outputs": [],
   "source": [
    "# Retrieve result dataset\n",
    "hua_result = hua.get_output_dataset(\"result\")\n",
    "\n",
    "# Convert dataset to Pandas DataFrame\n",
    "hua_df = hua_result.get_dataframe_from_csv(low_memory=False)\n",
    "\n",
    "# Display top 5 rows of output data\n",
    "hua_df[['guid','numprec','incomegroup']].head()"
   ]
  },
  {
   "cell_type": "code",
   "execution_count": null,
   "metadata": {},
   "outputs": [],
   "source": [
    "hua_df.columns"
   ]
  },
  {
   "cell_type": "markdown",
   "metadata": {},
   "source": [
    "#### To help explore data create a new variable that combines race and ethnicity."
   ]
  },
  {
   "cell_type": "code",
   "execution_count": null,
   "metadata": {},
   "outputs": [],
   "source": [
    "def add_race_ethnicity_to_df(df):\n",
    "   \n",
    "    df = df.loc[df['aphumerge'] == 'both']\n",
    "    \n",
    "    df['Race Ethnicity'] = \"0 Vacant HU No Race Ethnicity Data\"\n",
    "    df['Race Ethnicity'].notes = \"Identify Race and Ethnicity Housing Unit Characteristics.\"\n",
    "\n",
    "    df.loc[(df['race'] == 1) & (df['hispan'] == 0),'Race Ethnicity'] = \"1 White alone, Not Hispanic\"\n",
    "    df.loc[(df['race'] == 2) & (df['hispan'] == 0),'Race Ethnicity'] = \"2 Black alone, Not Hispanic\"\n",
    "    df.loc[(df['race'].isin([3,4,5,6,7])) & (df['hispan'] == 0),'Race Ethnicity'] = \"3 Other Race, Not Hispanic\"\n",
    "    df.loc[(df['hispan'] == 1),'Race Ethnicity'] = \"4 Any Race, Hispanic\"\n",
    "    df.loc[(df['gqtype'] >= 1),'Race Ethnicity'] = \"5 Group Quarters no Race Ethnicity Data\"\n",
    "    \n",
    "    return df"
   ]
  },
  {
   "cell_type": "code",
   "execution_count": null,
   "metadata": {},
   "outputs": [],
   "source": [
    "hua_df = add_race_ethnicity_to_df(hua_df)"
   ]
  },
  {
   "cell_type": "code",
   "execution_count": null,
   "metadata": {
    "id": "v-_TSmP4GZmM"
   },
   "outputs": [],
   "source": [
    "table_title = \"Table 1. Total Population by Race and Ethnicity\"\n",
    "table1 = pd.pivot_table(hua_df, values='numprec', index='Race Ethnicity', aggfunc=np.sum)\n",
    "table1.style.set_caption(table_title)"
   ]
  },
  {
   "cell_type": "markdown",
   "metadata": {
    "id": "iSj2dL-tGZmM"
   },
   "source": [
    "### 4.4 Validate the Housing Unit Allocation has worked\n",
    "Notice that the population count totals for the community should match (pretty closely) data collected for the 2010 Decennial Census.\n",
    "This can be confirmed by going to data.census.gov\n",
    "\n",
    "https://data.census.gov/cedsci/table?q=DECENNIALPL2010.P5&g=1600000US4828068,4837252&tid=DECENNIALSF12010.P5\n",
    "    \n",
    "Differences in the housing unit allocation and the Census count may be due to differences between political boundaries and the building inventory. See Rosenheim et al 2019 for more details.\n",
    "\n",
    "The housing unit allocation, plus the building dresults will become the input for the dislocation model."
   ]
  },
  {
   "cell_type": "code",
   "execution_count": null,
   "metadata": {
    "id": "iX1kmzwjGZmM"
   },
   "outputs": [],
   "source": [
    "# Save cleaned HUA file as CSV\n",
    "hua_df.to_csv(result_name + str(seed) + '_cleaned.csv')"
   ]
  },
  {
   "cell_type": "markdown",
   "metadata": {},
   "source": [
    "### 4.5 Visualize heat map"
   ]
  },
  {
   "cell_type": "code",
   "execution_count": null,
   "metadata": {},
   "outputs": [],
   "source": [
    "map = viz.plot_heatmap_from_gdf(hua_df, \"numprec\", radius=7, blur=10, name=\"HUA Heatmap\")\n",
    "map"
   ]
  },
  {
   "cell_type": "markdown",
   "metadata": {
    "id": "L7qmNZ5_GZmM"
   },
   "source": [
    "## 5 Galveston Population Dislocation\n",
    "Population dislocation refers to households that will be forced to leave their pre-event residence due to hazard related damages. Population dislocation is a function of structure value loss due to damage, neighborhood characteristics and structure type."
   ]
  },
  {
   "cell_type": "markdown",
   "metadata": {
    "id": "QhfjknlhGZmN"
   },
   "source": [
    "### 5.1 Set Up and Run Population Dislocation"
   ]
  },
  {
   "cell_type": "code",
   "execution_count": null,
   "metadata": {
    "id": "x1dlsN9EGZmN"
   },
   "outputs": [],
   "source": [
    "from pyincore.analyses.populationdislocation import PopulationDislocation"
   ]
  },
  {
   "cell_type": "code",
   "execution_count": null,
   "metadata": {
    "id": "OTBZiln8GZmN"
   },
   "outputs": [],
   "source": [
    "# Galveston, TX Block group data, IN-CORE_BGMAP_2021-01-19_GalvestonTX\n",
    "bg_data = \"603545f2dcda03378087e708\"\n",
    "# Value loss parameters DS 0-3\n",
    "value_loss = \"60354810e379f22e16560dbd\""
   ]
  },
  {
   "cell_type": "code",
   "execution_count": null,
   "metadata": {
    "id": "LsvuMI83GZmN"
   },
   "outputs": [],
   "source": [
    "pop_dis = PopulationDislocation(client)"
   ]
  },
  {
   "cell_type": "code",
   "execution_count": null,
   "metadata": {
    "id": "GLzFdITbGZmN",
    "outputId": "a786314d-685b-46b9-9ed6-f7e7c8d9fa80"
   },
   "outputs": [],
   "source": [
    "pop_dis.load_remote_input_dataset(\"block_group_data\", bg_data)\n",
    "pop_dis.load_remote_input_dataset(\"value_loss_param\", value_loss)\n",
    "\n",
    "pop_dis.set_input_dataset(\"building_dmg\", building_dmg_result)\n",
    "pop_dis.set_input_dataset(\"housing_unit_allocation\", hua_result)"
   ]
  },
  {
   "cell_type": "code",
   "execution_count": null,
   "metadata": {
    "id": "tu0ICtxPGZmO"
   },
   "outputs": [],
   "source": [
    "result_name = \"galveston-pop-disl-results\"\n",
    "seed = 1111"
   ]
  },
  {
   "cell_type": "code",
   "execution_count": null,
   "metadata": {
    "id": "HNDo3O1ZGZmO",
    "outputId": "394bacfd-a142-4e28-c81d-6879dceda473"
   },
   "outputs": [],
   "source": [
    "pop_dis.set_parameter(\"result_name\", result_name)\n",
    "pop_dis.set_parameter(\"seed\", seed)"
   ]
  },
  {
   "cell_type": "code",
   "execution_count": null,
   "metadata": {
    "id": "Gexl-sytGZmO"
   },
   "outputs": [],
   "source": [
    "pop_dis.run_analysis()"
   ]
  },
  {
   "cell_type": "markdown",
   "metadata": {
    "id": "8vpmiHZ3GZmO"
   },
   "source": [
    "### 5.2 Explore Population Dislocation Results"
   ]
  },
  {
   "cell_type": "code",
   "execution_count": null,
   "metadata": {
    "id": "-Gec2mtDGZmO"
   },
   "outputs": [],
   "source": [
    "# Retrieve result dataset\n",
    "result = pop_dis.get_output_dataset(\"result\")\n",
    "\n",
    "# Convert dataset to Pandas DataFrame\n",
    "pd_df = result.get_dataframe_from_csv(low_memory=False)\n",
    "\n",
    "# Display top 5 rows of output data\n",
    "pd_df.head()"
   ]
  },
  {
   "cell_type": "code",
   "execution_count": null,
   "metadata": {},
   "outputs": [],
   "source": [
    "# To help explore data create a new variable that combines race and ethnicity.\n",
    "pd_df = add_race_ethnicity_to_df(pd_df)\n",
    "\n",
    "# Save cleaned Pop Dislocation file as CSV\n",
    "pd_df.to_csv(result_name + str(seed) + '_cleaned.csv')"
   ]
  },
  {
   "cell_type": "code",
   "execution_count": null,
   "metadata": {},
   "outputs": [],
   "source": [
    "popdisresultstables = pd.pivot_table(pd_df, values='numprec', index=['Race Ethnicity'],\n",
    "                                     margins = True, margins_name = 'Total',\n",
    "                                     columns=['dislocated'], aggfunc=[np.sum]).rename(\n",
    "    columns={'sum': 'Total Population',\n",
    "             False: 'Does not dislocate',\n",
    "             True: 'Dislocates'})\n",
    "# add percent dislocated to table\n",
    "numerator = popdisresultstables[('Total Population','Dislocates')]\n",
    "denomenator = popdisresultstables[('Total Population','Total')]\n",
    "popdisresultstables[('Total Population','Percent Dislocation')] = numerator/denomenator * 100"
   ]
  },
  {
   "cell_type": "code",
   "execution_count": null,
   "metadata": {},
   "outputs": [],
   "source": [
    "table_title = \"Table 1. Population Dislocation for Galveston\"\n",
    "popdisresultstables.style.set_caption(table_title)"
   ]
  }
 ],
 "metadata": {
  "colab": {
   "name": "Galveston_chained_v2.ipynb",
   "provenance": []
  },
  "kernelspec": {
   "display_name": "Python 3 (ipykernel)",
   "language": "python",
   "name": "python3"
  },
  "language_info": {
   "codemirror_mode": {
    "name": "ipython",
    "version": 3
   },
   "file_extension": ".py",
   "mimetype": "text/x-python",
   "name": "python",
   "nbconvert_exporter": "python",
   "pygments_lexer": "ipython3",
   "version": "3.8.13"
  }
 },
 "nbformat": 4,
 "nbformat_minor": 4
}
