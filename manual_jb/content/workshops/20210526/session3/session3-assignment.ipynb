{
 "cells": [
  {
   "cell_type": "markdown",
   "id": "ae298fd7-5865-40d5-b231-7ac9742529f8",
   "metadata": {},
   "source": [
    "# Session 3: Assignment\n",
    "\n",
    "Perform building damage analysis with given earthquake and tornado hazards. Then compare the damages.\n",
    "\n",
    "Please follow the instruction at each cell.\n"
   ]
  },
  {
   "cell_type": "markdown",
   "id": "e7ccb1ab-4c5d-46c0-98e6-d05b508abe63",
   "metadata": {},
   "source": [
    "## 1. Create a local dataset of building inventory from CSV\n",
    "\n",
    "Please use \"shelby_police_fire_stations.csv\" file \n"
   ]
  },
  {
   "cell_type": "code",
   "execution_count": 1,
   "id": "f861ef30-21df-4f41-a706-ec33d575c122",
   "metadata": {
    "tags": []
   },
   "outputs": [],
   "source": [
    "# Import modlues\n",
    "from pyincore import FragilityService, HazardService, IncoreClient, Dataset, MappingSet\n",
    "from pyincore.analyses.buildingdamage import BuildingDamage\n",
    "\n",
    "import pandas as pd\n",
    "import geopandas as gpd \n",
    "import json"
   ]
  },
  {
   "cell_type": "code",
   "execution_count": null,
   "id": "44fd2116-ec57-4ccb-b26c-7db8dfd84bfb",
   "metadata": {},
   "outputs": [],
   "source": [
    "# Connect to IN-CORE serivce by creating IncoreClient\n",
    "client = IncoreClient()"
   ]
  },
  {
   "cell_type": "code",
   "execution_count": null,
   "id": "3ee33690-ea3a-4129-8af7-9bb177516cfc",
   "metadata": {},
   "outputs": [],
   "source": [
    "# Initalize a FragilityService\n",
    "fragility_services = FragilityService(client)"
   ]
  },
  {
   "cell_type": "code",
   "execution_count": null,
   "id": "279a61fb-ba96-475b-ae77-facd4f3d2d8e",
   "metadata": {},
   "outputs": [],
   "source": [
    "# TODO: Load CSV into GeoDataFrame\n"
   ]
  },
  {
   "cell_type": "code",
   "execution_count": null,
   "id": "80ab20bd-5330-4893-a3dc-014040a931ac",
   "metadata": {},
   "outputs": [],
   "source": [
    "# TODO: Export GeoDataFarme to ESRI Shapefile \n",
    "\n"
   ]
  },
  {
   "cell_type": "code",
   "execution_count": null,
   "id": "1f4cb99e-e512-467f-abd3-0afa8b0c0c37",
   "metadata": {
    "tags": []
   },
   "outputs": [],
   "source": [
    "# TODO: add GUID\n"
   ]
  },
  {
   "cell_type": "code",
   "execution_count": null,
   "id": "da4b40c3-004f-4488-bb7d-f888fb4d090a",
   "metadata": {},
   "outputs": [],
   "source": [
    "# TODO: create a dataset boject with ESRI shapefile\n",
    "\n"
   ]
  },
  {
   "cell_type": "markdown",
   "id": "8e0e63c6-1239-444f-a8b9-b32450284f1a",
   "metadata": {
    "tags": []
   },
   "source": [
    "## 2. Perform Building Damage analysis with an Earthquake\n",
    "\n",
    "Perform building damage analysis with the following input parameters and datasets\n",
    "* Hazard type: earthquake\n",
    "* Hazard ID: 5b902cb273c3371e1236b36b\n",
    "* Mapping ID: 5b47b350337d4a3629076f2c\n"
   ]
  },
  {
   "cell_type": "code",
   "execution_count": null,
   "id": "e23e158c-a4a2-4b78-bad5-184e3978528a",
   "metadata": {
    "tags": []
   },
   "outputs": [],
   "source": [
    "# TODO: Define the variables that used for input parameters and datasets\n",
    "hazard_type = \"\"\n",
    "hazard_id = \"\"\n",
    "\n",
    "mapping_id = \"\"\n",
    "\n",
    "result_name = \"\"\n"
   ]
  },
  {
   "cell_type": "code",
   "execution_count": null,
   "id": "f0bde1ee-ec0a-4758-a828-3c933aae33bc",
   "metadata": {},
   "outputs": [],
   "source": [
    "# TODO: create fragility mapping object with id\n"
   ]
  },
  {
   "cell_type": "code",
   "execution_count": 2,
   "id": "576bf9da-b52d-49be-bfe1-767912df5f69",
   "metadata": {
    "tags": []
   },
   "outputs": [],
   "source": [
    "# Create building damage\n",
    "bldg_dmg_eq = BuildingDamage(client)\n",
    "\n",
    "# TODO: Set up building damage analysis \n",
    "\n",
    "\n"
   ]
  },
  {
   "cell_type": "code",
   "execution_count": null,
   "id": "3cda132f-d39d-4043-aeac-f5c41d46fb3c",
   "metadata": {},
   "outputs": [],
   "source": [
    "# TODO: run analysis\n",
    "\n"
   ]
  },
  {
   "cell_type": "code",
   "execution_count": null,
   "id": "de3776b9-6b56-4f0c-a286-724f4773678b",
   "metadata": {},
   "outputs": [],
   "source": [
    "# TODO: Display the output of damage table by using DataFrame\n",
    "\n"
   ]
  },
  {
   "cell_type": "markdown",
   "id": "a3331ae1-138a-4c0e-bb9d-265cd3a31e7e",
   "metadata": {
    "tags": []
   },
   "source": [
    "## 2. Perform Building Damage analysis with an Tornado\n",
    "\n",
    "Perform building damage analysis with the following input parameters and datasets\n",
    "* Hazard type: tornado\n",
    "* Hazard ID: 60ad632f84525d4c31005a84\n",
    "* Mapping ID: 5d8942dfb9219c068ea795ea \n"
   ]
  },
  {
   "cell_type": "code",
   "execution_count": null,
   "id": "08d150d1-2dc1-4ea9-99f2-6abd28b7cd15",
   "metadata": {
    "tags": []
   },
   "outputs": [],
   "source": [
    "# TODO: Define the variables that used for input parameters and datasets\n",
    "hazard_type = \"\"\n",
    "hazard_id = \"\"\n",
    "\n",
    "mapping_id = \"\"\n",
    "\n",
    "result_name = \"\"\n"
   ]
  },
  {
   "cell_type": "code",
   "execution_count": null,
   "id": "30d72cac-867f-450c-8c90-2d595f11fcd2",
   "metadata": {},
   "outputs": [],
   "source": [
    "# TODO: create fragility mapping object with id\n"
   ]
  },
  {
   "cell_type": "code",
   "execution_count": 2,
   "id": "0a445ee3-64f4-485a-aa7b-4da8be40fe87",
   "metadata": {
    "tags": []
   },
   "outputs": [],
   "source": [
    "# Create building damage\n",
    "bldg_dmg_tornado = BuildingDamage(client)\n",
    "\n",
    "# TODO: Set up building damage analysis \n",
    "\n",
    "\n"
   ]
  },
  {
   "cell_type": "code",
   "execution_count": null,
   "id": "e31931d8-25bf-488f-b185-09f60610d245",
   "metadata": {},
   "outputs": [],
   "source": [
    "# TODO: run analysis\n",
    "\n"
   ]
  },
  {
   "cell_type": "code",
   "execution_count": null,
   "id": "aad74e69-b648-4b0c-9388-b46f58146101",
   "metadata": {},
   "outputs": [],
   "source": [
    "# TODO: Display the output of damage table by using DataFrame\n",
    "\n"
   ]
  },
  {
   "cell_type": "markdown",
   "id": "6752013e-4ccc-447a-b042-43fce8bf116a",
   "metadata": {},
   "source": [
    "## 3. Compare damage outputs"
   ]
  },
  {
   "cell_type": "code",
   "execution_count": null,
   "id": "20d9f5b0-f2dd-4a4e-a1bf-bff6974a285f",
   "metadata": {},
   "outputs": [],
   "source": [
    "# TODO: Join two DataFrames with guid\n",
    "\n"
   ]
  },
  {
   "cell_type": "code",
   "execution_count": null,
   "id": "baac574e-32c9-48f3-af8e-bdf184240fa3",
   "metadata": {},
   "outputs": [],
   "source": [
    "# TODO: Display joined dataframe with most damaged (sorted by DS3 decending order)"
   ]
  },
  {
   "cell_type": "markdown",
   "source": [
    "## Answers\n",
    "\n",
    "Please open [session3-assignment-answer.ipynb](session3-assignment-answer.ipynb).\n"
   ],
   "metadata": {
    "collapsed": false
   }
  }
 ],
 "metadata": {
  "kernelspec": {
   "display_name": "Python 3",
   "language": "python",
   "name": "python3"
  },
  "language_info": {
   "codemirror_mode": {
    "name": "ipython",
    "version": 3
   },
   "file_extension": ".py",
   "mimetype": "text/x-python",
   "name": "python",
   "nbconvert_exporter": "python",
   "pygments_lexer": "ipython3",
   "version": "3.8.10"
  }
 },
 "nbformat": 4,
 "nbformat_minor": 5
}