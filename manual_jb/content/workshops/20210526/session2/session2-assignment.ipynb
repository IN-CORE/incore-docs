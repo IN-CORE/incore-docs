{
 "cells": [
  {
   "cell_type": "markdown",
   "id": "0694adca",
   "metadata": {},
   "source": [
    "# Session 2: Assignment\n",
    "\n",
    "Create the following hazards with given information and get hazard values from created hazards\n",
    "* a model-based tornado\n",
    "* a dataset-based earthquake\n",
    "\n",
    "Please follow the instruction at each cell.\n"
   ]
  },
  {
   "cell_type": "markdown",
   "id": "eeefddef",
   "metadata": {},
   "source": [
    "## 1. A model-based tornado\n",
    "\n",
    "Using the data from section 2.2, slightly alter the values of the Centerville tornado and obtain a new set of\n",
    "parameters that differ from the previously seen examples.\n",
    "\n",
    "Tornado model definition:\n",
    "* Tornado Model: MeanWidthTornado\n",
    "* EF Rating: EF3\n",
    "* Start point of path: \n",
    "    * Latitude:\n",
    "    * Longitude: \n",
    "* End point of path:\n",
    "    * Latitude:\n",
    "    * Longitude: \n",
    "* Wind speed method: 1\n",
    "* number of simulation: 1\n",
    "* random seed: 2021\n",
    "\n",
    "After you have obtained them, proceed as shown during the session."
   ]
  },
  {
   "cell_type": "code",
   "execution_count": null,
   "id": "fa0b708f",
   "metadata": {
    "tags": []
   },
   "outputs": [],
   "source": [
    "# Import modules\n",
    "from pyincore import HazardService, IncoreClient\n",
    "import json"
   ]
  },
  {
   "cell_type": "code",
   "execution_count": null,
   "id": "233a216e",
   "metadata": {},
   "outputs": [],
   "source": [
    "# Connect to IN-CORE serivce by creating IncoreClient\n",
    "client = IncoreClient()\n",
    "\n",
    "# Create the HazardService object\n"
   ]
  },
  {
   "cell_type": "code",
   "execution_count": null,
   "id": "7eec0147",
   "metadata": {},
   "outputs": [],
   "source": [
    "# TODO: create a JSON (dictionary) definition of tornado model as given above\n",
    "my_tornado_model = \"\""
   ]
  },
  {
   "cell_type": "code",
   "execution_count": null,
   "id": "3f771459",
   "metadata": {},
   "outputs": [],
   "source": [
    "# TODO: create a tornado with definition \n",
    "\n"
   ]
  },
  {
   "cell_type": "code",
   "execution_count": null,
   "id": "26036930",
   "metadata": {},
   "outputs": [],
   "source": [
    "# TODO: acquire hazard id you created and visualize\n",
    "\n"
   ]
  },
  {
   "cell_type": "code",
   "execution_count": null,
   "id": "c57650c3",
   "metadata": {},
   "outputs": [],
   "source": [
    "# TODO: Getting and printing hazard value from your tornado\n",
    "\n"
   ]
  },
  {
   "cell_type": "markdown",
   "id": "9cedb352",
   "metadata": {
    "tags": []
   },
   "source": [
    "## 2. A dataset-based earthquake\n",
    "\n",
    "Now, using the dataset-driven earthquake definition seen in section 3.3, define a new earthquake hazard.\n",
    "\n",
    "Geotiff files are provided in the folder and here are description of each GeoTiff:\n",
    "* pga-prob.tif\n",
    "    * hazard type: \n",
    "    * demand type:\n",
    "    * demand unit:\n",
    "    * period:\n",
    "    * recurrenceInterval: 50\n",
    "    * recurrenceUnit: years\n",
    "* sa-035-prob.tif\n",
    "    * hazard type: \n",
    "    * demand type:\n",
    "    * demand unit:\n",
    "    * period:\n",
    "    * recurrenceInterval: 50\n",
    "    * recurrenceUnit: years  \n",
    "\n",
    "Note - since these are probabilistic earthquake hazards, eqParameters is not part of the description and is replaced by recurrence information. The rest is the similar to section 3.3. A complete dataset-driven hazard consists of these two files.\n",
    "\n",
    "Proceed as in the prior exercise.\n"
   ]
  },
  {
   "cell_type": "code",
   "execution_count": null,
   "id": "7376b2ee",
   "metadata": {
    "tags": []
   },
   "outputs": [],
   "source": [
    "# TODO: create a JSON (dictionary) definition of dataset-based earthquake\n",
    "my_eq_def = \"\""
   ]
  },
  {
   "cell_type": "code",
   "execution_count": null,
   "id": "9cae0c55",
   "metadata": {
    "tags": []
   },
   "outputs": [],
   "source": [
    "# TODO: create a earthquake with definition and files\n",
    "\n"
   ]
  },
  {
   "cell_type": "code",
   "execution_count": null,
   "id": "068989ce",
   "metadata": {},
   "outputs": [],
   "source": [
    "# TODO: acquire hazard id you created and visualize\n",
    "\n"
   ]
  },
  {
   "cell_type": "code",
   "execution_count": null,
   "id": "7f35f99e",
   "metadata": {},
   "outputs": [],
   "source": [
    "# TODO: Getting and printing hazard value from your tornado"
   ]
  },
  {
   "cell_type": "markdown",
   "source": [
    "## Answers\n",
    "\n",
    "Please open [session2-assignment-answer.ipynb](session2-assignment-answer.ipynb).\n"
   ],
   "metadata": {
    "collapsed": false
   }
  }
 ],
 "metadata": {
  "kernelspec": {
   "display_name": "Python 3",
   "language": "python",
   "name": "python3"
  },
  "language_info": {
   "codemirror_mode": {
    "name": "ipython",
    "version": 3
   },
   "file_extension": ".py",
   "mimetype": "text/x-python",
   "name": "python",
   "nbconvert_exporter": "python",
   "pygments_lexer": "ipython3",
   "version": "3.7.10"
  }
 },
 "nbformat": 4,
 "nbformat_minor": 5
}