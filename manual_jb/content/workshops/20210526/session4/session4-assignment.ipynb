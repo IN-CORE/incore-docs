{
 "cells": [
  {
   "cell_type": "markdown",
   "id": "ae298fd7-5865-40d5-b231-7ac9742529f8",
   "metadata": {},
   "source": [
    "# Session 4: Assignment\n",
    "\n",
    "Create visualizations instructed in each cell\n"
   ]
  },
  {
   "cell_type": "code",
   "execution_count": null,
   "id": "f861ef30-21df-4f41-a706-ec33d575c122",
   "metadata": {
    "tags": []
   },
   "outputs": [],
   "source": [
    "# Import modules\n",
    "from pyincore import FragilityService, IncoreClient, FragilityCurveSet, MappingSet, Dataset\n",
    "\n",
    "from pyincore_viz.plotutil import PlotUtil as plot\n",
    "from pyincore_viz.geoutil import GeoUtil as geoviz"
   ]
  },
  {
   "cell_type": "code",
   "execution_count": null,
   "id": "188633af",
   "metadata": {},
   "outputs": [],
   "source": [
    "# Connect to IN-CORE serivce by creating IncoreClient\n",
    "client = IncoreClient()"
   ]
  },
  {
   "cell_type": "code",
   "execution_count": null,
   "id": "39724d53-842f-4a47-bb9b-f2e464e972da",
   "metadata": {},
   "outputs": [],
   "source": [
    "# Exercise 1: \n",
    "# TODO: create a local dataset for building inventory with shapefiles (\"sample_bldgs_w_guid.shp\")\n",
    "# TODO: dataset type: \"ergo:buildingInventoryVer7\"\n",
    "\n",
    "\n",
    "# TODO: acquire GeoDataFrame object from the dataset\n"
   ]
  },
  {
   "cell_type": "code",
   "execution_count": null,
   "id": "3a34b50d-3202-4758-b345-7c7166d9316d",
   "metadata": {},
   "outputs": [],
   "source": [
    "# Exercise 2: \n",
    "# TODO: create a local dataset for building damage output with CSV (\"memphis_eq_bldg_dmg_result.csv\") - it should be in your browser if you ran session 4 notebook.\n",
    "# TODO: dataset type: \"ergo:buildingDamageVer5\"\n",
    "\n",
    "\n",
    "# TODO: acquire DataFrame object from the dataset\n"
   ]
  },
  {
   "cell_type": "code",
   "execution_count": null,
   "id": "279a61fb-ba96-475b-ae77-facd4f3d2d8e",
   "metadata": {},
   "outputs": [],
   "source": [
    "# Exercise 3: \n",
    "# TODO: Join/merge building inventory GeoDataframe and damage output Dataframe\n"
   ]
  },
  {
   "cell_type": "code",
   "execution_count": null,
   "id": "80ab20bd-5330-4893-a3dc-014040a931ac",
   "metadata": {},
   "outputs": [],
   "source": [
    "# Exercise 4: \n",
    "# TODO: Using joined GeoDataFrame, \n",
    "# TODO: Display the table grouped by \"struct_type\" and showing sum of apprasial value of buildings \"appr_bldg\" \n",
    "\n"
   ]
  },
  {
   "cell_type": "code",
   "execution_count": null,
   "id": "da4b40c3-004f-4488-bb7d-f888fb4d090a",
   "metadata": {},
   "outputs": [],
   "source": [
    "# Exercise 5: \n",
    "# TODO: Using joined GeoDataFrame,\n",
    "# TODO: Plot a pie chart of (DS_0, DS_1, DS_2, DS_3) with a building with highest value of DS_3. \n",
    "#       Use for example Panda's pie chart method\n",
    "\n"
   ]
  },
  {
   "cell_type": "code",
   "execution_count": null,
   "id": "65cd1ed8-976d-473a-8dae-7de7485d5808",
   "metadata": {},
   "outputs": [],
   "source": [
    "# Exercise 6: \n",
    "# TODO: Using joined GeoDataFrame,\n",
    "# TODO: Display a table of buidings with DS_3 >= 0.05 and sorted by DS_3\n",
    "\n"
   ]
  },
  {
   "cell_type": "code",
   "execution_count": null,
   "id": "41981e2f-b166-457b-92b4-7f1460f42f24",
   "metadata": {},
   "outputs": [],
   "source": [
    "# Exercise 7: \n",
    "# TODO: Using joined GeoDataFrame,\n",
    "# TODO: Plot a map of buidings with DS_3 >= 0.05 and sorted by DS_3"
   ]
  },
  {
   "cell_type": "markdown",
   "source": [
    "## Answers\n",
    "\n",
    "Please open [session4-assignment-answer.ipynb](session4-assignment-answer.ipynb).\n"
   ],
   "metadata": {
    "collapsed": false
   }
  }
 ],
 "metadata": {
  "kernelspec": {
   "display_name": "Python 3",
   "language": "python",
   "name": "python3"
  },
  "language_info": {
   "codemirror_mode": {
    "name": "ipython",
    "version": 3
   },
   "file_extension": ".py",
   "mimetype": "text/x-python",
   "name": "python",
   "nbconvert_exporter": "python",
   "pygments_lexer": "ipython3",
   "version": "3.7.10"
  }
 },
 "nbformat": 4,
 "nbformat_minor": 5
}