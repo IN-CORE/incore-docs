{
 "cells": [
  {
   "cell_type": "markdown",
   "metadata": {},
   "source": [
    "# Session 3: Building Damage and Recovery Analyses with IN-CORE Web Services\n"
   ]
  },
  {
   "cell_type": "markdown",
   "metadata": {},
   "source": [
    "**Objective:**\n",
    "- Learn how to execute the analysis\n",
    "- Learn how to do building damamage analysis, Monte Carlo Simulation, and building recovery analysis\n",
    "- Learn how to explore outputs of analysis\n"
   ]
  },
  {
   "cell_type": "markdown",
   "metadata": {},
   "source": [
    "**Agenda**\n",
    "- [1. Overview](#1.-Overview)\n",
    "- [2. Explore Hazard, Data, and Fragility](#2.-Explore-Hazard,-Data,-and-Fragility)\n",
    "- [3. Building Damage Analysis](#3.-Building-Damage-Analysis)\n",
    "- [4. Monte Carlo Simulation (MCS)](#4.-Monte-Carlo-Simulation-(MCS))\n",
    "- [5. Commercial Building Recovery Analysis](#5.-Commercial-Building-Recovery-Analysis)\n"
   ]
  },
  {
   "cell_type": "markdown",
   "metadata": {},
   "source": [
    "## 1. Overview"
   ]
  },
  {
   "cell_type": "markdown",
   "metadata": {},
   "source": [
    "- Tornadoes occur at a high frequency in the United States compared with other natural hazards such as earthquakes and tsunamis but have a substantially smaller footprint. Even a single high-intensity tornado can result in high casualty rates and catastrophic economic losses and social consequences, particularly for small to medium communities.\n",
    "\n",
    "- The city of Joplin, Missouri, USA, was hit by an EF-5 tornado on May 22, 2011. The National Institute of Standards and Technology (NIST) conducted a technical investigation of this devastating event which can be found at: https://nvlpubs.nist.gov/nistpubs/NCSTAR/NIST.NCSTAR.3.pdf . The Center for Risk-Based Community Resilience Planning simulated this event for buildings and the electrical power network of Joplin in IN-CORE. This Juypter Notebook provides an example of how to use IN-CORE.\n",
    " \n",
    "- The initial damage estimation utilized the tornado path, and tornado fragility curves representative of a 19- archetype building dataset. Generic tornado paths are also available in IN-CORE, or a user defined tornado path is possible.\n",
    "   \n",
    "- This session demonstrates how users interact with the IN-CORE computational environment \n",
    "\n"
   ]
  },
  {
   "cell_type": "markdown",
   "metadata": {},
   "source": [
    "## 2. Explore Hazard, Data, and Fragility\n"
   ]
  },
  {
   "cell_type": "markdown",
   "metadata": {},
   "source": [
    "This section introduces the input for the infrastructure damage analysis including \n",
    "- tornado path,\n",
    "- building dataset, and\n",
    "- building fragility curves for tornado."
   ]
  },
  {
   "cell_type": "markdown",
   "metadata": {},
   "source": [
    "### 2.1. Tornado Path\n"
   ]
  },
  {
   "cell_type": "markdown",
   "metadata": {},
   "source": [
    "A tornado path we will use is the 2011 Joplin tornado path. The tornado path represents the wind speed within the vortex (multi-vortex in the case of Joplin) that was estimated to have EF5 wind speeds of more than 200 mph, reducing to EF4 wind speeds as the areas move outward from the vortex, and eventually reaching EF1 zone. (Attary et al. 2018)"
   ]
  },
  {
   "cell_type": "code",
   "execution_count": null,
   "metadata": {},
   "outputs": [],
   "source": [
    "# Import modules\n",
    "from pyincore import IncoreClient, HazardService\n",
    "from pyincore import FragilityService, MappingSet, Dataset, DataService\n",
    "from pyincore_viz.plotutil import PlotUtil as frag_plot\n",
    "from pyincore_viz.geoutil import GeoUtil as viz\n",
    "from pyincore.models.fragilitycurveset import FragilityCurveSet\n",
    "import wsviz\n",
    "\n",
    "# Connect to IN-CORE serivce by creating IncoreClient\n",
    "client = IncoreClient()"
   ]
  },
  {
   "cell_type": "code",
   "execution_count": null,
   "metadata": {},
   "outputs": [],
   "source": [
    "# The 2011 Joplin Tornado is stored at IN-CORE Hazard service\n",
    "\n",
    "tornado_id = \"5d07cbeab9219c065b080930\"\n",
    "viz.plot_tornado(tornado_id, client, basemap=True)"
   ]
  },
  {
   "cell_type": "code",
   "execution_count": null,
   "metadata": {},
   "outputs": [],
   "source": [
    "# show the tornado path on interactive map\n",
    "\n",
    "wsviz.show_tornado_by_id(client, tornado_id)"
   ]
  },
  {
   "cell_type": "markdown",
   "metadata": {},
   "source": [
    "### 2.2. Building Archetypes\n"
   ]
  },
  {
   "attachments": {},
   "cell_type": "markdown",
   "metadata": {},
   "source": [
    "The 19 archetype buildings are used herein to represent the Joplin community. The selected building archetypes consider building characteristics such as footprint area, roof structure, number of stories, and so on. (Attary et al. 2018, Memari et al. 2018)\n",
    "\n",
    "\n",
    "Joplin building archetypes\n",
    "\n",
    "| Archetype | Building Type               |\n",
    "|-------  |-------------------------------|\n",
    "|   1, 5  | Residential wood building     |\n",
    "|     6   | Business and retail building  |\n",
    "|     7   | Light industrial building     |\n",
    "|     8   | Heavy industrial building     |\n",
    "|     9   | Elementary/middle school      |\n",
    "|    10   | High school                   |\n",
    "|    11   | Fire/police station           |\n",
    "|    12   | Hospital                      |\n",
    "|    13   | Community center/church       |\n",
    "|    14   | Government building           |\n",
    "|    15   | Large big-box                 |\n",
    "|    16   | Small big-box                 |\n",
    "|    17   | Mobile home                   |\n",
    "|    18   | Shopping center               |\n",
    "|    19   | Office building               |\n"
   ]
  },
  {
   "cell_type": "markdown",
   "metadata": {},
   "source": [
    "* **DataService:** once the ```IncoreClient``` has been initiated, the ```DataService``` module uses the information\n",
    "  from that client to administer existing information about known or new dataset. ```DataService``` can:\n",
    "  * Retrieve existing metadata for various dataset\n",
    "  * Search datasets per specific information\n",
    "  * Request creation of a new dataset\n",
    "  * Request deletion of a new dataset\n",
    " \n",
    "* **Data Viewer:** https://incore.ncsa.illinois.edu/DataViewer\n",
    "  * Let's browse the Joplin building inventory ```5dbc8478b9219c06dd242c0d``` on the Data Veiwer"
   ]
  },
  {
   "cell_type": "code",
   "execution_count": null,
   "metadata": {},
   "outputs": [],
   "source": [
    "# Load the Joplin building dataset.\n",
    "bldg_dataset_id = \"5dbc8478b9219c06dd242c0d\"\n",
    "\n",
    "bldg_dataset = Dataset.from_data_service(bldg_dataset_id, DataService(client))\n",
    "\n",
    "viz.plot_map(bldg_dataset, column=\"archetype\", category=\"True\")"
   ]
  },
  {
   "cell_type": "code",
   "execution_count": null,
   "metadata": {},
   "outputs": [],
   "source": [
    "# Display the buldiing inventory on the interactive map by using Geopandas\n",
    "\n",
    "bldg_gdf = bldg_dataset.get_dataframe_from_shapefile()\n",
    "\n",
    "bldg_gdf.explore(\n",
    "        column=\"archetype\", # column for archetype info\n",
    "        tooltip=\"archetype\", \n",
    "        popup=True,  \n",
    "        cmap=\"Set1\"  # use \"Set1\" matplotlib colormap)\n",
    ")"
   ]
  },
  {
   "cell_type": "markdown",
   "metadata": {},
   "source": [
    "### 2.3. Fragility Curves\n"
   ]
  },
  {
   "cell_type": "markdown",
   "metadata": {},
   "source": [
    "Damage analyses use fragility curve sets to calculate the limit state (LS) and damage stsate (DS). Mapping then determines which fragility curve set applying to which inventory. For example, a building that has certain number of stories could be mapped to a specific set of fragility curves.\r\n",
    "\r\n",
    "In IN-CORE, A user can both upload a set of fragility curves and mapping to the DFR3 services, or use local curve and mapping set object DFR3 stands for Damage, Functionality, Repair, Reconstruction, and Recovery.\n",
    "\n",
    "* **DFR3 Service** is the IN-CORE web service to manage curves (equations) of fragility, repair, damage, etc.s.\r\n",
    "\r\n",
    "This section briefly shows how to access fragility curves. A detailed instrcution of how to create your own fragility entities and mapping entities can be found in our Mannu[al: Toutorial - Create DFR3 Ob](https://incore.ncsa.illinois.edu/doc/incore/notebooks/create_dfr3_object/create_dfr3_object.html)\n",
    "\n",
    "Note that you will learn detail about this matter at Session 4.ject\r\n",
    "\r\n",
    "User can easily browsing and searching Fragility Curves and Mappings via DFR3 \n",
    "\n",
    "* **DFR3 Viewer:** https://incore.ncsa.illinois.edu/DFR3Viewer\n",
    "\n",
    "Let's browse the building fragility curve (tornado) ```5d8942dfb9219c068ea795ea``` on the DFR3 Veiwer.mvices)"
   ]
  },
  {
   "cell_type": "markdown",
   "metadata": {},
   "source": [
    "There 19 fragility curves set for these 19 building types in the four damage states, which covers the entire range of wind speeds associated with tornadoes (Attary et al. 2018, Memari et al. 2018). Below we selected 3 types to plot as examples."
   ]
  },
  {
   "cell_type": "code",
   "execution_count": null,
   "metadata": {},
   "outputs": [],
   "source": [
    "# Using FragilityService to show the fragility curve\n",
    "\n",
    "fragility_service = FragilityService(client)\n",
    "mapping_id = \"5d8942dfb9219c068ea795ea\"\n",
    "mapping_set = MappingSet(fragility_service.get_mapping(mapping_id))\n",
    "\n",
    "# plot fragility for the first 3 archetypes using pyincore viz method\n",
    "for mapping in mapping_set.mappings[:3]:\n",
    "    fragility_id = mapping.entry[\"Non-Retrofit Fragility ID Code\"]\n",
    "    fragility_set = FragilityCurveSet(fragility_service.get_dfr3_set(fragility_id))\n",
    "    plt = frag_plot.get_fragility_plot(fragility_set, start=20, end=80)\n",
    "    plt.show()"
   ]
  },
  {
   "cell_type": "markdown",
   "metadata": {},
   "source": [
    "## 3. Building Damage Analysis\n"
   ]
  },
  {
   "cell_type": "markdown",
   "metadata": {},
   "source": [
    "The models in this section implement the estimation of community-level damage to the buildings for the 2011 Joplin tornado.\n"
   ]
  },
  {
   "attachments": {},
   "cell_type": "markdown",
   "metadata": {},
   "source": [
    "### 3.1. Executing Building Damage Analysis\n",
    "\n",
    "This analysis computes building damage based on a particular hazard. Currently supported hazards are: earthquake, tsunami, tornado, hurricane and flood.\n",
    "\n",
    "The process for computing the structural damage is similar to other parts of the built environment.\n",
    "\n",
    "1. First, a fragility is obtained based on the hazard type and attributes of the building.\n",
    "2. Based on the fragility, the hazard intensity at the location of the building is computed.\n",
    "3. Using this information, the probability of exceeding each limit state is computed, along with the probability of damage state. \n",
    "\n",
    "The outputs of this analysis are CSV file with probabilities of damage and JSON file with information about hazard and fragilities.\n",
    "\n",
    "\n",
    "You can Import the BuildingDamage Analysis from pyincore as following:\n",
    "\n",
    "`from pyincore.analyses.buildingdamage import BuildingDamage`\n",
    "\n",
    "\n",
    "Input variables to the BuildingDamage Class are:\n",
    "\n",
    "| **key name**   | **type** | **name**    |\n",
    "| -------------- | -------- | ----------- |\n",
    "| result_name \\* | str      | Result name |\n",
    "| hazard_type \\* | str      | Hazard type |\n",
    "| hazard_id \\*   | str      | Hazard id   |\n",
    "\n",
    "\n",
    "Input Datasets to BuildingDamage Class are:\n",
    "\n",
    "| **key name**        | **type**                                                                                                             | **name**         |\n",
    "| ------------------- | -------------------------------------------------------------------------------------------------------------------- | ---------------- |\n",
    "| buildings \\*     | [ergo:buildingInventoryVer4](https://incore.ncsa.illinois.edu/semantics/api/types/ergo:buildingInventoryVer4)<br>[ergo:buildingInventoryVer5](https://incore.ncsa.illinois.edu/semantics/api/types/ergo:buildingInventoryVer5)<br>[ergo:buildingInventoryVer6](https://incore.ncsa.illinois.edu/semantics/api/types/ergo:buildingInventoryVer6)<br>[ergo:buildingInventoryVer7](https://incore.ncsa.illinois.edu/semantics/api/types/ergo:buildingInventoryVer7) | Building dataset |\n",
    "| dfr3_mapping_set \\* | incore:dfr3MappingSet                                                                                                | DFR3 Mapping Set |\n",
    "\n",
    "\n",
    "Output Datasets of BuildingDamage class are:\n",
    "\n",
    "| **key name**     | **type**                        | **parent key** |\n",
    "| ---------------- | ------------------------------- | -------------- |\n",
    "| ds_result \\*     | ergo:buildingDamageVer5         | buildings      |\n",
    "| damage_result \\* | incore:buildingDamageSupplement | buildings      |\n",
    "> Note: \\* means it is a required input or an output"
   ]
  },
  {
   "cell_type": "markdown",
   "metadata": {},
   "source": [
    "Details can be found: https://incore.ncsa.illinois.edu/doc/incore/analyses/building_dmg.html\n"
   ]
  },
  {
   "cell_type": "markdown",
   "metadata": {},
   "source": [
    "Lets explore both the Hazard and buildings on an interactive map\n"
   ]
  },
  {
   "cell_type": "code",
   "execution_count": null,
   "metadata": {},
   "outputs": [],
   "source": [
    "# Lets get the tornado Dataset from service\n",
    "\n",
    "# tornado_id is defined in previous section\n",
    "tornado_dataset_id = HazardService(client).get_tornado_hazard_metadata(tornado_id)[\"datasetId\"]\n",
    "tornado_dataset = Dataset.from_data_service(tornado_dataset_id, DataService(client))\n",
    "\n",
    "# Reusing the merged building damage geodataframe bldg_dmg_gdf to visualize the tornado path and the damage values\n",
    "viz.get_gdf_wms_map([tornado_dataset], [bldg_dataset])"
   ]
  },
  {
   "cell_type": "markdown",
   "metadata": {},
   "source": [
    "#### 3.1.1. Setting up and Executing analysis\n",
    "The following cell sets up the buiding damage analysis using the variables we defined previous sections:\n",
    "* buiding inventory: **bldg_dataset**\n",
    "* fragility mapping: **mapping_set**\n",
    "* hazard_id: **tornado_id**"
   ]
  },
  {
   "cell_type": "code",
   "execution_count": null,
   "metadata": {},
   "outputs": [],
   "source": [
    "# TODO: Please type in the variables and execute this cell\n",
    "\n",
    "# Import building damage module integrated into pyIncore.\n",
    "from pyincore.analyses.buildingdamage import BuildingDamage\n",
    "\n",
    "bldg_dmg = BuildingDamage(client)\n",
    "\n",
    "# setting input data and parameters\n",
    "bldg_dmg.set_input_dataset(\"buildings\", ) # needs a variable\n",
    "bldg_dmg.set_input_dataset(\"dfr3_mapping_set\", ) # needs a variable\n",
    "bldg_dmg.set_parameter(\"hazard_type\", \"tornado\")\n",
    "bldg_dmg.set_parameter(\"hazard_id\", ) # needs a variable\n",
    "bldg_dmg.set_parameter(\"num_cpu\", 4)  # Define the result name, etc., and choose the number of CPU locally\n",
    "\n",
    "# setting output info\n",
    "result_name = \"Joplin_bldg_dmg_result\"\n",
    "bldg_dmg.set_parameter(\"result_name\", result_name)"
   ]
  },
  {
   "cell_type": "code",
   "execution_count": null,
   "metadata": {},
   "outputs": [],
   "source": [
    "# to run the model parallelly.\n",
    "bldg_dmg.run_analysis()  # Run the building damage module to get building damage results for Joplin in a .csv file format."
   ]
  },
  {
   "cell_type": "markdown",
   "metadata": {},
   "source": [
    "#### 3.1.2. Exploring Results"
   ]
  },
  {
   "cell_type": "code",
   "execution_count": null,
   "metadata": {},
   "outputs": [],
   "source": [
    "# The building damage results herein are referred to fragilities at three damage states (moderate,\n",
    "# heavy, complete) for 28152 buildings located in Joplin that fall within the tornado path or not.\n",
    "building_dmg_result = bldg_dmg.get_output_dataset(\"ds_result\")\n",
    "\n",
    "# Convert dataset to Pandas DataFrame\n",
    "df_bldg_dmg = building_dmg_result.get_dataframe_from_csv()\n",
    "df_bldg_dmg.head()"
   ]
  },
  {
   "cell_type": "markdown",
   "metadata": {},
   "source": [
    "#### 3.1.3. Joining dataset\n",
    "Data preparation and data post-processing are common procedures. Prior to using pyIncore, users often encounter situation that they need to reshape their own dataset to make it compliant with the input dataset format of pyIncore.\n",
    "\n",
    "After acquiring outputs from pyIncore analyses, often time user would need to perform data aggregation to gain statitical insights. The below tutorial gives a few examples on how to join datasets and generate some basic visualizations."
   ]
  },
  {
   "cell_type": "code",
   "execution_count": null,
   "metadata": {},
   "outputs": [],
   "source": [
    "# read building inventory as gdf\n",
    "bldg_gdf = bldg_dataset.get_dataframe_from_shapefile()\n",
    "\n",
    "# you can choose columns to be merged\n",
    "df_bldg_dmg_merged = bldg_gdf[['guid', 'archetype', 'geometry']].merge(df_bldg_dmg, on='guid')\n",
    "df_bldg_dmg_merged.head()"
   ]
  },
  {
   "cell_type": "markdown",
   "metadata": {},
   "source": [
    "#### 3.1.4. Show statistical summary on a column\n",
    "\n",
    "Try out different columns to see statistical info of other columns\n"
   ]
  },
  {
   "cell_type": "code",
   "execution_count": null,
   "metadata": {},
   "outputs": [],
   "source": [
    "df_bldg_dmg_merged[\"LS_0\"].describe()"
   ]
  },
  {
   "cell_type": "markdown",
   "metadata": {},
   "source": [
    "#### 3.1.5. Show table group by archetype"
   ]
  },
  {
   "cell_type": "code",
   "execution_count": null,
   "metadata": {},
   "outputs": [],
   "source": [
    "grouped_bldg_dmg = df_bldg_dmg_merged.groupby(by=['archetype'], as_index=True).agg({'DS_0': 'mean', 'DS_1':'mean', 'DS_2': 'mean', 'DS_3': 'mean', 'guid': 'count'})\n",
    "grouped_bldg_dmg.rename(columns={'guid': 'total_count'}, inplace=True)\n",
    "grouped_bldg_dmg.head(19)"
   ]
  },
  {
   "cell_type": "markdown",
   "metadata": {},
   "source": [
    "### 3.2. Visualizing Building Damage Results\n"
   ]
  },
  {
   "cell_type": "code",
   "execution_count": null,
   "metadata": {},
   "outputs": [],
   "source": [
    "# Lets look at how many buildings were exposed to the Hazard\n",
    "count = df_bldg_dmg_merged[\"haz_expose\"].value_counts()\n",
    "plt = count.plot(kind=\"bar\")"
   ]
  },
  {
   "cell_type": "code",
   "execution_count": null,
   "metadata": {},
   "outputs": [],
   "source": [
    "# Plot Damage state by archetype\n",
    "ax = grouped_bldg_dmg[[\"DS_0\", \"DS_1\", \"DS_2\", \"DS_3\"]].plot.barh(stacked=True)\n",
    "ax.set_title(\"Stacked Bar Chart of Damage State Grouped by Archetype Type\", fontsize=12)\n",
    "ax.set_xlabel(\"complete damage value\", fontsize=12)\n",
    "ax.legend(loc='center left', bbox_to_anchor=(1.0, 0.5)) #here is the magic"
   ]
  },
  {
   "cell_type": "markdown",
   "metadata": {},
   "source": [
    "**Now using Pyincore-viz, Vizualize Damage states**\n"
   ]
  },
  {
   "cell_type": "code",
   "execution_count": null,
   "metadata": {},
   "outputs": [],
   "source": [
    "from pyincore_viz.geoutil import GeoUtil as geoviz"
   ]
  },
  {
   "cell_type": "markdown",
   "metadata": {},
   "source": [
    "In the below cell, modify the string between DS_0 - DS_3 to see buildings in various damage states.\n"
   ]
  },
  {
   "cell_type": "code",
   "execution_count": null,
   "metadata": {},
   "outputs": [],
   "source": [
    "# Plot a map with GeoDataframe\n",
    "geoviz.plot_gdf_map(df_bldg_dmg_merged, \"DS_3\", basemap=True)"
   ]
  },
  {
   "cell_type": "code",
   "execution_count": null,
   "metadata": {},
   "outputs": [],
   "source": [
    "# Interactive Map\n",
    "\n",
    "df_bldg_dmg_merged.explore(\n",
    "    column=\"DS_3\", \n",
    "    tooltip=\"DS_3\", \n",
    "    popup=True,  \n",
    "    cmap=\"bwr\"  # use \"Set1\" matplotlib colormap)\n",
    ")"
   ]
  },
  {
   "cell_type": "markdown",
   "metadata": {},
   "source": [
    "**Only the residential buildings**"
   ]
  },
  {
   "cell_type": "code",
   "execution_count": null,
   "metadata": {},
   "outputs": [],
   "source": [
    "residential_archetypes = [1, 5]\n",
    "mask = df_bldg_dmg_merged['archetype'].isin(residential_archetypes)\n",
    "df_residential_bldg_dmg = df_bldg_dmg_merged.loc[mask]\n",
    "geoviz.plot_gdf_map(df_residential_bldg_dmg, \"DS_3\", basemap=True)"
   ]
  },
  {
   "cell_type": "code",
   "execution_count": null,
   "metadata": {},
   "outputs": [],
   "source": [
    "df_residential_bldg_dmg.explore(\n",
    "    column=\"DS_3\", \n",
    "    tooltip=\"DS_3\", \n",
    "    popup=True,  \n",
    "    cmap=\"bwr\"  # use \"Set1\" matplotlib colormap)\n",
    ")"
   ]
  },
  {
   "cell_type": "markdown",
   "metadata": {},
   "source": [
    "**Only the commercial buildings**"
   ]
  },
  {
   "cell_type": "code",
   "execution_count": null,
   "metadata": {},
   "outputs": [],
   "source": [
    "commercial_archetypes = [6, 7, 8, 15, 16, 18, 19]\n",
    "mask = df_bldg_dmg_merged['archetype'].isin(commercial_archetypes)\n",
    "df_commercial_bldg_dmg = df_bldg_dmg_merged.loc[mask]\n",
    "geoviz.plot_gdf_map(df_commercial_bldg_dmg, \"DS_3\", basemap=True)"
   ]
  },
  {
   "cell_type": "code",
   "execution_count": null,
   "metadata": {},
   "outputs": [],
   "source": [
    "df_commercial_bldg_dmg.explore(\n",
    "    column=\"DS_3\", \n",
    "    tooltip=\"DS_3\", \n",
    "    popup=True,  \n",
    "    cmap=\"bwr\"  # use \"Set1\" matplotlib colormap)\n",
    ")"
   ]
  },
  {
   "cell_type": "code",
   "execution_count": null,
   "metadata": {},
   "outputs": [],
   "source": [
    "## TODO: Please create an interactive map of commercial buildings with column \"DS_1\" below\n"
   ]
  },
  {
   "cell_type": "markdown",
   "metadata": {},
   "source": [
    "## 4. Monte Carlo Simulation (MCS)\n"
   ]
  },
  {
   "cell_type": "markdown",
   "metadata": {},
   "source": [
    "Researchers can use Monte Carlo Simulation to estimate the probability of each building being in a particular damage state. This example uses 500 iterations to determine the failure probability of buildings reaching damage state 2, damage state 3, and damage state 4. Users can run 10000 samples or even more for a more accurate Monte Carlo Simulation to determine the building failure probabilities. Note that this takes several minutes and we are working on developing a more efficient algorithm.\n"
   ]
  },
  {
   "cell_type": "markdown",
   "metadata": {},
   "source": [
    "### 4.1. Monte Carlo Simulation with Building damages\n",
    "\n",
    "This analysis calculates a probability of failure using a stochastic process. Failure probability and Failure state are derived using the dictionary of failed damage states in the input infrastructure dataset. Failure probability is calculated from all stochastic runs, failure state shows all infrastructure standings as a string of failed (0) and not failed (1) states of each individual run.\n",
    "\n",
    "The output of this analysis are two CSV files;\n",
    "\n",
    "1. a failure proability base_name_failure_probability.csv with allocated house units and,\n",
    "2. base_name_failure_state.csv.\n"
   ]
  },
  {
   "cell_type": "markdown",
   "metadata": {},
   "source": [
    "You can import the MCS class from pyincore as follows:\n",
    "\n",
    "`from pyincore.analyses.montecarlofailureprobability import MonteCarloFailureProbability`\n",
    "\n"
   ]
  },
  {
   "attachments": {},
   "cell_type": "markdown",
   "metadata": {},
   "source": [
    "The input variables that MCS takes in are:\n",
    "\n",
    "| **key name**            | **type**  | **name**     |\n",
    "| ----------------------- | --------- | ------------ |\n",
    "| result_name \\*          | str       | Result name  |\n",
    "| num_samples \\*          | int       | Samples      |\n",
    "| damage_interval_keys \\* | list[str] | Damage keys  |\n",
    "| failure_state_keys \\*   | list[str] | Failure keys |\n",
    "\n",
    "\n",
    "Input Dataset to MCS Class is:\n",
    "\n",
    "| **key name** | **type**                                                                                                                                                                                                                                                                                                                                                                         | **name**              |\n",
    "| ------------ | -------------------------------------------------------------------------------------------------------------------------------------------------------------------------------------------------------------------------------------------------------------------------------------------------------------------------------------------------------------------------------- | --------------------- |\n",
    "| damage \\*    | ergo:buildingDamageVer4<br>ergo:buildingDamageVer5<br>ergo:bridgeDamage<br>ergo:bridgeDamageVer2<br>incore:epfDamage<br>incore:epfDamageVer2<br>ergo:nsBuildingInventoryDamage<br>ergo:nsBuildingInventoryDamageVer2<br>incore:pipelineDamage<br>incore:pipelineDamageVer2<br>ergo:roadDamageergo:roadDamageVer2<br>ergo:waterFacilityDamageVer4<br>ergo:waterFacilityDamageVer5 | Infrastructure damage |\n",
    "\n",
    "Schema of the dataset type can be found leveraging [Dataset Type Viewer](https://incore.ncsa.illinois.edu/SemanticViewer)\n",
    "\n",
    "Output Datasets of MCS class are:\n",
    "\n",
    "| **key name**            | **type**                  | **name** |\n",
    "| ----------------------- | ------------------------- | -------- |\n",
    "| failure_probability \\*  | incore:failureProbability | Results  |\n",
    "| sample_failure_state \\* | incore:sampleFailureState | Results  |\n",
    "\n",
    "> Note: \\* means it is a required input or an output\n",
    "\n",
    "More details can be found [Monte Carlo failure probability analysis](https://incore.ncsa.illinois.edu/doc/incore/analyses/mc_failure_prob.html)\n"
   ]
  },
  {
   "cell_type": "markdown",
   "metadata": {},
   "source": [
    "### 3.2. MCS chaining with Joplin building damage\n",
    "\n",
    "**The MCS analysis will use the results of building damage analysis in previous section**\n",
    "* building damage result: **building_dmg_result**"
   ]
  },
  {
   "cell_type": "code",
   "execution_count": null,
   "metadata": {},
   "outputs": [],
   "source": [
    "# TODO: Please type in the variable and exeucte this cell\n",
    "\n",
    "# Import Monte Carlo failure probability module integrated into pyIncore.\n",
    "from pyincore.analyses.montecarlofailureprobability import MonteCarloFailureProbability\n",
    "\n",
    "mc_bldg = MonteCarloFailureProbability(client)\n",
    "\n",
    "mc_bldg.set_input_dataset(\"damage\", )  # needs a varialbe\n",
    "mc_bldg.set_parameter(\"num_samples\", 500)\n",
    "mc_bldg.set_parameter(\"damage_interval_keys\", [\"DS_0\", \"DS_1\", \"DS_2\", \"DS_3\"])\n",
    "mc_bldg.set_parameter(\"failure_state_keys\", [\"DS_1\", \"DS_2\", \"DS_3\"])\n",
    "mc_bldg.set_parameter(\"num_cpu\", 8)\n",
    "\n",
    "# name of csv file with results\n",
    "mc_bldg.set_parameter(\"result_name\", \"tornado_mc_failure_probability_buildings\")"
   ]
  },
  {
   "cell_type": "code",
   "execution_count": null,
   "metadata": {},
   "outputs": [],
   "source": [
    "# Run the Monte Carlo Simulation module to obtain the building failure probabilities. The building failure\n",
    "# probabilities herein only consider the physical damage without the interdependency.\n",
    "mc_bldg.run_analysis()"
   ]
  },
  {
   "cell_type": "code",
   "execution_count": null,
   "metadata": {},
   "outputs": [],
   "source": [
    "# get buildings probability of non-functionality\n",
    "building_failure_probability = mc_bldg.get_output_dataset(\"failure_probability\")\n",
    "\n",
    "df_bldg_fail = building_failure_probability.get_dataframe_from_csv()\n",
    "df_bldg_fail.head()"
   ]
  },
  {
   "cell_type": "code",
   "execution_count": null,
   "metadata": {},
   "outputs": [],
   "source": [
    "# get buildings failure states\n",
    "building_failure_mcs_samples = mc_bldg.get_output_dataset(\"sample_failure_state\")\n",
    "\n",
    "bdmcs = building_failure_mcs_samples.get_dataframe_from_csv()\n",
    "bdmcs.head()"
   ]
  },
  {
   "cell_type": "code",
   "execution_count": null,
   "metadata": {},
   "outputs": [],
   "source": [
    "building_damage_states_mcs_output = mc_bldg.get_output_dataset(\"sample_damage_states\")\n",
    "building_damage_states_mcs_output.get_dataframe_from_csv().head()\n"
   ]
  },
  {
   "attachments": {},
   "cell_type": "markdown",
   "metadata": {},
   "source": [
    "### 3.3. Visualize probability of non-functionality\n"
   ]
  },
  {
   "cell_type": "code",
   "execution_count": null,
   "metadata": {},
   "outputs": [],
   "source": [
    "# getting geodataframe of building dataset and merge with output\n",
    "bldg_gdf = bldg_dataset.get_dataframe_from_shapefile()\n",
    "bldg_fail_gdf = bldg_gdf.merge(df_bldg_fail, on=\"guid\")"
   ]
  },
  {
   "cell_type": "code",
   "execution_count": null,
   "metadata": {},
   "outputs": [],
   "source": [
    "viz.plot_gdf_map(bldg_fail_gdf, column=\"failure_probability\")"
   ]
  },
  {
   "cell_type": "code",
   "execution_count": null,
   "metadata": {},
   "outputs": [],
   "source": [
    "bldg_fail_gdf.explore(\n",
    "    column=\"failure_probability\", \n",
    "    tooltip=\"failure_probability\", \n",
    "    popup=True,  \n",
    "    cmap=\"bwr\"  # use \"Set1\" matplotlib colormap)\n",
    ")"
   ]
  },
  {
   "cell_type": "markdown",
   "metadata": {},
   "source": [
    "## 5. Commercial Building Recovery Analysis\n"
   ]
  },
  {
   "cell_type": "markdown",
   "metadata": {},
   "source": [
    "This analysis computes the recovery time needed for each commercial building from any damage states to receive the full restoration. Currently, supported hazards are tornadoes.\n",
    "\n",
    "The methodology incorporates the multi-layer Monte Carlo simulation approach and determines the two-step recovery time that includes delay and repair. The delay model was modified based on the REDi framework and calculated the end-result outcomes resulted from delay impeding factors such as post-disaster inspection, insurance claim, financing and government permit. The repair model followed the FEMA P-58 approach and was controlled by fragility functions.\n",
    "\n",
    "The outputs of this analysis is a CSV file with time-stepping recovery probabilities at the building level.\n"
   ]
  },
  {
   "cell_type": "markdown",
   "metadata": {},
   "source": [
    "You can import the Commercial Recovery Analysis from pyincore as follows:\n",
    "\n",
    "`from pyincore.analyses.commercialbuildingrecovery.commercialbuildingrecovery import CommercialBuildingRecovery`\n"
   ]
  },
  {
   "cell_type": "markdown",
   "metadata": {},
   "source": [
    "The input variables for Commercial Recovery Analysis are:\n",
    "\n",
    "| **key name**   | **type** | **name**       |\n",
    "| -------------- | -------- | -------------- |\n",
    "| result_name \\* | str      | Result name    |\n",
    "| num_samples \\* | int      | Samples number |\n"
   ]
  },
  {
   "cell_type": "markdown",
   "metadata": {},
   "source": [
    "The input Datasets for Commercial Recovery Analysis are:\n",
    "\n",
    "| **key name**            | **type**                                                                                                             | **name**         |\n",
    "| ----------------------- | -------------------------------------------------------------------------------------------------------------------- | ---------------- |\n",
    "| buildings \\*            | ergo:buildingInventoryVer4<br>ergo:buildingInventoryVer5<br>ergo:buildingInventoryVer6<br>ergo:buildingInventoryVer7 | Building dataset |\n",
    "| dfr3_mapping_set \\*     | incore:dfr3MappingSet                                                                                                | DFR3 Mapping Set |\n",
    "| sample_damage_states \\* | incore:sampleDamageState                                                                                             | Damage states    |\n",
    "| mcs_failure \\*          | incore:failureProbability                                                                                            | MCS failure      |\n",
    "| delay_factors \\*        | incore:buildingRecoveryFactors                                                                                       | Delay factors    |\n"
   ]
  },
  {
   "cell_type": "markdown",
   "metadata": {},
   "source": [
    "The output dataset for Commercial Recovery Analysis are:\n",
    "\n",
    "| **key name**              | **type**                     | **name**  |\n",
    "| ------------------------- | ---------------------------- | --------- |\n",
    "| time_stepping_recovery \\* | incore:buildingRecovery      | Buildings |\n",
    "| recovery \\*               | incore:buildingRecoveryTime  | buildings |\n",
    "| total_delay \\*            | incore:buildingRecoveryDelay | buildings |\n"
   ]
  },
  {
   "cell_type": "markdown",
   "metadata": {},
   "source": [
    "> Note: \\* means it is a required input or an output\n",
    "\n",
    "\n",
    "Details can be found at [Commercial Building Recovery](https://incore.ncsa.illinois.edu/doc/incore/analyses/commercial_building_recovery.html)\n"
   ]
  },
  {
   "cell_type": "markdown",
   "metadata": {},
   "source": [
    "#### 5.1. Repair Curves and Mapping\n",
    "\n",
    "In order to perform recovery analysis, we need repair curves and mapping.\n",
    "\n",
    "* **DFR3 Viewer:** https://incore.ncsa.illinois.edu/DFR3Viewer\n",
    "\n",
    "Let's browse the building repair curve (tornado) ```60edfa3efc0f3a7af53a21b5``` on the DFR3 Veiwer.\n"
   ]
  },
  {
   "cell_type": "code",
   "execution_count": null,
   "metadata": {},
   "outputs": [],
   "source": [
    "from pyincore import RepairService\n",
    "\n",
    "# Repair mapping\n",
    "repair_mapping_id = \"60edfa3efc0f3a7af53a21b5\"\n",
    "# Create repair service\n",
    "repair_service = RepairService(client)\n",
    "repair_mapping_set = MappingSet(repair_service.get_mapping(repair_mapping_id))"
   ]
  },
  {
   "cell_type": "markdown",
   "metadata": {},
   "source": [
    "#### 5.2. Setting up and Executing Analysis\n",
    "\n",
    "**The Commercial Building Recovery analysis will use the results of MCS analysis in previous section**\n",
    "* building inventory: **bldg_dataset**\n",
    "* DFR3 mapping: **repair_mapping_set**\n",
    "* MCS result - sample damage state: **building_damage_states_mcs_output**\n",
    "* MCS result - failure probability: **building_failure_probability**\n",
    "* building damage result: **building_dmg_result**"
   ]
  },
  {
   "cell_type": "code",
   "execution_count": null,
   "metadata": {},
   "outputs": [],
   "source": [
    "from pyincore.analyses.commercialbuildingrecovery.commercialbuildingrecovery import CommercialBuildingRecovery\n",
    "\n",
    "# Create commercial recovery instance\n",
    "com_recovery = CommercialBuildingRecovery(client)\n",
    "com_recovery.set_input_dataset(\"buildings\", bldg_dataset)\n",
    "com_recovery.set_input_dataset(\"dfr3_mapping_set\", repair_mapping_set)\n",
    "\n",
    "# using the building_damage_mcs_samples output dataset from the MCS analysis\n",
    "com_recovery.set_input_dataset(\"sample_damage_states\", building_damage_states_mcs_output)\n",
    "\n",
    "# using the building_failure_probability output dataset from the MCS analysis\n",
    "com_recovery.set_input_dataset(\"mcs_failure\", building_failure_probability)\n",
    "delay_factors = \"64ee0bcd553ecf0768e21e55\"\n",
    "com_recovery.load_remote_input_dataset(\"delay_factors\", delay_factors)\n",
    "com_recovery.set_parameter(\"num_samples\", 50)\n",
    "\n",
    "# Specify the result name\n",
    "result_name = \"joplin_commercial_test\"\n",
    "com_recovery.set_parameter(\"result_name\", result_name)"
   ]
  },
  {
   "cell_type": "code",
   "execution_count": null,
   "metadata": {},
   "outputs": [],
   "source": [
    "# Run the analysis\n",
    "com_recovery.run_analysis()"
   ]
  },
  {
   "cell_type": "markdown",
   "metadata": {},
   "source": [
    "#### 6.2 Visualizing Results"
   ]
  },
  {
   "cell_type": "code",
   "execution_count": null,
   "metadata": {},
   "outputs": [],
   "source": [
    "# Retrieve result dataset\n",
    "com_result = com_recovery.get_output_dataset(\"time_stepping_recovery\")\n",
    "\n",
    "# Convert dataset to Pandas DataFrame\n",
    "com_df = com_result.get_dataframe_from_csv()\n",
    "\n",
    "# Display top 5 rows of output data\n",
    "com_df.head()"
   ]
  },
  {
   "cell_type": "code",
   "execution_count": null,
   "metadata": {},
   "outputs": [],
   "source": [
    "# we need to first get archetypes from the building inventory dataset\n",
    "# and merge with the recovery results to group by archetypes\n",
    "bldg_gdf = bldg_dataset.get_dataframe_from_shapefile()\n",
    "\n",
    "# merge/join two dataframe\n",
    "# you can choose columns to be merged\n",
    "# we need guid to merge the two dataframes\n",
    "# we can then drop it for the final dataframe\n",
    "bldg_com_rec_gdf = bldg_gdf[[\"geometry\",\"guid\", \"archetype\"]].merge(com_df, on=\"guid\").drop([\"guid\"], axis=1)"
   ]
  },
  {
   "cell_type": "code",
   "execution_count": null,
   "metadata": {},
   "outputs": [],
   "source": [
    "# visualizing the repair status at Quarter 6\n",
    "bldg_com_rec_gdf.explore(\n",
    "    column=\"quarter_6\", \n",
    "    tooltip=\"quarter_6\", \n",
    "    popup=True,  \n",
    "    cmap=\"RdBu\"  # use \"Set1\" matplotlib colormap)\n",
    ")"
   ]
  },
  {
   "cell_type": "code",
   "execution_count": null,
   "metadata": {},
   "outputs": [],
   "source": [
    "# visualizing the repair status at Quarter 10\n",
    "\n",
    "bldg_com_rec_gdf.explore(\n",
    "    column=\"quarter_10\", \n",
    "    tooltip=\"quarter_10\", \n",
    "    popup=True,  \n",
    "    cmap=\"RdBu\"  # use \"Set1\" matplotlib colormap)\n",
    ")"
   ]
  },
  {
   "cell_type": "code",
   "execution_count": null,
   "metadata": {},
   "outputs": [],
   "source": [
    "# Unique Archetypes\n",
    "bldg_com_rec_gdf[\"archetype\"].unique()"
   ]
  },
  {
   "cell_type": "code",
   "execution_count": null,
   "metadata": {},
   "outputs": [],
   "source": [
    "bldg_mean_com_rec_df = bldg_com_rec_gdf.drop([\"geometry\"], axis=1).groupby(\"archetype\").agg(\"mean\")\n",
    "bldg_mean_com_rec_df.head(10)"
   ]
  },
  {
   "cell_type": "code",
   "execution_count": null,
   "metadata": {},
   "outputs": [],
   "source": [
    "# plot the recovery curves\n",
    "import matplotlib.pyplot as plt\n",
    "\n",
    "fig, ax = plt.subplots(figsize=(10, 6))\n",
    "# we need to transpose the dataframe to change axes\n",
    "bldg_mean_com_rec_df.T.plot(kind=\"line\", ax=ax)\n",
    "ax.set_xlabel(\"Recovery Time (Quarters)\")\n",
    "ax.set_ylabel(\"Recovery State\")  # 0 means damaged completely and 1 means fully recovered\n",
    "ax.set_title(\"Joplin Commercial Building Recovery Curves by Archetype\")"
   ]
  },
  {
   "cell_type": "code",
   "execution_count": null,
   "metadata": {},
   "outputs": [],
   "source": []
  }
 ],
 "metadata": {
  "kernelspec": {
   "display_name": "Python 3 (ipykernel)",
   "language": "python",
   "name": "python3"
  },
  "language_info": {
   "codemirror_mode": {
    "name": "ipython",
    "version": 3
   },
   "file_extension": ".py",
   "mimetype": "text/x-python",
   "name": "python",
   "nbconvert_exporter": "python",
   "pygments_lexer": "ipython3",
   "version": "3.10.13"
  }
 },
 "nbformat": 4,
 "nbformat_minor": 4
}
