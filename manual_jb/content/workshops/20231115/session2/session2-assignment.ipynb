{
 "cells": [
  {
   "cell_type": "markdown",
   "id": "0694adca",
   "metadata": {},
   "source": [
    "# Session 2: Assignment\n",
    "\n",
    "Apply session 2 material to create a remote model-based Tornado and local dataset-based Tornado with the given information and get hazard values from created hazards\n",
    "\n",
    "**Agenda**\n",
    "- [1. Create a model-based Tornado (Remote)](#1.-Create-a-model-based-Tornado-(Remote))\n",
    "- [2. Create a dataset-based Tornado (Local)](#2.-Create-a-dataset-based-Tornado-(Local))\n",
    "\n",
    "Please follow the instruction at each cell."
   ]
  },
  {
   "cell_type": "markdown",
   "id": "eeefddef",
   "metadata": {},
   "source": [
    "## 1. Create a model-based Tornado (Remote)\n",
    "\n",
    "Using the data from section 2.1.2, slightly alter the values of the Centerville tornado and obtain a new set of\n",
    "parameters that differ from the previously seen examples.\n",
    "\n",
    "Tornado model definition:\n",
    "* Tornado Model: MeanWidthTornado\n",
    "* EF Rating: EF3\n",
    "* Start point of path: \n",
    "    * Latitude:\n",
    "    * Longitude: \n",
    "* End point of path:\n",
    "    * Latitude:\n",
    "    * Longitude: \n",
    "* Wind speed method: 1\n",
    "* number of simulation: 1\n",
    "* random seed: 2023\n",
    "\n",
    "After you have obtained them, proceed as shown during the session."
   ]
  },
  {
   "cell_type": "code",
   "execution_count": null,
   "id": "fa0b708f",
   "metadata": {
    "tags": []
   },
   "outputs": [],
   "source": [
    "# Import modules\n",
    "from pyincore import HazardService, IncoreClient\n",
    "import json"
   ]
  },
  {
   "cell_type": "code",
   "execution_count": null,
   "id": "233a216e",
   "metadata": {},
   "outputs": [],
   "source": [
    "# Connect to IN-CORE serivce by creating IncoreClient\n",
    "client = IncoreClient()\n",
    "\n",
    "# Create the HazardService object\n"
   ]
  },
  {
   "cell_type": "code",
   "execution_count": null,
   "id": "7eec0147",
   "metadata": {},
   "outputs": [],
   "source": [
    "# TODO: create a JSON (dictionary) definition of tornado model as given above\n",
    "my_tornado_model = \"\"\n"
   ]
  },
  {
   "cell_type": "code",
   "execution_count": null,
   "id": "3f771459",
   "metadata": {},
   "outputs": [],
   "source": [
    "# TODO: create a tornado using the hazard service\n"
   ]
  },
  {
   "cell_type": "code",
   "execution_count": null,
   "id": "26036930",
   "metadata": {},
   "outputs": [],
   "source": [
    "# TODO: acquire hazard id you created and visualize\n"
   ]
  },
  {
   "cell_type": "code",
   "execution_count": null,
   "id": "c57650c3",
   "metadata": {},
   "outputs": [],
   "source": [
    "# TODO: Getting and printing hazard value from your tornado\n"
   ]
  },
  {
   "cell_type": "markdown",
   "id": "9cedb352",
   "metadata": {
    "tags": []
   },
   "source": [
    "## 2. Create a dataset-based Tornado (Local)\n",
    "\n",
    "Now, using the dataset-based tornado definition seen in section 3.1.1, define a new local tornado hazard and get values for the same location with and without a seed parameter.\n",
    "\n",
    "Proceed as in the prior exercise."
   ]
  },
  {
   "cell_type": "code",
   "execution_count": null,
   "id": "f1e12221-3a89-4fb4-8b08-424a84d672c7",
   "metadata": {},
   "outputs": [],
   "source": [
    "# Import modules\n",
    "from pyincore import Tornado\n",
    "import os"
   ]
  },
  {
   "cell_type": "code",
   "execution_count": null,
   "id": "9b2ce2db-1cbc-4eb0-85f0-9e2b3a4d1548",
   "metadata": {},
   "outputs": [],
   "source": [
    "# TODO: indicate the path of the tornado dataset files\n",
    "dir = \"data/hazard/tornado/\""
   ]
  },
  {
   "cell_type": "code",
   "execution_count": null,
   "id": "9cae0c55",
   "metadata": {
    "tags": []
   },
   "outputs": [],
   "source": [
    "# TODO: create the tornado object with definition\n",
    "\n",
    "# TODO: attach the shapefile representing the tornado\n"
   ]
  },
  {
   "cell_type": "code",
   "execution_count": null,
   "id": "7f35f99e",
   "metadata": {},
   "outputs": [],
   "source": [
    "# TODO: Getting and printing hazard value from your tornado for specific seed value\n"
   ]
  },
  {
   "cell_type": "code",
   "execution_count": null,
   "id": "73b060cf-a60b-4328-a4f1-61e0e9326096",
   "metadata": {},
   "outputs": [],
   "source": [
    "# TODO: Getting and printing hazard values from your tornado for a random seed value\n"
   ]
  },
  {
   "cell_type": "code",
   "execution_count": null,
   "id": "daf973c4-f3b1-491f-b6a9-caa8755d27ca",
   "metadata": {},
   "outputs": [],
   "source": [
    "# TODO: Visualize the tornado using GeoDataFrame.explore(), see section 3.2.1 for getting the geodataframe\n"
   ]
  }
 ],
 "metadata": {
  "kernelspec": {
   "display_name": "Python 3 (ipykernel)",
   "language": "python",
   "name": "python3"
  },
  "language_info": {
   "codemirror_mode": {
    "name": "ipython",
    "version": 3
   },
   "file_extension": ".py",
   "mimetype": "text/x-python",
   "name": "python",
   "nbconvert_exporter": "python",
   "pygments_lexer": "ipython3",
   "version": "3.8.10"
  }
 },
 "nbformat": 4,
 "nbformat_minor": 5
}
