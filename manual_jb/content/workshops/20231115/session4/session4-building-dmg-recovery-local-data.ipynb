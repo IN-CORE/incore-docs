{
 "cells": [
  {
   "cell_type": "markdown",
   "id": "86a09fc7-8415-4548-a7eb-68eec87dd08c",
   "metadata": {},
   "source": [
    "# Session 4: Building Damage and Recovery Analyses with Local Data\n",
    "\n",
    "**Objective:**\n",
    "- Gain an in-depth understanding of the damage analysis mechanism, fragility curves, and mapping by creating and using local objects.\n",
    "- Conduct an analysis similar to that in session 3, but with the advantage of utilizing local objects. Some of the benefits includes:\n",
    "    1. **Flexibility**: Local datasets allow for easy experimentation and testing with different fragilities, hazards, datasets during analysis development. It's ideal for rapid prototyping, quick data swapping, and parameter testing.\n",
    "    2. **Custom Preprocessing**: You have full control over data preprocessing to suit your analysis needs.\n",
    "    3. **Data Privacy**: If it is sensitive data.\n",
    "\n",
    "Local objects provide control, flexibility, and security in data analysis, especially during development and testing phases. \n",
    "\n",
    "**Agenda**\n",
    "- [1. Introduction to Local Objects](#1.-Introduction-to-Local-Objects)\n",
    "- [2. Creating Tornado Hazard from Shapefile](#2.-Creating-Tornado-Hazard-from-Shapefile)\n",
    "    - [2.1. Step 1: Describe the tornado](#2.1.-Step-1:-Describe-the-tornado)\n",
    "    - [2.2. Step 2: Attach hazard dataset from local file](#2.2.-Step-2:-Attach-hazard-dataset-from-local-file)\n",
    "    - [2.3. Step 3: Visualize the created tornado](#2.3.-Step-3:-Visualize-the-created-tornado)\n",
    "- [3. Creating Building Dataset from given CSV file](#3.-Creating-Building-Dataset-from-given-CSV-file)\n",
    "    - [3.1 Building Inventory Explained](#3.1-Building-Inventory-Explained)\n",
    "    - [3.2 Create Joplin Commercial Building Dataset from tabular data (csv)](#3.2-Create-Joplin-Commercial-Building-Dataset-from-tabular-data-(csv))\n",
    "        - [3.2.1. Step 1: Convert CSV file to ESRI Shapefile](#3.2.1.-Step-1:-Convert-CSV-file-to-ESRI-Shapefile)\n",
    "        - [3.2.2. Step 2: Add GUID](#3.2.2.-Step-2:-Add-GUID)\n",
    "        - [3.2.3. Step 3: Create a local dataset](#3.2.3.-Step-3:-Create-a-local-dataset-for-IN-CORE)\n",
    "        - [3.2.4. Step 4: Visualize created building dataset](#3.2.4.-Step-4:-Visualize-created-building-dataset)\n",
    "- [4. Creating local DFR3 objects](#4.-Creating-local-DFR3-objects)\n",
    "    - [4.1. Create Fragility Objectcs](#4.1.-Create-Fragility-Objectcs)\n",
    "        - [4.1.1. Step 1: Define each fragility curve](#4.1.1.-Step-1:-Define-each-fragility-curve)\n",
    "        - [4.1.2. Step 2: Define Curve Paramters](#4.1.2.-Step-2:-Define-Curve-Paramters)\n",
    "        - [4.1.3. Step 3: Piece together complete fragility curve set](#4.1.3.-Step-3:-Piece-together-the-complete-fragility-curve-set)\n",
    "        - [4.1.4. Step 4: Create fragility curve set object](#4.1.4.-Step-4:-Create-fragility-curve-set-object)\n",
    "        - [4.1.5. Alternative: Construct fragility curves from string](#4.1.5.-Alternative:-Construct-fragility-curves-from-string)\n",
    "        - [4.1.6. Visualize fragility curves](#4.1.6.-Visualize-fragility-curves)\n",
    "        - [4.1.7. Calculate limit state from local fragility](#4.1.7.-Calculate-limit-state-from-local-fragility)\n",
    "        - [4.1.8. Derive damage state from limit state](#4.1.8.-Derivie-damage-state-from-limit-state)\n",
    "    - [4.2. Create Fragility Mapping](#4.2.-Create-Fragility-Mapping)\n",
    "        - [4.2.1. Step 1: Establish mapping rules](#4.2.1.-Step-1:-Establish-mapping-rules)\n",
    "        - [4.2.2. Step 2: Add metadata](#4.2.2.-Step-2:-Add-metadata)\n",
    "        - [4.2.3. Step 3: Create MappingSet Object](#4.2.3.-Step-3:-Create-MappingSet-Object)\n",
    "- [5. Building Damage Analysis](#5.-Building-Damage-Analysis)\n",
    "    - [5.1. Explore building damage resutls](#5.1.-Explore-building-damage-resutls)\n",
    "        - [5.1.1. Joining dataset](#5.1.1.-Joining-dataset)\n",
    "        - [5.1.2. Show statistical summary on a column](#5.1.2.-Show-statistical-summary-on-a-column)\n",
    "        - [5.1.3. Sort table](#5.1.3.-Show-table-sorted-by-LS_0-(decending)-and-archetype-(ascending))\n",
    "        - [5.1.4. Group by](#5.1.4.-Show-table-group-by-archetype)\n",
    "    - [5.2. Visualization building damage](#5.2.-Visualization-building-damage)\n",
    "- [6. Monte Carlo Simulation](#6.-Monte-Carlo-Simulation)\n",
    "    - [6.1. Get buildings non-functional probabilities](#6.1.-Get-buildings-non-functional-probabilities)\n",
    "    - [6.2. Get buildings sample damage states](#6.2.-Get-buildings-sample-damage-states)\n",
    "    - [6.3. Visualize probability of non-functionality](#6.3.-Visualize-probability-of-non-functionality)\n",
    "- [7. Commercial Building Recovery Analysis](#7.-Commercial-Building-Recovery-Analysis)\n",
    "    - [7.1. Step 1: Prepare repair curve sets and repair curve mappings](#7.1.-Step-1:-Prepare-repair-curve-sets-and-repair-curve-mappings)\n",
    "    - [7.2. Step 2: Chain with MCS output](#7.2.-Step-2:-Chain-with-MCS-output)\n",
    "    - [7.3. Step 3: Prepare additional input datasets](#7.3.-Step-3:-Prepare-additional-input-datasets)\n",
    "    - [7.4. Step 4: Run commercial recovery analysis](#7.4.-Step-4:-Run-commercial-recovery-analysis)\n",
    "    - [7.5. Visualize recovery grouped by archetypes](#7.5.-Visualize-recovery-grouped-by-archetypes)"
   ]
  },
  {
   "cell_type": "markdown",
   "id": "8188f7a6-4a28-454c-a12e-94025435f8eb",
   "metadata": {},
   "source": [
    "## 1. Introduction to Local Objects\n",
    "\n",
    "**Hazard**\n",
    "In pyIncore, any analysis can utilize either a Hazard Object, or a hazard identifier/hazard type from incore-services as input for analysis. Currently, we support a range of hazards, including earthquakes, floods, hurricanes, tornadoes, and tsunamis. This tutorial provides examples of how to create a pyIncore Hazard Object for Tornadoes using local shapefiles.\n",
    "\n",
    "> To see more examples of [create and use local hazard](https://incore.ncsa.illinois.edu/doc/incore/notebooks/create_local_hazard/create_local_hazard.html)\n",
    "\n",
    "**Dataset**\n",
    "For any analysis in pyIncore, the default input is a Dataset Object. This tutorial introduces users to the fundamental concept of creating and using Dataset Objects, which involves loading data from local files. We also demonstrate essential preprocessing, postprocessing, and visualization steps.\n",
    "\n",
    "> To see more examples of [create and use local dataset](https://incore.ncsa.illinois.edu/doc/incore/notebooks/create_dataset/create_dataset.html)\n",
    "\n",
    "\n",
    "**DFR3 Curves and DFR3 Mapping**\n",
    "DFR3 stands for Damage, Functionality, Repair, Restoration, Recovery (DFR3). For example, Damage curves (aka Fragility Curves) are commonly used in disaster models to define the probability of exceeding a given damage state as a function of environmental change. DFR3 mapping sets serve the purpose of establishing a connection between an item within a given inventory and corresponding DFR3 curves. For example, a particular set of fragility curves should be applied to a building based on its specific characteristics. This tutorial hands-on tutorial demonstrates how to create DFR3 and Mapping Objects for fragility and repair curves, along with guidance on their local utilization within pyIncore.\n",
    "\n",
    "> To see more examples of [create and use local DFR3 Object](https://incore.ncsa.illinois.edu/doc/incore/notebooks/create_dfr3_object/create_dfr3_object.html)"
   ]
  },
  {
   "cell_type": "markdown",
   "id": "737530f9-52e9-4516-9756-6f9a06a43ba0",
   "metadata": {},
   "source": [
    "## 2. Creating Tornado Hazard from Shapefile"
   ]
  },
  {
   "cell_type": "code",
   "execution_count": null,
   "id": "16d2eb06-59a4-403a-b378-726217cb3f49",
   "metadata": {},
   "outputs": [],
   "source": [
    "from pyincore import Tornado"
   ]
  },
  {
   "cell_type": "markdown",
   "id": "f32cc8f1-72a5-4cae-b478-f966b10f8e6d",
   "metadata": {},
   "source": [
    "### 2.1. Step 1: Describe the tornado"
   ]
  },
  {
   "cell_type": "code",
   "execution_count": null,
   "id": "157c2c01-339c-45a2-928e-c555463891fd",
   "metadata": {},
   "outputs": [],
   "source": [
    "tornado_metadata = {\n",
    "  \"name\": \"Joplin Hindcast Tornado\",\n",
    "  \"description\": \"Joplin tornado hazard\",\n",
    "  \"tornadoType\": \"dataset\",\n",
    "  \"threshold\": None,\n",
    "  \"thresholdUnit\": \"mph\"\n",
    "}\n",
    "\n",
    "# create the tornado object\n",
    "tornado = Tornado(tornado_metadata)"
   ]
  },
  {
   "cell_type": "markdown",
   "id": "c23cd222-d6fc-4493-a6a2-5a7838107b11",
   "metadata": {},
   "source": [
    "### 2.2. Step 2: Attach hazard dataset from local file"
   ]
  },
  {
   "cell_type": "code",
   "execution_count": null,
   "id": "57498b42-7d95-4b31-bca1-06e06674c0f7",
   "metadata": {},
   "outputs": [],
   "source": [
    "tornado.hazardDatasets[0].from_file(\"data/tornado/joplin_path_wgs84.shp\", data_type=\"incore:tornadoWindfield\")\n",
    "tornado"
   ]
  },
  {
   "cell_type": "markdown",
   "id": "09abc8bf-70ae-4d61-8c75-75f4dad6a7db",
   "metadata": {},
   "source": [
    "### 2.3. Step 3: Visualize the created tornado"
   ]
  },
  {
   "cell_type": "code",
   "execution_count": null,
   "id": "ecfbd110-1081-4e1b-8e9c-b48501a974fe",
   "metadata": {},
   "outputs": [],
   "source": [
    "from pyincore_viz.geoutil import GeoUtil as viz\n",
    "import geopandas as gpd"
   ]
  },
  {
   "cell_type": "code",
   "execution_count": null,
   "id": "4291e395-904d-44aa-9ae1-9629d20f6ce3",
   "metadata": {},
   "outputs": [],
   "source": [
    "# Read tornado shapefile into geopandas dataframe. \n",
    "# Explanation about geopandas see below section.\n",
    "tornado_dataset = tornado.hazardDatasets[0].dataset\n",
    "tornado_gdf = tornado_dataset.get_dataframe_from_shapefile()\n",
    "\n",
    "##### pyincore-viz method rendering static Map with colors and labels\n",
    "viz.plot_gdf_map(tornado_gdf, 'ef_rating', basemap=True)"
   ]
  },
  {
   "cell_type": "code",
   "execution_count": null,
   "id": "8d44cc20-5e10-4e8c-bd68-3b401229954a",
   "metadata": {},
   "outputs": [],
   "source": [
    "# interactive map leveraging geopandas dataframe explore\n",
    "tornado_gdf.explore(\n",
    "    column=\"ef_rating\",  # make choropleth based on \"BoroName\" column\n",
    "    tooltip=\"ef_rating\",  # show \"BoroName\" value in tooltip (on hover)\n",
    "    popup=True,  # show all values in popup (on click)\n",
    "    cmap=\"Set1\"  # use \"Set1\" matplotlib colormap)\n",
    ")"
   ]
  },
  {
   "cell_type": "markdown",
   "id": "034a3c0f-2d78-45bd-ab48-972126f71bfc",
   "metadata": {},
   "source": [
    "## 3. Creating Building Dataset from given CSV file\n",
    "\n",
    "There are many ways to create building inventory dataset; for example 1) using GIS software (e.g. ArcGIS, QGIS, etc), 2) using python code. In this exerercise, we will create a buiding inventory dataset in ESRI Shapefile from CSV file by using **GeoPandas library**.\n",
    "\n",
    "GeoPandas is an open source project to make working with geospatial data in python easier. GeoPandas extends the datatypes used by pandas to allow spatial operations on geometric types. For more information, please follow [GeoPandas's user guide](https://geopandas.org/en/stable/docs/user_guide.html)"
   ]
  },
  {
   "cell_type": "markdown",
   "id": "bddd1cb2-0d56-4274-a5a3-8377076f6014",
   "metadata": {},
   "source": [
    "### 3.1 Building Inventory Explained\n",
    "\n",
    "The schema (columns) of building Inventory has been going through several iteration (v5, v6, v7), and here is a list of supported column names in version 6. Having a fully populated Building Inventory, with no additional columns, will hold all the data needed to perform all analyses that are compatible with that version of the Building Inventory. Here are some of the definition. For the full schema please visit [buildingInventoryVer6](https://incore.ncsa.illinois.edu/semantics/api/types/ergo:buildingInventoryVer6).\n",
    "\n",
    "|column name|description|type|\n",
    "|-----------|-----------|----|\n",
    "|GUID|added by IN-CORE|string|\n",
    "|ARCHETYPE| building structure archetype|integer|\n",
    "|OCC_TYPE|Broad HAZUS Occupancy Category (e.g. RES3 - multi-family residential)|string|\n",
    "|APPR_BLDG|Appraised value for the building|double|\n",
    "|...|...|...|...\n",
    "\n",
    "\n",
    "> If you would like to find other dataset types schema, you can explore our [Dataset Type Viewer](https://incore.ncsa.illinois.edu/SemanticViewer)"
   ]
  },
  {
   "cell_type": "code",
   "execution_count": null,
   "id": "6bdca37d-11c1-4f22-8590-e7cd85dae509",
   "metadata": {},
   "outputs": [],
   "source": [
    "import pandas as pd\n",
    "import geopandas as gpd"
   ]
  },
  {
   "cell_type": "markdown",
   "id": "78080297-3ace-4526-a782-74a8278c04ef",
   "metadata": {},
   "source": [
    "### 3.2 Create Joplin Commercial Building Dataset from tabular data (csv)"
   ]
  },
  {
   "cell_type": "markdown",
   "id": "f270f627-a36b-4d30-bbe9-af046264099d",
   "metadata": {},
   "source": [
    "#### 3.2.1. Step 1: Convert CSV file to ESRI Shapefile"
   ]
  },
  {
   "cell_type": "code",
   "execution_count": null,
   "id": "6b96ffcd-7448-4f73-bbbf-fb86405316d6",
   "metadata": {},
   "outputs": [],
   "source": [
    "# Load to Pandas Dataframe\n",
    "df = pd.read_csv('data/joplin_commercial_bldg_v6_sample.csv')\n",
    "df.columns"
   ]
  },
  {
   "cell_type": "code",
   "execution_count": null,
   "id": "dc0f37b0-5b99-4506-9d4e-60716a301bae",
   "metadata": {},
   "outputs": [],
   "source": [
    "# Turn Pandas Dataframe into Geopandas dataframe\n",
    "gdf = gpd.GeoDataFrame(df, crs='epsg:4326', geometry=gpd.points_from_xy(df.X, df.Y))\n",
    "gdf.to_file(\"joplin_commercial_bldg_v6_sample.shp\")"
   ]
  },
  {
   "cell_type": "markdown",
   "id": "228ed817-14e7-4f3c-9277-199db5dec952",
   "metadata": {},
   "source": [
    "#### 3.2.2. Step 2: Add GUID\n",
    "**Each built-in infrastructure needs a GUID.** A GUID is an acronyom that stands for Globally Unique Identifier, they are also referred to as UUIDs or Universaly Unique Identifiers. Technically they are 128-bit unique reference numbers used in computing which are highly unlikely to repeat when generated."
   ]
  },
  {
   "cell_type": "code",
   "execution_count": null,
   "id": "b1a759e6-db4b-4d83-93da-0d15bd373005",
   "metadata": {},
   "outputs": [],
   "source": [
    "# pyincore has utility methods help user easily add GUID\n",
    "from pyincore import GeoUtil\n",
    "\n",
    "GeoUtil.add_guid(\"joplin_commercial_bldg_v6_sample.shp\", \"joplin_commercial_bldg_v6_sample_w_guid.shp\")"
   ]
  },
  {
   "cell_type": "markdown",
   "id": "23a2a653-ca5d-46a9-8b84-69a84682bb52",
   "metadata": {},
   "source": [
    "#### 3.2.3. Step 3: Create a local dataset for IN-CORE\n",
    "The following code create a local Dataset object with ESRI shapefile for buiding inventory"
   ]
  },
  {
   "cell_type": "code",
   "execution_count": null,
   "id": "a5f51e8e-074b-4e31-aa24-9c23d38564b5",
   "metadata": {},
   "outputs": [],
   "source": [
    "# use the method \"from_file\" in Dataset class to construct dataset object from local file\n",
    "from pyincore import Dataset\n",
    "\n",
    "buildings = Dataset.from_file(\"joplin_commercial_bldg_v6_sample_w_guid.shp\", data_type=\"ergo:buildingInventoryVer6\")"
   ]
  },
  {
   "cell_type": "markdown",
   "id": "9b1d7fc8-d650-4367-a487-c1de2fd50220",
   "metadata": {},
   "source": [
    "#### 2.3.4. Step 4: Visualize created building dataset\n",
    "For your reference, Details about Joplin building archetypes see below table\n",
    "| Archetypes | Building Type                 |\n",
    "|------------|-------------------------------|\n",
    "|   1, 5  | Residential wood building     |\n",
    "|     **6**   |  **Business and retail building**  |\n",
    "|     **7**   | **Light industrial building**     |\n",
    "|     8   | Heavy industrial building     |\n",
    "|     9   | Elementary/middle school      |\n",
    "|    10   | High school                   |\n",
    "|    11   | Fire/police station           |\n",
    "|    12   | Hospital                      |\n",
    "|    13   | Community center/church       |\n",
    "|    14   | Government building           |\n",
    "|    15   | Large big-box                 |\n",
    "|    16   | Small big-box                 |\n",
    "|    17   | Mobile home                   |\n",
    "|    18   | Shopping center               |\n",
    "|    19   | Office building               |"
   ]
  },
  {
   "cell_type": "code",
   "execution_count": null,
   "id": "7c6e20c6-7751-4c10-be91-e38475f44b03",
   "metadata": {},
   "outputs": [],
   "source": [
    "viz.plot_map(buildings, column=\"archetype\", category=\"True\")"
   ]
  },
  {
   "cell_type": "code",
   "execution_count": null,
   "id": "37e0f05a-8b70-4493-a219-b31f6a6b578a",
   "metadata": {},
   "outputs": [],
   "source": [
    "# interactive map leveraging geopands explore\n",
    "buildings.get_dataframe_from_shapefile().explore(\n",
    "    marker_kwds={\"radius\": 10},\n",
    "    column=\"archetype\",  # make choropleth based on \"BoroName\" column\n",
    "    tooltip=\"archetype\",  # show \"BoroName\" value in tooltip (on hover)\n",
    "    popup=True,  # show all values in popup (on click)\n",
    "    cmap=\"Set1\",  # use \"Set1\" matplotlib colormap)\n",
    "    categorical=True\n",
    ")"
   ]
  },
  {
   "cell_type": "markdown",
   "id": "1ecc0f3c-33a6-4eeb-9cf8-a1c02d292b95",
   "metadata": {},
   "source": [
    "#### 2.3.5. Overlay tornado on building"
   ]
  },
  {
   "cell_type": "code",
   "execution_count": null,
   "id": "4a7db8b8-77a3-4cf6-bb3f-5b2b78504d4c",
   "metadata": {},
   "outputs": [],
   "source": [
    "tornado_dataset = tornado.hazardDatasets[0].dataset\n",
    "\n",
    "# fill in appropriate metadata\n",
    "buildings.metadata = {\"title\": \"Joplin Commercial Buiding Sampled\"}\n",
    "tornado_dataset.metadata = {\"title\": \"Joplin Hindcast Tornado\"}\n",
    "\n",
    "# plot interactive map\n",
    "viz.get_gdf_map([buildings, tornado_dataset])"
   ]
  },
  {
   "cell_type": "markdown",
   "id": "55512735-51d9-4c87-8dd5-10bbf7576e7f",
   "metadata": {},
   "source": [
    "## 4. Creating local DFR3 objects"
   ]
  },
  {
   "cell_type": "markdown",
   "id": "8fb9fcf1-2ee2-4f74-9ab6-5f5046d696de",
   "metadata": {},
   "source": [
    "### 4.1. Create Fragility Objectcs\n",
    "In this section we are going to explore the creation of fragility curve sets used by the pyIncore in Building Damage analyses. We provide examples of getting the curves into your project as well as basic use of pyIncore's functions to print and visualize various attributes and variables."
   ]
  },
  {
   "cell_type": "code",
   "execution_count": null,
   "id": "ad7b54d0-a648-4081-a953-b3debcb82081",
   "metadata": {},
   "outputs": [],
   "source": [
    "from pyincore import FragilityService, FragilityCurveSet, RepairService, RepairCurveSet, Mapping, MappingSet\n",
    "import copy\n",
    "from pprint import pprint"
   ]
  },
  {
   "cell_type": "code",
   "execution_count": null,
   "id": "58a898ee-46f2-408a-ba1a-01bb6f4d31d3",
   "metadata": {},
   "outputs": [],
   "source": [
    "fragility_curve_template = {\n",
    "    \"description\": \"\",\n",
    "    \"rules\": [],\n",
    "    \"returnType\": {\n",
    "        \"type\": \"\",\n",
    "        \"unit\": \"\",\n",
    "        \"description\": \"\",\n",
    "    },\n",
    "    \"curveParameters\": None\n",
    "}\n",
    "\n",
    "curve_rule_template =  {\n",
    "    \"condition\": [],\n",
    "    \"expression\": \"\"\n",
    "}\n",
    "\n",
    "curve_parameter_template = {\n",
    "    \"name\": \"\",\n",
    "    \"unit\": \"\",\n",
    "    \"description\": \"\",\n",
    "    \"fullName\": \"\",\n",
    "    \"expression\": None\n",
    "}\n",
    "\n",
    "fragility_definition_template = {\n",
    "    \"description\": \"\",\n",
    "    \"authors\": [],\n",
    "    \"paperReference\": None,\n",
    "    \"resultUnit\": None,\n",
    "    \"resultType\": \"Limit State\",\n",
    "    \"hazardType\": \"\",\n",
    "    \"inventoryType\": \"\",\n",
    "    \"curveParameters\": [],\n",
    "    \"demandTypes\": [],\n",
    "    \"demandUnits\": [],\n",
    "    \"fragilityCurves\": []\n",
    "}"
   ]
  },
  {
   "cell_type": "markdown",
   "id": "ddabad43-7ced-4f1c-a4f1-48dbf825a121",
   "metadata": {},
   "source": [
    "#### 4.1.1. Step 1: Define Curve Paramters\n",
    "For every parameter mentioned in the equation, it is essential to provide a precise definition.\n",
    "For example:\n",
    "> scipy.stats.norm.cdf((math.log(**wind**) - (4.075))/(0.21))\n",
    "\n",
    "Note that in the equation, we haven't adequately defined the term **\"wind.\"** \n",
    "\n",
    "\n",
    "**Table 1. Default Curve Parameters**\n",
    "| Parameter name | unit | description | expression |\n",
    "|---|---|---|---|\n",
    "|wind | mps | Wind value from hazard service | N/A |\n"
   ]
  },
  {
   "cell_type": "code",
   "execution_count": null,
   "id": "f6f5c153-4455-4098-8af5-03e9cb591ade",
   "metadata": {},
   "outputs": [],
   "source": [
    "curve_parameter = copy.deepcopy(curve_parameter_template)\n",
    "curve_parameter[\"name\"] = \"wind\"\n",
    "curve_parameter[\"unit\"] = \"mps\"\n",
    "curve_parameter[\"description\"] = \"wind value from hazard servic\"\n",
    "curve_parameter[\"fullName\"] = \"wind\""
   ]
  },
  {
   "cell_type": "markdown",
   "id": "41122bba-75e7-403b-bab4-3014cbfb00dd",
   "metadata": {},
   "source": [
    "#### 4.1.2. Step 2: Define each fragility curve\n",
    "\n",
    "For given fragility curveset\n",
    "\n",
    "**Table 2. Curve Information**\n",
    "|Limit State| condition|expression|Description |\n",
    "|---|---|---|---|\n",
    "|0|wind > 0|scipy.stats.norm.cdf((math.log(wind) - (3.625))/(0.11))|legacy - StandardFragilityCurve - Moderate|\n",
    "|1|wind > 0|scipy.stats.norm.cdf((math.log(wind) - (3.895))/(0.11))|legacy - StandardFragilityCurve - Extensive|\n",
    "|2|wind > 0|scipy.stats.norm.cdf((math.log(wind) - (4.075))/(0.21))|legacy - StandardFragilityCurve - Complete|\n",
    "\n",
    "> Caution: It is crucial to verify the validity and safety of your equation. Our platform supports Scipy, Numpy, and Math libraries for this purpose.\n"
   ]
  },
  {
   "cell_type": "code",
   "execution_count": null,
   "id": "e00e41a3-2204-4855-8d2c-ca79c6d78d1b",
   "metadata": {},
   "outputs": [],
   "source": [
    "# instantiate a copy from template\n",
    "LS_0_curve_rule = copy.deepcopy(curve_rule_template)\n",
    "\n",
    "# add condition\n",
    "LS_0_curve_rule[\"condition\"] = [\"wind > 0\"]\n",
    "\n",
    "# add equation\n",
    "LS_0_curve_rule[\"expression\"] = \"scipy.stats.norm.cdf((math.log(wind) - (3.625))/(0.11))\"\n",
    "\n",
    "# add metadata\n",
    "LS_0_curve = copy.deepcopy(fragility_curve_template)\n",
    "LS_0_curve[\"description\"] = \"legacy - StandardFragilityCurve - Moderate\"\n",
    "LS_0_curve[\"returnType\"][\"type\"] = \"Limit State\"\n",
    "LS_0_curve[\"returnType\"][\"unit\"] = \"\"\n",
    "LS_0_curve[\"returnType\"][\"description\"] = \"LS_0\"\n",
    "\n",
    "# append the aforementioned rule\n",
    "LS_0_curve[\"rules\"].append(LS_0_curve_rule)\n",
    "pprint(LS_0_curve)"
   ]
  },
  {
   "cell_type": "code",
   "execution_count": null,
   "id": "dd3ea18d-7650-40ce-b575-a348492ffa0a",
   "metadata": {},
   "outputs": [],
   "source": [
    "# Similarly construct LS_1\n",
    "LS_1_curve_rule = copy.deepcopy(curve_rule_template)\n",
    "LS_1_curve_rule[\"condition\"] = [\"wind > 0\"]\n",
    "LS_1_curve_rule[\"expression\"] = \"scipy.stats.norm.cdf((math.log(wind) - (3.895))/(0.11))\"\n",
    "\n",
    "LS_1_curve = copy.deepcopy(fragility_curve_template)\n",
    "LS_1_curve[\"description\"] = \"legacy - StandardFragilityCurve - Extensive\"\n",
    "LS_1_curve[\"returnType\"][\"type\"] = \"Limit State\"\n",
    "LS_1_curve[\"returnType\"][\"unit\"] = \"\"\n",
    "LS_1_curve[\"returnType\"][\"description\"] = \"LS_1\"\n",
    "\n",
    "# append the aforementioned rule\n",
    "LS_1_curve[\"rules\"].append(LS_1_curve_rule)"
   ]
  },
  {
   "cell_type": "code",
   "execution_count": null,
   "id": "bc27e272-e1cd-4ec9-b6db-8372dbf7980d",
   "metadata": {},
   "outputs": [],
   "source": [
    "# QUIZ 1: Define limit state 2 curve"
   ]
  },
  {
   "cell_type": "code",
   "execution_count": null,
   "id": "e9bd3842-cec1-4e61-8c2c-7ddccf7a8c58",
   "metadata": {},
   "outputs": [],
   "source": [
    "# Similarly construct LS_2\n",
    "LS_2_curve_rule = copy.deepcopy(curve_rule_template)\n",
    "LS_2_curve_rule[\"condition\"] = [\"wind > 0\"]\n",
    "LS_2_curve_rule[\"expression\"] = \"scipy.stats.norm.cdf((math.log(wind) - (4.075))/(0.21))\"\n",
    "\n",
    "LS_2_curve = copy.deepcopy(fragility_curve_template)\n",
    "LS_2_curve[\"description\"] = \"legacy - StandardFragilityCurve - Complete\"\n",
    "LS_2_curve[\"returnType\"][\"type\"] = \"Limit State\"\n",
    "LS_2_curve[\"returnType\"][\"unit\"] = \"\"\n",
    "LS_2_curve[\"returnType\"][\"description\"] = \"LS_2\"\n",
    "\n",
    "# append the aforementioned rule\n",
    "LS_2_curve[\"rules\"].append(LS_2_curve_rule)"
   ]
  },
  {
   "cell_type": "markdown",
   "id": "7392d74c-8979-489f-ac39-218a1a13ef4d",
   "metadata": {},
   "source": [
    "#### 4.1.3. Step 3: Piece together the complete fragility curve set"
   ]
  },
  {
   "cell_type": "code",
   "execution_count": null,
   "id": "180e36e5-cb1c-4893-ba77-b6a0d056ea78",
   "metadata": {},
   "outputs": [],
   "source": [
    "fragility_definition_archetype_6 = copy.deepcopy(fragility_definition_template)\n",
    "fragility_definition_archetype_6[\"description\"] = \"Business and retail building (strip mall)\"\n",
    "fragility_definition_archetype_6[\"authors\"].append(\"M. Memari N. Attary H. Masoomi J.W. van de Lindt  S.F. Pilkington M.R. Ameri & H. Mahmoud\")\n",
    "fragility_definition_archetype_6[\"hazardType\"] = \"tornado\"\n",
    "fragility_definition_archetype_6[\"inventoryType\"] = \"building\"\n",
    "fragility_definition_archetype_6[\"demandTypes\"].append(\"wind\")\n",
    "fragility_definition_archetype_6[\"demandUnits\"].append(\"mps\")\n",
    "\n",
    "# fill in the curves\n",
    "fragility_definition_archetype_6[\"fragilityCurves\"].append(LS_0_curve)\n",
    "fragility_definition_archetype_6[\"fragilityCurves\"].append(LS_1_curve)              \n",
    "fragility_definition_archetype_6[\"fragilityCurves\"].append(LS_2_curve)\n",
    "\n",
    "# fill in the curve parameters\n",
    "fragility_definition_archetype_6[\"curveParameters\"].append(curve_parameter)\n",
    "pprint(fragility_definition_archetype_6)"
   ]
  },
  {
   "cell_type": "markdown",
   "id": "dccdde5d-c9b0-4a20-8a32-d828ae425688",
   "metadata": {},
   "source": [
    "#### 4.1.4. Step 4: Create fragility curve set object"
   ]
  },
  {
   "cell_type": "code",
   "execution_count": null,
   "id": "321b3fd4-88cc-4778-a5df-204b4746663c",
   "metadata": {},
   "outputs": [],
   "source": [
    "fragility_archetype_6 = FragilityCurveSet(fragility_definition_archetype_6)\n",
    "fragility_archetype_6"
   ]
  },
  {
   "cell_type": "markdown",
   "id": "107059f8-c5a8-46de-8772-f31eef46f8ff",
   "metadata": {},
   "source": [
    "#### 4.1.5. Alternative: Construct fragility curves from string"
   ]
  },
  {
   "cell_type": "code",
   "execution_count": null,
   "id": "498cf910-9ce7-4a5a-8517-c5f3376293b8",
   "metadata": {},
   "outputs": [],
   "source": [
    "# fragiity definition as string\n",
    "fragility_definition_archetype_7 = \"\"\"{\n",
    "    \"description\": \"Light industrial\",\n",
    "    \"authors\": [\n",
    "        \"M. Memari N. Attary H. Masoomi J.W. van de Lindt  S.F. Pilkington M.R. Ameri & H. Mahmoud\"\n",
    "    ],\n",
    "    \"paperReference\": null,\n",
    "    \"resultUnit\": null,\n",
    "    \"resultType\": \"Limit State\",\n",
    "    \"hazardType\": \"tornado\",\n",
    "    \"inventoryType\": \"building\",\n",
    "    \"creator\": \"incore\",\n",
    "    \"owner\": \"incore\",\n",
    "    \"curveParameters\": [\n",
    "        {\n",
    "            \"name\": \"wind\",\n",
    "            \"unit\": \"mps\",\n",
    "            \"description\": \"wind value from hazard service\",\n",
    "            \"fullName\": \"wind\",\n",
    "            \"expression\": null\n",
    "        }\n",
    "    ],\n",
    "    \"demandTypes\": [\n",
    "        \"wind\"\n",
    "    ],\n",
    "    \"demandUnits\": [\n",
    "        \"mps\"\n",
    "    ],\n",
    "    \"fragilityCurves\": [\n",
    "        {\n",
    "            \"description\": \"legacy - StandardFragilityCurve - Moderate\",\n",
    "            \"rules\": [\n",
    "                {\n",
    "                    \"condition\": [\n",
    "                        \"wind > 0\"\n",
    "                    ],\n",
    "                    \"expression\": \"scipy.stats.norm.cdf((math.log(wind) - (3.695))/(0.1))\"\n",
    "                }\n",
    "            ],\n",
    "            \"returnType\": {\n",
    "                \"type\": \"Limit State\",\n",
    "                \"unit\": \"\",\n",
    "                \"description\": \"LS_0\"\n",
    "            },\n",
    "            \"curveParameters\": null\n",
    "        },\n",
    "        {\n",
    "            \"description\": \"legacy - StandardFragilityCurve - Extensive\",\n",
    "            \"rules\": [\n",
    "                {\n",
    "                    \"condition\": [\n",
    "                        \"wind > 0\"\n",
    "                    ],\n",
    "                    \"expression\": \"scipy.stats.norm.cdf((math.log(wind) - (3.785))/(0.1))\"\n",
    "                }\n",
    "            ],\n",
    "            \"returnType\": {\n",
    "                \"type\": \"Limit State\",\n",
    "                \"unit\": \"\",\n",
    "                \"description\": \"LS_1\"\n",
    "            },\n",
    "            \"curveParameters\": null\n",
    "        },\n",
    "        {\n",
    "            \"description\": \"legacy - StandardFragilityCurve - Complete\",\n",
    "            \"rules\": [\n",
    "                {\n",
    "                    \"condition\": [\n",
    "                        \"wind > 0\"\n",
    "                    ],\n",
    "                    \"expression\": \"scipy.stats.norm.cdf((math.log(wind) - (3.865))/(0.1))\"\n",
    "                }\n",
    "            ],\n",
    "            \"returnType\": {\n",
    "                \"type\": \"Limit State\",\n",
    "                \"unit\": \"\",\n",
    "                \"description\": \"LS_2\"\n",
    "            },\n",
    "            \"curveParameters\": null\n",
    "        }\n",
    "    ]\n",
    "}\"\"\"\n",
    "\n",
    "# create fragility curve set object\n",
    "fragility_archetype_7 = FragilityCurveSet.from_json_str(fragility_definition_archetype_7)\n",
    "fragility_archetype_7"
   ]
  },
  {
   "cell_type": "markdown",
   "id": "452135e1-44dc-48f3-bf0b-03c383f3e4c1",
   "metadata": {},
   "source": [
    "#### 4.1.6. Visualize fragility curves\n",
    "Use pyincore-viz library to visualize fragility curve set. Details can be found on [pyincore-viz's Documentation](https://incore.ncsa.illinois.edu/doc/pyincore_viz/modules.html#plotutil)"
   ]
  },
  {
   "cell_type": "code",
   "execution_count": null,
   "id": "375e5b3b-6f03-4b3c-8a56-0256578ee47f",
   "metadata": {},
   "outputs": [],
   "source": [
    "from pyincore_viz.plotutil import PlotUtil as plot\n",
    "plt = plot.get_fragility_plot(fragility_archetype_6, start=0, end=100)"
   ]
  },
  {
   "cell_type": "markdown",
   "id": "45dc7083-e00c-46da-ae3a-ed6c4ffc3f36",
   "metadata": {},
   "source": [
    "#### 4.1.7. Calculate limit state from local fragility"
   ]
  },
  {
   "cell_type": "code",
   "execution_count": null,
   "id": "cb4b24bd-ca1b-411b-850e-c5dc0c9753d7",
   "metadata": {},
   "outputs": [],
   "source": [
    "hazard_value = {\"wind\":40}\n",
    "limit_states = fragility_archetype_6.calculate_limit_state(hazard_value)\n",
    "limit_states"
   ]
  },
  {
   "cell_type": "markdown",
   "id": "fed8040d-d318-4c0c-bdf4-fd37eb237184",
   "metadata": {},
   "source": [
    "#### 4.1.8. Derivie damage state from limit state"
   ]
  },
  {
   "cell_type": "code",
   "execution_count": null,
   "id": "3d104f8a-ec82-499a-84ef-19852eb76cb7",
   "metadata": {},
   "outputs": [],
   "source": [
    "fragility_archetype_6._3ls_to_4ds(limit_states)"
   ]
  },
  {
   "cell_type": "markdown",
   "id": "164e1d2b-2448-4c8c-bc03-23a82688e018",
   "metadata": {},
   "source": [
    "### 4.2. Create Fragility Mapping\n",
    "\n",
    "DFR3 mapping sets serve the purpose of establishing a connection between an item within a given inventory and corresponding DFR3 curves. For example, a particular set of fragility curves should be applied to a building based on its specific characteristics. \n",
    "\n",
    "![Local Image](./img/INSPIRE_Workshop_Session_4_mapping.svg)"
   ]
  },
  {
   "cell_type": "markdown",
   "id": "360926ae-67c2-40ef-9e16-93ebdacfe216",
   "metadata": {},
   "source": [
    "#### 4.2.1. Step 1: Establish mapping rules"
   ]
  },
  {
   "cell_type": "code",
   "execution_count": null,
   "id": "4f0b5c9f-a0c4-4c1e-868d-c8c6338bb6fa",
   "metadata": {},
   "outputs": [],
   "source": [
    "fragility_entry_archetype_6 = {\"Non-Retrofit Fragility ID Code\": fragility_archetype_6}\n",
    "fragility_rules_archetype_6 = {\"OR\":[\"int archetype EQUALS 6\"]}\n",
    "fragility_mapping_archetype_6 = Mapping(fragility_entry_archetype_6, fragility_rules_archetype_6)"
   ]
  },
  {
   "cell_type": "code",
   "execution_count": null,
   "id": "7941193d-1646-4603-b835-5e41077aa75e",
   "metadata": {},
   "outputs": [],
   "source": [
    "# Quiz: write rules for archetype 7"
   ]
  },
  {
   "cell_type": "code",
   "execution_count": null,
   "id": "39292189-a16b-4f53-8066-99dd6fc30646",
   "metadata": {},
   "outputs": [],
   "source": [
    "fragility_entry_archetype_7 = {\"Non-Retrofit Fragility ID Code\": fragility_archetype_7}\n",
    "fragility_rules_archetype_7 = {\"OR\":[\"int archetype EQUALS 7\"]}\n",
    "fragility_mapping_archetype_7 = Mapping(fragility_entry_archetype_7, fragility_rules_archetype_7)"
   ]
  },
  {
   "cell_type": "markdown",
   "id": "3ecdbfc6-e4a6-45d6-aa66-e892b77fe878",
   "metadata": {},
   "source": [
    "#### 4.2.2 Step 2: Add metadata"
   ]
  },
  {
   "cell_type": "code",
   "execution_count": null,
   "id": "e3695fb8-5372-45c8-a14d-c07d8d0c5097",
   "metadata": {},
   "outputs": [],
   "source": [
    "fragility_mapping_set_definition = {\n",
    "    \"id\": \"N/A\",\n",
    "    \"name\": \"local joplin tornado fragility mapping object\",\n",
    "    \"hazardType\": \"tornado\",\n",
    "    \"inventoryType\": \"building\",\n",
    "    'mappings': [\n",
    "        fragility_mapping_archetype_6,\n",
    "        fragility_mapping_archetype_7,\n",
    "    ],\n",
    "    \"mappingType\": \"fragility\"\n",
    "}"
   ]
  },
  {
   "cell_type": "markdown",
   "id": "ea116785-1f19-491e-adbd-ee94f34a2519",
   "metadata": {},
   "source": [
    "#### 4.2.3. Step 3: Create MappingSet Object"
   ]
  },
  {
   "cell_type": "code",
   "execution_count": null,
   "id": "7900e475-f17b-409b-8d82-10ac0ff39e80",
   "metadata": {},
   "outputs": [],
   "source": [
    "fragility_mapping_set = MappingSet(fragility_mapping_set_definition)\n",
    "fragility_mapping_set"
   ]
  },
  {
   "cell_type": "markdown",
   "id": "8d5c8e05-51a4-497f-83da-448399173e83",
   "metadata": {},
   "source": [
    "## 5. Building Damage Analysis\n",
    "This analysis computes building damage based on a particular hazard. In this secion, you will perform building damage anlayis for tornado in this tutorial.\n",
    "\n",
    "The process for computing the structural damage is similar to other parts of the built environment. First, a fragility is obtained based on the hazard type and attributes of the building. Based on the fragility, the hazard intensity at the location of the building is computed. Using this information, the probability of exceeding each limit state is computed, along with the probability of damage. For the case of an earthquake hazard, soil information can be used to modify the damage probabilities to include damage due to liquefaction.\n",
    "\n",
    "The outputs of this analysis are CSV file with probabilities of damage and JSON file with information about hazard and fragilities. The detail information about the analysis in our manual: [Building damage analysis](https://incore.ncsa.illinois.edu/doc/incore/analyses/building_dmg.html)"
   ]
  },
  {
   "cell_type": "code",
   "execution_count": null,
   "id": "55c62677-bff0-4766-a546-30e1a6465177",
   "metadata": {},
   "outputs": [],
   "source": [
    "from pyincore.analyses.buildingdamage import BuildingDamage\n",
    "from pyincore import IncoreClient"
   ]
  },
  {
   "cell_type": "code",
   "execution_count": null,
   "id": "02b73849-82c2-4901-82ea-70171e319081",
   "metadata": {},
   "outputs": [],
   "source": [
    "client = IncoreClient()"
   ]
  },
  {
   "cell_type": "code",
   "execution_count": null,
   "id": "67f6a7dc-73f9-4e80-bd3b-aeabba495d7c",
   "metadata": {},
   "outputs": [],
   "source": [
    "# Create building damage\n",
    "bldg_dmg = BuildingDamage(client)\n",
    "\n",
    "# Load input dataset\n",
    "bldg_dmg.set_input_dataset(\"buildings\", buildings)\n",
    "\n",
    "# Load fragility mapping\n",
    "fragility_service = FragilityService(client)\n",
    "bldg_dmg.set_input_dataset(\"dfr3_mapping_set\", fragility_mapping_set)\n",
    "\n",
    "# Set hazard\n",
    "bldg_dmg.set_input_hazard(\"hazard\", tornado)\n",
    "\n",
    "# Set analysis parameters\n",
    "bldg_dmg.set_parameter(\"result_name\", \"joplin_tornado_commerical_bldg_dmg\")\n",
    "bldg_dmg.set_parameter(\"num_cpu\", 2)"
   ]
  },
  {
   "cell_type": "code",
   "execution_count": null,
   "id": "ac8619b2-34ad-4395-9bcd-9fc5ad23e917",
   "metadata": {},
   "outputs": [],
   "source": [
    "# Run building damage analysis\n",
    "bldg_dmg.run_analysis()"
   ]
  },
  {
   "cell_type": "markdown",
   "id": "efd15a50-a691-4294-a5c3-078838221a88",
   "metadata": {},
   "source": [
    "### 5.1. Explore building damage resutls"
   ]
  },
  {
   "cell_type": "code",
   "execution_count": null,
   "id": "91d8654d-bace-4bb1-b678-8378f4b9747e",
   "metadata": {},
   "outputs": [],
   "source": [
    "# display building damage\n",
    "bldg_dmg_df = bldg_dmg.get_output_dataset(\"ds_result\").get_dataframe_from_csv()\n",
    "bldg_dmg_df.head(15)"
   ]
  },
  {
   "cell_type": "markdown",
   "id": "d12a9663-e12e-4bc9-8f9b-d79a682d111f",
   "metadata": {},
   "source": [
    "#### 5.1.1. Joining dataset\n",
    "Data preparation and data post-processing are common procedures. Prior to using pyIncore, users often encounter situation that they need to reshape their own dataset to make it compliant with the input dataset format of pyIncore.\n",
    "\n",
    "After acquiring outputs from pyIncore analyses, often time user would need to perform data aggregation to gain statitical insights. The below tutorial gives a few examples on how to join datasets and generate some basic visualizations."
   ]
  },
  {
   "cell_type": "code",
   "execution_count": null,
   "id": "ec957dab-d476-4b9e-84f6-de0b1f24afcd",
   "metadata": {},
   "outputs": [],
   "source": [
    "# getting geodataframe of building dataset \n",
    "bldg_gdf = buildings.get_dataframe_from_shapefile()\n",
    "\n",
    "# merge/join two dataframe\n",
    "# you can choose columns to be merged\n",
    "bldg_gdf_merged = bldg_gdf[['guid', 'archetype', 'geometry']].merge(bldg_dmg_df, on='guid')\n",
    "bldg_gdf_merged.head(15)"
   ]
  },
  {
   "cell_type": "markdown",
   "id": "4e8d1886-ead6-434c-b3a8-547df9f39eaa",
   "metadata": {},
   "source": [
    "#### 5.1.2. Show statistical summary on a column"
   ]
  },
  {
   "cell_type": "code",
   "execution_count": null,
   "id": "5861c5c8-fe0a-4cf8-9ecc-e758432fc0fc",
   "metadata": {},
   "outputs": [],
   "source": [
    "bldg_gdf_merged[\"LS_0\"].describe()"
   ]
  },
  {
   "cell_type": "markdown",
   "id": "33bd5a88-1005-48f4-b86f-dfac62c34b80",
   "metadata": {},
   "source": [
    "#### 5.1.3. Show table sorted by LS_0 (decending) and archetype (ascending)"
   ]
  },
  {
   "cell_type": "code",
   "execution_count": null,
   "id": "03e16a0c-de33-4e30-b46e-10c195705f97",
   "metadata": {},
   "outputs": [],
   "source": [
    "bldg_gdf_merged.sort_values(['LS_0', 'archetype'], ascending=[0,1]).head(15)"
   ]
  },
  {
   "cell_type": "markdown",
   "id": "17baa505-9e01-489c-af88-63bc5524e5e8",
   "metadata": {},
   "source": [
    "#### 5.1.4. Show table group by archetype"
   ]
  },
  {
   "cell_type": "code",
   "execution_count": null,
   "id": "b0e579c5-cf8d-4bf0-a03a-b8cd8e4054dd",
   "metadata": {},
   "outputs": [],
   "source": [
    "grouped_bldg_dmg = bldg_gdf_merged.groupby(by=['archetype'], as_index=True).agg({'DS_0': 'mean', 'DS_1':'mean', 'DS_2': 'mean', 'DS_3': 'mean', 'guid': 'count'})\n",
    "grouped_bldg_dmg.rename(columns={'guid': 'total_count'}, inplace=True)\n",
    "grouped_bldg_dmg.head()"
   ]
  },
  {
   "cell_type": "markdown",
   "id": "e2d7d9d3-5efe-49c2-9d83-66b7a85af452",
   "metadata": {},
   "source": [
    "### 5.2. Visualization building damage"
   ]
  },
  {
   "cell_type": "code",
   "execution_count": null,
   "id": "a3127456-c055-4921-b860-0ea03fe27b97",
   "metadata": {},
   "outputs": [],
   "source": [
    "# Hazard Exposure\n",
    "count = bldg_gdf_merged['haz_expose'].value_counts()\n",
    "plt = count.plot(kind='bar')"
   ]
  },
  {
   "cell_type": "code",
   "execution_count": null,
   "id": "3c7161d0-3c15-440c-95ad-d67899fdd794",
   "metadata": {},
   "outputs": [],
   "source": [
    "# Plot Damage state by archetype\n",
    "ax = grouped_bldg_dmg[[\"DS_0\", \"DS_1\", \"DS_2\", \"DS_3\"]].plot.barh(stacked=True)\n",
    "ax.set_title(\"Stacked Bar Chart of Damage State Grouped by Archetype Type\", fontsize=12)\n",
    "ax.set_xlabel(\"complete damage value\", fontsize=12)\n",
    "ax.legend(loc='center left', bbox_to_anchor=(1.0, 0.5)) #here is the magic"
   ]
  },
  {
   "cell_type": "code",
   "execution_count": null,
   "id": "efb338a7-ab58-4218-a40e-ddf7d64f4fa2",
   "metadata": {},
   "outputs": [],
   "source": [
    "# Plot a map with GeoDataframe\n",
    "viz.plot_gdf_map(bldg_gdf_merged, \"DS_3\", basemap=True)"
   ]
  },
  {
   "cell_type": "code",
   "execution_count": null,
   "id": "5eafbede-14ed-4382-bb5d-cf457e4672d3",
   "metadata": {},
   "outputs": [],
   "source": [
    "# leveraging geopandas explore\n",
    "bldg_gdf_merged.explore(\n",
    "    marker_kwds={\"radius\": 10},\n",
    "    column=\"DS_3\",  # make choropleth based on \"BoroName\" column\n",
    "    tooltip=\"DS_3\",  # show \"BoroName\" value in tooltip (on hover)\n",
    "    popup=True,  # show all values in popup (on click)\n",
    "    cmap=\"Set1\",  # use \"Set1\" matplotlib colormap)\n",
    ")"
   ]
  },
  {
   "cell_type": "markdown",
   "id": "d1244b15-6f05-42f9-902a-322278bcfa7a",
   "metadata": {},
   "source": [
    "## 6. Monte Carlo Simulation\n",
    "\n",
    "Researchers can use Monte Carlo Simulation to estimate the probability of each building being in a particular damage state. This example uses 500 iterations to determine the failure probability of buildings reaching damage state 2, damage state 3, and damage state 4. Users can run 10000 samples or even more for a more accurate Monte Carlo Simulation to determine the building failure probabilities. Note that this takes several minutes and we are working on developing a more efficient algorithm. \n",
    "\n",
    "For more details, please refer to [Monte Carlo Simulation Analysis Documentation](https://incore.ncsa.illinois.edu/doc/incore/analyses/mc_failure_prob.html)"
   ]
  },
  {
   "cell_type": "code",
   "execution_count": null,
   "id": "ad9da172-d0fc-4f63-ab71-9d588c49abd5",
   "metadata": {},
   "outputs": [],
   "source": [
    "from pyincore.analyses.montecarlofailureprobability import MonteCarloFailureProbability "
   ]
  },
  {
   "cell_type": "code",
   "execution_count": null,
   "id": "9e5b314b-d084-40ce-8349-864de0902799",
   "metadata": {},
   "outputs": [],
   "source": [
    "mc_bldg = MonteCarloFailureProbability(client)\n",
    "\n",
    "# get bldg dmg result from previous step of building damage\n",
    "bldg_dmg_result = bldg_dmg.get_output_dataset(\"ds_result\")\n",
    "mc_bldg.set_input_dataset(\"damage\", bldg_dmg_result)\n",
    "\n",
    "# set input parameters\n",
    "mc_bldg.set_parameter(\"num_cpu\", 8)\n",
    "mc_bldg.set_parameter(\"num_samples\", 500)\n",
    "mc_bldg.set_parameter(\"damage_interval_keys\", [\"DS_0\", \"DS_1\", \"DS_2\", \"DS_3\"])\n",
    "mc_bldg.set_parameter(\"failure_state_keys\", [\"DS_1\", \"DS_2\", \"DS_3\"])\n",
    "\n",
    "mc_bldg.set_parameter(\"result_name\", \"joplin_tornado_mc_failure_probability_buildings\")"
   ]
  },
  {
   "cell_type": "code",
   "execution_count": null,
   "id": "96a6370a-eed9-4738-bbcf-7e53e11128f5",
   "metadata": {},
   "outputs": [],
   "source": [
    "# Run the Monte Carlo Simulation module to obtain the building failure probabilities. The building failure   \n",
    "# probabilities herein only consider the physical damage without the interdependency.\n",
    "mc_bldg.run_analysis()"
   ]
  },
  {
   "cell_type": "code",
   "execution_count": null,
   "id": "c6e16463-db5f-449b-ba91-0b2491d2d4b1",
   "metadata": {},
   "outputs": [],
   "source": [
    "# list all the outputs\n",
    "mc_bldg.get_output_datasets()"
   ]
  },
  {
   "cell_type": "markdown",
   "id": "220aed80-9525-4d6f-addd-09979e080770",
   "metadata": {},
   "source": [
    "### 6.1. Get buildings non-functional probabilities"
   ]
  },
  {
   "cell_type": "code",
   "execution_count": null,
   "id": "5e7f59d8-b42f-4dd7-abde-ae9b97f80f4e",
   "metadata": {},
   "outputs": [],
   "source": [
    "bldg_failure_probability = mc_bldg.get_output_dataset('failure_probability')\n",
    "bldg_failure_probability_df = bldg_failure_probability.get_dataframe_from_csv()\n",
    "bldg_failure_probability_df.head(15)"
   ]
  },
  {
   "cell_type": "markdown",
   "id": "7e821ad8-dae4-428d-a240-d736b8ad5131",
   "metadata": {},
   "source": [
    "### 6.2. Get buildings sample damage states"
   ]
  },
  {
   "cell_type": "code",
   "execution_count": null,
   "id": "66eeb33f-42ef-4b49-b2d3-be9b0c0ac47c",
   "metadata": {},
   "outputs": [],
   "source": [
    "bldg_damage_mcs_samples = mc_bldg.get_output_dataset('sample_damage_states')\n",
    "bldg_damage_mcs_samples_df = bldg_damage_mcs_samples.get_dataframe_from_csv()\n",
    "bldg_damage_mcs_samples_df.head(15)"
   ]
  },
  {
   "cell_type": "markdown",
   "id": "263511c4-b78a-44f0-87d8-c45a0fa804a1",
   "metadata": {},
   "source": [
    "### 6.3. Visualize probability of non-functionality"
   ]
  },
  {
   "cell_type": "code",
   "execution_count": null,
   "id": "28bdc948-b939-45e4-9cf9-04eb60f53959",
   "metadata": {},
   "outputs": [],
   "source": [
    "# getting geodataframe of building dataset and merge with output\n",
    "bldg_gdf = buildings.get_dataframe_from_shapefile()\n",
    "bldg_failure_probability_gdf = bldg_gdf.merge(bldg_failure_probability_df, on=\"guid\")\n",
    "\n",
    "viz.plot_gdf_map(bldg_failure_probability_gdf, column=\"failure_probability\")"
   ]
  },
  {
   "cell_type": "code",
   "execution_count": null,
   "id": "6e3d44db-aa05-4d54-8171-72999cbd2338",
   "metadata": {},
   "outputs": [],
   "source": [
    "bldg_failure_probability_gdf.explore(\n",
    "    marker_kwds={\"radius\": 10},\n",
    "    column=\"failure_probability\",  # make choropleth based on \"BoroName\" column\n",
    "    tooltip=\"failure_probability\",  # show \"BoroName\" value in tooltip (on hover)\n",
    "    popup=True,  # show all values in popup (on click)\n",
    "    cmap=\"Set1\",  # use \"Set1\" matplotlib colormap)\n",
    ")"
   ]
  },
  {
   "cell_type": "markdown",
   "id": "53484008-6927-4847-bfc3-2651da03c48b",
   "metadata": {},
   "source": [
    "## 7. Commercial Building Recovery Analysis\n",
    "\n",
    "Commercial building recovery analysis computes the recovery time needed for each commercial building from any damage states to receive the full restoration. Currently, supported hazards are tornadoes. The methodology incorporates the multi-layer Monte Carlo simulation approach and determines the two-step recovery time that includes delay and repair. The delay model was modified based on the REDi framework and calculated the end-result outcomes resulted from delay impeding factors such as post-disaster inspection, insurance claim, financing and government permit. The repair model followed the FEMA P-58 approach and was controlled by fragility functions. \n",
    "The outputs of this analysis is a CSV file with time-stepping recovery probabilities at the building level.\n",
    "\n",
    "To read more about this analysis, please visit [Commercial Building Recovery Documentation](https://incore.ncsa.illinois.edu/doc/incore/analyses/commercial_building_recovery.html)"
   ]
  },
  {
   "cell_type": "code",
   "execution_count": null,
   "id": "a16b77a9-04b6-4c09-af4e-41f11aee132e",
   "metadata": {},
   "outputs": [],
   "source": [
    "from pyincore.analyses.commercialbuildingrecovery.commercialbuildingrecovery import CommercialBuildingRecovery\n",
    "\n",
    "commercial_recovery = CommercialBuildingRecovery(client)"
   ]
  },
  {
   "cell_type": "markdown",
   "id": "49f2ccf3-92cf-4b09-ab9f-fbbcf159dca0",
   "metadata": {},
   "source": [
    "### 7.1. Step 1: Prepare repair curve sets and repair curve mappings"
   ]
  },
  {
   "cell_type": "code",
   "execution_count": null,
   "id": "87334910-edd1-4b9d-8433-a2b53408562f",
   "metadata": {},
   "outputs": [],
   "source": [
    "# repair curve set\n",
    "repair_archetype_6 = RepairCurveSet.from_json_file(\"data/dfr3/repair_archetype_6.json\")\n",
    "repair_archetype_7 = RepairCurveSet.from_json_file(\"data/dfr3/repair_archetype_7.json\")"
   ]
  },
  {
   "cell_type": "code",
   "execution_count": null,
   "id": "83463638-66a6-4af5-b3b1-b48ffcd5f684",
   "metadata": {},
   "outputs": [],
   "source": [
    "# define mapping rules\n",
    "repair_entry_archetype_6 = {\"Repair ID Code\": repair_archetype_6}\n",
    "repair_rules_archetype_6 = {\"OR\":[\"int archetype EQUALS 6\"]}\n",
    "repair_mapping_archetype_6 = Mapping(repair_entry_archetype_6, repair_rules_archetype_6)\n",
    "\n",
    "repair_entry_archetype_7 = {\"Repair ID Code\": repair_archetype_7}\n",
    "repair_rules_archetype_7 = {\"OR\":[\"int archetype EQUALS 7\"]}\n",
    "repair_mapping_archetype_7 = Mapping(repair_entry_archetype_7, repair_rules_archetype_7)\n",
    "\n",
    "# construct mapping\n",
    "repair_mapping_set_definition = {\n",
    "    \"id\": \"N/A\",\n",
    "    \"name\": \"Building Mean structural repair cost mapping for archetypes 6 & 7\",\n",
    "    \"hazardType\": \"tornado\",\n",
    "    \"inventoryType\": \"building\",\n",
    "    'mappings': [\n",
    "        repair_mapping_archetype_6,\n",
    "        repair_mapping_archetype_7,\n",
    "    ],\n",
    "    \"mappingType\": \"repair\"\n",
    "}\n",
    "repair_mapping_set = MappingSet(repair_mapping_set_definition)"
   ]
  },
  {
   "cell_type": "code",
   "execution_count": null,
   "id": "1792d818-55ed-4ce1-8cc8-e6c7ae3726e3",
   "metadata": {},
   "outputs": [],
   "source": [
    "# set recovery mapping\n",
    "commercial_recovery.set_input_dataset('dfr3_mapping_set', repair_mapping_set)"
   ]
  },
  {
   "cell_type": "markdown",
   "id": "a0a6017a-6db5-4864-8ef0-6860e27cfb68",
   "metadata": {},
   "source": [
    "### 7.2. Step 2: Chain with MCS output"
   ]
  },
  {
   "cell_type": "code",
   "execution_count": null,
   "id": "31cfb090-378d-4561-a133-126711dadf92",
   "metadata": {},
   "outputs": [],
   "source": [
    "commercial_recovery.set_input_dataset(\"sample_damage_states\", bldg_damage_mcs_samples)\n",
    "commercial_recovery.set_input_dataset(\"mcs_failure\", bldg_failure_probability)"
   ]
  },
  {
   "cell_type": "markdown",
   "id": "6ad6f9dd-b6b1-4628-894f-76e202a75188",
   "metadata": {},
   "source": [
    "### 7.3. Step 3: Prepare additional input datasets"
   ]
  },
  {
   "cell_type": "code",
   "execution_count": null,
   "id": "0dae0f53-131d-4c3d-ae79-f63214f05ce8",
   "metadata": {},
   "outputs": [],
   "source": [
    "# delay factor\n",
    "delay_factors = Dataset.from_file(\"data/additional/Dataset1_REDi_business_new.csv\", data_type=\"incore:buildingRecoveryFactors\")\n",
    "commercial_recovery.set_input_dataset(\"delay_factors\", delay_factors)\n",
    "\n",
    "# building inventory\n",
    "commercial_recovery.set_input_dataset(\"buildings\", buildings)"
   ]
  },
  {
   "cell_type": "code",
   "execution_count": null,
   "id": "ecae1f29-cc3c-47f5-a2a5-8319d56ec7f0",
   "metadata": {},
   "outputs": [],
   "source": [
    "# set other parameters\n",
    "commercial_recovery.set_parameter(\"result_name\", \"joplin_tornado_commercial_bldg_recovery\")\n",
    "commercial_recovery.set_parameter(\"num_samples\", 10)"
   ]
  },
  {
   "cell_type": "markdown",
   "id": "e9989ad9-6e4a-4efa-abe7-5259d95a266b",
   "metadata": {},
   "source": [
    "### 7.4. Step 4: Run commercial recovery analysis "
   ]
  },
  {
   "cell_type": "code",
   "execution_count": null,
   "id": "2c8772df-fed7-41b0-bf61-789fd7c90fab",
   "metadata": {},
   "outputs": [],
   "source": [
    "commercial_recovery.run_analysis()"
   ]
  },
  {
   "cell_type": "code",
   "execution_count": null,
   "id": "be880a94-9345-4d83-876b-0de33fff258e",
   "metadata": {},
   "outputs": [],
   "source": [
    "commercial_recovery.get_output_datasets()"
   ]
  },
  {
   "cell_type": "code",
   "execution_count": null,
   "id": "86c8c96a-ad60-4fe6-8d0a-9e590deced86",
   "metadata": {},
   "outputs": [],
   "source": [
    "time_stepping_recovery = commercial_recovery.get_output_dataset(\"time_stepping_recovery\")\n",
    "time_stepping_recovery_df = time_stepping_recovery.get_dataframe_from_csv()\n",
    "time_stepping_recovery_df.head(15)"
   ]
  },
  {
   "cell_type": "markdown",
   "id": "859b0036-4f2d-4704-a834-ec95654bbaaa",
   "metadata": {},
   "source": [
    "### 7.5. Visualize recovery grouped by archetypes"
   ]
  },
  {
   "cell_type": "code",
   "execution_count": null,
   "id": "a3f802f8-0025-46c8-aaa8-4067f2b8ade1",
   "metadata": {},
   "outputs": [],
   "source": [
    "# merging with building inventory\n",
    "bldg_gdf = buildings.get_dataframe_from_shapefile()\n",
    "time_stepping_recovery_df = bldg_gdf[[\"guid\", \"archetype\"]].merge(time_stepping_recovery_df, on=\"guid\").drop([\"guid\"], axis=1)"
   ]
  },
  {
   "cell_type": "code",
   "execution_count": null,
   "id": "fd6254b0-f695-44ce-9fc5-d51df1a8dfcd",
   "metadata": {},
   "outputs": [],
   "source": [
    "time_stepping_recovery_grouped = time_stepping_recovery_df.groupby(\"archetype\").agg(\"mean\")\n",
    "time_stepping_recovery_grouped.head(10)"
   ]
  },
  {
   "cell_type": "code",
   "execution_count": null,
   "id": "6d1f03c9-e750-4ed9-99b6-2fd4e2f0211b",
   "metadata": {},
   "outputs": [],
   "source": [
    "df = time_stepping_recovery_grouped.copy(deep=True) \n",
    "df = df.T\n",
    "ax = df.plot(kind='line', figsize=(12, 3))\n",
    "ax.set_xlabel('Quarter')\n",
    "ax.set_ylabel('Recovery Rate')\n",
    "ax.set_title('Joplin Commercial Building Recovery Curves by Archetype')\n",
    "ax.legend(title='archetype')"
   ]
  }
 ],
 "metadata": {
  "kernelspec": {
   "display_name": "Python 3 (ipykernel)",
   "language": "python",
   "name": "python3"
  },
  "language_info": {
   "codemirror_mode": {
    "name": "ipython",
    "version": 3
   },
   "file_extension": ".py",
   "mimetype": "text/x-python",
   "name": "python",
   "nbconvert_exporter": "python",
   "pygments_lexer": "ipython3",
   "version": "3.9.6"
  }
 },
 "nbformat": 4,
 "nbformat_minor": 5
}
