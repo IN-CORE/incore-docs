{
 "cells": [
  {
   "cell_type": "markdown",
   "id": "2e1c6693",
   "metadata": {},
   "source": [
    "# Session 1: Introduction to Jupyter Notebook\n",
    "\n",
    "Perform the following Jupyter notebook operations:\n",
    "\n",
    "- Run notebook\n",
    "- Change a cell and re-run the cell\n",
    "- Add a new line/cell to a notebook\n",
    "- Download the workshop material with code cell\n",
    "- Unzip the downloaded zip file with code cell\n",
    "\n",
    "Please follow the instruction at each cell.\n"
   ]
  },
  {
   "cell_type": "markdown",
   "id": "d383d41e",
   "metadata": {},
   "source": [
    "## 1. Run notebook\n",
    "\n",
    "Please run the code cell below.\n",
    "\n",
    "You can hit (Ctrl + Enter) to run current cell or (Shift + Enter) to run current cell and go to next cell.\n",
    "Alternatively, you can click run cell in the toolbar above.\n"
   ]
  },
  {
   "cell_type": "code",
   "execution_count": null,
   "id": "f670ab37",
   "metadata": {},
   "outputs": [],
   "source": [
    "message = \"Hello World\"\n",
    "print(message)"
   ]
  },
  {
   "cell_type": "markdown",
   "id": "6882dfb8",
   "metadata": {},
   "source": [
    "## 2. Change cell and re-run the notebook\n",
    "\n",
    "Modify the message of the print statement below to say **\"Hello IN-CORE\"** and run the current cell.\n"
   ]
  },
  {
   "cell_type": "code",
   "execution_count": null,
   "id": "533d3de0",
   "metadata": {},
   "outputs": [],
   "source": [
    "message = \"Hello World\"\n",
    "print(message)"
   ]
  },
  {
   "cell_type": "markdown",
   "id": "4b9aacb0",
   "metadata": {},
   "source": [
    "## 3. Add a new line and execute it\n",
    "\n",
    "Add a new cell below to this notebook. On the new line, modify the **message** variable to print your name.\n"
   ]
  },
  {
   "cell_type": "markdown",
   "id": "1789602d-bef0-4777-a6ac-b5aecfefcc90",
   "metadata": {
    "tags": []
   },
   "source": [
    "## 4. Download a zip file of the workshop material\n",
    "\n",
    "URL: https://github.com/IN-CORE/incore-docs/raw/main/workshops/20231115/workshop_2023-11-15.zip\n",
    "\n",
    "Please run the following code to download a zip file. Please make sure that it appears in your file browser (left panel)\n"
   ]
  },
  {
   "cell_type": "code",
   "execution_count": null,
   "id": "c64fa4e1-ddef-4bb1-ac56-1c9f409952d3",
   "metadata": {},
   "outputs": [],
   "source": [
    "# import requests module\n",
    "import requests"
   ]
  },
  {
   "cell_type": "code",
   "execution_count": null,
   "id": "0fe9db06-e80c-4bcc-9d1e-448044367e4c",
   "metadata": {},
   "outputs": [],
   "source": [
    "# set URL and get file contents\n",
    "url = \"https://github.com/IN-CORE/incore-docs/raw/main/workshops/20231115/workshop_2023-11-15.zip\"\n",
    "filename = \"incore-workshop.zip\"\n",
    "headers = {\"user-agent\": \"Wget/1.16 (linux-gnu)\"}\n",
    "r = requests.get(url, allow_redirects=True, stream=True, headers=headers)"
   ]
  },
  {
   "cell_type": "code",
   "execution_count": null,
   "id": "e4f1e3b8-7e53-4dd8-bb58-f09660a81e97",
   "metadata": {},
   "outputs": [],
   "source": [
    "# write the contents to a file\n",
    "open(filename, \"wb\").write(r.content)"
   ]
  },
  {
   "cell_type": "markdown",
   "id": "9eadca4b-69d3-461f-a4d8-d51dde8168d7",
   "metadata": {
    "tags": []
   },
   "source": [
    "## 5. Unzip the downloaded zip file\n",
    "\n",
    "Please run the following code to unzip the downloaded zip file. Please make sure that all the workshop materials appear in your file browser (left panel)\n",
    "![jupyter-lab-leftpanel.png](jupyter-lab-leftpanel.png)\n"
   ]
  },
  {
   "cell_type": "code",
   "execution_count": null,
   "id": "c2f4aad6-d99c-46c8-b165-f043ee273f99",
   "metadata": {},
   "outputs": [],
   "source": [
    "# import zipfile module\n",
    "import zipfile"
   ]
  },
  {
   "cell_type": "code",
   "execution_count": null,
   "id": "d05564b7-e13f-49da-acc5-80bc3bfecb78",
   "metadata": {},
   "outputs": [],
   "source": [
    "# extract the zipfile\n",
    "with zipfile.ZipFile(filename, \"r\") as zip_ref:\n",
    "    zip_ref.extractall()"
   ]
  },
  {
   "cell_type": "markdown",
   "id": "7390470e-6a85-49cb-b54d-cef005dc9591",
   "metadata": {},
   "source": []
  },
  {
   "cell_type": "code",
   "execution_count": null,
   "id": "8d9eeb0b-d255-46e8-a27b-a9104c30382b",
   "metadata": {},
   "outputs": [],
   "source": []
  }
 ],
 "metadata": {
  "kernelspec": {
   "display_name": "Python 3 (ipykernel)",
   "language": "python",
   "name": "python3"
  },
  "language_info": {
   "codemirror_mode": {
    "name": "ipython",
    "version": 3
   },
   "file_extension": ".py",
   "mimetype": "text/x-python",
   "name": "python",
   "nbconvert_exporter": "python",
   "pygments_lexer": "ipython3",
   "version": "3.10.13"
  }
 },
 "nbformat": 4,
 "nbformat_minor": 5
}
