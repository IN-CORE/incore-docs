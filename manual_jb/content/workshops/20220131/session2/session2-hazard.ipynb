{
 "cells": [
  {
   "cell_type": "markdown",
   "id": "5cc2d2b9",
   "metadata": {},
   "source": [
    "# Session 2: Working with Hazards (Tornado and Earthquake)\n",
    "You will learn how to create earthquake and tornado hazards with IN-CORE in this session.\n"
   ]
  },
  {
   "cell_type": "markdown",
   "id": "41edbef0",
   "metadata": {},
   "source": [
    "## 1. Basics of IN-CORE modules\n",
    "\n",
    "IN-CORE via ```pyincore``` provides a collection of modules that implement functionalities required to access services\n",
    "that provide access to data, simulation models and their analysis. To use IN-CORE in Jupyter Notebooks, we start by\n",
    "importing various modules.\n",
    "\n",
    "We will first focus on how to effectively use the following modules within the IN-CORE architecture to\n",
    "request information about various hazards and :\n",
    "\n",
    "* **IncoreClient:** this entity provides access and authentication to IN-CORE services. To access the services, users\n",
    "  require to have a valid *username* and *password*. Importing ```IncoreClient``` and creating a named instance of the\n",
    "  client is the first step toward using IN-CORE by establishing a remote connection to various simulation and data\n",
    "  access services. The variable containing that instance is used by various other services\n",
    "  to validate the user's identity, as well as provide access to pieces of information required across tasks. *This step\n",
    "  only needs to be done once.*\n",
    "* **HazardService:** once the ```IncoreClient``` has been initiated, the ```HazardService``` module uses the information\n",
    "  from that client to administer existing information about known or new hazards. ```HazardService``` can:\n",
    "  * Retrieve existing metadata for various hazards\n",
    "  * Search hazards per specific information\n",
    "  * Request creation of a new hazard\n",
    "  * Request deletion of a new hazard\n",
    "\n",
    "With the latter in mind, let's start by importing these modules and creating our first IN-CORE objects."
   ]
  },
  {
   "cell_type": "code",
   "execution_count": null,
   "id": "96403a28",
   "metadata": {
    "tags": []
   },
   "outputs": [],
   "source": [
    "# Import modules\n",
    "from pyincore import HazardService, IncoreClient\n",
    "import json"
   ]
  },
  {
   "cell_type": "code",
   "execution_count": null,
   "id": "4ad10ca3",
   "metadata": {},
   "outputs": [],
   "source": [
    "# Connect to IN-CORE serivce by creating IncoreClient\n",
    "# This only needs to be done once as indicated above\n",
    "client = IncoreClient()\n",
    "\n",
    "# Create a HazardService instance that depends on the client defined in the previous step\n",
    "hazardsvc = HazardService(client)"
   ]
  },
  {
   "cell_type": "markdown",
   "id": "eafe244b",
   "metadata": {},
   "source": [
    "## 2. Tornado hazards\n",
    " \n",
    "We will start by retrieving existing information about a specific tornado, and then using this information to create a slightly modified new tornado hazard scenario. These scenarios are representative of two most frequent tasks with IN-CORE: using prior data to perform post-analysis of hazards, and the creation of new hazards that will become later available. We later also construct an example with a database-driven tornado.\n",
    "\n",
    "These two tasks alone can enable decision makers to systematically construct, test and refine scenarios, later to be easily shared and discussed across response teams using Jupyter notebooks such as this.\n",
    "\n",
    "\n",
    "### 2.1 Working with an existing tornado\n",
    "\n",
    "As with any given hazard, IN-CORE operates by utilizing hazard identification strings (*hazard id*) that uniquely\n",
    "name existing scenarios and are associated with data and metadata useful for analysis and visualization purposes.\n",
    "Metadata describe properties of the scenario, such as location\n",
    "\n",
    "With this identifier, let's perform two tasks:\n",
    "* Obtain metadata about the tornado\n",
    "* Obtain hazard values, often used by decision makers during emergency planning and preparation\n",
    "\n",
    "IN-CORE uses the [JSON lightweight data-interchange format](https://www.json.org/json-en.html) to store and retrieve\n",
    "hazard information across its services as flexible way to share information in a standardized manner. We will use\n",
    "Python's ```json``` module to expand that information in a human-readable format."
   ]
  },
  {
   "cell_type": "markdown",
   "id": "f6d0620f",
   "metadata": {},
   "source": [
    "Let's start by using an identifier for one tornado in Memphis, TN stored as an IN-CORE dataset. "
   ]
  },
  {
   "cell_type": "code",
   "execution_count": null,
   "id": "fa9f0fb6",
   "metadata": {
    "tags": []
   },
   "outputs": [],
   "source": [
    "# Example tornado in Memphis, TN (It's an imaginary tornado)\n",
    "example_tornado_id = '60a44ae8605f0462bd4263ac'"
   ]
  },
  {
   "cell_type": "markdown",
   "id": "c3f04afc",
   "metadata": {
    "pycharm": {
     "name": "#%% md\n"
    }
   },
   "source": [
    "Now, using the ```HazardService``` module, we retrieve the metadata and display it."
   ]
  },
  {
   "cell_type": "code",
   "execution_count": null,
   "id": "28be5e7c",
   "metadata": {
    "collapsed": false,
    "jupyter": {
     "outputs_hidden": false
    },
    "pycharm": {
     "name": "#%%\n"
    }
   },
   "outputs": [],
   "source": [
    "tornado_model_metadata = hazardsvc.get_tornado_hazard_metadata(example_tornado_id)\n",
    "print(json.dumps(tornado_model_metadata, indent=4, sort_keys=False))"
   ]
  },
  {
   "cell_type": "markdown",
   "id": "902d8a57",
   "metadata": {
    "pycharm": {
     "name": "#%% md\n"
    }
   },
   "source": [
    "We will discuss below the meaning of each element in this JSON output. Using the same service, we can obtain specific\n",
    "data about the hazard, in this case, the hazard values."
   ]
  },
  {
   "cell_type": "code",
   "execution_count": null,
   "id": "a7a1e522",
   "metadata": {},
   "outputs": [],
   "source": [
    "# Getting hazard value from your model\n",
    "points = [\n",
    "    {\n",
    "        \"demands\": [\"wind\"],\n",
    "        \"units\": [\"mph\"],\n",
    "        \"loc\": \"35.134, -90.031\"\n",
    "    }\n",
    "]\n",
    "\n",
    "tornado_model_vals = hazardsvc.post_tornado_hazard_values(example_tornado_id, points)\n",
    "print(json.dumps(tornado_model_vals, indent=4, sort_keys=False))"
   ]
  },
  {
   "cell_type": "markdown",
   "id": "e6a62a75",
   "metadata": {
    "pycharm": {
     "name": "#%% md\n"
    }
   },
   "source": [
    "Using ```pyIncore_viz```, we can now visualize the tornado hazard:"
   ]
  },
  {
   "cell_type": "code",
   "execution_count": null,
   "id": "fa389db4",
   "metadata": {
    "collapsed": false,
    "jupyter": {
     "outputs_hidden": false
    },
    "pycharm": {
     "name": "#%%\n"
    }
   },
   "outputs": [],
   "source": [
    "from pyincore_viz.geoutil import GeoUtil as viz\n",
    "viz.plot_tornado(example_tornado_id, client, basemap=True)"
   ]
  },
  {
   "cell_type": "markdown",
   "id": "39742174",
   "metadata": {},
   "source": [
    "All geographic locations in IN-CORE are specified using the WGS84 coordinate system. Observe that the parameters of the\n",
    "```json.dumps``` function are as follows:\n",
    "\n",
    "* the variable containing the resulting metadata\n",
    "* the indentation used to display the information contained in the JSON format\n",
    "* whether keys are sorted for convenient reading (no in our case)."
   ]
  },
  {
   "cell_type": "markdown",
   "id": "9f777368",
   "metadata": {},
   "source": [
    "### 2.2 Creating model-based tornado\n",
    "\n",
    "One of IN-CORE strengths is the ability to specify, execute and retrieve information about new hazard scenarios using\n",
    "the same metadata standard.\n",
    "\n",
    "As promised above, here is a description of each metadata (JSON) element representing a tornado hazard:\n",
    "\n",
    "* **tornadoModel** (required) - the tornado model (Mean width will create a tornado using the mean width from historical data for the EF rating)\n",
    "    * *Mean width tornado (MeanWidthTornado)* - start/end points with a width equal to the average for that EF rating looking at historical tornado data\n",
    "    * *Random width tornado (RandomWidthTornado) - start/end points, random width selected use the historical data to determine the max width for that tornado rating\n",
    "    * *Mean Length/Width/angle (MeanLengthWidthAngleTornado)* - start point, length/width and angle are based on the historical average for those attributes based on EF selected\n",
    "    * *Random length/width/angle (RandomLengthWidthAngleTornado)* - start point, random length/width/angle selected for the ef rating using historical data\n",
    "    * *Random angle (RandomAngleTornado)* - start point, random angle selected based on historical data.\n",
    "* *efRating (required)* - a value in the Enhanced Fujita (EF) scale intensity of the tornado (EF0 - EF5)\n",
    "* *startLatitude/startLongitude (required)* - the starting location of the tornado\n",
    "* *endLatitude/endLongitude (optional)*- depending on the model, an end latitude/longitude value. Some tornado models (e.g. mean length width, and angle) calcuate endLat and endLon, others (e.g. random angle) will generate multiple endpoints programmatically so the input must be passed as an array\n",
    "* *windSpeedMethod(optional)* - computation of wind speed within an EF boundary, 0 indicates using linear interpolation, 1 indicates uniform random distribution. Default is Uniform random distribution.\n",
    "\n",
    "As you may already anticipate, the particular JSON elements vary per each hazard type. We call these *parameters*. Some\n",
    "parameters are required (i.e. the analysis cannot be performed without them) and others are\n",
    "\n",
    "##### Random Seeds: about the computational reproducibility of hazard scenarios\n",
    "\n",
    "Ensuring reproducibility of hazard scenarios is paramount for the IN-CORE team due to its scientific and decision-making\n",
    "consequences. Hence, care has been exercised to ensure that scenarios can be re-executed consistently in a standardized\n",
    "and simple manner.\n",
    "\n",
    "Several models (such as this one) require generating pseudo-random numbers to simulate unexpected natural or human\n",
    "effects, computational reproducibility of experiments can become somewhat challenging. IN-CORE harnesses the *random\n",
    "seed*, a special number that determines the exact sequence random number generators (RNGs) produce to ensure\n",
    "repeatability of that sequence independent of where the code is executed. The ```randomSeed``` parameter in IN-CORE\n",
    "takes care of this aspect via an integer value that fixes the random number generating process regardless of when the\n",
    "new analysis is requested or in which infrastructure it is executed."
   ]
  },
  {
   "cell_type": "markdown",
   "id": "81f45c11",
   "metadata": {
    "pycharm": {
     "name": "#%% md\n"
    }
   },
   "source": [
    "##### Defining a new (slightly different) tornado\n",
    "\n",
    "With this information in hand, let's construct a slightly different version of the same tornado. Let us imagine a less\n",
    "intense scenario with a longer trajectory due to conditions that preserve its energy for a longer time. While path\n",
    "length have been reported to increase as their EF rating increases, the case we describe here is plausible (See\n",
    "[On the Relationship of Tornado Path Length and Width to Intensity](https://journals.ametsoc.org/view/journals/wefo/19/2/1520-0434_2004_019_0310_otrotp_2_0_co_2.xml)).\n",
    "\n",
    "To do so, we will vary:\n",
    "* the rating in the Enhanced Fujita (EF) rating from ```\"EF5\"``` to ```\"EF4\"```,\n",
    "* the start and end points to have a longer trajectory,\n",
    "* and the  random number seed to ensure the RNG starts at values different from those in the original scenario.\n",
    "\n",
    "The result of this process is\n",
    "\n",
    "```json\n",
    "{\n",
    "  \"name\": \"Centerville Model Tornado (modified)\",\n",
    "  \"description\": \"Centerville mean width tornado hazard\",\n",
    "  \"tornadoType\": \"model\",\n",
    "  \"tornadoModel\" : \"MeanWidthTornado\",\n",
    "      \"tornadoParameters\" : {\n",
    "      \"efRating\" : \"EF4\",\n",
    "      \"startLatitude\" : \"35.215\",\n",
    "      \"startLongitude\" : \"-97.524\",\n",
    "      \"randomSeed\" : \"3457\",\n",
    "      \"endLatitude\" : [35.253],\n",
    "      \"endLongitude\" : [-97.432],\n",
    "      \"windSpeedMethod\" : \"1\",\n",
    "      \"numSimulations\" : \"1\"\n",
    "    }\n",
    "}\n",
    "```\n",
    "\n",
    "We now proceed to create the model-based tornado with what we have learned so far. We take care to serialize the Python\n",
    "dictionary structure into a JSON specification using ```json.dumps```:"
   ]
  },
  {
   "cell_type": "code",
   "execution_count": null,
   "id": "e62595f6",
   "metadata": {},
   "outputs": [],
   "source": [
    "# Create a variable to store the new tornado hazard definition:\n",
    "\n",
    "tornado_model_metadata = {\n",
    "  \"name\": \"Centerville Model Tornado (modified)\",\n",
    "  \"description\": \"Centerville mean width tornado hazard\",\n",
    "  \"tornadoType\": \"model\",\n",
    "  \"tornadoModel\" : \"MeanWidthTornado\",\n",
    "      \"tornadoParameters\" : {\n",
    "      \"efRating\" : \"EF4\",\n",
    "      \"startLatitude\" : \"35.215\",\n",
    "      \"startLongitude\" : \"-97.524\",\n",
    "      \"randomSeed\" : \"3457\",\n",
    "      \"endLatitude\" : [35.253],\n",
    "      \"endLongitude\" : [-97.432],\n",
    "      \"windSpeedMethod\" : \"1\",\n",
    "      \"numSimulations\" : \"1\"\n",
    "    }\n",
    "}\n",
    "\n",
    "tornado_model_json = json.dumps(tornado_model_metadata, indent=4)"
   ]
  },
  {
   "cell_type": "markdown",
   "id": "cbdad819",
   "metadata": {
    "pycharm": {
     "name": "#%% md\n"
    }
   },
   "source": [
    "Now, we create a tornado scenario, and retrieve the *model response* obtained from requesting IN-CORE to process it:"
   ]
  },
  {
   "cell_type": "code",
   "execution_count": null,
   "id": "c875fd95",
   "metadata": {},
   "outputs": [],
   "source": [
    "# Create a tornado with the prior definition\n",
    "model_response = hazardsvc.create_tornado_scenario(tornado_model_json)\n",
    "print(json.dumps(model_response, indent=4, sort_keys=False))"
   ]
  },
  {
   "cell_type": "markdown",
   "id": "b6b6d59f",
   "metadata": {},
   "source": [
    "As with any analysis, we obtain the identifier of the specific response:"
   ]
  },
  {
   "cell_type": "code",
   "execution_count": null,
   "id": "399aa14f",
   "metadata": {
    "collapsed": false,
    "jupyter": {
     "outputs_hidden": false
    },
    "pycharm": {
     "name": "#%%\n"
    }
   },
   "outputs": [],
   "source": [
    "# Acquire hazard id you created\n",
    "tornado_model_id = model_response['id']\n",
    "viz.plot_tornado(tornado_model_id, client, basemap=True)"
   ]
  },
  {
   "cell_type": "markdown",
   "id": "d2d07852",
   "metadata": {},
   "source": [
    "As with the first case, we obtain the hazard values for this tornado:"
   ]
  },
  {
   "cell_type": "code",
   "execution_count": null,
   "id": "4d1b4792",
   "metadata": {},
   "outputs": [],
   "source": [
    "# Getting hazard value from your model based tornado\n",
    "points = [\n",
    "    {\n",
    "        \"demands\": [\"wind\"],\n",
    "        \"units\": [\"mph\"],\n",
    "        \"loc\": \"35.215, -97.521\"\n",
    "    },\n",
    "    {\n",
    "        \"demands\": [\"wind\"],\n",
    "        \"units\": [\"mph\"],\n",
    "        \"loc\": \"35.227, -97.471\"\n",
    "    }\n",
    "]\n",
    "\n",
    "tornado_model_vals = hazardsvc.post_tornado_hazard_values(tornado_model_id, points)\n",
    "print(json.dumps(tornado_model_vals, indent=4, sort_keys=False))"
   ]
  },
  {
   "cell_type": "markdown",
   "id": "2a6ad9ea",
   "metadata": {},
   "source": [
    "### 2.3 Creating a dataset-driven tornado\n",
    "\n",
    "In some situations, datasets are available outside IN-CORE that determine a hazard. IN-CORE also accepts dataset inputs\n",
    "to facilitate such analyses. We present here an example of how to do so.\n",
    "\n",
    "The first step is to construct a hazard dataset description using JSON. In this case, we do so for a tornado in Joplin:"
   ]
  },
  {
   "cell_type": "code",
   "execution_count": null,
   "id": "aadc8180",
   "metadata": {},
   "outputs": [],
   "source": [
    "tornado_dataset_data = {\n",
    "  \"name\": \"Joplin Dataset Tornado - workshop\",\n",
    "  \"description\": \"Joplin tornado hazard with shapefile\",\n",
    "  \"tornadoType\": \"dataset\"\n",
    "}\n",
    "\n",
    "tornado_dataset_json = json.dumps(tornado_dataset_data, indent=4)"
   ]
  },
  {
   "cell_type": "markdown",
   "id": "6caee454",
   "metadata": {
    "pycharm": {
     "name": "#%% md\n"
    }
   },
   "source": [
    "We also specify where the dataset files can be located (in our case, they have been provided to you in the local\n",
    "directory):"
   ]
  },
  {
   "cell_type": "code",
   "execution_count": null,
   "id": "f0b15df1",
   "metadata": {},
   "outputs": [],
   "source": [
    "# zip file containing tornado path\n",
    "file_paths = [\"joplin_path_wgs84.shp\",\n",
    "              \"joplin_path_wgs84.dbf\",\n",
    "              \"joplin_path_wgs84.prj\",\n",
    "              \"joplin_path_wgs84.shx\"]"
   ]
  },
  {
   "cell_type": "markdown",
   "id": "6bdec1a5",
   "metadata": {},
   "source": [
    "Using both, we create a tornado *scenario*:"
   ]
  },
  {
   "cell_type": "code",
   "execution_count": null,
   "id": "36e87805",
   "metadata": {},
   "outputs": [],
   "source": [
    "# Create a tornado with definition and file\n",
    "dataset_response = hazardsvc.create_tornado_scenario(tornado_dataset_json, file_paths)\n",
    "print(json.dumps(dataset_response, indent=4, sort_keys=False))"
   ]
  },
  {
   "cell_type": "markdown",
   "id": "9798c6f3",
   "metadata": {
    "pycharm": {
     "name": "#%% md\n"
    }
   },
   "source": [
    "Similarly, we obtain the identifier of the output to the request (to ```HazardService```):"
   ]
  },
  {
   "cell_type": "code",
   "execution_count": null,
   "id": "bee8a45d",
   "metadata": {
    "collapsed": false,
    "jupyter": {
     "outputs_hidden": false
    },
    "pycharm": {
     "name": "#%%\n"
    }
   },
   "outputs": [],
   "source": [
    "# Acquire hazard id you created\n",
    "tornado_dataset_id = dataset_response['id']\n",
    "print(tornado_dataset_id)\n",
    "viz.plot_tornado(tornado_dataset_id, client, basemap=True)"
   ]
  },
  {
   "cell_type": "markdown",
   "id": "9f08693b",
   "metadata": {},
   "source": [
    "Finally, we obtain the hazard values as usual."
   ]
  },
  {
   "cell_type": "code",
   "execution_count": null,
   "id": "4d90910a",
   "metadata": {},
   "outputs": [],
   "source": [
    "# Getting hazard value from your dataset-based tornado\n",
    "points = [\n",
    "    {\n",
    "        \"demands\": [\"wind\"],\n",
    "        \"units\": [\"mph\"],\n",
    "        \"loc\": \"37.066, -94.502\"\n",
    "    },\n",
    "    {\n",
    "        \"demands\": [\"wind\"],\n",
    "        \"units\": [\"mph\"],\n",
    "        \"loc\": \"37.032, -94.348\"\n",
    "    }\n",
    "]\n",
    "tornado_dataset_vals = hazardsvc.post_tornado_hazard_values(tornado_dataset_id, points)\n",
    "print(json.dumps(tornado_dataset_vals, indent=4, sort_keys=False))"
   ]
  },
  {
   "cell_type": "markdown",
   "id": "b2692b7a",
   "metadata": {},
   "source": [
    "## 3. Earthquake hazards\n",
    "\n",
    "We will now replicate these steps with a different type of hazards: earthquakes. This implies existing,\n",
    "model-based and database driven hazard scenarios (deterministic and probabilistic)."
   ]
  },
  {
   "cell_type": "markdown",
   "id": "7c22b07b",
   "metadata": {},
   "source": [
    "### 3.1 Working with existing earthquake hazards\n",
    "\n",
    "For this case, we will obtain metadata and hazard values for a 7.9 earthquake in Memphis, TN. Since we already have started\n",
    "the ```IncoreClient``` and ```HazardService objects```, we will not replicate the code here."
   ]
  },
  {
   "cell_type": "code",
   "execution_count": null,
   "id": "1b300fa6",
   "metadata": {
    "scrolled": true
   },
   "outputs": [],
   "source": [
    "# Example tornado in Memphis, TN\n",
    "example_earthquake_id = '5b902cb273c3371e1236b36b'\n",
    "\n",
    "# Obtain and display metadata\n",
    "earthquake_model_metadata = hazardsvc.get_earthquake_hazard_metadata(example_earthquake_id)\n",
    "print(json.dumps(earthquake_model_metadata, indent=4, sort_keys=False))\n",
    "\n",
    "viz.plot_earthquake(example_earthquake_id, client)"
   ]
  },
  {
   "cell_type": "code",
   "execution_count": null,
   "id": "46ea76b7",
   "metadata": {},
   "outputs": [],
   "source": [
    "# Get hazard values\n",
    "points = [\n",
    "    {\n",
    "        \"demands\": [\"0.2 SA\"],\n",
    "        \"units\": [\"g\"],\n",
    "        \"loc\": \"35.07899, -90.0178\"\n",
    "    },\n",
    "    {\n",
    "        \"demands\": [\"0.2 SA\", \"PGA\", \"0.8 SA\"],\n",
    "        \"units\": [\"g\", \"g\", \"g\"],\n",
    "        \"loc\": \"35.027, -90.077\"\n",
    "    }\n",
    "]\n",
    "earthquake_model_vals = hazardsvc.post_earthquake_hazard_values(example_earthquake_id, points)\n",
    "print(json.dumps(earthquake_model_vals, indent=4, sort_keys=False))"
   ]
  },
  {
   "cell_type": "markdown",
   "id": "a763e3bd",
   "metadata": {},
   "source": [
    "### 3.2 Creating model-based earthquakes\n",
    "\n",
    "Similar to the case of tornadoes, it is possible to create new model-based earthquakes through JSON parameters.\n",
    "\n",
    "\n",
    "* *attenuations* - attenuation models capture how enery is lost as seismic waves propagate. At present, IN-CORE supports\n",
    "the following ones:\n",
    "  * AbrahamsonSilvaKamai2014\n",
    "  * AtkinsonBoore1995\n",
    "  * CampbellBozorgnia2014\n",
    "  * ChiouYoungs2014\n",
    "* *earthquake position (lat, lon), depth and magnitude* - a description of the location and geophysical properties of\n",
    "the seismic event\n",
    "* *demand type and demand units* - a description of the quantity of interest and its units.\n",
    "\n",
    "Following known steps for model-based tornados, we request computation of a new Memphis earthquake. In this case,\n",
    "we decrease the depth to 7.0 km and increase the intensity to 8.1."
   ]
  },
  {
   "cell_type": "code",
   "execution_count": null,
   "id": "deaa580e",
   "metadata": {},
   "outputs": [],
   "source": [
    "# Define the new earthquake\n",
    "eq_model_metadata = {\n",
    "  \"name\": \"Memphis EQ Model (modified)\",\n",
    "  \"description\": \"Memphis model based hazard\",\n",
    "  \"eqType\": \"model\",\n",
    "  \"attenuations\" : {\n",
    "    \"AtkinsonBoore1995\" : \"1.0\"\n",
    "  },\n",
    "  \"eqParameters\" : {\n",
    "    \"srcLatitude\" : \"35.927\",\n",
    "    \"srcLongitude\" : \"-89.919\",\n",
    "    \"magnitude\" : \"8.1\",\n",
    "    \"depth\" : \"7.0\"\n",
    "  },\n",
    "  \"visualizationParameters\" : {\n",
    "    \"demandType\" : \"PGA\",\n",
    "    \"demandUnits\" : \"g\",\n",
    "    \"minX\" :\"-90.3099\",\n",
    "    \"minY\" :\"34.9942\",\n",
    "    \"maxX\" : \"-89.6231\",\n",
    "    \"maxY\" : \"35.4129\",\n",
    "    \"numPoints\" : \"1025\",\n",
    "    \"amplifyHazard\": \"true\"\n",
    "  }\n",
    "}\n",
    "\n",
    "eq_model_json = json.dumps(eq_model_metadata, indent=4)\n",
    "\n",
    "# Create an earthquake with definition\n",
    "eq_model_response = hazardsvc.create_earthquake(eq_model_json)\n",
    "\n",
    "print(json.dumps(eq_model_response, indent=4, sort_keys=False))\n",
    "\n",
    "# Acquire hazard id you created\n",
    "eq_model_id = eq_model_response['id']\n",
    "\n",
    "# Plot the earthquake\n",
    "viz.plot_earthquake(eq_model_id, client)"
   ]
  },
  {
   "cell_type": "code",
   "execution_count": null,
   "id": "df1ccc7e",
   "metadata": {},
   "outputs": [],
   "source": [
    "# Getting hazard value from your model based earthquake\n",
    "\n",
    "points = [\n",
    "    {\n",
    "        \"demands\": [\"0.2 SA\"],\n",
    "        \"units\": [\"g\"],\n",
    "        \"loc\": \"35.07899, -90.0178\"\n",
    "    },\n",
    "    {\n",
    "        \"demands\": [\"0.2 SA\"],\n",
    "        \"units\": [\"g\"],\n",
    "        \"loc\": \"35.027, -90.077\"\n",
    "    },\n",
    "]\n",
    "\n",
    "eq_model_vals = hazardsvc.post_earthquake_hazard_values(eq_model_id, points)\n",
    "print(json.dumps(eq_model_vals, indent=4, sort_keys=False))"
   ]
  },
  {
   "cell_type": "markdown",
   "id": "c65e04e9",
   "metadata": {},
   "source": [
    "### 3.3 Creating a dataset-driven earthquake (Probabilistic & Deterministic)\n",
    "\n",
    "Finally, we show how datasets can drive earthquake scenarios. In this case, both deterministic and probabilistic\n",
    "alternatives are available. We concentrate here on a deterministic example.\n",
    "\n",
    "For the example below, the earthquake datasets are provided as TIFF files.\n",
    "\n",
    "As with the corresponding tornado example, specify the dataset(s) to be used:"
   ]
  },
  {
   "cell_type": "code",
   "execution_count": null,
   "id": "88b4b09e",
   "metadata": {},
   "outputs": [],
   "source": [
    "eq_dataset_data = {\n",
    "  \"name\":\"Memphis Deterministic EQ\",\n",
    "  \"description\":\"Memphis dataset based deterministic hazard\",\n",
    "  \"eqType\":\"dataset\",\n",
    "  \"hazardDatasets\":[\n",
    "    {\n",
    "      \"hazardType\":\"deterministic\",\n",
    "      \"demandType\":\"SA\",\n",
    "      \"demandUnits\":\"g\",\n",
    "      \"period\":\"0.2\",\n",
    "      \"eqParameters\":{\n",
    "        \"srcLatitude\":\"35.927\",\n",
    "        \"srcLongitude\":\"-89.919\",\n",
    "        \"magnitude\":\"7.9\",\n",
    "        \"depth\":\"10.0\"\n",
    "      }\n",
    "    },\n",
    "    {\n",
    "      \"hazardType\":\"deterministic\",\n",
    "      \"demandType\":\"PGA\",\n",
    "      \"demandUnits\":\"g\",\n",
    "      \"period\":\"0.0\",\n",
    "      \"eqParameters\":{\n",
    "        \"srcLatitude\":\"35.927\",\n",
    "        \"srcLongitude\":\"-89.919\",\n",
    "        \"magnitude\":\"7.9\",\n",
    "        \"depth\":\"10.0\"\n",
    "      }\n",
    "    }\n",
    "  ]\n",
    "}\n",
    "\n",
    "\n",
    "eq_dataset_json = json.dumps(eq_dataset_data, indent=4)"
   ]
  },
  {
   "cell_type": "markdown",
   "id": "85c423d2",
   "metadata": {},
   "source": [
    "Similarly, specify where dataset files live:"
   ]
  },
  {
   "cell_type": "code",
   "execution_count": null,
   "id": "251b0291",
   "metadata": {},
   "outputs": [],
   "source": [
    "file_paths = [\"eq-dataset-SA.tif\", \"eq-dataset-PGA.tif\"] \n",
    "# order should be same as the hazardDatasets from above json\n",
    "# eq-dataset1.tif represents 0.2 SA & eq-dataset2.tif represents PGA"
   ]
  },
  {
   "cell_type": "markdown",
   "id": "0f908467",
   "metadata": {},
   "source": [
    "And finally, we create the earthquake and obtain hazard values from it:"
   ]
  },
  {
   "cell_type": "code",
   "execution_count": null,
   "id": "5c31bbb0",
   "metadata": {},
   "outputs": [],
   "source": [
    "# Create an dataset-based earthquake with definition and files\n",
    "eq_dataset_response = hazardsvc.create_earthquake(eq_dataset_json, file_paths)\n",
    "print(json.dumps(eq_dataset_response, indent=4, sort_keys=False))\n",
    "\n",
    "# Acquire hazard id from recently created hazard\n",
    "eq_dataset_id = eq_dataset_response['id']\n",
    "viz.plot_earthquake(eq_dataset_id, client, \"0.2 SA\")\n",
    "viz.plot_earthquake(eq_dataset_id, client, \"PGA\")"
   ]
  },
  {
   "cell_type": "code",
   "execution_count": null,
   "id": "c622013c",
   "metadata": {
    "collapsed": false,
    "jupyter": {
     "outputs_hidden": false
    },
    "pycharm": {
     "name": "#%%\n"
    }
   },
   "outputs": [],
   "source": [
    "# Obtain hazard value from your dataset-based earthquakes\n",
    "points = [\n",
    "    {\n",
    "        \"demands\": [\"0.2 SA\"],\n",
    "        \"units\": [\"g\"],\n",
    "        \"loc\": \"35.07899, -90.0178\"\n",
    "    },\n",
    "    {\n",
    "        \"demands\": [\"PGA\"],\n",
    "        \"units\": [\"g\"],\n",
    "        \"loc\": \"35.027, -90.077\"\n",
    "    },\n",
    "]\n",
    "eq_dataset_vals = hazardsvc.post_earthquake_hazard_values(eq_dataset_id, points)\n",
    "print(json.dumps(eq_dataset_vals, indent=4, sort_keys=False))"
   ]
  },
  {
   "cell_type": "markdown",
   "id": "e936fcb1",
   "metadata": {},
   "source": [
    "### Session review\n",
    "\n",
    "With the experience gained in this session, you should now be able to\n",
    "\n",
    "* initialize ```IncoreClient``` and ```HazardService``` objects to authenticate to and access IN-CORE\n",
    "resources,\n",
    "* understand the workflow required to use existing hazard data, create new ones and use external datasets to perform new\n",
    "hazard analyses\n",
    "* apply these concepts to tornades and earthquakes within IN-CORE.\n",
    "\n",
    "### Hands-on Exercise\n",
    "\n",
    "For the next part of this session, please open \"session2-hazard.ipynb\", and try it by yourself."
   ]
  },
  {
   "cell_type": "code",
   "execution_count": null,
   "id": "8e21782a",
   "metadata": {},
   "outputs": [],
   "source": []
  }
 ],
 "metadata": {
  "kernelspec": {
   "display_name": "Python 3 (ipykernel)",
   "language": "python",
   "name": "python3"
  },
  "language_info": {
   "codemirror_mode": {
    "name": "ipython",
    "version": 3
   },
   "file_extension": ".py",
   "mimetype": "text/x-python",
   "name": "python",
   "nbconvert_exporter": "python",
   "pygments_lexer": "ipython3",
   "version": "3.8.12"
  }
 },
 "nbformat": 4,
 "nbformat_minor": 5
}
