{
 "cells": [
  {
   "cell_type": "markdown",
   "metadata": {},
   "source": [
    "# Session 1: Introduction to Jupyter Notebook\n",
    "\n",
    "Perform the following Jupyter notebook operations:\n",
    "* Run notebook\n",
    "* Change a cell and re-run the cell\n",
    "* Add a new line/cell to a notebook\n",
    "* Download the workshop material with code cell\n",
    "* Unzip the downloaded zip file with code cell\n",
    "\n",
    "Please follow the instruction at each cell."
   ]
  },
  {
   "cell_type": "markdown",
   "metadata": {},
   "source": [
    "## 1. Run notebook\n",
    "\n",
    "Please run the code cell below:"
   ]
  },
  {
   "cell_type": "code",
   "execution_count": null,
   "metadata": {},
   "outputs": [],
   "source": [
    "message = \"Hello World\"\n",
    "print(message)"
   ]
  },
  {
   "cell_type": "markdown",
   "metadata": {},
   "source": [
    "## 2. Change cell and re-run the notebook\n",
    "\n",
    "Modify the message of the print statement below to say \"Hello IN-CORE\" and run the current cell. "
   ]
  },
  {
   "cell_type": "code",
   "execution_count": null,
   "metadata": {},
   "outputs": [],
   "source": [
    "message = \"Hello World\"\n",
    "print(message)"
   ]
  },
  {
   "cell_type": "markdown",
   "metadata": {},
   "source": [
    "## 3. Add a new line and execute it\n",
    "\n",
    "Add a new cell below to this notebook. On the new line, modify the **message** variable to print your name."
   ]
  },
  {
   "cell_type": "markdown",
   "metadata": {
    "tags": []
   },
   "source": [
    "## 4. Download a zip file of the workshop material\n",
    "\n",
    "URL: https://www.dropbox.com/s/o5w9nusgs6sqmez/in-core-workshop.zip?dl=0\n",
    "\n",
    "Please run the following code to download a zip file. Please make sure that it appears in your file browser (left panel)"
   ]
  },
  {
   "cell_type": "code",
   "execution_count": null,
   "metadata": {},
   "outputs": [],
   "source": [
    "# import requests module\n",
    "import requests"
   ]
  },
  {
   "cell_type": "code",
   "execution_count": null,
   "metadata": {},
   "outputs": [],
   "source": [
    "# set URL and get file contents\n",
    "url = 'https://go.ncsa.illinois.edu/workshop-zip'\n",
    "filename = 'in-core-workshop.zip'\n",
    "headers = {'user-agent': 'Wget/1.16 (linux-gnu)'}\n",
    "r = requests.get(url, allow_redirects=True, stream=True, headers=headers)"
   ]
  },
  {
   "cell_type": "code",
   "execution_count": null,
   "metadata": {},
   "outputs": [],
   "source": [
    "# write the contents to a file\n",
    "open(filename, 'wb').write(r.content)"
   ]
  },
  {
   "cell_type": "markdown",
   "metadata": {
    "tags": []
   },
   "source": [
    "## 5. Unzip the downloaded zip file\n",
    "\n",
    "Please run the following code to unzip the downloaded zip file. Please make sure that all the workshop materials appear in your file browser (left panel)\n",
    "**NEED TO INSERT the screenshot**"
   ]
  },
  {
   "cell_type": "code",
   "execution_count": null,
   "metadata": {},
   "outputs": [],
   "source": [
    "# import zipfile module\n",
    "import zipfile"
   ]
  },
  {
   "cell_type": "code",
   "execution_count": null,
   "metadata": {},
   "outputs": [],
   "source": [
    "# extract the zipfile\n",
    "with zipfile.ZipFile(filename,'r') as zip_ref:\n",
    "    zip_ref.extractall()"
   ]
  }
 ],
 "metadata": {
  "kernelspec": {
   "display_name": "Python 3",
   "language": "python",
   "name": "python3"
  },
  "language_info": {
   "codemirror_mode": {
    "name": "ipython",
    "version": 3
   },
   "file_extension": ".py",
   "mimetype": "text/x-python",
   "name": "python",
   "nbconvert_exporter": "python",
   "pygments_lexer": "ipython3",
   "version": "3.8.6"
  }
 },
 "nbformat": 4,
 "nbformat_minor": 5
}
