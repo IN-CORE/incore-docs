{
 "cells": [
  {
   "cell_type": "markdown",
   "id": "9ec78edb",
   "metadata": {},
   "source": [
    "# Session 4: Damage Analyses on Lifelines \n",
    "\n",
    "You will learn about damage analyses on Electric Power Facilities, Roadways, Water Facilities and Buried Pipelines in this session."
   ]
  },
  {
   "cell_type": "markdown",
   "id": "a9a64421",
   "metadata": {},
   "source": [
    "## 4.1 Hazard - Tsunami\n",
    "We will use Tsunami hazard for damage analyses on Electric Power Facilities and Roadway. \n",
    "\n",
    "EPF damage analysis supports various hazards including earthquake, tsunami, tornado and hurricane. Roadway damage analysis supports earthquake and tsunami. "
   ]
  },
  {
   "cell_type": "code",
   "execution_count": null,
   "id": "434ef17f",
   "metadata": {},
   "outputs": [],
   "source": [
    "# import modules\n",
    "from pyincore import IncoreClient, DataService, HazardService, FragilityService, Dataset, MappingSet\n",
    "import pandas as pd"
   ]
  },
  {
   "cell_type": "code",
   "execution_count": null,
   "id": "3b591612",
   "metadata": {},
   "outputs": [],
   "source": [
    "from pyincore_viz.geoutil import GeoUtil as geoviz\n",
    "from pyincore_viz.plotutil import PlotUtil as plotviz\n",
    "from pyincore_viz.globals import PACKAGE_VERSION as vizversion"
   ]
  },
  {
   "cell_type": "code",
   "execution_count": null,
   "id": "f4efbdd8",
   "metadata": {},
   "outputs": [],
   "source": [
    "# connect to in-core services \n",
    "client = IncoreClient()\n",
    "print(\"pyIncore-viz version detected: \" + vizversion)\n",
    "\n",
    "data_service = DataService(client)\n",
    "hazard_service = HazardService(client)\n",
    "fragility_service = FragilityService(client)"
   ]
  },
  {
   "cell_type": "markdown",
   "id": "c29fe998",
   "metadata": {},
   "source": [
    "###  Dataset based probabilistic tsunami - 500 yr\n",
    "\n",
    "We will use a probabilistic Tsunami (500 years recurrence interval)."
   ]
  },
  {
   "cell_type": "code",
   "execution_count": null,
   "id": "7b15dc3d",
   "metadata": {},
   "outputs": [],
   "source": [
    "hazard_type = \"tsunami\"\n",
    "hazard_id = \"5df90e07b9219cd00ce971e7\"\n",
    "demand_type = \"Hmax\"\n",
    "tsu_json = HazardService.get_tsunami_hazard_metadata(hazard_service, hazard_id)\n",
    "\n",
    "for tsu_dataset in tsu_json['hazardDatasets']:\n",
    "    if tsu_dataset[\"demandType\"].lower() == demand_type.lower():\n",
    "        geoviz.plot_raster_dataset(tsu_dataset['datasetId'], client)  # Visualize the Tsunami raster"
   ]
  },
  {
   "cell_type": "markdown",
   "id": "debe96f8",
   "metadata": {},
   "source": [
    "## 4.2. Electric power facilities (EPF) damage\n",
    "This analysis computes electric power facility damage based on a particular hazard. In this secion, you will perform Electric Power Facility damage anlayis with a probablistic tsuanmi.\n",
    "\n",
    "The process for computing the structural damage is similar to other parts of the built environment. First, a fragility is obtained based on the hazard type and attributes of the electric power facility. Based on the fragility, the hazard intensity at the location of the electric power facility is computed. Using this information, the probability of exceeding each limit state is computed, along with the probability of damage. For the case of an earthquake hazard, soil information can be used to modify the damage probabilities to include damage due to liquefaction.\n",
    "\n",
    "The outputs of this analysis are CSV file with probabilities of damage and JSON file with information about hazard and fragilities."
   ]
  },
  {
   "cell_type": "markdown",
   "id": "382fde28",
   "metadata": {},
   "source": [
    "### Visualize input EPF dataset with poles and substations"
   ]
  },
  {
   "cell_type": "code",
   "execution_count": null,
   "id": "8aa4e122",
   "metadata": {
    "scrolled": true
   },
   "outputs": [],
   "source": [
    "epf_id = \"5d263f08b9219cf93c056c68\"     # electric power poles and substation\n",
    "epf_dataset = Dataset.from_data_service(epf_id, data_service)\n",
    "\n",
    "epf_df = epf_dataset.get_dataframe_from_shapefile()\n",
    "print(epf_df.head(5))\n",
    "print(epf_df.groupby('utilfcltyc').size())  \n",
    "# EDC2: Electric Distribution Circuits\n",
    "# ESSL2: Electric Sub Station (Low Voltage)\n",
    "\n",
    "geoviz.plot_map(epf_dataset, column=None, category=False)"
   ]
  },
  {
   "cell_type": "markdown",
   "id": "f92d5400",
   "metadata": {},
   "source": [
    "### Configure and run EPF Damage analysis"
   ]
  },
  {
   "cell_type": "code",
   "execution_count": null,
   "id": "7d3939c6",
   "metadata": {},
   "outputs": [],
   "source": [
    "from pyincore.analyses.epfdamage import EpfDamage\n",
    "\n",
    "epf_dmg = EpfDamage(client)"
   ]
  },
  {
   "cell_type": "code",
   "execution_count": null,
   "id": "a6d896b4",
   "metadata": {},
   "outputs": [],
   "source": [
    "epf_dmg.load_remote_input_dataset(\"epfs\", epf_id)\n",
    "epf_dmg.set_parameter(\"hazard_type\", hazard_type)\n",
    "epf_dmg.set_parameter(\"hazard_id\", hazard_id)\n",
    "\n",
    "fragility_service = FragilityService(client)\n",
    "mapping_id = \"5d31eb7fb9219c6d66398445\" # Mapping and the individual fragilities can be viewed on DFR3 Viewer\n",
    "mapping_set = MappingSet(fragility_service.get_mapping(mapping_id))\n",
    "epf_dmg.set_input_dataset('dfr3_mapping_set', mapping_set)\n",
    "epf_dmg.set_parameter('fragility_key', \"Non-Retrofit inundationDepth Fragility ID Code\")\n",
    "\n",
    "epf_dmg.set_parameter(\"num_cpu\", 4)\n",
    "epf_dmg.set_parameter(\"result_name\", \"seaside_tsu_epf_damage\")\n",
    "epf_dmg.run_analysis()  # Run Analysis"
   ]
  },
  {
   "cell_type": "markdown",
   "id": "80d2a601",
   "metadata": {},
   "source": [
    "### Visualize Damage Results - as dataframe"
   ]
  },
  {
   "cell_type": "code",
   "execution_count": null,
   "id": "46b9ec57",
   "metadata": {},
   "outputs": [],
   "source": [
    "# getting results from the analysis\n",
    "epf_result = epf_dmg.get_output_dataset(\"result\")\n",
    "epf_dmg_df = epf_result.get_dataframe_from_csv()\n",
    "\n",
    "# join the output dataset and inventory dataset\n",
    "epf_dmg_gdf = epf_df[['guid', 'utilfcltyc', 'geometry']].merge(epf_dmg_df, on='guid')\n",
    "epf_dmg_gdf.head(len(epf_dmg_gdf))"
   ]
  },
  {
   "cell_type": "markdown",
   "id": "458d2274",
   "metadata": {},
   "source": [
    "### Visualize Damage Results - on map for a single damage state"
   ]
  },
  {
   "cell_type": "code",
   "execution_count": null,
   "id": "4fea74bb",
   "metadata": {
    "scrolled": true
   },
   "outputs": [],
   "source": [
    "# Probability of an EPF to be in damage state 2 (Moderate)\n",
    "geoviz.plot_join_map(epf_dataset, epf_result, column=\"DS_2\")"
   ]
  },
  {
   "cell_type": "markdown",
   "id": "e996b64e",
   "metadata": {},
   "source": [
    "### Show damage states by structure type"
   ]
  },
  {
   "cell_type": "code",
   "execution_count": null,
   "id": "eee10453",
   "metadata": {
    "scrolled": true
   },
   "outputs": [],
   "source": [
    "grouped_epf_dmg = epf_dmg_gdf.groupby(by=['utilfcltyc'], as_index=True)\\\n",
    ".agg({'DS_0': 'mean', 'DS_1':'mean', 'DS_2': 'mean', 'DS_3': 'mean', 'DS_4': 'mean', 'guid': 'count'})\n",
    "grouped_epf_dmg.rename(columns={'guid': 'total_count'}, inplace=True)\n",
    "grouped_epf_dmg.head()"
   ]
  },
  {
   "cell_type": "markdown",
   "id": "729bbdc3",
   "metadata": {},
   "source": [
    "### Plot Damage state by structure type"
   ]
  },
  {
   "cell_type": "code",
   "execution_count": null,
   "id": "32d976f5",
   "metadata": {
    "scrolled": true
   },
   "outputs": [],
   "source": [
    "ax = grouped_epf_dmg[[\"DS_0\", \"DS_1\", \"DS_2\", \"DS_3\", \"DS_4\"]].plot.barh(stacked=True)\n",
    "ax.set_title(\"Stacked Bar Chart of Damage State Grouped by Structure Type\", fontsize=12)\n",
    "ax.set_xlabel(\"complete damage value\", fontsize=12)\n",
    "ax.legend(loc='center left', bbox_to_anchor=(1.0, 0.5))"
   ]
  },
  {
   "cell_type": "markdown",
   "id": "7adca5dd",
   "metadata": {},
   "source": [
    "### Show probability distribution for a particular damage state"
   ]
  },
  {
   "cell_type": "code",
   "execution_count": null,
   "id": "844765f8",
   "metadata": {},
   "outputs": [],
   "source": [
    "ax = epf_dmg_gdf['DS_0'].hist(bins=20, figsize=[10,5])\n",
    "ax.set_title(\"no damage distribution\", fontsize=12)\n",
    "ax.set_xlabel(\"no damage probability\", fontsize=12)\n",
    "ax.set_ylabel(\"count of units\", fontsize=12)"
   ]
  },
  {
   "cell_type": "markdown",
   "id": "5412f19c",
   "metadata": {},
   "source": [
    "## 4.3. Roadway Damage\n",
    "This analysis computes roadway damage based on a particular hazard. In this secion, you will perform Road damage anlayis for a probablistic tsunami.\n",
    "\n",
    "The process for computing is very similar with EPF damage analysis. \n",
    "\n",
    "Same as EPF damage analysis, the outputs of this analysis are CSV file with probabilities of damage and JSON file with information about hazard and fragilities."
   ]
  },
  {
   "cell_type": "markdown",
   "id": "06ff053f",
   "metadata": {},
   "source": [
    "### Visualize input roadway dataset"
   ]
  },
  {
   "cell_type": "code",
   "execution_count": null,
   "id": "b7c21f30",
   "metadata": {},
   "outputs": [],
   "source": [
    "road_dataset_id = \"60e5e5cd544e944c3ce37d08\"     # electric power poles and substation\n",
    "road_dataset = Dataset.from_data_service(road_dataset_id, data_service)\n",
    "\n",
    "road_df = road_dataset.get_dataframe_from_shapefile()\n",
    "print(road_df.head(5))\n",
    "print(road_df.groupby('highway').size())\n",
    "\n",
    "geoviz.plot_map(road_dataset, column=None, category=False)"
   ]
  },
  {
   "cell_type": "markdown",
   "id": "a24994be",
   "metadata": {},
   "source": [
    "### Configure and run Roadway Damage analysis with repair rate"
   ]
  },
  {
   "cell_type": "code",
   "execution_count": null,
   "id": "25d23238",
   "metadata": {},
   "outputs": [],
   "source": [
    "from pyincore.analyses.roaddamage import RoadDamage\n",
    "\n",
    "road_dmg = RoadDamage(client)"
   ]
  },
  {
   "cell_type": "code",
   "execution_count": null,
   "id": "1c9eb668",
   "metadata": {},
   "outputs": [],
   "source": [
    "road_dmg.load_remote_input_dataset(\"roads\", road_dataset_id)\n",
    "road_dmg.set_parameter(\"hazard_type\", hazard_type)\n",
    "road_dmg.set_parameter(\"hazard_id\", hazard_id)\n",
    "\n",
    "fragility_service = FragilityService(client)\n",
    "mapping_id = \"5d274fd8b9219c3c553c71ff\" # Mapping and the individual fragilities can be viewed on DFR3 Viewer\n",
    "mapping_set = MappingSet(fragility_service.get_mapping(mapping_id))\n",
    "road_dmg.set_input_dataset('dfr3_mapping_set', mapping_set)\n",
    "road_dmg.set_parameter('fragility_key', \"Non-Retrofit inundationDepth Fragility ID Code\")\n",
    "\n",
    "road_dmg.set_parameter(\"num_cpu\", 4)\n",
    "road_dmg.set_parameter(\"result_name\", \"seaside_road_damage\")\n",
    "road_dmg.run_analysis()  # Run Analysis"
   ]
  },
  {
   "cell_type": "markdown",
   "id": "854e5676",
   "metadata": {},
   "source": [
    "### Visualize Damage Results - as dataframe"
   ]
  },
  {
   "cell_type": "code",
   "execution_count": null,
   "id": "4f394660",
   "metadata": {},
   "outputs": [],
   "source": [
    "# getting results\n",
    "road_dmg_result = road_dmg.get_output_dataset(\"result\")\n",
    "road_dmg_df = road_dmg_result.get_dataframe_from_csv()\n",
    "\n",
    "# joining output dataset and inventory dataset\n",
    "road_dmg_gdf = road_df[['guid', 'highway', 'geometry']].merge(road_dmg_df, on='guid')\n",
    "road_dmg_gdf.head(len(road_dmg_gdf))"
   ]
  },
  {
   "cell_type": "markdown",
   "id": "181eb3bb",
   "metadata": {},
   "source": [
    "### Visualize Damage Results - on map for a single damage state"
   ]
  },
  {
   "cell_type": "code",
   "execution_count": null,
   "id": "b9fed60a",
   "metadata": {},
   "outputs": [],
   "source": [
    "# Probability of a road to be in damage state 3 (Extensive)\n",
    "geoviz.plot_join_map(road_dataset, road_dmg_result, column=\"DS_3\")"
   ]
  },
  {
   "cell_type": "markdown",
   "id": "3ace7510",
   "metadata": {},
   "source": [
    "## 4.4. Hazard - Earthquake\n",
    "We will use an Earthquake hazard for damage analyses on water facilities and buried pipelines.\n",
    "\n",
    "The inventory datasets are from Memphis testbed.\n"
   ]
  },
  {
   "cell_type": "markdown",
   "id": "7b1e7e63",
   "metadata": {},
   "source": [
    "### Model based earthquake using Atkinson Boore 1995"
   ]
  },
  {
   "cell_type": "code",
   "execution_count": null,
   "id": "0f64f042",
   "metadata": {},
   "outputs": [],
   "source": [
    "hazard_type = \"earthquake\"\n",
    "hazard_id = \"5b902cb273c3371e1236b36b\"\n",
    "demand_type = \"PGA\"\n",
    "eq_json = HazardService.get_earthquake_hazard_metadata(hazard_service, hazard_id)\n",
    "geoviz.plot_earthquake(hazard_id, client)\n",
    "\n",
    "liq_geology_dataset_id =  \"5a284f53c7d30d13bc08249c\"\n",
    "liquefaction = True\n",
    "liq_fragility_key = \"pgd\""
   ]
  },
  {
   "cell_type": "markdown",
   "id": "47ec0f86-94dd-4a91-9625-6bd75d2eac0e",
   "metadata": {},
   "source": [
    "## 4.5 Water Facility Damage Analysis\n",
    "This analysis computes water facility damage based on a particular hazard. In this section, you will perform water facility damage analysis for a probabilistic tsunami.\n",
    "\n",
    "The process for computing is very similar with previous damage analyses. \n",
    "\n",
    "Same as EPF damage analysis, the outputs of this analysis are CSV file with probabilities of damage and JSON file with information about hazard and fragilities."
   ]
  },
  {
   "cell_type": "markdown",
   "id": "92720fff",
   "metadata": {},
   "source": [
    "### Visualize input water facilities dataset"
   ]
  },
  {
   "cell_type": "code",
   "execution_count": null,
   "id": "a31d2c97",
   "metadata": {},
   "outputs": [],
   "source": [
    "wf_dataset_id = \"5a284f2ac7d30d13bc081e52\"     # water facilities of shelby county\n",
    "wf_dataset = Dataset.from_data_service(wf_dataset_id, data_service)\n",
    "\n",
    "wf_df = wf_dataset.get_dataframe_from_shapefile()\n",
    "print(wf_df.head(5))\n",
    "print(wf_df.groupby('utilfcltyc').size())\n",
    "# PPPL: Large Pumping Plant\n",
    "# PSTAS: Above Ground Steel Tank\n",
    "\n",
    "geoviz.plot_map(wf_dataset, column=None, category=False)"
   ]
  },
  {
   "cell_type": "markdown",
   "id": "40f4bbe2",
   "metadata": {},
   "source": [
    "### Configure and run Water Facility Damage analysis"
   ]
  },
  {
   "cell_type": "code",
   "execution_count": null,
   "id": "774e4a53",
   "metadata": {},
   "outputs": [],
   "source": [
    "from pyincore.analyses.waterfacilitydamage import WaterFacilityDamage\n",
    "\n",
    "wf_dmg = WaterFacilityDamage(client)"
   ]
  },
  {
   "cell_type": "code",
   "execution_count": null,
   "id": "4bc2cad4",
   "metadata": {},
   "outputs": [],
   "source": [
    "wf_dmg.load_remote_input_dataset(\"water_facilities\", wf_dataset_id)\n",
    "\n",
    "wf_dmg.set_parameter(\"hazard_type\", hazard_type)\n",
    "wf_dmg.set_parameter(\"hazard_id\", hazard_id)\n",
    "wf_dmg.set_parameter(\"use_liquefaction\", liquefaction)\n",
    "wf_dmg.set_parameter(\"liquefaction_geology_dataset_id\", liq_geology_dataset_id)\n",
    "wf_dmg.set_parameter(\"liquefaction_fragility_key\", liq_fragility_key)\n",
    "\n",
    "mapping_id = \"5b47c383337d4a387669d592\" #Potable Water Facility Fragility Mapping for INA - Includes PGD curves\n",
    "mapping_set = MappingSet(fragility_service.get_mapping(mapping_id))\n",
    "wf_dmg.set_input_dataset(\"dfr3_mapping_set\", mapping_set)\n",
    "wf_dmg.set_parameter(\"fragility_key\", \"pga\")\n",
    "\n",
    "wf_dmg.set_parameter(\"num_cpu\", 4)\n",
    "wf_dmg.set_parameter(\"result_name\", \"shelby_wf_dmg\")\n",
    "wf_dmg.run_analysis()"
   ]
  },
  {
   "cell_type": "markdown",
   "id": "ab9a9ac6",
   "metadata": {},
   "source": [
    "### Visualize Damage Results - as dataframe"
   ]
  },
  {
   "cell_type": "code",
   "execution_count": null,
   "id": "83f0b16b",
   "metadata": {},
   "outputs": [],
   "source": [
    "wf_result = wf_dmg.get_output_dataset(\"result\")\n",
    "wf_dmg_df = wf_result.get_dataframe_from_csv()\n",
    "\n",
    "wf_dmg_gdf = wf_df[['guid', 'utilfcltyc', 'geometry']].merge(wf_dmg_df, on='guid')\n",
    "wf_dmg_gdf.head(len(wf_dmg_gdf))"
   ]
  },
  {
   "cell_type": "markdown",
   "id": "fcbb6db1",
   "metadata": {},
   "source": [
    "### Visualize Damage Results - on map for a single damage state"
   ]
  },
  {
   "cell_type": "code",
   "execution_count": null,
   "id": "af1c492a",
   "metadata": {},
   "outputs": [],
   "source": [
    "# Probability of a water facility to be in damage state 4 (Complete)\n",
    "geoviz.plot_join_map(wf_dataset, wf_result, column=\"DS_4\")"
   ]
  },
  {
   "cell_type": "markdown",
   "id": "72f7d616",
   "metadata": {},
   "source": [
    "## 4.6. Water Pipeline Damage with Repairs\n",
    "This analysis computes buried pipeline damage based on a particular hazard. In this section, you will perform buried pipeline damage analysis for a probabilistic tsunami.\n",
    "\n",
    "The process for computing is very similar with previous damage analyses. \n",
    "\n",
    "Same as EPF damage analysis, the outputs of this analysis are CSV file with probabilities of repair rate and break rate and JSON file with information about hazard and fragilities."
   ]
  },
  {
   "cell_type": "markdown",
   "id": "6a7513f7",
   "metadata": {},
   "source": [
    "### Visualize input water pipeline dataset"
   ]
  },
  {
   "cell_type": "code",
   "execution_count": null,
   "id": "99aee059",
   "metadata": {},
   "outputs": [],
   "source": [
    "wp_dataset_id = \"5a284f28c7d30d13bc081d14\"     # buried water pipelines of shelby county\n",
    "wp_dataset = Dataset.from_data_service(wp_dataset_id, data_service)\n",
    "\n",
    "wp_df = wp_dataset.get_dataframe_from_shapefile()\n",
    "print(wp_df.head(5))\n",
    "\n",
    "geoviz.plot_map(wp_dataset, column=None, category=False)"
   ]
  },
  {
   "cell_type": "markdown",
   "id": "e145fdb1",
   "metadata": {},
   "source": [
    "### Configure and run Pipeline Damage analysis with repair rate"
   ]
  },
  {
   "cell_type": "code",
   "execution_count": null,
   "id": "80624f47",
   "metadata": {},
   "outputs": [],
   "source": [
    "from pyincore.analyses.pipelinedamagerepairrate import PipelineDamageRepairRate, PipelineUtil\n",
    "\n",
    "pipeline_dmg_w_rr = PipelineDamageRepairRate(client)"
   ]
  },
  {
   "cell_type": "code",
   "execution_count": null,
   "id": "4df85bde",
   "metadata": {},
   "outputs": [],
   "source": [
    "pipeline_dmg_w_rr.load_remote_input_dataset(\"pipeline\", wp_dataset_id)\n",
    "\n",
    "pipeline_dmg_w_rr.set_parameter(\"hazard_type\", hazard_type)\n",
    "pipeline_dmg_w_rr.set_parameter(\"hazard_id\", hazard_id)\n",
    "pipeline_dmg_w_rr.set_parameter(\"liquefaction_fragility_key\", liq_fragility_key)\n",
    "pipeline_dmg_w_rr.set_parameter(\"liquefaction_geology_dataset_id\",liq_geology_dataset_id)\n",
    "pipeline_dmg_w_rr.set_parameter(\"use_liquefaction\", liquefaction)\n",
    "\n",
    "mapping_id = \"5b47c227337d4a38464efea8\"\n",
    "mapping_set = MappingSet(fragility_service.get_mapping(mapping_id))\n",
    "pipeline_dmg_w_rr.set_input_dataset(\"dfr3_mapping_set\", mapping_set)\n",
    "\n",
    "pipeline_dmg_w_rr.set_parameter(\"num_cpu\", 4)\n",
    "pipeline_dmg_w_rr.set_parameter(\"result_name\", \"pipeline_dmg_w_rr\")\n",
    "pipeline_dmg_w_rr.run_analysis()"
   ]
  },
  {
   "cell_type": "markdown",
   "id": "10c69d1d",
   "metadata": {},
   "source": [
    "### Visualize Damage Results - as dataframe"
   ]
  },
  {
   "cell_type": "code",
   "execution_count": null,
   "id": "c7ea8d5b",
   "metadata": {},
   "outputs": [],
   "source": [
    "wp_result = pipeline_dmg_w_rr.get_output_dataset(\"result\")\n",
    "wp_dmg_df = wp_result.get_dataframe_from_csv()\n",
    "\n",
    "wp_dmg_gdf = wp_df[['guid', 'pipelinesc', 'geometry']].merge(wp_dmg_df, on='guid')\n",
    "wp_dmg_gdf.head(len(wp_dmg_gdf))"
   ]
  },
  {
   "cell_type": "markdown",
   "id": "cff3a28a",
   "metadata": {},
   "source": [
    "### Visualize Damage Results - on map for repairs/km"
   ]
  },
  {
   "cell_type": "code",
   "execution_count": null,
   "id": "1b613e02",
   "metadata": {},
   "outputs": [],
   "source": [
    "# Repairs/km for water pipelines\n",
    "geoviz.plot_join_map(wp_dataset, wp_result, column=\"repairspkm\")"
   ]
  },
  {
   "cell_type": "markdown",
   "id": "0d4fb4b9",
   "metadata": {},
   "source": [
    "## Useful Links\n",
    "- Getting started with pyincore and pyincore-viz: https://incore.ncsa.illinois.edu/doc/incore/getting_started.html\n",
    "\n",
    "- pyIncore Analyses documentation: https://incore.ncsa.illinois.edu/doc/incore/analyses.html\n",
    "\n",
    "- Example notebooks: https://incore.ncsa.illinois.edu/doc/incore/notebooks.html\n",
    "\n",
    "- Data Viewer to browse datasets: https://incore.ncsa.illinois.edu/DataViewer\n",
    "\n",
    "- Hazard Viewer to browse hazards: https://incore.ncsa.illinois.edu/HazardViewer\n",
    "\n",
    "- DFR3 viewer to browse Fragility, Repair, Restoration curves: https://incore.ncsa.illinois.edu/DFR3Viewer"
   ]
  },
  {
   "cell_type": "code",
   "execution_count": null,
   "id": "44114c79-d873-4d2a-92b4-c8d91c341d2e",
   "metadata": {},
   "outputs": [],
   "source": []
  }
 ],
 "metadata": {
  "kernelspec": {
   "display_name": "Python 3 (ipykernel)",
   "language": "python",
   "name": "python3"
  },
  "language_info": {
   "codemirror_mode": {
    "name": "ipython",
    "version": 3
   },
   "file_extension": ".py",
   "mimetype": "text/x-python",
   "name": "python",
   "nbconvert_exporter": "python",
   "pygments_lexer": "ipython3",
   "version": "3.8.12"
  },
  "toc-autonumbering": false,
  "toc-showtags": false
 },
 "nbformat": 4,
 "nbformat_minor": 5
}
