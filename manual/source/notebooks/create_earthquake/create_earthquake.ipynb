{
 "cells": [
  {
   "cell_type": "markdown",
   "metadata": {},
   "source": [
    "## Create Earthquakes"
   ]
  },
  {
   "cell_type": "code",
   "execution_count": 1,
   "metadata": {},
   "outputs": [],
   "source": [
    "from pyincore import HazardService, IncoreClient\n",
    "import json"
   ]
  },
  {
   "cell_type": "code",
   "execution_count": 2,
   "metadata": {},
   "outputs": [],
   "source": [
    "client = IncoreClient()"
   ]
  },
  {
   "cell_type": "code",
   "execution_count": 3,
   "metadata": {},
   "outputs": [],
   "source": [
    "hazardsvc = HazardService(client)"
   ]
  },
  {
   "cell_type": "markdown",
   "metadata": {},
   "source": [
    "### Create Model Based Earthquake\n",
    "\n",
    "**Input:** Json representing a model based earthquake. <br/>\n",
    "_Attenuation Models supported_: AbrahamsonSilvaKamai2014, AtkinsonBoore1995, CampbellBozorgnia2014, ChiouYoungs2014"
   ]
  },
  {
   "cell_type": "code",
   "execution_count": 4,
   "metadata": {
    "scrolled": true
   },
   "outputs": [
    {
     "name": "stdout",
     "output_type": "stream",
     "text": [
      "{\n",
      "    \"name\": \"Memphis EQ Model\",\n",
      "    \"description\": \"Memphis model based hazard\",\n",
      "    \"eqType\": \"model\",\n",
      "    \"attenuations\": {\n",
      "        \"AtkinsonBoore1995\": \"1.0\"\n",
      "    },\n",
      "    \"eqParameters\": {\n",
      "        \"srcLatitude\": \"35.927\",\n",
      "        \"srcLongitude\": \"-89.919\",\n",
      "        \"magnitude\": \"7.9\",\n",
      "        \"depth\": \"10.0\"\n",
      "    },\n",
      "    \"visualizationParameters\": {\n",
      "        \"demandType\": \"PGA\",\n",
      "        \"demandUnits\": \"g\",\n",
      "        \"minX\": \"-90.3099\",\n",
      "        \"minY\": \"34.9942\",\n",
      "        \"maxX\": \"-89.6231\",\n",
      "        \"maxY\": \"35.4129\",\n",
      "        \"numPoints\": \"1025\",\n",
      "        \"amplifyHazard\": \"true\"\n",
      "    }\n",
      "}\n"
     ]
    }
   ],
   "source": [
    "with open(\"files/eq-model.json\", 'r') as file:\n",
    "    eq_model_json = file.read()\n",
    "    print(json.dumps(json.loads(eq_model_json), indent=4))"
   ]
  },
  {
   "cell_type": "code",
   "execution_count": 5,
   "metadata": {},
   "outputs": [
    {
     "name": "stdout",
     "output_type": "stream",
     "text": [
      "{\n",
      "    \"eqType\": \"model\",\n",
      "    \"id\": \"5f4ff5518e5e451825cd27e1\",\n",
      "    \"name\": \"Memphis EQ Model\",\n",
      "    \"description\": \"Memphis model based hazard\",\n",
      "    \"date\": \"2020-09-02T19:41:04+0000\",\n",
      "    \"creator\": \"vnarah2\",\n",
      "    \"attenuations\": {\n",
      "        \"AtkinsonBoore1995\": 1.0\n",
      "    },\n",
      "    \"eqParameters\": {\n",
      "        \"srcLatitude\": 35.927,\n",
      "        \"srcLongitude\": -89.919,\n",
      "        \"magnitude\": 7.9,\n",
      "        \"coseismicRuptureDepth\": 0.0,\n",
      "        \"dipAngle\": 0.0,\n",
      "        \"azimuthAngle\": 0.0,\n",
      "        \"rakeAngle\": 0.0,\n",
      "        \"seismogenicDepth\": 0.0,\n",
      "        \"depth\": 10.0,\n",
      "        \"depth2p5KmPerSecShearWaveVelocity\": 2.0,\n",
      "        \"shearWaveDepth1p0\": 0.0,\n",
      "        \"faultTypeMap\": {},\n",
      "        \"region\": \"Global\"\n",
      "    },\n",
      "    \"visualizationParameters\": {\n",
      "        \"demandType\": \"PGA\",\n",
      "        \"demandUnits\": \"g\",\n",
      "        \"minX\": -90.3099,\n",
      "        \"minY\": 34.9942,\n",
      "        \"maxX\": -89.6231,\n",
      "        \"maxY\": 35.4129,\n",
      "        \"numPoints\": 1025,\n",
      "        \"amplifyHazard\": true\n",
      "    },\n",
      "    \"defaultSiteClass\": \"D\",\n",
      "    \"siteAmplification\": \"NEHRP\",\n",
      "    \"rasterDataset\": {\n",
      "        \"hazardType\": \"deterministic\",\n",
      "        \"datasetId\": \"5f4ff551a3e20d166e7e876c\",\n",
      "        \"demandType\": \"PGA\",\n",
      "        \"demandUnits\": \"g\",\n",
      "        \"period\": 0.0,\n",
      "        \"eqParameters\": {\n",
      "            \"srcLatitude\": 35.927,\n",
      "            \"srcLongitude\": -89.919,\n",
      "            \"magnitude\": 7.9,\n",
      "            \"coseismicRuptureDepth\": 0.0,\n",
      "            \"dipAngle\": 0.0,\n",
      "            \"azimuthAngle\": 0.0,\n",
      "            \"rakeAngle\": 0.0,\n",
      "            \"seismogenicDepth\": 0.0,\n",
      "            \"depth\": 10.0,\n",
      "            \"depth2p5KmPerSecShearWaveVelocity\": 2.0,\n",
      "            \"shearWaveDepth1p0\": 0.0,\n",
      "            \"faultTypeMap\": {},\n",
      "            \"region\": \"Global\"\n",
      "        }\n",
      "    }\n",
      "}\n"
     ]
    }
   ],
   "source": [
    "model_response = hazardsvc.create_earthquake(eq_model_json)\n",
    "print(json.dumps(model_response, indent=4))"
   ]
  },
  {
   "cell_type": "markdown",
   "metadata": {},
   "source": [
    "### Create Dataset(s) Based Earthquake (Probabilistic/Deterministic)\n",
    "\n",
    "**Inputs:** Json representing a the dataset based earthquake; Each available dataset in tif format <br/>"
   ]
  },
  {
   "cell_type": "code",
   "execution_count": 6,
   "metadata": {},
   "outputs": [
    {
     "name": "stdout",
     "output_type": "stream",
     "text": [
      "{\n",
      "    \"name\": \"Memphis Deterministic EQ\",\n",
      "    \"description\": \"Memphis dataset based deterministic hazard\",\n",
      "    \"eqType\": \"dataset\",\n",
      "    \"hazardDatasets\": [\n",
      "        {\n",
      "            \"hazardType\": \"deterministic\",\n",
      "            \"demandType\": \"SA\",\n",
      "            \"demandUnits\": \"g\",\n",
      "            \"period\": \"0.2\",\n",
      "            \"eqParameters\": {\n",
      "                \"srcLatitude\": \"35.927\",\n",
      "                \"srcLongitude\": \"-89.919\",\n",
      "                \"magnitude\": \"7.9\",\n",
      "                \"depth\": \"10.0\"\n",
      "            }\n",
      "        },\n",
      "        {\n",
      "            \"hazardType\": \"deterministic\",\n",
      "            \"demandType\": \"PGA\",\n",
      "            \"demandUnits\": \"g\",\n",
      "            \"period\": \"0.0\",\n",
      "            \"eqParameters\": {\n",
      "                \"srcLatitude\": \"35.927\",\n",
      "                \"srcLongitude\": \"-89.919\",\n",
      "                \"magnitude\": \"7.9\",\n",
      "                \"depth\": \"10.0\"\n",
      "            }\n",
      "        }\n",
      "    ]\n",
      "}\n"
     ]
    }
   ],
   "source": [
    "with open(\"files/eq-dataset.json\", 'r') as file:\n",
    "    eq_dataset_json = file.read()\n",
    "    print(json.dumps(json.loads(eq_dataset_json), indent=4))"
   ]
  },
  {
   "cell_type": "code",
   "execution_count": 7,
   "metadata": {},
   "outputs": [],
   "source": [
    "file_paths = [\"files/eq-dataset-SA.tif\", \"files/eq-dataset-PGA.tif\"] \n",
    "# order should be same as the hazardDatasets from above json\n",
    "# eq-dataset1.tif represents 0.2 SA & eq-dataset2.tif represents PGA"
   ]
  },
  {
   "cell_type": "code",
   "execution_count": 8,
   "metadata": {},
   "outputs": [
    {
     "name": "stdout",
     "output_type": "stream",
     "text": [
      "{\n",
      "    \"eqType\": \"dataset\",\n",
      "    \"id\": \"5f4ff5578e5e451825cd27e4\",\n",
      "    \"name\": \"Memphis Deterministic EQ\",\n",
      "    \"description\": \"Memphis dataset based deterministic hazard\",\n",
      "    \"date\": \"2020-09-02T19:41:06+0000\",\n",
      "    \"creator\": \"vnarah2\",\n",
      "    \"hazardDatasets\": [\n",
      "        {\n",
      "            \"hazardType\": \"deterministic\",\n",
      "            \"datasetId\": \"5f4ff55243f8a84f43e30bfc\",\n",
      "            \"demandType\": \"SA\",\n",
      "            \"demandUnits\": \"g\",\n",
      "            \"period\": 0.2,\n",
      "            \"eqParameters\": {\n",
      "                \"srcLatitude\": 35.927,\n",
      "                \"srcLongitude\": -89.919,\n",
      "                \"magnitude\": 7.9,\n",
      "                \"coseismicRuptureDepth\": 0.0,\n",
      "                \"dipAngle\": 0.0,\n",
      "                \"azimuthAngle\": 0.0,\n",
      "                \"rakeAngle\": 0.0,\n",
      "                \"seismogenicDepth\": 0.0,\n",
      "                \"depth\": 10.0,\n",
      "                \"depth2p5KmPerSecShearWaveVelocity\": 2.0,\n",
      "                \"shearWaveDepth1p0\": 0.0,\n",
      "                \"faultTypeMap\": {},\n",
      "                \"region\": \"Global\"\n",
      "            }\n",
      "        },\n",
      "        {\n",
      "            \"hazardType\": \"deterministic\",\n",
      "            \"datasetId\": \"5f4ff5527b38705fff493edf\",\n",
      "            \"demandType\": \"PGA\",\n",
      "            \"demandUnits\": \"g\",\n",
      "            \"period\": 0.0,\n",
      "            \"eqParameters\": {\n",
      "                \"srcLatitude\": 35.927,\n",
      "                \"srcLongitude\": -89.919,\n",
      "                \"magnitude\": 7.9,\n",
      "                \"coseismicRuptureDepth\": 0.0,\n",
      "                \"dipAngle\": 0.0,\n",
      "                \"azimuthAngle\": 0.0,\n",
      "                \"rakeAngle\": 0.0,\n",
      "                \"seismogenicDepth\": 0.0,\n",
      "                \"depth\": 10.0,\n",
      "                \"depth2p5KmPerSecShearWaveVelocity\": 2.0,\n",
      "                \"shearWaveDepth1p0\": 0.0,\n",
      "                \"faultTypeMap\": {},\n",
      "                \"region\": \"Global\"\n",
      "            }\n",
      "        }\n",
      "    ]\n",
      "}\n"
     ]
    }
   ],
   "source": [
    "dataset_response = hazardsvc.create_earthquake(eq_dataset_json, file_paths)\n",
    "print(json.dumps(dataset_response, indent=4))"
   ]
  },
  {
   "cell_type": "markdown",
   "metadata": {},
   "source": [
    "### Get Earthquake Values"
   ]
  },
  {
   "cell_type": "code",
   "execution_count": 9,
   "metadata": {},
   "outputs": [
    {
     "name": "stdout",
     "output_type": "stream",
     "text": [
      "[{'period': '0.2', 'demand': 'SA', 'units': 'g', 'hazardValue': 0.5322993805448739}, {'period': '0.2', 'demand': 'SA', 'units': 'g', 'hazardValue': 0.502009539659276}]\n"
     ]
    }
   ],
   "source": [
    "eq_model_id = model_response['id']\n",
    "eq_model_vals = hazardsvc.get_earthquake_hazard_values(eq_model_id, \"0.2 SA\", \"g\", \n",
    "                                                    [\"35.07899, -90.0178\", \"35.027, -90.077\"])\n",
    "print(eq_model_vals)"
   ]
  },
  {
   "cell_type": "code",
   "execution_count": 10,
   "metadata": {},
   "outputs": [
    {
     "name": "stdout",
     "output_type": "stream",
     "text": [
      "[{'period': '0.0', 'demand': 'PGA', 'units': 'g', 'hazardValue': 38.0}, {'period': '0.0', 'demand': 'PGA', 'units': 'g', 'hazardValue': 255.0}]\n"
     ]
    }
   ],
   "source": [
    "eq_dataset_id = dataset_response['id']\n",
    "eq_dataset_vals = hazardsvc.get_earthquake_hazard_values(eq_dataset_id, \"PGA\", \"g\", \n",
    "                                                    [\"42.3677, -89.9087\", \"42.3667, -89.9187\"])\n",
    "print(eq_dataset_vals)"
   ]
  }
 ],
 "metadata": {
  "kernelspec": {
   "display_name": "Python 3",
   "language": "python",
   "name": "python3"
  },
  "language_info": {
   "codemirror_mode": {
    "name": "ipython",
    "version": 3
   },
   "file_extension": ".py",
   "mimetype": "text/x-python",
   "name": "python",
   "nbconvert_exporter": "python",
   "pygments_lexer": "ipython3",
   "version": "3.8.5"
  }
 },
 "nbformat": 4,
 "nbformat_minor": 4
}
