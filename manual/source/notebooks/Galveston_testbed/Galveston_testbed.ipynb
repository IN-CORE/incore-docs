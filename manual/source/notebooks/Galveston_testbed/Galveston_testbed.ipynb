{
 "cells": [
  {
   "cell_type": "markdown",
   "metadata": {
    "id": "Aaw9GZpzGZl9"
   },
   "source": [
    "## Galveston Testbed Notebook"
   ]
  },
  {
   "cell_type": "markdown",
   "metadata": {
    "id": "QtFZ7GP5GZmC"
   },
   "source": [
    "### 1 Background:\n",
    "Galveston Island is a barrier island located southeast of Houston, TX. The region has been repeatedly impacted by coastal storms and flood hazards, and has a population that is racially and ethnically diverse, with a wide income distribution. This testbed was created to provide an opportunity to: \n",
    "\n",
    "a) Investigate the multi-hazard surge, wave, inundation, and wind hazards in coastal settings.\n",
    "\n",
    "b) Consider interdependent infrastructure systems including buildings, transportation, and power.\n",
    "\n",
    "c) Leverage historical social-science data, informing population dislocation and recovery modeling. \n",
    "\n",
    "d) Evaluate hybrid metrics of community resilience, such as those that require coupled modeling between social and physical systems.\n",
    "\n",
    "![Galveston](images/Galveston.png)\n"
   ]
  },
  {
   "cell_type": "markdown",
   "metadata": {
    "id": "BbK3LrIQGZmD"
   },
   "source": [
    "The current notebook is a **WORK-IN-PROGRESS** that consists of the following modules:\n",
    "\n",
    "a)\tFlood Surge, Wave, and Inundation Models \n",
    "\n",
    "b)\tGalveston Building Damage Analysis \n",
    "\n",
    "c)\tGalveston Household Unit Allocation\n",
    "\n",
    "d)\tGalveston Population Dislocation Model based on Hurricane IKE\n",
    "\n",
    "Other modules such as road and bridge damage analysis, power system analysis, and network analysis to investigate the connectivity of building clusters to emergency services and power will be added to the Notebook in the near future, as associated models are deployed in INCORE.\n"
   ]
  },
  {
   "cell_type": "markdown",
   "metadata": {
    "id": "4-lXOMjPGZmD"
   },
   "source": [
    "### 2 Flood Surge, Wave, and Inundation Models:\n",
    "\n",
    "Galveston Island was struck by Hurricane Ike in September, 2008, with maximum windspeeds of 49 m/s (95 kts) and storm surge elevations reaching at least +3.5 m (NAVD88) on Galveston Island. A full hindcast of Hurricane Ike’s water levels, and wave conditions along with 2%, 1%, and 0.2% Annual Exceedance Probabilities (AEP) were created using the dynamically coupled versions of the Advanced Circulation (ADCIRC) and Simulating Waves Nearshore (SWAN) models. The hindcast simulation was performed using a high-resolution unstructured mesh of the Texas coast, with coverage of the entire Gulf of Mexico basin, having more than 3.3 million nodes and 6.6 million mesh elements. The data are available in terms of 100-m rasterized files with the following IDs in INCORE:\n",
    "\n",
    "- Hurricane Ike Hindcast: ID: `5fa5a228b6429615aeea4410`\n",
    "\n",
    "- 2% Annual Exceedance Probability (50-yr return period): ID: `5fa5a83c7e5cdf51ebf1adae`\n",
    "\n",
    "- 1% Annual Exceedance Probability (100-yr return period): ID: `5fa5a9497e5cdf51ebf1add2`\n",
    "\n",
    "- 0.2% Annual Exceedance Probability  (500-yr return period): ID: `5fa5aa19b6429615aeea4476`\n",
    "\n",
    "There is also a hazard scenario generated based on historical data with the following ID: `5f15cd627db08c2ccc4e3bab`\n"
   ]
  },
  {
   "cell_type": "markdown",
   "metadata": {
    "id": "mcgscFEeGZmE"
   },
   "source": [
    "### 3 Galveston Building Damage\n",
    "\n",
    "The following code is preparing the IN-CORE analysis by checking versions and connecting to IN-CORE web service."
   ]
  },
  {
   "cell_type": "code",
   "execution_count": 1,
   "metadata": {
    "id": "lYWzt63kGZmE"
   },
   "outputs": [],
   "source": [
    "import pandas as pd\n",
    "import geopandas as gpd # For reading in shapefiles\n",
    "import numpy as np\n",
    "import sys # For displaying package versions\n",
    "import os # For managing directories and file paths if drive is mounted\n",
    "\n",
    "from pyincore import IncoreClient, Dataset, FragilityService, MappingSet, DataService, FragilityCurveSet, FragilityService\n",
    "from pyincore.analyses.buildingdamage.buildingdamage import BuildingDamage\n",
    "\n",
    "from pyincore_viz.geoutil import GeoUtil as viz\n",
    "from pyincore_viz.plotutil import PlotUtil as plot"
   ]
  },
  {
   "cell_type": "code",
   "execution_count": 2,
   "metadata": {
    "id": "-0DD5oZQGZmE",
    "outputId": "595824fb-2113-4e66-b725-75923d2ce3d4"
   },
   "outputs": [
    {
     "name": "stdout",
     "output_type": "stream",
     "text": [
      "Python Version  3.7.10 | packaged by conda-forge | (default, Feb 19 2021, 15:59:12) \n",
      "[Clang 11.0.1 ]\n",
      "pandas version:  1.2.3\n",
      "numpy version:  1.20.1\n"
     ]
    }
   ],
   "source": [
    "# Check package versions - good practice for replication\n",
    "print(\"Python Version \",sys.version)\n",
    "print(\"pandas version: \", pd.__version__)\n",
    "print(\"numpy version: \", np.__version__)"
   ]
  },
  {
   "cell_type": "code",
   "execution_count": 3,
   "metadata": {
    "id": "iAmQaBxWGZmF",
    "outputId": "f775f207-3437-4401-9df0-1d9178532254"
   },
   "outputs": [
    {
     "data": {
      "text/plain": [
       "'/Users/cwang138/Documents/INCORE-2.0/incore-docs/manual/source/notebooks/Galveston_testbed'"
      ]
     },
     "execution_count": 3,
     "metadata": {},
     "output_type": "execute_result"
    }
   ],
   "source": [
    "# Check working directory - good practice for relative path access\n",
    "os.getcwd()"
   ]
  },
  {
   "cell_type": "code",
   "execution_count": 4,
   "metadata": {
    "id": "mmtS_n2BGZmG",
    "outputId": "1197df95-2cde-4b42-ed6e-c8f02504720e"
   },
   "outputs": [
    {
     "name": "stdout",
     "output_type": "stream",
     "text": [
      "Connection successful to IN-CORE services. pyIncore version detected: 0.9.1\n"
     ]
    }
   ],
   "source": [
    "client = IncoreClient()"
   ]
  },
  {
   "cell_type": "markdown",
   "metadata": {
    "id": "u_GpetTXGZmG"
   },
   "source": [
    "#### 3.1 Building Inventory\n",
    "\n",
    "The building inventory for Galveston consists of 18,962 individual residential households. This inventory is also mappable to housing unit info of 32,501 individual households explained later in this notebook. It should be noted that the reason that the building and household data are different in terms of numbers is that each individual building can be composed of a few households. The building inventory consists of three major parameters that are used to estimate the fragility of buildings explained shortly later in this notebook. The three parameters are: \n",
    "\n",
    "a) Elevation of the lowest horizontal structural member\n",
    "\n",
    "b) Age group of the building (1, 2, 3, and 4 representing age group pre-1974, 1974–1987, 1987–1995, and 1995– 2008, respectively) \n",
    "\n",
    "c) Elevation of the building with respect to the ground\n"
   ]
  },
  {
   "cell_type": "markdown",
   "metadata": {
    "id": "t7Th0brDGZmH"
   },
   "source": [
    "#### 3.2 Building Fragility\n",
    "\n",
    "The fragility model used to estimate failure probability during storm surge events is extracted from:\n",
    "\n",
    ">Tomiczek, T. Kennedy, A, and Rogers, S., 2013. Collapse limit state fragilities of wood-framed residences from storm surge and waves during Hurricane Ike. Journal of Waterway, Port, Coastal, and Ocean Engineering, 140(1), pp.43-55.\n",
    "\n",
    "This empirical fragility model was developed based on Hurricane Ike surveys of almost 2000 individual wood-frame buildings coupled with high resolution hindcast of the hurricane. For this study two states of damage, “Collapse” and “Survival” were considered.\n",
    "________________________________________\n",
    "The input parameters to the fragility model are:\n",
    "\n",
    "1) Surge: surge level (m) coming from hazard data\n",
    "\n",
    "2) Hs: Significant wave height (m) coming from hazard data\n",
    "\n",
    "3) LHSM: Elevation of the lowest horizontal structural member (ft) coming from building inventory\n",
    "\n",
    "4) age_group: Age group of the building (1, 2,3, and 4 representing age group pre-1974, 1974–1987, 1987–1995, and 1995– 2008, respectively) coming from building Inventory\n",
    "\n",
    "5) G_elev: Elevation of the building with respect to the ground (m) coming from building inventory\n",
    "________________________________________\n",
    "Output:\n",
    "Pf: probability of failure\n",
    "________________________________________\n",
    "In order to calculate the probability of failure, first we need to estimate the relative surge height compared to the ground level from:\n",
    "𝑑𝑠=𝑆𝑢𝑟𝑔𝑒−𝐺𝑒𝑙𝑒𝑣ds\n",
    "\n",
    "Subsequently, we need to calculate the following parameter\n",
    "\n",
    "𝐹𝐵ℎ𝑠=−(𝑑𝑠+0.7∗𝐻𝑠−𝐿𝐻𝑆𝑀∗0.3048)\n",
    "Note: 0.3048 is to convert ft to m as the inventory data are in ft.\n",
    "\n",
    "Then:\n",
    "\n",
    "For FB_hs>= -2.79*Hs the probability of failure is calculated as:\n",
    "𝑃𝑓=Φ(−3.56+1.52∗𝐻𝑠−1.73∗𝐻𝑠∗𝐹𝐵ℎ𝑠−0.31∗𝐹𝐵2ℎ𝑠−0.141∗𝑎𝑔𝑒2𝑔𝑟𝑜𝑢𝑝)\n",
    "\n",
    "and for FB_hs< -2.79*Hs\n",
    "𝑃𝑓=Φ(−3.56+1.52∗𝐻𝑠+2.42∗𝐹𝐵2ℎ𝑠−0.141∗𝑎𝑔𝑒2𝑔𝑟𝑜𝑢𝑝)\n",
    "Where Φ denotes the Cumulative Density Function (CDF) of standard normal distribution.\n",
    "________________________________________\n",
    "Example:\n",
    "If Surge=3 m, Hs =2 m, LHSM=9 ft, age_group=4; G_elev =1 m\n",
    "Then Pf= 0.2620\n"
   ]
  },
  {
   "cell_type": "code",
   "execution_count": 5,
   "metadata": {},
   "outputs": [
    {
     "data": {
      "image/png": "[encoded data removed]",
      "text/plain": [
       "<Figure size 432x288 with 1 Axes>"
      ]
     },
     "metadata": {
      "needs_background": "light"
     },
     "output_type": "display_data"
    }
   ],
   "source": [
    "# use utility method of pyicore-viz package to visulaize the fragility\n",
    "fragility_set = FragilityCurveSet(FragilityService(client).get_dfr3_set(\"5f6ccf67de7b566bb71b202d\"))\n",
    "plt = plot.get_fragility_plot_3d_refactored(fragility_set, \n",
    "                                            title=\"Galveston empirical fragility model developed \"\n",
    "                                            \" based on Hurricane Ike surveys\",\n",
    "                                            limit_state=\"LS_0\")\n",
    "plt.show()"
   ]
  },
  {
   "cell_type": "markdown",
   "metadata": {},
   "source": [
    "The following code sets up a buidling damage analysis with input datasets and parameters, then runs the analysis"
   ]
  },
  {
   "cell_type": "code",
   "execution_count": 6,
   "metadata": {
    "id": "sbVcGkOpGZmH"
   },
   "outputs": [],
   "source": [
    "hazard_type = \"hurricane\"\n",
    "# Galveston deterministic Hurricane, 3 datasets - Kriging\n",
    "hazard_id = \"5fa5a228b6429615aeea4410\"\n",
    "# visualization\n",
    "wave_height_id = \"5f15cd62c98cf43417c10a3f\"\n",
    "surge_level_id = \"5f15cd5ec98cf43417c10a3b\"\n",
    "\n",
    "# Galveston, TX Building inventory\n",
    "bldg_inv_id = \"60354b6c123b4036e6837ef7\" # 19k buildings with age_group\n",
    "\n",
    "# Hurricane building mapping (with equation)\n",
    "mapping_id = \"602c381a1d85547cdc9f0675\"\n",
    "fragility_service = FragilityService(client)\n",
    "mapping_set = MappingSet(fragility_service.get_mapping(mapping_id))"
   ]
  },
  {
   "cell_type": "code",
   "execution_count": 7,
   "metadata": {},
   "outputs": [
    {
     "name": "stdout",
     "output_type": "stream",
     "text": [
      "Dataset already exists locally. Reading from local cached zip.\n",
      "Unzipped folder found in the local cache. Reading from it...\n"
     ]
    },
    {
     "data": {
      "application/vnd.jupyter.widget-view+json": {
       "model_id": "8dfe6589c1354deaba5269a8ea9d26cb",
       "version_major": 2,
       "version_minor": 0
      },
      "text/plain": [
       "Map(center=[0.0, 0.0], controls=(ZoomControl(options=['position', 'zoom_in_text', 'zoom_in_title', 'zoom_out_t…"
      ]
     },
     "metadata": {},
     "output_type": "display_data"
    }
   ],
   "source": [
    "# visualize wave height\n",
    "dataset = Dataset.from_data_service(wave_height_id, DataService(client))\n",
    "map = viz.plot_raster_from_path(dataset.get_file_path('tif'))\n",
    "map"
   ]
  },
  {
   "cell_type": "code",
   "execution_count": 8,
   "metadata": {},
   "outputs": [
    {
     "data": {
      "application/vnd.jupyter.widget-view+json": {
       "model_id": "35ce33e43c464135a513a268197b99d3",
       "version_major": 2,
       "version_minor": 0
      },
      "text/plain": [
       "Box(children=(FloatSlider(value=1.0, description='opacity', max=1.0, step=0.01),))"
      ]
     },
     "metadata": {},
     "output_type": "display_data"
    }
   ],
   "source": [
    "# add opacity control - NOTE: It takes time before the opacity takes effect.\n",
    "map.layers[1].interact(opacity=(0.0,1.0,0.01))"
   ]
  },
  {
   "cell_type": "code",
   "execution_count": 9,
   "metadata": {},
   "outputs": [
    {
     "data": {
      "application/vnd.jupyter.widget-view+json": {
       "model_id": "1243e53f51a242fe824f858e51174d6d",
       "version_major": 2,
       "version_minor": 0
      },
      "text/plain": [
       "Map(center=[0.0, 0.0], controls=(ZoomControl(options=['position', 'zoom_in_text', 'zoom_in_title', 'zoom_out_t…"
      ]
     },
     "metadata": {},
     "output_type": "display_data"
    }
   ],
   "source": [
    "# visualize surge level\n",
    "dataset = Dataset.from_data_service(surge_level_id, DataService(client))\n",
    "map = viz.plot_raster_from_path(dataset.get_file_path('tif'))\n",
    "map"
   ]
  },
  {
   "cell_type": "code",
   "execution_count": 10,
   "metadata": {},
   "outputs": [
    {
     "data": {
      "application/vnd.jupyter.widget-view+json": {
       "model_id": "745e104288834e9d9efaf08b1bf41b83",
       "version_major": 2,
       "version_minor": 0
      },
      "text/plain": [
       "Box(children=(FloatSlider(value=1.0, description='opacity', max=1.0, step=0.01),))"
      ]
     },
     "metadata": {},
     "output_type": "display_data"
    }
   ],
   "source": [
    "# add opacity control - NOTE: It takes time before the opacity takes effect.\n",
    "map.layers[1].interact(opacity=(0.0,1.0,0.01))"
   ]
  },
  {
   "cell_type": "code",
   "execution_count": 11,
   "metadata": {
    "id": "gnp7pQfaGZmI",
    "outputId": "45c2ce8c-896e-4bce-ef8c-c378fde8d7c8"
   },
   "outputs": [
    {
     "data": {
      "text/plain": [
       "True"
      ]
     },
     "execution_count": 11,
     "metadata": {},
     "output_type": "execute_result"
    }
   ],
   "source": [
    "bldg_dmg = BuildingDamage(client)\n",
    "\n",
    "bldg_dmg.load_remote_input_dataset(\"buildings\", bldg_inv_id)\n",
    "bldg_dmg.set_input_dataset(\"dfr3_mapping_set\", mapping_set)"
   ]
  },
  {
   "cell_type": "code",
   "execution_count": 12,
   "metadata": {
    "id": "Axq9rTiUGZmI",
    "outputId": "1416bae5-65f9-4177-c628-eb1b893fe796"
   },
   "outputs": [
    {
     "data": {
      "text/plain": [
       "True"
      ]
     },
     "execution_count": 12,
     "metadata": {},
     "output_type": "execute_result"
    }
   ],
   "source": [
    "result_name = \"Galveston_bldg_dmg_result\"\n",
    "\n",
    "bldg_dmg.set_parameter(\"fragility_key\", \"Hurricane SurgeLevel and WaveHeight Fragility ID Code\")\n",
    "bldg_dmg.set_parameter(\"result_name\", result_name)\n",
    "bldg_dmg.set_parameter(\"hazard_type\", hazard_type)\n",
    "bldg_dmg.set_parameter(\"hazard_id\", hazard_id)\n",
    "bldg_dmg.set_parameter(\"num_cpu\", 4)"
   ]
  },
  {
   "cell_type": "code",
   "execution_count": 13,
   "metadata": {
    "id": "aCNsFbSoGZmI"
   },
   "outputs": [
    {
     "data": {
      "text/plain": [
       "True"
      ]
     },
     "execution_count": 13,
     "metadata": {},
     "output_type": "execute_result"
    }
   ],
   "source": [
    "bldg_dmg.run_analysis()"
   ]
  },
  {
   "cell_type": "markdown",
   "metadata": {},
   "source": [
    "#### 3.3 Explore Building Damage Results"
   ]
  },
  {
   "cell_type": "code",
   "execution_count": 14,
   "metadata": {
    "id": "Nwbhz6OBGZmI"
   },
   "outputs": [],
   "source": [
    "# Retrieve result dataset\n",
    "building_dmg_result = bldg_dmg.get_output_dataset('ds_result')"
   ]
  },
  {
   "cell_type": "code",
   "execution_count": 15,
   "metadata": {
    "id": "kLZpKlbpGZmJ"
   },
   "outputs": [
    {
     "data": {
      "text/html": [
       "<div>\n",
       "<style scoped>\n",
       "    .dataframe tbody tr th:only-of-type {\n",
       "        vertical-align: middle;\n",
       "    }\n",
       "\n",
       "    .dataframe tbody tr th {\n",
       "        vertical-align: top;\n",
       "    }\n",
       "\n",
       "    .dataframe thead th {\n",
       "        text-align: right;\n",
       "    }\n",
       "</style>\n",
       "<table border=\"1\" class=\"dataframe\">\n",
       "  <thead>\n",
       "    <tr style=\"text-align: right;\">\n",
       "      <th></th>\n",
       "      <th>guid</th>\n",
       "      <th>LS_0</th>\n",
       "      <th>LS_1</th>\n",
       "      <th>LS_2</th>\n",
       "      <th>DS_0</th>\n",
       "      <th>DS_1</th>\n",
       "      <th>DS_2</th>\n",
       "      <th>DS_3</th>\n",
       "    </tr>\n",
       "  </thead>\n",
       "  <tbody>\n",
       "    <tr>\n",
       "      <th>0</th>\n",
       "      <td>b39dd67f-802e-402b-b7d5-51c4bbed3464</td>\n",
       "      <td>0.000000e+00</td>\n",
       "      <td>0.0</td>\n",
       "      <td>0.0</td>\n",
       "      <td>1.0</td>\n",
       "      <td>0</td>\n",
       "      <td>0</td>\n",
       "      <td>0.000000e+00</td>\n",
       "    </tr>\n",
       "    <tr>\n",
       "      <th>1</th>\n",
       "      <td>e7467617-6844-437e-a938-7300418facb8</td>\n",
       "      <td>8.600000e-08</td>\n",
       "      <td>0.0</td>\n",
       "      <td>0.0</td>\n",
       "      <td>1.0</td>\n",
       "      <td>0</td>\n",
       "      <td>0</td>\n",
       "      <td>8.600000e-08</td>\n",
       "    </tr>\n",
       "    <tr>\n",
       "      <th>2</th>\n",
       "      <td>d7ce12df-660d-42fc-9786-f0f543c00002</td>\n",
       "      <td>2.930000e-08</td>\n",
       "      <td>0.0</td>\n",
       "      <td>0.0</td>\n",
       "      <td>1.0</td>\n",
       "      <td>0</td>\n",
       "      <td>0</td>\n",
       "      <td>2.930000e-08</td>\n",
       "    </tr>\n",
       "    <tr>\n",
       "      <th>3</th>\n",
       "      <td>74aac543-8aae-4779-addf-754e307a772b</td>\n",
       "      <td>0.000000e+00</td>\n",
       "      <td>0.0</td>\n",
       "      <td>0.0</td>\n",
       "      <td>1.0</td>\n",
       "      <td>0</td>\n",
       "      <td>0</td>\n",
       "      <td>0.000000e+00</td>\n",
       "    </tr>\n",
       "    <tr>\n",
       "      <th>4</th>\n",
       "      <td>ed3147d3-b7b8-49da-96a9-ddedfccae60c</td>\n",
       "      <td>4.100000e-09</td>\n",
       "      <td>0.0</td>\n",
       "      <td>0.0</td>\n",
       "      <td>1.0</td>\n",
       "      <td>0</td>\n",
       "      <td>0</td>\n",
       "      <td>4.100000e-09</td>\n",
       "    </tr>\n",
       "  </tbody>\n",
       "</table>\n",
       "</div>"
      ],
      "text/plain": [
       "                                   guid          LS_0  LS_1  LS_2  DS_0  DS_1  \\\n",
       "0  b39dd67f-802e-402b-b7d5-51c4bbed3464  0.000000e+00   0.0   0.0   1.0     0   \n",
       "1  e7467617-6844-437e-a938-7300418facb8  8.600000e-08   0.0   0.0   1.0     0   \n",
       "2  d7ce12df-660d-42fc-9786-f0f543c00002  2.930000e-08   0.0   0.0   1.0     0   \n",
       "3  74aac543-8aae-4779-addf-754e307a772b  0.000000e+00   0.0   0.0   1.0     0   \n",
       "4  ed3147d3-b7b8-49da-96a9-ddedfccae60c  4.100000e-09   0.0   0.0   1.0     0   \n",
       "\n",
       "   DS_2          DS_3  \n",
       "0     0  0.000000e+00  \n",
       "1     0  8.600000e-08  \n",
       "2     0  2.930000e-08  \n",
       "3     0  0.000000e+00  \n",
       "4     0  4.100000e-09  "
      ]
     },
     "execution_count": 15,
     "metadata": {},
     "output_type": "execute_result"
    }
   ],
   "source": [
    "# Convert dataset to Pandas DataFrame\n",
    "bdmg_df = building_dmg_result.get_dataframe_from_csv(low_memory=False)\n",
    "\n",
    "# Display top 5 rows of output data\n",
    "bdmg_df.head()"
   ]
  },
  {
   "cell_type": "code",
   "execution_count": 16,
   "metadata": {},
   "outputs": [
    {
     "data": {
      "text/plain": [
       "count    18962.000000\n",
       "mean         0.882955\n",
       "std          0.309319\n",
       "min          0.000000\n",
       "25%          0.999423\n",
       "50%          1.000000\n",
       "75%          1.000000\n",
       "max          1.000000\n",
       "Name: DS_0, dtype: float64"
      ]
     },
     "execution_count": 16,
     "metadata": {},
     "output_type": "execute_result"
    }
   ],
   "source": [
    "bdmg_df.DS_0.describe()"
   ]
  },
  {
   "cell_type": "code",
   "execution_count": 17,
   "metadata": {},
   "outputs": [
    {
     "data": {
      "text/plain": [
       "count    1.896200e+04\n",
       "mean     1.170453e-01\n",
       "std      3.093192e-01\n",
       "min      0.000000e+00\n",
       "25%      0.000000e+00\n",
       "50%      7.000000e-10\n",
       "75%      5.770249e-04\n",
       "max      1.000000e+00\n",
       "Name: DS_3, dtype: float64"
      ]
     },
     "execution_count": 17,
     "metadata": {},
     "output_type": "execute_result"
    }
   ],
   "source": [
    "bdmg_df.DS_3.describe()"
   ]
  },
  {
   "cell_type": "markdown",
   "metadata": {},
   "source": [
    "Based on hazard and damage analsyis 87% of structures would survive damage and 13% would have collapse from damage."
   ]
  },
  {
   "cell_type": "markdown",
   "metadata": {
    "id": "IBWLPvv_GZmJ"
   },
   "source": [
    "### 4 Galveston Housing Unit Allocation (HUA)\n",
    "\n",
    "Housing Unit Allocation using Galveston, Texas Housing Unit Inventory\n",
    "\n",
    "Here we link high-resolution spatial data on 32501 individual household and housing unit characteristics to residential buildings. Critical for linking socio-economic data within IN-CORE. For evacuation example HUA is required to identify the people that may not evacuate after event.\n",
    "The models come from: \n",
    "\n",
    ">Rosenheim, Nathanael, Roberto Guidotti, Paolo Gardoni & Walter Gillis Peacock. (2019). Integration of detailed household and housing unit characteristic data with critical infrastructure for post-hazard resilience modeling. Sustainable and Resilient Infrastructure. doi.org/10.1080/23789689.2019.1681821\n"
   ]
  },
  {
   "cell_type": "code",
   "execution_count": 18,
   "metadata": {
    "id": "VLsYgJadGZmJ"
   },
   "outputs": [],
   "source": [
    "from pyincore.analyses.housingunitallocation import HousingUnitAllocation"
   ]
  },
  {
   "cell_type": "markdown",
   "metadata": {
    "id": "IZcmB2eXGZmK"
   },
   "source": [
    "#### 4.1 Initial Interdependent Community Description - Galveston, Texas\n",
    "\n",
    "Explore building inventory and social systems. Specifically look at how the building inventory connects with the housing unit inventory using the housing unit allocation.\n",
    "The housing unit allocation method will provide detail demographic characteristics for the community allocated to each structure.\n",
    "\n",
    "To run the HUA Algorithm, three input datasets are required:\n",
    "\n",
    "1. Housing Unit Inventory - Based on 2010 US Census Block Level Data\n",
    "\n",
    "2. Address Point Inventory - A list of all possible residential/business address points in a community. Address points are the link between buildings and housing units.\n",
    "\n",
    "3. Building Inventory - A list of all buildings within a community.\n"
   ]
  },
  {
   "cell_type": "code",
   "execution_count": 19,
   "metadata": {
    "id": "9MZA551GGZmK"
   },
   "outputs": [],
   "source": [
    "# Galveston, TX Housing unit inventory\n",
    "housing_unit_inv = \"5fc6ab1cd2066956f49e7a03\"\n",
    "# Galveston, TX Address point inventory\n",
    "address_point_inv = \"5fc6aadcc38a0722f563392e\"\n",
    "# Galveston, TX Building inventory\n",
    "building_inv = \"60354b6c123b4036e6837ef7\""
   ]
  },
  {
   "cell_type": "markdown",
   "metadata": {
    "id": "L5jWhyppGZmK"
   },
   "source": [
    "#### 4.2 Set Up and Run Housing Unit Allocation"
   ]
  },
  {
   "cell_type": "code",
   "execution_count": 20,
   "metadata": {
    "id": "A5A74mOeGZmK",
    "outputId": "4e6b70fe-9401-41e9-ba7b-241346a317e3"
   },
   "outputs": [
    {
     "name": "stdout",
     "output_type": "stream",
     "text": [
      "Dataset already exists locally. Reading from local cached zip.\n",
      "Unzipped folder found in the local cache. Reading from it...\n"
     ]
    },
    {
     "data": {
      "text/plain": [
       "True"
      ]
     },
     "execution_count": 20,
     "metadata": {},
     "output_type": "execute_result"
    }
   ],
   "source": [
    "# Create housing allocation \n",
    "hua = HousingUnitAllocation(client)\n",
    "\n",
    "# Load input dataset\n",
    "hua.load_remote_input_dataset(\"housing_unit_inventory\", housing_unit_inv)\n",
    "hua.load_remote_input_dataset(\"address_point_inventory\", address_point_inv)\n",
    "hua.load_remote_input_dataset(\"buildings\", building_inv)\n",
    "\n",
    "# Specify the result name\n",
    "result_name = \"Galveston_HUA\"\n",
    "\n",
    "seed = 1238\n",
    "iterations = 1\n",
    "\n",
    "# Set analysis parameters\n",
    "hua.set_parameter(\"result_name\", result_name)\n",
    "hua.set_parameter(\"seed\", seed)\n",
    "hua.set_parameter(\"iterations\", iterations)"
   ]
  },
  {
   "cell_type": "code",
   "execution_count": 21,
   "metadata": {
    "id": "Mt9L04nHGZmK",
    "outputId": "c6fd1dc1-9651-4693-96d3-59dc4ba871ac"
   },
   "outputs": [
    {
     "data": {
      "text/plain": [
       "True"
      ]
     },
     "execution_count": 21,
     "metadata": {},
     "output_type": "execute_result"
    }
   ],
   "source": [
    "# Run Housing unit allocation analysis\n",
    "hua.run_analysis()"
   ]
  },
  {
   "cell_type": "markdown",
   "metadata": {
    "id": "KyDReMJKGZmL"
   },
   "source": [
    "#### 4.3 Explore results from Housing Unit Allocation\n",
    "\n",
    "Keep observations that are matched to a building."
   ]
  },
  {
   "cell_type": "code",
   "execution_count": 22,
   "metadata": {
    "id": "aS9uKWlUGZmL",
    "outputId": "ef5c16da-1150-480c-d460-c230e090c21e"
   },
   "outputs": [
    {
     "data": {
      "text/html": [
       "<div>\n",
       "<style scoped>\n",
       "    .dataframe tbody tr th:only-of-type {\n",
       "        vertical-align: middle;\n",
       "    }\n",
       "\n",
       "    .dataframe tbody tr th {\n",
       "        vertical-align: top;\n",
       "    }\n",
       "\n",
       "    .dataframe thead th {\n",
       "        text-align: right;\n",
       "    }\n",
       "</style>\n",
       "<table border=\"1\" class=\"dataframe\">\n",
       "  <thead>\n",
       "    <tr style=\"text-align: right;\">\n",
       "      <th></th>\n",
       "      <th>guid</th>\n",
       "      <th>numprec</th>\n",
       "      <th>incomegroup</th>\n",
       "    </tr>\n",
       "  </thead>\n",
       "  <tbody>\n",
       "    <tr>\n",
       "      <th>0</th>\n",
       "      <td>eca98323-d57f-4691-a340-b4e0e19c2346</td>\n",
       "      <td>2</td>\n",
       "      <td>15.0</td>\n",
       "    </tr>\n",
       "    <tr>\n",
       "      <th>1</th>\n",
       "      <td>eca98323-d57f-4691-a340-b4e0e19c2346</td>\n",
       "      <td>2</td>\n",
       "      <td>17.0</td>\n",
       "    </tr>\n",
       "    <tr>\n",
       "      <th>2</th>\n",
       "      <td>eca98323-d57f-4691-a340-b4e0e19c2346</td>\n",
       "      <td>1</td>\n",
       "      <td>17.0</td>\n",
       "    </tr>\n",
       "    <tr>\n",
       "      <th>3</th>\n",
       "      <td>eca98323-d57f-4691-a340-b4e0e19c2346</td>\n",
       "      <td>2</td>\n",
       "      <td>17.0</td>\n",
       "    </tr>\n",
       "    <tr>\n",
       "      <th>4</th>\n",
       "      <td>eca98323-d57f-4691-a340-b4e0e19c2346</td>\n",
       "      <td>2</td>\n",
       "      <td>17.0</td>\n",
       "    </tr>\n",
       "  </tbody>\n",
       "</table>\n",
       "</div>"
      ],
      "text/plain": [
       "                                   guid  numprec  incomegroup\n",
       "0  eca98323-d57f-4691-a340-b4e0e19c2346        2         15.0\n",
       "1  eca98323-d57f-4691-a340-b4e0e19c2346        2         17.0\n",
       "2  eca98323-d57f-4691-a340-b4e0e19c2346        1         17.0\n",
       "3  eca98323-d57f-4691-a340-b4e0e19c2346        2         17.0\n",
       "4  eca98323-d57f-4691-a340-b4e0e19c2346        2         17.0"
      ]
     },
     "execution_count": 22,
     "metadata": {},
     "output_type": "execute_result"
    }
   ],
   "source": [
    "# Retrieve result dataset\n",
    "hua_result = hua.get_output_dataset(\"result\")\n",
    "\n",
    "# Convert dataset to Pandas DataFrame\n",
    "hua_df = hua_result.get_dataframe_from_csv(low_memory=False)\n",
    "\n",
    "# Display top 5 rows of output data\n",
    "hua_df[['guid','numprec','incomegroup']].head()"
   ]
  },
  {
   "cell_type": "code",
   "execution_count": 23,
   "metadata": {},
   "outputs": [
    {
     "data": {
      "text/plain": [
       "Index(['addrptid', 'strctid', 'archetype', 'struct_typ', 'year_built',\n",
       "       'no_stories', 'a_stories', 'b_stories', 'bsmt_type', 'sq_foot',\n",
       "       'gsq_foot', 'occ_type', 'occ_detail', 'major_occ', 'broad_occ',\n",
       "       'appr_bldg', 'repl_cst', 'str_cst', 'nstra_cst', 'nstrd_cst', 'dgn_lvl',\n",
       "       'cont_val', 'efacility', 'dwell_unit', 'str_typ2', 'occ_typ2',\n",
       "       'appr_land', 'appr_tot', 'guid', 'ffe_elev', 'age_group', 'lhsm_elev',\n",
       "       'g_elev', 'blockid', 'blockidstr', 'huestimate', 'residential',\n",
       "       'bldgobs', 'yrblt', 'aprbldg', 'x', 'y', 'parid', 'randomap',\n",
       "       'randommergeorder', 'huid', 'tractid', 'bgid', 'FIPScounty', 'serialno',\n",
       "       'livetype', 'numprec', 'gqpop', 'ownershp', 'race', 'hispan',\n",
       "       'hispan_flag', 'vacancy', 'gqtype', 'incomegroup', 'randincome',\n",
       "       'randomhu', 'aphumerge', 'geometry'],\n",
       "      dtype='object')"
      ]
     },
     "execution_count": 23,
     "metadata": {},
     "output_type": "execute_result"
    }
   ],
   "source": [
    "hua_df.columns"
   ]
  },
  {
   "cell_type": "markdown",
   "metadata": {},
   "source": [
    "##### To help explore data create a new variable that combines race and ethnicity."
   ]
  },
  {
   "cell_type": "code",
   "execution_count": 24,
   "metadata": {},
   "outputs": [],
   "source": [
    "def add_race_ethnicity_to_df(df):\n",
    "   \n",
    "    df = df.loc[df['aphumerge'] == 'both']\n",
    "    \n",
    "    df['Race Ethnicity'] = \"0 Vacant HU No Race Ethnicity Data\"\n",
    "    df['Race Ethnicity'].notes = \"Identify Race and Ethnicity Housing Unit Characteristics.\"\n",
    "\n",
    "    df.loc[(df['race'] == 1) & (df['hispan'] == 0),'Race Ethnicity'] = \"1 White alone, Not Hispanic\"\n",
    "    df.loc[(df['race'] == 2) & (df['hispan'] == 0),'Race Ethnicity'] = \"2 Black alone, Not Hispanic\"\n",
    "    df.loc[(df['race'].isin([3,4,5,6,7])) & (df['hispan'] == 0),'Race Ethnicity'] = \"3 Other Race, Not Hispanic\"\n",
    "    df.loc[(df['hispan'] == 1),'Race Ethnicity'] = \"4 Any Race, Hispanic\"\n",
    "    df.loc[(df['gqtype'] >= 1),'Race Ethnicity'] = \"5 Group Quarters no Race Ethnicity Data\"\n",
    "    \n",
    "    return df"
   ]
  },
  {
   "cell_type": "code",
   "execution_count": 25,
   "metadata": {},
   "outputs": [],
   "source": [
    "hua_df = add_race_ethnicity_to_df(hua_df)"
   ]
  },
  {
   "cell_type": "code",
   "execution_count": 26,
   "metadata": {
    "id": "v-_TSmP4GZmM"
   },
   "outputs": [
    {
     "data": {
      "text/html": [
       "<style  type=\"text/css\" >\n",
       "</style><table id=\"T_2a983_\" ><caption>Table 1. Total Population by Race and Ethnicity</caption><thead>    <tr>        <th class=\"blank level0\" ></th>        <th class=\"col_heading level0 col0\" >numprec</th>    </tr>    <tr>        <th class=\"index_name level0\" >Race Ethnicity</th>        <th class=\"blank\" ></th>    </tr></thead><tbody>\n",
       "                <tr>\n",
       "                        <th id=\"T_2a983_level0_row0\" class=\"row_heading level0 row0\" >0 Vacant HU No Race Ethnicity Data</th>\n",
       "                        <td id=\"T_2a983_row0_col0\" class=\"data row0 col0\" >0</td>\n",
       "            </tr>\n",
       "            <tr>\n",
       "                        <th id=\"T_2a983_level0_row1\" class=\"row_heading level0 row1\" >1 White alone, Not Hispanic</th>\n",
       "                        <td id=\"T_2a983_row1_col0\" class=\"data row1 col0\" >21220</td>\n",
       "            </tr>\n",
       "            <tr>\n",
       "                        <th id=\"T_2a983_level0_row2\" class=\"row_heading level0 row2\" >2 Black alone, Not Hispanic</th>\n",
       "                        <td id=\"T_2a983_row2_col0\" class=\"data row2 col0\" >8302</td>\n",
       "            </tr>\n",
       "            <tr>\n",
       "                        <th id=\"T_2a983_level0_row3\" class=\"row_heading level0 row3\" >3 Other Race, Not Hispanic</th>\n",
       "                        <td id=\"T_2a983_row3_col0\" class=\"data row3 col0\" >1698</td>\n",
       "            </tr>\n",
       "            <tr>\n",
       "                        <th id=\"T_2a983_level0_row4\" class=\"row_heading level0 row4\" >4 Any Race, Hispanic</th>\n",
       "                        <td id=\"T_2a983_row4_col0\" class=\"data row4 col0\" >13424</td>\n",
       "            </tr>\n",
       "            <tr>\n",
       "                        <th id=\"T_2a983_level0_row5\" class=\"row_heading level0 row5\" >5 Group Quarters no Race Ethnicity Data</th>\n",
       "                        <td id=\"T_2a983_row5_col0\" class=\"data row5 col0\" >240</td>\n",
       "            </tr>\n",
       "    </tbody></table>"
      ],
      "text/plain": [
       "<pandas.io.formats.style.Styler at 0x7ff9a0a95190>"
      ]
     },
     "execution_count": 26,
     "metadata": {},
     "output_type": "execute_result"
    }
   ],
   "source": [
    "table_title = \"Table 1. Total Population by Race and Ethnicity\"\n",
    "table1 = pd.pivot_table(hua_df, values='numprec', index='Race Ethnicity', aggfunc=np.sum)\n",
    "table1.style.set_caption(table_title)"
   ]
  },
  {
   "cell_type": "markdown",
   "metadata": {
    "id": "iSj2dL-tGZmM"
   },
   "source": [
    "#### 4.4 Validate the Housing Unit Allocation has worked\n",
    "Notice that the population count totals for the community should match (pretty closely) data collected for the 2010 Decennial Census.\n",
    "This can be confirmed by going to data.census.gov\n",
    "\n",
    "https://data.census.gov/cedsci/table?q=DECENNIALPL2010.P5&g=1600000US4828068,4837252&tid=DECENNIALSF12010.P5\n",
    "    \n",
    "Differences in the housing unit allocation and the Census count may be due to differences between political boundaries and the building inventory. See Rosenheim et al 2019 for more details.\n",
    "\n",
    "The housing unit allocation, plus the building dresults will become the input for the dislocation model."
   ]
  },
  {
   "cell_type": "code",
   "execution_count": 27,
   "metadata": {
    "id": "iX1kmzwjGZmM"
   },
   "outputs": [],
   "source": [
    "# Save cleaned HUA file as CSV\n",
    "hua_df.to_csv(result_name + str(seed) + '_cleaned.csv')"
   ]
  },
  {
   "cell_type": "markdown",
   "metadata": {
    "id": "L7qmNZ5_GZmM"
   },
   "source": [
    "### 5 Galveston Population Dislocation\n",
    "Population dislocation refers to households that will be forced to leave their pre-event residence due to hazard related damages. Population dislocation is a function of structure value loss due to damage, neighborhood characteristics and structure type."
   ]
  },
  {
   "cell_type": "markdown",
   "metadata": {
    "id": "QhfjknlhGZmN"
   },
   "source": [
    "#### 5.1 Set Up and Run Population Dislocation "
   ]
  },
  {
   "cell_type": "code",
   "execution_count": 28,
   "metadata": {
    "id": "x1dlsN9EGZmN"
   },
   "outputs": [],
   "source": [
    "from pyincore.analyses.populationdislocation import PopulationDislocation"
   ]
  },
  {
   "cell_type": "code",
   "execution_count": 29,
   "metadata": {
    "id": "OTBZiln8GZmN"
   },
   "outputs": [],
   "source": [
    "# Galveston, TX Block group data, IN-CORE_BGMAP_2021-01-19_GalvestonTX\n",
    "bg_data = \"603545f2dcda03378087e708\"\n",
    "# Value loss parameters DS 0-3\n",
    "value_loss = \"60354810e379f22e16560dbd\""
   ]
  },
  {
   "cell_type": "code",
   "execution_count": 30,
   "metadata": {
    "id": "LsvuMI83GZmN"
   },
   "outputs": [],
   "source": [
    "pop_dis = PopulationDislocation(client)"
   ]
  },
  {
   "cell_type": "code",
   "execution_count": 31,
   "metadata": {
    "id": "GLzFdITbGZmN",
    "outputId": "a786314d-685b-46b9-9ed6-f7e7c8d9fa80"
   },
   "outputs": [
    {
     "name": "stdout",
     "output_type": "stream",
     "text": [
      "Dataset already exists locally. Reading from local cached zip.\n",
      "Unzipped folder found in the local cache. Reading from it...\n"
     ]
    },
    {
     "data": {
      "text/plain": [
       "True"
      ]
     },
     "execution_count": 31,
     "metadata": {},
     "output_type": "execute_result"
    }
   ],
   "source": [
    "pop_dis.load_remote_input_dataset(\"block_group_data\", bg_data)\n",
    "pop_dis.load_remote_input_dataset(\"value_poss_param\", value_loss)\n",
    "\n",
    "pop_dis.set_input_dataset(\"building_dmg\", building_dmg_result)\n",
    "pop_dis.set_input_dataset(\"housing_unit_allocation\", hua_result)"
   ]
  },
  {
   "cell_type": "code",
   "execution_count": 32,
   "metadata": {
    "id": "tu0ICtxPGZmO"
   },
   "outputs": [],
   "source": [
    "result_name = \"galveston-pop-disl-results\"\n",
    "seed = 1111"
   ]
  },
  {
   "cell_type": "code",
   "execution_count": 33,
   "metadata": {
    "id": "HNDo3O1ZGZmO",
    "outputId": "394bacfd-a142-4e28-c81d-6879dceda473"
   },
   "outputs": [
    {
     "data": {
      "text/plain": [
       "True"
      ]
     },
     "execution_count": 33,
     "metadata": {},
     "output_type": "execute_result"
    }
   ],
   "source": [
    "pop_dis.set_parameter(\"result_name\", result_name)\n",
    "pop_dis.set_parameter(\"seed\", seed)"
   ]
  },
  {
   "cell_type": "code",
   "execution_count": 34,
   "metadata": {
    "id": "Gexl-sytGZmO"
   },
   "outputs": [
    {
     "data": {
      "text/plain": [
       "True"
      ]
     },
     "execution_count": 34,
     "metadata": {},
     "output_type": "execute_result"
    }
   ],
   "source": [
    "pop_dis.run_analysis()"
   ]
  },
  {
   "cell_type": "markdown",
   "metadata": {
    "id": "8vpmiHZ3GZmO"
   },
   "source": [
    "#### 5.2 Explore Population Dislocation Results"
   ]
  },
  {
   "cell_type": "code",
   "execution_count": 35,
   "metadata": {
    "id": "-Gec2mtDGZmO"
   },
   "outputs": [
    {
     "data": {
      "text/html": [
       "<div>\n",
       "<style scoped>\n",
       "    .dataframe tbody tr th:only-of-type {\n",
       "        vertical-align: middle;\n",
       "    }\n",
       "\n",
       "    .dataframe tbody tr th {\n",
       "        vertical-align: top;\n",
       "    }\n",
       "\n",
       "    .dataframe thead th {\n",
       "        text-align: right;\n",
       "    }\n",
       "</style>\n",
       "<table border=\"1\" class=\"dataframe\">\n",
       "  <thead>\n",
       "    <tr style=\"text-align: right;\">\n",
       "      <th></th>\n",
       "      <th>guid</th>\n",
       "      <th>DS_0</th>\n",
       "      <th>DS_1</th>\n",
       "      <th>DS_2</th>\n",
       "      <th>DS_3</th>\n",
       "      <th>addrptid</th>\n",
       "      <th>strctid</th>\n",
       "      <th>archetype</th>\n",
       "      <th>struct_typ</th>\n",
       "      <th>year_built</th>\n",
       "      <th>...</th>\n",
       "      <th>Survey</th>\n",
       "      <th>pblackbg</th>\n",
       "      <th>phispbg</th>\n",
       "      <th>d_sf</th>\n",
       "      <th>rploss_0</th>\n",
       "      <th>rploss_1</th>\n",
       "      <th>rploss_2</th>\n",
       "      <th>rploss_3</th>\n",
       "      <th>prdis</th>\n",
       "      <th>dislocated</th>\n",
       "    </tr>\n",
       "  </thead>\n",
       "  <tbody>\n",
       "    <tr>\n",
       "      <th>0</th>\n",
       "      <td>eca98323-d57f-4691-a340-b4e0e19c2346</td>\n",
       "      <td>0.0</td>\n",
       "      <td>0</td>\n",
       "      <td>0</td>\n",
       "      <td>1.0</td>\n",
       "      <td>XREF0628-0065-0000-000AP014</td>\n",
       "      <td>XREF0628-0065-0000-000</td>\n",
       "      <td>NaN</td>\n",
       "      <td>W1</td>\n",
       "      <td>NaN</td>\n",
       "      <td>...</td>\n",
       "      <td>2010 dec/sf1</td>\n",
       "      <td>2.081362</td>\n",
       "      <td>13.528855</td>\n",
       "      <td>1</td>\n",
       "      <td>0.002914</td>\n",
       "      <td>0.100425</td>\n",
       "      <td>0.524702</td>\n",
       "      <td>0.889881</td>\n",
       "      <td>0.746481</td>\n",
       "      <td>True</td>\n",
       "    </tr>\n",
       "    <tr>\n",
       "      <th>1</th>\n",
       "      <td>eca98323-d57f-4691-a340-b4e0e19c2346</td>\n",
       "      <td>0.0</td>\n",
       "      <td>0</td>\n",
       "      <td>0</td>\n",
       "      <td>1.0</td>\n",
       "      <td>XREF0628-0065-0000-000AP012</td>\n",
       "      <td>XREF0628-0065-0000-000</td>\n",
       "      <td>NaN</td>\n",
       "      <td>W1</td>\n",
       "      <td>NaN</td>\n",
       "      <td>...</td>\n",
       "      <td>2010 dec/sf1</td>\n",
       "      <td>2.081362</td>\n",
       "      <td>13.528855</td>\n",
       "      <td>1</td>\n",
       "      <td>0.006930</td>\n",
       "      <td>0.132025</td>\n",
       "      <td>0.677548</td>\n",
       "      <td>0.951019</td>\n",
       "      <td>0.774091</td>\n",
       "      <td>False</td>\n",
       "    </tr>\n",
       "    <tr>\n",
       "      <th>2</th>\n",
       "      <td>eca98323-d57f-4691-a340-b4e0e19c2346</td>\n",
       "      <td>0.0</td>\n",
       "      <td>0</td>\n",
       "      <td>0</td>\n",
       "      <td>1.0</td>\n",
       "      <td>XREF0628-0065-0000-000AP004</td>\n",
       "      <td>XREF0628-0065-0000-000</td>\n",
       "      <td>NaN</td>\n",
       "      <td>W1</td>\n",
       "      <td>NaN</td>\n",
       "      <td>...</td>\n",
       "      <td>2010 dec/sf1</td>\n",
       "      <td>2.081362</td>\n",
       "      <td>13.528855</td>\n",
       "      <td>1</td>\n",
       "      <td>0.005776</td>\n",
       "      <td>0.100000</td>\n",
       "      <td>0.654935</td>\n",
       "      <td>0.941974</td>\n",
       "      <td>0.770144</td>\n",
       "      <td>True</td>\n",
       "    </tr>\n",
       "    <tr>\n",
       "      <th>3</th>\n",
       "      <td>eca98323-d57f-4691-a340-b4e0e19c2346</td>\n",
       "      <td>0.0</td>\n",
       "      <td>0</td>\n",
       "      <td>0</td>\n",
       "      <td>1.0</td>\n",
       "      <td>XREF0628-0065-0000-000AP005</td>\n",
       "      <td>XREF0628-0065-0000-000</td>\n",
       "      <td>NaN</td>\n",
       "      <td>W1</td>\n",
       "      <td>NaN</td>\n",
       "      <td>...</td>\n",
       "      <td>2010 dec/sf1</td>\n",
       "      <td>2.081362</td>\n",
       "      <td>13.528855</td>\n",
       "      <td>1</td>\n",
       "      <td>0.002404</td>\n",
       "      <td>0.105851</td>\n",
       "      <td>0.436479</td>\n",
       "      <td>0.854591</td>\n",
       "      <td>0.729565</td>\n",
       "      <td>True</td>\n",
       "    </tr>\n",
       "    <tr>\n",
       "      <th>4</th>\n",
       "      <td>eca98323-d57f-4691-a340-b4e0e19c2346</td>\n",
       "      <td>0.0</td>\n",
       "      <td>0</td>\n",
       "      <td>0</td>\n",
       "      <td>1.0</td>\n",
       "      <td>XREF0628-0065-0000-000AP010</td>\n",
       "      <td>XREF0628-0065-0000-000</td>\n",
       "      <td>NaN</td>\n",
       "      <td>W1</td>\n",
       "      <td>NaN</td>\n",
       "      <td>...</td>\n",
       "      <td>2010 dec/sf1</td>\n",
       "      <td>2.081362</td>\n",
       "      <td>13.528855</td>\n",
       "      <td>1</td>\n",
       "      <td>0.003029</td>\n",
       "      <td>0.133077</td>\n",
       "      <td>0.438777</td>\n",
       "      <td>0.855511</td>\n",
       "      <td>0.730014</td>\n",
       "      <td>True</td>\n",
       "    </tr>\n",
       "  </tbody>\n",
       "</table>\n",
       "<p>5 rows × 79 columns</p>\n",
       "</div>"
      ],
      "text/plain": [
       "                                   guid  DS_0  DS_1  DS_2  DS_3  \\\n",
       "0  eca98323-d57f-4691-a340-b4e0e19c2346   0.0     0     0   1.0   \n",
       "1  eca98323-d57f-4691-a340-b4e0e19c2346   0.0     0     0   1.0   \n",
       "2  eca98323-d57f-4691-a340-b4e0e19c2346   0.0     0     0   1.0   \n",
       "3  eca98323-d57f-4691-a340-b4e0e19c2346   0.0     0     0   1.0   \n",
       "4  eca98323-d57f-4691-a340-b4e0e19c2346   0.0     0     0   1.0   \n",
       "\n",
       "                      addrptid                 strctid  archetype struct_typ  \\\n",
       "0  XREF0628-0065-0000-000AP014  XREF0628-0065-0000-000        NaN         W1   \n",
       "1  XREF0628-0065-0000-000AP012  XREF0628-0065-0000-000        NaN         W1   \n",
       "2  XREF0628-0065-0000-000AP004  XREF0628-0065-0000-000        NaN         W1   \n",
       "3  XREF0628-0065-0000-000AP005  XREF0628-0065-0000-000        NaN         W1   \n",
       "4  XREF0628-0065-0000-000AP010  XREF0628-0065-0000-000        NaN         W1   \n",
       "\n",
       "   year_built  ...        Survey  pblackbg    phispbg  d_sf  rploss_0  \\\n",
       "0         NaN  ...  2010 dec/sf1  2.081362  13.528855     1  0.002914   \n",
       "1         NaN  ...  2010 dec/sf1  2.081362  13.528855     1  0.006930   \n",
       "2         NaN  ...  2010 dec/sf1  2.081362  13.528855     1  0.005776   \n",
       "3         NaN  ...  2010 dec/sf1  2.081362  13.528855     1  0.002404   \n",
       "4         NaN  ...  2010 dec/sf1  2.081362  13.528855     1  0.003029   \n",
       "\n",
       "   rploss_1  rploss_2  rploss_3     prdis  dislocated  \n",
       "0  0.100425  0.524702  0.889881  0.746481        True  \n",
       "1  0.132025  0.677548  0.951019  0.774091       False  \n",
       "2  0.100000  0.654935  0.941974  0.770144        True  \n",
       "3  0.105851  0.436479  0.854591  0.729565        True  \n",
       "4  0.133077  0.438777  0.855511  0.730014        True  \n",
       "\n",
       "[5 rows x 79 columns]"
      ]
     },
     "execution_count": 35,
     "metadata": {},
     "output_type": "execute_result"
    }
   ],
   "source": [
    "# Retrieve result dataset\n",
    "result = pop_dis.get_output_dataset(\"result\")\n",
    "\n",
    "# Convert dataset to Pandas DataFrame\n",
    "pd_df = result.get_dataframe_from_csv(low_memory=False)\n",
    "\n",
    "# Display top 5 rows of output data\n",
    "pd_df.head()"
   ]
  },
  {
   "cell_type": "code",
   "execution_count": 36,
   "metadata": {},
   "outputs": [],
   "source": [
    "# To help explore data create a new variable that combines race and ethnicity.\n",
    "pd_df = add_race_ethnicity_to_df(pd_df)\n",
    "\n",
    "# Save cleaned Pop Dislocation file as CSV\n",
    "pd_df.to_csv(result_name + str(seed) + '_cleaned.csv')"
   ]
  },
  {
   "cell_type": "code",
   "execution_count": 37,
   "metadata": {},
   "outputs": [],
   "source": [
    "popdisresultstables = pd.pivot_table(pd_df, values='numprec', index=['Race Ethnicity'],\n",
    "                                     margins = True, margins_name = 'Total',\n",
    "                                     columns=['dislocated'], aggfunc=[np.sum]).rename(\n",
    "    columns={'sum': 'Total Population',\n",
    "             False: 'Does not dislocate',\n",
    "             True: 'Dislocates'})\n",
    "# add percent dislocated to table\n",
    "numerator = popdisresultstables[('Total Population','Dislocates')]\n",
    "denomenator = popdisresultstables[('Total Population','Total')]\n",
    "popdisresultstables[('Total Population','Percent Dislocation')] = numerator/denomenator * 100"
   ]
  },
  {
   "cell_type": "code",
   "execution_count": 38,
   "metadata": {},
   "outputs": [
    {
     "data": {
      "text/html": [
       "<style  type=\"text/css\" >\n",
       "</style><table id=\"T_cc1fe_\" ><caption>Table 1. Population Dislocation for Galveston</caption><thead>    <tr>        <th class=\"blank level0\" ></th>        <th class=\"col_heading level0 col0\" colspan=\"4\">Total Population</th>    </tr>    <tr>        <th class=\"index_name level1\" >dislocated</th>        <th class=\"col_heading level1 col0\" >Does not dislocate</th>        <th class=\"col_heading level1 col1\" >Dislocates</th>        <th class=\"col_heading level1 col2\" >Total</th>        <th class=\"col_heading level1 col3\" >Percent Dislocation</th>    </tr>    <tr>        <th class=\"index_name level0\" >Race Ethnicity</th>        <th class=\"blank\" ></th>        <th class=\"blank\" ></th>        <th class=\"blank\" ></th>        <th class=\"blank\" ></th>    </tr></thead><tbody>\n",
       "                <tr>\n",
       "                        <th id=\"T_cc1fe_level0_row0\" class=\"row_heading level0 row0\" >0 Vacant HU No Race Ethnicity Data</th>\n",
       "                        <td id=\"T_cc1fe_row0_col0\" class=\"data row0 col0\" >0</td>\n",
       "                        <td id=\"T_cc1fe_row0_col1\" class=\"data row0 col1\" >0</td>\n",
       "                        <td id=\"T_cc1fe_row0_col2\" class=\"data row0 col2\" >0</td>\n",
       "                        <td id=\"T_cc1fe_row0_col3\" class=\"data row0 col3\" >nan</td>\n",
       "            </tr>\n",
       "            <tr>\n",
       "                        <th id=\"T_cc1fe_level0_row1\" class=\"row_heading level0 row1\" >1 White alone, Not Hispanic</th>\n",
       "                        <td id=\"T_cc1fe_row1_col0\" class=\"data row1 col0\" >15810</td>\n",
       "                        <td id=\"T_cc1fe_row1_col1\" class=\"data row1 col1\" >5410</td>\n",
       "                        <td id=\"T_cc1fe_row1_col2\" class=\"data row1 col2\" >21220</td>\n",
       "                        <td id=\"T_cc1fe_row1_col3\" class=\"data row1 col3\" >25.494816</td>\n",
       "            </tr>\n",
       "            <tr>\n",
       "                        <th id=\"T_cc1fe_level0_row2\" class=\"row_heading level0 row2\" >2 Black alone, Not Hispanic</th>\n",
       "                        <td id=\"T_cc1fe_row2_col0\" class=\"data row2 col0\" >6794</td>\n",
       "                        <td id=\"T_cc1fe_row2_col1\" class=\"data row2 col1\" >1508</td>\n",
       "                        <td id=\"T_cc1fe_row2_col2\" class=\"data row2 col2\" >8302</td>\n",
       "                        <td id=\"T_cc1fe_row2_col3\" class=\"data row2 col3\" >18.164298</td>\n",
       "            </tr>\n",
       "            <tr>\n",
       "                        <th id=\"T_cc1fe_level0_row3\" class=\"row_heading level0 row3\" >3 Other Race, Not Hispanic</th>\n",
       "                        <td id=\"T_cc1fe_row3_col0\" class=\"data row3 col0\" >1208</td>\n",
       "                        <td id=\"T_cc1fe_row3_col1\" class=\"data row3 col1\" >490</td>\n",
       "                        <td id=\"T_cc1fe_row3_col2\" class=\"data row3 col2\" >1698</td>\n",
       "                        <td id=\"T_cc1fe_row3_col3\" class=\"data row3 col3\" >28.857479</td>\n",
       "            </tr>\n",
       "            <tr>\n",
       "                        <th id=\"T_cc1fe_level0_row4\" class=\"row_heading level0 row4\" >4 Any Race, Hispanic</th>\n",
       "                        <td id=\"T_cc1fe_row4_col0\" class=\"data row4 col0\" >10545</td>\n",
       "                        <td id=\"T_cc1fe_row4_col1\" class=\"data row4 col1\" >2879</td>\n",
       "                        <td id=\"T_cc1fe_row4_col2\" class=\"data row4 col2\" >13424</td>\n",
       "                        <td id=\"T_cc1fe_row4_col3\" class=\"data row4 col3\" >21.446663</td>\n",
       "            </tr>\n",
       "            <tr>\n",
       "                        <th id=\"T_cc1fe_level0_row5\" class=\"row_heading level0 row5\" >5 Group Quarters no Race Ethnicity Data</th>\n",
       "                        <td id=\"T_cc1fe_row5_col0\" class=\"data row5 col0\" >166</td>\n",
       "                        <td id=\"T_cc1fe_row5_col1\" class=\"data row5 col1\" >74</td>\n",
       "                        <td id=\"T_cc1fe_row5_col2\" class=\"data row5 col2\" >240</td>\n",
       "                        <td id=\"T_cc1fe_row5_col3\" class=\"data row5 col3\" >30.833333</td>\n",
       "            </tr>\n",
       "            <tr>\n",
       "                        <th id=\"T_cc1fe_level0_row6\" class=\"row_heading level0 row6\" >Total</th>\n",
       "                        <td id=\"T_cc1fe_row6_col0\" class=\"data row6 col0\" >34523</td>\n",
       "                        <td id=\"T_cc1fe_row6_col1\" class=\"data row6 col1\" >10361</td>\n",
       "                        <td id=\"T_cc1fe_row6_col2\" class=\"data row6 col2\" >44884</td>\n",
       "                        <td id=\"T_cc1fe_row6_col3\" class=\"data row6 col3\" >23.083950</td>\n",
       "            </tr>\n",
       "    </tbody></table>"
      ],
      "text/plain": [
       "<pandas.io.formats.style.Styler at 0x7ff9c1d25c10>"
      ]
     },
     "execution_count": 38,
     "metadata": {},
     "output_type": "execute_result"
    }
   ],
   "source": [
    "table_title = \"Table 1. Population Dislocation for Galveston\"\n",
    "popdisresultstables.style.set_caption(table_title)"
   ]
  },
  {
   "cell_type": "code",
   "execution_count": null,
   "metadata": {},
   "outputs": [],
   "source": []
  }
 ],
 "metadata": {
  "colab": {
   "name": "Galveston_chained_v2.ipynb",
   "provenance": []
  },
  "kernelspec": {
   "display_name": "Python 3",
   "language": "python",
   "name": "python3"
  },
  "language_info": {
   "codemirror_mode": {
    "name": "ipython",
    "version": 3
   },
   "file_extension": ".py",
   "mimetype": "text/x-python",
   "name": "python",
   "nbconvert_exporter": "python",
   "pygments_lexer": "ipython3",
   "version": "3.7.10"
  }
 },
 "nbformat": 4,
 "nbformat_minor": 4
}
