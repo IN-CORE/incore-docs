{
 "cells": [
  {
   "cell_type": "markdown",
   "metadata": {
    "pycharm": {
     "name": "#%% md\n"
    }
   },
   "source": [
    "## Create  DFR3 and Mapping Objects"
   ]
  },
  {
   "cell_type": "markdown",
   "metadata": {},
   "source": [
    "Analyses use DFR3 mapping sets from IN-CORE service to associate each element of a given set with one or more elements of a second set of DFR3 curves. In IN-CORE and pyIncore specifically, a building inventory (given set) is mapped to a (second) set of fragility curves.\n",
    "\n",
    "This tutorial shows examples of how to create **DFR3** and **mapping** objects for fragility, restoration and repair curves as well as how to use them in **pyIncore**.\n",
    "\n",
    "A user can upload a DFR3 or mapping set to the DFR3 services or use it locally. This tutorial covers both options. \n",
    "\n",
    "![alt text](images/lookup_fragility_id.png)\n",
    "\n",
    "Please note that in this notebook we use term *function* in programming context as a class function and *curve* as a function in mathematical context (lognormal curve)."
   ]
  },
  {
   "cell_type": "code",
   "execution_count": 1,
   "metadata": {
    "pycharm": {
     "name": "#%%\n"
    }
   },
   "outputs": [],
   "source": [
    "from pyincore import FragilityService, IncoreClient\n",
    "from pyincore import Mapping, MappingSet, FragilityCurveSet, StandardFragilityCurve\n",
    "from pyincore import ConditionalStandardFragilityCurve, PeriodStandardFragilityCurve"
   ]
  },
  {
   "cell_type": "code",
   "execution_count": 2,
   "metadata": {},
   "outputs": [
    {
     "name": "stdout",
     "output_type": "stream",
     "text": [
      "Connection successful to IN-CORE services. pyIncore version detected: 0.9.0\n"
     ]
    }
   ],
   "source": [
    "# IN-CORE client\n",
    "client = IncoreClient()\n",
    "\n",
    "# Initiate fragility service\n",
    "fragility_services = FragilityService(client)"
   ]
  },
  {
   "cell_type": "markdown",
   "metadata": {},
   "source": [
    "### Fragility set object"
   ]
  },
  {
   "cell_type": "markdown",
   "metadata": {},
   "source": [
    "In this section we are going to explore the creation of **fragility** sets and curves used by the **pyIncore** library in hazard analyses. We provide examples of getting the curves into your project as well as basic use of pyIncore's functions to print and visualize various attributes and variables.\n",
    "\n",
    "Below is an example of a fragility set with three curves and metadata defined as JSON object with key/value pairs."
   ]
  },
  {
   "cell_type": "code",
   "execution_count": 3,
   "metadata": {},
   "outputs": [
    {
     "data": {
      "text/plain": [
       "{'id': '603d8bfa9fc6b67985dda676',\n",
       " 'description': 'Test Tsunami fragility when < 5000 ft^2',\n",
       " 'authors': ['Federal Emergency Management Agency (FEMA)'],\n",
       " 'paperReference': None,\n",
       " 'resultUnit': None,\n",
       " 'resultType': 'Limit State',\n",
       " 'hazardType': 'tsunami',\n",
       " 'inventoryType': 'building',\n",
       " 'creator': 'cwang138',\n",
       " 'spaces': ['cwang138'],\n",
       " 'demandTypes': ['momentumFlux'],\n",
       " 'demandUnits': ['ft^3/s^2'],\n",
       " 'fragilityCurves': [{'className': 'StandardFragilityCurve',\n",
       "   'description': 'Immediate Occupancy',\n",
       "   'alpha': 1.0,\n",
       "   'beta': 0.74,\n",
       "   'alphaType': 'median',\n",
       "   'curveType': 'LogNormal'},\n",
       "  {'className': 'StandardFragilityCurve',\n",
       "   'description': 'Life Safety',\n",
       "   'alpha': 2.0,\n",
       "   'beta': 0.74,\n",
       "   'alphaType': 'median',\n",
       "   'curveType': 'LogNormal'},\n",
       "  {'className': 'StandardFragilityCurve',\n",
       "   'description': 'Collapse Prevention',\n",
       "   'alpha': 3.1,\n",
       "   'beta': 0.77,\n",
       "   'alphaType': 'lambda',\n",
       "   'curveType': 'LogNormal'}],\n",
       " 'fragilityCurveParameters': None}"
      ]
     },
     "execution_count": 3,
     "metadata": {},
     "output_type": "execute_result"
    }
   ],
   "source": [
    "fragility_data = {       \n",
    "    \"description\": \"Test Tsunami fragility when < 5000 ft^2\",\n",
    "    \"authors\": [\n",
    "        \"Federal Emergency Management Agency (FEMA)\"\n",
    "    ],      \n",
    "    \"resultType\": \"Limit State\",\n",
    "    \"demandTypes\": [\"momentumFlux\"],\n",
    "    \"demandUnits\": [\"ft^3/s^2\"],\n",
    "    \"hazardType\": \"tsunami\",\n",
    "    \"inventoryType\": \"building\",\n",
    "    \"fragilityCurves\": [\n",
    "        {\n",
    "            \"className\": \"StandardFragilityCurve\",\n",
    "            \"description\": \"Immediate Occupancy\",\n",
    "            \"alpha\": 1.0,\n",
    "            \"beta\": 0.74,\n",
    "            \"alphaType\": \"median\",\n",
    "            \"curveType\": \"LogNormal\"\n",
    "        },\n",
    "        {\n",
    "            \"className\": \"StandardFragilityCurve\",\n",
    "            \"description\": \"Life Safety\",\n",
    "            \"alpha\": 2.0,\n",
    "            \"beta\": 0.74,\n",
    "            \"alphaType\": \"median\",\n",
    "            \"curveType\": \"LogNormal\"\n",
    "        },\n",
    "        {\n",
    "            \"className\": \"StandardFragilityCurve\",\n",
    "            \"description\": \"Collapse Prevention\",\n",
    "            \"alpha\": 3.1,\n",
    "            \"beta\": 0.77,\n",
    "            \"alphaType\": \"lambda\",\n",
    "            \"curveType\": \"LogNormal\"\n",
    "        }\n",
    "    ]       \n",
    "}\n",
    "\n",
    "created_fragility = fragility_services.create_dfr3_set(fragility_data)\n",
    "created_fragility"
   ]
  },
  {
   "cell_type": "markdown",
   "metadata": {},
   "source": [
    "#### 1. Using IDs from IN-CORE DFR3 services"
   ]
  },
  {
   "cell_type": "markdown",
   "metadata": {},
   "source": [
    "In the first example we use IN-CORE's DFR3 service to get fragility curves and to set a local DFR3 object. We need an ID number of a set in the service. A user can look up the fragility IDs in the DFR3 viewer."
   ]
  },
  {
   "cell_type": "code",
   "execution_count": 4,
   "metadata": {},
   "outputs": [
    {
     "data": {
      "text/plain": [
       "<pyincore.models.fragilitycurveset.FragilityCurveSet at 0x1038ce1c0>"
      ]
     },
     "execution_count": 4,
     "metadata": {},
     "output_type": "execute_result"
    }
   ],
   "source": [
    "# Set fragility set id from the service\n",
    "fragility_set_id = \"5b47b2d7337d4a36187c61ce\"\n",
    "\n",
    "# Get local fragility curve set\n",
    "fragility_curve_set = FragilityCurveSet(fragility_services.get_dfr3_set(fragility_set_id))\n",
    "\n",
    "fragility_curve_set"
   ]
  },
  {
   "cell_type": "markdown",
   "metadata": {},
   "source": [
    "#### 2. Writing JSON definition"
   ]
  },
  {
   "cell_type": "markdown",
   "metadata": {},
   "source": [
    "In the second example we define a fragility set as a text string with JSON type key/value pairs \n",
    "which will then be converted to a JSON object. **Note** It is necessary to use the specified types of quotes \n",
    "to create the string."
   ]
  },
  {
   "cell_type": "code",
   "execution_count": 5,
   "metadata": {},
   "outputs": [
    {
     "data": {
      "text/plain": [
       "<pyincore.models.fragilitycurveset.FragilityCurveSet at 0x15e6bd3d0>"
      ]
     },
     "execution_count": 5,
     "metadata": {},
     "output_type": "execute_result"
    }
   ],
   "source": [
    "fragility_set_json_str = '''{\n",
    "    \"id\": \"5b47b2d7337d4a36187c61ce\",\n",
    "    \"legacyId\": \"SF_S1_206\",\n",
    "    \"description\": \"Mid-Rise Steel Moment Frame\",\n",
    "    \"authors\": [\n",
    "        \"Elnashai and Jeong\"\n",
    "    ],\n",
    "    \"paperReference\": null,\n",
    "    \"resultUnit\": null,\n",
    "    \"resultType\": \"Limit State\",\n",
    "    \"hazardType\": \"earthquake\",\n",
    "    \"inventoryType\": \"building\",\n",
    "    \"creator\": \"incore\",\n",
    "    \"demandTypes\": [\"PGA\"],\n",
    "    \"demandUnits\": [\"g\"],\n",
    "    \"fragilityCurves\": [\n",
    "        {\n",
    "            \"className\": \"PeriodStandardFragilityCurve\",\n",
    "            \"description\": \"Moderate\",\n",
    "            \"alpha\": -0.571,\n",
    "            \"beta\": 0.665,\n",
    "            \"alphaType\": \"lambda\",\n",
    "            \"curveType\": \"LogNormal\",\n",
    "            \"periodParam2\": 0,\n",
    "            \"periodParam1\": 0,\n",
    "            \"periodParam0\": 1.08,\n",
    "            \"periodEqnType\": 1\n",
    "        },\n",
    "        {\n",
    "            \"className\": \"PeriodStandardFragilityCurve\",\n",
    "            \"description\": \"Extensive\",\n",
    "            \"alpha\": 0.352,\n",
    "            \"beta\": 0.675,\n",
    "            \"alphaType\": \"lambda\",\n",
    "            \"curveType\": \"LogNormal\",\n",
    "            \"periodParam2\": 0,\n",
    "            \"periodParam1\": 0,\n",
    "            \"periodParam0\": 1.08,\n",
    "            \"periodEqnType\": 1\n",
    "        },\n",
    "        {\n",
    "            \"className\": \"PeriodStandardFragilityCurve\",\n",
    "            \"description\": \"Complete\",\n",
    "            \"alpha\": 1.341,\n",
    "            \"beta\": 0.746,\n",
    "            \"alphaType\": \"lambda\",\n",
    "            \"curveType\": \"LogNormal\",\n",
    "            \"periodParam2\": 0,\n",
    "            \"periodParam1\": 0,\n",
    "            \"periodParam0\": 1.08,\n",
    "            \"periodEqnType\": 1\n",
    "        }\n",
    "    ]\n",
    "}\n",
    "'''\n",
    "fragility_curve_set = FragilityCurveSet.from_json_str(fragility_set_json_str)\n",
    "fragility_curve_set"
   ]
  },
  {
   "cell_type": "markdown",
   "metadata": {},
   "source": [
    "#### 3. Constructing a fragility set from individual curves"
   ]
  },
  {
   "cell_type": "markdown",
   "metadata": {},
   "source": [
    "In the third example we define the fragility curves as JSON objects first and then combine them into a set. We define the proper set metadata as well."
   ]
  },
  {
   "cell_type": "code",
   "execution_count": 6,
   "metadata": {},
   "outputs": [],
   "source": [
    "# create a period standard fragility curve set with three limit state\n",
    "fragility_curve_moderate = PeriodStandardFragilityCurve({\n",
    "    \"description\": \"Moderate\",\n",
    "    \"alpha\": -0.571,\n",
    "    \"beta\": 0.665,\n",
    "    \"alphaType\":\"lambda\",\n",
    "    \"curveType\":\"LogNormal\",\n",
    "    \"periodParam2\":0,\n",
    "    \"periodParam1\":0,\n",
    "    \"periodParam0\":1.08,\n",
    "    \"periodEqnType\":1\n",
    "})\n",
    "\n",
    "fragility_curve_extensive = PeriodStandardFragilityCurve({\n",
    "    \"description\": \"Extensive\",\n",
    "    \"alpha\": 0.352,\n",
    "    \"beta\": 0.675,\n",
    "    \"alphaType\":\"lambda\",\n",
    "    \"curveType\":\"LogNormal\",\n",
    "    \"periodParam2\":0,\n",
    "    \"periodParam1\":0,\n",
    "    \"periodParam0\":1.08,\n",
    "    \"periodEqnType\":1\n",
    "})\n",
    "\n",
    "fragility_curve_complete = PeriodStandardFragilityCurve({\n",
    "    \"description\": \"Complete\",\n",
    "    \"alpha\": 1.341,\n",
    "    \"beta\": 0.746,\n",
    "    \"alphaType\":\"lambda\",\n",
    "    \"curveType\":\"LogNormal\",\n",
    "    \"periodParam2\":0,\n",
    "    \"periodParam1\":0,\n",
    "    \"periodParam0\":1.08,\n",
    "    \"periodEqnType\":1\n",
    "})"
   ]
  },
  {
   "cell_type": "code",
   "execution_count": 7,
   "metadata": {},
   "outputs": [
    {
     "data": {
      "text/plain": [
       "<pyincore.models.fragilitycurveset.FragilityCurveSet at 0x15e737ee0>"
      ]
     },
     "execution_count": 7,
     "metadata": {},
     "output_type": "execute_result"
    }
   ],
   "source": [
    "# place three curves into a set with extra metadata\n",
    "metadata = {\n",
    "    \"id\":\"local_fragility_curve_set\",\n",
    "    \"description\": \"Mid-Rise Steel Moment Frame\",\n",
    "    \"demandTypes\": [\"PGA\"],\n",
    "    \"demandUnits\": [\"g\"],\n",
    "    \"resultType\":\"Limit State\",\n",
    "    \"hazardType\":\"earthquake\",\n",
    "    \"inventoryType\":\"building\",\n",
    "    \"fragilityCurves\":[\n",
    "        fragility_curve_moderate,\n",
    "        fragility_curve_extensive,\n",
    "        fragility_curve_complete,\n",
    "    ]\n",
    "}\n",
    "\n",
    "# construct the fragility curve object to use\n",
    "fragility_curve_set = FragilityCurveSet(metadata)\n",
    "fragility_curve_set"
   ]
  },
  {
   "cell_type": "markdown",
   "metadata": {},
   "source": [
    "#### 4. Loading a fragility set from a JSON file"
   ]
  },
  {
   "cell_type": "markdown",
   "metadata": {},
   "source": [
    "In the last example we load the fragility curves from a JSON file. This is similar to Example 2 because the file content is read as a text string."
   ]
  },
  {
   "cell_type": "code",
   "execution_count": 8,
   "metadata": {},
   "outputs": [],
   "source": [
    "fragility_curve_set2 = FragilityCurveSet.from_json_file(\"files/periodStandardFragilityCurve.json\")"
   ]
  },
  {
   "cell_type": "markdown",
   "metadata": {},
   "source": [
    "### Examples of fragility set and curve use"
   ]
  },
  {
   "cell_type": "markdown",
   "metadata": {},
   "source": [
    "#### Damage probability calculation"
   ]
  },
  {
   "cell_type": "markdown",
   "metadata": {},
   "source": [
    "We use the previously defined fragility set to calculate a limit state. We will use the fragility set object from Example 3 in **Creation of a fragility curve set object** section."
   ]
  },
  {
   "cell_type": "code",
   "execution_count": 9,
   "metadata": {},
   "outputs": [
    {
     "data": {
      "text/plain": [
       "OrderedDict([('LS_0', 0.999990362886121),\n",
       "             ('LS_1', 0.9978721323375376),\n",
       "             ('LS_2', 0.8992978633268922)])"
      ]
     },
     "execution_count": 9,
     "metadata": {},
     "output_type": "execute_result"
    }
   ],
   "source": [
    "probabilities = fragility_curve_set.calculate_limit_state_w_conversion(hazard=10, period=1, std_dev=0.1)\n",
    "probabilities"
   ]
  },
  {
   "cell_type": "markdown",
   "metadata": {},
   "source": [
    "#### Curve visualization"
   ]
  },
  {
   "cell_type": "markdown",
   "metadata": {},
   "source": [
    "To calculate and visualize the three curve objects from the fragility set we use numerical scientific libraries and a visualization library. The parameters are passed to the lognormal curve defined in scipy library."
   ]
  },
  {
   "cell_type": "code",
   "execution_count": 10,
   "metadata": {},
   "outputs": [
    {
     "data": {
      "text/plain": [
       "[<matplotlib.lines.Line2D at 0x15e7b0670>]"
      ]
     },
     "execution_count": 10,
     "metadata": {},
     "output_type": "execute_result"
    },
    {
     "data": {
      "image/png": "[encoded data removed]",
      "text/plain": [
       "<Figure size 432x288 with 1 Axes>"
      ]
     },
     "metadata": {
      "needs_background": "light"
     },
     "output_type": "display_data"
    }
   ],
   "source": [
    "from scipy.stats import lognorm\n",
    "import pylab as pl\n",
    "import numpy as np\n",
    "\n",
    "mean_moderate = fragility_curve_moderate.alpha\n",
    "stddev_moderate = fragility_curve_moderate.beta\n",
    "dist_moderate = lognorm(s=stddev_moderate, scale=np.exp(mean_moderate))\n",
    "x=np.linspace(0,5,200)\n",
    "pl.plot(x,dist_moderate.cdf(x))\n",
    "\n",
    "mean_extensive = fragility_curve_extensive.alpha\n",
    "stddev_extensive = fragility_curve_extensive.beta\n",
    "dist_extensive = lognorm(s=stddev_extensive, scale=np.exp(mean_extensive))\n",
    "x=np.linspace(0,5,200)\n",
    "pl.plot(x,dist_extensive.cdf(x))\n",
    "\n",
    "mean_complete = fragility_curve_complete.alpha\n",
    "stddev_complete = fragility_curve_complete.beta\n",
    "dist_complete = lognorm(s=stddev_complete, scale=np.exp(mean_complete))\n",
    "x=np.linspace(0,5,200)\n",
    "pl.plot(x,dist_complete.cdf(x))"
   ]
  },
  {
   "cell_type": "markdown",
   "metadata": {},
   "source": [
    "#### Various help and computation functions on each individual curve"
   ]
  },
  {
   "cell_type": "markdown",
   "metadata": {},
   "source": [
    "In this example we define a fragility curve using a JSON object and then use different functions to print hazard, \n",
    "infrastructure and ground phenomenon variables; a building period, a limit state probability and liquefaction. "
   ]
  },
  {
   "cell_type": "code",
   "execution_count": 11,
   "metadata": {},
   "outputs": [
    {
     "name": "stdout",
     "output_type": "stream",
     "text": [
      "building period is : 1.08 \n",
      "\n",
      "limit state probability is : 0.9983763310617616 \n",
      "\n",
      "(alpha, beta) before liquefaction adjust: -0.571 0.665\n",
      "(alpha, beta) after liquefaction adjust: -0.48534999999999995 0.665\n"
     ]
    }
   ],
   "source": [
    "# exmample of a single period standard fragility curve\n",
    "fragility_curve_moderate = PeriodStandardFragilityCurve({\n",
    "    \"description\": \"Moderate\",\n",
    "    \"alpha\": -0.571,\n",
    "    \"beta\": 0.665,\n",
    "    \"alphaType\":\"lambda\",\n",
    "    \"curveType\":\"LogNormal\",\n",
    "    \"periodParam2\":0,\n",
    "    \"periodParam1\":0,\n",
    "    \"periodParam0\":1.08,\n",
    "    \"periodEqnType\":1\n",
    "})\n",
    "\n",
    "# get building period from the fragility curve\n",
    "building_period = fragility_curve_moderate.get_building_period(num_stories = 10)\n",
    "print(\"building period is :\", building_period, \"\\n\" )\n",
    "\n",
    "# get limit state probability\n",
    "probability = fragility_curve_moderate.calculate_limit_state_probability(hazard = 4)\n",
    "print(\"limit state probability is :\" , probability, \"\\n\")\n",
    "\n",
    "# adjust this curve for liquefaction\n",
    "print(\"(alpha, beta) before liquefaction adjust:\", fragility_curve_moderate.alpha, fragility_curve_moderate.beta)\n",
    "fragility_curve_moderate.adjust_fragility_for_liquefaction(liquefaction = \"U\")\n",
    "print(\"(alpha, beta) after liquefaction adjust:\", fragility_curve_moderate.alpha, fragility_curve_moderate.beta)"
   ]
  },
  {
   "cell_type": "markdown",
   "metadata": {},
   "source": [
    "### DFR3 Mapping Set"
   ]
  },
  {
   "cell_type": "markdown",
   "metadata": {},
   "source": [
    "In this section we are going to explore creation of **mapping** rules used by the **pyIncore** library in hazard analyses. We again provide three examples of getting the mappings into your project as well as basic use of DFR3 mappings in pyIncore.\n",
    "\n",
    "Below is an example of a mapping set with three rules and metadata defined as a JSON object with key/value pairs. Fragility curves are defined by ID codes and structural types define units of infrastructure."
   ]
  },
  {
   "cell_type": "code",
   "execution_count": 12,
   "metadata": {},
   "outputs": [
    {
     "data": {
      "text/plain": [
       "{'id': '603d8bfa9fc6b67985dda6e5',\n",
       " 'name': 'pytest - Tsunami Building Fragility Mapping',\n",
       " 'hazardType': 'tsunami',\n",
       " 'inventoryType': 'building',\n",
       " 'mappings': [{'legacyEntry': {},\n",
       "   'entry': {'Non-Retrofit Inundation Fragility ID Code': '5bbbaedfec2309046c2745c8',\n",
       "    'Non-Retrofit MomentumFlux Fragility ID Code': '5bbbae19ec2309046c2745c6'},\n",
       "   'rules': [['java.lang.String struct_typ EQUALS W1']]},\n",
       "  {'legacyEntry': {},\n",
       "   'entry': {'Non-Retrofit Inundation Fragility ID Code': '5bbbaf58ec2309046c2745c9',\n",
       "    'Non-Retrofit MomentumFlux Fragility ID Code': '5bbbae5eec2309046c2745c7'},\n",
       "   'rules': [['java.lang.String struct_typ EQUALS W2']]},\n",
       "  {'legacyEntry': {},\n",
       "   'entry': {'Non-Retrofit Inundation Fragility ID Code': '5bbbafcdec2309046c2745ca',\n",
       "    'Non-Retrofit MomentumFlux Fragility ID Code': '5bbbba6bec2309046c2745d8'},\n",
       "   'rules': [['java.lang.String struct_typ EQUALS RC']]}],\n",
       " 'creator': 'cwang138',\n",
       " 'spaces': ['cwang138'],\n",
       " 'mappingType': 'fragility'}"
      ]
     },
     "execution_count": 12,
     "metadata": {},
     "output_type": "execute_result"
    }
   ],
   "source": [
    "mapping_data = {\n",
    "  \"name\": \"pytest - Tsunami Building Fragility Mapping\",\n",
    "  \"hazardType\": \"tsunami\",\n",
    "  \"inventoryType\": \"building\",\n",
    "  \"mappingType\": \"fragility\",\n",
    "  \"mappings\": [\n",
    "      {\n",
    "          \"entry\": {\n",
    "              \"Non-Retrofit Inundation Fragility ID Code\": \"5bbbaedfec2309046c2745c8\",\n",
    "              \"Non-Retrofit MomentumFlux Fragility ID Code\": \"5bbbae19ec2309046c2745c6\"\n",
    "          },\n",
    "          \"rules\": [\n",
    "              [\n",
    "                 \"java.lang.String struct_typ EQUALS W1\"\n",
    "              ]\n",
    "          ]\n",
    "      },\n",
    "      {\n",
    "          \"entry\": {\n",
    "              \"Non-Retrofit Inundation Fragility ID Code\": \"5bbbaf58ec2309046c2745c9\",\n",
    "              \"Non-Retrofit MomentumFlux Fragility ID Code\": \"5bbbae5eec2309046c2745c7\"\n",
    "          },\n",
    "          \"rules\": [\n",
    "              [\n",
    "                  \"java.lang.String struct_typ EQUALS W2\"\n",
    "              ]\n",
    "          ]\n",
    "      },\n",
    "      {\n",
    "          \"entry\": {\n",
    "               \"Non-Retrofit Inundation Fragility ID Code\": \"5bbbafcdec2309046c2745ca\",\n",
    "              \"Non-Retrofit MomentumFlux Fragility ID Code\": \"5bbbba6bec2309046c2745d8\"\n",
    "          },\n",
    "          \"rules\": [\n",
    "              [\n",
    "                  \"java.lang.String struct_typ EQUALS RC\"\n",
    "              ]\n",
    "          ]\n",
    "      }\n",
    "  ]\n",
    "}\n",
    "created_mapping = fragility_services.create_mapping(mapping_data)\n",
    "created_mapping"
   ]
  },
  {
   "cell_type": "markdown",
   "metadata": {},
   "source": [
    "#### 1. Using mapping IDs from IN-CORE DFR3 services"
   ]
  },
  {
   "cell_type": "markdown",
   "metadata": {},
   "source": [
    "In the first example we use IN-CORE's DFR3 service to get mappings and to set a local mapping set object. \n",
    "We need an ID number of the mapping set in the service. A user can look up the fragility mapping IDs in the DFR3 viewer."
   ]
  },
  {
   "cell_type": "code",
   "execution_count": 13,
   "metadata": {},
   "outputs": [
    {
     "name": "stdout",
     "output_type": "stream",
     "text": [
      "Connection successful to IN-CORE services. pyIncore version detected: 0.9.0\n"
     ]
    },
    {
     "data": {
      "text/plain": [
       "<pyincore.models.mappingset.MappingSet at 0x15e7c6580>"
      ]
     },
     "execution_count": 13,
     "metadata": {},
     "output_type": "execute_result"
    }
   ],
   "source": [
    "mapping_id = \"5b8ec84fec2309047299581f\"\n",
    "\n",
    "client = IncoreClient()\n",
    "fragility_service = FragilityService(client)\n",
    "mapping_set = MappingSet(fragility_service.get_mapping(mapping_id))\n",
    "mapping_set"
   ]
  },
  {
   "cell_type": "markdown",
   "metadata": {},
   "source": [
    "#### 2. Writing a mapping definition file"
   ]
  },
  {
   "cell_type": "markdown",
   "metadata": {},
   "source": [
    "In the second example we define a mapping set as a text string with JSON type key/value pairs \n",
    "which then will be converted into a JSON object. **Note** It is necessary to use the specified types of quotes \n",
    "to create the string."
   ]
  },
  {
   "cell_type": "code",
   "execution_count": 14,
   "metadata": {},
   "outputs": [
    {
     "data": {
      "text/plain": [
       "<pyincore.models.mappingset.MappingSet at 0x15e8f8fa0>"
      ]
     },
     "execution_count": 14,
     "metadata": {},
     "output_type": "execute_result"
    }
   ],
   "source": [
    "mapping_set_json_str = '''\n",
    "{\n",
    "    \"id\": \"5b8ec84fec2309047299581f\",\n",
    "    \"name\": \"Shelby Water Network MMSA\",\n",
    "    \"hazardType\": \"earthquake\",\n",
    "    \"inventoryType\": \"water_facility\",\n",
    "    \"mappings\": [\n",
    "        {\n",
    "            \"legacyEntry\": {},\n",
    "            \"entry\": {\n",
    "                \"pga\": \"5b7d81ffec230904683d5073\"\n",
    "            },\n",
    "            \"rules\": [\n",
    "                [\n",
    "                    \"java.lang.String data_type EQUALS 'tank'\"\n",
    "                ]\n",
    "            ]\n",
    "        },\n",
    "        {\n",
    "            \"legacyEntry\": {},\n",
    "            \"entry\": {\n",
    "                \"pga\": \"5b7d8284ec230904683d5074\"\n",
    "            },\n",
    "            \"rules\": [\n",
    "                [\n",
    "                    \"java.lang.String data_type EQUALS 'pump'\",\n",
    "                    \"java.lang.String subtype EQUALS 'booster_pump'\"\n",
    "                ]\n",
    "            ]\n",
    "        },\n",
    "        {\n",
    "            \"legacyEntry\": {},\n",
    "            \"entry\": {\n",
    "                \"pga\": \"5b7d8284ec230904683d5074\"\n",
    "            },\n",
    "            \"rules\": [\n",
    "                [\n",
    "                    \"java.lang.String data_type EQUALS 'pump'\",\n",
    "                    \"java.lang.String subtype EQUALS 'pump_0'\"\n",
    "                ]\n",
    "            ]\n",
    "        },\n",
    "        {\n",
    "            \"legacyEntry\": {},\n",
    "            \"entry\": {\n",
    "                \"pga\": \"5b7d829aec230904683d5075\"\n",
    "            },\n",
    "            \"rules\": [\n",
    "                [\n",
    "                    \"java.lang.String data_type EQUALS 'pump'\",\n",
    "                    \"java.lang.String subtype EQUALS 'pump_1'\"\n",
    "                ]\n",
    "            ]\n",
    "        },\n",
    "        {\n",
    "            \"legacyEntry\": {},\n",
    "            \"entry\": {\n",
    "                \"pga\": \"5b7d82a6ec230904683d5076\"\n",
    "            },\n",
    "            \"rules\": [\n",
    "                [\n",
    "                    \"java.lang.String data_type EQUALS 'pump'\",\n",
    "                    \"java.lang.String subtype EQUALS 'pump_2'\"\n",
    "                ]\n",
    "            ]\n",
    "        },\n",
    "        {\n",
    "            \"legacyEntry\": {},\n",
    "            \"entry\": {\n",
    "                \"pga\": \"5b7d82b3ec230904683d5077\"\n",
    "            },\n",
    "            \"rules\": [\n",
    "                [\n",
    "                    \"java.lang.String data_type EQUALS 'pump'\",\n",
    "                    \"java.lang.String subtype EQUALS 'pump_3'\"\n",
    "                ]\n",
    "            ]\n",
    "        }\n",
    "    ],\n",
    "    \"mappingType\": \"fragility\"\n",
    "}\n",
    "'''\n",
    "\n",
    "mapping_set = MappingSet.from_json_str(mapping_set_json_str)\n",
    "mapping_set"
   ]
  },
  {
   "cell_type": "markdown",
   "metadata": {},
   "source": [
    "#### 3. Constructing a mapping set from individual components"
   ]
  },
  {
   "cell_type": "markdown",
   "metadata": {},
   "source": [
    "In the last example we provide a full set of instructions for\n",
    "\n",
    "Creating a fragility object with curves required for mapping. You may either:\n",
    "1. use curve objects (similar to example 3 in Fragility section)\n",
    "2. or load a fragility JSON file (example 4)\n",
    "3. creating a mapping set object by putting fragility sets into the mappings\n",
    "4. adding metadata to the mapping object"
   ]
  },
  {
   "cell_type": "markdown",
   "metadata": {},
   "source": [
    "1. Create a fragility set from curve objects (example 3 above)."
   ]
  },
  {
   "cell_type": "code",
   "execution_count": 15,
   "metadata": {},
   "outputs": [],
   "source": [
    "fragility_curve_moderate = PeriodStandardFragilityCurve({\n",
    "    \"description\": \"Moderate\",\n",
    "    \"alpha\":-0.453,\n",
    "    \"beta\": 0.794,\n",
    "    \"alphaType\":\"lambda\",\n",
    "    \"curveType\":\"LogNormal\",\n",
    "    \"periodParam2\":0,\n",
    "    \"periodParam1\":0,\n",
    "    \"periodParam0\":0.75,\n",
    "    \"periodEqnType\":1\n",
    "})\n",
    "fragility_curve_extensive = PeriodStandardFragilityCurve({\n",
    "    \"description\": \"Extensive\",\n",
    "    \"alpha\": 0.372,\n",
    "    \"beta\": 0.794,\n",
    "    \"alphaType\": \"lambda\",\n",
    "    \"curveType\": \"LogNormal\",\n",
    "    \"periodParam2\": 0,\n",
    "    \"periodParam1\": 0,\n",
    "    \"periodParam0\": 0.75,\n",
    "    \"periodEqnType\": 1\n",
    "})\n",
    "fragility_curve_complete = PeriodStandardFragilityCurve({\n",
    "    \"description\": \"Complete\",\n",
    "    \"alpha\":1.198,\n",
    "    \"beta\": 0.794,\n",
    "    \"alphaType\":\"lambda\",\n",
    "    \"curveType\":\"LogNormal\",\n",
    "    \"periodParam2\":0,\n",
    "    \"periodParam1\":0,\n",
    "    \"periodParam0\":0.75,\n",
    "    \"periodEqnType\":1\n",
    "})\n",
    "fragility_set = {\n",
    "    \"id\":\"local_fragility_curve_set_1\",\n",
    "    \"demandTypes\": [\"PGA\"],\n",
    "    \"demandUnits\": [\"g\"],\n",
    "    \"resultType\":\"Limit State\",\n",
    "    \"hazardType\":\"earthquake\",\n",
    "    \"inventoryType\":\"building\",\n",
    "    \"fragilityCurves\":[\n",
    "        fragility_curve_moderate,\n",
    "        fragility_curve_extensive,\n",
    "        fragility_curve_complete,\n",
    "    ]\n",
    "}\n",
    "fragility_set_1 = FragilityCurveSet(fragility_set)"
   ]
  },
  {
   "cell_type": "markdown",
   "metadata": {},
   "source": [
    "2. Create a fragility set object directly from a JSON file (example 4 above)."
   ]
  },
  {
   "cell_type": "code",
   "execution_count": 16,
   "metadata": {},
   "outputs": [],
   "source": [
    "fragility_set_2 = FragilityCurveSet.from_json_file('files/periodStandardFragilityCurve.json')"
   ]
  },
  {
   "cell_type": "markdown",
   "metadata": {},
   "source": [
    "3. Create mapping objects and put fragility curve sets into the mapping."
   ]
  },
  {
   "cell_type": "code",
   "execution_count": 17,
   "metadata": {},
   "outputs": [],
   "source": [
    "entry_1 = {\"Non-Retrofit Fragility ID Code\": fragility_set_1}\n",
    "rules_1 = [[ \"int no_stories GE 4\",\"int no_stories LE 7\"]]\n",
    "mapping_1 = Mapping(entry_1, rules_1)\n",
    "\n",
    "entry_2 = {\"Non-Retrofit Fragility ID Code\": fragility_set_2}\n",
    "rules_2 = [[\"int no_stories GE 1\", \"int no_stories LE 3\"]]\n",
    "mapping_2 = Mapping(entry_2, rules_2)"
   ]
  },
  {
   "cell_type": "markdown",
   "metadata": {},
   "source": [
    "4. Add metadata and create the final mapping set object"
   ]
  },
  {
   "cell_type": "code",
   "execution_count": 18,
   "metadata": {},
   "outputs": [],
   "source": [
    "mapping_set = {\n",
    "    'id': 'local placeholder',\n",
    "    'name': 'testing local mapping object creation',\n",
    "    'hazardType': 'earthquake',\n",
    "    'inventoryType': 'building',\n",
    "    'mappings': [\n",
    "        mapping_1,\n",
    "        mapping_2,\n",
    "    ],\n",
    "    'mappingType': 'fragility'\n",
    "}\n",
    "local_building_mapping_set = MappingSet(mapping_set)"
   ]
  },
  {
   "cell_type": "markdown",
   "metadata": {},
   "source": [
    "### Examples of DFR3 mapping use"
   ]
  },
  {
   "cell_type": "code",
   "execution_count": 19,
   "metadata": {},
   "outputs": [
    {
     "name": "stdout",
     "output_type": "stream",
     "text": [
      "Dataset already exists locally. Reading from local cached zip.\n",
      "Unzipped folder found in the local cache. Reading from it...\n"
     ]
    },
    {
     "data": {
      "text/plain": [
       "True"
      ]
     },
     "execution_count": 19,
     "metadata": {},
     "output_type": "execute_result"
    }
   ],
   "source": [
    "from pyincore.analyses.buildingdamage import BuildingDamage\n",
    "\n",
    "bldg_dmg = BuildingDamage(client)\n",
    "bldg_dmg.load_remote_input_dataset(\"buildings\", '5a284f0bc7d30d13bc081a28')\n",
    "bldg_dmg.set_parameter(\"result_name\", 'local_mapping_fragility_memphis_eq_bldg_dmg_result')"
   ]
  },
  {
   "cell_type": "markdown",
   "metadata": {},
   "source": [
    "#### Method 1: Load mapping from IN-CORE services using set IDs"
   ]
  },
  {
   "cell_type": "code",
   "execution_count": 20,
   "metadata": {},
   "outputs": [
    {
     "data": {
      "text/plain": [
       "True"
      ]
     },
     "execution_count": 20,
     "metadata": {},
     "output_type": "execute_result"
    }
   ],
   "source": [
    "fragility_service = FragilityService(client)\n",
    "mapping_set = MappingSet(fragility_service.get_mapping(mapping_id=\"5b47b350337d4a3629076f2c\"))\n",
    "bldg_dmg.set_input_dataset('dfr3_mapping_set', mapping_set)"
   ]
  },
  {
   "cell_type": "markdown",
   "metadata": {},
   "source": [
    "#### Method 2: Load locally created mapping object"
   ]
  },
  {
   "cell_type": "code",
   "execution_count": 21,
   "metadata": {},
   "outputs": [
    {
     "data": {
      "text/plain": [
       "True"
      ]
     },
     "execution_count": 21,
     "metadata": {},
     "output_type": "execute_result"
    }
   ],
   "source": [
    "# Local_building_mapping_set is created in the previous section.\n",
    "bldg_dmg.set_input_dataset(\"dfr3_mapping_set\", local_building_mapping_set)"
   ]
  },
  {
   "cell_type": "code",
   "execution_count": 22,
   "metadata": {},
   "outputs": [
    {
     "data": {
      "text/plain": [
       "True"
      ]
     },
     "execution_count": 22,
     "metadata": {},
     "output_type": "execute_result"
    }
   ],
   "source": [
    "bldg_dmg.set_parameter(\"hazard_type\", 'earthquake')\n",
    "bldg_dmg.set_parameter(\"hazard_id\", '5b902cb273c3371e1236b36b')\n",
    "bldg_dmg.set_parameter(\"num_cpu\", 4)\n",
    "\n",
    "# Run Analysis\n",
    "bldg_dmg.run_analysis()"
   ]
  },
  {
   "cell_type": "code",
   "execution_count": null,
   "metadata": {},
   "outputs": [],
   "source": []
  }
 ],
 "metadata": {
  "kernelspec": {
   "display_name": "Python 3",
   "language": "python",
   "name": "python3"
  },
  "language_info": {
   "codemirror_mode": {
    "name": "ipython",
    "version": 3
   },
   "file_extension": ".py",
   "mimetype": "text/x-python",
   "name": "python",
   "nbconvert_exporter": "python",
   "pygments_lexer": "ipython3",
   "version": "3.8.8"
  }
 },
 "nbformat": 4,
 "nbformat_minor": 2
}
