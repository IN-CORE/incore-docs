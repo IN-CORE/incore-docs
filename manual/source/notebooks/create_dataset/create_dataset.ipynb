{
 "cells": [
  {
   "cell_type": "markdown",
   "metadata": {},
   "source": [
    "## Create and Use Dataset Object"
   ]
  },
  {
   "cell_type": "markdown",
   "metadata": {},
   "source": [
    "Any analysis in pyIncore, by default uses **Dataset Object** as input. This\n",
    "tutorial introduces users to the basic concept of creating and using **Dataset Object** via either loading from local\n",
    "files, or connecting to remote IN-CORE Data Services."
   ]
  },
  {
   "cell_type": "code",
   "execution_count": null,
   "metadata": {},
   "outputs": [],
   "source": [
    "import pandas as pd\n",
    "from pyincore import IncoreClient, DataService, SpaceService, Dataset, FragilityService, MappingSet\n",
    "from pyincore.analyses.buildingdamage import BuildingDamage\n",
    "from pyincore.analyses.meandamage import MeanDamage"
   ]
  },
  {
   "cell_type": "code",
   "execution_count": null,
   "metadata": {},
   "outputs": [],
   "source": [
    "client = IncoreClient()\n",
    "data_services = DataService(client)\n",
    "space_services = SpaceService(client)"
   ]
  },
  {
   "cell_type": "markdown",
   "metadata": {},
   "source": [
    "### Upload Dataset to Data Services"
   ]
  },
  {
   "cell_type": "markdown",
   "metadata": {},
   "source": [
    "#### Write Metadata\n",
    "\n",
    "- **Metadata** is a string describing the dataset. \n",
    "- **dataType** needs to be align with the analyses in pyincore.\n",
    "- **format** is the file format of the dataset. Currently we support \"shapefile\", \"table\", \"Network\", \"textFiles\n",
    "\", \"raster\", \"geotiff\" and etc. Please consult with development team if you intend to post a new format."
   ]
  },
  {
   "cell_type": "code",
   "execution_count": null,
   "metadata": {},
   "outputs": [],
   "source": [
    "# note you have to put the correct dataType as well as format\n",
    "dataset_metadata = {\n",
    "    \"title\":\"Tutorial Test ERGO Memphis Hospitals\",\n",
    "    \"description\": \"ERGO Memphis Hospitals\",\n",
    "    \"dataType\": \"ergo:buildingInventoryVer5\",\n",
    "    \"format\": \"shapefile\"\n",
    "}"
   ]
  },
  {
   "cell_type": "markdown",
   "metadata": {},
   "source": [
    "#### Upload metadata\n",
    "\n",
    "After upload metadata the “placeholder” dataset object has been created on INCORE service with the id which does not have files attached to it yet. However it is already possible to see the empty dataset on the service by searching that particular id."
   ]
  },
  {
   "cell_type": "code",
   "execution_count": null,
   "metadata": {},
   "outputs": [],
   "source": [
    "created_dataset = data_services.create_dataset(dataset_metadata)\n",
    "dataset_id = created_dataset['id']\n",
    "print('dataset is created with id ' + dataset_id)"
   ]
  },
  {
   "cell_type": "markdown",
   "metadata": {},
   "source": [
    "#### Attach files to the dataset created\n",
    "\n",
    "Using the dataset id we attach the files that contain the data for the dataset."
   ]
  },
  {
   "cell_type": "code",
   "execution_count": null,
   "metadata": {},
   "outputs": [],
   "source": [
    "files = ['files/all_bldgs_ver5_WGS1984.shp',\n",
    "         'files/all_bldgs_ver5_WGS1984.shx',\n",
    "         'files/all_bldgs_ver5_WGS1984.prj',\n",
    "         'files/all_bldgs_ver5_WGS1984.dbf']\n",
    "full_dataset = data_services.add_files_to_dataset(dataset_id, files)"
   ]
  },
  {
   "cell_type": "code",
   "execution_count": null,
   "metadata": {},
   "outputs": [],
   "source": [
    "full_dataset"
   ]
  },
  {
   "cell_type": "markdown",
   "metadata": {},
   "source": [
    "### Moving your dataset to INCORE space\n",
    "\n",
    "If you would like other people to access your data, you can move your dataset to a certain space. Otherwise it wil\n",
    " be in your own space and not public accessible."
   ]
  },
  {
   "cell_type": "code",
   "execution_count": null,
   "metadata": {},
   "outputs": [],
   "source": [
    "# for example, adding to incore space\n",
    "response = space_services.add_dataset_to_space(\"5df8fd18b9219c068fb0257f\", dataset_id)"
   ]
  },
  {
   "cell_type": "markdown",
   "metadata": {},
   "source": [
    "### 1. Load Dataset from Data services"
   ]
  },
  {
   "cell_type": "code",
   "execution_count": null,
   "metadata": {},
   "outputs": [],
   "source": [
    "building_dataset_id = \"5a284f0bc7d30d13bc081a28\"\n",
    "buildings = Dataset.from_data_service(building_dataset_id, data_services)\n",
    "buildings"
   ]
  },
  {
   "cell_type": "markdown",
   "metadata": {},
   "source": [
    "### 2. Load Dataset from local files\n",
    "\n",
    "- Note you have to make sure you pass the right **data_type** when constructing Dataset Object from scratch\n",
    "- To look up what **data_type** it should be, please refer to the **source code** of the analyses\n",
    "- You want to look take a look at the **spec** section -> **input_datasets** -> **type**"
   ]
  },
  {
   "cell_type": "code",
   "execution_count": null,
   "metadata": {},
   "outputs": [],
   "source": [
    "buildings = Dataset.from_file(\"files/all_bldgs_ver5_WGS1984.shp\", data_type=\"ergo:buildingInventoryVer5\")\n",
    "buildings"
   ]
  },
  {
   "cell_type": "markdown",
   "metadata": {},
   "source": [
    "### 3. Input the Dataset object in analyses"
   ]
  },
  {
   "cell_type": "code",
   "execution_count": null,
   "metadata": {},
   "outputs": [],
   "source": [
    "# for example: Building Damage Analyses\n",
    "bldg_dmg = BuildingDamage(client)\n",
    "bldg_dmg.set_input_dataset(\"buildings\", buildings)  "
   ]
  },
  {
   "cell_type": "code",
   "execution_count": null,
   "metadata": {},
   "outputs": [],
   "source": [
    "# Memphis Earthquake damage\n",
    "# New madrid earthquake using Atkinson Boore 1995\n",
    "hazard_type = \"earthquake\"\n",
    "hazard_id = \"5b902cb273c3371e1236b36b\"\n",
    "\n",
    "# Earthquake mapping\n",
    "mapping_id = \"5b47b350337d4a3629076f2c\"\n",
    "fragility_service = FragilityService(client)\n",
    "mapping_set = MappingSet(fragility_service.get_mapping(mapping_id))\n",
    "bldg_dmg.set_input_dataset('dfr3_mapping_set', mapping_set)\n",
    "\n",
    "result_name = \"memphis_eq_bldg_dmg_result\"\n",
    "bldg_dmg.set_parameter(\"result_name\", result_name)\n",
    "bldg_dmg.set_parameter(\"hazard_type\", hazard_type)\n",
    "bldg_dmg.set_parameter(\"hazard_id\", hazard_id)\n",
    "bldg_dmg.set_parameter(\"num_cpu\", 4)\n",
    "\n",
    "# Run Analysis\n",
    "bldg_dmg.run_analysis()"
   ]
  },
  {
   "cell_type": "markdown",
   "metadata": {},
   "source": [
    "### 4. Chaining the output Dataset object in subsequent analyses\n",
    "Output is a dataset object as well, here is how to display"
   ]
  },
  {
   "cell_type": "code",
   "execution_count": null,
   "metadata": {},
   "outputs": [],
   "source": [
    "print(\"output datasets:\", bldg_dmg.get_output_datasets())\n",
    "bldg_dmg.get_output_dataset('ds_result').get_dataframe_from_csv().head()"
   ]
  },
  {
   "cell_type": "markdown",
   "metadata": {},
   "source": [
    "### Chaining with Mean damage analysis"
   ]
  },
  {
   "cell_type": "code",
   "execution_count": null,
   "metadata": {},
   "outputs": [],
   "source": [
    "md = MeanDamage(client)\n",
    "\n",
    "# use the output of road damage\n",
    "building_damage_output = bldg_dmg.get_output_dataset('ds_result')\n",
    "md.set_input_dataset(\"damage\", building_damage_output)\n",
    "\n",
    "md.load_remote_input_dataset(\"dmg_ratios\", \"5a284f2ec7d30d13bc08209a\")\n",
    "md.set_parameter(\"result_name\", \"building_mean_damage\")\n",
    "md.set_parameter(\"damage_interval_keys\", [\"DS_0\", \"DS_1\", \"DS_2\", \"DS_3\"])\n",
    "md.set_parameter(\"num_cpu\", 1)\n",
    "\n",
    "# Run analysis\n",
    "md.run_analysis()"
   ]
  },
  {
   "cell_type": "code",
   "execution_count": null,
   "metadata": {},
   "outputs": [],
   "source": [
    "print(\"output datasets:\", md.get_output_datasets())\n",
    "md.get_output_dataset('result').get_dataframe_from_csv().head()[['meandamage', 'mdamagedev']]"
   ]
  },
  {
   "cell_type": "markdown",
   "metadata": {},
   "source": [
    "### Utility methods"
   ]
  },
  {
   "cell_type": "code",
   "execution_count": null,
   "metadata": {},
   "outputs": [],
   "source": [
    "# e.g. read the shapefile properties\n",
    "rd = buildings.get_inventory_reader()\n",
    "for row in rd:\n",
    "    print('year built:', row['properties']['year_built'])"
   ]
  }
 ],
 "metadata": {
  "kernelspec": {
   "display_name": "Python 3",
   "language": "python",
   "name": "python3"
  },
  "language_info": {
   "codemirror_mode": {
    "name": "ipython",
    "version": 3
   },
   "file_extension": ".py",
   "mimetype": "text/x-python",
   "name": "python",
   "nbconvert_exporter": "python",
   "pygments_lexer": "ipython3",
   "version": "3.7.10"
  }
 },
 "nbformat": 4,
 "nbformat_minor": 4
}
