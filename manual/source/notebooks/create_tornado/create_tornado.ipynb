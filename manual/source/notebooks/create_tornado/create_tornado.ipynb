{
 "cells": [
  {
   "cell_type": "markdown",
   "metadata": {},
   "source": [
    "## Create Tornadoes"
   ]
  },
  {
   "cell_type": "code",
   "execution_count": 1,
   "metadata": {},
   "outputs": [],
   "source": [
    "from pyincore import HazardService, IncoreClient\n",
    "import json"
   ]
  },
  {
   "cell_type": "code",
   "execution_count": 2,
   "metadata": {},
   "outputs": [],
   "source": [
    "client = IncoreClient()"
   ]
  },
  {
   "cell_type": "code",
   "execution_count": 3,
   "metadata": {},
   "outputs": [],
   "source": [
    "hazardsvc = HazardService(client)"
   ]
  },
  {
   "cell_type": "markdown",
   "metadata": {},
   "source": [
    "### Create Model Based Tornado\n",
    "\n",
    "**Input:** Json representing a model based tornado. \n",
    "\n",
    "* tornadoModel (required) - specify tornado model (Mean width will create a tornado using the mean width from historical data for the EF rating)\n",
    "    * Mean width tornado (MeanWidthTornado) - user specifies start/end points with a width equal to the average for that EF rating looking at historical tornado data\n",
    "    * Random width tornado (RandomWidthTornado) - user specifies start/end points, random width selected use the historical data to determine the max width for that tornado rating\n",
    "    * Mean Length/Width/angle (MeanLengthWidthAngleTornado) - user specifies start point, length/width and angle are based on the historical average for those attributes based on EF selected\n",
    "    * Random length/width/angle (RandomLengthWidthAngleTornado) - user specifies start point, random length/width/angle selected for the ef rating using historical data\n",
    "    * Random angle (RandomAngleTornado) - user specifies start point, random angle selected based on historical data.\n",
    "* efRating (required) - specify the Enhanced Fujita (EF) scale intensity of the tornado (EF0 - EF5)\n",
    "* startLatitude/startLongitude (required) - specify the starting location of the tornado\n",
    "* endLatitude/endLongitude (optional)- depending on the model, specify an end latitude/longitude value. Some tornado models (e.g. mean length width, and angle) calcuate endLat and endLon, others (e.g. random angle) will generate multiple endpoints programmatically so the input must be passed as an array\n",
    "* windSpeedMethod(optional) - for computing wind speed within an EF boundary, 0 indicates using linear interpolation, 1 indicates uniform random distribution. Default is Uniform random distribution."
   ]
  },
  {
   "cell_type": "code",
   "execution_count": 4,
   "metadata": {
    "scrolled": true
   },
   "outputs": [
    {
     "name": "stdout",
     "output_type": "stream",
     "text": [
      "{\n",
      "    \"name\": \"Centerville Model Tornado\",\n",
      "    \"description\": \"Centerville mean width tornado hazard\",\n",
      "    \"tornadoType\": \"model\",\n",
      "    \"tornadoModel\": \"MeanWidthTornado\",\n",
      "    \"tornadoParameters\": {\n",
      "        \"efRating\": \"EF5\",\n",
      "        \"startLatitude\": \"35.218\",\n",
      "        \"startLongitude\": \"-97.510\",\n",
      "        \"randomSeed\": \"1234\",\n",
      "        \"endLatitude\": [\n",
      "            35.246\n",
      "        ],\n",
      "        \"endLongitude\": [\n",
      "            -97.438\n",
      "        ],\n",
      "        \"windSpeedMethod\": \"1\",\n",
      "        \"numSimulations\": \"1\"\n",
      "    }\n",
      "}\n"
     ]
    }
   ],
   "source": [
    "with open(\"files/tornado-model.json\", 'r') as file:\n",
    "    tornado_model_json = file.read()\n",
    "    print(json.dumps(json.loads(tornado_model_json), indent=4))"
   ]
  },
  {
   "cell_type": "code",
   "execution_count": 5,
   "metadata": {},
   "outputs": [],
   "source": [
    "model_response = hazardsvc.create_tornado_scenario(tornado_model_json)"
   ]
  },
  {
   "cell_type": "code",
   "execution_count": 6,
   "metadata": {},
   "outputs": [
    {
     "name": "stdout",
     "output_type": "stream",
     "text": [
      "{\n",
      "    \"tornadoType\": \"model\",\n",
      "    \"id\": \"5f4fda3d122be3499dc20e90\",\n",
      "    \"name\": \"Centerville Model Tornado\",\n",
      "    \"description\": \"Centerville mean width tornado hazard\",\n",
      "    \"creator\": \"vnarah2\",\n",
      "    \"date\": \"2020-09-02T17:45:32+0000\",\n",
      "    \"tornadoModel\": \"MeanWidthTornado\",\n",
      "    \"tornadoParameters\": {\n",
      "        \"efRating\": \"EF5\",\n",
      "        \"maxWindSpeed\": 250.0,\n",
      "        \"startLatitude\": 35.218,\n",
      "        \"startLongitude\": -97.51,\n",
      "        \"randomSeed\": 1234,\n",
      "        \"windSpeedMethod\": 1,\n",
      "        \"numSimulations\": 1,\n",
      "        \"endLatitude\": [\n",
      "            35.246\n",
      "        ],\n",
      "        \"endLongitude\": [\n",
      "            -97.438\n",
      "        ]\n",
      "    },\n",
      "    \"tornadoWidth\": [\n",
      "        815.9980909090909\n",
      "    ],\n",
      "    \"efBoxes\": [\n",
      "        {\n",
      "            \"efBoxWidths\": [\n",
      "                0.001002256638187928,\n",
      "                0.0017328393158413994,\n",
      "                0.0022321320000668874,\n",
      "                0.0027387672237662794,\n",
      "                0.003205018480359198,\n",
      "                0.003671269736952117\n",
      "            ]\n",
      "        }\n",
      "    ],\n",
      "    \"datasetId\": \"5f4fda3c362ee40fb3a90519\"\n",
      "}\n"
     ]
    }
   ],
   "source": [
    "print(json.dumps(model_response, indent=4))"
   ]
  },
  {
   "cell_type": "markdown",
   "metadata": {},
   "source": [
    "### Create Dataset Based Tornado \n",
    "\n",
    "**Inputs:** Json representing a the dataset based tornado; Provide dataset representing the tornado path in shapefile format"
   ]
  },
  {
   "cell_type": "code",
   "execution_count": 7,
   "metadata": {},
   "outputs": [
    {
     "name": "stdout",
     "output_type": "stream",
     "text": [
      "{\n",
      "    \"name\": \"Joplin Dataset Tornado\",\n",
      "    \"description\": \"Joplin tornado hazard with shapefile\",\n",
      "    \"tornadoType\": \"dataset\"\n",
      "}\n"
     ]
    }
   ],
   "source": [
    "with open(\"files/tornado-dataset.json\", 'r') as file:\n",
    "    tornado_dataset_json = file.read()\n",
    "    print(json.dumps(json.loads(tornado_dataset_json), indent=4))"
   ]
  },
  {
   "cell_type": "code",
   "execution_count": 8,
   "metadata": {},
   "outputs": [],
   "source": [
    "file_paths = [\"files/joplin_path_wgs84.shp\", \"files/joplin_path_wgs84.shx\", \"files/joplin_path_wgs84.dbf\", \n",
    "              \"files/joplin_path_wgs84.prj\", \"files/joplin_path_wgs84.qpj\"] "
   ]
  },
  {
   "cell_type": "code",
   "execution_count": 9,
   "metadata": {},
   "outputs": [
    {
     "name": "stdout",
     "output_type": "stream",
     "text": [
      "{\n",
      "    \"tornadoType\": \"dataset\",\n",
      "    \"id\": \"5f4fda3e4758853ca8505e12\",\n",
      "    \"name\": \"Joplin Dataset Tornado\",\n",
      "    \"description\": \"Joplin tornado hazard with shapefile\",\n",
      "    \"creator\": \"vnarah2\",\n",
      "    \"date\": \"2020-09-02T17:45:33+0000\",\n",
      "    \"datasetId\": \"5f4fda3d3998816e84cd7787\"\n",
      "}\n"
     ]
    }
   ],
   "source": [
    "dataset_response = hazardsvc.create_tornado_scenario(tornado_dataset_json, file_paths)\n",
    "print(json.dumps(dataset_response, indent=4))"
   ]
  },
  {
   "cell_type": "markdown",
   "metadata": {},
   "source": [
    "### Get Tornado Values"
   ]
  },
  {
   "cell_type": "code",
   "execution_count": 10,
   "metadata": {},
   "outputs": [
    {
     "name": "stdout",
     "output_type": "stream",
     "text": [
      "[{'demand': 'Wind', 'units': 'mph', 'hazardValue': 123.55867705584023}, {'demand': 'Wind', 'units': 'mph', 'hazardValue': 76.06604231921537}]\n"
     ]
    }
   ],
   "source": [
    "tornado_model_id = model_response['id']\n",
    "tornado_model_vals = hazardsvc.get_tornado_hazard_values(tornado_model_id, \"mph\", \n",
    "                                                 [\"35.228, -97.478\", \"35.227, -97.477\"])\n",
    "print(tornado_model_vals)"
   ]
  },
  {
   "cell_type": "code",
   "execution_count": 11,
   "metadata": {},
   "outputs": [
    {
     "name": "stdout",
     "output_type": "stream",
     "text": [
      "[{'demand': 'Wind', 'units': 'mph', 'hazardValue': 157.07951738477692}, {'demand': 'Wind', 'units': 'mph', 'hazardValue': 0.0}]\n"
     ]
    }
   ],
   "source": [
    "tornado_dataset_id = dataset_response['id']\n",
    "tornado_dataset_vals = hazardsvc.get_tornado_hazard_values(tornado_dataset_id, \"mph\", \n",
    "                                                 [\"37.0601,-94.5233\", \"37.027, -94.5132\"])\n",
    "print(tornado_dataset_vals)"
   ]
  }
 ],
 "metadata": {
  "kernelspec": {
   "display_name": "Python 3",
   "language": "python",
   "name": "python3"
  },
  "language_info": {
   "codemirror_mode": {
    "name": "ipython",
    "version": 3
   },
   "file_extension": ".py",
   "mimetype": "text/x-python",
   "name": "python",
   "nbconvert_exporter": "python",
   "pygments_lexer": "ipython3",
   "version": "3.8.5"
  }
 },
 "nbformat": 4,
 "nbformat_minor": 4
}
