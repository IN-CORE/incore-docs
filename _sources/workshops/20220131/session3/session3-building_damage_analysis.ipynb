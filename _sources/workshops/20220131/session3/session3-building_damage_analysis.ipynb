{
 "cells": [
  {
   "cell_type": "markdown",
   "id": "873faee8-99b4-4cb9-b345-97de4621f582",
   "metadata": {},
   "source": [
    "# Session 3: Building Damage Analysis\n",
    "You will learn about fragility curves and mappping, building inventory dataset, and buiding damage analysis by using IN-CORE in this session"
   ]
  },
  {
   "cell_type": "markdown",
   "id": "1c450bb1",
   "metadata": {},
   "source": [
    "## 3.1 Fragility Curve and Mapping\n",
    "\n",
    "Damage analyses use fragility curve sets to calculate the limit state and damage stsate. Mapping then determines which fragility curve set applying to which inventory. For example, a building that has certain number of stories could be mapped to a specific set of fragility curves.\n",
    "\n",
    "In IN-CORE, A user can both upload a set of fragility curves and mapping to the DFR3 services, or use local curve and mapping set objects.\n",
    "\n",
    "This section briefly shows how to access fragility curves. A detailed instrcution of how to create your own fragility entities and mapping entities can be found in our Mannual: [Toutorial - Create DFR3 Object](https://incore.ncsa.illinois.edu/doc/incore/notebooks/create_dfr3_object/create_dfr3_object.html)\n",
    "\n",
    "User can easily browsing and searching Fragility Curves and Mappings via [DFR3 Viewer](https://incore.ncsa.illinois.edu/DFR3Viewer)\n",
    "![dfr3_viewer](./lookup_fragility_id.png)\n",
    "\n",
    "Analyses use DFR3 mapping sets from IN-CORE service to associate each element of a given set with one or more elements of a second set of DFR3 curves. In IN-CORE and pyIncore specifically, a building inventory (given set) is mapped to a (second) set of fragility curves.\n",
    "\n",
    "Please note that in this notebook we use term *function/method* interchangably in programming context as a class function and *curve* as a function in mathematical context (lognormal curve)."
   ]
  },
  {
   "cell_type": "markdown",
   "id": "0764608c",
   "metadata": {},
   "source": [
    "### Read fragility curve set"
   ]
  },
  {
   "cell_type": "code",
   "execution_count": null,
   "id": "e8ee8a9e",
   "metadata": {},
   "outputs": [],
   "source": [
    "# import pyIncore modules\n",
    "from pyincore import FragilityService, IncoreClient, FragilityCurveSet, MappingSet\n",
    "\n",
    "# Connect to IN-CORE service\n",
    "client = IncoreClient()\n",
    "\n",
    "# Initalize a FragilityService\n",
    "fragility_services = FragilityService(client)"
   ]
  },
  {
   "cell_type": "code",
   "execution_count": null,
   "id": "cea54469",
   "metadata": {},
   "outputs": [],
   "source": [
    "# Getting a fragility curve and metadata\n",
    "# You can see the curve with this ID at DFR3 viewer\n",
    "fragility_set_id = \"5b47b2d7337d4a36187c61ce\"\n",
    "\n",
    "# Get local fragility curve set\n",
    "fragility_curve_set = FragilityCurveSet(fragility_services.get_dfr3_set(fragility_set_id))\n",
    "fragility_curve_set.fragility_curves"
   ]
  },
  {
   "cell_type": "markdown",
   "id": "3755c405",
   "metadata": {},
   "source": [
    "### Visualize this fragility curve using pyincore-viz package"
   ]
  },
  {
   "cell_type": "code",
   "execution_count": null,
   "id": "ed4d622c",
   "metadata": {},
   "outputs": [],
   "source": [
    "from pyincore_viz.plotutil import PlotUtil as plot\n",
    "\n",
    "plt = plot.get_fragility_plot(fragility_curve_set, title=\"Mid-Rise Steel Moment Frame\")\n",
    "plt.show()"
   ]
  },
  {
   "cell_type": "markdown",
   "id": "41d8eefb",
   "metadata": {},
   "source": [
    "## 3.2 Building Inventory\n",
    "\n",
    "The schema (columns) of building Inventory has been going through several iteration (v5, v6, v7), and here is a list of supported column names in version 6. Having a fully populated Building Inventory, with no additional columns, will hold all the data needed to perform all analyses that are compatible with that version of the Building Inventory.\n",
    "\n",
    "|column name|description|type|\n",
    "|-----------|-----------|----|\n",
    "|GUID|added by IN-CORE|string|\n",
    "|ARCHETYPE| building structure archetype|integer|\n",
    "|OCC_TYPE|Broad HAZUS Occupancy Category (e.g. RES3 - multi-family residential)|string|\n",
    "|APPR_BLDG|Appraised value for the building|double|\n",
    "|SQ_FOOT|total building area in square feet|integer|\n",
    "|DWELL_UNIT|total number of dwelling units in the building|integer|\n",
    "|NO_STORIES|total number of stories for the building|integer|\n",
    "|CONT_VAL|value of building contents|double|\n",
    "|STR_TYP2|detailed structure type as per HAZUS MR-3 specifications|string|\n",
    "|EFACILITY|essential facility designation|string|\n",
    "|PAR_ID|parcel identifier|string|\n",
    "|PARID_CARD|improvement identifier|string|\n",
    "|BLDG_ID|building identifier (unique)|string|\n",
    "|STR_PROB|probability that the structure type specified is correct|double|\n",
    "|YEAR_BUILT|the year the structure was built|integer|\n",
    "|A_STORIES|the number of above ground stories|integer|\n",
    "|B_STORIES|the number of below ground stories|integer|\n",
    "|BSMT_TYPE|the basement type|string|\n",
    "|GSQ_FOOT|total ground floor area of the building in square feet|integer|\n",
    "|OCC_DETAIL|\"specific occupancy category, describing the detailed use of the building\"|string|\n",
    "|MAJOR_OCC|major occupancy category for the parcel in which the building is sited|string|\n",
    "|BROAD_OCC|general occupancy categories|string|\n",
    "|REPL_CST|replacement cost for the building from R.S. means square foot cost|double|\n",
    "|STR_CST|structural component of the replacement cost|double|\n",
    "|NSTRA_CST|acceleration sensitive component of replacement cost|double|\n",
    "|NSTRD_CST|drift sensitive component of replacement cost|double|\n",
    "|DGN_LVL|design level for the building as per HAZUS MR-3 specifications|string|\n",
    "|OCC_TYP2|detailed HAZUS occupancy category for the building|string|\n",
    "|TRACT_ID|census tract identifier|string|\n",
    "\n",
    "There are many ways to create building inventory dataset; for example 1) using GIS software (e.g. ArcGIS, QGIS, etc), 2) using python code. In this exerercise, we will create a buiding inventory dataset in ESRI Shapefile from CSV file by using **GeoPandas library**.\n",
    "\n",
    "GeoPandas is an open source project to make working with geospatial data in python easier. GeoPandas extends the datatypes used by pandas to allow spatial operations on geometric types. For more information, please follow the [user guide](https://geopandas.org/en/stable/docs/user_guide.html)"
   ]
  },
  {
   "cell_type": "markdown",
   "id": "b446def0",
   "metadata": {},
   "source": [
    "### Create a dataset object\n",
    "Any analysis in pyIncore, by default uses Dataset Object as an input. Hence we have to convert building dataset into pyincore dataset object, in order to use it as an input for damage analysis. We can either upload the dataset to IN-CORE data services to acquire an id; or using existing dataset id from the services; or using local files. \n",
    "\n",
    "### Create building inventory dataset object from local files\n",
    "Below we will create a buidling inventory data in ESRI shapefile from CSV file according to building inventory schema. With the files, we will create a local dataset object."
   ]
  },
  {
   "cell_type": "code",
   "execution_count": null,
   "id": "b8c8e737",
   "metadata": {},
   "outputs": [],
   "source": [
    "# import Dataset class\n",
    "from pyincore import Dataset"
   ]
  },
  {
   "cell_type": "markdown",
   "id": "e13e1c06",
   "metadata": {},
   "source": [
    "#### Step 1: Convert CSV file to ESRI Shapefile\n",
    "Open CSV file in the file browser to see the contents."
   ]
  },
  {
   "cell_type": "code",
   "execution_count": null,
   "id": "2e181852",
   "metadata": {},
   "outputs": [],
   "source": [
    "# Load CSV file into GeoPandas, then export the GeoDataFrame to ESRI shapefile\n",
    "\n",
    "import pandas as pd\n",
    "import geopandas as gpd\n",
    "\n",
    "df = pd.read_csv('ergo_memphis_hospitals.csv')\n",
    "\n",
    "gdf = gpd.GeoDataFrame(df, crs='epsg:4326', geometry=gpd.points_from_xy(df.lon, df.lat))\n",
    "gdf.to_file(\"sample_bldgs.shp\")"
   ]
  },
  {
   "cell_type": "markdown",
   "id": "8629cfb0",
   "metadata": {},
   "source": [
    "#### Step 2: Add GUID\n",
    "**Each built-in infrastructure needs a GUID.** A GUID is an acronyom that stands for Globally Unique Identifier, they are also referred to as UUIDs or Universaly Unique Identifiers. Technically they are 128-bit unique reference numbers used in computing which are highly unlikely to repeat when generated."
   ]
  },
  {
   "cell_type": "code",
   "execution_count": null,
   "id": "846e38d4",
   "metadata": {},
   "outputs": [],
   "source": [
    "# pyincore has utility methods help user easily add GUID\n",
    "from pyincore import GeoUtil\n",
    "\n",
    "GeoUtil.add_guid(\"sample_bldgs.shp\", \"sample_bldgs_w_guid.shp\")"
   ]
  },
  {
   "cell_type": "markdown",
   "id": "7ff973a9",
   "metadata": {},
   "source": [
    "#### Step 3: Create a local dataset for IN-CORE\n",
    "The following code create a local Dataset object with ESRI shapefile for buiding inventory "
   ]
  },
  {
   "cell_type": "code",
   "execution_count": null,
   "id": "fc46f76d",
   "metadata": {},
   "outputs": [],
   "source": [
    "# use the method \"from_file\" in Dataset class to construct dataset object from local file\n",
    "local_buildings = Dataset.from_file(\"sample_bldgs_w_guid.shp\", data_type=\"ergo:buildingInventoryVer7\")"
   ]
  },
  {
   "cell_type": "markdown",
   "id": "ca8e63a7",
   "metadata": {},
   "source": [
    "### (Optional) Create a dataset from IN-CORE Data Service\n",
    "A dataset can be also loaded from data service with an id. pyIncore has utility methods to download the files and metadata from the data service to create a dataset obejct in local.\n"
   ]
  },
  {
   "cell_type": "raw",
   "id": "c9c72971",
   "metadata": {},
   "source": [
    "# Initialize a Data Serivce\n",
    "from pyincore import DataService, Dataset\n",
    "\n",
    "data_services = DataService(client)\n",
    "\n",
    "# Loading dataset from Data Service\n",
    "# See Data browser\n",
    "building_dataset_id = \"5a284f0bc7d30d13bc081a28\"\n",
    "buildings = Dataset.from_data_service(building_dataset_id, data_services)\n",
    "buildings.metadata"
   ]
  },
  {
   "cell_type": "markdown",
   "id": "15e03978",
   "metadata": {},
   "source": [
    "### (Optional) Upload local dataset to IN-CORE Data Service and get ID\n",
    "- Write Metadata: Metadata is a string describing the dataset.\n",
    "- dataType needs to be align with the analyses in pyincore.\n",
    "- format is the file format of the dataset. Currently we support “shapefile”, “table”, “Network”, “textFiles”, “raster”, “geotiff” and etc. Please consult with development team if you intend to post a new format."
   ]
  },
  {
   "cell_type": "raw",
   "id": "5039c854",
   "metadata": {},
   "source": [
    "# Note you have to put the correct dataType as well as format\n",
    "dataset_metadata = {\n",
    "    \"title\":\"Sample building dataset created with guid\",\n",
    "    \"description\": \"Sample building dataset created with guid\",\n",
    "    \"dataType\": \"ergo:buildingInventoryVer7\",\n",
    "    \"format\": \"shapefile\"\n",
    "}\n",
    "\n",
    "# Upload metadata\n",
    "created_dataset = data_services.create_dataset(dataset_metadata)\n",
    "dataset_id = created_dataset['id']\n",
    "print('dataset is created with id ' + dataset_id)\n",
    "\n",
    "# Attach Files to metadata\n",
    "files = ['sample_bldgs_w_guid.shp',\n",
    "         'sample_bldgs_w_guid.shx',\n",
    "         'sample_bldgs_w_guid.prj',\n",
    "         'sample_bldgs_w_guid.dbf']\n",
    "full_dataset = data_services.add_files_to_dataset(dataset_id, files)\n",
    "full_dataset"
   ]
  },
  {
   "cell_type": "markdown",
   "id": "1f08bd82",
   "metadata": {},
   "source": [
    "## 3.3 Configure the Building Damage Analysis\n",
    "This analysis computes building damage based on a particular hazard. In this secion, you will perform building damage anlayis for both **scenario earthquake** and **tornado**.\n",
    "\n",
    "The process for computing the structural damage is similar to other parts of the built environment. First, a fragility\n",
    "is obtained based on the hazard type and attributes of the building. Based on the fragility, the hazard intensity at the location of the building is computed. Using this information, the probability of exceeding each limit state is computed, along with the probability of damage. For the case of an earthquake hazard, soil information can be used to\n",
    "modify the damage probabilities to include damage due to liquefaction.  \n",
    "\n",
    "The outputs of this analysis are CSV file with probabilities of damage and JSON file with information about hazard and fragilities.\n",
    "The detail information about the analysis in our manual: [Building damage analysis](https://incore.ncsa.illinois.edu/doc/incore/analyses/building_dmg.html)\n",
    "\n",
    "**Input parameters**\n",
    "\n",
    "key name | type | name | description\n",
    "--- | --- | --- | ---\n",
    "`result_name` <sup>*</sup> | `str` | Result name | Name of the result dataset.\n",
    "`hazard_type` <sup>*</sup> | `str` | Hazard type | Hazard type (earthquake, tsunami, tornado, hurricaneWindfields).\n",
    "`hazard_id` <sup>*</sup> | `str` | Hazard id | ID of the hazard from the Hazard service.\n",
    "`fragility_key` | `str` | Fragility key | Fragility key used in mapping dataset.\n",
    "`use_liquefaction` | `bool` | Liquefaction | Use liquefaction, if applicable to the hazard. <br>Default is *False*.\n",
    "`use_hazard_uncertainty` | `bool` | Uncertainty | Use hazard uncertainty. <br>Default is *False*.\n",
    "`num_cpu` | `int` | Number of CPUs | Number of CPUs used for parallel computation. <br>Default is *1*.\n",
    "\n",
    "**Input datasets**\n",
    "\n",
    "key name | type | name | description\n",
    "--- | --- | --- | ---\n",
    "`buildings` <sup>*</sup> | `ergo:buildingInventoryVer4`<br>`ergo:buildingInventoryVer5`<br>`ergo:buildingInventoryVer6`<br>`ergo:buildingInventoryVer7` | Building dataset |  A building dataset.\n",
    "`dfr3_mapping_set` <sup>*</sup> | `incore:dfr3MappingSet` | DFR3 Mapping Set | DFR3 Mapping Set.\n",
    "\n",
    "**Output datasets**\n",
    "\n",
    "key name | type | parent key | name | description\n",
    "--- | --- | --- | --- | ---\n",
    "`ds_result` <sup>*</sup> | `ergo:buildingDamageVer5` | `buildings` | Results | A dataset containing results <br>(format: CSV).\n",
    "`damage_result` <sup>*</sup> | `incore:buildingDamageSupplement` | `buildings` | Results | Information about applied hazard value and fragility<br>(format: JSON).\n",
    "\n",
    "<small>(* required)</small>"
   ]
  },
  {
   "cell_type": "code",
   "execution_count": null,
   "id": "c3a2a316",
   "metadata": {},
   "outputs": [],
   "source": [
    "from pyincore.analyses.buildingdamage import BuildingDamage"
   ]
  },
  {
   "cell_type": "markdown",
   "id": "a10ca61a",
   "metadata": {},
   "source": [
    "### Run Damage with earthquake"
   ]
  },
  {
   "cell_type": "code",
   "execution_count": null,
   "id": "fdca8eba",
   "metadata": {},
   "outputs": [],
   "source": [
    "# Define the variables to be used for input parameters\n",
    "\n",
    "hazard_type = \"earthquake\"\n",
    "hazard_id = \"5b902cb273c3371e1236b36b\"\n",
    "\n",
    "result_name = \"memphis_eq_bldg_dmg_result\"\n",
    "\n",
    "# Default Building Fragility mapping\n",
    "mapping_id = \"5b47b350337d4a3629076f2c\""
   ]
  },
  {
   "cell_type": "code",
   "execution_count": null,
   "id": "e595d43a",
   "metadata": {},
   "outputs": [],
   "source": [
    "# create fragility mapping object with id\n",
    "eq_mapping_set = MappingSet(fragility_services.get_mapping(mapping_id))"
   ]
  },
  {
   "cell_type": "code",
   "execution_count": null,
   "id": "6baf8938",
   "metadata": {},
   "outputs": [],
   "source": [
    "# Create building damage analysis object\n",
    "eq_bldg_dmg = BuildingDamage(client)\n",
    "\n",
    "# Load local dataset (building inventory)\n",
    "eq_bldg_dmg.set_input_dataset(\"buildings\", local_buildings)\n",
    "\n",
    "# Load fragility mapping\n",
    "eq_bldg_dmg.set_input_dataset(\"dfr3_mapping_set\", eq_mapping_set)\n",
    "\n",
    "eq_bldg_dmg.set_parameter(\"result_name\", result_name)\n",
    "eq_bldg_dmg.set_parameter(\"hazard_type\", hazard_type)\n",
    "eq_bldg_dmg.set_parameter(\"hazard_id\", hazard_id)\n",
    "eq_bldg_dmg.set_parameter(\"num_cpu\", 1)"
   ]
  },
  {
   "cell_type": "code",
   "execution_count": null,
   "id": "f2d96258",
   "metadata": {},
   "outputs": [],
   "source": [
    "# Run building damage analysis\n",
    "eq_bldg_dmg.run_analysis()"
   ]
  },
  {
   "cell_type": "markdown",
   "id": "3aa5cbe9",
   "metadata": {},
   "source": [
    "### Take a glance of the output"
   ]
  },
  {
   "cell_type": "code",
   "execution_count": null,
   "id": "d4018186",
   "metadata": {},
   "outputs": [],
   "source": [
    "eq_bldg_dmg_table = eq_bldg_dmg.get_output_dataset(\"ds_result\").get_dataframe_from_csv()\n",
    "eq_bldg_dmg_table.head()"
   ]
  },
  {
   "cell_type": "markdown",
   "id": "17340e16",
   "metadata": {},
   "source": [
    "## 3.4 Post-process and Vizualize the Damage Analysis Output"
   ]
  },
  {
   "cell_type": "markdown",
   "id": "c9b51731",
   "metadata": {},
   "source": [
    "### Joining dataset\n",
    "\n",
    "Data preparation and data post-processing are common procedures. Prior to using pyIncore, users often encounter situation that they need to reshape their own dataset to make it compliant with the input dataset format of pyIncore. \n",
    "\n",
    "For example, adding GUID to inventory dataset. GUID (aka UUID) is an acronym for 'Globally Unique Identifier'. It is a 128-bit integer number used to identify resources. In IN-CORE We **require** each individual row/item in an inventory to have its own GUID. If your dataset does not come with GUID, pyIncore has utility method to help you add it.\n",
    "\n",
    "After acquiring outputs from pyIncore analyses, often time user would need to perform data aggregation to gain statitical insights. The below tutorial gives a few examples on how to join datasets and generate some basic visualizations."
   ]
  },
  {
   "cell_type": "code",
   "execution_count": null,
   "id": "8dcab31c",
   "metadata": {},
   "outputs": [],
   "source": [
    "# getting dataframe of damage output\n",
    "eq_bldg_dmg_df = eq_bldg_dmg.get_output_dataset(\"ds_result\").get_dataframe_from_csv()\n",
    "\n",
    "# getting geodataframe of building dataset \n",
    "bldg_gdf = local_buildings.get_dataframe_from_shapefile()\n",
    "\n",
    "# merge/join two dataframe\n",
    "# you can choose columns to be merged\n",
    "bldg_dmg_gdf = bldg_gdf[['guid', 'struct_typ', 'geometry']].merge(eq_bldg_dmg_df, on='guid')\n",
    "bldg_dmg_gdf.head()"
   ]
  },
  {
   "cell_type": "markdown",
   "id": "a5e830c0",
   "metadata": {},
   "source": [
    "### Display tabular data\n",
    "You can use **Pandas** and **GeoPandas** to dispaly tabular data and create charts. \n",
    "This secsion shows some examples."
   ]
  },
  {
   "cell_type": "markdown",
   "id": "6a66ac1b",
   "metadata": {},
   "source": [
    "#### Describe"
   ]
  },
  {
   "cell_type": "code",
   "execution_count": null,
   "id": "cae9384f",
   "metadata": {},
   "outputs": [],
   "source": [
    "# Stat summary on a column\n",
    "bldg_dmg_gdf[\"LS_0\"].describe()"
   ]
  },
  {
   "cell_type": "markdown",
   "id": "390c45fe",
   "metadata": {},
   "source": [
    "#### Sort"
   ]
  },
  {
   "cell_type": "code",
   "execution_count": null,
   "id": "5deaeb2c",
   "metadata": {},
   "outputs": [],
   "source": [
    "# Show table sorted by DS_3 (decending) and struct_typ (ascending)\n",
    "bldg_dmg_gdf.sort_values(['DS_3', 'struct_typ'], ascending=[0,1]).head()"
   ]
  },
  {
   "cell_type": "markdown",
   "id": "99289aec",
   "metadata": {},
   "source": [
    "#### Group by"
   ]
  },
  {
   "cell_type": "code",
   "execution_count": null,
   "id": "3539fb0a",
   "metadata": {},
   "outputs": [],
   "source": [
    "# Show table group by Structure type\n",
    "grouped_bldg_dmg = bldg_dmg_gdf.groupby(by=['struct_typ'], as_index=True)\\\n",
    ".agg({'DS_0': 'mean', 'DS_1':'mean', 'DS_2': 'mean', 'DS_3': 'mean', 'guid': 'count'})\n",
    "grouped_bldg_dmg.rename(columns={'guid': 'total_count'}, inplace=True)\n",
    "grouped_bldg_dmg.head()"
   ]
  },
  {
   "cell_type": "markdown",
   "id": "c11c087a",
   "metadata": {},
   "source": [
    "#### Simple barchart using pandas"
   ]
  },
  {
   "cell_type": "code",
   "execution_count": null,
   "id": "671cb005",
   "metadata": {},
   "outputs": [],
   "source": [
    "# Plot Damage state by structure type\n",
    "ax = grouped_bldg_dmg[[\"DS_0\", \"DS_1\", \"DS_2\", \"DS_3\"]].plot.barh(stacked=True)\n",
    "ax.set_title(\"Stacked Bar Chart of Damage State Grouped by Structure Type\", fontsize=12)\n",
    "ax.set_xlabel(\"complete damage value\", fontsize=12)\n",
    "ax.legend(loc='center left', bbox_to_anchor=(1.0, 0.5)) #here is the magic"
   ]
  },
  {
   "cell_type": "code",
   "execution_count": null,
   "id": "5606d7ba",
   "metadata": {},
   "outputs": [],
   "source": [
    "# Create a histogram with DS_3\n",
    "ax = bldg_dmg_gdf['DS_3'].hist(bins=20, figsize=[10,5])\n",
    "ax.set_title(\"complete damage distribution\", fontsize=12)\n",
    "ax.set_xlabel(\"complete damage value\", fontsize=12)\n",
    "ax.set_ylabel(\"counts\", fontsize=12)"
   ]
  },
  {
   "cell_type": "markdown",
   "id": "7a8db7a7",
   "metadata": {},
   "source": [
    "### Using pyIncore-viz\n",
    "pyIncore-viz is a Python visualization package for pyIncore module. It provides users with convenient methods to create image and graphic outputs of various hazard IN-CORE analyses."
   ]
  },
  {
   "cell_type": "markdown",
   "id": "ae5715ac",
   "metadata": {},
   "source": [
    "#### Plot Geospatial Map\n",
    "Plotting a geospatial map is generating static image of a map."
   ]
  },
  {
   "cell_type": "code",
   "execution_count": null,
   "id": "177fee51",
   "metadata": {},
   "outputs": [],
   "source": [
    "from pyincore_viz.geoutil import GeoUtil as geoviz"
   ]
  },
  {
   "cell_type": "code",
   "execution_count": null,
   "id": "8565744d",
   "metadata": {},
   "outputs": [],
   "source": [
    "# Plot earthquake\n",
    "eq_id = \"5b902cb273c3371e1236b36b\"\n",
    "geoviz.plot_earthquake(eq_id, client)"
   ]
  },
  {
   "cell_type": "code",
   "execution_count": null,
   "id": "abb47e8d",
   "metadata": {},
   "outputs": [],
   "source": [
    "# Plot a map with a Dataset \n",
    "# with local dataset (local_buildings)\n",
    "geoviz.plot_map(local_buildings, column='struct_typ',category='True')"
   ]
  },
  {
   "cell_type": "code",
   "execution_count": null,
   "id": "d3ed1419",
   "metadata": {},
   "outputs": [],
   "source": [
    "# Plot a map with GeoDataframe \n",
    "\n",
    "geoviz.plot_gdf_map(bldg_dmg_gdf, 'DS_3', basemap=False)"
   ]
  },
  {
   "cell_type": "code",
   "execution_count": null,
   "id": "978c6a83",
   "metadata": {},
   "outputs": [],
   "source": [
    "# Overlay GeoDataFrame with a base map\n",
    "geoviz.plot_gdf_map(bldg_dmg_gdf, 'DS_3', basemap=True)"
   ]
  },
  {
   "cell_type": "code",
   "execution_count": null,
   "id": "61c4a3c8",
   "metadata": {},
   "outputs": [],
   "source": [
    "# Interactive map with Dataset\n",
    "# addjust additional multiplier to increase the intensity of heatmap, e.g. multipler=1000 \n",
    "map = geoviz.plot_heatmap_from_gdf(bldg_dmg_gdf, \"DS_3\", radius=7, blur=5, name=\"DS_3\", multiplier=1000) \n",
    "map"
   ]
  },
  {
   "cell_type": "code",
   "execution_count": null,
   "id": "dd92c856",
   "metadata": {},
   "outputs": [],
   "source": []
  }
 ],
 "metadata": {
  "kernelspec": {
   "display_name": "Python 3 (ipykernel)",
   "language": "python",
   "name": "python3"
  },
  "language_info": {
   "codemirror_mode": {
    "name": "ipython",
    "version": 3
   },
   "file_extension": ".py",
   "mimetype": "text/x-python",
   "name": "python",
   "nbconvert_exporter": "python",
   "pygments_lexer": "ipython3",
   "version": "3.8.12"
  }
 },
 "nbformat": 4,
 "nbformat_minor": 5
}